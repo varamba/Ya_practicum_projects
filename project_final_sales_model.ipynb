{
  "cells": [
    {
      "cell_type": "markdown",
      "metadata": {
        "id": "view-in-github",
        "colab_type": "text"
      },
      "source": [
        "<a href=\"https://colab.research.google.com/github/varamba/Ya_practicum_projects/blob/main/project_final_sales_model.ipynb\" target=\"_parent\"><img src=\"https://colab.research.google.com/assets/colab-badge.svg\" alt=\"Open In Colab\"/></a>"
      ]
    },
    {
      "cell_type": "markdown",
      "metadata": {
        "id": "KCN09tG8VUF6"
      },
      "source": [
        "Дашборд для проекта: https://public.tableau.com/views/Final_project_Cosmo-Brothers/Dashboard2?:language=en-US&:display_count=n&:origin=viz_share_link"
      ]
    },
    {
      "cell_type": "markdown",
      "metadata": {
        "id": "Q80M_s71VUF7"
      },
      "source": [
        "## Введение\n",
        "Поступила задача от отдела маркетинга игры \"Космическе братья\"\n",
        "Нужно сформировать модель монетизации игрового приложения.\n",
        "Многие игры зарабатывают с помощью рекламы. И все они сталкиваются с противоречием;\n",
        "- Пользователь разозлится и уйдёт, если начать показывать ему рекламу раньше, чем игра его затянет.\n",
        "- Но  чем позже создатели игры включат рекламу, тем меньше они заработают.\n",
        "\n",
        "Требуется помочь бизнесу выбрать оптимальное время для запуска рекламы. Зная расходы на продвижение игры, можно рассчитать её окупаемость при разных сценариях;\n",
        "Пока создатели игры планируют показывать её на экране выбором постройки. Надо помочь не уйти в минус."
      ]
    },
    {
      "cell_type": "code",
      "execution_count": 1,
      "metadata": {
        "id": "hwZlbqGHVUF8"
      },
      "outputs": [],
      "source": [
        "import pandas as pd\n",
        "import matplotlib.pyplot as plt\n",
        "import numpy as np\n",
        "import math as mth\n",
        "from scipy import stats as st\n",
        "import datetime as dt\n",
        "from pandas.plotting import register_matplotlib_converters\n",
        "from plotly import graph_objects as go\n",
        "import plotly.express as px\n",
        "import re\n",
        "import warnings \n",
        "warnings.filterwarnings(\"ignore\")"
      ]
    },
    {
      "cell_type": "code",
      "source": [
        "from google.colab import drive\n",
        "drive.mount('/content/drive')"
      ],
      "metadata": {
        "colab": {
          "base_uri": "https://localhost:8080/"
        },
        "id": "cqIn4OT5WENh",
        "outputId": "19746e0e-5827-47c5-dd2c-02d588cde7d8"
      },
      "execution_count": 2,
      "outputs": [
        {
          "output_type": "stream",
          "name": "stdout",
          "text": [
            "Drive already mounted at /content/drive; to attempt to forcibly remount, call drive.mount(\"/content/drive\", force_remount=True).\n"
          ]
        }
      ]
    },
    {
      "cell_type": "code",
      "execution_count": 3,
      "metadata": {
        "id": "dxFc83dVVUF9"
      },
      "outputs": [],
      "source": [
        "costs, sources, actions = (\n",
        "    pd.read_csv('/dfs/ad_costs.csv', sep=',', engine = 'python'),\n",
        "    pd.read_csv('/dfs/user_source.csv', sep=',', engine = 'python'),\n",
        "    pd.read_csv('/dfs/game_actions.csv', sep=',', engine = 'python'))"
      ]
    },
    {
      "cell_type": "markdown",
      "metadata": {
        "id": "KRRpJJy6VUF-"
      },
      "source": [
        "## Предобработка\n",
        "- Найти пропуски и дупликаты, изменить типы данных, если нужно.\n",
        "- Добавить столбец по типу уровень завершен - да/нет."
      ]
    },
    {
      "cell_type": "code",
      "execution_count": 4,
      "metadata": {
        "scrolled": false,
        "colab": {
          "base_uri": "https://localhost:8080/",
          "height": 1000
        },
        "id": "cONkp1saVUF-",
        "outputId": "7db736d4-c0b7-422a-e796-0c2c9a639893"
      },
      "outputs": [
        {
          "output_type": "display_data",
          "data": {
            "text/plain": [
              "         source         day        cost\n",
              "0  facebook_ads  2020-05-03  935.882786\n",
              "1  facebook_ads  2020-05-04  548.354480\n",
              "2  facebook_ads  2020-05-05  260.185754\n",
              "3  facebook_ads  2020-05-06  177.982200\n",
              "4  facebook_ads  2020-05-07  111.766796"
            ],
            "text/html": [
              "\n",
              "  <div id=\"df-831867f6-875b-4d27-903b-db8653b88cec\">\n",
              "    <div class=\"colab-df-container\">\n",
              "      <div>\n",
              "<style scoped>\n",
              "    .dataframe tbody tr th:only-of-type {\n",
              "        vertical-align: middle;\n",
              "    }\n",
              "\n",
              "    .dataframe tbody tr th {\n",
              "        vertical-align: top;\n",
              "    }\n",
              "\n",
              "    .dataframe thead th {\n",
              "        text-align: right;\n",
              "    }\n",
              "</style>\n",
              "<table border=\"1\" class=\"dataframe\">\n",
              "  <thead>\n",
              "    <tr style=\"text-align: right;\">\n",
              "      <th></th>\n",
              "      <th>source</th>\n",
              "      <th>day</th>\n",
              "      <th>cost</th>\n",
              "    </tr>\n",
              "  </thead>\n",
              "  <tbody>\n",
              "    <tr>\n",
              "      <th>0</th>\n",
              "      <td>facebook_ads</td>\n",
              "      <td>2020-05-03</td>\n",
              "      <td>935.882786</td>\n",
              "    </tr>\n",
              "    <tr>\n",
              "      <th>1</th>\n",
              "      <td>facebook_ads</td>\n",
              "      <td>2020-05-04</td>\n",
              "      <td>548.354480</td>\n",
              "    </tr>\n",
              "    <tr>\n",
              "      <th>2</th>\n",
              "      <td>facebook_ads</td>\n",
              "      <td>2020-05-05</td>\n",
              "      <td>260.185754</td>\n",
              "    </tr>\n",
              "    <tr>\n",
              "      <th>3</th>\n",
              "      <td>facebook_ads</td>\n",
              "      <td>2020-05-06</td>\n",
              "      <td>177.982200</td>\n",
              "    </tr>\n",
              "    <tr>\n",
              "      <th>4</th>\n",
              "      <td>facebook_ads</td>\n",
              "      <td>2020-05-07</td>\n",
              "      <td>111.766796</td>\n",
              "    </tr>\n",
              "  </tbody>\n",
              "</table>\n",
              "</div>\n",
              "      <button class=\"colab-df-convert\" onclick=\"convertToInteractive('df-831867f6-875b-4d27-903b-db8653b88cec')\"\n",
              "              title=\"Convert this dataframe to an interactive table.\"\n",
              "              style=\"display:none;\">\n",
              "        \n",
              "  <svg xmlns=\"http://www.w3.org/2000/svg\" height=\"24px\"viewBox=\"0 0 24 24\"\n",
              "       width=\"24px\">\n",
              "    <path d=\"M0 0h24v24H0V0z\" fill=\"none\"/>\n",
              "    <path d=\"M18.56 5.44l.94 2.06.94-2.06 2.06-.94-2.06-.94-.94-2.06-.94 2.06-2.06.94zm-11 1L8.5 8.5l.94-2.06 2.06-.94-2.06-.94L8.5 2.5l-.94 2.06-2.06.94zm10 10l.94 2.06.94-2.06 2.06-.94-2.06-.94-.94-2.06-.94 2.06-2.06.94z\"/><path d=\"M17.41 7.96l-1.37-1.37c-.4-.4-.92-.59-1.43-.59-.52 0-1.04.2-1.43.59L10.3 9.45l-7.72 7.72c-.78.78-.78 2.05 0 2.83L4 21.41c.39.39.9.59 1.41.59.51 0 1.02-.2 1.41-.59l7.78-7.78 2.81-2.81c.8-.78.8-2.07 0-2.86zM5.41 20L4 18.59l7.72-7.72 1.47 1.35L5.41 20z\"/>\n",
              "  </svg>\n",
              "      </button>\n",
              "      \n",
              "  <style>\n",
              "    .colab-df-container {\n",
              "      display:flex;\n",
              "      flex-wrap:wrap;\n",
              "      gap: 12px;\n",
              "    }\n",
              "\n",
              "    .colab-df-convert {\n",
              "      background-color: #E8F0FE;\n",
              "      border: none;\n",
              "      border-radius: 50%;\n",
              "      cursor: pointer;\n",
              "      display: none;\n",
              "      fill: #1967D2;\n",
              "      height: 32px;\n",
              "      padding: 0 0 0 0;\n",
              "      width: 32px;\n",
              "    }\n",
              "\n",
              "    .colab-df-convert:hover {\n",
              "      background-color: #E2EBFA;\n",
              "      box-shadow: 0px 1px 2px rgba(60, 64, 67, 0.3), 0px 1px 3px 1px rgba(60, 64, 67, 0.15);\n",
              "      fill: #174EA6;\n",
              "    }\n",
              "\n",
              "    [theme=dark] .colab-df-convert {\n",
              "      background-color: #3B4455;\n",
              "      fill: #D2E3FC;\n",
              "    }\n",
              "\n",
              "    [theme=dark] .colab-df-convert:hover {\n",
              "      background-color: #434B5C;\n",
              "      box-shadow: 0px 1px 3px 1px rgba(0, 0, 0, 0.15);\n",
              "      filter: drop-shadow(0px 1px 2px rgba(0, 0, 0, 0.3));\n",
              "      fill: #FFFFFF;\n",
              "    }\n",
              "  </style>\n",
              "\n",
              "      <script>\n",
              "        const buttonEl =\n",
              "          document.querySelector('#df-831867f6-875b-4d27-903b-db8653b88cec button.colab-df-convert');\n",
              "        buttonEl.style.display =\n",
              "          google.colab.kernel.accessAllowed ? 'block' : 'none';\n",
              "\n",
              "        async function convertToInteractive(key) {\n",
              "          const element = document.querySelector('#df-831867f6-875b-4d27-903b-db8653b88cec');\n",
              "          const dataTable =\n",
              "            await google.colab.kernel.invokeFunction('convertToInteractive',\n",
              "                                                     [key], {});\n",
              "          if (!dataTable) return;\n",
              "\n",
              "          const docLinkHtml = 'Like what you see? Visit the ' +\n",
              "            '<a target=\"_blank\" href=https://colab.research.google.com/notebooks/data_table.ipynb>data table notebook</a>'\n",
              "            + ' to learn more about interactive tables.';\n",
              "          element.innerHTML = '';\n",
              "          dataTable['output_type'] = 'display_data';\n",
              "          await google.colab.output.renderOutput(dataTable, element);\n",
              "          const docLink = document.createElement('div');\n",
              "          docLink.innerHTML = docLinkHtml;\n",
              "          element.appendChild(docLink);\n",
              "        }\n",
              "      </script>\n",
              "    </div>\n",
              "  </div>\n",
              "  "
            ]
          },
          "metadata": {}
        },
        {
          "output_type": "stream",
          "name": "stdout",
          "text": [
            "<class 'pandas.core.frame.DataFrame'>\n",
            "RangeIndex: 28 entries, 0 to 27\n",
            "Data columns (total 3 columns):\n",
            " #   Column  Non-Null Count  Dtype  \n",
            "---  ------  --------------  -----  \n",
            " 0   source  28 non-null     object \n",
            " 1   day     28 non-null     object \n",
            " 2   cost    28 non-null     float64\n",
            "dtypes: float64(1), object(2)\n",
            "memory usage: 800.0+ bytes\n"
          ]
        },
        {
          "output_type": "display_data",
          "data": {
            "text/plain": [
              "None"
            ]
          },
          "metadata": {}
        },
        {
          "output_type": "display_data",
          "data": {
            "text/plain": [
              "source    0.0\n",
              "day       0.0\n",
              "cost      0.0\n",
              "dtype: float64"
            ]
          },
          "metadata": {}
        },
        {
          "output_type": "display_data",
          "data": {
            "text/plain": [
              "0"
            ]
          },
          "metadata": {}
        },
        {
          "output_type": "display_data",
          "data": {
            "text/plain": [
              "        event_datetime     event  building_type  \\\n",
              "0  2020-05-04 00:00:01  building  assembly_shop   \n",
              "1  2020-05-04 00:00:03  building  assembly_shop   \n",
              "2  2020-05-04 00:00:16  building  assembly_shop   \n",
              "3  2020-05-04 00:00:16  building  assembly_shop   \n",
              "4  2020-05-04 00:00:35  building  assembly_shop   \n",
              "\n",
              "                                user_id project_type  \n",
              "0  55e92310-cb8e-4754-b622-597e124b03de          NaN  \n",
              "1  c07b1c10-f477-44dc-81dc-ec82254b1347          NaN  \n",
              "2  6edd42cc-e753-4ff6-a947-2107cd560710          NaN  \n",
              "3  92c69003-d60a-444a-827f-8cc51bf6bf4c          NaN  \n",
              "4  cdc6bb92-0ccb-4490-9866-ef142f09139d          NaN  "
            ],
            "text/html": [
              "\n",
              "  <div id=\"df-92acb766-bbf0-4015-bca5-a832c667f695\">\n",
              "    <div class=\"colab-df-container\">\n",
              "      <div>\n",
              "<style scoped>\n",
              "    .dataframe tbody tr th:only-of-type {\n",
              "        vertical-align: middle;\n",
              "    }\n",
              "\n",
              "    .dataframe tbody tr th {\n",
              "        vertical-align: top;\n",
              "    }\n",
              "\n",
              "    .dataframe thead th {\n",
              "        text-align: right;\n",
              "    }\n",
              "</style>\n",
              "<table border=\"1\" class=\"dataframe\">\n",
              "  <thead>\n",
              "    <tr style=\"text-align: right;\">\n",
              "      <th></th>\n",
              "      <th>event_datetime</th>\n",
              "      <th>event</th>\n",
              "      <th>building_type</th>\n",
              "      <th>user_id</th>\n",
              "      <th>project_type</th>\n",
              "    </tr>\n",
              "  </thead>\n",
              "  <tbody>\n",
              "    <tr>\n",
              "      <th>0</th>\n",
              "      <td>2020-05-04 00:00:01</td>\n",
              "      <td>building</td>\n",
              "      <td>assembly_shop</td>\n",
              "      <td>55e92310-cb8e-4754-b622-597e124b03de</td>\n",
              "      <td>NaN</td>\n",
              "    </tr>\n",
              "    <tr>\n",
              "      <th>1</th>\n",
              "      <td>2020-05-04 00:00:03</td>\n",
              "      <td>building</td>\n",
              "      <td>assembly_shop</td>\n",
              "      <td>c07b1c10-f477-44dc-81dc-ec82254b1347</td>\n",
              "      <td>NaN</td>\n",
              "    </tr>\n",
              "    <tr>\n",
              "      <th>2</th>\n",
              "      <td>2020-05-04 00:00:16</td>\n",
              "      <td>building</td>\n",
              "      <td>assembly_shop</td>\n",
              "      <td>6edd42cc-e753-4ff6-a947-2107cd560710</td>\n",
              "      <td>NaN</td>\n",
              "    </tr>\n",
              "    <tr>\n",
              "      <th>3</th>\n",
              "      <td>2020-05-04 00:00:16</td>\n",
              "      <td>building</td>\n",
              "      <td>assembly_shop</td>\n",
              "      <td>92c69003-d60a-444a-827f-8cc51bf6bf4c</td>\n",
              "      <td>NaN</td>\n",
              "    </tr>\n",
              "    <tr>\n",
              "      <th>4</th>\n",
              "      <td>2020-05-04 00:00:35</td>\n",
              "      <td>building</td>\n",
              "      <td>assembly_shop</td>\n",
              "      <td>cdc6bb92-0ccb-4490-9866-ef142f09139d</td>\n",
              "      <td>NaN</td>\n",
              "    </tr>\n",
              "  </tbody>\n",
              "</table>\n",
              "</div>\n",
              "      <button class=\"colab-df-convert\" onclick=\"convertToInteractive('df-92acb766-bbf0-4015-bca5-a832c667f695')\"\n",
              "              title=\"Convert this dataframe to an interactive table.\"\n",
              "              style=\"display:none;\">\n",
              "        \n",
              "  <svg xmlns=\"http://www.w3.org/2000/svg\" height=\"24px\"viewBox=\"0 0 24 24\"\n",
              "       width=\"24px\">\n",
              "    <path d=\"M0 0h24v24H0V0z\" fill=\"none\"/>\n",
              "    <path d=\"M18.56 5.44l.94 2.06.94-2.06 2.06-.94-2.06-.94-.94-2.06-.94 2.06-2.06.94zm-11 1L8.5 8.5l.94-2.06 2.06-.94-2.06-.94L8.5 2.5l-.94 2.06-2.06.94zm10 10l.94 2.06.94-2.06 2.06-.94-2.06-.94-.94-2.06-.94 2.06-2.06.94z\"/><path d=\"M17.41 7.96l-1.37-1.37c-.4-.4-.92-.59-1.43-.59-.52 0-1.04.2-1.43.59L10.3 9.45l-7.72 7.72c-.78.78-.78 2.05 0 2.83L4 21.41c.39.39.9.59 1.41.59.51 0 1.02-.2 1.41-.59l7.78-7.78 2.81-2.81c.8-.78.8-2.07 0-2.86zM5.41 20L4 18.59l7.72-7.72 1.47 1.35L5.41 20z\"/>\n",
              "  </svg>\n",
              "      </button>\n",
              "      \n",
              "  <style>\n",
              "    .colab-df-container {\n",
              "      display:flex;\n",
              "      flex-wrap:wrap;\n",
              "      gap: 12px;\n",
              "    }\n",
              "\n",
              "    .colab-df-convert {\n",
              "      background-color: #E8F0FE;\n",
              "      border: none;\n",
              "      border-radius: 50%;\n",
              "      cursor: pointer;\n",
              "      display: none;\n",
              "      fill: #1967D2;\n",
              "      height: 32px;\n",
              "      padding: 0 0 0 0;\n",
              "      width: 32px;\n",
              "    }\n",
              "\n",
              "    .colab-df-convert:hover {\n",
              "      background-color: #E2EBFA;\n",
              "      box-shadow: 0px 1px 2px rgba(60, 64, 67, 0.3), 0px 1px 3px 1px rgba(60, 64, 67, 0.15);\n",
              "      fill: #174EA6;\n",
              "    }\n",
              "\n",
              "    [theme=dark] .colab-df-convert {\n",
              "      background-color: #3B4455;\n",
              "      fill: #D2E3FC;\n",
              "    }\n",
              "\n",
              "    [theme=dark] .colab-df-convert:hover {\n",
              "      background-color: #434B5C;\n",
              "      box-shadow: 0px 1px 3px 1px rgba(0, 0, 0, 0.15);\n",
              "      filter: drop-shadow(0px 1px 2px rgba(0, 0, 0, 0.3));\n",
              "      fill: #FFFFFF;\n",
              "    }\n",
              "  </style>\n",
              "\n",
              "      <script>\n",
              "        const buttonEl =\n",
              "          document.querySelector('#df-92acb766-bbf0-4015-bca5-a832c667f695 button.colab-df-convert');\n",
              "        buttonEl.style.display =\n",
              "          google.colab.kernel.accessAllowed ? 'block' : 'none';\n",
              "\n",
              "        async function convertToInteractive(key) {\n",
              "          const element = document.querySelector('#df-92acb766-bbf0-4015-bca5-a832c667f695');\n",
              "          const dataTable =\n",
              "            await google.colab.kernel.invokeFunction('convertToInteractive',\n",
              "                                                     [key], {});\n",
              "          if (!dataTable) return;\n",
              "\n",
              "          const docLinkHtml = 'Like what you see? Visit the ' +\n",
              "            '<a target=\"_blank\" href=https://colab.research.google.com/notebooks/data_table.ipynb>data table notebook</a>'\n",
              "            + ' to learn more about interactive tables.';\n",
              "          element.innerHTML = '';\n",
              "          dataTable['output_type'] = 'display_data';\n",
              "          await google.colab.output.renderOutput(dataTable, element);\n",
              "          const docLink = document.createElement('div');\n",
              "          docLink.innerHTML = docLinkHtml;\n",
              "          element.appendChild(docLink);\n",
              "        }\n",
              "      </script>\n",
              "    </div>\n",
              "  </div>\n",
              "  "
            ]
          },
          "metadata": {}
        },
        {
          "output_type": "stream",
          "name": "stdout",
          "text": [
            "<class 'pandas.core.frame.DataFrame'>\n",
            "RangeIndex: 135640 entries, 0 to 135639\n",
            "Data columns (total 5 columns):\n",
            " #   Column          Non-Null Count   Dtype \n",
            "---  ------          --------------   ----- \n",
            " 0   event_datetime  135640 non-null  object\n",
            " 1   event           135640 non-null  object\n",
            " 2   building_type   127957 non-null  object\n",
            " 3   user_id         135640 non-null  object\n",
            " 4   project_type    1866 non-null    object\n",
            "dtypes: object(5)\n",
            "memory usage: 5.2+ MB\n"
          ]
        },
        {
          "output_type": "display_data",
          "data": {
            "text/plain": [
              "None"
            ]
          },
          "metadata": {}
        },
        {
          "output_type": "display_data",
          "data": {
            "text/plain": [
              "event_datetime    0.000000\n",
              "event             0.000000\n",
              "building_type     0.056643\n",
              "user_id           0.000000\n",
              "project_type      0.986243\n",
              "dtype: float64"
            ]
          },
          "metadata": {}
        },
        {
          "output_type": "display_data",
          "data": {
            "text/plain": [
              "1"
            ]
          },
          "metadata": {}
        },
        {
          "output_type": "display_data",
          "data": {
            "text/plain": [
              "                                user_id                   source\n",
              "0  0001f83c-c6ac-4621-b7f0-8a28b283ac30             facebook_ads\n",
              "1  00151b4f-ba38-44a8-a650-d7cf130a0105            yandex_direct\n",
              "2  001aaea6-3d14-43f1-8ca8-7f48820f17aa  youtube_channel_reklama\n",
              "3  001d39dc-366c-4021-9604-6a3b9ff01e25    instagram_new_adverts\n",
              "4  002f508f-67b6-479f-814b-b05f00d4e995             facebook_ads"
            ],
            "text/html": [
              "\n",
              "  <div id=\"df-fd112a34-a968-4a3c-b2e0-b6ef1598badc\">\n",
              "    <div class=\"colab-df-container\">\n",
              "      <div>\n",
              "<style scoped>\n",
              "    .dataframe tbody tr th:only-of-type {\n",
              "        vertical-align: middle;\n",
              "    }\n",
              "\n",
              "    .dataframe tbody tr th {\n",
              "        vertical-align: top;\n",
              "    }\n",
              "\n",
              "    .dataframe thead th {\n",
              "        text-align: right;\n",
              "    }\n",
              "</style>\n",
              "<table border=\"1\" class=\"dataframe\">\n",
              "  <thead>\n",
              "    <tr style=\"text-align: right;\">\n",
              "      <th></th>\n",
              "      <th>user_id</th>\n",
              "      <th>source</th>\n",
              "    </tr>\n",
              "  </thead>\n",
              "  <tbody>\n",
              "    <tr>\n",
              "      <th>0</th>\n",
              "      <td>0001f83c-c6ac-4621-b7f0-8a28b283ac30</td>\n",
              "      <td>facebook_ads</td>\n",
              "    </tr>\n",
              "    <tr>\n",
              "      <th>1</th>\n",
              "      <td>00151b4f-ba38-44a8-a650-d7cf130a0105</td>\n",
              "      <td>yandex_direct</td>\n",
              "    </tr>\n",
              "    <tr>\n",
              "      <th>2</th>\n",
              "      <td>001aaea6-3d14-43f1-8ca8-7f48820f17aa</td>\n",
              "      <td>youtube_channel_reklama</td>\n",
              "    </tr>\n",
              "    <tr>\n",
              "      <th>3</th>\n",
              "      <td>001d39dc-366c-4021-9604-6a3b9ff01e25</td>\n",
              "      <td>instagram_new_adverts</td>\n",
              "    </tr>\n",
              "    <tr>\n",
              "      <th>4</th>\n",
              "      <td>002f508f-67b6-479f-814b-b05f00d4e995</td>\n",
              "      <td>facebook_ads</td>\n",
              "    </tr>\n",
              "  </tbody>\n",
              "</table>\n",
              "</div>\n",
              "      <button class=\"colab-df-convert\" onclick=\"convertToInteractive('df-fd112a34-a968-4a3c-b2e0-b6ef1598badc')\"\n",
              "              title=\"Convert this dataframe to an interactive table.\"\n",
              "              style=\"display:none;\">\n",
              "        \n",
              "  <svg xmlns=\"http://www.w3.org/2000/svg\" height=\"24px\"viewBox=\"0 0 24 24\"\n",
              "       width=\"24px\">\n",
              "    <path d=\"M0 0h24v24H0V0z\" fill=\"none\"/>\n",
              "    <path d=\"M18.56 5.44l.94 2.06.94-2.06 2.06-.94-2.06-.94-.94-2.06-.94 2.06-2.06.94zm-11 1L8.5 8.5l.94-2.06 2.06-.94-2.06-.94L8.5 2.5l-.94 2.06-2.06.94zm10 10l.94 2.06.94-2.06 2.06-.94-2.06-.94-.94-2.06-.94 2.06-2.06.94z\"/><path d=\"M17.41 7.96l-1.37-1.37c-.4-.4-.92-.59-1.43-.59-.52 0-1.04.2-1.43.59L10.3 9.45l-7.72 7.72c-.78.78-.78 2.05 0 2.83L4 21.41c.39.39.9.59 1.41.59.51 0 1.02-.2 1.41-.59l7.78-7.78 2.81-2.81c.8-.78.8-2.07 0-2.86zM5.41 20L4 18.59l7.72-7.72 1.47 1.35L5.41 20z\"/>\n",
              "  </svg>\n",
              "      </button>\n",
              "      \n",
              "  <style>\n",
              "    .colab-df-container {\n",
              "      display:flex;\n",
              "      flex-wrap:wrap;\n",
              "      gap: 12px;\n",
              "    }\n",
              "\n",
              "    .colab-df-convert {\n",
              "      background-color: #E8F0FE;\n",
              "      border: none;\n",
              "      border-radius: 50%;\n",
              "      cursor: pointer;\n",
              "      display: none;\n",
              "      fill: #1967D2;\n",
              "      height: 32px;\n",
              "      padding: 0 0 0 0;\n",
              "      width: 32px;\n",
              "    }\n",
              "\n",
              "    .colab-df-convert:hover {\n",
              "      background-color: #E2EBFA;\n",
              "      box-shadow: 0px 1px 2px rgba(60, 64, 67, 0.3), 0px 1px 3px 1px rgba(60, 64, 67, 0.15);\n",
              "      fill: #174EA6;\n",
              "    }\n",
              "\n",
              "    [theme=dark] .colab-df-convert {\n",
              "      background-color: #3B4455;\n",
              "      fill: #D2E3FC;\n",
              "    }\n",
              "\n",
              "    [theme=dark] .colab-df-convert:hover {\n",
              "      background-color: #434B5C;\n",
              "      box-shadow: 0px 1px 3px 1px rgba(0, 0, 0, 0.15);\n",
              "      filter: drop-shadow(0px 1px 2px rgba(0, 0, 0, 0.3));\n",
              "      fill: #FFFFFF;\n",
              "    }\n",
              "  </style>\n",
              "\n",
              "      <script>\n",
              "        const buttonEl =\n",
              "          document.querySelector('#df-fd112a34-a968-4a3c-b2e0-b6ef1598badc button.colab-df-convert');\n",
              "        buttonEl.style.display =\n",
              "          google.colab.kernel.accessAllowed ? 'block' : 'none';\n",
              "\n",
              "        async function convertToInteractive(key) {\n",
              "          const element = document.querySelector('#df-fd112a34-a968-4a3c-b2e0-b6ef1598badc');\n",
              "          const dataTable =\n",
              "            await google.colab.kernel.invokeFunction('convertToInteractive',\n",
              "                                                     [key], {});\n",
              "          if (!dataTable) return;\n",
              "\n",
              "          const docLinkHtml = 'Like what you see? Visit the ' +\n",
              "            '<a target=\"_blank\" href=https://colab.research.google.com/notebooks/data_table.ipynb>data table notebook</a>'\n",
              "            + ' to learn more about interactive tables.';\n",
              "          element.innerHTML = '';\n",
              "          dataTable['output_type'] = 'display_data';\n",
              "          await google.colab.output.renderOutput(dataTable, element);\n",
              "          const docLink = document.createElement('div');\n",
              "          docLink.innerHTML = docLinkHtml;\n",
              "          element.appendChild(docLink);\n",
              "        }\n",
              "      </script>\n",
              "    </div>\n",
              "  </div>\n",
              "  "
            ]
          },
          "metadata": {}
        },
        {
          "output_type": "stream",
          "name": "stdout",
          "text": [
            "<class 'pandas.core.frame.DataFrame'>\n",
            "RangeIndex: 13576 entries, 0 to 13575\n",
            "Data columns (total 2 columns):\n",
            " #   Column   Non-Null Count  Dtype \n",
            "---  ------   --------------  ----- \n",
            " 0   user_id  13576 non-null  object\n",
            " 1   source   13576 non-null  object\n",
            "dtypes: object(2)\n",
            "memory usage: 212.2+ KB\n"
          ]
        },
        {
          "output_type": "display_data",
          "data": {
            "text/plain": [
              "None"
            ]
          },
          "metadata": {}
        },
        {
          "output_type": "display_data",
          "data": {
            "text/plain": [
              "user_id    0.0\n",
              "source     0.0\n",
              "dtype: float64"
            ]
          },
          "metadata": {}
        },
        {
          "output_type": "display_data",
          "data": {
            "text/plain": [
              "0"
            ]
          },
          "metadata": {}
        }
      ],
      "source": [
        "tabs = [costs, actions, sources]\n",
        "for t in tabs:\n",
        "    display(t.head())\n",
        "    display(t.info())\n",
        "    display(t.isna().mean())\n",
        "    display(t.duplicated().sum())"
      ]
    },
    {
      "cell_type": "markdown",
      "metadata": {
        "id": "KatE3I11VUF_"
      },
      "source": [
        "Изменяю тип дат."
      ]
    },
    {
      "cell_type": "code",
      "execution_count": 5,
      "metadata": {
        "id": "Y9btp3_EVUF_"
      },
      "outputs": [],
      "source": [
        "actions.rename(columns={'event_datetime' : 'dt'}, inplace=True)\n",
        "actions['dt'] = pd.to_datetime(actions['dt'])\n",
        "costs['day'] = pd.to_datetime(costs['day']).dt.date"
      ]
    },
    {
      "cell_type": "markdown",
      "metadata": {
        "id": "IFytU73cVUF_"
      },
      "source": [
        "Показываю дупликат"
      ]
    },
    {
      "cell_type": "code",
      "execution_count": 6,
      "metadata": {
        "colab": {
          "base_uri": "https://localhost:8080/",
          "height": 80
        },
        "id": "OnzfZOGoVUGA",
        "outputId": "5d80a88c-0e16-4bff-e70c-cfcf16a18098"
      },
      "outputs": [
        {
          "output_type": "execute_result",
          "data": {
            "text/plain": [
              "                       dt     event    building_type  \\\n",
              "74891 2020-05-10 18:41:56  building  research_center   \n",
              "\n",
              "                                    user_id project_type  \n",
              "74891  c9af55d2-b0ae-4bb4-b3d5-f32aa9ac03af          NaN  "
            ],
            "text/html": [
              "\n",
              "  <div id=\"df-cfb88be6-d4f9-4317-83f6-4da02dcff9ea\">\n",
              "    <div class=\"colab-df-container\">\n",
              "      <div>\n",
              "<style scoped>\n",
              "    .dataframe tbody tr th:only-of-type {\n",
              "        vertical-align: middle;\n",
              "    }\n",
              "\n",
              "    .dataframe tbody tr th {\n",
              "        vertical-align: top;\n",
              "    }\n",
              "\n",
              "    .dataframe thead th {\n",
              "        text-align: right;\n",
              "    }\n",
              "</style>\n",
              "<table border=\"1\" class=\"dataframe\">\n",
              "  <thead>\n",
              "    <tr style=\"text-align: right;\">\n",
              "      <th></th>\n",
              "      <th>dt</th>\n",
              "      <th>event</th>\n",
              "      <th>building_type</th>\n",
              "      <th>user_id</th>\n",
              "      <th>project_type</th>\n",
              "    </tr>\n",
              "  </thead>\n",
              "  <tbody>\n",
              "    <tr>\n",
              "      <th>74891</th>\n",
              "      <td>2020-05-10 18:41:56</td>\n",
              "      <td>building</td>\n",
              "      <td>research_center</td>\n",
              "      <td>c9af55d2-b0ae-4bb4-b3d5-f32aa9ac03af</td>\n",
              "      <td>NaN</td>\n",
              "    </tr>\n",
              "  </tbody>\n",
              "</table>\n",
              "</div>\n",
              "      <button class=\"colab-df-convert\" onclick=\"convertToInteractive('df-cfb88be6-d4f9-4317-83f6-4da02dcff9ea')\"\n",
              "              title=\"Convert this dataframe to an interactive table.\"\n",
              "              style=\"display:none;\">\n",
              "        \n",
              "  <svg xmlns=\"http://www.w3.org/2000/svg\" height=\"24px\"viewBox=\"0 0 24 24\"\n",
              "       width=\"24px\">\n",
              "    <path d=\"M0 0h24v24H0V0z\" fill=\"none\"/>\n",
              "    <path d=\"M18.56 5.44l.94 2.06.94-2.06 2.06-.94-2.06-.94-.94-2.06-.94 2.06-2.06.94zm-11 1L8.5 8.5l.94-2.06 2.06-.94-2.06-.94L8.5 2.5l-.94 2.06-2.06.94zm10 10l.94 2.06.94-2.06 2.06-.94-2.06-.94-.94-2.06-.94 2.06-2.06.94z\"/><path d=\"M17.41 7.96l-1.37-1.37c-.4-.4-.92-.59-1.43-.59-.52 0-1.04.2-1.43.59L10.3 9.45l-7.72 7.72c-.78.78-.78 2.05 0 2.83L4 21.41c.39.39.9.59 1.41.59.51 0 1.02-.2 1.41-.59l7.78-7.78 2.81-2.81c.8-.78.8-2.07 0-2.86zM5.41 20L4 18.59l7.72-7.72 1.47 1.35L5.41 20z\"/>\n",
              "  </svg>\n",
              "      </button>\n",
              "      \n",
              "  <style>\n",
              "    .colab-df-container {\n",
              "      display:flex;\n",
              "      flex-wrap:wrap;\n",
              "      gap: 12px;\n",
              "    }\n",
              "\n",
              "    .colab-df-convert {\n",
              "      background-color: #E8F0FE;\n",
              "      border: none;\n",
              "      border-radius: 50%;\n",
              "      cursor: pointer;\n",
              "      display: none;\n",
              "      fill: #1967D2;\n",
              "      height: 32px;\n",
              "      padding: 0 0 0 0;\n",
              "      width: 32px;\n",
              "    }\n",
              "\n",
              "    .colab-df-convert:hover {\n",
              "      background-color: #E2EBFA;\n",
              "      box-shadow: 0px 1px 2px rgba(60, 64, 67, 0.3), 0px 1px 3px 1px rgba(60, 64, 67, 0.15);\n",
              "      fill: #174EA6;\n",
              "    }\n",
              "\n",
              "    [theme=dark] .colab-df-convert {\n",
              "      background-color: #3B4455;\n",
              "      fill: #D2E3FC;\n",
              "    }\n",
              "\n",
              "    [theme=dark] .colab-df-convert:hover {\n",
              "      background-color: #434B5C;\n",
              "      box-shadow: 0px 1px 3px 1px rgba(0, 0, 0, 0.15);\n",
              "      filter: drop-shadow(0px 1px 2px rgba(0, 0, 0, 0.3));\n",
              "      fill: #FFFFFF;\n",
              "    }\n",
              "  </style>\n",
              "\n",
              "      <script>\n",
              "        const buttonEl =\n",
              "          document.querySelector('#df-cfb88be6-d4f9-4317-83f6-4da02dcff9ea button.colab-df-convert');\n",
              "        buttonEl.style.display =\n",
              "          google.colab.kernel.accessAllowed ? 'block' : 'none';\n",
              "\n",
              "        async function convertToInteractive(key) {\n",
              "          const element = document.querySelector('#df-cfb88be6-d4f9-4317-83f6-4da02dcff9ea');\n",
              "          const dataTable =\n",
              "            await google.colab.kernel.invokeFunction('convertToInteractive',\n",
              "                                                     [key], {});\n",
              "          if (!dataTable) return;\n",
              "\n",
              "          const docLinkHtml = 'Like what you see? Visit the ' +\n",
              "            '<a target=\"_blank\" href=https://colab.research.google.com/notebooks/data_table.ipynb>data table notebook</a>'\n",
              "            + ' to learn more about interactive tables.';\n",
              "          element.innerHTML = '';\n",
              "          dataTable['output_type'] = 'display_data';\n",
              "          await google.colab.output.renderOutput(dataTable, element);\n",
              "          const docLink = document.createElement('div');\n",
              "          docLink.innerHTML = docLinkHtml;\n",
              "          element.appendChild(docLink);\n",
              "        }\n",
              "      </script>\n",
              "    </div>\n",
              "  </div>\n",
              "  "
            ]
          },
          "metadata": {},
          "execution_count": 6
        }
      ],
      "source": [
        "dups = actions[actions.duplicated(['user_id', 'dt'])]\n",
        "dups"
      ]
    },
    {
      "cell_type": "code",
      "execution_count": 7,
      "metadata": {
        "id": "RwXAlsEDVUGA"
      },
      "outputs": [],
      "source": [
        "actions = actions.drop_duplicates().reset_index(drop=True)"
      ]
    },
    {
      "cell_type": "markdown",
      "metadata": {
        "id": "oNLU_Zb4VUGA"
      },
      "source": [
        "Проверяю значения в столбцах, чтобы сравнить с ТЗ."
      ]
    },
    {
      "cell_type": "code",
      "execution_count": 8,
      "metadata": {
        "scrolled": false,
        "colab": {
          "base_uri": "https://localhost:8080/",
          "height": 69
        },
        "id": "PZV6NLaGVUGB",
        "outputId": "3a7dd554-d693-4c1d-8886-b48448c3489b"
      },
      "outputs": [
        {
          "output_type": "display_data",
          "data": {
            "text/plain": [
              "['building', 'finished_stage_1', 'project']"
            ]
          },
          "metadata": {}
        },
        {
          "output_type": "display_data",
          "data": {
            "text/plain": [
              "['assembly_shop', 'spaceport', nan, 'research_center']"
            ]
          },
          "metadata": {}
        },
        {
          "output_type": "display_data",
          "data": {
            "text/plain": [
              "[nan, 'satellite_orbital_assembly']"
            ]
          },
          "metadata": {}
        }
      ],
      "source": [
        "display(actions['event'].unique().tolist())\n",
        "display(actions['building_type'].unique().tolist())\n",
        "display(actions['project_type'].unique().tolist())"
      ]
    },
    {
      "cell_type": "markdown",
      "metadata": {
        "id": "sPmYUXApVUGB"
      },
      "source": [
        "Добавляю столбец с завершением уровня."
      ]
    },
    {
      "cell_type": "code",
      "execution_count": 9,
      "metadata": {
        "scrolled": true,
        "colab": {
          "base_uri": "https://localhost:8080/",
          "height": 206
        },
        "id": "xQU2aq9NVUGB",
        "outputId": "352b2253-1d0d-49ff-d79c-c32ad498779d"
      },
      "outputs": [
        {
          "output_type": "execute_result",
          "data": {
            "text/plain": [
              "                   dt     event  building_type  \\\n",
              "0 2020-05-04 00:00:01  building  assembly_shop   \n",
              "1 2020-05-04 00:00:03  building  assembly_shop   \n",
              "2 2020-05-04 00:00:16  building  assembly_shop   \n",
              "3 2020-05-04 00:00:16  building  assembly_shop   \n",
              "4 2020-05-04 00:00:35  building  assembly_shop   \n",
              "\n",
              "                                user_id project_type  lvl_finished  \n",
              "0  55e92310-cb8e-4754-b622-597e124b03de          NaN         False  \n",
              "1  c07b1c10-f477-44dc-81dc-ec82254b1347          NaN          True  \n",
              "2  6edd42cc-e753-4ff6-a947-2107cd560710          NaN          True  \n",
              "3  92c69003-d60a-444a-827f-8cc51bf6bf4c          NaN         False  \n",
              "4  cdc6bb92-0ccb-4490-9866-ef142f09139d          NaN          True  "
            ],
            "text/html": [
              "\n",
              "  <div id=\"df-fa32b235-4f3a-4f52-9a14-498d297bc721\">\n",
              "    <div class=\"colab-df-container\">\n",
              "      <div>\n",
              "<style scoped>\n",
              "    .dataframe tbody tr th:only-of-type {\n",
              "        vertical-align: middle;\n",
              "    }\n",
              "\n",
              "    .dataframe tbody tr th {\n",
              "        vertical-align: top;\n",
              "    }\n",
              "\n",
              "    .dataframe thead th {\n",
              "        text-align: right;\n",
              "    }\n",
              "</style>\n",
              "<table border=\"1\" class=\"dataframe\">\n",
              "  <thead>\n",
              "    <tr style=\"text-align: right;\">\n",
              "      <th></th>\n",
              "      <th>dt</th>\n",
              "      <th>event</th>\n",
              "      <th>building_type</th>\n",
              "      <th>user_id</th>\n",
              "      <th>project_type</th>\n",
              "      <th>lvl_finished</th>\n",
              "    </tr>\n",
              "  </thead>\n",
              "  <tbody>\n",
              "    <tr>\n",
              "      <th>0</th>\n",
              "      <td>2020-05-04 00:00:01</td>\n",
              "      <td>building</td>\n",
              "      <td>assembly_shop</td>\n",
              "      <td>55e92310-cb8e-4754-b622-597e124b03de</td>\n",
              "      <td>NaN</td>\n",
              "      <td>False</td>\n",
              "    </tr>\n",
              "    <tr>\n",
              "      <th>1</th>\n",
              "      <td>2020-05-04 00:00:03</td>\n",
              "      <td>building</td>\n",
              "      <td>assembly_shop</td>\n",
              "      <td>c07b1c10-f477-44dc-81dc-ec82254b1347</td>\n",
              "      <td>NaN</td>\n",
              "      <td>True</td>\n",
              "    </tr>\n",
              "    <tr>\n",
              "      <th>2</th>\n",
              "      <td>2020-05-04 00:00:16</td>\n",
              "      <td>building</td>\n",
              "      <td>assembly_shop</td>\n",
              "      <td>6edd42cc-e753-4ff6-a947-2107cd560710</td>\n",
              "      <td>NaN</td>\n",
              "      <td>True</td>\n",
              "    </tr>\n",
              "    <tr>\n",
              "      <th>3</th>\n",
              "      <td>2020-05-04 00:00:16</td>\n",
              "      <td>building</td>\n",
              "      <td>assembly_shop</td>\n",
              "      <td>92c69003-d60a-444a-827f-8cc51bf6bf4c</td>\n",
              "      <td>NaN</td>\n",
              "      <td>False</td>\n",
              "    </tr>\n",
              "    <tr>\n",
              "      <th>4</th>\n",
              "      <td>2020-05-04 00:00:35</td>\n",
              "      <td>building</td>\n",
              "      <td>assembly_shop</td>\n",
              "      <td>cdc6bb92-0ccb-4490-9866-ef142f09139d</td>\n",
              "      <td>NaN</td>\n",
              "      <td>True</td>\n",
              "    </tr>\n",
              "  </tbody>\n",
              "</table>\n",
              "</div>\n",
              "      <button class=\"colab-df-convert\" onclick=\"convertToInteractive('df-fa32b235-4f3a-4f52-9a14-498d297bc721')\"\n",
              "              title=\"Convert this dataframe to an interactive table.\"\n",
              "              style=\"display:none;\">\n",
              "        \n",
              "  <svg xmlns=\"http://www.w3.org/2000/svg\" height=\"24px\"viewBox=\"0 0 24 24\"\n",
              "       width=\"24px\">\n",
              "    <path d=\"M0 0h24v24H0V0z\" fill=\"none\"/>\n",
              "    <path d=\"M18.56 5.44l.94 2.06.94-2.06 2.06-.94-2.06-.94-.94-2.06-.94 2.06-2.06.94zm-11 1L8.5 8.5l.94-2.06 2.06-.94-2.06-.94L8.5 2.5l-.94 2.06-2.06.94zm10 10l.94 2.06.94-2.06 2.06-.94-2.06-.94-.94-2.06-.94 2.06-2.06.94z\"/><path d=\"M17.41 7.96l-1.37-1.37c-.4-.4-.92-.59-1.43-.59-.52 0-1.04.2-1.43.59L10.3 9.45l-7.72 7.72c-.78.78-.78 2.05 0 2.83L4 21.41c.39.39.9.59 1.41.59.51 0 1.02-.2 1.41-.59l7.78-7.78 2.81-2.81c.8-.78.8-2.07 0-2.86zM5.41 20L4 18.59l7.72-7.72 1.47 1.35L5.41 20z\"/>\n",
              "  </svg>\n",
              "      </button>\n",
              "      \n",
              "  <style>\n",
              "    .colab-df-container {\n",
              "      display:flex;\n",
              "      flex-wrap:wrap;\n",
              "      gap: 12px;\n",
              "    }\n",
              "\n",
              "    .colab-df-convert {\n",
              "      background-color: #E8F0FE;\n",
              "      border: none;\n",
              "      border-radius: 50%;\n",
              "      cursor: pointer;\n",
              "      display: none;\n",
              "      fill: #1967D2;\n",
              "      height: 32px;\n",
              "      padding: 0 0 0 0;\n",
              "      width: 32px;\n",
              "    }\n",
              "\n",
              "    .colab-df-convert:hover {\n",
              "      background-color: #E2EBFA;\n",
              "      box-shadow: 0px 1px 2px rgba(60, 64, 67, 0.3), 0px 1px 3px 1px rgba(60, 64, 67, 0.15);\n",
              "      fill: #174EA6;\n",
              "    }\n",
              "\n",
              "    [theme=dark] .colab-df-convert {\n",
              "      background-color: #3B4455;\n",
              "      fill: #D2E3FC;\n",
              "    }\n",
              "\n",
              "    [theme=dark] .colab-df-convert:hover {\n",
              "      background-color: #434B5C;\n",
              "      box-shadow: 0px 1px 3px 1px rgba(0, 0, 0, 0.15);\n",
              "      filter: drop-shadow(0px 1px 2px rgba(0, 0, 0, 0.3));\n",
              "      fill: #FFFFFF;\n",
              "    }\n",
              "  </style>\n",
              "\n",
              "      <script>\n",
              "        const buttonEl =\n",
              "          document.querySelector('#df-fa32b235-4f3a-4f52-9a14-498d297bc721 button.colab-df-convert');\n",
              "        buttonEl.style.display =\n",
              "          google.colab.kernel.accessAllowed ? 'block' : 'none';\n",
              "\n",
              "        async function convertToInteractive(key) {\n",
              "          const element = document.querySelector('#df-fa32b235-4f3a-4f52-9a14-498d297bc721');\n",
              "          const dataTable =\n",
              "            await google.colab.kernel.invokeFunction('convertToInteractive',\n",
              "                                                     [key], {});\n",
              "          if (!dataTable) return;\n",
              "\n",
              "          const docLinkHtml = 'Like what you see? Visit the ' +\n",
              "            '<a target=\"_blank\" href=https://colab.research.google.com/notebooks/data_table.ipynb>data table notebook</a>'\n",
              "            + ' to learn more about interactive tables.';\n",
              "          element.innerHTML = '';\n",
              "          dataTable['output_type'] = 'display_data';\n",
              "          await google.colab.output.renderOutput(dataTable, element);\n",
              "          const docLink = document.createElement('div');\n",
              "          docLink.innerHTML = docLinkHtml;\n",
              "          element.appendChild(docLink);\n",
              "        }\n",
              "      </script>\n",
              "    </div>\n",
              "  </div>\n",
              "  "
            ]
          },
          "metadata": {},
          "execution_count": 9
        }
      ],
      "source": [
        "actions['lvl_finished'] = actions.groupby('user_id')['event'].transform(lambda x: x.eq('finished_stage_1').any())\n",
        "actions.head()"
      ]
    },
    {
      "cell_type": "markdown",
      "metadata": {
        "id": "pZvHo7zLVUGB"
      },
      "source": [
        "Считаю количество пользователей, завершивших уровень."
      ]
    },
    {
      "cell_type": "code",
      "execution_count": 10,
      "metadata": {
        "scrolled": true,
        "colab": {
          "base_uri": "https://localhost:8080/"
        },
        "id": "JSA-LizZVUGC",
        "outputId": "de107f2d-c407-4442-d65e-880c7a96ac3f"
      },
      "outputs": [
        {
          "output_type": "execute_result",
          "data": {
            "text/plain": [
              "True     68469\n",
              "False    67170\n",
              "Name: lvl_finished, dtype: int64"
            ]
          },
          "metadata": {},
          "execution_count": 10
        }
      ],
      "source": [
        "actions['lvl_finished'].value_counts()"
      ]
    },
    {
      "cell_type": "markdown",
      "metadata": {
        "id": "RjrQ-g0yVUGC"
      },
      "source": [
        "Добавлю столбец с ценой 1 просмотра в меню строительства."
      ]
    },
    {
      "cell_type": "code",
      "execution_count": 11,
      "metadata": {
        "colab": {
          "base_uri": "https://localhost:8080/",
          "height": 206
        },
        "id": "A_0HJZsiVUGC",
        "outputId": "21bfa7a7-b690-4cc6-d977-a033e893b81e"
      },
      "outputs": [
        {
          "output_type": "execute_result",
          "data": {
            "text/plain": [
              "                   dt     event  building_type  \\\n",
              "0 2020-05-04 00:00:01  building  assembly_shop   \n",
              "1 2020-05-04 00:00:03  building  assembly_shop   \n",
              "2 2020-05-04 00:00:16  building  assembly_shop   \n",
              "3 2020-05-04 00:00:16  building  assembly_shop   \n",
              "4 2020-05-04 00:00:35  building  assembly_shop   \n",
              "\n",
              "                                user_id project_type  lvl_finished  ad_rev  \n",
              "0  55e92310-cb8e-4754-b622-597e124b03de          NaN         False    0.07  \n",
              "1  c07b1c10-f477-44dc-81dc-ec82254b1347          NaN          True    0.07  \n",
              "2  6edd42cc-e753-4ff6-a947-2107cd560710          NaN          True    0.07  \n",
              "3  92c69003-d60a-444a-827f-8cc51bf6bf4c          NaN         False    0.07  \n",
              "4  cdc6bb92-0ccb-4490-9866-ef142f09139d          NaN          True    0.07  "
            ],
            "text/html": [
              "\n",
              "  <div id=\"df-b59eacd0-6791-4943-a033-2f62603313bb\">\n",
              "    <div class=\"colab-df-container\">\n",
              "      <div>\n",
              "<style scoped>\n",
              "    .dataframe tbody tr th:only-of-type {\n",
              "        vertical-align: middle;\n",
              "    }\n",
              "\n",
              "    .dataframe tbody tr th {\n",
              "        vertical-align: top;\n",
              "    }\n",
              "\n",
              "    .dataframe thead th {\n",
              "        text-align: right;\n",
              "    }\n",
              "</style>\n",
              "<table border=\"1\" class=\"dataframe\">\n",
              "  <thead>\n",
              "    <tr style=\"text-align: right;\">\n",
              "      <th></th>\n",
              "      <th>dt</th>\n",
              "      <th>event</th>\n",
              "      <th>building_type</th>\n",
              "      <th>user_id</th>\n",
              "      <th>project_type</th>\n",
              "      <th>lvl_finished</th>\n",
              "      <th>ad_rev</th>\n",
              "    </tr>\n",
              "  </thead>\n",
              "  <tbody>\n",
              "    <tr>\n",
              "      <th>0</th>\n",
              "      <td>2020-05-04 00:00:01</td>\n",
              "      <td>building</td>\n",
              "      <td>assembly_shop</td>\n",
              "      <td>55e92310-cb8e-4754-b622-597e124b03de</td>\n",
              "      <td>NaN</td>\n",
              "      <td>False</td>\n",
              "      <td>0.07</td>\n",
              "    </tr>\n",
              "    <tr>\n",
              "      <th>1</th>\n",
              "      <td>2020-05-04 00:00:03</td>\n",
              "      <td>building</td>\n",
              "      <td>assembly_shop</td>\n",
              "      <td>c07b1c10-f477-44dc-81dc-ec82254b1347</td>\n",
              "      <td>NaN</td>\n",
              "      <td>True</td>\n",
              "      <td>0.07</td>\n",
              "    </tr>\n",
              "    <tr>\n",
              "      <th>2</th>\n",
              "      <td>2020-05-04 00:00:16</td>\n",
              "      <td>building</td>\n",
              "      <td>assembly_shop</td>\n",
              "      <td>6edd42cc-e753-4ff6-a947-2107cd560710</td>\n",
              "      <td>NaN</td>\n",
              "      <td>True</td>\n",
              "      <td>0.07</td>\n",
              "    </tr>\n",
              "    <tr>\n",
              "      <th>3</th>\n",
              "      <td>2020-05-04 00:00:16</td>\n",
              "      <td>building</td>\n",
              "      <td>assembly_shop</td>\n",
              "      <td>92c69003-d60a-444a-827f-8cc51bf6bf4c</td>\n",
              "      <td>NaN</td>\n",
              "      <td>False</td>\n",
              "      <td>0.07</td>\n",
              "    </tr>\n",
              "    <tr>\n",
              "      <th>4</th>\n",
              "      <td>2020-05-04 00:00:35</td>\n",
              "      <td>building</td>\n",
              "      <td>assembly_shop</td>\n",
              "      <td>cdc6bb92-0ccb-4490-9866-ef142f09139d</td>\n",
              "      <td>NaN</td>\n",
              "      <td>True</td>\n",
              "      <td>0.07</td>\n",
              "    </tr>\n",
              "  </tbody>\n",
              "</table>\n",
              "</div>\n",
              "      <button class=\"colab-df-convert\" onclick=\"convertToInteractive('df-b59eacd0-6791-4943-a033-2f62603313bb')\"\n",
              "              title=\"Convert this dataframe to an interactive table.\"\n",
              "              style=\"display:none;\">\n",
              "        \n",
              "  <svg xmlns=\"http://www.w3.org/2000/svg\" height=\"24px\"viewBox=\"0 0 24 24\"\n",
              "       width=\"24px\">\n",
              "    <path d=\"M0 0h24v24H0V0z\" fill=\"none\"/>\n",
              "    <path d=\"M18.56 5.44l.94 2.06.94-2.06 2.06-.94-2.06-.94-.94-2.06-.94 2.06-2.06.94zm-11 1L8.5 8.5l.94-2.06 2.06-.94-2.06-.94L8.5 2.5l-.94 2.06-2.06.94zm10 10l.94 2.06.94-2.06 2.06-.94-2.06-.94-.94-2.06-.94 2.06-2.06.94z\"/><path d=\"M17.41 7.96l-1.37-1.37c-.4-.4-.92-.59-1.43-.59-.52 0-1.04.2-1.43.59L10.3 9.45l-7.72 7.72c-.78.78-.78 2.05 0 2.83L4 21.41c.39.39.9.59 1.41.59.51 0 1.02-.2 1.41-.59l7.78-7.78 2.81-2.81c.8-.78.8-2.07 0-2.86zM5.41 20L4 18.59l7.72-7.72 1.47 1.35L5.41 20z\"/>\n",
              "  </svg>\n",
              "      </button>\n",
              "      \n",
              "  <style>\n",
              "    .colab-df-container {\n",
              "      display:flex;\n",
              "      flex-wrap:wrap;\n",
              "      gap: 12px;\n",
              "    }\n",
              "\n",
              "    .colab-df-convert {\n",
              "      background-color: #E8F0FE;\n",
              "      border: none;\n",
              "      border-radius: 50%;\n",
              "      cursor: pointer;\n",
              "      display: none;\n",
              "      fill: #1967D2;\n",
              "      height: 32px;\n",
              "      padding: 0 0 0 0;\n",
              "      width: 32px;\n",
              "    }\n",
              "\n",
              "    .colab-df-convert:hover {\n",
              "      background-color: #E2EBFA;\n",
              "      box-shadow: 0px 1px 2px rgba(60, 64, 67, 0.3), 0px 1px 3px 1px rgba(60, 64, 67, 0.15);\n",
              "      fill: #174EA6;\n",
              "    }\n",
              "\n",
              "    [theme=dark] .colab-df-convert {\n",
              "      background-color: #3B4455;\n",
              "      fill: #D2E3FC;\n",
              "    }\n",
              "\n",
              "    [theme=dark] .colab-df-convert:hover {\n",
              "      background-color: #434B5C;\n",
              "      box-shadow: 0px 1px 3px 1px rgba(0, 0, 0, 0.15);\n",
              "      filter: drop-shadow(0px 1px 2px rgba(0, 0, 0, 0.3));\n",
              "      fill: #FFFFFF;\n",
              "    }\n",
              "  </style>\n",
              "\n",
              "      <script>\n",
              "        const buttonEl =\n",
              "          document.querySelector('#df-b59eacd0-6791-4943-a033-2f62603313bb button.colab-df-convert');\n",
              "        buttonEl.style.display =\n",
              "          google.colab.kernel.accessAllowed ? 'block' : 'none';\n",
              "\n",
              "        async function convertToInteractive(key) {\n",
              "          const element = document.querySelector('#df-b59eacd0-6791-4943-a033-2f62603313bb');\n",
              "          const dataTable =\n",
              "            await google.colab.kernel.invokeFunction('convertToInteractive',\n",
              "                                                     [key], {});\n",
              "          if (!dataTable) return;\n",
              "\n",
              "          const docLinkHtml = 'Like what you see? Visit the ' +\n",
              "            '<a target=\"_blank\" href=https://colab.research.google.com/notebooks/data_table.ipynb>data table notebook</a>'\n",
              "            + ' to learn more about interactive tables.';\n",
              "          element.innerHTML = '';\n",
              "          dataTable['output_type'] = 'display_data';\n",
              "          await google.colab.output.renderOutput(dataTable, element);\n",
              "          const docLink = document.createElement('div');\n",
              "          docLink.innerHTML = docLinkHtml;\n",
              "          element.appendChild(docLink);\n",
              "        }\n",
              "      </script>\n",
              "    </div>\n",
              "  </div>\n",
              "  "
            ]
          },
          "metadata": {},
          "execution_count": 11
        }
      ],
      "source": [
        "conditions = [\n",
        "    (actions['event'] == 'building'),\n",
        "    (actions['event'] != 'building')\n",
        "    ]\n",
        "values = [0.07, 0]\n",
        "actions['ad_rev'] = np.select(conditions, values)\n",
        "actions.head()"
      ]
    },
    {
      "cell_type": "markdown",
      "metadata": {
        "id": "ggJOWFz2VUGC"
      },
      "source": [
        "Смотрю пропуски."
      ]
    },
    {
      "cell_type": "code",
      "execution_count": 12,
      "metadata": {
        "scrolled": false,
        "colab": {
          "base_uri": "https://localhost:8080/",
          "height": 206
        },
        "id": "CA59U_YLVUGC",
        "outputId": "4921a927-1876-4f47-c1fa-d5a4150d1c38"
      },
      "outputs": [
        {
          "output_type": "execute_result",
          "data": {
            "text/plain": [
              "                   dt     event  building_type  \\\n",
              "0 2020-05-04 00:00:01  building  assembly_shop   \n",
              "1 2020-05-04 00:00:03  building  assembly_shop   \n",
              "2 2020-05-04 00:00:16  building  assembly_shop   \n",
              "3 2020-05-04 00:00:16  building  assembly_shop   \n",
              "4 2020-05-04 00:00:35  building  assembly_shop   \n",
              "\n",
              "                                user_id project_type  lvl_finished  ad_rev  \n",
              "0  55e92310-cb8e-4754-b622-597e124b03de          NaN         False    0.07  \n",
              "1  c07b1c10-f477-44dc-81dc-ec82254b1347          NaN          True    0.07  \n",
              "2  6edd42cc-e753-4ff6-a947-2107cd560710          NaN          True    0.07  \n",
              "3  92c69003-d60a-444a-827f-8cc51bf6bf4c          NaN         False    0.07  \n",
              "4  cdc6bb92-0ccb-4490-9866-ef142f09139d          NaN          True    0.07  "
            ],
            "text/html": [
              "\n",
              "  <div id=\"df-eafe21d4-31d2-4553-aadf-3ddb99ea0bcb\">\n",
              "    <div class=\"colab-df-container\">\n",
              "      <div>\n",
              "<style scoped>\n",
              "    .dataframe tbody tr th:only-of-type {\n",
              "        vertical-align: middle;\n",
              "    }\n",
              "\n",
              "    .dataframe tbody tr th {\n",
              "        vertical-align: top;\n",
              "    }\n",
              "\n",
              "    .dataframe thead th {\n",
              "        text-align: right;\n",
              "    }\n",
              "</style>\n",
              "<table border=\"1\" class=\"dataframe\">\n",
              "  <thead>\n",
              "    <tr style=\"text-align: right;\">\n",
              "      <th></th>\n",
              "      <th>dt</th>\n",
              "      <th>event</th>\n",
              "      <th>building_type</th>\n",
              "      <th>user_id</th>\n",
              "      <th>project_type</th>\n",
              "      <th>lvl_finished</th>\n",
              "      <th>ad_rev</th>\n",
              "    </tr>\n",
              "  </thead>\n",
              "  <tbody>\n",
              "    <tr>\n",
              "      <th>0</th>\n",
              "      <td>2020-05-04 00:00:01</td>\n",
              "      <td>building</td>\n",
              "      <td>assembly_shop</td>\n",
              "      <td>55e92310-cb8e-4754-b622-597e124b03de</td>\n",
              "      <td>NaN</td>\n",
              "      <td>False</td>\n",
              "      <td>0.07</td>\n",
              "    </tr>\n",
              "    <tr>\n",
              "      <th>1</th>\n",
              "      <td>2020-05-04 00:00:03</td>\n",
              "      <td>building</td>\n",
              "      <td>assembly_shop</td>\n",
              "      <td>c07b1c10-f477-44dc-81dc-ec82254b1347</td>\n",
              "      <td>NaN</td>\n",
              "      <td>True</td>\n",
              "      <td>0.07</td>\n",
              "    </tr>\n",
              "    <tr>\n",
              "      <th>2</th>\n",
              "      <td>2020-05-04 00:00:16</td>\n",
              "      <td>building</td>\n",
              "      <td>assembly_shop</td>\n",
              "      <td>6edd42cc-e753-4ff6-a947-2107cd560710</td>\n",
              "      <td>NaN</td>\n",
              "      <td>True</td>\n",
              "      <td>0.07</td>\n",
              "    </tr>\n",
              "    <tr>\n",
              "      <th>3</th>\n",
              "      <td>2020-05-04 00:00:16</td>\n",
              "      <td>building</td>\n",
              "      <td>assembly_shop</td>\n",
              "      <td>92c69003-d60a-444a-827f-8cc51bf6bf4c</td>\n",
              "      <td>NaN</td>\n",
              "      <td>False</td>\n",
              "      <td>0.07</td>\n",
              "    </tr>\n",
              "    <tr>\n",
              "      <th>4</th>\n",
              "      <td>2020-05-04 00:00:35</td>\n",
              "      <td>building</td>\n",
              "      <td>assembly_shop</td>\n",
              "      <td>cdc6bb92-0ccb-4490-9866-ef142f09139d</td>\n",
              "      <td>NaN</td>\n",
              "      <td>True</td>\n",
              "      <td>0.07</td>\n",
              "    </tr>\n",
              "  </tbody>\n",
              "</table>\n",
              "</div>\n",
              "      <button class=\"colab-df-convert\" onclick=\"convertToInteractive('df-eafe21d4-31d2-4553-aadf-3ddb99ea0bcb')\"\n",
              "              title=\"Convert this dataframe to an interactive table.\"\n",
              "              style=\"display:none;\">\n",
              "        \n",
              "  <svg xmlns=\"http://www.w3.org/2000/svg\" height=\"24px\"viewBox=\"0 0 24 24\"\n",
              "       width=\"24px\">\n",
              "    <path d=\"M0 0h24v24H0V0z\" fill=\"none\"/>\n",
              "    <path d=\"M18.56 5.44l.94 2.06.94-2.06 2.06-.94-2.06-.94-.94-2.06-.94 2.06-2.06.94zm-11 1L8.5 8.5l.94-2.06 2.06-.94-2.06-.94L8.5 2.5l-.94 2.06-2.06.94zm10 10l.94 2.06.94-2.06 2.06-.94-2.06-.94-.94-2.06-.94 2.06-2.06.94z\"/><path d=\"M17.41 7.96l-1.37-1.37c-.4-.4-.92-.59-1.43-.59-.52 0-1.04.2-1.43.59L10.3 9.45l-7.72 7.72c-.78.78-.78 2.05 0 2.83L4 21.41c.39.39.9.59 1.41.59.51 0 1.02-.2 1.41-.59l7.78-7.78 2.81-2.81c.8-.78.8-2.07 0-2.86zM5.41 20L4 18.59l7.72-7.72 1.47 1.35L5.41 20z\"/>\n",
              "  </svg>\n",
              "      </button>\n",
              "      \n",
              "  <style>\n",
              "    .colab-df-container {\n",
              "      display:flex;\n",
              "      flex-wrap:wrap;\n",
              "      gap: 12px;\n",
              "    }\n",
              "\n",
              "    .colab-df-convert {\n",
              "      background-color: #E8F0FE;\n",
              "      border: none;\n",
              "      border-radius: 50%;\n",
              "      cursor: pointer;\n",
              "      display: none;\n",
              "      fill: #1967D2;\n",
              "      height: 32px;\n",
              "      padding: 0 0 0 0;\n",
              "      width: 32px;\n",
              "    }\n",
              "\n",
              "    .colab-df-convert:hover {\n",
              "      background-color: #E2EBFA;\n",
              "      box-shadow: 0px 1px 2px rgba(60, 64, 67, 0.3), 0px 1px 3px 1px rgba(60, 64, 67, 0.15);\n",
              "      fill: #174EA6;\n",
              "    }\n",
              "\n",
              "    [theme=dark] .colab-df-convert {\n",
              "      background-color: #3B4455;\n",
              "      fill: #D2E3FC;\n",
              "    }\n",
              "\n",
              "    [theme=dark] .colab-df-convert:hover {\n",
              "      background-color: #434B5C;\n",
              "      box-shadow: 0px 1px 3px 1px rgba(0, 0, 0, 0.15);\n",
              "      filter: drop-shadow(0px 1px 2px rgba(0, 0, 0, 0.3));\n",
              "      fill: #FFFFFF;\n",
              "    }\n",
              "  </style>\n",
              "\n",
              "      <script>\n",
              "        const buttonEl =\n",
              "          document.querySelector('#df-eafe21d4-31d2-4553-aadf-3ddb99ea0bcb button.colab-df-convert');\n",
              "        buttonEl.style.display =\n",
              "          google.colab.kernel.accessAllowed ? 'block' : 'none';\n",
              "\n",
              "        async function convertToInteractive(key) {\n",
              "          const element = document.querySelector('#df-eafe21d4-31d2-4553-aadf-3ddb99ea0bcb');\n",
              "          const dataTable =\n",
              "            await google.colab.kernel.invokeFunction('convertToInteractive',\n",
              "                                                     [key], {});\n",
              "          if (!dataTable) return;\n",
              "\n",
              "          const docLinkHtml = 'Like what you see? Visit the ' +\n",
              "            '<a target=\"_blank\" href=https://colab.research.google.com/notebooks/data_table.ipynb>data table notebook</a>'\n",
              "            + ' to learn more about interactive tables.';\n",
              "          element.innerHTML = '';\n",
              "          dataTable['output_type'] = 'display_data';\n",
              "          await google.colab.output.renderOutput(dataTable, element);\n",
              "          const docLink = document.createElement('div');\n",
              "          docLink.innerHTML = docLinkHtml;\n",
              "          element.appendChild(docLink);\n",
              "        }\n",
              "      </script>\n",
              "    </div>\n",
              "  </div>\n",
              "  "
            ]
          },
          "metadata": {},
          "execution_count": 12
        }
      ],
      "source": [
        "actions.query('project_type.isna()').head()"
      ]
    },
    {
      "cell_type": "code",
      "execution_count": 13,
      "metadata": {
        "colab": {
          "base_uri": "https://localhost:8080/",
          "height": 206
        },
        "id": "DNZLPXKrVUGD",
        "outputId": "5c0928df-2c58-4c0d-9d3a-d574112f18e4"
      },
      "outputs": [
        {
          "output_type": "execute_result",
          "data": {
            "text/plain": [
              "                       dt             event building_type  \\\n",
              "6659  2020-05-04 19:47:29  finished_stage_1           NaN   \n",
              "13134 2020-05-05 13:22:09  finished_stage_1           NaN   \n",
              "15274 2020-05-05 18:54:37  finished_stage_1           NaN   \n",
              "16284 2020-05-05 21:27:29  finished_stage_1           NaN   \n",
              "19650 2020-05-06 06:02:22  finished_stage_1           NaN   \n",
              "\n",
              "                                    user_id project_type  lvl_finished  ad_rev  \n",
              "6659   ced7b368-818f-48f6-9461-2346de0892c5          NaN          True     0.0  \n",
              "13134  7ef7fc89-2779-46ea-b328-9e5035b83af5          NaN          True     0.0  \n",
              "15274  70db22b3-c2f4-43bc-94ea-51c8d2904a29          NaN          True     0.0  \n",
              "16284  903fc9ef-ba97-4b12-9d5c-ac8d602fbd8b          NaN          True     0.0  \n",
              "19650  58e077ba-feb1-4556-a5a0-d96bd04efa39          NaN          True     0.0  "
            ],
            "text/html": [
              "\n",
              "  <div id=\"df-5480dba8-bf7d-4fc3-af12-ba7e5f3419df\">\n",
              "    <div class=\"colab-df-container\">\n",
              "      <div>\n",
              "<style scoped>\n",
              "    .dataframe tbody tr th:only-of-type {\n",
              "        vertical-align: middle;\n",
              "    }\n",
              "\n",
              "    .dataframe tbody tr th {\n",
              "        vertical-align: top;\n",
              "    }\n",
              "\n",
              "    .dataframe thead th {\n",
              "        text-align: right;\n",
              "    }\n",
              "</style>\n",
              "<table border=\"1\" class=\"dataframe\">\n",
              "  <thead>\n",
              "    <tr style=\"text-align: right;\">\n",
              "      <th></th>\n",
              "      <th>dt</th>\n",
              "      <th>event</th>\n",
              "      <th>building_type</th>\n",
              "      <th>user_id</th>\n",
              "      <th>project_type</th>\n",
              "      <th>lvl_finished</th>\n",
              "      <th>ad_rev</th>\n",
              "    </tr>\n",
              "  </thead>\n",
              "  <tbody>\n",
              "    <tr>\n",
              "      <th>6659</th>\n",
              "      <td>2020-05-04 19:47:29</td>\n",
              "      <td>finished_stage_1</td>\n",
              "      <td>NaN</td>\n",
              "      <td>ced7b368-818f-48f6-9461-2346de0892c5</td>\n",
              "      <td>NaN</td>\n",
              "      <td>True</td>\n",
              "      <td>0.0</td>\n",
              "    </tr>\n",
              "    <tr>\n",
              "      <th>13134</th>\n",
              "      <td>2020-05-05 13:22:09</td>\n",
              "      <td>finished_stage_1</td>\n",
              "      <td>NaN</td>\n",
              "      <td>7ef7fc89-2779-46ea-b328-9e5035b83af5</td>\n",
              "      <td>NaN</td>\n",
              "      <td>True</td>\n",
              "      <td>0.0</td>\n",
              "    </tr>\n",
              "    <tr>\n",
              "      <th>15274</th>\n",
              "      <td>2020-05-05 18:54:37</td>\n",
              "      <td>finished_stage_1</td>\n",
              "      <td>NaN</td>\n",
              "      <td>70db22b3-c2f4-43bc-94ea-51c8d2904a29</td>\n",
              "      <td>NaN</td>\n",
              "      <td>True</td>\n",
              "      <td>0.0</td>\n",
              "    </tr>\n",
              "    <tr>\n",
              "      <th>16284</th>\n",
              "      <td>2020-05-05 21:27:29</td>\n",
              "      <td>finished_stage_1</td>\n",
              "      <td>NaN</td>\n",
              "      <td>903fc9ef-ba97-4b12-9d5c-ac8d602fbd8b</td>\n",
              "      <td>NaN</td>\n",
              "      <td>True</td>\n",
              "      <td>0.0</td>\n",
              "    </tr>\n",
              "    <tr>\n",
              "      <th>19650</th>\n",
              "      <td>2020-05-06 06:02:22</td>\n",
              "      <td>finished_stage_1</td>\n",
              "      <td>NaN</td>\n",
              "      <td>58e077ba-feb1-4556-a5a0-d96bd04efa39</td>\n",
              "      <td>NaN</td>\n",
              "      <td>True</td>\n",
              "      <td>0.0</td>\n",
              "    </tr>\n",
              "  </tbody>\n",
              "</table>\n",
              "</div>\n",
              "      <button class=\"colab-df-convert\" onclick=\"convertToInteractive('df-5480dba8-bf7d-4fc3-af12-ba7e5f3419df')\"\n",
              "              title=\"Convert this dataframe to an interactive table.\"\n",
              "              style=\"display:none;\">\n",
              "        \n",
              "  <svg xmlns=\"http://www.w3.org/2000/svg\" height=\"24px\"viewBox=\"0 0 24 24\"\n",
              "       width=\"24px\">\n",
              "    <path d=\"M0 0h24v24H0V0z\" fill=\"none\"/>\n",
              "    <path d=\"M18.56 5.44l.94 2.06.94-2.06 2.06-.94-2.06-.94-.94-2.06-.94 2.06-2.06.94zm-11 1L8.5 8.5l.94-2.06 2.06-.94-2.06-.94L8.5 2.5l-.94 2.06-2.06.94zm10 10l.94 2.06.94-2.06 2.06-.94-2.06-.94-.94-2.06-.94 2.06-2.06.94z\"/><path d=\"M17.41 7.96l-1.37-1.37c-.4-.4-.92-.59-1.43-.59-.52 0-1.04.2-1.43.59L10.3 9.45l-7.72 7.72c-.78.78-.78 2.05 0 2.83L4 21.41c.39.39.9.59 1.41.59.51 0 1.02-.2 1.41-.59l7.78-7.78 2.81-2.81c.8-.78.8-2.07 0-2.86zM5.41 20L4 18.59l7.72-7.72 1.47 1.35L5.41 20z\"/>\n",
              "  </svg>\n",
              "      </button>\n",
              "      \n",
              "  <style>\n",
              "    .colab-df-container {\n",
              "      display:flex;\n",
              "      flex-wrap:wrap;\n",
              "      gap: 12px;\n",
              "    }\n",
              "\n",
              "    .colab-df-convert {\n",
              "      background-color: #E8F0FE;\n",
              "      border: none;\n",
              "      border-radius: 50%;\n",
              "      cursor: pointer;\n",
              "      display: none;\n",
              "      fill: #1967D2;\n",
              "      height: 32px;\n",
              "      padding: 0 0 0 0;\n",
              "      width: 32px;\n",
              "    }\n",
              "\n",
              "    .colab-df-convert:hover {\n",
              "      background-color: #E2EBFA;\n",
              "      box-shadow: 0px 1px 2px rgba(60, 64, 67, 0.3), 0px 1px 3px 1px rgba(60, 64, 67, 0.15);\n",
              "      fill: #174EA6;\n",
              "    }\n",
              "\n",
              "    [theme=dark] .colab-df-convert {\n",
              "      background-color: #3B4455;\n",
              "      fill: #D2E3FC;\n",
              "    }\n",
              "\n",
              "    [theme=dark] .colab-df-convert:hover {\n",
              "      background-color: #434B5C;\n",
              "      box-shadow: 0px 1px 3px 1px rgba(0, 0, 0, 0.15);\n",
              "      filter: drop-shadow(0px 1px 2px rgba(0, 0, 0, 0.3));\n",
              "      fill: #FFFFFF;\n",
              "    }\n",
              "  </style>\n",
              "\n",
              "      <script>\n",
              "        const buttonEl =\n",
              "          document.querySelector('#df-5480dba8-bf7d-4fc3-af12-ba7e5f3419df button.colab-df-convert');\n",
              "        buttonEl.style.display =\n",
              "          google.colab.kernel.accessAllowed ? 'block' : 'none';\n",
              "\n",
              "        async function convertToInteractive(key) {\n",
              "          const element = document.querySelector('#df-5480dba8-bf7d-4fc3-af12-ba7e5f3419df');\n",
              "          const dataTable =\n",
              "            await google.colab.kernel.invokeFunction('convertToInteractive',\n",
              "                                                     [key], {});\n",
              "          if (!dataTable) return;\n",
              "\n",
              "          const docLinkHtml = 'Like what you see? Visit the ' +\n",
              "            '<a target=\"_blank\" href=https://colab.research.google.com/notebooks/data_table.ipynb>data table notebook</a>'\n",
              "            + ' to learn more about interactive tables.';\n",
              "          element.innerHTML = '';\n",
              "          dataTable['output_type'] = 'display_data';\n",
              "          await google.colab.output.renderOutput(dataTable, element);\n",
              "          const docLink = document.createElement('div');\n",
              "          docLink.innerHTML = docLinkHtml;\n",
              "          element.appendChild(docLink);\n",
              "        }\n",
              "      </script>\n",
              "    </div>\n",
              "  </div>\n",
              "  "
            ]
          },
          "metadata": {},
          "execution_count": 13
        }
      ],
      "source": [
        "actions.query('building_type.isna()').head()"
      ]
    },
    {
      "cell_type": "code",
      "execution_count": 14,
      "metadata": {
        "colab": {
          "base_uri": "https://localhost:8080/"
        },
        "id": "o7ZwnRfqVUGD",
        "outputId": "339adb14-f488-4dca-9931-654b09075925"
      },
      "outputs": [
        {
          "output_type": "execute_result",
          "data": {
            "text/plain": [
              "array(['assembly_shop', 'spaceport', 'research_center'], dtype=object)"
            ]
          },
          "metadata": {},
          "execution_count": 14
        }
      ],
      "source": [
        "actions.query('event == \"building\"')['building_type'].unique()"
      ]
    },
    {
      "cell_type": "markdown",
      "metadata": {
        "id": "Z19EkbGmVUGD"
      },
      "source": [
        "В строительстве пропусков нет."
      ]
    },
    {
      "cell_type": "code",
      "execution_count": 15,
      "metadata": {
        "colab": {
          "base_uri": "https://localhost:8080/"
        },
        "id": "fS2JjRviVUGD",
        "outputId": "0b6a47ba-36c1-4944-c1ae-411adae89cf2"
      },
      "outputs": [
        {
          "output_type": "execute_result",
          "data": {
            "text/plain": [
              "array([nan], dtype=object)"
            ]
          },
          "metadata": {},
          "execution_count": 15
        }
      ],
      "source": [
        "actions.query('event == \"building\"')['project_type'].unique()"
      ]
    },
    {
      "cell_type": "markdown",
      "metadata": {
        "id": "KI8WX5mbVUGE"
      },
      "source": [
        "Также при строительстве невозможно событие проект, все правильно."
      ]
    },
    {
      "cell_type": "code",
      "execution_count": 16,
      "metadata": {
        "colab": {
          "base_uri": "https://localhost:8080/"
        },
        "id": "5gLRsJFuVUGE",
        "outputId": "011adb62-4ffb-43b8-bb7c-0825ea9c901b"
      },
      "outputs": [
        {
          "output_type": "execute_result",
          "data": {
            "text/plain": [
              "array([nan], dtype=object)"
            ]
          },
          "metadata": {},
          "execution_count": 16
        }
      ],
      "source": [
        "actions.query('event == \"project\"')['building_type'].unique()"
      ]
    },
    {
      "cell_type": "code",
      "execution_count": 17,
      "metadata": {
        "colab": {
          "base_uri": "https://localhost:8080/"
        },
        "id": "b5OoRJcYVUGE",
        "outputId": "a777609b-8437-431d-ff59-d32daadcd73f"
      },
      "outputs": [
        {
          "output_type": "execute_result",
          "data": {
            "text/plain": [
              "array(['satellite_orbital_assembly'], dtype=object)"
            ]
          },
          "metadata": {},
          "execution_count": 17
        }
      ],
      "source": [
        "actions.query('event == \"project\"')['project_type'].unique()"
      ]
    },
    {
      "cell_type": "markdown",
      "metadata": {
        "id": "C9O35XzkVUGE"
      },
      "source": [
        "При событии проект - возможет только проект и нет типа здания - так и должно быть."
      ]
    },
    {
      "cell_type": "markdown",
      "metadata": {
        "id": "K5TEx2B8VUGE"
      },
      "source": [
        "Итог предобработки: удален 1 дупликат, изменен тип дат, добавлен столбец \"уровень завершен\" и цена за просмотр рекламы, так же имеются пропуски, но они обусловлены механикой записи данных в игре, тк после завершения уровня - игрок ничего не строит и не исследует и дальнейшие записи не делаются."
      ]
    },
    {
      "cell_type": "markdown",
      "metadata": {
        "id": "z0L3oV61VUGO"
      },
      "source": [
        "## Провести исследовательский анализ данных\n",
        "- Разбить всех на исследователей и воителей, если они завершили уровень.\n",
        "- Определить время на завершение уровня для каждого юзера.\n",
        "- Предложить схему монетизации на основе полученных данных."
      ]
    },
    {
      "cell_type": "markdown",
      "metadata": {
        "id": "WZ28rJ6GVUGP"
      },
      "source": [
        "### Разделение пользоватлей на стратегии выйгрыша"
      ]
    },
    {
      "cell_type": "code",
      "execution_count": 18,
      "metadata": {
        "colab": {
          "base_uri": "https://localhost:8080/",
          "height": 237
        },
        "id": "3-eINPNoVUGP",
        "outputId": "4ed9df17-23c9-4792-bc37-015519c81b78"
      },
      "outputs": [
        {
          "output_type": "execute_result",
          "data": {
            "text/plain": [
              "                                      finish  project\n",
              "user_id                                              \n",
              "001d39dc-366c-4021-9604-6a3b9ff01e25     1.0      NaN\n",
              "003ee7e8-6356-4286-a715-62f22a18d2a1     1.0      NaN\n",
              "004074f8-251a-4776-922c-8348dca1a2f6     1.0      NaN\n",
              "00464e5e-28ed-4be6-bf44-517ef7b3937b     1.0      NaN\n",
              "0056c007-c082-43cc-bdef-afc49bca4cb9     1.0      NaN"
            ],
            "text/html": [
              "\n",
              "  <div id=\"df-bc0f8ad5-93ad-4458-8837-c4549a1a794c\">\n",
              "    <div class=\"colab-df-container\">\n",
              "      <div>\n",
              "<style scoped>\n",
              "    .dataframe tbody tr th:only-of-type {\n",
              "        vertical-align: middle;\n",
              "    }\n",
              "\n",
              "    .dataframe tbody tr th {\n",
              "        vertical-align: top;\n",
              "    }\n",
              "\n",
              "    .dataframe thead th {\n",
              "        text-align: right;\n",
              "    }\n",
              "</style>\n",
              "<table border=\"1\" class=\"dataframe\">\n",
              "  <thead>\n",
              "    <tr style=\"text-align: right;\">\n",
              "      <th></th>\n",
              "      <th>finish</th>\n",
              "      <th>project</th>\n",
              "    </tr>\n",
              "    <tr>\n",
              "      <th>user_id</th>\n",
              "      <th></th>\n",
              "      <th></th>\n",
              "    </tr>\n",
              "  </thead>\n",
              "  <tbody>\n",
              "    <tr>\n",
              "      <th>001d39dc-366c-4021-9604-6a3b9ff01e25</th>\n",
              "      <td>1.0</td>\n",
              "      <td>NaN</td>\n",
              "    </tr>\n",
              "    <tr>\n",
              "      <th>003ee7e8-6356-4286-a715-62f22a18d2a1</th>\n",
              "      <td>1.0</td>\n",
              "      <td>NaN</td>\n",
              "    </tr>\n",
              "    <tr>\n",
              "      <th>004074f8-251a-4776-922c-8348dca1a2f6</th>\n",
              "      <td>1.0</td>\n",
              "      <td>NaN</td>\n",
              "    </tr>\n",
              "    <tr>\n",
              "      <th>00464e5e-28ed-4be6-bf44-517ef7b3937b</th>\n",
              "      <td>1.0</td>\n",
              "      <td>NaN</td>\n",
              "    </tr>\n",
              "    <tr>\n",
              "      <th>0056c007-c082-43cc-bdef-afc49bca4cb9</th>\n",
              "      <td>1.0</td>\n",
              "      <td>NaN</td>\n",
              "    </tr>\n",
              "  </tbody>\n",
              "</table>\n",
              "</div>\n",
              "      <button class=\"colab-df-convert\" onclick=\"convertToInteractive('df-bc0f8ad5-93ad-4458-8837-c4549a1a794c')\"\n",
              "              title=\"Convert this dataframe to an interactive table.\"\n",
              "              style=\"display:none;\">\n",
              "        \n",
              "  <svg xmlns=\"http://www.w3.org/2000/svg\" height=\"24px\"viewBox=\"0 0 24 24\"\n",
              "       width=\"24px\">\n",
              "    <path d=\"M0 0h24v24H0V0z\" fill=\"none\"/>\n",
              "    <path d=\"M18.56 5.44l.94 2.06.94-2.06 2.06-.94-2.06-.94-.94-2.06-.94 2.06-2.06.94zm-11 1L8.5 8.5l.94-2.06 2.06-.94-2.06-.94L8.5 2.5l-.94 2.06-2.06.94zm10 10l.94 2.06.94-2.06 2.06-.94-2.06-.94-.94-2.06-.94 2.06-2.06.94z\"/><path d=\"M17.41 7.96l-1.37-1.37c-.4-.4-.92-.59-1.43-.59-.52 0-1.04.2-1.43.59L10.3 9.45l-7.72 7.72c-.78.78-.78 2.05 0 2.83L4 21.41c.39.39.9.59 1.41.59.51 0 1.02-.2 1.41-.59l7.78-7.78 2.81-2.81c.8-.78.8-2.07 0-2.86zM5.41 20L4 18.59l7.72-7.72 1.47 1.35L5.41 20z\"/>\n",
              "  </svg>\n",
              "      </button>\n",
              "      \n",
              "  <style>\n",
              "    .colab-df-container {\n",
              "      display:flex;\n",
              "      flex-wrap:wrap;\n",
              "      gap: 12px;\n",
              "    }\n",
              "\n",
              "    .colab-df-convert {\n",
              "      background-color: #E8F0FE;\n",
              "      border: none;\n",
              "      border-radius: 50%;\n",
              "      cursor: pointer;\n",
              "      display: none;\n",
              "      fill: #1967D2;\n",
              "      height: 32px;\n",
              "      padding: 0 0 0 0;\n",
              "      width: 32px;\n",
              "    }\n",
              "\n",
              "    .colab-df-convert:hover {\n",
              "      background-color: #E2EBFA;\n",
              "      box-shadow: 0px 1px 2px rgba(60, 64, 67, 0.3), 0px 1px 3px 1px rgba(60, 64, 67, 0.15);\n",
              "      fill: #174EA6;\n",
              "    }\n",
              "\n",
              "    [theme=dark] .colab-df-convert {\n",
              "      background-color: #3B4455;\n",
              "      fill: #D2E3FC;\n",
              "    }\n",
              "\n",
              "    [theme=dark] .colab-df-convert:hover {\n",
              "      background-color: #434B5C;\n",
              "      box-shadow: 0px 1px 3px 1px rgba(0, 0, 0, 0.15);\n",
              "      filter: drop-shadow(0px 1px 2px rgba(0, 0, 0, 0.3));\n",
              "      fill: #FFFFFF;\n",
              "    }\n",
              "  </style>\n",
              "\n",
              "      <script>\n",
              "        const buttonEl =\n",
              "          document.querySelector('#df-bc0f8ad5-93ad-4458-8837-c4549a1a794c button.colab-df-convert');\n",
              "        buttonEl.style.display =\n",
              "          google.colab.kernel.accessAllowed ? 'block' : 'none';\n",
              "\n",
              "        async function convertToInteractive(key) {\n",
              "          const element = document.querySelector('#df-bc0f8ad5-93ad-4458-8837-c4549a1a794c');\n",
              "          const dataTable =\n",
              "            await google.colab.kernel.invokeFunction('convertToInteractive',\n",
              "                                                     [key], {});\n",
              "          if (!dataTable) return;\n",
              "\n",
              "          const docLinkHtml = 'Like what you see? Visit the ' +\n",
              "            '<a target=\"_blank\" href=https://colab.research.google.com/notebooks/data_table.ipynb>data table notebook</a>'\n",
              "            + ' to learn more about interactive tables.';\n",
              "          element.innerHTML = '';\n",
              "          dataTable['output_type'] = 'display_data';\n",
              "          await google.colab.output.renderOutput(dataTable, element);\n",
              "          const docLink = document.createElement('div');\n",
              "          docLink.innerHTML = docLinkHtml;\n",
              "          element.appendChild(docLink);\n",
              "        }\n",
              "      </script>\n",
              "    </div>\n",
              "  </div>\n",
              "  "
            ]
          },
          "metadata": {},
          "execution_count": 18
        }
      ],
      "source": [
        "winners = pd.pivot_table(actions.query('lvl_finished == True'), index = 'user_id', columns = ['event'], values = 'lvl_finished', aggfunc ='nunique')\n",
        "winners.columns = ['build', 'finish','project']\n",
        "winners = winners[['finish', 'project']]\n",
        "winners.head()"
      ]
    },
    {
      "cell_type": "code",
      "execution_count": 19,
      "metadata": {
        "colab": {
          "base_uri": "https://localhost:8080/",
          "height": 237
        },
        "id": "dxhPMlqKVUGP",
        "outputId": "f643b2e0-0042-4306-82c7-4494e8af0532"
      },
      "outputs": [
        {
          "output_type": "execute_result",
          "data": {
            "text/plain": [
              "                                      finish  project strat\n",
              "user_id                                                    \n",
              "001d39dc-366c-4021-9604-6a3b9ff01e25     1.0      NaN   war\n",
              "003ee7e8-6356-4286-a715-62f22a18d2a1     1.0      NaN   war\n",
              "004074f8-251a-4776-922c-8348dca1a2f6     1.0      NaN   war\n",
              "00464e5e-28ed-4be6-bf44-517ef7b3937b     1.0      NaN   war\n",
              "0056c007-c082-43cc-bdef-afc49bca4cb9     1.0      NaN   war"
            ],
            "text/html": [
              "\n",
              "  <div id=\"df-7e8494f9-db6b-4ac1-ba22-f98623b0ab16\">\n",
              "    <div class=\"colab-df-container\">\n",
              "      <div>\n",
              "<style scoped>\n",
              "    .dataframe tbody tr th:only-of-type {\n",
              "        vertical-align: middle;\n",
              "    }\n",
              "\n",
              "    .dataframe tbody tr th {\n",
              "        vertical-align: top;\n",
              "    }\n",
              "\n",
              "    .dataframe thead th {\n",
              "        text-align: right;\n",
              "    }\n",
              "</style>\n",
              "<table border=\"1\" class=\"dataframe\">\n",
              "  <thead>\n",
              "    <tr style=\"text-align: right;\">\n",
              "      <th></th>\n",
              "      <th>finish</th>\n",
              "      <th>project</th>\n",
              "      <th>strat</th>\n",
              "    </tr>\n",
              "    <tr>\n",
              "      <th>user_id</th>\n",
              "      <th></th>\n",
              "      <th></th>\n",
              "      <th></th>\n",
              "    </tr>\n",
              "  </thead>\n",
              "  <tbody>\n",
              "    <tr>\n",
              "      <th>001d39dc-366c-4021-9604-6a3b9ff01e25</th>\n",
              "      <td>1.0</td>\n",
              "      <td>NaN</td>\n",
              "      <td>war</td>\n",
              "    </tr>\n",
              "    <tr>\n",
              "      <th>003ee7e8-6356-4286-a715-62f22a18d2a1</th>\n",
              "      <td>1.0</td>\n",
              "      <td>NaN</td>\n",
              "      <td>war</td>\n",
              "    </tr>\n",
              "    <tr>\n",
              "      <th>004074f8-251a-4776-922c-8348dca1a2f6</th>\n",
              "      <td>1.0</td>\n",
              "      <td>NaN</td>\n",
              "      <td>war</td>\n",
              "    </tr>\n",
              "    <tr>\n",
              "      <th>00464e5e-28ed-4be6-bf44-517ef7b3937b</th>\n",
              "      <td>1.0</td>\n",
              "      <td>NaN</td>\n",
              "      <td>war</td>\n",
              "    </tr>\n",
              "    <tr>\n",
              "      <th>0056c007-c082-43cc-bdef-afc49bca4cb9</th>\n",
              "      <td>1.0</td>\n",
              "      <td>NaN</td>\n",
              "      <td>war</td>\n",
              "    </tr>\n",
              "  </tbody>\n",
              "</table>\n",
              "</div>\n",
              "      <button class=\"colab-df-convert\" onclick=\"convertToInteractive('df-7e8494f9-db6b-4ac1-ba22-f98623b0ab16')\"\n",
              "              title=\"Convert this dataframe to an interactive table.\"\n",
              "              style=\"display:none;\">\n",
              "        \n",
              "  <svg xmlns=\"http://www.w3.org/2000/svg\" height=\"24px\"viewBox=\"0 0 24 24\"\n",
              "       width=\"24px\">\n",
              "    <path d=\"M0 0h24v24H0V0z\" fill=\"none\"/>\n",
              "    <path d=\"M18.56 5.44l.94 2.06.94-2.06 2.06-.94-2.06-.94-.94-2.06-.94 2.06-2.06.94zm-11 1L8.5 8.5l.94-2.06 2.06-.94-2.06-.94L8.5 2.5l-.94 2.06-2.06.94zm10 10l.94 2.06.94-2.06 2.06-.94-2.06-.94-.94-2.06-.94 2.06-2.06.94z\"/><path d=\"M17.41 7.96l-1.37-1.37c-.4-.4-.92-.59-1.43-.59-.52 0-1.04.2-1.43.59L10.3 9.45l-7.72 7.72c-.78.78-.78 2.05 0 2.83L4 21.41c.39.39.9.59 1.41.59.51 0 1.02-.2 1.41-.59l7.78-7.78 2.81-2.81c.8-.78.8-2.07 0-2.86zM5.41 20L4 18.59l7.72-7.72 1.47 1.35L5.41 20z\"/>\n",
              "  </svg>\n",
              "      </button>\n",
              "      \n",
              "  <style>\n",
              "    .colab-df-container {\n",
              "      display:flex;\n",
              "      flex-wrap:wrap;\n",
              "      gap: 12px;\n",
              "    }\n",
              "\n",
              "    .colab-df-convert {\n",
              "      background-color: #E8F0FE;\n",
              "      border: none;\n",
              "      border-radius: 50%;\n",
              "      cursor: pointer;\n",
              "      display: none;\n",
              "      fill: #1967D2;\n",
              "      height: 32px;\n",
              "      padding: 0 0 0 0;\n",
              "      width: 32px;\n",
              "    }\n",
              "\n",
              "    .colab-df-convert:hover {\n",
              "      background-color: #E2EBFA;\n",
              "      box-shadow: 0px 1px 2px rgba(60, 64, 67, 0.3), 0px 1px 3px 1px rgba(60, 64, 67, 0.15);\n",
              "      fill: #174EA6;\n",
              "    }\n",
              "\n",
              "    [theme=dark] .colab-df-convert {\n",
              "      background-color: #3B4455;\n",
              "      fill: #D2E3FC;\n",
              "    }\n",
              "\n",
              "    [theme=dark] .colab-df-convert:hover {\n",
              "      background-color: #434B5C;\n",
              "      box-shadow: 0px 1px 3px 1px rgba(0, 0, 0, 0.15);\n",
              "      filter: drop-shadow(0px 1px 2px rgba(0, 0, 0, 0.3));\n",
              "      fill: #FFFFFF;\n",
              "    }\n",
              "  </style>\n",
              "\n",
              "      <script>\n",
              "        const buttonEl =\n",
              "          document.querySelector('#df-7e8494f9-db6b-4ac1-ba22-f98623b0ab16 button.colab-df-convert');\n",
              "        buttonEl.style.display =\n",
              "          google.colab.kernel.accessAllowed ? 'block' : 'none';\n",
              "\n",
              "        async function convertToInteractive(key) {\n",
              "          const element = document.querySelector('#df-7e8494f9-db6b-4ac1-ba22-f98623b0ab16');\n",
              "          const dataTable =\n",
              "            await google.colab.kernel.invokeFunction('convertToInteractive',\n",
              "                                                     [key], {});\n",
              "          if (!dataTable) return;\n",
              "\n",
              "          const docLinkHtml = 'Like what you see? Visit the ' +\n",
              "            '<a target=\"_blank\" href=https://colab.research.google.com/notebooks/data_table.ipynb>data table notebook</a>'\n",
              "            + ' to learn more about interactive tables.';\n",
              "          element.innerHTML = '';\n",
              "          dataTable['output_type'] = 'display_data';\n",
              "          await google.colab.output.renderOutput(dataTable, element);\n",
              "          const docLink = document.createElement('div');\n",
              "          docLink.innerHTML = docLinkHtml;\n",
              "          element.appendChild(docLink);\n",
              "        }\n",
              "      </script>\n",
              "    </div>\n",
              "  </div>\n",
              "  "
            ]
          },
          "metadata": {},
          "execution_count": 19
        }
      ],
      "source": [
        "conditions = \\\n",
        "[\n",
        "    (\n",
        "        (winners['finish'].transform(lambda x: x==1))& \\\n",
        "        (winners['project'].transform(lambda x: x==1))\n",
        "    ),\n",
        "    (\n",
        "        (winners['finish'].transform(lambda x: x == 1))& \\\n",
        "        (winners['project'].transform(lambda x: x!=1))\n",
        "    ),\n",
        "        (winners['finish'].transform(lambda x: x!=1))\n",
        "]\n",
        "values = ['peace', 'war', 'none']\n",
        "winners['strat'] = np.select(conditions, values)\n",
        "winners.head()"
      ]
    },
    {
      "cell_type": "code",
      "execution_count": 20,
      "metadata": {
        "scrolled": false,
        "colab": {
          "base_uri": "https://localhost:8080/",
          "height": 112
        },
        "id": "pNqCayZzVUGP",
        "outputId": "ecdacb04-a46a-4184-9a50-d608b46f7f72"
      },
      "outputs": [
        {
          "output_type": "execute_result",
          "data": {
            "text/plain": [
              "   strat  count\n",
              "0    war   3951\n",
              "1  peace   1866"
            ],
            "text/html": [
              "\n",
              "  <div id=\"df-7b19c524-6bed-4c20-b956-85861e5829a8\">\n",
              "    <div class=\"colab-df-container\">\n",
              "      <div>\n",
              "<style scoped>\n",
              "    .dataframe tbody tr th:only-of-type {\n",
              "        vertical-align: middle;\n",
              "    }\n",
              "\n",
              "    .dataframe tbody tr th {\n",
              "        vertical-align: top;\n",
              "    }\n",
              "\n",
              "    .dataframe thead th {\n",
              "        text-align: right;\n",
              "    }\n",
              "</style>\n",
              "<table border=\"1\" class=\"dataframe\">\n",
              "  <thead>\n",
              "    <tr style=\"text-align: right;\">\n",
              "      <th></th>\n",
              "      <th>strat</th>\n",
              "      <th>count</th>\n",
              "    </tr>\n",
              "  </thead>\n",
              "  <tbody>\n",
              "    <tr>\n",
              "      <th>0</th>\n",
              "      <td>war</td>\n",
              "      <td>3951</td>\n",
              "    </tr>\n",
              "    <tr>\n",
              "      <th>1</th>\n",
              "      <td>peace</td>\n",
              "      <td>1866</td>\n",
              "    </tr>\n",
              "  </tbody>\n",
              "</table>\n",
              "</div>\n",
              "      <button class=\"colab-df-convert\" onclick=\"convertToInteractive('df-7b19c524-6bed-4c20-b956-85861e5829a8')\"\n",
              "              title=\"Convert this dataframe to an interactive table.\"\n",
              "              style=\"display:none;\">\n",
              "        \n",
              "  <svg xmlns=\"http://www.w3.org/2000/svg\" height=\"24px\"viewBox=\"0 0 24 24\"\n",
              "       width=\"24px\">\n",
              "    <path d=\"M0 0h24v24H0V0z\" fill=\"none\"/>\n",
              "    <path d=\"M18.56 5.44l.94 2.06.94-2.06 2.06-.94-2.06-.94-.94-2.06-.94 2.06-2.06.94zm-11 1L8.5 8.5l.94-2.06 2.06-.94-2.06-.94L8.5 2.5l-.94 2.06-2.06.94zm10 10l.94 2.06.94-2.06 2.06-.94-2.06-.94-.94-2.06-.94 2.06-2.06.94z\"/><path d=\"M17.41 7.96l-1.37-1.37c-.4-.4-.92-.59-1.43-.59-.52 0-1.04.2-1.43.59L10.3 9.45l-7.72 7.72c-.78.78-.78 2.05 0 2.83L4 21.41c.39.39.9.59 1.41.59.51 0 1.02-.2 1.41-.59l7.78-7.78 2.81-2.81c.8-.78.8-2.07 0-2.86zM5.41 20L4 18.59l7.72-7.72 1.47 1.35L5.41 20z\"/>\n",
              "  </svg>\n",
              "      </button>\n",
              "      \n",
              "  <style>\n",
              "    .colab-df-container {\n",
              "      display:flex;\n",
              "      flex-wrap:wrap;\n",
              "      gap: 12px;\n",
              "    }\n",
              "\n",
              "    .colab-df-convert {\n",
              "      background-color: #E8F0FE;\n",
              "      border: none;\n",
              "      border-radius: 50%;\n",
              "      cursor: pointer;\n",
              "      display: none;\n",
              "      fill: #1967D2;\n",
              "      height: 32px;\n",
              "      padding: 0 0 0 0;\n",
              "      width: 32px;\n",
              "    }\n",
              "\n",
              "    .colab-df-convert:hover {\n",
              "      background-color: #E2EBFA;\n",
              "      box-shadow: 0px 1px 2px rgba(60, 64, 67, 0.3), 0px 1px 3px 1px rgba(60, 64, 67, 0.15);\n",
              "      fill: #174EA6;\n",
              "    }\n",
              "\n",
              "    [theme=dark] .colab-df-convert {\n",
              "      background-color: #3B4455;\n",
              "      fill: #D2E3FC;\n",
              "    }\n",
              "\n",
              "    [theme=dark] .colab-df-convert:hover {\n",
              "      background-color: #434B5C;\n",
              "      box-shadow: 0px 1px 3px 1px rgba(0, 0, 0, 0.15);\n",
              "      filter: drop-shadow(0px 1px 2px rgba(0, 0, 0, 0.3));\n",
              "      fill: #FFFFFF;\n",
              "    }\n",
              "  </style>\n",
              "\n",
              "      <script>\n",
              "        const buttonEl =\n",
              "          document.querySelector('#df-7b19c524-6bed-4c20-b956-85861e5829a8 button.colab-df-convert');\n",
              "        buttonEl.style.display =\n",
              "          google.colab.kernel.accessAllowed ? 'block' : 'none';\n",
              "\n",
              "        async function convertToInteractive(key) {\n",
              "          const element = document.querySelector('#df-7b19c524-6bed-4c20-b956-85861e5829a8');\n",
              "          const dataTable =\n",
              "            await google.colab.kernel.invokeFunction('convertToInteractive',\n",
              "                                                     [key], {});\n",
              "          if (!dataTable) return;\n",
              "\n",
              "          const docLinkHtml = 'Like what you see? Visit the ' +\n",
              "            '<a target=\"_blank\" href=https://colab.research.google.com/notebooks/data_table.ipynb>data table notebook</a>'\n",
              "            + ' to learn more about interactive tables.';\n",
              "          element.innerHTML = '';\n",
              "          dataTable['output_type'] = 'display_data';\n",
              "          await google.colab.output.renderOutput(dataTable, element);\n",
              "          const docLink = document.createElement('div');\n",
              "          docLink.innerHTML = docLinkHtml;\n",
              "          element.appendChild(docLink);\n",
              "        }\n",
              "      </script>\n",
              "    </div>\n",
              "  </div>\n",
              "  "
            ]
          },
          "metadata": {},
          "execution_count": 20
        }
      ],
      "source": [
        "strat_count = winners['strat'].value_counts().reset_index()\n",
        "strat_count = strat_count.rename(columns={'index': 'strat', 'strat': 'count'})\n",
        "strat_count"
      ]
    },
    {
      "cell_type": "code",
      "execution_count": 21,
      "metadata": {
        "colab": {
          "base_uri": "https://localhost:8080/",
          "height": 542
        },
        "id": "WUkDphplVUGQ",
        "outputId": "99122a93-a084-4b23-c463-b07e558d8332"
      },
      "outputs": [
        {
          "output_type": "display_data",
          "data": {
            "text/html": [
              "<html>\n",
              "<head><meta charset=\"utf-8\" /></head>\n",
              "<body>\n",
              "    <div>            <script src=\"https://cdnjs.cloudflare.com/ajax/libs/mathjax/2.7.5/MathJax.js?config=TeX-AMS-MML_SVG\"></script><script type=\"text/javascript\">if (window.MathJax && window.MathJax.Hub && window.MathJax.Hub.Config) {window.MathJax.Hub.Config({SVG: {font: \"STIX-Web\"}});}</script>                <script type=\"text/javascript\">window.PlotlyConfig = {MathJaxConfig: 'local'};</script>\n",
              "        <script src=\"https://cdn.plot.ly/plotly-2.18.2.min.js\"></script>                <div id=\"5b7d97f5-636f-46f7-be8f-a3d183ee1114\" class=\"plotly-graph-div\" style=\"height:525px; width:100%;\"></div>            <script type=\"text/javascript\">                                    window.PLOTLYENV=window.PLOTLYENV || {};                                    if (document.getElementById(\"5b7d97f5-636f-46f7-be8f-a3d183ee1114\")) {                    Plotly.newPlot(                        \"5b7d97f5-636f-46f7-be8f-a3d183ee1114\",                        [{\"alignmentgroup\":\"True\",\"hovertemplate\":\"\\u0421\\u0442\\u0440\\u0430\\u0442\\u0435\\u0433\\u0438\\u044f=%{x}<br>\\u041a\\u043e\\u043b\\u0438\\u0447\\u0435\\u0441\\u0442\\u0432\\u043e=%{text}<extra></extra>\",\"legendgroup\":\"\",\"marker\":{\"color\":\"#636efa\",\"pattern\":{\"shape\":\"\"}},\"name\":\"\",\"offsetgroup\":\"\",\"orientation\":\"v\",\"showlegend\":false,\"text\":[3951.0,1866.0],\"textposition\":\"auto\",\"x\":[\"war\",\"peace\"],\"xaxis\":\"x\",\"y\":[3951,1866],\"yaxis\":\"y\",\"type\":\"bar\"}],                        {\"template\":{\"data\":{\"histogram2dcontour\":[{\"type\":\"histogram2dcontour\",\"colorbar\":{\"outlinewidth\":0,\"ticks\":\"\"},\"colorscale\":[[0.0,\"#0d0887\"],[0.1111111111111111,\"#46039f\"],[0.2222222222222222,\"#7201a8\"],[0.3333333333333333,\"#9c179e\"],[0.4444444444444444,\"#bd3786\"],[0.5555555555555556,\"#d8576b\"],[0.6666666666666666,\"#ed7953\"],[0.7777777777777778,\"#fb9f3a\"],[0.8888888888888888,\"#fdca26\"],[1.0,\"#f0f921\"]]}],\"choropleth\":[{\"type\":\"choropleth\",\"colorbar\":{\"outlinewidth\":0,\"ticks\":\"\"}}],\"histogram2d\":[{\"type\":\"histogram2d\",\"colorbar\":{\"outlinewidth\":0,\"ticks\":\"\"},\"colorscale\":[[0.0,\"#0d0887\"],[0.1111111111111111,\"#46039f\"],[0.2222222222222222,\"#7201a8\"],[0.3333333333333333,\"#9c179e\"],[0.4444444444444444,\"#bd3786\"],[0.5555555555555556,\"#d8576b\"],[0.6666666666666666,\"#ed7953\"],[0.7777777777777778,\"#fb9f3a\"],[0.8888888888888888,\"#fdca26\"],[1.0,\"#f0f921\"]]}],\"heatmap\":[{\"type\":\"heatmap\",\"colorbar\":{\"outlinewidth\":0,\"ticks\":\"\"},\"colorscale\":[[0.0,\"#0d0887\"],[0.1111111111111111,\"#46039f\"],[0.2222222222222222,\"#7201a8\"],[0.3333333333333333,\"#9c179e\"],[0.4444444444444444,\"#bd3786\"],[0.5555555555555556,\"#d8576b\"],[0.6666666666666666,\"#ed7953\"],[0.7777777777777778,\"#fb9f3a\"],[0.8888888888888888,\"#fdca26\"],[1.0,\"#f0f921\"]]}],\"heatmapgl\":[{\"type\":\"heatmapgl\",\"colorbar\":{\"outlinewidth\":0,\"ticks\":\"\"},\"colorscale\":[[0.0,\"#0d0887\"],[0.1111111111111111,\"#46039f\"],[0.2222222222222222,\"#7201a8\"],[0.3333333333333333,\"#9c179e\"],[0.4444444444444444,\"#bd3786\"],[0.5555555555555556,\"#d8576b\"],[0.6666666666666666,\"#ed7953\"],[0.7777777777777778,\"#fb9f3a\"],[0.8888888888888888,\"#fdca26\"],[1.0,\"#f0f921\"]]}],\"contourcarpet\":[{\"type\":\"contourcarpet\",\"colorbar\":{\"outlinewidth\":0,\"ticks\":\"\"}}],\"contour\":[{\"type\":\"contour\",\"colorbar\":{\"outlinewidth\":0,\"ticks\":\"\"},\"colorscale\":[[0.0,\"#0d0887\"],[0.1111111111111111,\"#46039f\"],[0.2222222222222222,\"#7201a8\"],[0.3333333333333333,\"#9c179e\"],[0.4444444444444444,\"#bd3786\"],[0.5555555555555556,\"#d8576b\"],[0.6666666666666666,\"#ed7953\"],[0.7777777777777778,\"#fb9f3a\"],[0.8888888888888888,\"#fdca26\"],[1.0,\"#f0f921\"]]}],\"surface\":[{\"type\":\"surface\",\"colorbar\":{\"outlinewidth\":0,\"ticks\":\"\"},\"colorscale\":[[0.0,\"#0d0887\"],[0.1111111111111111,\"#46039f\"],[0.2222222222222222,\"#7201a8\"],[0.3333333333333333,\"#9c179e\"],[0.4444444444444444,\"#bd3786\"],[0.5555555555555556,\"#d8576b\"],[0.6666666666666666,\"#ed7953\"],[0.7777777777777778,\"#fb9f3a\"],[0.8888888888888888,\"#fdca26\"],[1.0,\"#f0f921\"]]}],\"mesh3d\":[{\"type\":\"mesh3d\",\"colorbar\":{\"outlinewidth\":0,\"ticks\":\"\"}}],\"scatter\":[{\"fillpattern\":{\"fillmode\":\"overlay\",\"size\":10,\"solidity\":0.2},\"type\":\"scatter\"}],\"parcoords\":[{\"type\":\"parcoords\",\"line\":{\"colorbar\":{\"outlinewidth\":0,\"ticks\":\"\"}}}],\"scatterpolargl\":[{\"type\":\"scatterpolargl\",\"marker\":{\"colorbar\":{\"outlinewidth\":0,\"ticks\":\"\"}}}],\"bar\":[{\"error_x\":{\"color\":\"#2a3f5f\"},\"error_y\":{\"color\":\"#2a3f5f\"},\"marker\":{\"line\":{\"color\":\"#E5ECF6\",\"width\":0.5},\"pattern\":{\"fillmode\":\"overlay\",\"size\":10,\"solidity\":0.2}},\"type\":\"bar\"}],\"scattergeo\":[{\"type\":\"scattergeo\",\"marker\":{\"colorbar\":{\"outlinewidth\":0,\"ticks\":\"\"}}}],\"scatterpolar\":[{\"type\":\"scatterpolar\",\"marker\":{\"colorbar\":{\"outlinewidth\":0,\"ticks\":\"\"}}}],\"histogram\":[{\"marker\":{\"pattern\":{\"fillmode\":\"overlay\",\"size\":10,\"solidity\":0.2}},\"type\":\"histogram\"}],\"scattergl\":[{\"type\":\"scattergl\",\"marker\":{\"colorbar\":{\"outlinewidth\":0,\"ticks\":\"\"}}}],\"scatter3d\":[{\"type\":\"scatter3d\",\"line\":{\"colorbar\":{\"outlinewidth\":0,\"ticks\":\"\"}},\"marker\":{\"colorbar\":{\"outlinewidth\":0,\"ticks\":\"\"}}}],\"scattermapbox\":[{\"type\":\"scattermapbox\",\"marker\":{\"colorbar\":{\"outlinewidth\":0,\"ticks\":\"\"}}}],\"scatterternary\":[{\"type\":\"scatterternary\",\"marker\":{\"colorbar\":{\"outlinewidth\":0,\"ticks\":\"\"}}}],\"scattercarpet\":[{\"type\":\"scattercarpet\",\"marker\":{\"colorbar\":{\"outlinewidth\":0,\"ticks\":\"\"}}}],\"carpet\":[{\"aaxis\":{\"endlinecolor\":\"#2a3f5f\",\"gridcolor\":\"white\",\"linecolor\":\"white\",\"minorgridcolor\":\"white\",\"startlinecolor\":\"#2a3f5f\"},\"baxis\":{\"endlinecolor\":\"#2a3f5f\",\"gridcolor\":\"white\",\"linecolor\":\"white\",\"minorgridcolor\":\"white\",\"startlinecolor\":\"#2a3f5f\"},\"type\":\"carpet\"}],\"table\":[{\"cells\":{\"fill\":{\"color\":\"#EBF0F8\"},\"line\":{\"color\":\"white\"}},\"header\":{\"fill\":{\"color\":\"#C8D4E3\"},\"line\":{\"color\":\"white\"}},\"type\":\"table\"}],\"barpolar\":[{\"marker\":{\"line\":{\"color\":\"#E5ECF6\",\"width\":0.5},\"pattern\":{\"fillmode\":\"overlay\",\"size\":10,\"solidity\":0.2}},\"type\":\"barpolar\"}],\"pie\":[{\"automargin\":true,\"type\":\"pie\"}]},\"layout\":{\"autotypenumbers\":\"strict\",\"colorway\":[\"#636efa\",\"#EF553B\",\"#00cc96\",\"#ab63fa\",\"#FFA15A\",\"#19d3f3\",\"#FF6692\",\"#B6E880\",\"#FF97FF\",\"#FECB52\"],\"font\":{\"color\":\"#2a3f5f\"},\"hovermode\":\"closest\",\"hoverlabel\":{\"align\":\"left\"},\"paper_bgcolor\":\"white\",\"plot_bgcolor\":\"#E5ECF6\",\"polar\":{\"bgcolor\":\"#E5ECF6\",\"angularaxis\":{\"gridcolor\":\"white\",\"linecolor\":\"white\",\"ticks\":\"\"},\"radialaxis\":{\"gridcolor\":\"white\",\"linecolor\":\"white\",\"ticks\":\"\"}},\"ternary\":{\"bgcolor\":\"#E5ECF6\",\"aaxis\":{\"gridcolor\":\"white\",\"linecolor\":\"white\",\"ticks\":\"\"},\"baxis\":{\"gridcolor\":\"white\",\"linecolor\":\"white\",\"ticks\":\"\"},\"caxis\":{\"gridcolor\":\"white\",\"linecolor\":\"white\",\"ticks\":\"\"}},\"coloraxis\":{\"colorbar\":{\"outlinewidth\":0,\"ticks\":\"\"}},\"colorscale\":{\"sequential\":[[0.0,\"#0d0887\"],[0.1111111111111111,\"#46039f\"],[0.2222222222222222,\"#7201a8\"],[0.3333333333333333,\"#9c179e\"],[0.4444444444444444,\"#bd3786\"],[0.5555555555555556,\"#d8576b\"],[0.6666666666666666,\"#ed7953\"],[0.7777777777777778,\"#fb9f3a\"],[0.8888888888888888,\"#fdca26\"],[1.0,\"#f0f921\"]],\"sequentialminus\":[[0.0,\"#0d0887\"],[0.1111111111111111,\"#46039f\"],[0.2222222222222222,\"#7201a8\"],[0.3333333333333333,\"#9c179e\"],[0.4444444444444444,\"#bd3786\"],[0.5555555555555556,\"#d8576b\"],[0.6666666666666666,\"#ed7953\"],[0.7777777777777778,\"#fb9f3a\"],[0.8888888888888888,\"#fdca26\"],[1.0,\"#f0f921\"]],\"diverging\":[[0,\"#8e0152\"],[0.1,\"#c51b7d\"],[0.2,\"#de77ae\"],[0.3,\"#f1b6da\"],[0.4,\"#fde0ef\"],[0.5,\"#f7f7f7\"],[0.6,\"#e6f5d0\"],[0.7,\"#b8e186\"],[0.8,\"#7fbc41\"],[0.9,\"#4d9221\"],[1,\"#276419\"]]},\"xaxis\":{\"gridcolor\":\"white\",\"linecolor\":\"white\",\"ticks\":\"\",\"title\":{\"standoff\":15},\"zerolinecolor\":\"white\",\"automargin\":true,\"zerolinewidth\":2},\"yaxis\":{\"gridcolor\":\"white\",\"linecolor\":\"white\",\"ticks\":\"\",\"title\":{\"standoff\":15},\"zerolinecolor\":\"white\",\"automargin\":true,\"zerolinewidth\":2},\"scene\":{\"xaxis\":{\"backgroundcolor\":\"#E5ECF6\",\"gridcolor\":\"white\",\"linecolor\":\"white\",\"showbackground\":true,\"ticks\":\"\",\"zerolinecolor\":\"white\",\"gridwidth\":2},\"yaxis\":{\"backgroundcolor\":\"#E5ECF6\",\"gridcolor\":\"white\",\"linecolor\":\"white\",\"showbackground\":true,\"ticks\":\"\",\"zerolinecolor\":\"white\",\"gridwidth\":2},\"zaxis\":{\"backgroundcolor\":\"#E5ECF6\",\"gridcolor\":\"white\",\"linecolor\":\"white\",\"showbackground\":true,\"ticks\":\"\",\"zerolinecolor\":\"white\",\"gridwidth\":2}},\"shapedefaults\":{\"line\":{\"color\":\"#2a3f5f\"}},\"annotationdefaults\":{\"arrowcolor\":\"#2a3f5f\",\"arrowhead\":0,\"arrowwidth\":1},\"geo\":{\"bgcolor\":\"white\",\"landcolor\":\"#E5ECF6\",\"subunitcolor\":\"white\",\"showland\":true,\"showlakes\":true,\"lakecolor\":\"white\"},\"title\":{\"x\":0.05},\"mapbox\":{\"style\":\"light\"}}},\"xaxis\":{\"anchor\":\"y\",\"domain\":[0.0,1.0],\"title\":{\"text\":\"\\u0421\\u0442\\u0440\\u0430\\u0442\\u0435\\u0433\\u0438\\u044f\"}},\"yaxis\":{\"anchor\":\"x\",\"domain\":[0.0,1.0],\"title\":{\"text\":\"\\u041a\\u043e\\u043b\\u0438\\u0447\\u0435\\u0441\\u0442\\u0432\\u043e\"}},\"legend\":{\"tracegroupgap\":0},\"title\":{\"text\":\"\\u0418\\u0433\\u0440\\u043e\\u043a\\u0438, \\u0437\\u0430\\u043a\\u043e\\u043d\\u0447\\u0438\\u0432\\u0448\\u0438\\u0435 \\u0443\\u0440\\u043e\\u0432\\u0435\\u043d\\u044c \\u0440\\u0430\\u0437\\u043d\\u044b\\u043c\\u0438 \\u0441\\u0442\\u0440\\u0430\\u0442\\u0435\\u0433\\u0438\\u044f\\u043c\\u0438\"},\"barmode\":\"relative\"},                        {\"responsive\": true}                    ).then(function(){\n",
              "                            \n",
              "var gd = document.getElementById('5b7d97f5-636f-46f7-be8f-a3d183ee1114');\n",
              "var x = new MutationObserver(function (mutations, observer) {{\n",
              "        var display = window.getComputedStyle(gd).display;\n",
              "        if (!display || display === 'none') {{\n",
              "            console.log([gd, 'removed!']);\n",
              "            Plotly.purge(gd);\n",
              "            observer.disconnect();\n",
              "        }}\n",
              "}});\n",
              "\n",
              "// Listen for the removal of the full notebook cells\n",
              "var notebookContainer = gd.closest('#notebook-container');\n",
              "if (notebookContainer) {{\n",
              "    x.observe(notebookContainer, {childList: true});\n",
              "}}\n",
              "\n",
              "// Listen for the clearing of the current output cell\n",
              "var outputEl = gd.closest('.output');\n",
              "if (outputEl) {{\n",
              "    x.observe(outputEl, {childList: true});\n",
              "}}\n",
              "\n",
              "                        })                };                            </script>        </div>\n",
              "</body>\n",
              "</html>"
            ]
          },
          "metadata": {}
        }
      ],
      "source": [
        "fig = px.bar(strat_count, x=\"strat\", y='count', text = 'count', title=\"Игроки, закончившие уровень разными стратегиями\", \\\n",
        "             labels={'count':'Количество','strat':'Стратегия'})\n",
        "fig.show()"
      ]
    },
    {
      "cell_type": "markdown",
      "metadata": {
        "id": "MQe3XhCXVUGQ"
      },
      "source": [
        "### Время прохождения уровня"
      ]
    },
    {
      "cell_type": "code",
      "execution_count": 22,
      "metadata": {
        "colab": {
          "base_uri": "https://localhost:8080/",
          "height": 395
        },
        "id": "sVYjJc2sVUGQ",
        "outputId": "0ab4cbb4-994d-4c78-c705-5367a0324fb4"
      },
      "outputs": [
        {
          "output_type": "display_data",
          "data": {
            "text/plain": [
              "                                user_id  finish  project strat  \\\n",
              "0  001d39dc-366c-4021-9604-6a3b9ff01e25     1.0      NaN   war   \n",
              "1  003ee7e8-6356-4286-a715-62f22a18d2a1     1.0      NaN   war   \n",
              "2  004074f8-251a-4776-922c-8348dca1a2f6     1.0      NaN   war   \n",
              "3  00464e5e-28ed-4be6-bf44-517ef7b3937b     1.0      NaN   war   \n",
              "4  0056c007-c082-43cc-bdef-afc49bca4cb9     1.0      NaN   war   \n",
              "\n",
              "               dt_min           dt_finish           lvl_dt  \n",
              "0 2020-05-05 21:02:05 2020-05-12 07:40:47  6 days 10:38:42  \n",
              "1 2020-05-05 08:31:04 2020-05-17 21:47:49 12 days 13:16:45  \n",
              "2 2020-05-04 01:07:35 2020-05-16 19:57:40 12 days 18:50:05  \n",
              "3 2020-05-04 08:35:29 2020-05-15 16:02:01 11 days 07:26:32  \n",
              "4 2020-05-10 11:49:47 2020-05-16 13:48:39  6 days 01:58:52  "
            ],
            "text/html": [
              "\n",
              "  <div id=\"df-8c30832a-6793-45aa-9213-4c039e5bd14d\">\n",
              "    <div class=\"colab-df-container\">\n",
              "      <div>\n",
              "<style scoped>\n",
              "    .dataframe tbody tr th:only-of-type {\n",
              "        vertical-align: middle;\n",
              "    }\n",
              "\n",
              "    .dataframe tbody tr th {\n",
              "        vertical-align: top;\n",
              "    }\n",
              "\n",
              "    .dataframe thead th {\n",
              "        text-align: right;\n",
              "    }\n",
              "</style>\n",
              "<table border=\"1\" class=\"dataframe\">\n",
              "  <thead>\n",
              "    <tr style=\"text-align: right;\">\n",
              "      <th></th>\n",
              "      <th>user_id</th>\n",
              "      <th>finish</th>\n",
              "      <th>project</th>\n",
              "      <th>strat</th>\n",
              "      <th>dt_min</th>\n",
              "      <th>dt_finish</th>\n",
              "      <th>lvl_dt</th>\n",
              "    </tr>\n",
              "  </thead>\n",
              "  <tbody>\n",
              "    <tr>\n",
              "      <th>0</th>\n",
              "      <td>001d39dc-366c-4021-9604-6a3b9ff01e25</td>\n",
              "      <td>1.0</td>\n",
              "      <td>NaN</td>\n",
              "      <td>war</td>\n",
              "      <td>2020-05-05 21:02:05</td>\n",
              "      <td>2020-05-12 07:40:47</td>\n",
              "      <td>6 days 10:38:42</td>\n",
              "    </tr>\n",
              "    <tr>\n",
              "      <th>1</th>\n",
              "      <td>003ee7e8-6356-4286-a715-62f22a18d2a1</td>\n",
              "      <td>1.0</td>\n",
              "      <td>NaN</td>\n",
              "      <td>war</td>\n",
              "      <td>2020-05-05 08:31:04</td>\n",
              "      <td>2020-05-17 21:47:49</td>\n",
              "      <td>12 days 13:16:45</td>\n",
              "    </tr>\n",
              "    <tr>\n",
              "      <th>2</th>\n",
              "      <td>004074f8-251a-4776-922c-8348dca1a2f6</td>\n",
              "      <td>1.0</td>\n",
              "      <td>NaN</td>\n",
              "      <td>war</td>\n",
              "      <td>2020-05-04 01:07:35</td>\n",
              "      <td>2020-05-16 19:57:40</td>\n",
              "      <td>12 days 18:50:05</td>\n",
              "    </tr>\n",
              "    <tr>\n",
              "      <th>3</th>\n",
              "      <td>00464e5e-28ed-4be6-bf44-517ef7b3937b</td>\n",
              "      <td>1.0</td>\n",
              "      <td>NaN</td>\n",
              "      <td>war</td>\n",
              "      <td>2020-05-04 08:35:29</td>\n",
              "      <td>2020-05-15 16:02:01</td>\n",
              "      <td>11 days 07:26:32</td>\n",
              "    </tr>\n",
              "    <tr>\n",
              "      <th>4</th>\n",
              "      <td>0056c007-c082-43cc-bdef-afc49bca4cb9</td>\n",
              "      <td>1.0</td>\n",
              "      <td>NaN</td>\n",
              "      <td>war</td>\n",
              "      <td>2020-05-10 11:49:47</td>\n",
              "      <td>2020-05-16 13:48:39</td>\n",
              "      <td>6 days 01:58:52</td>\n",
              "    </tr>\n",
              "  </tbody>\n",
              "</table>\n",
              "</div>\n",
              "      <button class=\"colab-df-convert\" onclick=\"convertToInteractive('df-8c30832a-6793-45aa-9213-4c039e5bd14d')\"\n",
              "              title=\"Convert this dataframe to an interactive table.\"\n",
              "              style=\"display:none;\">\n",
              "        \n",
              "  <svg xmlns=\"http://www.w3.org/2000/svg\" height=\"24px\"viewBox=\"0 0 24 24\"\n",
              "       width=\"24px\">\n",
              "    <path d=\"M0 0h24v24H0V0z\" fill=\"none\"/>\n",
              "    <path d=\"M18.56 5.44l.94 2.06.94-2.06 2.06-.94-2.06-.94-.94-2.06-.94 2.06-2.06.94zm-11 1L8.5 8.5l.94-2.06 2.06-.94-2.06-.94L8.5 2.5l-.94 2.06-2.06.94zm10 10l.94 2.06.94-2.06 2.06-.94-2.06-.94-.94-2.06-.94 2.06-2.06.94z\"/><path d=\"M17.41 7.96l-1.37-1.37c-.4-.4-.92-.59-1.43-.59-.52 0-1.04.2-1.43.59L10.3 9.45l-7.72 7.72c-.78.78-.78 2.05 0 2.83L4 21.41c.39.39.9.59 1.41.59.51 0 1.02-.2 1.41-.59l7.78-7.78 2.81-2.81c.8-.78.8-2.07 0-2.86zM5.41 20L4 18.59l7.72-7.72 1.47 1.35L5.41 20z\"/>\n",
              "  </svg>\n",
              "      </button>\n",
              "      \n",
              "  <style>\n",
              "    .colab-df-container {\n",
              "      display:flex;\n",
              "      flex-wrap:wrap;\n",
              "      gap: 12px;\n",
              "    }\n",
              "\n",
              "    .colab-df-convert {\n",
              "      background-color: #E8F0FE;\n",
              "      border: none;\n",
              "      border-radius: 50%;\n",
              "      cursor: pointer;\n",
              "      display: none;\n",
              "      fill: #1967D2;\n",
              "      height: 32px;\n",
              "      padding: 0 0 0 0;\n",
              "      width: 32px;\n",
              "    }\n",
              "\n",
              "    .colab-df-convert:hover {\n",
              "      background-color: #E2EBFA;\n",
              "      box-shadow: 0px 1px 2px rgba(60, 64, 67, 0.3), 0px 1px 3px 1px rgba(60, 64, 67, 0.15);\n",
              "      fill: #174EA6;\n",
              "    }\n",
              "\n",
              "    [theme=dark] .colab-df-convert {\n",
              "      background-color: #3B4455;\n",
              "      fill: #D2E3FC;\n",
              "    }\n",
              "\n",
              "    [theme=dark] .colab-df-convert:hover {\n",
              "      background-color: #434B5C;\n",
              "      box-shadow: 0px 1px 3px 1px rgba(0, 0, 0, 0.15);\n",
              "      filter: drop-shadow(0px 1px 2px rgba(0, 0, 0, 0.3));\n",
              "      fill: #FFFFFF;\n",
              "    }\n",
              "  </style>\n",
              "\n",
              "      <script>\n",
              "        const buttonEl =\n",
              "          document.querySelector('#df-8c30832a-6793-45aa-9213-4c039e5bd14d button.colab-df-convert');\n",
              "        buttonEl.style.display =\n",
              "          google.colab.kernel.accessAllowed ? 'block' : 'none';\n",
              "\n",
              "        async function convertToInteractive(key) {\n",
              "          const element = document.querySelector('#df-8c30832a-6793-45aa-9213-4c039e5bd14d');\n",
              "          const dataTable =\n",
              "            await google.colab.kernel.invokeFunction('convertToInteractive',\n",
              "                                                     [key], {});\n",
              "          if (!dataTable) return;\n",
              "\n",
              "          const docLinkHtml = 'Like what you see? Visit the ' +\n",
              "            '<a target=\"_blank\" href=https://colab.research.google.com/notebooks/data_table.ipynb>data table notebook</a>'\n",
              "            + ' to learn more about interactive tables.';\n",
              "          element.innerHTML = '';\n",
              "          dataTable['output_type'] = 'display_data';\n",
              "          await google.colab.output.renderOutput(dataTable, element);\n",
              "          const docLink = document.createElement('div');\n",
              "          docLink.innerHTML = docLinkHtml;\n",
              "          element.appendChild(docLink);\n",
              "        }\n",
              "      </script>\n",
              "    </div>\n",
              "  </div>\n",
              "  "
            ]
          },
          "metadata": {}
        },
        {
          "output_type": "display_data",
          "data": {
            "text/plain": [
              "                                user_id strat           lvl_dt  lvl_dt_sec\n",
              "0  001d39dc-366c-4021-9604-6a3b9ff01e25   war  6 days 10:38:42    556722.0\n",
              "1  003ee7e8-6356-4286-a715-62f22a18d2a1   war 12 days 13:16:45   1084605.0\n",
              "2  004074f8-251a-4776-922c-8348dca1a2f6   war 12 days 18:50:05   1104605.0\n",
              "3  00464e5e-28ed-4be6-bf44-517ef7b3937b   war 11 days 07:26:32    977192.0\n",
              "4  0056c007-c082-43cc-bdef-afc49bca4cb9   war  6 days 01:58:52    525532.0"
            ],
            "text/html": [
              "\n",
              "  <div id=\"df-88b12d5a-15e0-4f9b-83cc-7ed1e887765f\">\n",
              "    <div class=\"colab-df-container\">\n",
              "      <div>\n",
              "<style scoped>\n",
              "    .dataframe tbody tr th:only-of-type {\n",
              "        vertical-align: middle;\n",
              "    }\n",
              "\n",
              "    .dataframe tbody tr th {\n",
              "        vertical-align: top;\n",
              "    }\n",
              "\n",
              "    .dataframe thead th {\n",
              "        text-align: right;\n",
              "    }\n",
              "</style>\n",
              "<table border=\"1\" class=\"dataframe\">\n",
              "  <thead>\n",
              "    <tr style=\"text-align: right;\">\n",
              "      <th></th>\n",
              "      <th>user_id</th>\n",
              "      <th>strat</th>\n",
              "      <th>lvl_dt</th>\n",
              "      <th>lvl_dt_sec</th>\n",
              "    </tr>\n",
              "  </thead>\n",
              "  <tbody>\n",
              "    <tr>\n",
              "      <th>0</th>\n",
              "      <td>001d39dc-366c-4021-9604-6a3b9ff01e25</td>\n",
              "      <td>war</td>\n",
              "      <td>6 days 10:38:42</td>\n",
              "      <td>556722.0</td>\n",
              "    </tr>\n",
              "    <tr>\n",
              "      <th>1</th>\n",
              "      <td>003ee7e8-6356-4286-a715-62f22a18d2a1</td>\n",
              "      <td>war</td>\n",
              "      <td>12 days 13:16:45</td>\n",
              "      <td>1084605.0</td>\n",
              "    </tr>\n",
              "    <tr>\n",
              "      <th>2</th>\n",
              "      <td>004074f8-251a-4776-922c-8348dca1a2f6</td>\n",
              "      <td>war</td>\n",
              "      <td>12 days 18:50:05</td>\n",
              "      <td>1104605.0</td>\n",
              "    </tr>\n",
              "    <tr>\n",
              "      <th>3</th>\n",
              "      <td>00464e5e-28ed-4be6-bf44-517ef7b3937b</td>\n",
              "      <td>war</td>\n",
              "      <td>11 days 07:26:32</td>\n",
              "      <td>977192.0</td>\n",
              "    </tr>\n",
              "    <tr>\n",
              "      <th>4</th>\n",
              "      <td>0056c007-c082-43cc-bdef-afc49bca4cb9</td>\n",
              "      <td>war</td>\n",
              "      <td>6 days 01:58:52</td>\n",
              "      <td>525532.0</td>\n",
              "    </tr>\n",
              "  </tbody>\n",
              "</table>\n",
              "</div>\n",
              "      <button class=\"colab-df-convert\" onclick=\"convertToInteractive('df-88b12d5a-15e0-4f9b-83cc-7ed1e887765f')\"\n",
              "              title=\"Convert this dataframe to an interactive table.\"\n",
              "              style=\"display:none;\">\n",
              "        \n",
              "  <svg xmlns=\"http://www.w3.org/2000/svg\" height=\"24px\"viewBox=\"0 0 24 24\"\n",
              "       width=\"24px\">\n",
              "    <path d=\"M0 0h24v24H0V0z\" fill=\"none\"/>\n",
              "    <path d=\"M18.56 5.44l.94 2.06.94-2.06 2.06-.94-2.06-.94-.94-2.06-.94 2.06-2.06.94zm-11 1L8.5 8.5l.94-2.06 2.06-.94-2.06-.94L8.5 2.5l-.94 2.06-2.06.94zm10 10l.94 2.06.94-2.06 2.06-.94-2.06-.94-.94-2.06-.94 2.06-2.06.94z\"/><path d=\"M17.41 7.96l-1.37-1.37c-.4-.4-.92-.59-1.43-.59-.52 0-1.04.2-1.43.59L10.3 9.45l-7.72 7.72c-.78.78-.78 2.05 0 2.83L4 21.41c.39.39.9.59 1.41.59.51 0 1.02-.2 1.41-.59l7.78-7.78 2.81-2.81c.8-.78.8-2.07 0-2.86zM5.41 20L4 18.59l7.72-7.72 1.47 1.35L5.41 20z\"/>\n",
              "  </svg>\n",
              "      </button>\n",
              "      \n",
              "  <style>\n",
              "    .colab-df-container {\n",
              "      display:flex;\n",
              "      flex-wrap:wrap;\n",
              "      gap: 12px;\n",
              "    }\n",
              "\n",
              "    .colab-df-convert {\n",
              "      background-color: #E8F0FE;\n",
              "      border: none;\n",
              "      border-radius: 50%;\n",
              "      cursor: pointer;\n",
              "      display: none;\n",
              "      fill: #1967D2;\n",
              "      height: 32px;\n",
              "      padding: 0 0 0 0;\n",
              "      width: 32px;\n",
              "    }\n",
              "\n",
              "    .colab-df-convert:hover {\n",
              "      background-color: #E2EBFA;\n",
              "      box-shadow: 0px 1px 2px rgba(60, 64, 67, 0.3), 0px 1px 3px 1px rgba(60, 64, 67, 0.15);\n",
              "      fill: #174EA6;\n",
              "    }\n",
              "\n",
              "    [theme=dark] .colab-df-convert {\n",
              "      background-color: #3B4455;\n",
              "      fill: #D2E3FC;\n",
              "    }\n",
              "\n",
              "    [theme=dark] .colab-df-convert:hover {\n",
              "      background-color: #434B5C;\n",
              "      box-shadow: 0px 1px 3px 1px rgba(0, 0, 0, 0.15);\n",
              "      filter: drop-shadow(0px 1px 2px rgba(0, 0, 0, 0.3));\n",
              "      fill: #FFFFFF;\n",
              "    }\n",
              "  </style>\n",
              "\n",
              "      <script>\n",
              "        const buttonEl =\n",
              "          document.querySelector('#df-88b12d5a-15e0-4f9b-83cc-7ed1e887765f button.colab-df-convert');\n",
              "        buttonEl.style.display =\n",
              "          google.colab.kernel.accessAllowed ? 'block' : 'none';\n",
              "\n",
              "        async function convertToInteractive(key) {\n",
              "          const element = document.querySelector('#df-88b12d5a-15e0-4f9b-83cc-7ed1e887765f');\n",
              "          const dataTable =\n",
              "            await google.colab.kernel.invokeFunction('convertToInteractive',\n",
              "                                                     [key], {});\n",
              "          if (!dataTable) return;\n",
              "\n",
              "          const docLinkHtml = 'Like what you see? Visit the ' +\n",
              "            '<a target=\"_blank\" href=https://colab.research.google.com/notebooks/data_table.ipynb>data table notebook</a>'\n",
              "            + ' to learn more about interactive tables.';\n",
              "          element.innerHTML = '';\n",
              "          dataTable['output_type'] = 'display_data';\n",
              "          await google.colab.output.renderOutput(dataTable, element);\n",
              "          const docLink = document.createElement('div');\n",
              "          docLink.innerHTML = docLinkHtml;\n",
              "          element.appendChild(docLink);\n",
              "        }\n",
              "      </script>\n",
              "    </div>\n",
              "  </div>\n",
              "  "
            ]
          },
          "metadata": {}
        }
      ],
      "source": [
        "winners['dt_min'] = actions.groupby('user_id')['dt'].min()\n",
        "dt_finish = actions.groupby(['user_id','event'])['dt'].first().to_frame().reset_index()\n",
        "dt_finish = dt_finish[dt_finish['event']=='finished_stage_1'][['user_id','dt']]\n",
        "win = pd.merge(winners, dt_finish, on = 'user_id')\n",
        "win = win.rename(columns={'dt': 'dt_finish'})\n",
        "win['lvl_dt'] = win['dt_finish'] - win['dt_min']\n",
        "win_short = win[['user_id','strat','lvl_dt']]\n",
        "#секунды для проверки гипотезы\n",
        "win_short['lvl_dt_sec'] = win_short['lvl_dt'].dt.total_seconds()\n",
        "display(win.head())\n",
        "display(win_short.head())"
      ]
    },
    {
      "cell_type": "markdown",
      "metadata": {
        "id": "k4q7H6Z6VUGQ"
      },
      "source": [
        "Найдем общее и среднее время прохождения уровня, в зависимости от стратегии."
      ]
    },
    {
      "cell_type": "code",
      "execution_count": 23,
      "metadata": {
        "scrolled": true,
        "colab": {
          "base_uri": "https://localhost:8080/",
          "height": 112
        },
        "id": "4ZoUDE8dVUGR",
        "outputId": "fa6e2901-5117-4f1e-e544-e031adb3da70"
      },
      "outputs": [
        {
          "output_type": "execute_result",
          "data": {
            "text/plain": [
              "   strat              lvl_dt\n",
              "0  peace 25114 days 07:28:06\n",
              "1    war 43873 days 15:55:25"
            ],
            "text/html": [
              "\n",
              "  <div id=\"df-499cd600-3520-485a-aea5-d1bd21025a91\">\n",
              "    <div class=\"colab-df-container\">\n",
              "      <div>\n",
              "<style scoped>\n",
              "    .dataframe tbody tr th:only-of-type {\n",
              "        vertical-align: middle;\n",
              "    }\n",
              "\n",
              "    .dataframe tbody tr th {\n",
              "        vertical-align: top;\n",
              "    }\n",
              "\n",
              "    .dataframe thead th {\n",
              "        text-align: right;\n",
              "    }\n",
              "</style>\n",
              "<table border=\"1\" class=\"dataframe\">\n",
              "  <thead>\n",
              "    <tr style=\"text-align: right;\">\n",
              "      <th></th>\n",
              "      <th>strat</th>\n",
              "      <th>lvl_dt</th>\n",
              "    </tr>\n",
              "  </thead>\n",
              "  <tbody>\n",
              "    <tr>\n",
              "      <th>0</th>\n",
              "      <td>peace</td>\n",
              "      <td>25114 days 07:28:06</td>\n",
              "    </tr>\n",
              "    <tr>\n",
              "      <th>1</th>\n",
              "      <td>war</td>\n",
              "      <td>43873 days 15:55:25</td>\n",
              "    </tr>\n",
              "  </tbody>\n",
              "</table>\n",
              "</div>\n",
              "      <button class=\"colab-df-convert\" onclick=\"convertToInteractive('df-499cd600-3520-485a-aea5-d1bd21025a91')\"\n",
              "              title=\"Convert this dataframe to an interactive table.\"\n",
              "              style=\"display:none;\">\n",
              "        \n",
              "  <svg xmlns=\"http://www.w3.org/2000/svg\" height=\"24px\"viewBox=\"0 0 24 24\"\n",
              "       width=\"24px\">\n",
              "    <path d=\"M0 0h24v24H0V0z\" fill=\"none\"/>\n",
              "    <path d=\"M18.56 5.44l.94 2.06.94-2.06 2.06-.94-2.06-.94-.94-2.06-.94 2.06-2.06.94zm-11 1L8.5 8.5l.94-2.06 2.06-.94-2.06-.94L8.5 2.5l-.94 2.06-2.06.94zm10 10l.94 2.06.94-2.06 2.06-.94-2.06-.94-.94-2.06-.94 2.06-2.06.94z\"/><path d=\"M17.41 7.96l-1.37-1.37c-.4-.4-.92-.59-1.43-.59-.52 0-1.04.2-1.43.59L10.3 9.45l-7.72 7.72c-.78.78-.78 2.05 0 2.83L4 21.41c.39.39.9.59 1.41.59.51 0 1.02-.2 1.41-.59l7.78-7.78 2.81-2.81c.8-.78.8-2.07 0-2.86zM5.41 20L4 18.59l7.72-7.72 1.47 1.35L5.41 20z\"/>\n",
              "  </svg>\n",
              "      </button>\n",
              "      \n",
              "  <style>\n",
              "    .colab-df-container {\n",
              "      display:flex;\n",
              "      flex-wrap:wrap;\n",
              "      gap: 12px;\n",
              "    }\n",
              "\n",
              "    .colab-df-convert {\n",
              "      background-color: #E8F0FE;\n",
              "      border: none;\n",
              "      border-radius: 50%;\n",
              "      cursor: pointer;\n",
              "      display: none;\n",
              "      fill: #1967D2;\n",
              "      height: 32px;\n",
              "      padding: 0 0 0 0;\n",
              "      width: 32px;\n",
              "    }\n",
              "\n",
              "    .colab-df-convert:hover {\n",
              "      background-color: #E2EBFA;\n",
              "      box-shadow: 0px 1px 2px rgba(60, 64, 67, 0.3), 0px 1px 3px 1px rgba(60, 64, 67, 0.15);\n",
              "      fill: #174EA6;\n",
              "    }\n",
              "\n",
              "    [theme=dark] .colab-df-convert {\n",
              "      background-color: #3B4455;\n",
              "      fill: #D2E3FC;\n",
              "    }\n",
              "\n",
              "    [theme=dark] .colab-df-convert:hover {\n",
              "      background-color: #434B5C;\n",
              "      box-shadow: 0px 1px 3px 1px rgba(0, 0, 0, 0.15);\n",
              "      filter: drop-shadow(0px 1px 2px rgba(0, 0, 0, 0.3));\n",
              "      fill: #FFFFFF;\n",
              "    }\n",
              "  </style>\n",
              "\n",
              "      <script>\n",
              "        const buttonEl =\n",
              "          document.querySelector('#df-499cd600-3520-485a-aea5-d1bd21025a91 button.colab-df-convert');\n",
              "        buttonEl.style.display =\n",
              "          google.colab.kernel.accessAllowed ? 'block' : 'none';\n",
              "\n",
              "        async function convertToInteractive(key) {\n",
              "          const element = document.querySelector('#df-499cd600-3520-485a-aea5-d1bd21025a91');\n",
              "          const dataTable =\n",
              "            await google.colab.kernel.invokeFunction('convertToInteractive',\n",
              "                                                     [key], {});\n",
              "          if (!dataTable) return;\n",
              "\n",
              "          const docLinkHtml = 'Like what you see? Visit the ' +\n",
              "            '<a target=\"_blank\" href=https://colab.research.google.com/notebooks/data_table.ipynb>data table notebook</a>'\n",
              "            + ' to learn more about interactive tables.';\n",
              "          element.innerHTML = '';\n",
              "          dataTable['output_type'] = 'display_data';\n",
              "          await google.colab.output.renderOutput(dataTable, element);\n",
              "          const docLink = document.createElement('div');\n",
              "          docLink.innerHTML = docLinkHtml;\n",
              "          element.appendChild(docLink);\n",
              "        }\n",
              "      </script>\n",
              "    </div>\n",
              "  </div>\n",
              "  "
            ]
          },
          "metadata": {},
          "execution_count": 23
        }
      ],
      "source": [
        "win_short.groupby('strat')['lvl_dt'].sum().reset_index()"
      ]
    },
    {
      "cell_type": "markdown",
      "metadata": {
        "id": "kUVoRt72VUGR"
      },
      "source": [
        "Секунды понадобятся дял проверки гипотезы*"
      ]
    },
    {
      "cell_type": "code",
      "execution_count": 24,
      "metadata": {
        "scrolled": true,
        "colab": {
          "base_uri": "https://localhost:8080/"
        },
        "id": "9wo6uNwZVUGR",
        "outputId": "2473b46a-910c-4cb9-f43b-8357d6d2434e"
      },
      "outputs": [
        {
          "output_type": "execute_result",
          "data": {
            "text/plain": [
              "strat\n",
              "peace    1125941.0\n",
              "war       932497.0\n",
              "Name: lvl_dt_sec, dtype: float64"
            ]
          },
          "metadata": {},
          "execution_count": 24
        }
      ],
      "source": [
        "win_short.groupby('strat')['lvl_dt_sec'].median()"
      ]
    },
    {
      "cell_type": "markdown",
      "metadata": {
        "id": "xARas0qnVUGR"
      },
      "source": [
        "А часы для удобства"
      ]
    },
    {
      "cell_type": "code",
      "execution_count": 25,
      "metadata": {
        "colab": {
          "base_uri": "https://localhost:8080/",
          "height": 112
        },
        "id": "tS2dzmIsVUGR",
        "outputId": "07fb8b2e-bae6-4ab1-d1a5-ba9156fbd380"
      },
      "outputs": [
        {
          "output_type": "execute_result",
          "data": {
            "text/plain": [
              "   strat  lvl_dt_sec\n",
              "0  peace      312.76\n",
              "1    war      259.03"
            ],
            "text/html": [
              "\n",
              "  <div id=\"df-c2bea201-d513-4952-8495-40795ca6ca55\">\n",
              "    <div class=\"colab-df-container\">\n",
              "      <div>\n",
              "<style scoped>\n",
              "    .dataframe tbody tr th:only-of-type {\n",
              "        vertical-align: middle;\n",
              "    }\n",
              "\n",
              "    .dataframe tbody tr th {\n",
              "        vertical-align: top;\n",
              "    }\n",
              "\n",
              "    .dataframe thead th {\n",
              "        text-align: right;\n",
              "    }\n",
              "</style>\n",
              "<table border=\"1\" class=\"dataframe\">\n",
              "  <thead>\n",
              "    <tr style=\"text-align: right;\">\n",
              "      <th></th>\n",
              "      <th>strat</th>\n",
              "      <th>lvl_dt_sec</th>\n",
              "    </tr>\n",
              "  </thead>\n",
              "  <tbody>\n",
              "    <tr>\n",
              "      <th>0</th>\n",
              "      <td>peace</td>\n",
              "      <td>312.76</td>\n",
              "    </tr>\n",
              "    <tr>\n",
              "      <th>1</th>\n",
              "      <td>war</td>\n",
              "      <td>259.03</td>\n",
              "    </tr>\n",
              "  </tbody>\n",
              "</table>\n",
              "</div>\n",
              "      <button class=\"colab-df-convert\" onclick=\"convertToInteractive('df-c2bea201-d513-4952-8495-40795ca6ca55')\"\n",
              "              title=\"Convert this dataframe to an interactive table.\"\n",
              "              style=\"display:none;\">\n",
              "        \n",
              "  <svg xmlns=\"http://www.w3.org/2000/svg\" height=\"24px\"viewBox=\"0 0 24 24\"\n",
              "       width=\"24px\">\n",
              "    <path d=\"M0 0h24v24H0V0z\" fill=\"none\"/>\n",
              "    <path d=\"M18.56 5.44l.94 2.06.94-2.06 2.06-.94-2.06-.94-.94-2.06-.94 2.06-2.06.94zm-11 1L8.5 8.5l.94-2.06 2.06-.94-2.06-.94L8.5 2.5l-.94 2.06-2.06.94zm10 10l.94 2.06.94-2.06 2.06-.94-2.06-.94-.94-2.06-.94 2.06-2.06.94z\"/><path d=\"M17.41 7.96l-1.37-1.37c-.4-.4-.92-.59-1.43-.59-.52 0-1.04.2-1.43.59L10.3 9.45l-7.72 7.72c-.78.78-.78 2.05 0 2.83L4 21.41c.39.39.9.59 1.41.59.51 0 1.02-.2 1.41-.59l7.78-7.78 2.81-2.81c.8-.78.8-2.07 0-2.86zM5.41 20L4 18.59l7.72-7.72 1.47 1.35L5.41 20z\"/>\n",
              "  </svg>\n",
              "      </button>\n",
              "      \n",
              "  <style>\n",
              "    .colab-df-container {\n",
              "      display:flex;\n",
              "      flex-wrap:wrap;\n",
              "      gap: 12px;\n",
              "    }\n",
              "\n",
              "    .colab-df-convert {\n",
              "      background-color: #E8F0FE;\n",
              "      border: none;\n",
              "      border-radius: 50%;\n",
              "      cursor: pointer;\n",
              "      display: none;\n",
              "      fill: #1967D2;\n",
              "      height: 32px;\n",
              "      padding: 0 0 0 0;\n",
              "      width: 32px;\n",
              "    }\n",
              "\n",
              "    .colab-df-convert:hover {\n",
              "      background-color: #E2EBFA;\n",
              "      box-shadow: 0px 1px 2px rgba(60, 64, 67, 0.3), 0px 1px 3px 1px rgba(60, 64, 67, 0.15);\n",
              "      fill: #174EA6;\n",
              "    }\n",
              "\n",
              "    [theme=dark] .colab-df-convert {\n",
              "      background-color: #3B4455;\n",
              "      fill: #D2E3FC;\n",
              "    }\n",
              "\n",
              "    [theme=dark] .colab-df-convert:hover {\n",
              "      background-color: #434B5C;\n",
              "      box-shadow: 0px 1px 3px 1px rgba(0, 0, 0, 0.15);\n",
              "      filter: drop-shadow(0px 1px 2px rgba(0, 0, 0, 0.3));\n",
              "      fill: #FFFFFF;\n",
              "    }\n",
              "  </style>\n",
              "\n",
              "      <script>\n",
              "        const buttonEl =\n",
              "          document.querySelector('#df-c2bea201-d513-4952-8495-40795ca6ca55 button.colab-df-convert');\n",
              "        buttonEl.style.display =\n",
              "          google.colab.kernel.accessAllowed ? 'block' : 'none';\n",
              "\n",
              "        async function convertToInteractive(key) {\n",
              "          const element = document.querySelector('#df-c2bea201-d513-4952-8495-40795ca6ca55');\n",
              "          const dataTable =\n",
              "            await google.colab.kernel.invokeFunction('convertToInteractive',\n",
              "                                                     [key], {});\n",
              "          if (!dataTable) return;\n",
              "\n",
              "          const docLinkHtml = 'Like what you see? Visit the ' +\n",
              "            '<a target=\"_blank\" href=https://colab.research.google.com/notebooks/data_table.ipynb>data table notebook</a>'\n",
              "            + ' to learn more about interactive tables.';\n",
              "          element.innerHTML = '';\n",
              "          dataTable['output_type'] = 'display_data';\n",
              "          await google.colab.output.renderOutput(dataTable, element);\n",
              "          const docLink = document.createElement('div');\n",
              "          docLink.innerHTML = docLinkHtml;\n",
              "          element.appendChild(docLink);\n",
              "        }\n",
              "      </script>\n",
              "    </div>\n",
              "  </div>\n",
              "  "
            ]
          },
          "metadata": {},
          "execution_count": 25
        }
      ],
      "source": [
        "(win_short.groupby('strat')['lvl_dt_sec'].median()/3600).round(2).reset_index()"
      ]
    },
    {
      "cell_type": "code",
      "execution_count": 26,
      "metadata": {
        "colab": {
          "base_uri": "https://localhost:8080/",
          "height": 542
        },
        "id": "wxrr0QxeVUGS",
        "outputId": "f3b80b82-02da-43f1-a009-4403db55b8d2"
      },
      "outputs": [
        {
          "output_type": "display_data",
          "data": {
            "text/html": [
              "<html>\n",
              "<head><meta charset=\"utf-8\" /></head>\n",
              "<body>\n",
              "    <div>            <script src=\"https://cdnjs.cloudflare.com/ajax/libs/mathjax/2.7.5/MathJax.js?config=TeX-AMS-MML_SVG\"></script><script type=\"text/javascript\">if (window.MathJax && window.MathJax.Hub && window.MathJax.Hub.Config) {window.MathJax.Hub.Config({SVG: {font: \"STIX-Web\"}});}</script>                <script type=\"text/javascript\">window.PlotlyConfig = {MathJaxConfig: 'local'};</script>\n",
              "        <script src=\"https://cdn.plot.ly/plotly-2.18.2.min.js\"></script>                <div id=\"9adc0330-af70-43d9-a7ca-863d4a7cf063\" class=\"plotly-graph-div\" style=\"height:525px; width:100%;\"></div>            <script type=\"text/javascript\">                                    window.PLOTLYENV=window.PLOTLYENV || {};                                    if (document.getElementById(\"9adc0330-af70-43d9-a7ca-863d4a7cf063\")) {                    Plotly.newPlot(                        \"9adc0330-af70-43d9-a7ca-863d4a7cf063\",                        [{\"alignmentgroup\":\"True\",\"hovertemplate\":\"\\u0421\\u0442\\u0440\\u0430\\u0442\\u0435\\u0433\\u0438\\u044f=%{x}<br>\\u0412\\u0440\\u0435\\u043c\\u044f, \\u0447=%{text}<extra></extra>\",\"legendgroup\":\"\",\"marker\":{\"color\":\"#636efa\",\"pattern\":{\"shape\":\"\"}},\"name\":\"\",\"offsetgroup\":\"\",\"orientation\":\"v\",\"showlegend\":false,\"text\":[312.76,259.03],\"textposition\":\"auto\",\"x\":[\"peace\",\"war\"],\"xaxis\":\"x\",\"y\":[312.76,259.03],\"yaxis\":\"y\",\"type\":\"bar\"}],                        {\"template\":{\"data\":{\"histogram2dcontour\":[{\"type\":\"histogram2dcontour\",\"colorbar\":{\"outlinewidth\":0,\"ticks\":\"\"},\"colorscale\":[[0.0,\"#0d0887\"],[0.1111111111111111,\"#46039f\"],[0.2222222222222222,\"#7201a8\"],[0.3333333333333333,\"#9c179e\"],[0.4444444444444444,\"#bd3786\"],[0.5555555555555556,\"#d8576b\"],[0.6666666666666666,\"#ed7953\"],[0.7777777777777778,\"#fb9f3a\"],[0.8888888888888888,\"#fdca26\"],[1.0,\"#f0f921\"]]}],\"choropleth\":[{\"type\":\"choropleth\",\"colorbar\":{\"outlinewidth\":0,\"ticks\":\"\"}}],\"histogram2d\":[{\"type\":\"histogram2d\",\"colorbar\":{\"outlinewidth\":0,\"ticks\":\"\"},\"colorscale\":[[0.0,\"#0d0887\"],[0.1111111111111111,\"#46039f\"],[0.2222222222222222,\"#7201a8\"],[0.3333333333333333,\"#9c179e\"],[0.4444444444444444,\"#bd3786\"],[0.5555555555555556,\"#d8576b\"],[0.6666666666666666,\"#ed7953\"],[0.7777777777777778,\"#fb9f3a\"],[0.8888888888888888,\"#fdca26\"],[1.0,\"#f0f921\"]]}],\"heatmap\":[{\"type\":\"heatmap\",\"colorbar\":{\"outlinewidth\":0,\"ticks\":\"\"},\"colorscale\":[[0.0,\"#0d0887\"],[0.1111111111111111,\"#46039f\"],[0.2222222222222222,\"#7201a8\"],[0.3333333333333333,\"#9c179e\"],[0.4444444444444444,\"#bd3786\"],[0.5555555555555556,\"#d8576b\"],[0.6666666666666666,\"#ed7953\"],[0.7777777777777778,\"#fb9f3a\"],[0.8888888888888888,\"#fdca26\"],[1.0,\"#f0f921\"]]}],\"heatmapgl\":[{\"type\":\"heatmapgl\",\"colorbar\":{\"outlinewidth\":0,\"ticks\":\"\"},\"colorscale\":[[0.0,\"#0d0887\"],[0.1111111111111111,\"#46039f\"],[0.2222222222222222,\"#7201a8\"],[0.3333333333333333,\"#9c179e\"],[0.4444444444444444,\"#bd3786\"],[0.5555555555555556,\"#d8576b\"],[0.6666666666666666,\"#ed7953\"],[0.7777777777777778,\"#fb9f3a\"],[0.8888888888888888,\"#fdca26\"],[1.0,\"#f0f921\"]]}],\"contourcarpet\":[{\"type\":\"contourcarpet\",\"colorbar\":{\"outlinewidth\":0,\"ticks\":\"\"}}],\"contour\":[{\"type\":\"contour\",\"colorbar\":{\"outlinewidth\":0,\"ticks\":\"\"},\"colorscale\":[[0.0,\"#0d0887\"],[0.1111111111111111,\"#46039f\"],[0.2222222222222222,\"#7201a8\"],[0.3333333333333333,\"#9c179e\"],[0.4444444444444444,\"#bd3786\"],[0.5555555555555556,\"#d8576b\"],[0.6666666666666666,\"#ed7953\"],[0.7777777777777778,\"#fb9f3a\"],[0.8888888888888888,\"#fdca26\"],[1.0,\"#f0f921\"]]}],\"surface\":[{\"type\":\"surface\",\"colorbar\":{\"outlinewidth\":0,\"ticks\":\"\"},\"colorscale\":[[0.0,\"#0d0887\"],[0.1111111111111111,\"#46039f\"],[0.2222222222222222,\"#7201a8\"],[0.3333333333333333,\"#9c179e\"],[0.4444444444444444,\"#bd3786\"],[0.5555555555555556,\"#d8576b\"],[0.6666666666666666,\"#ed7953\"],[0.7777777777777778,\"#fb9f3a\"],[0.8888888888888888,\"#fdca26\"],[1.0,\"#f0f921\"]]}],\"mesh3d\":[{\"type\":\"mesh3d\",\"colorbar\":{\"outlinewidth\":0,\"ticks\":\"\"}}],\"scatter\":[{\"fillpattern\":{\"fillmode\":\"overlay\",\"size\":10,\"solidity\":0.2},\"type\":\"scatter\"}],\"parcoords\":[{\"type\":\"parcoords\",\"line\":{\"colorbar\":{\"outlinewidth\":0,\"ticks\":\"\"}}}],\"scatterpolargl\":[{\"type\":\"scatterpolargl\",\"marker\":{\"colorbar\":{\"outlinewidth\":0,\"ticks\":\"\"}}}],\"bar\":[{\"error_x\":{\"color\":\"#2a3f5f\"},\"error_y\":{\"color\":\"#2a3f5f\"},\"marker\":{\"line\":{\"color\":\"#E5ECF6\",\"width\":0.5},\"pattern\":{\"fillmode\":\"overlay\",\"size\":10,\"solidity\":0.2}},\"type\":\"bar\"}],\"scattergeo\":[{\"type\":\"scattergeo\",\"marker\":{\"colorbar\":{\"outlinewidth\":0,\"ticks\":\"\"}}}],\"scatterpolar\":[{\"type\":\"scatterpolar\",\"marker\":{\"colorbar\":{\"outlinewidth\":0,\"ticks\":\"\"}}}],\"histogram\":[{\"marker\":{\"pattern\":{\"fillmode\":\"overlay\",\"size\":10,\"solidity\":0.2}},\"type\":\"histogram\"}],\"scattergl\":[{\"type\":\"scattergl\",\"marker\":{\"colorbar\":{\"outlinewidth\":0,\"ticks\":\"\"}}}],\"scatter3d\":[{\"type\":\"scatter3d\",\"line\":{\"colorbar\":{\"outlinewidth\":0,\"ticks\":\"\"}},\"marker\":{\"colorbar\":{\"outlinewidth\":0,\"ticks\":\"\"}}}],\"scattermapbox\":[{\"type\":\"scattermapbox\",\"marker\":{\"colorbar\":{\"outlinewidth\":0,\"ticks\":\"\"}}}],\"scatterternary\":[{\"type\":\"scatterternary\",\"marker\":{\"colorbar\":{\"outlinewidth\":0,\"ticks\":\"\"}}}],\"scattercarpet\":[{\"type\":\"scattercarpet\",\"marker\":{\"colorbar\":{\"outlinewidth\":0,\"ticks\":\"\"}}}],\"carpet\":[{\"aaxis\":{\"endlinecolor\":\"#2a3f5f\",\"gridcolor\":\"white\",\"linecolor\":\"white\",\"minorgridcolor\":\"white\",\"startlinecolor\":\"#2a3f5f\"},\"baxis\":{\"endlinecolor\":\"#2a3f5f\",\"gridcolor\":\"white\",\"linecolor\":\"white\",\"minorgridcolor\":\"white\",\"startlinecolor\":\"#2a3f5f\"},\"type\":\"carpet\"}],\"table\":[{\"cells\":{\"fill\":{\"color\":\"#EBF0F8\"},\"line\":{\"color\":\"white\"}},\"header\":{\"fill\":{\"color\":\"#C8D4E3\"},\"line\":{\"color\":\"white\"}},\"type\":\"table\"}],\"barpolar\":[{\"marker\":{\"line\":{\"color\":\"#E5ECF6\",\"width\":0.5},\"pattern\":{\"fillmode\":\"overlay\",\"size\":10,\"solidity\":0.2}},\"type\":\"barpolar\"}],\"pie\":[{\"automargin\":true,\"type\":\"pie\"}]},\"layout\":{\"autotypenumbers\":\"strict\",\"colorway\":[\"#636efa\",\"#EF553B\",\"#00cc96\",\"#ab63fa\",\"#FFA15A\",\"#19d3f3\",\"#FF6692\",\"#B6E880\",\"#FF97FF\",\"#FECB52\"],\"font\":{\"color\":\"#2a3f5f\"},\"hovermode\":\"closest\",\"hoverlabel\":{\"align\":\"left\"},\"paper_bgcolor\":\"white\",\"plot_bgcolor\":\"#E5ECF6\",\"polar\":{\"bgcolor\":\"#E5ECF6\",\"angularaxis\":{\"gridcolor\":\"white\",\"linecolor\":\"white\",\"ticks\":\"\"},\"radialaxis\":{\"gridcolor\":\"white\",\"linecolor\":\"white\",\"ticks\":\"\"}},\"ternary\":{\"bgcolor\":\"#E5ECF6\",\"aaxis\":{\"gridcolor\":\"white\",\"linecolor\":\"white\",\"ticks\":\"\"},\"baxis\":{\"gridcolor\":\"white\",\"linecolor\":\"white\",\"ticks\":\"\"},\"caxis\":{\"gridcolor\":\"white\",\"linecolor\":\"white\",\"ticks\":\"\"}},\"coloraxis\":{\"colorbar\":{\"outlinewidth\":0,\"ticks\":\"\"}},\"colorscale\":{\"sequential\":[[0.0,\"#0d0887\"],[0.1111111111111111,\"#46039f\"],[0.2222222222222222,\"#7201a8\"],[0.3333333333333333,\"#9c179e\"],[0.4444444444444444,\"#bd3786\"],[0.5555555555555556,\"#d8576b\"],[0.6666666666666666,\"#ed7953\"],[0.7777777777777778,\"#fb9f3a\"],[0.8888888888888888,\"#fdca26\"],[1.0,\"#f0f921\"]],\"sequentialminus\":[[0.0,\"#0d0887\"],[0.1111111111111111,\"#46039f\"],[0.2222222222222222,\"#7201a8\"],[0.3333333333333333,\"#9c179e\"],[0.4444444444444444,\"#bd3786\"],[0.5555555555555556,\"#d8576b\"],[0.6666666666666666,\"#ed7953\"],[0.7777777777777778,\"#fb9f3a\"],[0.8888888888888888,\"#fdca26\"],[1.0,\"#f0f921\"]],\"diverging\":[[0,\"#8e0152\"],[0.1,\"#c51b7d\"],[0.2,\"#de77ae\"],[0.3,\"#f1b6da\"],[0.4,\"#fde0ef\"],[0.5,\"#f7f7f7\"],[0.6,\"#e6f5d0\"],[0.7,\"#b8e186\"],[0.8,\"#7fbc41\"],[0.9,\"#4d9221\"],[1,\"#276419\"]]},\"xaxis\":{\"gridcolor\":\"white\",\"linecolor\":\"white\",\"ticks\":\"\",\"title\":{\"standoff\":15},\"zerolinecolor\":\"white\",\"automargin\":true,\"zerolinewidth\":2},\"yaxis\":{\"gridcolor\":\"white\",\"linecolor\":\"white\",\"ticks\":\"\",\"title\":{\"standoff\":15},\"zerolinecolor\":\"white\",\"automargin\":true,\"zerolinewidth\":2},\"scene\":{\"xaxis\":{\"backgroundcolor\":\"#E5ECF6\",\"gridcolor\":\"white\",\"linecolor\":\"white\",\"showbackground\":true,\"ticks\":\"\",\"zerolinecolor\":\"white\",\"gridwidth\":2},\"yaxis\":{\"backgroundcolor\":\"#E5ECF6\",\"gridcolor\":\"white\",\"linecolor\":\"white\",\"showbackground\":true,\"ticks\":\"\",\"zerolinecolor\":\"white\",\"gridwidth\":2},\"zaxis\":{\"backgroundcolor\":\"#E5ECF6\",\"gridcolor\":\"white\",\"linecolor\":\"white\",\"showbackground\":true,\"ticks\":\"\",\"zerolinecolor\":\"white\",\"gridwidth\":2}},\"shapedefaults\":{\"line\":{\"color\":\"#2a3f5f\"}},\"annotationdefaults\":{\"arrowcolor\":\"#2a3f5f\",\"arrowhead\":0,\"arrowwidth\":1},\"geo\":{\"bgcolor\":\"white\",\"landcolor\":\"#E5ECF6\",\"subunitcolor\":\"white\",\"showland\":true,\"showlakes\":true,\"lakecolor\":\"white\"},\"title\":{\"x\":0.05},\"mapbox\":{\"style\":\"light\"}}},\"xaxis\":{\"anchor\":\"y\",\"domain\":[0.0,1.0],\"title\":{\"text\":\"\\u0421\\u0442\\u0440\\u0430\\u0442\\u0435\\u0433\\u0438\\u044f\"}},\"yaxis\":{\"anchor\":\"x\",\"domain\":[0.0,1.0],\"title\":{\"text\":\"\\u0412\\u0440\\u0435\\u043c\\u044f, \\u0447\"}},\"legend\":{\"tracegroupgap\":0},\"title\":{\"text\":\"\\u0421\\u0440\\u0435\\u0434\\u043d\\u0435\\u0435 \\u0432\\u0440\\u0435\\u043c\\u044f \\u043f\\u0440\\u043e\\u0445\\u043e\\u0436\\u0434\\u0435\\u043d\\u044f\\u0438 \\u0443\\u0440\\u043e\\u0432\\u043d\\u044f\"},\"barmode\":\"relative\"},                        {\"responsive\": true}                    ).then(function(){\n",
              "                            \n",
              "var gd = document.getElementById('9adc0330-af70-43d9-a7ca-863d4a7cf063');\n",
              "var x = new MutationObserver(function (mutations, observer) {{\n",
              "        var display = window.getComputedStyle(gd).display;\n",
              "        if (!display || display === 'none') {{\n",
              "            console.log([gd, 'removed!']);\n",
              "            Plotly.purge(gd);\n",
              "            observer.disconnect();\n",
              "        }}\n",
              "}});\n",
              "\n",
              "// Listen for the removal of the full notebook cells\n",
              "var notebookContainer = gd.closest('#notebook-container');\n",
              "if (notebookContainer) {{\n",
              "    x.observe(notebookContainer, {childList: true});\n",
              "}}\n",
              "\n",
              "// Listen for the clearing of the current output cell\n",
              "var outputEl = gd.closest('.output');\n",
              "if (outputEl) {{\n",
              "    x.observe(outputEl, {childList: true});\n",
              "}}\n",
              "\n",
              "                        })                };                            </script>        </div>\n",
              "</body>\n",
              "</html>"
            ]
          },
          "metadata": {}
        }
      ],
      "source": [
        "fig = px.bar((win_short.groupby('strat')['lvl_dt_sec'].median()/3600).round(2).reset_index(), x='strat', y='lvl_dt_sec', text = 'lvl_dt_sec', title=\"Среднее время прохожденяи уровня\", labels={'strat':'Стратегия','lvl_dt_sec':'Время, ч'})\n",
        "fig.show()"
      ]
    },
    {
      "cell_type": "markdown",
      "metadata": {
        "id": "NsN1Z24oVUGS"
      },
      "source": [
        "Время, которое пользватели тратят на прохождения уровня с помощью стратегии войны быстрее, чем с помощью стратегии исследования."
      ]
    },
    {
      "cell_type": "markdown",
      "metadata": {
        "id": "dHabZvNIVUGS"
      },
      "source": [
        "Это суждение проверится в блоке гипотез."
      ]
    },
    {
      "cell_type": "markdown",
      "metadata": {
        "id": "lkqbTrXhVUGT"
      },
      "source": [
        "### Влияние событий на совершение целевого события\n",
        "- Определить количество построенных зданий каждым юзером и сопоставить с условием победы.\n",
        "- Найти самые частые постройки.\n",
        "- Расчитать доход с показов рекламы после построек зданий, считая что один доход за показ составляет 0.07 у.е."
      ]
    },
    {
      "cell_type": "markdown",
      "metadata": {
        "id": "KR2bLbkfVUGT"
      },
      "source": [
        "### Выделение датасета по строительству"
      ]
    },
    {
      "cell_type": "code",
      "execution_count": 27,
      "metadata": {
        "scrolled": false,
        "colab": {
          "base_uri": "https://localhost:8080/",
          "height": 206
        },
        "id": "bk31zP04VUGT",
        "outputId": "a61e0e13-6e7d-42e6-fb71-1d0f6f45ce96"
      },
      "outputs": [
        {
          "output_type": "execute_result",
          "data": {
            "text/plain": [
              "                   dt     event  building_type  \\\n",
              "0 2020-05-04 00:00:01  building  assembly_shop   \n",
              "1 2020-05-04 00:00:03  building  assembly_shop   \n",
              "2 2020-05-04 00:00:16  building  assembly_shop   \n",
              "3 2020-05-04 00:00:16  building  assembly_shop   \n",
              "4 2020-05-04 00:00:35  building  assembly_shop   \n",
              "\n",
              "                                user_id project_type  lvl_finished  ad_rev  \\\n",
              "0  55e92310-cb8e-4754-b622-597e124b03de          NaN         False    0.07   \n",
              "1  c07b1c10-f477-44dc-81dc-ec82254b1347          NaN          True    0.07   \n",
              "2  6edd42cc-e753-4ff6-a947-2107cd560710          NaN          True    0.07   \n",
              "3  92c69003-d60a-444a-827f-8cc51bf6bf4c          NaN         False    0.07   \n",
              "4  cdc6bb92-0ccb-4490-9866-ef142f09139d          NaN          True    0.07   \n",
              "\n",
              "   finish  project     strat              dt_min  \n",
              "0     NaN      NaN  no_strat                 NaT  \n",
              "1     1.0      1.0     peace 2020-05-04 00:00:03  \n",
              "2     1.0      NaN       war 2020-05-04 00:00:16  \n",
              "3     NaN      NaN  no_strat                 NaT  \n",
              "4     1.0      NaN       war 2020-05-04 00:00:35  "
            ],
            "text/html": [
              "\n",
              "  <div id=\"df-530a6cca-4484-4ced-b5fc-ba90472670b1\">\n",
              "    <div class=\"colab-df-container\">\n",
              "      <div>\n",
              "<style scoped>\n",
              "    .dataframe tbody tr th:only-of-type {\n",
              "        vertical-align: middle;\n",
              "    }\n",
              "\n",
              "    .dataframe tbody tr th {\n",
              "        vertical-align: top;\n",
              "    }\n",
              "\n",
              "    .dataframe thead th {\n",
              "        text-align: right;\n",
              "    }\n",
              "</style>\n",
              "<table border=\"1\" class=\"dataframe\">\n",
              "  <thead>\n",
              "    <tr style=\"text-align: right;\">\n",
              "      <th></th>\n",
              "      <th>dt</th>\n",
              "      <th>event</th>\n",
              "      <th>building_type</th>\n",
              "      <th>user_id</th>\n",
              "      <th>project_type</th>\n",
              "      <th>lvl_finished</th>\n",
              "      <th>ad_rev</th>\n",
              "      <th>finish</th>\n",
              "      <th>project</th>\n",
              "      <th>strat</th>\n",
              "      <th>dt_min</th>\n",
              "    </tr>\n",
              "  </thead>\n",
              "  <tbody>\n",
              "    <tr>\n",
              "      <th>0</th>\n",
              "      <td>2020-05-04 00:00:01</td>\n",
              "      <td>building</td>\n",
              "      <td>assembly_shop</td>\n",
              "      <td>55e92310-cb8e-4754-b622-597e124b03de</td>\n",
              "      <td>NaN</td>\n",
              "      <td>False</td>\n",
              "      <td>0.07</td>\n",
              "      <td>NaN</td>\n",
              "      <td>NaN</td>\n",
              "      <td>no_strat</td>\n",
              "      <td>NaT</td>\n",
              "    </tr>\n",
              "    <tr>\n",
              "      <th>1</th>\n",
              "      <td>2020-05-04 00:00:03</td>\n",
              "      <td>building</td>\n",
              "      <td>assembly_shop</td>\n",
              "      <td>c07b1c10-f477-44dc-81dc-ec82254b1347</td>\n",
              "      <td>NaN</td>\n",
              "      <td>True</td>\n",
              "      <td>0.07</td>\n",
              "      <td>1.0</td>\n",
              "      <td>1.0</td>\n",
              "      <td>peace</td>\n",
              "      <td>2020-05-04 00:00:03</td>\n",
              "    </tr>\n",
              "    <tr>\n",
              "      <th>2</th>\n",
              "      <td>2020-05-04 00:00:16</td>\n",
              "      <td>building</td>\n",
              "      <td>assembly_shop</td>\n",
              "      <td>6edd42cc-e753-4ff6-a947-2107cd560710</td>\n",
              "      <td>NaN</td>\n",
              "      <td>True</td>\n",
              "      <td>0.07</td>\n",
              "      <td>1.0</td>\n",
              "      <td>NaN</td>\n",
              "      <td>war</td>\n",
              "      <td>2020-05-04 00:00:16</td>\n",
              "    </tr>\n",
              "    <tr>\n",
              "      <th>3</th>\n",
              "      <td>2020-05-04 00:00:16</td>\n",
              "      <td>building</td>\n",
              "      <td>assembly_shop</td>\n",
              "      <td>92c69003-d60a-444a-827f-8cc51bf6bf4c</td>\n",
              "      <td>NaN</td>\n",
              "      <td>False</td>\n",
              "      <td>0.07</td>\n",
              "      <td>NaN</td>\n",
              "      <td>NaN</td>\n",
              "      <td>no_strat</td>\n",
              "      <td>NaT</td>\n",
              "    </tr>\n",
              "    <tr>\n",
              "      <th>4</th>\n",
              "      <td>2020-05-04 00:00:35</td>\n",
              "      <td>building</td>\n",
              "      <td>assembly_shop</td>\n",
              "      <td>cdc6bb92-0ccb-4490-9866-ef142f09139d</td>\n",
              "      <td>NaN</td>\n",
              "      <td>True</td>\n",
              "      <td>0.07</td>\n",
              "      <td>1.0</td>\n",
              "      <td>NaN</td>\n",
              "      <td>war</td>\n",
              "      <td>2020-05-04 00:00:35</td>\n",
              "    </tr>\n",
              "  </tbody>\n",
              "</table>\n",
              "</div>\n",
              "      <button class=\"colab-df-convert\" onclick=\"convertToInteractive('df-530a6cca-4484-4ced-b5fc-ba90472670b1')\"\n",
              "              title=\"Convert this dataframe to an interactive table.\"\n",
              "              style=\"display:none;\">\n",
              "        \n",
              "  <svg xmlns=\"http://www.w3.org/2000/svg\" height=\"24px\"viewBox=\"0 0 24 24\"\n",
              "       width=\"24px\">\n",
              "    <path d=\"M0 0h24v24H0V0z\" fill=\"none\"/>\n",
              "    <path d=\"M18.56 5.44l.94 2.06.94-2.06 2.06-.94-2.06-.94-.94-2.06-.94 2.06-2.06.94zm-11 1L8.5 8.5l.94-2.06 2.06-.94-2.06-.94L8.5 2.5l-.94 2.06-2.06.94zm10 10l.94 2.06.94-2.06 2.06-.94-2.06-.94-.94-2.06-.94 2.06-2.06.94z\"/><path d=\"M17.41 7.96l-1.37-1.37c-.4-.4-.92-.59-1.43-.59-.52 0-1.04.2-1.43.59L10.3 9.45l-7.72 7.72c-.78.78-.78 2.05 0 2.83L4 21.41c.39.39.9.59 1.41.59.51 0 1.02-.2 1.41-.59l7.78-7.78 2.81-2.81c.8-.78.8-2.07 0-2.86zM5.41 20L4 18.59l7.72-7.72 1.47 1.35L5.41 20z\"/>\n",
              "  </svg>\n",
              "      </button>\n",
              "      \n",
              "  <style>\n",
              "    .colab-df-container {\n",
              "      display:flex;\n",
              "      flex-wrap:wrap;\n",
              "      gap: 12px;\n",
              "    }\n",
              "\n",
              "    .colab-df-convert {\n",
              "      background-color: #E8F0FE;\n",
              "      border: none;\n",
              "      border-radius: 50%;\n",
              "      cursor: pointer;\n",
              "      display: none;\n",
              "      fill: #1967D2;\n",
              "      height: 32px;\n",
              "      padding: 0 0 0 0;\n",
              "      width: 32px;\n",
              "    }\n",
              "\n",
              "    .colab-df-convert:hover {\n",
              "      background-color: #E2EBFA;\n",
              "      box-shadow: 0px 1px 2px rgba(60, 64, 67, 0.3), 0px 1px 3px 1px rgba(60, 64, 67, 0.15);\n",
              "      fill: #174EA6;\n",
              "    }\n",
              "\n",
              "    [theme=dark] .colab-df-convert {\n",
              "      background-color: #3B4455;\n",
              "      fill: #D2E3FC;\n",
              "    }\n",
              "\n",
              "    [theme=dark] .colab-df-convert:hover {\n",
              "      background-color: #434B5C;\n",
              "      box-shadow: 0px 1px 3px 1px rgba(0, 0, 0, 0.15);\n",
              "      filter: drop-shadow(0px 1px 2px rgba(0, 0, 0, 0.3));\n",
              "      fill: #FFFFFF;\n",
              "    }\n",
              "  </style>\n",
              "\n",
              "      <script>\n",
              "        const buttonEl =\n",
              "          document.querySelector('#df-530a6cca-4484-4ced-b5fc-ba90472670b1 button.colab-df-convert');\n",
              "        buttonEl.style.display =\n",
              "          google.colab.kernel.accessAllowed ? 'block' : 'none';\n",
              "\n",
              "        async function convertToInteractive(key) {\n",
              "          const element = document.querySelector('#df-530a6cca-4484-4ced-b5fc-ba90472670b1');\n",
              "          const dataTable =\n",
              "            await google.colab.kernel.invokeFunction('convertToInteractive',\n",
              "                                                     [key], {});\n",
              "          if (!dataTable) return;\n",
              "\n",
              "          const docLinkHtml = 'Like what you see? Visit the ' +\n",
              "            '<a target=\"_blank\" href=https://colab.research.google.com/notebooks/data_table.ipynb>data table notebook</a>'\n",
              "            + ' to learn more about interactive tables.';\n",
              "          element.innerHTML = '';\n",
              "          dataTable['output_type'] = 'display_data';\n",
              "          await google.colab.output.renderOutput(dataTable, element);\n",
              "          const docLink = document.createElement('div');\n",
              "          docLink.innerHTML = docLinkHtml;\n",
              "          element.appendChild(docLink);\n",
              "        }\n",
              "      </script>\n",
              "    </div>\n",
              "  </div>\n",
              "  "
            ]
          },
          "metadata": {},
          "execution_count": 27
        }
      ],
      "source": [
        "actions_build = actions.join(winners, on='user_id', how='left')\n",
        "actions_build['strat'] = actions_build['strat'].fillna('no_strat')\n",
        "actions_build.head()"
      ]
    },
    {
      "cell_type": "code",
      "execution_count": 28,
      "metadata": {
        "colab": {
          "base_uri": "https://localhost:8080/",
          "height": 206
        },
        "id": "kaF3n-pcVUGU",
        "outputId": "9c033dad-7192-4d09-f3d5-2cbca95e08b2"
      },
      "outputs": [
        {
          "output_type": "execute_result",
          "data": {
            "text/plain": [
              "           dt  building_type\n",
              "0  2020-05-04           7826\n",
              "1  2020-05-05           8569\n",
              "2  2020-05-06           9396\n",
              "3  2020-05-07          10206\n",
              "4  2020-05-08          11256"
            ],
            "text/html": [
              "\n",
              "  <div id=\"df-4086a289-d4b2-4293-95e2-515c7b14730f\">\n",
              "    <div class=\"colab-df-container\">\n",
              "      <div>\n",
              "<style scoped>\n",
              "    .dataframe tbody tr th:only-of-type {\n",
              "        vertical-align: middle;\n",
              "    }\n",
              "\n",
              "    .dataframe tbody tr th {\n",
              "        vertical-align: top;\n",
              "    }\n",
              "\n",
              "    .dataframe thead th {\n",
              "        text-align: right;\n",
              "    }\n",
              "</style>\n",
              "<table border=\"1\" class=\"dataframe\">\n",
              "  <thead>\n",
              "    <tr style=\"text-align: right;\">\n",
              "      <th></th>\n",
              "      <th>dt</th>\n",
              "      <th>building_type</th>\n",
              "    </tr>\n",
              "  </thead>\n",
              "  <tbody>\n",
              "    <tr>\n",
              "      <th>0</th>\n",
              "      <td>2020-05-04</td>\n",
              "      <td>7826</td>\n",
              "    </tr>\n",
              "    <tr>\n",
              "      <th>1</th>\n",
              "      <td>2020-05-05</td>\n",
              "      <td>8569</td>\n",
              "    </tr>\n",
              "    <tr>\n",
              "      <th>2</th>\n",
              "      <td>2020-05-06</td>\n",
              "      <td>9396</td>\n",
              "    </tr>\n",
              "    <tr>\n",
              "      <th>3</th>\n",
              "      <td>2020-05-07</td>\n",
              "      <td>10206</td>\n",
              "    </tr>\n",
              "    <tr>\n",
              "      <th>4</th>\n",
              "      <td>2020-05-08</td>\n",
              "      <td>11256</td>\n",
              "    </tr>\n",
              "  </tbody>\n",
              "</table>\n",
              "</div>\n",
              "      <button class=\"colab-df-convert\" onclick=\"convertToInteractive('df-4086a289-d4b2-4293-95e2-515c7b14730f')\"\n",
              "              title=\"Convert this dataframe to an interactive table.\"\n",
              "              style=\"display:none;\">\n",
              "        \n",
              "  <svg xmlns=\"http://www.w3.org/2000/svg\" height=\"24px\"viewBox=\"0 0 24 24\"\n",
              "       width=\"24px\">\n",
              "    <path d=\"M0 0h24v24H0V0z\" fill=\"none\"/>\n",
              "    <path d=\"M18.56 5.44l.94 2.06.94-2.06 2.06-.94-2.06-.94-.94-2.06-.94 2.06-2.06.94zm-11 1L8.5 8.5l.94-2.06 2.06-.94-2.06-.94L8.5 2.5l-.94 2.06-2.06.94zm10 10l.94 2.06.94-2.06 2.06-.94-2.06-.94-.94-2.06-.94 2.06-2.06.94z\"/><path d=\"M17.41 7.96l-1.37-1.37c-.4-.4-.92-.59-1.43-.59-.52 0-1.04.2-1.43.59L10.3 9.45l-7.72 7.72c-.78.78-.78 2.05 0 2.83L4 21.41c.39.39.9.59 1.41.59.51 0 1.02-.2 1.41-.59l7.78-7.78 2.81-2.81c.8-.78.8-2.07 0-2.86zM5.41 20L4 18.59l7.72-7.72 1.47 1.35L5.41 20z\"/>\n",
              "  </svg>\n",
              "      </button>\n",
              "      \n",
              "  <style>\n",
              "    .colab-df-container {\n",
              "      display:flex;\n",
              "      flex-wrap:wrap;\n",
              "      gap: 12px;\n",
              "    }\n",
              "\n",
              "    .colab-df-convert {\n",
              "      background-color: #E8F0FE;\n",
              "      border: none;\n",
              "      border-radius: 50%;\n",
              "      cursor: pointer;\n",
              "      display: none;\n",
              "      fill: #1967D2;\n",
              "      height: 32px;\n",
              "      padding: 0 0 0 0;\n",
              "      width: 32px;\n",
              "    }\n",
              "\n",
              "    .colab-df-convert:hover {\n",
              "      background-color: #E2EBFA;\n",
              "      box-shadow: 0px 1px 2px rgba(60, 64, 67, 0.3), 0px 1px 3px 1px rgba(60, 64, 67, 0.15);\n",
              "      fill: #174EA6;\n",
              "    }\n",
              "\n",
              "    [theme=dark] .colab-df-convert {\n",
              "      background-color: #3B4455;\n",
              "      fill: #D2E3FC;\n",
              "    }\n",
              "\n",
              "    [theme=dark] .colab-df-convert:hover {\n",
              "      background-color: #434B5C;\n",
              "      box-shadow: 0px 1px 3px 1px rgba(0, 0, 0, 0.15);\n",
              "      filter: drop-shadow(0px 1px 2px rgba(0, 0, 0, 0.3));\n",
              "      fill: #FFFFFF;\n",
              "    }\n",
              "  </style>\n",
              "\n",
              "      <script>\n",
              "        const buttonEl =\n",
              "          document.querySelector('#df-4086a289-d4b2-4293-95e2-515c7b14730f button.colab-df-convert');\n",
              "        buttonEl.style.display =\n",
              "          google.colab.kernel.accessAllowed ? 'block' : 'none';\n",
              "\n",
              "        async function convertToInteractive(key) {\n",
              "          const element = document.querySelector('#df-4086a289-d4b2-4293-95e2-515c7b14730f');\n",
              "          const dataTable =\n",
              "            await google.colab.kernel.invokeFunction('convertToInteractive',\n",
              "                                                     [key], {});\n",
              "          if (!dataTable) return;\n",
              "\n",
              "          const docLinkHtml = 'Like what you see? Visit the ' +\n",
              "            '<a target=\"_blank\" href=https://colab.research.google.com/notebooks/data_table.ipynb>data table notebook</a>'\n",
              "            + ' to learn more about interactive tables.';\n",
              "          element.innerHTML = '';\n",
              "          dataTable['output_type'] = 'display_data';\n",
              "          await google.colab.output.renderOutput(dataTable, element);\n",
              "          const docLink = document.createElement('div');\n",
              "          docLink.innerHTML = docLinkHtml;\n",
              "          element.appendChild(docLink);\n",
              "        }\n",
              "      </script>\n",
              "    </div>\n",
              "  </div>\n",
              "  "
            ]
          },
          "metadata": {},
          "execution_count": 28
        }
      ],
      "source": [
        "build_by_dt = actions_build.query('event == \"building\"').groupby(['dt'])['building_type'].count().reset_index()\n",
        "build_by_dt['dt'] = pd.to_datetime(build_by_dt['dt']).dt.date\n",
        "build_by_dt = build_by_dt.groupby('dt').count().reset_index()\n",
        "build_by_dt.head()"
      ]
    },
    {
      "cell_type": "code",
      "execution_count": 29,
      "metadata": {
        "colab": {
          "base_uri": "https://localhost:8080/",
          "height": 542
        },
        "id": "qVx1bfoOVUGU",
        "outputId": "5231ea6f-88c4-474a-9b5f-e69bd398fb11"
      },
      "outputs": [
        {
          "output_type": "display_data",
          "data": {
            "text/html": [
              "<html>\n",
              "<head><meta charset=\"utf-8\" /></head>\n",
              "<body>\n",
              "    <div>            <script src=\"https://cdnjs.cloudflare.com/ajax/libs/mathjax/2.7.5/MathJax.js?config=TeX-AMS-MML_SVG\"></script><script type=\"text/javascript\">if (window.MathJax && window.MathJax.Hub && window.MathJax.Hub.Config) {window.MathJax.Hub.Config({SVG: {font: \"STIX-Web\"}});}</script>                <script type=\"text/javascript\">window.PlotlyConfig = {MathJaxConfig: 'local'};</script>\n",
              "        <script src=\"https://cdn.plot.ly/plotly-2.18.2.min.js\"></script>                <div id=\"116bbbaf-6a1e-4374-89c3-ab25f5563eb4\" class=\"plotly-graph-div\" style=\"height:525px; width:100%;\"></div>            <script type=\"text/javascript\">                                    window.PLOTLYENV=window.PLOTLYENV || {};                                    if (document.getElementById(\"116bbbaf-6a1e-4374-89c3-ab25f5563eb4\")) {                    Plotly.newPlot(                        \"116bbbaf-6a1e-4374-89c3-ab25f5563eb4\",                        [{\"alignmentgroup\":\"True\",\"hovertemplate\":\"\\u0414\\u0430\\u0442\\u0430=%{x}<br>\\u041a\\u043e\\u043b-\\u0432\\u043e \\u0437\\u0434\\u0430\\u043d\\u0438\\u0439=%{y}<extra></extra>\",\"legendgroup\":\"\",\"marker\":{\"color\":\"#636efa\",\"pattern\":{\"shape\":\"\"}},\"name\":\"\",\"offsetgroup\":\"\",\"orientation\":\"v\",\"showlegend\":false,\"textposition\":\"auto\",\"x\":[\"2020-05-04\",\"2020-05-05\",\"2020-05-06\",\"2020-05-07\",\"2020-05-08\",\"2020-05-09\",\"2020-05-10\",\"2020-05-11\",\"2020-05-12\",\"2020-05-13\",\"2020-05-14\",\"2020-05-15\",\"2020-05-16\",\"2020-05-17\",\"2020-05-18\",\"2020-05-19\",\"2020-05-20\",\"2020-05-21\",\"2020-05-22\",\"2020-05-23\",\"2020-05-24\",\"2020-05-25\",\"2020-05-26\",\"2020-05-27\",\"2020-05-28\",\"2020-05-29\",\"2020-05-30\",\"2020-05-31\",\"2020-06-01\",\"2020-06-02\",\"2020-06-03\",\"2020-06-04\",\"2020-06-05\"],\"xaxis\":\"x\",\"y\":[7826,8569,9396,10206,11256,12125,13795,7516,7194,6745,5945,4985,4143,3137,2220,1765,1333,981,695,507,349,255,184,120,81,49,33,19,12,6,7,4,2],\"yaxis\":\"y\",\"type\":\"bar\"}],                        {\"template\":{\"data\":{\"histogram2dcontour\":[{\"type\":\"histogram2dcontour\",\"colorbar\":{\"outlinewidth\":0,\"ticks\":\"\"},\"colorscale\":[[0.0,\"#0d0887\"],[0.1111111111111111,\"#46039f\"],[0.2222222222222222,\"#7201a8\"],[0.3333333333333333,\"#9c179e\"],[0.4444444444444444,\"#bd3786\"],[0.5555555555555556,\"#d8576b\"],[0.6666666666666666,\"#ed7953\"],[0.7777777777777778,\"#fb9f3a\"],[0.8888888888888888,\"#fdca26\"],[1.0,\"#f0f921\"]]}],\"choropleth\":[{\"type\":\"choropleth\",\"colorbar\":{\"outlinewidth\":0,\"ticks\":\"\"}}],\"histogram2d\":[{\"type\":\"histogram2d\",\"colorbar\":{\"outlinewidth\":0,\"ticks\":\"\"},\"colorscale\":[[0.0,\"#0d0887\"],[0.1111111111111111,\"#46039f\"],[0.2222222222222222,\"#7201a8\"],[0.3333333333333333,\"#9c179e\"],[0.4444444444444444,\"#bd3786\"],[0.5555555555555556,\"#d8576b\"],[0.6666666666666666,\"#ed7953\"],[0.7777777777777778,\"#fb9f3a\"],[0.8888888888888888,\"#fdca26\"],[1.0,\"#f0f921\"]]}],\"heatmap\":[{\"type\":\"heatmap\",\"colorbar\":{\"outlinewidth\":0,\"ticks\":\"\"},\"colorscale\":[[0.0,\"#0d0887\"],[0.1111111111111111,\"#46039f\"],[0.2222222222222222,\"#7201a8\"],[0.3333333333333333,\"#9c179e\"],[0.4444444444444444,\"#bd3786\"],[0.5555555555555556,\"#d8576b\"],[0.6666666666666666,\"#ed7953\"],[0.7777777777777778,\"#fb9f3a\"],[0.8888888888888888,\"#fdca26\"],[1.0,\"#f0f921\"]]}],\"heatmapgl\":[{\"type\":\"heatmapgl\",\"colorbar\":{\"outlinewidth\":0,\"ticks\":\"\"},\"colorscale\":[[0.0,\"#0d0887\"],[0.1111111111111111,\"#46039f\"],[0.2222222222222222,\"#7201a8\"],[0.3333333333333333,\"#9c179e\"],[0.4444444444444444,\"#bd3786\"],[0.5555555555555556,\"#d8576b\"],[0.6666666666666666,\"#ed7953\"],[0.7777777777777778,\"#fb9f3a\"],[0.8888888888888888,\"#fdca26\"],[1.0,\"#f0f921\"]]}],\"contourcarpet\":[{\"type\":\"contourcarpet\",\"colorbar\":{\"outlinewidth\":0,\"ticks\":\"\"}}],\"contour\":[{\"type\":\"contour\",\"colorbar\":{\"outlinewidth\":0,\"ticks\":\"\"},\"colorscale\":[[0.0,\"#0d0887\"],[0.1111111111111111,\"#46039f\"],[0.2222222222222222,\"#7201a8\"],[0.3333333333333333,\"#9c179e\"],[0.4444444444444444,\"#bd3786\"],[0.5555555555555556,\"#d8576b\"],[0.6666666666666666,\"#ed7953\"],[0.7777777777777778,\"#fb9f3a\"],[0.8888888888888888,\"#fdca26\"],[1.0,\"#f0f921\"]]}],\"surface\":[{\"type\":\"surface\",\"colorbar\":{\"outlinewidth\":0,\"ticks\":\"\"},\"colorscale\":[[0.0,\"#0d0887\"],[0.1111111111111111,\"#46039f\"],[0.2222222222222222,\"#7201a8\"],[0.3333333333333333,\"#9c179e\"],[0.4444444444444444,\"#bd3786\"],[0.5555555555555556,\"#d8576b\"],[0.6666666666666666,\"#ed7953\"],[0.7777777777777778,\"#fb9f3a\"],[0.8888888888888888,\"#fdca26\"],[1.0,\"#f0f921\"]]}],\"mesh3d\":[{\"type\":\"mesh3d\",\"colorbar\":{\"outlinewidth\":0,\"ticks\":\"\"}}],\"scatter\":[{\"fillpattern\":{\"fillmode\":\"overlay\",\"size\":10,\"solidity\":0.2},\"type\":\"scatter\"}],\"parcoords\":[{\"type\":\"parcoords\",\"line\":{\"colorbar\":{\"outlinewidth\":0,\"ticks\":\"\"}}}],\"scatterpolargl\":[{\"type\":\"scatterpolargl\",\"marker\":{\"colorbar\":{\"outlinewidth\":0,\"ticks\":\"\"}}}],\"bar\":[{\"error_x\":{\"color\":\"#2a3f5f\"},\"error_y\":{\"color\":\"#2a3f5f\"},\"marker\":{\"line\":{\"color\":\"#E5ECF6\",\"width\":0.5},\"pattern\":{\"fillmode\":\"overlay\",\"size\":10,\"solidity\":0.2}},\"type\":\"bar\"}],\"scattergeo\":[{\"type\":\"scattergeo\",\"marker\":{\"colorbar\":{\"outlinewidth\":0,\"ticks\":\"\"}}}],\"scatterpolar\":[{\"type\":\"scatterpolar\",\"marker\":{\"colorbar\":{\"outlinewidth\":0,\"ticks\":\"\"}}}],\"histogram\":[{\"marker\":{\"pattern\":{\"fillmode\":\"overlay\",\"size\":10,\"solidity\":0.2}},\"type\":\"histogram\"}],\"scattergl\":[{\"type\":\"scattergl\",\"marker\":{\"colorbar\":{\"outlinewidth\":0,\"ticks\":\"\"}}}],\"scatter3d\":[{\"type\":\"scatter3d\",\"line\":{\"colorbar\":{\"outlinewidth\":0,\"ticks\":\"\"}},\"marker\":{\"colorbar\":{\"outlinewidth\":0,\"ticks\":\"\"}}}],\"scattermapbox\":[{\"type\":\"scattermapbox\",\"marker\":{\"colorbar\":{\"outlinewidth\":0,\"ticks\":\"\"}}}],\"scatterternary\":[{\"type\":\"scatterternary\",\"marker\":{\"colorbar\":{\"outlinewidth\":0,\"ticks\":\"\"}}}],\"scattercarpet\":[{\"type\":\"scattercarpet\",\"marker\":{\"colorbar\":{\"outlinewidth\":0,\"ticks\":\"\"}}}],\"carpet\":[{\"aaxis\":{\"endlinecolor\":\"#2a3f5f\",\"gridcolor\":\"white\",\"linecolor\":\"white\",\"minorgridcolor\":\"white\",\"startlinecolor\":\"#2a3f5f\"},\"baxis\":{\"endlinecolor\":\"#2a3f5f\",\"gridcolor\":\"white\",\"linecolor\":\"white\",\"minorgridcolor\":\"white\",\"startlinecolor\":\"#2a3f5f\"},\"type\":\"carpet\"}],\"table\":[{\"cells\":{\"fill\":{\"color\":\"#EBF0F8\"},\"line\":{\"color\":\"white\"}},\"header\":{\"fill\":{\"color\":\"#C8D4E3\"},\"line\":{\"color\":\"white\"}},\"type\":\"table\"}],\"barpolar\":[{\"marker\":{\"line\":{\"color\":\"#E5ECF6\",\"width\":0.5},\"pattern\":{\"fillmode\":\"overlay\",\"size\":10,\"solidity\":0.2}},\"type\":\"barpolar\"}],\"pie\":[{\"automargin\":true,\"type\":\"pie\"}]},\"layout\":{\"autotypenumbers\":\"strict\",\"colorway\":[\"#636efa\",\"#EF553B\",\"#00cc96\",\"#ab63fa\",\"#FFA15A\",\"#19d3f3\",\"#FF6692\",\"#B6E880\",\"#FF97FF\",\"#FECB52\"],\"font\":{\"color\":\"#2a3f5f\"},\"hovermode\":\"closest\",\"hoverlabel\":{\"align\":\"left\"},\"paper_bgcolor\":\"white\",\"plot_bgcolor\":\"#E5ECF6\",\"polar\":{\"bgcolor\":\"#E5ECF6\",\"angularaxis\":{\"gridcolor\":\"white\",\"linecolor\":\"white\",\"ticks\":\"\"},\"radialaxis\":{\"gridcolor\":\"white\",\"linecolor\":\"white\",\"ticks\":\"\"}},\"ternary\":{\"bgcolor\":\"#E5ECF6\",\"aaxis\":{\"gridcolor\":\"white\",\"linecolor\":\"white\",\"ticks\":\"\"},\"baxis\":{\"gridcolor\":\"white\",\"linecolor\":\"white\",\"ticks\":\"\"},\"caxis\":{\"gridcolor\":\"white\",\"linecolor\":\"white\",\"ticks\":\"\"}},\"coloraxis\":{\"colorbar\":{\"outlinewidth\":0,\"ticks\":\"\"}},\"colorscale\":{\"sequential\":[[0.0,\"#0d0887\"],[0.1111111111111111,\"#46039f\"],[0.2222222222222222,\"#7201a8\"],[0.3333333333333333,\"#9c179e\"],[0.4444444444444444,\"#bd3786\"],[0.5555555555555556,\"#d8576b\"],[0.6666666666666666,\"#ed7953\"],[0.7777777777777778,\"#fb9f3a\"],[0.8888888888888888,\"#fdca26\"],[1.0,\"#f0f921\"]],\"sequentialminus\":[[0.0,\"#0d0887\"],[0.1111111111111111,\"#46039f\"],[0.2222222222222222,\"#7201a8\"],[0.3333333333333333,\"#9c179e\"],[0.4444444444444444,\"#bd3786\"],[0.5555555555555556,\"#d8576b\"],[0.6666666666666666,\"#ed7953\"],[0.7777777777777778,\"#fb9f3a\"],[0.8888888888888888,\"#fdca26\"],[1.0,\"#f0f921\"]],\"diverging\":[[0,\"#8e0152\"],[0.1,\"#c51b7d\"],[0.2,\"#de77ae\"],[0.3,\"#f1b6da\"],[0.4,\"#fde0ef\"],[0.5,\"#f7f7f7\"],[0.6,\"#e6f5d0\"],[0.7,\"#b8e186\"],[0.8,\"#7fbc41\"],[0.9,\"#4d9221\"],[1,\"#276419\"]]},\"xaxis\":{\"gridcolor\":\"white\",\"linecolor\":\"white\",\"ticks\":\"\",\"title\":{\"standoff\":15},\"zerolinecolor\":\"white\",\"automargin\":true,\"zerolinewidth\":2},\"yaxis\":{\"gridcolor\":\"white\",\"linecolor\":\"white\",\"ticks\":\"\",\"title\":{\"standoff\":15},\"zerolinecolor\":\"white\",\"automargin\":true,\"zerolinewidth\":2},\"scene\":{\"xaxis\":{\"backgroundcolor\":\"#E5ECF6\",\"gridcolor\":\"white\",\"linecolor\":\"white\",\"showbackground\":true,\"ticks\":\"\",\"zerolinecolor\":\"white\",\"gridwidth\":2},\"yaxis\":{\"backgroundcolor\":\"#E5ECF6\",\"gridcolor\":\"white\",\"linecolor\":\"white\",\"showbackground\":true,\"ticks\":\"\",\"zerolinecolor\":\"white\",\"gridwidth\":2},\"zaxis\":{\"backgroundcolor\":\"#E5ECF6\",\"gridcolor\":\"white\",\"linecolor\":\"white\",\"showbackground\":true,\"ticks\":\"\",\"zerolinecolor\":\"white\",\"gridwidth\":2}},\"shapedefaults\":{\"line\":{\"color\":\"#2a3f5f\"}},\"annotationdefaults\":{\"arrowcolor\":\"#2a3f5f\",\"arrowhead\":0,\"arrowwidth\":1},\"geo\":{\"bgcolor\":\"white\",\"landcolor\":\"#E5ECF6\",\"subunitcolor\":\"white\",\"showland\":true,\"showlakes\":true,\"lakecolor\":\"white\"},\"title\":{\"x\":0.05},\"mapbox\":{\"style\":\"light\"}}},\"xaxis\":{\"anchor\":\"y\",\"domain\":[0.0,1.0],\"title\":{\"text\":\"\\u0414\\u0430\\u0442\\u0430\"}},\"yaxis\":{\"anchor\":\"x\",\"domain\":[0.0,1.0],\"title\":{\"text\":\"\\u041a\\u043e\\u043b-\\u0432\\u043e \\u0437\\u0434\\u0430\\u043d\\u0438\\u0439\"}},\"legend\":{\"tracegroupgap\":0},\"title\":{\"text\":\"\\u041f\\u043e\\u0441\\u0442\\u0440\\u043e\\u0435\\u043d\\u043d\\u044b\\u0435 \\u0437\\u0434\\u0430\\u043d\\u0438\\u044f \\u0437\\u0430 \\u043f\\u0435\\u0440\\u0438\\u043e\\u0434\"},\"barmode\":\"relative\"},                        {\"responsive\": true}                    ).then(function(){\n",
              "                            \n",
              "var gd = document.getElementById('116bbbaf-6a1e-4374-89c3-ab25f5563eb4');\n",
              "var x = new MutationObserver(function (mutations, observer) {{\n",
              "        var display = window.getComputedStyle(gd).display;\n",
              "        if (!display || display === 'none') {{\n",
              "            console.log([gd, 'removed!']);\n",
              "            Plotly.purge(gd);\n",
              "            observer.disconnect();\n",
              "        }}\n",
              "}});\n",
              "\n",
              "// Listen for the removal of the full notebook cells\n",
              "var notebookContainer = gd.closest('#notebook-container');\n",
              "if (notebookContainer) {{\n",
              "    x.observe(notebookContainer, {childList: true});\n",
              "}}\n",
              "\n",
              "// Listen for the clearing of the current output cell\n",
              "var outputEl = gd.closest('.output');\n",
              "if (outputEl) {{\n",
              "    x.observe(outputEl, {childList: true});\n",
              "}}\n",
              "\n",
              "                        })                };                            </script>        </div>\n",
              "</body>\n",
              "</html>"
            ]
          },
          "metadata": {}
        }
      ],
      "source": [
        "fig = px.bar(build_by_dt, x='dt', y='building_type', title=\"Построенные здания за период\", labels={'dt':'Дата','building_type':'Кол-во зданий'})\n",
        "fig.show()"
      ]
    },
    {
      "cell_type": "code",
      "execution_count": 30,
      "metadata": {
        "colab": {
          "base_uri": "https://localhost:8080/",
          "height": 206
        },
        "id": "eXjbnh_aVUGU",
        "outputId": "fab63eec-295e-4a33-9073-631748653ce4"
      },
      "outputs": [
        {
          "output_type": "execute_result",
          "data": {
            "text/plain": [
              "                                user_id     strat    building_type  ad_rev  \\\n",
              "0  0001f83c-c6ac-4621-b7f0-8a28b283ac30  no_strat    assembly_shop    0.42   \n",
              "1  0001f83c-c6ac-4621-b7f0-8a28b283ac30  no_strat  research_center    0.07   \n",
              "2  0001f83c-c6ac-4621-b7f0-8a28b283ac30  no_strat        spaceport    0.42   \n",
              "3  00151b4f-ba38-44a8-a650-d7cf130a0105  no_strat    assembly_shop    0.28   \n",
              "4  00151b4f-ba38-44a8-a650-d7cf130a0105  no_strat        spaceport    0.35   \n",
              "\n",
              "   qty  \n",
              "0    6  \n",
              "1    1  \n",
              "2    6  \n",
              "3    4  \n",
              "4    5  "
            ],
            "text/html": [
              "\n",
              "  <div id=\"df-064d37dd-7996-4303-87e1-c201237559e9\">\n",
              "    <div class=\"colab-df-container\">\n",
              "      <div>\n",
              "<style scoped>\n",
              "    .dataframe tbody tr th:only-of-type {\n",
              "        vertical-align: middle;\n",
              "    }\n",
              "\n",
              "    .dataframe tbody tr th {\n",
              "        vertical-align: top;\n",
              "    }\n",
              "\n",
              "    .dataframe thead th {\n",
              "        text-align: right;\n",
              "    }\n",
              "</style>\n",
              "<table border=\"1\" class=\"dataframe\">\n",
              "  <thead>\n",
              "    <tr style=\"text-align: right;\">\n",
              "      <th></th>\n",
              "      <th>user_id</th>\n",
              "      <th>strat</th>\n",
              "      <th>building_type</th>\n",
              "      <th>ad_rev</th>\n",
              "      <th>qty</th>\n",
              "    </tr>\n",
              "  </thead>\n",
              "  <tbody>\n",
              "    <tr>\n",
              "      <th>0</th>\n",
              "      <td>0001f83c-c6ac-4621-b7f0-8a28b283ac30</td>\n",
              "      <td>no_strat</td>\n",
              "      <td>assembly_shop</td>\n",
              "      <td>0.42</td>\n",
              "      <td>6</td>\n",
              "    </tr>\n",
              "    <tr>\n",
              "      <th>1</th>\n",
              "      <td>0001f83c-c6ac-4621-b7f0-8a28b283ac30</td>\n",
              "      <td>no_strat</td>\n",
              "      <td>research_center</td>\n",
              "      <td>0.07</td>\n",
              "      <td>1</td>\n",
              "    </tr>\n",
              "    <tr>\n",
              "      <th>2</th>\n",
              "      <td>0001f83c-c6ac-4621-b7f0-8a28b283ac30</td>\n",
              "      <td>no_strat</td>\n",
              "      <td>spaceport</td>\n",
              "      <td>0.42</td>\n",
              "      <td>6</td>\n",
              "    </tr>\n",
              "    <tr>\n",
              "      <th>3</th>\n",
              "      <td>00151b4f-ba38-44a8-a650-d7cf130a0105</td>\n",
              "      <td>no_strat</td>\n",
              "      <td>assembly_shop</td>\n",
              "      <td>0.28</td>\n",
              "      <td>4</td>\n",
              "    </tr>\n",
              "    <tr>\n",
              "      <th>4</th>\n",
              "      <td>00151b4f-ba38-44a8-a650-d7cf130a0105</td>\n",
              "      <td>no_strat</td>\n",
              "      <td>spaceport</td>\n",
              "      <td>0.35</td>\n",
              "      <td>5</td>\n",
              "    </tr>\n",
              "  </tbody>\n",
              "</table>\n",
              "</div>\n",
              "      <button class=\"colab-df-convert\" onclick=\"convertToInteractive('df-064d37dd-7996-4303-87e1-c201237559e9')\"\n",
              "              title=\"Convert this dataframe to an interactive table.\"\n",
              "              style=\"display:none;\">\n",
              "        \n",
              "  <svg xmlns=\"http://www.w3.org/2000/svg\" height=\"24px\"viewBox=\"0 0 24 24\"\n",
              "       width=\"24px\">\n",
              "    <path d=\"M0 0h24v24H0V0z\" fill=\"none\"/>\n",
              "    <path d=\"M18.56 5.44l.94 2.06.94-2.06 2.06-.94-2.06-.94-.94-2.06-.94 2.06-2.06.94zm-11 1L8.5 8.5l.94-2.06 2.06-.94-2.06-.94L8.5 2.5l-.94 2.06-2.06.94zm10 10l.94 2.06.94-2.06 2.06-.94-2.06-.94-.94-2.06-.94 2.06-2.06.94z\"/><path d=\"M17.41 7.96l-1.37-1.37c-.4-.4-.92-.59-1.43-.59-.52 0-1.04.2-1.43.59L10.3 9.45l-7.72 7.72c-.78.78-.78 2.05 0 2.83L4 21.41c.39.39.9.59 1.41.59.51 0 1.02-.2 1.41-.59l7.78-7.78 2.81-2.81c.8-.78.8-2.07 0-2.86zM5.41 20L4 18.59l7.72-7.72 1.47 1.35L5.41 20z\"/>\n",
              "  </svg>\n",
              "      </button>\n",
              "      \n",
              "  <style>\n",
              "    .colab-df-container {\n",
              "      display:flex;\n",
              "      flex-wrap:wrap;\n",
              "      gap: 12px;\n",
              "    }\n",
              "\n",
              "    .colab-df-convert {\n",
              "      background-color: #E8F0FE;\n",
              "      border: none;\n",
              "      border-radius: 50%;\n",
              "      cursor: pointer;\n",
              "      display: none;\n",
              "      fill: #1967D2;\n",
              "      height: 32px;\n",
              "      padding: 0 0 0 0;\n",
              "      width: 32px;\n",
              "    }\n",
              "\n",
              "    .colab-df-convert:hover {\n",
              "      background-color: #E2EBFA;\n",
              "      box-shadow: 0px 1px 2px rgba(60, 64, 67, 0.3), 0px 1px 3px 1px rgba(60, 64, 67, 0.15);\n",
              "      fill: #174EA6;\n",
              "    }\n",
              "\n",
              "    [theme=dark] .colab-df-convert {\n",
              "      background-color: #3B4455;\n",
              "      fill: #D2E3FC;\n",
              "    }\n",
              "\n",
              "    [theme=dark] .colab-df-convert:hover {\n",
              "      background-color: #434B5C;\n",
              "      box-shadow: 0px 1px 3px 1px rgba(0, 0, 0, 0.15);\n",
              "      filter: drop-shadow(0px 1px 2px rgba(0, 0, 0, 0.3));\n",
              "      fill: #FFFFFF;\n",
              "    }\n",
              "  </style>\n",
              "\n",
              "      <script>\n",
              "        const buttonEl =\n",
              "          document.querySelector('#df-064d37dd-7996-4303-87e1-c201237559e9 button.colab-df-convert');\n",
              "        buttonEl.style.display =\n",
              "          google.colab.kernel.accessAllowed ? 'block' : 'none';\n",
              "\n",
              "        async function convertToInteractive(key) {\n",
              "          const element = document.querySelector('#df-064d37dd-7996-4303-87e1-c201237559e9');\n",
              "          const dataTable =\n",
              "            await google.colab.kernel.invokeFunction('convertToInteractive',\n",
              "                                                     [key], {});\n",
              "          if (!dataTable) return;\n",
              "\n",
              "          const docLinkHtml = 'Like what you see? Visit the ' +\n",
              "            '<a target=\"_blank\" href=https://colab.research.google.com/notebooks/data_table.ipynb>data table notebook</a>'\n",
              "            + ' to learn more about interactive tables.';\n",
              "          element.innerHTML = '';\n",
              "          dataTable['output_type'] = 'display_data';\n",
              "          await google.colab.output.renderOutput(dataTable, element);\n",
              "          const docLink = document.createElement('div');\n",
              "          docLink.innerHTML = docLinkHtml;\n",
              "          element.appendChild(docLink);\n",
              "        }\n",
              "      </script>\n",
              "    </div>\n",
              "  </div>\n",
              "  "
            ]
          },
          "metadata": {},
          "execution_count": 30
        }
      ],
      "source": [
        "build_by_strat = actions_build.query('building_type.isna() == False').groupby(['user_id','strat', 'building_type', 'ad_rev'])['event'].count().reset_index()\n",
        "build_by_strat = build_by_strat.rename(columns={'event': 'qty'})\n",
        "build_by_strat['ad_rev'] = build_by_strat['ad_rev']*build_by_strat['qty']\n",
        "build_by_strat.head()"
      ]
    },
    {
      "cell_type": "markdown",
      "metadata": {
        "id": "gv2fZECgVUGU"
      },
      "source": [
        "Количество зданий и доход на пользователя."
      ]
    },
    {
      "cell_type": "code",
      "execution_count": 31,
      "metadata": {
        "colab": {
          "base_uri": "https://localhost:8080/",
          "height": 206
        },
        "id": "KTOXyGkGVUGU",
        "outputId": "2e8b1b59-8c6b-4511-fa62-cb1fb646893a"
      },
      "outputs": [
        {
          "output_type": "execute_result",
          "data": {
            "text/plain": [
              "                                user_id  qty  revenue\n",
              "0  0001f83c-c6ac-4621-b7f0-8a28b283ac30   13     0.91\n",
              "1  00151b4f-ba38-44a8-a650-d7cf130a0105    9     0.63\n",
              "2  001aaea6-3d14-43f1-8ca8-7f48820f17aa    4     0.28\n",
              "3  001d39dc-366c-4021-9604-6a3b9ff01e25    8     0.56\n",
              "4  002f508f-67b6-479f-814b-b05f00d4e995   12     0.84"
            ],
            "text/html": [
              "\n",
              "  <div id=\"df-ac43b161-bc21-4714-9766-d4d2edb6d0ca\">\n",
              "    <div class=\"colab-df-container\">\n",
              "      <div>\n",
              "<style scoped>\n",
              "    .dataframe tbody tr th:only-of-type {\n",
              "        vertical-align: middle;\n",
              "    }\n",
              "\n",
              "    .dataframe tbody tr th {\n",
              "        vertical-align: top;\n",
              "    }\n",
              "\n",
              "    .dataframe thead th {\n",
              "        text-align: right;\n",
              "    }\n",
              "</style>\n",
              "<table border=\"1\" class=\"dataframe\">\n",
              "  <thead>\n",
              "    <tr style=\"text-align: right;\">\n",
              "      <th></th>\n",
              "      <th>user_id</th>\n",
              "      <th>qty</th>\n",
              "      <th>revenue</th>\n",
              "    </tr>\n",
              "  </thead>\n",
              "  <tbody>\n",
              "    <tr>\n",
              "      <th>0</th>\n",
              "      <td>0001f83c-c6ac-4621-b7f0-8a28b283ac30</td>\n",
              "      <td>13</td>\n",
              "      <td>0.91</td>\n",
              "    </tr>\n",
              "    <tr>\n",
              "      <th>1</th>\n",
              "      <td>00151b4f-ba38-44a8-a650-d7cf130a0105</td>\n",
              "      <td>9</td>\n",
              "      <td>0.63</td>\n",
              "    </tr>\n",
              "    <tr>\n",
              "      <th>2</th>\n",
              "      <td>001aaea6-3d14-43f1-8ca8-7f48820f17aa</td>\n",
              "      <td>4</td>\n",
              "      <td>0.28</td>\n",
              "    </tr>\n",
              "    <tr>\n",
              "      <th>3</th>\n",
              "      <td>001d39dc-366c-4021-9604-6a3b9ff01e25</td>\n",
              "      <td>8</td>\n",
              "      <td>0.56</td>\n",
              "    </tr>\n",
              "    <tr>\n",
              "      <th>4</th>\n",
              "      <td>002f508f-67b6-479f-814b-b05f00d4e995</td>\n",
              "      <td>12</td>\n",
              "      <td>0.84</td>\n",
              "    </tr>\n",
              "  </tbody>\n",
              "</table>\n",
              "</div>\n",
              "      <button class=\"colab-df-convert\" onclick=\"convertToInteractive('df-ac43b161-bc21-4714-9766-d4d2edb6d0ca')\"\n",
              "              title=\"Convert this dataframe to an interactive table.\"\n",
              "              style=\"display:none;\">\n",
              "        \n",
              "  <svg xmlns=\"http://www.w3.org/2000/svg\" height=\"24px\"viewBox=\"0 0 24 24\"\n",
              "       width=\"24px\">\n",
              "    <path d=\"M0 0h24v24H0V0z\" fill=\"none\"/>\n",
              "    <path d=\"M18.56 5.44l.94 2.06.94-2.06 2.06-.94-2.06-.94-.94-2.06-.94 2.06-2.06.94zm-11 1L8.5 8.5l.94-2.06 2.06-.94-2.06-.94L8.5 2.5l-.94 2.06-2.06.94zm10 10l.94 2.06.94-2.06 2.06-.94-2.06-.94-.94-2.06-.94 2.06-2.06.94z\"/><path d=\"M17.41 7.96l-1.37-1.37c-.4-.4-.92-.59-1.43-.59-.52 0-1.04.2-1.43.59L10.3 9.45l-7.72 7.72c-.78.78-.78 2.05 0 2.83L4 21.41c.39.39.9.59 1.41.59.51 0 1.02-.2 1.41-.59l7.78-7.78 2.81-2.81c.8-.78.8-2.07 0-2.86zM5.41 20L4 18.59l7.72-7.72 1.47 1.35L5.41 20z\"/>\n",
              "  </svg>\n",
              "      </button>\n",
              "      \n",
              "  <style>\n",
              "    .colab-df-container {\n",
              "      display:flex;\n",
              "      flex-wrap:wrap;\n",
              "      gap: 12px;\n",
              "    }\n",
              "\n",
              "    .colab-df-convert {\n",
              "      background-color: #E8F0FE;\n",
              "      border: none;\n",
              "      border-radius: 50%;\n",
              "      cursor: pointer;\n",
              "      display: none;\n",
              "      fill: #1967D2;\n",
              "      height: 32px;\n",
              "      padding: 0 0 0 0;\n",
              "      width: 32px;\n",
              "    }\n",
              "\n",
              "    .colab-df-convert:hover {\n",
              "      background-color: #E2EBFA;\n",
              "      box-shadow: 0px 1px 2px rgba(60, 64, 67, 0.3), 0px 1px 3px 1px rgba(60, 64, 67, 0.15);\n",
              "      fill: #174EA6;\n",
              "    }\n",
              "\n",
              "    [theme=dark] .colab-df-convert {\n",
              "      background-color: #3B4455;\n",
              "      fill: #D2E3FC;\n",
              "    }\n",
              "\n",
              "    [theme=dark] .colab-df-convert:hover {\n",
              "      background-color: #434B5C;\n",
              "      box-shadow: 0px 1px 3px 1px rgba(0, 0, 0, 0.15);\n",
              "      filter: drop-shadow(0px 1px 2px rgba(0, 0, 0, 0.3));\n",
              "      fill: #FFFFFF;\n",
              "    }\n",
              "  </style>\n",
              "\n",
              "      <script>\n",
              "        const buttonEl =\n",
              "          document.querySelector('#df-ac43b161-bc21-4714-9766-d4d2edb6d0ca button.colab-df-convert');\n",
              "        buttonEl.style.display =\n",
              "          google.colab.kernel.accessAllowed ? 'block' : 'none';\n",
              "\n",
              "        async function convertToInteractive(key) {\n",
              "          const element = document.querySelector('#df-ac43b161-bc21-4714-9766-d4d2edb6d0ca');\n",
              "          const dataTable =\n",
              "            await google.colab.kernel.invokeFunction('convertToInteractive',\n",
              "                                                     [key], {});\n",
              "          if (!dataTable) return;\n",
              "\n",
              "          const docLinkHtml = 'Like what you see? Visit the ' +\n",
              "            '<a target=\"_blank\" href=https://colab.research.google.com/notebooks/data_table.ipynb>data table notebook</a>'\n",
              "            + ' to learn more about interactive tables.';\n",
              "          element.innerHTML = '';\n",
              "          dataTable['output_type'] = 'display_data';\n",
              "          await google.colab.output.renderOutput(dataTable, element);\n",
              "          const docLink = document.createElement('div');\n",
              "          docLink.innerHTML = docLinkHtml;\n",
              "          element.appendChild(docLink);\n",
              "        }\n",
              "      </script>\n",
              "    </div>\n",
              "  </div>\n",
              "  "
            ]
          },
          "metadata": {},
          "execution_count": 31
        }
      ],
      "source": [
        "build_by_user = build_by_strat.groupby('user_id')['qty'].sum().reset_index()\n",
        "build_by_user['revenue'] = build_by_user['qty']*0.07\n",
        "build_by_user.head()"
      ]
    },
    {
      "cell_type": "code",
      "execution_count": 32,
      "metadata": {
        "colab": {
          "base_uri": "https://localhost:8080/"
        },
        "id": "h06BAS8JVUGV",
        "outputId": "80935cf6-bf40-4dd2-b7f2-429d61e4bda7"
      },
      "outputs": [
        {
          "output_type": "execute_result",
          "data": {
            "text/plain": [
              "8956.92"
            ]
          },
          "metadata": {},
          "execution_count": 32
        }
      ],
      "source": [
        "revenue__by_user_sum = build_by_user['revenue'].sum()\n",
        "revenue__by_user_sum"
      ]
    },
    {
      "cell_type": "code",
      "execution_count": 33,
      "metadata": {
        "colab": {
          "base_uri": "https://localhost:8080/"
        },
        "id": "Hvl7uE6GVUGV",
        "outputId": "b35573cc-ed95-4ba1-d404-283908503531"
      },
      "outputs": [
        {
          "output_type": "execute_result",
          "data": {
            "text/plain": [
              "qty        9.425162\n",
              "revenue    0.659761\n",
              "dtype: float64"
            ]
          },
          "metadata": {},
          "execution_count": 33
        }
      ],
      "source": [
        "build_by_user_mean = build_by_user.mean()\n",
        "build_by_user_mean"
      ]
    },
    {
      "cell_type": "markdown",
      "metadata": {
        "id": "3jrmDeSfVUGV"
      },
      "source": [
        "### Количество различных построеных зданий в зависимости от стратегии"
      ]
    },
    {
      "cell_type": "code",
      "execution_count": 34,
      "metadata": {
        "colab": {
          "base_uri": "https://localhost:8080/",
          "height": 331
        },
        "id": "G0dPHLjwVUGV",
        "outputId": "fc9c6806-91c2-4883-896f-98eb363fb373"
      },
      "outputs": [
        {
          "output_type": "execute_result",
          "data": {
            "text/plain": [
              "      strat    building_type    qty\n",
              "0     peace  research_center   3697\n",
              "1       war  research_center   3755\n",
              "2  no_strat  research_center   6685\n",
              "3     peace    assembly_shop   9116\n",
              "4     peace        spaceport  10788\n",
              "5       war    assembly_shop  16298\n",
              "6       war        spaceport  17132\n",
              "7  no_strat    assembly_shop  29080\n",
              "8  no_strat        spaceport  31405"
            ],
            "text/html": [
              "\n",
              "  <div id=\"df-d5545d36-2669-4f95-ab5e-a86320edd970\">\n",
              "    <div class=\"colab-df-container\">\n",
              "      <div>\n",
              "<style scoped>\n",
              "    .dataframe tbody tr th:only-of-type {\n",
              "        vertical-align: middle;\n",
              "    }\n",
              "\n",
              "    .dataframe tbody tr th {\n",
              "        vertical-align: top;\n",
              "    }\n",
              "\n",
              "    .dataframe thead th {\n",
              "        text-align: right;\n",
              "    }\n",
              "</style>\n",
              "<table border=\"1\" class=\"dataframe\">\n",
              "  <thead>\n",
              "    <tr style=\"text-align: right;\">\n",
              "      <th></th>\n",
              "      <th>strat</th>\n",
              "      <th>building_type</th>\n",
              "      <th>qty</th>\n",
              "    </tr>\n",
              "  </thead>\n",
              "  <tbody>\n",
              "    <tr>\n",
              "      <th>0</th>\n",
              "      <td>peace</td>\n",
              "      <td>research_center</td>\n",
              "      <td>3697</td>\n",
              "    </tr>\n",
              "    <tr>\n",
              "      <th>1</th>\n",
              "      <td>war</td>\n",
              "      <td>research_center</td>\n",
              "      <td>3755</td>\n",
              "    </tr>\n",
              "    <tr>\n",
              "      <th>2</th>\n",
              "      <td>no_strat</td>\n",
              "      <td>research_center</td>\n",
              "      <td>6685</td>\n",
              "    </tr>\n",
              "    <tr>\n",
              "      <th>3</th>\n",
              "      <td>peace</td>\n",
              "      <td>assembly_shop</td>\n",
              "      <td>9116</td>\n",
              "    </tr>\n",
              "    <tr>\n",
              "      <th>4</th>\n",
              "      <td>peace</td>\n",
              "      <td>spaceport</td>\n",
              "      <td>10788</td>\n",
              "    </tr>\n",
              "    <tr>\n",
              "      <th>5</th>\n",
              "      <td>war</td>\n",
              "      <td>assembly_shop</td>\n",
              "      <td>16298</td>\n",
              "    </tr>\n",
              "    <tr>\n",
              "      <th>6</th>\n",
              "      <td>war</td>\n",
              "      <td>spaceport</td>\n",
              "      <td>17132</td>\n",
              "    </tr>\n",
              "    <tr>\n",
              "      <th>7</th>\n",
              "      <td>no_strat</td>\n",
              "      <td>assembly_shop</td>\n",
              "      <td>29080</td>\n",
              "    </tr>\n",
              "    <tr>\n",
              "      <th>8</th>\n",
              "      <td>no_strat</td>\n",
              "      <td>spaceport</td>\n",
              "      <td>31405</td>\n",
              "    </tr>\n",
              "  </tbody>\n",
              "</table>\n",
              "</div>\n",
              "      <button class=\"colab-df-convert\" onclick=\"convertToInteractive('df-d5545d36-2669-4f95-ab5e-a86320edd970')\"\n",
              "              title=\"Convert this dataframe to an interactive table.\"\n",
              "              style=\"display:none;\">\n",
              "        \n",
              "  <svg xmlns=\"http://www.w3.org/2000/svg\" height=\"24px\"viewBox=\"0 0 24 24\"\n",
              "       width=\"24px\">\n",
              "    <path d=\"M0 0h24v24H0V0z\" fill=\"none\"/>\n",
              "    <path d=\"M18.56 5.44l.94 2.06.94-2.06 2.06-.94-2.06-.94-.94-2.06-.94 2.06-2.06.94zm-11 1L8.5 8.5l.94-2.06 2.06-.94-2.06-.94L8.5 2.5l-.94 2.06-2.06.94zm10 10l.94 2.06.94-2.06 2.06-.94-2.06-.94-.94-2.06-.94 2.06-2.06.94z\"/><path d=\"M17.41 7.96l-1.37-1.37c-.4-.4-.92-.59-1.43-.59-.52 0-1.04.2-1.43.59L10.3 9.45l-7.72 7.72c-.78.78-.78 2.05 0 2.83L4 21.41c.39.39.9.59 1.41.59.51 0 1.02-.2 1.41-.59l7.78-7.78 2.81-2.81c.8-.78.8-2.07 0-2.86zM5.41 20L4 18.59l7.72-7.72 1.47 1.35L5.41 20z\"/>\n",
              "  </svg>\n",
              "      </button>\n",
              "      \n",
              "  <style>\n",
              "    .colab-df-container {\n",
              "      display:flex;\n",
              "      flex-wrap:wrap;\n",
              "      gap: 12px;\n",
              "    }\n",
              "\n",
              "    .colab-df-convert {\n",
              "      background-color: #E8F0FE;\n",
              "      border: none;\n",
              "      border-radius: 50%;\n",
              "      cursor: pointer;\n",
              "      display: none;\n",
              "      fill: #1967D2;\n",
              "      height: 32px;\n",
              "      padding: 0 0 0 0;\n",
              "      width: 32px;\n",
              "    }\n",
              "\n",
              "    .colab-df-convert:hover {\n",
              "      background-color: #E2EBFA;\n",
              "      box-shadow: 0px 1px 2px rgba(60, 64, 67, 0.3), 0px 1px 3px 1px rgba(60, 64, 67, 0.15);\n",
              "      fill: #174EA6;\n",
              "    }\n",
              "\n",
              "    [theme=dark] .colab-df-convert {\n",
              "      background-color: #3B4455;\n",
              "      fill: #D2E3FC;\n",
              "    }\n",
              "\n",
              "    [theme=dark] .colab-df-convert:hover {\n",
              "      background-color: #434B5C;\n",
              "      box-shadow: 0px 1px 3px 1px rgba(0, 0, 0, 0.15);\n",
              "      filter: drop-shadow(0px 1px 2px rgba(0, 0, 0, 0.3));\n",
              "      fill: #FFFFFF;\n",
              "    }\n",
              "  </style>\n",
              "\n",
              "      <script>\n",
              "        const buttonEl =\n",
              "          document.querySelector('#df-d5545d36-2669-4f95-ab5e-a86320edd970 button.colab-df-convert');\n",
              "        buttonEl.style.display =\n",
              "          google.colab.kernel.accessAllowed ? 'block' : 'none';\n",
              "\n",
              "        async function convertToInteractive(key) {\n",
              "          const element = document.querySelector('#df-d5545d36-2669-4f95-ab5e-a86320edd970');\n",
              "          const dataTable =\n",
              "            await google.colab.kernel.invokeFunction('convertToInteractive',\n",
              "                                                     [key], {});\n",
              "          if (!dataTable) return;\n",
              "\n",
              "          const docLinkHtml = 'Like what you see? Visit the ' +\n",
              "            '<a target=\"_blank\" href=https://colab.research.google.com/notebooks/data_table.ipynb>data table notebook</a>'\n",
              "            + ' to learn more about interactive tables.';\n",
              "          element.innerHTML = '';\n",
              "          dataTable['output_type'] = 'display_data';\n",
              "          await google.colab.output.renderOutput(dataTable, element);\n",
              "          const docLink = document.createElement('div');\n",
              "          docLink.innerHTML = docLinkHtml;\n",
              "          element.appendChild(docLink);\n",
              "        }\n",
              "      </script>\n",
              "    </div>\n",
              "  </div>\n",
              "  "
            ]
          },
          "metadata": {},
          "execution_count": 34
        }
      ],
      "source": [
        "build_by_user_strat = build_by_strat.groupby(['strat','building_type'])['qty'].sum().sort_values().reset_index()\n",
        "build_by_user_strat"
      ]
    },
    {
      "cell_type": "code",
      "execution_count": 35,
      "metadata": {
        "colab": {
          "base_uri": "https://localhost:8080/",
          "height": 542
        },
        "id": "p909PUmqVUGW",
        "outputId": "d3b19c42-4aaa-4cf1-eb1c-7f3176d55a26"
      },
      "outputs": [
        {
          "output_type": "display_data",
          "data": {
            "text/html": [
              "<html>\n",
              "<head><meta charset=\"utf-8\" /></head>\n",
              "<body>\n",
              "    <div>            <script src=\"https://cdnjs.cloudflare.com/ajax/libs/mathjax/2.7.5/MathJax.js?config=TeX-AMS-MML_SVG\"></script><script type=\"text/javascript\">if (window.MathJax && window.MathJax.Hub && window.MathJax.Hub.Config) {window.MathJax.Hub.Config({SVG: {font: \"STIX-Web\"}});}</script>                <script type=\"text/javascript\">window.PlotlyConfig = {MathJaxConfig: 'local'};</script>\n",
              "        <script src=\"https://cdn.plot.ly/plotly-2.18.2.min.js\"></script>                <div id=\"8ef17696-87a7-4104-b13b-f452b1ea8564\" class=\"plotly-graph-div\" style=\"height:525px; width:100%;\"></div>            <script type=\"text/javascript\">                                    window.PLOTLYENV=window.PLOTLYENV || {};                                    if (document.getElementById(\"8ef17696-87a7-4104-b13b-f452b1ea8564\")) {                    Plotly.newPlot(                        \"8ef17696-87a7-4104-b13b-f452b1ea8564\",                        [{\"alignmentgroup\":\"True\",\"hovertemplate\":\"building_type=research_center<br>\\u0421\\u0442\\u0440\\u0430\\u0442\\u0435\\u0433\\u0438\\u044f=%{x}<br>\\u041a\\u043e\\u043b\\u0438\\u0447\\u0435\\u0441\\u0442\\u0432\\u043e=%{text}<extra></extra>\",\"legendgroup\":\"research_center\",\"marker\":{\"color\":\"#636efa\",\"pattern\":{\"shape\":\"\"}},\"name\":\"research_center\",\"offsetgroup\":\"research_center\",\"orientation\":\"v\",\"showlegend\":true,\"text\":[3697.0,3755.0,6685.0],\"textposition\":\"auto\",\"x\":[\"peace\",\"war\",\"no_strat\"],\"xaxis\":\"x\",\"y\":[3697,3755,6685],\"yaxis\":\"y\",\"type\":\"bar\"},{\"alignmentgroup\":\"True\",\"hovertemplate\":\"building_type=assembly_shop<br>\\u0421\\u0442\\u0440\\u0430\\u0442\\u0435\\u0433\\u0438\\u044f=%{x}<br>\\u041a\\u043e\\u043b\\u0438\\u0447\\u0435\\u0441\\u0442\\u0432\\u043e=%{text}<extra></extra>\",\"legendgroup\":\"assembly_shop\",\"marker\":{\"color\":\"#EF553B\",\"pattern\":{\"shape\":\"\"}},\"name\":\"assembly_shop\",\"offsetgroup\":\"assembly_shop\",\"orientation\":\"v\",\"showlegend\":true,\"text\":[9116.0,16298.0,29080.0],\"textposition\":\"auto\",\"x\":[\"peace\",\"war\",\"no_strat\"],\"xaxis\":\"x\",\"y\":[9116,16298,29080],\"yaxis\":\"y\",\"type\":\"bar\"},{\"alignmentgroup\":\"True\",\"hovertemplate\":\"building_type=spaceport<br>\\u0421\\u0442\\u0440\\u0430\\u0442\\u0435\\u0433\\u0438\\u044f=%{x}<br>\\u041a\\u043e\\u043b\\u0438\\u0447\\u0435\\u0441\\u0442\\u0432\\u043e=%{text}<extra></extra>\",\"legendgroup\":\"spaceport\",\"marker\":{\"color\":\"#00cc96\",\"pattern\":{\"shape\":\"\"}},\"name\":\"spaceport\",\"offsetgroup\":\"spaceport\",\"orientation\":\"v\",\"showlegend\":true,\"text\":[10788.0,17132.0,31405.0],\"textposition\":\"auto\",\"x\":[\"peace\",\"war\",\"no_strat\"],\"xaxis\":\"x\",\"y\":[10788,17132,31405],\"yaxis\":\"y\",\"type\":\"bar\"}],                        {\"template\":{\"data\":{\"histogram2dcontour\":[{\"type\":\"histogram2dcontour\",\"colorbar\":{\"outlinewidth\":0,\"ticks\":\"\"},\"colorscale\":[[0.0,\"#0d0887\"],[0.1111111111111111,\"#46039f\"],[0.2222222222222222,\"#7201a8\"],[0.3333333333333333,\"#9c179e\"],[0.4444444444444444,\"#bd3786\"],[0.5555555555555556,\"#d8576b\"],[0.6666666666666666,\"#ed7953\"],[0.7777777777777778,\"#fb9f3a\"],[0.8888888888888888,\"#fdca26\"],[1.0,\"#f0f921\"]]}],\"choropleth\":[{\"type\":\"choropleth\",\"colorbar\":{\"outlinewidth\":0,\"ticks\":\"\"}}],\"histogram2d\":[{\"type\":\"histogram2d\",\"colorbar\":{\"outlinewidth\":0,\"ticks\":\"\"},\"colorscale\":[[0.0,\"#0d0887\"],[0.1111111111111111,\"#46039f\"],[0.2222222222222222,\"#7201a8\"],[0.3333333333333333,\"#9c179e\"],[0.4444444444444444,\"#bd3786\"],[0.5555555555555556,\"#d8576b\"],[0.6666666666666666,\"#ed7953\"],[0.7777777777777778,\"#fb9f3a\"],[0.8888888888888888,\"#fdca26\"],[1.0,\"#f0f921\"]]}],\"heatmap\":[{\"type\":\"heatmap\",\"colorbar\":{\"outlinewidth\":0,\"ticks\":\"\"},\"colorscale\":[[0.0,\"#0d0887\"],[0.1111111111111111,\"#46039f\"],[0.2222222222222222,\"#7201a8\"],[0.3333333333333333,\"#9c179e\"],[0.4444444444444444,\"#bd3786\"],[0.5555555555555556,\"#d8576b\"],[0.6666666666666666,\"#ed7953\"],[0.7777777777777778,\"#fb9f3a\"],[0.8888888888888888,\"#fdca26\"],[1.0,\"#f0f921\"]]}],\"heatmapgl\":[{\"type\":\"heatmapgl\",\"colorbar\":{\"outlinewidth\":0,\"ticks\":\"\"},\"colorscale\":[[0.0,\"#0d0887\"],[0.1111111111111111,\"#46039f\"],[0.2222222222222222,\"#7201a8\"],[0.3333333333333333,\"#9c179e\"],[0.4444444444444444,\"#bd3786\"],[0.5555555555555556,\"#d8576b\"],[0.6666666666666666,\"#ed7953\"],[0.7777777777777778,\"#fb9f3a\"],[0.8888888888888888,\"#fdca26\"],[1.0,\"#f0f921\"]]}],\"contourcarpet\":[{\"type\":\"contourcarpet\",\"colorbar\":{\"outlinewidth\":0,\"ticks\":\"\"}}],\"contour\":[{\"type\":\"contour\",\"colorbar\":{\"outlinewidth\":0,\"ticks\":\"\"},\"colorscale\":[[0.0,\"#0d0887\"],[0.1111111111111111,\"#46039f\"],[0.2222222222222222,\"#7201a8\"],[0.3333333333333333,\"#9c179e\"],[0.4444444444444444,\"#bd3786\"],[0.5555555555555556,\"#d8576b\"],[0.6666666666666666,\"#ed7953\"],[0.7777777777777778,\"#fb9f3a\"],[0.8888888888888888,\"#fdca26\"],[1.0,\"#f0f921\"]]}],\"surface\":[{\"type\":\"surface\",\"colorbar\":{\"outlinewidth\":0,\"ticks\":\"\"},\"colorscale\":[[0.0,\"#0d0887\"],[0.1111111111111111,\"#46039f\"],[0.2222222222222222,\"#7201a8\"],[0.3333333333333333,\"#9c179e\"],[0.4444444444444444,\"#bd3786\"],[0.5555555555555556,\"#d8576b\"],[0.6666666666666666,\"#ed7953\"],[0.7777777777777778,\"#fb9f3a\"],[0.8888888888888888,\"#fdca26\"],[1.0,\"#f0f921\"]]}],\"mesh3d\":[{\"type\":\"mesh3d\",\"colorbar\":{\"outlinewidth\":0,\"ticks\":\"\"}}],\"scatter\":[{\"fillpattern\":{\"fillmode\":\"overlay\",\"size\":10,\"solidity\":0.2},\"type\":\"scatter\"}],\"parcoords\":[{\"type\":\"parcoords\",\"line\":{\"colorbar\":{\"outlinewidth\":0,\"ticks\":\"\"}}}],\"scatterpolargl\":[{\"type\":\"scatterpolargl\",\"marker\":{\"colorbar\":{\"outlinewidth\":0,\"ticks\":\"\"}}}],\"bar\":[{\"error_x\":{\"color\":\"#2a3f5f\"},\"error_y\":{\"color\":\"#2a3f5f\"},\"marker\":{\"line\":{\"color\":\"#E5ECF6\",\"width\":0.5},\"pattern\":{\"fillmode\":\"overlay\",\"size\":10,\"solidity\":0.2}},\"type\":\"bar\"}],\"scattergeo\":[{\"type\":\"scattergeo\",\"marker\":{\"colorbar\":{\"outlinewidth\":0,\"ticks\":\"\"}}}],\"scatterpolar\":[{\"type\":\"scatterpolar\",\"marker\":{\"colorbar\":{\"outlinewidth\":0,\"ticks\":\"\"}}}],\"histogram\":[{\"marker\":{\"pattern\":{\"fillmode\":\"overlay\",\"size\":10,\"solidity\":0.2}},\"type\":\"histogram\"}],\"scattergl\":[{\"type\":\"scattergl\",\"marker\":{\"colorbar\":{\"outlinewidth\":0,\"ticks\":\"\"}}}],\"scatter3d\":[{\"type\":\"scatter3d\",\"line\":{\"colorbar\":{\"outlinewidth\":0,\"ticks\":\"\"}},\"marker\":{\"colorbar\":{\"outlinewidth\":0,\"ticks\":\"\"}}}],\"scattermapbox\":[{\"type\":\"scattermapbox\",\"marker\":{\"colorbar\":{\"outlinewidth\":0,\"ticks\":\"\"}}}],\"scatterternary\":[{\"type\":\"scatterternary\",\"marker\":{\"colorbar\":{\"outlinewidth\":0,\"ticks\":\"\"}}}],\"scattercarpet\":[{\"type\":\"scattercarpet\",\"marker\":{\"colorbar\":{\"outlinewidth\":0,\"ticks\":\"\"}}}],\"carpet\":[{\"aaxis\":{\"endlinecolor\":\"#2a3f5f\",\"gridcolor\":\"white\",\"linecolor\":\"white\",\"minorgridcolor\":\"white\",\"startlinecolor\":\"#2a3f5f\"},\"baxis\":{\"endlinecolor\":\"#2a3f5f\",\"gridcolor\":\"white\",\"linecolor\":\"white\",\"minorgridcolor\":\"white\",\"startlinecolor\":\"#2a3f5f\"},\"type\":\"carpet\"}],\"table\":[{\"cells\":{\"fill\":{\"color\":\"#EBF0F8\"},\"line\":{\"color\":\"white\"}},\"header\":{\"fill\":{\"color\":\"#C8D4E3\"},\"line\":{\"color\":\"white\"}},\"type\":\"table\"}],\"barpolar\":[{\"marker\":{\"line\":{\"color\":\"#E5ECF6\",\"width\":0.5},\"pattern\":{\"fillmode\":\"overlay\",\"size\":10,\"solidity\":0.2}},\"type\":\"barpolar\"}],\"pie\":[{\"automargin\":true,\"type\":\"pie\"}]},\"layout\":{\"autotypenumbers\":\"strict\",\"colorway\":[\"#636efa\",\"#EF553B\",\"#00cc96\",\"#ab63fa\",\"#FFA15A\",\"#19d3f3\",\"#FF6692\",\"#B6E880\",\"#FF97FF\",\"#FECB52\"],\"font\":{\"color\":\"#2a3f5f\"},\"hovermode\":\"closest\",\"hoverlabel\":{\"align\":\"left\"},\"paper_bgcolor\":\"white\",\"plot_bgcolor\":\"#E5ECF6\",\"polar\":{\"bgcolor\":\"#E5ECF6\",\"angularaxis\":{\"gridcolor\":\"white\",\"linecolor\":\"white\",\"ticks\":\"\"},\"radialaxis\":{\"gridcolor\":\"white\",\"linecolor\":\"white\",\"ticks\":\"\"}},\"ternary\":{\"bgcolor\":\"#E5ECF6\",\"aaxis\":{\"gridcolor\":\"white\",\"linecolor\":\"white\",\"ticks\":\"\"},\"baxis\":{\"gridcolor\":\"white\",\"linecolor\":\"white\",\"ticks\":\"\"},\"caxis\":{\"gridcolor\":\"white\",\"linecolor\":\"white\",\"ticks\":\"\"}},\"coloraxis\":{\"colorbar\":{\"outlinewidth\":0,\"ticks\":\"\"}},\"colorscale\":{\"sequential\":[[0.0,\"#0d0887\"],[0.1111111111111111,\"#46039f\"],[0.2222222222222222,\"#7201a8\"],[0.3333333333333333,\"#9c179e\"],[0.4444444444444444,\"#bd3786\"],[0.5555555555555556,\"#d8576b\"],[0.6666666666666666,\"#ed7953\"],[0.7777777777777778,\"#fb9f3a\"],[0.8888888888888888,\"#fdca26\"],[1.0,\"#f0f921\"]],\"sequentialminus\":[[0.0,\"#0d0887\"],[0.1111111111111111,\"#46039f\"],[0.2222222222222222,\"#7201a8\"],[0.3333333333333333,\"#9c179e\"],[0.4444444444444444,\"#bd3786\"],[0.5555555555555556,\"#d8576b\"],[0.6666666666666666,\"#ed7953\"],[0.7777777777777778,\"#fb9f3a\"],[0.8888888888888888,\"#fdca26\"],[1.0,\"#f0f921\"]],\"diverging\":[[0,\"#8e0152\"],[0.1,\"#c51b7d\"],[0.2,\"#de77ae\"],[0.3,\"#f1b6da\"],[0.4,\"#fde0ef\"],[0.5,\"#f7f7f7\"],[0.6,\"#e6f5d0\"],[0.7,\"#b8e186\"],[0.8,\"#7fbc41\"],[0.9,\"#4d9221\"],[1,\"#276419\"]]},\"xaxis\":{\"gridcolor\":\"white\",\"linecolor\":\"white\",\"ticks\":\"\",\"title\":{\"standoff\":15},\"zerolinecolor\":\"white\",\"automargin\":true,\"zerolinewidth\":2},\"yaxis\":{\"gridcolor\":\"white\",\"linecolor\":\"white\",\"ticks\":\"\",\"title\":{\"standoff\":15},\"zerolinecolor\":\"white\",\"automargin\":true,\"zerolinewidth\":2},\"scene\":{\"xaxis\":{\"backgroundcolor\":\"#E5ECF6\",\"gridcolor\":\"white\",\"linecolor\":\"white\",\"showbackground\":true,\"ticks\":\"\",\"zerolinecolor\":\"white\",\"gridwidth\":2},\"yaxis\":{\"backgroundcolor\":\"#E5ECF6\",\"gridcolor\":\"white\",\"linecolor\":\"white\",\"showbackground\":true,\"ticks\":\"\",\"zerolinecolor\":\"white\",\"gridwidth\":2},\"zaxis\":{\"backgroundcolor\":\"#E5ECF6\",\"gridcolor\":\"white\",\"linecolor\":\"white\",\"showbackground\":true,\"ticks\":\"\",\"zerolinecolor\":\"white\",\"gridwidth\":2}},\"shapedefaults\":{\"line\":{\"color\":\"#2a3f5f\"}},\"annotationdefaults\":{\"arrowcolor\":\"#2a3f5f\",\"arrowhead\":0,\"arrowwidth\":1},\"geo\":{\"bgcolor\":\"white\",\"landcolor\":\"#E5ECF6\",\"subunitcolor\":\"white\",\"showland\":true,\"showlakes\":true,\"lakecolor\":\"white\"},\"title\":{\"x\":0.05},\"mapbox\":{\"style\":\"light\"}}},\"xaxis\":{\"anchor\":\"y\",\"domain\":[0.0,1.0],\"title\":{\"text\":\"\\u0421\\u0442\\u0440\\u0430\\u0442\\u0435\\u0433\\u0438\\u044f\"}},\"yaxis\":{\"anchor\":\"x\",\"domain\":[0.0,1.0],\"title\":{\"text\":\"\\u041a\\u043e\\u043b\\u0438\\u0447\\u0435\\u0441\\u0442\\u0432\\u043e\"}},\"legend\":{\"title\":{\"text\":\"building_type\"},\"tracegroupgap\":0},\"title\":{\"text\":\"\\u041a\\u043e\\u043b\\u0438\\u0447\\u0435\\u0441\\u0442\\u0432\\u043e \\u0440\\u0430\\u0437\\u043b\\u0438\\u0447\\u043d\\u044b\\u0445 \\u043f\\u043e\\u0441\\u0442\\u0440\\u043e\\u0435\\u043d\\u044b\\u0445 \\u0437\\u0434\\u0430\\u043d\\u0438\\u0439 \\u043f\\u043e \\u0441\\u0442\\u0440\\u0430\\u0442\\u0435\\u0433\\u0438\\u0438\"},\"barmode\":\"group\"},                        {\"responsive\": true}                    ).then(function(){\n",
              "                            \n",
              "var gd = document.getElementById('8ef17696-87a7-4104-b13b-f452b1ea8564');\n",
              "var x = new MutationObserver(function (mutations, observer) {{\n",
              "        var display = window.getComputedStyle(gd).display;\n",
              "        if (!display || display === 'none') {{\n",
              "            console.log([gd, 'removed!']);\n",
              "            Plotly.purge(gd);\n",
              "            observer.disconnect();\n",
              "        }}\n",
              "}});\n",
              "\n",
              "// Listen for the removal of the full notebook cells\n",
              "var notebookContainer = gd.closest('#notebook-container');\n",
              "if (notebookContainer) {{\n",
              "    x.observe(notebookContainer, {childList: true});\n",
              "}}\n",
              "\n",
              "// Listen for the clearing of the current output cell\n",
              "var outputEl = gd.closest('.output');\n",
              "if (outputEl) {{\n",
              "    x.observe(outputEl, {childList: true});\n",
              "}}\n",
              "\n",
              "                        })                };                            </script>        </div>\n",
              "</body>\n",
              "</html>"
            ]
          },
          "metadata": {}
        }
      ],
      "source": [
        "fig = px.bar(build_by_user_strat, x=\"strat\", y='qty', text = 'qty', color = 'building_type',barmode='group', title=\"Количество различных построеных зданий по стратегии\", labels={'qty':'Количество','strat':'Стратегия'})\n",
        "fig.show()"
      ]
    },
    {
      "cell_type": "code",
      "execution_count": 36,
      "metadata": {
        "colab": {
          "base_uri": "https://localhost:8080/",
          "height": 143
        },
        "id": "M0eisTVLVUGW",
        "outputId": "52254482-f5cc-498a-93a6-46b7e36121ce"
      },
      "outputs": [
        {
          "output_type": "execute_result",
          "data": {
            "text/plain": [
              "     building_type   ad_rev    qty\n",
              "0  research_center   989.59  14137\n",
              "1    assembly_shop  3814.58  54494\n",
              "2        spaceport  4152.75  59325"
            ],
            "text/html": [
              "\n",
              "  <div id=\"df-a6fbdc45-8769-4359-8391-c2bc789438fc\">\n",
              "    <div class=\"colab-df-container\">\n",
              "      <div>\n",
              "<style scoped>\n",
              "    .dataframe tbody tr th:only-of-type {\n",
              "        vertical-align: middle;\n",
              "    }\n",
              "\n",
              "    .dataframe tbody tr th {\n",
              "        vertical-align: top;\n",
              "    }\n",
              "\n",
              "    .dataframe thead th {\n",
              "        text-align: right;\n",
              "    }\n",
              "</style>\n",
              "<table border=\"1\" class=\"dataframe\">\n",
              "  <thead>\n",
              "    <tr style=\"text-align: right;\">\n",
              "      <th></th>\n",
              "      <th>building_type</th>\n",
              "      <th>ad_rev</th>\n",
              "      <th>qty</th>\n",
              "    </tr>\n",
              "  </thead>\n",
              "  <tbody>\n",
              "    <tr>\n",
              "      <th>0</th>\n",
              "      <td>research_center</td>\n",
              "      <td>989.59</td>\n",
              "      <td>14137</td>\n",
              "    </tr>\n",
              "    <tr>\n",
              "      <th>1</th>\n",
              "      <td>assembly_shop</td>\n",
              "      <td>3814.58</td>\n",
              "      <td>54494</td>\n",
              "    </tr>\n",
              "    <tr>\n",
              "      <th>2</th>\n",
              "      <td>spaceport</td>\n",
              "      <td>4152.75</td>\n",
              "      <td>59325</td>\n",
              "    </tr>\n",
              "  </tbody>\n",
              "</table>\n",
              "</div>\n",
              "      <button class=\"colab-df-convert\" onclick=\"convertToInteractive('df-a6fbdc45-8769-4359-8391-c2bc789438fc')\"\n",
              "              title=\"Convert this dataframe to an interactive table.\"\n",
              "              style=\"display:none;\">\n",
              "        \n",
              "  <svg xmlns=\"http://www.w3.org/2000/svg\" height=\"24px\"viewBox=\"0 0 24 24\"\n",
              "       width=\"24px\">\n",
              "    <path d=\"M0 0h24v24H0V0z\" fill=\"none\"/>\n",
              "    <path d=\"M18.56 5.44l.94 2.06.94-2.06 2.06-.94-2.06-.94-.94-2.06-.94 2.06-2.06.94zm-11 1L8.5 8.5l.94-2.06 2.06-.94-2.06-.94L8.5 2.5l-.94 2.06-2.06.94zm10 10l.94 2.06.94-2.06 2.06-.94-2.06-.94-.94-2.06-.94 2.06-2.06.94z\"/><path d=\"M17.41 7.96l-1.37-1.37c-.4-.4-.92-.59-1.43-.59-.52 0-1.04.2-1.43.59L10.3 9.45l-7.72 7.72c-.78.78-.78 2.05 0 2.83L4 21.41c.39.39.9.59 1.41.59.51 0 1.02-.2 1.41-.59l7.78-7.78 2.81-2.81c.8-.78.8-2.07 0-2.86zM5.41 20L4 18.59l7.72-7.72 1.47 1.35L5.41 20z\"/>\n",
              "  </svg>\n",
              "      </button>\n",
              "      \n",
              "  <style>\n",
              "    .colab-df-container {\n",
              "      display:flex;\n",
              "      flex-wrap:wrap;\n",
              "      gap: 12px;\n",
              "    }\n",
              "\n",
              "    .colab-df-convert {\n",
              "      background-color: #E8F0FE;\n",
              "      border: none;\n",
              "      border-radius: 50%;\n",
              "      cursor: pointer;\n",
              "      display: none;\n",
              "      fill: #1967D2;\n",
              "      height: 32px;\n",
              "      padding: 0 0 0 0;\n",
              "      width: 32px;\n",
              "    }\n",
              "\n",
              "    .colab-df-convert:hover {\n",
              "      background-color: #E2EBFA;\n",
              "      box-shadow: 0px 1px 2px rgba(60, 64, 67, 0.3), 0px 1px 3px 1px rgba(60, 64, 67, 0.15);\n",
              "      fill: #174EA6;\n",
              "    }\n",
              "\n",
              "    [theme=dark] .colab-df-convert {\n",
              "      background-color: #3B4455;\n",
              "      fill: #D2E3FC;\n",
              "    }\n",
              "\n",
              "    [theme=dark] .colab-df-convert:hover {\n",
              "      background-color: #434B5C;\n",
              "      box-shadow: 0px 1px 3px 1px rgba(0, 0, 0, 0.15);\n",
              "      filter: drop-shadow(0px 1px 2px rgba(0, 0, 0, 0.3));\n",
              "      fill: #FFFFFF;\n",
              "    }\n",
              "  </style>\n",
              "\n",
              "      <script>\n",
              "        const buttonEl =\n",
              "          document.querySelector('#df-a6fbdc45-8769-4359-8391-c2bc789438fc button.colab-df-convert');\n",
              "        buttonEl.style.display =\n",
              "          google.colab.kernel.accessAllowed ? 'block' : 'none';\n",
              "\n",
              "        async function convertToInteractive(key) {\n",
              "          const element = document.querySelector('#df-a6fbdc45-8769-4359-8391-c2bc789438fc');\n",
              "          const dataTable =\n",
              "            await google.colab.kernel.invokeFunction('convertToInteractive',\n",
              "                                                     [key], {});\n",
              "          if (!dataTable) return;\n",
              "\n",
              "          const docLinkHtml = 'Like what you see? Visit the ' +\n",
              "            '<a target=\"_blank\" href=https://colab.research.google.com/notebooks/data_table.ipynb>data table notebook</a>'\n",
              "            + ' to learn more about interactive tables.';\n",
              "          element.innerHTML = '';\n",
              "          dataTable['output_type'] = 'display_data';\n",
              "          await google.colab.output.renderOutput(dataTable, element);\n",
              "          const docLink = document.createElement('div');\n",
              "          docLink.innerHTML = docLinkHtml;\n",
              "          element.appendChild(docLink);\n",
              "        }\n",
              "      </script>\n",
              "    </div>\n",
              "  </div>\n",
              "  "
            ]
          },
          "metadata": {},
          "execution_count": 36
        }
      ],
      "source": [
        "type_count = build_by_strat.groupby('building_type').sum().sort_values(by = 'qty').reset_index()\n",
        "type_count"
      ]
    },
    {
      "cell_type": "code",
      "execution_count": 37,
      "metadata": {
        "colab": {
          "base_uri": "https://localhost:8080/",
          "height": 542
        },
        "id": "sDbqhLWOVUGW",
        "outputId": "3ce7532a-3d04-4514-f6ca-a989c7dfbc57"
      },
      "outputs": [
        {
          "output_type": "display_data",
          "data": {
            "text/html": [
              "<html>\n",
              "<head><meta charset=\"utf-8\" /></head>\n",
              "<body>\n",
              "    <div>            <script src=\"https://cdnjs.cloudflare.com/ajax/libs/mathjax/2.7.5/MathJax.js?config=TeX-AMS-MML_SVG\"></script><script type=\"text/javascript\">if (window.MathJax && window.MathJax.Hub && window.MathJax.Hub.Config) {window.MathJax.Hub.Config({SVG: {font: \"STIX-Web\"}});}</script>                <script type=\"text/javascript\">window.PlotlyConfig = {MathJaxConfig: 'local'};</script>\n",
              "        <script src=\"https://cdn.plot.ly/plotly-2.18.2.min.js\"></script>                <div id=\"d5e8a61b-a992-4e99-8c5c-961d4562aa34\" class=\"plotly-graph-div\" style=\"height:525px; width:100%;\"></div>            <script type=\"text/javascript\">                                    window.PLOTLYENV=window.PLOTLYENV || {};                                    if (document.getElementById(\"d5e8a61b-a992-4e99-8c5c-961d4562aa34\")) {                    Plotly.newPlot(                        \"d5e8a61b-a992-4e99-8c5c-961d4562aa34\",                        [{\"alignmentgroup\":\"True\",\"hovertemplate\":\"\\u0422\\u0438\\u043f \\u0437\\u0434\\u0430\\u043d\\u0438\\u044f=%{x}<br>\\u041a\\u043e\\u043b\\u0438\\u0447\\u0435\\u0441\\u0442\\u0432\\u043e=%{text}<extra></extra>\",\"legendgroup\":\"\",\"marker\":{\"color\":\"#636efa\",\"pattern\":{\"shape\":\"\"}},\"name\":\"\",\"offsetgroup\":\"\",\"orientation\":\"v\",\"showlegend\":false,\"text\":[14137.0,54494.0,59325.0],\"textposition\":\"auto\",\"x\":[\"research_center\",\"assembly_shop\",\"spaceport\"],\"xaxis\":\"x\",\"y\":[14137,54494,59325],\"yaxis\":\"y\",\"type\":\"bar\"}],                        {\"template\":{\"data\":{\"histogram2dcontour\":[{\"type\":\"histogram2dcontour\",\"colorbar\":{\"outlinewidth\":0,\"ticks\":\"\"},\"colorscale\":[[0.0,\"#0d0887\"],[0.1111111111111111,\"#46039f\"],[0.2222222222222222,\"#7201a8\"],[0.3333333333333333,\"#9c179e\"],[0.4444444444444444,\"#bd3786\"],[0.5555555555555556,\"#d8576b\"],[0.6666666666666666,\"#ed7953\"],[0.7777777777777778,\"#fb9f3a\"],[0.8888888888888888,\"#fdca26\"],[1.0,\"#f0f921\"]]}],\"choropleth\":[{\"type\":\"choropleth\",\"colorbar\":{\"outlinewidth\":0,\"ticks\":\"\"}}],\"histogram2d\":[{\"type\":\"histogram2d\",\"colorbar\":{\"outlinewidth\":0,\"ticks\":\"\"},\"colorscale\":[[0.0,\"#0d0887\"],[0.1111111111111111,\"#46039f\"],[0.2222222222222222,\"#7201a8\"],[0.3333333333333333,\"#9c179e\"],[0.4444444444444444,\"#bd3786\"],[0.5555555555555556,\"#d8576b\"],[0.6666666666666666,\"#ed7953\"],[0.7777777777777778,\"#fb9f3a\"],[0.8888888888888888,\"#fdca26\"],[1.0,\"#f0f921\"]]}],\"heatmap\":[{\"type\":\"heatmap\",\"colorbar\":{\"outlinewidth\":0,\"ticks\":\"\"},\"colorscale\":[[0.0,\"#0d0887\"],[0.1111111111111111,\"#46039f\"],[0.2222222222222222,\"#7201a8\"],[0.3333333333333333,\"#9c179e\"],[0.4444444444444444,\"#bd3786\"],[0.5555555555555556,\"#d8576b\"],[0.6666666666666666,\"#ed7953\"],[0.7777777777777778,\"#fb9f3a\"],[0.8888888888888888,\"#fdca26\"],[1.0,\"#f0f921\"]]}],\"heatmapgl\":[{\"type\":\"heatmapgl\",\"colorbar\":{\"outlinewidth\":0,\"ticks\":\"\"},\"colorscale\":[[0.0,\"#0d0887\"],[0.1111111111111111,\"#46039f\"],[0.2222222222222222,\"#7201a8\"],[0.3333333333333333,\"#9c179e\"],[0.4444444444444444,\"#bd3786\"],[0.5555555555555556,\"#d8576b\"],[0.6666666666666666,\"#ed7953\"],[0.7777777777777778,\"#fb9f3a\"],[0.8888888888888888,\"#fdca26\"],[1.0,\"#f0f921\"]]}],\"contourcarpet\":[{\"type\":\"contourcarpet\",\"colorbar\":{\"outlinewidth\":0,\"ticks\":\"\"}}],\"contour\":[{\"type\":\"contour\",\"colorbar\":{\"outlinewidth\":0,\"ticks\":\"\"},\"colorscale\":[[0.0,\"#0d0887\"],[0.1111111111111111,\"#46039f\"],[0.2222222222222222,\"#7201a8\"],[0.3333333333333333,\"#9c179e\"],[0.4444444444444444,\"#bd3786\"],[0.5555555555555556,\"#d8576b\"],[0.6666666666666666,\"#ed7953\"],[0.7777777777777778,\"#fb9f3a\"],[0.8888888888888888,\"#fdca26\"],[1.0,\"#f0f921\"]]}],\"surface\":[{\"type\":\"surface\",\"colorbar\":{\"outlinewidth\":0,\"ticks\":\"\"},\"colorscale\":[[0.0,\"#0d0887\"],[0.1111111111111111,\"#46039f\"],[0.2222222222222222,\"#7201a8\"],[0.3333333333333333,\"#9c179e\"],[0.4444444444444444,\"#bd3786\"],[0.5555555555555556,\"#d8576b\"],[0.6666666666666666,\"#ed7953\"],[0.7777777777777778,\"#fb9f3a\"],[0.8888888888888888,\"#fdca26\"],[1.0,\"#f0f921\"]]}],\"mesh3d\":[{\"type\":\"mesh3d\",\"colorbar\":{\"outlinewidth\":0,\"ticks\":\"\"}}],\"scatter\":[{\"fillpattern\":{\"fillmode\":\"overlay\",\"size\":10,\"solidity\":0.2},\"type\":\"scatter\"}],\"parcoords\":[{\"type\":\"parcoords\",\"line\":{\"colorbar\":{\"outlinewidth\":0,\"ticks\":\"\"}}}],\"scatterpolargl\":[{\"type\":\"scatterpolargl\",\"marker\":{\"colorbar\":{\"outlinewidth\":0,\"ticks\":\"\"}}}],\"bar\":[{\"error_x\":{\"color\":\"#2a3f5f\"},\"error_y\":{\"color\":\"#2a3f5f\"},\"marker\":{\"line\":{\"color\":\"#E5ECF6\",\"width\":0.5},\"pattern\":{\"fillmode\":\"overlay\",\"size\":10,\"solidity\":0.2}},\"type\":\"bar\"}],\"scattergeo\":[{\"type\":\"scattergeo\",\"marker\":{\"colorbar\":{\"outlinewidth\":0,\"ticks\":\"\"}}}],\"scatterpolar\":[{\"type\":\"scatterpolar\",\"marker\":{\"colorbar\":{\"outlinewidth\":0,\"ticks\":\"\"}}}],\"histogram\":[{\"marker\":{\"pattern\":{\"fillmode\":\"overlay\",\"size\":10,\"solidity\":0.2}},\"type\":\"histogram\"}],\"scattergl\":[{\"type\":\"scattergl\",\"marker\":{\"colorbar\":{\"outlinewidth\":0,\"ticks\":\"\"}}}],\"scatter3d\":[{\"type\":\"scatter3d\",\"line\":{\"colorbar\":{\"outlinewidth\":0,\"ticks\":\"\"}},\"marker\":{\"colorbar\":{\"outlinewidth\":0,\"ticks\":\"\"}}}],\"scattermapbox\":[{\"type\":\"scattermapbox\",\"marker\":{\"colorbar\":{\"outlinewidth\":0,\"ticks\":\"\"}}}],\"scatterternary\":[{\"type\":\"scatterternary\",\"marker\":{\"colorbar\":{\"outlinewidth\":0,\"ticks\":\"\"}}}],\"scattercarpet\":[{\"type\":\"scattercarpet\",\"marker\":{\"colorbar\":{\"outlinewidth\":0,\"ticks\":\"\"}}}],\"carpet\":[{\"aaxis\":{\"endlinecolor\":\"#2a3f5f\",\"gridcolor\":\"white\",\"linecolor\":\"white\",\"minorgridcolor\":\"white\",\"startlinecolor\":\"#2a3f5f\"},\"baxis\":{\"endlinecolor\":\"#2a3f5f\",\"gridcolor\":\"white\",\"linecolor\":\"white\",\"minorgridcolor\":\"white\",\"startlinecolor\":\"#2a3f5f\"},\"type\":\"carpet\"}],\"table\":[{\"cells\":{\"fill\":{\"color\":\"#EBF0F8\"},\"line\":{\"color\":\"white\"}},\"header\":{\"fill\":{\"color\":\"#C8D4E3\"},\"line\":{\"color\":\"white\"}},\"type\":\"table\"}],\"barpolar\":[{\"marker\":{\"line\":{\"color\":\"#E5ECF6\",\"width\":0.5},\"pattern\":{\"fillmode\":\"overlay\",\"size\":10,\"solidity\":0.2}},\"type\":\"barpolar\"}],\"pie\":[{\"automargin\":true,\"type\":\"pie\"}]},\"layout\":{\"autotypenumbers\":\"strict\",\"colorway\":[\"#636efa\",\"#EF553B\",\"#00cc96\",\"#ab63fa\",\"#FFA15A\",\"#19d3f3\",\"#FF6692\",\"#B6E880\",\"#FF97FF\",\"#FECB52\"],\"font\":{\"color\":\"#2a3f5f\"},\"hovermode\":\"closest\",\"hoverlabel\":{\"align\":\"left\"},\"paper_bgcolor\":\"white\",\"plot_bgcolor\":\"#E5ECF6\",\"polar\":{\"bgcolor\":\"#E5ECF6\",\"angularaxis\":{\"gridcolor\":\"white\",\"linecolor\":\"white\",\"ticks\":\"\"},\"radialaxis\":{\"gridcolor\":\"white\",\"linecolor\":\"white\",\"ticks\":\"\"}},\"ternary\":{\"bgcolor\":\"#E5ECF6\",\"aaxis\":{\"gridcolor\":\"white\",\"linecolor\":\"white\",\"ticks\":\"\"},\"baxis\":{\"gridcolor\":\"white\",\"linecolor\":\"white\",\"ticks\":\"\"},\"caxis\":{\"gridcolor\":\"white\",\"linecolor\":\"white\",\"ticks\":\"\"}},\"coloraxis\":{\"colorbar\":{\"outlinewidth\":0,\"ticks\":\"\"}},\"colorscale\":{\"sequential\":[[0.0,\"#0d0887\"],[0.1111111111111111,\"#46039f\"],[0.2222222222222222,\"#7201a8\"],[0.3333333333333333,\"#9c179e\"],[0.4444444444444444,\"#bd3786\"],[0.5555555555555556,\"#d8576b\"],[0.6666666666666666,\"#ed7953\"],[0.7777777777777778,\"#fb9f3a\"],[0.8888888888888888,\"#fdca26\"],[1.0,\"#f0f921\"]],\"sequentialminus\":[[0.0,\"#0d0887\"],[0.1111111111111111,\"#46039f\"],[0.2222222222222222,\"#7201a8\"],[0.3333333333333333,\"#9c179e\"],[0.4444444444444444,\"#bd3786\"],[0.5555555555555556,\"#d8576b\"],[0.6666666666666666,\"#ed7953\"],[0.7777777777777778,\"#fb9f3a\"],[0.8888888888888888,\"#fdca26\"],[1.0,\"#f0f921\"]],\"diverging\":[[0,\"#8e0152\"],[0.1,\"#c51b7d\"],[0.2,\"#de77ae\"],[0.3,\"#f1b6da\"],[0.4,\"#fde0ef\"],[0.5,\"#f7f7f7\"],[0.6,\"#e6f5d0\"],[0.7,\"#b8e186\"],[0.8,\"#7fbc41\"],[0.9,\"#4d9221\"],[1,\"#276419\"]]},\"xaxis\":{\"gridcolor\":\"white\",\"linecolor\":\"white\",\"ticks\":\"\",\"title\":{\"standoff\":15},\"zerolinecolor\":\"white\",\"automargin\":true,\"zerolinewidth\":2},\"yaxis\":{\"gridcolor\":\"white\",\"linecolor\":\"white\",\"ticks\":\"\",\"title\":{\"standoff\":15},\"zerolinecolor\":\"white\",\"automargin\":true,\"zerolinewidth\":2},\"scene\":{\"xaxis\":{\"backgroundcolor\":\"#E5ECF6\",\"gridcolor\":\"white\",\"linecolor\":\"white\",\"showbackground\":true,\"ticks\":\"\",\"zerolinecolor\":\"white\",\"gridwidth\":2},\"yaxis\":{\"backgroundcolor\":\"#E5ECF6\",\"gridcolor\":\"white\",\"linecolor\":\"white\",\"showbackground\":true,\"ticks\":\"\",\"zerolinecolor\":\"white\",\"gridwidth\":2},\"zaxis\":{\"backgroundcolor\":\"#E5ECF6\",\"gridcolor\":\"white\",\"linecolor\":\"white\",\"showbackground\":true,\"ticks\":\"\",\"zerolinecolor\":\"white\",\"gridwidth\":2}},\"shapedefaults\":{\"line\":{\"color\":\"#2a3f5f\"}},\"annotationdefaults\":{\"arrowcolor\":\"#2a3f5f\",\"arrowhead\":0,\"arrowwidth\":1},\"geo\":{\"bgcolor\":\"white\",\"landcolor\":\"#E5ECF6\",\"subunitcolor\":\"white\",\"showland\":true,\"showlakes\":true,\"lakecolor\":\"white\"},\"title\":{\"x\":0.05},\"mapbox\":{\"style\":\"light\"}}},\"xaxis\":{\"anchor\":\"y\",\"domain\":[0.0,1.0],\"title\":{\"text\":\"\\u0422\\u0438\\u043f \\u0437\\u0434\\u0430\\u043d\\u0438\\u044f\"}},\"yaxis\":{\"anchor\":\"x\",\"domain\":[0.0,1.0],\"title\":{\"text\":\"\\u041a\\u043e\\u043b\\u0438\\u0447\\u0435\\u0441\\u0442\\u0432\\u043e\"}},\"legend\":{\"tracegroupgap\":0},\"title\":{\"text\":\"\\u041a\\u043e\\u043b\\u0438\\u0447\\u0435\\u0441\\u0442\\u0432\\u043e \\u043f\\u043e\\u0441\\u0442\\u0440\\u043e\\u0435\\u043d\\u044b\\u0445 \\u0437\\u0434\\u0430\\u043d\\u0438\\u0439 \\u043f\\u043e \\u0442\\u0438\\u043f\\u0430\\u043c\"},\"barmode\":\"relative\"},                        {\"responsive\": true}                    ).then(function(){\n",
              "                            \n",
              "var gd = document.getElementById('d5e8a61b-a992-4e99-8c5c-961d4562aa34');\n",
              "var x = new MutationObserver(function (mutations, observer) {{\n",
              "        var display = window.getComputedStyle(gd).display;\n",
              "        if (!display || display === 'none') {{\n",
              "            console.log([gd, 'removed!']);\n",
              "            Plotly.purge(gd);\n",
              "            observer.disconnect();\n",
              "        }}\n",
              "}});\n",
              "\n",
              "// Listen for the removal of the full notebook cells\n",
              "var notebookContainer = gd.closest('#notebook-container');\n",
              "if (notebookContainer) {{\n",
              "    x.observe(notebookContainer, {childList: true});\n",
              "}}\n",
              "\n",
              "// Listen for the clearing of the current output cell\n",
              "var outputEl = gd.closest('.output');\n",
              "if (outputEl) {{\n",
              "    x.observe(outputEl, {childList: true});\n",
              "}}\n",
              "\n",
              "                        })                };                            </script>        </div>\n",
              "</body>\n",
              "</html>"
            ]
          },
          "metadata": {}
        }
      ],
      "source": [
        "fig = px.bar(type_count, x=\"building_type\", y='qty', text = 'qty', title=\"Количество построеных зданий по типам\", labels={'qty':'Количество','building_type':'Тип здания'})\n",
        "fig.show()"
      ]
    },
    {
      "cell_type": "markdown",
      "metadata": {
        "id": "-bnUhItqVUGW"
      },
      "source": [
        "### Средние значения прибыли и количества зданий в зависимости от стратегии"
      ]
    },
    {
      "cell_type": "code",
      "execution_count": 38,
      "metadata": {
        "colab": {
          "base_uri": "https://localhost:8080/",
          "height": 143
        },
        "id": "OYaPCMu_VUGW",
        "outputId": "9a2bf8ec-826e-4cff-c43e-2f479cf3b53b"
      },
      "outputs": [
        {
          "output_type": "execute_result",
          "data": {
            "text/plain": [
              "     building_type    ad_rev       qty\n",
              "0    assembly_shop  0.280980  4.013995\n",
              "1  research_center  0.129004  1.842915\n",
              "2        spaceport  0.313865  4.483788"
            ],
            "text/html": [
              "\n",
              "  <div id=\"df-49bf5d13-ffb9-44cd-8cea-f2a8cd853791\">\n",
              "    <div class=\"colab-df-container\">\n",
              "      <div>\n",
              "<style scoped>\n",
              "    .dataframe tbody tr th:only-of-type {\n",
              "        vertical-align: middle;\n",
              "    }\n",
              "\n",
              "    .dataframe tbody tr th {\n",
              "        vertical-align: top;\n",
              "    }\n",
              "\n",
              "    .dataframe thead th {\n",
              "        text-align: right;\n",
              "    }\n",
              "</style>\n",
              "<table border=\"1\" class=\"dataframe\">\n",
              "  <thead>\n",
              "    <tr style=\"text-align: right;\">\n",
              "      <th></th>\n",
              "      <th>building_type</th>\n",
              "      <th>ad_rev</th>\n",
              "      <th>qty</th>\n",
              "    </tr>\n",
              "  </thead>\n",
              "  <tbody>\n",
              "    <tr>\n",
              "      <th>0</th>\n",
              "      <td>assembly_shop</td>\n",
              "      <td>0.280980</td>\n",
              "      <td>4.013995</td>\n",
              "    </tr>\n",
              "    <tr>\n",
              "      <th>1</th>\n",
              "      <td>research_center</td>\n",
              "      <td>0.129004</td>\n",
              "      <td>1.842915</td>\n",
              "    </tr>\n",
              "    <tr>\n",
              "      <th>2</th>\n",
              "      <td>spaceport</td>\n",
              "      <td>0.313865</td>\n",
              "      <td>4.483788</td>\n",
              "    </tr>\n",
              "  </tbody>\n",
              "</table>\n",
              "</div>\n",
              "      <button class=\"colab-df-convert\" onclick=\"convertToInteractive('df-49bf5d13-ffb9-44cd-8cea-f2a8cd853791')\"\n",
              "              title=\"Convert this dataframe to an interactive table.\"\n",
              "              style=\"display:none;\">\n",
              "        \n",
              "  <svg xmlns=\"http://www.w3.org/2000/svg\" height=\"24px\"viewBox=\"0 0 24 24\"\n",
              "       width=\"24px\">\n",
              "    <path d=\"M0 0h24v24H0V0z\" fill=\"none\"/>\n",
              "    <path d=\"M18.56 5.44l.94 2.06.94-2.06 2.06-.94-2.06-.94-.94-2.06-.94 2.06-2.06.94zm-11 1L8.5 8.5l.94-2.06 2.06-.94-2.06-.94L8.5 2.5l-.94 2.06-2.06.94zm10 10l.94 2.06.94-2.06 2.06-.94-2.06-.94-.94-2.06-.94 2.06-2.06.94z\"/><path d=\"M17.41 7.96l-1.37-1.37c-.4-.4-.92-.59-1.43-.59-.52 0-1.04.2-1.43.59L10.3 9.45l-7.72 7.72c-.78.78-.78 2.05 0 2.83L4 21.41c.39.39.9.59 1.41.59.51 0 1.02-.2 1.41-.59l7.78-7.78 2.81-2.81c.8-.78.8-2.07 0-2.86zM5.41 20L4 18.59l7.72-7.72 1.47 1.35L5.41 20z\"/>\n",
              "  </svg>\n",
              "      </button>\n",
              "      \n",
              "  <style>\n",
              "    .colab-df-container {\n",
              "      display:flex;\n",
              "      flex-wrap:wrap;\n",
              "      gap: 12px;\n",
              "    }\n",
              "\n",
              "    .colab-df-convert {\n",
              "      background-color: #E8F0FE;\n",
              "      border: none;\n",
              "      border-radius: 50%;\n",
              "      cursor: pointer;\n",
              "      display: none;\n",
              "      fill: #1967D2;\n",
              "      height: 32px;\n",
              "      padding: 0 0 0 0;\n",
              "      width: 32px;\n",
              "    }\n",
              "\n",
              "    .colab-df-convert:hover {\n",
              "      background-color: #E2EBFA;\n",
              "      box-shadow: 0px 1px 2px rgba(60, 64, 67, 0.3), 0px 1px 3px 1px rgba(60, 64, 67, 0.15);\n",
              "      fill: #174EA6;\n",
              "    }\n",
              "\n",
              "    [theme=dark] .colab-df-convert {\n",
              "      background-color: #3B4455;\n",
              "      fill: #D2E3FC;\n",
              "    }\n",
              "\n",
              "    [theme=dark] .colab-df-convert:hover {\n",
              "      background-color: #434B5C;\n",
              "      box-shadow: 0px 1px 3px 1px rgba(0, 0, 0, 0.15);\n",
              "      filter: drop-shadow(0px 1px 2px rgba(0, 0, 0, 0.3));\n",
              "      fill: #FFFFFF;\n",
              "    }\n",
              "  </style>\n",
              "\n",
              "      <script>\n",
              "        const buttonEl =\n",
              "          document.querySelector('#df-49bf5d13-ffb9-44cd-8cea-f2a8cd853791 button.colab-df-convert');\n",
              "        buttonEl.style.display =\n",
              "          google.colab.kernel.accessAllowed ? 'block' : 'none';\n",
              "\n",
              "        async function convertToInteractive(key) {\n",
              "          const element = document.querySelector('#df-49bf5d13-ffb9-44cd-8cea-f2a8cd853791');\n",
              "          const dataTable =\n",
              "            await google.colab.kernel.invokeFunction('convertToInteractive',\n",
              "                                                     [key], {});\n",
              "          if (!dataTable) return;\n",
              "\n",
              "          const docLinkHtml = 'Like what you see? Visit the ' +\n",
              "            '<a target=\"_blank\" href=https://colab.research.google.com/notebooks/data_table.ipynb>data table notebook</a>'\n",
              "            + ' to learn more about interactive tables.';\n",
              "          element.innerHTML = '';\n",
              "          dataTable['output_type'] = 'display_data';\n",
              "          await google.colab.output.renderOutput(dataTable, element);\n",
              "          const docLink = document.createElement('div');\n",
              "          docLink.innerHTML = docLinkHtml;\n",
              "          element.appendChild(docLink);\n",
              "        }\n",
              "      </script>\n",
              "    </div>\n",
              "  </div>\n",
              "  "
            ]
          },
          "metadata": {},
          "execution_count": 38
        }
      ],
      "source": [
        "build_by_strat.groupby('building_type').mean().reset_index()"
      ]
    },
    {
      "cell_type": "markdown",
      "metadata": {
        "id": "cv-NrAhaVUGX"
      },
      "source": [
        "Найдем количество зданий, построенных игроками, в зависимости от стратегии."
      ]
    },
    {
      "cell_type": "code",
      "execution_count": 39,
      "metadata": {
        "colab": {
          "base_uri": "https://localhost:8080/",
          "height": 143
        },
        "id": "YgX5yHb0VUGX",
        "outputId": "91f4c54f-629b-4eb9-9e86-ed76b44b3366"
      },
      "outputs": [
        {
          "output_type": "execute_result",
          "data": {
            "text/plain": [
              "      strat    qty\n",
              "0     peace  23601\n",
              "1       war  37185\n",
              "2  no_strat  67170"
            ],
            "text/html": [
              "\n",
              "  <div id=\"df-1d8017f7-4ff1-4990-be67-34f7f1473501\">\n",
              "    <div class=\"colab-df-container\">\n",
              "      <div>\n",
              "<style scoped>\n",
              "    .dataframe tbody tr th:only-of-type {\n",
              "        vertical-align: middle;\n",
              "    }\n",
              "\n",
              "    .dataframe tbody tr th {\n",
              "        vertical-align: top;\n",
              "    }\n",
              "\n",
              "    .dataframe thead th {\n",
              "        text-align: right;\n",
              "    }\n",
              "</style>\n",
              "<table border=\"1\" class=\"dataframe\">\n",
              "  <thead>\n",
              "    <tr style=\"text-align: right;\">\n",
              "      <th></th>\n",
              "      <th>strat</th>\n",
              "      <th>qty</th>\n",
              "    </tr>\n",
              "  </thead>\n",
              "  <tbody>\n",
              "    <tr>\n",
              "      <th>0</th>\n",
              "      <td>peace</td>\n",
              "      <td>23601</td>\n",
              "    </tr>\n",
              "    <tr>\n",
              "      <th>1</th>\n",
              "      <td>war</td>\n",
              "      <td>37185</td>\n",
              "    </tr>\n",
              "    <tr>\n",
              "      <th>2</th>\n",
              "      <td>no_strat</td>\n",
              "      <td>67170</td>\n",
              "    </tr>\n",
              "  </tbody>\n",
              "</table>\n",
              "</div>\n",
              "      <button class=\"colab-df-convert\" onclick=\"convertToInteractive('df-1d8017f7-4ff1-4990-be67-34f7f1473501')\"\n",
              "              title=\"Convert this dataframe to an interactive table.\"\n",
              "              style=\"display:none;\">\n",
              "        \n",
              "  <svg xmlns=\"http://www.w3.org/2000/svg\" height=\"24px\"viewBox=\"0 0 24 24\"\n",
              "       width=\"24px\">\n",
              "    <path d=\"M0 0h24v24H0V0z\" fill=\"none\"/>\n",
              "    <path d=\"M18.56 5.44l.94 2.06.94-2.06 2.06-.94-2.06-.94-.94-2.06-.94 2.06-2.06.94zm-11 1L8.5 8.5l.94-2.06 2.06-.94-2.06-.94L8.5 2.5l-.94 2.06-2.06.94zm10 10l.94 2.06.94-2.06 2.06-.94-2.06-.94-.94-2.06-.94 2.06-2.06.94z\"/><path d=\"M17.41 7.96l-1.37-1.37c-.4-.4-.92-.59-1.43-.59-.52 0-1.04.2-1.43.59L10.3 9.45l-7.72 7.72c-.78.78-.78 2.05 0 2.83L4 21.41c.39.39.9.59 1.41.59.51 0 1.02-.2 1.41-.59l7.78-7.78 2.81-2.81c.8-.78.8-2.07 0-2.86zM5.41 20L4 18.59l7.72-7.72 1.47 1.35L5.41 20z\"/>\n",
              "  </svg>\n",
              "      </button>\n",
              "      \n",
              "  <style>\n",
              "    .colab-df-container {\n",
              "      display:flex;\n",
              "      flex-wrap:wrap;\n",
              "      gap: 12px;\n",
              "    }\n",
              "\n",
              "    .colab-df-convert {\n",
              "      background-color: #E8F0FE;\n",
              "      border: none;\n",
              "      border-radius: 50%;\n",
              "      cursor: pointer;\n",
              "      display: none;\n",
              "      fill: #1967D2;\n",
              "      height: 32px;\n",
              "      padding: 0 0 0 0;\n",
              "      width: 32px;\n",
              "    }\n",
              "\n",
              "    .colab-df-convert:hover {\n",
              "      background-color: #E2EBFA;\n",
              "      box-shadow: 0px 1px 2px rgba(60, 64, 67, 0.3), 0px 1px 3px 1px rgba(60, 64, 67, 0.15);\n",
              "      fill: #174EA6;\n",
              "    }\n",
              "\n",
              "    [theme=dark] .colab-df-convert {\n",
              "      background-color: #3B4455;\n",
              "      fill: #D2E3FC;\n",
              "    }\n",
              "\n",
              "    [theme=dark] .colab-df-convert:hover {\n",
              "      background-color: #434B5C;\n",
              "      box-shadow: 0px 1px 3px 1px rgba(0, 0, 0, 0.15);\n",
              "      filter: drop-shadow(0px 1px 2px rgba(0, 0, 0, 0.3));\n",
              "      fill: #FFFFFF;\n",
              "    }\n",
              "  </style>\n",
              "\n",
              "      <script>\n",
              "        const buttonEl =\n",
              "          document.querySelector('#df-1d8017f7-4ff1-4990-be67-34f7f1473501 button.colab-df-convert');\n",
              "        buttonEl.style.display =\n",
              "          google.colab.kernel.accessAllowed ? 'block' : 'none';\n",
              "\n",
              "        async function convertToInteractive(key) {\n",
              "          const element = document.querySelector('#df-1d8017f7-4ff1-4990-be67-34f7f1473501');\n",
              "          const dataTable =\n",
              "            await google.colab.kernel.invokeFunction('convertToInteractive',\n",
              "                                                     [key], {});\n",
              "          if (!dataTable) return;\n",
              "\n",
              "          const docLinkHtml = 'Like what you see? Visit the ' +\n",
              "            '<a target=\"_blank\" href=https://colab.research.google.com/notebooks/data_table.ipynb>data table notebook</a>'\n",
              "            + ' to learn more about interactive tables.';\n",
              "          element.innerHTML = '';\n",
              "          dataTable['output_type'] = 'display_data';\n",
              "          await google.colab.output.renderOutput(dataTable, element);\n",
              "          const docLink = document.createElement('div');\n",
              "          docLink.innerHTML = docLinkHtml;\n",
              "          element.appendChild(docLink);\n",
              "        }\n",
              "      </script>\n",
              "    </div>\n",
              "  </div>\n",
              "  "
            ]
          },
          "metadata": {},
          "execution_count": 39
        }
      ],
      "source": [
        "build_by_strat.groupby('strat')['qty'].sum().sort_values().reset_index()"
      ]
    },
    {
      "cell_type": "markdown",
      "metadata": {
        "id": "97ZWBPzTVUGX"
      },
      "source": [
        "Считаю количество зданий на пользователя, построенных, в зависимости от стратегии."
      ]
    },
    {
      "cell_type": "code",
      "execution_count": 40,
      "metadata": {
        "colab": {
          "base_uri": "https://localhost:8080/",
          "height": 206
        },
        "id": "RuJxXm-LVUGX",
        "outputId": "ca7dc571-205b-4806-9a6b-599bfacca715"
      },
      "outputs": [
        {
          "output_type": "execute_result",
          "data": {
            "text/plain": [
              "strat                               user_id  no_strat  peace  war\n",
              "0      0001f83c-c6ac-4621-b7f0-8a28b283ac30      13.0    NaN  NaN\n",
              "1      00151b4f-ba38-44a8-a650-d7cf130a0105       9.0    NaN  NaN\n",
              "2      001aaea6-3d14-43f1-8ca8-7f48820f17aa       4.0    NaN  NaN\n",
              "3      001d39dc-366c-4021-9604-6a3b9ff01e25       NaN    NaN  8.0\n",
              "4      002f508f-67b6-479f-814b-b05f00d4e995      12.0    NaN  NaN"
            ],
            "text/html": [
              "\n",
              "  <div id=\"df-36ab6bd4-0c3e-4bd9-a05c-c343c8ea4aeb\">\n",
              "    <div class=\"colab-df-container\">\n",
              "      <div>\n",
              "<style scoped>\n",
              "    .dataframe tbody tr th:only-of-type {\n",
              "        vertical-align: middle;\n",
              "    }\n",
              "\n",
              "    .dataframe tbody tr th {\n",
              "        vertical-align: top;\n",
              "    }\n",
              "\n",
              "    .dataframe thead th {\n",
              "        text-align: right;\n",
              "    }\n",
              "</style>\n",
              "<table border=\"1\" class=\"dataframe\">\n",
              "  <thead>\n",
              "    <tr style=\"text-align: right;\">\n",
              "      <th>strat</th>\n",
              "      <th>user_id</th>\n",
              "      <th>no_strat</th>\n",
              "      <th>peace</th>\n",
              "      <th>war</th>\n",
              "    </tr>\n",
              "  </thead>\n",
              "  <tbody>\n",
              "    <tr>\n",
              "      <th>0</th>\n",
              "      <td>0001f83c-c6ac-4621-b7f0-8a28b283ac30</td>\n",
              "      <td>13.0</td>\n",
              "      <td>NaN</td>\n",
              "      <td>NaN</td>\n",
              "    </tr>\n",
              "    <tr>\n",
              "      <th>1</th>\n",
              "      <td>00151b4f-ba38-44a8-a650-d7cf130a0105</td>\n",
              "      <td>9.0</td>\n",
              "      <td>NaN</td>\n",
              "      <td>NaN</td>\n",
              "    </tr>\n",
              "    <tr>\n",
              "      <th>2</th>\n",
              "      <td>001aaea6-3d14-43f1-8ca8-7f48820f17aa</td>\n",
              "      <td>4.0</td>\n",
              "      <td>NaN</td>\n",
              "      <td>NaN</td>\n",
              "    </tr>\n",
              "    <tr>\n",
              "      <th>3</th>\n",
              "      <td>001d39dc-366c-4021-9604-6a3b9ff01e25</td>\n",
              "      <td>NaN</td>\n",
              "      <td>NaN</td>\n",
              "      <td>8.0</td>\n",
              "    </tr>\n",
              "    <tr>\n",
              "      <th>4</th>\n",
              "      <td>002f508f-67b6-479f-814b-b05f00d4e995</td>\n",
              "      <td>12.0</td>\n",
              "      <td>NaN</td>\n",
              "      <td>NaN</td>\n",
              "    </tr>\n",
              "  </tbody>\n",
              "</table>\n",
              "</div>\n",
              "      <button class=\"colab-df-convert\" onclick=\"convertToInteractive('df-36ab6bd4-0c3e-4bd9-a05c-c343c8ea4aeb')\"\n",
              "              title=\"Convert this dataframe to an interactive table.\"\n",
              "              style=\"display:none;\">\n",
              "        \n",
              "  <svg xmlns=\"http://www.w3.org/2000/svg\" height=\"24px\"viewBox=\"0 0 24 24\"\n",
              "       width=\"24px\">\n",
              "    <path d=\"M0 0h24v24H0V0z\" fill=\"none\"/>\n",
              "    <path d=\"M18.56 5.44l.94 2.06.94-2.06 2.06-.94-2.06-.94-.94-2.06-.94 2.06-2.06.94zm-11 1L8.5 8.5l.94-2.06 2.06-.94-2.06-.94L8.5 2.5l-.94 2.06-2.06.94zm10 10l.94 2.06.94-2.06 2.06-.94-2.06-.94-.94-2.06-.94 2.06-2.06.94z\"/><path d=\"M17.41 7.96l-1.37-1.37c-.4-.4-.92-.59-1.43-.59-.52 0-1.04.2-1.43.59L10.3 9.45l-7.72 7.72c-.78.78-.78 2.05 0 2.83L4 21.41c.39.39.9.59 1.41.59.51 0 1.02-.2 1.41-.59l7.78-7.78 2.81-2.81c.8-.78.8-2.07 0-2.86zM5.41 20L4 18.59l7.72-7.72 1.47 1.35L5.41 20z\"/>\n",
              "  </svg>\n",
              "      </button>\n",
              "      \n",
              "  <style>\n",
              "    .colab-df-container {\n",
              "      display:flex;\n",
              "      flex-wrap:wrap;\n",
              "      gap: 12px;\n",
              "    }\n",
              "\n",
              "    .colab-df-convert {\n",
              "      background-color: #E8F0FE;\n",
              "      border: none;\n",
              "      border-radius: 50%;\n",
              "      cursor: pointer;\n",
              "      display: none;\n",
              "      fill: #1967D2;\n",
              "      height: 32px;\n",
              "      padding: 0 0 0 0;\n",
              "      width: 32px;\n",
              "    }\n",
              "\n",
              "    .colab-df-convert:hover {\n",
              "      background-color: #E2EBFA;\n",
              "      box-shadow: 0px 1px 2px rgba(60, 64, 67, 0.3), 0px 1px 3px 1px rgba(60, 64, 67, 0.15);\n",
              "      fill: #174EA6;\n",
              "    }\n",
              "\n",
              "    [theme=dark] .colab-df-convert {\n",
              "      background-color: #3B4455;\n",
              "      fill: #D2E3FC;\n",
              "    }\n",
              "\n",
              "    [theme=dark] .colab-df-convert:hover {\n",
              "      background-color: #434B5C;\n",
              "      box-shadow: 0px 1px 3px 1px rgba(0, 0, 0, 0.15);\n",
              "      filter: drop-shadow(0px 1px 2px rgba(0, 0, 0, 0.3));\n",
              "      fill: #FFFFFF;\n",
              "    }\n",
              "  </style>\n",
              "\n",
              "      <script>\n",
              "        const buttonEl =\n",
              "          document.querySelector('#df-36ab6bd4-0c3e-4bd9-a05c-c343c8ea4aeb button.colab-df-convert');\n",
              "        buttonEl.style.display =\n",
              "          google.colab.kernel.accessAllowed ? 'block' : 'none';\n",
              "\n",
              "        async function convertToInteractive(key) {\n",
              "          const element = document.querySelector('#df-36ab6bd4-0c3e-4bd9-a05c-c343c8ea4aeb');\n",
              "          const dataTable =\n",
              "            await google.colab.kernel.invokeFunction('convertToInteractive',\n",
              "                                                     [key], {});\n",
              "          if (!dataTable) return;\n",
              "\n",
              "          const docLinkHtml = 'Like what you see? Visit the ' +\n",
              "            '<a target=\"_blank\" href=https://colab.research.google.com/notebooks/data_table.ipynb>data table notebook</a>'\n",
              "            + ' to learn more about interactive tables.';\n",
              "          element.innerHTML = '';\n",
              "          dataTable['output_type'] = 'display_data';\n",
              "          await google.colab.output.renderOutput(dataTable, element);\n",
              "          const docLink = document.createElement('div');\n",
              "          docLink.innerHTML = docLinkHtml;\n",
              "          element.appendChild(docLink);\n",
              "        }\n",
              "      </script>\n",
              "    </div>\n",
              "  </div>\n",
              "  "
            ]
          },
          "metadata": {},
          "execution_count": 40
        }
      ],
      "source": [
        "user_builds = pd.pivot_table(build_by_strat, index = 'user_id', columns = 'strat', values = 'qty', aggfunc = 'sum').reset_index()\n",
        "user_builds.head()"
      ]
    },
    {
      "cell_type": "code",
      "execution_count": 41,
      "metadata": {
        "colab": {
          "base_uri": "https://localhost:8080/",
          "height": 143
        },
        "id": "9Ycus669VUGX",
        "outputId": "6a9a30dd-4287-440d-d05b-682950b3f58c"
      },
      "outputs": [
        {
          "output_type": "execute_result",
          "data": {
            "text/plain": [
              "      strat      0\n",
              "0  no_strat   8.66\n",
              "1       war   9.41\n",
              "2     peace  12.65"
            ],
            "text/html": [
              "\n",
              "  <div id=\"df-2d2db276-b71a-4585-8021-69ba00e4831c\">\n",
              "    <div class=\"colab-df-container\">\n",
              "      <div>\n",
              "<style scoped>\n",
              "    .dataframe tbody tr th:only-of-type {\n",
              "        vertical-align: middle;\n",
              "    }\n",
              "\n",
              "    .dataframe tbody tr th {\n",
              "        vertical-align: top;\n",
              "    }\n",
              "\n",
              "    .dataframe thead th {\n",
              "        text-align: right;\n",
              "    }\n",
              "</style>\n",
              "<table border=\"1\" class=\"dataframe\">\n",
              "  <thead>\n",
              "    <tr style=\"text-align: right;\">\n",
              "      <th></th>\n",
              "      <th>strat</th>\n",
              "      <th>0</th>\n",
              "    </tr>\n",
              "  </thead>\n",
              "  <tbody>\n",
              "    <tr>\n",
              "      <th>0</th>\n",
              "      <td>no_strat</td>\n",
              "      <td>8.66</td>\n",
              "    </tr>\n",
              "    <tr>\n",
              "      <th>1</th>\n",
              "      <td>war</td>\n",
              "      <td>9.41</td>\n",
              "    </tr>\n",
              "    <tr>\n",
              "      <th>2</th>\n",
              "      <td>peace</td>\n",
              "      <td>12.65</td>\n",
              "    </tr>\n",
              "  </tbody>\n",
              "</table>\n",
              "</div>\n",
              "      <button class=\"colab-df-convert\" onclick=\"convertToInteractive('df-2d2db276-b71a-4585-8021-69ba00e4831c')\"\n",
              "              title=\"Convert this dataframe to an interactive table.\"\n",
              "              style=\"display:none;\">\n",
              "        \n",
              "  <svg xmlns=\"http://www.w3.org/2000/svg\" height=\"24px\"viewBox=\"0 0 24 24\"\n",
              "       width=\"24px\">\n",
              "    <path d=\"M0 0h24v24H0V0z\" fill=\"none\"/>\n",
              "    <path d=\"M18.56 5.44l.94 2.06.94-2.06 2.06-.94-2.06-.94-.94-2.06-.94 2.06-2.06.94zm-11 1L8.5 8.5l.94-2.06 2.06-.94-2.06-.94L8.5 2.5l-.94 2.06-2.06.94zm10 10l.94 2.06.94-2.06 2.06-.94-2.06-.94-.94-2.06-.94 2.06-2.06.94z\"/><path d=\"M17.41 7.96l-1.37-1.37c-.4-.4-.92-.59-1.43-.59-.52 0-1.04.2-1.43.59L10.3 9.45l-7.72 7.72c-.78.78-.78 2.05 0 2.83L4 21.41c.39.39.9.59 1.41.59.51 0 1.02-.2 1.41-.59l7.78-7.78 2.81-2.81c.8-.78.8-2.07 0-2.86zM5.41 20L4 18.59l7.72-7.72 1.47 1.35L5.41 20z\"/>\n",
              "  </svg>\n",
              "      </button>\n",
              "      \n",
              "  <style>\n",
              "    .colab-df-container {\n",
              "      display:flex;\n",
              "      flex-wrap:wrap;\n",
              "      gap: 12px;\n",
              "    }\n",
              "\n",
              "    .colab-df-convert {\n",
              "      background-color: #E8F0FE;\n",
              "      border: none;\n",
              "      border-radius: 50%;\n",
              "      cursor: pointer;\n",
              "      display: none;\n",
              "      fill: #1967D2;\n",
              "      height: 32px;\n",
              "      padding: 0 0 0 0;\n",
              "      width: 32px;\n",
              "    }\n",
              "\n",
              "    .colab-df-convert:hover {\n",
              "      background-color: #E2EBFA;\n",
              "      box-shadow: 0px 1px 2px rgba(60, 64, 67, 0.3), 0px 1px 3px 1px rgba(60, 64, 67, 0.15);\n",
              "      fill: #174EA6;\n",
              "    }\n",
              "\n",
              "    [theme=dark] .colab-df-convert {\n",
              "      background-color: #3B4455;\n",
              "      fill: #D2E3FC;\n",
              "    }\n",
              "\n",
              "    [theme=dark] .colab-df-convert:hover {\n",
              "      background-color: #434B5C;\n",
              "      box-shadow: 0px 1px 3px 1px rgba(0, 0, 0, 0.15);\n",
              "      filter: drop-shadow(0px 1px 2px rgba(0, 0, 0, 0.3));\n",
              "      fill: #FFFFFF;\n",
              "    }\n",
              "  </style>\n",
              "\n",
              "      <script>\n",
              "        const buttonEl =\n",
              "          document.querySelector('#df-2d2db276-b71a-4585-8021-69ba00e4831c button.colab-df-convert');\n",
              "        buttonEl.style.display =\n",
              "          google.colab.kernel.accessAllowed ? 'block' : 'none';\n",
              "\n",
              "        async function convertToInteractive(key) {\n",
              "          const element = document.querySelector('#df-2d2db276-b71a-4585-8021-69ba00e4831c');\n",
              "          const dataTable =\n",
              "            await google.colab.kernel.invokeFunction('convertToInteractive',\n",
              "                                                     [key], {});\n",
              "          if (!dataTable) return;\n",
              "\n",
              "          const docLinkHtml = 'Like what you see? Visit the ' +\n",
              "            '<a target=\"_blank\" href=https://colab.research.google.com/notebooks/data_table.ipynb>data table notebook</a>'\n",
              "            + ' to learn more about interactive tables.';\n",
              "          element.innerHTML = '';\n",
              "          dataTable['output_type'] = 'display_data';\n",
              "          await google.colab.output.renderOutput(dataTable, element);\n",
              "          const docLink = document.createElement('div');\n",
              "          docLink.innerHTML = docLinkHtml;\n",
              "          element.appendChild(docLink);\n",
              "        }\n",
              "      </script>\n",
              "    </div>\n",
              "  </div>\n",
              "  "
            ]
          },
          "metadata": {},
          "execution_count": 41
        }
      ],
      "source": [
        "df = user_builds.mean().round(2).sort_values().reset_index()\n",
        "df"
      ]
    },
    {
      "cell_type": "code",
      "execution_count": 42,
      "metadata": {
        "colab": {
          "base_uri": "https://localhost:8080/",
          "height": 542
        },
        "id": "uqYdo0omVUGY",
        "outputId": "de3089a9-5efd-499d-df1a-16267840957d"
      },
      "outputs": [
        {
          "output_type": "display_data",
          "data": {
            "text/html": [
              "<html>\n",
              "<head><meta charset=\"utf-8\" /></head>\n",
              "<body>\n",
              "    <div>            <script src=\"https://cdnjs.cloudflare.com/ajax/libs/mathjax/2.7.5/MathJax.js?config=TeX-AMS-MML_SVG\"></script><script type=\"text/javascript\">if (window.MathJax && window.MathJax.Hub && window.MathJax.Hub.Config) {window.MathJax.Hub.Config({SVG: {font: \"STIX-Web\"}});}</script>                <script type=\"text/javascript\">window.PlotlyConfig = {MathJaxConfig: 'local'};</script>\n",
              "        <script src=\"https://cdn.plot.ly/plotly-2.18.2.min.js\"></script>                <div id=\"3383adec-0552-413d-9df5-7cabae708c12\" class=\"plotly-graph-div\" style=\"height:525px; width:100%;\"></div>            <script type=\"text/javascript\">                                    window.PLOTLYENV=window.PLOTLYENV || {};                                    if (document.getElementById(\"3383adec-0552-413d-9df5-7cabae708c12\")) {                    Plotly.newPlot(                        \"3383adec-0552-413d-9df5-7cabae708c12\",                        [{\"alignmentgroup\":\"True\",\"hovertemplate\":\"\\u0421\\u0442\\u0440\\u0430\\u0442\\u0435\\u0433\\u0438\\u044f=%{x}<br>\\u041a\\u043e\\u043b\\u0438\\u0447\\u0435\\u0441\\u0442\\u0432\\u043e=%{text}<extra></extra>\",\"legendgroup\":\"\",\"marker\":{\"color\":\"#636efa\",\"pattern\":{\"shape\":\"\"}},\"name\":\"\",\"offsetgroup\":\"\",\"orientation\":\"v\",\"showlegend\":false,\"text\":[8.66,9.41,12.65],\"textposition\":\"auto\",\"x\":[\"no_strat\",\"war\",\"peace\"],\"xaxis\":\"x\",\"y\":[8.66,9.41,12.65],\"yaxis\":\"y\",\"type\":\"bar\"}],                        {\"template\":{\"data\":{\"histogram2dcontour\":[{\"type\":\"histogram2dcontour\",\"colorbar\":{\"outlinewidth\":0,\"ticks\":\"\"},\"colorscale\":[[0.0,\"#0d0887\"],[0.1111111111111111,\"#46039f\"],[0.2222222222222222,\"#7201a8\"],[0.3333333333333333,\"#9c179e\"],[0.4444444444444444,\"#bd3786\"],[0.5555555555555556,\"#d8576b\"],[0.6666666666666666,\"#ed7953\"],[0.7777777777777778,\"#fb9f3a\"],[0.8888888888888888,\"#fdca26\"],[1.0,\"#f0f921\"]]}],\"choropleth\":[{\"type\":\"choropleth\",\"colorbar\":{\"outlinewidth\":0,\"ticks\":\"\"}}],\"histogram2d\":[{\"type\":\"histogram2d\",\"colorbar\":{\"outlinewidth\":0,\"ticks\":\"\"},\"colorscale\":[[0.0,\"#0d0887\"],[0.1111111111111111,\"#46039f\"],[0.2222222222222222,\"#7201a8\"],[0.3333333333333333,\"#9c179e\"],[0.4444444444444444,\"#bd3786\"],[0.5555555555555556,\"#d8576b\"],[0.6666666666666666,\"#ed7953\"],[0.7777777777777778,\"#fb9f3a\"],[0.8888888888888888,\"#fdca26\"],[1.0,\"#f0f921\"]]}],\"heatmap\":[{\"type\":\"heatmap\",\"colorbar\":{\"outlinewidth\":0,\"ticks\":\"\"},\"colorscale\":[[0.0,\"#0d0887\"],[0.1111111111111111,\"#46039f\"],[0.2222222222222222,\"#7201a8\"],[0.3333333333333333,\"#9c179e\"],[0.4444444444444444,\"#bd3786\"],[0.5555555555555556,\"#d8576b\"],[0.6666666666666666,\"#ed7953\"],[0.7777777777777778,\"#fb9f3a\"],[0.8888888888888888,\"#fdca26\"],[1.0,\"#f0f921\"]]}],\"heatmapgl\":[{\"type\":\"heatmapgl\",\"colorbar\":{\"outlinewidth\":0,\"ticks\":\"\"},\"colorscale\":[[0.0,\"#0d0887\"],[0.1111111111111111,\"#46039f\"],[0.2222222222222222,\"#7201a8\"],[0.3333333333333333,\"#9c179e\"],[0.4444444444444444,\"#bd3786\"],[0.5555555555555556,\"#d8576b\"],[0.6666666666666666,\"#ed7953\"],[0.7777777777777778,\"#fb9f3a\"],[0.8888888888888888,\"#fdca26\"],[1.0,\"#f0f921\"]]}],\"contourcarpet\":[{\"type\":\"contourcarpet\",\"colorbar\":{\"outlinewidth\":0,\"ticks\":\"\"}}],\"contour\":[{\"type\":\"contour\",\"colorbar\":{\"outlinewidth\":0,\"ticks\":\"\"},\"colorscale\":[[0.0,\"#0d0887\"],[0.1111111111111111,\"#46039f\"],[0.2222222222222222,\"#7201a8\"],[0.3333333333333333,\"#9c179e\"],[0.4444444444444444,\"#bd3786\"],[0.5555555555555556,\"#d8576b\"],[0.6666666666666666,\"#ed7953\"],[0.7777777777777778,\"#fb9f3a\"],[0.8888888888888888,\"#fdca26\"],[1.0,\"#f0f921\"]]}],\"surface\":[{\"type\":\"surface\",\"colorbar\":{\"outlinewidth\":0,\"ticks\":\"\"},\"colorscale\":[[0.0,\"#0d0887\"],[0.1111111111111111,\"#46039f\"],[0.2222222222222222,\"#7201a8\"],[0.3333333333333333,\"#9c179e\"],[0.4444444444444444,\"#bd3786\"],[0.5555555555555556,\"#d8576b\"],[0.6666666666666666,\"#ed7953\"],[0.7777777777777778,\"#fb9f3a\"],[0.8888888888888888,\"#fdca26\"],[1.0,\"#f0f921\"]]}],\"mesh3d\":[{\"type\":\"mesh3d\",\"colorbar\":{\"outlinewidth\":0,\"ticks\":\"\"}}],\"scatter\":[{\"fillpattern\":{\"fillmode\":\"overlay\",\"size\":10,\"solidity\":0.2},\"type\":\"scatter\"}],\"parcoords\":[{\"type\":\"parcoords\",\"line\":{\"colorbar\":{\"outlinewidth\":0,\"ticks\":\"\"}}}],\"scatterpolargl\":[{\"type\":\"scatterpolargl\",\"marker\":{\"colorbar\":{\"outlinewidth\":0,\"ticks\":\"\"}}}],\"bar\":[{\"error_x\":{\"color\":\"#2a3f5f\"},\"error_y\":{\"color\":\"#2a3f5f\"},\"marker\":{\"line\":{\"color\":\"#E5ECF6\",\"width\":0.5},\"pattern\":{\"fillmode\":\"overlay\",\"size\":10,\"solidity\":0.2}},\"type\":\"bar\"}],\"scattergeo\":[{\"type\":\"scattergeo\",\"marker\":{\"colorbar\":{\"outlinewidth\":0,\"ticks\":\"\"}}}],\"scatterpolar\":[{\"type\":\"scatterpolar\",\"marker\":{\"colorbar\":{\"outlinewidth\":0,\"ticks\":\"\"}}}],\"histogram\":[{\"marker\":{\"pattern\":{\"fillmode\":\"overlay\",\"size\":10,\"solidity\":0.2}},\"type\":\"histogram\"}],\"scattergl\":[{\"type\":\"scattergl\",\"marker\":{\"colorbar\":{\"outlinewidth\":0,\"ticks\":\"\"}}}],\"scatter3d\":[{\"type\":\"scatter3d\",\"line\":{\"colorbar\":{\"outlinewidth\":0,\"ticks\":\"\"}},\"marker\":{\"colorbar\":{\"outlinewidth\":0,\"ticks\":\"\"}}}],\"scattermapbox\":[{\"type\":\"scattermapbox\",\"marker\":{\"colorbar\":{\"outlinewidth\":0,\"ticks\":\"\"}}}],\"scatterternary\":[{\"type\":\"scatterternary\",\"marker\":{\"colorbar\":{\"outlinewidth\":0,\"ticks\":\"\"}}}],\"scattercarpet\":[{\"type\":\"scattercarpet\",\"marker\":{\"colorbar\":{\"outlinewidth\":0,\"ticks\":\"\"}}}],\"carpet\":[{\"aaxis\":{\"endlinecolor\":\"#2a3f5f\",\"gridcolor\":\"white\",\"linecolor\":\"white\",\"minorgridcolor\":\"white\",\"startlinecolor\":\"#2a3f5f\"},\"baxis\":{\"endlinecolor\":\"#2a3f5f\",\"gridcolor\":\"white\",\"linecolor\":\"white\",\"minorgridcolor\":\"white\",\"startlinecolor\":\"#2a3f5f\"},\"type\":\"carpet\"}],\"table\":[{\"cells\":{\"fill\":{\"color\":\"#EBF0F8\"},\"line\":{\"color\":\"white\"}},\"header\":{\"fill\":{\"color\":\"#C8D4E3\"},\"line\":{\"color\":\"white\"}},\"type\":\"table\"}],\"barpolar\":[{\"marker\":{\"line\":{\"color\":\"#E5ECF6\",\"width\":0.5},\"pattern\":{\"fillmode\":\"overlay\",\"size\":10,\"solidity\":0.2}},\"type\":\"barpolar\"}],\"pie\":[{\"automargin\":true,\"type\":\"pie\"}]},\"layout\":{\"autotypenumbers\":\"strict\",\"colorway\":[\"#636efa\",\"#EF553B\",\"#00cc96\",\"#ab63fa\",\"#FFA15A\",\"#19d3f3\",\"#FF6692\",\"#B6E880\",\"#FF97FF\",\"#FECB52\"],\"font\":{\"color\":\"#2a3f5f\"},\"hovermode\":\"closest\",\"hoverlabel\":{\"align\":\"left\"},\"paper_bgcolor\":\"white\",\"plot_bgcolor\":\"#E5ECF6\",\"polar\":{\"bgcolor\":\"#E5ECF6\",\"angularaxis\":{\"gridcolor\":\"white\",\"linecolor\":\"white\",\"ticks\":\"\"},\"radialaxis\":{\"gridcolor\":\"white\",\"linecolor\":\"white\",\"ticks\":\"\"}},\"ternary\":{\"bgcolor\":\"#E5ECF6\",\"aaxis\":{\"gridcolor\":\"white\",\"linecolor\":\"white\",\"ticks\":\"\"},\"baxis\":{\"gridcolor\":\"white\",\"linecolor\":\"white\",\"ticks\":\"\"},\"caxis\":{\"gridcolor\":\"white\",\"linecolor\":\"white\",\"ticks\":\"\"}},\"coloraxis\":{\"colorbar\":{\"outlinewidth\":0,\"ticks\":\"\"}},\"colorscale\":{\"sequential\":[[0.0,\"#0d0887\"],[0.1111111111111111,\"#46039f\"],[0.2222222222222222,\"#7201a8\"],[0.3333333333333333,\"#9c179e\"],[0.4444444444444444,\"#bd3786\"],[0.5555555555555556,\"#d8576b\"],[0.6666666666666666,\"#ed7953\"],[0.7777777777777778,\"#fb9f3a\"],[0.8888888888888888,\"#fdca26\"],[1.0,\"#f0f921\"]],\"sequentialminus\":[[0.0,\"#0d0887\"],[0.1111111111111111,\"#46039f\"],[0.2222222222222222,\"#7201a8\"],[0.3333333333333333,\"#9c179e\"],[0.4444444444444444,\"#bd3786\"],[0.5555555555555556,\"#d8576b\"],[0.6666666666666666,\"#ed7953\"],[0.7777777777777778,\"#fb9f3a\"],[0.8888888888888888,\"#fdca26\"],[1.0,\"#f0f921\"]],\"diverging\":[[0,\"#8e0152\"],[0.1,\"#c51b7d\"],[0.2,\"#de77ae\"],[0.3,\"#f1b6da\"],[0.4,\"#fde0ef\"],[0.5,\"#f7f7f7\"],[0.6,\"#e6f5d0\"],[0.7,\"#b8e186\"],[0.8,\"#7fbc41\"],[0.9,\"#4d9221\"],[1,\"#276419\"]]},\"xaxis\":{\"gridcolor\":\"white\",\"linecolor\":\"white\",\"ticks\":\"\",\"title\":{\"standoff\":15},\"zerolinecolor\":\"white\",\"automargin\":true,\"zerolinewidth\":2},\"yaxis\":{\"gridcolor\":\"white\",\"linecolor\":\"white\",\"ticks\":\"\",\"title\":{\"standoff\":15},\"zerolinecolor\":\"white\",\"automargin\":true,\"zerolinewidth\":2},\"scene\":{\"xaxis\":{\"backgroundcolor\":\"#E5ECF6\",\"gridcolor\":\"white\",\"linecolor\":\"white\",\"showbackground\":true,\"ticks\":\"\",\"zerolinecolor\":\"white\",\"gridwidth\":2},\"yaxis\":{\"backgroundcolor\":\"#E5ECF6\",\"gridcolor\":\"white\",\"linecolor\":\"white\",\"showbackground\":true,\"ticks\":\"\",\"zerolinecolor\":\"white\",\"gridwidth\":2},\"zaxis\":{\"backgroundcolor\":\"#E5ECF6\",\"gridcolor\":\"white\",\"linecolor\":\"white\",\"showbackground\":true,\"ticks\":\"\",\"zerolinecolor\":\"white\",\"gridwidth\":2}},\"shapedefaults\":{\"line\":{\"color\":\"#2a3f5f\"}},\"annotationdefaults\":{\"arrowcolor\":\"#2a3f5f\",\"arrowhead\":0,\"arrowwidth\":1},\"geo\":{\"bgcolor\":\"white\",\"landcolor\":\"#E5ECF6\",\"subunitcolor\":\"white\",\"showland\":true,\"showlakes\":true,\"lakecolor\":\"white\"},\"title\":{\"x\":0.05},\"mapbox\":{\"style\":\"light\"}}},\"xaxis\":{\"anchor\":\"y\",\"domain\":[0.0,1.0],\"title\":{\"text\":\"\\u0421\\u0442\\u0440\\u0430\\u0442\\u0435\\u0433\\u0438\\u044f\"}},\"yaxis\":{\"anchor\":\"x\",\"domain\":[0.0,1.0],\"title\":{\"text\":\"\\u041a\\u043e\\u043b\\u0438\\u0447\\u0435\\u0441\\u0442\\u0432\\u043e\"}},\"legend\":{\"tracegroupgap\":0},\"title\":{\"text\":\"\\u041a\\u043e\\u043b\\u0438\\u0447\\u0435\\u0441\\u0442\\u0432\\u043e \\u043f\\u043e\\u0441\\u0442\\u0440\\u043e\\u0435\\u043d\\u044b\\u0445 \\u0437\\u0434\\u0430\\u043d\\u0438\\u0439 \\u043f\\u043e \\u0442\\u0438\\u043f\\u0430\\u043c\"},\"barmode\":\"relative\"},                        {\"responsive\": true}                    ).then(function(){\n",
              "                            \n",
              "var gd = document.getElementById('3383adec-0552-413d-9df5-7cabae708c12');\n",
              "var x = new MutationObserver(function (mutations, observer) {{\n",
              "        var display = window.getComputedStyle(gd).display;\n",
              "        if (!display || display === 'none') {{\n",
              "            console.log([gd, 'removed!']);\n",
              "            Plotly.purge(gd);\n",
              "            observer.disconnect();\n",
              "        }}\n",
              "}});\n",
              "\n",
              "// Listen for the removal of the full notebook cells\n",
              "var notebookContainer = gd.closest('#notebook-container');\n",
              "if (notebookContainer) {{\n",
              "    x.observe(notebookContainer, {childList: true});\n",
              "}}\n",
              "\n",
              "// Listen for the clearing of the current output cell\n",
              "var outputEl = gd.closest('.output');\n",
              "if (outputEl) {{\n",
              "    x.observe(outputEl, {childList: true});\n",
              "}}\n",
              "\n",
              "                        })                };                            </script>        </div>\n",
              "</body>\n",
              "</html>"
            ]
          },
          "metadata": {}
        }
      ],
      "source": [
        "fig = px.bar(df, x=\"strat\", y=0, title=\"Количество построеных зданий по типам\", text = 0, labels={'strat':'Стратегия', '0':'Количество'})\n",
        "fig.show()"
      ]
    },
    {
      "cell_type": "markdown",
      "metadata": {
        "id": "olRKVKaDVUGY"
      },
      "source": [
        "**Итого**: наблюдаем такую картину: пве-игроки в среднем строят больше всех, далее идут пвп-игроки, и меньше всех строят игроки, которые не прошли уровень."
      ]
    },
    {
      "cell_type": "markdown",
      "metadata": {
        "id": "jx2ZXJSWVUGY"
      },
      "source": [
        "### Прибыль с рекламы"
      ]
    },
    {
      "cell_type": "markdown",
      "metadata": {
        "id": "9n-0YfgBVUGY"
      },
      "source": [
        "Посчитаем доход с рекламы."
      ]
    },
    {
      "cell_type": "code",
      "execution_count": 43,
      "metadata": {
        "scrolled": false,
        "colab": {
          "base_uri": "https://localhost:8080/"
        },
        "id": "4DiKY-4ZVUGZ",
        "outputId": "40bfe2b0-4dc3-4a54-f619-0c02d7a258cc"
      },
      "outputs": [
        {
          "output_type": "stream",
          "name": "stdout",
          "text": [
            "Всего потрачено на рекламу: 7603.58 у.е\n",
            "Всего заработано на рекламе: 8956.92 у.е\n",
            "Прибыль с рекламы: 1353.34 у.е\n"
          ]
        }
      ],
      "source": [
        "total_costs = costs['cost'].sum()\n",
        "total_revenue = build_by_strat['qty'].sum()*0.07\n",
        "dif = total_revenue - total_costs\n",
        "print('Всего потрачено на рекламу:', total_costs.round(2), 'у.е')\n",
        "print('Всего заработано на рекламе:', total_revenue.round(2), 'у.е')\n",
        "print('Прибыль с рекламы:', dif.round(2), 'у.е')"
      ]
    },
    {
      "cell_type": "code",
      "execution_count": 44,
      "metadata": {
        "colab": {
          "base_uri": "https://localhost:8080/",
          "height": 542
        },
        "id": "EpQxn5TTVUGZ",
        "outputId": "19d4d1b4-9cb6-4a31-f78d-78cebd81ce0a"
      },
      "outputs": [
        {
          "output_type": "display_data",
          "data": {
            "text/html": [
              "<html>\n",
              "<head><meta charset=\"utf-8\" /></head>\n",
              "<body>\n",
              "    <div>            <script src=\"https://cdnjs.cloudflare.com/ajax/libs/mathjax/2.7.5/MathJax.js?config=TeX-AMS-MML_SVG\"></script><script type=\"text/javascript\">if (window.MathJax && window.MathJax.Hub && window.MathJax.Hub.Config) {window.MathJax.Hub.Config({SVG: {font: \"STIX-Web\"}});}</script>                <script type=\"text/javascript\">window.PlotlyConfig = {MathJaxConfig: 'local'};</script>\n",
              "        <script src=\"https://cdn.plot.ly/plotly-2.18.2.min.js\"></script>                <div id=\"c302eb0c-4455-493f-96b5-8a67745c704d\" class=\"plotly-graph-div\" style=\"height:525px; width:100%;\"></div>            <script type=\"text/javascript\">                                    window.PLOTLYENV=window.PLOTLYENV || {};                                    if (document.getElementById(\"c302eb0c-4455-493f-96b5-8a67745c704d\")) {                    Plotly.newPlot(                        \"c302eb0c-4455-493f-96b5-8a67745c704d\",                        [{\"alignmentgroup\":\"True\",\"hovertemplate\":\"x=%{x}<br>y=%{y}<br>text=%{text}<br>color=%{marker.color}<extra></extra>\",\"legendgroup\":\"\",\"marker\":{\"color\":[-7603.58,8956.92],\"coloraxis\":\"coloraxis\",\"pattern\":{\"shape\":\"\"}},\"name\":\"\",\"offsetgroup\":\"\",\"orientation\":\"v\",\"showlegend\":false,\"text\":[-7603.58,8956.92],\"textposition\":\"inside\",\"x\":[\"Costs\",\"Revenue\"],\"xaxis\":\"x\",\"y\":[-7603.58,8956.92],\"yaxis\":\"y\",\"type\":\"bar\",\"textfont\":{\"size\":12},\"cliponaxis\":false,\"textangle\":0}],                        {\"template\":{\"data\":{\"histogram2dcontour\":[{\"type\":\"histogram2dcontour\",\"colorbar\":{\"outlinewidth\":0,\"ticks\":\"\"},\"colorscale\":[[0.0,\"#0d0887\"],[0.1111111111111111,\"#46039f\"],[0.2222222222222222,\"#7201a8\"],[0.3333333333333333,\"#9c179e\"],[0.4444444444444444,\"#bd3786\"],[0.5555555555555556,\"#d8576b\"],[0.6666666666666666,\"#ed7953\"],[0.7777777777777778,\"#fb9f3a\"],[0.8888888888888888,\"#fdca26\"],[1.0,\"#f0f921\"]]}],\"choropleth\":[{\"type\":\"choropleth\",\"colorbar\":{\"outlinewidth\":0,\"ticks\":\"\"}}],\"histogram2d\":[{\"type\":\"histogram2d\",\"colorbar\":{\"outlinewidth\":0,\"ticks\":\"\"},\"colorscale\":[[0.0,\"#0d0887\"],[0.1111111111111111,\"#46039f\"],[0.2222222222222222,\"#7201a8\"],[0.3333333333333333,\"#9c179e\"],[0.4444444444444444,\"#bd3786\"],[0.5555555555555556,\"#d8576b\"],[0.6666666666666666,\"#ed7953\"],[0.7777777777777778,\"#fb9f3a\"],[0.8888888888888888,\"#fdca26\"],[1.0,\"#f0f921\"]]}],\"heatmap\":[{\"type\":\"heatmap\",\"colorbar\":{\"outlinewidth\":0,\"ticks\":\"\"},\"colorscale\":[[0.0,\"#0d0887\"],[0.1111111111111111,\"#46039f\"],[0.2222222222222222,\"#7201a8\"],[0.3333333333333333,\"#9c179e\"],[0.4444444444444444,\"#bd3786\"],[0.5555555555555556,\"#d8576b\"],[0.6666666666666666,\"#ed7953\"],[0.7777777777777778,\"#fb9f3a\"],[0.8888888888888888,\"#fdca26\"],[1.0,\"#f0f921\"]]}],\"heatmapgl\":[{\"type\":\"heatmapgl\",\"colorbar\":{\"outlinewidth\":0,\"ticks\":\"\"},\"colorscale\":[[0.0,\"#0d0887\"],[0.1111111111111111,\"#46039f\"],[0.2222222222222222,\"#7201a8\"],[0.3333333333333333,\"#9c179e\"],[0.4444444444444444,\"#bd3786\"],[0.5555555555555556,\"#d8576b\"],[0.6666666666666666,\"#ed7953\"],[0.7777777777777778,\"#fb9f3a\"],[0.8888888888888888,\"#fdca26\"],[1.0,\"#f0f921\"]]}],\"contourcarpet\":[{\"type\":\"contourcarpet\",\"colorbar\":{\"outlinewidth\":0,\"ticks\":\"\"}}],\"contour\":[{\"type\":\"contour\",\"colorbar\":{\"outlinewidth\":0,\"ticks\":\"\"},\"colorscale\":[[0.0,\"#0d0887\"],[0.1111111111111111,\"#46039f\"],[0.2222222222222222,\"#7201a8\"],[0.3333333333333333,\"#9c179e\"],[0.4444444444444444,\"#bd3786\"],[0.5555555555555556,\"#d8576b\"],[0.6666666666666666,\"#ed7953\"],[0.7777777777777778,\"#fb9f3a\"],[0.8888888888888888,\"#fdca26\"],[1.0,\"#f0f921\"]]}],\"surface\":[{\"type\":\"surface\",\"colorbar\":{\"outlinewidth\":0,\"ticks\":\"\"},\"colorscale\":[[0.0,\"#0d0887\"],[0.1111111111111111,\"#46039f\"],[0.2222222222222222,\"#7201a8\"],[0.3333333333333333,\"#9c179e\"],[0.4444444444444444,\"#bd3786\"],[0.5555555555555556,\"#d8576b\"],[0.6666666666666666,\"#ed7953\"],[0.7777777777777778,\"#fb9f3a\"],[0.8888888888888888,\"#fdca26\"],[1.0,\"#f0f921\"]]}],\"mesh3d\":[{\"type\":\"mesh3d\",\"colorbar\":{\"outlinewidth\":0,\"ticks\":\"\"}}],\"scatter\":[{\"fillpattern\":{\"fillmode\":\"overlay\",\"size\":10,\"solidity\":0.2},\"type\":\"scatter\"}],\"parcoords\":[{\"type\":\"parcoords\",\"line\":{\"colorbar\":{\"outlinewidth\":0,\"ticks\":\"\"}}}],\"scatterpolargl\":[{\"type\":\"scatterpolargl\",\"marker\":{\"colorbar\":{\"outlinewidth\":0,\"ticks\":\"\"}}}],\"bar\":[{\"error_x\":{\"color\":\"#2a3f5f\"},\"error_y\":{\"color\":\"#2a3f5f\"},\"marker\":{\"line\":{\"color\":\"#E5ECF6\",\"width\":0.5},\"pattern\":{\"fillmode\":\"overlay\",\"size\":10,\"solidity\":0.2}},\"type\":\"bar\"}],\"scattergeo\":[{\"type\":\"scattergeo\",\"marker\":{\"colorbar\":{\"outlinewidth\":0,\"ticks\":\"\"}}}],\"scatterpolar\":[{\"type\":\"scatterpolar\",\"marker\":{\"colorbar\":{\"outlinewidth\":0,\"ticks\":\"\"}}}],\"histogram\":[{\"marker\":{\"pattern\":{\"fillmode\":\"overlay\",\"size\":10,\"solidity\":0.2}},\"type\":\"histogram\"}],\"scattergl\":[{\"type\":\"scattergl\",\"marker\":{\"colorbar\":{\"outlinewidth\":0,\"ticks\":\"\"}}}],\"scatter3d\":[{\"type\":\"scatter3d\",\"line\":{\"colorbar\":{\"outlinewidth\":0,\"ticks\":\"\"}},\"marker\":{\"colorbar\":{\"outlinewidth\":0,\"ticks\":\"\"}}}],\"scattermapbox\":[{\"type\":\"scattermapbox\",\"marker\":{\"colorbar\":{\"outlinewidth\":0,\"ticks\":\"\"}}}],\"scatterternary\":[{\"type\":\"scatterternary\",\"marker\":{\"colorbar\":{\"outlinewidth\":0,\"ticks\":\"\"}}}],\"scattercarpet\":[{\"type\":\"scattercarpet\",\"marker\":{\"colorbar\":{\"outlinewidth\":0,\"ticks\":\"\"}}}],\"carpet\":[{\"aaxis\":{\"endlinecolor\":\"#2a3f5f\",\"gridcolor\":\"white\",\"linecolor\":\"white\",\"minorgridcolor\":\"white\",\"startlinecolor\":\"#2a3f5f\"},\"baxis\":{\"endlinecolor\":\"#2a3f5f\",\"gridcolor\":\"white\",\"linecolor\":\"white\",\"minorgridcolor\":\"white\",\"startlinecolor\":\"#2a3f5f\"},\"type\":\"carpet\"}],\"table\":[{\"cells\":{\"fill\":{\"color\":\"#EBF0F8\"},\"line\":{\"color\":\"white\"}},\"header\":{\"fill\":{\"color\":\"#C8D4E3\"},\"line\":{\"color\":\"white\"}},\"type\":\"table\"}],\"barpolar\":[{\"marker\":{\"line\":{\"color\":\"#E5ECF6\",\"width\":0.5},\"pattern\":{\"fillmode\":\"overlay\",\"size\":10,\"solidity\":0.2}},\"type\":\"barpolar\"}],\"pie\":[{\"automargin\":true,\"type\":\"pie\"}]},\"layout\":{\"autotypenumbers\":\"strict\",\"colorway\":[\"#636efa\",\"#EF553B\",\"#00cc96\",\"#ab63fa\",\"#FFA15A\",\"#19d3f3\",\"#FF6692\",\"#B6E880\",\"#FF97FF\",\"#FECB52\"],\"font\":{\"color\":\"#2a3f5f\"},\"hovermode\":\"closest\",\"hoverlabel\":{\"align\":\"left\"},\"paper_bgcolor\":\"white\",\"plot_bgcolor\":\"#E5ECF6\",\"polar\":{\"bgcolor\":\"#E5ECF6\",\"angularaxis\":{\"gridcolor\":\"white\",\"linecolor\":\"white\",\"ticks\":\"\"},\"radialaxis\":{\"gridcolor\":\"white\",\"linecolor\":\"white\",\"ticks\":\"\"}},\"ternary\":{\"bgcolor\":\"#E5ECF6\",\"aaxis\":{\"gridcolor\":\"white\",\"linecolor\":\"white\",\"ticks\":\"\"},\"baxis\":{\"gridcolor\":\"white\",\"linecolor\":\"white\",\"ticks\":\"\"},\"caxis\":{\"gridcolor\":\"white\",\"linecolor\":\"white\",\"ticks\":\"\"}},\"coloraxis\":{\"colorbar\":{\"outlinewidth\":0,\"ticks\":\"\"}},\"colorscale\":{\"sequential\":[[0.0,\"#0d0887\"],[0.1111111111111111,\"#46039f\"],[0.2222222222222222,\"#7201a8\"],[0.3333333333333333,\"#9c179e\"],[0.4444444444444444,\"#bd3786\"],[0.5555555555555556,\"#d8576b\"],[0.6666666666666666,\"#ed7953\"],[0.7777777777777778,\"#fb9f3a\"],[0.8888888888888888,\"#fdca26\"],[1.0,\"#f0f921\"]],\"sequentialminus\":[[0.0,\"#0d0887\"],[0.1111111111111111,\"#46039f\"],[0.2222222222222222,\"#7201a8\"],[0.3333333333333333,\"#9c179e\"],[0.4444444444444444,\"#bd3786\"],[0.5555555555555556,\"#d8576b\"],[0.6666666666666666,\"#ed7953\"],[0.7777777777777778,\"#fb9f3a\"],[0.8888888888888888,\"#fdca26\"],[1.0,\"#f0f921\"]],\"diverging\":[[0,\"#8e0152\"],[0.1,\"#c51b7d\"],[0.2,\"#de77ae\"],[0.3,\"#f1b6da\"],[0.4,\"#fde0ef\"],[0.5,\"#f7f7f7\"],[0.6,\"#e6f5d0\"],[0.7,\"#b8e186\"],[0.8,\"#7fbc41\"],[0.9,\"#4d9221\"],[1,\"#276419\"]]},\"xaxis\":{\"gridcolor\":\"white\",\"linecolor\":\"white\",\"ticks\":\"\",\"title\":{\"standoff\":15},\"zerolinecolor\":\"white\",\"automargin\":true,\"zerolinewidth\":2},\"yaxis\":{\"gridcolor\":\"white\",\"linecolor\":\"white\",\"ticks\":\"\",\"title\":{\"standoff\":15},\"zerolinecolor\":\"white\",\"automargin\":true,\"zerolinewidth\":2},\"scene\":{\"xaxis\":{\"backgroundcolor\":\"#E5ECF6\",\"gridcolor\":\"white\",\"linecolor\":\"white\",\"showbackground\":true,\"ticks\":\"\",\"zerolinecolor\":\"white\",\"gridwidth\":2},\"yaxis\":{\"backgroundcolor\":\"#E5ECF6\",\"gridcolor\":\"white\",\"linecolor\":\"white\",\"showbackground\":true,\"ticks\":\"\",\"zerolinecolor\":\"white\",\"gridwidth\":2},\"zaxis\":{\"backgroundcolor\":\"#E5ECF6\",\"gridcolor\":\"white\",\"linecolor\":\"white\",\"showbackground\":true,\"ticks\":\"\",\"zerolinecolor\":\"white\",\"gridwidth\":2}},\"shapedefaults\":{\"line\":{\"color\":\"#2a3f5f\"}},\"annotationdefaults\":{\"arrowcolor\":\"#2a3f5f\",\"arrowhead\":0,\"arrowwidth\":1},\"geo\":{\"bgcolor\":\"white\",\"landcolor\":\"#E5ECF6\",\"subunitcolor\":\"white\",\"showland\":true,\"showlakes\":true,\"lakecolor\":\"white\"},\"title\":{\"x\":0.05},\"mapbox\":{\"style\":\"light\"}}},\"xaxis\":{\"anchor\":\"y\",\"domain\":[0.0,1.0],\"title\":{\"text\":\"x\"}},\"yaxis\":{\"anchor\":\"x\",\"domain\":[0.0,1.0],\"title\":{\"text\":\"y\"}},\"coloraxis\":{\"colorbar\":{\"title\":{\"text\":\"color\"}},\"colorscale\":[[0.0,\"#0d0887\"],[0.1111111111111111,\"#46039f\"],[0.2222222222222222,\"#7201a8\"],[0.3333333333333333,\"#9c179e\"],[0.4444444444444444,\"#bd3786\"],[0.5555555555555556,\"#d8576b\"],[0.6666666666666666,\"#ed7953\"],[0.7777777777777778,\"#fb9f3a\"],[0.8888888888888888,\"#fdca26\"],[1.0,\"#f0f921\"]]},\"legend\":{\"tracegroupgap\":0},\"title\":{\"text\":\"Costs/Revenue\"},\"barmode\":\"relative\"},                        {\"responsive\": true}                    ).then(function(){\n",
              "                            \n",
              "var gd = document.getElementById('c302eb0c-4455-493f-96b5-8a67745c704d');\n",
              "var x = new MutationObserver(function (mutations, observer) {{\n",
              "        var display = window.getComputedStyle(gd).display;\n",
              "        if (!display || display === 'none') {{\n",
              "            console.log([gd, 'removed!']);\n",
              "            Plotly.purge(gd);\n",
              "            observer.disconnect();\n",
              "        }}\n",
              "}});\n",
              "\n",
              "// Listen for the removal of the full notebook cells\n",
              "var notebookContainer = gd.closest('#notebook-container');\n",
              "if (notebookContainer) {{\n",
              "    x.observe(notebookContainer, {childList: true});\n",
              "}}\n",
              "\n",
              "// Listen for the clearing of the current output cell\n",
              "var outputEl = gd.closest('.output');\n",
              "if (outputEl) {{\n",
              "    x.observe(outputEl, {childList: true});\n",
              "}}\n",
              "\n",
              "                        })                };                            </script>        </div>\n",
              "</body>\n",
              "</html>"
            ]
          },
          "metadata": {}
        }
      ],
      "source": [
        "x = ['Costs','Revenue']\n",
        "y=[-total_costs.round(2),total_revenue]\n",
        "fig = px.bar(y=y, x=x, text = y,\n",
        "            title=\"Costs/Revenue\", color = y)\n",
        "fig.update_traces(textfont_size=12, textangle=0, textposition=\"inside\", cliponaxis=False)\n",
        "fig.show()"
      ]
    },
    {
      "cell_type": "markdown",
      "metadata": {
        "id": "akxfkB4bVUGZ"
      },
      "source": [
        "Делаем вывод, что данная модель монетизации уже работает - реклама окупается.\n",
        "\n",
        "Можно сделать вывод, что пользователи намного охотнее идут по пути войны, это видно по количеству завершенных уровней этой стратегией - 3951 против 1866, которое подтверждается постройками assembly_shop и spaceport, которые помогают нарастить военную мощь, а research_center строят гораздо реже, и выигрывают стратегией исследования очевидно реже.\n",
        "Также в целом пвп-игроки строят больше чем пве, однако не прошедшие уровень - строят еще больше.\n",
        "\n",
        "Заказчик на данный момент выходит в + (1353у.е), однако задача - уменьшить количество рекламы и выйти в ноль."
      ]
    },
    {
      "cell_type": "markdown",
      "metadata": {
        "id": "OvfM5zQcVUGZ"
      },
      "source": [
        "### Расчет среднего расхода на пользователя"
      ]
    },
    {
      "cell_type": "code",
      "execution_count": 45,
      "metadata": {
        "colab": {
          "base_uri": "https://localhost:8080/"
        },
        "id": "wnFyoCOAVUGa",
        "outputId": "c87f235c-c146-471d-8067-5ffc1a755505"
      },
      "outputs": [
        {
          "output_type": "stream",
          "name": "stdout",
          "text": [
            "Всего пользователей: 13576\n"
          ]
        }
      ],
      "source": [
        "total_users = actions['user_id'].nunique()\n",
        "print('Всего пользователей:', total_users)"
      ]
    },
    {
      "cell_type": "code",
      "execution_count": 46,
      "metadata": {
        "colab": {
          "base_uri": "https://localhost:8080/"
        },
        "id": "_ILTOmq8VUGa",
        "outputId": "bb4c1d1c-c240-41fc-c44b-2f6b2cb27105"
      },
      "outputs": [
        {
          "output_type": "stream",
          "name": "stdout",
          "text": [
            "Расход на пользователя 0.56 у.е.\n"
          ]
        }
      ],
      "source": [
        "cost_by_user = (total_costs/total_users).round(2)\n",
        "print('Расход на пользователя',cost_by_user, 'у.е.')"
      ]
    },
    {
      "cell_type": "code",
      "execution_count": 47,
      "metadata": {
        "colab": {
          "base_uri": "https://localhost:8080/"
        },
        "id": "cBB40qvqVUGa",
        "outputId": "042f79eb-7423-45a8-e582-f5007532444c"
      },
      "outputs": [
        {
          "output_type": "stream",
          "name": "stdout",
          "text": [
            "Количество зданий, которое должен построить пользователь, чтобы выйти в ноль: 8.0\n"
          ]
        }
      ],
      "source": [
        "build_to_zero = (cost_by_user/0.07).round(2)\n",
        "print('Количество зданий, которое должен построить пользователь, чтобы выйти в ноль:', build_to_zero)"
      ]
    },
    {
      "cell_type": "code",
      "execution_count": 48,
      "metadata": {
        "colab": {
          "base_uri": "https://localhost:8080/"
        },
        "id": "Sm8q3v_NVUGa",
        "outputId": "afc71a55-6d1b-4aa2-c69d-7a3db509ea87"
      },
      "outputs": [
        {
          "output_type": "stream",
          "name": "stdout",
          "text": [
            "Суммарное среднее количество зданий, которое построит один пользователь: 9.43\n"
          ]
        }
      ],
      "source": [
        "build_to_plus = float(build_by_user['qty'].mean().round(2))\n",
        "print('Суммарное среднее количество зданий, которое построит один пользователь:', build_to_plus)"
      ]
    },
    {
      "cell_type": "code",
      "execution_count": 49,
      "metadata": {
        "scrolled": true,
        "colab": {
          "base_uri": "https://localhost:8080/",
          "height": 112
        },
        "id": "S4I1nVO8VUGb",
        "outputId": "1de0948b-40a4-490a-e5ad-6c0af0d1f0c8"
      },
      "outputs": [
        {
          "output_type": "execute_result",
          "data": {
            "text/plain": [
              "  model  total_users  cost_per_user  build_by_user  ad_rev    costs  revenue  \\\n",
              "0   old        13576           0.56           9.43    0.07 -7602.56  8961.52   \n",
              "1   new        13576           0.56           8.00    0.07 -7602.56  7602.56   \n",
              "\n",
              "      diff  \n",
              "0  1358.96  \n",
              "1     0.00  "
            ],
            "text/html": [
              "\n",
              "  <div id=\"df-7c6d1480-350f-4f38-ac99-a68c4173344d\">\n",
              "    <div class=\"colab-df-container\">\n",
              "      <div>\n",
              "<style scoped>\n",
              "    .dataframe tbody tr th:only-of-type {\n",
              "        vertical-align: middle;\n",
              "    }\n",
              "\n",
              "    .dataframe tbody tr th {\n",
              "        vertical-align: top;\n",
              "    }\n",
              "\n",
              "    .dataframe thead th {\n",
              "        text-align: right;\n",
              "    }\n",
              "</style>\n",
              "<table border=\"1\" class=\"dataframe\">\n",
              "  <thead>\n",
              "    <tr style=\"text-align: right;\">\n",
              "      <th></th>\n",
              "      <th>model</th>\n",
              "      <th>total_users</th>\n",
              "      <th>cost_per_user</th>\n",
              "      <th>build_by_user</th>\n",
              "      <th>ad_rev</th>\n",
              "      <th>costs</th>\n",
              "      <th>revenue</th>\n",
              "      <th>diff</th>\n",
              "    </tr>\n",
              "  </thead>\n",
              "  <tbody>\n",
              "    <tr>\n",
              "      <th>0</th>\n",
              "      <td>old</td>\n",
              "      <td>13576</td>\n",
              "      <td>0.56</td>\n",
              "      <td>9.43</td>\n",
              "      <td>0.07</td>\n",
              "      <td>-7602.56</td>\n",
              "      <td>8961.52</td>\n",
              "      <td>1358.96</td>\n",
              "    </tr>\n",
              "    <tr>\n",
              "      <th>1</th>\n",
              "      <td>new</td>\n",
              "      <td>13576</td>\n",
              "      <td>0.56</td>\n",
              "      <td>8.00</td>\n",
              "      <td>0.07</td>\n",
              "      <td>-7602.56</td>\n",
              "      <td>7602.56</td>\n",
              "      <td>0.00</td>\n",
              "    </tr>\n",
              "  </tbody>\n",
              "</table>\n",
              "</div>\n",
              "      <button class=\"colab-df-convert\" onclick=\"convertToInteractive('df-7c6d1480-350f-4f38-ac99-a68c4173344d')\"\n",
              "              title=\"Convert this dataframe to an interactive table.\"\n",
              "              style=\"display:none;\">\n",
              "        \n",
              "  <svg xmlns=\"http://www.w3.org/2000/svg\" height=\"24px\"viewBox=\"0 0 24 24\"\n",
              "       width=\"24px\">\n",
              "    <path d=\"M0 0h24v24H0V0z\" fill=\"none\"/>\n",
              "    <path d=\"M18.56 5.44l.94 2.06.94-2.06 2.06-.94-2.06-.94-.94-2.06-.94 2.06-2.06.94zm-11 1L8.5 8.5l.94-2.06 2.06-.94-2.06-.94L8.5 2.5l-.94 2.06-2.06.94zm10 10l.94 2.06.94-2.06 2.06-.94-2.06-.94-.94-2.06-.94 2.06-2.06.94z\"/><path d=\"M17.41 7.96l-1.37-1.37c-.4-.4-.92-.59-1.43-.59-.52 0-1.04.2-1.43.59L10.3 9.45l-7.72 7.72c-.78.78-.78 2.05 0 2.83L4 21.41c.39.39.9.59 1.41.59.51 0 1.02-.2 1.41-.59l7.78-7.78 2.81-2.81c.8-.78.8-2.07 0-2.86zM5.41 20L4 18.59l7.72-7.72 1.47 1.35L5.41 20z\"/>\n",
              "  </svg>\n",
              "      </button>\n",
              "      \n",
              "  <style>\n",
              "    .colab-df-container {\n",
              "      display:flex;\n",
              "      flex-wrap:wrap;\n",
              "      gap: 12px;\n",
              "    }\n",
              "\n",
              "    .colab-df-convert {\n",
              "      background-color: #E8F0FE;\n",
              "      border: none;\n",
              "      border-radius: 50%;\n",
              "      cursor: pointer;\n",
              "      display: none;\n",
              "      fill: #1967D2;\n",
              "      height: 32px;\n",
              "      padding: 0 0 0 0;\n",
              "      width: 32px;\n",
              "    }\n",
              "\n",
              "    .colab-df-convert:hover {\n",
              "      background-color: #E2EBFA;\n",
              "      box-shadow: 0px 1px 2px rgba(60, 64, 67, 0.3), 0px 1px 3px 1px rgba(60, 64, 67, 0.15);\n",
              "      fill: #174EA6;\n",
              "    }\n",
              "\n",
              "    [theme=dark] .colab-df-convert {\n",
              "      background-color: #3B4455;\n",
              "      fill: #D2E3FC;\n",
              "    }\n",
              "\n",
              "    [theme=dark] .colab-df-convert:hover {\n",
              "      background-color: #434B5C;\n",
              "      box-shadow: 0px 1px 3px 1px rgba(0, 0, 0, 0.15);\n",
              "      filter: drop-shadow(0px 1px 2px rgba(0, 0, 0, 0.3));\n",
              "      fill: #FFFFFF;\n",
              "    }\n",
              "  </style>\n",
              "\n",
              "      <script>\n",
              "        const buttonEl =\n",
              "          document.querySelector('#df-7c6d1480-350f-4f38-ac99-a68c4173344d button.colab-df-convert');\n",
              "        buttonEl.style.display =\n",
              "          google.colab.kernel.accessAllowed ? 'block' : 'none';\n",
              "\n",
              "        async function convertToInteractive(key) {\n",
              "          const element = document.querySelector('#df-7c6d1480-350f-4f38-ac99-a68c4173344d');\n",
              "          const dataTable =\n",
              "            await google.colab.kernel.invokeFunction('convertToInteractive',\n",
              "                                                     [key], {});\n",
              "          if (!dataTable) return;\n",
              "\n",
              "          const docLinkHtml = 'Like what you see? Visit the ' +\n",
              "            '<a target=\"_blank\" href=https://colab.research.google.com/notebooks/data_table.ipynb>data table notebook</a>'\n",
              "            + ' to learn more about interactive tables.';\n",
              "          element.innerHTML = '';\n",
              "          dataTable['output_type'] = 'display_data';\n",
              "          await google.colab.output.renderOutput(dataTable, element);\n",
              "          const docLink = document.createElement('div');\n",
              "          docLink.innerHTML = docLinkHtml;\n",
              "          element.appendChild(docLink);\n",
              "        }\n",
              "      </script>\n",
              "    </div>\n",
              "  </div>\n",
              "  "
            ]
          },
          "metadata": {},
          "execution_count": 49
        }
      ],
      "source": [
        "data = [['old',total_users,cost_by_user, build_to_plus, 0.07],['new',total_users,cost_by_user, build_to_zero,0.07]]\n",
        "money_df = pd.DataFrame(data, columns=['model', 'total_users','cost_per_user','build_by_user','ad_rev'])\n",
        "money_df['costs'] = -money_df['cost_per_user']*money_df['total_users']\n",
        "money_df['revenue'] = money_df['build_by_user']*money_df['ad_rev']*money_df['total_users']\n",
        "money_df['diff'] = money_df['revenue']+money_df['costs']\n",
        "money_df['revenue'] = money_df['revenue'].round(2)\n",
        "money_df['diff'] = money_df['diff'].round(2)\n",
        "money_df"
      ]
    },
    {
      "cell_type": "code",
      "execution_count": 50,
      "metadata": {
        "colab": {
          "base_uri": "https://localhost:8080/",
          "height": 542
        },
        "id": "E38op_c-VUGb",
        "outputId": "d195130c-0745-470c-8690-09a303a3b977"
      },
      "outputs": [
        {
          "output_type": "display_data",
          "data": {
            "text/html": [
              "<html>\n",
              "<head><meta charset=\"utf-8\" /></head>\n",
              "<body>\n",
              "    <div>            <script src=\"https://cdnjs.cloudflare.com/ajax/libs/mathjax/2.7.5/MathJax.js?config=TeX-AMS-MML_SVG\"></script><script type=\"text/javascript\">if (window.MathJax && window.MathJax.Hub && window.MathJax.Hub.Config) {window.MathJax.Hub.Config({SVG: {font: \"STIX-Web\"}});}</script>                <script type=\"text/javascript\">window.PlotlyConfig = {MathJaxConfig: 'local'};</script>\n",
              "        <script src=\"https://cdn.plot.ly/plotly-2.18.2.min.js\"></script>                <div id=\"4fa4389c-7ed0-4545-bb66-39634c4d8b9e\" class=\"plotly-graph-div\" style=\"height:525px; width:100%;\"></div>            <script type=\"text/javascript\">                                    window.PLOTLYENV=window.PLOTLYENV || {};                                    if (document.getElementById(\"4fa4389c-7ed0-4545-bb66-39634c4d8b9e\")) {                    Plotly.newPlot(                        \"4fa4389c-7ed0-4545-bb66-39634c4d8b9e\",                        [{\"name\":\"costs\",\"text\":[-7602.56,-7602.56],\"x\":[\"old\",\"new\"],\"y\":[-7602.56,-7602.56],\"type\":\"bar\"},{\"name\":\"revenue\",\"text\":[8961.52,7602.56],\"x\":[\"old\",\"new\"],\"y\":[8961.52,7602.56],\"type\":\"bar\"}],                        {\"template\":{\"data\":{\"histogram2dcontour\":[{\"type\":\"histogram2dcontour\",\"colorbar\":{\"outlinewidth\":0,\"ticks\":\"\"},\"colorscale\":[[0.0,\"#0d0887\"],[0.1111111111111111,\"#46039f\"],[0.2222222222222222,\"#7201a8\"],[0.3333333333333333,\"#9c179e\"],[0.4444444444444444,\"#bd3786\"],[0.5555555555555556,\"#d8576b\"],[0.6666666666666666,\"#ed7953\"],[0.7777777777777778,\"#fb9f3a\"],[0.8888888888888888,\"#fdca26\"],[1.0,\"#f0f921\"]]}],\"choropleth\":[{\"type\":\"choropleth\",\"colorbar\":{\"outlinewidth\":0,\"ticks\":\"\"}}],\"histogram2d\":[{\"type\":\"histogram2d\",\"colorbar\":{\"outlinewidth\":0,\"ticks\":\"\"},\"colorscale\":[[0.0,\"#0d0887\"],[0.1111111111111111,\"#46039f\"],[0.2222222222222222,\"#7201a8\"],[0.3333333333333333,\"#9c179e\"],[0.4444444444444444,\"#bd3786\"],[0.5555555555555556,\"#d8576b\"],[0.6666666666666666,\"#ed7953\"],[0.7777777777777778,\"#fb9f3a\"],[0.8888888888888888,\"#fdca26\"],[1.0,\"#f0f921\"]]}],\"heatmap\":[{\"type\":\"heatmap\",\"colorbar\":{\"outlinewidth\":0,\"ticks\":\"\"},\"colorscale\":[[0.0,\"#0d0887\"],[0.1111111111111111,\"#46039f\"],[0.2222222222222222,\"#7201a8\"],[0.3333333333333333,\"#9c179e\"],[0.4444444444444444,\"#bd3786\"],[0.5555555555555556,\"#d8576b\"],[0.6666666666666666,\"#ed7953\"],[0.7777777777777778,\"#fb9f3a\"],[0.8888888888888888,\"#fdca26\"],[1.0,\"#f0f921\"]]}],\"heatmapgl\":[{\"type\":\"heatmapgl\",\"colorbar\":{\"outlinewidth\":0,\"ticks\":\"\"},\"colorscale\":[[0.0,\"#0d0887\"],[0.1111111111111111,\"#46039f\"],[0.2222222222222222,\"#7201a8\"],[0.3333333333333333,\"#9c179e\"],[0.4444444444444444,\"#bd3786\"],[0.5555555555555556,\"#d8576b\"],[0.6666666666666666,\"#ed7953\"],[0.7777777777777778,\"#fb9f3a\"],[0.8888888888888888,\"#fdca26\"],[1.0,\"#f0f921\"]]}],\"contourcarpet\":[{\"type\":\"contourcarpet\",\"colorbar\":{\"outlinewidth\":0,\"ticks\":\"\"}}],\"contour\":[{\"type\":\"contour\",\"colorbar\":{\"outlinewidth\":0,\"ticks\":\"\"},\"colorscale\":[[0.0,\"#0d0887\"],[0.1111111111111111,\"#46039f\"],[0.2222222222222222,\"#7201a8\"],[0.3333333333333333,\"#9c179e\"],[0.4444444444444444,\"#bd3786\"],[0.5555555555555556,\"#d8576b\"],[0.6666666666666666,\"#ed7953\"],[0.7777777777777778,\"#fb9f3a\"],[0.8888888888888888,\"#fdca26\"],[1.0,\"#f0f921\"]]}],\"surface\":[{\"type\":\"surface\",\"colorbar\":{\"outlinewidth\":0,\"ticks\":\"\"},\"colorscale\":[[0.0,\"#0d0887\"],[0.1111111111111111,\"#46039f\"],[0.2222222222222222,\"#7201a8\"],[0.3333333333333333,\"#9c179e\"],[0.4444444444444444,\"#bd3786\"],[0.5555555555555556,\"#d8576b\"],[0.6666666666666666,\"#ed7953\"],[0.7777777777777778,\"#fb9f3a\"],[0.8888888888888888,\"#fdca26\"],[1.0,\"#f0f921\"]]}],\"mesh3d\":[{\"type\":\"mesh3d\",\"colorbar\":{\"outlinewidth\":0,\"ticks\":\"\"}}],\"scatter\":[{\"fillpattern\":{\"fillmode\":\"overlay\",\"size\":10,\"solidity\":0.2},\"type\":\"scatter\"}],\"parcoords\":[{\"type\":\"parcoords\",\"line\":{\"colorbar\":{\"outlinewidth\":0,\"ticks\":\"\"}}}],\"scatterpolargl\":[{\"type\":\"scatterpolargl\",\"marker\":{\"colorbar\":{\"outlinewidth\":0,\"ticks\":\"\"}}}],\"bar\":[{\"error_x\":{\"color\":\"#2a3f5f\"},\"error_y\":{\"color\":\"#2a3f5f\"},\"marker\":{\"line\":{\"color\":\"#E5ECF6\",\"width\":0.5},\"pattern\":{\"fillmode\":\"overlay\",\"size\":10,\"solidity\":0.2}},\"type\":\"bar\"}],\"scattergeo\":[{\"type\":\"scattergeo\",\"marker\":{\"colorbar\":{\"outlinewidth\":0,\"ticks\":\"\"}}}],\"scatterpolar\":[{\"type\":\"scatterpolar\",\"marker\":{\"colorbar\":{\"outlinewidth\":0,\"ticks\":\"\"}}}],\"histogram\":[{\"marker\":{\"pattern\":{\"fillmode\":\"overlay\",\"size\":10,\"solidity\":0.2}},\"type\":\"histogram\"}],\"scattergl\":[{\"type\":\"scattergl\",\"marker\":{\"colorbar\":{\"outlinewidth\":0,\"ticks\":\"\"}}}],\"scatter3d\":[{\"type\":\"scatter3d\",\"line\":{\"colorbar\":{\"outlinewidth\":0,\"ticks\":\"\"}},\"marker\":{\"colorbar\":{\"outlinewidth\":0,\"ticks\":\"\"}}}],\"scattermapbox\":[{\"type\":\"scattermapbox\",\"marker\":{\"colorbar\":{\"outlinewidth\":0,\"ticks\":\"\"}}}],\"scatterternary\":[{\"type\":\"scatterternary\",\"marker\":{\"colorbar\":{\"outlinewidth\":0,\"ticks\":\"\"}}}],\"scattercarpet\":[{\"type\":\"scattercarpet\",\"marker\":{\"colorbar\":{\"outlinewidth\":0,\"ticks\":\"\"}}}],\"carpet\":[{\"aaxis\":{\"endlinecolor\":\"#2a3f5f\",\"gridcolor\":\"white\",\"linecolor\":\"white\",\"minorgridcolor\":\"white\",\"startlinecolor\":\"#2a3f5f\"},\"baxis\":{\"endlinecolor\":\"#2a3f5f\",\"gridcolor\":\"white\",\"linecolor\":\"white\",\"minorgridcolor\":\"white\",\"startlinecolor\":\"#2a3f5f\"},\"type\":\"carpet\"}],\"table\":[{\"cells\":{\"fill\":{\"color\":\"#EBF0F8\"},\"line\":{\"color\":\"white\"}},\"header\":{\"fill\":{\"color\":\"#C8D4E3\"},\"line\":{\"color\":\"white\"}},\"type\":\"table\"}],\"barpolar\":[{\"marker\":{\"line\":{\"color\":\"#E5ECF6\",\"width\":0.5},\"pattern\":{\"fillmode\":\"overlay\",\"size\":10,\"solidity\":0.2}},\"type\":\"barpolar\"}],\"pie\":[{\"automargin\":true,\"type\":\"pie\"}]},\"layout\":{\"autotypenumbers\":\"strict\",\"colorway\":[\"#636efa\",\"#EF553B\",\"#00cc96\",\"#ab63fa\",\"#FFA15A\",\"#19d3f3\",\"#FF6692\",\"#B6E880\",\"#FF97FF\",\"#FECB52\"],\"font\":{\"color\":\"#2a3f5f\"},\"hovermode\":\"closest\",\"hoverlabel\":{\"align\":\"left\"},\"paper_bgcolor\":\"white\",\"plot_bgcolor\":\"#E5ECF6\",\"polar\":{\"bgcolor\":\"#E5ECF6\",\"angularaxis\":{\"gridcolor\":\"white\",\"linecolor\":\"white\",\"ticks\":\"\"},\"radialaxis\":{\"gridcolor\":\"white\",\"linecolor\":\"white\",\"ticks\":\"\"}},\"ternary\":{\"bgcolor\":\"#E5ECF6\",\"aaxis\":{\"gridcolor\":\"white\",\"linecolor\":\"white\",\"ticks\":\"\"},\"baxis\":{\"gridcolor\":\"white\",\"linecolor\":\"white\",\"ticks\":\"\"},\"caxis\":{\"gridcolor\":\"white\",\"linecolor\":\"white\",\"ticks\":\"\"}},\"coloraxis\":{\"colorbar\":{\"outlinewidth\":0,\"ticks\":\"\"}},\"colorscale\":{\"sequential\":[[0.0,\"#0d0887\"],[0.1111111111111111,\"#46039f\"],[0.2222222222222222,\"#7201a8\"],[0.3333333333333333,\"#9c179e\"],[0.4444444444444444,\"#bd3786\"],[0.5555555555555556,\"#d8576b\"],[0.6666666666666666,\"#ed7953\"],[0.7777777777777778,\"#fb9f3a\"],[0.8888888888888888,\"#fdca26\"],[1.0,\"#f0f921\"]],\"sequentialminus\":[[0.0,\"#0d0887\"],[0.1111111111111111,\"#46039f\"],[0.2222222222222222,\"#7201a8\"],[0.3333333333333333,\"#9c179e\"],[0.4444444444444444,\"#bd3786\"],[0.5555555555555556,\"#d8576b\"],[0.6666666666666666,\"#ed7953\"],[0.7777777777777778,\"#fb9f3a\"],[0.8888888888888888,\"#fdca26\"],[1.0,\"#f0f921\"]],\"diverging\":[[0,\"#8e0152\"],[0.1,\"#c51b7d\"],[0.2,\"#de77ae\"],[0.3,\"#f1b6da\"],[0.4,\"#fde0ef\"],[0.5,\"#f7f7f7\"],[0.6,\"#e6f5d0\"],[0.7,\"#b8e186\"],[0.8,\"#7fbc41\"],[0.9,\"#4d9221\"],[1,\"#276419\"]]},\"xaxis\":{\"gridcolor\":\"white\",\"linecolor\":\"white\",\"ticks\":\"\",\"title\":{\"standoff\":15},\"zerolinecolor\":\"white\",\"automargin\":true,\"zerolinewidth\":2},\"yaxis\":{\"gridcolor\":\"white\",\"linecolor\":\"white\",\"ticks\":\"\",\"title\":{\"standoff\":15},\"zerolinecolor\":\"white\",\"automargin\":true,\"zerolinewidth\":2},\"scene\":{\"xaxis\":{\"backgroundcolor\":\"#E5ECF6\",\"gridcolor\":\"white\",\"linecolor\":\"white\",\"showbackground\":true,\"ticks\":\"\",\"zerolinecolor\":\"white\",\"gridwidth\":2},\"yaxis\":{\"backgroundcolor\":\"#E5ECF6\",\"gridcolor\":\"white\",\"linecolor\":\"white\",\"showbackground\":true,\"ticks\":\"\",\"zerolinecolor\":\"white\",\"gridwidth\":2},\"zaxis\":{\"backgroundcolor\":\"#E5ECF6\",\"gridcolor\":\"white\",\"linecolor\":\"white\",\"showbackground\":true,\"ticks\":\"\",\"zerolinecolor\":\"white\",\"gridwidth\":2}},\"shapedefaults\":{\"line\":{\"color\":\"#2a3f5f\"}},\"annotationdefaults\":{\"arrowcolor\":\"#2a3f5f\",\"arrowhead\":0,\"arrowwidth\":1},\"geo\":{\"bgcolor\":\"white\",\"landcolor\":\"#E5ECF6\",\"subunitcolor\":\"white\",\"showland\":true,\"showlakes\":true,\"lakecolor\":\"white\"},\"title\":{\"x\":0.05},\"mapbox\":{\"style\":\"light\"}}},\"title\":{\"text\":\"Old/New model\"},\"barmode\":\"relative\"},                        {\"responsive\": true}                    ).then(function(){\n",
              "                            \n",
              "var gd = document.getElementById('4fa4389c-7ed0-4545-bb66-39634c4d8b9e');\n",
              "var x = new MutationObserver(function (mutations, observer) {{\n",
              "        var display = window.getComputedStyle(gd).display;\n",
              "        if (!display || display === 'none') {{\n",
              "            console.log([gd, 'removed!']);\n",
              "            Plotly.purge(gd);\n",
              "            observer.disconnect();\n",
              "        }}\n",
              "}});\n",
              "\n",
              "// Listen for the removal of the full notebook cells\n",
              "var notebookContainer = gd.closest('#notebook-container');\n",
              "if (notebookContainer) {{\n",
              "    x.observe(notebookContainer, {childList: true});\n",
              "}}\n",
              "\n",
              "// Listen for the clearing of the current output cell\n",
              "var outputEl = gd.closest('.output');\n",
              "if (outputEl) {{\n",
              "    x.observe(outputEl, {childList: true});\n",
              "}}\n",
              "\n",
              "                        })                };                            </script>        </div>\n",
              "</body>\n",
              "</html>"
            ]
          },
          "metadata": {}
        }
      ],
      "source": [
        "y_1 = money_df['costs']\n",
        "y_2 = money_df['revenue']\n",
        "x = money_df['model']\n",
        "\n",
        "fig = go.Figure()\n",
        "fig.add_trace(go.Bar(x=x, y=y_1, name = 'costs', text = y_1))\n",
        "fig.add_trace(go.Bar(x=x, y=y_2, name = 'revenue', text = y_2))\n",
        "fig.update_layout(barmode='relative', title_text='Old/New model')\n",
        "fig.show()"
      ]
    },
    {
      "cell_type": "markdown",
      "metadata": {
        "id": "gL7SfkExVUGb"
      },
      "source": [
        "**Вывод**\n",
        "\n",
        "Исходя из расчетов, можно сказать следующее: чтобы выходить в ноль - каждый пользователь должен построить минимум 8 зданий, в данный момент каждый в среднем строит 9.4 зданий, тем самым выходит в плюс.\n",
        "\n",
        "Если мы хотим, чтобы пользователя не напрягала реклама и при этом нужно выйти в ноль - предлагаю схему ограничения показа рекламы после постройки 8ми зданий на игрока, при учете что расходы на рекламу остаются теже и механика уровня остается без изменений, данное предложение касается только 1го уровня в таком виде, какой он сейчас есть."
      ]
    },
    {
      "cell_type": "code",
      "execution_count": 51,
      "metadata": {
        "colab": {
          "base_uri": "https://localhost:8080/",
          "height": 206
        },
        "id": "U0qtcSkgVUGd",
        "outputId": "44bbe888-65f1-499a-a298-3e3194c05641"
      },
      "outputs": [
        {
          "output_type": "execute_result",
          "data": {
            "text/plain": [
              "                                user_id  qty  revenue\n",
              "0  0001f83c-c6ac-4621-b7f0-8a28b283ac30   13     0.91\n",
              "1  00151b4f-ba38-44a8-a650-d7cf130a0105    9     0.63\n",
              "2  001aaea6-3d14-43f1-8ca8-7f48820f17aa    4     0.28\n",
              "3  001d39dc-366c-4021-9604-6a3b9ff01e25    8     0.56\n",
              "4  002f508f-67b6-479f-814b-b05f00d4e995   12     0.84"
            ],
            "text/html": [
              "\n",
              "  <div id=\"df-a320616a-1bb2-487f-b0bc-c74c2763e605\">\n",
              "    <div class=\"colab-df-container\">\n",
              "      <div>\n",
              "<style scoped>\n",
              "    .dataframe tbody tr th:only-of-type {\n",
              "        vertical-align: middle;\n",
              "    }\n",
              "\n",
              "    .dataframe tbody tr th {\n",
              "        vertical-align: top;\n",
              "    }\n",
              "\n",
              "    .dataframe thead th {\n",
              "        text-align: right;\n",
              "    }\n",
              "</style>\n",
              "<table border=\"1\" class=\"dataframe\">\n",
              "  <thead>\n",
              "    <tr style=\"text-align: right;\">\n",
              "      <th></th>\n",
              "      <th>user_id</th>\n",
              "      <th>qty</th>\n",
              "      <th>revenue</th>\n",
              "    </tr>\n",
              "  </thead>\n",
              "  <tbody>\n",
              "    <tr>\n",
              "      <th>0</th>\n",
              "      <td>0001f83c-c6ac-4621-b7f0-8a28b283ac30</td>\n",
              "      <td>13</td>\n",
              "      <td>0.91</td>\n",
              "    </tr>\n",
              "    <tr>\n",
              "      <th>1</th>\n",
              "      <td>00151b4f-ba38-44a8-a650-d7cf130a0105</td>\n",
              "      <td>9</td>\n",
              "      <td>0.63</td>\n",
              "    </tr>\n",
              "    <tr>\n",
              "      <th>2</th>\n",
              "      <td>001aaea6-3d14-43f1-8ca8-7f48820f17aa</td>\n",
              "      <td>4</td>\n",
              "      <td>0.28</td>\n",
              "    </tr>\n",
              "    <tr>\n",
              "      <th>3</th>\n",
              "      <td>001d39dc-366c-4021-9604-6a3b9ff01e25</td>\n",
              "      <td>8</td>\n",
              "      <td>0.56</td>\n",
              "    </tr>\n",
              "    <tr>\n",
              "      <th>4</th>\n",
              "      <td>002f508f-67b6-479f-814b-b05f00d4e995</td>\n",
              "      <td>12</td>\n",
              "      <td>0.84</td>\n",
              "    </tr>\n",
              "  </tbody>\n",
              "</table>\n",
              "</div>\n",
              "      <button class=\"colab-df-convert\" onclick=\"convertToInteractive('df-a320616a-1bb2-487f-b0bc-c74c2763e605')\"\n",
              "              title=\"Convert this dataframe to an interactive table.\"\n",
              "              style=\"display:none;\">\n",
              "        \n",
              "  <svg xmlns=\"http://www.w3.org/2000/svg\" height=\"24px\"viewBox=\"0 0 24 24\"\n",
              "       width=\"24px\">\n",
              "    <path d=\"M0 0h24v24H0V0z\" fill=\"none\"/>\n",
              "    <path d=\"M18.56 5.44l.94 2.06.94-2.06 2.06-.94-2.06-.94-.94-2.06-.94 2.06-2.06.94zm-11 1L8.5 8.5l.94-2.06 2.06-.94-2.06-.94L8.5 2.5l-.94 2.06-2.06.94zm10 10l.94 2.06.94-2.06 2.06-.94-2.06-.94-.94-2.06-.94 2.06-2.06.94z\"/><path d=\"M17.41 7.96l-1.37-1.37c-.4-.4-.92-.59-1.43-.59-.52 0-1.04.2-1.43.59L10.3 9.45l-7.72 7.72c-.78.78-.78 2.05 0 2.83L4 21.41c.39.39.9.59 1.41.59.51 0 1.02-.2 1.41-.59l7.78-7.78 2.81-2.81c.8-.78.8-2.07 0-2.86zM5.41 20L4 18.59l7.72-7.72 1.47 1.35L5.41 20z\"/>\n",
              "  </svg>\n",
              "      </button>\n",
              "      \n",
              "  <style>\n",
              "    .colab-df-container {\n",
              "      display:flex;\n",
              "      flex-wrap:wrap;\n",
              "      gap: 12px;\n",
              "    }\n",
              "\n",
              "    .colab-df-convert {\n",
              "      background-color: #E8F0FE;\n",
              "      border: none;\n",
              "      border-radius: 50%;\n",
              "      cursor: pointer;\n",
              "      display: none;\n",
              "      fill: #1967D2;\n",
              "      height: 32px;\n",
              "      padding: 0 0 0 0;\n",
              "      width: 32px;\n",
              "    }\n",
              "\n",
              "    .colab-df-convert:hover {\n",
              "      background-color: #E2EBFA;\n",
              "      box-shadow: 0px 1px 2px rgba(60, 64, 67, 0.3), 0px 1px 3px 1px rgba(60, 64, 67, 0.15);\n",
              "      fill: #174EA6;\n",
              "    }\n",
              "\n",
              "    [theme=dark] .colab-df-convert {\n",
              "      background-color: #3B4455;\n",
              "      fill: #D2E3FC;\n",
              "    }\n",
              "\n",
              "    [theme=dark] .colab-df-convert:hover {\n",
              "      background-color: #434B5C;\n",
              "      box-shadow: 0px 1px 3px 1px rgba(0, 0, 0, 0.15);\n",
              "      filter: drop-shadow(0px 1px 2px rgba(0, 0, 0, 0.3));\n",
              "      fill: #FFFFFF;\n",
              "    }\n",
              "  </style>\n",
              "\n",
              "      <script>\n",
              "        const buttonEl =\n",
              "          document.querySelector('#df-a320616a-1bb2-487f-b0bc-c74c2763e605 button.colab-df-convert');\n",
              "        buttonEl.style.display =\n",
              "          google.colab.kernel.accessAllowed ? 'block' : 'none';\n",
              "\n",
              "        async function convertToInteractive(key) {\n",
              "          const element = document.querySelector('#df-a320616a-1bb2-487f-b0bc-c74c2763e605');\n",
              "          const dataTable =\n",
              "            await google.colab.kernel.invokeFunction('convertToInteractive',\n",
              "                                                     [key], {});\n",
              "          if (!dataTable) return;\n",
              "\n",
              "          const docLinkHtml = 'Like what you see? Visit the ' +\n",
              "            '<a target=\"_blank\" href=https://colab.research.google.com/notebooks/data_table.ipynb>data table notebook</a>'\n",
              "            + ' to learn more about interactive tables.';\n",
              "          element.innerHTML = '';\n",
              "          dataTable['output_type'] = 'display_data';\n",
              "          await google.colab.output.renderOutput(dataTable, element);\n",
              "          const docLink = document.createElement('div');\n",
              "          docLink.innerHTML = docLinkHtml;\n",
              "          element.appendChild(docLink);\n",
              "        }\n",
              "      </script>\n",
              "    </div>\n",
              "  </div>\n",
              "  "
            ]
          },
          "metadata": {},
          "execution_count": 51
        }
      ],
      "source": [
        "build_by_user.head()"
      ]
    },
    {
      "cell_type": "markdown",
      "metadata": {
        "id": "nUVe-lxJVUGd"
      },
      "source": [
        "Добавлю столбы обозначающие, что реклама показывается на 2ю и 3ю постройку и посчитаю прибыль."
      ]
    },
    {
      "cell_type": "code",
      "execution_count": 52,
      "metadata": {
        "scrolled": false,
        "colab": {
          "base_uri": "https://localhost:8080/",
          "height": 258
        },
        "id": "YfT6eJ4BVUGd",
        "outputId": "a1ff25d7-a5a2-4173-91b3-40d3d8934c7d"
      },
      "outputs": [
        {
          "output_type": "display_data",
          "data": {
            "text/plain": [
              "                                user_id  qty  revenue  qty_1  rev_1  qty_2  \\\n",
              "0  0001f83c-c6ac-4621-b7f0-8a28b283ac30   13     0.91     12   0.84     11   \n",
              "1  00151b4f-ba38-44a8-a650-d7cf130a0105    9     0.63      8   0.56      7   \n",
              "2  001aaea6-3d14-43f1-8ca8-7f48820f17aa    4     0.28      3   0.21      2   \n",
              "3  001d39dc-366c-4021-9604-6a3b9ff01e25    8     0.56      7   0.49      6   \n",
              "4  002f508f-67b6-479f-814b-b05f00d4e995   12     0.84     11   0.77     10   \n",
              "\n",
              "   rev_2  \n",
              "0   0.77  \n",
              "1   0.49  \n",
              "2   0.14  \n",
              "3   0.42  \n",
              "4   0.70  "
            ],
            "text/html": [
              "\n",
              "  <div id=\"df-b8b285b1-bc89-43b9-aee5-11960870f7fa\">\n",
              "    <div class=\"colab-df-container\">\n",
              "      <div>\n",
              "<style scoped>\n",
              "    .dataframe tbody tr th:only-of-type {\n",
              "        vertical-align: middle;\n",
              "    }\n",
              "\n",
              "    .dataframe tbody tr th {\n",
              "        vertical-align: top;\n",
              "    }\n",
              "\n",
              "    .dataframe thead th {\n",
              "        text-align: right;\n",
              "    }\n",
              "</style>\n",
              "<table border=\"1\" class=\"dataframe\">\n",
              "  <thead>\n",
              "    <tr style=\"text-align: right;\">\n",
              "      <th></th>\n",
              "      <th>user_id</th>\n",
              "      <th>qty</th>\n",
              "      <th>revenue</th>\n",
              "      <th>qty_1</th>\n",
              "      <th>rev_1</th>\n",
              "      <th>qty_2</th>\n",
              "      <th>rev_2</th>\n",
              "    </tr>\n",
              "  </thead>\n",
              "  <tbody>\n",
              "    <tr>\n",
              "      <th>0</th>\n",
              "      <td>0001f83c-c6ac-4621-b7f0-8a28b283ac30</td>\n",
              "      <td>13</td>\n",
              "      <td>0.91</td>\n",
              "      <td>12</td>\n",
              "      <td>0.84</td>\n",
              "      <td>11</td>\n",
              "      <td>0.77</td>\n",
              "    </tr>\n",
              "    <tr>\n",
              "      <th>1</th>\n",
              "      <td>00151b4f-ba38-44a8-a650-d7cf130a0105</td>\n",
              "      <td>9</td>\n",
              "      <td>0.63</td>\n",
              "      <td>8</td>\n",
              "      <td>0.56</td>\n",
              "      <td>7</td>\n",
              "      <td>0.49</td>\n",
              "    </tr>\n",
              "    <tr>\n",
              "      <th>2</th>\n",
              "      <td>001aaea6-3d14-43f1-8ca8-7f48820f17aa</td>\n",
              "      <td>4</td>\n",
              "      <td>0.28</td>\n",
              "      <td>3</td>\n",
              "      <td>0.21</td>\n",
              "      <td>2</td>\n",
              "      <td>0.14</td>\n",
              "    </tr>\n",
              "    <tr>\n",
              "      <th>3</th>\n",
              "      <td>001d39dc-366c-4021-9604-6a3b9ff01e25</td>\n",
              "      <td>8</td>\n",
              "      <td>0.56</td>\n",
              "      <td>7</td>\n",
              "      <td>0.49</td>\n",
              "      <td>6</td>\n",
              "      <td>0.42</td>\n",
              "    </tr>\n",
              "    <tr>\n",
              "      <th>4</th>\n",
              "      <td>002f508f-67b6-479f-814b-b05f00d4e995</td>\n",
              "      <td>12</td>\n",
              "      <td>0.84</td>\n",
              "      <td>11</td>\n",
              "      <td>0.77</td>\n",
              "      <td>10</td>\n",
              "      <td>0.70</td>\n",
              "    </tr>\n",
              "  </tbody>\n",
              "</table>\n",
              "</div>\n",
              "      <button class=\"colab-df-convert\" onclick=\"convertToInteractive('df-b8b285b1-bc89-43b9-aee5-11960870f7fa')\"\n",
              "              title=\"Convert this dataframe to an interactive table.\"\n",
              "              style=\"display:none;\">\n",
              "        \n",
              "  <svg xmlns=\"http://www.w3.org/2000/svg\" height=\"24px\"viewBox=\"0 0 24 24\"\n",
              "       width=\"24px\">\n",
              "    <path d=\"M0 0h24v24H0V0z\" fill=\"none\"/>\n",
              "    <path d=\"M18.56 5.44l.94 2.06.94-2.06 2.06-.94-2.06-.94-.94-2.06-.94 2.06-2.06.94zm-11 1L8.5 8.5l.94-2.06 2.06-.94-2.06-.94L8.5 2.5l-.94 2.06-2.06.94zm10 10l.94 2.06.94-2.06 2.06-.94-2.06-.94-.94-2.06-.94 2.06-2.06.94z\"/><path d=\"M17.41 7.96l-1.37-1.37c-.4-.4-.92-.59-1.43-.59-.52 0-1.04.2-1.43.59L10.3 9.45l-7.72 7.72c-.78.78-.78 2.05 0 2.83L4 21.41c.39.39.9.59 1.41.59.51 0 1.02-.2 1.41-.59l7.78-7.78 2.81-2.81c.8-.78.8-2.07 0-2.86zM5.41 20L4 18.59l7.72-7.72 1.47 1.35L5.41 20z\"/>\n",
              "  </svg>\n",
              "      </button>\n",
              "      \n",
              "  <style>\n",
              "    .colab-df-container {\n",
              "      display:flex;\n",
              "      flex-wrap:wrap;\n",
              "      gap: 12px;\n",
              "    }\n",
              "\n",
              "    .colab-df-convert {\n",
              "      background-color: #E8F0FE;\n",
              "      border: none;\n",
              "      border-radius: 50%;\n",
              "      cursor: pointer;\n",
              "      display: none;\n",
              "      fill: #1967D2;\n",
              "      height: 32px;\n",
              "      padding: 0 0 0 0;\n",
              "      width: 32px;\n",
              "    }\n",
              "\n",
              "    .colab-df-convert:hover {\n",
              "      background-color: #E2EBFA;\n",
              "      box-shadow: 0px 1px 2px rgba(60, 64, 67, 0.3), 0px 1px 3px 1px rgba(60, 64, 67, 0.15);\n",
              "      fill: #174EA6;\n",
              "    }\n",
              "\n",
              "    [theme=dark] .colab-df-convert {\n",
              "      background-color: #3B4455;\n",
              "      fill: #D2E3FC;\n",
              "    }\n",
              "\n",
              "    [theme=dark] .colab-df-convert:hover {\n",
              "      background-color: #434B5C;\n",
              "      box-shadow: 0px 1px 3px 1px rgba(0, 0, 0, 0.15);\n",
              "      filter: drop-shadow(0px 1px 2px rgba(0, 0, 0, 0.3));\n",
              "      fill: #FFFFFF;\n",
              "    }\n",
              "  </style>\n",
              "\n",
              "      <script>\n",
              "        const buttonEl =\n",
              "          document.querySelector('#df-b8b285b1-bc89-43b9-aee5-11960870f7fa button.colab-df-convert');\n",
              "        buttonEl.style.display =\n",
              "          google.colab.kernel.accessAllowed ? 'block' : 'none';\n",
              "\n",
              "        async function convertToInteractive(key) {\n",
              "          const element = document.querySelector('#df-b8b285b1-bc89-43b9-aee5-11960870f7fa');\n",
              "          const dataTable =\n",
              "            await google.colab.kernel.invokeFunction('convertToInteractive',\n",
              "                                                     [key], {});\n",
              "          if (!dataTable) return;\n",
              "\n",
              "          const docLinkHtml = 'Like what you see? Visit the ' +\n",
              "            '<a target=\"_blank\" href=https://colab.research.google.com/notebooks/data_table.ipynb>data table notebook</a>'\n",
              "            + ' to learn more about interactive tables.';\n",
              "          element.innerHTML = '';\n",
              "          dataTable['output_type'] = 'display_data';\n",
              "          await google.colab.output.renderOutput(dataTable, element);\n",
              "          const docLink = document.createElement('div');\n",
              "          docLink.innerHTML = docLinkHtml;\n",
              "          element.appendChild(docLink);\n",
              "        }\n",
              "      </script>\n",
              "    </div>\n",
              "  </div>\n",
              "  "
            ]
          },
          "metadata": {}
        },
        {
          "output_type": "display_data",
          "data": {
            "text/plain": [
              "rev_1    8006.60\n",
              "rev_2    7056.28\n",
              "dtype: float64"
            ]
          },
          "metadata": {}
        }
      ],
      "source": [
        "build_by_user['qty_1'] = build_by_user['qty']-1\n",
        "build_by_user['rev_1'] = build_by_user['qty_1']*0.07\n",
        "build_by_user['qty_2'] = build_by_user['qty']-2\n",
        "build_by_user['rev_2'] = build_by_user['qty_2']*0.07\n",
        "display(build_by_user.head())\n",
        "display(build_by_user[['rev_1','rev_2']].sum())"
      ]
    },
    {
      "cell_type": "code",
      "execution_count": 53,
      "metadata": {
        "colab": {
          "base_uri": "https://localhost:8080/",
          "height": 542
        },
        "id": "h5PMw18YVUGd",
        "outputId": "901ca1db-b9e9-45ca-b407-3f5d2ecb509d"
      },
      "outputs": [
        {
          "output_type": "display_data",
          "data": {
            "text/html": [
              "<html>\n",
              "<head><meta charset=\"utf-8\" /></head>\n",
              "<body>\n",
              "    <div>            <script src=\"https://cdnjs.cloudflare.com/ajax/libs/mathjax/2.7.5/MathJax.js?config=TeX-AMS-MML_SVG\"></script><script type=\"text/javascript\">if (window.MathJax && window.MathJax.Hub && window.MathJax.Hub.Config) {window.MathJax.Hub.Config({SVG: {font: \"STIX-Web\"}});}</script>                <script type=\"text/javascript\">window.PlotlyConfig = {MathJaxConfig: 'local'};</script>\n",
              "        <script src=\"https://cdn.plot.ly/plotly-2.18.2.min.js\"></script>                <div id=\"ce764b41-0480-4a4f-826a-c5ca03ec64be\" class=\"plotly-graph-div\" style=\"height:525px; width:100%;\"></div>            <script type=\"text/javascript\">                                    window.PLOTLYENV=window.PLOTLYENV || {};                                    if (document.getElementById(\"ce764b41-0480-4a4f-826a-c5ca03ec64be\")) {                    Plotly.newPlot(                        \"ce764b41-0480-4a4f-826a-c5ca03ec64be\",                        [{\"line\":{\"color\":\"gold\",\"dash\":\"dash\",\"width\":4},\"name\":\"rev+\",\"x\":[\"old\",\"new_1\",\"new_2\"],\"y\":[7603.58,7603.58,7603.58],\"type\":\"scatter\"},{\"name\":\"costs\",\"text\":[\"-7603.58\",\"-7603.58\",\"-7603.58\"],\"x\":[\"old\",\"new_1\",\"new_2\"],\"y\":[-7603.58,-7603.58,-7603.58],\"type\":\"bar\"},{\"name\":\"revenue\",\"text\":[\"8956.92\",\"8006.6\",\"7056.28\"],\"textposition\":[\"auto\",\"outside\",\"inside\"],\"x\":[\"old\",\"new_1\",\"new_2\"],\"y\":[8956.92,8006.6,7056.28],\"type\":\"bar\"}],                        {\"template\":{\"data\":{\"histogram2dcontour\":[{\"type\":\"histogram2dcontour\",\"colorbar\":{\"outlinewidth\":0,\"ticks\":\"\"},\"colorscale\":[[0.0,\"#0d0887\"],[0.1111111111111111,\"#46039f\"],[0.2222222222222222,\"#7201a8\"],[0.3333333333333333,\"#9c179e\"],[0.4444444444444444,\"#bd3786\"],[0.5555555555555556,\"#d8576b\"],[0.6666666666666666,\"#ed7953\"],[0.7777777777777778,\"#fb9f3a\"],[0.8888888888888888,\"#fdca26\"],[1.0,\"#f0f921\"]]}],\"choropleth\":[{\"type\":\"choropleth\",\"colorbar\":{\"outlinewidth\":0,\"ticks\":\"\"}}],\"histogram2d\":[{\"type\":\"histogram2d\",\"colorbar\":{\"outlinewidth\":0,\"ticks\":\"\"},\"colorscale\":[[0.0,\"#0d0887\"],[0.1111111111111111,\"#46039f\"],[0.2222222222222222,\"#7201a8\"],[0.3333333333333333,\"#9c179e\"],[0.4444444444444444,\"#bd3786\"],[0.5555555555555556,\"#d8576b\"],[0.6666666666666666,\"#ed7953\"],[0.7777777777777778,\"#fb9f3a\"],[0.8888888888888888,\"#fdca26\"],[1.0,\"#f0f921\"]]}],\"heatmap\":[{\"type\":\"heatmap\",\"colorbar\":{\"outlinewidth\":0,\"ticks\":\"\"},\"colorscale\":[[0.0,\"#0d0887\"],[0.1111111111111111,\"#46039f\"],[0.2222222222222222,\"#7201a8\"],[0.3333333333333333,\"#9c179e\"],[0.4444444444444444,\"#bd3786\"],[0.5555555555555556,\"#d8576b\"],[0.6666666666666666,\"#ed7953\"],[0.7777777777777778,\"#fb9f3a\"],[0.8888888888888888,\"#fdca26\"],[1.0,\"#f0f921\"]]}],\"heatmapgl\":[{\"type\":\"heatmapgl\",\"colorbar\":{\"outlinewidth\":0,\"ticks\":\"\"},\"colorscale\":[[0.0,\"#0d0887\"],[0.1111111111111111,\"#46039f\"],[0.2222222222222222,\"#7201a8\"],[0.3333333333333333,\"#9c179e\"],[0.4444444444444444,\"#bd3786\"],[0.5555555555555556,\"#d8576b\"],[0.6666666666666666,\"#ed7953\"],[0.7777777777777778,\"#fb9f3a\"],[0.8888888888888888,\"#fdca26\"],[1.0,\"#f0f921\"]]}],\"contourcarpet\":[{\"type\":\"contourcarpet\",\"colorbar\":{\"outlinewidth\":0,\"ticks\":\"\"}}],\"contour\":[{\"type\":\"contour\",\"colorbar\":{\"outlinewidth\":0,\"ticks\":\"\"},\"colorscale\":[[0.0,\"#0d0887\"],[0.1111111111111111,\"#46039f\"],[0.2222222222222222,\"#7201a8\"],[0.3333333333333333,\"#9c179e\"],[0.4444444444444444,\"#bd3786\"],[0.5555555555555556,\"#d8576b\"],[0.6666666666666666,\"#ed7953\"],[0.7777777777777778,\"#fb9f3a\"],[0.8888888888888888,\"#fdca26\"],[1.0,\"#f0f921\"]]}],\"surface\":[{\"type\":\"surface\",\"colorbar\":{\"outlinewidth\":0,\"ticks\":\"\"},\"colorscale\":[[0.0,\"#0d0887\"],[0.1111111111111111,\"#46039f\"],[0.2222222222222222,\"#7201a8\"],[0.3333333333333333,\"#9c179e\"],[0.4444444444444444,\"#bd3786\"],[0.5555555555555556,\"#d8576b\"],[0.6666666666666666,\"#ed7953\"],[0.7777777777777778,\"#fb9f3a\"],[0.8888888888888888,\"#fdca26\"],[1.0,\"#f0f921\"]]}],\"mesh3d\":[{\"type\":\"mesh3d\",\"colorbar\":{\"outlinewidth\":0,\"ticks\":\"\"}}],\"scatter\":[{\"fillpattern\":{\"fillmode\":\"overlay\",\"size\":10,\"solidity\":0.2},\"type\":\"scatter\"}],\"parcoords\":[{\"type\":\"parcoords\",\"line\":{\"colorbar\":{\"outlinewidth\":0,\"ticks\":\"\"}}}],\"scatterpolargl\":[{\"type\":\"scatterpolargl\",\"marker\":{\"colorbar\":{\"outlinewidth\":0,\"ticks\":\"\"}}}],\"bar\":[{\"error_x\":{\"color\":\"#2a3f5f\"},\"error_y\":{\"color\":\"#2a3f5f\"},\"marker\":{\"line\":{\"color\":\"#E5ECF6\",\"width\":0.5},\"pattern\":{\"fillmode\":\"overlay\",\"size\":10,\"solidity\":0.2}},\"type\":\"bar\"}],\"scattergeo\":[{\"type\":\"scattergeo\",\"marker\":{\"colorbar\":{\"outlinewidth\":0,\"ticks\":\"\"}}}],\"scatterpolar\":[{\"type\":\"scatterpolar\",\"marker\":{\"colorbar\":{\"outlinewidth\":0,\"ticks\":\"\"}}}],\"histogram\":[{\"marker\":{\"pattern\":{\"fillmode\":\"overlay\",\"size\":10,\"solidity\":0.2}},\"type\":\"histogram\"}],\"scattergl\":[{\"type\":\"scattergl\",\"marker\":{\"colorbar\":{\"outlinewidth\":0,\"ticks\":\"\"}}}],\"scatter3d\":[{\"type\":\"scatter3d\",\"line\":{\"colorbar\":{\"outlinewidth\":0,\"ticks\":\"\"}},\"marker\":{\"colorbar\":{\"outlinewidth\":0,\"ticks\":\"\"}}}],\"scattermapbox\":[{\"type\":\"scattermapbox\",\"marker\":{\"colorbar\":{\"outlinewidth\":0,\"ticks\":\"\"}}}],\"scatterternary\":[{\"type\":\"scatterternary\",\"marker\":{\"colorbar\":{\"outlinewidth\":0,\"ticks\":\"\"}}}],\"scattercarpet\":[{\"type\":\"scattercarpet\",\"marker\":{\"colorbar\":{\"outlinewidth\":0,\"ticks\":\"\"}}}],\"carpet\":[{\"aaxis\":{\"endlinecolor\":\"#2a3f5f\",\"gridcolor\":\"white\",\"linecolor\":\"white\",\"minorgridcolor\":\"white\",\"startlinecolor\":\"#2a3f5f\"},\"baxis\":{\"endlinecolor\":\"#2a3f5f\",\"gridcolor\":\"white\",\"linecolor\":\"white\",\"minorgridcolor\":\"white\",\"startlinecolor\":\"#2a3f5f\"},\"type\":\"carpet\"}],\"table\":[{\"cells\":{\"fill\":{\"color\":\"#EBF0F8\"},\"line\":{\"color\":\"white\"}},\"header\":{\"fill\":{\"color\":\"#C8D4E3\"},\"line\":{\"color\":\"white\"}},\"type\":\"table\"}],\"barpolar\":[{\"marker\":{\"line\":{\"color\":\"#E5ECF6\",\"width\":0.5},\"pattern\":{\"fillmode\":\"overlay\",\"size\":10,\"solidity\":0.2}},\"type\":\"barpolar\"}],\"pie\":[{\"automargin\":true,\"type\":\"pie\"}]},\"layout\":{\"autotypenumbers\":\"strict\",\"colorway\":[\"#636efa\",\"#EF553B\",\"#00cc96\",\"#ab63fa\",\"#FFA15A\",\"#19d3f3\",\"#FF6692\",\"#B6E880\",\"#FF97FF\",\"#FECB52\"],\"font\":{\"color\":\"#2a3f5f\"},\"hovermode\":\"closest\",\"hoverlabel\":{\"align\":\"left\"},\"paper_bgcolor\":\"white\",\"plot_bgcolor\":\"#E5ECF6\",\"polar\":{\"bgcolor\":\"#E5ECF6\",\"angularaxis\":{\"gridcolor\":\"white\",\"linecolor\":\"white\",\"ticks\":\"\"},\"radialaxis\":{\"gridcolor\":\"white\",\"linecolor\":\"white\",\"ticks\":\"\"}},\"ternary\":{\"bgcolor\":\"#E5ECF6\",\"aaxis\":{\"gridcolor\":\"white\",\"linecolor\":\"white\",\"ticks\":\"\"},\"baxis\":{\"gridcolor\":\"white\",\"linecolor\":\"white\",\"ticks\":\"\"},\"caxis\":{\"gridcolor\":\"white\",\"linecolor\":\"white\",\"ticks\":\"\"}},\"coloraxis\":{\"colorbar\":{\"outlinewidth\":0,\"ticks\":\"\"}},\"colorscale\":{\"sequential\":[[0.0,\"#0d0887\"],[0.1111111111111111,\"#46039f\"],[0.2222222222222222,\"#7201a8\"],[0.3333333333333333,\"#9c179e\"],[0.4444444444444444,\"#bd3786\"],[0.5555555555555556,\"#d8576b\"],[0.6666666666666666,\"#ed7953\"],[0.7777777777777778,\"#fb9f3a\"],[0.8888888888888888,\"#fdca26\"],[1.0,\"#f0f921\"]],\"sequentialminus\":[[0.0,\"#0d0887\"],[0.1111111111111111,\"#46039f\"],[0.2222222222222222,\"#7201a8\"],[0.3333333333333333,\"#9c179e\"],[0.4444444444444444,\"#bd3786\"],[0.5555555555555556,\"#d8576b\"],[0.6666666666666666,\"#ed7953\"],[0.7777777777777778,\"#fb9f3a\"],[0.8888888888888888,\"#fdca26\"],[1.0,\"#f0f921\"]],\"diverging\":[[0,\"#8e0152\"],[0.1,\"#c51b7d\"],[0.2,\"#de77ae\"],[0.3,\"#f1b6da\"],[0.4,\"#fde0ef\"],[0.5,\"#f7f7f7\"],[0.6,\"#e6f5d0\"],[0.7,\"#b8e186\"],[0.8,\"#7fbc41\"],[0.9,\"#4d9221\"],[1,\"#276419\"]]},\"xaxis\":{\"gridcolor\":\"white\",\"linecolor\":\"white\",\"ticks\":\"\",\"title\":{\"standoff\":15},\"zerolinecolor\":\"white\",\"automargin\":true,\"zerolinewidth\":2},\"yaxis\":{\"gridcolor\":\"white\",\"linecolor\":\"white\",\"ticks\":\"\",\"title\":{\"standoff\":15},\"zerolinecolor\":\"white\",\"automargin\":true,\"zerolinewidth\":2},\"scene\":{\"xaxis\":{\"backgroundcolor\":\"#E5ECF6\",\"gridcolor\":\"white\",\"linecolor\":\"white\",\"showbackground\":true,\"ticks\":\"\",\"zerolinecolor\":\"white\",\"gridwidth\":2},\"yaxis\":{\"backgroundcolor\":\"#E5ECF6\",\"gridcolor\":\"white\",\"linecolor\":\"white\",\"showbackground\":true,\"ticks\":\"\",\"zerolinecolor\":\"white\",\"gridwidth\":2},\"zaxis\":{\"backgroundcolor\":\"#E5ECF6\",\"gridcolor\":\"white\",\"linecolor\":\"white\",\"showbackground\":true,\"ticks\":\"\",\"zerolinecolor\":\"white\",\"gridwidth\":2}},\"shapedefaults\":{\"line\":{\"color\":\"#2a3f5f\"}},\"annotationdefaults\":{\"arrowcolor\":\"#2a3f5f\",\"arrowhead\":0,\"arrowwidth\":1},\"geo\":{\"bgcolor\":\"white\",\"landcolor\":\"#E5ECF6\",\"subunitcolor\":\"white\",\"showland\":true,\"showlakes\":true,\"lakecolor\":\"white\"},\"title\":{\"x\":0.05},\"mapbox\":{\"style\":\"light\"}}},\"title\":{\"text\":\"Old/New model\"},\"barmode\":\"relative\"},                        {\"responsive\": true}                    ).then(function(){\n",
              "                            \n",
              "var gd = document.getElementById('ce764b41-0480-4a4f-826a-c5ca03ec64be');\n",
              "var x = new MutationObserver(function (mutations, observer) {{\n",
              "        var display = window.getComputedStyle(gd).display;\n",
              "        if (!display || display === 'none') {{\n",
              "            console.log([gd, 'removed!']);\n",
              "            Plotly.purge(gd);\n",
              "            observer.disconnect();\n",
              "        }}\n",
              "}});\n",
              "\n",
              "// Listen for the removal of the full notebook cells\n",
              "var notebookContainer = gd.closest('#notebook-container');\n",
              "if (notebookContainer) {{\n",
              "    x.observe(notebookContainer, {childList: true});\n",
              "}}\n",
              "\n",
              "// Listen for the clearing of the current output cell\n",
              "var outputEl = gd.closest('.output');\n",
              "if (outputEl) {{\n",
              "    x.observe(outputEl, {childList: true});\n",
              "}}\n",
              "\n",
              "                        })                };                            </script>        </div>\n",
              "</body>\n",
              "</html>"
            ]
          },
          "metadata": {}
        }
      ],
      "source": [
        "t_c = -(total_costs.round(2))\n",
        "y_1 = [t_c, t_c, t_c]\n",
        "y_2 = [build_by_user['revenue'].sum(),build_by_user['rev_1'].sum(),build_by_user['rev_2'].sum().round(2)]\n",
        "x = ['old','new_1','new_2']\n",
        "\n",
        "fig = go.Figure()\n",
        "fig.add_trace(go.Scatter(x=x, y=[-t_c, -t_c, -t_c], name='rev+',\n",
        "                         line = dict(color='gold', width=4, dash='dash')))\n",
        "fig.add_trace(go.Bar(x=x, y=y_1, name = 'costs', text = y_1))\n",
        "fig.add_trace(go.Bar(x=x, y=y_2, name = 'revenue', text = y_2,textposition=['auto','outside','inside']))\n",
        "fig.update_layout(barmode='relative', title_text='Old/New model')\n",
        "\n",
        "fig.show()"
      ]
    },
    {
      "cell_type": "markdown",
      "metadata": {
        "id": "RbYQ7yUMVUGd"
      },
      "source": [
        "Итоговая выручка."
      ]
    },
    {
      "cell_type": "code",
      "execution_count": 54,
      "metadata": {
        "colab": {
          "base_uri": "https://localhost:8080/"
        },
        "id": "UUdaMf7gVUGe",
        "outputId": "cf97f631-c6e9-4024-ebfd-f8ed44117fd4"
      },
      "outputs": [
        {
          "output_type": "stream",
          "name": "stdout",
          "text": [
            "Выручка при показе рекламы со 2го здания: 403.02 у.е.\n",
            "Выручка при показе рекламы со 3го здания: -547.3 у.е.\n"
          ]
        }
      ],
      "source": [
        "print('Выручка при показе рекламы со 2го здания:',(build_by_user['rev_1'].sum()-total_costs).round(2), 'у.е.')\n",
        "print('Выручка при показе рекламы со 3го здания:',(build_by_user['rev_2'].sum()-total_costs).round(2), 'у.е.')"
      ]
    },
    {
      "cell_type": "markdown",
      "metadata": {
        "id": "bNQm_OTEVUGe"
      },
      "source": [
        "**Вывод:** если показывать рекламу при постройке 2го здания - реклама все еще окупается и остается в небольшом плюсе, если показывать с 3й пострйокb, то выручка уходит в минус.\n",
        "\n",
        "Следовательно можно предложить такую модель - показывать рекламу пользователю начиная с постройки 2го здания, тем самым пользователи будут смотреть меньше рекламы, а реклама будет все равно оккупаться."
      ]
    },
    {
      "cell_type": "code",
      "execution_count": 54,
      "metadata": {
        "id": "Rl87pK7ZVUGe"
      },
      "outputs": [],
      "source": []
    },
    {
      "cell_type": "markdown",
      "metadata": {
        "id": "sdDfkFoIVUGe"
      },
      "source": [
        "## Проверьте статистические гипотезы\n",
        "- Проверить гипотезу различия времени прохождения уровня между пользователями, которые заканчивают уровень через реализацию проекта, и пользователями, которые заканчивают уровень победой над другим игроком.\n",
        "- Сформулировать и проверить статистическую гипотезу относительно представленных данных."
      ]
    },
    {
      "cell_type": "markdown",
      "metadata": {
        "id": "L_jROuUqVUGe"
      },
      "source": [
        "Гипотеза: Предположим, что пользователи проходят уровень одинаково быстро, независимо от стратегии.\n",
        "\n",
        "H0 - Статистической значимости в различии времени прохождения уровня между стратегиями нет.\n",
        "\n",
        "H1 - Статистическая значимость в различии времени прохождения уровня между стратегиями есть."
      ]
    },
    {
      "cell_type": "code",
      "execution_count": 55,
      "metadata": {
        "colab": {
          "base_uri": "https://localhost:8080/",
          "height": 206
        },
        "id": "4ziUfP4PVUGf",
        "outputId": "36919197-bd60-4b41-e4a1-773773869ee2"
      },
      "outputs": [
        {
          "output_type": "execute_result",
          "data": {
            "text/plain": [
              "                                user_id strat           lvl_dt  lvl_dt_sec\n",
              "0  001d39dc-366c-4021-9604-6a3b9ff01e25   war  6 days 10:38:42    556722.0\n",
              "1  003ee7e8-6356-4286-a715-62f22a18d2a1   war 12 days 13:16:45   1084605.0\n",
              "2  004074f8-251a-4776-922c-8348dca1a2f6   war 12 days 18:50:05   1104605.0\n",
              "3  00464e5e-28ed-4be6-bf44-517ef7b3937b   war 11 days 07:26:32    977192.0\n",
              "4  0056c007-c082-43cc-bdef-afc49bca4cb9   war  6 days 01:58:52    525532.0"
            ],
            "text/html": [
              "\n",
              "  <div id=\"df-28b2ecd8-37c9-4673-b4e5-37f62832c912\">\n",
              "    <div class=\"colab-df-container\">\n",
              "      <div>\n",
              "<style scoped>\n",
              "    .dataframe tbody tr th:only-of-type {\n",
              "        vertical-align: middle;\n",
              "    }\n",
              "\n",
              "    .dataframe tbody tr th {\n",
              "        vertical-align: top;\n",
              "    }\n",
              "\n",
              "    .dataframe thead th {\n",
              "        text-align: right;\n",
              "    }\n",
              "</style>\n",
              "<table border=\"1\" class=\"dataframe\">\n",
              "  <thead>\n",
              "    <tr style=\"text-align: right;\">\n",
              "      <th></th>\n",
              "      <th>user_id</th>\n",
              "      <th>strat</th>\n",
              "      <th>lvl_dt</th>\n",
              "      <th>lvl_dt_sec</th>\n",
              "    </tr>\n",
              "  </thead>\n",
              "  <tbody>\n",
              "    <tr>\n",
              "      <th>0</th>\n",
              "      <td>001d39dc-366c-4021-9604-6a3b9ff01e25</td>\n",
              "      <td>war</td>\n",
              "      <td>6 days 10:38:42</td>\n",
              "      <td>556722.0</td>\n",
              "    </tr>\n",
              "    <tr>\n",
              "      <th>1</th>\n",
              "      <td>003ee7e8-6356-4286-a715-62f22a18d2a1</td>\n",
              "      <td>war</td>\n",
              "      <td>12 days 13:16:45</td>\n",
              "      <td>1084605.0</td>\n",
              "    </tr>\n",
              "    <tr>\n",
              "      <th>2</th>\n",
              "      <td>004074f8-251a-4776-922c-8348dca1a2f6</td>\n",
              "      <td>war</td>\n",
              "      <td>12 days 18:50:05</td>\n",
              "      <td>1104605.0</td>\n",
              "    </tr>\n",
              "    <tr>\n",
              "      <th>3</th>\n",
              "      <td>00464e5e-28ed-4be6-bf44-517ef7b3937b</td>\n",
              "      <td>war</td>\n",
              "      <td>11 days 07:26:32</td>\n",
              "      <td>977192.0</td>\n",
              "    </tr>\n",
              "    <tr>\n",
              "      <th>4</th>\n",
              "      <td>0056c007-c082-43cc-bdef-afc49bca4cb9</td>\n",
              "      <td>war</td>\n",
              "      <td>6 days 01:58:52</td>\n",
              "      <td>525532.0</td>\n",
              "    </tr>\n",
              "  </tbody>\n",
              "</table>\n",
              "</div>\n",
              "      <button class=\"colab-df-convert\" onclick=\"convertToInteractive('df-28b2ecd8-37c9-4673-b4e5-37f62832c912')\"\n",
              "              title=\"Convert this dataframe to an interactive table.\"\n",
              "              style=\"display:none;\">\n",
              "        \n",
              "  <svg xmlns=\"http://www.w3.org/2000/svg\" height=\"24px\"viewBox=\"0 0 24 24\"\n",
              "       width=\"24px\">\n",
              "    <path d=\"M0 0h24v24H0V0z\" fill=\"none\"/>\n",
              "    <path d=\"M18.56 5.44l.94 2.06.94-2.06 2.06-.94-2.06-.94-.94-2.06-.94 2.06-2.06.94zm-11 1L8.5 8.5l.94-2.06 2.06-.94-2.06-.94L8.5 2.5l-.94 2.06-2.06.94zm10 10l.94 2.06.94-2.06 2.06-.94-2.06-.94-.94-2.06-.94 2.06-2.06.94z\"/><path d=\"M17.41 7.96l-1.37-1.37c-.4-.4-.92-.59-1.43-.59-.52 0-1.04.2-1.43.59L10.3 9.45l-7.72 7.72c-.78.78-.78 2.05 0 2.83L4 21.41c.39.39.9.59 1.41.59.51 0 1.02-.2 1.41-.59l7.78-7.78 2.81-2.81c.8-.78.8-2.07 0-2.86zM5.41 20L4 18.59l7.72-7.72 1.47 1.35L5.41 20z\"/>\n",
              "  </svg>\n",
              "      </button>\n",
              "      \n",
              "  <style>\n",
              "    .colab-df-container {\n",
              "      display:flex;\n",
              "      flex-wrap:wrap;\n",
              "      gap: 12px;\n",
              "    }\n",
              "\n",
              "    .colab-df-convert {\n",
              "      background-color: #E8F0FE;\n",
              "      border: none;\n",
              "      border-radius: 50%;\n",
              "      cursor: pointer;\n",
              "      display: none;\n",
              "      fill: #1967D2;\n",
              "      height: 32px;\n",
              "      padding: 0 0 0 0;\n",
              "      width: 32px;\n",
              "    }\n",
              "\n",
              "    .colab-df-convert:hover {\n",
              "      background-color: #E2EBFA;\n",
              "      box-shadow: 0px 1px 2px rgba(60, 64, 67, 0.3), 0px 1px 3px 1px rgba(60, 64, 67, 0.15);\n",
              "      fill: #174EA6;\n",
              "    }\n",
              "\n",
              "    [theme=dark] .colab-df-convert {\n",
              "      background-color: #3B4455;\n",
              "      fill: #D2E3FC;\n",
              "    }\n",
              "\n",
              "    [theme=dark] .colab-df-convert:hover {\n",
              "      background-color: #434B5C;\n",
              "      box-shadow: 0px 1px 3px 1px rgba(0, 0, 0, 0.15);\n",
              "      filter: drop-shadow(0px 1px 2px rgba(0, 0, 0, 0.3));\n",
              "      fill: #FFFFFF;\n",
              "    }\n",
              "  </style>\n",
              "\n",
              "      <script>\n",
              "        const buttonEl =\n",
              "          document.querySelector('#df-28b2ecd8-37c9-4673-b4e5-37f62832c912 button.colab-df-convert');\n",
              "        buttonEl.style.display =\n",
              "          google.colab.kernel.accessAllowed ? 'block' : 'none';\n",
              "\n",
              "        async function convertToInteractive(key) {\n",
              "          const element = document.querySelector('#df-28b2ecd8-37c9-4673-b4e5-37f62832c912');\n",
              "          const dataTable =\n",
              "            await google.colab.kernel.invokeFunction('convertToInteractive',\n",
              "                                                     [key], {});\n",
              "          if (!dataTable) return;\n",
              "\n",
              "          const docLinkHtml = 'Like what you see? Visit the ' +\n",
              "            '<a target=\"_blank\" href=https://colab.research.google.com/notebooks/data_table.ipynb>data table notebook</a>'\n",
              "            + ' to learn more about interactive tables.';\n",
              "          element.innerHTML = '';\n",
              "          dataTable['output_type'] = 'display_data';\n",
              "          await google.colab.output.renderOutput(dataTable, element);\n",
              "          const docLink = document.createElement('div');\n",
              "          docLink.innerHTML = docLinkHtml;\n",
              "          element.appendChild(docLink);\n",
              "        }\n",
              "      </script>\n",
              "    </div>\n",
              "  </div>\n",
              "  "
            ]
          },
          "metadata": {},
          "execution_count": 55
        }
      ],
      "source": [
        "win_short.head()"
      ]
    },
    {
      "cell_type": "code",
      "execution_count": 56,
      "metadata": {
        "id": "IxxOqlP0VUGf"
      },
      "outputs": [],
      "source": [
        "df = win_short\n",
        "samp1 = df[df['strat']=='war']['lvl_dt_sec']\n",
        "samp2 = df[df['strat']=='peace']['lvl_dt_sec']"
      ]
    },
    {
      "cell_type": "markdown",
      "metadata": {
        "id": "miXXciakVUGf"
      },
      "source": [
        "Проверим на нормальность данные:"
      ]
    },
    {
      "cell_type": "code",
      "execution_count": 57,
      "metadata": {
        "colab": {
          "base_uri": "https://localhost:8080/"
        },
        "id": "vSxByvUeVUGg",
        "outputId": "bf2bd980-2b14-4e49-fc72-adbd29920558"
      },
      "outputs": [
        {
          "output_type": "stream",
          "name": "stdout",
          "text": [
            "p-значение:  1.7430939153124487e-21\n",
            "Распределение не нормально\n"
          ]
        }
      ],
      "source": [
        "alpha = 0.05\n",
        "results = st.shapiro(samp1)\n",
        "p_value = results[1]\n",
        "print('p-значение: ', p_value)\n",
        "if p_value < alpha:\n",
        "    print('Распределение не нормально')\n",
        "else:\n",
        "    print('Распределение нормально') "
      ]
    },
    {
      "cell_type": "code",
      "execution_count": 58,
      "metadata": {
        "colab": {
          "base_uri": "https://localhost:8080/"
        },
        "id": "gPbXeWX2VUGg",
        "outputId": "dee2e4ad-7182-4558-89c0-92d6b09e52d6"
      },
      "outputs": [
        {
          "output_type": "stream",
          "name": "stdout",
          "text": [
            "p-значение:  3.415951876345406e-20\n",
            "Распределение не нормально\n"
          ]
        }
      ],
      "source": [
        "alpha = 0.05\n",
        "results = st.shapiro(samp2)\n",
        "p_value = results[1]\n",
        "print('p-значение: ', p_value)\n",
        "if p_value < alpha:\n",
        "    print('Распределение не нормально')\n",
        "else:\n",
        "    print('Распределение нормально') "
      ]
    },
    {
      "cell_type": "markdown",
      "metadata": {
        "id": "8mlObWX1VUGg"
      },
      "source": [
        "Данные не нормальные, значит используем тест Манна-Уитни"
      ]
    },
    {
      "cell_type": "code",
      "execution_count": 59,
      "metadata": {
        "colab": {
          "base_uri": "https://localhost:8080/"
        },
        "id": "MLv0D7CjVUGg",
        "outputId": "26d369df-71a0-4c3e-a3bf-318ee23b9158"
      },
      "outputs": [
        {
          "output_type": "stream",
          "name": "stdout",
          "text": [
            "p-значение:  1.1228044721644527e-106\n",
            "Отвергаем нулевую гипотезу: разница статистически значима\n"
          ]
        }
      ],
      "source": [
        "alpha = 0.05\n",
        "results = st.mannwhitneyu(samp1, samp2)\n",
        "print('p-значение: ', results.pvalue)\n",
        "if results.pvalue < alpha:\n",
        "    print('Отвергаем нулевую гипотезу: разница статистически значима')\n",
        "else:\n",
        "    print('Не получилось отвергнуть нулевую гипотезу, вывод о различии сделать нельзя') "
      ]
    },
    {
      "cell_type": "markdown",
      "metadata": {
        "id": "muIdiJNfVUGg"
      },
      "source": [
        "Видим, что различия есть, причем очень весомые, значит время прохождения уровня с большой вероятностью зависит от выбранной стратегии."
      ]
    },
    {
      "cell_type": "markdown",
      "metadata": {
        "id": "3p9K5y_tVUGh"
      },
      "source": [
        "### Зависимость прибыли в зависимости от различных построенных зданий."
      ]
    },
    {
      "cell_type": "markdown",
      "metadata": {
        "id": "HWcgWDTBVUGh"
      },
      "source": [
        "Гипотеза: Предположим, что прибыль одинакова для каждого типа зданий.\n",
        "\n",
        "H0 - Статистической значимости в различии прибыли в зависимости от типа зданий нет.\n",
        "\n",
        "H1 - Статистической значимость в различии прибыли в зависимости от типа зданий есть."
      ]
    },
    {
      "cell_type": "code",
      "execution_count": 60,
      "metadata": {
        "colab": {
          "base_uri": "https://localhost:8080/",
          "height": 206
        },
        "id": "doDvdEnVVUGh",
        "outputId": "9a25ba5e-efb4-4fcb-bb5f-b3a56d587cec"
      },
      "outputs": [
        {
          "output_type": "execute_result",
          "data": {
            "text/plain": [
              "                                user_id     strat    building_type  ad_rev  \\\n",
              "0  0001f83c-c6ac-4621-b7f0-8a28b283ac30  no_strat    assembly_shop    0.42   \n",
              "1  0001f83c-c6ac-4621-b7f0-8a28b283ac30  no_strat  research_center    0.07   \n",
              "2  0001f83c-c6ac-4621-b7f0-8a28b283ac30  no_strat        spaceport    0.42   \n",
              "3  00151b4f-ba38-44a8-a650-d7cf130a0105  no_strat    assembly_shop    0.28   \n",
              "4  00151b4f-ba38-44a8-a650-d7cf130a0105  no_strat        spaceport    0.35   \n",
              "\n",
              "   qty  \n",
              "0    6  \n",
              "1    1  \n",
              "2    6  \n",
              "3    4  \n",
              "4    5  "
            ],
            "text/html": [
              "\n",
              "  <div id=\"df-98181512-2400-4f8a-a2bd-b99dc04bebce\">\n",
              "    <div class=\"colab-df-container\">\n",
              "      <div>\n",
              "<style scoped>\n",
              "    .dataframe tbody tr th:only-of-type {\n",
              "        vertical-align: middle;\n",
              "    }\n",
              "\n",
              "    .dataframe tbody tr th {\n",
              "        vertical-align: top;\n",
              "    }\n",
              "\n",
              "    .dataframe thead th {\n",
              "        text-align: right;\n",
              "    }\n",
              "</style>\n",
              "<table border=\"1\" class=\"dataframe\">\n",
              "  <thead>\n",
              "    <tr style=\"text-align: right;\">\n",
              "      <th></th>\n",
              "      <th>user_id</th>\n",
              "      <th>strat</th>\n",
              "      <th>building_type</th>\n",
              "      <th>ad_rev</th>\n",
              "      <th>qty</th>\n",
              "    </tr>\n",
              "  </thead>\n",
              "  <tbody>\n",
              "    <tr>\n",
              "      <th>0</th>\n",
              "      <td>0001f83c-c6ac-4621-b7f0-8a28b283ac30</td>\n",
              "      <td>no_strat</td>\n",
              "      <td>assembly_shop</td>\n",
              "      <td>0.42</td>\n",
              "      <td>6</td>\n",
              "    </tr>\n",
              "    <tr>\n",
              "      <th>1</th>\n",
              "      <td>0001f83c-c6ac-4621-b7f0-8a28b283ac30</td>\n",
              "      <td>no_strat</td>\n",
              "      <td>research_center</td>\n",
              "      <td>0.07</td>\n",
              "      <td>1</td>\n",
              "    </tr>\n",
              "    <tr>\n",
              "      <th>2</th>\n",
              "      <td>0001f83c-c6ac-4621-b7f0-8a28b283ac30</td>\n",
              "      <td>no_strat</td>\n",
              "      <td>spaceport</td>\n",
              "      <td>0.42</td>\n",
              "      <td>6</td>\n",
              "    </tr>\n",
              "    <tr>\n",
              "      <th>3</th>\n",
              "      <td>00151b4f-ba38-44a8-a650-d7cf130a0105</td>\n",
              "      <td>no_strat</td>\n",
              "      <td>assembly_shop</td>\n",
              "      <td>0.28</td>\n",
              "      <td>4</td>\n",
              "    </tr>\n",
              "    <tr>\n",
              "      <th>4</th>\n",
              "      <td>00151b4f-ba38-44a8-a650-d7cf130a0105</td>\n",
              "      <td>no_strat</td>\n",
              "      <td>spaceport</td>\n",
              "      <td>0.35</td>\n",
              "      <td>5</td>\n",
              "    </tr>\n",
              "  </tbody>\n",
              "</table>\n",
              "</div>\n",
              "      <button class=\"colab-df-convert\" onclick=\"convertToInteractive('df-98181512-2400-4f8a-a2bd-b99dc04bebce')\"\n",
              "              title=\"Convert this dataframe to an interactive table.\"\n",
              "              style=\"display:none;\">\n",
              "        \n",
              "  <svg xmlns=\"http://www.w3.org/2000/svg\" height=\"24px\"viewBox=\"0 0 24 24\"\n",
              "       width=\"24px\">\n",
              "    <path d=\"M0 0h24v24H0V0z\" fill=\"none\"/>\n",
              "    <path d=\"M18.56 5.44l.94 2.06.94-2.06 2.06-.94-2.06-.94-.94-2.06-.94 2.06-2.06.94zm-11 1L8.5 8.5l.94-2.06 2.06-.94-2.06-.94L8.5 2.5l-.94 2.06-2.06.94zm10 10l.94 2.06.94-2.06 2.06-.94-2.06-.94-.94-2.06-.94 2.06-2.06.94z\"/><path d=\"M17.41 7.96l-1.37-1.37c-.4-.4-.92-.59-1.43-.59-.52 0-1.04.2-1.43.59L10.3 9.45l-7.72 7.72c-.78.78-.78 2.05 0 2.83L4 21.41c.39.39.9.59 1.41.59.51 0 1.02-.2 1.41-.59l7.78-7.78 2.81-2.81c.8-.78.8-2.07 0-2.86zM5.41 20L4 18.59l7.72-7.72 1.47 1.35L5.41 20z\"/>\n",
              "  </svg>\n",
              "      </button>\n",
              "      \n",
              "  <style>\n",
              "    .colab-df-container {\n",
              "      display:flex;\n",
              "      flex-wrap:wrap;\n",
              "      gap: 12px;\n",
              "    }\n",
              "\n",
              "    .colab-df-convert {\n",
              "      background-color: #E8F0FE;\n",
              "      border: none;\n",
              "      border-radius: 50%;\n",
              "      cursor: pointer;\n",
              "      display: none;\n",
              "      fill: #1967D2;\n",
              "      height: 32px;\n",
              "      padding: 0 0 0 0;\n",
              "      width: 32px;\n",
              "    }\n",
              "\n",
              "    .colab-df-convert:hover {\n",
              "      background-color: #E2EBFA;\n",
              "      box-shadow: 0px 1px 2px rgba(60, 64, 67, 0.3), 0px 1px 3px 1px rgba(60, 64, 67, 0.15);\n",
              "      fill: #174EA6;\n",
              "    }\n",
              "\n",
              "    [theme=dark] .colab-df-convert {\n",
              "      background-color: #3B4455;\n",
              "      fill: #D2E3FC;\n",
              "    }\n",
              "\n",
              "    [theme=dark] .colab-df-convert:hover {\n",
              "      background-color: #434B5C;\n",
              "      box-shadow: 0px 1px 3px 1px rgba(0, 0, 0, 0.15);\n",
              "      filter: drop-shadow(0px 1px 2px rgba(0, 0, 0, 0.3));\n",
              "      fill: #FFFFFF;\n",
              "    }\n",
              "  </style>\n",
              "\n",
              "      <script>\n",
              "        const buttonEl =\n",
              "          document.querySelector('#df-98181512-2400-4f8a-a2bd-b99dc04bebce button.colab-df-convert');\n",
              "        buttonEl.style.display =\n",
              "          google.colab.kernel.accessAllowed ? 'block' : 'none';\n",
              "\n",
              "        async function convertToInteractive(key) {\n",
              "          const element = document.querySelector('#df-98181512-2400-4f8a-a2bd-b99dc04bebce');\n",
              "          const dataTable =\n",
              "            await google.colab.kernel.invokeFunction('convertToInteractive',\n",
              "                                                     [key], {});\n",
              "          if (!dataTable) return;\n",
              "\n",
              "          const docLinkHtml = 'Like what you see? Visit the ' +\n",
              "            '<a target=\"_blank\" href=https://colab.research.google.com/notebooks/data_table.ipynb>data table notebook</a>'\n",
              "            + ' to learn more about interactive tables.';\n",
              "          element.innerHTML = '';\n",
              "          dataTable['output_type'] = 'display_data';\n",
              "          await google.colab.output.renderOutput(dataTable, element);\n",
              "          const docLink = document.createElement('div');\n",
              "          docLink.innerHTML = docLinkHtml;\n",
              "          element.appendChild(docLink);\n",
              "        }\n",
              "      </script>\n",
              "    </div>\n",
              "  </div>\n",
              "  "
            ]
          },
          "metadata": {},
          "execution_count": 60
        }
      ],
      "source": [
        "build_by_strat.head()"
      ]
    },
    {
      "cell_type": "code",
      "execution_count": 61,
      "metadata": {
        "id": "wfBIq0QGVUGh"
      },
      "outputs": [],
      "source": [
        "df = build_by_strat\n",
        "s1 = df[df['building_type']=='assembly_shop']['ad_rev']\n",
        "s2 = df[df['building_type']=='research_center']['ad_rev']\n",
        "s3 = df[df['building_type']=='spaceport']['ad_rev']"
      ]
    },
    {
      "cell_type": "markdown",
      "metadata": {
        "id": "eyju7hY1VUGh"
      },
      "source": [
        "Проверим на нормальность"
      ]
    },
    {
      "cell_type": "code",
      "execution_count": 62,
      "metadata": {
        "colab": {
          "base_uri": "https://localhost:8080/"
        },
        "id": "A_kiLYNYVUGi",
        "outputId": "a83d9fc3-a110-497c-afd5-ea281ea0154a"
      },
      "outputs": [
        {
          "output_type": "stream",
          "name": "stdout",
          "text": [
            "p-значение:  0.0\n",
            "Распределение не нормально\n"
          ]
        }
      ],
      "source": [
        "alpha = 0.05\n",
        "results = st.shapiro(s1)\n",
        "p_value = results[1]\n",
        "print('p-значение: ', p_value)\n",
        "if p_value < alpha:\n",
        "    print('Распределение не нормально')\n",
        "else:\n",
        "    print('Распределение нормально') "
      ]
    },
    {
      "cell_type": "code",
      "execution_count": 63,
      "metadata": {
        "colab": {
          "base_uri": "https://localhost:8080/"
        },
        "id": "8b8SYuAIVUGi",
        "outputId": "7888be9c-d46d-4338-fd19-84beffa5cd1a"
      },
      "outputs": [
        {
          "output_type": "stream",
          "name": "stdout",
          "text": [
            "p-значение:  0.0\n",
            "Распределение не нормально\n"
          ]
        }
      ],
      "source": [
        "alpha = 0.05\n",
        "results = st.shapiro(s2)\n",
        "p_value = results[1]\n",
        "print('p-значение: ', p_value)\n",
        "if p_value < alpha:\n",
        "    print('Распределение не нормально')\n",
        "else:\n",
        "    print('Распределение нормально') "
      ]
    },
    {
      "cell_type": "code",
      "execution_count": 64,
      "metadata": {
        "colab": {
          "base_uri": "https://localhost:8080/"
        },
        "id": "upP48r5HVUGi",
        "outputId": "33c91f1a-891c-4e1e-e554-6ad9b034e4d5"
      },
      "outputs": [
        {
          "output_type": "stream",
          "name": "stdout",
          "text": [
            "p-значение:  0.0\n",
            "Распределение не нормально\n"
          ]
        }
      ],
      "source": [
        "alpha = 0.05\n",
        "results = st.shapiro(s3)\n",
        "p_value = results[1]\n",
        "print('p-значение: ', p_value)\n",
        "if p_value < alpha:\n",
        "    print('Распределение не нормально')\n",
        "else:\n",
        "    print('Распределение нормально') "
      ]
    },
    {
      "cell_type": "markdown",
      "metadata": {
        "id": "om-KwtjZVUGi"
      },
      "source": [
        "Данные не нормальны, используем тест Манна-Уитни"
      ]
    },
    {
      "cell_type": "code",
      "execution_count": 65,
      "metadata": {
        "id": "-5Pal2eLVUGj"
      },
      "outputs": [],
      "source": [
        "#используем поправку Бонферрони для 3х стравнений\n",
        "alpha = 0.05/3"
      ]
    },
    {
      "cell_type": "markdown",
      "metadata": {
        "id": "U-_so2f7VUGj"
      },
      "source": [
        "Сравнение assembly_shop и research_center:"
      ]
    },
    {
      "cell_type": "code",
      "execution_count": 66,
      "metadata": {
        "colab": {
          "base_uri": "https://localhost:8080/"
        },
        "id": "D3AwNwAqVUGj",
        "outputId": "7ee57c90-b2f8-44a3-fb72-48b5961faaa5"
      },
      "outputs": [
        {
          "output_type": "stream",
          "name": "stdout",
          "text": [
            "p-значение:  0.0\n",
            "Отвергаем нулевую гипотезу: разница статистически значима\n"
          ]
        }
      ],
      "source": [
        "results = st.mannwhitneyu(s1, s2)\n",
        "print('p-значение: ', results.pvalue)\n",
        "if results.pvalue < alpha:\n",
        "    print('Отвергаем нулевую гипотезу: разница статистически значима')\n",
        "else:\n",
        "    print('Не получилось отвергнуть нулевую гипотезу, вывод о различии сделать нельзя') "
      ]
    },
    {
      "cell_type": "markdown",
      "metadata": {
        "id": "92ye0K_nVUGj"
      },
      "source": [
        "Сравнение assembly_shop и spaceport:"
      ]
    },
    {
      "cell_type": "code",
      "execution_count": 67,
      "metadata": {
        "colab": {
          "base_uri": "https://localhost:8080/"
        },
        "id": "dnK3TU3wVUGj",
        "outputId": "e7e9c3df-79dc-467f-8244-58cb5e767d6b"
      },
      "outputs": [
        {
          "output_type": "stream",
          "name": "stdout",
          "text": [
            "p-значение:  7.710933489020153e-46\n",
            "Отвергаем нулевую гипотезу: разница статистически значима\n"
          ]
        }
      ],
      "source": [
        "results = st.mannwhitneyu(s1, s3)\n",
        "print('p-значение: ', results.pvalue)\n",
        "if results.pvalue < alpha:\n",
        "    print('Отвергаем нулевую гипотезу: разница статистически значима')\n",
        "else:\n",
        "    print('Не получилось отвергнуть нулевую гипотезу, вывод о различии сделать нельзя') "
      ]
    },
    {
      "cell_type": "markdown",
      "metadata": {
        "id": "WLRiLt7fVUGk"
      },
      "source": [
        "Сравнение research_center и spaceport:"
      ]
    },
    {
      "cell_type": "code",
      "execution_count": 68,
      "metadata": {
        "colab": {
          "base_uri": "https://localhost:8080/"
        },
        "id": "URRkbm0zVUGk",
        "outputId": "0c3931b5-78d4-4645-e956-deddb10f6e35"
      },
      "outputs": [
        {
          "output_type": "stream",
          "name": "stdout",
          "text": [
            "p-значение:  0.0\n",
            "Отвергаем нулевую гипотезу: разница статистически значима\n"
          ]
        }
      ],
      "source": [
        "results = st.mannwhitneyu(s2, s3, True)\n",
        "print('p-значение: ', results.pvalue)\n",
        "if results.pvalue < alpha:\n",
        "    print('Отвергаем нулевую гипотезу: разница статистически значима')\n",
        "else:\n",
        "    print('Не получилось отвергнуть нулевую гипотезу, вывод о различии сделать нельзя') "
      ]
    },
    {
      "cell_type": "markdown",
      "metadata": {
        "id": "4QinhujWVUGk"
      },
      "source": [
        "Как видно из тестов при всех стравнениях прибыль скорее всего зависит от типа построенного здания."
      ]
    },
    {
      "cell_type": "markdown",
      "metadata": {
        "id": "yC6rotmNVUGk"
      },
      "source": [
        "## Вывод"
      ]
    },
    {
      "cell_type": "markdown",
      "metadata": {
        "id": "V63zgexEVUGk"
      },
      "source": [
        "В ходе исследования была проведена предобработка данных - устранение дупликатов, изменение датасета, объяснение пропусков.\n",
        "Также был првоеден исследовательский анализ, в ходе которого было выявлено, что:\n",
        "- Игроки в зависимости от стратегии игры строят разное количество зданий: 8.7 - игроки, оставшиеся на уровне, 12.6 - пве игроки, 9.4 - пвп игроки.\n",
        "- Игроки проходят уровень с разной скоростью, в зависимости от стратегии, в среднем: пве - 312 часов на уровне, пвп - 259 часов.\n",
        "- Предложенная маркетологами модель монетизации работает - реклама окупается, но показывается слишком много рекламы, т.к в среднем игроки строят 9.4 зданий, а реклама окупается уже на 8м. Соответсвенное далее рекалма показывается уже в плюс.\n",
        "\n",
        "В итоге была предложена новая модель монетизации: показывать рекламу пользователю начиная с постройки 2го здания, тем самым пользователи будут смотреть меньше рекламы, которая в свою очередь будет все равно оккупаться."
      ]
    },
    {
      "cell_type": "code",
      "execution_count": 68,
      "metadata": {
        "id": "3r29bIYkVUGl"
      },
      "outputs": [],
      "source": []
    }
  ],
  "metadata": {
    "ExecuteTimeLog": [
      {
        "duration": 1478,
        "start_time": "2023-03-19T18:35:08.812Z"
      },
      {
        "duration": 1222,
        "start_time": "2023-03-19T18:35:11.466Z"
      },
      {
        "duration": 105,
        "start_time": "2023-03-19T18:35:13.974Z"
      },
      {
        "duration": 38,
        "start_time": "2023-03-19T18:36:34.511Z"
      },
      {
        "duration": 24,
        "start_time": "2023-03-19T18:36:35.298Z"
      },
      {
        "duration": 29,
        "start_time": "2023-03-19T18:36:36.824Z"
      },
      {
        "duration": 15,
        "start_time": "2023-03-19T18:36:37.930Z"
      },
      {
        "duration": 6,
        "start_time": "2023-03-19T18:36:50.004Z"
      },
      {
        "duration": 101,
        "start_time": "2023-03-19T18:37:37.175Z"
      },
      {
        "duration": 123,
        "start_time": "2023-03-19T18:39:19.566Z"
      },
      {
        "duration": 27,
        "start_time": "2023-03-19T18:39:24.870Z"
      },
      {
        "duration": 189,
        "start_time": "2023-03-19T18:40:50.609Z"
      },
      {
        "duration": 161,
        "start_time": "2023-03-19T18:41:01.972Z"
      },
      {
        "duration": 11,
        "start_time": "2023-03-19T18:41:25.667Z"
      },
      {
        "duration": 31,
        "start_time": "2023-03-19T18:41:49.440Z"
      },
      {
        "duration": 27,
        "start_time": "2023-03-19T18:41:58.454Z"
      },
      {
        "duration": 11,
        "start_time": "2023-03-19T18:43:20.218Z"
      },
      {
        "duration": 13,
        "start_time": "2023-03-19T18:43:47.231Z"
      },
      {
        "duration": 15,
        "start_time": "2023-03-19T18:43:53.923Z"
      },
      {
        "duration": 13,
        "start_time": "2023-03-19T18:43:58.559Z"
      },
      {
        "duration": 29,
        "start_time": "2023-03-19T18:44:57.246Z"
      },
      {
        "duration": 32,
        "start_time": "2023-03-19T18:46:07.290Z"
      },
      {
        "duration": 49,
        "start_time": "2023-03-19T18:46:11.099Z"
      },
      {
        "duration": 59,
        "start_time": "2023-03-19T18:46:33.584Z"
      },
      {
        "duration": 58,
        "start_time": "2023-03-19T18:46:41.542Z"
      },
      {
        "duration": 55,
        "start_time": "2023-03-19T18:46:50.231Z"
      },
      {
        "duration": 1208,
        "start_time": "2023-03-19T18:48:55.726Z"
      },
      {
        "duration": 587,
        "start_time": "2023-03-19T18:48:56.936Z"
      },
      {
        "duration": 229,
        "start_time": "2023-03-19T18:48:57.525Z"
      },
      {
        "duration": 127,
        "start_time": "2023-03-19T18:48:57.756Z"
      },
      {
        "duration": 0,
        "start_time": "2023-03-19T18:48:57.885Z"
      },
      {
        "duration": 0,
        "start_time": "2023-03-19T18:48:57.886Z"
      },
      {
        "duration": 0,
        "start_time": "2023-03-19T18:48:57.887Z"
      },
      {
        "duration": 0,
        "start_time": "2023-03-19T18:48:57.888Z"
      },
      {
        "duration": 0,
        "start_time": "2023-03-19T18:48:57.890Z"
      },
      {
        "duration": 0,
        "start_time": "2023-03-19T18:48:57.895Z"
      },
      {
        "duration": 1316,
        "start_time": "2023-03-19T18:49:23.062Z"
      },
      {
        "duration": 606,
        "start_time": "2023-03-19T18:49:24.380Z"
      },
      {
        "duration": 248,
        "start_time": "2023-03-19T18:49:24.987Z"
      },
      {
        "duration": 60,
        "start_time": "2023-03-19T18:49:25.237Z"
      },
      {
        "duration": 50,
        "start_time": "2023-03-19T18:49:25.300Z"
      },
      {
        "duration": 87,
        "start_time": "2023-03-19T18:49:25.352Z"
      },
      {
        "duration": 25,
        "start_time": "2023-03-19T18:49:25.440Z"
      },
      {
        "duration": 40,
        "start_time": "2023-03-19T18:49:25.467Z"
      },
      {
        "duration": 14,
        "start_time": "2023-03-19T18:49:25.509Z"
      },
      {
        "duration": 5,
        "start_time": "2023-03-19T18:49:25.525Z"
      },
      {
        "duration": 431,
        "start_time": "2023-03-19T18:56:15.312Z"
      },
      {
        "duration": 1762,
        "start_time": "2023-03-19T18:56:43.649Z"
      },
      {
        "duration": 74,
        "start_time": "2023-03-19T18:58:46.946Z"
      },
      {
        "duration": 85,
        "start_time": "2023-03-19T18:59:15.037Z"
      },
      {
        "duration": 75,
        "start_time": "2023-03-19T19:02:04.418Z"
      },
      {
        "duration": 122,
        "start_time": "2023-03-19T19:02:25.845Z"
      },
      {
        "duration": 88,
        "start_time": "2023-03-19T19:07:58.642Z"
      },
      {
        "duration": 72,
        "start_time": "2023-03-19T19:08:24.730Z"
      },
      {
        "duration": 1157,
        "start_time": "2023-03-19T19:08:51.152Z"
      },
      {
        "duration": 1519,
        "start_time": "2023-03-20T07:31:20.544Z"
      },
      {
        "duration": 840,
        "start_time": "2023-03-20T07:31:22.068Z"
      },
      {
        "duration": 226,
        "start_time": "2023-03-20T07:31:22.910Z"
      },
      {
        "duration": 60,
        "start_time": "2023-03-20T07:31:23.138Z"
      },
      {
        "duration": 44,
        "start_time": "2023-03-20T07:31:23.201Z"
      },
      {
        "duration": 103,
        "start_time": "2023-03-20T07:31:23.248Z"
      },
      {
        "duration": 41,
        "start_time": "2023-03-20T07:31:23.353Z"
      },
      {
        "duration": 27,
        "start_time": "2023-03-20T07:31:23.396Z"
      },
      {
        "duration": 6,
        "start_time": "2023-03-20T07:31:23.425Z"
      },
      {
        "duration": 46,
        "start_time": "2023-03-20T07:31:23.433Z"
      },
      {
        "duration": 102,
        "start_time": "2023-03-20T07:32:00.559Z"
      },
      {
        "duration": 67,
        "start_time": "2023-03-20T07:32:50.935Z"
      },
      {
        "duration": 132,
        "start_time": "2023-03-20T07:33:16.232Z"
      },
      {
        "duration": 5,
        "start_time": "2023-03-20T07:33:25.864Z"
      },
      {
        "duration": 843,
        "start_time": "2023-03-20T07:33:30.240Z"
      },
      {
        "duration": 5,
        "start_time": "2023-03-20T07:33:50.647Z"
      },
      {
        "duration": 622,
        "start_time": "2023-03-20T07:33:51.657Z"
      },
      {
        "duration": 86,
        "start_time": "2023-03-20T07:34:30.896Z"
      },
      {
        "duration": 52,
        "start_time": "2023-03-20T07:34:44.904Z"
      },
      {
        "duration": 5,
        "start_time": "2023-03-20T07:35:04.822Z"
      },
      {
        "duration": 747,
        "start_time": "2023-03-20T07:35:06.536Z"
      },
      {
        "duration": 4,
        "start_time": "2023-03-20T07:35:22.064Z"
      },
      {
        "duration": 667,
        "start_time": "2023-03-20T07:35:24.024Z"
      },
      {
        "duration": 4,
        "start_time": "2023-03-20T07:36:02.458Z"
      },
      {
        "duration": 700,
        "start_time": "2023-03-20T07:36:03.536Z"
      },
      {
        "duration": 4,
        "start_time": "2023-03-20T07:36:38.960Z"
      },
      {
        "duration": 703,
        "start_time": "2023-03-20T07:36:39.745Z"
      },
      {
        "duration": 5,
        "start_time": "2023-03-20T07:36:57.769Z"
      },
      {
        "duration": 859,
        "start_time": "2023-03-20T07:36:59.113Z"
      },
      {
        "duration": 5,
        "start_time": "2023-03-20T07:38:17.170Z"
      },
      {
        "duration": 691,
        "start_time": "2023-03-20T07:38:18.451Z"
      },
      {
        "duration": 5,
        "start_time": "2023-03-20T07:38:32.745Z"
      },
      {
        "duration": 685,
        "start_time": "2023-03-20T07:38:33.393Z"
      },
      {
        "duration": 35,
        "start_time": "2023-03-20T07:40:43.721Z"
      },
      {
        "duration": 24,
        "start_time": "2023-03-20T07:42:42.804Z"
      },
      {
        "duration": 34,
        "start_time": "2023-03-20T07:45:14.232Z"
      },
      {
        "duration": 26,
        "start_time": "2023-03-20T07:45:41.332Z"
      },
      {
        "duration": 39,
        "start_time": "2023-03-20T07:48:54.975Z"
      },
      {
        "duration": 12,
        "start_time": "2023-03-20T07:49:07.940Z"
      },
      {
        "duration": 11,
        "start_time": "2023-03-20T07:50:12.060Z"
      },
      {
        "duration": 21,
        "start_time": "2023-03-20T07:50:27.444Z"
      },
      {
        "duration": 24,
        "start_time": "2023-03-20T07:50:44.485Z"
      },
      {
        "duration": 15,
        "start_time": "2023-03-20T07:50:54.019Z"
      },
      {
        "duration": 27,
        "start_time": "2023-03-20T07:51:41.156Z"
      },
      {
        "duration": 595,
        "start_time": "2023-03-20T07:51:46.061Z"
      },
      {
        "duration": 1263,
        "start_time": "2023-03-20T07:52:07.591Z"
      },
      {
        "duration": 647,
        "start_time": "2023-03-20T07:52:08.856Z"
      },
      {
        "duration": 257,
        "start_time": "2023-03-20T07:52:09.506Z"
      },
      {
        "duration": 66,
        "start_time": "2023-03-20T07:52:09.764Z"
      },
      {
        "duration": 44,
        "start_time": "2023-03-20T07:52:09.833Z"
      },
      {
        "duration": 85,
        "start_time": "2023-03-20T07:52:09.879Z"
      },
      {
        "duration": 52,
        "start_time": "2023-03-20T07:52:09.966Z"
      },
      {
        "duration": 29,
        "start_time": "2023-03-20T07:52:10.020Z"
      },
      {
        "duration": 58,
        "start_time": "2023-03-20T07:52:10.051Z"
      },
      {
        "duration": 38,
        "start_time": "2023-03-20T07:52:10.111Z"
      },
      {
        "duration": 14,
        "start_time": "2023-03-20T07:52:53.278Z"
      },
      {
        "duration": 37,
        "start_time": "2023-03-20T07:53:29.132Z"
      },
      {
        "duration": 48,
        "start_time": "2023-03-20T07:53:33.373Z"
      },
      {
        "duration": 42,
        "start_time": "2023-03-20T07:54:05.542Z"
      },
      {
        "duration": 17,
        "start_time": "2023-03-20T07:54:12.525Z"
      },
      {
        "duration": 17,
        "start_time": "2023-03-20T07:54:38.504Z"
      },
      {
        "duration": 20,
        "start_time": "2023-03-20T07:54:59.925Z"
      },
      {
        "duration": 103,
        "start_time": "2023-03-20T07:56:23.861Z"
      },
      {
        "duration": 6,
        "start_time": "2023-03-20T07:56:29.944Z"
      },
      {
        "duration": 70,
        "start_time": "2023-03-20T07:56:35.411Z"
      },
      {
        "duration": 1256,
        "start_time": "2023-03-20T07:56:39.109Z"
      },
      {
        "duration": 13,
        "start_time": "2023-03-20T07:56:58.174Z"
      },
      {
        "duration": 24,
        "start_time": "2023-03-20T07:57:15.463Z"
      },
      {
        "duration": 58,
        "start_time": "2023-03-20T07:57:20.084Z"
      },
      {
        "duration": 65,
        "start_time": "2023-03-20T07:57:25.878Z"
      },
      {
        "duration": 5,
        "start_time": "2023-03-20T07:57:32.333Z"
      },
      {
        "duration": 35,
        "start_time": "2023-03-20T07:58:46.663Z"
      },
      {
        "duration": 5,
        "start_time": "2023-03-20T07:58:49.238Z"
      },
      {
        "duration": 57,
        "start_time": "2023-03-20T07:58:55.765Z"
      },
      {
        "duration": 58,
        "start_time": "2023-03-20T08:03:59.448Z"
      },
      {
        "duration": 64,
        "start_time": "2023-03-20T08:04:28.411Z"
      },
      {
        "duration": 30,
        "start_time": "2023-03-20T08:07:19.612Z"
      },
      {
        "duration": 7,
        "start_time": "2023-03-20T08:08:04.152Z"
      },
      {
        "duration": 27,
        "start_time": "2023-03-20T08:10:02.954Z"
      },
      {
        "duration": 44,
        "start_time": "2023-03-20T08:12:06.818Z"
      },
      {
        "duration": 83,
        "start_time": "2023-03-20T08:12:55.423Z"
      },
      {
        "duration": 49,
        "start_time": "2023-03-20T08:13:00.434Z"
      },
      {
        "duration": 27,
        "start_time": "2023-03-20T08:13:46.414Z"
      },
      {
        "duration": 38,
        "start_time": "2023-03-20T08:15:29.635Z"
      },
      {
        "duration": 23,
        "start_time": "2023-03-20T08:15:30.964Z"
      },
      {
        "duration": 1287,
        "start_time": "2023-03-20T08:15:49.290Z"
      },
      {
        "duration": 649,
        "start_time": "2023-03-20T08:15:50.580Z"
      },
      {
        "duration": 248,
        "start_time": "2023-03-20T08:15:51.231Z"
      },
      {
        "duration": 56,
        "start_time": "2023-03-20T08:15:51.490Z"
      },
      {
        "duration": 66,
        "start_time": "2023-03-20T08:15:51.548Z"
      },
      {
        "duration": 80,
        "start_time": "2023-03-20T08:15:51.615Z"
      },
      {
        "duration": 38,
        "start_time": "2023-03-20T08:15:51.697Z"
      },
      {
        "duration": 16,
        "start_time": "2023-03-20T08:15:51.737Z"
      },
      {
        "duration": 11,
        "start_time": "2023-03-20T08:15:51.755Z"
      },
      {
        "duration": 47,
        "start_time": "2023-03-20T08:15:51.768Z"
      },
      {
        "duration": 7,
        "start_time": "2023-03-20T08:15:51.817Z"
      },
      {
        "duration": 28,
        "start_time": "2023-03-20T08:15:51.826Z"
      },
      {
        "duration": 56,
        "start_time": "2023-03-20T08:15:51.856Z"
      },
      {
        "duration": 40,
        "start_time": "2023-03-20T08:15:51.915Z"
      },
      {
        "duration": 39,
        "start_time": "2023-03-20T08:15:51.957Z"
      },
      {
        "duration": 624,
        "start_time": "2023-03-20T08:19:41.320Z"
      },
      {
        "duration": 1347,
        "start_time": "2023-03-20T08:20:00.012Z"
      },
      {
        "duration": 572,
        "start_time": "2023-03-20T08:20:57.453Z"
      },
      {
        "duration": 687,
        "start_time": "2023-03-20T08:21:34.677Z"
      },
      {
        "duration": 641,
        "start_time": "2023-03-20T08:23:38.509Z"
      },
      {
        "duration": 696,
        "start_time": "2023-03-20T08:24:13.502Z"
      },
      {
        "duration": 465,
        "start_time": "2023-03-20T08:25:03.055Z"
      },
      {
        "duration": 423,
        "start_time": "2023-03-20T08:25:51.823Z"
      },
      {
        "duration": 444,
        "start_time": "2023-03-20T08:26:17.671Z"
      },
      {
        "duration": 4,
        "start_time": "2023-03-20T08:26:51.542Z"
      },
      {
        "duration": 519,
        "start_time": "2023-03-20T08:27:18.494Z"
      },
      {
        "duration": 98,
        "start_time": "2023-03-20T08:31:03.273Z"
      },
      {
        "duration": 26,
        "start_time": "2023-03-20T08:31:10.839Z"
      },
      {
        "duration": 1744,
        "start_time": "2023-03-20T08:33:14.490Z"
      },
      {
        "duration": 938,
        "start_time": "2023-03-20T08:33:16.237Z"
      },
      {
        "duration": 315,
        "start_time": "2023-03-20T08:33:17.177Z"
      },
      {
        "duration": 61,
        "start_time": "2023-03-20T08:33:17.493Z"
      },
      {
        "duration": 73,
        "start_time": "2023-03-20T08:33:17.556Z"
      },
      {
        "duration": 115,
        "start_time": "2023-03-20T08:33:17.631Z"
      },
      {
        "duration": 50,
        "start_time": "2023-03-20T08:33:17.749Z"
      },
      {
        "duration": 22,
        "start_time": "2023-03-20T08:33:17.802Z"
      },
      {
        "duration": 18,
        "start_time": "2023-03-20T08:33:17.826Z"
      },
      {
        "duration": 76,
        "start_time": "2023-03-20T08:33:17.847Z"
      },
      {
        "duration": 33,
        "start_time": "2023-03-20T08:33:17.926Z"
      },
      {
        "duration": 73,
        "start_time": "2023-03-20T08:33:17.961Z"
      },
      {
        "duration": 32,
        "start_time": "2023-03-20T08:33:18.036Z"
      },
      {
        "duration": 90,
        "start_time": "2023-03-20T08:33:18.071Z"
      },
      {
        "duration": 248,
        "start_time": "2023-03-20T08:33:18.163Z"
      },
      {
        "duration": 56,
        "start_time": "2023-03-20T08:34:02.013Z"
      },
      {
        "duration": 29,
        "start_time": "2023-03-20T08:34:03.607Z"
      },
      {
        "duration": 32,
        "start_time": "2023-03-20T08:39:32.371Z"
      },
      {
        "duration": 39,
        "start_time": "2023-03-20T08:39:34.515Z"
      },
      {
        "duration": 35,
        "start_time": "2023-03-20T08:48:55.764Z"
      },
      {
        "duration": 112,
        "start_time": "2023-03-20T08:53:19.774Z"
      },
      {
        "duration": 5,
        "start_time": "2023-03-20T08:53:50.270Z"
      },
      {
        "duration": 482,
        "start_time": "2023-03-20T08:53:58.575Z"
      },
      {
        "duration": 3389,
        "start_time": "2023-03-20T08:58:02.531Z"
      },
      {
        "duration": 843,
        "start_time": "2023-03-20T08:59:39.912Z"
      },
      {
        "duration": 1659,
        "start_time": "2023-03-20T09:00:16.014Z"
      },
      {
        "duration": 995,
        "start_time": "2023-03-20T09:00:17.676Z"
      },
      {
        "duration": 355,
        "start_time": "2023-03-20T09:00:18.673Z"
      },
      {
        "duration": 69,
        "start_time": "2023-03-20T09:00:19.031Z"
      },
      {
        "duration": 73,
        "start_time": "2023-03-20T09:00:19.102Z"
      },
      {
        "duration": 146,
        "start_time": "2023-03-20T09:00:19.177Z"
      },
      {
        "duration": 48,
        "start_time": "2023-03-20T09:00:19.325Z"
      },
      {
        "duration": 40,
        "start_time": "2023-03-20T09:00:19.376Z"
      },
      {
        "duration": 6,
        "start_time": "2023-03-20T09:00:19.418Z"
      },
      {
        "duration": 77,
        "start_time": "2023-03-20T09:00:19.428Z"
      },
      {
        "duration": 13,
        "start_time": "2023-03-20T09:00:19.506Z"
      },
      {
        "duration": 53,
        "start_time": "2023-03-20T09:00:19.522Z"
      },
      {
        "duration": 43,
        "start_time": "2023-03-20T09:00:19.578Z"
      },
      {
        "duration": 42,
        "start_time": "2023-03-20T09:00:19.622Z"
      },
      {
        "duration": 39,
        "start_time": "2023-03-20T09:00:19.666Z"
      },
      {
        "duration": 53,
        "start_time": "2023-03-20T09:00:19.707Z"
      },
      {
        "duration": 782,
        "start_time": "2023-03-20T09:00:19.762Z"
      },
      {
        "duration": 18,
        "start_time": "2023-03-20T09:00:45.478Z"
      },
      {
        "duration": 19,
        "start_time": "2023-03-20T09:00:49.250Z"
      },
      {
        "duration": 15,
        "start_time": "2023-03-20T09:00:51.169Z"
      },
      {
        "duration": 14,
        "start_time": "2023-03-20T09:00:59.953Z"
      },
      {
        "duration": 71,
        "start_time": "2023-03-20T09:01:03.746Z"
      },
      {
        "duration": 10,
        "start_time": "2023-03-20T09:02:30.918Z"
      },
      {
        "duration": 6,
        "start_time": "2023-03-20T09:02:43.834Z"
      },
      {
        "duration": 11,
        "start_time": "2023-03-20T09:03:00.512Z"
      },
      {
        "duration": 23,
        "start_time": "2023-03-20T09:03:04.412Z"
      },
      {
        "duration": 22,
        "start_time": "2023-03-20T09:04:27.444Z"
      },
      {
        "duration": 28,
        "start_time": "2023-03-20T09:04:35.651Z"
      },
      {
        "duration": 4022,
        "start_time": "2023-03-20T09:10:47.518Z"
      },
      {
        "duration": 5246,
        "start_time": "2023-03-20T09:11:10.853Z"
      },
      {
        "duration": 4627,
        "start_time": "2023-03-20T09:13:03.641Z"
      },
      {
        "duration": 3706,
        "start_time": "2023-03-20T09:13:24.874Z"
      },
      {
        "duration": 50,
        "start_time": "2023-03-20T09:13:34.834Z"
      },
      {
        "duration": 6630,
        "start_time": "2023-03-20T09:15:07.274Z"
      },
      {
        "duration": 319,
        "start_time": "2023-03-20T09:16:43.639Z"
      },
      {
        "duration": 4836,
        "start_time": "2023-03-20T09:16:51.063Z"
      },
      {
        "duration": 157,
        "start_time": "2023-03-20T09:20:47.727Z"
      },
      {
        "duration": 148,
        "start_time": "2023-03-20T09:21:24.932Z"
      },
      {
        "duration": 89,
        "start_time": "2023-03-20T09:22:10.568Z"
      },
      {
        "duration": 127,
        "start_time": "2023-03-20T09:22:33.633Z"
      },
      {
        "duration": 118,
        "start_time": "2023-03-20T09:25:56.911Z"
      },
      {
        "duration": 118,
        "start_time": "2023-03-20T09:26:16.231Z"
      },
      {
        "duration": 6,
        "start_time": "2023-03-20T09:26:44.315Z"
      },
      {
        "duration": 4,
        "start_time": "2023-03-20T09:27:02.916Z"
      },
      {
        "duration": 6,
        "start_time": "2023-03-20T09:27:09.236Z"
      },
      {
        "duration": 12,
        "start_time": "2023-03-20T09:29:00.338Z"
      },
      {
        "duration": 96,
        "start_time": "2023-03-20T09:29:20.861Z"
      },
      {
        "duration": 9,
        "start_time": "2023-03-20T09:31:13.772Z"
      },
      {
        "duration": 7,
        "start_time": "2023-03-20T09:31:34.319Z"
      },
      {
        "duration": 8,
        "start_time": "2023-03-20T09:31:41.718Z"
      },
      {
        "duration": 8,
        "start_time": "2023-03-20T09:32:07.028Z"
      },
      {
        "duration": 19,
        "start_time": "2023-03-20T09:56:06.563Z"
      },
      {
        "duration": 26,
        "start_time": "2023-03-20T09:57:52.547Z"
      },
      {
        "duration": 18,
        "start_time": "2023-03-20T09:58:00.476Z"
      },
      {
        "duration": 39,
        "start_time": "2023-03-20T09:58:47.380Z"
      },
      {
        "duration": 21,
        "start_time": "2023-03-20T10:00:34.037Z"
      },
      {
        "duration": 26,
        "start_time": "2023-03-20T10:03:01.974Z"
      },
      {
        "duration": 10,
        "start_time": "2023-03-20T10:03:05.517Z"
      },
      {
        "duration": 22,
        "start_time": "2023-03-20T10:05:37.838Z"
      },
      {
        "duration": 5,
        "start_time": "2023-03-20T10:12:39.777Z"
      },
      {
        "duration": 41,
        "start_time": "2023-03-20T10:18:43.572Z"
      },
      {
        "duration": 36,
        "start_time": "2023-03-20T10:19:22.875Z"
      },
      {
        "duration": 1256,
        "start_time": "2023-03-20T10:24:17.749Z"
      },
      {
        "duration": 830,
        "start_time": "2023-03-20T10:24:19.010Z"
      },
      {
        "duration": 235,
        "start_time": "2023-03-20T10:24:19.842Z"
      },
      {
        "duration": 49,
        "start_time": "2023-03-20T10:24:20.091Z"
      },
      {
        "duration": 52,
        "start_time": "2023-03-20T10:24:20.142Z"
      },
      {
        "duration": 71,
        "start_time": "2023-03-20T10:24:20.197Z"
      },
      {
        "duration": 45,
        "start_time": "2023-03-20T10:24:20.270Z"
      },
      {
        "duration": 166,
        "start_time": "2023-03-20T10:24:20.316Z"
      },
      {
        "duration": 54,
        "start_time": "2023-03-20T10:24:20.484Z"
      },
      {
        "duration": 72,
        "start_time": "2023-03-20T10:24:20.540Z"
      },
      {
        "duration": 19,
        "start_time": "2023-03-20T10:24:20.614Z"
      },
      {
        "duration": 29,
        "start_time": "2023-03-20T10:24:20.635Z"
      },
      {
        "duration": 41,
        "start_time": "2023-03-20T10:24:20.666Z"
      },
      {
        "duration": 36,
        "start_time": "2023-03-20T10:24:20.709Z"
      },
      {
        "duration": 16,
        "start_time": "2023-03-20T10:24:20.746Z"
      },
      {
        "duration": 30,
        "start_time": "2023-03-20T10:24:20.763Z"
      },
      {
        "duration": 2468,
        "start_time": "2023-03-20T10:24:20.799Z"
      },
      {
        "duration": 73,
        "start_time": "2023-03-20T10:24:23.269Z"
      },
      {
        "duration": 6,
        "start_time": "2023-03-20T10:24:23.344Z"
      },
      {
        "duration": 1128,
        "start_time": "2023-03-20T10:29:40.278Z"
      },
      {
        "duration": 860,
        "start_time": "2023-03-20T10:30:23.100Z"
      },
      {
        "duration": 45,
        "start_time": "2023-03-20T10:30:29.314Z"
      },
      {
        "duration": 1128,
        "start_time": "2023-03-20T10:30:45.806Z"
      },
      {
        "duration": 50,
        "start_time": "2023-03-20T10:31:07.983Z"
      },
      {
        "duration": 1069,
        "start_time": "2023-03-20T10:31:20.862Z"
      },
      {
        "duration": 60,
        "start_time": "2023-03-20T10:31:57.648Z"
      },
      {
        "duration": 37,
        "start_time": "2023-03-20T10:33:10.705Z"
      },
      {
        "duration": 97,
        "start_time": "2023-03-20T10:37:26.288Z"
      },
      {
        "duration": 71,
        "start_time": "2023-03-20T10:38:36.871Z"
      },
      {
        "duration": 41,
        "start_time": "2023-03-20T10:38:51.159Z"
      },
      {
        "duration": 71,
        "start_time": "2023-03-20T10:39:21.143Z"
      },
      {
        "duration": 60,
        "start_time": "2023-03-20T10:39:24.201Z"
      },
      {
        "duration": 65,
        "start_time": "2023-03-20T10:41:18.879Z"
      },
      {
        "duration": 1389,
        "start_time": "2023-03-20T10:41:24.845Z"
      },
      {
        "duration": 783,
        "start_time": "2023-03-20T10:41:26.237Z"
      },
      {
        "duration": 316,
        "start_time": "2023-03-20T10:41:27.028Z"
      },
      {
        "duration": 50,
        "start_time": "2023-03-20T10:41:27.346Z"
      },
      {
        "duration": 70,
        "start_time": "2023-03-20T10:41:27.402Z"
      },
      {
        "duration": 94,
        "start_time": "2023-03-20T10:41:27.475Z"
      },
      {
        "duration": 44,
        "start_time": "2023-03-20T10:41:27.571Z"
      },
      {
        "duration": 57,
        "start_time": "2023-03-20T10:41:27.617Z"
      },
      {
        "duration": 7,
        "start_time": "2023-03-20T10:41:27.676Z"
      },
      {
        "duration": 41,
        "start_time": "2023-03-20T10:41:27.685Z"
      },
      {
        "duration": 28,
        "start_time": "2023-03-20T10:41:27.729Z"
      },
      {
        "duration": 40,
        "start_time": "2023-03-20T10:41:27.759Z"
      },
      {
        "duration": 35,
        "start_time": "2023-03-20T10:41:27.801Z"
      },
      {
        "duration": 35,
        "start_time": "2023-03-20T10:41:27.839Z"
      },
      {
        "duration": 34,
        "start_time": "2023-03-20T10:41:27.876Z"
      },
      {
        "duration": 28,
        "start_time": "2023-03-20T10:41:27.912Z"
      },
      {
        "duration": 108,
        "start_time": "2023-03-20T10:41:27.942Z"
      },
      {
        "duration": 92,
        "start_time": "2023-03-20T10:41:28.053Z"
      },
      {
        "duration": 6,
        "start_time": "2023-03-20T10:41:28.147Z"
      },
      {
        "duration": 80,
        "start_time": "2023-03-20T10:41:59.478Z"
      },
      {
        "duration": 70,
        "start_time": "2023-03-20T10:42:50.389Z"
      },
      {
        "duration": 70,
        "start_time": "2023-03-20T10:42:56.550Z"
      },
      {
        "duration": 76,
        "start_time": "2023-03-20T10:43:11.590Z"
      },
      {
        "duration": 125,
        "start_time": "2023-03-20T10:43:18.612Z"
      },
      {
        "duration": 37,
        "start_time": "2023-03-20T10:43:37.166Z"
      },
      {
        "duration": 124,
        "start_time": "2023-03-20T10:56:56.624Z"
      },
      {
        "duration": 2793,
        "start_time": "2023-03-20T10:57:21.432Z"
      },
      {
        "duration": 30,
        "start_time": "2023-03-20T10:57:27.720Z"
      },
      {
        "duration": 35,
        "start_time": "2023-03-20T10:57:51.887Z"
      },
      {
        "duration": 19,
        "start_time": "2023-03-20T10:58:17.328Z"
      },
      {
        "duration": 32,
        "start_time": "2023-03-20T10:59:02.810Z"
      },
      {
        "duration": 6,
        "start_time": "2023-03-20T10:59:32.032Z"
      },
      {
        "duration": 18,
        "start_time": "2023-03-20T10:59:35.916Z"
      },
      {
        "duration": 8,
        "start_time": "2023-03-20T11:03:05.019Z"
      },
      {
        "duration": 18,
        "start_time": "2023-03-20T11:09:51.548Z"
      },
      {
        "duration": 17,
        "start_time": "2023-03-20T11:10:32.797Z"
      },
      {
        "duration": 6,
        "start_time": "2023-03-20T11:17:48.224Z"
      },
      {
        "duration": 7,
        "start_time": "2023-03-20T11:18:09.485Z"
      },
      {
        "duration": 67,
        "start_time": "2023-03-20T11:19:18.495Z"
      },
      {
        "duration": 56,
        "start_time": "2023-03-20T11:19:33.429Z"
      },
      {
        "duration": 36,
        "start_time": "2023-03-20T11:31:56.833Z"
      },
      {
        "duration": 13,
        "start_time": "2023-03-20T11:34:23.369Z"
      },
      {
        "duration": 11,
        "start_time": "2023-03-20T11:34:54.607Z"
      },
      {
        "duration": 16,
        "start_time": "2023-03-20T11:35:00.938Z"
      },
      {
        "duration": 10,
        "start_time": "2023-03-20T11:37:07.257Z"
      },
      {
        "duration": 17,
        "start_time": "2023-03-20T11:37:29.449Z"
      },
      {
        "duration": 5,
        "start_time": "2023-03-20T11:38:16.546Z"
      },
      {
        "duration": 13,
        "start_time": "2023-03-20T11:38:21.747Z"
      },
      {
        "duration": 12,
        "start_time": "2023-03-20T11:41:08.407Z"
      },
      {
        "duration": 12,
        "start_time": "2023-03-20T11:44:15.310Z"
      },
      {
        "duration": 1210,
        "start_time": "2023-03-20T11:44:21.649Z"
      },
      {
        "duration": 844,
        "start_time": "2023-03-20T11:44:22.862Z"
      },
      {
        "duration": 257,
        "start_time": "2023-03-20T11:44:23.708Z"
      },
      {
        "duration": 74,
        "start_time": "2023-03-20T11:44:23.968Z"
      },
      {
        "duration": 67,
        "start_time": "2023-03-20T11:44:24.045Z"
      },
      {
        "duration": 82,
        "start_time": "2023-03-20T11:44:24.113Z"
      },
      {
        "duration": 42,
        "start_time": "2023-03-20T11:44:24.199Z"
      },
      {
        "duration": 49,
        "start_time": "2023-03-20T11:44:24.243Z"
      },
      {
        "duration": 17,
        "start_time": "2023-03-20T11:44:24.302Z"
      },
      {
        "duration": 49,
        "start_time": "2023-03-20T11:44:24.322Z"
      },
      {
        "duration": 49,
        "start_time": "2023-03-20T11:44:24.373Z"
      },
      {
        "duration": 106,
        "start_time": "2023-03-20T11:44:24.425Z"
      },
      {
        "duration": 39,
        "start_time": "2023-03-20T11:44:24.535Z"
      },
      {
        "duration": 3168,
        "start_time": "2023-03-20T11:44:24.577Z"
      },
      {
        "duration": 28,
        "start_time": "2023-03-20T11:44:27.747Z"
      },
      {
        "duration": 128,
        "start_time": "2023-03-20T11:44:27.776Z"
      },
      {
        "duration": 0,
        "start_time": "2023-03-20T11:44:27.909Z"
      },
      {
        "duration": 0,
        "start_time": "2023-03-20T11:44:27.911Z"
      },
      {
        "duration": 1,
        "start_time": "2023-03-20T11:44:27.912Z"
      },
      {
        "duration": 0,
        "start_time": "2023-03-20T11:44:27.914Z"
      },
      {
        "duration": 0,
        "start_time": "2023-03-20T11:44:27.916Z"
      },
      {
        "duration": 0,
        "start_time": "2023-03-20T11:44:27.918Z"
      },
      {
        "duration": 9,
        "start_time": "2023-03-20T11:45:19.669Z"
      },
      {
        "duration": 14,
        "start_time": "2023-03-20T11:45:28.260Z"
      },
      {
        "duration": 13,
        "start_time": "2023-03-20T11:45:31.771Z"
      },
      {
        "duration": 10,
        "start_time": "2023-03-20T11:45:45.206Z"
      },
      {
        "duration": 91,
        "start_time": "2023-03-20T11:45:46.020Z"
      },
      {
        "duration": 5,
        "start_time": "2023-03-20T11:45:46.875Z"
      },
      {
        "duration": 52,
        "start_time": "2023-03-20T11:45:48.068Z"
      },
      {
        "duration": 6,
        "start_time": "2023-03-20T11:45:49.452Z"
      },
      {
        "duration": 13,
        "start_time": "2023-03-20T11:45:51.795Z"
      },
      {
        "duration": 11,
        "start_time": "2023-03-20T11:45:54.148Z"
      },
      {
        "duration": 10,
        "start_time": "2023-03-20T11:46:04.409Z"
      },
      {
        "duration": 1241,
        "start_time": "2023-03-20T11:46:57.626Z"
      },
      {
        "duration": 714,
        "start_time": "2023-03-20T11:46:58.869Z"
      },
      {
        "duration": 285,
        "start_time": "2023-03-20T11:46:59.584Z"
      },
      {
        "duration": 63,
        "start_time": "2023-03-20T11:46:59.871Z"
      },
      {
        "duration": 70,
        "start_time": "2023-03-20T11:46:59.936Z"
      },
      {
        "duration": 90,
        "start_time": "2023-03-20T11:47:00.008Z"
      },
      {
        "duration": 29,
        "start_time": "2023-03-20T11:47:00.102Z"
      },
      {
        "duration": 35,
        "start_time": "2023-03-20T11:47:00.133Z"
      },
      {
        "duration": 42,
        "start_time": "2023-03-20T11:47:00.170Z"
      },
      {
        "duration": 42,
        "start_time": "2023-03-20T11:47:00.214Z"
      },
      {
        "duration": 24,
        "start_time": "2023-03-20T11:47:00.258Z"
      },
      {
        "duration": 53,
        "start_time": "2023-03-20T11:47:00.284Z"
      },
      {
        "duration": 24,
        "start_time": "2023-03-20T11:47:00.339Z"
      },
      {
        "duration": 2684,
        "start_time": "2023-03-20T11:47:00.365Z"
      },
      {
        "duration": 25,
        "start_time": "2023-03-20T11:47:03.051Z"
      },
      {
        "duration": 20,
        "start_time": "2023-03-20T11:47:03.078Z"
      },
      {
        "duration": 31,
        "start_time": "2023-03-20T11:47:03.100Z"
      },
      {
        "duration": 82,
        "start_time": "2023-03-20T11:47:03.133Z"
      },
      {
        "duration": 5,
        "start_time": "2023-03-20T11:47:03.217Z"
      },
      {
        "duration": 64,
        "start_time": "2023-03-20T11:47:03.224Z"
      },
      {
        "duration": 12,
        "start_time": "2023-03-20T11:47:03.289Z"
      },
      {
        "duration": 24,
        "start_time": "2023-03-20T11:47:03.306Z"
      },
      {
        "duration": 9,
        "start_time": "2023-03-20T11:47:39.967Z"
      },
      {
        "duration": 23,
        "start_time": "2023-03-20T12:08:54.211Z"
      },
      {
        "duration": 336,
        "start_time": "2023-03-20T12:26:02.740Z"
      },
      {
        "duration": 1497,
        "start_time": "2023-03-20T12:26:41.468Z"
      },
      {
        "duration": 991,
        "start_time": "2023-03-20T12:26:42.967Z"
      },
      {
        "duration": 288,
        "start_time": "2023-03-20T12:26:43.959Z"
      },
      {
        "duration": 52,
        "start_time": "2023-03-20T12:26:44.249Z"
      },
      {
        "duration": 67,
        "start_time": "2023-03-20T12:26:44.305Z"
      },
      {
        "duration": 149,
        "start_time": "2023-03-20T12:26:44.374Z"
      },
      {
        "duration": 44,
        "start_time": "2023-03-20T12:26:44.525Z"
      },
      {
        "duration": 50,
        "start_time": "2023-03-20T12:26:44.571Z"
      },
      {
        "duration": 25,
        "start_time": "2023-03-20T12:26:44.625Z"
      },
      {
        "duration": 30,
        "start_time": "2023-03-20T12:26:44.651Z"
      },
      {
        "duration": 50,
        "start_time": "2023-03-20T12:26:44.683Z"
      },
      {
        "duration": 32,
        "start_time": "2023-03-20T12:26:44.735Z"
      },
      {
        "duration": 31,
        "start_time": "2023-03-20T12:26:44.768Z"
      },
      {
        "duration": 3052,
        "start_time": "2023-03-20T12:26:44.803Z"
      },
      {
        "duration": 34,
        "start_time": "2023-03-20T12:26:47.857Z"
      },
      {
        "duration": 7,
        "start_time": "2023-03-20T12:26:47.892Z"
      },
      {
        "duration": 42,
        "start_time": "2023-03-20T12:26:47.901Z"
      },
      {
        "duration": 13,
        "start_time": "2023-03-20T12:26:47.946Z"
      },
      {
        "duration": 102,
        "start_time": "2023-03-20T12:26:47.960Z"
      },
      {
        "duration": 5,
        "start_time": "2023-03-20T12:26:48.064Z"
      },
      {
        "duration": 77,
        "start_time": "2023-03-20T12:26:48.071Z"
      },
      {
        "duration": 6,
        "start_time": "2023-03-20T12:26:48.150Z"
      },
      {
        "duration": 14,
        "start_time": "2023-03-20T12:26:48.158Z"
      },
      {
        "duration": 338,
        "start_time": "2023-03-20T12:26:48.175Z"
      },
      {
        "duration": 0,
        "start_time": "2023-03-20T12:26:48.515Z"
      },
      {
        "duration": 0,
        "start_time": "2023-03-20T12:26:48.517Z"
      },
      {
        "duration": 55,
        "start_time": "2023-03-20T12:27:38.440Z"
      },
      {
        "duration": 91,
        "start_time": "2023-03-20T12:30:09.297Z"
      },
      {
        "duration": 168,
        "start_time": "2023-03-20T12:30:14.644Z"
      },
      {
        "duration": 85,
        "start_time": "2023-03-20T12:30:21.367Z"
      },
      {
        "duration": 57,
        "start_time": "2023-03-20T12:31:00.541Z"
      },
      {
        "duration": 84,
        "start_time": "2023-03-20T12:31:22.015Z"
      },
      {
        "duration": 91,
        "start_time": "2023-03-20T12:37:00.563Z"
      },
      {
        "duration": 19,
        "start_time": "2023-03-20T12:37:09.628Z"
      },
      {
        "duration": 17,
        "start_time": "2023-03-20T12:37:12.830Z"
      },
      {
        "duration": 66,
        "start_time": "2023-03-20T12:37:17.946Z"
      },
      {
        "duration": 105990,
        "start_time": "2023-03-20T12:41:12.284Z"
      },
      {
        "duration": 94,
        "start_time": "2023-03-20T12:44:49.486Z"
      },
      {
        "duration": 118,
        "start_time": "2023-03-20T12:45:15.382Z"
      },
      {
        "duration": 77,
        "start_time": "2023-03-20T12:45:20.219Z"
      },
      {
        "duration": 2615,
        "start_time": "2023-03-20T12:45:52.854Z"
      },
      {
        "duration": 134,
        "start_time": "2023-03-20T12:49:10.680Z"
      },
      {
        "duration": 719,
        "start_time": "2023-03-20T12:49:16.354Z"
      },
      {
        "duration": 1553,
        "start_time": "2023-03-20T12:49:34.856Z"
      },
      {
        "duration": 30,
        "start_time": "2023-03-20T12:52:11.417Z"
      },
      {
        "duration": 1395,
        "start_time": "2023-03-20T12:52:12.245Z"
      },
      {
        "duration": 2431,
        "start_time": "2023-03-20T12:55:28.432Z"
      },
      {
        "duration": 51,
        "start_time": "2023-03-20T12:55:43.521Z"
      },
      {
        "duration": 7040,
        "start_time": "2023-03-20T12:59:14.685Z"
      },
      {
        "duration": 11528,
        "start_time": "2023-03-20T13:02:04.777Z"
      },
      {
        "duration": 6114,
        "start_time": "2023-03-20T13:02:27.679Z"
      },
      {
        "duration": 8722,
        "start_time": "2023-03-20T13:03:59.795Z"
      },
      {
        "duration": 6042,
        "start_time": "2023-03-20T13:06:52.116Z"
      },
      {
        "duration": 650,
        "start_time": "2023-03-20T13:13:27.547Z"
      },
      {
        "duration": 1054,
        "start_time": "2023-03-20T13:14:46.716Z"
      },
      {
        "duration": 1870,
        "start_time": "2023-03-20T13:15:47.989Z"
      },
      {
        "duration": 5564,
        "start_time": "2023-03-20T13:16:07.808Z"
      },
      {
        "duration": 6280,
        "start_time": "2023-03-20T13:17:39.815Z"
      },
      {
        "duration": 5712,
        "start_time": "2023-03-20T13:17:49.181Z"
      },
      {
        "duration": 5821,
        "start_time": "2023-03-20T13:18:19.735Z"
      },
      {
        "duration": 6137,
        "start_time": "2023-03-20T13:18:57.671Z"
      },
      {
        "duration": 54,
        "start_time": "2023-03-20T13:28:07.852Z"
      },
      {
        "duration": 5,
        "start_time": "2023-03-20T13:29:13.340Z"
      },
      {
        "duration": 9,
        "start_time": "2023-03-20T13:29:17.606Z"
      },
      {
        "duration": 27,
        "start_time": "2023-03-20T13:29:28.669Z"
      },
      {
        "duration": 1281,
        "start_time": "2023-03-20T13:34:12.622Z"
      },
      {
        "duration": 931,
        "start_time": "2023-03-20T13:34:13.906Z"
      },
      {
        "duration": 301,
        "start_time": "2023-03-20T13:34:14.842Z"
      },
      {
        "duration": 61,
        "start_time": "2023-03-20T13:34:15.146Z"
      },
      {
        "duration": 55,
        "start_time": "2023-03-20T13:34:15.214Z"
      },
      {
        "duration": 98,
        "start_time": "2023-03-20T13:34:15.271Z"
      },
      {
        "duration": 55,
        "start_time": "2023-03-20T13:34:15.371Z"
      },
      {
        "duration": 33,
        "start_time": "2023-03-20T13:34:15.429Z"
      },
      {
        "duration": 6,
        "start_time": "2023-03-20T13:34:15.464Z"
      },
      {
        "duration": 60,
        "start_time": "2023-03-20T13:34:15.471Z"
      },
      {
        "duration": 26,
        "start_time": "2023-03-20T13:34:15.534Z"
      },
      {
        "duration": 68,
        "start_time": "2023-03-20T13:34:15.562Z"
      },
      {
        "duration": 54,
        "start_time": "2023-03-20T13:34:15.633Z"
      },
      {
        "duration": 42,
        "start_time": "2023-03-20T13:34:15.693Z"
      },
      {
        "duration": 2752,
        "start_time": "2023-03-20T13:34:15.736Z"
      },
      {
        "duration": 43,
        "start_time": "2023-03-20T13:34:18.492Z"
      },
      {
        "duration": 7,
        "start_time": "2023-03-20T13:34:18.537Z"
      },
      {
        "duration": 22,
        "start_time": "2023-03-20T13:34:18.546Z"
      },
      {
        "duration": 11,
        "start_time": "2023-03-20T13:34:18.570Z"
      },
      {
        "duration": 120,
        "start_time": "2023-03-20T13:34:18.583Z"
      },
      {
        "duration": 10,
        "start_time": "2023-03-20T13:34:18.710Z"
      },
      {
        "duration": 62,
        "start_time": "2023-03-20T13:34:18.722Z"
      },
      {
        "duration": 7,
        "start_time": "2023-03-20T13:34:18.786Z"
      },
      {
        "duration": 49,
        "start_time": "2023-03-20T13:34:18.795Z"
      },
      {
        "duration": 4381,
        "start_time": "2023-03-20T13:34:18.846Z"
      },
      {
        "duration": 14,
        "start_time": "2023-03-20T13:34:23.233Z"
      },
      {
        "duration": 370,
        "start_time": "2023-03-20T13:34:23.249Z"
      },
      {
        "duration": 1387,
        "start_time": "2023-03-20T13:37:02.579Z"
      },
      {
        "duration": 950,
        "start_time": "2023-03-20T13:37:03.970Z"
      },
      {
        "duration": 354,
        "start_time": "2023-03-20T13:37:04.925Z"
      },
      {
        "duration": 71,
        "start_time": "2023-03-20T13:37:05.287Z"
      },
      {
        "duration": 117,
        "start_time": "2023-03-20T13:37:05.360Z"
      },
      {
        "duration": 126,
        "start_time": "2023-03-20T13:37:05.480Z"
      },
      {
        "duration": 58,
        "start_time": "2023-03-20T13:37:05.612Z"
      },
      {
        "duration": 85,
        "start_time": "2023-03-20T13:37:05.673Z"
      },
      {
        "duration": 39,
        "start_time": "2023-03-20T13:37:05.760Z"
      },
      {
        "duration": 106,
        "start_time": "2023-03-20T13:37:05.802Z"
      },
      {
        "duration": 56,
        "start_time": "2023-03-20T13:37:05.910Z"
      },
      {
        "duration": 64,
        "start_time": "2023-03-20T13:37:05.968Z"
      },
      {
        "duration": 82,
        "start_time": "2023-03-20T13:37:06.034Z"
      },
      {
        "duration": 60,
        "start_time": "2023-03-20T13:37:06.118Z"
      },
      {
        "duration": 34,
        "start_time": "2023-03-20T13:37:06.180Z"
      },
      {
        "duration": 4173,
        "start_time": "2023-03-20T13:37:06.228Z"
      },
      {
        "duration": 73,
        "start_time": "2023-03-20T13:37:10.404Z"
      },
      {
        "duration": 108,
        "start_time": "2023-03-20T13:37:10.480Z"
      },
      {
        "duration": 145,
        "start_time": "2023-03-20T13:37:10.591Z"
      },
      {
        "duration": 59,
        "start_time": "2023-03-20T13:37:10.738Z"
      },
      {
        "duration": 168,
        "start_time": "2023-03-20T13:37:10.799Z"
      },
      {
        "duration": 8,
        "start_time": "2023-03-20T13:37:10.969Z"
      },
      {
        "duration": 109,
        "start_time": "2023-03-20T13:37:10.979Z"
      },
      {
        "duration": 11,
        "start_time": "2023-03-20T13:37:11.090Z"
      },
      {
        "duration": 5800,
        "start_time": "2023-03-20T13:37:11.103Z"
      },
      {
        "duration": 21,
        "start_time": "2023-03-20T13:37:16.912Z"
      },
      {
        "duration": 471,
        "start_time": "2023-03-20T13:37:16.935Z"
      },
      {
        "duration": 53,
        "start_time": "2023-03-20T13:41:00.153Z"
      },
      {
        "duration": 60,
        "start_time": "2023-03-20T13:42:48.155Z"
      },
      {
        "duration": 34,
        "start_time": "2023-03-20T13:42:59.937Z"
      },
      {
        "duration": 19,
        "start_time": "2023-03-20T13:44:01.569Z"
      },
      {
        "duration": 1322,
        "start_time": "2023-03-20T13:44:22.963Z"
      },
      {
        "duration": 792,
        "start_time": "2023-03-20T13:44:24.287Z"
      },
      {
        "duration": 265,
        "start_time": "2023-03-20T13:44:25.080Z"
      },
      {
        "duration": 53,
        "start_time": "2023-03-20T13:44:25.347Z"
      },
      {
        "duration": 58,
        "start_time": "2023-03-20T13:44:25.402Z"
      },
      {
        "duration": 111,
        "start_time": "2023-03-20T13:44:25.462Z"
      },
      {
        "duration": 51,
        "start_time": "2023-03-20T13:44:25.574Z"
      },
      {
        "duration": 36,
        "start_time": "2023-03-20T13:44:25.630Z"
      },
      {
        "duration": 6,
        "start_time": "2023-03-20T13:44:25.667Z"
      },
      {
        "duration": 46,
        "start_time": "2023-03-20T13:44:25.676Z"
      },
      {
        "duration": 23,
        "start_time": "2023-03-20T13:44:25.723Z"
      },
      {
        "duration": 28,
        "start_time": "2023-03-20T13:44:25.748Z"
      },
      {
        "duration": 61,
        "start_time": "2023-03-20T13:44:25.778Z"
      },
      {
        "duration": 22,
        "start_time": "2023-03-20T13:44:25.841Z"
      },
      {
        "duration": 2800,
        "start_time": "2023-03-20T13:44:25.865Z"
      },
      {
        "duration": 38,
        "start_time": "2023-03-20T13:44:28.666Z"
      },
      {
        "duration": 15,
        "start_time": "2023-03-20T13:44:28.712Z"
      },
      {
        "duration": 19,
        "start_time": "2023-03-20T13:44:28.730Z"
      },
      {
        "duration": 10,
        "start_time": "2023-03-20T13:44:28.751Z"
      },
      {
        "duration": 76,
        "start_time": "2023-03-20T13:44:28.763Z"
      },
      {
        "duration": 5,
        "start_time": "2023-03-20T13:44:28.840Z"
      },
      {
        "duration": 67,
        "start_time": "2023-03-20T13:44:28.846Z"
      },
      {
        "duration": 140,
        "start_time": "2023-03-20T13:44:28.919Z"
      },
      {
        "duration": 0,
        "start_time": "2023-03-20T13:44:29.062Z"
      },
      {
        "duration": 0,
        "start_time": "2023-03-20T13:44:29.064Z"
      },
      {
        "duration": 0,
        "start_time": "2023-03-20T13:44:29.065Z"
      },
      {
        "duration": 0,
        "start_time": "2023-03-20T13:44:29.067Z"
      },
      {
        "duration": 0,
        "start_time": "2023-03-20T13:44:29.068Z"
      },
      {
        "duration": 1371,
        "start_time": "2023-03-20T13:44:57.021Z"
      },
      {
        "duration": 823,
        "start_time": "2023-03-20T13:44:58.395Z"
      },
      {
        "duration": 313,
        "start_time": "2023-03-20T13:44:59.219Z"
      },
      {
        "duration": 50,
        "start_time": "2023-03-20T13:44:59.537Z"
      },
      {
        "duration": 63,
        "start_time": "2023-03-20T13:44:59.594Z"
      },
      {
        "duration": 96,
        "start_time": "2023-03-20T13:44:59.659Z"
      },
      {
        "duration": 52,
        "start_time": "2023-03-20T13:44:59.757Z"
      },
      {
        "duration": 42,
        "start_time": "2023-03-20T13:44:59.811Z"
      },
      {
        "duration": 6,
        "start_time": "2023-03-20T13:44:59.855Z"
      },
      {
        "duration": 62,
        "start_time": "2023-03-20T13:44:59.862Z"
      },
      {
        "duration": 51,
        "start_time": "2023-03-20T13:44:59.925Z"
      },
      {
        "duration": 49,
        "start_time": "2023-03-20T13:44:59.978Z"
      },
      {
        "duration": 65,
        "start_time": "2023-03-20T13:45:00.031Z"
      },
      {
        "duration": 41,
        "start_time": "2023-03-20T13:45:00.104Z"
      },
      {
        "duration": 2891,
        "start_time": "2023-03-20T13:45:00.147Z"
      },
      {
        "duration": 29,
        "start_time": "2023-03-20T13:45:03.042Z"
      },
      {
        "duration": 19,
        "start_time": "2023-03-20T13:45:03.073Z"
      },
      {
        "duration": 43,
        "start_time": "2023-03-20T13:45:03.100Z"
      },
      {
        "duration": 16,
        "start_time": "2023-03-20T13:45:03.145Z"
      },
      {
        "duration": 87,
        "start_time": "2023-03-20T13:45:03.163Z"
      },
      {
        "duration": 6,
        "start_time": "2023-03-20T13:45:03.251Z"
      },
      {
        "duration": 87,
        "start_time": "2023-03-20T13:45:03.259Z"
      },
      {
        "duration": 178,
        "start_time": "2023-03-20T13:45:03.348Z"
      },
      {
        "duration": 0,
        "start_time": "2023-03-20T13:45:03.532Z"
      },
      {
        "duration": 0,
        "start_time": "2023-03-20T13:45:03.536Z"
      },
      {
        "duration": 0,
        "start_time": "2023-03-20T13:45:03.537Z"
      },
      {
        "duration": 0,
        "start_time": "2023-03-20T13:45:03.539Z"
      },
      {
        "duration": 0,
        "start_time": "2023-03-20T13:45:03.541Z"
      },
      {
        "duration": 45,
        "start_time": "2023-03-20T13:45:23.740Z"
      },
      {
        "duration": 102,
        "start_time": "2023-03-20T13:45:55.521Z"
      },
      {
        "duration": 180,
        "start_time": "2023-03-20T13:46:03.163Z"
      },
      {
        "duration": 292,
        "start_time": "2023-03-20T13:46:31.989Z"
      },
      {
        "duration": 1689,
        "start_time": "2023-03-20T13:47:08.454Z"
      },
      {
        "duration": 988,
        "start_time": "2023-03-20T13:47:10.150Z"
      },
      {
        "duration": 361,
        "start_time": "2023-03-20T13:47:11.148Z"
      },
      {
        "duration": 62,
        "start_time": "2023-03-20T13:47:11.514Z"
      },
      {
        "duration": 133,
        "start_time": "2023-03-20T13:47:11.582Z"
      },
      {
        "duration": 115,
        "start_time": "2023-03-20T13:47:11.720Z"
      },
      {
        "duration": 73,
        "start_time": "2023-03-20T13:47:11.841Z"
      },
      {
        "duration": 70,
        "start_time": "2023-03-20T13:47:11.920Z"
      },
      {
        "duration": 24,
        "start_time": "2023-03-20T13:47:11.996Z"
      },
      {
        "duration": 106,
        "start_time": "2023-03-20T13:47:12.026Z"
      },
      {
        "duration": 148,
        "start_time": "2023-03-20T13:47:12.138Z"
      },
      {
        "duration": 179,
        "start_time": "2023-03-20T13:47:12.289Z"
      },
      {
        "duration": 72,
        "start_time": "2023-03-20T13:47:12.478Z"
      },
      {
        "duration": 61,
        "start_time": "2023-03-20T13:47:12.556Z"
      },
      {
        "duration": 4286,
        "start_time": "2023-03-20T13:47:12.622Z"
      },
      {
        "duration": 59,
        "start_time": "2023-03-20T13:47:16.914Z"
      },
      {
        "duration": 65,
        "start_time": "2023-03-20T13:47:16.980Z"
      },
      {
        "duration": 58,
        "start_time": "2023-03-20T13:47:17.053Z"
      },
      {
        "duration": 130,
        "start_time": "2023-03-20T13:47:17.117Z"
      },
      {
        "duration": 171,
        "start_time": "2023-03-20T13:47:17.253Z"
      },
      {
        "duration": 6,
        "start_time": "2023-03-20T13:47:17.428Z"
      },
      {
        "duration": 228,
        "start_time": "2023-03-20T13:47:17.436Z"
      },
      {
        "duration": 31,
        "start_time": "2023-03-20T13:47:17.670Z"
      },
      {
        "duration": 137,
        "start_time": "2023-03-20T13:47:17.707Z"
      },
      {
        "duration": 148,
        "start_time": "2023-03-20T13:47:17.854Z"
      },
      {
        "duration": 314,
        "start_time": "2023-03-20T13:47:18.012Z"
      },
      {
        "duration": 6468,
        "start_time": "2023-03-20T13:47:18.331Z"
      },
      {
        "duration": 26,
        "start_time": "2023-03-20T13:47:24.803Z"
      },
      {
        "duration": 594,
        "start_time": "2023-03-20T13:47:24.838Z"
      },
      {
        "duration": 200,
        "start_time": "2023-03-20T13:47:33.677Z"
      },
      {
        "duration": 63,
        "start_time": "2023-03-20T13:48:08.421Z"
      },
      {
        "duration": 71,
        "start_time": "2023-03-20T13:48:55.067Z"
      },
      {
        "duration": 17,
        "start_time": "2023-03-20T13:49:45.329Z"
      },
      {
        "duration": 6,
        "start_time": "2023-03-20T13:50:18.874Z"
      },
      {
        "duration": 35,
        "start_time": "2023-03-20T13:50:44.054Z"
      },
      {
        "duration": 61,
        "start_time": "2023-03-20T13:50:53.963Z"
      },
      {
        "duration": 65,
        "start_time": "2023-03-20T13:51:48.243Z"
      },
      {
        "duration": 63,
        "start_time": "2023-03-20T13:52:31.469Z"
      },
      {
        "duration": 73,
        "start_time": "2023-03-20T13:52:57.483Z"
      },
      {
        "duration": 47,
        "start_time": "2023-03-20T13:54:35.135Z"
      },
      {
        "duration": 55,
        "start_time": "2023-03-20T13:54:46.912Z"
      },
      {
        "duration": 53,
        "start_time": "2023-03-20T13:54:55.083Z"
      },
      {
        "duration": 15,
        "start_time": "2023-03-20T13:56:53.651Z"
      },
      {
        "duration": 57,
        "start_time": "2023-03-20T13:57:10.732Z"
      },
      {
        "duration": 1223,
        "start_time": "2023-03-20T13:57:23.521Z"
      },
      {
        "duration": 714,
        "start_time": "2023-03-20T13:57:24.746Z"
      },
      {
        "duration": 274,
        "start_time": "2023-03-20T13:57:25.462Z"
      },
      {
        "duration": 38,
        "start_time": "2023-03-20T13:57:25.738Z"
      },
      {
        "duration": 63,
        "start_time": "2023-03-20T13:57:25.778Z"
      },
      {
        "duration": 89,
        "start_time": "2023-03-20T13:57:25.842Z"
      },
      {
        "duration": 26,
        "start_time": "2023-03-20T13:57:25.932Z"
      },
      {
        "duration": 63,
        "start_time": "2023-03-20T13:57:25.959Z"
      },
      {
        "duration": 9,
        "start_time": "2023-03-20T13:57:26.026Z"
      },
      {
        "duration": 37,
        "start_time": "2023-03-20T13:57:26.036Z"
      },
      {
        "duration": 41,
        "start_time": "2023-03-20T13:57:26.074Z"
      },
      {
        "duration": 40,
        "start_time": "2023-03-20T13:57:26.122Z"
      },
      {
        "duration": 34,
        "start_time": "2023-03-20T13:57:26.164Z"
      },
      {
        "duration": 32,
        "start_time": "2023-03-20T13:57:26.199Z"
      },
      {
        "duration": 2739,
        "start_time": "2023-03-20T13:57:26.233Z"
      },
      {
        "duration": 41,
        "start_time": "2023-03-20T13:57:28.974Z"
      },
      {
        "duration": 9,
        "start_time": "2023-03-20T13:57:29.018Z"
      },
      {
        "duration": 13,
        "start_time": "2023-03-20T13:57:29.029Z"
      },
      {
        "duration": 8,
        "start_time": "2023-03-20T13:57:29.044Z"
      },
      {
        "duration": 87,
        "start_time": "2023-03-20T13:57:29.054Z"
      },
      {
        "duration": 4,
        "start_time": "2023-03-20T13:57:29.143Z"
      },
      {
        "duration": 207,
        "start_time": "2023-03-20T13:57:29.149Z"
      },
      {
        "duration": 61,
        "start_time": "2023-03-20T13:57:29.358Z"
      },
      {
        "duration": 6,
        "start_time": "2023-03-20T13:57:29.421Z"
      },
      {
        "duration": 23,
        "start_time": "2023-03-20T13:57:29.429Z"
      },
      {
        "duration": 1787,
        "start_time": "2023-03-20T13:57:29.454Z"
      },
      {
        "duration": 0,
        "start_time": "2023-03-20T13:57:31.243Z"
      },
      {
        "duration": 57,
        "start_time": "2023-03-20T13:58:26.173Z"
      },
      {
        "duration": 1018,
        "start_time": "2023-03-20T13:58:42.860Z"
      },
      {
        "duration": 127,
        "start_time": "2023-03-20T14:00:26.373Z"
      },
      {
        "duration": 1675,
        "start_time": "2023-03-20T14:00:43.053Z"
      },
      {
        "duration": 1801,
        "start_time": "2023-03-20T14:00:48.086Z"
      },
      {
        "duration": 100,
        "start_time": "2023-03-20T14:01:42.519Z"
      },
      {
        "duration": 44,
        "start_time": "2023-03-20T14:02:10.018Z"
      },
      {
        "duration": 126,
        "start_time": "2023-03-20T14:02:45.367Z"
      },
      {
        "duration": 56,
        "start_time": "2023-03-20T14:02:46.397Z"
      },
      {
        "duration": 1600,
        "start_time": "2023-03-20T14:02:51.660Z"
      },
      {
        "duration": 1006,
        "start_time": "2023-03-20T14:02:53.262Z"
      },
      {
        "duration": 356,
        "start_time": "2023-03-20T14:02:54.270Z"
      },
      {
        "duration": 80,
        "start_time": "2023-03-20T14:02:54.630Z"
      },
      {
        "duration": 62,
        "start_time": "2023-03-20T14:02:54.713Z"
      },
      {
        "duration": 158,
        "start_time": "2023-03-20T14:02:54.778Z"
      },
      {
        "duration": 64,
        "start_time": "2023-03-20T14:02:54.939Z"
      },
      {
        "duration": 58,
        "start_time": "2023-03-20T14:02:55.010Z"
      },
      {
        "duration": 7,
        "start_time": "2023-03-20T14:02:55.075Z"
      },
      {
        "duration": 123,
        "start_time": "2023-03-20T14:02:55.085Z"
      },
      {
        "duration": 57,
        "start_time": "2023-03-20T14:02:55.217Z"
      },
      {
        "duration": 57,
        "start_time": "2023-03-20T14:02:55.276Z"
      },
      {
        "duration": 65,
        "start_time": "2023-03-20T14:02:55.340Z"
      },
      {
        "duration": 83,
        "start_time": "2023-03-20T14:02:55.416Z"
      },
      {
        "duration": 3263,
        "start_time": "2023-03-20T14:02:55.501Z"
      },
      {
        "duration": 47,
        "start_time": "2023-03-20T14:02:58.766Z"
      },
      {
        "duration": 19,
        "start_time": "2023-03-20T14:02:58.819Z"
      },
      {
        "duration": 18,
        "start_time": "2023-03-20T14:02:58.843Z"
      },
      {
        "duration": 14,
        "start_time": "2023-03-20T14:02:58.863Z"
      },
      {
        "duration": 122,
        "start_time": "2023-03-20T14:02:58.878Z"
      },
      {
        "duration": 16,
        "start_time": "2023-03-20T14:02:59.007Z"
      },
      {
        "duration": 102,
        "start_time": "2023-03-20T14:02:59.030Z"
      },
      {
        "duration": 45,
        "start_time": "2023-03-20T14:02:59.135Z"
      },
      {
        "duration": 6,
        "start_time": "2023-03-20T14:02:59.182Z"
      },
      {
        "duration": 63,
        "start_time": "2023-03-20T14:02:59.189Z"
      },
      {
        "duration": 117,
        "start_time": "2023-03-20T14:02:59.254Z"
      },
      {
        "duration": 34,
        "start_time": "2023-03-20T14:02:59.373Z"
      },
      {
        "duration": 211,
        "start_time": "2023-03-20T14:04:12.954Z"
      },
      {
        "duration": 95,
        "start_time": "2023-03-20T14:04:21.681Z"
      },
      {
        "duration": 130,
        "start_time": "2023-03-20T14:04:29.585Z"
      },
      {
        "duration": 70,
        "start_time": "2023-03-20T14:05:13.282Z"
      },
      {
        "duration": 48,
        "start_time": "2023-03-20T14:05:44.257Z"
      },
      {
        "duration": 32,
        "start_time": "2023-03-20T14:05:45.146Z"
      },
      {
        "duration": 98,
        "start_time": "2023-03-20T14:08:26.678Z"
      },
      {
        "duration": 1378,
        "start_time": "2023-03-20T14:08:31.774Z"
      },
      {
        "duration": 733,
        "start_time": "2023-03-20T14:08:33.154Z"
      },
      {
        "duration": 267,
        "start_time": "2023-03-20T14:08:33.889Z"
      },
      {
        "duration": 60,
        "start_time": "2023-03-20T14:08:34.157Z"
      },
      {
        "duration": 57,
        "start_time": "2023-03-20T14:08:34.231Z"
      },
      {
        "duration": 104,
        "start_time": "2023-03-20T14:08:34.291Z"
      },
      {
        "duration": 55,
        "start_time": "2023-03-20T14:08:34.398Z"
      },
      {
        "duration": 62,
        "start_time": "2023-03-20T14:08:34.455Z"
      },
      {
        "duration": 47,
        "start_time": "2023-03-20T14:08:34.522Z"
      },
      {
        "duration": 50,
        "start_time": "2023-03-20T14:08:34.572Z"
      },
      {
        "duration": 34,
        "start_time": "2023-03-20T14:08:34.626Z"
      },
      {
        "duration": 43,
        "start_time": "2023-03-20T14:08:34.663Z"
      },
      {
        "duration": 65,
        "start_time": "2023-03-20T14:08:34.707Z"
      },
      {
        "duration": 39,
        "start_time": "2023-03-20T14:08:34.776Z"
      },
      {
        "duration": 3005,
        "start_time": "2023-03-20T14:08:34.818Z"
      },
      {
        "duration": 40,
        "start_time": "2023-03-20T14:08:37.825Z"
      },
      {
        "duration": 5,
        "start_time": "2023-03-20T14:08:37.867Z"
      },
      {
        "duration": 13,
        "start_time": "2023-03-20T14:08:37.873Z"
      },
      {
        "duration": 9,
        "start_time": "2023-03-20T14:08:37.890Z"
      },
      {
        "duration": 117,
        "start_time": "2023-03-20T14:08:37.901Z"
      },
      {
        "duration": 4,
        "start_time": "2023-03-20T14:08:38.023Z"
      },
      {
        "duration": 53,
        "start_time": "2023-03-20T14:08:38.030Z"
      },
      {
        "duration": 57,
        "start_time": "2023-03-20T14:08:38.085Z"
      },
      {
        "duration": 7,
        "start_time": "2023-03-20T14:08:38.143Z"
      },
      {
        "duration": 15,
        "start_time": "2023-03-20T14:08:38.152Z"
      },
      {
        "duration": 74,
        "start_time": "2023-03-20T14:08:38.192Z"
      },
      {
        "duration": 61,
        "start_time": "2023-03-20T14:08:38.269Z"
      },
      {
        "duration": 46,
        "start_time": "2023-03-20T14:08:38.332Z"
      },
      {
        "duration": 53,
        "start_time": "2023-03-20T14:08:38.391Z"
      },
      {
        "duration": 1510,
        "start_time": "2023-03-20T15:54:16.757Z"
      },
      {
        "duration": 1383,
        "start_time": "2023-03-20T15:54:18.269Z"
      },
      {
        "duration": 246,
        "start_time": "2023-03-20T15:54:22.845Z"
      },
      {
        "duration": 54,
        "start_time": "2023-03-20T15:54:25.432Z"
      },
      {
        "duration": 54,
        "start_time": "2023-03-20T15:54:26.441Z"
      },
      {
        "duration": 78,
        "start_time": "2023-03-20T15:54:28.583Z"
      },
      {
        "duration": 45,
        "start_time": "2023-03-20T15:54:30.238Z"
      },
      {
        "duration": 150,
        "start_time": "2023-03-20T15:54:31.353Z"
      },
      {
        "duration": 76,
        "start_time": "2023-03-20T15:55:43.676Z"
      },
      {
        "duration": 48,
        "start_time": "2023-03-20T15:56:16.232Z"
      },
      {
        "duration": 1259,
        "start_time": "2023-03-20T15:57:15.802Z"
      },
      {
        "duration": 693,
        "start_time": "2023-03-20T15:57:17.063Z"
      },
      {
        "duration": 237,
        "start_time": "2023-03-20T15:57:17.757Z"
      },
      {
        "duration": 62,
        "start_time": "2023-03-20T15:57:17.995Z"
      },
      {
        "duration": 42,
        "start_time": "2023-03-20T15:57:18.059Z"
      },
      {
        "duration": 93,
        "start_time": "2023-03-20T15:57:18.102Z"
      },
      {
        "duration": 26,
        "start_time": "2023-03-20T15:57:18.197Z"
      },
      {
        "duration": 113,
        "start_time": "2023-03-20T15:58:18.069Z"
      },
      {
        "duration": 6,
        "start_time": "2023-03-20T15:58:59.786Z"
      },
      {
        "duration": 5,
        "start_time": "2023-03-20T16:00:04.003Z"
      },
      {
        "duration": 54,
        "start_time": "2023-03-20T16:00:12.868Z"
      },
      {
        "duration": 1511,
        "start_time": "2023-03-21T15:56:56.279Z"
      },
      {
        "duration": 1522,
        "start_time": "2023-03-21T15:56:57.792Z"
      },
      {
        "duration": 225,
        "start_time": "2023-03-21T15:56:59.315Z"
      },
      {
        "duration": 39,
        "start_time": "2023-03-21T15:56:59.542Z"
      },
      {
        "duration": 66,
        "start_time": "2023-03-21T15:56:59.583Z"
      },
      {
        "duration": 91,
        "start_time": "2023-03-21T15:56:59.651Z"
      },
      {
        "duration": 26,
        "start_time": "2023-03-21T15:56:59.744Z"
      },
      {
        "duration": 76,
        "start_time": "2023-03-21T15:56:59.771Z"
      },
      {
        "duration": 26,
        "start_time": "2023-03-21T15:56:59.849Z"
      },
      {
        "duration": 5,
        "start_time": "2023-03-21T15:56:59.877Z"
      },
      {
        "duration": 44,
        "start_time": "2023-03-21T15:56:59.903Z"
      },
      {
        "duration": 21,
        "start_time": "2023-03-21T15:56:59.949Z"
      },
      {
        "duration": 57,
        "start_time": "2023-03-21T15:56:59.972Z"
      },
      {
        "duration": 39,
        "start_time": "2023-03-21T15:57:00.032Z"
      },
      {
        "duration": 20,
        "start_time": "2023-03-21T15:57:00.072Z"
      },
      {
        "duration": 2904,
        "start_time": "2023-03-21T15:57:00.094Z"
      },
      {
        "duration": 35,
        "start_time": "2023-03-21T15:57:02.999Z"
      },
      {
        "duration": 5,
        "start_time": "2023-03-21T15:57:03.036Z"
      },
      {
        "duration": 15,
        "start_time": "2023-03-21T15:57:03.043Z"
      },
      {
        "duration": 6,
        "start_time": "2023-03-21T15:57:03.060Z"
      },
      {
        "duration": 90,
        "start_time": "2023-03-21T15:57:03.068Z"
      },
      {
        "duration": 4,
        "start_time": "2023-03-21T15:57:03.160Z"
      },
      {
        "duration": 71,
        "start_time": "2023-03-21T15:57:03.166Z"
      },
      {
        "duration": 44,
        "start_time": "2023-03-21T15:57:03.239Z"
      },
      {
        "duration": 5,
        "start_time": "2023-03-21T15:57:03.285Z"
      },
      {
        "duration": 42,
        "start_time": "2023-03-21T15:57:03.291Z"
      },
      {
        "duration": 117,
        "start_time": "2023-03-21T15:57:03.335Z"
      },
      {
        "duration": 35,
        "start_time": "2023-03-21T15:57:03.455Z"
      },
      {
        "duration": 47,
        "start_time": "2023-03-21T15:57:03.492Z"
      },
      {
        "duration": 31,
        "start_time": "2023-03-21T15:57:03.541Z"
      },
      {
        "duration": 4,
        "start_time": "2023-03-21T16:02:57.452Z"
      },
      {
        "duration": 836,
        "start_time": "2023-03-21T16:02:57.459Z"
      },
      {
        "duration": 273,
        "start_time": "2023-03-21T16:02:58.297Z"
      },
      {
        "duration": 56,
        "start_time": "2023-03-21T16:02:58.572Z"
      },
      {
        "duration": 59,
        "start_time": "2023-03-21T16:02:58.634Z"
      },
      {
        "duration": 81,
        "start_time": "2023-03-21T16:02:58.695Z"
      },
      {
        "duration": 40,
        "start_time": "2023-03-21T16:02:58.778Z"
      },
      {
        "duration": 69,
        "start_time": "2023-03-21T16:02:58.820Z"
      },
      {
        "duration": 45,
        "start_time": "2023-03-21T16:02:58.891Z"
      },
      {
        "duration": 6,
        "start_time": "2023-03-21T16:02:58.941Z"
      },
      {
        "duration": 27,
        "start_time": "2023-03-21T16:02:58.948Z"
      },
      {
        "duration": 31,
        "start_time": "2023-03-21T16:02:58.977Z"
      },
      {
        "duration": 43,
        "start_time": "2023-03-21T16:02:59.012Z"
      },
      {
        "duration": 17,
        "start_time": "2023-03-21T16:03:34.856Z"
      },
      {
        "duration": 141,
        "start_time": "2023-03-21T16:03:46.791Z"
      },
      {
        "duration": 23,
        "start_time": "2023-03-21T16:03:56.151Z"
      },
      {
        "duration": 22,
        "start_time": "2023-03-21T16:03:58.784Z"
      },
      {
        "duration": 17,
        "start_time": "2023-03-21T16:04:02.436Z"
      },
      {
        "duration": 22,
        "start_time": "2023-03-21T16:04:30.277Z"
      },
      {
        "duration": 22,
        "start_time": "2023-03-21T16:04:42.735Z"
      },
      {
        "duration": 4199,
        "start_time": "2023-03-21T16:05:26.081Z"
      },
      {
        "duration": 4549,
        "start_time": "2023-03-21T16:05:49.192Z"
      },
      {
        "duration": 1422,
        "start_time": "2023-03-22T10:31:51.427Z"
      },
      {
        "duration": 764,
        "start_time": "2023-03-22T10:31:52.851Z"
      },
      {
        "duration": 212,
        "start_time": "2023-03-22T10:31:53.616Z"
      },
      {
        "duration": 35,
        "start_time": "2023-03-22T10:31:53.829Z"
      },
      {
        "duration": 76,
        "start_time": "2023-03-22T10:31:53.867Z"
      },
      {
        "duration": 83,
        "start_time": "2023-03-22T10:31:53.946Z"
      },
      {
        "duration": 25,
        "start_time": "2023-03-22T10:31:54.031Z"
      },
      {
        "duration": 3435,
        "start_time": "2023-03-22T10:31:54.058Z"
      },
      {
        "duration": 6,
        "start_time": "2023-03-22T10:31:57.496Z"
      },
      {
        "duration": 31,
        "start_time": "2023-03-22T10:31:57.503Z"
      },
      {
        "duration": 34,
        "start_time": "2023-03-22T10:31:57.535Z"
      },
      {
        "duration": 49,
        "start_time": "2023-03-22T10:31:57.571Z"
      },
      {
        "duration": 39,
        "start_time": "2023-03-22T10:31:57.622Z"
      },
      {
        "duration": 37,
        "start_time": "2023-03-22T10:31:57.663Z"
      },
      {
        "duration": 2281,
        "start_time": "2023-03-22T10:31:57.702Z"
      },
      {
        "duration": 52,
        "start_time": "2023-03-22T10:31:59.985Z"
      },
      {
        "duration": 4,
        "start_time": "2023-03-22T10:32:00.039Z"
      },
      {
        "duration": 20,
        "start_time": "2023-03-22T10:32:00.045Z"
      },
      {
        "duration": 30,
        "start_time": "2023-03-22T10:32:00.067Z"
      },
      {
        "duration": 83,
        "start_time": "2023-03-22T10:32:00.099Z"
      },
      {
        "duration": 3,
        "start_time": "2023-03-22T10:32:00.184Z"
      },
      {
        "duration": 60,
        "start_time": "2023-03-22T10:32:00.197Z"
      },
      {
        "duration": 40,
        "start_time": "2023-03-22T10:32:00.259Z"
      },
      {
        "duration": 6,
        "start_time": "2023-03-22T10:32:00.300Z"
      },
      {
        "duration": 25,
        "start_time": "2023-03-22T10:34:46.724Z"
      },
      {
        "duration": 61,
        "start_time": "2023-03-22T10:35:05.298Z"
      },
      {
        "duration": 32,
        "start_time": "2023-03-22T10:35:09.045Z"
      },
      {
        "duration": 33,
        "start_time": "2023-03-22T10:35:11.775Z"
      },
      {
        "duration": 40,
        "start_time": "2023-03-22T10:35:14.618Z"
      },
      {
        "duration": 51,
        "start_time": "2023-03-22T10:56:23.886Z"
      },
      {
        "duration": 1104,
        "start_time": "2023-03-22T11:03:45.739Z"
      },
      {
        "duration": 628,
        "start_time": "2023-03-22T11:03:46.845Z"
      },
      {
        "duration": 241,
        "start_time": "2023-03-22T11:03:47.475Z"
      },
      {
        "duration": 38,
        "start_time": "2023-03-22T11:03:47.718Z"
      },
      {
        "duration": 66,
        "start_time": "2023-03-22T11:03:47.759Z"
      },
      {
        "duration": 77,
        "start_time": "2023-03-22T11:03:47.827Z"
      },
      {
        "duration": 24,
        "start_time": "2023-03-22T11:03:47.906Z"
      },
      {
        "duration": 3467,
        "start_time": "2023-03-22T11:03:47.932Z"
      },
      {
        "duration": 8,
        "start_time": "2023-03-22T11:03:51.407Z"
      },
      {
        "duration": 38,
        "start_time": "2023-03-22T11:03:51.417Z"
      },
      {
        "duration": 37,
        "start_time": "2023-03-22T11:03:51.456Z"
      },
      {
        "duration": 19,
        "start_time": "2023-03-22T11:03:51.495Z"
      },
      {
        "duration": 51,
        "start_time": "2023-03-22T11:03:54.329Z"
      },
      {
        "duration": 108,
        "start_time": "2023-03-22T11:04:00.001Z"
      },
      {
        "duration": 12414,
        "start_time": "2023-03-22T11:04:12.109Z"
      },
      {
        "duration": 21,
        "start_time": "2023-03-22T11:04:35.722Z"
      },
      {
        "duration": 2332,
        "start_time": "2023-03-22T11:05:08.351Z"
      },
      {
        "duration": 28,
        "start_time": "2023-03-22T11:05:25.840Z"
      },
      {
        "duration": 98,
        "start_time": "2023-03-22T11:06:03.176Z"
      },
      {
        "duration": 61,
        "start_time": "2023-03-22T11:06:07.970Z"
      },
      {
        "duration": 50,
        "start_time": "2023-03-22T11:06:40.632Z"
      },
      {
        "duration": 50,
        "start_time": "2023-03-22T11:06:56.986Z"
      },
      {
        "duration": 12,
        "start_time": "2023-03-22T11:07:32.901Z"
      },
      {
        "duration": 10,
        "start_time": "2023-03-22T11:07:36.799Z"
      },
      {
        "duration": 16,
        "start_time": "2023-03-22T11:08:07.557Z"
      },
      {
        "duration": 5,
        "start_time": "2023-03-22T11:08:23.637Z"
      },
      {
        "duration": 2414,
        "start_time": "2023-03-22T11:08:33.828Z"
      },
      {
        "duration": 10,
        "start_time": "2023-03-22T11:09:15.022Z"
      },
      {
        "duration": 2196,
        "start_time": "2023-03-22T11:09:23.741Z"
      },
      {
        "duration": 1200,
        "start_time": "2023-03-22T11:10:39.157Z"
      },
      {
        "duration": 620,
        "start_time": "2023-03-22T11:10:40.360Z"
      },
      {
        "duration": 224,
        "start_time": "2023-03-22T11:10:40.982Z"
      },
      {
        "duration": 36,
        "start_time": "2023-03-22T11:10:41.208Z"
      },
      {
        "duration": 52,
        "start_time": "2023-03-22T11:10:41.246Z"
      },
      {
        "duration": 67,
        "start_time": "2023-03-22T11:10:41.300Z"
      },
      {
        "duration": 41,
        "start_time": "2023-03-22T11:10:41.369Z"
      },
      {
        "duration": 3664,
        "start_time": "2023-03-22T11:10:41.412Z"
      },
      {
        "duration": 6,
        "start_time": "2023-03-22T11:10:45.078Z"
      },
      {
        "duration": 35,
        "start_time": "2023-03-22T11:10:45.086Z"
      },
      {
        "duration": 44,
        "start_time": "2023-03-22T11:10:45.123Z"
      },
      {
        "duration": 20,
        "start_time": "2023-03-22T11:10:45.168Z"
      },
      {
        "duration": 13052,
        "start_time": "2023-03-22T11:10:45.190Z"
      },
      {
        "duration": 22,
        "start_time": "2023-03-22T11:10:58.244Z"
      },
      {
        "duration": 2455,
        "start_time": "2023-03-22T11:10:58.268Z"
      },
      {
        "duration": 112,
        "start_time": "2023-03-22T11:11:00.724Z"
      },
      {
        "duration": 0,
        "start_time": "2023-03-22T11:11:00.837Z"
      },
      {
        "duration": 0,
        "start_time": "2023-03-22T11:11:00.838Z"
      },
      {
        "duration": 0,
        "start_time": "2023-03-22T11:11:00.839Z"
      },
      {
        "duration": 0,
        "start_time": "2023-03-22T11:11:00.840Z"
      },
      {
        "duration": 0,
        "start_time": "2023-03-22T11:11:00.842Z"
      },
      {
        "duration": 0,
        "start_time": "2023-03-22T11:11:00.843Z"
      },
      {
        "duration": 0,
        "start_time": "2023-03-22T11:11:00.845Z"
      },
      {
        "duration": 0,
        "start_time": "2023-03-22T11:11:00.846Z"
      },
      {
        "duration": 0,
        "start_time": "2023-03-22T11:11:00.847Z"
      },
      {
        "duration": 0,
        "start_time": "2023-03-22T11:11:00.848Z"
      },
      {
        "duration": 0,
        "start_time": "2023-03-22T11:11:00.850Z"
      },
      {
        "duration": 0,
        "start_time": "2023-03-22T11:11:00.851Z"
      },
      {
        "duration": 5,
        "start_time": "2023-03-22T11:11:37.452Z"
      },
      {
        "duration": 9,
        "start_time": "2023-03-22T11:12:17.826Z"
      },
      {
        "duration": 21,
        "start_time": "2023-03-22T11:12:23.288Z"
      },
      {
        "duration": 20,
        "start_time": "2023-03-22T11:12:35.120Z"
      },
      {
        "duration": 86,
        "start_time": "2023-03-22T11:13:33.196Z"
      },
      {
        "duration": 3,
        "start_time": "2023-03-22T11:13:39.682Z"
      },
      {
        "duration": 50,
        "start_time": "2023-03-22T11:13:42.702Z"
      },
      {
        "duration": 37,
        "start_time": "2023-03-22T11:13:43.379Z"
      },
      {
        "duration": 5,
        "start_time": "2023-03-22T11:13:45.948Z"
      },
      {
        "duration": 85,
        "start_time": "2023-03-22T12:24:52.791Z"
      },
      {
        "duration": 31,
        "start_time": "2023-03-22T12:26:11.290Z"
      },
      {
        "duration": 11,
        "start_time": "2023-03-22T12:26:18.811Z"
      },
      {
        "duration": 51,
        "start_time": "2023-03-22T12:26:38.840Z"
      },
      {
        "duration": 32,
        "start_time": "2023-03-22T12:26:52.301Z"
      },
      {
        "duration": 35,
        "start_time": "2023-03-22T12:26:53.532Z"
      },
      {
        "duration": 42,
        "start_time": "2023-03-22T12:26:57.597Z"
      },
      {
        "duration": 39,
        "start_time": "2023-03-22T12:27:19.892Z"
      },
      {
        "duration": 79,
        "start_time": "2023-03-22T12:27:47.291Z"
      },
      {
        "duration": 36,
        "start_time": "2023-03-22T12:27:51.824Z"
      },
      {
        "duration": 42,
        "start_time": "2023-03-22T12:27:52.890Z"
      },
      {
        "duration": 35,
        "start_time": "2023-03-22T12:27:53.830Z"
      },
      {
        "duration": 48,
        "start_time": "2023-03-22T12:28:02.722Z"
      },
      {
        "duration": 8,
        "start_time": "2023-03-22T12:29:09.290Z"
      },
      {
        "duration": 14,
        "start_time": "2023-03-22T12:29:27.089Z"
      },
      {
        "duration": 39,
        "start_time": "2023-03-22T12:30:27.237Z"
      },
      {
        "duration": 15,
        "start_time": "2023-03-22T12:30:57.841Z"
      },
      {
        "duration": 26,
        "start_time": "2023-03-22T12:31:42.034Z"
      },
      {
        "duration": 48,
        "start_time": "2023-03-22T12:31:48.806Z"
      },
      {
        "duration": 47,
        "start_time": "2023-03-22T12:32:12.124Z"
      },
      {
        "duration": 51,
        "start_time": "2023-03-22T12:32:37.243Z"
      },
      {
        "duration": 772,
        "start_time": "2023-03-22T12:32:39.596Z"
      },
      {
        "duration": 55,
        "start_time": "2023-03-22T12:32:57.360Z"
      },
      {
        "duration": 10,
        "start_time": "2023-03-22T12:33:02.940Z"
      },
      {
        "duration": 48,
        "start_time": "2023-03-22T12:34:18.520Z"
      },
      {
        "duration": 50,
        "start_time": "2023-03-22T12:34:24.173Z"
      },
      {
        "duration": 52,
        "start_time": "2023-03-22T12:34:29.297Z"
      },
      {
        "duration": 22,
        "start_time": "2023-03-22T12:34:38.395Z"
      },
      {
        "duration": 538,
        "start_time": "2023-03-22T12:34:40.824Z"
      },
      {
        "duration": 37,
        "start_time": "2023-03-22T12:42:02.591Z"
      },
      {
        "duration": 88,
        "start_time": "2023-03-22T12:42:14.450Z"
      },
      {
        "duration": 85,
        "start_time": "2023-03-22T12:42:32.012Z"
      },
      {
        "duration": 85,
        "start_time": "2023-03-22T12:48:06.214Z"
      },
      {
        "duration": 1363,
        "start_time": "2023-03-22T12:49:08.621Z"
      },
      {
        "duration": 804,
        "start_time": "2023-03-22T12:49:09.987Z"
      },
      {
        "duration": 283,
        "start_time": "2023-03-22T12:49:10.793Z"
      },
      {
        "duration": 66,
        "start_time": "2023-03-22T12:49:11.078Z"
      },
      {
        "duration": 57,
        "start_time": "2023-03-22T12:49:11.146Z"
      },
      {
        "duration": 77,
        "start_time": "2023-03-22T12:49:11.205Z"
      },
      {
        "duration": 56,
        "start_time": "2023-03-22T12:49:11.284Z"
      },
      {
        "duration": 4292,
        "start_time": "2023-03-22T12:49:11.342Z"
      },
      {
        "duration": 7,
        "start_time": "2023-03-22T12:49:15.636Z"
      },
      {
        "duration": 54,
        "start_time": "2023-03-22T12:49:15.645Z"
      },
      {
        "duration": 34,
        "start_time": "2023-03-22T12:49:15.701Z"
      },
      {
        "duration": 23,
        "start_time": "2023-03-22T12:49:15.737Z"
      },
      {
        "duration": 118,
        "start_time": "2023-03-22T12:49:15.761Z"
      },
      {
        "duration": 15376,
        "start_time": "2023-03-22T12:49:15.883Z"
      },
      {
        "duration": 25,
        "start_time": "2023-03-22T12:49:31.261Z"
      },
      {
        "duration": 2833,
        "start_time": "2023-03-22T12:49:31.298Z"
      },
      {
        "duration": 4,
        "start_time": "2023-03-22T12:49:34.133Z"
      },
      {
        "duration": 34,
        "start_time": "2023-03-22T12:49:34.139Z"
      },
      {
        "duration": 35,
        "start_time": "2023-03-22T12:49:34.176Z"
      },
      {
        "duration": 124,
        "start_time": "2023-03-22T12:49:34.212Z"
      },
      {
        "duration": 3,
        "start_time": "2023-03-22T12:49:34.338Z"
      },
      {
        "duration": 71,
        "start_time": "2023-03-22T12:49:34.343Z"
      },
      {
        "duration": 40,
        "start_time": "2023-03-22T12:49:34.416Z"
      },
      {
        "duration": 7,
        "start_time": "2023-03-22T12:49:34.458Z"
      },
      {
        "duration": 85,
        "start_time": "2023-03-22T12:49:34.467Z"
      },
      {
        "duration": 997,
        "start_time": "2023-03-22T12:49:34.554Z"
      },
      {
        "duration": 0,
        "start_time": "2023-03-22T12:49:35.554Z"
      },
      {
        "duration": 0,
        "start_time": "2023-03-22T12:49:35.555Z"
      },
      {
        "duration": 0,
        "start_time": "2023-03-22T12:49:35.556Z"
      },
      {
        "duration": 0,
        "start_time": "2023-03-22T12:49:35.558Z"
      },
      {
        "duration": 1312,
        "start_time": "2023-03-22T12:50:13.540Z"
      },
      {
        "duration": 706,
        "start_time": "2023-03-22T12:50:14.854Z"
      },
      {
        "duration": 269,
        "start_time": "2023-03-22T12:50:15.562Z"
      },
      {
        "duration": 40,
        "start_time": "2023-03-22T12:50:15.833Z"
      },
      {
        "duration": 77,
        "start_time": "2023-03-22T12:50:15.876Z"
      },
      {
        "duration": 88,
        "start_time": "2023-03-22T12:50:15.956Z"
      },
      {
        "duration": 28,
        "start_time": "2023-03-22T12:50:16.046Z"
      },
      {
        "duration": 3988,
        "start_time": "2023-03-22T12:50:16.077Z"
      },
      {
        "duration": 7,
        "start_time": "2023-03-22T12:50:20.068Z"
      },
      {
        "duration": 86,
        "start_time": "2023-03-22T12:50:20.077Z"
      },
      {
        "duration": 40,
        "start_time": "2023-03-22T12:50:20.165Z"
      },
      {
        "duration": 31,
        "start_time": "2023-03-22T12:50:20.208Z"
      },
      {
        "duration": 85,
        "start_time": "2023-03-22T12:50:23.980Z"
      },
      {
        "duration": 5,
        "start_time": "2023-03-22T12:52:59.220Z"
      },
      {
        "duration": 125,
        "start_time": "2023-03-22T12:53:09.447Z"
      },
      {
        "duration": 106,
        "start_time": "2023-03-22T12:53:15.216Z"
      },
      {
        "duration": 106,
        "start_time": "2023-03-22T12:53:32.383Z"
      },
      {
        "duration": 78,
        "start_time": "2023-03-22T12:54:59.004Z"
      },
      {
        "duration": 80,
        "start_time": "2023-03-22T12:55:11.349Z"
      },
      {
        "duration": 85,
        "start_time": "2023-03-22T12:55:15.587Z"
      },
      {
        "duration": 85,
        "start_time": "2023-03-22T12:55:27.460Z"
      },
      {
        "duration": 81,
        "start_time": "2023-03-22T12:55:43.648Z"
      },
      {
        "duration": 92,
        "start_time": "2023-03-22T12:55:48.492Z"
      },
      {
        "duration": 92,
        "start_time": "2023-03-22T12:55:58.419Z"
      },
      {
        "duration": 66,
        "start_time": "2023-03-22T12:56:04.878Z"
      },
      {
        "duration": 11,
        "start_time": "2023-03-22T12:56:14.274Z"
      },
      {
        "duration": 6,
        "start_time": "2023-03-22T12:56:17.419Z"
      },
      {
        "duration": 13,
        "start_time": "2023-03-22T12:57:25.612Z"
      },
      {
        "duration": 41,
        "start_time": "2023-03-22T12:57:34.047Z"
      },
      {
        "duration": 53,
        "start_time": "2023-03-22T12:57:50.788Z"
      },
      {
        "duration": 49,
        "start_time": "2023-03-22T12:57:54.260Z"
      },
      {
        "duration": 61,
        "start_time": "2023-03-22T12:59:51.530Z"
      },
      {
        "duration": 49,
        "start_time": "2023-03-22T13:00:04.918Z"
      },
      {
        "duration": 68,
        "start_time": "2023-03-22T13:00:08.462Z"
      },
      {
        "duration": 73,
        "start_time": "2023-03-22T13:00:15.871Z"
      },
      {
        "duration": 1036,
        "start_time": "2023-03-22T13:03:09.552Z"
      },
      {
        "duration": 17,
        "start_time": "2023-03-22T13:04:06.724Z"
      },
      {
        "duration": 55,
        "start_time": "2023-03-22T13:04:16.256Z"
      },
      {
        "duration": 341,
        "start_time": "2023-03-22T13:04:50.927Z"
      },
      {
        "duration": 551,
        "start_time": "2023-03-22T13:05:00.315Z"
      },
      {
        "duration": 62,
        "start_time": "2023-03-22T13:05:53.767Z"
      },
      {
        "duration": 52,
        "start_time": "2023-03-22T13:05:58.964Z"
      },
      {
        "duration": 10,
        "start_time": "2023-03-22T13:08:21.555Z"
      },
      {
        "duration": 92,
        "start_time": "2023-03-22T13:08:33.700Z"
      },
      {
        "duration": 101,
        "start_time": "2023-03-22T13:08:50.525Z"
      },
      {
        "duration": 80,
        "start_time": "2023-03-22T13:09:21.035Z"
      },
      {
        "duration": 92,
        "start_time": "2023-03-22T13:09:40.719Z"
      },
      {
        "duration": 80,
        "start_time": "2023-03-22T13:10:08.098Z"
      },
      {
        "duration": 12,
        "start_time": "2023-03-22T13:10:26.211Z"
      },
      {
        "duration": 97,
        "start_time": "2023-03-22T13:10:37.232Z"
      },
      {
        "duration": 123,
        "start_time": "2023-03-22T13:10:46.315Z"
      },
      {
        "duration": 158,
        "start_time": "2023-03-22T13:11:17.775Z"
      },
      {
        "duration": 128,
        "start_time": "2023-03-22T13:11:26.186Z"
      },
      {
        "duration": 84,
        "start_time": "2023-03-22T13:12:04.525Z"
      },
      {
        "duration": 73,
        "start_time": "2023-03-22T13:12:11.250Z"
      },
      {
        "duration": 393,
        "start_time": "2023-03-22T13:13:32.008Z"
      },
      {
        "duration": 66,
        "start_time": "2023-03-22T13:13:41.497Z"
      },
      {
        "duration": 61,
        "start_time": "2023-03-22T13:14:25.228Z"
      },
      {
        "duration": 72,
        "start_time": "2023-03-22T13:14:29.736Z"
      },
      {
        "duration": 2746,
        "start_time": "2023-03-22T13:15:05.033Z"
      },
      {
        "duration": 74,
        "start_time": "2023-03-22T13:15:21.749Z"
      },
      {
        "duration": 25,
        "start_time": "2023-03-22T13:16:23.536Z"
      },
      {
        "duration": 18,
        "start_time": "2023-03-22T13:16:54.077Z"
      },
      {
        "duration": 88,
        "start_time": "2023-03-22T13:18:20.173Z"
      },
      {
        "duration": 5313,
        "start_time": "2023-03-22T13:18:25.971Z"
      },
      {
        "duration": 891,
        "start_time": "2023-03-22T13:18:31.286Z"
      },
      {
        "duration": 259,
        "start_time": "2023-03-22T13:18:32.178Z"
      },
      {
        "duration": 69,
        "start_time": "2023-03-22T13:18:32.439Z"
      },
      {
        "duration": 53,
        "start_time": "2023-03-22T13:18:32.512Z"
      },
      {
        "duration": 105,
        "start_time": "2023-03-22T13:18:32.567Z"
      },
      {
        "duration": 44,
        "start_time": "2023-03-22T13:18:32.674Z"
      },
      {
        "duration": 3838,
        "start_time": "2023-03-22T13:18:32.720Z"
      },
      {
        "duration": 7,
        "start_time": "2023-03-22T13:18:36.560Z"
      },
      {
        "duration": 47,
        "start_time": "2023-03-22T13:18:36.569Z"
      },
      {
        "duration": 29,
        "start_time": "2023-03-22T13:18:36.618Z"
      },
      {
        "duration": 20,
        "start_time": "2023-03-22T13:18:36.649Z"
      },
      {
        "duration": 6230,
        "start_time": "2023-03-22T13:19:13.263Z"
      },
      {
        "duration": 875,
        "start_time": "2023-03-22T13:19:19.495Z"
      },
      {
        "duration": 274,
        "start_time": "2023-03-22T13:19:20.372Z"
      },
      {
        "duration": 66,
        "start_time": "2023-03-22T13:19:20.648Z"
      },
      {
        "duration": 47,
        "start_time": "2023-03-22T13:19:20.717Z"
      },
      {
        "duration": 98,
        "start_time": "2023-03-22T13:19:20.766Z"
      },
      {
        "duration": 39,
        "start_time": "2023-03-22T13:19:20.866Z"
      },
      {
        "duration": 4000,
        "start_time": "2023-03-22T13:19:20.907Z"
      },
      {
        "duration": 8,
        "start_time": "2023-03-22T13:19:24.909Z"
      },
      {
        "duration": 39,
        "start_time": "2023-03-22T13:19:24.919Z"
      },
      {
        "duration": 40,
        "start_time": "2023-03-22T13:19:24.960Z"
      },
      {
        "duration": 25,
        "start_time": "2023-03-22T13:19:25.003Z"
      },
      {
        "duration": 90,
        "start_time": "2023-03-22T13:19:25.030Z"
      },
      {
        "duration": 20,
        "start_time": "2023-03-22T13:19:25.122Z"
      },
      {
        "duration": 7,
        "start_time": "2023-03-22T13:20:28.827Z"
      },
      {
        "duration": 2632,
        "start_time": "2023-03-22T13:21:27.512Z"
      },
      {
        "duration": 1347,
        "start_time": "2023-03-22T13:24:54.716Z"
      },
      {
        "duration": 706,
        "start_time": "2023-03-22T13:24:56.065Z"
      },
      {
        "duration": 271,
        "start_time": "2023-03-22T13:24:56.773Z"
      },
      {
        "duration": 63,
        "start_time": "2023-03-22T13:24:57.046Z"
      },
      {
        "duration": 47,
        "start_time": "2023-03-22T13:24:57.113Z"
      },
      {
        "duration": 103,
        "start_time": "2023-03-22T13:24:57.162Z"
      },
      {
        "duration": 35,
        "start_time": "2023-03-22T13:24:57.267Z"
      },
      {
        "duration": 3861,
        "start_time": "2023-03-22T13:24:57.304Z"
      },
      {
        "duration": 6,
        "start_time": "2023-03-22T13:25:01.167Z"
      },
      {
        "duration": 65,
        "start_time": "2023-03-22T13:25:01.175Z"
      },
      {
        "duration": 76,
        "start_time": "2023-03-22T13:25:01.242Z"
      },
      {
        "duration": 33,
        "start_time": "2023-03-22T13:25:01.320Z"
      },
      {
        "duration": 122,
        "start_time": "2023-03-22T13:25:01.355Z"
      },
      {
        "duration": 33,
        "start_time": "2023-03-22T13:25:01.480Z"
      },
      {
        "duration": 26,
        "start_time": "2023-03-22T13:25:01.515Z"
      },
      {
        "duration": 153,
        "start_time": "2023-03-22T13:25:10.723Z"
      },
      {
        "duration": 62,
        "start_time": "2023-03-22T13:25:27.196Z"
      },
      {
        "duration": 73,
        "start_time": "2023-03-22T13:25:54.200Z"
      },
      {
        "duration": 51,
        "start_time": "2023-03-22T13:26:02.882Z"
      },
      {
        "duration": 55,
        "start_time": "2023-03-22T13:26:14.267Z"
      },
      {
        "duration": 101,
        "start_time": "2023-03-22T13:26:28.686Z"
      },
      {
        "duration": 113,
        "start_time": "2023-03-22T13:26:50.014Z"
      },
      {
        "duration": 121,
        "start_time": "2023-03-22T13:27:27.512Z"
      },
      {
        "duration": 133,
        "start_time": "2023-03-22T13:27:47.145Z"
      },
      {
        "duration": 119,
        "start_time": "2023-03-22T13:29:18.162Z"
      },
      {
        "duration": 57,
        "start_time": "2023-03-22T13:29:41.747Z"
      },
      {
        "duration": 56,
        "start_time": "2023-03-22T13:29:47.159Z"
      },
      {
        "duration": 117,
        "start_time": "2023-03-22T13:29:50.862Z"
      },
      {
        "duration": 672,
        "start_time": "2023-03-22T13:30:25.513Z"
      },
      {
        "duration": 113,
        "start_time": "2023-03-22T13:31:34.555Z"
      },
      {
        "duration": 115,
        "start_time": "2023-03-22T13:31:49.625Z"
      },
      {
        "duration": 63,
        "start_time": "2023-03-22T13:32:01.682Z"
      },
      {
        "duration": 109,
        "start_time": "2023-03-22T13:32:26.124Z"
      },
      {
        "duration": 117,
        "start_time": "2023-03-22T13:33:03.850Z"
      },
      {
        "duration": 150,
        "start_time": "2023-03-22T13:33:38.921Z"
      },
      {
        "duration": 401,
        "start_time": "2023-03-22T13:34:06.347Z"
      },
      {
        "duration": 146,
        "start_time": "2023-03-22T13:34:17.347Z"
      },
      {
        "duration": 185,
        "start_time": "2023-03-22T13:35:00.534Z"
      },
      {
        "duration": 353,
        "start_time": "2023-03-22T13:36:33.039Z"
      },
      {
        "duration": 125,
        "start_time": "2023-03-22T13:37:18.355Z"
      },
      {
        "duration": 524,
        "start_time": "2023-03-22T13:37:33.679Z"
      },
      {
        "duration": 376,
        "start_time": "2023-03-22T13:39:07.119Z"
      },
      {
        "duration": 58,
        "start_time": "2023-03-22T13:39:24.456Z"
      },
      {
        "duration": 115,
        "start_time": "2023-03-22T13:39:54.120Z"
      },
      {
        "duration": 119,
        "start_time": "2023-03-22T13:40:01.150Z"
      },
      {
        "duration": 3154,
        "start_time": "2023-03-22T13:40:39.034Z"
      },
      {
        "duration": 3240,
        "start_time": "2023-03-22T13:41:03.699Z"
      },
      {
        "duration": 3355,
        "start_time": "2023-03-22T13:41:18.886Z"
      },
      {
        "duration": 114,
        "start_time": "2023-03-22T13:41:35.269Z"
      },
      {
        "duration": 114,
        "start_time": "2023-03-22T13:41:49.559Z"
      },
      {
        "duration": 2169,
        "start_time": "2023-03-22T13:41:53.151Z"
      },
      {
        "duration": 121,
        "start_time": "2023-03-22T13:42:00.357Z"
      },
      {
        "duration": 1282,
        "start_time": "2023-03-22T13:42:15.067Z"
      },
      {
        "duration": 125,
        "start_time": "2023-03-22T13:42:25.496Z"
      },
      {
        "duration": 124,
        "start_time": "2023-03-22T13:42:46.219Z"
      },
      {
        "duration": 136,
        "start_time": "2023-03-22T13:42:51.788Z"
      },
      {
        "duration": 121,
        "start_time": "2023-03-22T13:43:43.534Z"
      },
      {
        "duration": 123,
        "start_time": "2023-03-22T13:43:55.927Z"
      },
      {
        "duration": 129,
        "start_time": "2023-03-22T13:44:15.325Z"
      },
      {
        "duration": 138,
        "start_time": "2023-03-22T13:44:19.760Z"
      },
      {
        "duration": 124,
        "start_time": "2023-03-22T13:44:58.925Z"
      },
      {
        "duration": 133,
        "start_time": "2023-03-22T13:45:03.819Z"
      },
      {
        "duration": 124,
        "start_time": "2023-03-22T13:45:37.150Z"
      },
      {
        "duration": 139,
        "start_time": "2023-03-22T13:45:40.521Z"
      },
      {
        "duration": 1003,
        "start_time": "2023-03-22T13:45:51.387Z"
      },
      {
        "duration": 164,
        "start_time": "2023-03-22T13:46:05.289Z"
      },
      {
        "duration": 157,
        "start_time": "2023-03-22T13:46:20.476Z"
      },
      {
        "duration": 117,
        "start_time": "2023-03-22T13:47:02.341Z"
      },
      {
        "duration": 128,
        "start_time": "2023-03-22T13:47:16.419Z"
      },
      {
        "duration": 129,
        "start_time": "2023-03-22T13:47:36.117Z"
      },
      {
        "duration": 1062,
        "start_time": "2023-03-22T13:47:48.889Z"
      },
      {
        "duration": 1735,
        "start_time": "2023-03-22T13:48:05.660Z"
      },
      {
        "duration": 136,
        "start_time": "2023-03-22T13:48:17.786Z"
      },
      {
        "duration": 117,
        "start_time": "2023-03-22T13:48:23.024Z"
      },
      {
        "duration": 110,
        "start_time": "2023-03-22T13:48:33.836Z"
      },
      {
        "duration": 112,
        "start_time": "2023-03-22T13:48:45.327Z"
      },
      {
        "duration": 111,
        "start_time": "2023-03-22T13:49:41.763Z"
      },
      {
        "duration": 110,
        "start_time": "2023-03-22T13:50:05.982Z"
      },
      {
        "duration": 59,
        "start_time": "2023-03-22T13:50:15.363Z"
      },
      {
        "duration": 135,
        "start_time": "2023-03-22T13:50:40.474Z"
      },
      {
        "duration": 126,
        "start_time": "2023-03-22T13:50:44.279Z"
      },
      {
        "duration": 114,
        "start_time": "2023-03-22T13:50:56.888Z"
      },
      {
        "duration": 114,
        "start_time": "2023-03-22T13:51:39.724Z"
      },
      {
        "duration": 129,
        "start_time": "2023-03-22T13:51:45.778Z"
      },
      {
        "duration": 117,
        "start_time": "2023-03-22T13:51:58.037Z"
      },
      {
        "duration": 1648,
        "start_time": "2023-03-22T13:52:22.659Z"
      },
      {
        "duration": 1239,
        "start_time": "2023-03-22T13:52:26.945Z"
      },
      {
        "duration": 118,
        "start_time": "2023-03-22T13:53:14.747Z"
      },
      {
        "duration": 114,
        "start_time": "2023-03-22T13:53:23.143Z"
      },
      {
        "duration": 117,
        "start_time": "2023-03-22T13:53:43.485Z"
      },
      {
        "duration": 118,
        "start_time": "2023-03-22T13:54:05.455Z"
      },
      {
        "duration": 109,
        "start_time": "2023-03-22T13:57:28.328Z"
      },
      {
        "duration": 111,
        "start_time": "2023-03-22T13:57:43.782Z"
      },
      {
        "duration": 101,
        "start_time": "2023-03-22T13:58:03.132Z"
      },
      {
        "duration": 132,
        "start_time": "2023-03-22T13:58:07.877Z"
      },
      {
        "duration": 1327,
        "start_time": "2023-03-22T13:58:28.876Z"
      },
      {
        "duration": 114,
        "start_time": "2023-03-22T13:58:36.069Z"
      },
      {
        "duration": 138,
        "start_time": "2023-03-22T13:58:55.327Z"
      },
      {
        "duration": 177,
        "start_time": "2023-03-22T13:59:12.691Z"
      },
      {
        "duration": 148,
        "start_time": "2023-03-22T14:02:15.339Z"
      },
      {
        "duration": 130,
        "start_time": "2023-03-22T14:03:19.360Z"
      },
      {
        "duration": 123,
        "start_time": "2023-03-22T14:03:46.327Z"
      },
      {
        "duration": 1398,
        "start_time": "2023-03-22T14:04:03.878Z"
      },
      {
        "duration": 930,
        "start_time": "2023-03-22T14:04:05.279Z"
      },
      {
        "duration": 291,
        "start_time": "2023-03-22T14:04:06.212Z"
      },
      {
        "duration": 58,
        "start_time": "2023-03-22T14:04:06.506Z"
      },
      {
        "duration": 85,
        "start_time": "2023-03-22T14:04:06.566Z"
      },
      {
        "duration": 115,
        "start_time": "2023-03-22T14:04:06.653Z"
      },
      {
        "duration": 53,
        "start_time": "2023-03-22T14:04:06.771Z"
      },
      {
        "duration": 5024,
        "start_time": "2023-03-22T14:04:06.827Z"
      },
      {
        "duration": 14,
        "start_time": "2023-03-22T14:04:11.854Z"
      },
      {
        "duration": 67,
        "start_time": "2023-03-22T14:04:11.871Z"
      },
      {
        "duration": 34,
        "start_time": "2023-03-22T14:04:11.941Z"
      },
      {
        "duration": 44,
        "start_time": "2023-03-22T14:04:11.977Z"
      },
      {
        "duration": 106,
        "start_time": "2023-03-22T14:04:12.025Z"
      },
      {
        "duration": 39,
        "start_time": "2023-03-22T14:04:12.134Z"
      },
      {
        "duration": 24,
        "start_time": "2023-03-22T14:04:12.175Z"
      },
      {
        "duration": 169,
        "start_time": "2023-03-22T14:04:15.630Z"
      },
      {
        "duration": 126,
        "start_time": "2023-03-22T14:05:06.948Z"
      },
      {
        "duration": 249,
        "start_time": "2023-03-22T14:05:22.124Z"
      },
      {
        "duration": 150,
        "start_time": "2023-03-22T14:05:55.390Z"
      },
      {
        "duration": 134,
        "start_time": "2023-03-22T14:06:08.822Z"
      },
      {
        "duration": 1385,
        "start_time": "2023-03-22T14:06:17.531Z"
      },
      {
        "duration": 753,
        "start_time": "2023-03-22T14:06:18.920Z"
      },
      {
        "duration": 324,
        "start_time": "2023-03-22T14:06:19.675Z"
      },
      {
        "duration": 58,
        "start_time": "2023-03-22T14:06:20.000Z"
      },
      {
        "duration": 72,
        "start_time": "2023-03-22T14:06:20.061Z"
      },
      {
        "duration": 111,
        "start_time": "2023-03-22T14:06:20.136Z"
      },
      {
        "duration": 30,
        "start_time": "2023-03-22T14:06:20.249Z"
      },
      {
        "duration": 4552,
        "start_time": "2023-03-22T14:06:20.282Z"
      },
      {
        "duration": 9,
        "start_time": "2023-03-22T14:06:24.836Z"
      },
      {
        "duration": 51,
        "start_time": "2023-03-22T14:06:24.848Z"
      },
      {
        "duration": 39,
        "start_time": "2023-03-22T14:06:24.901Z"
      },
      {
        "duration": 33,
        "start_time": "2023-03-22T14:06:24.942Z"
      },
      {
        "duration": 93,
        "start_time": "2023-03-22T14:06:24.977Z"
      },
      {
        "duration": 33,
        "start_time": "2023-03-22T14:06:25.074Z"
      },
      {
        "duration": 31,
        "start_time": "2023-03-22T14:06:25.112Z"
      },
      {
        "duration": 152,
        "start_time": "2023-03-22T14:06:25.144Z"
      },
      {
        "duration": 123,
        "start_time": "2023-03-22T14:06:36.030Z"
      },
      {
        "duration": 1439,
        "start_time": "2023-03-22T14:08:28.635Z"
      },
      {
        "duration": 824,
        "start_time": "2023-03-22T14:08:30.076Z"
      },
      {
        "duration": 308,
        "start_time": "2023-03-22T14:08:30.903Z"
      },
      {
        "duration": 61,
        "start_time": "2023-03-22T14:08:31.215Z"
      },
      {
        "duration": 92,
        "start_time": "2023-03-22T14:08:31.279Z"
      },
      {
        "duration": 95,
        "start_time": "2023-03-22T14:08:31.373Z"
      },
      {
        "duration": 44,
        "start_time": "2023-03-22T14:08:31.470Z"
      },
      {
        "duration": 4864,
        "start_time": "2023-03-22T14:08:31.516Z"
      },
      {
        "duration": 21,
        "start_time": "2023-03-22T14:08:36.382Z"
      },
      {
        "duration": 112,
        "start_time": "2023-03-22T14:08:36.407Z"
      },
      {
        "duration": 135,
        "start_time": "2023-03-22T14:08:36.521Z"
      },
      {
        "duration": 35,
        "start_time": "2023-03-22T14:08:36.659Z"
      },
      {
        "duration": 105,
        "start_time": "2023-03-22T14:08:36.697Z"
      },
      {
        "duration": 32,
        "start_time": "2023-03-22T14:08:36.805Z"
      },
      {
        "duration": 31,
        "start_time": "2023-03-22T14:08:36.839Z"
      },
      {
        "duration": 403,
        "start_time": "2023-03-22T14:08:36.872Z"
      },
      {
        "duration": 125,
        "start_time": "2023-03-22T14:08:55.517Z"
      },
      {
        "duration": 142,
        "start_time": "2023-03-22T14:08:59.837Z"
      },
      {
        "duration": 206,
        "start_time": "2023-03-22T14:10:12.747Z"
      },
      {
        "duration": 202,
        "start_time": "2023-03-22T14:10:46.350Z"
      },
      {
        "duration": 169,
        "start_time": "2023-03-22T14:11:33.866Z"
      },
      {
        "duration": 163,
        "start_time": "2023-03-22T14:11:50.229Z"
      },
      {
        "duration": 6,
        "start_time": "2023-03-22T14:12:29.994Z"
      },
      {
        "duration": 19,
        "start_time": "2023-03-22T14:12:36.243Z"
      },
      {
        "duration": 29,
        "start_time": "2023-03-22T14:13:55.095Z"
      },
      {
        "duration": 12,
        "start_time": "2023-03-22T14:16:05.659Z"
      },
      {
        "duration": 14,
        "start_time": "2023-03-22T14:17:39.554Z"
      },
      {
        "duration": 6,
        "start_time": "2023-03-22T14:18:43.653Z"
      },
      {
        "duration": 15,
        "start_time": "2023-03-22T14:18:51.776Z"
      },
      {
        "duration": 5,
        "start_time": "2023-03-22T14:19:00.867Z"
      },
      {
        "duration": 14,
        "start_time": "2023-03-22T14:19:03.142Z"
      },
      {
        "duration": 11,
        "start_time": "2023-03-22T14:19:14.382Z"
      },
      {
        "duration": 18,
        "start_time": "2023-03-22T14:19:49.446Z"
      },
      {
        "duration": 10,
        "start_time": "2023-03-22T14:20:03.145Z"
      },
      {
        "duration": 7,
        "start_time": "2023-03-22T14:20:03.680Z"
      },
      {
        "duration": 11,
        "start_time": "2023-03-22T14:21:33.354Z"
      },
      {
        "duration": 97,
        "start_time": "2023-03-22T14:42:04.873Z"
      },
      {
        "duration": 114,
        "start_time": "2023-03-22T14:42:11.493Z"
      },
      {
        "duration": 106,
        "start_time": "2023-03-22T14:42:36.581Z"
      },
      {
        "duration": 110,
        "start_time": "2023-03-22T14:42:46.394Z"
      },
      {
        "duration": 316,
        "start_time": "2023-03-22T14:44:03.279Z"
      },
      {
        "duration": 112,
        "start_time": "2023-03-22T14:44:08.798Z"
      },
      {
        "duration": 111,
        "start_time": "2023-03-22T14:44:19.722Z"
      },
      {
        "duration": 101,
        "start_time": "2023-03-22T14:45:24.756Z"
      },
      {
        "duration": 1420,
        "start_time": "2023-03-22T14:48:22.893Z"
      },
      {
        "duration": 796,
        "start_time": "2023-03-22T14:48:24.317Z"
      },
      {
        "duration": 322,
        "start_time": "2023-03-22T14:48:25.115Z"
      },
      {
        "duration": 45,
        "start_time": "2023-03-22T14:48:25.440Z"
      },
      {
        "duration": 78,
        "start_time": "2023-03-22T14:48:25.487Z"
      },
      {
        "duration": 114,
        "start_time": "2023-03-22T14:48:25.567Z"
      },
      {
        "duration": 62,
        "start_time": "2023-03-22T14:48:25.683Z"
      },
      {
        "duration": 4219,
        "start_time": "2023-03-22T14:48:25.748Z"
      },
      {
        "duration": 6,
        "start_time": "2023-03-22T14:48:29.969Z"
      },
      {
        "duration": 51,
        "start_time": "2023-03-22T14:48:29.977Z"
      },
      {
        "duration": 50,
        "start_time": "2023-03-22T14:48:30.031Z"
      },
      {
        "duration": 28,
        "start_time": "2023-03-22T14:48:30.083Z"
      },
      {
        "duration": 111,
        "start_time": "2023-03-22T14:48:30.115Z"
      },
      {
        "duration": 28,
        "start_time": "2023-03-22T14:48:30.227Z"
      },
      {
        "duration": 88,
        "start_time": "2023-03-22T14:48:30.257Z"
      },
      {
        "duration": 180,
        "start_time": "2023-03-22T14:48:30.347Z"
      },
      {
        "duration": 14,
        "start_time": "2023-03-22T14:48:30.529Z"
      },
      {
        "duration": 37,
        "start_time": "2023-03-22T14:48:30.547Z"
      },
      {
        "duration": 65,
        "start_time": "2023-03-22T14:48:30.586Z"
      },
      {
        "duration": 118,
        "start_time": "2023-03-22T14:48:30.653Z"
      },
      {
        "duration": 4,
        "start_time": "2023-03-22T14:48:30.773Z"
      },
      {
        "duration": 96,
        "start_time": "2023-03-22T14:48:30.779Z"
      },
      {
        "duration": 70,
        "start_time": "2023-03-22T14:48:30.877Z"
      },
      {
        "duration": 23,
        "start_time": "2023-03-22T14:48:30.949Z"
      },
      {
        "duration": 193,
        "start_time": "2023-03-22T14:48:30.974Z"
      },
      {
        "duration": 9,
        "start_time": "2023-03-22T14:48:31.169Z"
      },
      {
        "duration": 16,
        "start_time": "2023-03-22T14:48:43.019Z"
      },
      {
        "duration": 7,
        "start_time": "2023-03-22T14:48:43.962Z"
      },
      {
        "duration": 6,
        "start_time": "2023-03-22T14:48:44.477Z"
      },
      {
        "duration": 112,
        "start_time": "2023-03-22T14:49:14.330Z"
      },
      {
        "duration": 122,
        "start_time": "2023-03-22T14:49:22.330Z"
      },
      {
        "duration": 123,
        "start_time": "2023-03-22T14:49:43.227Z"
      },
      {
        "duration": 7,
        "start_time": "2023-03-22T14:49:59.057Z"
      },
      {
        "duration": 5,
        "start_time": "2023-03-22T14:51:05.454Z"
      },
      {
        "duration": 1345,
        "start_time": "2023-03-22T14:51:44.477Z"
      },
      {
        "duration": 781,
        "start_time": "2023-03-22T14:51:45.826Z"
      },
      {
        "duration": 308,
        "start_time": "2023-03-22T14:51:46.610Z"
      },
      {
        "duration": 50,
        "start_time": "2023-03-22T14:51:46.920Z"
      },
      {
        "duration": 64,
        "start_time": "2023-03-22T14:51:46.972Z"
      },
      {
        "duration": 103,
        "start_time": "2023-03-22T14:51:47.038Z"
      },
      {
        "duration": 26,
        "start_time": "2023-03-22T14:51:47.143Z"
      },
      {
        "duration": 4311,
        "start_time": "2023-03-22T14:51:47.171Z"
      },
      {
        "duration": 22,
        "start_time": "2023-03-22T14:51:51.483Z"
      },
      {
        "duration": 56,
        "start_time": "2023-03-22T14:51:51.509Z"
      },
      {
        "duration": 26,
        "start_time": "2023-03-22T14:51:51.567Z"
      },
      {
        "duration": 34,
        "start_time": "2023-03-22T14:51:51.595Z"
      },
      {
        "duration": 121,
        "start_time": "2023-03-22T14:51:51.631Z"
      },
      {
        "duration": 27,
        "start_time": "2023-03-22T14:51:51.754Z"
      },
      {
        "duration": 76,
        "start_time": "2023-03-22T14:51:51.783Z"
      },
      {
        "duration": 162,
        "start_time": "2023-03-22T14:51:51.862Z"
      },
      {
        "duration": 5,
        "start_time": "2023-03-22T14:51:52.027Z"
      },
      {
        "duration": 13,
        "start_time": "2023-03-22T14:51:52.034Z"
      },
      {
        "duration": 15,
        "start_time": "2023-03-22T14:51:52.049Z"
      },
      {
        "duration": 91,
        "start_time": "2023-03-22T14:51:52.066Z"
      },
      {
        "duration": 5,
        "start_time": "2023-03-22T14:51:52.159Z"
      },
      {
        "duration": 80,
        "start_time": "2023-03-22T14:51:52.166Z"
      },
      {
        "duration": 50,
        "start_time": "2023-03-22T14:51:52.248Z"
      },
      {
        "duration": 14,
        "start_time": "2023-03-22T14:51:52.303Z"
      },
      {
        "duration": 140,
        "start_time": "2023-03-22T14:51:52.326Z"
      },
      {
        "duration": 10,
        "start_time": "2023-03-22T14:51:52.468Z"
      },
      {
        "duration": 27,
        "start_time": "2023-03-22T14:51:52.480Z"
      },
      {
        "duration": 43,
        "start_time": "2023-03-22T14:51:52.510Z"
      },
      {
        "duration": 16,
        "start_time": "2023-03-22T14:51:52.555Z"
      },
      {
        "duration": 144,
        "start_time": "2023-03-22T14:55:16.428Z"
      },
      {
        "duration": 10,
        "start_time": "2023-03-22T14:55:21.127Z"
      },
      {
        "duration": 34,
        "start_time": "2023-03-22T14:55:44.203Z"
      },
      {
        "duration": 35,
        "start_time": "2023-03-22T14:55:58.688Z"
      },
      {
        "duration": 20,
        "start_time": "2023-03-22T14:56:15.046Z"
      },
      {
        "duration": 15,
        "start_time": "2023-03-22T14:56:23.267Z"
      },
      {
        "duration": 75,
        "start_time": "2023-03-22T14:57:52.758Z"
      },
      {
        "duration": 1361,
        "start_time": "2023-03-22T14:58:15.067Z"
      },
      {
        "duration": 763,
        "start_time": "2023-03-22T14:58:16.431Z"
      },
      {
        "duration": 265,
        "start_time": "2023-03-22T14:58:17.217Z"
      },
      {
        "duration": 59,
        "start_time": "2023-03-22T14:58:17.496Z"
      },
      {
        "duration": 64,
        "start_time": "2023-03-22T14:58:17.556Z"
      },
      {
        "duration": 96,
        "start_time": "2023-03-22T14:58:17.622Z"
      },
      {
        "duration": 35,
        "start_time": "2023-03-22T14:58:17.719Z"
      },
      {
        "duration": 4137,
        "start_time": "2023-03-22T14:58:17.756Z"
      },
      {
        "duration": 14,
        "start_time": "2023-03-22T14:58:21.894Z"
      },
      {
        "duration": 78,
        "start_time": "2023-03-22T14:58:21.912Z"
      },
      {
        "duration": 65,
        "start_time": "2023-03-22T14:58:21.991Z"
      },
      {
        "duration": 25,
        "start_time": "2023-03-22T14:58:22.058Z"
      },
      {
        "duration": 85,
        "start_time": "2023-03-22T14:58:22.085Z"
      },
      {
        "duration": 43,
        "start_time": "2023-03-22T14:58:22.172Z"
      },
      {
        "duration": 18,
        "start_time": "2023-03-22T14:58:22.218Z"
      },
      {
        "duration": 136,
        "start_time": "2023-03-22T14:58:22.237Z"
      },
      {
        "duration": 5,
        "start_time": "2023-03-22T14:58:22.375Z"
      },
      {
        "duration": 57,
        "start_time": "2023-03-22T14:58:22.382Z"
      },
      {
        "duration": 9,
        "start_time": "2023-03-22T14:58:22.441Z"
      },
      {
        "duration": 100,
        "start_time": "2023-03-22T14:58:22.453Z"
      },
      {
        "duration": 5,
        "start_time": "2023-03-22T14:58:22.555Z"
      },
      {
        "duration": 96,
        "start_time": "2023-03-22T14:58:22.563Z"
      },
      {
        "duration": 69,
        "start_time": "2023-03-22T14:58:22.661Z"
      },
      {
        "duration": 9,
        "start_time": "2023-03-22T14:58:22.735Z"
      },
      {
        "duration": 179,
        "start_time": "2023-03-22T14:58:22.746Z"
      },
      {
        "duration": 17,
        "start_time": "2023-03-22T14:58:22.929Z"
      },
      {
        "duration": 15,
        "start_time": "2023-03-22T14:58:22.948Z"
      },
      {
        "duration": 22,
        "start_time": "2023-03-22T14:58:22.967Z"
      },
      {
        "duration": 28,
        "start_time": "2023-03-22T14:58:23.009Z"
      },
      {
        "duration": 21,
        "start_time": "2023-03-22T14:58:23.039Z"
      },
      {
        "duration": 39,
        "start_time": "2023-03-22T14:58:23.062Z"
      },
      {
        "duration": 1405,
        "start_time": "2023-03-22T15:03:45.863Z"
      },
      {
        "duration": 846,
        "start_time": "2023-03-22T15:03:47.271Z"
      },
      {
        "duration": 322,
        "start_time": "2023-03-22T15:03:48.122Z"
      },
      {
        "duration": 55,
        "start_time": "2023-03-22T15:03:48.446Z"
      },
      {
        "duration": 57,
        "start_time": "2023-03-22T15:03:48.503Z"
      },
      {
        "duration": 100,
        "start_time": "2023-03-22T15:03:48.561Z"
      },
      {
        "duration": 41,
        "start_time": "2023-03-22T15:03:48.663Z"
      },
      {
        "duration": 4414,
        "start_time": "2023-03-22T15:03:48.706Z"
      },
      {
        "duration": 8,
        "start_time": "2023-03-22T15:03:53.121Z"
      },
      {
        "duration": 142,
        "start_time": "2023-03-22T15:03:53.131Z"
      },
      {
        "duration": 45,
        "start_time": "2023-03-22T15:03:53.276Z"
      },
      {
        "duration": 51,
        "start_time": "2023-03-22T15:03:53.324Z"
      },
      {
        "duration": 94,
        "start_time": "2023-03-22T15:03:53.378Z"
      },
      {
        "duration": 32,
        "start_time": "2023-03-22T15:03:53.475Z"
      },
      {
        "duration": 27,
        "start_time": "2023-03-22T15:03:53.509Z"
      },
      {
        "duration": 217,
        "start_time": "2023-03-22T15:03:53.538Z"
      },
      {
        "duration": 5,
        "start_time": "2023-03-22T15:03:53.757Z"
      },
      {
        "duration": 14,
        "start_time": "2023-03-22T15:03:53.764Z"
      },
      {
        "duration": 30,
        "start_time": "2023-03-22T15:03:53.781Z"
      },
      {
        "duration": 138,
        "start_time": "2023-03-22T15:03:53.815Z"
      },
      {
        "duration": 9,
        "start_time": "2023-03-22T15:03:53.954Z"
      },
      {
        "duration": 127,
        "start_time": "2023-03-22T15:03:53.966Z"
      },
      {
        "duration": 63,
        "start_time": "2023-03-22T15:03:54.096Z"
      },
      {
        "duration": 6,
        "start_time": "2023-03-22T15:03:54.161Z"
      },
      {
        "duration": 156,
        "start_time": "2023-03-22T15:03:54.168Z"
      },
      {
        "duration": 28,
        "start_time": "2023-03-22T15:03:54.326Z"
      },
      {
        "duration": 26,
        "start_time": "2023-03-22T15:03:54.358Z"
      },
      {
        "duration": 74,
        "start_time": "2023-03-22T15:03:54.386Z"
      },
      {
        "duration": 83,
        "start_time": "2023-03-22T15:03:54.463Z"
      },
      {
        "duration": 44,
        "start_time": "2023-03-22T15:03:54.548Z"
      },
      {
        "duration": 122,
        "start_time": "2023-03-22T15:07:18.199Z"
      },
      {
        "duration": 6,
        "start_time": "2023-03-22T15:07:27.035Z"
      },
      {
        "duration": 20,
        "start_time": "2023-03-22T15:10:14.058Z"
      },
      {
        "duration": 12,
        "start_time": "2023-03-22T15:10:49.893Z"
      },
      {
        "duration": 8,
        "start_time": "2023-03-22T15:11:32.467Z"
      },
      {
        "duration": 7,
        "start_time": "2023-03-22T15:12:27.840Z"
      },
      {
        "duration": 7,
        "start_time": "2023-03-22T15:13:10.656Z"
      },
      {
        "duration": 374,
        "start_time": "2023-03-22T15:13:35.834Z"
      },
      {
        "duration": 13,
        "start_time": "2023-03-22T15:13:45.167Z"
      },
      {
        "duration": 6,
        "start_time": "2023-03-22T15:14:08.847Z"
      },
      {
        "duration": 1613,
        "start_time": "2023-03-22T15:14:50.558Z"
      },
      {
        "duration": 9,
        "start_time": "2023-03-22T15:15:04.147Z"
      },
      {
        "duration": 8,
        "start_time": "2023-03-22T15:16:18.433Z"
      },
      {
        "duration": 4,
        "start_time": "2023-03-22T15:16:38.758Z"
      },
      {
        "duration": 6,
        "start_time": "2023-03-22T15:16:42.290Z"
      },
      {
        "duration": 6,
        "start_time": "2023-03-22T15:17:07.172Z"
      },
      {
        "duration": 4,
        "start_time": "2023-03-22T15:17:18.967Z"
      },
      {
        "duration": 10,
        "start_time": "2023-03-22T15:17:25.020Z"
      },
      {
        "duration": 7,
        "start_time": "2023-03-22T15:18:17.944Z"
      },
      {
        "duration": 7,
        "start_time": "2023-03-22T15:18:18.387Z"
      },
      {
        "duration": 10,
        "start_time": "2023-03-22T15:18:18.826Z"
      },
      {
        "duration": 3,
        "start_time": "2023-03-22T15:18:27.585Z"
      },
      {
        "duration": 4,
        "start_time": "2023-03-22T15:18:32.621Z"
      },
      {
        "duration": 7,
        "start_time": "2023-03-22T15:18:32.960Z"
      },
      {
        "duration": 6,
        "start_time": "2023-03-22T15:18:33.713Z"
      },
      {
        "duration": 5,
        "start_time": "2023-03-22T15:18:34.544Z"
      },
      {
        "duration": 30,
        "start_time": "2023-03-22T15:19:17.487Z"
      },
      {
        "duration": 29,
        "start_time": "2023-03-22T15:19:18.384Z"
      },
      {
        "duration": 20,
        "start_time": "2023-03-22T15:19:19.153Z"
      },
      {
        "duration": 1250,
        "start_time": "2023-03-22T15:19:32.443Z"
      },
      {
        "duration": 672,
        "start_time": "2023-03-22T15:19:33.696Z"
      },
      {
        "duration": 262,
        "start_time": "2023-03-22T15:19:34.370Z"
      },
      {
        "duration": 40,
        "start_time": "2023-03-22T15:19:34.634Z"
      },
      {
        "duration": 83,
        "start_time": "2023-03-22T15:19:34.676Z"
      },
      {
        "duration": 98,
        "start_time": "2023-03-22T15:19:34.762Z"
      },
      {
        "duration": 51,
        "start_time": "2023-03-22T15:19:34.863Z"
      },
      {
        "duration": 3877,
        "start_time": "2023-03-22T15:19:34.916Z"
      },
      {
        "duration": 18,
        "start_time": "2023-03-22T15:19:38.795Z"
      },
      {
        "duration": 45,
        "start_time": "2023-03-22T15:19:38.816Z"
      },
      {
        "duration": 52,
        "start_time": "2023-03-22T15:19:38.863Z"
      },
      {
        "duration": 34,
        "start_time": "2023-03-22T15:19:38.917Z"
      },
      {
        "duration": 73,
        "start_time": "2023-03-22T15:19:38.953Z"
      },
      {
        "duration": 23,
        "start_time": "2023-03-22T15:19:39.028Z"
      },
      {
        "duration": 13,
        "start_time": "2023-03-22T15:19:39.053Z"
      },
      {
        "duration": 153,
        "start_time": "2023-03-22T15:19:39.068Z"
      },
      {
        "duration": 5,
        "start_time": "2023-03-22T15:19:39.223Z"
      },
      {
        "duration": 64,
        "start_time": "2023-03-22T15:19:39.231Z"
      },
      {
        "duration": 31,
        "start_time": "2023-03-22T15:19:39.299Z"
      },
      {
        "duration": 80,
        "start_time": "2023-03-22T15:19:39.332Z"
      },
      {
        "duration": 4,
        "start_time": "2023-03-22T15:19:39.418Z"
      },
      {
        "duration": 86,
        "start_time": "2023-03-22T15:19:39.424Z"
      },
      {
        "duration": 60,
        "start_time": "2023-03-22T15:19:39.511Z"
      },
      {
        "duration": 7,
        "start_time": "2023-03-22T15:19:39.572Z"
      },
      {
        "duration": 136,
        "start_time": "2023-03-22T15:19:39.581Z"
      },
      {
        "duration": 8,
        "start_time": "2023-03-22T15:19:39.719Z"
      },
      {
        "duration": 130,
        "start_time": "2023-03-22T15:19:39.729Z"
      },
      {
        "duration": 0,
        "start_time": "2023-03-22T15:19:39.861Z"
      },
      {
        "duration": 0,
        "start_time": "2023-03-22T15:19:39.863Z"
      },
      {
        "duration": 0,
        "start_time": "2023-03-22T15:19:39.863Z"
      },
      {
        "duration": 0,
        "start_time": "2023-03-22T15:19:39.864Z"
      },
      {
        "duration": 0,
        "start_time": "2023-03-22T15:19:39.866Z"
      },
      {
        "duration": 0,
        "start_time": "2023-03-22T15:19:39.867Z"
      },
      {
        "duration": 0,
        "start_time": "2023-03-22T15:19:39.867Z"
      },
      {
        "duration": 0,
        "start_time": "2023-03-22T15:19:39.869Z"
      },
      {
        "duration": 0,
        "start_time": "2023-03-22T15:19:39.870Z"
      },
      {
        "duration": 9,
        "start_time": "2023-03-22T15:22:55.452Z"
      },
      {
        "duration": 1273,
        "start_time": "2023-03-22T15:23:05.438Z"
      },
      {
        "duration": 892,
        "start_time": "2023-03-22T15:23:06.715Z"
      },
      {
        "duration": 260,
        "start_time": "2023-03-22T15:23:07.608Z"
      },
      {
        "duration": 63,
        "start_time": "2023-03-22T15:23:07.870Z"
      },
      {
        "duration": 45,
        "start_time": "2023-03-22T15:23:07.935Z"
      },
      {
        "duration": 92,
        "start_time": "2023-03-22T15:23:07.982Z"
      },
      {
        "duration": 43,
        "start_time": "2023-03-22T15:23:08.076Z"
      },
      {
        "duration": 3958,
        "start_time": "2023-03-22T15:23:08.121Z"
      },
      {
        "duration": 27,
        "start_time": "2023-03-22T15:23:12.082Z"
      },
      {
        "duration": 40,
        "start_time": "2023-03-22T15:23:12.114Z"
      },
      {
        "duration": 34,
        "start_time": "2023-03-22T15:23:12.156Z"
      },
      {
        "duration": 26,
        "start_time": "2023-03-22T15:23:12.192Z"
      },
      {
        "duration": 73,
        "start_time": "2023-03-22T15:23:12.220Z"
      },
      {
        "duration": 29,
        "start_time": "2023-03-22T15:23:12.297Z"
      },
      {
        "duration": 8,
        "start_time": "2023-03-22T15:23:12.327Z"
      },
      {
        "duration": 165,
        "start_time": "2023-03-22T15:23:12.337Z"
      },
      {
        "duration": 6,
        "start_time": "2023-03-22T15:23:12.504Z"
      },
      {
        "duration": 34,
        "start_time": "2023-03-22T15:23:12.515Z"
      },
      {
        "duration": 20,
        "start_time": "2023-03-22T15:23:12.551Z"
      },
      {
        "duration": 119,
        "start_time": "2023-03-22T15:23:12.573Z"
      },
      {
        "duration": 6,
        "start_time": "2023-03-22T15:23:12.694Z"
      },
      {
        "duration": 85,
        "start_time": "2023-03-22T15:23:12.702Z"
      },
      {
        "duration": 50,
        "start_time": "2023-03-22T15:23:12.789Z"
      },
      {
        "duration": 8,
        "start_time": "2023-03-22T15:23:12.841Z"
      },
      {
        "duration": 141,
        "start_time": "2023-03-22T15:23:12.851Z"
      },
      {
        "duration": 12,
        "start_time": "2023-03-22T15:23:13.002Z"
      },
      {
        "duration": 137,
        "start_time": "2023-03-22T15:23:13.016Z"
      },
      {
        "duration": 0,
        "start_time": "2023-03-22T15:23:13.155Z"
      },
      {
        "duration": 0,
        "start_time": "2023-03-22T15:23:13.157Z"
      },
      {
        "duration": 0,
        "start_time": "2023-03-22T15:23:13.158Z"
      },
      {
        "duration": 0,
        "start_time": "2023-03-22T15:23:13.159Z"
      },
      {
        "duration": 0,
        "start_time": "2023-03-22T15:23:13.161Z"
      },
      {
        "duration": 0,
        "start_time": "2023-03-22T15:23:13.162Z"
      },
      {
        "duration": 0,
        "start_time": "2023-03-22T15:23:13.163Z"
      },
      {
        "duration": 0,
        "start_time": "2023-03-22T15:23:13.165Z"
      },
      {
        "duration": 0,
        "start_time": "2023-03-22T15:23:13.166Z"
      },
      {
        "duration": 6,
        "start_time": "2023-03-22T15:23:37.782Z"
      },
      {
        "duration": 7,
        "start_time": "2023-03-22T15:23:40.388Z"
      },
      {
        "duration": 13,
        "start_time": "2023-03-22T15:23:42.542Z"
      },
      {
        "duration": 4,
        "start_time": "2023-03-22T15:23:44.837Z"
      },
      {
        "duration": 14,
        "start_time": "2023-03-22T15:23:45.994Z"
      },
      {
        "duration": 5,
        "start_time": "2023-03-22T15:23:54.190Z"
      },
      {
        "duration": 11,
        "start_time": "2023-03-22T15:23:55.223Z"
      },
      {
        "duration": 20,
        "start_time": "2023-03-22T15:23:56.427Z"
      },
      {
        "duration": 19,
        "start_time": "2023-03-22T15:23:57.361Z"
      },
      {
        "duration": 26,
        "start_time": "2023-03-22T15:24:02.697Z"
      },
      {
        "duration": 19,
        "start_time": "2023-03-22T15:24:03.456Z"
      },
      {
        "duration": 6,
        "start_time": "2023-03-22T15:26:23.115Z"
      },
      {
        "duration": 6,
        "start_time": "2023-03-22T15:26:27.309Z"
      },
      {
        "duration": 6,
        "start_time": "2023-03-22T15:26:56.220Z"
      },
      {
        "duration": 6,
        "start_time": "2023-03-22T15:27:16.742Z"
      },
      {
        "duration": 7,
        "start_time": "2023-03-22T15:27:17.213Z"
      },
      {
        "duration": 1231,
        "start_time": "2023-03-22T15:40:50.453Z"
      },
      {
        "duration": 654,
        "start_time": "2023-03-22T15:40:51.686Z"
      },
      {
        "duration": 296,
        "start_time": "2023-03-22T15:40:52.342Z"
      },
      {
        "duration": 56,
        "start_time": "2023-03-22T15:40:52.641Z"
      },
      {
        "duration": 49,
        "start_time": "2023-03-22T15:40:52.699Z"
      },
      {
        "duration": 92,
        "start_time": "2023-03-22T15:40:52.749Z"
      },
      {
        "duration": 29,
        "start_time": "2023-03-22T15:40:52.843Z"
      },
      {
        "duration": 3740,
        "start_time": "2023-03-22T15:40:52.874Z"
      },
      {
        "duration": 7,
        "start_time": "2023-03-22T15:40:56.616Z"
      },
      {
        "duration": 31,
        "start_time": "2023-03-22T15:40:56.627Z"
      },
      {
        "duration": 52,
        "start_time": "2023-03-22T15:40:56.660Z"
      },
      {
        "duration": 20,
        "start_time": "2023-03-22T15:40:56.714Z"
      },
      {
        "duration": 85,
        "start_time": "2023-03-22T15:40:56.736Z"
      },
      {
        "duration": 23,
        "start_time": "2023-03-22T15:40:56.823Z"
      },
      {
        "duration": 26,
        "start_time": "2023-03-22T15:40:56.848Z"
      },
      {
        "duration": 131,
        "start_time": "2023-03-22T15:40:56.875Z"
      },
      {
        "duration": 5,
        "start_time": "2023-03-22T15:40:57.007Z"
      },
      {
        "duration": 39,
        "start_time": "2023-03-22T15:40:57.014Z"
      },
      {
        "duration": 7,
        "start_time": "2023-03-22T15:40:57.055Z"
      },
      {
        "duration": 67,
        "start_time": "2023-03-22T15:40:57.064Z"
      },
      {
        "duration": 5,
        "start_time": "2023-03-22T15:40:57.132Z"
      },
      {
        "duration": 62,
        "start_time": "2023-03-22T15:40:57.138Z"
      },
      {
        "duration": 41,
        "start_time": "2023-03-22T15:40:57.202Z"
      },
      {
        "duration": 7,
        "start_time": "2023-03-22T15:40:57.244Z"
      },
      {
        "duration": 123,
        "start_time": "2023-03-22T15:40:57.253Z"
      },
      {
        "duration": 7,
        "start_time": "2023-03-22T15:40:57.378Z"
      },
      {
        "duration": 24,
        "start_time": "2023-03-22T15:40:57.386Z"
      },
      {
        "duration": 20,
        "start_time": "2023-03-22T15:40:57.413Z"
      },
      {
        "duration": 29,
        "start_time": "2023-03-22T15:40:57.435Z"
      },
      {
        "duration": 19,
        "start_time": "2023-03-22T15:40:57.466Z"
      },
      {
        "duration": 13,
        "start_time": "2023-03-22T15:40:57.487Z"
      },
      {
        "duration": 7,
        "start_time": "2023-03-22T15:40:57.502Z"
      },
      {
        "duration": 14,
        "start_time": "2023-03-22T15:40:57.511Z"
      },
      {
        "duration": 7,
        "start_time": "2023-03-22T15:40:57.527Z"
      },
      {
        "duration": 32,
        "start_time": "2023-03-22T15:40:57.536Z"
      },
      {
        "duration": 27,
        "start_time": "2023-03-22T15:40:57.570Z"
      },
      {
        "duration": 20,
        "start_time": "2023-03-22T15:40:57.600Z"
      },
      {
        "duration": 19,
        "start_time": "2023-03-22T15:42:02.394Z"
      },
      {
        "duration": 21,
        "start_time": "2023-03-22T15:42:07.078Z"
      },
      {
        "duration": 20,
        "start_time": "2023-03-22T15:42:11.619Z"
      },
      {
        "duration": 118,
        "start_time": "2023-03-22T15:42:18.931Z"
      },
      {
        "duration": 26,
        "start_time": "2023-03-22T15:42:21.987Z"
      },
      {
        "duration": 20,
        "start_time": "2023-03-22T15:42:31.447Z"
      },
      {
        "duration": 21,
        "start_time": "2023-03-22T15:42:38.006Z"
      },
      {
        "duration": 20,
        "start_time": "2023-03-22T15:42:42.259Z"
      },
      {
        "duration": 14,
        "start_time": "2023-03-22T15:43:10.818Z"
      },
      {
        "duration": 9,
        "start_time": "2023-03-22T15:43:14.460Z"
      },
      {
        "duration": 11,
        "start_time": "2023-03-22T15:43:18.474Z"
      },
      {
        "duration": 9,
        "start_time": "2023-03-22T15:44:16.038Z"
      },
      {
        "duration": 8,
        "start_time": "2023-03-22T15:44:35.674Z"
      },
      {
        "duration": 1315,
        "start_time": "2023-03-22T15:45:04.095Z"
      },
      {
        "duration": 646,
        "start_time": "2023-03-22T15:45:05.412Z"
      },
      {
        "duration": 260,
        "start_time": "2023-03-22T15:45:06.059Z"
      },
      {
        "duration": 42,
        "start_time": "2023-03-22T15:45:06.321Z"
      },
      {
        "duration": 74,
        "start_time": "2023-03-22T15:45:06.366Z"
      },
      {
        "duration": 101,
        "start_time": "2023-03-22T15:45:06.441Z"
      },
      {
        "duration": 28,
        "start_time": "2023-03-22T15:45:06.544Z"
      },
      {
        "duration": 3701,
        "start_time": "2023-03-22T15:45:06.573Z"
      },
      {
        "duration": 6,
        "start_time": "2023-03-22T15:45:10.276Z"
      },
      {
        "duration": 108,
        "start_time": "2023-03-22T15:45:10.284Z"
      },
      {
        "duration": 37,
        "start_time": "2023-03-22T15:45:10.394Z"
      },
      {
        "duration": 26,
        "start_time": "2023-03-22T15:45:10.433Z"
      },
      {
        "duration": 99,
        "start_time": "2023-03-22T15:45:10.461Z"
      },
      {
        "duration": 34,
        "start_time": "2023-03-22T15:45:10.564Z"
      },
      {
        "duration": 10,
        "start_time": "2023-03-22T15:45:10.601Z"
      },
      {
        "duration": 139,
        "start_time": "2023-03-22T15:45:10.613Z"
      },
      {
        "duration": 5,
        "start_time": "2023-03-22T15:45:10.754Z"
      },
      {
        "duration": 15,
        "start_time": "2023-03-22T15:45:10.761Z"
      },
      {
        "duration": 22,
        "start_time": "2023-03-22T15:45:10.778Z"
      },
      {
        "duration": 79,
        "start_time": "2023-03-22T15:45:10.802Z"
      },
      {
        "duration": 17,
        "start_time": "2023-03-22T15:45:10.883Z"
      },
      {
        "duration": 59,
        "start_time": "2023-03-22T15:45:10.902Z"
      },
      {
        "duration": 53,
        "start_time": "2023-03-22T15:45:10.963Z"
      },
      {
        "duration": 7,
        "start_time": "2023-03-22T15:45:11.018Z"
      },
      {
        "duration": 121,
        "start_time": "2023-03-22T15:45:11.027Z"
      },
      {
        "duration": 8,
        "start_time": "2023-03-22T15:45:11.150Z"
      },
      {
        "duration": 9,
        "start_time": "2023-03-22T15:45:11.160Z"
      },
      {
        "duration": 9,
        "start_time": "2023-03-22T15:45:11.170Z"
      },
      {
        "duration": 5,
        "start_time": "2023-03-22T15:45:11.198Z"
      },
      {
        "duration": 14,
        "start_time": "2023-03-22T15:45:11.205Z"
      },
      {
        "duration": 3,
        "start_time": "2023-03-22T15:45:11.221Z"
      },
      {
        "duration": 17,
        "start_time": "2023-03-22T15:45:11.226Z"
      },
      {
        "duration": 6,
        "start_time": "2023-03-22T15:45:11.245Z"
      },
      {
        "duration": 7,
        "start_time": "2023-03-22T15:45:11.253Z"
      },
      {
        "duration": 4,
        "start_time": "2023-03-22T15:45:11.262Z"
      },
      {
        "duration": 45,
        "start_time": "2023-03-22T15:45:11.267Z"
      },
      {
        "duration": 25,
        "start_time": "2023-03-22T15:45:11.314Z"
      },
      {
        "duration": 48,
        "start_time": "2023-03-22T15:45:11.342Z"
      },
      {
        "duration": 4,
        "start_time": "2023-03-22T15:45:24.800Z"
      },
      {
        "duration": 22,
        "start_time": "2023-03-22T15:45:25.295Z"
      },
      {
        "duration": 21,
        "start_time": "2023-03-22T15:45:25.835Z"
      },
      {
        "duration": 20,
        "start_time": "2023-03-22T15:45:26.549Z"
      },
      {
        "duration": 1426,
        "start_time": "2023-03-23T09:16:25.077Z"
      },
      {
        "duration": 1233,
        "start_time": "2023-03-23T09:16:26.505Z"
      },
      {
        "duration": 237,
        "start_time": "2023-03-23T09:16:27.740Z"
      },
      {
        "duration": 37,
        "start_time": "2023-03-23T09:16:27.979Z"
      },
      {
        "duration": 60,
        "start_time": "2023-03-23T09:16:28.018Z"
      },
      {
        "duration": 83,
        "start_time": "2023-03-23T09:16:28.080Z"
      },
      {
        "duration": 26,
        "start_time": "2023-03-23T09:16:28.165Z"
      },
      {
        "duration": 3441,
        "start_time": "2023-03-23T09:16:28.192Z"
      },
      {
        "duration": 11,
        "start_time": "2023-03-23T09:16:31.635Z"
      },
      {
        "duration": 56,
        "start_time": "2023-03-23T09:16:31.649Z"
      },
      {
        "duration": 27,
        "start_time": "2023-03-23T09:16:31.707Z"
      },
      {
        "duration": 30,
        "start_time": "2023-03-23T09:16:31.736Z"
      },
      {
        "duration": 78,
        "start_time": "2023-03-23T09:16:31.768Z"
      },
      {
        "duration": 21,
        "start_time": "2023-03-23T09:16:31.848Z"
      },
      {
        "duration": 42,
        "start_time": "2023-03-23T09:16:31.871Z"
      },
      {
        "duration": 139,
        "start_time": "2023-03-23T09:16:31.915Z"
      },
      {
        "duration": 4,
        "start_time": "2023-03-23T09:16:32.055Z"
      },
      {
        "duration": 15,
        "start_time": "2023-03-23T09:16:32.060Z"
      },
      {
        "duration": 8,
        "start_time": "2023-03-23T09:16:32.077Z"
      },
      {
        "duration": 91,
        "start_time": "2023-03-23T09:16:32.086Z"
      },
      {
        "duration": 5,
        "start_time": "2023-03-23T09:16:32.179Z"
      },
      {
        "duration": 60,
        "start_time": "2023-03-23T09:16:32.185Z"
      },
      {
        "duration": 38,
        "start_time": "2023-03-23T09:16:32.246Z"
      },
      {
        "duration": 6,
        "start_time": "2023-03-23T09:16:32.286Z"
      },
      {
        "duration": 125,
        "start_time": "2023-03-23T09:16:32.293Z"
      },
      {
        "duration": 7,
        "start_time": "2023-03-23T09:16:32.420Z"
      },
      {
        "duration": 11,
        "start_time": "2023-03-23T09:16:32.441Z"
      },
      {
        "duration": 4,
        "start_time": "2023-03-23T09:16:32.455Z"
      },
      {
        "duration": 9,
        "start_time": "2023-03-23T09:16:32.460Z"
      },
      {
        "duration": 9,
        "start_time": "2023-03-23T09:16:32.471Z"
      },
      {
        "duration": 3,
        "start_time": "2023-03-23T09:16:32.481Z"
      },
      {
        "duration": 18,
        "start_time": "2023-03-23T09:16:32.486Z"
      },
      {
        "duration": 22,
        "start_time": "2023-03-23T09:16:32.505Z"
      },
      {
        "duration": 14,
        "start_time": "2023-03-23T09:16:32.528Z"
      },
      {
        "duration": 21,
        "start_time": "2023-03-23T09:16:32.544Z"
      },
      {
        "duration": 29,
        "start_time": "2023-03-23T09:16:32.567Z"
      },
      {
        "duration": 23,
        "start_time": "2023-03-23T09:16:32.598Z"
      },
      {
        "duration": 245,
        "start_time": "2023-03-23T09:16:32.623Z"
      },
      {
        "duration": 402,
        "start_time": "2023-03-23T09:21:17.907Z"
      },
      {
        "duration": 107,
        "start_time": "2023-03-23T09:22:00.108Z"
      },
      {
        "duration": 93,
        "start_time": "2023-03-23T09:22:12.011Z"
      },
      {
        "duration": 124,
        "start_time": "2023-03-23T09:22:24.283Z"
      },
      {
        "duration": 89,
        "start_time": "2023-03-23T09:26:13.245Z"
      },
      {
        "duration": 1213,
        "start_time": "2023-03-23T09:30:33.804Z"
      },
      {
        "duration": 637,
        "start_time": "2023-03-23T09:30:35.019Z"
      },
      {
        "duration": 234,
        "start_time": "2023-03-23T09:30:35.657Z"
      },
      {
        "duration": 54,
        "start_time": "2023-03-23T09:30:35.893Z"
      },
      {
        "duration": 41,
        "start_time": "2023-03-23T09:30:35.950Z"
      },
      {
        "duration": 88,
        "start_time": "2023-03-23T09:30:35.992Z"
      },
      {
        "duration": 25,
        "start_time": "2023-03-23T09:30:36.081Z"
      },
      {
        "duration": 3412,
        "start_time": "2023-03-23T09:30:36.107Z"
      },
      {
        "duration": 6,
        "start_time": "2023-03-23T09:30:39.521Z"
      },
      {
        "duration": 37,
        "start_time": "2023-03-23T09:30:39.529Z"
      },
      {
        "duration": 29,
        "start_time": "2023-03-23T09:30:39.568Z"
      },
      {
        "duration": 19,
        "start_time": "2023-03-23T09:30:39.598Z"
      },
      {
        "duration": 80,
        "start_time": "2023-03-23T09:30:39.618Z"
      },
      {
        "duration": 39,
        "start_time": "2023-03-23T09:30:39.701Z"
      },
      {
        "duration": 6,
        "start_time": "2023-03-23T09:30:39.742Z"
      },
      {
        "duration": 204,
        "start_time": "2023-03-23T09:30:39.750Z"
      },
      {
        "duration": 0,
        "start_time": "2023-03-23T09:30:39.956Z"
      },
      {
        "duration": 0,
        "start_time": "2023-03-23T09:30:39.957Z"
      },
      {
        "duration": 0,
        "start_time": "2023-03-23T09:30:39.958Z"
      },
      {
        "duration": 0,
        "start_time": "2023-03-23T09:30:39.959Z"
      },
      {
        "duration": 0,
        "start_time": "2023-03-23T09:30:39.961Z"
      },
      {
        "duration": 0,
        "start_time": "2023-03-23T09:30:39.962Z"
      },
      {
        "duration": 0,
        "start_time": "2023-03-23T09:30:39.963Z"
      },
      {
        "duration": 0,
        "start_time": "2023-03-23T09:30:39.964Z"
      },
      {
        "duration": 0,
        "start_time": "2023-03-23T09:30:39.965Z"
      },
      {
        "duration": 0,
        "start_time": "2023-03-23T09:30:39.966Z"
      },
      {
        "duration": 0,
        "start_time": "2023-03-23T09:30:39.967Z"
      },
      {
        "duration": 0,
        "start_time": "2023-03-23T09:30:39.968Z"
      },
      {
        "duration": 0,
        "start_time": "2023-03-23T09:30:39.969Z"
      },
      {
        "duration": 0,
        "start_time": "2023-03-23T09:30:39.970Z"
      },
      {
        "duration": 0,
        "start_time": "2023-03-23T09:30:39.971Z"
      },
      {
        "duration": 0,
        "start_time": "2023-03-23T09:30:39.972Z"
      },
      {
        "duration": 0,
        "start_time": "2023-03-23T09:30:39.973Z"
      },
      {
        "duration": 0,
        "start_time": "2023-03-23T09:30:39.974Z"
      },
      {
        "duration": 0,
        "start_time": "2023-03-23T09:30:39.975Z"
      },
      {
        "duration": 0,
        "start_time": "2023-03-23T09:30:39.976Z"
      },
      {
        "duration": 0,
        "start_time": "2023-03-23T09:30:39.977Z"
      },
      {
        "duration": 0,
        "start_time": "2023-03-23T09:30:39.979Z"
      },
      {
        "duration": 0,
        "start_time": "2023-03-23T09:30:39.979Z"
      },
      {
        "duration": 0,
        "start_time": "2023-03-23T09:30:39.981Z"
      },
      {
        "duration": 125,
        "start_time": "2023-03-23T09:34:59.938Z"
      },
      {
        "duration": 139,
        "start_time": "2023-03-23T09:35:13.238Z"
      },
      {
        "duration": 9,
        "start_time": "2023-03-23T09:35:17.373Z"
      },
      {
        "duration": 8,
        "start_time": "2023-03-23T09:35:18.239Z"
      },
      {
        "duration": 604,
        "start_time": "2023-03-23T09:35:18.839Z"
      },
      {
        "duration": 134,
        "start_time": "2023-03-23T09:35:25.001Z"
      },
      {
        "duration": 76,
        "start_time": "2023-03-23T09:35:27.271Z"
      },
      {
        "duration": 5,
        "start_time": "2023-03-23T09:35:28.206Z"
      },
      {
        "duration": 47,
        "start_time": "2023-03-23T09:35:29.310Z"
      },
      {
        "duration": 46,
        "start_time": "2023-03-23T09:35:30.106Z"
      },
      {
        "duration": 41,
        "start_time": "2023-03-23T09:35:32.767Z"
      },
      {
        "duration": 65,
        "start_time": "2023-03-23T09:35:33.993Z"
      },
      {
        "duration": 7,
        "start_time": "2023-03-23T09:35:58.239Z"
      },
      {
        "duration": 106,
        "start_time": "2023-03-23T09:35:59.156Z"
      },
      {
        "duration": 10,
        "start_time": "2023-03-23T09:36:00.184Z"
      },
      {
        "duration": 40,
        "start_time": "2023-03-23T09:37:43.949Z"
      },
      {
        "duration": 44,
        "start_time": "2023-03-23T09:37:45.394Z"
      },
      {
        "duration": 62,
        "start_time": "2023-03-23T09:38:16.435Z"
      },
      {
        "duration": 18,
        "start_time": "2023-03-23T09:38:29.139Z"
      },
      {
        "duration": 15,
        "start_time": "2023-03-23T09:39:40.783Z"
      },
      {
        "duration": 11,
        "start_time": "2023-03-23T09:39:59.837Z"
      },
      {
        "duration": 14,
        "start_time": "2023-03-23T09:40:42.885Z"
      },
      {
        "duration": 27,
        "start_time": "2023-03-23T09:40:57.439Z"
      },
      {
        "duration": 19,
        "start_time": "2023-03-23T09:41:13.676Z"
      },
      {
        "duration": 15,
        "start_time": "2023-03-23T09:41:18.845Z"
      },
      {
        "duration": 110,
        "start_time": "2023-03-23T09:44:44.333Z"
      },
      {
        "duration": 322,
        "start_time": "2023-03-23T09:47:00.949Z"
      },
      {
        "duration": 86,
        "start_time": "2023-03-23T09:48:47.296Z"
      },
      {
        "duration": 21,
        "start_time": "2023-03-23T09:50:11.488Z"
      },
      {
        "duration": 17,
        "start_time": "2023-03-23T09:50:21.778Z"
      },
      {
        "duration": 9,
        "start_time": "2023-03-23T09:50:34.092Z"
      },
      {
        "duration": 10,
        "start_time": "2023-03-23T09:50:45.139Z"
      },
      {
        "duration": 1363,
        "start_time": "2023-03-23T09:51:09.529Z"
      },
      {
        "duration": 13,
        "start_time": "2023-03-23T09:51:21.484Z"
      },
      {
        "duration": 9,
        "start_time": "2023-03-23T09:51:32.281Z"
      },
      {
        "duration": 15,
        "start_time": "2023-03-23T09:52:13.415Z"
      },
      {
        "duration": 9,
        "start_time": "2023-03-23T09:52:23.782Z"
      },
      {
        "duration": 12,
        "start_time": "2023-03-23T09:52:29.056Z"
      },
      {
        "duration": 137,
        "start_time": "2023-03-23T09:52:56.627Z"
      },
      {
        "duration": 118,
        "start_time": "2023-03-23T09:53:07.936Z"
      },
      {
        "duration": 9,
        "start_time": "2023-03-23T09:53:16.429Z"
      },
      {
        "duration": 9,
        "start_time": "2023-03-23T09:54:14.154Z"
      },
      {
        "duration": 11,
        "start_time": "2023-03-23T09:55:33.348Z"
      },
      {
        "duration": 10,
        "start_time": "2023-03-23T09:55:47.279Z"
      },
      {
        "duration": 10,
        "start_time": "2023-03-23T09:55:52.859Z"
      },
      {
        "duration": 10,
        "start_time": "2023-03-23T09:56:44.026Z"
      },
      {
        "duration": 45,
        "start_time": "2023-03-23T09:58:24.673Z"
      },
      {
        "duration": 43,
        "start_time": "2023-03-23T09:59:03.818Z"
      },
      {
        "duration": 101,
        "start_time": "2023-03-23T10:03:18.031Z"
      },
      {
        "duration": 129,
        "start_time": "2023-03-23T10:04:07.874Z"
      },
      {
        "duration": 14,
        "start_time": "2023-03-23T10:04:11.690Z"
      },
      {
        "duration": 83,
        "start_time": "2023-03-23T10:04:17.034Z"
      },
      {
        "duration": 13,
        "start_time": "2023-03-23T10:04:45.027Z"
      },
      {
        "duration": 122,
        "start_time": "2023-03-23T10:04:49.143Z"
      },
      {
        "duration": 49,
        "start_time": "2023-03-23T10:07:23.265Z"
      },
      {
        "duration": 46,
        "start_time": "2023-03-23T10:09:05.684Z"
      },
      {
        "duration": 28,
        "start_time": "2023-03-23T10:09:39.340Z"
      },
      {
        "duration": 18,
        "start_time": "2023-03-23T10:09:45.164Z"
      },
      {
        "duration": 47,
        "start_time": "2023-03-23T10:09:54.357Z"
      },
      {
        "duration": 36,
        "start_time": "2023-03-23T10:10:24.314Z"
      },
      {
        "duration": 50,
        "start_time": "2023-03-23T10:10:27.035Z"
      },
      {
        "duration": 46,
        "start_time": "2023-03-23T10:12:01.857Z"
      },
      {
        "duration": 63,
        "start_time": "2023-03-23T10:12:39.010Z"
      },
      {
        "duration": 44,
        "start_time": "2023-03-23T10:13:49.292Z"
      },
      {
        "duration": 156,
        "start_time": "2023-03-23T10:14:06.320Z"
      },
      {
        "duration": 7,
        "start_time": "2023-03-23T10:17:14.936Z"
      },
      {
        "duration": 6,
        "start_time": "2023-03-23T10:17:16.025Z"
      },
      {
        "duration": 5,
        "start_time": "2023-03-23T10:17:16.867Z"
      },
      {
        "duration": 10,
        "start_time": "2023-03-23T10:17:19.041Z"
      },
      {
        "duration": 4,
        "start_time": "2023-03-23T10:17:23.351Z"
      },
      {
        "duration": 7,
        "start_time": "2023-03-23T10:17:24.039Z"
      },
      {
        "duration": 6,
        "start_time": "2023-03-23T10:17:24.733Z"
      },
      {
        "duration": 6,
        "start_time": "2023-03-23T10:17:25.112Z"
      },
      {
        "duration": 3,
        "start_time": "2023-03-23T10:17:27.416Z"
      },
      {
        "duration": 20,
        "start_time": "2023-03-23T10:17:27.786Z"
      },
      {
        "duration": 20,
        "start_time": "2023-03-23T10:17:28.110Z"
      },
      {
        "duration": 22,
        "start_time": "2023-03-23T10:17:28.790Z"
      },
      {
        "duration": 1557,
        "start_time": "2023-03-23T11:40:10.995Z"
      },
      {
        "duration": 676,
        "start_time": "2023-03-23T11:40:12.555Z"
      },
      {
        "duration": 1452,
        "start_time": "2023-03-23T11:40:19.221Z"
      },
      {
        "duration": 672,
        "start_time": "2023-03-23T11:40:20.675Z"
      },
      {
        "duration": 254,
        "start_time": "2023-03-23T11:40:21.349Z"
      },
      {
        "duration": 43,
        "start_time": "2023-03-23T11:40:21.605Z"
      },
      {
        "duration": 71,
        "start_time": "2023-03-23T11:40:21.650Z"
      },
      {
        "duration": 107,
        "start_time": "2023-03-23T11:40:21.723Z"
      },
      {
        "duration": 29,
        "start_time": "2023-03-23T11:40:21.831Z"
      },
      {
        "duration": 3776,
        "start_time": "2023-03-23T11:40:21.862Z"
      },
      {
        "duration": 7,
        "start_time": "2023-03-23T11:40:25.640Z"
      },
      {
        "duration": 48,
        "start_time": "2023-03-23T11:40:25.649Z"
      },
      {
        "duration": 27,
        "start_time": "2023-03-23T11:40:25.699Z"
      },
      {
        "duration": 23,
        "start_time": "2023-03-23T11:40:25.727Z"
      },
      {
        "duration": 103,
        "start_time": "2023-03-23T11:40:25.752Z"
      },
      {
        "duration": 18,
        "start_time": "2023-03-23T11:40:25.859Z"
      },
      {
        "duration": 30,
        "start_time": "2023-03-23T11:40:25.879Z"
      },
      {
        "duration": 445,
        "start_time": "2023-03-23T11:40:25.911Z"
      },
      {
        "duration": 214,
        "start_time": "2023-03-23T11:40:26.358Z"
      },
      {
        "duration": 7,
        "start_time": "2023-03-23T11:40:26.573Z"
      },
      {
        "duration": 19,
        "start_time": "2023-03-23T11:40:26.582Z"
      },
      {
        "duration": 59,
        "start_time": "2023-03-23T11:40:26.603Z"
      },
      {
        "duration": 4,
        "start_time": "2023-03-23T11:40:26.664Z"
      },
      {
        "duration": 70,
        "start_time": "2023-03-23T11:40:26.670Z"
      },
      {
        "duration": 58,
        "start_time": "2023-03-23T11:40:26.742Z"
      },
      {
        "duration": 42,
        "start_time": "2023-03-23T11:40:26.802Z"
      },
      {
        "duration": 72,
        "start_time": "2023-03-23T11:40:26.846Z"
      },
      {
        "duration": 7,
        "start_time": "2023-03-23T11:40:26.919Z"
      },
      {
        "duration": 110,
        "start_time": "2023-03-23T11:40:26.928Z"
      },
      {
        "duration": 10,
        "start_time": "2023-03-23T11:40:27.040Z"
      },
      {
        "duration": 8,
        "start_time": "2023-03-23T11:40:27.052Z"
      },
      {
        "duration": 9,
        "start_time": "2023-03-23T11:40:27.062Z"
      },
      {
        "duration": 21,
        "start_time": "2023-03-23T11:40:27.096Z"
      },
      {
        "duration": 20,
        "start_time": "2023-03-23T11:40:27.119Z"
      },
      {
        "duration": 6,
        "start_time": "2023-03-23T11:40:27.141Z"
      },
      {
        "duration": 12,
        "start_time": "2023-03-23T11:40:27.148Z"
      },
      {
        "duration": 7,
        "start_time": "2023-03-23T11:40:27.162Z"
      },
      {
        "duration": 15,
        "start_time": "2023-03-23T11:40:27.170Z"
      },
      {
        "duration": 16,
        "start_time": "2023-03-23T11:40:27.187Z"
      },
      {
        "duration": 27,
        "start_time": "2023-03-23T11:40:27.206Z"
      },
      {
        "duration": 20,
        "start_time": "2023-03-23T11:40:27.235Z"
      },
      {
        "duration": 21,
        "start_time": "2023-03-23T11:40:27.257Z"
      },
      {
        "duration": 80,
        "start_time": "2023-03-23T11:41:14.537Z"
      },
      {
        "duration": 9,
        "start_time": "2023-03-23T11:52:31.229Z"
      },
      {
        "duration": 7,
        "start_time": "2023-03-23T11:52:37.142Z"
      },
      {
        "duration": 7,
        "start_time": "2023-03-23T11:52:41.281Z"
      },
      {
        "duration": 8,
        "start_time": "2023-03-23T11:52:53.338Z"
      },
      {
        "duration": 6,
        "start_time": "2023-03-23T11:53:11.185Z"
      },
      {
        "duration": 7,
        "start_time": "2023-03-23T11:53:14.727Z"
      },
      {
        "duration": 51,
        "start_time": "2023-03-23T12:55:43.551Z"
      },
      {
        "duration": 1196,
        "start_time": "2023-03-23T12:56:26.804Z"
      },
      {
        "duration": 1240,
        "start_time": "2023-03-23T12:56:28.003Z"
      },
      {
        "duration": 257,
        "start_time": "2023-03-23T12:56:29.245Z"
      },
      {
        "duration": 57,
        "start_time": "2023-03-23T12:56:29.504Z"
      },
      {
        "duration": 49,
        "start_time": "2023-03-23T12:56:29.563Z"
      },
      {
        "duration": 96,
        "start_time": "2023-03-23T12:56:29.614Z"
      },
      {
        "duration": 46,
        "start_time": "2023-03-23T12:56:29.712Z"
      },
      {
        "duration": 3721,
        "start_time": "2023-03-23T12:56:29.760Z"
      },
      {
        "duration": 6,
        "start_time": "2023-03-23T12:56:33.484Z"
      },
      {
        "duration": 28,
        "start_time": "2023-03-23T12:56:33.492Z"
      },
      {
        "duration": 26,
        "start_time": "2023-03-23T12:56:33.541Z"
      },
      {
        "duration": 24,
        "start_time": "2023-03-23T12:56:33.569Z"
      },
      {
        "duration": 11,
        "start_time": "2023-03-23T12:56:33.595Z"
      },
      {
        "duration": 11,
        "start_time": "2023-03-23T12:56:46.270Z"
      },
      {
        "duration": 14,
        "start_time": "2023-03-23T12:57:14.608Z"
      },
      {
        "duration": 16,
        "start_time": "2023-03-23T12:57:22.410Z"
      },
      {
        "duration": 29,
        "start_time": "2023-03-23T12:58:11.815Z"
      },
      {
        "duration": 37,
        "start_time": "2023-03-23T12:58:58.514Z"
      },
      {
        "duration": 12,
        "start_time": "2023-03-23T13:00:14.700Z"
      },
      {
        "duration": 11,
        "start_time": "2023-03-23T13:00:35.525Z"
      },
      {
        "duration": 1271,
        "start_time": "2023-03-23T13:06:43.118Z"
      },
      {
        "duration": 625,
        "start_time": "2023-03-23T13:06:44.390Z"
      },
      {
        "duration": 246,
        "start_time": "2023-03-23T13:06:45.016Z"
      },
      {
        "duration": 39,
        "start_time": "2023-03-23T13:06:45.264Z"
      },
      {
        "duration": 66,
        "start_time": "2023-03-23T13:06:45.304Z"
      },
      {
        "duration": 88,
        "start_time": "2023-03-23T13:06:45.371Z"
      },
      {
        "duration": 27,
        "start_time": "2023-03-23T13:06:45.461Z"
      },
      {
        "duration": 3338,
        "start_time": "2023-03-23T13:06:45.489Z"
      },
      {
        "duration": 14,
        "start_time": "2023-03-23T13:06:48.829Z"
      },
      {
        "duration": 28,
        "start_time": "2023-03-23T13:06:48.846Z"
      },
      {
        "duration": 30,
        "start_time": "2023-03-23T13:06:48.876Z"
      },
      {
        "duration": 38,
        "start_time": "2023-03-23T13:06:48.908Z"
      },
      {
        "duration": 28,
        "start_time": "2023-03-23T13:06:48.948Z"
      },
      {
        "duration": 26,
        "start_time": "2023-03-23T13:06:48.978Z"
      },
      {
        "duration": 42,
        "start_time": "2023-03-23T13:06:49.006Z"
      },
      {
        "duration": 17,
        "start_time": "2023-03-23T13:06:49.050Z"
      },
      {
        "duration": 89,
        "start_time": "2023-03-23T13:06:49.069Z"
      },
      {
        "duration": 19,
        "start_time": "2023-03-23T13:06:49.159Z"
      },
      {
        "duration": 10,
        "start_time": "2023-03-23T13:06:49.181Z"
      },
      {
        "duration": 385,
        "start_time": "2023-03-23T13:06:49.193Z"
      },
      {
        "duration": 228,
        "start_time": "2023-03-23T13:06:49.581Z"
      },
      {
        "duration": 10,
        "start_time": "2023-03-23T13:06:49.811Z"
      },
      {
        "duration": 25,
        "start_time": "2023-03-23T13:06:49.823Z"
      },
      {
        "duration": 13,
        "start_time": "2023-03-23T13:06:57.324Z"
      },
      {
        "duration": 155,
        "start_time": "2023-03-23T13:08:40.928Z"
      },
      {
        "duration": 53,
        "start_time": "2023-03-23T13:08:50.543Z"
      },
      {
        "duration": 136,
        "start_time": "2023-03-23T13:10:20.167Z"
      },
      {
        "duration": 116,
        "start_time": "2023-03-23T13:10:39.047Z"
      },
      {
        "duration": 60,
        "start_time": "2023-03-23T13:11:44.920Z"
      },
      {
        "duration": 149,
        "start_time": "2023-03-23T13:12:08.236Z"
      },
      {
        "duration": 43,
        "start_time": "2023-03-23T13:13:29.107Z"
      },
      {
        "duration": 4,
        "start_time": "2023-03-23T13:13:42.019Z"
      },
      {
        "duration": 7,
        "start_time": "2023-03-23T13:17:25.431Z"
      },
      {
        "duration": 91,
        "start_time": "2023-03-23T13:21:04.851Z"
      },
      {
        "duration": 88,
        "start_time": "2023-03-23T13:21:09.751Z"
      },
      {
        "duration": 1232,
        "start_time": "2023-03-23T13:21:28.476Z"
      },
      {
        "duration": 728,
        "start_time": "2023-03-23T13:21:29.710Z"
      },
      {
        "duration": 282,
        "start_time": "2023-03-23T13:21:30.440Z"
      },
      {
        "duration": 55,
        "start_time": "2023-03-23T13:21:30.724Z"
      },
      {
        "duration": 78,
        "start_time": "2023-03-23T13:21:30.783Z"
      },
      {
        "duration": 82,
        "start_time": "2023-03-23T13:21:30.862Z"
      },
      {
        "duration": 29,
        "start_time": "2023-03-23T13:21:30.946Z"
      },
      {
        "duration": 3784,
        "start_time": "2023-03-23T13:21:30.977Z"
      },
      {
        "duration": 6,
        "start_time": "2023-03-23T13:21:34.763Z"
      },
      {
        "duration": 37,
        "start_time": "2023-03-23T13:21:34.771Z"
      },
      {
        "duration": 49,
        "start_time": "2023-03-23T13:21:34.812Z"
      },
      {
        "duration": 19,
        "start_time": "2023-03-23T13:21:34.863Z"
      },
      {
        "duration": 28,
        "start_time": "2023-03-23T13:21:34.884Z"
      },
      {
        "duration": 59,
        "start_time": "2023-03-23T13:21:34.914Z"
      },
      {
        "duration": 13,
        "start_time": "2023-03-23T13:21:34.975Z"
      },
      {
        "duration": 14,
        "start_time": "2023-03-23T13:21:34.990Z"
      },
      {
        "duration": 87,
        "start_time": "2023-03-23T13:21:35.006Z"
      },
      {
        "duration": 22,
        "start_time": "2023-03-23T13:21:35.095Z"
      },
      {
        "duration": 29,
        "start_time": "2023-03-23T13:21:35.120Z"
      },
      {
        "duration": 386,
        "start_time": "2023-03-23T13:21:35.151Z"
      },
      {
        "duration": 224,
        "start_time": "2023-03-23T13:21:35.539Z"
      },
      {
        "duration": 10,
        "start_time": "2023-03-23T13:21:35.765Z"
      },
      {
        "duration": 9,
        "start_time": "2023-03-23T13:21:35.776Z"
      },
      {
        "duration": 12,
        "start_time": "2023-03-23T13:21:35.787Z"
      },
      {
        "duration": 99,
        "start_time": "2023-03-23T13:22:07.193Z"
      },
      {
        "duration": 161,
        "start_time": "2023-03-23T13:22:12.146Z"
      },
      {
        "duration": 149,
        "start_time": "2023-03-23T13:22:52.897Z"
      },
      {
        "duration": 62,
        "start_time": "2023-03-23T13:23:47.704Z"
      },
      {
        "duration": 52,
        "start_time": "2023-03-23T13:23:53.465Z"
      },
      {
        "duration": 118,
        "start_time": "2023-03-23T13:24:00.317Z"
      },
      {
        "duration": 210,
        "start_time": "2023-03-23T13:25:28.097Z"
      },
      {
        "duration": 311,
        "start_time": "2023-03-23T13:25:39.637Z"
      },
      {
        "duration": 287,
        "start_time": "2023-03-23T13:25:59.328Z"
      },
      {
        "duration": 263,
        "start_time": "2023-03-23T13:26:18.316Z"
      },
      {
        "duration": 217,
        "start_time": "2023-03-23T13:27:02.118Z"
      },
      {
        "duration": 80,
        "start_time": "2023-03-23T13:27:45.237Z"
      },
      {
        "duration": 164,
        "start_time": "2023-03-23T13:27:50.122Z"
      },
      {
        "duration": 150,
        "start_time": "2023-03-23T13:28:18.554Z"
      },
      {
        "duration": 168,
        "start_time": "2023-03-23T13:28:47.956Z"
      },
      {
        "duration": 88,
        "start_time": "2023-03-23T13:28:59.233Z"
      },
      {
        "duration": 196,
        "start_time": "2023-03-23T13:29:09.091Z"
      },
      {
        "duration": 103,
        "start_time": "2023-03-23T13:30:36.060Z"
      },
      {
        "duration": 1328,
        "start_time": "2023-03-23T13:31:01.416Z"
      },
      {
        "duration": 686,
        "start_time": "2023-03-23T13:31:02.747Z"
      },
      {
        "duration": 258,
        "start_time": "2023-03-23T13:31:03.435Z"
      },
      {
        "duration": 62,
        "start_time": "2023-03-23T13:31:03.695Z"
      },
      {
        "duration": 47,
        "start_time": "2023-03-23T13:31:03.759Z"
      },
      {
        "duration": 92,
        "start_time": "2023-03-23T13:31:03.808Z"
      },
      {
        "duration": 43,
        "start_time": "2023-03-23T13:31:03.902Z"
      },
      {
        "duration": 3629,
        "start_time": "2023-03-23T13:31:03.948Z"
      },
      {
        "duration": 6,
        "start_time": "2023-03-23T13:31:07.579Z"
      },
      {
        "duration": 31,
        "start_time": "2023-03-23T13:31:07.586Z"
      },
      {
        "duration": 51,
        "start_time": "2023-03-23T13:31:07.619Z"
      },
      {
        "duration": 19,
        "start_time": "2023-03-23T13:31:07.672Z"
      },
      {
        "duration": 27,
        "start_time": "2023-03-23T13:31:07.692Z"
      },
      {
        "duration": 29,
        "start_time": "2023-03-23T13:31:07.751Z"
      },
      {
        "duration": 11,
        "start_time": "2023-03-23T13:31:07.782Z"
      },
      {
        "duration": 14,
        "start_time": "2023-03-23T13:31:07.795Z"
      },
      {
        "duration": 102,
        "start_time": "2023-03-23T13:31:07.811Z"
      },
      {
        "duration": 39,
        "start_time": "2023-03-23T13:31:07.914Z"
      },
      {
        "duration": 12,
        "start_time": "2023-03-23T13:31:07.955Z"
      },
      {
        "duration": 401,
        "start_time": "2023-03-23T13:31:07.969Z"
      },
      {
        "duration": 240,
        "start_time": "2023-03-23T13:31:08.371Z"
      },
      {
        "duration": 9,
        "start_time": "2023-03-23T13:31:08.613Z"
      },
      {
        "duration": 41,
        "start_time": "2023-03-23T13:31:08.623Z"
      },
      {
        "duration": 14,
        "start_time": "2023-03-23T13:31:08.667Z"
      },
      {
        "duration": 61,
        "start_time": "2023-03-23T13:31:08.683Z"
      },
      {
        "duration": 141,
        "start_time": "2023-03-23T13:31:08.745Z"
      },
      {
        "duration": 120,
        "start_time": "2023-03-23T13:31:26.942Z"
      },
      {
        "duration": 16,
        "start_time": "2023-03-23T13:31:32.335Z"
      },
      {
        "duration": 37,
        "start_time": "2023-03-23T13:32:21.596Z"
      },
      {
        "duration": 36,
        "start_time": "2023-03-23T13:33:02.160Z"
      },
      {
        "duration": 44,
        "start_time": "2023-03-23T13:33:10.791Z"
      },
      {
        "duration": 39,
        "start_time": "2023-03-23T13:33:17.356Z"
      },
      {
        "duration": 28,
        "start_time": "2023-03-23T13:33:20.357Z"
      },
      {
        "duration": 24,
        "start_time": "2023-03-23T13:35:12.750Z"
      },
      {
        "duration": 27,
        "start_time": "2023-03-23T13:35:40.957Z"
      },
      {
        "duration": 32,
        "start_time": "2023-03-23T13:35:53.737Z"
      },
      {
        "duration": 47,
        "start_time": "2023-03-23T13:37:23.243Z"
      },
      {
        "duration": 44,
        "start_time": "2023-03-23T13:37:27.154Z"
      },
      {
        "duration": 45,
        "start_time": "2023-03-23T13:37:41.657Z"
      },
      {
        "duration": 64,
        "start_time": "2023-03-23T13:37:56.916Z"
      },
      {
        "duration": 54,
        "start_time": "2023-03-23T13:38:15.720Z"
      },
      {
        "duration": 20,
        "start_time": "2023-03-23T13:41:50.839Z"
      },
      {
        "duration": 13,
        "start_time": "2023-03-23T13:41:54.312Z"
      },
      {
        "duration": 78,
        "start_time": "2023-03-23T13:42:10.811Z"
      },
      {
        "duration": 147,
        "start_time": "2023-03-23T13:42:13.154Z"
      },
      {
        "duration": 16,
        "start_time": "2023-03-23T13:42:22.669Z"
      },
      {
        "duration": 48,
        "start_time": "2023-03-23T13:42:43.532Z"
      },
      {
        "duration": 51,
        "start_time": "2023-03-23T13:43:13.923Z"
      },
      {
        "duration": 1485,
        "start_time": "2023-03-23T13:43:48.766Z"
      },
      {
        "duration": 6,
        "start_time": "2023-03-23T13:44:30.469Z"
      },
      {
        "duration": 96,
        "start_time": "2023-03-23T13:46:00.995Z"
      },
      {
        "duration": 112,
        "start_time": "2023-03-23T13:46:07.158Z"
      },
      {
        "duration": 116,
        "start_time": "2023-03-23T13:46:38.669Z"
      },
      {
        "duration": 23,
        "start_time": "2023-03-23T13:47:35.362Z"
      },
      {
        "duration": 15,
        "start_time": "2023-03-23T13:47:54.799Z"
      },
      {
        "duration": 16,
        "start_time": "2023-03-23T13:48:48.600Z"
      },
      {
        "duration": 11,
        "start_time": "2023-03-23T13:49:23.708Z"
      },
      {
        "duration": 19,
        "start_time": "2023-03-23T13:49:36.968Z"
      },
      {
        "duration": 13,
        "start_time": "2023-03-23T13:49:41.146Z"
      },
      {
        "duration": 50,
        "start_time": "2023-03-23T13:50:21.637Z"
      },
      {
        "duration": 17,
        "start_time": "2023-03-23T13:50:24.624Z"
      },
      {
        "duration": 56,
        "start_time": "2023-03-23T13:50:27.333Z"
      },
      {
        "duration": 15,
        "start_time": "2023-03-23T13:50:54.865Z"
      },
      {
        "duration": 11,
        "start_time": "2023-03-23T13:51:00.688Z"
      },
      {
        "duration": 11,
        "start_time": "2023-03-23T13:51:31.664Z"
      },
      {
        "duration": 48,
        "start_time": "2023-03-23T13:51:36.857Z"
      },
      {
        "duration": 27,
        "start_time": "2023-03-23T13:53:17.057Z"
      },
      {
        "duration": 133,
        "start_time": "2023-03-23T13:53:25.799Z"
      },
      {
        "duration": 120,
        "start_time": "2023-03-23T13:53:38.865Z"
      },
      {
        "duration": 125,
        "start_time": "2023-03-23T13:53:48.641Z"
      },
      {
        "duration": 126,
        "start_time": "2023-03-23T13:53:55.883Z"
      },
      {
        "duration": 8,
        "start_time": "2023-03-23T14:24:06.903Z"
      },
      {
        "duration": 26,
        "start_time": "2023-03-23T14:24:31.277Z"
      },
      {
        "duration": 16,
        "start_time": "2023-03-23T14:24:38.648Z"
      },
      {
        "duration": 239,
        "start_time": "2023-03-23T14:28:46.221Z"
      },
      {
        "duration": 1546,
        "start_time": "2023-03-23T14:29:14.888Z"
      },
      {
        "duration": 681,
        "start_time": "2023-03-23T14:29:16.436Z"
      },
      {
        "duration": 291,
        "start_time": "2023-03-23T14:29:17.119Z"
      },
      {
        "duration": 71,
        "start_time": "2023-03-23T14:29:17.412Z"
      },
      {
        "duration": 85,
        "start_time": "2023-03-23T14:29:17.486Z"
      },
      {
        "duration": 124,
        "start_time": "2023-03-23T14:29:17.573Z"
      },
      {
        "duration": 53,
        "start_time": "2023-03-23T14:29:17.699Z"
      },
      {
        "duration": 4359,
        "start_time": "2023-03-23T14:29:17.754Z"
      },
      {
        "duration": 10,
        "start_time": "2023-03-23T14:29:22.116Z"
      },
      {
        "duration": 51,
        "start_time": "2023-03-23T14:29:22.142Z"
      },
      {
        "duration": 35,
        "start_time": "2023-03-23T14:29:22.201Z"
      },
      {
        "duration": 33,
        "start_time": "2023-03-23T14:29:22.238Z"
      },
      {
        "duration": 35,
        "start_time": "2023-03-23T14:29:22.274Z"
      },
      {
        "duration": 55,
        "start_time": "2023-03-23T14:29:22.314Z"
      },
      {
        "duration": 15,
        "start_time": "2023-03-23T14:29:22.371Z"
      },
      {
        "duration": 13,
        "start_time": "2023-03-23T14:29:22.389Z"
      },
      {
        "duration": 111,
        "start_time": "2023-03-23T14:29:22.404Z"
      },
      {
        "duration": 37,
        "start_time": "2023-03-23T14:29:22.517Z"
      },
      {
        "duration": 18,
        "start_time": "2023-03-23T14:29:22.556Z"
      },
      {
        "duration": 522,
        "start_time": "2023-03-23T14:29:22.576Z"
      },
      {
        "duration": 272,
        "start_time": "2023-03-23T14:29:23.101Z"
      },
      {
        "duration": 11,
        "start_time": "2023-03-23T14:29:23.376Z"
      },
      {
        "duration": 8,
        "start_time": "2023-03-23T14:29:23.388Z"
      },
      {
        "duration": 108,
        "start_time": "2023-03-23T14:29:23.398Z"
      },
      {
        "duration": 494,
        "start_time": "2023-03-23T14:29:23.508Z"
      },
      {
        "duration": 240,
        "start_time": "2023-03-23T14:29:40.877Z"
      },
      {
        "duration": 1454,
        "start_time": "2023-03-23T14:30:41.316Z"
      },
      {
        "duration": 1388,
        "start_time": "2023-03-23T14:30:50.797Z"
      },
      {
        "duration": 143,
        "start_time": "2023-03-23T14:30:54.411Z"
      },
      {
        "duration": 209,
        "start_time": "2023-03-23T14:30:59.568Z"
      },
      {
        "duration": 186,
        "start_time": "2023-03-23T14:31:32.238Z"
      },
      {
        "duration": 151,
        "start_time": "2023-03-23T14:31:57.440Z"
      },
      {
        "duration": 217,
        "start_time": "2023-03-23T14:32:06.282Z"
      },
      {
        "duration": 192,
        "start_time": "2023-03-23T14:32:21.424Z"
      },
      {
        "duration": 165,
        "start_time": "2023-03-23T14:32:50.601Z"
      },
      {
        "duration": 117,
        "start_time": "2023-03-23T14:33:14.191Z"
      },
      {
        "duration": 1245,
        "start_time": "2023-03-23T14:34:05.755Z"
      },
      {
        "duration": 659,
        "start_time": "2023-03-23T14:34:07.002Z"
      },
      {
        "duration": 258,
        "start_time": "2023-03-23T14:34:07.663Z"
      },
      {
        "duration": 52,
        "start_time": "2023-03-23T14:34:07.924Z"
      },
      {
        "duration": 46,
        "start_time": "2023-03-23T14:34:07.978Z"
      },
      {
        "duration": 87,
        "start_time": "2023-03-23T14:34:08.026Z"
      },
      {
        "duration": 43,
        "start_time": "2023-03-23T14:34:08.115Z"
      },
      {
        "duration": 3543,
        "start_time": "2023-03-23T14:34:08.160Z"
      },
      {
        "duration": 6,
        "start_time": "2023-03-23T14:34:11.705Z"
      },
      {
        "duration": 40,
        "start_time": "2023-03-23T14:34:11.713Z"
      },
      {
        "duration": 25,
        "start_time": "2023-03-23T14:34:11.755Z"
      },
      {
        "duration": 19,
        "start_time": "2023-03-23T14:34:11.782Z"
      },
      {
        "duration": 54,
        "start_time": "2023-03-23T14:34:11.802Z"
      },
      {
        "duration": 29,
        "start_time": "2023-03-23T14:34:11.859Z"
      },
      {
        "duration": 13,
        "start_time": "2023-03-23T14:34:11.890Z"
      },
      {
        "duration": 36,
        "start_time": "2023-03-23T14:34:11.905Z"
      },
      {
        "duration": 71,
        "start_time": "2023-03-23T14:34:11.942Z"
      },
      {
        "duration": 34,
        "start_time": "2023-03-23T14:34:12.014Z"
      },
      {
        "duration": 15,
        "start_time": "2023-03-23T14:34:12.050Z"
      },
      {
        "duration": 385,
        "start_time": "2023-03-23T14:34:12.066Z"
      },
      {
        "duration": 219,
        "start_time": "2023-03-23T14:34:12.452Z"
      },
      {
        "duration": 10,
        "start_time": "2023-03-23T14:34:12.673Z"
      },
      {
        "duration": 25,
        "start_time": "2023-03-23T14:34:12.684Z"
      },
      {
        "duration": 65,
        "start_time": "2023-03-23T14:34:12.710Z"
      },
      {
        "duration": 149,
        "start_time": "2023-03-23T14:34:12.777Z"
      },
      {
        "duration": 5,
        "start_time": "2023-03-23T14:34:17.158Z"
      },
      {
        "duration": 4,
        "start_time": "2023-03-23T14:34:54.561Z"
      },
      {
        "duration": 39,
        "start_time": "2023-03-23T14:35:05.185Z"
      },
      {
        "duration": 50,
        "start_time": "2023-03-23T14:35:16.109Z"
      },
      {
        "duration": 65,
        "start_time": "2023-03-24T11:53:21.136Z"
      },
      {
        "duration": 1591,
        "start_time": "2023-03-24T11:54:03.284Z"
      },
      {
        "duration": 1465,
        "start_time": "2023-03-24T11:54:04.877Z"
      },
      {
        "duration": 256,
        "start_time": "2023-03-24T11:54:06.344Z"
      },
      {
        "duration": 62,
        "start_time": "2023-03-24T11:54:06.603Z"
      },
      {
        "duration": 62,
        "start_time": "2023-03-24T11:54:06.667Z"
      },
      {
        "duration": 84,
        "start_time": "2023-03-24T11:54:06.731Z"
      },
      {
        "duration": 28,
        "start_time": "2023-03-24T11:54:06.817Z"
      },
      {
        "duration": 4092,
        "start_time": "2023-03-24T11:54:06.847Z"
      },
      {
        "duration": 6,
        "start_time": "2023-03-24T11:54:10.941Z"
      },
      {
        "duration": 57,
        "start_time": "2023-03-24T11:54:10.950Z"
      },
      {
        "duration": 25,
        "start_time": "2023-03-24T11:54:11.008Z"
      },
      {
        "duration": 19,
        "start_time": "2023-03-24T11:54:11.035Z"
      },
      {
        "duration": 55,
        "start_time": "2023-03-24T11:54:11.056Z"
      },
      {
        "duration": 25,
        "start_time": "2023-03-24T11:54:11.113Z"
      },
      {
        "duration": 9,
        "start_time": "2023-03-24T11:54:11.141Z"
      },
      {
        "duration": 28,
        "start_time": "2023-03-24T11:54:11.152Z"
      },
      {
        "duration": 73,
        "start_time": "2023-03-24T11:54:11.184Z"
      },
      {
        "duration": 46,
        "start_time": "2023-03-24T11:54:11.259Z"
      },
      {
        "duration": 16,
        "start_time": "2023-03-24T11:54:11.308Z"
      },
      {
        "duration": 434,
        "start_time": "2023-03-24T11:54:11.326Z"
      },
      {
        "duration": 155,
        "start_time": "2023-03-24T11:54:11.762Z"
      },
      {
        "duration": 8,
        "start_time": "2023-03-24T11:54:11.918Z"
      },
      {
        "duration": 9,
        "start_time": "2023-03-24T11:54:11.928Z"
      },
      {
        "duration": 86,
        "start_time": "2023-03-24T11:54:11.938Z"
      },
      {
        "duration": 292,
        "start_time": "2023-03-24T11:54:12.026Z"
      },
      {
        "duration": 76,
        "start_time": "2023-03-24T11:54:12.320Z"
      },
      {
        "duration": 16,
        "start_time": "2023-03-24T11:54:12.398Z"
      },
      {
        "duration": 108,
        "start_time": "2023-03-24T11:54:12.420Z"
      },
      {
        "duration": 191,
        "start_time": "2023-03-24T11:54:12.530Z"
      },
      {
        "duration": 16,
        "start_time": "2023-03-24T11:54:12.723Z"
      },
      {
        "duration": 87,
        "start_time": "2023-03-24T11:54:12.741Z"
      },
      {
        "duration": 6,
        "start_time": "2023-03-24T11:54:12.830Z"
      },
      {
        "duration": 47,
        "start_time": "2023-03-24T11:54:12.838Z"
      },
      {
        "duration": 4,
        "start_time": "2023-03-24T11:54:49.256Z"
      },
      {
        "duration": 4,
        "start_time": "2023-03-24T11:55:59.497Z"
      },
      {
        "duration": 3,
        "start_time": "2023-03-24T11:56:03.968Z"
      },
      {
        "duration": 3,
        "start_time": "2023-03-24T11:56:33.745Z"
      },
      {
        "duration": 4,
        "start_time": "2023-03-24T11:56:39.320Z"
      },
      {
        "duration": 3,
        "start_time": "2023-03-24T11:56:42.900Z"
      },
      {
        "duration": 4,
        "start_time": "2023-03-24T11:56:45.536Z"
      },
      {
        "duration": 36,
        "start_time": "2023-03-24T11:58:09.153Z"
      },
      {
        "duration": 46,
        "start_time": "2023-03-24T11:58:15.472Z"
      },
      {
        "duration": 4,
        "start_time": "2023-03-24T11:58:24.640Z"
      },
      {
        "duration": 194,
        "start_time": "2023-03-24T11:59:04.009Z"
      },
      {
        "duration": 4,
        "start_time": "2023-03-24T11:59:33.456Z"
      },
      {
        "duration": 3,
        "start_time": "2023-03-24T11:59:41.958Z"
      },
      {
        "duration": 167,
        "start_time": "2023-03-24T12:00:38.736Z"
      },
      {
        "duration": 311,
        "start_time": "2023-03-24T12:03:26.458Z"
      },
      {
        "duration": 148,
        "start_time": "2023-03-24T12:03:30.140Z"
      },
      {
        "duration": 67,
        "start_time": "2023-03-24T12:03:41.099Z"
      },
      {
        "duration": 173,
        "start_time": "2023-03-24T12:03:43.781Z"
      },
      {
        "duration": 5,
        "start_time": "2023-03-24T12:04:48.887Z"
      },
      {
        "duration": 5,
        "start_time": "2023-03-24T12:05:04.827Z"
      },
      {
        "duration": 10,
        "start_time": "2023-03-24T12:14:15.247Z"
      },
      {
        "duration": 7,
        "start_time": "2023-03-24T12:14:17.022Z"
      },
      {
        "duration": 5,
        "start_time": "2023-03-24T12:14:18.702Z"
      },
      {
        "duration": 7,
        "start_time": "2023-03-24T12:14:19.888Z"
      },
      {
        "duration": 10,
        "start_time": "2023-03-24T12:14:21.718Z"
      },
      {
        "duration": 10,
        "start_time": "2023-03-24T12:14:51.494Z"
      },
      {
        "duration": 13,
        "start_time": "2023-03-24T12:18:42.417Z"
      },
      {
        "duration": 669,
        "start_time": "2023-03-24T12:18:42.849Z"
      },
      {
        "duration": 1244,
        "start_time": "2023-03-24T12:19:23.371Z"
      },
      {
        "duration": 665,
        "start_time": "2023-03-24T12:19:43.356Z"
      },
      {
        "duration": 677,
        "start_time": "2023-03-24T12:20:15.362Z"
      },
      {
        "duration": 13,
        "start_time": "2023-03-24T12:20:27.053Z"
      },
      {
        "duration": 616,
        "start_time": "2023-03-24T12:20:35.250Z"
      },
      {
        "duration": 16,
        "start_time": "2023-03-24T12:23:06.487Z"
      },
      {
        "duration": 7,
        "start_time": "2023-03-24T12:23:09.368Z"
      },
      {
        "duration": 5,
        "start_time": "2023-03-24T12:23:11.291Z"
      },
      {
        "duration": 7,
        "start_time": "2023-03-24T12:23:12.172Z"
      },
      {
        "duration": 3,
        "start_time": "2023-03-24T12:23:15.096Z"
      },
      {
        "duration": 20,
        "start_time": "2023-03-24T12:23:16.187Z"
      },
      {
        "duration": 24,
        "start_time": "2023-03-24T12:23:17.264Z"
      },
      {
        "duration": 15,
        "start_time": "2023-03-24T12:23:18.121Z"
      },
      {
        "duration": 6,
        "start_time": "2023-03-24T12:23:30.565Z"
      },
      {
        "duration": 6,
        "start_time": "2023-03-24T12:23:38.457Z"
      },
      {
        "duration": 6,
        "start_time": "2023-03-24T12:23:48.083Z"
      },
      {
        "duration": 6,
        "start_time": "2023-03-24T12:30:11.020Z"
      },
      {
        "duration": 19,
        "start_time": "2023-03-24T12:41:09.871Z"
      },
      {
        "duration": 8,
        "start_time": "2023-03-24T12:41:24.663Z"
      },
      {
        "duration": 11,
        "start_time": "2023-03-24T12:41:30.078Z"
      },
      {
        "duration": 23,
        "start_time": "2023-03-24T12:49:48.791Z"
      },
      {
        "duration": 21,
        "start_time": "2023-03-24T12:49:58.749Z"
      },
      {
        "duration": 10,
        "start_time": "2023-03-24T12:52:02.992Z"
      },
      {
        "duration": 185,
        "start_time": "2023-03-24T12:53:19.013Z"
      },
      {
        "duration": 30,
        "start_time": "2023-03-24T12:55:01.863Z"
      },
      {
        "duration": 24,
        "start_time": "2023-03-24T12:55:07.759Z"
      },
      {
        "duration": 25,
        "start_time": "2023-03-24T12:56:25.662Z"
      },
      {
        "duration": 6,
        "start_time": "2023-03-24T12:56:26.168Z"
      },
      {
        "duration": 28,
        "start_time": "2023-03-24T12:56:33.008Z"
      },
      {
        "duration": 6,
        "start_time": "2023-03-24T12:56:33.406Z"
      },
      {
        "duration": 34,
        "start_time": "2023-03-24T12:58:23.145Z"
      },
      {
        "duration": 50,
        "start_time": "2023-03-24T12:58:27.447Z"
      },
      {
        "duration": 33,
        "start_time": "2023-03-24T12:58:38.199Z"
      },
      {
        "duration": 30,
        "start_time": "2023-03-24T12:58:46.152Z"
      },
      {
        "duration": 93,
        "start_time": "2023-03-24T12:58:54.839Z"
      },
      {
        "duration": 10,
        "start_time": "2023-03-24T12:58:58.751Z"
      },
      {
        "duration": 10,
        "start_time": "2023-03-24T12:59:08.647Z"
      },
      {
        "duration": 1260,
        "start_time": "2023-03-24T12:59:19.098Z"
      },
      {
        "duration": 700,
        "start_time": "2023-03-24T12:59:20.361Z"
      },
      {
        "duration": 312,
        "start_time": "2023-03-24T12:59:21.064Z"
      },
      {
        "duration": 61,
        "start_time": "2023-03-24T12:59:21.380Z"
      },
      {
        "duration": 93,
        "start_time": "2023-03-24T12:59:21.443Z"
      },
      {
        "duration": 98,
        "start_time": "2023-03-24T12:59:21.538Z"
      },
      {
        "duration": 47,
        "start_time": "2023-03-24T12:59:21.639Z"
      },
      {
        "duration": 4107,
        "start_time": "2023-03-24T12:59:21.688Z"
      },
      {
        "duration": 7,
        "start_time": "2023-03-24T12:59:25.797Z"
      },
      {
        "duration": 35,
        "start_time": "2023-03-24T12:59:25.807Z"
      },
      {
        "duration": 53,
        "start_time": "2023-03-24T12:59:25.844Z"
      },
      {
        "duration": 20,
        "start_time": "2023-03-24T12:59:25.899Z"
      },
      {
        "duration": 55,
        "start_time": "2023-03-24T12:59:25.921Z"
      },
      {
        "duration": 39,
        "start_time": "2023-03-24T12:59:25.978Z"
      },
      {
        "duration": 12,
        "start_time": "2023-03-24T12:59:26.020Z"
      },
      {
        "duration": 13,
        "start_time": "2023-03-24T12:59:26.034Z"
      },
      {
        "duration": 79,
        "start_time": "2023-03-24T12:59:26.074Z"
      },
      {
        "duration": 38,
        "start_time": "2023-03-24T12:59:26.155Z"
      },
      {
        "duration": 11,
        "start_time": "2023-03-24T12:59:26.199Z"
      },
      {
        "duration": 478,
        "start_time": "2023-03-24T12:59:26.212Z"
      },
      {
        "duration": 291,
        "start_time": "2023-03-24T12:59:26.693Z"
      },
      {
        "duration": 10,
        "start_time": "2023-03-24T12:59:26.986Z"
      },
      {
        "duration": 11,
        "start_time": "2023-03-24T12:59:26.997Z"
      },
      {
        "duration": 8,
        "start_time": "2023-03-24T12:59:27.009Z"
      },
      {
        "duration": 90,
        "start_time": "2023-03-24T12:59:27.018Z"
      },
      {
        "duration": 168,
        "start_time": "2023-03-24T12:59:27.110Z"
      },
      {
        "duration": 31,
        "start_time": "2023-03-24T12:59:27.280Z"
      },
      {
        "duration": 5,
        "start_time": "2023-03-24T12:59:27.316Z"
      },
      {
        "duration": 19,
        "start_time": "2023-03-24T12:59:27.322Z"
      },
      {
        "duration": 41,
        "start_time": "2023-03-24T12:59:27.343Z"
      },
      {
        "duration": 53,
        "start_time": "2023-03-24T12:59:27.386Z"
      },
      {
        "duration": 11,
        "start_time": "2023-03-24T12:59:27.440Z"
      },
      {
        "duration": 173,
        "start_time": "2023-03-24T12:59:27.453Z"
      },
      {
        "duration": 16,
        "start_time": "2023-03-24T12:59:27.628Z"
      },
      {
        "duration": 77,
        "start_time": "2023-03-24T12:59:27.645Z"
      },
      {
        "duration": 7,
        "start_time": "2023-03-24T12:59:27.724Z"
      },
      {
        "duration": 63,
        "start_time": "2023-03-24T12:59:27.733Z"
      },
      {
        "duration": 4,
        "start_time": "2023-03-24T12:59:27.799Z"
      },
      {
        "duration": 9,
        "start_time": "2023-03-24T12:59:27.805Z"
      },
      {
        "duration": 168,
        "start_time": "2023-03-24T12:59:27.816Z"
      },
      {
        "duration": 20,
        "start_time": "2023-03-24T12:59:27.986Z"
      },
      {
        "duration": 17,
        "start_time": "2023-03-24T12:59:28.008Z"
      },
      {
        "duration": 34,
        "start_time": "2023-03-24T12:59:28.026Z"
      },
      {
        "duration": 6,
        "start_time": "2023-03-24T12:59:28.061Z"
      },
      {
        "duration": 25,
        "start_time": "2023-03-24T12:59:28.069Z"
      },
      {
        "duration": 12,
        "start_time": "2023-03-24T12:59:28.097Z"
      },
      {
        "duration": 17,
        "start_time": "2023-03-24T12:59:28.112Z"
      },
      {
        "duration": 6,
        "start_time": "2023-03-24T12:59:28.131Z"
      },
      {
        "duration": 23,
        "start_time": "2023-03-24T12:59:28.139Z"
      },
      {
        "duration": 24,
        "start_time": "2023-03-24T12:59:28.163Z"
      },
      {
        "duration": 6,
        "start_time": "2023-03-24T12:59:28.189Z"
      },
      {
        "duration": 23,
        "start_time": "2023-03-24T12:59:28.197Z"
      },
      {
        "duration": 31,
        "start_time": "2023-03-24T12:59:28.222Z"
      },
      {
        "duration": 33,
        "start_time": "2023-03-24T12:59:28.258Z"
      },
      {
        "duration": 14,
        "start_time": "2023-03-24T13:00:00.395Z"
      },
      {
        "duration": 145,
        "start_time": "2023-03-24T13:00:23.192Z"
      },
      {
        "duration": 62,
        "start_time": "2023-03-24T13:01:06.179Z"
      },
      {
        "duration": 9,
        "start_time": "2023-03-24T13:01:07.240Z"
      },
      {
        "duration": 137,
        "start_time": "2023-03-24T13:01:07.834Z"
      },
      {
        "duration": 141,
        "start_time": "2023-03-24T13:02:55.122Z"
      },
      {
        "duration": 103,
        "start_time": "2023-03-24T13:06:10.986Z"
      },
      {
        "duration": 86,
        "start_time": "2023-03-24T13:06:33.643Z"
      },
      {
        "duration": 37,
        "start_time": "2023-03-24T13:08:59.290Z"
      },
      {
        "duration": 18,
        "start_time": "2023-03-24T13:09:40.154Z"
      },
      {
        "duration": 18,
        "start_time": "2023-03-24T13:09:49.154Z"
      },
      {
        "duration": 33,
        "start_time": "2023-03-24T13:09:52.898Z"
      },
      {
        "duration": 39,
        "start_time": "2023-03-24T13:11:19.287Z"
      },
      {
        "duration": 204,
        "start_time": "2023-03-24T13:12:00.259Z"
      },
      {
        "duration": 37,
        "start_time": "2023-03-24T13:12:13.121Z"
      },
      {
        "duration": 45,
        "start_time": "2023-03-24T13:12:19.527Z"
      },
      {
        "duration": 17,
        "start_time": "2023-03-24T13:12:46.426Z"
      },
      {
        "duration": 64,
        "start_time": "2023-03-24T13:12:51.363Z"
      },
      {
        "duration": 72,
        "start_time": "2023-03-24T13:13:09.889Z"
      },
      {
        "duration": 63,
        "start_time": "2023-03-24T13:13:15.027Z"
      },
      {
        "duration": 18,
        "start_time": "2023-03-24T13:13:32.204Z"
      },
      {
        "duration": 60,
        "start_time": "2023-03-24T13:13:33.892Z"
      },
      {
        "duration": 68,
        "start_time": "2023-03-24T13:14:06.965Z"
      },
      {
        "duration": 33,
        "start_time": "2023-03-24T13:14:34.964Z"
      },
      {
        "duration": 159,
        "start_time": "2023-03-24T13:14:58.940Z"
      },
      {
        "duration": 196,
        "start_time": "2023-03-24T13:20:22.109Z"
      },
      {
        "duration": 151,
        "start_time": "2023-03-24T13:20:38.049Z"
      },
      {
        "duration": 1330,
        "start_time": "2023-03-24T13:20:56.495Z"
      },
      {
        "duration": 700,
        "start_time": "2023-03-24T13:20:57.827Z"
      },
      {
        "duration": 255,
        "start_time": "2023-03-24T13:20:58.528Z"
      },
      {
        "duration": 47,
        "start_time": "2023-03-24T13:20:58.785Z"
      },
      {
        "duration": 74,
        "start_time": "2023-03-24T13:20:58.834Z"
      },
      {
        "duration": 88,
        "start_time": "2023-03-24T13:20:58.910Z"
      },
      {
        "duration": 27,
        "start_time": "2023-03-24T13:20:59.000Z"
      },
      {
        "duration": 4020,
        "start_time": "2023-03-24T13:20:59.029Z"
      },
      {
        "duration": 6,
        "start_time": "2023-03-24T13:21:03.051Z"
      },
      {
        "duration": 60,
        "start_time": "2023-03-24T13:21:03.059Z"
      },
      {
        "duration": 27,
        "start_time": "2023-03-24T13:21:03.121Z"
      },
      {
        "duration": 34,
        "start_time": "2023-03-24T13:21:03.150Z"
      },
      {
        "duration": 36,
        "start_time": "2023-03-24T13:21:03.186Z"
      },
      {
        "duration": 27,
        "start_time": "2023-03-24T13:21:03.225Z"
      },
      {
        "duration": 17,
        "start_time": "2023-03-24T13:21:03.274Z"
      },
      {
        "duration": 15,
        "start_time": "2023-03-24T13:21:03.293Z"
      },
      {
        "duration": 95,
        "start_time": "2023-03-24T13:21:03.310Z"
      },
      {
        "duration": 20,
        "start_time": "2023-03-24T13:21:03.407Z"
      },
      {
        "duration": 10,
        "start_time": "2023-03-24T13:21:03.429Z"
      },
      {
        "duration": 438,
        "start_time": "2023-03-24T13:21:03.441Z"
      },
      {
        "duration": 279,
        "start_time": "2023-03-24T13:21:03.881Z"
      },
      {
        "duration": 22,
        "start_time": "2023-03-24T13:21:04.163Z"
      },
      {
        "duration": 24,
        "start_time": "2023-03-24T13:21:04.188Z"
      },
      {
        "duration": 9,
        "start_time": "2023-03-24T13:21:04.214Z"
      },
      {
        "duration": 83,
        "start_time": "2023-03-24T13:21:04.224Z"
      },
      {
        "duration": 182,
        "start_time": "2023-03-24T13:21:04.309Z"
      },
      {
        "duration": 32,
        "start_time": "2023-03-24T13:21:04.493Z"
      },
      {
        "duration": 186,
        "start_time": "2023-03-24T13:21:04.527Z"
      },
      {
        "duration": 19,
        "start_time": "2023-03-24T13:21:04.715Z"
      },
      {
        "duration": 84,
        "start_time": "2023-03-24T13:21:04.736Z"
      },
      {
        "duration": 18,
        "start_time": "2023-03-24T13:21:04.822Z"
      },
      {
        "duration": 34,
        "start_time": "2023-03-24T13:21:04.842Z"
      },
      {
        "duration": 56,
        "start_time": "2023-03-24T13:21:04.878Z"
      },
      {
        "duration": 195,
        "start_time": "2023-03-24T13:21:04.935Z"
      },
      {
        "duration": 172,
        "start_time": "2023-03-24T13:21:05.132Z"
      },
      {
        "duration": 14,
        "start_time": "2023-03-24T13:21:05.306Z"
      },
      {
        "duration": 93,
        "start_time": "2023-03-24T13:21:05.322Z"
      },
      {
        "duration": 6,
        "start_time": "2023-03-24T13:21:05.417Z"
      },
      {
        "duration": 74,
        "start_time": "2023-03-24T13:21:05.424Z"
      },
      {
        "duration": 6,
        "start_time": "2023-03-24T13:21:05.500Z"
      },
      {
        "duration": 20,
        "start_time": "2023-03-24T13:21:05.509Z"
      },
      {
        "duration": 158,
        "start_time": "2023-03-24T13:21:05.531Z"
      },
      {
        "duration": 17,
        "start_time": "2023-03-24T13:21:05.691Z"
      },
      {
        "duration": 7,
        "start_time": "2023-03-24T13:21:05.710Z"
      },
      {
        "duration": 5,
        "start_time": "2023-03-24T13:21:05.719Z"
      },
      {
        "duration": 4,
        "start_time": "2023-03-24T13:21:05.726Z"
      },
      {
        "duration": 9,
        "start_time": "2023-03-24T13:21:05.732Z"
      },
      {
        "duration": 41,
        "start_time": "2023-03-24T13:21:05.742Z"
      },
      {
        "duration": 20,
        "start_time": "2023-03-24T13:21:05.785Z"
      },
      {
        "duration": 6,
        "start_time": "2023-03-24T13:21:05.807Z"
      },
      {
        "duration": 7,
        "start_time": "2023-03-24T13:21:05.814Z"
      },
      {
        "duration": 8,
        "start_time": "2023-03-24T13:21:05.823Z"
      },
      {
        "duration": 6,
        "start_time": "2023-03-24T13:21:05.833Z"
      },
      {
        "duration": 47,
        "start_time": "2023-03-24T13:21:05.841Z"
      },
      {
        "duration": 24,
        "start_time": "2023-03-24T13:21:05.890Z"
      },
      {
        "duration": 16,
        "start_time": "2023-03-24T13:21:05.916Z"
      },
      {
        "duration": 33,
        "start_time": "2023-03-24T13:22:21.251Z"
      },
      {
        "duration": 28,
        "start_time": "2023-03-24T13:22:39.345Z"
      },
      {
        "duration": 31,
        "start_time": "2023-03-24T13:22:48.814Z"
      },
      {
        "duration": 47,
        "start_time": "2023-03-24T13:23:10.602Z"
      },
      {
        "duration": 137,
        "start_time": "2023-03-24T13:24:23.816Z"
      },
      {
        "duration": 150,
        "start_time": "2023-03-24T13:24:49.704Z"
      },
      {
        "duration": 133,
        "start_time": "2023-03-24T13:25:23.481Z"
      },
      {
        "duration": 137,
        "start_time": "2023-03-24T13:25:33.415Z"
      },
      {
        "duration": 142,
        "start_time": "2023-03-24T13:25:49.608Z"
      },
      {
        "duration": 137,
        "start_time": "2023-03-24T13:25:55.994Z"
      },
      {
        "duration": 84,
        "start_time": "2023-03-24T13:26:04.072Z"
      },
      {
        "duration": 134,
        "start_time": "2023-03-24T13:26:06.904Z"
      },
      {
        "duration": 137,
        "start_time": "2023-03-24T13:27:10.551Z"
      },
      {
        "duration": 150,
        "start_time": "2023-03-24T13:27:16.097Z"
      },
      {
        "duration": 166,
        "start_time": "2023-03-24T13:27:24.062Z"
      },
      {
        "duration": 136,
        "start_time": "2023-03-24T13:28:06.559Z"
      },
      {
        "duration": 300,
        "start_time": "2023-03-24T13:28:23.001Z"
      },
      {
        "duration": 129,
        "start_time": "2023-03-24T13:28:36.063Z"
      },
      {
        "duration": 1288,
        "start_time": "2023-03-24T13:34:36.257Z"
      },
      {
        "duration": 660,
        "start_time": "2023-03-24T13:34:37.547Z"
      },
      {
        "duration": 249,
        "start_time": "2023-03-24T13:34:38.209Z"
      },
      {
        "duration": 46,
        "start_time": "2023-03-24T13:34:38.474Z"
      },
      {
        "duration": 55,
        "start_time": "2023-03-24T13:34:38.521Z"
      },
      {
        "duration": 74,
        "start_time": "2023-03-24T13:34:38.578Z"
      },
      {
        "duration": 43,
        "start_time": "2023-03-24T13:34:38.654Z"
      },
      {
        "duration": 3945,
        "start_time": "2023-03-24T13:34:38.698Z"
      },
      {
        "duration": 7,
        "start_time": "2023-03-24T13:34:42.644Z"
      },
      {
        "duration": 45,
        "start_time": "2023-03-24T13:34:42.653Z"
      },
      {
        "duration": 25,
        "start_time": "2023-03-24T13:34:42.699Z"
      },
      {
        "duration": 18,
        "start_time": "2023-03-24T13:34:42.726Z"
      },
      {
        "duration": 63,
        "start_time": "2023-03-24T13:34:42.746Z"
      },
      {
        "duration": 26,
        "start_time": "2023-03-24T13:34:42.811Z"
      },
      {
        "duration": 9,
        "start_time": "2023-03-24T13:34:42.839Z"
      },
      {
        "duration": 34,
        "start_time": "2023-03-24T13:34:42.850Z"
      },
      {
        "duration": 61,
        "start_time": "2023-03-24T13:34:42.886Z"
      },
      {
        "duration": 51,
        "start_time": "2023-03-24T13:34:42.949Z"
      },
      {
        "duration": 11,
        "start_time": "2023-03-24T13:34:43.002Z"
      },
      {
        "duration": 410,
        "start_time": "2023-03-24T13:34:43.014Z"
      },
      {
        "duration": 179,
        "start_time": "2023-03-24T13:34:43.426Z"
      },
      {
        "duration": 8,
        "start_time": "2023-03-24T13:34:43.607Z"
      },
      {
        "duration": 9,
        "start_time": "2023-03-24T13:34:43.617Z"
      },
      {
        "duration": 7,
        "start_time": "2023-03-24T13:34:43.628Z"
      },
      {
        "duration": 81,
        "start_time": "2023-03-24T13:34:43.637Z"
      },
      {
        "duration": 146,
        "start_time": "2023-03-24T13:34:43.720Z"
      },
      {
        "duration": 30,
        "start_time": "2023-03-24T13:34:43.867Z"
      },
      {
        "duration": 174,
        "start_time": "2023-03-24T13:34:43.901Z"
      },
      {
        "duration": 22,
        "start_time": "2023-03-24T13:34:44.077Z"
      },
      {
        "duration": 100,
        "start_time": "2023-03-24T13:34:44.103Z"
      },
      {
        "duration": 21,
        "start_time": "2023-03-24T13:34:44.205Z"
      },
      {
        "duration": 15,
        "start_time": "2023-03-24T13:34:44.228Z"
      },
      {
        "duration": 84,
        "start_time": "2023-03-24T13:34:44.245Z"
      },
      {
        "duration": 206,
        "start_time": "2023-03-24T13:34:44.332Z"
      },
      {
        "duration": 20,
        "start_time": "2023-03-24T13:34:44.540Z"
      },
      {
        "duration": 59,
        "start_time": "2023-03-24T13:34:44.575Z"
      },
      {
        "duration": 7,
        "start_time": "2023-03-24T13:34:44.636Z"
      },
      {
        "duration": 69,
        "start_time": "2023-03-24T13:34:44.645Z"
      },
      {
        "duration": 4,
        "start_time": "2023-03-24T13:34:44.717Z"
      },
      {
        "duration": 6,
        "start_time": "2023-03-24T13:34:44.723Z"
      },
      {
        "duration": 173,
        "start_time": "2023-03-24T13:34:44.731Z"
      },
      {
        "duration": 12,
        "start_time": "2023-03-24T13:34:44.905Z"
      },
      {
        "duration": 6,
        "start_time": "2023-03-24T13:34:44.919Z"
      },
      {
        "duration": 5,
        "start_time": "2023-03-24T13:34:44.927Z"
      },
      {
        "duration": 7,
        "start_time": "2023-03-24T13:34:44.934Z"
      },
      {
        "duration": 43,
        "start_time": "2023-03-24T13:34:44.942Z"
      },
      {
        "duration": 13,
        "start_time": "2023-03-24T13:34:44.987Z"
      },
      {
        "duration": 15,
        "start_time": "2023-03-24T13:34:45.002Z"
      },
      {
        "duration": 19,
        "start_time": "2023-03-24T13:34:45.019Z"
      },
      {
        "duration": 15,
        "start_time": "2023-03-24T13:34:45.040Z"
      },
      {
        "duration": 23,
        "start_time": "2023-03-24T13:34:45.057Z"
      },
      {
        "duration": 2,
        "start_time": "2023-03-24T13:34:45.082Z"
      },
      {
        "duration": 22,
        "start_time": "2023-03-24T13:34:45.086Z"
      },
      {
        "duration": 19,
        "start_time": "2023-03-24T13:34:45.110Z"
      },
      {
        "duration": 44,
        "start_time": "2023-03-24T13:34:45.131Z"
      },
      {
        "duration": 59,
        "start_time": "2023-03-24T13:39:47.060Z"
      },
      {
        "duration": 15,
        "start_time": "2023-03-24T13:40:32.060Z"
      },
      {
        "duration": 50,
        "start_time": "2023-03-24T13:40:33.796Z"
      },
      {
        "duration": 66,
        "start_time": "2023-03-24T13:40:41.423Z"
      },
      {
        "duration": 167,
        "start_time": "2023-03-24T13:41:01.590Z"
      },
      {
        "duration": 16,
        "start_time": "2023-03-24T13:41:14.796Z"
      },
      {
        "duration": 49,
        "start_time": "2023-03-24T13:41:15.387Z"
      },
      {
        "duration": 1768,
        "start_time": "2023-03-24T18:24:03.861Z"
      },
      {
        "duration": 1540,
        "start_time": "2023-03-24T18:24:05.631Z"
      },
      {
        "duration": 346,
        "start_time": "2023-03-24T18:24:07.173Z"
      },
      {
        "duration": 72,
        "start_time": "2023-03-24T18:24:07.522Z"
      },
      {
        "duration": 91,
        "start_time": "2023-03-24T18:24:07.596Z"
      },
      {
        "duration": 133,
        "start_time": "2023-03-24T18:24:07.690Z"
      },
      {
        "duration": 52,
        "start_time": "2023-03-24T18:24:07.826Z"
      },
      {
        "duration": 4355,
        "start_time": "2023-03-24T18:24:07.880Z"
      },
      {
        "duration": 11,
        "start_time": "2023-03-24T18:24:12.241Z"
      },
      {
        "duration": 43,
        "start_time": "2023-03-24T18:24:12.255Z"
      },
      {
        "duration": 65,
        "start_time": "2023-03-24T18:24:12.303Z"
      },
      {
        "duration": 31,
        "start_time": "2023-03-24T18:24:12.370Z"
      },
      {
        "duration": 56,
        "start_time": "2023-03-24T18:24:12.404Z"
      },
      {
        "duration": 29,
        "start_time": "2023-03-24T18:24:12.462Z"
      },
      {
        "duration": 14,
        "start_time": "2023-03-24T18:24:12.493Z"
      },
      {
        "duration": 36,
        "start_time": "2023-03-24T18:24:12.509Z"
      },
      {
        "duration": 112,
        "start_time": "2023-03-24T18:24:12.549Z"
      },
      {
        "duration": 34,
        "start_time": "2023-03-24T18:24:12.665Z"
      },
      {
        "duration": 12,
        "start_time": "2023-03-24T18:24:12.702Z"
      },
      {
        "duration": 435,
        "start_time": "2023-03-24T18:24:12.716Z"
      },
      {
        "duration": 289,
        "start_time": "2023-03-24T18:24:13.158Z"
      },
      {
        "duration": 11,
        "start_time": "2023-03-24T18:24:13.450Z"
      },
      {
        "duration": 13,
        "start_time": "2023-03-24T18:24:13.464Z"
      },
      {
        "duration": 15,
        "start_time": "2023-03-24T18:24:13.479Z"
      },
      {
        "duration": 89,
        "start_time": "2023-03-24T18:24:13.496Z"
      },
      {
        "duration": 196,
        "start_time": "2023-03-24T18:24:13.588Z"
      },
      {
        "duration": 26,
        "start_time": "2023-03-24T18:24:13.785Z"
      },
      {
        "duration": 170,
        "start_time": "2023-03-24T18:24:13.813Z"
      },
      {
        "duration": 26,
        "start_time": "2023-03-24T18:24:13.985Z"
      },
      {
        "duration": 87,
        "start_time": "2023-03-24T18:24:14.014Z"
      },
      {
        "duration": 41,
        "start_time": "2023-03-24T18:24:14.103Z"
      },
      {
        "duration": 60,
        "start_time": "2023-03-24T18:24:14.150Z"
      },
      {
        "duration": 49,
        "start_time": "2023-03-24T18:24:14.211Z"
      },
      {
        "duration": 35,
        "start_time": "2023-03-24T18:24:14.262Z"
      },
      {
        "duration": 78,
        "start_time": "2023-03-24T18:24:14.300Z"
      },
      {
        "duration": 157,
        "start_time": "2023-03-24T18:24:14.380Z"
      },
      {
        "duration": 10,
        "start_time": "2023-03-24T18:24:14.543Z"
      },
      {
        "duration": 40,
        "start_time": "2023-03-24T18:24:14.560Z"
      },
      {
        "duration": 4,
        "start_time": "2023-03-24T18:24:14.602Z"
      },
      {
        "duration": 7,
        "start_time": "2023-03-24T18:24:14.608Z"
      },
      {
        "duration": 193,
        "start_time": "2023-03-24T18:24:14.617Z"
      },
      {
        "duration": 14,
        "start_time": "2023-03-24T18:24:14.812Z"
      },
      {
        "duration": 30,
        "start_time": "2023-03-24T18:24:14.828Z"
      },
      {
        "duration": 7,
        "start_time": "2023-03-24T18:24:14.864Z"
      },
      {
        "duration": 8,
        "start_time": "2023-03-24T18:24:14.873Z"
      },
      {
        "duration": 14,
        "start_time": "2023-03-24T18:24:14.883Z"
      },
      {
        "duration": 11,
        "start_time": "2023-03-24T18:24:14.899Z"
      },
      {
        "duration": 25,
        "start_time": "2023-03-24T18:24:14.941Z"
      },
      {
        "duration": 8,
        "start_time": "2023-03-24T18:24:14.969Z"
      },
      {
        "duration": 6,
        "start_time": "2023-03-24T18:24:14.979Z"
      },
      {
        "duration": 6,
        "start_time": "2023-03-24T18:24:14.987Z"
      },
      {
        "duration": 3,
        "start_time": "2023-03-24T18:24:14.995Z"
      },
      {
        "duration": 63,
        "start_time": "2023-03-24T18:24:15.000Z"
      },
      {
        "duration": 28,
        "start_time": "2023-03-24T18:24:15.070Z"
      },
      {
        "duration": 51,
        "start_time": "2023-03-24T18:24:15.101Z"
      },
      {
        "duration": 240,
        "start_time": "2023-03-24T18:47:08.883Z"
      },
      {
        "duration": 15,
        "start_time": "2023-03-24T18:47:20.076Z"
      },
      {
        "duration": 15,
        "start_time": "2023-03-24T18:47:25.060Z"
      },
      {
        "duration": 19,
        "start_time": "2023-03-24T18:47:36.242Z"
      },
      {
        "duration": 15,
        "start_time": "2023-03-24T18:47:43.683Z"
      },
      {
        "duration": 15,
        "start_time": "2023-03-24T18:48:02.877Z"
      },
      {
        "duration": 27,
        "start_time": "2023-03-24T18:49:19.809Z"
      },
      {
        "duration": 12,
        "start_time": "2023-03-24T18:49:46.012Z"
      },
      {
        "duration": 14,
        "start_time": "2023-03-24T18:50:05.210Z"
      },
      {
        "duration": 9,
        "start_time": "2023-03-24T18:50:52.278Z"
      },
      {
        "duration": 14,
        "start_time": "2023-03-24T18:51:50.266Z"
      },
      {
        "duration": 15,
        "start_time": "2023-03-24T18:53:54.106Z"
      },
      {
        "duration": 25,
        "start_time": "2023-03-24T18:54:31.737Z"
      },
      {
        "duration": 24,
        "start_time": "2023-03-24T18:54:48.869Z"
      },
      {
        "duration": 10,
        "start_time": "2023-03-24T18:55:03.189Z"
      },
      {
        "duration": 85,
        "start_time": "2023-03-24T18:55:19.218Z"
      },
      {
        "duration": 22,
        "start_time": "2023-03-24T18:55:23.920Z"
      },
      {
        "duration": 15,
        "start_time": "2023-03-24T18:58:20.999Z"
      },
      {
        "duration": 72,
        "start_time": "2023-03-24T18:58:32.920Z"
      },
      {
        "duration": 78,
        "start_time": "2023-03-24T18:58:51.011Z"
      },
      {
        "duration": 61,
        "start_time": "2023-03-24T18:58:53.675Z"
      },
      {
        "duration": 69,
        "start_time": "2023-03-24T18:58:58.226Z"
      },
      {
        "duration": 12,
        "start_time": "2023-03-24T18:59:11.657Z"
      },
      {
        "duration": 55,
        "start_time": "2023-03-24T18:59:16.034Z"
      },
      {
        "duration": 69,
        "start_time": "2023-03-24T18:59:25.407Z"
      },
      {
        "duration": 74,
        "start_time": "2023-03-24T18:59:41.617Z"
      },
      {
        "duration": 14,
        "start_time": "2023-03-24T18:59:52.054Z"
      },
      {
        "duration": 52,
        "start_time": "2023-03-24T19:00:26.554Z"
      },
      {
        "duration": 82,
        "start_time": "2023-03-24T19:00:56.467Z"
      },
      {
        "duration": 80,
        "start_time": "2023-03-24T19:01:09.803Z"
      },
      {
        "duration": 11,
        "start_time": "2023-03-24T19:11:14.917Z"
      },
      {
        "duration": 73,
        "start_time": "2023-03-24T19:11:18.196Z"
      },
      {
        "duration": 69,
        "start_time": "2023-03-24T19:11:29.195Z"
      },
      {
        "duration": 4,
        "start_time": "2023-03-24T19:11:46.855Z"
      },
      {
        "duration": 81,
        "start_time": "2023-03-24T19:11:48.041Z"
      },
      {
        "duration": 154,
        "start_time": "2023-03-24T19:11:57.595Z"
      },
      {
        "duration": 10,
        "start_time": "2023-03-24T19:12:00.013Z"
      },
      {
        "duration": 4,
        "start_time": "2023-03-24T19:12:17.396Z"
      },
      {
        "duration": 10,
        "start_time": "2023-03-24T19:12:18.447Z"
      },
      {
        "duration": 11,
        "start_time": "2023-03-24T19:13:14.578Z"
      },
      {
        "duration": 11,
        "start_time": "2023-03-24T19:14:08.610Z"
      },
      {
        "duration": 15,
        "start_time": "2023-03-24T19:17:18.676Z"
      },
      {
        "duration": 33,
        "start_time": "2023-03-24T19:18:08.629Z"
      },
      {
        "duration": 16,
        "start_time": "2023-03-24T19:23:57.892Z"
      },
      {
        "duration": 11,
        "start_time": "2023-03-24T19:24:03.477Z"
      },
      {
        "duration": 11,
        "start_time": "2023-03-24T19:24:09.578Z"
      },
      {
        "duration": 64,
        "start_time": "2023-03-24T19:24:22.927Z"
      },
      {
        "duration": 57,
        "start_time": "2023-03-24T19:25:00.054Z"
      },
      {
        "duration": 53,
        "start_time": "2023-03-24T19:27:25.209Z"
      },
      {
        "duration": 54,
        "start_time": "2023-03-24T19:27:29.980Z"
      },
      {
        "duration": 58,
        "start_time": "2023-03-24T19:28:21.065Z"
      },
      {
        "duration": 52,
        "start_time": "2023-03-24T19:28:47.706Z"
      },
      {
        "duration": 52,
        "start_time": "2023-03-24T19:29:12.296Z"
      },
      {
        "duration": 54,
        "start_time": "2023-03-24T19:29:21.167Z"
      },
      {
        "duration": 58,
        "start_time": "2023-03-24T19:29:42.653Z"
      },
      {
        "duration": 89,
        "start_time": "2023-03-24T19:33:50.529Z"
      },
      {
        "duration": 14,
        "start_time": "2023-03-24T19:34:16.011Z"
      },
      {
        "duration": 16,
        "start_time": "2023-03-24T19:34:24.466Z"
      },
      {
        "duration": 19,
        "start_time": "2023-03-24T19:34:52.657Z"
      },
      {
        "duration": 14,
        "start_time": "2023-03-24T19:35:21.817Z"
      },
      {
        "duration": 15,
        "start_time": "2023-03-24T19:35:36.957Z"
      },
      {
        "duration": 18,
        "start_time": "2023-03-24T19:36:46.181Z"
      },
      {
        "duration": 13,
        "start_time": "2023-03-24T19:36:57.745Z"
      },
      {
        "duration": 13,
        "start_time": "2023-03-24T19:37:40.843Z"
      },
      {
        "duration": 16,
        "start_time": "2023-03-24T19:37:54.776Z"
      },
      {
        "duration": 18,
        "start_time": "2023-03-24T19:38:45.366Z"
      },
      {
        "duration": 19,
        "start_time": "2023-03-24T19:39:04.215Z"
      },
      {
        "duration": 18,
        "start_time": "2023-03-24T19:39:33.545Z"
      },
      {
        "duration": 18,
        "start_time": "2023-03-24T19:39:42.703Z"
      },
      {
        "duration": 20,
        "start_time": "2023-03-24T19:40:02.181Z"
      },
      {
        "duration": 17,
        "start_time": "2023-03-24T19:40:16.596Z"
      },
      {
        "duration": 18,
        "start_time": "2023-03-24T19:40:25.949Z"
      },
      {
        "duration": 15,
        "start_time": "2023-03-24T19:40:50.524Z"
      },
      {
        "duration": 18,
        "start_time": "2023-03-24T19:42:13.253Z"
      },
      {
        "duration": 18,
        "start_time": "2023-03-24T19:42:20.479Z"
      },
      {
        "duration": 14,
        "start_time": "2023-03-24T19:45:18.646Z"
      },
      {
        "duration": 16,
        "start_time": "2023-03-24T19:45:33.151Z"
      },
      {
        "duration": 21,
        "start_time": "2023-03-24T19:46:52.505Z"
      },
      {
        "duration": 22,
        "start_time": "2023-03-24T19:47:48.722Z"
      },
      {
        "duration": 16,
        "start_time": "2023-03-24T19:47:53.375Z"
      },
      {
        "duration": 16,
        "start_time": "2023-03-24T19:49:29.661Z"
      },
      {
        "duration": 1198,
        "start_time": "2023-03-24T19:49:38.679Z"
      },
      {
        "duration": 606,
        "start_time": "2023-03-24T19:49:39.880Z"
      },
      {
        "duration": 277,
        "start_time": "2023-03-24T19:49:40.488Z"
      },
      {
        "duration": 39,
        "start_time": "2023-03-24T19:49:40.767Z"
      },
      {
        "duration": 85,
        "start_time": "2023-03-24T19:49:40.808Z"
      },
      {
        "duration": 90,
        "start_time": "2023-03-24T19:49:40.894Z"
      },
      {
        "duration": 39,
        "start_time": "2023-03-24T19:49:40.986Z"
      },
      {
        "duration": 3361,
        "start_time": "2023-03-24T19:49:41.041Z"
      },
      {
        "duration": 6,
        "start_time": "2023-03-24T19:49:44.404Z"
      },
      {
        "duration": 38,
        "start_time": "2023-03-24T19:49:44.412Z"
      },
      {
        "duration": 24,
        "start_time": "2023-03-24T19:49:44.451Z"
      },
      {
        "duration": 22,
        "start_time": "2023-03-24T19:49:44.477Z"
      },
      {
        "duration": 53,
        "start_time": "2023-03-24T19:49:44.500Z"
      },
      {
        "duration": 23,
        "start_time": "2023-03-24T19:49:44.554Z"
      },
      {
        "duration": 10,
        "start_time": "2023-03-24T19:49:44.578Z"
      },
      {
        "duration": 15,
        "start_time": "2023-03-24T19:49:44.589Z"
      },
      {
        "duration": 83,
        "start_time": "2023-03-24T19:49:44.605Z"
      },
      {
        "duration": 17,
        "start_time": "2023-03-24T19:49:44.690Z"
      },
      {
        "duration": 9,
        "start_time": "2023-03-24T19:49:44.709Z"
      },
      {
        "duration": 390,
        "start_time": "2023-03-24T19:49:44.719Z"
      },
      {
        "duration": 161,
        "start_time": "2023-03-24T19:49:45.111Z"
      },
      {
        "duration": 8,
        "start_time": "2023-03-24T19:49:45.273Z"
      },
      {
        "duration": 33,
        "start_time": "2023-03-24T19:49:45.282Z"
      },
      {
        "duration": 16,
        "start_time": "2023-03-24T19:49:45.317Z"
      },
      {
        "duration": 54,
        "start_time": "2023-03-24T19:49:45.334Z"
      },
      {
        "duration": 142,
        "start_time": "2023-03-24T19:49:45.389Z"
      },
      {
        "duration": 26,
        "start_time": "2023-03-24T19:49:45.533Z"
      },
      {
        "duration": 138,
        "start_time": "2023-03-24T19:49:45.563Z"
      },
      {
        "duration": 16,
        "start_time": "2023-03-24T19:49:45.703Z"
      },
      {
        "duration": 76,
        "start_time": "2023-03-24T19:49:45.721Z"
      },
      {
        "duration": 19,
        "start_time": "2023-03-24T19:49:45.799Z"
      },
      {
        "duration": 69,
        "start_time": "2023-03-24T19:49:45.819Z"
      },
      {
        "duration": 24,
        "start_time": "2023-03-24T19:49:45.890Z"
      },
      {
        "duration": 29,
        "start_time": "2023-03-24T19:49:45.916Z"
      },
      {
        "duration": 61,
        "start_time": "2023-03-24T19:49:45.947Z"
      },
      {
        "duration": 163,
        "start_time": "2023-03-24T19:49:46.010Z"
      },
      {
        "duration": 6,
        "start_time": "2023-03-24T19:49:46.174Z"
      },
      {
        "duration": 73,
        "start_time": "2023-03-24T19:49:46.181Z"
      },
      {
        "duration": 31,
        "start_time": "2023-03-24T19:49:46.256Z"
      },
      {
        "duration": 4,
        "start_time": "2023-03-24T19:49:46.289Z"
      },
      {
        "duration": 5,
        "start_time": "2023-03-24T19:49:46.294Z"
      },
      {
        "duration": 160,
        "start_time": "2023-03-24T19:49:46.301Z"
      },
      {
        "duration": 36,
        "start_time": "2023-03-24T19:49:46.462Z"
      },
      {
        "duration": 161,
        "start_time": "2023-03-24T19:49:46.500Z"
      },
      {
        "duration": 0,
        "start_time": "2023-03-24T19:49:46.662Z"
      },
      {
        "duration": 0,
        "start_time": "2023-03-24T19:49:46.663Z"
      },
      {
        "duration": 0,
        "start_time": "2023-03-24T19:49:46.664Z"
      },
      {
        "duration": 0,
        "start_time": "2023-03-24T19:49:46.666Z"
      },
      {
        "duration": 0,
        "start_time": "2023-03-24T19:49:46.667Z"
      },
      {
        "duration": 0,
        "start_time": "2023-03-24T19:49:46.668Z"
      },
      {
        "duration": 0,
        "start_time": "2023-03-24T19:49:46.669Z"
      },
      {
        "duration": 0,
        "start_time": "2023-03-24T19:49:46.670Z"
      },
      {
        "duration": 0,
        "start_time": "2023-03-24T19:49:46.671Z"
      },
      {
        "duration": 0,
        "start_time": "2023-03-24T19:49:46.672Z"
      },
      {
        "duration": 0,
        "start_time": "2023-03-24T19:49:46.673Z"
      },
      {
        "duration": 0,
        "start_time": "2023-03-24T19:49:46.674Z"
      },
      {
        "duration": 0,
        "start_time": "2023-03-24T19:49:46.675Z"
      },
      {
        "duration": 0,
        "start_time": "2023-03-24T19:49:46.676Z"
      },
      {
        "duration": 16,
        "start_time": "2023-03-24T19:50:08.255Z"
      },
      {
        "duration": 17,
        "start_time": "2023-03-24T19:50:15.203Z"
      },
      {
        "duration": 17,
        "start_time": "2023-03-24T19:51:05.405Z"
      },
      {
        "duration": 18,
        "start_time": "2023-03-24T19:51:23.495Z"
      },
      {
        "duration": 19,
        "start_time": "2023-03-24T19:51:31.254Z"
      },
      {
        "duration": 20,
        "start_time": "2023-03-24T19:52:16.212Z"
      },
      {
        "duration": 18,
        "start_time": "2023-03-24T19:53:12.355Z"
      },
      {
        "duration": 18,
        "start_time": "2023-03-24T19:53:24.968Z"
      },
      {
        "duration": 34,
        "start_time": "2023-03-24T19:53:37.395Z"
      },
      {
        "duration": 13,
        "start_time": "2023-03-24T19:54:43.431Z"
      },
      {
        "duration": 18,
        "start_time": "2023-03-24T19:55:19.190Z"
      },
      {
        "duration": 15,
        "start_time": "2023-03-24T19:56:00.252Z"
      },
      {
        "duration": 12,
        "start_time": "2023-03-24T19:56:17.057Z"
      },
      {
        "duration": 15,
        "start_time": "2023-03-24T19:56:32.754Z"
      },
      {
        "duration": 14,
        "start_time": "2023-03-24T19:56:46.605Z"
      },
      {
        "duration": 17,
        "start_time": "2023-03-24T19:57:28.040Z"
      },
      {
        "duration": 15,
        "start_time": "2023-03-24T19:57:43.075Z"
      },
      {
        "duration": 18,
        "start_time": "2023-03-24T19:57:58.375Z"
      },
      {
        "duration": 12,
        "start_time": "2023-03-24T19:58:02.253Z"
      },
      {
        "duration": 12,
        "start_time": "2023-03-24T19:58:06.091Z"
      },
      {
        "duration": 58,
        "start_time": "2023-03-24T19:58:30.322Z"
      },
      {
        "duration": 51,
        "start_time": "2023-03-24T19:58:35.652Z"
      },
      {
        "duration": 55,
        "start_time": "2023-03-24T19:58:44.813Z"
      },
      {
        "duration": 16,
        "start_time": "2023-03-24T19:59:15.021Z"
      },
      {
        "duration": 53,
        "start_time": "2023-03-24T20:03:00.105Z"
      },
      {
        "duration": 64,
        "start_time": "2023-03-24T20:03:15.201Z"
      },
      {
        "duration": 60,
        "start_time": "2023-03-24T20:03:21.009Z"
      },
      {
        "duration": 65,
        "start_time": "2023-03-24T20:03:31.319Z"
      },
      {
        "duration": 13,
        "start_time": "2023-03-24T20:32:10.587Z"
      },
      {
        "duration": 12,
        "start_time": "2023-03-24T20:32:27.952Z"
      },
      {
        "duration": 12,
        "start_time": "2023-03-24T20:32:50.007Z"
      },
      {
        "duration": 15,
        "start_time": "2023-03-24T20:32:56.438Z"
      },
      {
        "duration": 1297,
        "start_time": "2023-03-24T20:33:11.633Z"
      },
      {
        "duration": 635,
        "start_time": "2023-03-24T20:33:12.933Z"
      },
      {
        "duration": 253,
        "start_time": "2023-03-24T20:33:13.570Z"
      },
      {
        "duration": 54,
        "start_time": "2023-03-24T20:33:13.824Z"
      },
      {
        "duration": 42,
        "start_time": "2023-03-24T20:33:13.880Z"
      },
      {
        "duration": 74,
        "start_time": "2023-03-24T20:33:13.940Z"
      },
      {
        "duration": 48,
        "start_time": "2023-03-24T20:33:14.016Z"
      },
      {
        "duration": 3433,
        "start_time": "2023-03-24T20:33:14.065Z"
      },
      {
        "duration": 5,
        "start_time": "2023-03-24T20:33:17.500Z"
      },
      {
        "duration": 48,
        "start_time": "2023-03-24T20:33:17.507Z"
      },
      {
        "duration": 24,
        "start_time": "2023-03-24T20:33:17.557Z"
      },
      {
        "duration": 26,
        "start_time": "2023-03-24T20:33:17.583Z"
      },
      {
        "duration": 55,
        "start_time": "2023-03-24T20:33:17.611Z"
      },
      {
        "duration": 25,
        "start_time": "2023-03-24T20:33:17.669Z"
      },
      {
        "duration": 10,
        "start_time": "2023-03-24T20:33:17.695Z"
      },
      {
        "duration": 39,
        "start_time": "2023-03-24T20:33:17.707Z"
      },
      {
        "duration": 63,
        "start_time": "2023-03-24T20:33:17.753Z"
      },
      {
        "duration": 33,
        "start_time": "2023-03-24T20:33:17.818Z"
      },
      {
        "duration": 13,
        "start_time": "2023-03-24T20:33:17.853Z"
      },
      {
        "duration": 389,
        "start_time": "2023-03-24T20:33:17.867Z"
      },
      {
        "duration": 230,
        "start_time": "2023-03-24T20:33:18.258Z"
      },
      {
        "duration": 8,
        "start_time": "2023-03-24T20:33:18.490Z"
      },
      {
        "duration": 6,
        "start_time": "2023-03-24T20:33:18.499Z"
      },
      {
        "duration": 7,
        "start_time": "2023-03-24T20:33:18.506Z"
      },
      {
        "duration": 80,
        "start_time": "2023-03-24T20:33:18.515Z"
      },
      {
        "duration": 160,
        "start_time": "2023-03-24T20:33:28.025Z"
      },
      {
        "duration": 12,
        "start_time": "2023-03-24T20:34:05.224Z"
      },
      {
        "duration": 11,
        "start_time": "2023-03-24T20:34:11.561Z"
      },
      {
        "duration": 135,
        "start_time": "2023-03-24T20:35:07.515Z"
      },
      {
        "duration": 9590,
        "start_time": "2023-03-24T20:35:13.380Z"
      },
      {
        "duration": 55,
        "start_time": "2023-03-24T20:35:47.387Z"
      },
      {
        "duration": 48,
        "start_time": "2023-03-24T20:37:04.777Z"
      },
      {
        "duration": 80,
        "start_time": "2023-03-24T20:37:11.274Z"
      },
      {
        "duration": 105,
        "start_time": "2023-03-24T20:38:38.503Z"
      },
      {
        "duration": 85,
        "start_time": "2023-03-24T20:39:04.728Z"
      },
      {
        "duration": 85,
        "start_time": "2023-03-24T20:39:10.499Z"
      },
      {
        "duration": 98,
        "start_time": "2023-03-24T20:39:15.965Z"
      },
      {
        "duration": 97,
        "start_time": "2023-03-24T20:39:23.590Z"
      },
      {
        "duration": 16,
        "start_time": "2023-03-24T20:40:27.039Z"
      },
      {
        "duration": 173,
        "start_time": "2023-03-24T20:40:43.475Z"
      },
      {
        "duration": 45,
        "start_time": "2023-03-24T20:40:50.136Z"
      },
      {
        "duration": 48,
        "start_time": "2023-03-24T20:42:39.268Z"
      },
      {
        "duration": 13,
        "start_time": "2023-03-24T20:43:35.445Z"
      },
      {
        "duration": 1260,
        "start_time": "2023-03-24T20:43:39.455Z"
      },
      {
        "duration": 572,
        "start_time": "2023-03-24T20:43:40.717Z"
      },
      {
        "duration": 220,
        "start_time": "2023-03-24T20:43:41.291Z"
      },
      {
        "duration": 52,
        "start_time": "2023-03-24T20:43:41.513Z"
      },
      {
        "duration": 43,
        "start_time": "2023-03-24T20:43:41.566Z"
      },
      {
        "duration": 80,
        "start_time": "2023-03-24T20:43:41.611Z"
      },
      {
        "duration": 23,
        "start_time": "2023-03-24T20:43:41.693Z"
      },
      {
        "duration": 3264,
        "start_time": "2023-03-24T20:43:41.717Z"
      },
      {
        "duration": 6,
        "start_time": "2023-03-24T20:43:44.982Z"
      },
      {
        "duration": 30,
        "start_time": "2023-03-24T20:43:44.990Z"
      },
      {
        "duration": 41,
        "start_time": "2023-03-24T20:43:45.022Z"
      },
      {
        "duration": 26,
        "start_time": "2023-03-24T20:43:45.065Z"
      },
      {
        "duration": 29,
        "start_time": "2023-03-24T20:43:45.093Z"
      },
      {
        "duration": 38,
        "start_time": "2023-03-24T20:43:45.124Z"
      },
      {
        "duration": 9,
        "start_time": "2023-03-24T20:43:45.164Z"
      },
      {
        "duration": 9,
        "start_time": "2023-03-24T20:43:45.174Z"
      },
      {
        "duration": 79,
        "start_time": "2023-03-24T20:43:45.184Z"
      },
      {
        "duration": 19,
        "start_time": "2023-03-24T20:43:45.265Z"
      },
      {
        "duration": 10,
        "start_time": "2023-03-24T20:43:45.285Z"
      },
      {
        "duration": 353,
        "start_time": "2023-03-24T20:43:45.297Z"
      },
      {
        "duration": 191,
        "start_time": "2023-03-24T20:43:45.651Z"
      },
      {
        "duration": 8,
        "start_time": "2023-03-24T20:43:45.844Z"
      },
      {
        "duration": 6,
        "start_time": "2023-03-24T20:43:45.854Z"
      },
      {
        "duration": 7,
        "start_time": "2023-03-24T20:43:45.861Z"
      },
      {
        "duration": 79,
        "start_time": "2023-03-24T20:43:45.869Z"
      },
      {
        "duration": 131,
        "start_time": "2023-03-24T20:43:45.949Z"
      },
      {
        "duration": 60,
        "start_time": "2023-03-24T20:43:46.081Z"
      },
      {
        "duration": 111,
        "start_time": "2023-03-24T20:43:46.145Z"
      },
      {
        "duration": 22,
        "start_time": "2023-03-24T20:43:46.258Z"
      },
      {
        "duration": 146,
        "start_time": "2023-03-24T20:43:46.281Z"
      },
      {
        "duration": 27,
        "start_time": "2023-03-24T20:43:46.428Z"
      },
      {
        "duration": 50,
        "start_time": "2023-03-24T20:43:46.457Z"
      },
      {
        "duration": 16,
        "start_time": "2023-03-24T20:43:46.508Z"
      },
      {
        "duration": 44,
        "start_time": "2023-03-24T20:43:46.541Z"
      },
      {
        "duration": 14,
        "start_time": "2023-03-24T20:43:46.587Z"
      },
      {
        "duration": 10,
        "start_time": "2023-03-24T20:43:46.603Z"
      },
      {
        "duration": 66,
        "start_time": "2023-03-24T20:43:46.614Z"
      },
      {
        "duration": 148,
        "start_time": "2023-03-24T20:43:46.682Z"
      },
      {
        "duration": 9,
        "start_time": "2023-03-24T20:43:46.832Z"
      },
      {
        "duration": 57,
        "start_time": "2023-03-24T20:43:46.843Z"
      },
      {
        "duration": 48,
        "start_time": "2023-03-24T20:43:46.902Z"
      },
      {
        "duration": 4,
        "start_time": "2023-03-24T20:43:46.952Z"
      },
      {
        "duration": 14,
        "start_time": "2023-03-24T20:43:46.957Z"
      },
      {
        "duration": 138,
        "start_time": "2023-03-24T20:43:46.973Z"
      },
      {
        "duration": 36,
        "start_time": "2023-03-24T20:43:47.113Z"
      },
      {
        "duration": 27,
        "start_time": "2023-03-24T20:43:47.150Z"
      },
      {
        "duration": 18,
        "start_time": "2023-03-24T20:43:47.179Z"
      },
      {
        "duration": 15,
        "start_time": "2023-03-24T20:43:47.198Z"
      },
      {
        "duration": 5,
        "start_time": "2023-03-24T20:43:47.215Z"
      },
      {
        "duration": 5,
        "start_time": "2023-03-24T20:43:47.222Z"
      },
      {
        "duration": 13,
        "start_time": "2023-03-24T20:43:47.228Z"
      },
      {
        "duration": 10,
        "start_time": "2023-03-24T20:43:47.243Z"
      },
      {
        "duration": 13,
        "start_time": "2023-03-24T20:43:47.255Z"
      },
      {
        "duration": 4,
        "start_time": "2023-03-24T20:43:47.270Z"
      },
      {
        "duration": 5,
        "start_time": "2023-03-24T20:43:47.275Z"
      },
      {
        "duration": 5,
        "start_time": "2023-03-24T20:43:47.281Z"
      },
      {
        "duration": 3,
        "start_time": "2023-03-24T20:43:47.287Z"
      },
      {
        "duration": 52,
        "start_time": "2023-03-24T20:43:47.291Z"
      },
      {
        "duration": 18,
        "start_time": "2023-03-24T20:43:47.345Z"
      },
      {
        "duration": 14,
        "start_time": "2023-03-24T20:43:47.364Z"
      },
      {
        "duration": 44,
        "start_time": "2023-03-24T20:44:18.345Z"
      },
      {
        "duration": 18,
        "start_time": "2023-03-24T20:57:33.510Z"
      },
      {
        "duration": 12,
        "start_time": "2023-03-24T20:57:34.351Z"
      },
      {
        "duration": 12,
        "start_time": "2023-03-24T21:08:03.883Z"
      },
      {
        "duration": 147,
        "start_time": "2023-03-24T21:09:18.294Z"
      },
      {
        "duration": 11,
        "start_time": "2023-03-24T21:10:00.606Z"
      },
      {
        "duration": 46,
        "start_time": "2023-03-24T21:10:17.872Z"
      },
      {
        "duration": 50,
        "start_time": "2023-03-24T21:10:35.862Z"
      },
      {
        "duration": 11,
        "start_time": "2023-03-24T21:10:46.994Z"
      },
      {
        "duration": 47,
        "start_time": "2023-03-24T21:10:47.505Z"
      },
      {
        "duration": 45,
        "start_time": "2023-03-24T21:11:01.002Z"
      },
      {
        "duration": 43,
        "start_time": "2023-03-24T21:11:16.493Z"
      },
      {
        "duration": 129,
        "start_time": "2023-03-24T21:16:39.993Z"
      },
      {
        "duration": 1201,
        "start_time": "2023-03-24T21:16:54.816Z"
      },
      {
        "duration": 609,
        "start_time": "2023-03-24T21:16:56.019Z"
      },
      {
        "duration": 228,
        "start_time": "2023-03-24T21:16:56.630Z"
      },
      {
        "duration": 36,
        "start_time": "2023-03-24T21:16:56.860Z"
      },
      {
        "duration": 64,
        "start_time": "2023-03-24T21:16:56.898Z"
      },
      {
        "duration": 69,
        "start_time": "2023-03-24T21:16:56.963Z"
      },
      {
        "duration": 23,
        "start_time": "2023-03-24T21:16:57.040Z"
      },
      {
        "duration": 3416,
        "start_time": "2023-03-24T21:16:57.065Z"
      },
      {
        "duration": 6,
        "start_time": "2023-03-24T21:17:00.483Z"
      },
      {
        "duration": 72,
        "start_time": "2023-03-24T21:17:00.492Z"
      },
      {
        "duration": 109,
        "start_time": "2023-03-24T21:17:00.566Z"
      },
      {
        "duration": 51,
        "start_time": "2023-03-24T21:17:00.677Z"
      },
      {
        "duration": 52,
        "start_time": "2023-03-24T21:17:00.730Z"
      },
      {
        "duration": 32,
        "start_time": "2023-03-24T21:17:00.783Z"
      },
      {
        "duration": 25,
        "start_time": "2023-03-24T21:17:00.817Z"
      },
      {
        "duration": 31,
        "start_time": "2023-03-24T21:17:00.843Z"
      },
      {
        "duration": 85,
        "start_time": "2023-03-24T21:17:00.875Z"
      },
      {
        "duration": 20,
        "start_time": "2023-03-24T21:17:00.961Z"
      },
      {
        "duration": 71,
        "start_time": "2023-03-24T21:17:00.983Z"
      },
      {
        "duration": 394,
        "start_time": "2023-03-24T21:17:01.056Z"
      },
      {
        "duration": 228,
        "start_time": "2023-03-24T21:17:01.452Z"
      },
      {
        "duration": 12,
        "start_time": "2023-03-24T21:17:01.682Z"
      },
      {
        "duration": 58,
        "start_time": "2023-03-24T21:17:01.696Z"
      },
      {
        "duration": 55,
        "start_time": "2023-03-24T21:17:01.756Z"
      },
      {
        "duration": 64,
        "start_time": "2023-03-24T21:17:01.813Z"
      },
      {
        "duration": 71,
        "start_time": "2023-03-24T21:17:01.879Z"
      },
      {
        "duration": 143,
        "start_time": "2023-03-24T21:17:01.952Z"
      },
      {
        "duration": 53,
        "start_time": "2023-03-24T21:17:02.098Z"
      },
      {
        "duration": 201,
        "start_time": "2023-03-24T21:17:02.153Z"
      },
      {
        "duration": 22,
        "start_time": "2023-03-24T21:17:02.356Z"
      },
      {
        "duration": 173,
        "start_time": "2023-03-24T21:17:02.380Z"
      },
      {
        "duration": 36,
        "start_time": "2023-03-24T21:17:02.555Z"
      },
      {
        "duration": 72,
        "start_time": "2023-03-24T21:17:02.593Z"
      },
      {
        "duration": 19,
        "start_time": "2023-03-24T21:17:02.667Z"
      },
      {
        "duration": 57,
        "start_time": "2023-03-24T21:17:02.689Z"
      },
      {
        "duration": 15,
        "start_time": "2023-03-24T21:17:02.748Z"
      },
      {
        "duration": 15,
        "start_time": "2023-03-24T21:17:02.765Z"
      },
      {
        "duration": 65,
        "start_time": "2023-03-24T21:17:02.782Z"
      },
      {
        "duration": 154,
        "start_time": "2023-03-24T21:17:02.849Z"
      },
      {
        "duration": 138,
        "start_time": "2023-03-24T21:17:25.177Z"
      },
      {
        "duration": 170,
        "start_time": "2023-03-24T21:17:50.855Z"
      },
      {
        "duration": 81,
        "start_time": "2023-03-24T21:18:14.678Z"
      },
      {
        "duration": 78,
        "start_time": "2023-03-24T21:18:22.942Z"
      },
      {
        "duration": 275,
        "start_time": "2023-03-24T21:18:28.085Z"
      },
      {
        "duration": 146,
        "start_time": "2023-03-24T21:18:42.830Z"
      },
      {
        "duration": 141,
        "start_time": "2023-03-24T21:19:19.536Z"
      },
      {
        "duration": 1293,
        "start_time": "2023-03-24T21:19:42.096Z"
      },
      {
        "duration": 159,
        "start_time": "2023-03-24T21:19:52.002Z"
      },
      {
        "duration": 147,
        "start_time": "2023-03-24T21:19:59.631Z"
      },
      {
        "duration": 152,
        "start_time": "2023-03-24T21:20:03.966Z"
      },
      {
        "duration": 12,
        "start_time": "2023-03-24T21:20:50.190Z"
      },
      {
        "duration": 157,
        "start_time": "2023-03-24T21:21:31.601Z"
      },
      {
        "duration": 144,
        "start_time": "2023-03-24T21:21:40.904Z"
      },
      {
        "duration": 145,
        "start_time": "2023-03-24T21:21:51.415Z"
      },
      {
        "duration": 156,
        "start_time": "2023-03-24T21:21:59.404Z"
      },
      {
        "duration": 135,
        "start_time": "2023-03-24T21:22:02.767Z"
      },
      {
        "duration": 1183,
        "start_time": "2023-03-24T21:22:41.405Z"
      },
      {
        "duration": 597,
        "start_time": "2023-03-24T21:22:42.590Z"
      },
      {
        "duration": 234,
        "start_time": "2023-03-24T21:22:43.189Z"
      },
      {
        "duration": 41,
        "start_time": "2023-03-24T21:22:43.440Z"
      },
      {
        "duration": 42,
        "start_time": "2023-03-24T21:22:43.483Z"
      },
      {
        "duration": 84,
        "start_time": "2023-03-24T21:22:43.527Z"
      },
      {
        "duration": 39,
        "start_time": "2023-03-24T21:22:43.613Z"
      },
      {
        "duration": 3255,
        "start_time": "2023-03-24T21:22:43.654Z"
      },
      {
        "duration": 7,
        "start_time": "2023-03-24T21:22:46.911Z"
      },
      {
        "duration": 41,
        "start_time": "2023-03-24T21:22:46.921Z"
      },
      {
        "duration": 25,
        "start_time": "2023-03-24T21:22:46.964Z"
      },
      {
        "duration": 20,
        "start_time": "2023-03-24T21:22:46.991Z"
      },
      {
        "duration": 49,
        "start_time": "2023-03-24T21:22:47.013Z"
      },
      {
        "duration": 25,
        "start_time": "2023-03-24T21:22:47.064Z"
      },
      {
        "duration": 12,
        "start_time": "2023-03-24T21:22:47.091Z"
      },
      {
        "duration": 45,
        "start_time": "2023-03-24T21:22:47.104Z"
      },
      {
        "duration": 63,
        "start_time": "2023-03-24T21:22:47.151Z"
      },
      {
        "duration": 38,
        "start_time": "2023-03-24T21:22:47.216Z"
      },
      {
        "duration": 10,
        "start_time": "2023-03-24T21:22:47.256Z"
      },
      {
        "duration": 368,
        "start_time": "2023-03-24T21:22:47.268Z"
      },
      {
        "duration": 171,
        "start_time": "2023-03-24T21:22:47.638Z"
      },
      {
        "duration": 31,
        "start_time": "2023-03-24T21:22:47.811Z"
      },
      {
        "duration": 8,
        "start_time": "2023-03-24T21:22:47.844Z"
      },
      {
        "duration": 12,
        "start_time": "2023-03-24T21:22:47.853Z"
      },
      {
        "duration": 45,
        "start_time": "2023-03-24T21:22:47.866Z"
      },
      {
        "duration": 77,
        "start_time": "2023-03-24T21:22:47.913Z"
      },
      {
        "duration": 137,
        "start_time": "2023-03-24T21:22:47.991Z"
      },
      {
        "duration": 44,
        "start_time": "2023-03-24T21:22:48.131Z"
      },
      {
        "duration": 110,
        "start_time": "2023-03-24T21:22:48.177Z"
      },
      {
        "duration": 22,
        "start_time": "2023-03-24T21:22:48.289Z"
      },
      {
        "duration": 141,
        "start_time": "2023-03-24T21:22:48.313Z"
      },
      {
        "duration": 16,
        "start_time": "2023-03-24T21:22:48.455Z"
      },
      {
        "duration": 79,
        "start_time": "2023-03-24T21:22:48.473Z"
      },
      {
        "duration": 16,
        "start_time": "2023-03-24T21:22:48.554Z"
      },
      {
        "duration": 44,
        "start_time": "2023-03-24T21:22:48.572Z"
      },
      {
        "duration": 35,
        "start_time": "2023-03-24T21:22:48.618Z"
      },
      {
        "duration": 10,
        "start_time": "2023-03-24T21:22:48.655Z"
      },
      {
        "duration": 41,
        "start_time": "2023-03-24T21:22:48.667Z"
      },
      {
        "duration": 133,
        "start_time": "2023-03-24T21:22:57.184Z"
      },
      {
        "duration": 138,
        "start_time": "2023-03-24T21:23:12.132Z"
      },
      {
        "duration": 131,
        "start_time": "2023-03-24T21:23:24.635Z"
      },
      {
        "duration": 49,
        "start_time": "2023-03-24T21:24:31.319Z"
      },
      {
        "duration": 58,
        "start_time": "2023-03-24T21:24:58.907Z"
      },
      {
        "duration": 130,
        "start_time": "2023-03-24T21:25:08.046Z"
      },
      {
        "duration": 134,
        "start_time": "2023-03-24T21:25:16.563Z"
      },
      {
        "duration": 43,
        "start_time": "2023-03-24T21:25:18.578Z"
      },
      {
        "duration": 48,
        "start_time": "2023-03-24T21:25:31.058Z"
      },
      {
        "duration": 134,
        "start_time": "2023-03-24T21:25:47.171Z"
      },
      {
        "duration": 43,
        "start_time": "2023-03-24T21:25:49.634Z"
      },
      {
        "duration": 1201,
        "start_time": "2023-03-24T21:29:52.946Z"
      },
      {
        "duration": 586,
        "start_time": "2023-03-24T21:29:54.149Z"
      },
      {
        "duration": 226,
        "start_time": "2023-03-24T21:29:54.737Z"
      },
      {
        "duration": 36,
        "start_time": "2023-03-24T21:29:54.965Z"
      },
      {
        "duration": 66,
        "start_time": "2023-03-24T21:29:55.002Z"
      },
      {
        "duration": 75,
        "start_time": "2023-03-24T21:29:55.069Z"
      },
      {
        "duration": 25,
        "start_time": "2023-03-24T21:29:55.146Z"
      },
      {
        "duration": 3263,
        "start_time": "2023-03-24T21:29:55.172Z"
      },
      {
        "duration": 9,
        "start_time": "2023-03-24T21:29:58.436Z"
      },
      {
        "duration": 28,
        "start_time": "2023-03-24T21:29:58.447Z"
      },
      {
        "duration": 26,
        "start_time": "2023-03-24T21:29:58.477Z"
      },
      {
        "duration": 47,
        "start_time": "2023-03-24T21:29:58.504Z"
      },
      {
        "duration": 29,
        "start_time": "2023-03-24T21:29:58.553Z"
      },
      {
        "duration": 25,
        "start_time": "2023-03-24T21:29:58.584Z"
      },
      {
        "duration": 34,
        "start_time": "2023-03-24T21:29:58.611Z"
      },
      {
        "duration": 20,
        "start_time": "2023-03-24T21:29:58.647Z"
      },
      {
        "duration": 61,
        "start_time": "2023-03-24T21:29:58.668Z"
      },
      {
        "duration": 23,
        "start_time": "2023-03-24T21:29:58.731Z"
      },
      {
        "duration": 10,
        "start_time": "2023-03-24T21:29:58.755Z"
      },
      {
        "duration": 400,
        "start_time": "2023-03-24T21:29:58.766Z"
      },
      {
        "duration": 191,
        "start_time": "2023-03-24T21:29:59.168Z"
      },
      {
        "duration": 10,
        "start_time": "2023-03-24T21:29:59.361Z"
      },
      {
        "duration": 6,
        "start_time": "2023-03-24T21:29:59.373Z"
      },
      {
        "duration": 31,
        "start_time": "2023-03-24T21:29:59.380Z"
      },
      {
        "duration": 56,
        "start_time": "2023-03-24T21:29:59.413Z"
      },
      {
        "duration": 52,
        "start_time": "2023-03-24T21:29:59.471Z"
      },
      {
        "duration": 140,
        "start_time": "2023-03-24T21:29:59.524Z"
      },
      {
        "duration": 43,
        "start_time": "2023-03-24T21:29:59.668Z"
      },
      {
        "duration": 109,
        "start_time": "2023-03-24T21:29:59.712Z"
      },
      {
        "duration": 31,
        "start_time": "2023-03-24T21:29:59.823Z"
      },
      {
        "duration": 133,
        "start_time": "2023-03-24T21:29:59.856Z"
      },
      {
        "duration": 15,
        "start_time": "2023-03-24T21:29:59.991Z"
      },
      {
        "duration": 69,
        "start_time": "2023-03-24T21:30:00.008Z"
      },
      {
        "duration": 17,
        "start_time": "2023-03-24T21:30:00.079Z"
      },
      {
        "duration": 62,
        "start_time": "2023-03-24T21:30:00.097Z"
      },
      {
        "duration": 15,
        "start_time": "2023-03-24T21:30:00.161Z"
      },
      {
        "duration": 23,
        "start_time": "2023-03-24T21:30:00.178Z"
      },
      {
        "duration": 58,
        "start_time": "2023-03-24T21:30:00.203Z"
      },
      {
        "duration": 159,
        "start_time": "2023-03-24T21:30:00.263Z"
      },
      {
        "duration": 52,
        "start_time": "2023-03-24T21:30:00.424Z"
      },
      {
        "duration": 7,
        "start_time": "2023-03-24T21:30:00.478Z"
      },
      {
        "duration": 103,
        "start_time": "2023-03-24T21:30:00.486Z"
      },
      {
        "duration": 39,
        "start_time": "2023-03-24T21:30:00.591Z"
      },
      {
        "duration": 9,
        "start_time": "2023-03-24T21:30:00.632Z"
      },
      {
        "duration": 48,
        "start_time": "2023-03-24T21:30:00.642Z"
      },
      {
        "duration": 172,
        "start_time": "2023-03-24T21:30:00.691Z"
      },
      {
        "duration": 45,
        "start_time": "2023-03-24T21:30:00.864Z"
      },
      {
        "duration": 35,
        "start_time": "2023-03-24T21:30:00.911Z"
      },
      {
        "duration": 42,
        "start_time": "2023-03-24T21:30:00.948Z"
      },
      {
        "duration": 33,
        "start_time": "2023-03-24T21:30:00.992Z"
      },
      {
        "duration": 37,
        "start_time": "2023-03-24T21:30:01.027Z"
      },
      {
        "duration": 58,
        "start_time": "2023-03-24T21:30:01.065Z"
      },
      {
        "duration": 40,
        "start_time": "2023-03-24T21:30:01.124Z"
      },
      {
        "duration": 33,
        "start_time": "2023-03-24T21:30:01.166Z"
      },
      {
        "duration": 40,
        "start_time": "2023-03-24T21:30:01.201Z"
      },
      {
        "duration": 9,
        "start_time": "2023-03-24T21:30:01.242Z"
      },
      {
        "duration": 42,
        "start_time": "2023-03-24T21:30:01.253Z"
      },
      {
        "duration": 21,
        "start_time": "2023-03-24T21:30:01.297Z"
      },
      {
        "duration": 33,
        "start_time": "2023-03-24T21:30:01.320Z"
      },
      {
        "duration": 40,
        "start_time": "2023-03-24T21:30:01.355Z"
      },
      {
        "duration": 41,
        "start_time": "2023-03-24T21:30:01.397Z"
      },
      {
        "duration": 31,
        "start_time": "2023-03-24T21:30:01.439Z"
      },
      {
        "duration": 112,
        "start_time": "2023-03-25T06:38:37.834Z"
      },
      {
        "duration": 1192,
        "start_time": "2023-03-25T08:08:31.409Z"
      },
      {
        "duration": 1100,
        "start_time": "2023-03-25T08:08:32.603Z"
      },
      {
        "duration": 183,
        "start_time": "2023-03-25T08:08:33.704Z"
      },
      {
        "duration": 31,
        "start_time": "2023-03-25T08:08:33.888Z"
      },
      {
        "duration": 51,
        "start_time": "2023-03-25T08:08:33.920Z"
      },
      {
        "duration": 56,
        "start_time": "2023-03-25T08:08:33.972Z"
      },
      {
        "duration": 22,
        "start_time": "2023-03-25T08:08:34.029Z"
      },
      {
        "duration": 2820,
        "start_time": "2023-03-25T08:08:34.052Z"
      },
      {
        "duration": 5,
        "start_time": "2023-03-25T08:08:36.873Z"
      },
      {
        "duration": 20,
        "start_time": "2023-03-25T08:08:36.881Z"
      },
      {
        "duration": 19,
        "start_time": "2023-03-25T08:08:36.902Z"
      },
      {
        "duration": 14,
        "start_time": "2023-03-25T08:08:36.923Z"
      },
      {
        "duration": 44,
        "start_time": "2023-03-25T08:08:36.938Z"
      },
      {
        "duration": 19,
        "start_time": "2023-03-25T08:08:36.983Z"
      },
      {
        "duration": 7,
        "start_time": "2023-03-25T08:08:37.003Z"
      },
      {
        "duration": 7,
        "start_time": "2023-03-25T08:08:37.011Z"
      },
      {
        "duration": 72,
        "start_time": "2023-03-25T08:08:37.019Z"
      },
      {
        "duration": 16,
        "start_time": "2023-03-25T08:08:37.092Z"
      },
      {
        "duration": 34,
        "start_time": "2023-03-25T08:08:37.109Z"
      },
      {
        "duration": 302,
        "start_time": "2023-03-25T08:08:37.145Z"
      },
      {
        "duration": 145,
        "start_time": "2023-03-25T08:08:37.448Z"
      },
      {
        "duration": 9,
        "start_time": "2023-03-25T08:08:37.594Z"
      },
      {
        "duration": 5,
        "start_time": "2023-03-25T08:08:37.604Z"
      },
      {
        "duration": 8,
        "start_time": "2023-03-25T08:08:37.610Z"
      },
      {
        "duration": 60,
        "start_time": "2023-03-25T08:08:37.619Z"
      },
      {
        "duration": 44,
        "start_time": "2023-03-25T08:08:37.680Z"
      },
      {
        "duration": 118,
        "start_time": "2023-03-25T08:08:37.725Z"
      },
      {
        "duration": 43,
        "start_time": "2023-03-25T08:08:37.846Z"
      },
      {
        "duration": 86,
        "start_time": "2023-03-25T08:08:37.890Z"
      },
      {
        "duration": 17,
        "start_time": "2023-03-25T08:08:37.977Z"
      },
      {
        "duration": 120,
        "start_time": "2023-03-25T08:08:37.995Z"
      },
      {
        "duration": 14,
        "start_time": "2023-03-25T08:08:38.117Z"
      },
      {
        "duration": 60,
        "start_time": "2023-03-25T08:08:38.132Z"
      },
      {
        "duration": 14,
        "start_time": "2023-03-25T08:08:38.193Z"
      },
      {
        "duration": 36,
        "start_time": "2023-03-25T08:08:38.208Z"
      },
      {
        "duration": 30,
        "start_time": "2023-03-25T08:08:38.245Z"
      },
      {
        "duration": 9,
        "start_time": "2023-03-25T08:08:38.276Z"
      },
      {
        "duration": 35,
        "start_time": "2023-03-25T08:08:38.286Z"
      },
      {
        "duration": 127,
        "start_time": "2023-03-25T08:08:38.322Z"
      },
      {
        "duration": 45,
        "start_time": "2023-03-25T08:08:38.450Z"
      },
      {
        "duration": 5,
        "start_time": "2023-03-25T08:08:38.497Z"
      },
      {
        "duration": 86,
        "start_time": "2023-03-25T08:08:38.503Z"
      },
      {
        "duration": 27,
        "start_time": "2023-03-25T08:08:38.591Z"
      },
      {
        "duration": 4,
        "start_time": "2023-03-25T08:08:38.619Z"
      },
      {
        "duration": 5,
        "start_time": "2023-03-25T08:08:38.624Z"
      },
      {
        "duration": 114,
        "start_time": "2023-03-25T08:08:38.631Z"
      },
      {
        "duration": 23,
        "start_time": "2023-03-25T08:08:38.746Z"
      },
      {
        "duration": 14,
        "start_time": "2023-03-25T08:08:38.771Z"
      },
      {
        "duration": 8,
        "start_time": "2023-03-25T08:08:38.787Z"
      },
      {
        "duration": 6,
        "start_time": "2023-03-25T08:08:38.796Z"
      },
      {
        "duration": 4,
        "start_time": "2023-03-25T08:08:38.804Z"
      },
      {
        "duration": 4,
        "start_time": "2023-03-25T08:08:38.810Z"
      },
      {
        "duration": 8,
        "start_time": "2023-03-25T08:08:38.815Z"
      },
      {
        "duration": 49,
        "start_time": "2023-03-25T08:08:38.825Z"
      },
      {
        "duration": 11,
        "start_time": "2023-03-25T08:08:38.876Z"
      },
      {
        "duration": 4,
        "start_time": "2023-03-25T08:08:38.889Z"
      },
      {
        "duration": 4,
        "start_time": "2023-03-25T08:08:38.894Z"
      },
      {
        "duration": 4,
        "start_time": "2023-03-25T08:08:38.899Z"
      },
      {
        "duration": 3,
        "start_time": "2023-03-25T08:08:38.904Z"
      },
      {
        "duration": 13,
        "start_time": "2023-03-25T08:08:38.908Z"
      },
      {
        "duration": 56,
        "start_time": "2023-03-25T08:08:38.922Z"
      },
      {
        "duration": 12,
        "start_time": "2023-03-25T08:08:38.980Z"
      },
      {
        "duration": 1453,
        "start_time": "2023-03-26T10:09:11.092Z"
      },
      {
        "duration": 1180,
        "start_time": "2023-03-26T10:09:12.547Z"
      },
      {
        "duration": 216,
        "start_time": "2023-03-26T10:09:13.729Z"
      },
      {
        "duration": 63,
        "start_time": "2023-03-26T10:09:13.948Z"
      },
      {
        "duration": 58,
        "start_time": "2023-03-26T10:09:14.014Z"
      },
      {
        "duration": 92,
        "start_time": "2023-03-26T10:09:14.074Z"
      },
      {
        "duration": 38,
        "start_time": "2023-03-26T10:09:14.168Z"
      },
      {
        "duration": 3511,
        "start_time": "2023-03-26T10:09:14.208Z"
      },
      {
        "duration": 6,
        "start_time": "2023-03-26T10:09:17.721Z"
      },
      {
        "duration": 27,
        "start_time": "2023-03-26T10:09:17.731Z"
      },
      {
        "duration": 47,
        "start_time": "2023-03-26T10:09:17.759Z"
      },
      {
        "duration": 21,
        "start_time": "2023-03-26T10:09:17.808Z"
      },
      {
        "duration": 28,
        "start_time": "2023-03-26T10:09:17.830Z"
      },
      {
        "duration": 51,
        "start_time": "2023-03-26T10:09:17.859Z"
      },
      {
        "duration": 10,
        "start_time": "2023-03-26T10:09:17.912Z"
      },
      {
        "duration": 9,
        "start_time": "2023-03-26T10:09:17.924Z"
      },
      {
        "duration": 119,
        "start_time": "2023-03-26T10:09:17.935Z"
      },
      {
        "duration": 32,
        "start_time": "2023-03-26T10:09:18.057Z"
      },
      {
        "duration": 15,
        "start_time": "2023-03-26T10:09:18.102Z"
      },
      {
        "duration": 410,
        "start_time": "2023-03-26T10:09:18.120Z"
      },
      {
        "duration": 193,
        "start_time": "2023-03-26T10:09:18.532Z"
      },
      {
        "duration": 11,
        "start_time": "2023-03-26T10:09:18.727Z"
      },
      {
        "duration": 7,
        "start_time": "2023-03-26T10:09:18.740Z"
      },
      {
        "duration": 13,
        "start_time": "2023-03-26T10:09:18.749Z"
      },
      {
        "duration": 84,
        "start_time": "2023-03-26T10:09:18.764Z"
      },
      {
        "duration": 66,
        "start_time": "2023-03-26T10:09:18.850Z"
      },
      {
        "duration": 135,
        "start_time": "2023-03-26T10:09:18.917Z"
      },
      {
        "duration": 59,
        "start_time": "2023-03-26T10:09:19.056Z"
      },
      {
        "duration": 112,
        "start_time": "2023-03-26T10:09:19.117Z"
      },
      {
        "duration": 26,
        "start_time": "2023-03-26T10:09:19.231Z"
      },
      {
        "duration": 161,
        "start_time": "2023-03-26T10:09:19.259Z"
      },
      {
        "duration": 17,
        "start_time": "2023-03-26T10:09:19.422Z"
      },
      {
        "duration": 81,
        "start_time": "2023-03-26T10:09:19.441Z"
      },
      {
        "duration": 17,
        "start_time": "2023-03-26T10:09:19.524Z"
      },
      {
        "duration": 64,
        "start_time": "2023-03-26T10:09:19.543Z"
      },
      {
        "duration": 17,
        "start_time": "2023-03-26T10:09:19.609Z"
      },
      {
        "duration": 12,
        "start_time": "2023-03-26T10:09:19.628Z"
      },
      {
        "duration": 73,
        "start_time": "2023-03-26T10:09:19.641Z"
      },
      {
        "duration": 137,
        "start_time": "2023-03-26T10:09:19.716Z"
      },
      {
        "duration": 57,
        "start_time": "2023-03-26T10:09:19.855Z"
      },
      {
        "duration": 6,
        "start_time": "2023-03-26T10:09:19.915Z"
      },
      {
        "duration": 80,
        "start_time": "2023-03-26T10:09:19.924Z"
      },
      {
        "duration": 35,
        "start_time": "2023-03-26T10:09:20.006Z"
      },
      {
        "duration": 4,
        "start_time": "2023-03-26T10:09:20.043Z"
      },
      {
        "duration": 40,
        "start_time": "2023-03-26T10:09:20.049Z"
      },
      {
        "duration": 284,
        "start_time": "2023-03-26T10:09:20.091Z"
      },
      {
        "duration": 0,
        "start_time": "2023-03-26T10:09:20.377Z"
      },
      {
        "duration": 0,
        "start_time": "2023-03-26T10:09:20.378Z"
      },
      {
        "duration": 0,
        "start_time": "2023-03-26T10:09:20.379Z"
      },
      {
        "duration": 0,
        "start_time": "2023-03-26T10:09:20.380Z"
      },
      {
        "duration": 0,
        "start_time": "2023-03-26T10:09:20.381Z"
      },
      {
        "duration": 0,
        "start_time": "2023-03-26T10:09:20.383Z"
      },
      {
        "duration": 0,
        "start_time": "2023-03-26T10:09:20.384Z"
      },
      {
        "duration": 0,
        "start_time": "2023-03-26T10:09:20.385Z"
      },
      {
        "duration": 0,
        "start_time": "2023-03-26T10:09:20.403Z"
      },
      {
        "duration": 0,
        "start_time": "2023-03-26T10:09:20.404Z"
      },
      {
        "duration": 0,
        "start_time": "2023-03-26T10:09:20.406Z"
      },
      {
        "duration": 0,
        "start_time": "2023-03-26T10:09:20.407Z"
      },
      {
        "duration": 0,
        "start_time": "2023-03-26T10:09:20.408Z"
      },
      {
        "duration": 0,
        "start_time": "2023-03-26T10:09:20.409Z"
      },
      {
        "duration": 0,
        "start_time": "2023-03-26T10:09:20.410Z"
      },
      {
        "duration": 0,
        "start_time": "2023-03-26T10:09:20.411Z"
      },
      {
        "duration": 11,
        "start_time": "2023-03-26T10:11:34.482Z"
      },
      {
        "duration": 7,
        "start_time": "2023-03-26T10:11:42.400Z"
      },
      {
        "duration": 1190,
        "start_time": "2023-03-26T17:52:53.659Z"
      },
      {
        "duration": 584,
        "start_time": "2023-03-26T17:52:54.851Z"
      },
      {
        "duration": 223,
        "start_time": "2023-03-26T17:52:55.437Z"
      },
      {
        "duration": 53,
        "start_time": "2023-03-26T17:52:55.662Z"
      },
      {
        "duration": 42,
        "start_time": "2023-03-26T17:52:55.717Z"
      },
      {
        "duration": 91,
        "start_time": "2023-03-26T17:52:55.760Z"
      },
      {
        "duration": 25,
        "start_time": "2023-03-26T17:52:55.852Z"
      },
      {
        "duration": 3468,
        "start_time": "2023-03-26T17:52:55.879Z"
      },
      {
        "duration": 7,
        "start_time": "2023-03-26T17:52:59.350Z"
      },
      {
        "duration": 44,
        "start_time": "2023-03-26T17:52:59.360Z"
      },
      {
        "duration": 27,
        "start_time": "2023-03-26T17:52:59.406Z"
      },
      {
        "duration": 20,
        "start_time": "2023-03-26T17:52:59.435Z"
      },
      {
        "duration": 58,
        "start_time": "2023-03-26T17:52:59.457Z"
      },
      {
        "duration": 26,
        "start_time": "2023-03-26T17:52:59.518Z"
      },
      {
        "duration": 10,
        "start_time": "2023-03-26T17:52:59.546Z"
      },
      {
        "duration": 10,
        "start_time": "2023-03-26T17:52:59.558Z"
      },
      {
        "duration": 90,
        "start_time": "2023-03-26T17:52:59.570Z"
      },
      {
        "duration": 22,
        "start_time": "2023-03-26T17:52:59.662Z"
      },
      {
        "duration": 14,
        "start_time": "2023-03-26T17:52:59.703Z"
      },
      {
        "duration": 390,
        "start_time": "2023-03-26T17:52:59.720Z"
      },
      {
        "duration": 268,
        "start_time": "2023-03-26T17:53:00.112Z"
      },
      {
        "duration": 26,
        "start_time": "2023-03-26T17:53:00.382Z"
      },
      {
        "duration": 37,
        "start_time": "2023-03-26T17:53:00.410Z"
      },
      {
        "duration": 24,
        "start_time": "2023-03-26T17:53:00.448Z"
      },
      {
        "duration": 55,
        "start_time": "2023-03-26T17:53:00.474Z"
      },
      {
        "duration": 56,
        "start_time": "2023-03-26T17:53:00.531Z"
      },
      {
        "duration": 144,
        "start_time": "2023-03-26T17:53:00.588Z"
      },
      {
        "duration": 48,
        "start_time": "2023-03-26T17:53:00.737Z"
      },
      {
        "duration": 112,
        "start_time": "2023-03-26T17:53:00.803Z"
      },
      {
        "duration": 33,
        "start_time": "2023-03-26T17:53:00.917Z"
      },
      {
        "duration": 4,
        "start_time": "2023-03-26T17:53:00.952Z"
      },
      {
        "duration": 180,
        "start_time": "2023-03-26T17:53:00.958Z"
      },
      {
        "duration": 42,
        "start_time": "2023-03-26T17:53:01.140Z"
      },
      {
        "duration": 61,
        "start_time": "2023-03-26T17:53:01.184Z"
      },
      {
        "duration": 17,
        "start_time": "2023-03-26T17:53:01.246Z"
      },
      {
        "duration": 83,
        "start_time": "2023-03-26T17:53:01.264Z"
      },
      {
        "duration": 19,
        "start_time": "2023-03-26T17:53:01.349Z"
      },
      {
        "duration": 35,
        "start_time": "2023-03-26T17:53:01.370Z"
      },
      {
        "duration": 59,
        "start_time": "2023-03-26T17:53:01.407Z"
      },
      {
        "duration": 154,
        "start_time": "2023-03-26T17:53:01.467Z"
      },
      {
        "duration": 53,
        "start_time": "2023-03-26T17:53:01.623Z"
      },
      {
        "duration": 12,
        "start_time": "2023-03-26T17:53:01.678Z"
      },
      {
        "duration": 72,
        "start_time": "2023-03-26T17:53:01.692Z"
      },
      {
        "duration": 37,
        "start_time": "2023-03-26T17:53:01.766Z"
      },
      {
        "duration": 17,
        "start_time": "2023-03-26T17:53:01.805Z"
      },
      {
        "duration": 23,
        "start_time": "2023-03-26T17:53:01.824Z"
      },
      {
        "duration": 403,
        "start_time": "2023-03-26T17:53:01.849Z"
      },
      {
        "duration": 0,
        "start_time": "2023-03-26T17:53:02.254Z"
      },
      {
        "duration": 0,
        "start_time": "2023-03-26T17:53:02.256Z"
      },
      {
        "duration": 0,
        "start_time": "2023-03-26T17:53:02.260Z"
      },
      {
        "duration": 5,
        "start_time": "2023-03-26T17:55:22.087Z"
      },
      {
        "duration": 4,
        "start_time": "2023-03-26T17:55:29.831Z"
      },
      {
        "duration": 17,
        "start_time": "2023-03-26T17:55:32.688Z"
      },
      {
        "duration": 12,
        "start_time": "2023-03-26T17:55:33.578Z"
      },
      {
        "duration": 11,
        "start_time": "2023-03-26T17:55:37.493Z"
      },
      {
        "duration": 8,
        "start_time": "2023-03-26T17:55:41.563Z"
      },
      {
        "duration": 157,
        "start_time": "2023-03-26T17:58:44.360Z"
      },
      {
        "duration": 24,
        "start_time": "2023-03-26T17:59:13.525Z"
      },
      {
        "duration": 24,
        "start_time": "2023-03-26T18:00:23.297Z"
      },
      {
        "duration": 1204,
        "start_time": "2023-03-26T18:00:32.770Z"
      },
      {
        "duration": 621,
        "start_time": "2023-03-26T18:00:33.976Z"
      },
      {
        "duration": 224,
        "start_time": "2023-03-26T18:00:34.599Z"
      },
      {
        "duration": 36,
        "start_time": "2023-03-26T18:00:34.825Z"
      },
      {
        "duration": 71,
        "start_time": "2023-03-26T18:00:34.863Z"
      },
      {
        "duration": 86,
        "start_time": "2023-03-26T18:00:34.935Z"
      },
      {
        "duration": 27,
        "start_time": "2023-03-26T18:00:35.023Z"
      },
      {
        "duration": 3639,
        "start_time": "2023-03-26T18:00:35.052Z"
      },
      {
        "duration": 12,
        "start_time": "2023-03-26T18:00:38.692Z"
      },
      {
        "duration": 48,
        "start_time": "2023-03-26T18:00:38.707Z"
      },
      {
        "duration": 47,
        "start_time": "2023-03-26T18:00:38.757Z"
      },
      {
        "duration": 21,
        "start_time": "2023-03-26T18:00:38.806Z"
      },
      {
        "duration": 28,
        "start_time": "2023-03-26T18:00:38.829Z"
      },
      {
        "duration": 46,
        "start_time": "2023-03-26T18:00:38.859Z"
      },
      {
        "duration": 9,
        "start_time": "2023-03-26T18:00:38.906Z"
      },
      {
        "duration": 9,
        "start_time": "2023-03-26T18:00:38.917Z"
      },
      {
        "duration": 84,
        "start_time": "2023-03-26T18:00:38.928Z"
      },
      {
        "duration": 22,
        "start_time": "2023-03-26T18:00:39.014Z"
      },
      {
        "duration": 10,
        "start_time": "2023-03-26T18:00:39.038Z"
      },
      {
        "duration": 726,
        "start_time": "2023-03-26T18:00:39.050Z"
      },
      {
        "duration": 174,
        "start_time": "2023-03-26T18:00:39.778Z"
      },
      {
        "duration": 11,
        "start_time": "2023-03-26T18:00:39.954Z"
      },
      {
        "duration": 25,
        "start_time": "2023-03-26T18:00:39.966Z"
      },
      {
        "duration": 25,
        "start_time": "2023-03-26T18:00:39.993Z"
      },
      {
        "duration": 51,
        "start_time": "2023-03-26T18:00:40.020Z"
      },
      {
        "duration": 67,
        "start_time": "2023-03-26T18:00:40.072Z"
      },
      {
        "duration": 137,
        "start_time": "2023-03-26T18:00:40.140Z"
      },
      {
        "duration": 52,
        "start_time": "2023-03-26T18:00:40.281Z"
      },
      {
        "duration": 108,
        "start_time": "2023-03-26T18:00:40.335Z"
      },
      {
        "duration": 40,
        "start_time": "2023-03-26T18:00:40.445Z"
      },
      {
        "duration": 17,
        "start_time": "2023-03-26T18:00:40.487Z"
      },
      {
        "duration": 142,
        "start_time": "2023-03-26T18:00:40.506Z"
      },
      {
        "duration": 18,
        "start_time": "2023-03-26T18:00:40.650Z"
      },
      {
        "duration": 68,
        "start_time": "2023-03-26T18:00:40.669Z"
      },
      {
        "duration": 16,
        "start_time": "2023-03-26T18:00:40.739Z"
      },
      {
        "duration": 71,
        "start_time": "2023-03-26T18:00:40.757Z"
      },
      {
        "duration": 19,
        "start_time": "2023-03-26T18:00:40.831Z"
      },
      {
        "duration": 14,
        "start_time": "2023-03-26T18:00:40.852Z"
      },
      {
        "duration": 76,
        "start_time": "2023-03-26T18:00:40.869Z"
      },
      {
        "duration": 158,
        "start_time": "2023-03-26T18:00:40.947Z"
      },
      {
        "duration": 54,
        "start_time": "2023-03-26T18:00:41.107Z"
      },
      {
        "duration": 8,
        "start_time": "2023-03-26T18:00:41.163Z"
      },
      {
        "duration": 78,
        "start_time": "2023-03-26T18:00:41.173Z"
      },
      {
        "duration": 32,
        "start_time": "2023-03-26T18:00:41.253Z"
      },
      {
        "duration": 17,
        "start_time": "2023-03-26T18:00:41.288Z"
      },
      {
        "duration": 7,
        "start_time": "2023-03-26T18:00:41.306Z"
      },
      {
        "duration": 8,
        "start_time": "2023-03-26T18:00:41.314Z"
      },
      {
        "duration": 20,
        "start_time": "2023-03-26T18:00:41.325Z"
      },
      {
        "duration": 14,
        "start_time": "2023-03-26T18:00:41.347Z"
      },
      {
        "duration": 47,
        "start_time": "2023-03-26T18:00:41.363Z"
      },
      {
        "duration": 33,
        "start_time": "2023-03-26T18:00:41.412Z"
      },
      {
        "duration": 5,
        "start_time": "2023-03-26T18:00:41.447Z"
      },
      {
        "duration": 6,
        "start_time": "2023-03-26T18:05:01.197Z"
      },
      {
        "duration": 5,
        "start_time": "2023-03-26T18:05:14.611Z"
      },
      {
        "duration": 76,
        "start_time": "2023-03-26T18:06:16.778Z"
      },
      {
        "duration": 5,
        "start_time": "2023-03-26T18:06:22.096Z"
      },
      {
        "duration": 10,
        "start_time": "2023-03-26T18:09:51.427Z"
      },
      {
        "duration": 17,
        "start_time": "2023-03-26T18:09:56.279Z"
      },
      {
        "duration": 14,
        "start_time": "2023-03-26T18:14:56.627Z"
      },
      {
        "duration": 12,
        "start_time": "2023-03-26T18:15:19.860Z"
      },
      {
        "duration": 12,
        "start_time": "2023-03-26T18:15:37.781Z"
      },
      {
        "duration": 13,
        "start_time": "2023-03-26T18:15:43.363Z"
      },
      {
        "duration": 12,
        "start_time": "2023-03-26T18:15:59.884Z"
      },
      {
        "duration": 15,
        "start_time": "2023-03-26T18:16:23.090Z"
      },
      {
        "duration": 13,
        "start_time": "2023-03-26T18:16:33.411Z"
      },
      {
        "duration": 1218,
        "start_time": "2023-03-26T18:16:38.414Z"
      },
      {
        "duration": 583,
        "start_time": "2023-03-26T18:16:39.635Z"
      },
      {
        "duration": 221,
        "start_time": "2023-03-26T18:16:40.220Z"
      },
      {
        "duration": 36,
        "start_time": "2023-03-26T18:16:40.443Z"
      },
      {
        "duration": 58,
        "start_time": "2023-03-26T18:16:40.481Z"
      },
      {
        "duration": 75,
        "start_time": "2023-03-26T18:16:40.541Z"
      },
      {
        "duration": 23,
        "start_time": "2023-03-26T18:16:40.618Z"
      },
      {
        "duration": 3666,
        "start_time": "2023-03-26T18:16:40.643Z"
      },
      {
        "duration": 6,
        "start_time": "2023-03-26T18:16:44.311Z"
      },
      {
        "duration": 24,
        "start_time": "2023-03-26T18:16:44.320Z"
      },
      {
        "duration": 33,
        "start_time": "2023-03-26T18:16:44.346Z"
      },
      {
        "duration": 31,
        "start_time": "2023-03-26T18:16:44.380Z"
      },
      {
        "duration": 26,
        "start_time": "2023-03-26T18:16:44.413Z"
      },
      {
        "duration": 25,
        "start_time": "2023-03-26T18:16:44.440Z"
      },
      {
        "duration": 10,
        "start_time": "2023-03-26T18:16:44.466Z"
      },
      {
        "duration": 10,
        "start_time": "2023-03-26T18:16:44.503Z"
      },
      {
        "duration": 60,
        "start_time": "2023-03-26T18:16:44.515Z"
      },
      {
        "duration": 34,
        "start_time": "2023-03-26T18:16:44.576Z"
      },
      {
        "duration": 20,
        "start_time": "2023-03-26T18:16:44.612Z"
      },
      {
        "duration": 334,
        "start_time": "2023-03-26T18:16:44.634Z"
      },
      {
        "duration": 175,
        "start_time": "2023-03-26T18:16:44.970Z"
      },
      {
        "duration": 11,
        "start_time": "2023-03-26T18:16:45.147Z"
      },
      {
        "duration": 9,
        "start_time": "2023-03-26T18:16:45.159Z"
      },
      {
        "duration": 34,
        "start_time": "2023-03-26T18:16:45.169Z"
      },
      {
        "duration": 46,
        "start_time": "2023-03-26T18:16:45.205Z"
      },
      {
        "duration": 75,
        "start_time": "2023-03-26T18:16:45.252Z"
      },
      {
        "duration": 138,
        "start_time": "2023-03-26T18:16:45.329Z"
      },
      {
        "duration": 57,
        "start_time": "2023-03-26T18:16:45.473Z"
      },
      {
        "duration": 115,
        "start_time": "2023-03-26T18:16:45.532Z"
      },
      {
        "duration": 25,
        "start_time": "2023-03-26T18:16:45.649Z"
      },
      {
        "duration": 5,
        "start_time": "2023-03-26T18:16:45.676Z"
      },
      {
        "duration": 160,
        "start_time": "2023-03-26T18:16:45.683Z"
      },
      {
        "duration": 17,
        "start_time": "2023-03-26T18:16:45.845Z"
      },
      {
        "duration": 71,
        "start_time": "2023-03-26T18:16:45.863Z"
      },
      {
        "duration": 22,
        "start_time": "2023-03-26T18:16:45.936Z"
      },
      {
        "duration": 73,
        "start_time": "2023-03-26T18:16:45.960Z"
      },
      {
        "duration": 19,
        "start_time": "2023-03-26T18:16:46.035Z"
      },
      {
        "duration": 12,
        "start_time": "2023-03-26T18:16:46.055Z"
      },
      {
        "duration": 70,
        "start_time": "2023-03-26T18:16:46.068Z"
      },
      {
        "duration": 140,
        "start_time": "2023-03-26T18:16:46.140Z"
      },
      {
        "duration": 56,
        "start_time": "2023-03-26T18:16:46.282Z"
      },
      {
        "duration": 8,
        "start_time": "2023-03-26T18:16:46.340Z"
      },
      {
        "duration": 73,
        "start_time": "2023-03-26T18:16:46.350Z"
      },
      {
        "duration": 32,
        "start_time": "2023-03-26T18:16:46.425Z"
      },
      {
        "duration": 4,
        "start_time": "2023-03-26T18:16:46.459Z"
      },
      {
        "duration": 5,
        "start_time": "2023-03-26T18:16:46.465Z"
      },
      {
        "duration": 31,
        "start_time": "2023-03-26T18:16:46.472Z"
      },
      {
        "duration": 30,
        "start_time": "2023-03-26T18:16:46.505Z"
      },
      {
        "duration": 16,
        "start_time": "2023-03-26T18:16:46.537Z"
      },
      {
        "duration": 10,
        "start_time": "2023-03-26T18:16:46.554Z"
      },
      {
        "duration": 41,
        "start_time": "2023-03-26T18:16:46.565Z"
      },
      {
        "duration": 12,
        "start_time": "2023-03-26T18:16:46.608Z"
      },
      {
        "duration": 9,
        "start_time": "2023-03-26T18:16:46.622Z"
      },
      {
        "duration": 10,
        "start_time": "2023-03-26T18:16:46.633Z"
      },
      {
        "duration": 8,
        "start_time": "2023-03-26T18:16:46.644Z"
      },
      {
        "duration": 5,
        "start_time": "2023-03-26T18:16:46.654Z"
      },
      {
        "duration": 43,
        "start_time": "2023-03-26T18:16:46.661Z"
      },
      {
        "duration": 12,
        "start_time": "2023-03-26T18:16:46.706Z"
      },
      {
        "duration": 12,
        "start_time": "2023-03-26T18:16:46.720Z"
      },
      {
        "duration": 22,
        "start_time": "2023-03-26T18:16:46.734Z"
      },
      {
        "duration": 6,
        "start_time": "2023-03-26T18:16:46.758Z"
      },
      {
        "duration": 6,
        "start_time": "2023-03-26T18:16:46.766Z"
      },
      {
        "duration": 7,
        "start_time": "2023-03-26T18:16:46.803Z"
      },
      {
        "duration": 3,
        "start_time": "2023-03-26T18:16:46.812Z"
      },
      {
        "duration": 21,
        "start_time": "2023-03-26T18:16:46.817Z"
      },
      {
        "duration": 22,
        "start_time": "2023-03-26T18:16:46.841Z"
      },
      {
        "duration": 46,
        "start_time": "2023-03-26T18:16:46.865Z"
      },
      {
        "duration": 160,
        "start_time": "2023-03-26T18:18:10.441Z"
      },
      {
        "duration": 98,
        "start_time": "2023-03-26T18:18:38.480Z"
      },
      {
        "duration": 91,
        "start_time": "2023-03-26T18:18:43.881Z"
      },
      {
        "duration": 35,
        "start_time": "2023-03-26T18:20:20.286Z"
      },
      {
        "duration": 27,
        "start_time": "2023-03-26T18:20:42.986Z"
      },
      {
        "duration": 1358,
        "start_time": "2023-03-26T18:21:01.819Z"
      },
      {
        "duration": 626,
        "start_time": "2023-03-26T18:21:03.178Z"
      },
      {
        "duration": 229,
        "start_time": "2023-03-26T18:21:03.806Z"
      },
      {
        "duration": 44,
        "start_time": "2023-03-26T18:21:04.036Z"
      },
      {
        "duration": 69,
        "start_time": "2023-03-26T18:21:04.082Z"
      },
      {
        "duration": 82,
        "start_time": "2023-03-26T18:21:04.153Z"
      },
      {
        "duration": 27,
        "start_time": "2023-03-26T18:21:04.237Z"
      },
      {
        "duration": 3807,
        "start_time": "2023-03-26T18:21:04.266Z"
      },
      {
        "duration": 7,
        "start_time": "2023-03-26T18:21:08.074Z"
      },
      {
        "duration": 42,
        "start_time": "2023-03-26T18:21:08.083Z"
      },
      {
        "duration": 28,
        "start_time": "2023-03-26T18:21:08.128Z"
      },
      {
        "duration": 18,
        "start_time": "2023-03-26T18:21:08.157Z"
      },
      {
        "duration": 58,
        "start_time": "2023-03-26T18:21:08.177Z"
      },
      {
        "duration": 26,
        "start_time": "2023-03-26T18:21:08.238Z"
      },
      {
        "duration": 9,
        "start_time": "2023-03-26T18:21:08.266Z"
      },
      {
        "duration": 38,
        "start_time": "2023-03-26T18:21:08.276Z"
      },
      {
        "duration": 65,
        "start_time": "2023-03-26T18:21:08.316Z"
      },
      {
        "duration": 40,
        "start_time": "2023-03-26T18:21:08.383Z"
      },
      {
        "duration": 10,
        "start_time": "2023-03-26T18:21:08.424Z"
      },
      {
        "duration": 431,
        "start_time": "2023-03-26T18:21:08.435Z"
      },
      {
        "duration": 177,
        "start_time": "2023-03-26T18:21:08.868Z"
      },
      {
        "duration": 9,
        "start_time": "2023-03-26T18:21:09.047Z"
      },
      {
        "duration": 5,
        "start_time": "2023-03-26T18:21:09.058Z"
      },
      {
        "duration": 15,
        "start_time": "2023-03-26T18:21:09.065Z"
      },
      {
        "duration": 71,
        "start_time": "2023-03-26T18:21:09.082Z"
      },
      {
        "duration": 62,
        "start_time": "2023-03-26T18:21:09.155Z"
      },
      {
        "duration": 140,
        "start_time": "2023-03-26T18:21:09.219Z"
      },
      {
        "duration": 57,
        "start_time": "2023-03-26T18:21:09.363Z"
      },
      {
        "duration": 110,
        "start_time": "2023-03-26T18:21:09.422Z"
      },
      {
        "duration": 23,
        "start_time": "2023-03-26T18:21:09.533Z"
      },
      {
        "duration": 4,
        "start_time": "2023-03-26T18:21:09.557Z"
      },
      {
        "duration": 146,
        "start_time": "2023-03-26T18:21:09.563Z"
      },
      {
        "duration": 20,
        "start_time": "2023-03-26T18:21:09.711Z"
      },
      {
        "duration": 52,
        "start_time": "2023-03-26T18:21:09.732Z"
      },
      {
        "duration": 40,
        "start_time": "2023-03-26T18:21:09.786Z"
      },
      {
        "duration": 44,
        "start_time": "2023-03-26T18:21:09.827Z"
      },
      {
        "duration": 38,
        "start_time": "2023-03-26T18:21:09.872Z"
      },
      {
        "duration": 20,
        "start_time": "2023-03-26T18:21:09.911Z"
      },
      {
        "duration": 42,
        "start_time": "2023-03-26T18:21:09.933Z"
      },
      {
        "duration": 163,
        "start_time": "2023-03-26T18:21:09.977Z"
      },
      {
        "duration": 45,
        "start_time": "2023-03-26T18:21:10.142Z"
      },
      {
        "duration": 19,
        "start_time": "2023-03-26T18:21:10.189Z"
      },
      {
        "duration": 72,
        "start_time": "2023-03-26T18:21:10.210Z"
      },
      {
        "duration": 48,
        "start_time": "2023-03-26T18:21:10.283Z"
      },
      {
        "duration": 4,
        "start_time": "2023-03-26T18:21:10.332Z"
      },
      {
        "duration": 5,
        "start_time": "2023-03-26T18:21:10.338Z"
      },
      {
        "duration": 14,
        "start_time": "2023-03-26T18:21:10.345Z"
      },
      {
        "duration": 19,
        "start_time": "2023-03-26T18:21:10.361Z"
      },
      {
        "duration": 33,
        "start_time": "2023-03-26T18:21:10.382Z"
      },
      {
        "duration": 11,
        "start_time": "2023-03-26T18:21:10.417Z"
      },
      {
        "duration": 19,
        "start_time": "2023-03-26T18:21:10.430Z"
      },
      {
        "duration": 200,
        "start_time": "2023-03-26T18:21:10.451Z"
      },
      {
        "duration": 0,
        "start_time": "2023-03-26T18:21:10.653Z"
      },
      {
        "duration": 0,
        "start_time": "2023-03-26T18:21:10.655Z"
      },
      {
        "duration": 0,
        "start_time": "2023-03-26T18:21:10.656Z"
      },
      {
        "duration": 0,
        "start_time": "2023-03-26T18:21:10.657Z"
      },
      {
        "duration": 0,
        "start_time": "2023-03-26T18:21:10.659Z"
      },
      {
        "duration": 0,
        "start_time": "2023-03-26T18:21:10.661Z"
      },
      {
        "duration": 0,
        "start_time": "2023-03-26T18:21:10.662Z"
      },
      {
        "duration": 0,
        "start_time": "2023-03-26T18:21:10.663Z"
      },
      {
        "duration": 0,
        "start_time": "2023-03-26T18:21:10.664Z"
      },
      {
        "duration": 0,
        "start_time": "2023-03-26T18:21:10.666Z"
      },
      {
        "duration": 0,
        "start_time": "2023-03-26T18:21:10.667Z"
      },
      {
        "duration": 0,
        "start_time": "2023-03-26T18:21:10.668Z"
      },
      {
        "duration": 0,
        "start_time": "2023-03-26T18:21:10.669Z"
      },
      {
        "duration": 0,
        "start_time": "2023-03-26T18:21:10.670Z"
      },
      {
        "duration": 0,
        "start_time": "2023-03-26T18:21:10.671Z"
      },
      {
        "duration": 21,
        "start_time": "2023-03-26T18:21:30.121Z"
      },
      {
        "duration": 35,
        "start_time": "2023-03-26T18:21:33.982Z"
      },
      {
        "duration": 19,
        "start_time": "2023-03-26T18:22:38.523Z"
      },
      {
        "duration": 17,
        "start_time": "2023-03-26T18:22:46.619Z"
      },
      {
        "duration": 18,
        "start_time": "2023-03-26T18:22:51.130Z"
      },
      {
        "duration": 15,
        "start_time": "2023-03-26T18:23:05.581Z"
      },
      {
        "duration": 17,
        "start_time": "2023-03-26T18:23:11.541Z"
      },
      {
        "duration": 14,
        "start_time": "2023-03-26T18:23:18.775Z"
      },
      {
        "duration": 14,
        "start_time": "2023-03-26T18:23:27.865Z"
      },
      {
        "duration": 25,
        "start_time": "2023-03-26T18:23:33.398Z"
      },
      {
        "duration": 24,
        "start_time": "2023-03-26T18:23:37.498Z"
      },
      {
        "duration": 13,
        "start_time": "2023-03-26T18:23:49.442Z"
      },
      {
        "duration": 16,
        "start_time": "2023-03-26T18:24:01.285Z"
      },
      {
        "duration": 17,
        "start_time": "2023-03-26T18:24:08.635Z"
      },
      {
        "duration": 25,
        "start_time": "2023-03-26T18:24:45.766Z"
      },
      {
        "duration": 34,
        "start_time": "2023-03-26T18:25:13.891Z"
      },
      {
        "duration": 26,
        "start_time": "2023-03-26T18:25:24.187Z"
      },
      {
        "duration": 1184,
        "start_time": "2023-03-26T18:25:28.662Z"
      },
      {
        "duration": 622,
        "start_time": "2023-03-26T18:25:29.848Z"
      },
      {
        "duration": 249,
        "start_time": "2023-03-26T18:25:30.472Z"
      },
      {
        "duration": 38,
        "start_time": "2023-03-26T18:25:30.724Z"
      },
      {
        "duration": 58,
        "start_time": "2023-03-26T18:25:30.763Z"
      },
      {
        "duration": 71,
        "start_time": "2023-03-26T18:25:30.823Z"
      },
      {
        "duration": 39,
        "start_time": "2023-03-26T18:25:30.896Z"
      },
      {
        "duration": 3725,
        "start_time": "2023-03-26T18:25:30.937Z"
      },
      {
        "duration": 6,
        "start_time": "2023-03-26T18:25:34.664Z"
      },
      {
        "duration": 42,
        "start_time": "2023-03-26T18:25:34.673Z"
      },
      {
        "duration": 26,
        "start_time": "2023-03-26T18:25:34.720Z"
      },
      {
        "duration": 17,
        "start_time": "2023-03-26T18:25:34.748Z"
      },
      {
        "duration": 52,
        "start_time": "2023-03-26T18:25:34.767Z"
      },
      {
        "duration": 28,
        "start_time": "2023-03-26T18:25:34.821Z"
      },
      {
        "duration": 9,
        "start_time": "2023-03-26T18:25:34.851Z"
      },
      {
        "duration": 8,
        "start_time": "2023-03-26T18:25:34.862Z"
      },
      {
        "duration": 95,
        "start_time": "2023-03-26T18:25:34.872Z"
      },
      {
        "duration": 19,
        "start_time": "2023-03-26T18:25:34.969Z"
      },
      {
        "duration": 34,
        "start_time": "2023-03-26T18:25:34.989Z"
      },
      {
        "duration": 395,
        "start_time": "2023-03-26T18:25:35.025Z"
      },
      {
        "duration": 222,
        "start_time": "2023-03-26T18:25:35.422Z"
      },
      {
        "duration": 11,
        "start_time": "2023-03-26T18:25:35.646Z"
      },
      {
        "duration": 6,
        "start_time": "2023-03-26T18:25:35.659Z"
      },
      {
        "duration": 9,
        "start_time": "2023-03-26T18:25:35.667Z"
      },
      {
        "duration": 56,
        "start_time": "2023-03-26T18:25:35.703Z"
      },
      {
        "duration": 70,
        "start_time": "2023-03-26T18:25:35.760Z"
      },
      {
        "duration": 131,
        "start_time": "2023-03-26T18:25:35.832Z"
      },
      {
        "duration": 66,
        "start_time": "2023-03-26T18:25:35.966Z"
      },
      {
        "duration": 111,
        "start_time": "2023-03-26T18:25:36.036Z"
      },
      {
        "duration": 24,
        "start_time": "2023-03-26T18:25:36.149Z"
      },
      {
        "duration": 5,
        "start_time": "2023-03-26T18:25:36.174Z"
      },
      {
        "duration": 173,
        "start_time": "2023-03-26T18:25:36.180Z"
      },
      {
        "duration": 19,
        "start_time": "2023-03-26T18:25:36.354Z"
      },
      {
        "duration": 70,
        "start_time": "2023-03-26T18:25:36.374Z"
      },
      {
        "duration": 18,
        "start_time": "2023-03-26T18:25:36.445Z"
      },
      {
        "duration": 70,
        "start_time": "2023-03-26T18:25:36.464Z"
      },
      {
        "duration": 20,
        "start_time": "2023-03-26T18:25:36.536Z"
      },
      {
        "duration": 12,
        "start_time": "2023-03-26T18:25:36.558Z"
      },
      {
        "duration": 74,
        "start_time": "2023-03-26T18:25:36.572Z"
      },
      {
        "duration": 164,
        "start_time": "2023-03-26T18:25:36.648Z"
      },
      {
        "duration": 47,
        "start_time": "2023-03-26T18:25:36.813Z"
      },
      {
        "duration": 6,
        "start_time": "2023-03-26T18:25:36.862Z"
      },
      {
        "duration": 84,
        "start_time": "2023-03-26T18:25:36.870Z"
      },
      {
        "duration": 52,
        "start_time": "2023-03-26T18:25:36.955Z"
      },
      {
        "duration": 10,
        "start_time": "2023-03-26T18:25:37.009Z"
      },
      {
        "duration": 5,
        "start_time": "2023-03-26T18:25:37.020Z"
      },
      {
        "duration": 10,
        "start_time": "2023-03-26T18:25:37.027Z"
      },
      {
        "duration": 35,
        "start_time": "2023-03-26T18:25:37.039Z"
      },
      {
        "duration": 17,
        "start_time": "2023-03-26T18:25:37.075Z"
      },
      {
        "duration": 31,
        "start_time": "2023-03-26T18:25:37.093Z"
      },
      {
        "duration": 22,
        "start_time": "2023-03-26T18:25:37.125Z"
      },
      {
        "duration": 171,
        "start_time": "2023-03-26T18:25:37.149Z"
      },
      {
        "duration": 0,
        "start_time": "2023-03-26T18:25:37.322Z"
      },
      {
        "duration": 0,
        "start_time": "2023-03-26T18:25:37.323Z"
      },
      {
        "duration": 0,
        "start_time": "2023-03-26T18:25:37.324Z"
      },
      {
        "duration": 0,
        "start_time": "2023-03-26T18:25:37.326Z"
      },
      {
        "duration": 0,
        "start_time": "2023-03-26T18:25:37.327Z"
      },
      {
        "duration": 0,
        "start_time": "2023-03-26T18:25:37.328Z"
      },
      {
        "duration": 0,
        "start_time": "2023-03-26T18:25:37.328Z"
      },
      {
        "duration": 0,
        "start_time": "2023-03-26T18:25:37.329Z"
      },
      {
        "duration": 0,
        "start_time": "2023-03-26T18:25:37.330Z"
      },
      {
        "duration": 0,
        "start_time": "2023-03-26T18:25:37.331Z"
      },
      {
        "duration": 0,
        "start_time": "2023-03-26T18:25:37.332Z"
      },
      {
        "duration": 0,
        "start_time": "2023-03-26T18:25:37.334Z"
      },
      {
        "duration": 0,
        "start_time": "2023-03-26T18:25:37.335Z"
      },
      {
        "duration": 0,
        "start_time": "2023-03-26T18:25:37.336Z"
      },
      {
        "duration": 0,
        "start_time": "2023-03-26T18:25:37.337Z"
      },
      {
        "duration": 106,
        "start_time": "2023-03-26T18:25:56.920Z"
      },
      {
        "duration": 18,
        "start_time": "2023-03-26T18:26:02.611Z"
      },
      {
        "duration": 21,
        "start_time": "2023-03-26T18:26:14.795Z"
      },
      {
        "duration": 30,
        "start_time": "2023-03-26T18:27:58.223Z"
      },
      {
        "duration": 27,
        "start_time": "2023-03-26T18:28:03.697Z"
      },
      {
        "duration": 22,
        "start_time": "2023-03-26T18:49:24.395Z"
      },
      {
        "duration": 23,
        "start_time": "2023-03-26T18:49:32.055Z"
      },
      {
        "duration": 14,
        "start_time": "2023-03-26T18:49:45.588Z"
      },
      {
        "duration": 18,
        "start_time": "2023-03-26T18:50:03.981Z"
      },
      {
        "duration": 20,
        "start_time": "2023-03-26T18:50:44.862Z"
      },
      {
        "duration": 21,
        "start_time": "2023-03-26T18:50:51.792Z"
      },
      {
        "duration": 18,
        "start_time": "2023-03-26T18:50:57.439Z"
      },
      {
        "duration": 1246,
        "start_time": "2023-03-26T18:58:27.786Z"
      },
      {
        "duration": 582,
        "start_time": "2023-03-26T18:58:29.034Z"
      },
      {
        "duration": 205,
        "start_time": "2023-03-26T18:58:29.618Z"
      },
      {
        "duration": 36,
        "start_time": "2023-03-26T18:58:29.825Z"
      },
      {
        "duration": 62,
        "start_time": "2023-03-26T18:58:29.863Z"
      },
      {
        "duration": 64,
        "start_time": "2023-03-26T18:58:29.926Z"
      },
      {
        "duration": 35,
        "start_time": "2023-03-26T18:58:29.992Z"
      },
      {
        "duration": 3506,
        "start_time": "2023-03-26T18:58:30.029Z"
      },
      {
        "duration": 6,
        "start_time": "2023-03-26T18:58:33.536Z"
      },
      {
        "duration": 30,
        "start_time": "2023-03-26T18:58:33.546Z"
      },
      {
        "duration": 34,
        "start_time": "2023-03-26T18:58:33.577Z"
      },
      {
        "duration": 19,
        "start_time": "2023-03-26T18:58:33.612Z"
      },
      {
        "duration": 26,
        "start_time": "2023-03-26T18:58:33.633Z"
      },
      {
        "duration": 49,
        "start_time": "2023-03-26T18:58:33.661Z"
      },
      {
        "duration": 11,
        "start_time": "2023-03-26T18:58:33.712Z"
      },
      {
        "duration": 10,
        "start_time": "2023-03-26T18:58:33.724Z"
      },
      {
        "duration": 76,
        "start_time": "2023-03-26T18:58:33.735Z"
      },
      {
        "duration": 16,
        "start_time": "2023-03-26T18:58:33.813Z"
      },
      {
        "duration": 9,
        "start_time": "2023-03-26T18:58:33.831Z"
      },
      {
        "duration": 343,
        "start_time": "2023-03-26T18:58:33.841Z"
      },
      {
        "duration": 164,
        "start_time": "2023-03-26T18:58:34.186Z"
      },
      {
        "duration": 11,
        "start_time": "2023-03-26T18:58:34.352Z"
      },
      {
        "duration": 7,
        "start_time": "2023-03-26T18:58:34.364Z"
      },
      {
        "duration": 32,
        "start_time": "2023-03-26T18:58:34.373Z"
      },
      {
        "duration": 49,
        "start_time": "2023-03-26T18:58:34.407Z"
      },
      {
        "duration": 72,
        "start_time": "2023-03-26T18:58:34.457Z"
      },
      {
        "duration": 134,
        "start_time": "2023-03-26T18:58:34.531Z"
      },
      {
        "duration": 55,
        "start_time": "2023-03-26T18:58:34.670Z"
      },
      {
        "duration": 110,
        "start_time": "2023-03-26T18:58:34.727Z"
      },
      {
        "duration": 23,
        "start_time": "2023-03-26T18:58:34.839Z"
      },
      {
        "duration": 4,
        "start_time": "2023-03-26T18:58:34.864Z"
      },
      {
        "duration": 166,
        "start_time": "2023-03-26T18:58:34.869Z"
      },
      {
        "duration": 18,
        "start_time": "2023-03-26T18:58:35.037Z"
      },
      {
        "duration": 75,
        "start_time": "2023-03-26T18:58:35.057Z"
      },
      {
        "duration": 23,
        "start_time": "2023-03-26T18:58:35.134Z"
      },
      {
        "duration": 66,
        "start_time": "2023-03-26T18:58:35.159Z"
      },
      {
        "duration": 15,
        "start_time": "2023-03-26T18:58:35.226Z"
      },
      {
        "duration": 11,
        "start_time": "2023-03-26T18:58:35.242Z"
      },
      {
        "duration": 68,
        "start_time": "2023-03-26T18:58:35.254Z"
      },
      {
        "duration": 156,
        "start_time": "2023-03-26T18:58:35.324Z"
      },
      {
        "duration": 48,
        "start_time": "2023-03-26T18:58:35.482Z"
      },
      {
        "duration": 5,
        "start_time": "2023-03-26T18:58:35.532Z"
      },
      {
        "duration": 73,
        "start_time": "2023-03-26T18:58:35.538Z"
      },
      {
        "duration": 30,
        "start_time": "2023-03-26T18:58:35.613Z"
      },
      {
        "duration": 3,
        "start_time": "2023-03-26T18:58:35.645Z"
      },
      {
        "duration": 5,
        "start_time": "2023-03-26T18:58:35.650Z"
      },
      {
        "duration": 5,
        "start_time": "2023-03-26T18:58:35.657Z"
      },
      {
        "duration": 52,
        "start_time": "2023-03-26T18:58:35.663Z"
      },
      {
        "duration": 14,
        "start_time": "2023-03-26T18:58:35.716Z"
      },
      {
        "duration": 15,
        "start_time": "2023-03-26T18:58:35.732Z"
      },
      {
        "duration": 20,
        "start_time": "2023-03-26T18:58:35.748Z"
      },
      {
        "duration": 39,
        "start_time": "2023-03-26T18:58:35.770Z"
      },
      {
        "duration": 5,
        "start_time": "2023-03-26T18:58:35.811Z"
      },
      {
        "duration": 10,
        "start_time": "2023-03-26T18:58:35.818Z"
      },
      {
        "duration": 10,
        "start_time": "2023-03-26T18:58:35.830Z"
      },
      {
        "duration": 5,
        "start_time": "2023-03-26T18:58:35.842Z"
      },
      {
        "duration": 10,
        "start_time": "2023-03-26T18:58:35.848Z"
      },
      {
        "duration": 44,
        "start_time": "2023-03-26T18:58:35.859Z"
      },
      {
        "duration": 10,
        "start_time": "2023-03-26T18:58:35.904Z"
      },
      {
        "duration": 33,
        "start_time": "2023-03-26T18:58:35.916Z"
      },
      {
        "duration": 15,
        "start_time": "2023-03-26T18:58:35.951Z"
      },
      {
        "duration": 10,
        "start_time": "2023-03-26T18:58:35.967Z"
      },
      {
        "duration": 11,
        "start_time": "2023-03-26T18:58:35.979Z"
      },
      {
        "duration": 2,
        "start_time": "2023-03-26T18:58:35.992Z"
      },
      {
        "duration": 19,
        "start_time": "2023-03-26T18:58:35.996Z"
      },
      {
        "duration": 17,
        "start_time": "2023-03-26T18:58:36.016Z"
      },
      {
        "duration": 14,
        "start_time": "2023-03-26T18:58:36.035Z"
      },
      {
        "duration": 1218,
        "start_time": "2023-03-26T21:30:32.717Z"
      },
      {
        "duration": 605,
        "start_time": "2023-03-26T21:30:33.937Z"
      },
      {
        "duration": 234,
        "start_time": "2023-03-26T21:30:34.543Z"
      },
      {
        "duration": 53,
        "start_time": "2023-03-26T21:30:34.778Z"
      },
      {
        "duration": 42,
        "start_time": "2023-03-26T21:30:34.833Z"
      },
      {
        "duration": 88,
        "start_time": "2023-03-26T21:30:34.876Z"
      },
      {
        "duration": 22,
        "start_time": "2023-03-26T21:30:34.965Z"
      },
      {
        "duration": 3584,
        "start_time": "2023-03-26T21:30:34.988Z"
      },
      {
        "duration": 6,
        "start_time": "2023-03-26T21:30:38.574Z"
      },
      {
        "duration": 42,
        "start_time": "2023-03-26T21:30:38.582Z"
      },
      {
        "duration": 27,
        "start_time": "2023-03-26T21:30:38.626Z"
      },
      {
        "duration": 19,
        "start_time": "2023-03-26T21:30:38.655Z"
      },
      {
        "duration": 51,
        "start_time": "2023-03-26T21:30:38.676Z"
      },
      {
        "duration": 23,
        "start_time": "2023-03-26T21:30:38.730Z"
      },
      {
        "duration": 10,
        "start_time": "2023-03-26T21:30:38.755Z"
      },
      {
        "duration": 12,
        "start_time": "2023-03-26T21:30:38.766Z"
      },
      {
        "duration": 82,
        "start_time": "2023-03-26T21:30:38.779Z"
      },
      {
        "duration": 18,
        "start_time": "2023-03-26T21:30:38.863Z"
      },
      {
        "duration": 34,
        "start_time": "2023-03-26T21:30:38.882Z"
      },
      {
        "duration": 424,
        "start_time": "2023-03-26T21:30:38.917Z"
      },
      {
        "duration": 210,
        "start_time": "2023-03-26T21:30:39.343Z"
      },
      {
        "duration": 11,
        "start_time": "2023-03-26T21:30:39.554Z"
      },
      {
        "duration": 13,
        "start_time": "2023-03-26T21:30:39.567Z"
      },
      {
        "duration": 34,
        "start_time": "2023-03-26T21:30:39.582Z"
      },
      {
        "duration": 46,
        "start_time": "2023-03-26T21:30:39.618Z"
      },
      {
        "duration": 69,
        "start_time": "2023-03-26T21:30:39.666Z"
      },
      {
        "duration": 127,
        "start_time": "2023-03-26T21:30:39.736Z"
      },
      {
        "duration": 56,
        "start_time": "2023-03-26T21:30:39.864Z"
      },
      {
        "duration": 116,
        "start_time": "2023-03-26T21:30:39.922Z"
      },
      {
        "duration": 27,
        "start_time": "2023-03-26T21:30:40.040Z"
      },
      {
        "duration": 5,
        "start_time": "2023-03-26T21:30:40.068Z"
      },
      {
        "duration": 145,
        "start_time": "2023-03-26T21:30:40.075Z"
      },
      {
        "duration": 16,
        "start_time": "2023-03-26T21:30:40.223Z"
      },
      {
        "duration": 77,
        "start_time": "2023-03-26T21:30:40.241Z"
      },
      {
        "duration": 18,
        "start_time": "2023-03-26T21:30:40.319Z"
      },
      {
        "duration": 45,
        "start_time": "2023-03-26T21:30:40.339Z"
      },
      {
        "duration": 37,
        "start_time": "2023-03-26T21:30:40.385Z"
      },
      {
        "duration": 10,
        "start_time": "2023-03-26T21:30:40.423Z"
      },
      {
        "duration": 40,
        "start_time": "2023-03-26T21:30:40.435Z"
      },
      {
        "duration": 147,
        "start_time": "2023-03-26T21:30:40.477Z"
      },
      {
        "duration": 43,
        "start_time": "2023-03-26T21:30:40.628Z"
      },
      {
        "duration": 7,
        "start_time": "2023-03-26T21:30:40.673Z"
      },
      {
        "duration": 61,
        "start_time": "2023-03-26T21:30:40.708Z"
      },
      {
        "duration": 45,
        "start_time": "2023-03-26T21:30:40.771Z"
      },
      {
        "duration": 3,
        "start_time": "2023-03-26T21:30:40.818Z"
      },
      {
        "duration": 16,
        "start_time": "2023-03-26T21:30:40.823Z"
      },
      {
        "duration": 12,
        "start_time": "2023-03-26T21:30:40.841Z"
      },
      {
        "duration": 19,
        "start_time": "2023-03-26T21:30:40.854Z"
      },
      {
        "duration": 12,
        "start_time": "2023-03-26T21:30:40.875Z"
      },
      {
        "duration": 26,
        "start_time": "2023-03-26T21:30:40.889Z"
      },
      {
        "duration": 20,
        "start_time": "2023-03-26T21:30:40.917Z"
      },
      {
        "duration": 17,
        "start_time": "2023-03-26T21:30:40.938Z"
      },
      {
        "duration": 4,
        "start_time": "2023-03-26T21:30:40.956Z"
      },
      {
        "duration": 10,
        "start_time": "2023-03-26T21:30:40.962Z"
      },
      {
        "duration": 11,
        "start_time": "2023-03-26T21:30:40.974Z"
      },
      {
        "duration": 32,
        "start_time": "2023-03-26T21:30:40.986Z"
      },
      {
        "duration": 5,
        "start_time": "2023-03-26T21:30:41.020Z"
      },
      {
        "duration": 16,
        "start_time": "2023-03-26T21:30:41.027Z"
      },
      {
        "duration": 16,
        "start_time": "2023-03-26T21:30:41.044Z"
      },
      {
        "duration": 15,
        "start_time": "2023-03-26T21:30:41.061Z"
      },
      {
        "duration": 6,
        "start_time": "2023-03-26T21:30:41.078Z"
      },
      {
        "duration": 29,
        "start_time": "2023-03-26T21:30:41.085Z"
      },
      {
        "duration": 9,
        "start_time": "2023-03-26T21:30:41.116Z"
      },
      {
        "duration": 10,
        "start_time": "2023-03-26T21:30:41.127Z"
      },
      {
        "duration": 22,
        "start_time": "2023-03-26T21:30:41.138Z"
      },
      {
        "duration": 17,
        "start_time": "2023-03-26T21:30:41.162Z"
      },
      {
        "duration": 13,
        "start_time": "2023-03-26T21:30:41.181Z"
      },
      {
        "duration": 1264,
        "start_time": "2023-03-27T17:03:02.084Z"
      },
      {
        "duration": 1021,
        "start_time": "2023-03-27T17:03:03.350Z"
      },
      {
        "duration": 242,
        "start_time": "2023-03-27T17:03:04.372Z"
      },
      {
        "duration": 41,
        "start_time": "2023-03-27T17:03:04.615Z"
      },
      {
        "duration": 74,
        "start_time": "2023-03-27T17:03:04.658Z"
      },
      {
        "duration": 100,
        "start_time": "2023-03-27T17:03:04.734Z"
      },
      {
        "duration": 28,
        "start_time": "2023-03-27T17:03:04.836Z"
      },
      {
        "duration": 3703,
        "start_time": "2023-03-27T17:03:04.866Z"
      },
      {
        "duration": 7,
        "start_time": "2023-03-27T17:03:08.571Z"
      },
      {
        "duration": 29,
        "start_time": "2023-03-27T17:03:08.587Z"
      },
      {
        "duration": 25,
        "start_time": "2023-03-27T17:03:08.618Z"
      },
      {
        "duration": 47,
        "start_time": "2023-03-27T17:03:08.645Z"
      },
      {
        "duration": 31,
        "start_time": "2023-03-27T17:03:08.694Z"
      },
      {
        "duration": 28,
        "start_time": "2023-03-27T17:03:08.728Z"
      },
      {
        "duration": 37,
        "start_time": "2023-03-27T17:03:08.757Z"
      },
      {
        "duration": 11,
        "start_time": "2023-03-27T17:03:08.796Z"
      },
      {
        "duration": 79,
        "start_time": "2023-03-27T17:03:08.809Z"
      },
      {
        "duration": 21,
        "start_time": "2023-03-27T17:03:08.890Z"
      },
      {
        "duration": 13,
        "start_time": "2023-03-27T17:03:08.913Z"
      },
      {
        "duration": 1241,
        "start_time": "2023-03-27T17:03:29.117Z"
      },
      {
        "duration": 725,
        "start_time": "2023-03-27T17:03:30.359Z"
      },
      {
        "duration": 275,
        "start_time": "2023-03-27T17:03:31.086Z"
      },
      {
        "duration": 58,
        "start_time": "2023-03-27T17:03:31.364Z"
      },
      {
        "duration": 78,
        "start_time": "2023-03-27T17:03:31.424Z"
      },
      {
        "duration": 74,
        "start_time": "2023-03-27T17:03:31.504Z"
      },
      {
        "duration": 33,
        "start_time": "2023-03-27T17:03:31.580Z"
      },
      {
        "duration": 3725,
        "start_time": "2023-03-27T17:03:31.615Z"
      },
      {
        "duration": 8,
        "start_time": "2023-03-27T17:03:35.344Z"
      },
      {
        "duration": 46,
        "start_time": "2023-03-27T17:03:35.356Z"
      },
      {
        "duration": 29,
        "start_time": "2023-03-27T17:03:35.404Z"
      },
      {
        "duration": 23,
        "start_time": "2023-03-27T17:03:35.435Z"
      },
      {
        "duration": 53,
        "start_time": "2023-03-27T17:03:35.460Z"
      },
      {
        "duration": 27,
        "start_time": "2023-03-27T17:03:35.514Z"
      },
      {
        "duration": 9,
        "start_time": "2023-03-27T17:03:35.543Z"
      },
      {
        "duration": 34,
        "start_time": "2023-03-27T17:03:35.554Z"
      },
      {
        "duration": 67,
        "start_time": "2023-03-27T17:03:35.590Z"
      },
      {
        "duration": 40,
        "start_time": "2023-03-27T17:03:35.658Z"
      },
      {
        "duration": 26,
        "start_time": "2023-03-27T17:03:35.699Z"
      },
      {
        "duration": 452,
        "start_time": "2023-03-27T17:03:35.727Z"
      },
      {
        "duration": 206,
        "start_time": "2023-03-27T17:03:36.181Z"
      },
      {
        "duration": 13,
        "start_time": "2023-03-27T17:03:36.389Z"
      },
      {
        "duration": 17,
        "start_time": "2023-03-27T17:03:36.404Z"
      },
      {
        "duration": 18,
        "start_time": "2023-03-27T17:03:36.423Z"
      },
      {
        "duration": 74,
        "start_time": "2023-03-27T17:03:36.443Z"
      },
      {
        "duration": 101,
        "start_time": "2023-03-27T17:03:36.520Z"
      },
      {
        "duration": 146,
        "start_time": "2023-03-27T17:03:36.622Z"
      },
      {
        "duration": 59,
        "start_time": "2023-03-27T17:03:36.772Z"
      },
      {
        "duration": 125,
        "start_time": "2023-03-27T17:03:36.832Z"
      },
      {
        "duration": 34,
        "start_time": "2023-03-27T17:03:36.959Z"
      },
      {
        "duration": 4,
        "start_time": "2023-03-27T17:03:36.995Z"
      },
      {
        "duration": 148,
        "start_time": "2023-03-27T17:03:37.001Z"
      },
      {
        "duration": 23,
        "start_time": "2023-03-27T17:03:37.151Z"
      },
      {
        "duration": 67,
        "start_time": "2023-03-27T17:03:37.175Z"
      },
      {
        "duration": 18,
        "start_time": "2023-03-27T17:03:37.244Z"
      },
      {
        "duration": 69,
        "start_time": "2023-03-27T17:03:37.264Z"
      },
      {
        "duration": 20,
        "start_time": "2023-03-27T17:03:37.335Z"
      },
      {
        "duration": 39,
        "start_time": "2023-03-27T17:03:37.357Z"
      },
      {
        "duration": 47,
        "start_time": "2023-03-27T17:03:37.398Z"
      },
      {
        "duration": 155,
        "start_time": "2023-03-27T17:03:37.446Z"
      },
      {
        "duration": 47,
        "start_time": "2023-03-27T17:03:37.603Z"
      },
      {
        "duration": 8,
        "start_time": "2023-03-27T17:03:37.652Z"
      },
      {
        "duration": 77,
        "start_time": "2023-03-27T17:03:37.662Z"
      },
      {
        "duration": 100,
        "start_time": "2023-03-27T17:03:37.741Z"
      },
      {
        "duration": 4,
        "start_time": "2023-03-27T17:03:37.843Z"
      },
      {
        "duration": 13,
        "start_time": "2023-03-27T17:03:37.849Z"
      },
      {
        "duration": 9,
        "start_time": "2023-03-27T17:03:37.864Z"
      },
      {
        "duration": 20,
        "start_time": "2023-03-27T17:03:37.875Z"
      },
      {
        "duration": 15,
        "start_time": "2023-03-27T17:03:37.897Z"
      },
      {
        "duration": 11,
        "start_time": "2023-03-27T17:03:37.915Z"
      },
      {
        "duration": 24,
        "start_time": "2023-03-27T17:03:37.928Z"
      },
      {
        "duration": 38,
        "start_time": "2023-03-27T17:03:37.953Z"
      },
      {
        "duration": 6,
        "start_time": "2023-03-27T17:03:37.993Z"
      },
      {
        "duration": 16,
        "start_time": "2023-03-27T17:03:38.001Z"
      },
      {
        "duration": 15,
        "start_time": "2023-03-27T17:03:38.019Z"
      },
      {
        "duration": 10,
        "start_time": "2023-03-27T17:03:38.037Z"
      },
      {
        "duration": 7,
        "start_time": "2023-03-27T17:03:38.049Z"
      },
      {
        "duration": 13,
        "start_time": "2023-03-27T17:03:38.089Z"
      },
      {
        "duration": 14,
        "start_time": "2023-03-27T17:03:38.105Z"
      },
      {
        "duration": 33,
        "start_time": "2023-03-27T17:03:38.122Z"
      },
      {
        "duration": 7,
        "start_time": "2023-03-27T17:03:38.157Z"
      },
      {
        "duration": 5,
        "start_time": "2023-03-27T17:03:38.187Z"
      },
      {
        "duration": 10,
        "start_time": "2023-03-27T17:03:38.195Z"
      },
      {
        "duration": 7,
        "start_time": "2023-03-27T17:03:38.207Z"
      },
      {
        "duration": 24,
        "start_time": "2023-03-27T17:03:38.215Z"
      },
      {
        "duration": 26,
        "start_time": "2023-03-27T17:03:38.241Z"
      },
      {
        "duration": 18,
        "start_time": "2023-03-27T17:03:38.288Z"
      }
    ],
    "kernelspec": {
      "display_name": "Python 3 (ipykernel)",
      "language": "python",
      "name": "python3"
    },
    "language_info": {
      "codemirror_mode": {
        "name": "ipython",
        "version": 3
      },
      "file_extension": ".py",
      "mimetype": "text/x-python",
      "name": "python",
      "nbconvert_exporter": "python",
      "pygments_lexer": "ipython3",
      "version": "3.9.5"
    },
    "toc": {
      "base_numbering": 1,
      "nav_menu": {},
      "number_sections": true,
      "sideBar": true,
      "skip_h1_title": true,
      "title_cell": "Table of Contents",
      "title_sidebar": "Contents",
      "toc_cell": false,
      "toc_position": {
        "height": "calc(100% - 180px)",
        "left": "10px",
        "top": "150px",
        "width": "546.667px"
      },
      "toc_section_display": true,
      "toc_window_display": true
    },
    "colab": {
      "provenance": [],
      "include_colab_link": true
    }
  },
  "nbformat": 4,
  "nbformat_minor": 0
}