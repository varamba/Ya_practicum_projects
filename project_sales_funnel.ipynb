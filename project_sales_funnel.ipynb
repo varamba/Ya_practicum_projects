{
  "cells": [
    {
      "cell_type": "markdown",
      "metadata": {
        "id": "view-in-github",
        "colab_type": "text"
      },
      "source": [
        "<a href=\"https://colab.research.google.com/github/varamba/Ya_practicum_projects/blob/main/project_sales_funnel.ipynb\" target=\"_parent\"><img src=\"https://colab.research.google.com/assets/colab-badge.svg\" alt=\"Open In Colab\"/></a>"
      ]
    },
    {
      "cell_type": "markdown",
      "metadata": {
        "id": "W2Gwz8mjvt7J"
      },
      "source": [
        "## Введение"
      ]
    },
    {
      "cell_type": "markdown",
      "metadata": {
        "id": "3SGFjUrdvt7R"
      },
      "source": [
        "Необходимо провести аналитику в стартапе, который продаёт продукты питания. Нужно разобраться, как ведут себя пользователи их мобильного приложения, изучите воронку продаж.\n",
        "\n",
        "Нужно узнать, как пользователи доходят до покупки. Сколько пользователей доходит до покупки, а сколько — «застревает» на предыдущих шагах."
      ]
    },
    {
      "cell_type": "markdown",
      "metadata": {
        "id": "UGWfq_wVvt7R"
      },
      "source": [
        "После этого нуэно исследовать результаты A/A/B-эксперимента. Дизайнеры захотели поменять шрифты во всём приложении.\n",
        "\n",
        "Пользователей разбили на 3 группы: 2 контрольные со старыми шрифтами и одну экспериментальную — с новыми. Надо выяснить, какой шрифт лучше."
      ]
    },
    {
      "cell_type": "markdown",
      "metadata": {
        "id": "RBHD0Y-Yvt7S"
      },
      "source": [
        "## Предобработка данных"
      ]
    },
    {
      "cell_type": "code",
      "execution_count": 1,
      "metadata": {
        "id": "l2Vfv9z5vt7T"
      },
      "outputs": [],
      "source": [
        "import pandas as pd\n",
        "import matplotlib.pyplot as plt\n",
        "import numpy as np\n",
        "import math as mth\n",
        "from scipy import stats as st\n",
        "import datetime as dt\n",
        "from pandas.plotting import register_matplotlib_converters\n",
        "from plotly import graph_objects as go\n",
        "import warnings \n",
        "warnings.filterwarnings(\"ignore\")"
      ]
    },
    {
      "cell_type": "code",
      "execution_count": 2,
      "metadata": {
        "id": "1X-J-lyUvt7V"
      },
      "outputs": [],
      "source": [
        "path = 'https://code.s3.yandex.net/datasets/logs_exp.csv'\n",
        "df = pd.read_csv(path, sep='\\t', engine = 'python')"
      ]
    },
    {
      "cell_type": "code",
      "execution_count": 3,
      "metadata": {
        "scrolled": false,
        "colab": {
          "base_uri": "https://localhost:8080/",
          "height": 1000
        },
        "id": "BIRTd3E2vt7W",
        "outputId": "9cbc029d-225d-4a4f-8a39-d70364b5c439"
      },
      "outputs": [
        {
          "output_type": "display_data",
          "data": {
            "text/plain": [
              "                  EventName         DeviceIDHash  EventTimestamp  ExpId\n",
              "0          MainScreenAppear  4575588528974610257      1564029816    246\n",
              "1          MainScreenAppear  7416695313311560658      1564053102    246\n",
              "2   PaymentScreenSuccessful  3518123091307005509      1564054127    248\n",
              "3          CartScreenAppear  3518123091307005509      1564054127    248\n",
              "4   PaymentScreenSuccessful  6217807653094995999      1564055322    248\n",
              "5          CartScreenAppear  6217807653094995999      1564055323    248\n",
              "6        OffersScreenAppear  8351860793733343758      1564066242    246\n",
              "7          MainScreenAppear  5682100281902512875      1564085677    246\n",
              "8          MainScreenAppear  1850981295691852772      1564086702    247\n",
              "9          MainScreenAppear  5407636962369102641      1564112112    246\n",
              "10         MainScreenAppear   948465712512390382      1564119214    247\n",
              "11         MainScreenAppear  2547684315586332355      1564123826    248\n",
              "12         MainScreenAppear  8885295911290764495      1564124085    248\n",
              "13         MainScreenAppear  2140904690380565988      1564125732    247\n",
              "14         MainScreenAppear  4444236400320272864      1564135560    246"
            ],
            "text/html": [
              "\n",
              "  <div id=\"df-d540aa24-c9e1-487f-9136-290f6a81230a\">\n",
              "    <div class=\"colab-df-container\">\n",
              "      <div>\n",
              "<style scoped>\n",
              "    .dataframe tbody tr th:only-of-type {\n",
              "        vertical-align: middle;\n",
              "    }\n",
              "\n",
              "    .dataframe tbody tr th {\n",
              "        vertical-align: top;\n",
              "    }\n",
              "\n",
              "    .dataframe thead th {\n",
              "        text-align: right;\n",
              "    }\n",
              "</style>\n",
              "<table border=\"1\" class=\"dataframe\">\n",
              "  <thead>\n",
              "    <tr style=\"text-align: right;\">\n",
              "      <th></th>\n",
              "      <th>EventName</th>\n",
              "      <th>DeviceIDHash</th>\n",
              "      <th>EventTimestamp</th>\n",
              "      <th>ExpId</th>\n",
              "    </tr>\n",
              "  </thead>\n",
              "  <tbody>\n",
              "    <tr>\n",
              "      <th>0</th>\n",
              "      <td>MainScreenAppear</td>\n",
              "      <td>4575588528974610257</td>\n",
              "      <td>1564029816</td>\n",
              "      <td>246</td>\n",
              "    </tr>\n",
              "    <tr>\n",
              "      <th>1</th>\n",
              "      <td>MainScreenAppear</td>\n",
              "      <td>7416695313311560658</td>\n",
              "      <td>1564053102</td>\n",
              "      <td>246</td>\n",
              "    </tr>\n",
              "    <tr>\n",
              "      <th>2</th>\n",
              "      <td>PaymentScreenSuccessful</td>\n",
              "      <td>3518123091307005509</td>\n",
              "      <td>1564054127</td>\n",
              "      <td>248</td>\n",
              "    </tr>\n",
              "    <tr>\n",
              "      <th>3</th>\n",
              "      <td>CartScreenAppear</td>\n",
              "      <td>3518123091307005509</td>\n",
              "      <td>1564054127</td>\n",
              "      <td>248</td>\n",
              "    </tr>\n",
              "    <tr>\n",
              "      <th>4</th>\n",
              "      <td>PaymentScreenSuccessful</td>\n",
              "      <td>6217807653094995999</td>\n",
              "      <td>1564055322</td>\n",
              "      <td>248</td>\n",
              "    </tr>\n",
              "    <tr>\n",
              "      <th>5</th>\n",
              "      <td>CartScreenAppear</td>\n",
              "      <td>6217807653094995999</td>\n",
              "      <td>1564055323</td>\n",
              "      <td>248</td>\n",
              "    </tr>\n",
              "    <tr>\n",
              "      <th>6</th>\n",
              "      <td>OffersScreenAppear</td>\n",
              "      <td>8351860793733343758</td>\n",
              "      <td>1564066242</td>\n",
              "      <td>246</td>\n",
              "    </tr>\n",
              "    <tr>\n",
              "      <th>7</th>\n",
              "      <td>MainScreenAppear</td>\n",
              "      <td>5682100281902512875</td>\n",
              "      <td>1564085677</td>\n",
              "      <td>246</td>\n",
              "    </tr>\n",
              "    <tr>\n",
              "      <th>8</th>\n",
              "      <td>MainScreenAppear</td>\n",
              "      <td>1850981295691852772</td>\n",
              "      <td>1564086702</td>\n",
              "      <td>247</td>\n",
              "    </tr>\n",
              "    <tr>\n",
              "      <th>9</th>\n",
              "      <td>MainScreenAppear</td>\n",
              "      <td>5407636962369102641</td>\n",
              "      <td>1564112112</td>\n",
              "      <td>246</td>\n",
              "    </tr>\n",
              "    <tr>\n",
              "      <th>10</th>\n",
              "      <td>MainScreenAppear</td>\n",
              "      <td>948465712512390382</td>\n",
              "      <td>1564119214</td>\n",
              "      <td>247</td>\n",
              "    </tr>\n",
              "    <tr>\n",
              "      <th>11</th>\n",
              "      <td>MainScreenAppear</td>\n",
              "      <td>2547684315586332355</td>\n",
              "      <td>1564123826</td>\n",
              "      <td>248</td>\n",
              "    </tr>\n",
              "    <tr>\n",
              "      <th>12</th>\n",
              "      <td>MainScreenAppear</td>\n",
              "      <td>8885295911290764495</td>\n",
              "      <td>1564124085</td>\n",
              "      <td>248</td>\n",
              "    </tr>\n",
              "    <tr>\n",
              "      <th>13</th>\n",
              "      <td>MainScreenAppear</td>\n",
              "      <td>2140904690380565988</td>\n",
              "      <td>1564125732</td>\n",
              "      <td>247</td>\n",
              "    </tr>\n",
              "    <tr>\n",
              "      <th>14</th>\n",
              "      <td>MainScreenAppear</td>\n",
              "      <td>4444236400320272864</td>\n",
              "      <td>1564135560</td>\n",
              "      <td>246</td>\n",
              "    </tr>\n",
              "  </tbody>\n",
              "</table>\n",
              "</div>\n",
              "      <button class=\"colab-df-convert\" onclick=\"convertToInteractive('df-d540aa24-c9e1-487f-9136-290f6a81230a')\"\n",
              "              title=\"Convert this dataframe to an interactive table.\"\n",
              "              style=\"display:none;\">\n",
              "        \n",
              "  <svg xmlns=\"http://www.w3.org/2000/svg\" height=\"24px\"viewBox=\"0 0 24 24\"\n",
              "       width=\"24px\">\n",
              "    <path d=\"M0 0h24v24H0V0z\" fill=\"none\"/>\n",
              "    <path d=\"M18.56 5.44l.94 2.06.94-2.06 2.06-.94-2.06-.94-.94-2.06-.94 2.06-2.06.94zm-11 1L8.5 8.5l.94-2.06 2.06-.94-2.06-.94L8.5 2.5l-.94 2.06-2.06.94zm10 10l.94 2.06.94-2.06 2.06-.94-2.06-.94-.94-2.06-.94 2.06-2.06.94z\"/><path d=\"M17.41 7.96l-1.37-1.37c-.4-.4-.92-.59-1.43-.59-.52 0-1.04.2-1.43.59L10.3 9.45l-7.72 7.72c-.78.78-.78 2.05 0 2.83L4 21.41c.39.39.9.59 1.41.59.51 0 1.02-.2 1.41-.59l7.78-7.78 2.81-2.81c.8-.78.8-2.07 0-2.86zM5.41 20L4 18.59l7.72-7.72 1.47 1.35L5.41 20z\"/>\n",
              "  </svg>\n",
              "      </button>\n",
              "      \n",
              "  <style>\n",
              "    .colab-df-container {\n",
              "      display:flex;\n",
              "      flex-wrap:wrap;\n",
              "      gap: 12px;\n",
              "    }\n",
              "\n",
              "    .colab-df-convert {\n",
              "      background-color: #E8F0FE;\n",
              "      border: none;\n",
              "      border-radius: 50%;\n",
              "      cursor: pointer;\n",
              "      display: none;\n",
              "      fill: #1967D2;\n",
              "      height: 32px;\n",
              "      padding: 0 0 0 0;\n",
              "      width: 32px;\n",
              "    }\n",
              "\n",
              "    .colab-df-convert:hover {\n",
              "      background-color: #E2EBFA;\n",
              "      box-shadow: 0px 1px 2px rgba(60, 64, 67, 0.3), 0px 1px 3px 1px rgba(60, 64, 67, 0.15);\n",
              "      fill: #174EA6;\n",
              "    }\n",
              "\n",
              "    [theme=dark] .colab-df-convert {\n",
              "      background-color: #3B4455;\n",
              "      fill: #D2E3FC;\n",
              "    }\n",
              "\n",
              "    [theme=dark] .colab-df-convert:hover {\n",
              "      background-color: #434B5C;\n",
              "      box-shadow: 0px 1px 3px 1px rgba(0, 0, 0, 0.15);\n",
              "      filter: drop-shadow(0px 1px 2px rgba(0, 0, 0, 0.3));\n",
              "      fill: #FFFFFF;\n",
              "    }\n",
              "  </style>\n",
              "\n",
              "      <script>\n",
              "        const buttonEl =\n",
              "          document.querySelector('#df-d540aa24-c9e1-487f-9136-290f6a81230a button.colab-df-convert');\n",
              "        buttonEl.style.display =\n",
              "          google.colab.kernel.accessAllowed ? 'block' : 'none';\n",
              "\n",
              "        async function convertToInteractive(key) {\n",
              "          const element = document.querySelector('#df-d540aa24-c9e1-487f-9136-290f6a81230a');\n",
              "          const dataTable =\n",
              "            await google.colab.kernel.invokeFunction('convertToInteractive',\n",
              "                                                     [key], {});\n",
              "          if (!dataTable) return;\n",
              "\n",
              "          const docLinkHtml = 'Like what you see? Visit the ' +\n",
              "            '<a target=\"_blank\" href=https://colab.research.google.com/notebooks/data_table.ipynb>data table notebook</a>'\n",
              "            + ' to learn more about interactive tables.';\n",
              "          element.innerHTML = '';\n",
              "          dataTable['output_type'] = 'display_data';\n",
              "          await google.colab.output.renderOutput(dataTable, element);\n",
              "          const docLink = document.createElement('div');\n",
              "          docLink.innerHTML = docLinkHtml;\n",
              "          element.appendChild(docLink);\n",
              "        }\n",
              "      </script>\n",
              "    </div>\n",
              "  </div>\n",
              "  "
            ]
          },
          "metadata": {}
        },
        {
          "output_type": "display_data",
          "data": {
            "text/plain": [
              "       DeviceIDHash  EventTimestamp          ExpId\n",
              "count  2.441260e+05    2.441260e+05  244126.000000\n",
              "mean   4.627568e+18    1.564914e+09     247.022296\n",
              "std    2.642425e+18    1.771343e+05       0.824434\n",
              "min    6.888747e+15    1.564030e+09     246.000000\n",
              "25%    2.372212e+18    1.564757e+09     246.000000\n",
              "50%    4.623192e+18    1.564919e+09     247.000000\n",
              "75%    6.932517e+18    1.565075e+09     248.000000\n",
              "max    9.222603e+18    1.565213e+09     248.000000"
            ],
            "text/html": [
              "\n",
              "  <div id=\"df-94805309-6d77-42a4-9c17-17d206eafbcf\">\n",
              "    <div class=\"colab-df-container\">\n",
              "      <div>\n",
              "<style scoped>\n",
              "    .dataframe tbody tr th:only-of-type {\n",
              "        vertical-align: middle;\n",
              "    }\n",
              "\n",
              "    .dataframe tbody tr th {\n",
              "        vertical-align: top;\n",
              "    }\n",
              "\n",
              "    .dataframe thead th {\n",
              "        text-align: right;\n",
              "    }\n",
              "</style>\n",
              "<table border=\"1\" class=\"dataframe\">\n",
              "  <thead>\n",
              "    <tr style=\"text-align: right;\">\n",
              "      <th></th>\n",
              "      <th>DeviceIDHash</th>\n",
              "      <th>EventTimestamp</th>\n",
              "      <th>ExpId</th>\n",
              "    </tr>\n",
              "  </thead>\n",
              "  <tbody>\n",
              "    <tr>\n",
              "      <th>count</th>\n",
              "      <td>2.441260e+05</td>\n",
              "      <td>2.441260e+05</td>\n",
              "      <td>244126.000000</td>\n",
              "    </tr>\n",
              "    <tr>\n",
              "      <th>mean</th>\n",
              "      <td>4.627568e+18</td>\n",
              "      <td>1.564914e+09</td>\n",
              "      <td>247.022296</td>\n",
              "    </tr>\n",
              "    <tr>\n",
              "      <th>std</th>\n",
              "      <td>2.642425e+18</td>\n",
              "      <td>1.771343e+05</td>\n",
              "      <td>0.824434</td>\n",
              "    </tr>\n",
              "    <tr>\n",
              "      <th>min</th>\n",
              "      <td>6.888747e+15</td>\n",
              "      <td>1.564030e+09</td>\n",
              "      <td>246.000000</td>\n",
              "    </tr>\n",
              "    <tr>\n",
              "      <th>25%</th>\n",
              "      <td>2.372212e+18</td>\n",
              "      <td>1.564757e+09</td>\n",
              "      <td>246.000000</td>\n",
              "    </tr>\n",
              "    <tr>\n",
              "      <th>50%</th>\n",
              "      <td>4.623192e+18</td>\n",
              "      <td>1.564919e+09</td>\n",
              "      <td>247.000000</td>\n",
              "    </tr>\n",
              "    <tr>\n",
              "      <th>75%</th>\n",
              "      <td>6.932517e+18</td>\n",
              "      <td>1.565075e+09</td>\n",
              "      <td>248.000000</td>\n",
              "    </tr>\n",
              "    <tr>\n",
              "      <th>max</th>\n",
              "      <td>9.222603e+18</td>\n",
              "      <td>1.565213e+09</td>\n",
              "      <td>248.000000</td>\n",
              "    </tr>\n",
              "  </tbody>\n",
              "</table>\n",
              "</div>\n",
              "      <button class=\"colab-df-convert\" onclick=\"convertToInteractive('df-94805309-6d77-42a4-9c17-17d206eafbcf')\"\n",
              "              title=\"Convert this dataframe to an interactive table.\"\n",
              "              style=\"display:none;\">\n",
              "        \n",
              "  <svg xmlns=\"http://www.w3.org/2000/svg\" height=\"24px\"viewBox=\"0 0 24 24\"\n",
              "       width=\"24px\">\n",
              "    <path d=\"M0 0h24v24H0V0z\" fill=\"none\"/>\n",
              "    <path d=\"M18.56 5.44l.94 2.06.94-2.06 2.06-.94-2.06-.94-.94-2.06-.94 2.06-2.06.94zm-11 1L8.5 8.5l.94-2.06 2.06-.94-2.06-.94L8.5 2.5l-.94 2.06-2.06.94zm10 10l.94 2.06.94-2.06 2.06-.94-2.06-.94-.94-2.06-.94 2.06-2.06.94z\"/><path d=\"M17.41 7.96l-1.37-1.37c-.4-.4-.92-.59-1.43-.59-.52 0-1.04.2-1.43.59L10.3 9.45l-7.72 7.72c-.78.78-.78 2.05 0 2.83L4 21.41c.39.39.9.59 1.41.59.51 0 1.02-.2 1.41-.59l7.78-7.78 2.81-2.81c.8-.78.8-2.07 0-2.86zM5.41 20L4 18.59l7.72-7.72 1.47 1.35L5.41 20z\"/>\n",
              "  </svg>\n",
              "      </button>\n",
              "      \n",
              "  <style>\n",
              "    .colab-df-container {\n",
              "      display:flex;\n",
              "      flex-wrap:wrap;\n",
              "      gap: 12px;\n",
              "    }\n",
              "\n",
              "    .colab-df-convert {\n",
              "      background-color: #E8F0FE;\n",
              "      border: none;\n",
              "      border-radius: 50%;\n",
              "      cursor: pointer;\n",
              "      display: none;\n",
              "      fill: #1967D2;\n",
              "      height: 32px;\n",
              "      padding: 0 0 0 0;\n",
              "      width: 32px;\n",
              "    }\n",
              "\n",
              "    .colab-df-convert:hover {\n",
              "      background-color: #E2EBFA;\n",
              "      box-shadow: 0px 1px 2px rgba(60, 64, 67, 0.3), 0px 1px 3px 1px rgba(60, 64, 67, 0.15);\n",
              "      fill: #174EA6;\n",
              "    }\n",
              "\n",
              "    [theme=dark] .colab-df-convert {\n",
              "      background-color: #3B4455;\n",
              "      fill: #D2E3FC;\n",
              "    }\n",
              "\n",
              "    [theme=dark] .colab-df-convert:hover {\n",
              "      background-color: #434B5C;\n",
              "      box-shadow: 0px 1px 3px 1px rgba(0, 0, 0, 0.15);\n",
              "      filter: drop-shadow(0px 1px 2px rgba(0, 0, 0, 0.3));\n",
              "      fill: #FFFFFF;\n",
              "    }\n",
              "  </style>\n",
              "\n",
              "      <script>\n",
              "        const buttonEl =\n",
              "          document.querySelector('#df-94805309-6d77-42a4-9c17-17d206eafbcf button.colab-df-convert');\n",
              "        buttonEl.style.display =\n",
              "          google.colab.kernel.accessAllowed ? 'block' : 'none';\n",
              "\n",
              "        async function convertToInteractive(key) {\n",
              "          const element = document.querySelector('#df-94805309-6d77-42a4-9c17-17d206eafbcf');\n",
              "          const dataTable =\n",
              "            await google.colab.kernel.invokeFunction('convertToInteractive',\n",
              "                                                     [key], {});\n",
              "          if (!dataTable) return;\n",
              "\n",
              "          const docLinkHtml = 'Like what you see? Visit the ' +\n",
              "            '<a target=\"_blank\" href=https://colab.research.google.com/notebooks/data_table.ipynb>data table notebook</a>'\n",
              "            + ' to learn more about interactive tables.';\n",
              "          element.innerHTML = '';\n",
              "          dataTable['output_type'] = 'display_data';\n",
              "          await google.colab.output.renderOutput(dataTable, element);\n",
              "          const docLink = document.createElement('div');\n",
              "          docLink.innerHTML = docLinkHtml;\n",
              "          element.appendChild(docLink);\n",
              "        }\n",
              "      </script>\n",
              "    </div>\n",
              "  </div>\n",
              "  "
            ]
          },
          "metadata": {}
        },
        {
          "output_type": "stream",
          "name": "stdout",
          "text": [
            "<class 'pandas.core.frame.DataFrame'>\n",
            "RangeIndex: 244126 entries, 0 to 244125\n",
            "Data columns (total 4 columns):\n",
            " #   Column          Non-Null Count   Dtype \n",
            "---  ------          --------------   ----- \n",
            " 0   EventName       244126 non-null  object\n",
            " 1   DeviceIDHash    244126 non-null  int64 \n",
            " 2   EventTimestamp  244126 non-null  int64 \n",
            " 3   ExpId           244126 non-null  int64 \n",
            "dtypes: int64(3), object(1)\n",
            "memory usage: 7.5+ MB\n"
          ]
        },
        {
          "output_type": "display_data",
          "data": {
            "text/plain": [
              "None"
            ]
          },
          "metadata": {}
        },
        {
          "output_type": "stream",
          "name": "stdout",
          "text": [
            "Дупликатов: 413\n"
          ]
        },
        {
          "output_type": "display_data",
          "data": {
            "text/plain": [
              "EventName         0\n",
              "DeviceIDHash      0\n",
              "EventTimestamp    0\n",
              "ExpId             0\n",
              "dtype: int64"
            ]
          },
          "metadata": {}
        }
      ],
      "source": [
        "display(df.head(15))\n",
        "display(df.describe())\n",
        "display(df.info())\n",
        "print('Дупликатов:', df.duplicated().sum())\n",
        "display(df.isna().sum())"
      ]
    },
    {
      "cell_type": "markdown",
      "metadata": {
        "id": "C63qgb4Pvt7Y"
      },
      "source": [
        "Поменяем названия и формат данных."
      ]
    },
    {
      "cell_type": "code",
      "execution_count": 4,
      "metadata": {
        "id": "3Km4-Fzivt7Y"
      },
      "outputs": [],
      "source": [
        "df = df.rename(\n",
        " columns={\n",
        "'EventName' : 'event',\n",
        "'DeviceIDHash' : 'id',\n",
        "'EventTimestamp' : 'date',\n",
        "'ExpId' : 'group'}\n",
        ")"
      ]
    },
    {
      "cell_type": "code",
      "execution_count": 5,
      "metadata": {
        "id": "Yo7RIypbvt7Z"
      },
      "outputs": [],
      "source": [
        "df['date'] = pd.to_datetime(df['date'], unit='s')\n",
        "df['dt'] = df['date'].dt.date\n",
        "df['dt'] = df['dt'].astype('datetime64')"
      ]
    },
    {
      "cell_type": "code",
      "execution_count": 6,
      "metadata": {
        "scrolled": true,
        "colab": {
          "base_uri": "https://localhost:8080/",
          "height": 206
        },
        "id": "VuGhKG0Rvt7Z",
        "outputId": "3dea2c15-b443-45af-b5b2-46e0b0f3b146"
      },
      "outputs": [
        {
          "output_type": "execute_result",
          "data": {
            "text/plain": [
              "                     event                   id                date  group  \\\n",
              "0         MainScreenAppear  4575588528974610257 2019-07-25 04:43:36    246   \n",
              "1         MainScreenAppear  7416695313311560658 2019-07-25 11:11:42    246   \n",
              "2  PaymentScreenSuccessful  3518123091307005509 2019-07-25 11:28:47    248   \n",
              "3         CartScreenAppear  3518123091307005509 2019-07-25 11:28:47    248   \n",
              "4  PaymentScreenSuccessful  6217807653094995999 2019-07-25 11:48:42    248   \n",
              "\n",
              "          dt  \n",
              "0 2019-07-25  \n",
              "1 2019-07-25  \n",
              "2 2019-07-25  \n",
              "3 2019-07-25  \n",
              "4 2019-07-25  "
            ],
            "text/html": [
              "\n",
              "  <div id=\"df-2183670b-7004-492b-b071-677b0b5631f9\">\n",
              "    <div class=\"colab-df-container\">\n",
              "      <div>\n",
              "<style scoped>\n",
              "    .dataframe tbody tr th:only-of-type {\n",
              "        vertical-align: middle;\n",
              "    }\n",
              "\n",
              "    .dataframe tbody tr th {\n",
              "        vertical-align: top;\n",
              "    }\n",
              "\n",
              "    .dataframe thead th {\n",
              "        text-align: right;\n",
              "    }\n",
              "</style>\n",
              "<table border=\"1\" class=\"dataframe\">\n",
              "  <thead>\n",
              "    <tr style=\"text-align: right;\">\n",
              "      <th></th>\n",
              "      <th>event</th>\n",
              "      <th>id</th>\n",
              "      <th>date</th>\n",
              "      <th>group</th>\n",
              "      <th>dt</th>\n",
              "    </tr>\n",
              "  </thead>\n",
              "  <tbody>\n",
              "    <tr>\n",
              "      <th>0</th>\n",
              "      <td>MainScreenAppear</td>\n",
              "      <td>4575588528974610257</td>\n",
              "      <td>2019-07-25 04:43:36</td>\n",
              "      <td>246</td>\n",
              "      <td>2019-07-25</td>\n",
              "    </tr>\n",
              "    <tr>\n",
              "      <th>1</th>\n",
              "      <td>MainScreenAppear</td>\n",
              "      <td>7416695313311560658</td>\n",
              "      <td>2019-07-25 11:11:42</td>\n",
              "      <td>246</td>\n",
              "      <td>2019-07-25</td>\n",
              "    </tr>\n",
              "    <tr>\n",
              "      <th>2</th>\n",
              "      <td>PaymentScreenSuccessful</td>\n",
              "      <td>3518123091307005509</td>\n",
              "      <td>2019-07-25 11:28:47</td>\n",
              "      <td>248</td>\n",
              "      <td>2019-07-25</td>\n",
              "    </tr>\n",
              "    <tr>\n",
              "      <th>3</th>\n",
              "      <td>CartScreenAppear</td>\n",
              "      <td>3518123091307005509</td>\n",
              "      <td>2019-07-25 11:28:47</td>\n",
              "      <td>248</td>\n",
              "      <td>2019-07-25</td>\n",
              "    </tr>\n",
              "    <tr>\n",
              "      <th>4</th>\n",
              "      <td>PaymentScreenSuccessful</td>\n",
              "      <td>6217807653094995999</td>\n",
              "      <td>2019-07-25 11:48:42</td>\n",
              "      <td>248</td>\n",
              "      <td>2019-07-25</td>\n",
              "    </tr>\n",
              "  </tbody>\n",
              "</table>\n",
              "</div>\n",
              "      <button class=\"colab-df-convert\" onclick=\"convertToInteractive('df-2183670b-7004-492b-b071-677b0b5631f9')\"\n",
              "              title=\"Convert this dataframe to an interactive table.\"\n",
              "              style=\"display:none;\">\n",
              "        \n",
              "  <svg xmlns=\"http://www.w3.org/2000/svg\" height=\"24px\"viewBox=\"0 0 24 24\"\n",
              "       width=\"24px\">\n",
              "    <path d=\"M0 0h24v24H0V0z\" fill=\"none\"/>\n",
              "    <path d=\"M18.56 5.44l.94 2.06.94-2.06 2.06-.94-2.06-.94-.94-2.06-.94 2.06-2.06.94zm-11 1L8.5 8.5l.94-2.06 2.06-.94-2.06-.94L8.5 2.5l-.94 2.06-2.06.94zm10 10l.94 2.06.94-2.06 2.06-.94-2.06-.94-.94-2.06-.94 2.06-2.06.94z\"/><path d=\"M17.41 7.96l-1.37-1.37c-.4-.4-.92-.59-1.43-.59-.52 0-1.04.2-1.43.59L10.3 9.45l-7.72 7.72c-.78.78-.78 2.05 0 2.83L4 21.41c.39.39.9.59 1.41.59.51 0 1.02-.2 1.41-.59l7.78-7.78 2.81-2.81c.8-.78.8-2.07 0-2.86zM5.41 20L4 18.59l7.72-7.72 1.47 1.35L5.41 20z\"/>\n",
              "  </svg>\n",
              "      </button>\n",
              "      \n",
              "  <style>\n",
              "    .colab-df-container {\n",
              "      display:flex;\n",
              "      flex-wrap:wrap;\n",
              "      gap: 12px;\n",
              "    }\n",
              "\n",
              "    .colab-df-convert {\n",
              "      background-color: #E8F0FE;\n",
              "      border: none;\n",
              "      border-radius: 50%;\n",
              "      cursor: pointer;\n",
              "      display: none;\n",
              "      fill: #1967D2;\n",
              "      height: 32px;\n",
              "      padding: 0 0 0 0;\n",
              "      width: 32px;\n",
              "    }\n",
              "\n",
              "    .colab-df-convert:hover {\n",
              "      background-color: #E2EBFA;\n",
              "      box-shadow: 0px 1px 2px rgba(60, 64, 67, 0.3), 0px 1px 3px 1px rgba(60, 64, 67, 0.15);\n",
              "      fill: #174EA6;\n",
              "    }\n",
              "\n",
              "    [theme=dark] .colab-df-convert {\n",
              "      background-color: #3B4455;\n",
              "      fill: #D2E3FC;\n",
              "    }\n",
              "\n",
              "    [theme=dark] .colab-df-convert:hover {\n",
              "      background-color: #434B5C;\n",
              "      box-shadow: 0px 1px 3px 1px rgba(0, 0, 0, 0.15);\n",
              "      filter: drop-shadow(0px 1px 2px rgba(0, 0, 0, 0.3));\n",
              "      fill: #FFFFFF;\n",
              "    }\n",
              "  </style>\n",
              "\n",
              "      <script>\n",
              "        const buttonEl =\n",
              "          document.querySelector('#df-2183670b-7004-492b-b071-677b0b5631f9 button.colab-df-convert');\n",
              "        buttonEl.style.display =\n",
              "          google.colab.kernel.accessAllowed ? 'block' : 'none';\n",
              "\n",
              "        async function convertToInteractive(key) {\n",
              "          const element = document.querySelector('#df-2183670b-7004-492b-b071-677b0b5631f9');\n",
              "          const dataTable =\n",
              "            await google.colab.kernel.invokeFunction('convertToInteractive',\n",
              "                                                     [key], {});\n",
              "          if (!dataTable) return;\n",
              "\n",
              "          const docLinkHtml = 'Like what you see? Visit the ' +\n",
              "            '<a target=\"_blank\" href=https://colab.research.google.com/notebooks/data_table.ipynb>data table notebook</a>'\n",
              "            + ' to learn more about interactive tables.';\n",
              "          element.innerHTML = '';\n",
              "          dataTable['output_type'] = 'display_data';\n",
              "          await google.colab.output.renderOutput(dataTable, element);\n",
              "          const docLink = document.createElement('div');\n",
              "          docLink.innerHTML = docLinkHtml;\n",
              "          element.appendChild(docLink);\n",
              "        }\n",
              "      </script>\n",
              "    </div>\n",
              "  </div>\n",
              "  "
            ]
          },
          "metadata": {},
          "execution_count": 6
        }
      ],
      "source": [
        "df.head()"
      ]
    },
    {
      "cell_type": "markdown",
      "metadata": {
        "id": "mQSIWlarvt7a"
      },
      "source": [
        "Удалим дупликаты."
      ]
    },
    {
      "cell_type": "code",
      "execution_count": 7,
      "metadata": {
        "id": "-h7WAEAfvt7a"
      },
      "outputs": [],
      "source": [
        "df = df.drop_duplicates().reset_index(drop=True)"
      ]
    },
    {
      "cell_type": "code",
      "execution_count": 8,
      "metadata": {
        "scrolled": false,
        "colab": {
          "base_uri": "https://localhost:8080/",
          "height": 34
        },
        "id": "F0W0v_T7vt7b",
        "outputId": "0693c6d2-d54f-4a52-e04d-d4f94799338f"
      },
      "outputs": [
        {
          "output_type": "display_data",
          "data": {
            "text/plain": [
              "0"
            ]
          },
          "metadata": {}
        }
      ],
      "source": [
        "#check\n",
        "display(df.duplicated().sum())"
      ]
    },
    {
      "cell_type": "markdown",
      "metadata": {
        "id": "7jEXgKvpvt7b"
      },
      "source": [
        "Пропусков нет, дупликаты удалены, форматы поправлены, колонки переименованы."
      ]
    },
    {
      "cell_type": "markdown",
      "metadata": {
        "id": "OP5x2b8Lvt7d"
      },
      "source": [
        "## Проверка данных"
      ]
    },
    {
      "cell_type": "code",
      "execution_count": 9,
      "metadata": {
        "colab": {
          "base_uri": "https://localhost:8080/"
        },
        "id": "6Cx4IYy7vt7d",
        "outputId": "9ada3798-19ac-4d1a-c273-a9d5db0cccbd"
      },
      "outputs": [
        {
          "output_type": "execute_result",
          "data": {
            "text/plain": [
              "243713"
            ]
          },
          "metadata": {},
          "execution_count": 9
        }
      ],
      "source": [
        "#Количесво событий в логах\n",
        "df.event.count()"
      ]
    },
    {
      "cell_type": "code",
      "execution_count": 10,
      "metadata": {
        "colab": {
          "base_uri": "https://localhost:8080/"
        },
        "id": "DdTR58iNvt7e",
        "outputId": "d32ae144-cd9e-42e5-def6-246087c3b9e7"
      },
      "outputs": [
        {
          "output_type": "stream",
          "name": "stdout",
          "text": [
            "Всего участвовало пользователей: 7551\n"
          ]
        }
      ],
      "source": [
        "#Количество пользователей\n",
        "print('Всего участвовало пользователей:', df['id'].nunique())"
      ]
    },
    {
      "cell_type": "markdown",
      "metadata": {
        "id": "A6zjJWY6vt7f"
      },
      "source": [
        "Посмотрим какие есть ивенты и проверим количество групп."
      ]
    },
    {
      "cell_type": "code",
      "execution_count": 11,
      "metadata": {
        "scrolled": true,
        "colab": {
          "base_uri": "https://localhost:8080/"
        },
        "id": "w6TnAEgFvt7f",
        "outputId": "bce49c60-6038-4489-bd68-71e975a52b41"
      },
      "outputs": [
        {
          "output_type": "execute_result",
          "data": {
            "text/plain": [
              "['MainScreenAppear',\n",
              " 'PaymentScreenSuccessful',\n",
              " 'CartScreenAppear',\n",
              " 'OffersScreenAppear',\n",
              " 'Tutorial']"
            ]
          },
          "metadata": {},
          "execution_count": 11
        }
      ],
      "source": [
        "df['event'].unique().tolist()"
      ]
    },
    {
      "cell_type": "markdown",
      "metadata": {
        "id": "e03IUYxZvt7f"
      },
      "source": [
        "Видим 5 разных событий."
      ]
    },
    {
      "cell_type": "code",
      "execution_count": 12,
      "metadata": {
        "colab": {
          "base_uri": "https://localhost:8080/"
        },
        "id": "i2H3Omb3vt7g",
        "outputId": "02834930-284a-42b7-ab63-c6101b5589ac"
      },
      "outputs": [
        {
          "output_type": "execute_result",
          "data": {
            "text/plain": [
              "[246, 248, 247]"
            ]
          },
          "metadata": {},
          "execution_count": 12
        }
      ],
      "source": [
        "df['group'].unique().tolist()"
      ]
    },
    {
      "cell_type": "markdown",
      "metadata": {
        "id": "zvsFSJ8Mvt7g"
      },
      "source": [
        "Все сходится, должно быть 3 группы."
      ]
    },
    {
      "cell_type": "code",
      "execution_count": 13,
      "metadata": {
        "id": "E3DWWqZgvt7h"
      },
      "outputs": [],
      "source": [
        "#поменяю значения, пусть 1 и 2 - контрольные группы, 3 - экспериментаьная\n",
        "df.group.replace([246, 247,248], [1, 2, 3], inplace=True)"
      ]
    },
    {
      "cell_type": "code",
      "execution_count": 14,
      "metadata": {
        "colab": {
          "base_uri": "https://localhost:8080/",
          "height": 380
        },
        "id": "--FaYz0ivt7h",
        "outputId": "d2f32577-b877-4e66-9b74-e1704210c345"
      },
      "outputs": [
        {
          "output_type": "display_data",
          "data": {
            "text/plain": [
              "[1, 3, 2]"
            ]
          },
          "metadata": {}
        },
        {
          "output_type": "display_data",
          "data": {
            "text/plain": [
              "                     event                   id                date  group  \\\n",
              "0         MainScreenAppear  4575588528974610257 2019-07-25 04:43:36      1   \n",
              "1         MainScreenAppear  7416695313311560658 2019-07-25 11:11:42      1   \n",
              "2  PaymentScreenSuccessful  3518123091307005509 2019-07-25 11:28:47      3   \n",
              "3         CartScreenAppear  3518123091307005509 2019-07-25 11:28:47      3   \n",
              "4  PaymentScreenSuccessful  6217807653094995999 2019-07-25 11:48:42      3   \n",
              "5         CartScreenAppear  6217807653094995999 2019-07-25 11:48:43      3   \n",
              "6       OffersScreenAppear  8351860793733343758 2019-07-25 14:50:42      1   \n",
              "7         MainScreenAppear  5682100281902512875 2019-07-25 20:14:37      1   \n",
              "8         MainScreenAppear  1850981295691852772 2019-07-25 20:31:42      2   \n",
              "9         MainScreenAppear  5407636962369102641 2019-07-26 03:35:12      1   \n",
              "\n",
              "          dt  \n",
              "0 2019-07-25  \n",
              "1 2019-07-25  \n",
              "2 2019-07-25  \n",
              "3 2019-07-25  \n",
              "4 2019-07-25  \n",
              "5 2019-07-25  \n",
              "6 2019-07-25  \n",
              "7 2019-07-25  \n",
              "8 2019-07-25  \n",
              "9 2019-07-26  "
            ],
            "text/html": [
              "\n",
              "  <div id=\"df-492d652e-fbd2-4260-8176-c12810ee28f8\">\n",
              "    <div class=\"colab-df-container\">\n",
              "      <div>\n",
              "<style scoped>\n",
              "    .dataframe tbody tr th:only-of-type {\n",
              "        vertical-align: middle;\n",
              "    }\n",
              "\n",
              "    .dataframe tbody tr th {\n",
              "        vertical-align: top;\n",
              "    }\n",
              "\n",
              "    .dataframe thead th {\n",
              "        text-align: right;\n",
              "    }\n",
              "</style>\n",
              "<table border=\"1\" class=\"dataframe\">\n",
              "  <thead>\n",
              "    <tr style=\"text-align: right;\">\n",
              "      <th></th>\n",
              "      <th>event</th>\n",
              "      <th>id</th>\n",
              "      <th>date</th>\n",
              "      <th>group</th>\n",
              "      <th>dt</th>\n",
              "    </tr>\n",
              "  </thead>\n",
              "  <tbody>\n",
              "    <tr>\n",
              "      <th>0</th>\n",
              "      <td>MainScreenAppear</td>\n",
              "      <td>4575588528974610257</td>\n",
              "      <td>2019-07-25 04:43:36</td>\n",
              "      <td>1</td>\n",
              "      <td>2019-07-25</td>\n",
              "    </tr>\n",
              "    <tr>\n",
              "      <th>1</th>\n",
              "      <td>MainScreenAppear</td>\n",
              "      <td>7416695313311560658</td>\n",
              "      <td>2019-07-25 11:11:42</td>\n",
              "      <td>1</td>\n",
              "      <td>2019-07-25</td>\n",
              "    </tr>\n",
              "    <tr>\n",
              "      <th>2</th>\n",
              "      <td>PaymentScreenSuccessful</td>\n",
              "      <td>3518123091307005509</td>\n",
              "      <td>2019-07-25 11:28:47</td>\n",
              "      <td>3</td>\n",
              "      <td>2019-07-25</td>\n",
              "    </tr>\n",
              "    <tr>\n",
              "      <th>3</th>\n",
              "      <td>CartScreenAppear</td>\n",
              "      <td>3518123091307005509</td>\n",
              "      <td>2019-07-25 11:28:47</td>\n",
              "      <td>3</td>\n",
              "      <td>2019-07-25</td>\n",
              "    </tr>\n",
              "    <tr>\n",
              "      <th>4</th>\n",
              "      <td>PaymentScreenSuccessful</td>\n",
              "      <td>6217807653094995999</td>\n",
              "      <td>2019-07-25 11:48:42</td>\n",
              "      <td>3</td>\n",
              "      <td>2019-07-25</td>\n",
              "    </tr>\n",
              "    <tr>\n",
              "      <th>5</th>\n",
              "      <td>CartScreenAppear</td>\n",
              "      <td>6217807653094995999</td>\n",
              "      <td>2019-07-25 11:48:43</td>\n",
              "      <td>3</td>\n",
              "      <td>2019-07-25</td>\n",
              "    </tr>\n",
              "    <tr>\n",
              "      <th>6</th>\n",
              "      <td>OffersScreenAppear</td>\n",
              "      <td>8351860793733343758</td>\n",
              "      <td>2019-07-25 14:50:42</td>\n",
              "      <td>1</td>\n",
              "      <td>2019-07-25</td>\n",
              "    </tr>\n",
              "    <tr>\n",
              "      <th>7</th>\n",
              "      <td>MainScreenAppear</td>\n",
              "      <td>5682100281902512875</td>\n",
              "      <td>2019-07-25 20:14:37</td>\n",
              "      <td>1</td>\n",
              "      <td>2019-07-25</td>\n",
              "    </tr>\n",
              "    <tr>\n",
              "      <th>8</th>\n",
              "      <td>MainScreenAppear</td>\n",
              "      <td>1850981295691852772</td>\n",
              "      <td>2019-07-25 20:31:42</td>\n",
              "      <td>2</td>\n",
              "      <td>2019-07-25</td>\n",
              "    </tr>\n",
              "    <tr>\n",
              "      <th>9</th>\n",
              "      <td>MainScreenAppear</td>\n",
              "      <td>5407636962369102641</td>\n",
              "      <td>2019-07-26 03:35:12</td>\n",
              "      <td>1</td>\n",
              "      <td>2019-07-26</td>\n",
              "    </tr>\n",
              "  </tbody>\n",
              "</table>\n",
              "</div>\n",
              "      <button class=\"colab-df-convert\" onclick=\"convertToInteractive('df-492d652e-fbd2-4260-8176-c12810ee28f8')\"\n",
              "              title=\"Convert this dataframe to an interactive table.\"\n",
              "              style=\"display:none;\">\n",
              "        \n",
              "  <svg xmlns=\"http://www.w3.org/2000/svg\" height=\"24px\"viewBox=\"0 0 24 24\"\n",
              "       width=\"24px\">\n",
              "    <path d=\"M0 0h24v24H0V0z\" fill=\"none\"/>\n",
              "    <path d=\"M18.56 5.44l.94 2.06.94-2.06 2.06-.94-2.06-.94-.94-2.06-.94 2.06-2.06.94zm-11 1L8.5 8.5l.94-2.06 2.06-.94-2.06-.94L8.5 2.5l-.94 2.06-2.06.94zm10 10l.94 2.06.94-2.06 2.06-.94-2.06-.94-.94-2.06-.94 2.06-2.06.94z\"/><path d=\"M17.41 7.96l-1.37-1.37c-.4-.4-.92-.59-1.43-.59-.52 0-1.04.2-1.43.59L10.3 9.45l-7.72 7.72c-.78.78-.78 2.05 0 2.83L4 21.41c.39.39.9.59 1.41.59.51 0 1.02-.2 1.41-.59l7.78-7.78 2.81-2.81c.8-.78.8-2.07 0-2.86zM5.41 20L4 18.59l7.72-7.72 1.47 1.35L5.41 20z\"/>\n",
              "  </svg>\n",
              "      </button>\n",
              "      \n",
              "  <style>\n",
              "    .colab-df-container {\n",
              "      display:flex;\n",
              "      flex-wrap:wrap;\n",
              "      gap: 12px;\n",
              "    }\n",
              "\n",
              "    .colab-df-convert {\n",
              "      background-color: #E8F0FE;\n",
              "      border: none;\n",
              "      border-radius: 50%;\n",
              "      cursor: pointer;\n",
              "      display: none;\n",
              "      fill: #1967D2;\n",
              "      height: 32px;\n",
              "      padding: 0 0 0 0;\n",
              "      width: 32px;\n",
              "    }\n",
              "\n",
              "    .colab-df-convert:hover {\n",
              "      background-color: #E2EBFA;\n",
              "      box-shadow: 0px 1px 2px rgba(60, 64, 67, 0.3), 0px 1px 3px 1px rgba(60, 64, 67, 0.15);\n",
              "      fill: #174EA6;\n",
              "    }\n",
              "\n",
              "    [theme=dark] .colab-df-convert {\n",
              "      background-color: #3B4455;\n",
              "      fill: #D2E3FC;\n",
              "    }\n",
              "\n",
              "    [theme=dark] .colab-df-convert:hover {\n",
              "      background-color: #434B5C;\n",
              "      box-shadow: 0px 1px 3px 1px rgba(0, 0, 0, 0.15);\n",
              "      filter: drop-shadow(0px 1px 2px rgba(0, 0, 0, 0.3));\n",
              "      fill: #FFFFFF;\n",
              "    }\n",
              "  </style>\n",
              "\n",
              "      <script>\n",
              "        const buttonEl =\n",
              "          document.querySelector('#df-492d652e-fbd2-4260-8176-c12810ee28f8 button.colab-df-convert');\n",
              "        buttonEl.style.display =\n",
              "          google.colab.kernel.accessAllowed ? 'block' : 'none';\n",
              "\n",
              "        async function convertToInteractive(key) {\n",
              "          const element = document.querySelector('#df-492d652e-fbd2-4260-8176-c12810ee28f8');\n",
              "          const dataTable =\n",
              "            await google.colab.kernel.invokeFunction('convertToInteractive',\n",
              "                                                     [key], {});\n",
              "          if (!dataTable) return;\n",
              "\n",
              "          const docLinkHtml = 'Like what you see? Visit the ' +\n",
              "            '<a target=\"_blank\" href=https://colab.research.google.com/notebooks/data_table.ipynb>data table notebook</a>'\n",
              "            + ' to learn more about interactive tables.';\n",
              "          element.innerHTML = '';\n",
              "          dataTable['output_type'] = 'display_data';\n",
              "          await google.colab.output.renderOutput(dataTable, element);\n",
              "          const docLink = document.createElement('div');\n",
              "          docLink.innerHTML = docLinkHtml;\n",
              "          element.appendChild(docLink);\n",
              "        }\n",
              "      </script>\n",
              "    </div>\n",
              "  </div>\n",
              "  "
            ]
          },
          "metadata": {}
        }
      ],
      "source": [
        "#check\n",
        "display(df['group'].unique().tolist())\n",
        "display(df.head(10))"
      ]
    },
    {
      "cell_type": "code",
      "execution_count": 15,
      "metadata": {
        "colab": {
          "base_uri": "https://localhost:8080/",
          "height": 104
        },
        "id": "qYvuZy4Dvt7h",
        "outputId": "33bd055d-8f16-42b6-c65b-6eedeff48deb"
      },
      "outputs": [
        {
          "output_type": "display_data",
          "data": {
            "text/plain": [
              "group\n",
              "1    80181\n",
              "2    77950\n",
              "3    85582\n",
              "Name: group, dtype: int64"
            ]
          },
          "metadata": {}
        }
      ],
      "source": [
        "#глянем на количество событий в группах\n",
        "display(df.groupby('group')['group'].agg('count'))"
      ]
    },
    {
      "cell_type": "code",
      "execution_count": 16,
      "metadata": {
        "colab": {
          "base_uri": "https://localhost:8080/",
          "height": 104
        },
        "id": "WNGheJHSvt7i",
        "outputId": "2db15315-cd85-4b98-8c85-0328cfc4346b"
      },
      "outputs": [
        {
          "output_type": "display_data",
          "data": {
            "text/plain": [
              "group\n",
              "1    2489\n",
              "2    2520\n",
              "3    2542\n",
              "Name: id, dtype: int64"
            ]
          },
          "metadata": {}
        }
      ],
      "source": [
        "#глянем на количество уникальных пользователей в группах\n",
        "display(df.groupby('group')['id'].agg('nunique'))"
      ]
    },
    {
      "cell_type": "markdown",
      "metadata": {
        "id": "nU50aa8hvt7i"
      },
      "source": [
        "Количество пользователей в каждой группе примерно одно и то же, значит тест проведен корректно, какой-то выделившейся группы нет."
      ]
    },
    {
      "cell_type": "markdown",
      "metadata": {
        "id": "KRsKwnHJvt7j"
      },
      "source": [
        "Так же глянем на среднее число событий на пользователя."
      ]
    },
    {
      "cell_type": "code",
      "execution_count": 17,
      "metadata": {
        "colab": {
          "base_uri": "https://localhost:8080/"
        },
        "id": "mNYuZbOvvt7j",
        "outputId": "39596c78-e611-4ad5-8e4a-c8fb5c8fe49e"
      },
      "outputs": [
        {
          "output_type": "execute_result",
          "data": {
            "text/plain": [
              "32.0"
            ]
          },
          "metadata": {},
          "execution_count": 17
        }
      ],
      "source": [
        "avg=df.event.count()/df['id'].nunique()\n",
        "avg.round()"
      ]
    },
    {
      "cell_type": "markdown",
      "metadata": {
        "id": "tBRugvswvt7j"
      },
      "source": [
        "### Период данных"
      ]
    },
    {
      "cell_type": "code",
      "execution_count": 18,
      "metadata": {
        "colab": {
          "base_uri": "https://localhost:8080/"
        },
        "id": "_A8fww_bvt7k",
        "outputId": "740c6908-9591-4347-e4b0-f905912f930b"
      },
      "outputs": [
        {
          "output_type": "stream",
          "name": "stdout",
          "text": [
            "Полный период: 2019-07-25 04:43:36 : 2019-08-07 21:15:17\n"
          ]
        }
      ],
      "source": [
        "print(f\"Полный период: {df['date'].min()} : {df['date'].max()}\")"
      ]
    },
    {
      "cell_type": "code",
      "execution_count": 19,
      "metadata": {
        "colab": {
          "base_uri": "https://localhost:8080/"
        },
        "id": "Omc9UC5gvt7w",
        "outputId": "3cf0fefd-80cb-4b4e-ed88-3c0e2ec062d7"
      },
      "outputs": [
        {
          "output_type": "stream",
          "name": "stdout",
          "text": [
            "Всего: 13 days 16:31:41\n"
          ]
        }
      ],
      "source": [
        "print(f\"Всего: {df['date'].max() - df['date'].min()}\")"
      ]
    },
    {
      "cell_type": "markdown",
      "metadata": {
        "id": "7FsxEUwDvt7w"
      },
      "source": [
        "Построим гистограмму"
      ]
    },
    {
      "cell_type": "code",
      "execution_count": 20,
      "metadata": {
        "colab": {
          "base_uri": "https://localhost:8080/",
          "height": 709
        },
        "id": "VqTHdsr2vt7w",
        "outputId": "1cb9ad63-51f2-4df7-a819-81658c1523cf"
      },
      "outputs": [
        {
          "output_type": "display_data",
          "data": {
            "text/plain": [
              "<Figure size 1600x700 with 1 Axes>"
            ],
            "image/png": "[encoded data removed]"
          },
          "metadata": {}
        }
      ],
      "source": [
        "plt.figure(figsize=(16,7))\n",
        "ax = df['date'].hist()\n",
        "plt.title('Полный период данных', fontsize=22)\n",
        "plt.ylabel(\"Частота\", fontsize=16)\n",
        "plt.xlabel(\"Дата\", fontsize=16)\n",
        "plt.xticks(rotation=45)\n",
        "plt.show()"
      ]
    },
    {
      "cell_type": "markdown",
      "metadata": {
        "id": "nL0I8p4Ovt7x"
      },
      "source": [
        "Видим, что с 25 июня по 31 июня данных почти нет, значит их можно удалить."
      ]
    },
    {
      "cell_type": "code",
      "execution_count": 21,
      "metadata": {
        "id": "1nmfDCHAvt7y"
      },
      "outputs": [],
      "source": [
        "df_copy = df.copy()"
      ]
    },
    {
      "cell_type": "code",
      "execution_count": 22,
      "metadata": {
        "id": "umJ9_FPmvt7y"
      },
      "outputs": [],
      "source": [
        "df = df[df['dt'] > '2019-07-31']"
      ]
    },
    {
      "cell_type": "code",
      "execution_count": 23,
      "metadata": {
        "scrolled": true,
        "colab": {
          "base_uri": "https://localhost:8080/"
        },
        "id": "ixvCDUn_vt7y",
        "outputId": "d158e799-7a94-44e6-b53e-437e98447fee"
      },
      "outputs": [
        {
          "output_type": "stream",
          "name": "stdout",
          "text": [
            "Стало пользователей: 7534\n",
            "Стало событий: 240887\n"
          ]
        }
      ],
      "source": [
        "print('Стало пользователей:', df['id'].nunique())\n",
        "print('Стало событий:', df.event.count())"
      ]
    },
    {
      "cell_type": "code",
      "execution_count": 24,
      "metadata": {
        "scrolled": true,
        "colab": {
          "base_uri": "https://localhost:8080/"
        },
        "id": "mXZ5lFM0vt7z",
        "outputId": "67cf3c2b-8220-4063-9f4f-f7e9dcf22896"
      },
      "outputs": [
        {
          "output_type": "stream",
          "name": "stdout",
          "text": [
            "Потеряно пользователей:  17\n",
            "Потеряно событий:  2826\n",
            "Потери пользователей в %: 0.23\n",
            "Потери событий в %: 1.16\n"
          ]
        }
      ],
      "source": [
        "#Потери\n",
        "print('Потеряно пользователей: ', df_copy['id'].nunique()-df['id'].nunique())\n",
        "print('Потеряно событий: ', df_copy.event.count()-df.event.count())\n",
        "print('Потери пользователей в %:', round(((df_copy['id'].nunique()-df['id'].nunique())/df_copy['id'].nunique()*100),2))\n",
        "print('Потери событий в %:', ((df_copy['event'].count()-df['event'].count())/df_copy['event'].count()*100).round(2))"
      ]
    },
    {
      "cell_type": "markdown",
      "metadata": {
        "id": "Fwk1LurWvt7z"
      },
      "source": [
        "Потери очень малы, можно исследовать дальше."
      ]
    },
    {
      "cell_type": "code",
      "execution_count": 25,
      "metadata": {
        "scrolled": false,
        "colab": {
          "base_uri": "https://localhost:8080/",
          "height": 709
        },
        "id": "gqWS2jWRvt72",
        "outputId": "477fc94a-f942-4c56-81f1-bbc279b2123a"
      },
      "outputs": [
        {
          "output_type": "display_data",
          "data": {
            "text/plain": [
              "<Figure size 1600x700 with 1 Axes>"
            ],
            "image/png": "[encoded data removed]"
          },
          "metadata": {}
        }
      ],
      "source": [
        "#еще раз построим график\n",
        "plt.figure(figsize=(16,7))\n",
        "ax = df['date'].hist()\n",
        "plt.title('Полный период данных', fontsize=22)\n",
        "plt.ylabel(\"Частота\", fontsize=16)\n",
        "plt.xlabel(\"Дата\", fontsize=16)\n",
        "plt.xticks(rotation=45)\n",
        "plt.show()"
      ]
    },
    {
      "cell_type": "markdown",
      "metadata": {
        "id": "AHOCxzmsvt72"
      },
      "source": [
        "Проверим есть ли пользователи, которые попали в несколько групп."
      ]
    },
    {
      "cell_type": "code",
      "execution_count": 26,
      "metadata": {
        "scrolled": true,
        "id": "nXBEfZmdvt72"
      },
      "outputs": [],
      "source": [
        "import functools\n",
        "from functools import reduce\n",
        "dups = reduce(np.intersect1d, (df.query('group == 1')['id'].unique(), df.query('group == 2')['id'].unique(), df.query('group == 3')['id'].unique()))"
      ]
    },
    {
      "cell_type": "code",
      "execution_count": 27,
      "metadata": {
        "colab": {
          "base_uri": "https://localhost:8080/"
        },
        "id": "E68dyzp1vt73",
        "outputId": "4308071f-3a62-4293-c874-7b91fbffaf28"
      },
      "outputs": [
        {
          "output_type": "execute_result",
          "data": {
            "text/plain": [
              "array([], dtype=int64)"
            ]
          },
          "metadata": {},
          "execution_count": 27
        }
      ],
      "source": [
        "dups"
      ]
    },
    {
      "cell_type": "markdown",
      "metadata": {
        "id": "76clFStivt73"
      },
      "source": [
        "Нет совпадения, знаит каждый пользователь попал в одну группу, это хорошо."
      ]
    },
    {
      "cell_type": "markdown",
      "metadata": {
        "id": "ynB4dKWvvt75"
      },
      "source": [
        "#### Вывод"
      ]
    },
    {
      "cell_type": "markdown",
      "metadata": {
        "id": "RBdLC_r1vt75"
      },
      "source": [
        "Всего 7551 уникальных пользователей.\n",
        "\n",
        "Всего событий - 243713.\n",
        "\n",
        "Период данных: с 25 июня по 8 августа, при этом актуальный период берем с 1 августа.\n",
        "\n",
        "Потеряно пользователей после актуализации периода:  17\n",
        "\n",
        "Потеряно событий после актуализации периода:  2826"
      ]
    },
    {
      "cell_type": "markdown",
      "metadata": {
        "id": "7_5hUT42vt76"
      },
      "source": [
        "### Воронка событий"
      ]
    },
    {
      "cell_type": "code",
      "execution_count": 28,
      "metadata": {
        "id": "w9FR3eivvt76"
      },
      "outputs": [],
      "source": [
        "df = df.query('event != \"Tutorial\"')"
      ]
    },
    {
      "cell_type": "code",
      "execution_count": 29,
      "metadata": {
        "colab": {
          "base_uri": "https://localhost:8080/"
        },
        "id": "DXqQaM-Ovt76",
        "outputId": "5eba7f92-686d-43aa-d6b7-88e01333ba66"
      },
      "outputs": [
        {
          "output_type": "execute_result",
          "data": {
            "text/plain": [
              "event\n",
              "MainScreenAppear           117328\n",
              "OffersScreenAppear          46333\n",
              "CartScreenAppear            42303\n",
              "PaymentScreenSuccessful     33918\n",
              "Name: event, dtype: int64"
            ]
          },
          "metadata": {},
          "execution_count": 29
        }
      ],
      "source": [
        "df.groupby('event')['event'].count().sort_values(ascending= False)"
      ]
    },
    {
      "cell_type": "markdown",
      "metadata": {
        "id": "0W-Ndnz8vt77"
      },
      "source": [
        "**Далее:**\n",
        "\n",
        "- Посчитаем, сколько пользователей совершали каждое из этих событий.\n",
        "\n",
        "- Отсортируем события по числу пользователей.\n",
        "\n",
        "- Посчитаем долю пользователей, которые хоть раз совершали событие."
      ]
    },
    {
      "cell_type": "code",
      "execution_count": 30,
      "metadata": {
        "colab": {
          "base_uri": "https://localhost:8080/",
          "height": 174
        },
        "id": "eY8jWB53vt77",
        "outputId": "69975fa4-a73a-48e9-e581-4477a0fdd7a1"
      },
      "outputs": [
        {
          "output_type": "execute_result",
          "data": {
            "text/plain": [
              "                     event  users  fraction\n",
              "0         MainScreenAppear   7419      99.0\n",
              "1       OffersScreenAppear   4593      61.0\n",
              "2         CartScreenAppear   3734      50.0\n",
              "3  PaymentScreenSuccessful   3539      47.0"
            ],
            "text/html": [
              "\n",
              "  <div id=\"df-2fc1a94e-a162-4721-bf9b-e8741e4f6894\">\n",
              "    <div class=\"colab-df-container\">\n",
              "      <div>\n",
              "<style scoped>\n",
              "    .dataframe tbody tr th:only-of-type {\n",
              "        vertical-align: middle;\n",
              "    }\n",
              "\n",
              "    .dataframe tbody tr th {\n",
              "        vertical-align: top;\n",
              "    }\n",
              "\n",
              "    .dataframe thead th {\n",
              "        text-align: right;\n",
              "    }\n",
              "</style>\n",
              "<table border=\"1\" class=\"dataframe\">\n",
              "  <thead>\n",
              "    <tr style=\"text-align: right;\">\n",
              "      <th></th>\n",
              "      <th>event</th>\n",
              "      <th>users</th>\n",
              "      <th>fraction</th>\n",
              "    </tr>\n",
              "  </thead>\n",
              "  <tbody>\n",
              "    <tr>\n",
              "      <th>0</th>\n",
              "      <td>MainScreenAppear</td>\n",
              "      <td>7419</td>\n",
              "      <td>99.0</td>\n",
              "    </tr>\n",
              "    <tr>\n",
              "      <th>1</th>\n",
              "      <td>OffersScreenAppear</td>\n",
              "      <td>4593</td>\n",
              "      <td>61.0</td>\n",
              "    </tr>\n",
              "    <tr>\n",
              "      <th>2</th>\n",
              "      <td>CartScreenAppear</td>\n",
              "      <td>3734</td>\n",
              "      <td>50.0</td>\n",
              "    </tr>\n",
              "    <tr>\n",
              "      <th>3</th>\n",
              "      <td>PaymentScreenSuccessful</td>\n",
              "      <td>3539</td>\n",
              "      <td>47.0</td>\n",
              "    </tr>\n",
              "  </tbody>\n",
              "</table>\n",
              "</div>\n",
              "      <button class=\"colab-df-convert\" onclick=\"convertToInteractive('df-2fc1a94e-a162-4721-bf9b-e8741e4f6894')\"\n",
              "              title=\"Convert this dataframe to an interactive table.\"\n",
              "              style=\"display:none;\">\n",
              "        \n",
              "  <svg xmlns=\"http://www.w3.org/2000/svg\" height=\"24px\"viewBox=\"0 0 24 24\"\n",
              "       width=\"24px\">\n",
              "    <path d=\"M0 0h24v24H0V0z\" fill=\"none\"/>\n",
              "    <path d=\"M18.56 5.44l.94 2.06.94-2.06 2.06-.94-2.06-.94-.94-2.06-.94 2.06-2.06.94zm-11 1L8.5 8.5l.94-2.06 2.06-.94-2.06-.94L8.5 2.5l-.94 2.06-2.06.94zm10 10l.94 2.06.94-2.06 2.06-.94-2.06-.94-.94-2.06-.94 2.06-2.06.94z\"/><path d=\"M17.41 7.96l-1.37-1.37c-.4-.4-.92-.59-1.43-.59-.52 0-1.04.2-1.43.59L10.3 9.45l-7.72 7.72c-.78.78-.78 2.05 0 2.83L4 21.41c.39.39.9.59 1.41.59.51 0 1.02-.2 1.41-.59l7.78-7.78 2.81-2.81c.8-.78.8-2.07 0-2.86zM5.41 20L4 18.59l7.72-7.72 1.47 1.35L5.41 20z\"/>\n",
              "  </svg>\n",
              "      </button>\n",
              "      \n",
              "  <style>\n",
              "    .colab-df-container {\n",
              "      display:flex;\n",
              "      flex-wrap:wrap;\n",
              "      gap: 12px;\n",
              "    }\n",
              "\n",
              "    .colab-df-convert {\n",
              "      background-color: #E8F0FE;\n",
              "      border: none;\n",
              "      border-radius: 50%;\n",
              "      cursor: pointer;\n",
              "      display: none;\n",
              "      fill: #1967D2;\n",
              "      height: 32px;\n",
              "      padding: 0 0 0 0;\n",
              "      width: 32px;\n",
              "    }\n",
              "\n",
              "    .colab-df-convert:hover {\n",
              "      background-color: #E2EBFA;\n",
              "      box-shadow: 0px 1px 2px rgba(60, 64, 67, 0.3), 0px 1px 3px 1px rgba(60, 64, 67, 0.15);\n",
              "      fill: #174EA6;\n",
              "    }\n",
              "\n",
              "    [theme=dark] .colab-df-convert {\n",
              "      background-color: #3B4455;\n",
              "      fill: #D2E3FC;\n",
              "    }\n",
              "\n",
              "    [theme=dark] .colab-df-convert:hover {\n",
              "      background-color: #434B5C;\n",
              "      box-shadow: 0px 1px 3px 1px rgba(0, 0, 0, 0.15);\n",
              "      filter: drop-shadow(0px 1px 2px rgba(0, 0, 0, 0.3));\n",
              "      fill: #FFFFFF;\n",
              "    }\n",
              "  </style>\n",
              "\n",
              "      <script>\n",
              "        const buttonEl =\n",
              "          document.querySelector('#df-2fc1a94e-a162-4721-bf9b-e8741e4f6894 button.colab-df-convert');\n",
              "        buttonEl.style.display =\n",
              "          google.colab.kernel.accessAllowed ? 'block' : 'none';\n",
              "\n",
              "        async function convertToInteractive(key) {\n",
              "          const element = document.querySelector('#df-2fc1a94e-a162-4721-bf9b-e8741e4f6894');\n",
              "          const dataTable =\n",
              "            await google.colab.kernel.invokeFunction('convertToInteractive',\n",
              "                                                     [key], {});\n",
              "          if (!dataTable) return;\n",
              "\n",
              "          const docLinkHtml = 'Like what you see? Visit the ' +\n",
              "            '<a target=\"_blank\" href=https://colab.research.google.com/notebooks/data_table.ipynb>data table notebook</a>'\n",
              "            + ' to learn more about interactive tables.';\n",
              "          element.innerHTML = '';\n",
              "          dataTable['output_type'] = 'display_data';\n",
              "          await google.colab.output.renderOutput(dataTable, element);\n",
              "          const docLink = document.createElement('div');\n",
              "          docLink.innerHTML = docLinkHtml;\n",
              "          element.appendChild(docLink);\n",
              "        }\n",
              "      </script>\n",
              "    </div>\n",
              "  </div>\n",
              "  "
            ]
          },
          "metadata": {},
          "execution_count": 30
        }
      ],
      "source": [
        "funnel = df.groupby('event')['id'].nunique().sort_values(ascending=False).reset_index().rename(columns={'id': 'users'})\n",
        "funnel['fraction'] = (funnel['users'] / df['id'].nunique() * 100).round()\n",
        "funnel"
      ]
    },
    {
      "cell_type": "markdown",
      "metadata": {
        "id": "JZeLGJaUvt77"
      },
      "source": [
        "**Воронка выглядит примерно так:**\n",
        "\n",
        "Пользователь видит главную страницу\n",
        "\n",
        "Пользователь видит экран предложений товаров\n",
        "\n",
        "Пользователь видит корзину\n",
        "\n",
        "Пользователь видит экран успешной оплаты\n",
        "\n",
        "Пользователь видит некую инструкцию (возможно как забрать товар из пункта или как оставить отзыв, по всей видимости это не очень популярная штука, тк товар уже куплен и этот шаг люди пропускают)\n",
        "\n",
        "*В проекте не объясняется что есть что, так что это мой вольный перевод."
      ]
    },
    {
      "cell_type": "markdown",
      "metadata": {
        "id": "cnVG5K3wvt78"
      },
      "source": [
        "Также подметим, что 2% польщователей не попадают даже на главную страницу, что очень странно.\n",
        "\n",
        "Причина может быть в нестабильности приложения - вылетает, либо пользователь зарегистрировался, но не стал польщоваться приложением."
      ]
    },
    {
      "cell_type": "markdown",
      "metadata": {
        "id": "odtraj-Kvt78"
      },
      "source": [
        "**Посчитаем доли отвалившихся клиентов на этапах воронки.**"
      ]
    },
    {
      "cell_type": "code",
      "execution_count": 31,
      "metadata": {
        "colab": {
          "base_uri": "https://localhost:8080/",
          "height": 542
        },
        "id": "OQUQJC3Bvt79",
        "outputId": "7f3fdd3a-445a-474d-853a-e21df055752a"
      },
      "outputs": [
        {
          "output_type": "display_data",
          "data": {
            "text/html": [
              "<html>\n",
              "<head><meta charset=\"utf-8\" /></head>\n",
              "<body>\n",
              "    <div>            <script src=\"https://cdnjs.cloudflare.com/ajax/libs/mathjax/2.7.5/MathJax.js?config=TeX-AMS-MML_SVG\"></script><script type=\"text/javascript\">if (window.MathJax && window.MathJax.Hub && window.MathJax.Hub.Config) {window.MathJax.Hub.Config({SVG: {font: \"STIX-Web\"}});}</script>                <script type=\"text/javascript\">window.PlotlyConfig = {MathJaxConfig: 'local'};</script>\n",
              "        <script src=\"https://cdn.plot.ly/plotly-2.18.2.min.js\"></script>                <div id=\"fcdc2b59-b661-4524-8444-6ecd5fb57155\" class=\"plotly-graph-div\" style=\"height:525px; width:100%;\"></div>            <script type=\"text/javascript\">                                    window.PLOTLYENV=window.PLOTLYENV || {};                                    if (document.getElementById(\"fcdc2b59-b661-4524-8444-6ecd5fb57155\")) {                    Plotly.newPlot(                        \"fcdc2b59-b661-4524-8444-6ecd5fb57155\",                        [{\"connector\":{\"line\":{\"color\":\"royalblue\",\"dash\":\"dot\",\"width\":3}},\"marker\":{\"color\":[\"deepskyblue\",\"lightsalmon\",\"tan\",\"teal\",\"silver\"],\"line\":{\"color\":[\"wheat\",\"wheat\",\"wheat\",\"wheat\",\"wheat\"],\"width\":[3,3,3,3,3,3]}},\"opacity\":0.65,\"textinfo\":\"value+percent initial\",\"textposition\":\"inside\",\"x\":[7419,4593,3734,3539],\"y\":[\"MainScreenAppear\",\"OffersScreenAppear\",\"CartScreenAppear\",\"PaymentScreenSuccessful\"],\"type\":\"funnel\"}],                        {\"template\":{\"data\":{\"histogram2dcontour\":[{\"type\":\"histogram2dcontour\",\"colorbar\":{\"outlinewidth\":0,\"ticks\":\"\"},\"colorscale\":[[0.0,\"#0d0887\"],[0.1111111111111111,\"#46039f\"],[0.2222222222222222,\"#7201a8\"],[0.3333333333333333,\"#9c179e\"],[0.4444444444444444,\"#bd3786\"],[0.5555555555555556,\"#d8576b\"],[0.6666666666666666,\"#ed7953\"],[0.7777777777777778,\"#fb9f3a\"],[0.8888888888888888,\"#fdca26\"],[1.0,\"#f0f921\"]]}],\"choropleth\":[{\"type\":\"choropleth\",\"colorbar\":{\"outlinewidth\":0,\"ticks\":\"\"}}],\"histogram2d\":[{\"type\":\"histogram2d\",\"colorbar\":{\"outlinewidth\":0,\"ticks\":\"\"},\"colorscale\":[[0.0,\"#0d0887\"],[0.1111111111111111,\"#46039f\"],[0.2222222222222222,\"#7201a8\"],[0.3333333333333333,\"#9c179e\"],[0.4444444444444444,\"#bd3786\"],[0.5555555555555556,\"#d8576b\"],[0.6666666666666666,\"#ed7953\"],[0.7777777777777778,\"#fb9f3a\"],[0.8888888888888888,\"#fdca26\"],[1.0,\"#f0f921\"]]}],\"heatmap\":[{\"type\":\"heatmap\",\"colorbar\":{\"outlinewidth\":0,\"ticks\":\"\"},\"colorscale\":[[0.0,\"#0d0887\"],[0.1111111111111111,\"#46039f\"],[0.2222222222222222,\"#7201a8\"],[0.3333333333333333,\"#9c179e\"],[0.4444444444444444,\"#bd3786\"],[0.5555555555555556,\"#d8576b\"],[0.6666666666666666,\"#ed7953\"],[0.7777777777777778,\"#fb9f3a\"],[0.8888888888888888,\"#fdca26\"],[1.0,\"#f0f921\"]]}],\"heatmapgl\":[{\"type\":\"heatmapgl\",\"colorbar\":{\"outlinewidth\":0,\"ticks\":\"\"},\"colorscale\":[[0.0,\"#0d0887\"],[0.1111111111111111,\"#46039f\"],[0.2222222222222222,\"#7201a8\"],[0.3333333333333333,\"#9c179e\"],[0.4444444444444444,\"#bd3786\"],[0.5555555555555556,\"#d8576b\"],[0.6666666666666666,\"#ed7953\"],[0.7777777777777778,\"#fb9f3a\"],[0.8888888888888888,\"#fdca26\"],[1.0,\"#f0f921\"]]}],\"contourcarpet\":[{\"type\":\"contourcarpet\",\"colorbar\":{\"outlinewidth\":0,\"ticks\":\"\"}}],\"contour\":[{\"type\":\"contour\",\"colorbar\":{\"outlinewidth\":0,\"ticks\":\"\"},\"colorscale\":[[0.0,\"#0d0887\"],[0.1111111111111111,\"#46039f\"],[0.2222222222222222,\"#7201a8\"],[0.3333333333333333,\"#9c179e\"],[0.4444444444444444,\"#bd3786\"],[0.5555555555555556,\"#d8576b\"],[0.6666666666666666,\"#ed7953\"],[0.7777777777777778,\"#fb9f3a\"],[0.8888888888888888,\"#fdca26\"],[1.0,\"#f0f921\"]]}],\"surface\":[{\"type\":\"surface\",\"colorbar\":{\"outlinewidth\":0,\"ticks\":\"\"},\"colorscale\":[[0.0,\"#0d0887\"],[0.1111111111111111,\"#46039f\"],[0.2222222222222222,\"#7201a8\"],[0.3333333333333333,\"#9c179e\"],[0.4444444444444444,\"#bd3786\"],[0.5555555555555556,\"#d8576b\"],[0.6666666666666666,\"#ed7953\"],[0.7777777777777778,\"#fb9f3a\"],[0.8888888888888888,\"#fdca26\"],[1.0,\"#f0f921\"]]}],\"mesh3d\":[{\"type\":\"mesh3d\",\"colorbar\":{\"outlinewidth\":0,\"ticks\":\"\"}}],\"scatter\":[{\"fillpattern\":{\"fillmode\":\"overlay\",\"size\":10,\"solidity\":0.2},\"type\":\"scatter\"}],\"parcoords\":[{\"type\":\"parcoords\",\"line\":{\"colorbar\":{\"outlinewidth\":0,\"ticks\":\"\"}}}],\"scatterpolargl\":[{\"type\":\"scatterpolargl\",\"marker\":{\"colorbar\":{\"outlinewidth\":0,\"ticks\":\"\"}}}],\"bar\":[{\"error_x\":{\"color\":\"#2a3f5f\"},\"error_y\":{\"color\":\"#2a3f5f\"},\"marker\":{\"line\":{\"color\":\"#E5ECF6\",\"width\":0.5},\"pattern\":{\"fillmode\":\"overlay\",\"size\":10,\"solidity\":0.2}},\"type\":\"bar\"}],\"scattergeo\":[{\"type\":\"scattergeo\",\"marker\":{\"colorbar\":{\"outlinewidth\":0,\"ticks\":\"\"}}}],\"scatterpolar\":[{\"type\":\"scatterpolar\",\"marker\":{\"colorbar\":{\"outlinewidth\":0,\"ticks\":\"\"}}}],\"histogram\":[{\"marker\":{\"pattern\":{\"fillmode\":\"overlay\",\"size\":10,\"solidity\":0.2}},\"type\":\"histogram\"}],\"scattergl\":[{\"type\":\"scattergl\",\"marker\":{\"colorbar\":{\"outlinewidth\":0,\"ticks\":\"\"}}}],\"scatter3d\":[{\"type\":\"scatter3d\",\"line\":{\"colorbar\":{\"outlinewidth\":0,\"ticks\":\"\"}},\"marker\":{\"colorbar\":{\"outlinewidth\":0,\"ticks\":\"\"}}}],\"scattermapbox\":[{\"type\":\"scattermapbox\",\"marker\":{\"colorbar\":{\"outlinewidth\":0,\"ticks\":\"\"}}}],\"scatterternary\":[{\"type\":\"scatterternary\",\"marker\":{\"colorbar\":{\"outlinewidth\":0,\"ticks\":\"\"}}}],\"scattercarpet\":[{\"type\":\"scattercarpet\",\"marker\":{\"colorbar\":{\"outlinewidth\":0,\"ticks\":\"\"}}}],\"carpet\":[{\"aaxis\":{\"endlinecolor\":\"#2a3f5f\",\"gridcolor\":\"white\",\"linecolor\":\"white\",\"minorgridcolor\":\"white\",\"startlinecolor\":\"#2a3f5f\"},\"baxis\":{\"endlinecolor\":\"#2a3f5f\",\"gridcolor\":\"white\",\"linecolor\":\"white\",\"minorgridcolor\":\"white\",\"startlinecolor\":\"#2a3f5f\"},\"type\":\"carpet\"}],\"table\":[{\"cells\":{\"fill\":{\"color\":\"#EBF0F8\"},\"line\":{\"color\":\"white\"}},\"header\":{\"fill\":{\"color\":\"#C8D4E3\"},\"line\":{\"color\":\"white\"}},\"type\":\"table\"}],\"barpolar\":[{\"marker\":{\"line\":{\"color\":\"#E5ECF6\",\"width\":0.5},\"pattern\":{\"fillmode\":\"overlay\",\"size\":10,\"solidity\":0.2}},\"type\":\"barpolar\"}],\"pie\":[{\"automargin\":true,\"type\":\"pie\"}]},\"layout\":{\"autotypenumbers\":\"strict\",\"colorway\":[\"#636efa\",\"#EF553B\",\"#00cc96\",\"#ab63fa\",\"#FFA15A\",\"#19d3f3\",\"#FF6692\",\"#B6E880\",\"#FF97FF\",\"#FECB52\"],\"font\":{\"color\":\"#2a3f5f\"},\"hovermode\":\"closest\",\"hoverlabel\":{\"align\":\"left\"},\"paper_bgcolor\":\"white\",\"plot_bgcolor\":\"#E5ECF6\",\"polar\":{\"bgcolor\":\"#E5ECF6\",\"angularaxis\":{\"gridcolor\":\"white\",\"linecolor\":\"white\",\"ticks\":\"\"},\"radialaxis\":{\"gridcolor\":\"white\",\"linecolor\":\"white\",\"ticks\":\"\"}},\"ternary\":{\"bgcolor\":\"#E5ECF6\",\"aaxis\":{\"gridcolor\":\"white\",\"linecolor\":\"white\",\"ticks\":\"\"},\"baxis\":{\"gridcolor\":\"white\",\"linecolor\":\"white\",\"ticks\":\"\"},\"caxis\":{\"gridcolor\":\"white\",\"linecolor\":\"white\",\"ticks\":\"\"}},\"coloraxis\":{\"colorbar\":{\"outlinewidth\":0,\"ticks\":\"\"}},\"colorscale\":{\"sequential\":[[0.0,\"#0d0887\"],[0.1111111111111111,\"#46039f\"],[0.2222222222222222,\"#7201a8\"],[0.3333333333333333,\"#9c179e\"],[0.4444444444444444,\"#bd3786\"],[0.5555555555555556,\"#d8576b\"],[0.6666666666666666,\"#ed7953\"],[0.7777777777777778,\"#fb9f3a\"],[0.8888888888888888,\"#fdca26\"],[1.0,\"#f0f921\"]],\"sequentialminus\":[[0.0,\"#0d0887\"],[0.1111111111111111,\"#46039f\"],[0.2222222222222222,\"#7201a8\"],[0.3333333333333333,\"#9c179e\"],[0.4444444444444444,\"#bd3786\"],[0.5555555555555556,\"#d8576b\"],[0.6666666666666666,\"#ed7953\"],[0.7777777777777778,\"#fb9f3a\"],[0.8888888888888888,\"#fdca26\"],[1.0,\"#f0f921\"]],\"diverging\":[[0,\"#8e0152\"],[0.1,\"#c51b7d\"],[0.2,\"#de77ae\"],[0.3,\"#f1b6da\"],[0.4,\"#fde0ef\"],[0.5,\"#f7f7f7\"],[0.6,\"#e6f5d0\"],[0.7,\"#b8e186\"],[0.8,\"#7fbc41\"],[0.9,\"#4d9221\"],[1,\"#276419\"]]},\"xaxis\":{\"gridcolor\":\"white\",\"linecolor\":\"white\",\"ticks\":\"\",\"title\":{\"standoff\":15},\"zerolinecolor\":\"white\",\"automargin\":true,\"zerolinewidth\":2},\"yaxis\":{\"gridcolor\":\"white\",\"linecolor\":\"white\",\"ticks\":\"\",\"title\":{\"standoff\":15},\"zerolinecolor\":\"white\",\"automargin\":true,\"zerolinewidth\":2},\"scene\":{\"xaxis\":{\"backgroundcolor\":\"#E5ECF6\",\"gridcolor\":\"white\",\"linecolor\":\"white\",\"showbackground\":true,\"ticks\":\"\",\"zerolinecolor\":\"white\",\"gridwidth\":2},\"yaxis\":{\"backgroundcolor\":\"#E5ECF6\",\"gridcolor\":\"white\",\"linecolor\":\"white\",\"showbackground\":true,\"ticks\":\"\",\"zerolinecolor\":\"white\",\"gridwidth\":2},\"zaxis\":{\"backgroundcolor\":\"#E5ECF6\",\"gridcolor\":\"white\",\"linecolor\":\"white\",\"showbackground\":true,\"ticks\":\"\",\"zerolinecolor\":\"white\",\"gridwidth\":2}},\"shapedefaults\":{\"line\":{\"color\":\"#2a3f5f\"}},\"annotationdefaults\":{\"arrowcolor\":\"#2a3f5f\",\"arrowhead\":0,\"arrowwidth\":1},\"geo\":{\"bgcolor\":\"white\",\"landcolor\":\"#E5ECF6\",\"subunitcolor\":\"white\",\"showland\":true,\"showlakes\":true,\"lakecolor\":\"white\"},\"title\":{\"x\":0.05},\"mapbox\":{\"style\":\"light\"}}}},                        {\"responsive\": true}                    ).then(function(){\n",
              "                            \n",
              "var gd = document.getElementById('fcdc2b59-b661-4524-8444-6ecd5fb57155');\n",
              "var x = new MutationObserver(function (mutations, observer) {{\n",
              "        var display = window.getComputedStyle(gd).display;\n",
              "        if (!display || display === 'none') {{\n",
              "            console.log([gd, 'removed!']);\n",
              "            Plotly.purge(gd);\n",
              "            observer.disconnect();\n",
              "        }}\n",
              "}});\n",
              "\n",
              "// Listen for the removal of the full notebook cells\n",
              "var notebookContainer = gd.closest('#notebook-container');\n",
              "if (notebookContainer) {{\n",
              "    x.observe(notebookContainer, {childList: true});\n",
              "}}\n",
              "\n",
              "// Listen for the clearing of the current output cell\n",
              "var outputEl = gd.closest('.output');\n",
              "if (outputEl) {{\n",
              "    x.observe(outputEl, {childList: true});\n",
              "}}\n",
              "\n",
              "                        })                };                            </script>        </div>\n",
              "</body>\n",
              "</html>"
            ]
          },
          "metadata": {}
        }
      ],
      "source": [
        "fig = go.Figure(go.Funnel(\n",
        "    y = funnel['event'],\n",
        "    x = funnel['users'],\n",
        "    textposition = \"inside\",\n",
        "    textinfo = \"value+percent initial\",\n",
        "    opacity = 0.65, marker = {\"color\": [\"deepskyblue\", \"lightsalmon\", \"tan\", \"teal\", \"silver\"],\n",
        "    \"line\": {\"width\": [3, 3, 3, 3, 3, 3], \"color\": [\"wheat\", \"wheat\", \"wheat\", \"wheat\", \"wheat\"]}},\n",
        "    connector = {\"line\": {\"color\": \"royalblue\", \"dash\": \"dot\", \"width\": 3}})\n",
        "    )\n",
        "\n",
        "fig.show()"
      ]
    },
    {
      "cell_type": "markdown",
      "metadata": {
        "id": "D4cBsVzOvt79"
      },
      "source": [
        "Для пользователей из всех групп видим, что до оплаты доходит 48%, а до туториала(чтобы это ни было) всего 11%."
      ]
    },
    {
      "cell_type": "code",
      "execution_count": 32,
      "metadata": {
        "id": "SDp-8TaOvt79"
      },
      "outputs": [],
      "source": [
        "#df = df.query('event != \"Tutorial\"')"
      ]
    },
    {
      "cell_type": "markdown",
      "metadata": {
        "id": "OL1IifFevt7_"
      },
      "source": [
        "Посчитаем воронки для пользователей по группам."
      ]
    },
    {
      "cell_type": "code",
      "execution_count": 33,
      "metadata": {
        "colab": {
          "base_uri": "https://localhost:8080/",
          "height": 206
        },
        "id": "BnO5wwtHvt8A",
        "outputId": "d0d9f939-1019-444c-a15f-1ceb8b03e019"
      },
      "outputs": [
        {
          "output_type": "execute_result",
          "data": {
            "text/plain": [
              "                   event                   id                date  group  \\\n",
              "2827    MainScreenAppear  3737462046622621720 2019-08-01 00:08:00      1   \n",
              "2828    MainScreenAppear  3737462046622621720 2019-08-01 00:08:55      1   \n",
              "2829  OffersScreenAppear  3737462046622621720 2019-08-01 00:08:58      1   \n",
              "2830    MainScreenAppear  1433840883824088890 2019-08-01 00:08:59      2   \n",
              "2831    MainScreenAppear  4899590676214355127 2019-08-01 00:10:15      2   \n",
              "\n",
              "             dt  \n",
              "2827 2019-08-01  \n",
              "2828 2019-08-01  \n",
              "2829 2019-08-01  \n",
              "2830 2019-08-01  \n",
              "2831 2019-08-01  "
            ],
            "text/html": [
              "\n",
              "  <div id=\"df-64d3640f-3305-4db0-b400-b23ded8756bc\">\n",
              "    <div class=\"colab-df-container\">\n",
              "      <div>\n",
              "<style scoped>\n",
              "    .dataframe tbody tr th:only-of-type {\n",
              "        vertical-align: middle;\n",
              "    }\n",
              "\n",
              "    .dataframe tbody tr th {\n",
              "        vertical-align: top;\n",
              "    }\n",
              "\n",
              "    .dataframe thead th {\n",
              "        text-align: right;\n",
              "    }\n",
              "</style>\n",
              "<table border=\"1\" class=\"dataframe\">\n",
              "  <thead>\n",
              "    <tr style=\"text-align: right;\">\n",
              "      <th></th>\n",
              "      <th>event</th>\n",
              "      <th>id</th>\n",
              "      <th>date</th>\n",
              "      <th>group</th>\n",
              "      <th>dt</th>\n",
              "    </tr>\n",
              "  </thead>\n",
              "  <tbody>\n",
              "    <tr>\n",
              "      <th>2827</th>\n",
              "      <td>MainScreenAppear</td>\n",
              "      <td>3737462046622621720</td>\n",
              "      <td>2019-08-01 00:08:00</td>\n",
              "      <td>1</td>\n",
              "      <td>2019-08-01</td>\n",
              "    </tr>\n",
              "    <tr>\n",
              "      <th>2828</th>\n",
              "      <td>MainScreenAppear</td>\n",
              "      <td>3737462046622621720</td>\n",
              "      <td>2019-08-01 00:08:55</td>\n",
              "      <td>1</td>\n",
              "      <td>2019-08-01</td>\n",
              "    </tr>\n",
              "    <tr>\n",
              "      <th>2829</th>\n",
              "      <td>OffersScreenAppear</td>\n",
              "      <td>3737462046622621720</td>\n",
              "      <td>2019-08-01 00:08:58</td>\n",
              "      <td>1</td>\n",
              "      <td>2019-08-01</td>\n",
              "    </tr>\n",
              "    <tr>\n",
              "      <th>2830</th>\n",
              "      <td>MainScreenAppear</td>\n",
              "      <td>1433840883824088890</td>\n",
              "      <td>2019-08-01 00:08:59</td>\n",
              "      <td>2</td>\n",
              "      <td>2019-08-01</td>\n",
              "    </tr>\n",
              "    <tr>\n",
              "      <th>2831</th>\n",
              "      <td>MainScreenAppear</td>\n",
              "      <td>4899590676214355127</td>\n",
              "      <td>2019-08-01 00:10:15</td>\n",
              "      <td>2</td>\n",
              "      <td>2019-08-01</td>\n",
              "    </tr>\n",
              "  </tbody>\n",
              "</table>\n",
              "</div>\n",
              "      <button class=\"colab-df-convert\" onclick=\"convertToInteractive('df-64d3640f-3305-4db0-b400-b23ded8756bc')\"\n",
              "              title=\"Convert this dataframe to an interactive table.\"\n",
              "              style=\"display:none;\">\n",
              "        \n",
              "  <svg xmlns=\"http://www.w3.org/2000/svg\" height=\"24px\"viewBox=\"0 0 24 24\"\n",
              "       width=\"24px\">\n",
              "    <path d=\"M0 0h24v24H0V0z\" fill=\"none\"/>\n",
              "    <path d=\"M18.56 5.44l.94 2.06.94-2.06 2.06-.94-2.06-.94-.94-2.06-.94 2.06-2.06.94zm-11 1L8.5 8.5l.94-2.06 2.06-.94-2.06-.94L8.5 2.5l-.94 2.06-2.06.94zm10 10l.94 2.06.94-2.06 2.06-.94-2.06-.94-.94-2.06-.94 2.06-2.06.94z\"/><path d=\"M17.41 7.96l-1.37-1.37c-.4-.4-.92-.59-1.43-.59-.52 0-1.04.2-1.43.59L10.3 9.45l-7.72 7.72c-.78.78-.78 2.05 0 2.83L4 21.41c.39.39.9.59 1.41.59.51 0 1.02-.2 1.41-.59l7.78-7.78 2.81-2.81c.8-.78.8-2.07 0-2.86zM5.41 20L4 18.59l7.72-7.72 1.47 1.35L5.41 20z\"/>\n",
              "  </svg>\n",
              "      </button>\n",
              "      \n",
              "  <style>\n",
              "    .colab-df-container {\n",
              "      display:flex;\n",
              "      flex-wrap:wrap;\n",
              "      gap: 12px;\n",
              "    }\n",
              "\n",
              "    .colab-df-convert {\n",
              "      background-color: #E8F0FE;\n",
              "      border: none;\n",
              "      border-radius: 50%;\n",
              "      cursor: pointer;\n",
              "      display: none;\n",
              "      fill: #1967D2;\n",
              "      height: 32px;\n",
              "      padding: 0 0 0 0;\n",
              "      width: 32px;\n",
              "    }\n",
              "\n",
              "    .colab-df-convert:hover {\n",
              "      background-color: #E2EBFA;\n",
              "      box-shadow: 0px 1px 2px rgba(60, 64, 67, 0.3), 0px 1px 3px 1px rgba(60, 64, 67, 0.15);\n",
              "      fill: #174EA6;\n",
              "    }\n",
              "\n",
              "    [theme=dark] .colab-df-convert {\n",
              "      background-color: #3B4455;\n",
              "      fill: #D2E3FC;\n",
              "    }\n",
              "\n",
              "    [theme=dark] .colab-df-convert:hover {\n",
              "      background-color: #434B5C;\n",
              "      box-shadow: 0px 1px 3px 1px rgba(0, 0, 0, 0.15);\n",
              "      filter: drop-shadow(0px 1px 2px rgba(0, 0, 0, 0.3));\n",
              "      fill: #FFFFFF;\n",
              "    }\n",
              "  </style>\n",
              "\n",
              "      <script>\n",
              "        const buttonEl =\n",
              "          document.querySelector('#df-64d3640f-3305-4db0-b400-b23ded8756bc button.colab-df-convert');\n",
              "        buttonEl.style.display =\n",
              "          google.colab.kernel.accessAllowed ? 'block' : 'none';\n",
              "\n",
              "        async function convertToInteractive(key) {\n",
              "          const element = document.querySelector('#df-64d3640f-3305-4db0-b400-b23ded8756bc');\n",
              "          const dataTable =\n",
              "            await google.colab.kernel.invokeFunction('convertToInteractive',\n",
              "                                                     [key], {});\n",
              "          if (!dataTable) return;\n",
              "\n",
              "          const docLinkHtml = 'Like what you see? Visit the ' +\n",
              "            '<a target=\"_blank\" href=https://colab.research.google.com/notebooks/data_table.ipynb>data table notebook</a>'\n",
              "            + ' to learn more about interactive tables.';\n",
              "          element.innerHTML = '';\n",
              "          dataTable['output_type'] = 'display_data';\n",
              "          await google.colab.output.renderOutput(dataTable, element);\n",
              "          const docLink = document.createElement('div');\n",
              "          docLink.innerHTML = docLinkHtml;\n",
              "          element.appendChild(docLink);\n",
              "        }\n",
              "      </script>\n",
              "    </div>\n",
              "  </div>\n",
              "  "
            ]
          },
          "metadata": {},
          "execution_count": 33
        }
      ],
      "source": [
        "df.head()"
      ]
    },
    {
      "cell_type": "code",
      "execution_count": 34,
      "metadata": {
        "colab": {
          "base_uri": "https://localhost:8080/",
          "height": 425
        },
        "id": "Xvr1U_I_vt8A",
        "outputId": "4391b414-5e0c-4bc9-dd98-6e193c76b398"
      },
      "outputs": [
        {
          "output_type": "execute_result",
          "data": {
            "text/plain": [
              "    group                    event  users\n",
              "0       1         CartScreenAppear   1266\n",
              "1       1         MainScreenAppear   2450\n",
              "2       1       OffersScreenAppear   1542\n",
              "3       1  PaymentScreenSuccessful   1200\n",
              "4       2         CartScreenAppear   1238\n",
              "5       2         MainScreenAppear   2476\n",
              "6       2       OffersScreenAppear   1520\n",
              "7       2  PaymentScreenSuccessful   1158\n",
              "8       3         CartScreenAppear   1230\n",
              "9       3         MainScreenAppear   2493\n",
              "10      3       OffersScreenAppear   1531\n",
              "11      3  PaymentScreenSuccessful   1181"
            ],
            "text/html": [
              "\n",
              "  <div id=\"df-b6689fb1-f958-4060-8309-2500e50b8cb7\">\n",
              "    <div class=\"colab-df-container\">\n",
              "      <div>\n",
              "<style scoped>\n",
              "    .dataframe tbody tr th:only-of-type {\n",
              "        vertical-align: middle;\n",
              "    }\n",
              "\n",
              "    .dataframe tbody tr th {\n",
              "        vertical-align: top;\n",
              "    }\n",
              "\n",
              "    .dataframe thead th {\n",
              "        text-align: right;\n",
              "    }\n",
              "</style>\n",
              "<table border=\"1\" class=\"dataframe\">\n",
              "  <thead>\n",
              "    <tr style=\"text-align: right;\">\n",
              "      <th></th>\n",
              "      <th>group</th>\n",
              "      <th>event</th>\n",
              "      <th>users</th>\n",
              "    </tr>\n",
              "  </thead>\n",
              "  <tbody>\n",
              "    <tr>\n",
              "      <th>0</th>\n",
              "      <td>1</td>\n",
              "      <td>CartScreenAppear</td>\n",
              "      <td>1266</td>\n",
              "    </tr>\n",
              "    <tr>\n",
              "      <th>1</th>\n",
              "      <td>1</td>\n",
              "      <td>MainScreenAppear</td>\n",
              "      <td>2450</td>\n",
              "    </tr>\n",
              "    <tr>\n",
              "      <th>2</th>\n",
              "      <td>1</td>\n",
              "      <td>OffersScreenAppear</td>\n",
              "      <td>1542</td>\n",
              "    </tr>\n",
              "    <tr>\n",
              "      <th>3</th>\n",
              "      <td>1</td>\n",
              "      <td>PaymentScreenSuccessful</td>\n",
              "      <td>1200</td>\n",
              "    </tr>\n",
              "    <tr>\n",
              "      <th>4</th>\n",
              "      <td>2</td>\n",
              "      <td>CartScreenAppear</td>\n",
              "      <td>1238</td>\n",
              "    </tr>\n",
              "    <tr>\n",
              "      <th>5</th>\n",
              "      <td>2</td>\n",
              "      <td>MainScreenAppear</td>\n",
              "      <td>2476</td>\n",
              "    </tr>\n",
              "    <tr>\n",
              "      <th>6</th>\n",
              "      <td>2</td>\n",
              "      <td>OffersScreenAppear</td>\n",
              "      <td>1520</td>\n",
              "    </tr>\n",
              "    <tr>\n",
              "      <th>7</th>\n",
              "      <td>2</td>\n",
              "      <td>PaymentScreenSuccessful</td>\n",
              "      <td>1158</td>\n",
              "    </tr>\n",
              "    <tr>\n",
              "      <th>8</th>\n",
              "      <td>3</td>\n",
              "      <td>CartScreenAppear</td>\n",
              "      <td>1230</td>\n",
              "    </tr>\n",
              "    <tr>\n",
              "      <th>9</th>\n",
              "      <td>3</td>\n",
              "      <td>MainScreenAppear</td>\n",
              "      <td>2493</td>\n",
              "    </tr>\n",
              "    <tr>\n",
              "      <th>10</th>\n",
              "      <td>3</td>\n",
              "      <td>OffersScreenAppear</td>\n",
              "      <td>1531</td>\n",
              "    </tr>\n",
              "    <tr>\n",
              "      <th>11</th>\n",
              "      <td>3</td>\n",
              "      <td>PaymentScreenSuccessful</td>\n",
              "      <td>1181</td>\n",
              "    </tr>\n",
              "  </tbody>\n",
              "</table>\n",
              "</div>\n",
              "      <button class=\"colab-df-convert\" onclick=\"convertToInteractive('df-b6689fb1-f958-4060-8309-2500e50b8cb7')\"\n",
              "              title=\"Convert this dataframe to an interactive table.\"\n",
              "              style=\"display:none;\">\n",
              "        \n",
              "  <svg xmlns=\"http://www.w3.org/2000/svg\" height=\"24px\"viewBox=\"0 0 24 24\"\n",
              "       width=\"24px\">\n",
              "    <path d=\"M0 0h24v24H0V0z\" fill=\"none\"/>\n",
              "    <path d=\"M18.56 5.44l.94 2.06.94-2.06 2.06-.94-2.06-.94-.94-2.06-.94 2.06-2.06.94zm-11 1L8.5 8.5l.94-2.06 2.06-.94-2.06-.94L8.5 2.5l-.94 2.06-2.06.94zm10 10l.94 2.06.94-2.06 2.06-.94-2.06-.94-.94-2.06-.94 2.06-2.06.94z\"/><path d=\"M17.41 7.96l-1.37-1.37c-.4-.4-.92-.59-1.43-.59-.52 0-1.04.2-1.43.59L10.3 9.45l-7.72 7.72c-.78.78-.78 2.05 0 2.83L4 21.41c.39.39.9.59 1.41.59.51 0 1.02-.2 1.41-.59l7.78-7.78 2.81-2.81c.8-.78.8-2.07 0-2.86zM5.41 20L4 18.59l7.72-7.72 1.47 1.35L5.41 20z\"/>\n",
              "  </svg>\n",
              "      </button>\n",
              "      \n",
              "  <style>\n",
              "    .colab-df-container {\n",
              "      display:flex;\n",
              "      flex-wrap:wrap;\n",
              "      gap: 12px;\n",
              "    }\n",
              "\n",
              "    .colab-df-convert {\n",
              "      background-color: #E8F0FE;\n",
              "      border: none;\n",
              "      border-radius: 50%;\n",
              "      cursor: pointer;\n",
              "      display: none;\n",
              "      fill: #1967D2;\n",
              "      height: 32px;\n",
              "      padding: 0 0 0 0;\n",
              "      width: 32px;\n",
              "    }\n",
              "\n",
              "    .colab-df-convert:hover {\n",
              "      background-color: #E2EBFA;\n",
              "      box-shadow: 0px 1px 2px rgba(60, 64, 67, 0.3), 0px 1px 3px 1px rgba(60, 64, 67, 0.15);\n",
              "      fill: #174EA6;\n",
              "    }\n",
              "\n",
              "    [theme=dark] .colab-df-convert {\n",
              "      background-color: #3B4455;\n",
              "      fill: #D2E3FC;\n",
              "    }\n",
              "\n",
              "    [theme=dark] .colab-df-convert:hover {\n",
              "      background-color: #434B5C;\n",
              "      box-shadow: 0px 1px 3px 1px rgba(0, 0, 0, 0.15);\n",
              "      filter: drop-shadow(0px 1px 2px rgba(0, 0, 0, 0.3));\n",
              "      fill: #FFFFFF;\n",
              "    }\n",
              "  </style>\n",
              "\n",
              "      <script>\n",
              "        const buttonEl =\n",
              "          document.querySelector('#df-b6689fb1-f958-4060-8309-2500e50b8cb7 button.colab-df-convert');\n",
              "        buttonEl.style.display =\n",
              "          google.colab.kernel.accessAllowed ? 'block' : 'none';\n",
              "\n",
              "        async function convertToInteractive(key) {\n",
              "          const element = document.querySelector('#df-b6689fb1-f958-4060-8309-2500e50b8cb7');\n",
              "          const dataTable =\n",
              "            await google.colab.kernel.invokeFunction('convertToInteractive',\n",
              "                                                     [key], {});\n",
              "          if (!dataTable) return;\n",
              "\n",
              "          const docLinkHtml = 'Like what you see? Visit the ' +\n",
              "            '<a target=\"_blank\" href=https://colab.research.google.com/notebooks/data_table.ipynb>data table notebook</a>'\n",
              "            + ' to learn more about interactive tables.';\n",
              "          element.innerHTML = '';\n",
              "          dataTable['output_type'] = 'display_data';\n",
              "          await google.colab.output.renderOutput(dataTable, element);\n",
              "          const docLink = document.createElement('div');\n",
              "          docLink.innerHTML = docLinkHtml;\n",
              "          element.appendChild(docLink);\n",
              "        }\n",
              "      </script>\n",
              "    </div>\n",
              "  </div>\n",
              "  "
            ]
          },
          "metadata": {},
          "execution_count": 34
        }
      ],
      "source": [
        "funnel_grouped = df.groupby(['group', 'event'])['id'].nunique().reset_index().rename(columns={'id': 'users'})\n",
        "funnel_grouped"
      ]
    },
    {
      "cell_type": "code",
      "execution_count": 35,
      "metadata": {
        "scrolled": true,
        "colab": {
          "base_uri": "https://localhost:8080/",
          "height": 174
        },
        "id": "cYLhELo4vt8A",
        "outputId": "ada91d8c-e871-4c52-bda1-23d64524e921"
      },
      "outputs": [
        {
          "output_type": "execute_result",
          "data": {
            "text/plain": [
              "   index  group                    event  users\n",
              "1      1      1         MainScreenAppear   2450\n",
              "2      2      1       OffersScreenAppear   1542\n",
              "0      0      1         CartScreenAppear   1266\n",
              "3      3      1  PaymentScreenSuccessful   1200"
            ],
            "text/html": [
              "\n",
              "  <div id=\"df-230e514c-3b13-412b-8c2c-6f6a98e9b4ce\">\n",
              "    <div class=\"colab-df-container\">\n",
              "      <div>\n",
              "<style scoped>\n",
              "    .dataframe tbody tr th:only-of-type {\n",
              "        vertical-align: middle;\n",
              "    }\n",
              "\n",
              "    .dataframe tbody tr th {\n",
              "        vertical-align: top;\n",
              "    }\n",
              "\n",
              "    .dataframe thead th {\n",
              "        text-align: right;\n",
              "    }\n",
              "</style>\n",
              "<table border=\"1\" class=\"dataframe\">\n",
              "  <thead>\n",
              "    <tr style=\"text-align: right;\">\n",
              "      <th></th>\n",
              "      <th>index</th>\n",
              "      <th>group</th>\n",
              "      <th>event</th>\n",
              "      <th>users</th>\n",
              "    </tr>\n",
              "  </thead>\n",
              "  <tbody>\n",
              "    <tr>\n",
              "      <th>1</th>\n",
              "      <td>1</td>\n",
              "      <td>1</td>\n",
              "      <td>MainScreenAppear</td>\n",
              "      <td>2450</td>\n",
              "    </tr>\n",
              "    <tr>\n",
              "      <th>2</th>\n",
              "      <td>2</td>\n",
              "      <td>1</td>\n",
              "      <td>OffersScreenAppear</td>\n",
              "      <td>1542</td>\n",
              "    </tr>\n",
              "    <tr>\n",
              "      <th>0</th>\n",
              "      <td>0</td>\n",
              "      <td>1</td>\n",
              "      <td>CartScreenAppear</td>\n",
              "      <td>1266</td>\n",
              "    </tr>\n",
              "    <tr>\n",
              "      <th>3</th>\n",
              "      <td>3</td>\n",
              "      <td>1</td>\n",
              "      <td>PaymentScreenSuccessful</td>\n",
              "      <td>1200</td>\n",
              "    </tr>\n",
              "  </tbody>\n",
              "</table>\n",
              "</div>\n",
              "      <button class=\"colab-df-convert\" onclick=\"convertToInteractive('df-230e514c-3b13-412b-8c2c-6f6a98e9b4ce')\"\n",
              "              title=\"Convert this dataframe to an interactive table.\"\n",
              "              style=\"display:none;\">\n",
              "        \n",
              "  <svg xmlns=\"http://www.w3.org/2000/svg\" height=\"24px\"viewBox=\"0 0 24 24\"\n",
              "       width=\"24px\">\n",
              "    <path d=\"M0 0h24v24H0V0z\" fill=\"none\"/>\n",
              "    <path d=\"M18.56 5.44l.94 2.06.94-2.06 2.06-.94-2.06-.94-.94-2.06-.94 2.06-2.06.94zm-11 1L8.5 8.5l.94-2.06 2.06-.94-2.06-.94L8.5 2.5l-.94 2.06-2.06.94zm10 10l.94 2.06.94-2.06 2.06-.94-2.06-.94-.94-2.06-.94 2.06-2.06.94z\"/><path d=\"M17.41 7.96l-1.37-1.37c-.4-.4-.92-.59-1.43-.59-.52 0-1.04.2-1.43.59L10.3 9.45l-7.72 7.72c-.78.78-.78 2.05 0 2.83L4 21.41c.39.39.9.59 1.41.59.51 0 1.02-.2 1.41-.59l7.78-7.78 2.81-2.81c.8-.78.8-2.07 0-2.86zM5.41 20L4 18.59l7.72-7.72 1.47 1.35L5.41 20z\"/>\n",
              "  </svg>\n",
              "      </button>\n",
              "      \n",
              "  <style>\n",
              "    .colab-df-container {\n",
              "      display:flex;\n",
              "      flex-wrap:wrap;\n",
              "      gap: 12px;\n",
              "    }\n",
              "\n",
              "    .colab-df-convert {\n",
              "      background-color: #E8F0FE;\n",
              "      border: none;\n",
              "      border-radius: 50%;\n",
              "      cursor: pointer;\n",
              "      display: none;\n",
              "      fill: #1967D2;\n",
              "      height: 32px;\n",
              "      padding: 0 0 0 0;\n",
              "      width: 32px;\n",
              "    }\n",
              "\n",
              "    .colab-df-convert:hover {\n",
              "      background-color: #E2EBFA;\n",
              "      box-shadow: 0px 1px 2px rgba(60, 64, 67, 0.3), 0px 1px 3px 1px rgba(60, 64, 67, 0.15);\n",
              "      fill: #174EA6;\n",
              "    }\n",
              "\n",
              "    [theme=dark] .colab-df-convert {\n",
              "      background-color: #3B4455;\n",
              "      fill: #D2E3FC;\n",
              "    }\n",
              "\n",
              "    [theme=dark] .colab-df-convert:hover {\n",
              "      background-color: #434B5C;\n",
              "      box-shadow: 0px 1px 3px 1px rgba(0, 0, 0, 0.15);\n",
              "      filter: drop-shadow(0px 1px 2px rgba(0, 0, 0, 0.3));\n",
              "      fill: #FFFFFF;\n",
              "    }\n",
              "  </style>\n",
              "\n",
              "      <script>\n",
              "        const buttonEl =\n",
              "          document.querySelector('#df-230e514c-3b13-412b-8c2c-6f6a98e9b4ce button.colab-df-convert');\n",
              "        buttonEl.style.display =\n",
              "          google.colab.kernel.accessAllowed ? 'block' : 'none';\n",
              "\n",
              "        async function convertToInteractive(key) {\n",
              "          const element = document.querySelector('#df-230e514c-3b13-412b-8c2c-6f6a98e9b4ce');\n",
              "          const dataTable =\n",
              "            await google.colab.kernel.invokeFunction('convertToInteractive',\n",
              "                                                     [key], {});\n",
              "          if (!dataTable) return;\n",
              "\n",
              "          const docLinkHtml = 'Like what you see? Visit the ' +\n",
              "            '<a target=\"_blank\" href=https://colab.research.google.com/notebooks/data_table.ipynb>data table notebook</a>'\n",
              "            + ' to learn more about interactive tables.';\n",
              "          element.innerHTML = '';\n",
              "          dataTable['output_type'] = 'display_data';\n",
              "          await google.colab.output.renderOutput(dataTable, element);\n",
              "          const docLink = document.createElement('div');\n",
              "          docLink.innerHTML = docLinkHtml;\n",
              "          element.appendChild(docLink);\n",
              "        }\n",
              "      </script>\n",
              "    </div>\n",
              "  </div>\n",
              "  "
            ]
          },
          "metadata": {},
          "execution_count": 35
        }
      ],
      "source": [
        "funnel_1 = funnel_grouped.query('group == 1').reset_index().sort_values(by = 'users', ascending = False)\n",
        "funnel_1"
      ]
    },
    {
      "cell_type": "code",
      "execution_count": 36,
      "metadata": {
        "colab": {
          "base_uri": "https://localhost:8080/",
          "height": 174
        },
        "id": "CtDToBn1vt8B",
        "outputId": "aeb6712b-1442-47bf-c304-7356e6d80754"
      },
      "outputs": [
        {
          "output_type": "execute_result",
          "data": {
            "text/plain": [
              "   index  group                    event  users\n",
              "1      5      2         MainScreenAppear   2476\n",
              "2      6      2       OffersScreenAppear   1520\n",
              "0      4      2         CartScreenAppear   1238\n",
              "3      7      2  PaymentScreenSuccessful   1158"
            ],
            "text/html": [
              "\n",
              "  <div id=\"df-0d93447d-beed-4cb0-9fa1-c24ce36962a3\">\n",
              "    <div class=\"colab-df-container\">\n",
              "      <div>\n",
              "<style scoped>\n",
              "    .dataframe tbody tr th:only-of-type {\n",
              "        vertical-align: middle;\n",
              "    }\n",
              "\n",
              "    .dataframe tbody tr th {\n",
              "        vertical-align: top;\n",
              "    }\n",
              "\n",
              "    .dataframe thead th {\n",
              "        text-align: right;\n",
              "    }\n",
              "</style>\n",
              "<table border=\"1\" class=\"dataframe\">\n",
              "  <thead>\n",
              "    <tr style=\"text-align: right;\">\n",
              "      <th></th>\n",
              "      <th>index</th>\n",
              "      <th>group</th>\n",
              "      <th>event</th>\n",
              "      <th>users</th>\n",
              "    </tr>\n",
              "  </thead>\n",
              "  <tbody>\n",
              "    <tr>\n",
              "      <th>1</th>\n",
              "      <td>5</td>\n",
              "      <td>2</td>\n",
              "      <td>MainScreenAppear</td>\n",
              "      <td>2476</td>\n",
              "    </tr>\n",
              "    <tr>\n",
              "      <th>2</th>\n",
              "      <td>6</td>\n",
              "      <td>2</td>\n",
              "      <td>OffersScreenAppear</td>\n",
              "      <td>1520</td>\n",
              "    </tr>\n",
              "    <tr>\n",
              "      <th>0</th>\n",
              "      <td>4</td>\n",
              "      <td>2</td>\n",
              "      <td>CartScreenAppear</td>\n",
              "      <td>1238</td>\n",
              "    </tr>\n",
              "    <tr>\n",
              "      <th>3</th>\n",
              "      <td>7</td>\n",
              "      <td>2</td>\n",
              "      <td>PaymentScreenSuccessful</td>\n",
              "      <td>1158</td>\n",
              "    </tr>\n",
              "  </tbody>\n",
              "</table>\n",
              "</div>\n",
              "      <button class=\"colab-df-convert\" onclick=\"convertToInteractive('df-0d93447d-beed-4cb0-9fa1-c24ce36962a3')\"\n",
              "              title=\"Convert this dataframe to an interactive table.\"\n",
              "              style=\"display:none;\">\n",
              "        \n",
              "  <svg xmlns=\"http://www.w3.org/2000/svg\" height=\"24px\"viewBox=\"0 0 24 24\"\n",
              "       width=\"24px\">\n",
              "    <path d=\"M0 0h24v24H0V0z\" fill=\"none\"/>\n",
              "    <path d=\"M18.56 5.44l.94 2.06.94-2.06 2.06-.94-2.06-.94-.94-2.06-.94 2.06-2.06.94zm-11 1L8.5 8.5l.94-2.06 2.06-.94-2.06-.94L8.5 2.5l-.94 2.06-2.06.94zm10 10l.94 2.06.94-2.06 2.06-.94-2.06-.94-.94-2.06-.94 2.06-2.06.94z\"/><path d=\"M17.41 7.96l-1.37-1.37c-.4-.4-.92-.59-1.43-.59-.52 0-1.04.2-1.43.59L10.3 9.45l-7.72 7.72c-.78.78-.78 2.05 0 2.83L4 21.41c.39.39.9.59 1.41.59.51 0 1.02-.2 1.41-.59l7.78-7.78 2.81-2.81c.8-.78.8-2.07 0-2.86zM5.41 20L4 18.59l7.72-7.72 1.47 1.35L5.41 20z\"/>\n",
              "  </svg>\n",
              "      </button>\n",
              "      \n",
              "  <style>\n",
              "    .colab-df-container {\n",
              "      display:flex;\n",
              "      flex-wrap:wrap;\n",
              "      gap: 12px;\n",
              "    }\n",
              "\n",
              "    .colab-df-convert {\n",
              "      background-color: #E8F0FE;\n",
              "      border: none;\n",
              "      border-radius: 50%;\n",
              "      cursor: pointer;\n",
              "      display: none;\n",
              "      fill: #1967D2;\n",
              "      height: 32px;\n",
              "      padding: 0 0 0 0;\n",
              "      width: 32px;\n",
              "    }\n",
              "\n",
              "    .colab-df-convert:hover {\n",
              "      background-color: #E2EBFA;\n",
              "      box-shadow: 0px 1px 2px rgba(60, 64, 67, 0.3), 0px 1px 3px 1px rgba(60, 64, 67, 0.15);\n",
              "      fill: #174EA6;\n",
              "    }\n",
              "\n",
              "    [theme=dark] .colab-df-convert {\n",
              "      background-color: #3B4455;\n",
              "      fill: #D2E3FC;\n",
              "    }\n",
              "\n",
              "    [theme=dark] .colab-df-convert:hover {\n",
              "      background-color: #434B5C;\n",
              "      box-shadow: 0px 1px 3px 1px rgba(0, 0, 0, 0.15);\n",
              "      filter: drop-shadow(0px 1px 2px rgba(0, 0, 0, 0.3));\n",
              "      fill: #FFFFFF;\n",
              "    }\n",
              "  </style>\n",
              "\n",
              "      <script>\n",
              "        const buttonEl =\n",
              "          document.querySelector('#df-0d93447d-beed-4cb0-9fa1-c24ce36962a3 button.colab-df-convert');\n",
              "        buttonEl.style.display =\n",
              "          google.colab.kernel.accessAllowed ? 'block' : 'none';\n",
              "\n",
              "        async function convertToInteractive(key) {\n",
              "          const element = document.querySelector('#df-0d93447d-beed-4cb0-9fa1-c24ce36962a3');\n",
              "          const dataTable =\n",
              "            await google.colab.kernel.invokeFunction('convertToInteractive',\n",
              "                                                     [key], {});\n",
              "          if (!dataTable) return;\n",
              "\n",
              "          const docLinkHtml = 'Like what you see? Visit the ' +\n",
              "            '<a target=\"_blank\" href=https://colab.research.google.com/notebooks/data_table.ipynb>data table notebook</a>'\n",
              "            + ' to learn more about interactive tables.';\n",
              "          element.innerHTML = '';\n",
              "          dataTable['output_type'] = 'display_data';\n",
              "          await google.colab.output.renderOutput(dataTable, element);\n",
              "          const docLink = document.createElement('div');\n",
              "          docLink.innerHTML = docLinkHtml;\n",
              "          element.appendChild(docLink);\n",
              "        }\n",
              "      </script>\n",
              "    </div>\n",
              "  </div>\n",
              "  "
            ]
          },
          "metadata": {},
          "execution_count": 36
        }
      ],
      "source": [
        "funnel_2 = funnel_grouped.query('group == 2').reset_index().sort_values(by = 'users', ascending = False)\n",
        "funnel_2"
      ]
    },
    {
      "cell_type": "code",
      "execution_count": 37,
      "metadata": {
        "colab": {
          "base_uri": "https://localhost:8080/",
          "height": 174
        },
        "id": "J8Nxe6pLvt8B",
        "outputId": "d17432d5-1a8d-419f-efc9-0a34621e38bb"
      },
      "outputs": [
        {
          "output_type": "execute_result",
          "data": {
            "text/plain": [
              "   index  group                    event  users\n",
              "1      9      3         MainScreenAppear   2493\n",
              "2     10      3       OffersScreenAppear   1531\n",
              "0      8      3         CartScreenAppear   1230\n",
              "3     11      3  PaymentScreenSuccessful   1181"
            ],
            "text/html": [
              "\n",
              "  <div id=\"df-7b96d0c5-8524-46b7-be01-d622dc9bf457\">\n",
              "    <div class=\"colab-df-container\">\n",
              "      <div>\n",
              "<style scoped>\n",
              "    .dataframe tbody tr th:only-of-type {\n",
              "        vertical-align: middle;\n",
              "    }\n",
              "\n",
              "    .dataframe tbody tr th {\n",
              "        vertical-align: top;\n",
              "    }\n",
              "\n",
              "    .dataframe thead th {\n",
              "        text-align: right;\n",
              "    }\n",
              "</style>\n",
              "<table border=\"1\" class=\"dataframe\">\n",
              "  <thead>\n",
              "    <tr style=\"text-align: right;\">\n",
              "      <th></th>\n",
              "      <th>index</th>\n",
              "      <th>group</th>\n",
              "      <th>event</th>\n",
              "      <th>users</th>\n",
              "    </tr>\n",
              "  </thead>\n",
              "  <tbody>\n",
              "    <tr>\n",
              "      <th>1</th>\n",
              "      <td>9</td>\n",
              "      <td>3</td>\n",
              "      <td>MainScreenAppear</td>\n",
              "      <td>2493</td>\n",
              "    </tr>\n",
              "    <tr>\n",
              "      <th>2</th>\n",
              "      <td>10</td>\n",
              "      <td>3</td>\n",
              "      <td>OffersScreenAppear</td>\n",
              "      <td>1531</td>\n",
              "    </tr>\n",
              "    <tr>\n",
              "      <th>0</th>\n",
              "      <td>8</td>\n",
              "      <td>3</td>\n",
              "      <td>CartScreenAppear</td>\n",
              "      <td>1230</td>\n",
              "    </tr>\n",
              "    <tr>\n",
              "      <th>3</th>\n",
              "      <td>11</td>\n",
              "      <td>3</td>\n",
              "      <td>PaymentScreenSuccessful</td>\n",
              "      <td>1181</td>\n",
              "    </tr>\n",
              "  </tbody>\n",
              "</table>\n",
              "</div>\n",
              "      <button class=\"colab-df-convert\" onclick=\"convertToInteractive('df-7b96d0c5-8524-46b7-be01-d622dc9bf457')\"\n",
              "              title=\"Convert this dataframe to an interactive table.\"\n",
              "              style=\"display:none;\">\n",
              "        \n",
              "  <svg xmlns=\"http://www.w3.org/2000/svg\" height=\"24px\"viewBox=\"0 0 24 24\"\n",
              "       width=\"24px\">\n",
              "    <path d=\"M0 0h24v24H0V0z\" fill=\"none\"/>\n",
              "    <path d=\"M18.56 5.44l.94 2.06.94-2.06 2.06-.94-2.06-.94-.94-2.06-.94 2.06-2.06.94zm-11 1L8.5 8.5l.94-2.06 2.06-.94-2.06-.94L8.5 2.5l-.94 2.06-2.06.94zm10 10l.94 2.06.94-2.06 2.06-.94-2.06-.94-.94-2.06-.94 2.06-2.06.94z\"/><path d=\"M17.41 7.96l-1.37-1.37c-.4-.4-.92-.59-1.43-.59-.52 0-1.04.2-1.43.59L10.3 9.45l-7.72 7.72c-.78.78-.78 2.05 0 2.83L4 21.41c.39.39.9.59 1.41.59.51 0 1.02-.2 1.41-.59l7.78-7.78 2.81-2.81c.8-.78.8-2.07 0-2.86zM5.41 20L4 18.59l7.72-7.72 1.47 1.35L5.41 20z\"/>\n",
              "  </svg>\n",
              "      </button>\n",
              "      \n",
              "  <style>\n",
              "    .colab-df-container {\n",
              "      display:flex;\n",
              "      flex-wrap:wrap;\n",
              "      gap: 12px;\n",
              "    }\n",
              "\n",
              "    .colab-df-convert {\n",
              "      background-color: #E8F0FE;\n",
              "      border: none;\n",
              "      border-radius: 50%;\n",
              "      cursor: pointer;\n",
              "      display: none;\n",
              "      fill: #1967D2;\n",
              "      height: 32px;\n",
              "      padding: 0 0 0 0;\n",
              "      width: 32px;\n",
              "    }\n",
              "\n",
              "    .colab-df-convert:hover {\n",
              "      background-color: #E2EBFA;\n",
              "      box-shadow: 0px 1px 2px rgba(60, 64, 67, 0.3), 0px 1px 3px 1px rgba(60, 64, 67, 0.15);\n",
              "      fill: #174EA6;\n",
              "    }\n",
              "\n",
              "    [theme=dark] .colab-df-convert {\n",
              "      background-color: #3B4455;\n",
              "      fill: #D2E3FC;\n",
              "    }\n",
              "\n",
              "    [theme=dark] .colab-df-convert:hover {\n",
              "      background-color: #434B5C;\n",
              "      box-shadow: 0px 1px 3px 1px rgba(0, 0, 0, 0.15);\n",
              "      filter: drop-shadow(0px 1px 2px rgba(0, 0, 0, 0.3));\n",
              "      fill: #FFFFFF;\n",
              "    }\n",
              "  </style>\n",
              "\n",
              "      <script>\n",
              "        const buttonEl =\n",
              "          document.querySelector('#df-7b96d0c5-8524-46b7-be01-d622dc9bf457 button.colab-df-convert');\n",
              "        buttonEl.style.display =\n",
              "          google.colab.kernel.accessAllowed ? 'block' : 'none';\n",
              "\n",
              "        async function convertToInteractive(key) {\n",
              "          const element = document.querySelector('#df-7b96d0c5-8524-46b7-be01-d622dc9bf457');\n",
              "          const dataTable =\n",
              "            await google.colab.kernel.invokeFunction('convertToInteractive',\n",
              "                                                     [key], {});\n",
              "          if (!dataTable) return;\n",
              "\n",
              "          const docLinkHtml = 'Like what you see? Visit the ' +\n",
              "            '<a target=\"_blank\" href=https://colab.research.google.com/notebooks/data_table.ipynb>data table notebook</a>'\n",
              "            + ' to learn more about interactive tables.';\n",
              "          element.innerHTML = '';\n",
              "          dataTable['output_type'] = 'display_data';\n",
              "          await google.colab.output.renderOutput(dataTable, element);\n",
              "          const docLink = document.createElement('div');\n",
              "          docLink.innerHTML = docLinkHtml;\n",
              "          element.appendChild(docLink);\n",
              "        }\n",
              "      </script>\n",
              "    </div>\n",
              "  </div>\n",
              "  "
            ]
          },
          "metadata": {},
          "execution_count": 37
        }
      ],
      "source": [
        "funnel_3 = funnel_grouped.query('group == 3').reset_index().sort_values(by = 'users', ascending = False)\n",
        "funnel_3"
      ]
    },
    {
      "cell_type": "markdown",
      "metadata": {
        "id": "1Hu2D4myvt8C"
      },
      "source": [
        "Покажем воронки на графике."
      ]
    },
    {
      "cell_type": "code",
      "execution_count": 38,
      "metadata": {
        "colab": {
          "base_uri": "https://localhost:8080/",
          "height": 542
        },
        "id": "duNh8Kmfvt8C",
        "outputId": "0ee3b531-3a49-44f5-e3fa-73f0ca4a1532"
      },
      "outputs": [
        {
          "output_type": "display_data",
          "data": {
            "text/html": [
              "<html>\n",
              "<head><meta charset=\"utf-8\" /></head>\n",
              "<body>\n",
              "    <div>            <script src=\"https://cdnjs.cloudflare.com/ajax/libs/mathjax/2.7.5/MathJax.js?config=TeX-AMS-MML_SVG\"></script><script type=\"text/javascript\">if (window.MathJax && window.MathJax.Hub && window.MathJax.Hub.Config) {window.MathJax.Hub.Config({SVG: {font: \"STIX-Web\"}});}</script>                <script type=\"text/javascript\">window.PlotlyConfig = {MathJaxConfig: 'local'};</script>\n",
              "        <script src=\"https://cdn.plot.ly/plotly-2.18.2.min.js\"></script>                <div id=\"6001e16c-8501-477d-b549-4752259dad2a\" class=\"plotly-graph-div\" style=\"height:525px; width:100%;\"></div>            <script type=\"text/javascript\">                                    window.PLOTLYENV=window.PLOTLYENV || {};                                    if (document.getElementById(\"6001e16c-8501-477d-b549-4752259dad2a\")) {                    Plotly.newPlot(                        \"6001e16c-8501-477d-b549-4752259dad2a\",                        [{\"name\":\"Group 1\",\"textinfo\":\"value+percent initial\",\"x\":[2450,1542,1266,1200],\"y\":[\"MainScreenAppear\",\"OffersScreenAppear\",\"CartScreenAppear\",\"PaymentScreenSuccessful\"],\"type\":\"funnel\"},{\"name\":\"Group 2\",\"orientation\":\"h\",\"textinfo\":\"value+percent initial\",\"textposition\":\"inside\",\"x\":[2476,1520,1238,1158],\"y\":[\"MainScreenAppear\",\"OffersScreenAppear\",\"CartScreenAppear\",\"PaymentScreenSuccessful\"],\"type\":\"funnel\"},{\"name\":\"Group 3\",\"orientation\":\"h\",\"textinfo\":\"value+percent initial\",\"textposition\":\"inside\",\"x\":[2493,1531,1230,1181],\"y\":[\"MainScreenAppear\",\"OffersScreenAppear\",\"CartScreenAppear\",\"PaymentScreenSuccessful\"],\"type\":\"funnel\"}],                        {\"template\":{\"data\":{\"histogram2dcontour\":[{\"type\":\"histogram2dcontour\",\"colorbar\":{\"outlinewidth\":0,\"ticks\":\"\"},\"colorscale\":[[0.0,\"#0d0887\"],[0.1111111111111111,\"#46039f\"],[0.2222222222222222,\"#7201a8\"],[0.3333333333333333,\"#9c179e\"],[0.4444444444444444,\"#bd3786\"],[0.5555555555555556,\"#d8576b\"],[0.6666666666666666,\"#ed7953\"],[0.7777777777777778,\"#fb9f3a\"],[0.8888888888888888,\"#fdca26\"],[1.0,\"#f0f921\"]]}],\"choropleth\":[{\"type\":\"choropleth\",\"colorbar\":{\"outlinewidth\":0,\"ticks\":\"\"}}],\"histogram2d\":[{\"type\":\"histogram2d\",\"colorbar\":{\"outlinewidth\":0,\"ticks\":\"\"},\"colorscale\":[[0.0,\"#0d0887\"],[0.1111111111111111,\"#46039f\"],[0.2222222222222222,\"#7201a8\"],[0.3333333333333333,\"#9c179e\"],[0.4444444444444444,\"#bd3786\"],[0.5555555555555556,\"#d8576b\"],[0.6666666666666666,\"#ed7953\"],[0.7777777777777778,\"#fb9f3a\"],[0.8888888888888888,\"#fdca26\"],[1.0,\"#f0f921\"]]}],\"heatmap\":[{\"type\":\"heatmap\",\"colorbar\":{\"outlinewidth\":0,\"ticks\":\"\"},\"colorscale\":[[0.0,\"#0d0887\"],[0.1111111111111111,\"#46039f\"],[0.2222222222222222,\"#7201a8\"],[0.3333333333333333,\"#9c179e\"],[0.4444444444444444,\"#bd3786\"],[0.5555555555555556,\"#d8576b\"],[0.6666666666666666,\"#ed7953\"],[0.7777777777777778,\"#fb9f3a\"],[0.8888888888888888,\"#fdca26\"],[1.0,\"#f0f921\"]]}],\"heatmapgl\":[{\"type\":\"heatmapgl\",\"colorbar\":{\"outlinewidth\":0,\"ticks\":\"\"},\"colorscale\":[[0.0,\"#0d0887\"],[0.1111111111111111,\"#46039f\"],[0.2222222222222222,\"#7201a8\"],[0.3333333333333333,\"#9c179e\"],[0.4444444444444444,\"#bd3786\"],[0.5555555555555556,\"#d8576b\"],[0.6666666666666666,\"#ed7953\"],[0.7777777777777778,\"#fb9f3a\"],[0.8888888888888888,\"#fdca26\"],[1.0,\"#f0f921\"]]}],\"contourcarpet\":[{\"type\":\"contourcarpet\",\"colorbar\":{\"outlinewidth\":0,\"ticks\":\"\"}}],\"contour\":[{\"type\":\"contour\",\"colorbar\":{\"outlinewidth\":0,\"ticks\":\"\"},\"colorscale\":[[0.0,\"#0d0887\"],[0.1111111111111111,\"#46039f\"],[0.2222222222222222,\"#7201a8\"],[0.3333333333333333,\"#9c179e\"],[0.4444444444444444,\"#bd3786\"],[0.5555555555555556,\"#d8576b\"],[0.6666666666666666,\"#ed7953\"],[0.7777777777777778,\"#fb9f3a\"],[0.8888888888888888,\"#fdca26\"],[1.0,\"#f0f921\"]]}],\"surface\":[{\"type\":\"surface\",\"colorbar\":{\"outlinewidth\":0,\"ticks\":\"\"},\"colorscale\":[[0.0,\"#0d0887\"],[0.1111111111111111,\"#46039f\"],[0.2222222222222222,\"#7201a8\"],[0.3333333333333333,\"#9c179e\"],[0.4444444444444444,\"#bd3786\"],[0.5555555555555556,\"#d8576b\"],[0.6666666666666666,\"#ed7953\"],[0.7777777777777778,\"#fb9f3a\"],[0.8888888888888888,\"#fdca26\"],[1.0,\"#f0f921\"]]}],\"mesh3d\":[{\"type\":\"mesh3d\",\"colorbar\":{\"outlinewidth\":0,\"ticks\":\"\"}}],\"scatter\":[{\"fillpattern\":{\"fillmode\":\"overlay\",\"size\":10,\"solidity\":0.2},\"type\":\"scatter\"}],\"parcoords\":[{\"type\":\"parcoords\",\"line\":{\"colorbar\":{\"outlinewidth\":0,\"ticks\":\"\"}}}],\"scatterpolargl\":[{\"type\":\"scatterpolargl\",\"marker\":{\"colorbar\":{\"outlinewidth\":0,\"ticks\":\"\"}}}],\"bar\":[{\"error_x\":{\"color\":\"#2a3f5f\"},\"error_y\":{\"color\":\"#2a3f5f\"},\"marker\":{\"line\":{\"color\":\"#E5ECF6\",\"width\":0.5},\"pattern\":{\"fillmode\":\"overlay\",\"size\":10,\"solidity\":0.2}},\"type\":\"bar\"}],\"scattergeo\":[{\"type\":\"scattergeo\",\"marker\":{\"colorbar\":{\"outlinewidth\":0,\"ticks\":\"\"}}}],\"scatterpolar\":[{\"type\":\"scatterpolar\",\"marker\":{\"colorbar\":{\"outlinewidth\":0,\"ticks\":\"\"}}}],\"histogram\":[{\"marker\":{\"pattern\":{\"fillmode\":\"overlay\",\"size\":10,\"solidity\":0.2}},\"type\":\"histogram\"}],\"scattergl\":[{\"type\":\"scattergl\",\"marker\":{\"colorbar\":{\"outlinewidth\":0,\"ticks\":\"\"}}}],\"scatter3d\":[{\"type\":\"scatter3d\",\"line\":{\"colorbar\":{\"outlinewidth\":0,\"ticks\":\"\"}},\"marker\":{\"colorbar\":{\"outlinewidth\":0,\"ticks\":\"\"}}}],\"scattermapbox\":[{\"type\":\"scattermapbox\",\"marker\":{\"colorbar\":{\"outlinewidth\":0,\"ticks\":\"\"}}}],\"scatterternary\":[{\"type\":\"scatterternary\",\"marker\":{\"colorbar\":{\"outlinewidth\":0,\"ticks\":\"\"}}}],\"scattercarpet\":[{\"type\":\"scattercarpet\",\"marker\":{\"colorbar\":{\"outlinewidth\":0,\"ticks\":\"\"}}}],\"carpet\":[{\"aaxis\":{\"endlinecolor\":\"#2a3f5f\",\"gridcolor\":\"white\",\"linecolor\":\"white\",\"minorgridcolor\":\"white\",\"startlinecolor\":\"#2a3f5f\"},\"baxis\":{\"endlinecolor\":\"#2a3f5f\",\"gridcolor\":\"white\",\"linecolor\":\"white\",\"minorgridcolor\":\"white\",\"startlinecolor\":\"#2a3f5f\"},\"type\":\"carpet\"}],\"table\":[{\"cells\":{\"fill\":{\"color\":\"#EBF0F8\"},\"line\":{\"color\":\"white\"}},\"header\":{\"fill\":{\"color\":\"#C8D4E3\"},\"line\":{\"color\":\"white\"}},\"type\":\"table\"}],\"barpolar\":[{\"marker\":{\"line\":{\"color\":\"#E5ECF6\",\"width\":0.5},\"pattern\":{\"fillmode\":\"overlay\",\"size\":10,\"solidity\":0.2}},\"type\":\"barpolar\"}],\"pie\":[{\"automargin\":true,\"type\":\"pie\"}]},\"layout\":{\"autotypenumbers\":\"strict\",\"colorway\":[\"#636efa\",\"#EF553B\",\"#00cc96\",\"#ab63fa\",\"#FFA15A\",\"#19d3f3\",\"#FF6692\",\"#B6E880\",\"#FF97FF\",\"#FECB52\"],\"font\":{\"color\":\"#2a3f5f\"},\"hovermode\":\"closest\",\"hoverlabel\":{\"align\":\"left\"},\"paper_bgcolor\":\"white\",\"plot_bgcolor\":\"#E5ECF6\",\"polar\":{\"bgcolor\":\"#E5ECF6\",\"angularaxis\":{\"gridcolor\":\"white\",\"linecolor\":\"white\",\"ticks\":\"\"},\"radialaxis\":{\"gridcolor\":\"white\",\"linecolor\":\"white\",\"ticks\":\"\"}},\"ternary\":{\"bgcolor\":\"#E5ECF6\",\"aaxis\":{\"gridcolor\":\"white\",\"linecolor\":\"white\",\"ticks\":\"\"},\"baxis\":{\"gridcolor\":\"white\",\"linecolor\":\"white\",\"ticks\":\"\"},\"caxis\":{\"gridcolor\":\"white\",\"linecolor\":\"white\",\"ticks\":\"\"}},\"coloraxis\":{\"colorbar\":{\"outlinewidth\":0,\"ticks\":\"\"}},\"colorscale\":{\"sequential\":[[0.0,\"#0d0887\"],[0.1111111111111111,\"#46039f\"],[0.2222222222222222,\"#7201a8\"],[0.3333333333333333,\"#9c179e\"],[0.4444444444444444,\"#bd3786\"],[0.5555555555555556,\"#d8576b\"],[0.6666666666666666,\"#ed7953\"],[0.7777777777777778,\"#fb9f3a\"],[0.8888888888888888,\"#fdca26\"],[1.0,\"#f0f921\"]],\"sequentialminus\":[[0.0,\"#0d0887\"],[0.1111111111111111,\"#46039f\"],[0.2222222222222222,\"#7201a8\"],[0.3333333333333333,\"#9c179e\"],[0.4444444444444444,\"#bd3786\"],[0.5555555555555556,\"#d8576b\"],[0.6666666666666666,\"#ed7953\"],[0.7777777777777778,\"#fb9f3a\"],[0.8888888888888888,\"#fdca26\"],[1.0,\"#f0f921\"]],\"diverging\":[[0,\"#8e0152\"],[0.1,\"#c51b7d\"],[0.2,\"#de77ae\"],[0.3,\"#f1b6da\"],[0.4,\"#fde0ef\"],[0.5,\"#f7f7f7\"],[0.6,\"#e6f5d0\"],[0.7,\"#b8e186\"],[0.8,\"#7fbc41\"],[0.9,\"#4d9221\"],[1,\"#276419\"]]},\"xaxis\":{\"gridcolor\":\"white\",\"linecolor\":\"white\",\"ticks\":\"\",\"title\":{\"standoff\":15},\"zerolinecolor\":\"white\",\"automargin\":true,\"zerolinewidth\":2},\"yaxis\":{\"gridcolor\":\"white\",\"linecolor\":\"white\",\"ticks\":\"\",\"title\":{\"standoff\":15},\"zerolinecolor\":\"white\",\"automargin\":true,\"zerolinewidth\":2},\"scene\":{\"xaxis\":{\"backgroundcolor\":\"#E5ECF6\",\"gridcolor\":\"white\",\"linecolor\":\"white\",\"showbackground\":true,\"ticks\":\"\",\"zerolinecolor\":\"white\",\"gridwidth\":2},\"yaxis\":{\"backgroundcolor\":\"#E5ECF6\",\"gridcolor\":\"white\",\"linecolor\":\"white\",\"showbackground\":true,\"ticks\":\"\",\"zerolinecolor\":\"white\",\"gridwidth\":2},\"zaxis\":{\"backgroundcolor\":\"#E5ECF6\",\"gridcolor\":\"white\",\"linecolor\":\"white\",\"showbackground\":true,\"ticks\":\"\",\"zerolinecolor\":\"white\",\"gridwidth\":2}},\"shapedefaults\":{\"line\":{\"color\":\"#2a3f5f\"}},\"annotationdefaults\":{\"arrowcolor\":\"#2a3f5f\",\"arrowhead\":0,\"arrowwidth\":1},\"geo\":{\"bgcolor\":\"white\",\"landcolor\":\"#E5ECF6\",\"subunitcolor\":\"white\",\"showland\":true,\"showlakes\":true,\"lakecolor\":\"white\"},\"title\":{\"x\":0.05},\"mapbox\":{\"style\":\"light\"}}}},                        {\"responsive\": true}                    ).then(function(){\n",
              "                            \n",
              "var gd = document.getElementById('6001e16c-8501-477d-b549-4752259dad2a');\n",
              "var x = new MutationObserver(function (mutations, observer) {{\n",
              "        var display = window.getComputedStyle(gd).display;\n",
              "        if (!display || display === 'none') {{\n",
              "            console.log([gd, 'removed!']);\n",
              "            Plotly.purge(gd);\n",
              "            observer.disconnect();\n",
              "        }}\n",
              "}});\n",
              "\n",
              "// Listen for the removal of the full notebook cells\n",
              "var notebookContainer = gd.closest('#notebook-container');\n",
              "if (notebookContainer) {{\n",
              "    x.observe(notebookContainer, {childList: true});\n",
              "}}\n",
              "\n",
              "// Listen for the clearing of the current output cell\n",
              "var outputEl = gd.closest('.output');\n",
              "if (outputEl) {{\n",
              "    x.observe(outputEl, {childList: true});\n",
              "}}\n",
              "\n",
              "                        })                };                            </script>        </div>\n",
              "</body>\n",
              "</html>"
            ]
          },
          "metadata": {}
        }
      ],
      "source": [
        "fig = go.Figure()\n",
        "\n",
        "fig.add_trace(go.Funnel(\n",
        "    name = 'Group 1',\n",
        "    y = funnel_1['event'],\n",
        "    x = funnel_1['users'],\n",
        "    textinfo = \"value+percent initial\"))\n",
        "\n",
        "fig.add_trace(go.Funnel(\n",
        "    name = 'Group 2',\n",
        "    orientation = \"h\",\n",
        "    y = funnel_2['event'],\n",
        "    x = funnel_2['users'],\n",
        "    textposition = \"inside\",\n",
        "    textinfo = \"value+percent initial\"))\n",
        "\n",
        "fig.add_trace(go.Funnel(\n",
        "    name = 'Group 3',\n",
        "    orientation = \"h\",\n",
        "    y = funnel_3['event'],\n",
        "    x = funnel_3['users'],\n",
        "    textposition = \"inside\",\n",
        "    textinfo = \"value+percent initial\"))\n",
        "\n",
        "fig.show()"
      ]
    },
    {
      "cell_type": "markdown",
      "metadata": {
        "id": "awtRStzpvt8D"
      },
      "source": [
        "Картина для каждой группы примерно одинаковая:\n",
        "\n",
        "До второго шага доходит только 61-63% пользователей, а до оплаты только 47%.\n",
        "\n",
        "Больше всего теряется на 2м шаге, не считая туториала.\n",
        "\n",
        "Так же если пользователь добавил товар в корзину, то он его скорее всего покупает."
      ]
    },
    {
      "cell_type": "markdown",
      "metadata": {
        "id": "Mc8LEHUxvt8E"
      },
      "source": [
        "## Проверка результатов эксперимента"
      ]
    },
    {
      "cell_type": "markdown",
      "metadata": {
        "id": "EwP1qHV0vt8E"
      },
      "source": [
        "Критерии успешного A/A теста:\n",
        "\n",
        "Количество пользователей в различных группах различается не более, чем на 1%;\n",
        "\n",
        "Для всех групп фиксируют и отправляют в системы аналитики данные об одном и том же;\n",
        "\n",
        "Различие ключевых метрик по группам не превышает 1% и не имеет статистической значимости;\n",
        "\n",
        "Попавший в одну из групп посетитель остаётся в этой группе до конца теста."
      ]
    },
    {
      "cell_type": "markdown",
      "metadata": {
        "id": "Huy1VdXNvt8F"
      },
      "source": [
        "Ранее мы уже проверили, что нет пользователей попавших в разные группы."
      ]
    },
    {
      "cell_type": "markdown",
      "metadata": {
        "id": "XltUM0SKvt8F"
      },
      "source": [
        "Проверим разницу в количестве:"
      ]
    },
    {
      "cell_type": "code",
      "execution_count": 39,
      "metadata": {
        "colab": {
          "base_uri": "https://localhost:8080/"
        },
        "id": "E9kuL117vt8G",
        "outputId": "0337661e-8678-4a82-a89c-8ddc6d9cd0da"
      },
      "outputs": [
        {
          "output_type": "stream",
          "name": "stdout",
          "text": [
            "Разница между 1й и 2й группой: 1.15 %\n"
          ]
        }
      ],
      "source": [
        "print('Разница между 1й и 2й группой:', round(((1 - df.query('group == 1')['id'].nunique()/df.query('group == 2')['id'].nunique())*100), 2), '%')"
      ]
    },
    {
      "cell_type": "markdown",
      "metadata": {
        "id": "7xomIQEYvt8G"
      },
      "source": [
        "Я думаю можем считать что разница очень мала, хоть она и немного больше 1%.\n",
        "\n",
        "По хорошему разница должна быть меньше 1%, а то и 0.5%, но в рамках проекта мы не можем отменить тест, поэтому Считаем, что группы идентичны."
      ]
    },
    {
      "cell_type": "markdown",
      "metadata": {
        "id": "WKIcQH8Pvt8G"
      },
      "source": [
        "Какие данные отсылают мы не можем проверить. Значит верим источнику."
      ]
    },
    {
      "cell_type": "markdown",
      "metadata": {
        "id": "JMyrhNiIvt8H"
      },
      "source": [
        "Проверим различия метрик:"
      ]
    },
    {
      "cell_type": "code",
      "execution_count": 40,
      "metadata": {
        "scrolled": false,
        "colab": {
          "base_uri": "https://localhost:8080/",
          "height": 206
        },
        "id": "tzJ1Ppqdvt8H",
        "outputId": "29e120f9-fe06-4542-b5df-970fdf1ce2a0"
      },
      "outputs": [
        {
          "output_type": "execute_result",
          "data": {
            "text/plain": [
              "group                    event     1     2     3   All   1-2\n",
              "0             MainScreenAppear  2450  2476  2493  7419  4926\n",
              "1           OffersScreenAppear  1542  1520  1531  4593  3062\n",
              "2             CartScreenAppear  1266  1238  1230  3734  2504\n",
              "3      PaymentScreenSuccessful  1200  1158  1181  3539  2358\n",
              "4                          All  2483  2512  2535  7530  4995"
            ],
            "text/html": [
              "\n",
              "  <div id=\"df-ff40573e-a934-475f-872d-b6db6e202a81\">\n",
              "    <div class=\"colab-df-container\">\n",
              "      <div>\n",
              "<style scoped>\n",
              "    .dataframe tbody tr th:only-of-type {\n",
              "        vertical-align: middle;\n",
              "    }\n",
              "\n",
              "    .dataframe tbody tr th {\n",
              "        vertical-align: top;\n",
              "    }\n",
              "\n",
              "    .dataframe thead th {\n",
              "        text-align: right;\n",
              "    }\n",
              "</style>\n",
              "<table border=\"1\" class=\"dataframe\">\n",
              "  <thead>\n",
              "    <tr style=\"text-align: right;\">\n",
              "      <th>group</th>\n",
              "      <th>event</th>\n",
              "      <th>1</th>\n",
              "      <th>2</th>\n",
              "      <th>3</th>\n",
              "      <th>All</th>\n",
              "      <th>1-2</th>\n",
              "    </tr>\n",
              "  </thead>\n",
              "  <tbody>\n",
              "    <tr>\n",
              "      <th>0</th>\n",
              "      <td>MainScreenAppear</td>\n",
              "      <td>2450</td>\n",
              "      <td>2476</td>\n",
              "      <td>2493</td>\n",
              "      <td>7419</td>\n",
              "      <td>4926</td>\n",
              "    </tr>\n",
              "    <tr>\n",
              "      <th>1</th>\n",
              "      <td>OffersScreenAppear</td>\n",
              "      <td>1542</td>\n",
              "      <td>1520</td>\n",
              "      <td>1531</td>\n",
              "      <td>4593</td>\n",
              "      <td>3062</td>\n",
              "    </tr>\n",
              "    <tr>\n",
              "      <th>2</th>\n",
              "      <td>CartScreenAppear</td>\n",
              "      <td>1266</td>\n",
              "      <td>1238</td>\n",
              "      <td>1230</td>\n",
              "      <td>3734</td>\n",
              "      <td>2504</td>\n",
              "    </tr>\n",
              "    <tr>\n",
              "      <th>3</th>\n",
              "      <td>PaymentScreenSuccessful</td>\n",
              "      <td>1200</td>\n",
              "      <td>1158</td>\n",
              "      <td>1181</td>\n",
              "      <td>3539</td>\n",
              "      <td>2358</td>\n",
              "    </tr>\n",
              "    <tr>\n",
              "      <th>4</th>\n",
              "      <td>All</td>\n",
              "      <td>2483</td>\n",
              "      <td>2512</td>\n",
              "      <td>2535</td>\n",
              "      <td>7530</td>\n",
              "      <td>4995</td>\n",
              "    </tr>\n",
              "  </tbody>\n",
              "</table>\n",
              "</div>\n",
              "      <button class=\"colab-df-convert\" onclick=\"convertToInteractive('df-ff40573e-a934-475f-872d-b6db6e202a81')\"\n",
              "              title=\"Convert this dataframe to an interactive table.\"\n",
              "              style=\"display:none;\">\n",
              "        \n",
              "  <svg xmlns=\"http://www.w3.org/2000/svg\" height=\"24px\"viewBox=\"0 0 24 24\"\n",
              "       width=\"24px\">\n",
              "    <path d=\"M0 0h24v24H0V0z\" fill=\"none\"/>\n",
              "    <path d=\"M18.56 5.44l.94 2.06.94-2.06 2.06-.94-2.06-.94-.94-2.06-.94 2.06-2.06.94zm-11 1L8.5 8.5l.94-2.06 2.06-.94-2.06-.94L8.5 2.5l-.94 2.06-2.06.94zm10 10l.94 2.06.94-2.06 2.06-.94-2.06-.94-.94-2.06-.94 2.06-2.06.94z\"/><path d=\"M17.41 7.96l-1.37-1.37c-.4-.4-.92-.59-1.43-.59-.52 0-1.04.2-1.43.59L10.3 9.45l-7.72 7.72c-.78.78-.78 2.05 0 2.83L4 21.41c.39.39.9.59 1.41.59.51 0 1.02-.2 1.41-.59l7.78-7.78 2.81-2.81c.8-.78.8-2.07 0-2.86zM5.41 20L4 18.59l7.72-7.72 1.47 1.35L5.41 20z\"/>\n",
              "  </svg>\n",
              "      </button>\n",
              "      \n",
              "  <style>\n",
              "    .colab-df-container {\n",
              "      display:flex;\n",
              "      flex-wrap:wrap;\n",
              "      gap: 12px;\n",
              "    }\n",
              "\n",
              "    .colab-df-convert {\n",
              "      background-color: #E8F0FE;\n",
              "      border: none;\n",
              "      border-radius: 50%;\n",
              "      cursor: pointer;\n",
              "      display: none;\n",
              "      fill: #1967D2;\n",
              "      height: 32px;\n",
              "      padding: 0 0 0 0;\n",
              "      width: 32px;\n",
              "    }\n",
              "\n",
              "    .colab-df-convert:hover {\n",
              "      background-color: #E2EBFA;\n",
              "      box-shadow: 0px 1px 2px rgba(60, 64, 67, 0.3), 0px 1px 3px 1px rgba(60, 64, 67, 0.15);\n",
              "      fill: #174EA6;\n",
              "    }\n",
              "\n",
              "    [theme=dark] .colab-df-convert {\n",
              "      background-color: #3B4455;\n",
              "      fill: #D2E3FC;\n",
              "    }\n",
              "\n",
              "    [theme=dark] .colab-df-convert:hover {\n",
              "      background-color: #434B5C;\n",
              "      box-shadow: 0px 1px 3px 1px rgba(0, 0, 0, 0.15);\n",
              "      filter: drop-shadow(0px 1px 2px rgba(0, 0, 0, 0.3));\n",
              "      fill: #FFFFFF;\n",
              "    }\n",
              "  </style>\n",
              "\n",
              "      <script>\n",
              "        const buttonEl =\n",
              "          document.querySelector('#df-ff40573e-a934-475f-872d-b6db6e202a81 button.colab-df-convert');\n",
              "        buttonEl.style.display =\n",
              "          google.colab.kernel.accessAllowed ? 'block' : 'none';\n",
              "\n",
              "        async function convertToInteractive(key) {\n",
              "          const element = document.querySelector('#df-ff40573e-a934-475f-872d-b6db6e202a81');\n",
              "          const dataTable =\n",
              "            await google.colab.kernel.invokeFunction('convertToInteractive',\n",
              "                                                     [key], {});\n",
              "          if (!dataTable) return;\n",
              "\n",
              "          const docLinkHtml = 'Like what you see? Visit the ' +\n",
              "            '<a target=\"_blank\" href=https://colab.research.google.com/notebooks/data_table.ipynb>data table notebook</a>'\n",
              "            + ' to learn more about interactive tables.';\n",
              "          element.innerHTML = '';\n",
              "          dataTable['output_type'] = 'display_data';\n",
              "          await google.colab.output.renderOutput(dataTable, element);\n",
              "          const docLink = document.createElement('div');\n",
              "          docLink.innerHTML = docLinkHtml;\n",
              "          element.appendChild(docLink);\n",
              "        }\n",
              "      </script>\n",
              "    </div>\n",
              "  </div>\n",
              "  "
            ]
          },
          "metadata": {},
          "execution_count": 40
        }
      ],
      "source": [
        "df_gr = df.pivot_table(index='event', columns='group', values='id', aggfunc='nunique', margins = True).reset_index().sort_values('All', ascending=False).reset_index(drop=True)\n",
        "df_gr['1-2'] = df_gr[1] + df_gr[2]\n",
        "df_gr = df_gr.reindex([1, 2, 3, 4, 0]).reset_index(drop=True)\n",
        "df_gr"
      ]
    },
    {
      "cell_type": "code",
      "execution_count": 41,
      "metadata": {
        "id": "96WWz979vt8I"
      },
      "outputs": [],
      "source": [
        "def check_metrics(i, g1, g2): \n",
        "    alpha = 0.01\n",
        "    u1 = df_gr.loc[i][g1]\n",
        "    u2 = df_gr.loc[i][g2]\n",
        "    e1 = df_gr.loc[4][g1]\n",
        "    e2 = df_gr.loc[4][g2]\n",
        "\n",
        "    \n",
        "    # пропорция успехов в первой группе:\n",
        "    p1 = u1 / e1\n",
        "    # пропорция успехов во второй группе\n",
        "    p2 = u2 / e2\n",
        "    \n",
        "    # пропорция успехов в комбинированном датасете\n",
        "    p_c = (u1 + u2) / (e1 + e2) \n",
        "    \n",
        "    # разница пропорций в датасетах\n",
        "    diff = p1 - p2\n",
        "    \n",
        "    # считаем статистику в ст.отклонениях стандартного нормального распределения\n",
        "    z_value = diff / mth.sqrt(p_c * (1 - p_c) * (1 / e1 + 1 / e2))\n",
        "    \n",
        "    # задаем стандартное нормальное распределение (среднее 0, ст.отклонение 1)\n",
        "    distr = st.norm(0, 1)\n",
        "    p_value = (1 - distr.cdf(abs(z_value))) * 2\n",
        "    \n",
        "    # введем поправку Бонферрони, поделим альфа на число гипотез для всех проверок\n",
        "    bonferroni_alpha = alpha / 16\n",
        "    \n",
        "    print('Проверка для групп {} и {}, событие: {}, p-значение: {p_value:.2f}'.format(g1, g2, i, p_value=p_value))\n",
        "    if (p_value < bonferroni_alpha):\n",
        "        print(\"Отвергаем нулевую гипотезу о равенстве данных в группах\")\n",
        "    else:\n",
        "        print(\"Не получилось отвергнуть нулевую гипотезу о равенстве данных в группах\")\n"
      ]
    },
    {
      "cell_type": "markdown",
      "metadata": {
        "id": "In9YAIz9vt8J"
      },
      "source": [
        "Сравним группы 1 и 2:\n",
        "\n",
        "Н0: доли уникальных посетителей, находящихся в группах 1 и 2, побывавших на этапе воронки, одинаковы.\n",
        "\n",
        "Н1: доли уникальных посетителей, побывавших на этапе воронки, различаются."
      ]
    },
    {
      "cell_type": "code",
      "execution_count": 42,
      "metadata": {
        "colab": {
          "base_uri": "https://localhost:8080/"
        },
        "id": "9UrxmeGgvt8K",
        "outputId": "4a40763b-145e-4059-8bb6-86aa8b7fa032"
      },
      "outputs": [
        {
          "output_type": "stream",
          "name": "stdout",
          "text": [
            "Проверка для групп 1 и 2, событие: 0, p-значение: 0.75\n",
            "Не получилось отвергнуть нулевую гипотезу о равенстве данных в группах\n",
            "Проверка для групп 1 и 2, событие: 1, p-значение: 0.25\n",
            "Не получилось отвергнуть нулевую гипотезу о равенстве данных в группах\n",
            "Проверка для групп 1 и 2, событие: 2, p-значение: 0.23\n",
            "Не получилось отвергнуть нулевую гипотезу о равенстве данных в группах\n",
            "Проверка для групп 1 и 2, событие: 3, p-значение: 0.11\n",
            "Не получилось отвергнуть нулевую гипотезу о равенстве данных в группах\n"
          ]
        }
      ],
      "source": [
        "for event in range(len(df_gr.index[:-1])):\n",
        "    check_metrics(event,1,2)"
      ]
    },
    {
      "cell_type": "markdown",
      "metadata": {
        "id": "4z9AMRBqvt8K"
      },
      "source": [
        "Сравним группы 1 и 3:\n",
        "\n",
        "Н0: доли уникальных посетителей, находящихся в группах 1 и 3, побывавших на этапе воронки, одинаковы.\n",
        "\n",
        "Н1: доли уникальных посетителей, побывавших на этапе воронки, различаются."
      ]
    },
    {
      "cell_type": "code",
      "execution_count": 43,
      "metadata": {
        "scrolled": true,
        "colab": {
          "base_uri": "https://localhost:8080/"
        },
        "id": "8UY--SBNvt8W",
        "outputId": "f8d5fe3c-7a0b-4d77-f33e-1e516d53a6a7"
      },
      "outputs": [
        {
          "output_type": "stream",
          "name": "stdout",
          "text": [
            "Проверка для групп 1 и 3, событие: 0, p-значение: 0.34\n",
            "Не получилось отвергнуть нулевую гипотезу о равенстве данных в группах\n",
            "Проверка для групп 1 и 3, событие: 1, p-значение: 0.21\n",
            "Не получилось отвергнуть нулевую гипотезу о равенстве данных в группах\n",
            "Проверка для групп 1 и 3, событие: 2, p-значение: 0.08\n",
            "Не получилось отвергнуть нулевую гипотезу о равенстве данных в группах\n",
            "Проверка для групп 1 и 3, событие: 3, p-значение: 0.22\n",
            "Не получилось отвергнуть нулевую гипотезу о равенстве данных в группах\n"
          ]
        }
      ],
      "source": [
        "for event in range(len(df_gr.index[:-1])):\n",
        "    check_metrics(event,1,3)"
      ]
    },
    {
      "cell_type": "markdown",
      "metadata": {
        "id": "TDKVkzBevt8X"
      },
      "source": [
        "Сравним группы 2 и 3:\n",
        "\n",
        "Н0: доли уникальных посетителей, находящихся в группах 2 и 3, побывавших на этапе воронки, одинаковы.\n",
        "\n",
        "Н1: доли уникальных посетителей, побывавших на этапе воронки, различаются."
      ]
    },
    {
      "cell_type": "code",
      "execution_count": 44,
      "metadata": {
        "colab": {
          "base_uri": "https://localhost:8080/"
        },
        "id": "xZyNgi3fvt8X",
        "outputId": "2a1edc88-a0d8-466e-f2aa-c0cc8489e965"
      },
      "outputs": [
        {
          "output_type": "stream",
          "name": "stdout",
          "text": [
            "Проверка для групп 1 и 3, событие: 0, p-значение: 0.34\n",
            "Не получилось отвергнуть нулевую гипотезу о равенстве данных в группах\n",
            "Проверка для групп 1 и 3, событие: 1, p-значение: 0.21\n",
            "Не получилось отвергнуть нулевую гипотезу о равенстве данных в группах\n",
            "Проверка для групп 1 и 3, событие: 2, p-значение: 0.08\n",
            "Не получилось отвергнуть нулевую гипотезу о равенстве данных в группах\n",
            "Проверка для групп 1 и 3, событие: 3, p-значение: 0.22\n",
            "Не получилось отвергнуть нулевую гипотезу о равенстве данных в группах\n"
          ]
        }
      ],
      "source": [
        "for event in range(len(df_gr.index[:-1])):\n",
        "    check_metrics(event,1,3)"
      ]
    },
    {
      "cell_type": "markdown",
      "metadata": {
        "id": "yzUVoP34vt8X"
      },
      "source": [
        "Сравним группы 1-2 и 3:\n",
        "\n",
        "Н0: доли уникальных посетителей, находящихся в группах 1-2 и 3, побывавших на этапе воронки, одинаковы.\n",
        "\n",
        "Н1: доли уникальных посетителей, побывавших на этапе воронки, различаются."
      ]
    },
    {
      "cell_type": "code",
      "execution_count": 45,
      "metadata": {
        "colab": {
          "base_uri": "https://localhost:8080/"
        },
        "id": "WiY0O3wgvt8Y",
        "outputId": "f1dbfcf4-f966-4d45-e2a7-f9c8fdd20c94"
      },
      "outputs": [
        {
          "output_type": "stream",
          "name": "stdout",
          "text": [
            "Проверка для групп 1-2 и 3, событие: 0, p-значение: 0.35\n",
            "Не получилось отвергнуть нулевую гипотезу о равенстве данных в группах\n",
            "Проверка для групп 1-2 и 3, событие: 1, p-значение: 0.45\n",
            "Не получилось отвергнуть нулевую гипотезу о равенстве данных в группах\n",
            "Проверка для групп 1-2 и 3, событие: 2, p-значение: 0.19\n",
            "Не получилось отвергнуть нулевую гипотезу о равенстве данных в группах\n",
            "Проверка для групп 1-2 и 3, событие: 3, p-значение: 0.61\n",
            "Не получилось отвергнуть нулевую гипотезу о равенстве данных в группах\n"
          ]
        }
      ],
      "source": [
        "for event in range(len(df_gr.index[:-1])):\n",
        "    check_metrics(event,'1-2',3)"
      ]
    },
    {
      "cell_type": "markdown",
      "metadata": {
        "id": "1EPOFSipvt8Y"
      },
      "source": [
        "**Вывод:** Нет статистически значимой разницы для всех событий между всеми группами."
      ]
    },
    {
      "cell_type": "markdown",
      "metadata": {
        "id": "yr82MtS8vt8Z"
      },
      "source": [
        "## Вывод"
      ]
    },
    {
      "cell_type": "markdown",
      "metadata": {
        "id": "NIvljXsHvt8Z"
      },
      "source": [
        "В ходе задания был проведен анализ А/В теста приложения.\n",
        "\n",
        "При обработке данных была проведена предобработка данных, в которой был выявлен актуальный период проведения теста: с 1 августа по 8 августа.\n",
        "\n",
        "В тесте были такие показатели(в актуальном временном периоде):\n",
        "\n",
        "Было 7534 уникальных пользователей и 240887 событий.\n",
        "\n",
        "Далее была определена воронка событий, до последнего шага которой доходит 48% пользователей, а больеш всего отваливается на 2м шаге - 38%.\n",
        "\n",
        "При этом 2% даже не заходят на главную страницу.\n",
        "\n",
        "Далее был проведен анализ теста:\n",
        "- Группы для А/А/В-тестов были не совсем корректными, тк была разница в  1.15% количества пользователей между группами 1 и 2, что больше необходимого 1%.\n",
        "- При проверке статистических гипотез уровень значимости альфа был 1%.\n",
        "- Так как было преведено 16 сравнений, то была сделана поправка Бонферрони.\n",
        "- Несмотря на некорректность групп статистически значимой разницы между группами во всех тестах выявлено не было.\n",
        "\n",
        "Значит изменение шрифта не дало результатов."
      ]
    },
    {
      "cell_type": "code",
      "execution_count": 45,
      "metadata": {
        "id": "MnsvAU2zvt8a"
      },
      "outputs": [],
      "source": []
    }
  ],
  "metadata": {
    "ExecuteTimeLog": [
      {
        "duration": 1349,
        "start_time": "2023-01-30T20:40:57.310Z"
      },
      {
        "duration": 96,
        "start_time": "2023-01-30T20:43:22.564Z"
      },
      {
        "duration": 1074,
        "start_time": "2023-01-30T20:43:45.413Z"
      },
      {
        "duration": 89,
        "start_time": "2023-01-30T20:43:46.625Z"
      },
      {
        "duration": 8,
        "start_time": "2023-01-30T20:43:53.271Z"
      },
      {
        "duration": 770,
        "start_time": "2023-01-30T20:43:59.277Z"
      },
      {
        "duration": 6,
        "start_time": "2023-01-30T20:44:02.348Z"
      },
      {
        "duration": 1055,
        "start_time": "2023-01-30T20:44:48.155Z"
      },
      {
        "duration": 307,
        "start_time": "2023-01-30T20:44:49.945Z"
      },
      {
        "duration": 13,
        "start_time": "2023-01-30T20:44:51.617Z"
      },
      {
        "duration": 297,
        "start_time": "2023-01-30T20:45:07.184Z"
      },
      {
        "duration": 16,
        "start_time": "2023-01-30T20:45:08.053Z"
      },
      {
        "duration": 634,
        "start_time": "2023-01-30T20:45:14.649Z"
      },
      {
        "duration": 8,
        "start_time": "2023-01-30T20:45:15.686Z"
      },
      {
        "duration": 289,
        "start_time": "2023-01-30T20:45:22.217Z"
      },
      {
        "duration": 9,
        "start_time": "2023-01-30T20:45:22.621Z"
      },
      {
        "duration": 308,
        "start_time": "2023-01-30T20:46:04.900Z"
      },
      {
        "duration": 9,
        "start_time": "2023-01-30T20:46:05.606Z"
      },
      {
        "duration": 1184,
        "start_time": "2023-01-30T20:46:14.485Z"
      },
      {
        "duration": 305,
        "start_time": "2023-01-30T20:46:16.284Z"
      },
      {
        "duration": 13,
        "start_time": "2023-01-30T20:46:17.200Z"
      },
      {
        "duration": 309,
        "start_time": "2023-01-30T20:46:33.012Z"
      },
      {
        "duration": 9,
        "start_time": "2023-01-30T20:46:33.540Z"
      },
      {
        "duration": 643,
        "start_time": "2023-01-30T20:46:38.305Z"
      },
      {
        "duration": 9,
        "start_time": "2023-01-30T20:46:38.950Z"
      },
      {
        "duration": 778,
        "start_time": "2023-01-30T20:47:16.827Z"
      },
      {
        "duration": 8,
        "start_time": "2023-01-30T20:47:18.218Z"
      },
      {
        "duration": 1245,
        "start_time": "2023-01-30T20:47:30.485Z"
      },
      {
        "duration": 735,
        "start_time": "2023-01-30T20:47:32.440Z"
      },
      {
        "duration": 13,
        "start_time": "2023-01-30T20:47:34.632Z"
      },
      {
        "duration": 1229,
        "start_time": "2023-01-30T20:53:07.039Z"
      },
      {
        "duration": 11,
        "start_time": "2023-01-30T20:53:08.271Z"
      },
      {
        "duration": 7,
        "start_time": "2023-01-30T20:53:25.732Z"
      },
      {
        "duration": 9,
        "start_time": "2023-01-30T20:53:30.180Z"
      },
      {
        "duration": 9,
        "start_time": "2023-01-30T20:53:33.595Z"
      },
      {
        "duration": 113,
        "start_time": "2023-01-30T20:57:29.833Z"
      },
      {
        "duration": 5,
        "start_time": "2023-01-30T21:01:53.113Z"
      },
      {
        "duration": 748,
        "start_time": "2023-01-30T21:01:53.847Z"
      },
      {
        "duration": 7,
        "start_time": "2023-01-30T21:01:59.231Z"
      },
      {
        "duration": 100,
        "start_time": "2023-01-30T21:02:32.828Z"
      },
      {
        "duration": 11,
        "start_time": "2023-01-30T21:02:39.577Z"
      },
      {
        "duration": 1137,
        "start_time": "2023-01-30T21:03:08.833Z"
      },
      {
        "duration": 1150,
        "start_time": "2023-01-30T21:03:09.972Z"
      },
      {
        "duration": 133,
        "start_time": "2023-01-30T21:03:11.124Z"
      },
      {
        "duration": 5,
        "start_time": "2023-01-30T21:03:11.258Z"
      },
      {
        "duration": 101,
        "start_time": "2023-01-30T21:03:16.851Z"
      },
      {
        "duration": 11,
        "start_time": "2023-01-30T21:04:10.360Z"
      },
      {
        "duration": 8,
        "start_time": "2023-01-30T21:04:11.186Z"
      },
      {
        "duration": 70,
        "start_time": "2023-01-30T21:05:42.736Z"
      },
      {
        "duration": 59,
        "start_time": "2023-01-30T21:05:59.661Z"
      },
      {
        "duration": 69,
        "start_time": "2023-01-30T21:06:08.220Z"
      },
      {
        "duration": 61,
        "start_time": "2023-01-30T21:06:20.629Z"
      },
      {
        "duration": 63,
        "start_time": "2023-01-30T21:06:27.643Z"
      },
      {
        "duration": 1163,
        "start_time": "2023-01-30T21:08:28.318Z"
      },
      {
        "duration": 1174,
        "start_time": "2023-01-30T21:08:29.483Z"
      },
      {
        "duration": 130,
        "start_time": "2023-01-30T21:08:30.659Z"
      },
      {
        "duration": 5,
        "start_time": "2023-01-30T21:08:30.791Z"
      },
      {
        "duration": 103,
        "start_time": "2023-01-30T21:08:30.798Z"
      },
      {
        "duration": 9,
        "start_time": "2023-01-30T21:08:30.903Z"
      },
      {
        "duration": 128,
        "start_time": "2023-01-30T21:08:30.914Z"
      },
      {
        "duration": 78,
        "start_time": "2023-01-30T21:08:31.044Z"
      },
      {
        "duration": 19,
        "start_time": "2023-01-30T21:10:29.418Z"
      },
      {
        "duration": 6,
        "start_time": "2023-01-30T21:10:39.404Z"
      },
      {
        "duration": 57,
        "start_time": "2023-01-30T21:13:56.447Z"
      },
      {
        "duration": 5,
        "start_time": "2023-01-30T21:14:46.219Z"
      },
      {
        "duration": 14,
        "start_time": "2023-01-30T21:14:48.570Z"
      },
      {
        "duration": 7,
        "start_time": "2023-01-30T21:14:59.902Z"
      },
      {
        "duration": 14,
        "start_time": "2023-01-30T21:15:00.369Z"
      },
      {
        "duration": 4,
        "start_time": "2023-01-30T21:15:42.213Z"
      },
      {
        "duration": 13,
        "start_time": "2023-01-30T21:15:43.823Z"
      },
      {
        "duration": 11,
        "start_time": "2023-01-30T21:15:54.992Z"
      },
      {
        "duration": 11,
        "start_time": "2023-01-30T21:16:03.564Z"
      },
      {
        "duration": 10,
        "start_time": "2023-01-30T21:16:08.443Z"
      },
      {
        "duration": 9,
        "start_time": "2023-01-30T21:16:12.882Z"
      },
      {
        "duration": 13,
        "start_time": "2023-01-30T21:16:33.572Z"
      },
      {
        "duration": 96,
        "start_time": "2023-01-30T21:18:02.516Z"
      },
      {
        "duration": 11,
        "start_time": "2023-01-30T21:18:07.717Z"
      },
      {
        "duration": 35,
        "start_time": "2023-01-30T21:18:15.777Z"
      },
      {
        "duration": 8,
        "start_time": "2023-01-30T21:18:44.451Z"
      },
      {
        "duration": 1122,
        "start_time": "2023-01-30T21:31:01.678Z"
      },
      {
        "duration": 1113,
        "start_time": "2023-01-30T21:31:02.802Z"
      },
      {
        "duration": 144,
        "start_time": "2023-01-30T21:31:03.917Z"
      },
      {
        "duration": 6,
        "start_time": "2023-01-30T21:31:04.064Z"
      },
      {
        "duration": 91,
        "start_time": "2023-01-30T21:31:04.072Z"
      },
      {
        "duration": 10,
        "start_time": "2023-01-30T21:31:04.165Z"
      },
      {
        "duration": 112,
        "start_time": "2023-01-30T21:31:04.177Z"
      },
      {
        "duration": 87,
        "start_time": "2023-01-30T21:31:04.290Z"
      },
      {
        "duration": 7,
        "start_time": "2023-01-30T21:31:04.378Z"
      },
      {
        "duration": 35,
        "start_time": "2023-01-30T21:31:04.387Z"
      },
      {
        "duration": 5,
        "start_time": "2023-01-30T21:31:04.424Z"
      },
      {
        "duration": 12,
        "start_time": "2023-01-30T21:31:04.430Z"
      },
      {
        "duration": 12,
        "start_time": "2023-01-30T21:31:04.444Z"
      },
      {
        "duration": 8,
        "start_time": "2023-01-30T21:31:04.458Z"
      },
      {
        "duration": 102,
        "start_time": "2023-01-30T21:41:59.737Z"
      },
      {
        "duration": 13,
        "start_time": "2023-01-30T21:42:05.255Z"
      },
      {
        "duration": 10,
        "start_time": "2023-01-30T21:42:52.586Z"
      },
      {
        "duration": 31,
        "start_time": "2023-01-30T21:43:13.642Z"
      },
      {
        "duration": 17,
        "start_time": "2023-01-30T21:53:07.410Z"
      },
      {
        "duration": 22,
        "start_time": "2023-01-30T21:53:19.654Z"
      },
      {
        "duration": 17,
        "start_time": "2023-01-30T21:53:28.472Z"
      },
      {
        "duration": 16,
        "start_time": "2023-01-30T21:53:39.274Z"
      },
      {
        "duration": 19,
        "start_time": "2023-01-30T21:53:45.304Z"
      },
      {
        "duration": 17,
        "start_time": "2023-01-30T21:53:48.085Z"
      },
      {
        "duration": 17,
        "start_time": "2023-01-30T21:53:53.421Z"
      },
      {
        "duration": 1140,
        "start_time": "2023-01-30T21:55:02.482Z"
      },
      {
        "duration": 5,
        "start_time": "2023-01-30T21:55:12.965Z"
      },
      {
        "duration": 5,
        "start_time": "2023-01-30T21:55:27.267Z"
      },
      {
        "duration": 5,
        "start_time": "2023-01-30T21:55:31.125Z"
      },
      {
        "duration": 5,
        "start_time": "2023-01-30T21:55:57.389Z"
      },
      {
        "duration": 338,
        "start_time": "2023-01-30T21:57:57.084Z"
      },
      {
        "duration": 243,
        "start_time": "2023-01-30T21:58:18.581Z"
      },
      {
        "duration": 218,
        "start_time": "2023-01-30T21:58:30.986Z"
      },
      {
        "duration": 33,
        "start_time": "2023-01-30T22:00:35.717Z"
      },
      {
        "duration": 20,
        "start_time": "2023-01-30T22:00:46.539Z"
      },
      {
        "duration": 85,
        "start_time": "2023-01-30T22:00:49.999Z"
      },
      {
        "duration": 11,
        "start_time": "2023-01-30T22:01:08.712Z"
      },
      {
        "duration": 11,
        "start_time": "2023-01-30T22:01:16.636Z"
      },
      {
        "duration": 138,
        "start_time": "2023-01-30T22:01:24.589Z"
      },
      {
        "duration": 35,
        "start_time": "2023-01-30T22:01:39.396Z"
      },
      {
        "duration": 31,
        "start_time": "2023-01-30T22:02:46.689Z"
      },
      {
        "duration": 29,
        "start_time": "2023-01-30T22:02:47.450Z"
      },
      {
        "duration": 208,
        "start_time": "2023-01-30T22:02:56.939Z"
      },
      {
        "duration": 30,
        "start_time": "2023-01-30T22:03:08.278Z"
      },
      {
        "duration": 194,
        "start_time": "2023-01-30T22:03:26.108Z"
      },
      {
        "duration": 244,
        "start_time": "2023-01-30T22:05:15.147Z"
      },
      {
        "duration": 30,
        "start_time": "2023-01-30T22:05:26.669Z"
      },
      {
        "duration": 1079,
        "start_time": "2023-01-30T22:05:36.125Z"
      },
      {
        "duration": 1146,
        "start_time": "2023-01-30T22:05:37.206Z"
      },
      {
        "duration": 129,
        "start_time": "2023-01-30T22:05:38.354Z"
      },
      {
        "duration": 6,
        "start_time": "2023-01-30T22:05:38.485Z"
      },
      {
        "duration": 92,
        "start_time": "2023-01-30T22:05:38.492Z"
      },
      {
        "duration": 10,
        "start_time": "2023-01-30T22:05:38.586Z"
      },
      {
        "duration": 123,
        "start_time": "2023-01-30T22:05:38.597Z"
      },
      {
        "duration": 68,
        "start_time": "2023-01-30T22:05:38.722Z"
      },
      {
        "duration": 13,
        "start_time": "2023-01-30T22:05:38.792Z"
      },
      {
        "duration": 9,
        "start_time": "2023-01-30T22:05:38.821Z"
      },
      {
        "duration": 18,
        "start_time": "2023-01-30T22:05:38.832Z"
      },
      {
        "duration": 5,
        "start_time": "2023-01-30T22:05:38.853Z"
      },
      {
        "duration": 8,
        "start_time": "2023-01-30T22:05:38.860Z"
      },
      {
        "duration": 53,
        "start_time": "2023-01-30T22:05:38.870Z"
      },
      {
        "duration": 10,
        "start_time": "2023-01-30T22:05:38.924Z"
      },
      {
        "duration": 31,
        "start_time": "2023-01-30T22:05:38.936Z"
      },
      {
        "duration": 18,
        "start_time": "2023-01-30T22:05:38.969Z"
      },
      {
        "duration": 36,
        "start_time": "2023-01-30T22:05:38.989Z"
      },
      {
        "duration": 6,
        "start_time": "2023-01-30T22:05:39.028Z"
      },
      {
        "duration": 332,
        "start_time": "2023-01-30T22:05:39.036Z"
      },
      {
        "duration": 29,
        "start_time": "2023-01-30T22:05:39.371Z"
      },
      {
        "duration": 0,
        "start_time": "2023-01-30T22:05:39.402Z"
      },
      {
        "duration": 268,
        "start_time": "2023-01-30T22:06:37.344Z"
      },
      {
        "duration": 13,
        "start_time": "2023-01-30T22:07:02.573Z"
      },
      {
        "duration": 32,
        "start_time": "2023-01-30T22:07:05.350Z"
      },
      {
        "duration": 18,
        "start_time": "2023-01-30T22:07:27.025Z"
      },
      {
        "duration": 30,
        "start_time": "2023-01-30T22:07:27.785Z"
      },
      {
        "duration": 18,
        "start_time": "2023-01-30T22:07:38.145Z"
      },
      {
        "duration": 27,
        "start_time": "2023-01-30T22:07:38.602Z"
      },
      {
        "duration": 25,
        "start_time": "2023-01-30T22:07:59.780Z"
      },
      {
        "duration": 29,
        "start_time": "2023-01-30T22:08:04.301Z"
      },
      {
        "duration": 1025,
        "start_time": "2023-01-30T22:08:32.255Z"
      },
      {
        "duration": 1121,
        "start_time": "2023-01-30T22:08:33.281Z"
      },
      {
        "duration": 157,
        "start_time": "2023-01-30T22:08:34.404Z"
      },
      {
        "duration": 6,
        "start_time": "2023-01-30T22:08:34.563Z"
      },
      {
        "duration": 85,
        "start_time": "2023-01-30T22:08:34.571Z"
      },
      {
        "duration": 8,
        "start_time": "2023-01-30T22:08:34.658Z"
      },
      {
        "duration": 125,
        "start_time": "2023-01-30T22:08:34.667Z"
      },
      {
        "duration": 77,
        "start_time": "2023-01-30T22:08:34.794Z"
      },
      {
        "duration": 12,
        "start_time": "2023-01-30T22:08:34.873Z"
      },
      {
        "duration": 9,
        "start_time": "2023-01-30T22:08:34.887Z"
      },
      {
        "duration": 31,
        "start_time": "2023-01-30T22:08:34.897Z"
      },
      {
        "duration": 5,
        "start_time": "2023-01-30T22:08:34.930Z"
      },
      {
        "duration": 7,
        "start_time": "2023-01-30T22:08:34.936Z"
      },
      {
        "duration": 11,
        "start_time": "2023-01-30T22:08:34.946Z"
      },
      {
        "duration": 9,
        "start_time": "2023-01-30T22:08:34.958Z"
      },
      {
        "duration": 70,
        "start_time": "2023-01-30T22:08:34.969Z"
      },
      {
        "duration": 18,
        "start_time": "2023-01-30T22:08:35.041Z"
      },
      {
        "duration": 11,
        "start_time": "2023-01-30T22:08:35.061Z"
      },
      {
        "duration": 10,
        "start_time": "2023-01-30T22:08:35.074Z"
      },
      {
        "duration": 328,
        "start_time": "2023-01-30T22:08:35.086Z"
      },
      {
        "duration": 118,
        "start_time": "2023-01-30T22:08:37.468Z"
      },
      {
        "duration": 184,
        "start_time": "2023-01-30T22:08:48.494Z"
      },
      {
        "duration": 1066,
        "start_time": "2023-01-30T22:09:45.426Z"
      },
      {
        "duration": 1114,
        "start_time": "2023-01-30T22:09:46.494Z"
      },
      {
        "duration": 129,
        "start_time": "2023-01-30T22:09:47.609Z"
      },
      {
        "duration": 6,
        "start_time": "2023-01-30T22:09:47.739Z"
      },
      {
        "duration": 126,
        "start_time": "2023-01-30T22:09:47.747Z"
      },
      {
        "duration": 9,
        "start_time": "2023-01-30T22:09:47.875Z"
      },
      {
        "duration": 94,
        "start_time": "2023-01-30T22:09:47.885Z"
      },
      {
        "duration": 63,
        "start_time": "2023-01-30T22:09:47.980Z"
      },
      {
        "duration": 13,
        "start_time": "2023-01-30T22:09:48.044Z"
      },
      {
        "duration": 10,
        "start_time": "2023-01-30T22:09:48.058Z"
      },
      {
        "duration": 17,
        "start_time": "2023-01-30T22:09:48.069Z"
      },
      {
        "duration": 4,
        "start_time": "2023-01-30T22:09:48.088Z"
      },
      {
        "duration": 8,
        "start_time": "2023-01-30T22:09:48.121Z"
      },
      {
        "duration": 14,
        "start_time": "2023-01-30T22:09:48.132Z"
      },
      {
        "duration": 8,
        "start_time": "2023-01-30T22:09:48.148Z"
      },
      {
        "duration": 63,
        "start_time": "2023-01-30T22:09:48.158Z"
      },
      {
        "duration": 19,
        "start_time": "2023-01-30T22:09:48.224Z"
      },
      {
        "duration": 6,
        "start_time": "2023-01-30T22:09:48.245Z"
      },
      {
        "duration": 8,
        "start_time": "2023-01-30T22:09:48.252Z"
      },
      {
        "duration": 322,
        "start_time": "2023-01-30T22:09:48.262Z"
      },
      {
        "duration": 12,
        "start_time": "2023-01-30T22:09:48.585Z"
      },
      {
        "duration": 37,
        "start_time": "2023-01-30T22:09:48.599Z"
      },
      {
        "duration": 12,
        "start_time": "2023-01-30T22:09:54.766Z"
      },
      {
        "duration": 23,
        "start_time": "2023-01-30T22:09:56.068Z"
      },
      {
        "duration": 238,
        "start_time": "2023-01-30T22:10:08.733Z"
      },
      {
        "duration": 14,
        "start_time": "2023-01-30T22:10:23.232Z"
      },
      {
        "duration": 29,
        "start_time": "2023-01-30T22:10:23.860Z"
      },
      {
        "duration": 29,
        "start_time": "2023-01-30T22:10:42.166Z"
      },
      {
        "duration": 230,
        "start_time": "2023-01-30T22:10:58.333Z"
      },
      {
        "duration": 238,
        "start_time": "2023-01-30T22:16:51.250Z"
      },
      {
        "duration": 10,
        "start_time": "2023-01-30T22:19:17.644Z"
      },
      {
        "duration": 10,
        "start_time": "2023-01-30T22:19:46.361Z"
      },
      {
        "duration": 115,
        "start_time": "2023-01-30T22:20:02.081Z"
      },
      {
        "duration": 39,
        "start_time": "2023-01-30T22:20:21.214Z"
      },
      {
        "duration": 40,
        "start_time": "2023-01-30T22:20:43.664Z"
      },
      {
        "duration": 85,
        "start_time": "2023-01-30T22:20:54.833Z"
      },
      {
        "duration": 5,
        "start_time": "2023-01-30T22:22:52.081Z"
      },
      {
        "duration": 34,
        "start_time": "2023-01-30T22:22:59.803Z"
      },
      {
        "duration": 56,
        "start_time": "2023-01-30T22:23:19.022Z"
      },
      {
        "duration": 68,
        "start_time": "2023-01-30T22:23:40.252Z"
      },
      {
        "duration": 27,
        "start_time": "2023-01-30T22:24:09.318Z"
      },
      {
        "duration": 4,
        "start_time": "2023-01-30T22:24:10.711Z"
      },
      {
        "duration": 9,
        "start_time": "2023-01-30T22:29:20.883Z"
      },
      {
        "duration": 19,
        "start_time": "2023-01-30T22:31:10.975Z"
      },
      {
        "duration": 4,
        "start_time": "2023-01-30T22:33:25.135Z"
      },
      {
        "duration": 24,
        "start_time": "2023-01-30T22:38:30.047Z"
      },
      {
        "duration": 11,
        "start_time": "2023-01-30T22:39:12.291Z"
      },
      {
        "duration": 118,
        "start_time": "2023-01-30T22:39:17.178Z"
      },
      {
        "duration": 16,
        "start_time": "2023-01-30T22:39:46.640Z"
      },
      {
        "duration": 36,
        "start_time": "2023-01-30T22:39:51.083Z"
      },
      {
        "duration": 31,
        "start_time": "2023-01-30T22:40:03.622Z"
      },
      {
        "duration": 32,
        "start_time": "2023-01-30T22:40:14.566Z"
      },
      {
        "duration": 9,
        "start_time": "2023-01-30T22:49:49.740Z"
      },
      {
        "duration": 23,
        "start_time": "2023-01-30T22:49:57.332Z"
      },
      {
        "duration": 27,
        "start_time": "2023-01-30T22:50:43.345Z"
      },
      {
        "duration": 28,
        "start_time": "2023-01-30T22:50:51.365Z"
      },
      {
        "duration": 27,
        "start_time": "2023-01-30T22:51:01.651Z"
      },
      {
        "duration": 196,
        "start_time": "2023-01-30T22:51:23.695Z"
      },
      {
        "duration": 31,
        "start_time": "2023-01-30T22:51:27.449Z"
      },
      {
        "duration": 89,
        "start_time": "2023-01-30T22:51:46.733Z"
      },
      {
        "duration": 55,
        "start_time": "2023-01-30T22:53:31.732Z"
      },
      {
        "duration": 53,
        "start_time": "2023-01-30T22:53:36.982Z"
      },
      {
        "duration": 58,
        "start_time": "2023-01-30T22:54:06.887Z"
      },
      {
        "duration": 58,
        "start_time": "2023-01-30T22:54:15.840Z"
      },
      {
        "duration": 1355,
        "start_time": "2023-01-31T09:20:24.616Z"
      },
      {
        "duration": 1321,
        "start_time": "2023-01-31T09:20:25.974Z"
      },
      {
        "duration": 131,
        "start_time": "2023-01-31T09:20:27.297Z"
      },
      {
        "duration": 6,
        "start_time": "2023-01-31T09:20:27.437Z"
      },
      {
        "duration": 135,
        "start_time": "2023-01-31T09:20:27.444Z"
      },
      {
        "duration": 9,
        "start_time": "2023-01-31T09:20:27.581Z"
      },
      {
        "duration": 98,
        "start_time": "2023-01-31T09:20:27.593Z"
      },
      {
        "duration": 68,
        "start_time": "2023-01-31T09:20:27.694Z"
      },
      {
        "duration": 13,
        "start_time": "2023-01-31T09:20:27.764Z"
      },
      {
        "duration": 9,
        "start_time": "2023-01-31T09:20:27.780Z"
      },
      {
        "duration": 50,
        "start_time": "2023-01-31T09:20:27.792Z"
      },
      {
        "duration": 6,
        "start_time": "2023-01-31T09:20:27.844Z"
      },
      {
        "duration": 9,
        "start_time": "2023-01-31T09:20:27.852Z"
      },
      {
        "duration": 13,
        "start_time": "2023-01-31T09:20:27.863Z"
      },
      {
        "duration": 9,
        "start_time": "2023-01-31T09:20:27.880Z"
      },
      {
        "duration": 67,
        "start_time": "2023-01-31T09:20:27.891Z"
      },
      {
        "duration": 16,
        "start_time": "2023-01-31T09:20:27.960Z"
      },
      {
        "duration": 5,
        "start_time": "2023-01-31T09:20:27.977Z"
      },
      {
        "duration": 6,
        "start_time": "2023-01-31T09:20:27.984Z"
      },
      {
        "duration": 369,
        "start_time": "2023-01-31T09:20:27.992Z"
      },
      {
        "duration": 15,
        "start_time": "2023-01-31T09:20:28.364Z"
      },
      {
        "duration": 23,
        "start_time": "2023-01-31T09:20:28.381Z"
      },
      {
        "duration": 32,
        "start_time": "2023-01-31T09:20:28.407Z"
      },
      {
        "duration": 307,
        "start_time": "2023-01-31T09:20:28.442Z"
      },
      {
        "duration": 31,
        "start_time": "2023-01-31T09:20:28.751Z"
      },
      {
        "duration": 4,
        "start_time": "2023-01-31T09:20:28.784Z"
      },
      {
        "duration": 51,
        "start_time": "2023-01-31T09:20:28.790Z"
      },
      {
        "duration": 69,
        "start_time": "2023-01-31T09:20:28.844Z"
      },
      {
        "duration": 234,
        "start_time": "2023-01-31T09:20:32.474Z"
      },
      {
        "duration": 16,
        "start_time": "2023-01-31T09:25:43.054Z"
      },
      {
        "duration": 110,
        "start_time": "2023-01-31T09:26:18.171Z"
      },
      {
        "duration": 12,
        "start_time": "2023-01-31T09:26:36.009Z"
      },
      {
        "duration": 3,
        "start_time": "2023-01-31T09:26:54.898Z"
      },
      {
        "duration": 16,
        "start_time": "2023-01-31T09:26:58.713Z"
      },
      {
        "duration": 9,
        "start_time": "2023-01-31T09:28:07.753Z"
      },
      {
        "duration": 32,
        "start_time": "2023-01-31T09:28:22.114Z"
      },
      {
        "duration": 8,
        "start_time": "2023-01-31T09:28:27.204Z"
      },
      {
        "duration": 15,
        "start_time": "2023-01-31T09:28:46.266Z"
      },
      {
        "duration": 9,
        "start_time": "2023-01-31T09:28:53.410Z"
      },
      {
        "duration": 4,
        "start_time": "2023-01-31T09:31:04.907Z"
      },
      {
        "duration": 11,
        "start_time": "2023-01-31T09:31:19.538Z"
      },
      {
        "duration": 45,
        "start_time": "2023-01-31T09:31:31.787Z"
      },
      {
        "duration": 4,
        "start_time": "2023-01-31T09:31:53.298Z"
      },
      {
        "duration": 21,
        "start_time": "2023-01-31T09:31:54.397Z"
      },
      {
        "duration": 14,
        "start_time": "2023-01-31T09:32:53.620Z"
      },
      {
        "duration": 3,
        "start_time": "2023-01-31T09:32:59.626Z"
      },
      {
        "duration": 38,
        "start_time": "2023-01-31T09:33:00.051Z"
      },
      {
        "duration": 3,
        "start_time": "2023-01-31T09:33:04.945Z"
      },
      {
        "duration": 21,
        "start_time": "2023-01-31T09:33:16.379Z"
      },
      {
        "duration": 18,
        "start_time": "2023-01-31T09:33:19.674Z"
      },
      {
        "duration": 17,
        "start_time": "2023-01-31T09:36:06.124Z"
      },
      {
        "duration": 65,
        "start_time": "2023-01-31T09:36:13.580Z"
      },
      {
        "duration": 43,
        "start_time": "2023-01-31T09:36:29.091Z"
      },
      {
        "duration": 72,
        "start_time": "2023-01-31T09:36:35.043Z"
      },
      {
        "duration": 49,
        "start_time": "2023-01-31T09:37:46.580Z"
      },
      {
        "duration": 42,
        "start_time": "2023-01-31T09:37:59.460Z"
      },
      {
        "duration": 13,
        "start_time": "2023-01-31T09:38:15.308Z"
      },
      {
        "duration": 42,
        "start_time": "2023-01-31T09:38:22.908Z"
      },
      {
        "duration": 59,
        "start_time": "2023-01-31T09:40:24.173Z"
      },
      {
        "duration": 60,
        "start_time": "2023-01-31T09:40:28.277Z"
      },
      {
        "duration": 62,
        "start_time": "2023-01-31T09:40:46.606Z"
      },
      {
        "duration": 74,
        "start_time": "2023-01-31T09:41:09.181Z"
      },
      {
        "duration": 54,
        "start_time": "2023-01-31T09:41:35.541Z"
      },
      {
        "duration": 63,
        "start_time": "2023-01-31T09:41:39.965Z"
      },
      {
        "duration": 65,
        "start_time": "2023-01-31T09:42:10.398Z"
      },
      {
        "duration": 64,
        "start_time": "2023-01-31T09:42:30.238Z"
      },
      {
        "duration": 6,
        "start_time": "2023-01-31T09:43:01.758Z"
      },
      {
        "duration": 13,
        "start_time": "2023-01-31T09:43:06.398Z"
      },
      {
        "duration": 9,
        "start_time": "2023-01-31T09:43:21.022Z"
      },
      {
        "duration": 11,
        "start_time": "2023-01-31T09:43:30.942Z"
      },
      {
        "duration": 10,
        "start_time": "2023-01-31T09:44:06.990Z"
      },
      {
        "duration": 10,
        "start_time": "2023-01-31T09:44:11.045Z"
      },
      {
        "duration": 888,
        "start_time": "2023-01-31T09:46:35.801Z"
      },
      {
        "duration": 1234,
        "start_time": "2023-01-31T09:48:11.067Z"
      },
      {
        "duration": 1268,
        "start_time": "2023-01-31T09:48:12.303Z"
      },
      {
        "duration": 152,
        "start_time": "2023-01-31T09:48:13.573Z"
      },
      {
        "duration": 6,
        "start_time": "2023-01-31T09:48:13.736Z"
      },
      {
        "duration": 151,
        "start_time": "2023-01-31T09:48:13.745Z"
      },
      {
        "duration": 10,
        "start_time": "2023-01-31T09:48:13.898Z"
      },
      {
        "duration": 102,
        "start_time": "2023-01-31T09:48:13.910Z"
      },
      {
        "duration": 72,
        "start_time": "2023-01-31T09:48:14.014Z"
      },
      {
        "duration": 12,
        "start_time": "2023-01-31T09:48:14.088Z"
      },
      {
        "duration": 13,
        "start_time": "2023-01-31T09:48:14.102Z"
      },
      {
        "duration": 29,
        "start_time": "2023-01-31T09:48:14.117Z"
      },
      {
        "duration": 6,
        "start_time": "2023-01-31T09:48:14.148Z"
      },
      {
        "duration": 14,
        "start_time": "2023-01-31T09:48:14.156Z"
      },
      {
        "duration": 18,
        "start_time": "2023-01-31T09:48:14.174Z"
      },
      {
        "duration": 49,
        "start_time": "2023-01-31T09:48:14.194Z"
      },
      {
        "duration": 40,
        "start_time": "2023-01-31T09:48:14.246Z"
      },
      {
        "duration": 17,
        "start_time": "2023-01-31T09:48:14.288Z"
      },
      {
        "duration": 5,
        "start_time": "2023-01-31T09:48:14.307Z"
      },
      {
        "duration": 7,
        "start_time": "2023-01-31T09:48:14.337Z"
      },
      {
        "duration": 353,
        "start_time": "2023-01-31T09:48:14.346Z"
      },
      {
        "duration": 17,
        "start_time": "2023-01-31T09:48:14.702Z"
      },
      {
        "duration": 40,
        "start_time": "2023-01-31T09:48:14.721Z"
      },
      {
        "duration": 5,
        "start_time": "2023-01-31T09:48:14.763Z"
      },
      {
        "duration": 258,
        "start_time": "2023-01-31T09:48:14.770Z"
      },
      {
        "duration": 32,
        "start_time": "2023-01-31T09:48:15.030Z"
      },
      {
        "duration": 15,
        "start_time": "2023-01-31T09:48:15.064Z"
      },
      {
        "duration": 58,
        "start_time": "2023-01-31T09:48:15.081Z"
      },
      {
        "duration": 68,
        "start_time": "2023-01-31T09:48:15.141Z"
      },
      {
        "duration": 272,
        "start_time": "2023-01-31T09:48:15.211Z"
      },
      {
        "duration": 10,
        "start_time": "2023-01-31T09:48:15.485Z"
      },
      {
        "duration": 89,
        "start_time": "2023-01-31T09:48:15.497Z"
      },
      {
        "duration": 11,
        "start_time": "2023-01-31T09:48:15.637Z"
      },
      {
        "duration": 18,
        "start_time": "2023-01-31T09:48:15.650Z"
      },
      {
        "duration": 23,
        "start_time": "2023-01-31T09:48:15.670Z"
      },
      {
        "duration": 917,
        "start_time": "2023-01-31T09:48:15.695Z"
      },
      {
        "duration": 1169,
        "start_time": "2023-01-31T09:49:05.620Z"
      },
      {
        "duration": 1159,
        "start_time": "2023-01-31T09:49:06.792Z"
      },
      {
        "duration": 134,
        "start_time": "2023-01-31T09:49:07.952Z"
      },
      {
        "duration": 6,
        "start_time": "2023-01-31T09:49:08.088Z"
      },
      {
        "duration": 141,
        "start_time": "2023-01-31T09:49:08.095Z"
      },
      {
        "duration": 9,
        "start_time": "2023-01-31T09:49:08.238Z"
      },
      {
        "duration": 121,
        "start_time": "2023-01-31T09:49:08.249Z"
      },
      {
        "duration": 78,
        "start_time": "2023-01-31T09:49:08.374Z"
      },
      {
        "duration": 15,
        "start_time": "2023-01-31T09:49:08.454Z"
      },
      {
        "duration": 13,
        "start_time": "2023-01-31T09:49:08.472Z"
      },
      {
        "duration": 49,
        "start_time": "2023-01-31T09:49:08.488Z"
      },
      {
        "duration": 7,
        "start_time": "2023-01-31T09:49:08.539Z"
      },
      {
        "duration": 19,
        "start_time": "2023-01-31T09:49:08.548Z"
      },
      {
        "duration": 13,
        "start_time": "2023-01-31T09:49:08.569Z"
      },
      {
        "duration": 7,
        "start_time": "2023-01-31T09:49:08.584Z"
      },
      {
        "duration": 67,
        "start_time": "2023-01-31T09:49:08.593Z"
      },
      {
        "duration": 16,
        "start_time": "2023-01-31T09:49:08.662Z"
      },
      {
        "duration": 5,
        "start_time": "2023-01-31T09:49:08.681Z"
      },
      {
        "duration": 10,
        "start_time": "2023-01-31T09:49:08.687Z"
      },
      {
        "duration": 343,
        "start_time": "2023-01-31T09:49:08.699Z"
      },
      {
        "duration": 14,
        "start_time": "2023-01-31T09:49:09.045Z"
      },
      {
        "duration": 17,
        "start_time": "2023-01-31T09:49:09.061Z"
      },
      {
        "duration": 3,
        "start_time": "2023-01-31T09:49:09.080Z"
      },
      {
        "duration": 274,
        "start_time": "2023-01-31T09:49:09.085Z"
      },
      {
        "duration": 43,
        "start_time": "2023-01-31T09:49:09.363Z"
      },
      {
        "duration": 5,
        "start_time": "2023-01-31T09:49:09.408Z"
      },
      {
        "duration": 48,
        "start_time": "2023-01-31T09:49:09.415Z"
      },
      {
        "duration": 78,
        "start_time": "2023-01-31T09:49:09.466Z"
      },
      {
        "duration": 268,
        "start_time": "2023-01-31T09:49:09.545Z"
      },
      {
        "duration": 10,
        "start_time": "2023-01-31T09:49:09.814Z"
      },
      {
        "duration": 114,
        "start_time": "2023-01-31T09:49:09.826Z"
      },
      {
        "duration": 115,
        "start_time": "2023-01-31T09:49:13.135Z"
      },
      {
        "duration": 10,
        "start_time": "2023-01-31T09:49:19.138Z"
      },
      {
        "duration": 1226,
        "start_time": "2023-01-31T09:49:36.409Z"
      },
      {
        "duration": 875,
        "start_time": "2023-01-31T09:49:59.689Z"
      },
      {
        "duration": 1191,
        "start_time": "2023-01-31T09:52:02.199Z"
      },
      {
        "duration": 1258,
        "start_time": "2023-01-31T09:52:03.392Z"
      },
      {
        "duration": 186,
        "start_time": "2023-01-31T09:52:04.652Z"
      },
      {
        "duration": 7,
        "start_time": "2023-01-31T09:52:04.841Z"
      },
      {
        "duration": 139,
        "start_time": "2023-01-31T09:52:04.849Z"
      },
      {
        "duration": 10,
        "start_time": "2023-01-31T09:52:04.990Z"
      },
      {
        "duration": 98,
        "start_time": "2023-01-31T09:52:05.002Z"
      },
      {
        "duration": 65,
        "start_time": "2023-01-31T09:52:05.102Z"
      },
      {
        "duration": 11,
        "start_time": "2023-01-31T09:52:05.169Z"
      },
      {
        "duration": 14,
        "start_time": "2023-01-31T09:52:05.183Z"
      },
      {
        "duration": 37,
        "start_time": "2023-01-31T09:52:05.199Z"
      },
      {
        "duration": 5,
        "start_time": "2023-01-31T09:52:05.238Z"
      },
      {
        "duration": 15,
        "start_time": "2023-01-31T09:52:05.245Z"
      },
      {
        "duration": 14,
        "start_time": "2023-01-31T09:52:05.262Z"
      },
      {
        "duration": 10,
        "start_time": "2023-01-31T09:52:05.278Z"
      },
      {
        "duration": 149,
        "start_time": "2023-01-31T09:52:05.290Z"
      },
      {
        "duration": 16,
        "start_time": "2023-01-31T09:52:05.441Z"
      },
      {
        "duration": 17,
        "start_time": "2023-01-31T09:52:05.459Z"
      },
      {
        "duration": 14,
        "start_time": "2023-01-31T09:52:05.478Z"
      },
      {
        "duration": 338,
        "start_time": "2023-01-31T09:52:05.494Z"
      },
      {
        "duration": 14,
        "start_time": "2023-01-31T09:52:05.834Z"
      },
      {
        "duration": 24,
        "start_time": "2023-01-31T09:52:05.850Z"
      },
      {
        "duration": 5,
        "start_time": "2023-01-31T09:52:05.876Z"
      },
      {
        "duration": 256,
        "start_time": "2023-01-31T09:52:05.883Z"
      },
      {
        "duration": 27,
        "start_time": "2023-01-31T09:52:06.140Z"
      },
      {
        "duration": 4,
        "start_time": "2023-01-31T09:52:06.168Z"
      },
      {
        "duration": 52,
        "start_time": "2023-01-31T09:52:06.174Z"
      },
      {
        "duration": 75,
        "start_time": "2023-01-31T09:52:06.229Z"
      },
      {
        "duration": 312,
        "start_time": "2023-01-31T09:52:06.306Z"
      },
      {
        "duration": 10,
        "start_time": "2023-01-31T09:52:06.620Z"
      },
      {
        "duration": 65,
        "start_time": "2023-01-31T09:52:27.930Z"
      },
      {
        "duration": 14,
        "start_time": "2023-01-31T09:52:31.353Z"
      },
      {
        "duration": 6,
        "start_time": "2023-01-31T09:52:34.681Z"
      },
      {
        "duration": 15,
        "start_time": "2023-01-31T09:52:41.538Z"
      },
      {
        "duration": 128,
        "start_time": "2023-01-31T09:52:46.520Z"
      },
      {
        "duration": 12,
        "start_time": "2023-01-31T09:52:50.664Z"
      },
      {
        "duration": 12,
        "start_time": "2023-01-31T09:52:56.913Z"
      },
      {
        "duration": 14,
        "start_time": "2023-01-31T09:53:14.179Z"
      },
      {
        "duration": 15,
        "start_time": "2023-01-31T09:53:34.715Z"
      },
      {
        "duration": 11,
        "start_time": "2023-01-31T09:55:25.789Z"
      },
      {
        "duration": 13,
        "start_time": "2023-01-31T09:56:09.995Z"
      },
      {
        "duration": 12,
        "start_time": "2023-01-31T09:56:33.260Z"
      },
      {
        "duration": 73,
        "start_time": "2023-01-31T09:56:51.395Z"
      },
      {
        "duration": 81,
        "start_time": "2023-01-31T09:56:58.443Z"
      },
      {
        "duration": 62,
        "start_time": "2023-01-31T09:57:02.979Z"
      },
      {
        "duration": 1149,
        "start_time": "2023-01-31T09:57:07.782Z"
      },
      {
        "duration": 1107,
        "start_time": "2023-01-31T09:57:08.933Z"
      },
      {
        "duration": 135,
        "start_time": "2023-01-31T09:57:10.042Z"
      },
      {
        "duration": 6,
        "start_time": "2023-01-31T09:57:10.179Z"
      },
      {
        "duration": 136,
        "start_time": "2023-01-31T09:57:10.186Z"
      },
      {
        "duration": 9,
        "start_time": "2023-01-31T09:57:10.324Z"
      },
      {
        "duration": 99,
        "start_time": "2023-01-31T09:57:10.334Z"
      },
      {
        "duration": 58,
        "start_time": "2023-01-31T09:57:10.435Z"
      },
      {
        "duration": 11,
        "start_time": "2023-01-31T09:57:10.495Z"
      },
      {
        "duration": 15,
        "start_time": "2023-01-31T09:57:10.508Z"
      },
      {
        "duration": 23,
        "start_time": "2023-01-31T09:57:10.537Z"
      },
      {
        "duration": 5,
        "start_time": "2023-01-31T09:57:10.562Z"
      },
      {
        "duration": 16,
        "start_time": "2023-01-31T09:57:10.568Z"
      },
      {
        "duration": 11,
        "start_time": "2023-01-31T09:57:10.586Z"
      },
      {
        "duration": 9,
        "start_time": "2023-01-31T09:57:10.599Z"
      },
      {
        "duration": 51,
        "start_time": "2023-01-31T09:57:10.609Z"
      },
      {
        "duration": 17,
        "start_time": "2023-01-31T09:57:10.662Z"
      },
      {
        "duration": 12,
        "start_time": "2023-01-31T09:57:10.682Z"
      },
      {
        "duration": 6,
        "start_time": "2023-01-31T09:57:10.696Z"
      },
      {
        "duration": 344,
        "start_time": "2023-01-31T09:57:10.704Z"
      },
      {
        "duration": 13,
        "start_time": "2023-01-31T09:57:11.050Z"
      },
      {
        "duration": 19,
        "start_time": "2023-01-31T09:57:11.065Z"
      },
      {
        "duration": 4,
        "start_time": "2023-01-31T09:57:11.086Z"
      },
      {
        "duration": 265,
        "start_time": "2023-01-31T09:57:11.091Z"
      },
      {
        "duration": 26,
        "start_time": "2023-01-31T09:57:11.358Z"
      },
      {
        "duration": 4,
        "start_time": "2023-01-31T09:57:11.386Z"
      },
      {
        "duration": 51,
        "start_time": "2023-01-31T09:57:11.391Z"
      },
      {
        "duration": 61,
        "start_time": "2023-01-31T09:57:11.446Z"
      },
      {
        "duration": 234,
        "start_time": "2023-01-31T09:57:11.509Z"
      },
      {
        "duration": 10,
        "start_time": "2023-01-31T09:57:11.745Z"
      },
      {
        "duration": 131,
        "start_time": "2023-01-31T09:57:11.757Z"
      },
      {
        "duration": 48,
        "start_time": "2023-01-31T09:57:11.890Z"
      },
      {
        "duration": 25,
        "start_time": "2023-01-31T09:57:11.939Z"
      },
      {
        "duration": 22,
        "start_time": "2023-01-31T09:57:11.966Z"
      },
      {
        "duration": 24,
        "start_time": "2023-01-31T09:57:11.990Z"
      },
      {
        "duration": 12,
        "start_time": "2023-01-31T09:58:31.372Z"
      },
      {
        "duration": 11,
        "start_time": "2023-01-31T09:59:26.813Z"
      },
      {
        "duration": 35,
        "start_time": "2023-01-31T11:38:03.672Z"
      },
      {
        "duration": 12,
        "start_time": "2023-01-31T11:39:34.937Z"
      },
      {
        "duration": 9,
        "start_time": "2023-01-31T11:39:39.017Z"
      },
      {
        "duration": 31,
        "start_time": "2023-01-31T11:39:56.473Z"
      },
      {
        "duration": 30,
        "start_time": "2023-01-31T11:41:28.371Z"
      },
      {
        "duration": 13,
        "start_time": "2023-01-31T11:41:40.267Z"
      },
      {
        "duration": 20,
        "start_time": "2023-01-31T11:42:07.434Z"
      },
      {
        "duration": 120,
        "start_time": "2023-01-31T11:42:30.154Z"
      },
      {
        "duration": 27,
        "start_time": "2023-01-31T11:42:34.321Z"
      },
      {
        "duration": 27,
        "start_time": "2023-01-31T11:42:37.297Z"
      },
      {
        "duration": 22,
        "start_time": "2023-01-31T11:42:40.778Z"
      },
      {
        "duration": 48,
        "start_time": "2023-01-31T11:43:09.385Z"
      },
      {
        "duration": 45,
        "start_time": "2023-01-31T11:43:13.826Z"
      },
      {
        "duration": 22,
        "start_time": "2023-01-31T11:43:18.466Z"
      },
      {
        "duration": 24,
        "start_time": "2023-01-31T11:43:26.378Z"
      },
      {
        "duration": 19,
        "start_time": "2023-01-31T11:44:07.475Z"
      },
      {
        "duration": 32,
        "start_time": "2023-01-31T11:44:25.523Z"
      },
      {
        "duration": 20,
        "start_time": "2023-01-31T11:44:53.050Z"
      },
      {
        "duration": 22,
        "start_time": "2023-01-31T11:45:11.539Z"
      },
      {
        "duration": 202,
        "start_time": "2023-01-31T11:50:55.062Z"
      },
      {
        "duration": 189,
        "start_time": "2023-01-31T11:52:16.263Z"
      },
      {
        "duration": 194,
        "start_time": "2023-01-31T11:52:25.861Z"
      },
      {
        "duration": 196,
        "start_time": "2023-01-31T11:52:33.782Z"
      },
      {
        "duration": 10,
        "start_time": "2023-01-31T11:53:31.446Z"
      },
      {
        "duration": 208,
        "start_time": "2023-01-31T11:53:58.992Z"
      },
      {
        "duration": 1238,
        "start_time": "2023-01-31T11:54:03.869Z"
      },
      {
        "duration": 1111,
        "start_time": "2023-01-31T11:54:05.110Z"
      },
      {
        "duration": 137,
        "start_time": "2023-01-31T11:54:06.222Z"
      },
      {
        "duration": 5,
        "start_time": "2023-01-31T11:54:06.362Z"
      },
      {
        "duration": 132,
        "start_time": "2023-01-31T11:54:06.368Z"
      },
      {
        "duration": 9,
        "start_time": "2023-01-31T11:54:06.502Z"
      },
      {
        "duration": 99,
        "start_time": "2023-01-31T11:54:06.513Z"
      },
      {
        "duration": 62,
        "start_time": "2023-01-31T11:54:06.613Z"
      },
      {
        "duration": 10,
        "start_time": "2023-01-31T11:54:06.677Z"
      },
      {
        "duration": 10,
        "start_time": "2023-01-31T11:54:06.690Z"
      },
      {
        "duration": 41,
        "start_time": "2023-01-31T11:54:06.702Z"
      },
      {
        "duration": 6,
        "start_time": "2023-01-31T11:54:06.745Z"
      },
      {
        "duration": 7,
        "start_time": "2023-01-31T11:54:06.753Z"
      },
      {
        "duration": 13,
        "start_time": "2023-01-31T11:54:06.762Z"
      },
      {
        "duration": 8,
        "start_time": "2023-01-31T11:54:06.777Z"
      },
      {
        "duration": 69,
        "start_time": "2023-01-31T11:54:06.787Z"
      },
      {
        "duration": 25,
        "start_time": "2023-01-31T11:54:06.858Z"
      },
      {
        "duration": 9,
        "start_time": "2023-01-31T11:54:06.886Z"
      },
      {
        "duration": 8,
        "start_time": "2023-01-31T11:54:06.897Z"
      },
      {
        "duration": 332,
        "start_time": "2023-01-31T11:54:06.907Z"
      },
      {
        "duration": 12,
        "start_time": "2023-01-31T11:54:07.241Z"
      },
      {
        "duration": 16,
        "start_time": "2023-01-31T11:54:07.255Z"
      },
      {
        "duration": 4,
        "start_time": "2023-01-31T11:54:07.272Z"
      },
      {
        "duration": 249,
        "start_time": "2023-01-31T11:54:07.278Z"
      },
      {
        "duration": 27,
        "start_time": "2023-01-31T11:54:07.529Z"
      },
      {
        "duration": 4,
        "start_time": "2023-01-31T11:54:07.558Z"
      },
      {
        "duration": 32,
        "start_time": "2023-01-31T11:54:07.564Z"
      },
      {
        "duration": 79,
        "start_time": "2023-01-31T11:54:07.600Z"
      },
      {
        "duration": 223,
        "start_time": "2023-01-31T11:54:07.680Z"
      },
      {
        "duration": 11,
        "start_time": "2023-01-31T11:54:07.905Z"
      },
      {
        "duration": 128,
        "start_time": "2023-01-31T11:54:07.917Z"
      },
      {
        "duration": 13,
        "start_time": "2023-01-31T11:54:08.047Z"
      },
      {
        "duration": 14,
        "start_time": "2023-01-31T11:54:08.061Z"
      },
      {
        "duration": 26,
        "start_time": "2023-01-31T11:54:08.076Z"
      },
      {
        "duration": 18,
        "start_time": "2023-01-31T11:54:08.103Z"
      },
      {
        "duration": 19,
        "start_time": "2023-01-31T11:54:08.136Z"
      },
      {
        "duration": 236,
        "start_time": "2023-01-31T11:54:08.157Z"
      },
      {
        "duration": 6,
        "start_time": "2023-01-31T12:26:05.849Z"
      },
      {
        "duration": 8,
        "start_time": "2023-01-31T12:26:11.783Z"
      },
      {
        "duration": 6,
        "start_time": "2023-01-31T12:26:30.304Z"
      },
      {
        "duration": 842,
        "start_time": "2023-01-31T12:26:42.464Z"
      },
      {
        "duration": 754,
        "start_time": "2023-01-31T12:26:54.168Z"
      },
      {
        "duration": 8,
        "start_time": "2023-01-31T12:27:16.649Z"
      },
      {
        "duration": 20,
        "start_time": "2023-01-31T12:27:44.808Z"
      },
      {
        "duration": 722,
        "start_time": "2023-01-31T12:28:09.592Z"
      },
      {
        "duration": 1157,
        "start_time": "2023-01-31T12:28:34.954Z"
      },
      {
        "duration": 1146,
        "start_time": "2023-01-31T12:28:36.113Z"
      },
      {
        "duration": 148,
        "start_time": "2023-01-31T12:28:37.260Z"
      },
      {
        "duration": 6,
        "start_time": "2023-01-31T12:28:37.410Z"
      },
      {
        "duration": 155,
        "start_time": "2023-01-31T12:28:37.417Z"
      },
      {
        "duration": 10,
        "start_time": "2023-01-31T12:28:37.574Z"
      },
      {
        "duration": 99,
        "start_time": "2023-01-31T12:28:37.586Z"
      },
      {
        "duration": 67,
        "start_time": "2023-01-31T12:28:37.686Z"
      },
      {
        "duration": 12,
        "start_time": "2023-01-31T12:28:37.755Z"
      },
      {
        "duration": 17,
        "start_time": "2023-01-31T12:28:37.769Z"
      },
      {
        "duration": 30,
        "start_time": "2023-01-31T12:28:37.789Z"
      },
      {
        "duration": 29,
        "start_time": "2023-01-31T12:28:37.821Z"
      },
      {
        "duration": 24,
        "start_time": "2023-01-31T12:28:37.852Z"
      },
      {
        "duration": 25,
        "start_time": "2023-01-31T12:28:37.878Z"
      },
      {
        "duration": 20,
        "start_time": "2023-01-31T12:28:37.906Z"
      },
      {
        "duration": 39,
        "start_time": "2023-01-31T12:28:37.928Z"
      },
      {
        "duration": 15,
        "start_time": "2023-01-31T12:28:37.969Z"
      },
      {
        "duration": 16,
        "start_time": "2023-01-31T12:28:37.986Z"
      },
      {
        "duration": 29,
        "start_time": "2023-01-31T12:28:38.004Z"
      },
      {
        "duration": 342,
        "start_time": "2023-01-31T12:28:38.034Z"
      },
      {
        "duration": 15,
        "start_time": "2023-01-31T12:28:38.379Z"
      },
      {
        "duration": 72,
        "start_time": "2023-01-31T12:28:38.396Z"
      },
      {
        "duration": 23,
        "start_time": "2023-01-31T12:28:38.470Z"
      },
      {
        "duration": 267,
        "start_time": "2023-01-31T12:28:38.495Z"
      },
      {
        "duration": 25,
        "start_time": "2023-01-31T12:28:38.764Z"
      },
      {
        "duration": 7,
        "start_time": "2023-01-31T12:28:38.791Z"
      },
      {
        "duration": 47,
        "start_time": "2023-01-31T12:28:38.799Z"
      },
      {
        "duration": 61,
        "start_time": "2023-01-31T12:28:38.850Z"
      },
      {
        "duration": 235,
        "start_time": "2023-01-31T12:28:38.913Z"
      },
      {
        "duration": 10,
        "start_time": "2023-01-31T12:28:39.150Z"
      },
      {
        "duration": 118,
        "start_time": "2023-01-31T12:28:39.161Z"
      },
      {
        "duration": 14,
        "start_time": "2023-01-31T12:28:39.280Z"
      },
      {
        "duration": 50,
        "start_time": "2023-01-31T12:28:39.295Z"
      },
      {
        "duration": 12,
        "start_time": "2023-01-31T12:28:39.348Z"
      },
      {
        "duration": 29,
        "start_time": "2023-01-31T12:28:39.362Z"
      },
      {
        "duration": 31,
        "start_time": "2023-01-31T12:28:39.393Z"
      },
      {
        "duration": 206,
        "start_time": "2023-01-31T12:28:39.426Z"
      },
      {
        "duration": 3,
        "start_time": "2023-01-31T12:28:39.634Z"
      },
      {
        "duration": 831,
        "start_time": "2023-01-31T12:28:39.638Z"
      },
      {
        "duration": 767,
        "start_time": "2023-01-31T12:29:20.241Z"
      },
      {
        "duration": 768,
        "start_time": "2023-01-31T12:29:39.249Z"
      },
      {
        "duration": 9,
        "start_time": "2023-01-31T12:29:44.746Z"
      },
      {
        "duration": 767,
        "start_time": "2023-01-31T12:29:53.161Z"
      },
      {
        "duration": 9,
        "start_time": "2023-01-31T12:30:03.369Z"
      },
      {
        "duration": 1291,
        "start_time": "2023-01-31T12:30:15.993Z"
      },
      {
        "duration": 16,
        "start_time": "2023-01-31T12:30:26.529Z"
      },
      {
        "duration": 15,
        "start_time": "2023-01-31T12:30:42.914Z"
      },
      {
        "duration": 207,
        "start_time": "2023-01-31T12:31:21.354Z"
      },
      {
        "duration": 200,
        "start_time": "2023-01-31T12:31:36.234Z"
      },
      {
        "duration": 1189,
        "start_time": "2023-01-31T12:32:43.324Z"
      },
      {
        "duration": 1161,
        "start_time": "2023-01-31T12:32:44.515Z"
      },
      {
        "duration": 132,
        "start_time": "2023-01-31T12:32:45.677Z"
      },
      {
        "duration": 6,
        "start_time": "2023-01-31T12:32:45.811Z"
      },
      {
        "duration": 138,
        "start_time": "2023-01-31T12:32:45.819Z"
      },
      {
        "duration": 9,
        "start_time": "2023-01-31T12:32:45.959Z"
      },
      {
        "duration": 90,
        "start_time": "2023-01-31T12:32:45.969Z"
      },
      {
        "duration": 58,
        "start_time": "2023-01-31T12:32:46.061Z"
      },
      {
        "duration": 27,
        "start_time": "2023-01-31T12:32:46.120Z"
      },
      {
        "duration": 72,
        "start_time": "2023-01-31T12:32:46.150Z"
      },
      {
        "duration": 112,
        "start_time": "2023-01-31T12:32:46.224Z"
      },
      {
        "duration": 23,
        "start_time": "2023-01-31T12:32:46.338Z"
      },
      {
        "duration": 9,
        "start_time": "2023-01-31T12:32:46.363Z"
      },
      {
        "duration": 27,
        "start_time": "2023-01-31T12:32:46.374Z"
      },
      {
        "duration": 8,
        "start_time": "2023-01-31T12:32:46.403Z"
      },
      {
        "duration": 35,
        "start_time": "2023-01-31T12:32:46.413Z"
      },
      {
        "duration": 38,
        "start_time": "2023-01-31T12:32:46.450Z"
      },
      {
        "duration": 11,
        "start_time": "2023-01-31T12:32:46.490Z"
      },
      {
        "duration": 15,
        "start_time": "2023-01-31T12:32:46.503Z"
      },
      {
        "duration": 318,
        "start_time": "2023-01-31T12:32:46.520Z"
      },
      {
        "duration": 13,
        "start_time": "2023-01-31T12:32:46.839Z"
      },
      {
        "duration": 17,
        "start_time": "2023-01-31T12:32:46.854Z"
      },
      {
        "duration": 3,
        "start_time": "2023-01-31T12:32:46.873Z"
      },
      {
        "duration": 254,
        "start_time": "2023-01-31T12:32:46.878Z"
      },
      {
        "duration": 29,
        "start_time": "2023-01-31T12:32:47.135Z"
      },
      {
        "duration": 4,
        "start_time": "2023-01-31T12:32:47.166Z"
      },
      {
        "duration": 58,
        "start_time": "2023-01-31T12:32:47.172Z"
      },
      {
        "duration": 66,
        "start_time": "2023-01-31T12:32:47.233Z"
      },
      {
        "duration": 250,
        "start_time": "2023-01-31T12:32:47.302Z"
      },
      {
        "duration": 10,
        "start_time": "2023-01-31T12:32:47.554Z"
      },
      {
        "duration": 120,
        "start_time": "2023-01-31T12:32:47.565Z"
      },
      {
        "duration": 12,
        "start_time": "2023-01-31T12:32:47.687Z"
      },
      {
        "duration": 47,
        "start_time": "2023-01-31T12:32:47.701Z"
      },
      {
        "duration": 26,
        "start_time": "2023-01-31T12:32:47.750Z"
      },
      {
        "duration": 31,
        "start_time": "2023-01-31T12:32:47.778Z"
      },
      {
        "duration": 34,
        "start_time": "2023-01-31T12:32:47.811Z"
      },
      {
        "duration": 208,
        "start_time": "2023-01-31T12:32:47.847Z"
      },
      {
        "duration": 2,
        "start_time": "2023-01-31T12:32:48.057Z"
      },
      {
        "duration": 121,
        "start_time": "2023-01-31T12:32:48.061Z"
      },
      {
        "duration": 16,
        "start_time": "2023-01-31T12:32:58.834Z"
      },
      {
        "duration": 400,
        "start_time": "2023-01-31T12:35:12.292Z"
      },
      {
        "duration": 245,
        "start_time": "2023-01-31T12:37:28.501Z"
      },
      {
        "duration": 1190,
        "start_time": "2023-01-31T12:37:41.913Z"
      },
      {
        "duration": 1179,
        "start_time": "2023-01-31T12:37:43.105Z"
      },
      {
        "duration": 142,
        "start_time": "2023-01-31T12:37:44.286Z"
      },
      {
        "duration": 7,
        "start_time": "2023-01-31T12:37:44.437Z"
      },
      {
        "duration": 142,
        "start_time": "2023-01-31T12:37:44.445Z"
      },
      {
        "duration": 11,
        "start_time": "2023-01-31T12:37:44.588Z"
      },
      {
        "duration": 97,
        "start_time": "2023-01-31T12:37:44.600Z"
      },
      {
        "duration": 67,
        "start_time": "2023-01-31T12:37:44.698Z"
      },
      {
        "duration": 13,
        "start_time": "2023-01-31T12:37:44.767Z"
      },
      {
        "duration": 22,
        "start_time": "2023-01-31T12:37:44.784Z"
      },
      {
        "duration": 30,
        "start_time": "2023-01-31T12:37:44.808Z"
      },
      {
        "duration": 11,
        "start_time": "2023-01-31T12:37:44.840Z"
      },
      {
        "duration": 11,
        "start_time": "2023-01-31T12:37:44.853Z"
      },
      {
        "duration": 36,
        "start_time": "2023-01-31T12:37:44.865Z"
      },
      {
        "duration": 18,
        "start_time": "2023-01-31T12:37:44.903Z"
      },
      {
        "duration": 43,
        "start_time": "2023-01-31T12:37:44.923Z"
      },
      {
        "duration": 15,
        "start_time": "2023-01-31T12:37:44.968Z"
      },
      {
        "duration": 13,
        "start_time": "2023-01-31T12:37:44.985Z"
      },
      {
        "duration": 39,
        "start_time": "2023-01-31T12:37:45.000Z"
      },
      {
        "duration": 350,
        "start_time": "2023-01-31T12:37:45.041Z"
      },
      {
        "duration": 16,
        "start_time": "2023-01-31T12:37:45.393Z"
      },
      {
        "duration": 36,
        "start_time": "2023-01-31T12:37:45.411Z"
      },
      {
        "duration": 5,
        "start_time": "2023-01-31T12:37:45.449Z"
      },
      {
        "duration": 250,
        "start_time": "2023-01-31T12:37:45.455Z"
      },
      {
        "duration": 37,
        "start_time": "2023-01-31T12:37:45.707Z"
      },
      {
        "duration": 4,
        "start_time": "2023-01-31T12:37:45.745Z"
      },
      {
        "duration": 45,
        "start_time": "2023-01-31T12:37:45.751Z"
      },
      {
        "duration": 63,
        "start_time": "2023-01-31T12:37:45.800Z"
      },
      {
        "duration": 249,
        "start_time": "2023-01-31T12:37:45.865Z"
      },
      {
        "duration": 10,
        "start_time": "2023-01-31T12:37:46.116Z"
      },
      {
        "duration": 122,
        "start_time": "2023-01-31T12:37:46.128Z"
      },
      {
        "duration": 13,
        "start_time": "2023-01-31T12:37:46.252Z"
      },
      {
        "duration": 14,
        "start_time": "2023-01-31T12:37:46.268Z"
      },
      {
        "duration": 15,
        "start_time": "2023-01-31T12:37:46.283Z"
      },
      {
        "duration": 46,
        "start_time": "2023-01-31T12:37:46.300Z"
      },
      {
        "duration": 21,
        "start_time": "2023-01-31T12:37:46.349Z"
      },
      {
        "duration": 236,
        "start_time": "2023-01-31T12:37:46.372Z"
      },
      {
        "duration": 3,
        "start_time": "2023-01-31T12:37:46.610Z"
      },
      {
        "duration": 127,
        "start_time": "2023-01-31T12:37:46.615Z"
      },
      {
        "duration": 11,
        "start_time": "2023-01-31T12:42:57.398Z"
      },
      {
        "duration": 860,
        "start_time": "2023-01-31T12:43:06.350Z"
      },
      {
        "duration": 872,
        "start_time": "2023-01-31T12:43:52.702Z"
      },
      {
        "duration": 18,
        "start_time": "2023-01-31T12:43:59.343Z"
      },
      {
        "duration": 828,
        "start_time": "2023-01-31T12:46:24.527Z"
      },
      {
        "duration": 7,
        "start_time": "2023-01-31T12:48:13.239Z"
      },
      {
        "duration": 772,
        "start_time": "2023-01-31T12:48:25.887Z"
      },
      {
        "duration": 48,
        "start_time": "2023-01-31T12:48:46.863Z"
      },
      {
        "duration": 7,
        "start_time": "2023-01-31T12:48:52.703Z"
      },
      {
        "duration": 6,
        "start_time": "2023-01-31T12:49:10.703Z"
      },
      {
        "duration": 795,
        "start_time": "2023-01-31T12:49:53.176Z"
      },
      {
        "duration": 43,
        "start_time": "2023-01-31T12:49:58.168Z"
      },
      {
        "duration": 52,
        "start_time": "2023-01-31T12:50:05.556Z"
      },
      {
        "duration": 1158,
        "start_time": "2023-01-31T12:50:09.568Z"
      },
      {
        "duration": 1100,
        "start_time": "2023-01-31T12:51:35.898Z"
      },
      {
        "duration": 1597,
        "start_time": "2023-01-31T12:51:42.514Z"
      },
      {
        "duration": 13,
        "start_time": "2023-01-31T12:52:01.186Z"
      },
      {
        "duration": 6,
        "start_time": "2023-01-31T12:52:06.129Z"
      },
      {
        "duration": 6,
        "start_time": "2023-01-31T12:52:17.578Z"
      },
      {
        "duration": 8,
        "start_time": "2023-01-31T12:52:20.218Z"
      },
      {
        "duration": 6,
        "start_time": "2023-01-31T12:52:23.714Z"
      },
      {
        "duration": 7,
        "start_time": "2023-01-31T12:53:00.058Z"
      },
      {
        "duration": 6,
        "start_time": "2023-01-31T12:58:17.083Z"
      },
      {
        "duration": 11,
        "start_time": "2023-01-31T12:58:38.236Z"
      },
      {
        "duration": 18,
        "start_time": "2023-01-31T12:58:43.099Z"
      },
      {
        "duration": 4,
        "start_time": "2023-01-31T12:59:41.620Z"
      },
      {
        "duration": 8,
        "start_time": "2023-01-31T12:59:42.099Z"
      },
      {
        "duration": 1185,
        "start_time": "2023-01-31T13:03:44.627Z"
      },
      {
        "duration": 1205,
        "start_time": "2023-01-31T13:03:45.815Z"
      },
      {
        "duration": 145,
        "start_time": "2023-01-31T13:03:47.022Z"
      },
      {
        "duration": 6,
        "start_time": "2023-01-31T13:03:47.169Z"
      },
      {
        "duration": 146,
        "start_time": "2023-01-31T13:03:47.176Z"
      },
      {
        "duration": 12,
        "start_time": "2023-01-31T13:03:47.324Z"
      },
      {
        "duration": 108,
        "start_time": "2023-01-31T13:03:47.338Z"
      },
      {
        "duration": 63,
        "start_time": "2023-01-31T13:03:47.448Z"
      },
      {
        "duration": 12,
        "start_time": "2023-01-31T13:03:47.513Z"
      },
      {
        "duration": 17,
        "start_time": "2023-01-31T13:03:47.538Z"
      },
      {
        "duration": 48,
        "start_time": "2023-01-31T13:03:47.556Z"
      },
      {
        "duration": 15,
        "start_time": "2023-01-31T13:03:47.605Z"
      },
      {
        "duration": 38,
        "start_time": "2023-01-31T13:03:47.622Z"
      },
      {
        "duration": 32,
        "start_time": "2023-01-31T13:03:47.661Z"
      },
      {
        "duration": 45,
        "start_time": "2023-01-31T13:03:47.694Z"
      },
      {
        "duration": 72,
        "start_time": "2023-01-31T13:03:47.741Z"
      },
      {
        "duration": 16,
        "start_time": "2023-01-31T13:03:47.815Z"
      },
      {
        "duration": 51,
        "start_time": "2023-01-31T13:03:47.833Z"
      },
      {
        "duration": 43,
        "start_time": "2023-01-31T13:03:47.885Z"
      },
      {
        "duration": 320,
        "start_time": "2023-01-31T13:03:47.931Z"
      },
      {
        "duration": 14,
        "start_time": "2023-01-31T13:03:48.253Z"
      },
      {
        "duration": 16,
        "start_time": "2023-01-31T13:03:48.269Z"
      },
      {
        "duration": 9,
        "start_time": "2023-01-31T13:03:48.287Z"
      },
      {
        "duration": 286,
        "start_time": "2023-01-31T13:03:48.297Z"
      },
      {
        "duration": 34,
        "start_time": "2023-01-31T13:03:48.586Z"
      },
      {
        "duration": 15,
        "start_time": "2023-01-31T13:03:48.623Z"
      },
      {
        "duration": 65,
        "start_time": "2023-01-31T13:03:48.641Z"
      },
      {
        "duration": 82,
        "start_time": "2023-01-31T13:03:48.711Z"
      },
      {
        "duration": 237,
        "start_time": "2023-01-31T13:03:48.796Z"
      },
      {
        "duration": 10,
        "start_time": "2023-01-31T13:03:49.034Z"
      },
      {
        "duration": 132,
        "start_time": "2023-01-31T13:03:49.046Z"
      },
      {
        "duration": 13,
        "start_time": "2023-01-31T13:03:49.180Z"
      },
      {
        "duration": 43,
        "start_time": "2023-01-31T13:03:49.195Z"
      },
      {
        "duration": 32,
        "start_time": "2023-01-31T13:03:49.239Z"
      },
      {
        "duration": 51,
        "start_time": "2023-01-31T13:03:49.273Z"
      },
      {
        "duration": 43,
        "start_time": "2023-01-31T13:03:49.326Z"
      },
      {
        "duration": 208,
        "start_time": "2023-01-31T13:03:49.371Z"
      },
      {
        "duration": 4,
        "start_time": "2023-01-31T13:03:49.581Z"
      },
      {
        "duration": 64,
        "start_time": "2023-01-31T13:03:49.586Z"
      },
      {
        "duration": 6,
        "start_time": "2023-01-31T13:05:02.517Z"
      },
      {
        "duration": 7,
        "start_time": "2023-01-31T13:05:24.917Z"
      },
      {
        "duration": 8,
        "start_time": "2023-01-31T13:05:53.422Z"
      },
      {
        "duration": 5,
        "start_time": "2023-01-31T13:06:17.462Z"
      },
      {
        "duration": 6,
        "start_time": "2023-01-31T13:06:26.046Z"
      },
      {
        "duration": 5,
        "start_time": "2023-01-31T13:11:02.159Z"
      },
      {
        "duration": 7,
        "start_time": "2023-01-31T13:11:12.143Z"
      },
      {
        "duration": 6,
        "start_time": "2023-01-31T13:11:21.696Z"
      },
      {
        "duration": 10,
        "start_time": "2023-01-31T13:12:45.088Z"
      },
      {
        "duration": 10,
        "start_time": "2023-01-31T13:13:31.840Z"
      },
      {
        "duration": 1137,
        "start_time": "2023-01-31T13:13:42.699Z"
      },
      {
        "duration": 1158,
        "start_time": "2023-01-31T13:13:43.839Z"
      },
      {
        "duration": 148,
        "start_time": "2023-01-31T13:13:44.999Z"
      },
      {
        "duration": 7,
        "start_time": "2023-01-31T13:13:45.150Z"
      },
      {
        "duration": 136,
        "start_time": "2023-01-31T13:13:45.159Z"
      },
      {
        "duration": 11,
        "start_time": "2023-01-31T13:13:45.297Z"
      },
      {
        "duration": 101,
        "start_time": "2023-01-31T13:13:45.310Z"
      },
      {
        "duration": 67,
        "start_time": "2023-01-31T13:13:45.414Z"
      },
      {
        "duration": 12,
        "start_time": "2023-01-31T13:13:45.483Z"
      },
      {
        "duration": 18,
        "start_time": "2023-01-31T13:13:45.497Z"
      },
      {
        "duration": 90,
        "start_time": "2023-01-31T13:13:45.517Z"
      },
      {
        "duration": 5,
        "start_time": "2023-01-31T13:13:45.609Z"
      },
      {
        "duration": 25,
        "start_time": "2023-01-31T13:13:45.616Z"
      },
      {
        "duration": 21,
        "start_time": "2023-01-31T13:13:45.642Z"
      },
      {
        "duration": 7,
        "start_time": "2023-01-31T13:13:45.665Z"
      },
      {
        "duration": 34,
        "start_time": "2023-01-31T13:13:45.674Z"
      },
      {
        "duration": 33,
        "start_time": "2023-01-31T13:13:45.710Z"
      },
      {
        "duration": 10,
        "start_time": "2023-01-31T13:13:45.744Z"
      },
      {
        "duration": 10,
        "start_time": "2023-01-31T13:13:45.756Z"
      },
      {
        "duration": 318,
        "start_time": "2023-01-31T13:13:45.768Z"
      },
      {
        "duration": 13,
        "start_time": "2023-01-31T13:13:46.087Z"
      },
      {
        "duration": 35,
        "start_time": "2023-01-31T13:13:46.102Z"
      },
      {
        "duration": 4,
        "start_time": "2023-01-31T13:13:46.139Z"
      },
      {
        "duration": 265,
        "start_time": "2023-01-31T13:13:46.145Z"
      },
      {
        "duration": 39,
        "start_time": "2023-01-31T13:13:46.412Z"
      },
      {
        "duration": 5,
        "start_time": "2023-01-31T13:13:46.453Z"
      },
      {
        "duration": 32,
        "start_time": "2023-01-31T13:13:46.459Z"
      },
      {
        "duration": 76,
        "start_time": "2023-01-31T13:13:46.495Z"
      },
      {
        "duration": 258,
        "start_time": "2023-01-31T13:13:46.573Z"
      },
      {
        "duration": 12,
        "start_time": "2023-01-31T13:13:46.832Z"
      },
      {
        "duration": 123,
        "start_time": "2023-01-31T13:13:46.845Z"
      },
      {
        "duration": 11,
        "start_time": "2023-01-31T13:13:46.970Z"
      },
      {
        "duration": 12,
        "start_time": "2023-01-31T13:13:46.983Z"
      },
      {
        "duration": 50,
        "start_time": "2023-01-31T13:13:46.997Z"
      },
      {
        "duration": 26,
        "start_time": "2023-01-31T13:13:47.049Z"
      },
      {
        "duration": 22,
        "start_time": "2023-01-31T13:13:47.077Z"
      },
      {
        "duration": 225,
        "start_time": "2023-01-31T13:13:47.101Z"
      },
      {
        "duration": 10,
        "start_time": "2023-01-31T13:13:47.328Z"
      },
      {
        "duration": 22,
        "start_time": "2023-01-31T13:13:47.340Z"
      },
      {
        "duration": 13,
        "start_time": "2023-01-31T13:13:47.364Z"
      },
      {
        "duration": 4,
        "start_time": "2023-01-31T13:33:23.557Z"
      },
      {
        "duration": 110,
        "start_time": "2023-01-31T13:33:24.118Z"
      },
      {
        "duration": 22,
        "start_time": "2023-01-31T13:33:28.701Z"
      },
      {
        "duration": 5,
        "start_time": "2023-01-31T13:34:14.326Z"
      },
      {
        "duration": 11,
        "start_time": "2023-01-31T13:34:15.061Z"
      },
      {
        "duration": 11,
        "start_time": "2023-01-31T13:34:38.318Z"
      },
      {
        "duration": 5,
        "start_time": "2023-01-31T13:34:46.911Z"
      },
      {
        "duration": 5,
        "start_time": "2023-01-31T13:35:11.254Z"
      },
      {
        "duration": 11,
        "start_time": "2023-01-31T13:35:12.292Z"
      },
      {
        "duration": 1159,
        "start_time": "2023-01-31T13:35:18.275Z"
      },
      {
        "duration": 1227,
        "start_time": "2023-01-31T13:35:19.437Z"
      },
      {
        "duration": 139,
        "start_time": "2023-01-31T13:35:20.669Z"
      },
      {
        "duration": 5,
        "start_time": "2023-01-31T13:35:20.810Z"
      },
      {
        "duration": 137,
        "start_time": "2023-01-31T13:35:20.817Z"
      },
      {
        "duration": 10,
        "start_time": "2023-01-31T13:35:20.955Z"
      },
      {
        "duration": 97,
        "start_time": "2023-01-31T13:35:20.966Z"
      },
      {
        "duration": 57,
        "start_time": "2023-01-31T13:35:21.065Z"
      },
      {
        "duration": 17,
        "start_time": "2023-01-31T13:35:21.125Z"
      },
      {
        "duration": 8,
        "start_time": "2023-01-31T13:35:21.144Z"
      },
      {
        "duration": 17,
        "start_time": "2023-01-31T13:35:21.154Z"
      },
      {
        "duration": 5,
        "start_time": "2023-01-31T13:35:21.173Z"
      },
      {
        "duration": 14,
        "start_time": "2023-01-31T13:35:21.180Z"
      },
      {
        "duration": 15,
        "start_time": "2023-01-31T13:35:21.195Z"
      },
      {
        "duration": 8,
        "start_time": "2023-01-31T13:35:21.238Z"
      },
      {
        "duration": 37,
        "start_time": "2023-01-31T13:35:21.248Z"
      },
      {
        "duration": 14,
        "start_time": "2023-01-31T13:35:21.287Z"
      },
      {
        "duration": 15,
        "start_time": "2023-01-31T13:35:21.303Z"
      },
      {
        "duration": 5,
        "start_time": "2023-01-31T13:35:21.336Z"
      },
      {
        "duration": 321,
        "start_time": "2023-01-31T13:35:21.343Z"
      },
      {
        "duration": 13,
        "start_time": "2023-01-31T13:35:21.665Z"
      },
      {
        "duration": 16,
        "start_time": "2023-01-31T13:35:21.679Z"
      },
      {
        "duration": 3,
        "start_time": "2023-01-31T13:35:21.697Z"
      },
      {
        "duration": 238,
        "start_time": "2023-01-31T13:35:21.701Z"
      },
      {
        "duration": 25,
        "start_time": "2023-01-31T13:35:21.941Z"
      },
      {
        "duration": 4,
        "start_time": "2023-01-31T13:35:21.968Z"
      },
      {
        "duration": 29,
        "start_time": "2023-01-31T13:35:21.975Z"
      },
      {
        "duration": 83,
        "start_time": "2023-01-31T13:35:22.006Z"
      },
      {
        "duration": 246,
        "start_time": "2023-01-31T13:35:22.090Z"
      },
      {
        "duration": 9,
        "start_time": "2023-01-31T13:35:22.338Z"
      },
      {
        "duration": 117,
        "start_time": "2023-01-31T13:35:22.349Z"
      },
      {
        "duration": 13,
        "start_time": "2023-01-31T13:35:22.468Z"
      },
      {
        "duration": 24,
        "start_time": "2023-01-31T13:35:22.483Z"
      },
      {
        "duration": 34,
        "start_time": "2023-01-31T13:35:22.509Z"
      },
      {
        "duration": 12,
        "start_time": "2023-01-31T13:35:22.545Z"
      },
      {
        "duration": 20,
        "start_time": "2023-01-31T13:35:22.558Z"
      },
      {
        "duration": 224,
        "start_time": "2023-01-31T13:35:22.580Z"
      },
      {
        "duration": 4,
        "start_time": "2023-01-31T13:35:22.806Z"
      },
      {
        "duration": 14,
        "start_time": "2023-01-31T13:35:22.812Z"
      },
      {
        "duration": 5,
        "start_time": "2023-01-31T13:39:17.287Z"
      },
      {
        "duration": 1102,
        "start_time": "2023-01-31T13:39:21.480Z"
      },
      {
        "duration": 1145,
        "start_time": "2023-01-31T13:39:22.584Z"
      },
      {
        "duration": 139,
        "start_time": "2023-01-31T13:39:23.731Z"
      },
      {
        "duration": 5,
        "start_time": "2023-01-31T13:39:23.872Z"
      },
      {
        "duration": 137,
        "start_time": "2023-01-31T13:39:23.879Z"
      },
      {
        "duration": 11,
        "start_time": "2023-01-31T13:39:24.021Z"
      },
      {
        "duration": 100,
        "start_time": "2023-01-31T13:39:24.033Z"
      },
      {
        "duration": 60,
        "start_time": "2023-01-31T13:39:24.135Z"
      },
      {
        "duration": 12,
        "start_time": "2023-01-31T13:39:24.197Z"
      },
      {
        "duration": 25,
        "start_time": "2023-01-31T13:39:24.211Z"
      },
      {
        "duration": 19,
        "start_time": "2023-01-31T13:39:24.239Z"
      },
      {
        "duration": 5,
        "start_time": "2023-01-31T13:39:24.259Z"
      },
      {
        "duration": 10,
        "start_time": "2023-01-31T13:39:24.266Z"
      },
      {
        "duration": 13,
        "start_time": "2023-01-31T13:39:24.277Z"
      },
      {
        "duration": 8,
        "start_time": "2023-01-31T13:39:24.291Z"
      },
      {
        "duration": 67,
        "start_time": "2023-01-31T13:39:24.301Z"
      },
      {
        "duration": 15,
        "start_time": "2023-01-31T13:39:24.370Z"
      },
      {
        "duration": 7,
        "start_time": "2023-01-31T13:39:24.387Z"
      },
      {
        "duration": 6,
        "start_time": "2023-01-31T13:39:24.395Z"
      },
      {
        "duration": 359,
        "start_time": "2023-01-31T13:39:24.403Z"
      },
      {
        "duration": 13,
        "start_time": "2023-01-31T13:39:24.764Z"
      },
      {
        "duration": 17,
        "start_time": "2023-01-31T13:39:24.778Z"
      },
      {
        "duration": 4,
        "start_time": "2023-01-31T13:39:24.797Z"
      },
      {
        "duration": 261,
        "start_time": "2023-01-31T13:39:24.803Z"
      },
      {
        "duration": 34,
        "start_time": "2023-01-31T13:39:25.066Z"
      },
      {
        "duration": 5,
        "start_time": "2023-01-31T13:39:25.102Z"
      },
      {
        "duration": 47,
        "start_time": "2023-01-31T13:39:25.108Z"
      },
      {
        "duration": 61,
        "start_time": "2023-01-31T13:39:25.159Z"
      },
      {
        "duration": 260,
        "start_time": "2023-01-31T13:39:25.222Z"
      },
      {
        "duration": 10,
        "start_time": "2023-01-31T13:39:25.483Z"
      },
      {
        "duration": 101,
        "start_time": "2023-01-31T13:39:25.495Z"
      },
      {
        "duration": 15,
        "start_time": "2023-01-31T13:39:25.636Z"
      },
      {
        "duration": 35,
        "start_time": "2023-01-31T13:39:25.653Z"
      },
      {
        "duration": 35,
        "start_time": "2023-01-31T13:39:25.690Z"
      },
      {
        "duration": 20,
        "start_time": "2023-01-31T13:39:25.727Z"
      },
      {
        "duration": 20,
        "start_time": "2023-01-31T13:39:25.749Z"
      },
      {
        "duration": 221,
        "start_time": "2023-01-31T13:39:25.771Z"
      },
      {
        "duration": 5,
        "start_time": "2023-01-31T13:39:25.994Z"
      },
      {
        "duration": 138,
        "start_time": "2023-01-31T13:39:26.001Z"
      },
      {
        "duration": 4,
        "start_time": "2023-01-31T13:41:49.160Z"
      },
      {
        "duration": 18,
        "start_time": "2023-01-31T13:41:49.887Z"
      },
      {
        "duration": 6,
        "start_time": "2023-01-31T13:42:19.535Z"
      },
      {
        "duration": 19,
        "start_time": "2023-01-31T13:42:20.072Z"
      },
      {
        "duration": 1152,
        "start_time": "2023-01-31T13:42:25.695Z"
      },
      {
        "duration": 1198,
        "start_time": "2023-01-31T13:42:26.849Z"
      },
      {
        "duration": 143,
        "start_time": "2023-01-31T13:42:28.049Z"
      },
      {
        "duration": 6,
        "start_time": "2023-01-31T13:42:28.194Z"
      },
      {
        "duration": 130,
        "start_time": "2023-01-31T13:42:28.202Z"
      },
      {
        "duration": 9,
        "start_time": "2023-01-31T13:42:28.334Z"
      },
      {
        "duration": 97,
        "start_time": "2023-01-31T13:42:28.344Z"
      },
      {
        "duration": 58,
        "start_time": "2023-01-31T13:42:28.443Z"
      },
      {
        "duration": 11,
        "start_time": "2023-01-31T13:42:28.502Z"
      },
      {
        "duration": 22,
        "start_time": "2023-01-31T13:42:28.516Z"
      },
      {
        "duration": 21,
        "start_time": "2023-01-31T13:42:28.540Z"
      },
      {
        "duration": 4,
        "start_time": "2023-01-31T13:42:28.563Z"
      },
      {
        "duration": 12,
        "start_time": "2023-01-31T13:42:28.569Z"
      },
      {
        "duration": 14,
        "start_time": "2023-01-31T13:42:28.582Z"
      },
      {
        "duration": 39,
        "start_time": "2023-01-31T13:42:28.597Z"
      },
      {
        "duration": 37,
        "start_time": "2023-01-31T13:42:28.638Z"
      },
      {
        "duration": 19,
        "start_time": "2023-01-31T13:42:28.678Z"
      },
      {
        "duration": 10,
        "start_time": "2023-01-31T13:42:28.699Z"
      },
      {
        "duration": 25,
        "start_time": "2023-01-31T13:42:28.711Z"
      },
      {
        "duration": 393,
        "start_time": "2023-01-31T13:42:28.739Z"
      },
      {
        "duration": 15,
        "start_time": "2023-01-31T13:42:29.134Z"
      },
      {
        "duration": 19,
        "start_time": "2023-01-31T13:42:29.151Z"
      },
      {
        "duration": 3,
        "start_time": "2023-01-31T13:42:29.172Z"
      },
      {
        "duration": 275,
        "start_time": "2023-01-31T13:42:29.177Z"
      },
      {
        "duration": 28,
        "start_time": "2023-01-31T13:42:29.453Z"
      },
      {
        "duration": 4,
        "start_time": "2023-01-31T13:42:29.483Z"
      },
      {
        "duration": 49,
        "start_time": "2023-01-31T13:42:29.489Z"
      },
      {
        "duration": 64,
        "start_time": "2023-01-31T13:42:29.541Z"
      },
      {
        "duration": 242,
        "start_time": "2023-01-31T13:42:29.608Z"
      },
      {
        "duration": 10,
        "start_time": "2023-01-31T13:42:29.851Z"
      },
      {
        "duration": 110,
        "start_time": "2023-01-31T13:42:29.863Z"
      },
      {
        "duration": 11,
        "start_time": "2023-01-31T13:42:29.975Z"
      },
      {
        "duration": 56,
        "start_time": "2023-01-31T13:42:29.987Z"
      },
      {
        "duration": 61,
        "start_time": "2023-01-31T13:42:30.045Z"
      },
      {
        "duration": 22,
        "start_time": "2023-01-31T13:42:30.108Z"
      },
      {
        "duration": 38,
        "start_time": "2023-01-31T13:42:30.131Z"
      },
      {
        "duration": 212,
        "start_time": "2023-01-31T13:42:30.171Z"
      },
      {
        "duration": 5,
        "start_time": "2023-01-31T13:42:30.385Z"
      },
      {
        "duration": 128,
        "start_time": "2023-01-31T13:42:30.391Z"
      },
      {
        "duration": 714,
        "start_time": "2023-01-31T13:47:50.344Z"
      },
      {
        "duration": 4,
        "start_time": "2023-01-31T13:48:03.209Z"
      },
      {
        "duration": 5,
        "start_time": "2023-01-31T13:48:15.248Z"
      },
      {
        "duration": 4,
        "start_time": "2023-01-31T13:48:20.832Z"
      },
      {
        "duration": 5,
        "start_time": "2023-01-31T13:48:30.736Z"
      },
      {
        "duration": 1184,
        "start_time": "2023-01-31T13:53:32.427Z"
      },
      {
        "duration": 1263,
        "start_time": "2023-01-31T13:53:33.613Z"
      },
      {
        "duration": 135,
        "start_time": "2023-01-31T13:53:34.880Z"
      },
      {
        "duration": 20,
        "start_time": "2023-01-31T13:53:35.016Z"
      },
      {
        "duration": 138,
        "start_time": "2023-01-31T13:53:35.038Z"
      },
      {
        "duration": 9,
        "start_time": "2023-01-31T13:53:35.178Z"
      },
      {
        "duration": 135,
        "start_time": "2023-01-31T13:53:35.189Z"
      },
      {
        "duration": 66,
        "start_time": "2023-01-31T13:53:35.327Z"
      },
      {
        "duration": 12,
        "start_time": "2023-01-31T13:53:35.396Z"
      },
      {
        "duration": 27,
        "start_time": "2023-01-31T13:53:35.410Z"
      },
      {
        "duration": 39,
        "start_time": "2023-01-31T13:53:35.439Z"
      },
      {
        "duration": 24,
        "start_time": "2023-01-31T13:53:35.480Z"
      },
      {
        "duration": 24,
        "start_time": "2023-01-31T13:53:35.506Z"
      },
      {
        "duration": 34,
        "start_time": "2023-01-31T13:53:35.532Z"
      },
      {
        "duration": 29,
        "start_time": "2023-01-31T13:53:35.568Z"
      },
      {
        "duration": 60,
        "start_time": "2023-01-31T13:53:35.599Z"
      },
      {
        "duration": 16,
        "start_time": "2023-01-31T13:53:35.661Z"
      },
      {
        "duration": 20,
        "start_time": "2023-01-31T13:53:35.679Z"
      },
      {
        "duration": 27,
        "start_time": "2023-01-31T13:53:35.701Z"
      },
      {
        "duration": 341,
        "start_time": "2023-01-31T13:53:35.731Z"
      },
      {
        "duration": 15,
        "start_time": "2023-01-31T13:53:36.074Z"
      },
      {
        "duration": 31,
        "start_time": "2023-01-31T13:53:36.091Z"
      },
      {
        "duration": 14,
        "start_time": "2023-01-31T13:53:36.124Z"
      },
      {
        "duration": 259,
        "start_time": "2023-01-31T13:53:36.141Z"
      },
      {
        "duration": 39,
        "start_time": "2023-01-31T13:53:36.402Z"
      },
      {
        "duration": 4,
        "start_time": "2023-01-31T13:53:36.443Z"
      },
      {
        "duration": 49,
        "start_time": "2023-01-31T13:53:36.451Z"
      },
      {
        "duration": 71,
        "start_time": "2023-01-31T13:53:36.502Z"
      },
      {
        "duration": 240,
        "start_time": "2023-01-31T13:53:36.575Z"
      },
      {
        "duration": 21,
        "start_time": "2023-01-31T13:53:36.817Z"
      },
      {
        "duration": 133,
        "start_time": "2023-01-31T13:53:36.840Z"
      },
      {
        "duration": 13,
        "start_time": "2023-01-31T13:53:36.975Z"
      },
      {
        "duration": 36,
        "start_time": "2023-01-31T13:53:36.990Z"
      },
      {
        "duration": 50,
        "start_time": "2023-01-31T13:53:37.028Z"
      },
      {
        "duration": 34,
        "start_time": "2023-01-31T13:53:37.080Z"
      },
      {
        "duration": 47,
        "start_time": "2023-01-31T13:53:37.115Z"
      },
      {
        "duration": 218,
        "start_time": "2023-01-31T13:53:37.164Z"
      },
      {
        "duration": 5,
        "start_time": "2023-01-31T13:53:37.383Z"
      },
      {
        "duration": 134,
        "start_time": "2023-01-31T13:53:37.390Z"
      },
      {
        "duration": 6,
        "start_time": "2023-01-31T13:53:58.362Z"
      },
      {
        "duration": 713,
        "start_time": "2023-01-31T13:53:58.971Z"
      },
      {
        "duration": 776,
        "start_time": "2023-01-31T13:54:09.514Z"
      },
      {
        "duration": 795,
        "start_time": "2023-01-31T13:54:28.779Z"
      },
      {
        "duration": 752,
        "start_time": "2023-01-31T13:54:38.074Z"
      },
      {
        "duration": 756,
        "start_time": "2023-01-31T13:55:16.755Z"
      },
      {
        "duration": 806,
        "start_time": "2023-01-31T13:55:33.075Z"
      },
      {
        "duration": 714,
        "start_time": "2023-01-31T13:55:51.418Z"
      },
      {
        "duration": 852,
        "start_time": "2023-01-31T13:56:02.827Z"
      },
      {
        "duration": 5,
        "start_time": "2023-01-31T13:56:26.474Z"
      },
      {
        "duration": 9,
        "start_time": "2023-01-31T13:58:10.795Z"
      },
      {
        "duration": 808,
        "start_time": "2023-01-31T13:58:16.836Z"
      },
      {
        "duration": 5,
        "start_time": "2023-01-31T13:58:25.004Z"
      },
      {
        "duration": 5,
        "start_time": "2023-01-31T13:58:30.723Z"
      },
      {
        "duration": 5,
        "start_time": "2023-01-31T13:58:51.892Z"
      },
      {
        "duration": 819,
        "start_time": "2023-01-31T13:58:52.603Z"
      },
      {
        "duration": 763,
        "start_time": "2023-01-31T13:59:12.364Z"
      },
      {
        "duration": 702,
        "start_time": "2023-01-31T13:59:24.748Z"
      },
      {
        "duration": 5,
        "start_time": "2023-01-31T13:59:34.424Z"
      },
      {
        "duration": 5,
        "start_time": "2023-01-31T13:59:50.076Z"
      },
      {
        "duration": 6,
        "start_time": "2023-01-31T14:00:06.708Z"
      },
      {
        "duration": 14,
        "start_time": "2023-01-31T14:00:07.588Z"
      },
      {
        "duration": 6,
        "start_time": "2023-01-31T14:00:29.587Z"
      },
      {
        "duration": 18,
        "start_time": "2023-01-31T14:00:30.093Z"
      },
      {
        "duration": 7,
        "start_time": "2023-01-31T14:02:39.540Z"
      },
      {
        "duration": 5,
        "start_time": "2023-01-31T14:03:28.069Z"
      },
      {
        "duration": 23,
        "start_time": "2023-01-31T14:03:28.541Z"
      },
      {
        "duration": 5,
        "start_time": "2023-01-31T14:03:41.149Z"
      },
      {
        "duration": 7,
        "start_time": "2023-01-31T14:03:41.581Z"
      },
      {
        "duration": 12,
        "start_time": "2023-01-31T14:03:45.391Z"
      },
      {
        "duration": 16,
        "start_time": "2023-01-31T17:31:13.806Z"
      },
      {
        "duration": 47,
        "start_time": "2023-01-31T17:31:14.217Z"
      },
      {
        "duration": 5,
        "start_time": "2023-01-31T17:32:01.699Z"
      },
      {
        "duration": 7,
        "start_time": "2023-01-31T17:32:02.498Z"
      },
      {
        "duration": 1458,
        "start_time": "2023-01-31T17:32:15.614Z"
      },
      {
        "duration": 1706,
        "start_time": "2023-01-31T17:32:17.074Z"
      },
      {
        "duration": 148,
        "start_time": "2023-01-31T17:32:18.782Z"
      },
      {
        "duration": 6,
        "start_time": "2023-01-31T17:32:18.931Z"
      },
      {
        "duration": 152,
        "start_time": "2023-01-31T17:32:18.939Z"
      },
      {
        "duration": 11,
        "start_time": "2023-01-31T17:32:19.097Z"
      },
      {
        "duration": 92,
        "start_time": "2023-01-31T17:32:19.109Z"
      },
      {
        "duration": 62,
        "start_time": "2023-01-31T17:32:19.203Z"
      },
      {
        "duration": 34,
        "start_time": "2023-01-31T17:32:19.267Z"
      },
      {
        "duration": 9,
        "start_time": "2023-01-31T17:32:19.303Z"
      },
      {
        "duration": 21,
        "start_time": "2023-01-31T17:32:19.313Z"
      },
      {
        "duration": 6,
        "start_time": "2023-01-31T17:32:19.335Z"
      },
      {
        "duration": 11,
        "start_time": "2023-01-31T17:32:19.342Z"
      },
      {
        "duration": 16,
        "start_time": "2023-01-31T17:32:19.390Z"
      },
      {
        "duration": 13,
        "start_time": "2023-01-31T17:32:19.408Z"
      },
      {
        "duration": 41,
        "start_time": "2023-01-31T17:32:19.422Z"
      },
      {
        "duration": 41,
        "start_time": "2023-01-31T17:32:19.465Z"
      },
      {
        "duration": 6,
        "start_time": "2023-01-31T17:32:19.507Z"
      },
      {
        "duration": 9,
        "start_time": "2023-01-31T17:32:19.515Z"
      },
      {
        "duration": 430,
        "start_time": "2023-01-31T17:32:19.526Z"
      },
      {
        "duration": 16,
        "start_time": "2023-01-31T17:32:19.959Z"
      },
      {
        "duration": 115,
        "start_time": "2023-01-31T17:32:19.987Z"
      },
      {
        "duration": 11,
        "start_time": "2023-01-31T17:32:20.104Z"
      },
      {
        "duration": 261,
        "start_time": "2023-01-31T17:32:20.117Z"
      },
      {
        "duration": 36,
        "start_time": "2023-01-31T17:32:20.383Z"
      },
      {
        "duration": 5,
        "start_time": "2023-01-31T17:32:20.421Z"
      },
      {
        "duration": 44,
        "start_time": "2023-01-31T17:32:20.428Z"
      },
      {
        "duration": 77,
        "start_time": "2023-01-31T17:32:20.474Z"
      },
      {
        "duration": 264,
        "start_time": "2023-01-31T17:32:20.553Z"
      },
      {
        "duration": 11,
        "start_time": "2023-01-31T17:32:20.818Z"
      },
      {
        "duration": 158,
        "start_time": "2023-01-31T17:32:20.831Z"
      },
      {
        "duration": 17,
        "start_time": "2023-01-31T17:32:20.991Z"
      },
      {
        "duration": 26,
        "start_time": "2023-01-31T17:32:21.010Z"
      },
      {
        "duration": 26,
        "start_time": "2023-01-31T17:32:21.038Z"
      },
      {
        "duration": 41,
        "start_time": "2023-01-31T17:32:21.066Z"
      },
      {
        "duration": 26,
        "start_time": "2023-01-31T17:32:21.109Z"
      },
      {
        "duration": 235,
        "start_time": "2023-01-31T17:32:21.137Z"
      },
      {
        "duration": 17,
        "start_time": "2023-01-31T17:32:21.374Z"
      },
      {
        "duration": 128,
        "start_time": "2023-01-31T17:32:21.399Z"
      },
      {
        "duration": 0,
        "start_time": "2023-01-31T17:32:21.529Z"
      },
      {
        "duration": 5,
        "start_time": "2023-01-31T17:32:36.637Z"
      },
      {
        "duration": 7,
        "start_time": "2023-01-31T17:32:37.198Z"
      },
      {
        "duration": 5,
        "start_time": "2023-01-31T17:36:45.096Z"
      },
      {
        "duration": 14,
        "start_time": "2023-01-31T17:36:45.718Z"
      },
      {
        "duration": 5,
        "start_time": "2023-01-31T17:37:57.449Z"
      },
      {
        "duration": 5,
        "start_time": "2023-01-31T17:41:18.385Z"
      },
      {
        "duration": 19,
        "start_time": "2023-01-31T17:41:18.957Z"
      },
      {
        "duration": 6,
        "start_time": "2023-01-31T17:41:27.134Z"
      },
      {
        "duration": 6,
        "start_time": "2023-01-31T17:42:00.795Z"
      },
      {
        "duration": 6,
        "start_time": "2023-01-31T17:42:01.321Z"
      },
      {
        "duration": 7,
        "start_time": "2023-01-31T17:47:09.664Z"
      },
      {
        "duration": 20,
        "start_time": "2023-01-31T17:47:14.893Z"
      },
      {
        "duration": 1440,
        "start_time": "2023-02-02T19:45:20.303Z"
      },
      {
        "duration": 1652,
        "start_time": "2023-02-02T19:45:21.745Z"
      },
      {
        "duration": 141,
        "start_time": "2023-02-02T19:45:23.399Z"
      },
      {
        "duration": 6,
        "start_time": "2023-02-02T19:45:23.542Z"
      },
      {
        "duration": 145,
        "start_time": "2023-02-02T19:45:23.549Z"
      },
      {
        "duration": 9,
        "start_time": "2023-02-02T19:45:23.695Z"
      },
      {
        "duration": 95,
        "start_time": "2023-02-02T19:45:23.706Z"
      },
      {
        "duration": 70,
        "start_time": "2023-02-02T19:45:23.803Z"
      },
      {
        "duration": 14,
        "start_time": "2023-02-02T19:45:23.874Z"
      },
      {
        "duration": 12,
        "start_time": "2023-02-02T19:45:23.891Z"
      },
      {
        "duration": 42,
        "start_time": "2023-02-02T19:45:23.905Z"
      },
      {
        "duration": 5,
        "start_time": "2023-02-02T19:45:23.949Z"
      },
      {
        "duration": 11,
        "start_time": "2023-02-02T19:45:23.955Z"
      },
      {
        "duration": 11,
        "start_time": "2023-02-02T19:45:23.968Z"
      },
      {
        "duration": 7,
        "start_time": "2023-02-02T19:45:23.981Z"
      },
      {
        "duration": 69,
        "start_time": "2023-02-02T19:45:23.990Z"
      },
      {
        "duration": 20,
        "start_time": "2023-02-02T19:45:24.061Z"
      },
      {
        "duration": 5,
        "start_time": "2023-02-02T19:45:24.083Z"
      },
      {
        "duration": 45,
        "start_time": "2023-02-02T19:45:24.090Z"
      },
      {
        "duration": 344,
        "start_time": "2023-02-02T19:45:24.137Z"
      },
      {
        "duration": 12,
        "start_time": "2023-02-02T19:45:24.483Z"
      },
      {
        "duration": 43,
        "start_time": "2023-02-02T19:45:24.497Z"
      },
      {
        "duration": 4,
        "start_time": "2023-02-02T19:45:24.542Z"
      },
      {
        "duration": 379,
        "start_time": "2023-02-02T19:45:24.548Z"
      },
      {
        "duration": 31,
        "start_time": "2023-02-02T19:45:24.929Z"
      },
      {
        "duration": 5,
        "start_time": "2023-02-02T19:45:24.962Z"
      },
      {
        "duration": 78,
        "start_time": "2023-02-02T19:45:24.969Z"
      },
      {
        "duration": 88,
        "start_time": "2023-02-02T19:45:25.053Z"
      },
      {
        "duration": 252,
        "start_time": "2023-02-02T19:45:25.143Z"
      },
      {
        "duration": 9,
        "start_time": "2023-02-02T19:45:25.397Z"
      },
      {
        "duration": 138,
        "start_time": "2023-02-02T19:45:25.408Z"
      },
      {
        "duration": 12,
        "start_time": "2023-02-02T19:45:25.549Z"
      },
      {
        "duration": 11,
        "start_time": "2023-02-02T19:45:25.562Z"
      },
      {
        "duration": 20,
        "start_time": "2023-02-02T19:45:25.620Z"
      },
      {
        "duration": 18,
        "start_time": "2023-02-02T19:45:25.642Z"
      },
      {
        "duration": 20,
        "start_time": "2023-02-02T19:45:25.661Z"
      },
      {
        "duration": 261,
        "start_time": "2023-02-02T19:45:25.684Z"
      },
      {
        "duration": 4,
        "start_time": "2023-02-02T19:45:25.947Z"
      },
      {
        "duration": 11,
        "start_time": "2023-02-02T19:45:25.953Z"
      },
      {
        "duration": 1253,
        "start_time": "2023-02-02T19:56:57.917Z"
      },
      {
        "duration": 1413,
        "start_time": "2023-02-02T19:56:59.172Z"
      },
      {
        "duration": 170,
        "start_time": "2023-02-02T19:57:00.587Z"
      },
      {
        "duration": 5,
        "start_time": "2023-02-02T19:57:00.759Z"
      },
      {
        "duration": 182,
        "start_time": "2023-02-02T19:57:00.766Z"
      },
      {
        "duration": 12,
        "start_time": "2023-02-02T19:57:00.950Z"
      },
      {
        "duration": 111,
        "start_time": "2023-02-02T19:57:00.964Z"
      },
      {
        "duration": 83,
        "start_time": "2023-02-02T19:57:01.077Z"
      },
      {
        "duration": 14,
        "start_time": "2023-02-02T19:57:01.162Z"
      },
      {
        "duration": 18,
        "start_time": "2023-02-02T19:57:01.180Z"
      },
      {
        "duration": 38,
        "start_time": "2023-02-02T19:57:01.200Z"
      },
      {
        "duration": 16,
        "start_time": "2023-02-02T19:57:01.240Z"
      },
      {
        "duration": 16,
        "start_time": "2023-02-02T19:57:01.258Z"
      },
      {
        "duration": 45,
        "start_time": "2023-02-02T19:57:01.276Z"
      },
      {
        "duration": 32,
        "start_time": "2023-02-02T19:57:01.326Z"
      },
      {
        "duration": 80,
        "start_time": "2023-02-02T19:57:01.360Z"
      },
      {
        "duration": 36,
        "start_time": "2023-02-02T19:57:01.442Z"
      },
      {
        "duration": 56,
        "start_time": "2023-02-02T19:57:01.479Z"
      },
      {
        "duration": 39,
        "start_time": "2023-02-02T19:57:01.543Z"
      },
      {
        "duration": 425,
        "start_time": "2023-02-02T19:57:01.585Z"
      },
      {
        "duration": 27,
        "start_time": "2023-02-02T19:57:02.012Z"
      },
      {
        "duration": 39,
        "start_time": "2023-02-02T19:57:02.041Z"
      },
      {
        "duration": 4,
        "start_time": "2023-02-02T19:57:02.082Z"
      },
      {
        "duration": 288,
        "start_time": "2023-02-02T19:57:02.088Z"
      },
      {
        "duration": 28,
        "start_time": "2023-02-02T19:57:02.379Z"
      },
      {
        "duration": 15,
        "start_time": "2023-02-02T19:57:02.408Z"
      },
      {
        "duration": 53,
        "start_time": "2023-02-02T19:57:02.424Z"
      },
      {
        "duration": 89,
        "start_time": "2023-02-02T19:57:02.480Z"
      },
      {
        "duration": 270,
        "start_time": "2023-02-02T19:57:02.571Z"
      },
      {
        "duration": 15,
        "start_time": "2023-02-02T19:57:02.843Z"
      },
      {
        "duration": 172,
        "start_time": "2023-02-02T19:57:02.860Z"
      },
      {
        "duration": 16,
        "start_time": "2023-02-02T19:57:03.036Z"
      },
      {
        "duration": 24,
        "start_time": "2023-02-02T19:57:03.054Z"
      },
      {
        "duration": 51,
        "start_time": "2023-02-02T19:57:03.080Z"
      },
      {
        "duration": 44,
        "start_time": "2023-02-02T19:57:03.133Z"
      },
      {
        "duration": 21,
        "start_time": "2023-02-02T19:57:03.178Z"
      },
      {
        "duration": 259,
        "start_time": "2023-02-02T19:57:03.201Z"
      },
      {
        "duration": 6,
        "start_time": "2023-02-02T19:57:03.461Z"
      },
      {
        "duration": 137,
        "start_time": "2023-02-02T19:57:03.468Z"
      },
      {
        "duration": 0,
        "start_time": "2023-02-02T19:57:03.606Z"
      },
      {
        "duration": 1340,
        "start_time": "2023-02-02T20:00:36.116Z"
      },
      {
        "duration": 1292,
        "start_time": "2023-02-02T20:00:37.461Z"
      },
      {
        "duration": 187,
        "start_time": "2023-02-02T20:00:38.754Z"
      },
      {
        "duration": 6,
        "start_time": "2023-02-02T20:00:38.944Z"
      },
      {
        "duration": 193,
        "start_time": "2023-02-02T20:00:38.953Z"
      },
      {
        "duration": 11,
        "start_time": "2023-02-02T20:00:39.147Z"
      },
      {
        "duration": 150,
        "start_time": "2023-02-02T20:00:39.160Z"
      },
      {
        "duration": 85,
        "start_time": "2023-02-02T20:00:39.312Z"
      },
      {
        "duration": 13,
        "start_time": "2023-02-02T20:00:39.399Z"
      },
      {
        "duration": 17,
        "start_time": "2023-02-02T20:00:39.434Z"
      },
      {
        "duration": 26,
        "start_time": "2023-02-02T20:00:39.453Z"
      },
      {
        "duration": 15,
        "start_time": "2023-02-02T20:00:39.481Z"
      },
      {
        "duration": 11,
        "start_time": "2023-02-02T20:00:39.498Z"
      },
      {
        "duration": 35,
        "start_time": "2023-02-02T20:00:39.511Z"
      },
      {
        "duration": 13,
        "start_time": "2023-02-02T20:00:39.548Z"
      },
      {
        "duration": 42,
        "start_time": "2023-02-02T20:00:39.564Z"
      },
      {
        "duration": 25,
        "start_time": "2023-02-02T20:00:39.627Z"
      },
      {
        "duration": 16,
        "start_time": "2023-02-02T20:00:39.654Z"
      },
      {
        "duration": 15,
        "start_time": "2023-02-02T20:00:39.672Z"
      },
      {
        "duration": 371,
        "start_time": "2023-02-02T20:00:39.689Z"
      },
      {
        "duration": 13,
        "start_time": "2023-02-02T20:00:40.062Z"
      },
      {
        "duration": 18,
        "start_time": "2023-02-02T20:00:40.077Z"
      },
      {
        "duration": 26,
        "start_time": "2023-02-02T20:00:40.097Z"
      },
      {
        "duration": 271,
        "start_time": "2023-02-02T20:00:40.136Z"
      },
      {
        "duration": 36,
        "start_time": "2023-02-02T20:00:40.409Z"
      },
      {
        "duration": 4,
        "start_time": "2023-02-02T20:00:40.447Z"
      },
      {
        "duration": 55,
        "start_time": "2023-02-02T20:00:40.453Z"
      },
      {
        "duration": 68,
        "start_time": "2023-02-02T20:00:40.529Z"
      },
      {
        "duration": 289,
        "start_time": "2023-02-02T20:00:40.599Z"
      },
      {
        "duration": 11,
        "start_time": "2023-02-02T20:00:40.890Z"
      },
      {
        "duration": 142,
        "start_time": "2023-02-02T20:00:40.903Z"
      },
      {
        "duration": 13,
        "start_time": "2023-02-02T20:00:41.048Z"
      },
      {
        "duration": 60,
        "start_time": "2023-02-02T20:00:41.063Z"
      },
      {
        "duration": 26,
        "start_time": "2023-02-02T20:00:41.126Z"
      },
      {
        "duration": 12,
        "start_time": "2023-02-02T20:00:41.154Z"
      },
      {
        "duration": 19,
        "start_time": "2023-02-02T20:00:41.167Z"
      },
      {
        "duration": 256,
        "start_time": "2023-02-02T20:00:41.188Z"
      },
      {
        "duration": 5,
        "start_time": "2023-02-02T20:00:41.446Z"
      },
      {
        "duration": 133,
        "start_time": "2023-02-02T20:00:41.454Z"
      },
      {
        "duration": 0,
        "start_time": "2023-02-02T20:00:41.589Z"
      },
      {
        "duration": 6,
        "start_time": "2023-02-02T20:01:20.103Z"
      },
      {
        "duration": 29,
        "start_time": "2023-02-02T20:01:20.646Z"
      },
      {
        "duration": 6,
        "start_time": "2023-02-02T20:01:39.756Z"
      },
      {
        "duration": 27,
        "start_time": "2023-02-02T20:01:40.513Z"
      },
      {
        "duration": 1163,
        "start_time": "2023-02-02T20:05:10.955Z"
      },
      {
        "duration": 1311,
        "start_time": "2023-02-02T20:05:12.120Z"
      },
      {
        "duration": 160,
        "start_time": "2023-02-02T20:05:13.433Z"
      },
      {
        "duration": 7,
        "start_time": "2023-02-02T20:05:13.596Z"
      },
      {
        "duration": 171,
        "start_time": "2023-02-02T20:05:13.605Z"
      },
      {
        "duration": 13,
        "start_time": "2023-02-02T20:05:13.778Z"
      },
      {
        "duration": 110,
        "start_time": "2023-02-02T20:05:13.793Z"
      },
      {
        "duration": 70,
        "start_time": "2023-02-02T20:05:13.905Z"
      },
      {
        "duration": 14,
        "start_time": "2023-02-02T20:05:13.977Z"
      },
      {
        "duration": 32,
        "start_time": "2023-02-02T20:05:13.994Z"
      },
      {
        "duration": 25,
        "start_time": "2023-02-02T20:05:14.028Z"
      },
      {
        "duration": 6,
        "start_time": "2023-02-02T20:05:14.055Z"
      },
      {
        "duration": 10,
        "start_time": "2023-02-02T20:05:14.063Z"
      },
      {
        "duration": 23,
        "start_time": "2023-02-02T20:05:14.078Z"
      },
      {
        "duration": 12,
        "start_time": "2023-02-02T20:05:14.126Z"
      },
      {
        "duration": 49,
        "start_time": "2023-02-02T20:05:14.142Z"
      },
      {
        "duration": 37,
        "start_time": "2023-02-02T20:05:14.193Z"
      },
      {
        "duration": 9,
        "start_time": "2023-02-02T20:05:14.232Z"
      },
      {
        "duration": 8,
        "start_time": "2023-02-02T20:05:14.243Z"
      },
      {
        "duration": 478,
        "start_time": "2023-02-02T20:05:14.253Z"
      },
      {
        "duration": 19,
        "start_time": "2023-02-02T20:05:14.733Z"
      },
      {
        "duration": 40,
        "start_time": "2023-02-02T20:05:14.755Z"
      },
      {
        "duration": 7,
        "start_time": "2023-02-02T20:05:14.798Z"
      },
      {
        "duration": 282,
        "start_time": "2023-02-02T20:05:14.807Z"
      },
      {
        "duration": 51,
        "start_time": "2023-02-02T20:05:15.091Z"
      },
      {
        "duration": 9,
        "start_time": "2023-02-02T20:05:15.148Z"
      },
      {
        "duration": 87,
        "start_time": "2023-02-02T20:05:15.160Z"
      },
      {
        "duration": 102,
        "start_time": "2023-02-02T20:05:15.252Z"
      },
      {
        "duration": 296,
        "start_time": "2023-02-02T20:05:15.355Z"
      },
      {
        "duration": 13,
        "start_time": "2023-02-02T20:05:15.654Z"
      },
      {
        "duration": 156,
        "start_time": "2023-02-02T20:05:15.668Z"
      },
      {
        "duration": 15,
        "start_time": "2023-02-02T20:05:15.828Z"
      },
      {
        "duration": 17,
        "start_time": "2023-02-02T20:05:15.846Z"
      },
      {
        "duration": 67,
        "start_time": "2023-02-02T20:05:15.866Z"
      },
      {
        "duration": 17,
        "start_time": "2023-02-02T20:05:15.938Z"
      },
      {
        "duration": 20,
        "start_time": "2023-02-02T20:05:15.957Z"
      },
      {
        "duration": 234,
        "start_time": "2023-02-02T20:05:15.979Z"
      },
      {
        "duration": 9,
        "start_time": "2023-02-02T20:05:16.215Z"
      },
      {
        "duration": 148,
        "start_time": "2023-02-02T20:05:16.225Z"
      },
      {
        "duration": 0,
        "start_time": "2023-02-02T20:05:16.375Z"
      },
      {
        "duration": 294,
        "start_time": "2023-02-02T20:05:32.573Z"
      },
      {
        "duration": 255,
        "start_time": "2023-02-02T20:05:38.405Z"
      },
      {
        "duration": 80,
        "start_time": "2023-02-02T20:06:02.184Z"
      },
      {
        "duration": 1004,
        "start_time": "2023-02-02T20:06:41.945Z"
      },
      {
        "duration": 136,
        "start_time": "2023-02-02T20:06:50.513Z"
      },
      {
        "duration": 6,
        "start_time": "2023-02-02T20:07:41.757Z"
      },
      {
        "duration": 13,
        "start_time": "2023-02-02T20:07:42.637Z"
      },
      {
        "duration": 15,
        "start_time": "2023-02-02T20:07:53.137Z"
      },
      {
        "duration": 6,
        "start_time": "2023-02-02T20:08:04.006Z"
      },
      {
        "duration": 22,
        "start_time": "2023-02-02T20:08:04.796Z"
      },
      {
        "duration": 23,
        "start_time": "2023-02-02T20:08:15.150Z"
      },
      {
        "duration": 6,
        "start_time": "2023-02-02T20:08:29.313Z"
      },
      {
        "duration": 16,
        "start_time": "2023-02-02T20:08:32.042Z"
      },
      {
        "duration": 8,
        "start_time": "2023-02-02T20:09:37.584Z"
      },
      {
        "duration": 284,
        "start_time": "2023-02-02T20:09:37.915Z"
      },
      {
        "duration": 9,
        "start_time": "2023-02-02T20:10:01.680Z"
      },
      {
        "duration": 1109,
        "start_time": "2023-02-02T20:10:02.204Z"
      },
      {
        "duration": 6,
        "start_time": "2023-02-02T20:10:37.542Z"
      },
      {
        "duration": 18,
        "start_time": "2023-02-02T20:10:38.046Z"
      },
      {
        "duration": 6,
        "start_time": "2023-02-02T20:10:47.381Z"
      },
      {
        "duration": 6,
        "start_time": "2023-02-02T20:10:48.006Z"
      },
      {
        "duration": 14,
        "start_time": "2023-02-02T20:11:56.397Z"
      },
      {
        "duration": 6,
        "start_time": "2023-02-02T20:11:59.853Z"
      },
      {
        "duration": 9,
        "start_time": "2023-02-02T20:12:00.235Z"
      },
      {
        "duration": 9,
        "start_time": "2023-02-02T20:12:17.847Z"
      },
      {
        "duration": 8,
        "start_time": "2023-02-02T20:12:18.462Z"
      },
      {
        "duration": 7,
        "start_time": "2023-02-02T20:12:24.552Z"
      },
      {
        "duration": 11,
        "start_time": "2023-02-02T20:12:29.836Z"
      },
      {
        "duration": 9,
        "start_time": "2023-02-02T20:12:33.742Z"
      },
      {
        "duration": 18,
        "start_time": "2023-02-02T20:13:06.939Z"
      },
      {
        "duration": 28,
        "start_time": "2023-02-02T20:13:45.009Z"
      },
      {
        "duration": 22,
        "start_time": "2023-02-02T20:16:57.417Z"
      },
      {
        "duration": 14,
        "start_time": "2023-02-02T20:17:13.492Z"
      },
      {
        "duration": 15,
        "start_time": "2023-02-02T20:17:25.541Z"
      },
      {
        "duration": 13,
        "start_time": "2023-02-02T20:18:48.989Z"
      },
      {
        "duration": 1187,
        "start_time": "2023-02-02T20:35:34.635Z"
      },
      {
        "duration": 1247,
        "start_time": "2023-02-02T20:35:35.823Z"
      },
      {
        "duration": 133,
        "start_time": "2023-02-02T20:35:37.072Z"
      },
      {
        "duration": 15,
        "start_time": "2023-02-02T20:35:37.208Z"
      },
      {
        "duration": 139,
        "start_time": "2023-02-02T20:35:37.227Z"
      },
      {
        "duration": 10,
        "start_time": "2023-02-02T20:35:37.368Z"
      },
      {
        "duration": 102,
        "start_time": "2023-02-02T20:35:37.380Z"
      },
      {
        "duration": 73,
        "start_time": "2023-02-02T20:35:37.484Z"
      },
      {
        "duration": 15,
        "start_time": "2023-02-02T20:35:37.559Z"
      },
      {
        "duration": 10,
        "start_time": "2023-02-02T20:35:37.578Z"
      },
      {
        "duration": 34,
        "start_time": "2023-02-02T20:35:37.590Z"
      },
      {
        "duration": 5,
        "start_time": "2023-02-02T20:35:37.626Z"
      },
      {
        "duration": 20,
        "start_time": "2023-02-02T20:35:37.633Z"
      },
      {
        "duration": 13,
        "start_time": "2023-02-02T20:35:37.655Z"
      },
      {
        "duration": 12,
        "start_time": "2023-02-02T20:35:37.670Z"
      },
      {
        "duration": 55,
        "start_time": "2023-02-02T20:35:37.684Z"
      },
      {
        "duration": 17,
        "start_time": "2023-02-02T20:35:37.741Z"
      },
      {
        "duration": 18,
        "start_time": "2023-02-02T20:35:37.760Z"
      },
      {
        "duration": 18,
        "start_time": "2023-02-02T20:35:37.780Z"
      },
      {
        "duration": 331,
        "start_time": "2023-02-02T20:35:37.799Z"
      },
      {
        "duration": 13,
        "start_time": "2023-02-02T20:35:38.132Z"
      },
      {
        "duration": 86,
        "start_time": "2023-02-02T20:35:38.148Z"
      },
      {
        "duration": 4,
        "start_time": "2023-02-02T20:35:38.235Z"
      },
      {
        "duration": 268,
        "start_time": "2023-02-02T20:35:38.240Z"
      },
      {
        "duration": 31,
        "start_time": "2023-02-02T20:35:38.511Z"
      },
      {
        "duration": 4,
        "start_time": "2023-02-02T20:35:38.543Z"
      },
      {
        "duration": 33,
        "start_time": "2023-02-02T20:35:38.549Z"
      },
      {
        "duration": 81,
        "start_time": "2023-02-02T20:35:38.585Z"
      },
      {
        "duration": 276,
        "start_time": "2023-02-02T20:35:38.668Z"
      },
      {
        "duration": 10,
        "start_time": "2023-02-02T20:35:38.946Z"
      },
      {
        "duration": 109,
        "start_time": "2023-02-02T20:35:38.957Z"
      },
      {
        "duration": 54,
        "start_time": "2023-02-02T20:35:39.068Z"
      },
      {
        "duration": 12,
        "start_time": "2023-02-02T20:35:39.124Z"
      },
      {
        "duration": 13,
        "start_time": "2023-02-02T20:35:39.138Z"
      },
      {
        "duration": 13,
        "start_time": "2023-02-02T20:35:39.153Z"
      },
      {
        "duration": 54,
        "start_time": "2023-02-02T20:35:39.168Z"
      },
      {
        "duration": 81,
        "start_time": "2023-02-02T20:35:39.225Z"
      },
      {
        "duration": 16,
        "start_time": "2023-02-02T20:35:39.307Z"
      },
      {
        "duration": 23,
        "start_time": "2023-02-02T20:35:39.325Z"
      },
      {
        "duration": 14,
        "start_time": "2023-02-02T20:35:39.350Z"
      },
      {
        "duration": 13,
        "start_time": "2023-02-02T20:35:39.365Z"
      },
      {
        "duration": 46,
        "start_time": "2023-02-02T20:35:39.380Z"
      },
      {
        "duration": 1113,
        "start_time": "2023-02-02T20:35:59.309Z"
      },
      {
        "duration": 1187,
        "start_time": "2023-02-02T20:36:00.425Z"
      },
      {
        "duration": 143,
        "start_time": "2023-02-02T20:36:01.613Z"
      },
      {
        "duration": 5,
        "start_time": "2023-02-02T20:36:01.758Z"
      },
      {
        "duration": 146,
        "start_time": "2023-02-02T20:36:01.766Z"
      },
      {
        "duration": 10,
        "start_time": "2023-02-02T20:36:01.914Z"
      },
      {
        "duration": 101,
        "start_time": "2023-02-02T20:36:01.925Z"
      },
      {
        "duration": 61,
        "start_time": "2023-02-02T20:36:02.027Z"
      },
      {
        "duration": 16,
        "start_time": "2023-02-02T20:36:02.090Z"
      },
      {
        "duration": 16,
        "start_time": "2023-02-02T20:36:02.122Z"
      },
      {
        "duration": 37,
        "start_time": "2023-02-02T20:36:02.140Z"
      },
      {
        "duration": 5,
        "start_time": "2023-02-02T20:36:02.179Z"
      },
      {
        "duration": 24,
        "start_time": "2023-02-02T20:36:02.185Z"
      },
      {
        "duration": 15,
        "start_time": "2023-02-02T20:36:02.210Z"
      },
      {
        "duration": 7,
        "start_time": "2023-02-02T20:36:02.227Z"
      },
      {
        "duration": 40,
        "start_time": "2023-02-02T20:36:02.236Z"
      },
      {
        "duration": 19,
        "start_time": "2023-02-02T20:36:02.278Z"
      },
      {
        "duration": 17,
        "start_time": "2023-02-02T20:36:02.299Z"
      },
      {
        "duration": 9,
        "start_time": "2023-02-02T20:36:02.318Z"
      },
      {
        "duration": 308,
        "start_time": "2023-02-02T20:36:02.329Z"
      },
      {
        "duration": 13,
        "start_time": "2023-02-02T20:36:02.639Z"
      },
      {
        "duration": 26,
        "start_time": "2023-02-02T20:36:02.653Z"
      },
      {
        "duration": 7,
        "start_time": "2023-02-02T20:36:02.681Z"
      },
      {
        "duration": 266,
        "start_time": "2023-02-02T20:36:02.690Z"
      },
      {
        "duration": 27,
        "start_time": "2023-02-02T20:36:02.958Z"
      },
      {
        "duration": 4,
        "start_time": "2023-02-02T20:36:02.987Z"
      },
      {
        "duration": 50,
        "start_time": "2023-02-02T20:36:02.993Z"
      },
      {
        "duration": 75,
        "start_time": "2023-02-02T20:36:03.046Z"
      },
      {
        "duration": 227,
        "start_time": "2023-02-02T20:36:03.122Z"
      },
      {
        "duration": 10,
        "start_time": "2023-02-02T20:36:03.350Z"
      },
      {
        "duration": 110,
        "start_time": "2023-02-02T20:36:03.361Z"
      },
      {
        "duration": 57,
        "start_time": "2023-02-02T20:36:03.472Z"
      },
      {
        "duration": 12,
        "start_time": "2023-02-02T20:36:03.530Z"
      },
      {
        "duration": 13,
        "start_time": "2023-02-02T20:36:03.543Z"
      },
      {
        "duration": 14,
        "start_time": "2023-02-02T20:36:03.557Z"
      },
      {
        "duration": 49,
        "start_time": "2023-02-02T20:36:03.572Z"
      },
      {
        "duration": 79,
        "start_time": "2023-02-02T20:36:03.623Z"
      },
      {
        "duration": 19,
        "start_time": "2023-02-02T20:36:03.703Z"
      },
      {
        "duration": 24,
        "start_time": "2023-02-02T20:36:03.724Z"
      },
      {
        "duration": 12,
        "start_time": "2023-02-02T20:36:03.750Z"
      },
      {
        "duration": 12,
        "start_time": "2023-02-02T20:36:03.763Z"
      },
      {
        "duration": 26,
        "start_time": "2023-02-02T20:36:03.776Z"
      },
      {
        "duration": 1128,
        "start_time": "2023-02-02T20:43:58.984Z"
      },
      {
        "duration": 1193,
        "start_time": "2023-02-02T20:44:00.113Z"
      },
      {
        "duration": 139,
        "start_time": "2023-02-02T20:44:01.308Z"
      },
      {
        "duration": 5,
        "start_time": "2023-02-02T20:44:01.449Z"
      },
      {
        "duration": 144,
        "start_time": "2023-02-02T20:44:01.456Z"
      },
      {
        "duration": 10,
        "start_time": "2023-02-02T20:44:01.601Z"
      },
      {
        "duration": 109,
        "start_time": "2023-02-02T20:44:01.621Z"
      },
      {
        "duration": 61,
        "start_time": "2023-02-02T20:44:01.732Z"
      },
      {
        "duration": 14,
        "start_time": "2023-02-02T20:44:01.795Z"
      },
      {
        "duration": 27,
        "start_time": "2023-02-02T20:44:01.823Z"
      },
      {
        "duration": 41,
        "start_time": "2023-02-02T20:44:01.852Z"
      },
      {
        "duration": 7,
        "start_time": "2023-02-02T20:44:01.894Z"
      },
      {
        "duration": 42,
        "start_time": "2023-02-02T20:44:01.903Z"
      },
      {
        "duration": 32,
        "start_time": "2023-02-02T20:44:01.948Z"
      },
      {
        "duration": 13,
        "start_time": "2023-02-02T20:44:01.982Z"
      },
      {
        "duration": 34,
        "start_time": "2023-02-02T20:44:01.996Z"
      },
      {
        "duration": 17,
        "start_time": "2023-02-02T20:44:02.032Z"
      },
      {
        "duration": 5,
        "start_time": "2023-02-02T20:44:02.051Z"
      },
      {
        "duration": 7,
        "start_time": "2023-02-02T20:44:02.058Z"
      },
      {
        "duration": 354,
        "start_time": "2023-02-02T20:44:02.067Z"
      },
      {
        "duration": 14,
        "start_time": "2023-02-02T20:44:02.423Z"
      },
      {
        "duration": 23,
        "start_time": "2023-02-02T20:44:02.440Z"
      },
      {
        "duration": 4,
        "start_time": "2023-02-02T20:44:02.465Z"
      },
      {
        "duration": 263,
        "start_time": "2023-02-02T20:44:02.471Z"
      },
      {
        "duration": 26,
        "start_time": "2023-02-02T20:44:02.735Z"
      },
      {
        "duration": 5,
        "start_time": "2023-02-02T20:44:02.763Z"
      },
      {
        "duration": 54,
        "start_time": "2023-02-02T20:44:02.770Z"
      },
      {
        "duration": 65,
        "start_time": "2023-02-02T20:44:02.828Z"
      },
      {
        "duration": 247,
        "start_time": "2023-02-02T20:44:02.895Z"
      },
      {
        "duration": 10,
        "start_time": "2023-02-02T20:44:03.144Z"
      },
      {
        "duration": 106,
        "start_time": "2023-02-02T20:44:03.156Z"
      },
      {
        "duration": 64,
        "start_time": "2023-02-02T20:44:03.264Z"
      },
      {
        "duration": 12,
        "start_time": "2023-02-02T20:44:03.330Z"
      },
      {
        "duration": 19,
        "start_time": "2023-02-02T20:44:03.344Z"
      },
      {
        "duration": 14,
        "start_time": "2023-02-02T20:44:03.365Z"
      },
      {
        "duration": 49,
        "start_time": "2023-02-02T20:44:03.381Z"
      },
      {
        "duration": 89,
        "start_time": "2023-02-02T20:44:03.432Z"
      },
      {
        "duration": 5,
        "start_time": "2023-02-02T20:44:03.523Z"
      },
      {
        "duration": 29,
        "start_time": "2023-02-02T20:44:03.530Z"
      },
      {
        "duration": 18,
        "start_time": "2023-02-02T20:44:03.561Z"
      },
      {
        "duration": 30,
        "start_time": "2023-02-02T20:44:03.581Z"
      },
      {
        "duration": 17,
        "start_time": "2023-02-02T20:44:03.613Z"
      },
      {
        "duration": 1149,
        "start_time": "2023-02-02T21:49:42.186Z"
      },
      {
        "duration": 1561,
        "start_time": "2023-02-02T21:49:43.337Z"
      },
      {
        "duration": 183,
        "start_time": "2023-02-02T21:49:44.900Z"
      },
      {
        "duration": 12,
        "start_time": "2023-02-02T21:49:45.087Z"
      },
      {
        "duration": 193,
        "start_time": "2023-02-02T21:49:45.105Z"
      },
      {
        "duration": 9,
        "start_time": "2023-02-02T21:49:45.299Z"
      },
      {
        "duration": 131,
        "start_time": "2023-02-02T21:49:45.310Z"
      },
      {
        "duration": 91,
        "start_time": "2023-02-02T21:49:45.443Z"
      },
      {
        "duration": 23,
        "start_time": "2023-02-02T21:49:45.537Z"
      },
      {
        "duration": 12,
        "start_time": "2023-02-02T21:49:45.570Z"
      },
      {
        "duration": 21,
        "start_time": "2023-02-02T21:49:45.586Z"
      },
      {
        "duration": 8,
        "start_time": "2023-02-02T21:49:45.786Z"
      },
      {
        "duration": 9,
        "start_time": "2023-02-02T21:49:46.161Z"
      },
      {
        "duration": 17,
        "start_time": "2023-02-02T21:49:46.350Z"
      },
      {
        "duration": 7,
        "start_time": "2023-02-02T21:49:46.536Z"
      },
      {
        "duration": 60,
        "start_time": "2023-02-02T21:49:46.727Z"
      },
      {
        "duration": 28,
        "start_time": "2023-02-02T21:49:47.332Z"
      },
      {
        "duration": 7,
        "start_time": "2023-02-02T21:49:47.735Z"
      },
      {
        "duration": 6,
        "start_time": "2023-02-02T21:49:47.907Z"
      },
      {
        "duration": 322,
        "start_time": "2023-02-02T21:49:48.285Z"
      },
      {
        "duration": 17,
        "start_time": "2023-02-02T21:49:48.884Z"
      },
      {
        "duration": 29,
        "start_time": "2023-02-02T21:49:49.633Z"
      },
      {
        "duration": 3,
        "start_time": "2023-02-02T21:49:50.031Z"
      },
      {
        "duration": 227,
        "start_time": "2023-02-02T21:49:50.430Z"
      },
      {
        "duration": 26,
        "start_time": "2023-02-02T21:49:50.824Z"
      },
      {
        "duration": 5,
        "start_time": "2023-02-02T21:49:51.020Z"
      },
      {
        "duration": 60,
        "start_time": "2023-02-02T21:49:51.581Z"
      },
      {
        "duration": 55,
        "start_time": "2023-02-02T21:49:53.033Z"
      },
      {
        "duration": 74,
        "start_time": "2023-02-02T21:49:53.465Z"
      },
      {
        "duration": 1587,
        "start_time": "2023-02-02T21:49:55.241Z"
      },
      {
        "duration": 13,
        "start_time": "2023-02-02T21:49:56.830Z"
      },
      {
        "duration": 64,
        "start_time": "2023-02-02T21:49:57.141Z"
      },
      {
        "duration": 20,
        "start_time": "2023-02-02T21:49:57.531Z"
      },
      {
        "duration": 14,
        "start_time": "2023-02-02T21:49:57.943Z"
      },
      {
        "duration": 11,
        "start_time": "2023-02-02T21:49:58.487Z"
      },
      {
        "duration": 16,
        "start_time": "2023-02-02T21:50:00.032Z"
      },
      {
        "duration": 176,
        "start_time": "2023-02-02T21:50:17.810Z"
      },
      {
        "duration": 4,
        "start_time": "2023-02-02T21:50:58.732Z"
      },
      {
        "duration": 1490,
        "start_time": "2023-02-02T21:50:58.905Z"
      },
      {
        "duration": 157,
        "start_time": "2023-02-02T21:51:00.401Z"
      },
      {
        "duration": 20,
        "start_time": "2023-02-02T21:51:00.560Z"
      },
      {
        "duration": 264,
        "start_time": "2023-02-02T21:51:00.590Z"
      },
      {
        "duration": 34,
        "start_time": "2023-02-02T21:51:00.856Z"
      },
      {
        "duration": 156,
        "start_time": "2023-02-02T21:51:00.894Z"
      },
      {
        "duration": 65,
        "start_time": "2023-02-02T21:51:01.227Z"
      },
      {
        "duration": 15,
        "start_time": "2023-02-02T21:51:02.349Z"
      },
      {
        "duration": 7,
        "start_time": "2023-02-02T21:51:02.789Z"
      },
      {
        "duration": 18,
        "start_time": "2023-02-02T21:52:19.804Z"
      },
      {
        "duration": 9,
        "start_time": "2023-02-02T21:52:21.577Z"
      },
      {
        "duration": 7,
        "start_time": "2023-02-02T21:52:22.220Z"
      },
      {
        "duration": 13,
        "start_time": "2023-02-02T21:52:22.583Z"
      },
      {
        "duration": 8,
        "start_time": "2023-02-02T21:52:23.051Z"
      },
      {
        "duration": 36,
        "start_time": "2023-02-02T21:52:23.680Z"
      },
      {
        "duration": 23,
        "start_time": "2023-02-02T21:52:24.921Z"
      },
      {
        "duration": 5,
        "start_time": "2023-02-02T21:52:25.836Z"
      },
      {
        "duration": 6,
        "start_time": "2023-02-02T21:52:26.246Z"
      },
      {
        "duration": 230,
        "start_time": "2023-02-02T21:52:27.138Z"
      },
      {
        "duration": 16,
        "start_time": "2023-02-02T21:52:28.324Z"
      },
      {
        "duration": 34,
        "start_time": "2023-02-02T21:52:28.985Z"
      },
      {
        "duration": 4,
        "start_time": "2023-02-02T21:52:29.798Z"
      },
      {
        "duration": 241,
        "start_time": "2023-02-02T21:52:30.646Z"
      },
      {
        "duration": 29,
        "start_time": "2023-02-02T21:52:32.067Z"
      },
      {
        "duration": 5,
        "start_time": "2023-02-02T21:52:33.622Z"
      },
      {
        "duration": 48,
        "start_time": "2023-02-02T21:52:34.594Z"
      },
      {
        "duration": 44,
        "start_time": "2023-02-02T21:52:36.352Z"
      },
      {
        "duration": 62,
        "start_time": "2023-02-02T21:52:37.224Z"
      },
      {
        "duration": 64,
        "start_time": "2023-02-02T21:53:00.356Z"
      },
      {
        "duration": 86,
        "start_time": "2023-02-02T21:53:08.129Z"
      },
      {
        "duration": 59,
        "start_time": "2023-02-02T21:53:17.702Z"
      },
      {
        "duration": 18,
        "start_time": "2023-02-02T21:53:22.759Z"
      },
      {
        "duration": 17,
        "start_time": "2023-02-02T21:53:25.111Z"
      },
      {
        "duration": 107,
        "start_time": "2023-02-02T21:53:25.343Z"
      },
      {
        "duration": 16,
        "start_time": "2023-02-02T21:53:25.694Z"
      },
      {
        "duration": 29,
        "start_time": "2023-02-02T21:53:25.961Z"
      },
      {
        "duration": 25,
        "start_time": "2023-02-02T21:53:26.255Z"
      },
      {
        "duration": 15,
        "start_time": "2023-02-02T21:53:26.829Z"
      },
      {
        "duration": 25,
        "start_time": "2023-02-02T21:53:29.550Z"
      },
      {
        "duration": 111,
        "start_time": "2023-02-02T21:53:34.924Z"
      },
      {
        "duration": 8,
        "start_time": "2023-02-02T21:55:47.586Z"
      },
      {
        "duration": 8,
        "start_time": "2023-02-02T21:55:48.183Z"
      },
      {
        "duration": 18,
        "start_time": "2023-02-02T21:55:49.335Z"
      },
      {
        "duration": 92,
        "start_time": "2023-02-02T22:04:23.807Z"
      },
      {
        "duration": 5,
        "start_time": "2023-02-02T22:04:25.222Z"
      },
      {
        "duration": 25,
        "start_time": "2023-02-02T22:04:26.699Z"
      },
      {
        "duration": 84,
        "start_time": "2023-02-02T22:04:54.850Z"
      },
      {
        "duration": 5,
        "start_time": "2023-02-02T22:04:55.985Z"
      },
      {
        "duration": 15,
        "start_time": "2023-02-02T22:04:58.994Z"
      },
      {
        "duration": 1266,
        "start_time": "2023-02-03T06:39:51.742Z"
      },
      {
        "duration": 1221,
        "start_time": "2023-02-03T06:39:53.011Z"
      },
      {
        "duration": 118,
        "start_time": "2023-02-03T06:39:54.234Z"
      },
      {
        "duration": 14,
        "start_time": "2023-02-03T06:39:54.354Z"
      },
      {
        "duration": 119,
        "start_time": "2023-02-03T06:39:54.369Z"
      },
      {
        "duration": 9,
        "start_time": "2023-02-03T06:39:54.490Z"
      },
      {
        "duration": 83,
        "start_time": "2023-02-03T06:39:54.501Z"
      },
      {
        "duration": 49,
        "start_time": "2023-02-03T06:39:54.585Z"
      },
      {
        "duration": 11,
        "start_time": "2023-02-03T06:39:54.636Z"
      },
      {
        "duration": 20,
        "start_time": "2023-02-03T06:39:54.649Z"
      },
      {
        "duration": 20,
        "start_time": "2023-02-03T06:39:54.671Z"
      },
      {
        "duration": 4,
        "start_time": "2023-02-03T06:39:54.693Z"
      },
      {
        "duration": 12,
        "start_time": "2023-02-03T06:39:54.698Z"
      },
      {
        "duration": 11,
        "start_time": "2023-02-03T06:39:54.711Z"
      },
      {
        "duration": 6,
        "start_time": "2023-02-03T06:39:54.723Z"
      },
      {
        "duration": 51,
        "start_time": "2023-02-03T06:39:54.731Z"
      },
      {
        "duration": 14,
        "start_time": "2023-02-03T06:39:54.783Z"
      },
      {
        "duration": 17,
        "start_time": "2023-02-03T06:39:54.798Z"
      },
      {
        "duration": 5,
        "start_time": "2023-02-03T06:39:54.817Z"
      },
      {
        "duration": 358,
        "start_time": "2023-02-03T06:39:54.824Z"
      },
      {
        "duration": 10,
        "start_time": "2023-02-03T06:39:55.184Z"
      },
      {
        "duration": 16,
        "start_time": "2023-02-03T06:39:55.196Z"
      },
      {
        "duration": 3,
        "start_time": "2023-02-03T06:39:55.213Z"
      },
      {
        "duration": 211,
        "start_time": "2023-02-03T06:39:55.217Z"
      },
      {
        "duration": 22,
        "start_time": "2023-02-03T06:39:55.429Z"
      },
      {
        "duration": 16,
        "start_time": "2023-02-03T06:39:55.452Z"
      },
      {
        "duration": 36,
        "start_time": "2023-02-03T06:39:55.469Z"
      },
      {
        "duration": 26,
        "start_time": "2023-02-03T06:39:55.508Z"
      },
      {
        "duration": 71,
        "start_time": "2023-02-03T06:39:55.535Z"
      },
      {
        "duration": 202,
        "start_time": "2023-02-03T06:39:55.608Z"
      },
      {
        "duration": 8,
        "start_time": "2023-02-03T06:39:55.812Z"
      },
      {
        "duration": 86,
        "start_time": "2023-02-03T06:39:55.822Z"
      },
      {
        "duration": 10,
        "start_time": "2023-02-03T06:39:55.909Z"
      },
      {
        "duration": 10,
        "start_time": "2023-02-03T06:39:55.967Z"
      },
      {
        "duration": 9,
        "start_time": "2023-02-03T06:39:55.978Z"
      },
      {
        "duration": 13,
        "start_time": "2023-02-03T06:39:55.988Z"
      },
      {
        "duration": 19,
        "start_time": "2023-02-03T06:39:56.002Z"
      },
      {
        "duration": 84,
        "start_time": "2023-02-03T06:39:56.022Z"
      },
      {
        "duration": 5,
        "start_time": "2023-02-03T06:39:56.107Z"
      },
      {
        "duration": 15,
        "start_time": "2023-02-03T06:39:56.114Z"
      },
      {
        "duration": 12,
        "start_time": "2023-02-03T06:39:56.130Z"
      },
      {
        "duration": 33,
        "start_time": "2023-02-03T06:39:56.144Z"
      },
      {
        "duration": 12,
        "start_time": "2023-02-03T06:39:56.178Z"
      },
      {
        "duration": 106,
        "start_time": "2023-02-03T06:40:35.632Z"
      },
      {
        "duration": 1031,
        "start_time": "2023-02-03T06:45:25.083Z"
      },
      {
        "duration": 1140,
        "start_time": "2023-02-03T06:45:26.116Z"
      },
      {
        "duration": 143,
        "start_time": "2023-02-03T06:45:27.260Z"
      },
      {
        "duration": 5,
        "start_time": "2023-02-03T06:45:27.406Z"
      },
      {
        "duration": 142,
        "start_time": "2023-02-03T06:45:27.413Z"
      },
      {
        "duration": 11,
        "start_time": "2023-02-03T06:45:27.557Z"
      },
      {
        "duration": 84,
        "start_time": "2023-02-03T06:45:27.570Z"
      },
      {
        "duration": 57,
        "start_time": "2023-02-03T06:45:27.666Z"
      },
      {
        "duration": 13,
        "start_time": "2023-02-03T06:45:27.725Z"
      },
      {
        "duration": 7,
        "start_time": "2023-02-03T06:45:27.740Z"
      },
      {
        "duration": 18,
        "start_time": "2023-02-03T06:45:27.768Z"
      },
      {
        "duration": 5,
        "start_time": "2023-02-03T06:45:27.787Z"
      },
      {
        "duration": 7,
        "start_time": "2023-02-03T06:45:27.795Z"
      },
      {
        "duration": 13,
        "start_time": "2023-02-03T06:45:27.804Z"
      },
      {
        "duration": 7,
        "start_time": "2023-02-03T06:45:27.819Z"
      },
      {
        "duration": 64,
        "start_time": "2023-02-03T06:45:27.828Z"
      },
      {
        "duration": 16,
        "start_time": "2023-02-03T06:45:27.893Z"
      },
      {
        "duration": 4,
        "start_time": "2023-02-03T06:45:27.911Z"
      },
      {
        "duration": 11,
        "start_time": "2023-02-03T06:45:27.917Z"
      },
      {
        "duration": 304,
        "start_time": "2023-02-03T06:45:27.931Z"
      },
      {
        "duration": 5,
        "start_time": "2023-02-03T06:45:28.237Z"
      },
      {
        "duration": 23,
        "start_time": "2023-02-03T06:45:28.244Z"
      },
      {
        "duration": 18,
        "start_time": "2023-02-03T06:45:28.269Z"
      },
      {
        "duration": 26,
        "start_time": "2023-02-03T06:45:28.288Z"
      },
      {
        "duration": 228,
        "start_time": "2023-02-03T06:45:28.315Z"
      },
      {
        "duration": 31,
        "start_time": "2023-02-03T06:45:28.545Z"
      },
      {
        "duration": 3,
        "start_time": "2023-02-03T06:45:28.578Z"
      },
      {
        "duration": 55,
        "start_time": "2023-02-03T06:45:28.582Z"
      },
      {
        "duration": 29,
        "start_time": "2023-02-03T06:45:28.639Z"
      },
      {
        "duration": 57,
        "start_time": "2023-02-03T06:45:28.670Z"
      },
      {
        "duration": 222,
        "start_time": "2023-02-03T06:45:28.729Z"
      },
      {
        "duration": 10,
        "start_time": "2023-02-03T06:45:28.953Z"
      },
      {
        "duration": 107,
        "start_time": "2023-02-03T06:45:28.967Z"
      },
      {
        "duration": 12,
        "start_time": "2023-02-03T06:45:29.076Z"
      },
      {
        "duration": 23,
        "start_time": "2023-02-03T06:45:29.089Z"
      },
      {
        "duration": 26,
        "start_time": "2023-02-03T06:45:29.113Z"
      },
      {
        "duration": 24,
        "start_time": "2023-02-03T06:45:29.141Z"
      },
      {
        "duration": 22,
        "start_time": "2023-02-03T06:45:29.167Z"
      },
      {
        "duration": 78,
        "start_time": "2023-02-03T06:45:29.190Z"
      },
      {
        "duration": 6,
        "start_time": "2023-02-03T06:45:29.273Z"
      },
      {
        "duration": 32,
        "start_time": "2023-02-03T06:45:29.280Z"
      },
      {
        "duration": 19,
        "start_time": "2023-02-03T06:45:29.314Z"
      },
      {
        "duration": 22,
        "start_time": "2023-02-03T06:45:29.334Z"
      },
      {
        "duration": 24,
        "start_time": "2023-02-03T06:45:29.357Z"
      },
      {
        "duration": 1008,
        "start_time": "2023-02-03T06:51:50.932Z"
      },
      {
        "duration": 1092,
        "start_time": "2023-02-03T06:51:51.942Z"
      },
      {
        "duration": 198,
        "start_time": "2023-02-03T06:51:53.036Z"
      },
      {
        "duration": 5,
        "start_time": "2023-02-03T06:51:53.236Z"
      },
      {
        "duration": 125,
        "start_time": "2023-02-03T06:51:53.242Z"
      },
      {
        "duration": 9,
        "start_time": "2023-02-03T06:51:53.368Z"
      },
      {
        "duration": 81,
        "start_time": "2023-02-03T06:51:53.378Z"
      },
      {
        "duration": 52,
        "start_time": "2023-02-03T06:51:53.467Z"
      },
      {
        "duration": 11,
        "start_time": "2023-02-03T06:51:53.521Z"
      },
      {
        "duration": 16,
        "start_time": "2023-02-03T06:51:53.534Z"
      },
      {
        "duration": 26,
        "start_time": "2023-02-03T06:51:53.551Z"
      },
      {
        "duration": 9,
        "start_time": "2023-02-03T06:51:53.579Z"
      },
      {
        "duration": 14,
        "start_time": "2023-02-03T06:51:53.590Z"
      },
      {
        "duration": 13,
        "start_time": "2023-02-03T06:51:53.607Z"
      },
      {
        "duration": 7,
        "start_time": "2023-02-03T06:51:53.622Z"
      },
      {
        "duration": 45,
        "start_time": "2023-02-03T06:51:53.631Z"
      },
      {
        "duration": 16,
        "start_time": "2023-02-03T06:51:53.678Z"
      },
      {
        "duration": 12,
        "start_time": "2023-02-03T06:51:53.695Z"
      },
      {
        "duration": 10,
        "start_time": "2023-02-03T06:51:53.708Z"
      },
      {
        "duration": 294,
        "start_time": "2023-02-03T06:51:53.720Z"
      },
      {
        "duration": 5,
        "start_time": "2023-02-03T06:51:54.016Z"
      },
      {
        "duration": 14,
        "start_time": "2023-02-03T06:51:54.022Z"
      },
      {
        "duration": 105,
        "start_time": "2023-02-03T06:51:54.037Z"
      },
      {
        "duration": 0,
        "start_time": "2023-02-03T06:51:54.144Z"
      },
      {
        "duration": 0,
        "start_time": "2023-02-03T06:51:54.145Z"
      },
      {
        "duration": 0,
        "start_time": "2023-02-03T06:51:54.146Z"
      },
      {
        "duration": 0,
        "start_time": "2023-02-03T06:51:54.147Z"
      },
      {
        "duration": 0,
        "start_time": "2023-02-03T06:51:54.148Z"
      },
      {
        "duration": 0,
        "start_time": "2023-02-03T06:51:54.149Z"
      },
      {
        "duration": 0,
        "start_time": "2023-02-03T06:51:54.167Z"
      },
      {
        "duration": 0,
        "start_time": "2023-02-03T06:51:54.168Z"
      },
      {
        "duration": 0,
        "start_time": "2023-02-03T06:51:54.169Z"
      },
      {
        "duration": 0,
        "start_time": "2023-02-03T06:51:54.170Z"
      },
      {
        "duration": 0,
        "start_time": "2023-02-03T06:51:54.171Z"
      },
      {
        "duration": 0,
        "start_time": "2023-02-03T06:51:54.172Z"
      },
      {
        "duration": 0,
        "start_time": "2023-02-03T06:51:54.173Z"
      },
      {
        "duration": 0,
        "start_time": "2023-02-03T06:51:54.175Z"
      },
      {
        "duration": 0,
        "start_time": "2023-02-03T06:51:54.176Z"
      },
      {
        "duration": 0,
        "start_time": "2023-02-03T06:51:54.177Z"
      },
      {
        "duration": 0,
        "start_time": "2023-02-03T06:51:54.178Z"
      },
      {
        "duration": 0,
        "start_time": "2023-02-03T06:51:54.179Z"
      },
      {
        "duration": 0,
        "start_time": "2023-02-03T06:51:54.180Z"
      },
      {
        "duration": 0,
        "start_time": "2023-02-03T06:51:54.181Z"
      },
      {
        "duration": 0,
        "start_time": "2023-02-03T06:51:54.182Z"
      },
      {
        "duration": 0,
        "start_time": "2023-02-03T06:51:54.183Z"
      },
      {
        "duration": 27,
        "start_time": "2023-02-03T06:52:05.306Z"
      },
      {
        "duration": 102,
        "start_time": "2023-02-03T06:52:06.699Z"
      },
      {
        "duration": 82,
        "start_time": "2023-02-03T06:52:29.015Z"
      },
      {
        "duration": 83,
        "start_time": "2023-02-03T06:52:42.373Z"
      },
      {
        "duration": 1166,
        "start_time": "2023-02-03T06:54:12.986Z"
      },
      {
        "duration": 1243,
        "start_time": "2023-02-03T06:54:14.155Z"
      },
      {
        "duration": 169,
        "start_time": "2023-02-03T06:54:15.400Z"
      },
      {
        "duration": 5,
        "start_time": "2023-02-03T06:54:15.572Z"
      },
      {
        "duration": 126,
        "start_time": "2023-02-03T06:54:15.578Z"
      },
      {
        "duration": 8,
        "start_time": "2023-02-03T06:54:15.706Z"
      },
      {
        "duration": 110,
        "start_time": "2023-02-03T06:54:15.716Z"
      },
      {
        "duration": 70,
        "start_time": "2023-02-03T06:54:15.827Z"
      },
      {
        "duration": 12,
        "start_time": "2023-02-03T06:54:15.899Z"
      },
      {
        "duration": 29,
        "start_time": "2023-02-03T06:54:15.914Z"
      },
      {
        "duration": 42,
        "start_time": "2023-02-03T06:54:15.945Z"
      },
      {
        "duration": 31,
        "start_time": "2023-02-03T06:54:15.988Z"
      },
      {
        "duration": 19,
        "start_time": "2023-02-03T06:54:16.021Z"
      },
      {
        "duration": 47,
        "start_time": "2023-02-03T06:54:16.041Z"
      },
      {
        "duration": 39,
        "start_time": "2023-02-03T06:54:16.091Z"
      },
      {
        "duration": 52,
        "start_time": "2023-02-03T06:54:16.132Z"
      },
      {
        "duration": 17,
        "start_time": "2023-02-03T06:54:16.186Z"
      },
      {
        "duration": 28,
        "start_time": "2023-02-03T06:54:16.205Z"
      },
      {
        "duration": 31,
        "start_time": "2023-02-03T06:54:16.234Z"
      },
      {
        "duration": 291,
        "start_time": "2023-02-03T06:54:16.267Z"
      },
      {
        "duration": 8,
        "start_time": "2023-02-03T06:54:16.560Z"
      },
      {
        "duration": 44,
        "start_time": "2023-02-03T06:54:16.569Z"
      },
      {
        "duration": 16,
        "start_time": "2023-02-03T06:54:16.615Z"
      },
      {
        "duration": 74,
        "start_time": "2023-02-03T06:54:16.633Z"
      },
      {
        "duration": 245,
        "start_time": "2023-02-03T06:54:16.709Z"
      },
      {
        "duration": 27,
        "start_time": "2023-02-03T06:54:16.955Z"
      },
      {
        "duration": 5,
        "start_time": "2023-02-03T06:54:16.984Z"
      },
      {
        "duration": 43,
        "start_time": "2023-02-03T06:54:16.992Z"
      },
      {
        "duration": 50,
        "start_time": "2023-02-03T06:54:17.037Z"
      },
      {
        "duration": 59,
        "start_time": "2023-02-03T06:54:17.088Z"
      },
      {
        "duration": 226,
        "start_time": "2023-02-03T06:54:17.149Z"
      },
      {
        "duration": 15,
        "start_time": "2023-02-03T06:54:17.377Z"
      },
      {
        "duration": 11,
        "start_time": "2023-02-03T06:54:17.393Z"
      },
      {
        "duration": 111,
        "start_time": "2023-02-03T06:54:17.406Z"
      },
      {
        "duration": 10,
        "start_time": "2023-02-03T06:54:17.519Z"
      },
      {
        "duration": 10,
        "start_time": "2023-02-03T06:54:17.567Z"
      },
      {
        "duration": 26,
        "start_time": "2023-02-03T06:54:17.579Z"
      },
      {
        "duration": 13,
        "start_time": "2023-02-03T06:54:17.608Z"
      },
      {
        "duration": 21,
        "start_time": "2023-02-03T06:54:17.623Z"
      },
      {
        "duration": 103,
        "start_time": "2023-02-03T06:54:17.646Z"
      },
      {
        "duration": 5,
        "start_time": "2023-02-03T06:54:17.750Z"
      },
      {
        "duration": 151,
        "start_time": "2023-02-03T06:54:17.757Z"
      },
      {
        "duration": 0,
        "start_time": "2023-02-03T06:54:17.910Z"
      },
      {
        "duration": 0,
        "start_time": "2023-02-03T06:54:17.912Z"
      },
      {
        "duration": 0,
        "start_time": "2023-02-03T06:54:17.913Z"
      },
      {
        "duration": 45,
        "start_time": "2023-02-03T06:56:22.493Z"
      },
      {
        "duration": 9,
        "start_time": "2023-02-03T06:56:27.358Z"
      },
      {
        "duration": 9,
        "start_time": "2023-02-03T06:56:33.887Z"
      },
      {
        "duration": 8,
        "start_time": "2023-02-03T06:57:59.845Z"
      },
      {
        "duration": 10,
        "start_time": "2023-02-03T06:58:01.626Z"
      },
      {
        "duration": 10,
        "start_time": "2023-02-03T06:58:03.661Z"
      },
      {
        "duration": 10,
        "start_time": "2023-02-03T06:58:05.639Z"
      },
      {
        "duration": 1150,
        "start_time": "2023-02-03T07:00:54.168Z"
      },
      {
        "duration": 1022,
        "start_time": "2023-02-03T07:00:55.320Z"
      },
      {
        "duration": 141,
        "start_time": "2023-02-03T07:00:56.344Z"
      },
      {
        "duration": 5,
        "start_time": "2023-02-03T07:00:56.488Z"
      },
      {
        "duration": 122,
        "start_time": "2023-02-03T07:00:56.495Z"
      },
      {
        "duration": 8,
        "start_time": "2023-02-03T07:00:56.619Z"
      },
      {
        "duration": 85,
        "start_time": "2023-02-03T07:00:56.629Z"
      },
      {
        "duration": 69,
        "start_time": "2023-02-03T07:00:56.716Z"
      },
      {
        "duration": 19,
        "start_time": "2023-02-03T07:00:56.787Z"
      },
      {
        "duration": 13,
        "start_time": "2023-02-03T07:00:56.810Z"
      },
      {
        "duration": 44,
        "start_time": "2023-02-03T07:00:56.825Z"
      },
      {
        "duration": 6,
        "start_time": "2023-02-03T07:00:56.871Z"
      },
      {
        "duration": 13,
        "start_time": "2023-02-03T07:00:56.880Z"
      },
      {
        "duration": 16,
        "start_time": "2023-02-03T07:00:56.894Z"
      },
      {
        "duration": 10,
        "start_time": "2023-02-03T07:00:56.912Z"
      },
      {
        "duration": 53,
        "start_time": "2023-02-03T07:00:56.924Z"
      },
      {
        "duration": 16,
        "start_time": "2023-02-03T07:00:56.979Z"
      },
      {
        "duration": 4,
        "start_time": "2023-02-03T07:00:56.997Z"
      },
      {
        "duration": 22,
        "start_time": "2023-02-03T07:00:57.003Z"
      },
      {
        "duration": 274,
        "start_time": "2023-02-03T07:00:57.027Z"
      },
      {
        "duration": 5,
        "start_time": "2023-02-03T07:00:57.303Z"
      },
      {
        "duration": 17,
        "start_time": "2023-02-03T07:00:57.310Z"
      },
      {
        "duration": 17,
        "start_time": "2023-02-03T07:00:57.329Z"
      },
      {
        "duration": 90,
        "start_time": "2023-02-03T07:00:57.348Z"
      },
      {
        "duration": 218,
        "start_time": "2023-02-03T07:00:57.440Z"
      },
      {
        "duration": 29,
        "start_time": "2023-02-03T07:00:57.659Z"
      },
      {
        "duration": 4,
        "start_time": "2023-02-03T07:00:57.689Z"
      },
      {
        "duration": 41,
        "start_time": "2023-02-03T07:00:57.696Z"
      },
      {
        "duration": 49,
        "start_time": "2023-02-03T07:00:57.738Z"
      },
      {
        "duration": 57,
        "start_time": "2023-02-03T07:00:57.789Z"
      },
      {
        "duration": 219,
        "start_time": "2023-02-03T07:00:57.847Z"
      },
      {
        "duration": 14,
        "start_time": "2023-02-03T07:00:58.068Z"
      },
      {
        "duration": 10,
        "start_time": "2023-02-03T07:00:58.084Z"
      },
      {
        "duration": 113,
        "start_time": "2023-02-03T07:00:58.095Z"
      },
      {
        "duration": 57,
        "start_time": "2023-02-03T07:00:58.210Z"
      },
      {
        "duration": 15,
        "start_time": "2023-02-03T07:00:58.269Z"
      },
      {
        "duration": 29,
        "start_time": "2023-02-03T07:00:58.285Z"
      },
      {
        "duration": 29,
        "start_time": "2023-02-03T07:00:58.315Z"
      },
      {
        "duration": 33,
        "start_time": "2023-02-03T07:00:58.346Z"
      },
      {
        "duration": 66,
        "start_time": "2023-02-03T07:00:58.381Z"
      },
      {
        "duration": 19,
        "start_time": "2023-02-03T07:00:58.449Z"
      },
      {
        "duration": 26,
        "start_time": "2023-02-03T07:00:58.470Z"
      },
      {
        "duration": 14,
        "start_time": "2023-02-03T07:00:58.498Z"
      },
      {
        "duration": 20,
        "start_time": "2023-02-03T07:00:58.514Z"
      },
      {
        "duration": 11,
        "start_time": "2023-02-03T07:00:58.536Z"
      },
      {
        "duration": 1154,
        "start_time": "2023-02-03T08:56:20.278Z"
      },
      {
        "duration": 1198,
        "start_time": "2023-02-03T08:56:21.434Z"
      },
      {
        "duration": 123,
        "start_time": "2023-02-03T08:56:22.633Z"
      },
      {
        "duration": 4,
        "start_time": "2023-02-03T08:56:22.758Z"
      },
      {
        "duration": 136,
        "start_time": "2023-02-03T08:56:22.764Z"
      },
      {
        "duration": 8,
        "start_time": "2023-02-03T08:56:22.902Z"
      },
      {
        "duration": 81,
        "start_time": "2023-02-03T08:56:22.912Z"
      },
      {
        "duration": 58,
        "start_time": "2023-02-03T08:56:22.995Z"
      },
      {
        "duration": 11,
        "start_time": "2023-02-03T08:56:23.055Z"
      },
      {
        "duration": 8,
        "start_time": "2023-02-03T08:56:23.069Z"
      },
      {
        "duration": 17,
        "start_time": "2023-02-03T08:56:23.079Z"
      },
      {
        "duration": 4,
        "start_time": "2023-02-03T08:56:23.097Z"
      },
      {
        "duration": 12,
        "start_time": "2023-02-03T08:56:23.102Z"
      },
      {
        "duration": 33,
        "start_time": "2023-02-03T08:56:23.116Z"
      },
      {
        "duration": 7,
        "start_time": "2023-02-03T08:56:23.151Z"
      },
      {
        "duration": 31,
        "start_time": "2023-02-03T08:56:23.159Z"
      },
      {
        "duration": 15,
        "start_time": "2023-02-03T08:56:23.191Z"
      },
      {
        "duration": 5,
        "start_time": "2023-02-03T08:56:23.207Z"
      },
      {
        "duration": 8,
        "start_time": "2023-02-03T08:56:23.213Z"
      },
      {
        "duration": 308,
        "start_time": "2023-02-03T08:56:23.222Z"
      },
      {
        "duration": 4,
        "start_time": "2023-02-03T08:56:23.532Z"
      },
      {
        "duration": 19,
        "start_time": "2023-02-03T08:56:23.538Z"
      },
      {
        "duration": 16,
        "start_time": "2023-02-03T08:56:23.559Z"
      },
      {
        "duration": 134,
        "start_time": "2023-02-03T08:56:23.577Z"
      },
      {
        "duration": 0,
        "start_time": "2023-02-03T08:56:23.714Z"
      },
      {
        "duration": 0,
        "start_time": "2023-02-03T08:56:23.715Z"
      },
      {
        "duration": 0,
        "start_time": "2023-02-03T08:56:23.716Z"
      },
      {
        "duration": 0,
        "start_time": "2023-02-03T08:56:23.717Z"
      },
      {
        "duration": 0,
        "start_time": "2023-02-03T08:56:23.718Z"
      },
      {
        "duration": 0,
        "start_time": "2023-02-03T08:56:23.719Z"
      },
      {
        "duration": 0,
        "start_time": "2023-02-03T08:56:23.720Z"
      },
      {
        "duration": 0,
        "start_time": "2023-02-03T08:56:23.721Z"
      },
      {
        "duration": 0,
        "start_time": "2023-02-03T08:56:23.722Z"
      },
      {
        "duration": 0,
        "start_time": "2023-02-03T08:56:23.723Z"
      },
      {
        "duration": 0,
        "start_time": "2023-02-03T08:56:23.724Z"
      },
      {
        "duration": 0,
        "start_time": "2023-02-03T08:56:23.747Z"
      },
      {
        "duration": 0,
        "start_time": "2023-02-03T08:56:23.748Z"
      },
      {
        "duration": 0,
        "start_time": "2023-02-03T08:56:23.750Z"
      },
      {
        "duration": 0,
        "start_time": "2023-02-03T08:56:23.751Z"
      },
      {
        "duration": 0,
        "start_time": "2023-02-03T08:56:23.752Z"
      },
      {
        "duration": 0,
        "start_time": "2023-02-03T08:56:23.753Z"
      },
      {
        "duration": 0,
        "start_time": "2023-02-03T08:56:23.754Z"
      },
      {
        "duration": 0,
        "start_time": "2023-02-03T08:56:23.755Z"
      },
      {
        "duration": 0,
        "start_time": "2023-02-03T08:56:23.757Z"
      },
      {
        "duration": 0,
        "start_time": "2023-02-03T08:56:23.758Z"
      },
      {
        "duration": 0,
        "start_time": "2023-02-03T08:56:23.759Z"
      },
      {
        "duration": 64,
        "start_time": "2023-02-03T08:57:07.683Z"
      },
      {
        "duration": 61,
        "start_time": "2023-02-03T08:57:14.953Z"
      },
      {
        "duration": 60,
        "start_time": "2023-02-03T08:57:22.367Z"
      },
      {
        "duration": 1046,
        "start_time": "2023-02-03T08:57:36.639Z"
      },
      {
        "duration": 1036,
        "start_time": "2023-02-03T08:57:37.687Z"
      },
      {
        "duration": 131,
        "start_time": "2023-02-03T08:57:38.725Z"
      },
      {
        "duration": 5,
        "start_time": "2023-02-03T08:57:38.857Z"
      },
      {
        "duration": 124,
        "start_time": "2023-02-03T08:57:38.865Z"
      },
      {
        "duration": 8,
        "start_time": "2023-02-03T08:57:38.991Z"
      },
      {
        "duration": 109,
        "start_time": "2023-02-03T08:57:39.001Z"
      },
      {
        "duration": 61,
        "start_time": "2023-02-03T08:57:39.112Z"
      },
      {
        "duration": 11,
        "start_time": "2023-02-03T08:57:39.175Z"
      },
      {
        "duration": 26,
        "start_time": "2023-02-03T08:57:39.188Z"
      },
      {
        "duration": 21,
        "start_time": "2023-02-03T08:57:39.215Z"
      },
      {
        "duration": 4,
        "start_time": "2023-02-03T08:57:39.237Z"
      },
      {
        "duration": 7,
        "start_time": "2023-02-03T08:57:39.242Z"
      },
      {
        "duration": 10,
        "start_time": "2023-02-03T08:57:39.252Z"
      },
      {
        "duration": 7,
        "start_time": "2023-02-03T08:57:39.264Z"
      },
      {
        "duration": 37,
        "start_time": "2023-02-03T08:57:39.273Z"
      },
      {
        "duration": 42,
        "start_time": "2023-02-03T08:57:39.312Z"
      },
      {
        "duration": 5,
        "start_time": "2023-02-03T08:57:39.356Z"
      },
      {
        "duration": 6,
        "start_time": "2023-02-03T08:57:39.362Z"
      },
      {
        "duration": 297,
        "start_time": "2023-02-03T08:57:39.369Z"
      },
      {
        "duration": 5,
        "start_time": "2023-02-03T08:57:39.667Z"
      },
      {
        "duration": 15,
        "start_time": "2023-02-03T08:57:39.674Z"
      },
      {
        "duration": 15,
        "start_time": "2023-02-03T08:57:39.691Z"
      },
      {
        "duration": 87,
        "start_time": "2023-02-03T08:57:39.708Z"
      },
      {
        "duration": 213,
        "start_time": "2023-02-03T08:57:39.796Z"
      },
      {
        "duration": 23,
        "start_time": "2023-02-03T08:57:40.010Z"
      },
      {
        "duration": 15,
        "start_time": "2023-02-03T08:57:40.034Z"
      },
      {
        "duration": 41,
        "start_time": "2023-02-03T08:57:40.051Z"
      },
      {
        "duration": 28,
        "start_time": "2023-02-03T08:57:40.093Z"
      },
      {
        "duration": 69,
        "start_time": "2023-02-03T08:57:40.122Z"
      },
      {
        "duration": 14,
        "start_time": "2023-02-03T08:57:40.192Z"
      },
      {
        "duration": 218,
        "start_time": "2023-02-03T08:57:40.207Z"
      },
      {
        "duration": 2,
        "start_time": "2023-02-03T08:57:40.427Z"
      },
      {
        "duration": 12,
        "start_time": "2023-02-03T08:57:40.430Z"
      },
      {
        "duration": 109,
        "start_time": "2023-02-03T08:57:40.444Z"
      },
      {
        "duration": 11,
        "start_time": "2023-02-03T08:57:40.555Z"
      },
      {
        "duration": 10,
        "start_time": "2023-02-03T08:57:40.568Z"
      },
      {
        "duration": 11,
        "start_time": "2023-02-03T08:57:40.580Z"
      },
      {
        "duration": 14,
        "start_time": "2023-02-03T08:57:40.593Z"
      },
      {
        "duration": 44,
        "start_time": "2023-02-03T08:57:40.608Z"
      },
      {
        "duration": 70,
        "start_time": "2023-02-03T08:57:40.655Z"
      },
      {
        "duration": 5,
        "start_time": "2023-02-03T08:57:40.727Z"
      },
      {
        "duration": 10,
        "start_time": "2023-02-03T08:57:40.747Z"
      },
      {
        "duration": 14,
        "start_time": "2023-02-03T08:57:40.759Z"
      },
      {
        "duration": 11,
        "start_time": "2023-02-03T08:57:40.774Z"
      },
      {
        "duration": 14,
        "start_time": "2023-02-03T08:57:40.786Z"
      },
      {
        "duration": 1046,
        "start_time": "2023-02-03T08:58:47.848Z"
      },
      {
        "duration": 1175,
        "start_time": "2023-02-03T08:58:48.905Z"
      },
      {
        "duration": 201,
        "start_time": "2023-02-03T08:58:50.082Z"
      },
      {
        "duration": 6,
        "start_time": "2023-02-03T08:58:50.286Z"
      },
      {
        "duration": 132,
        "start_time": "2023-02-03T08:58:50.294Z"
      },
      {
        "duration": 9,
        "start_time": "2023-02-03T08:58:50.428Z"
      },
      {
        "duration": 107,
        "start_time": "2023-02-03T08:58:50.449Z"
      },
      {
        "duration": 56,
        "start_time": "2023-02-03T08:58:50.557Z"
      },
      {
        "duration": 33,
        "start_time": "2023-02-03T08:58:50.615Z"
      },
      {
        "duration": 10,
        "start_time": "2023-02-03T08:58:50.652Z"
      },
      {
        "duration": 25,
        "start_time": "2023-02-03T08:58:50.664Z"
      },
      {
        "duration": 11,
        "start_time": "2023-02-03T08:58:50.691Z"
      },
      {
        "duration": 17,
        "start_time": "2023-02-03T08:58:50.703Z"
      },
      {
        "duration": 52,
        "start_time": "2023-02-03T08:58:50.722Z"
      },
      {
        "duration": 11,
        "start_time": "2023-02-03T08:58:50.776Z"
      },
      {
        "duration": 59,
        "start_time": "2023-02-03T08:58:50.789Z"
      },
      {
        "duration": 21,
        "start_time": "2023-02-03T08:58:50.850Z"
      },
      {
        "duration": 9,
        "start_time": "2023-02-03T08:58:50.874Z"
      },
      {
        "duration": 14,
        "start_time": "2023-02-03T08:58:50.886Z"
      },
      {
        "duration": 338,
        "start_time": "2023-02-03T08:58:50.902Z"
      },
      {
        "duration": 7,
        "start_time": "2023-02-03T08:58:51.241Z"
      },
      {
        "duration": 13,
        "start_time": "2023-02-03T08:58:51.249Z"
      },
      {
        "duration": 16,
        "start_time": "2023-02-03T08:58:51.264Z"
      },
      {
        "duration": 108,
        "start_time": "2023-02-03T08:58:51.282Z"
      },
      {
        "duration": 218,
        "start_time": "2023-02-03T08:58:51.393Z"
      },
      {
        "duration": 38,
        "start_time": "2023-02-03T08:58:51.613Z"
      },
      {
        "duration": 5,
        "start_time": "2023-02-03T08:58:51.653Z"
      },
      {
        "duration": 62,
        "start_time": "2023-02-03T08:58:51.663Z"
      },
      {
        "duration": 38,
        "start_time": "2023-02-03T08:58:51.726Z"
      },
      {
        "duration": 40,
        "start_time": "2023-02-03T08:58:51.766Z"
      },
      {
        "duration": 82,
        "start_time": "2023-02-03T08:58:51.808Z"
      },
      {
        "duration": 283,
        "start_time": "2023-02-03T08:58:51.892Z"
      },
      {
        "duration": 3,
        "start_time": "2023-02-03T08:58:52.177Z"
      },
      {
        "duration": 14,
        "start_time": "2023-02-03T08:58:52.182Z"
      },
      {
        "duration": 162,
        "start_time": "2023-02-03T08:58:52.198Z"
      },
      {
        "duration": 16,
        "start_time": "2023-02-03T08:58:52.361Z"
      },
      {
        "duration": 14,
        "start_time": "2023-02-03T08:58:52.379Z"
      },
      {
        "duration": 15,
        "start_time": "2023-02-03T08:58:52.395Z"
      },
      {
        "duration": 39,
        "start_time": "2023-02-03T08:58:52.412Z"
      },
      {
        "duration": 24,
        "start_time": "2023-02-03T08:58:52.454Z"
      },
      {
        "duration": 122,
        "start_time": "2023-02-03T08:58:52.480Z"
      },
      {
        "duration": 5,
        "start_time": "2023-02-03T08:58:52.604Z"
      },
      {
        "duration": 21,
        "start_time": "2023-02-03T08:58:52.611Z"
      },
      {
        "duration": 21,
        "start_time": "2023-02-03T08:58:52.634Z"
      },
      {
        "duration": 18,
        "start_time": "2023-02-03T08:58:52.657Z"
      },
      {
        "duration": 18,
        "start_time": "2023-02-03T08:58:52.678Z"
      },
      {
        "duration": 1046,
        "start_time": "2023-02-03T09:00:16.550Z"
      },
      {
        "duration": 1045,
        "start_time": "2023-02-03T09:00:17.598Z"
      },
      {
        "duration": 131,
        "start_time": "2023-02-03T09:00:18.645Z"
      },
      {
        "duration": 5,
        "start_time": "2023-02-03T09:00:18.778Z"
      },
      {
        "duration": 143,
        "start_time": "2023-02-03T09:00:18.785Z"
      },
      {
        "duration": 18,
        "start_time": "2023-02-03T09:00:18.930Z"
      },
      {
        "duration": 86,
        "start_time": "2023-02-03T09:00:18.950Z"
      },
      {
        "duration": 52,
        "start_time": "2023-02-03T09:00:19.038Z"
      },
      {
        "duration": 16,
        "start_time": "2023-02-03T09:00:19.092Z"
      },
      {
        "duration": 25,
        "start_time": "2023-02-03T09:00:19.110Z"
      },
      {
        "duration": 46,
        "start_time": "2023-02-03T09:00:19.137Z"
      },
      {
        "duration": 20,
        "start_time": "2023-02-03T09:00:19.185Z"
      },
      {
        "duration": 14,
        "start_time": "2023-02-03T09:00:19.207Z"
      },
      {
        "duration": 23,
        "start_time": "2023-02-03T09:00:19.225Z"
      },
      {
        "duration": 15,
        "start_time": "2023-02-03T09:00:19.250Z"
      },
      {
        "duration": 55,
        "start_time": "2023-02-03T09:00:19.267Z"
      },
      {
        "duration": 18,
        "start_time": "2023-02-03T09:00:19.324Z"
      },
      {
        "duration": 30,
        "start_time": "2023-02-03T09:00:19.344Z"
      },
      {
        "duration": 19,
        "start_time": "2023-02-03T09:00:19.377Z"
      },
      {
        "duration": 317,
        "start_time": "2023-02-03T09:00:19.398Z"
      },
      {
        "duration": 4,
        "start_time": "2023-02-03T09:00:19.717Z"
      },
      {
        "duration": 36,
        "start_time": "2023-02-03T09:00:19.723Z"
      },
      {
        "duration": 20,
        "start_time": "2023-02-03T09:00:19.762Z"
      },
      {
        "duration": 72,
        "start_time": "2023-02-03T09:00:19.784Z"
      },
      {
        "duration": 282,
        "start_time": "2023-02-03T09:00:19.858Z"
      },
      {
        "duration": 29,
        "start_time": "2023-02-03T09:00:20.142Z"
      },
      {
        "duration": 16,
        "start_time": "2023-02-03T09:00:20.173Z"
      },
      {
        "duration": 68,
        "start_time": "2023-02-03T09:00:20.190Z"
      },
      {
        "duration": 15,
        "start_time": "2023-02-03T09:00:20.260Z"
      },
      {
        "duration": 39,
        "start_time": "2023-02-03T09:00:20.277Z"
      },
      {
        "duration": 71,
        "start_time": "2023-02-03T09:00:20.318Z"
      },
      {
        "duration": 252,
        "start_time": "2023-02-03T09:00:20.391Z"
      },
      {
        "duration": 3,
        "start_time": "2023-02-03T09:00:20.644Z"
      },
      {
        "duration": 24,
        "start_time": "2023-02-03T09:00:20.649Z"
      },
      {
        "duration": 113,
        "start_time": "2023-02-03T09:00:20.675Z"
      },
      {
        "duration": 11,
        "start_time": "2023-02-03T09:00:20.790Z"
      },
      {
        "duration": 49,
        "start_time": "2023-02-03T09:00:20.803Z"
      },
      {
        "duration": 14,
        "start_time": "2023-02-03T09:00:20.854Z"
      },
      {
        "duration": 17,
        "start_time": "2023-02-03T09:00:20.870Z"
      },
      {
        "duration": 23,
        "start_time": "2023-02-03T09:00:20.889Z"
      },
      {
        "duration": 107,
        "start_time": "2023-02-03T09:00:20.916Z"
      },
      {
        "duration": 5,
        "start_time": "2023-02-03T09:00:23.476Z"
      },
      {
        "duration": 10,
        "start_time": "2023-02-03T09:00:26.552Z"
      },
      {
        "duration": 4,
        "start_time": "2023-02-03T09:00:39.362Z"
      },
      {
        "duration": 10,
        "start_time": "2023-02-03T09:00:43.520Z"
      },
      {
        "duration": 8,
        "start_time": "2023-02-03T09:00:52.907Z"
      },
      {
        "duration": 10,
        "start_time": "2023-02-03T09:00:54.794Z"
      },
      {
        "duration": 11,
        "start_time": "2023-02-03T09:00:58.666Z"
      },
      {
        "duration": 6,
        "start_time": "2023-02-03T09:01:32.250Z"
      },
      {
        "duration": 15,
        "start_time": "2023-02-03T09:01:39.474Z"
      },
      {
        "duration": 5,
        "start_time": "2023-02-03T09:01:42.690Z"
      },
      {
        "duration": 11,
        "start_time": "2023-02-03T09:01:47.385Z"
      },
      {
        "duration": 5,
        "start_time": "2023-02-03T09:02:26.571Z"
      },
      {
        "duration": 3,
        "start_time": "2023-02-03T09:03:00.467Z"
      },
      {
        "duration": 3,
        "start_time": "2023-02-03T09:03:03.946Z"
      },
      {
        "duration": 5,
        "start_time": "2023-02-03T09:03:06.186Z"
      },
      {
        "duration": 2,
        "start_time": "2023-02-03T09:03:09.986Z"
      },
      {
        "duration": 6,
        "start_time": "2023-02-03T09:03:17.530Z"
      },
      {
        "duration": 9,
        "start_time": "2023-02-03T09:03:18.578Z"
      },
      {
        "duration": 56,
        "start_time": "2023-02-03T09:05:41.028Z"
      },
      {
        "duration": 5,
        "start_time": "2023-02-03T09:05:46.356Z"
      },
      {
        "duration": 11,
        "start_time": "2023-02-03T09:06:00.108Z"
      },
      {
        "duration": 7,
        "start_time": "2023-02-03T09:18:10.585Z"
      },
      {
        "duration": 12,
        "start_time": "2023-02-03T09:18:13.272Z"
      },
      {
        "duration": 14,
        "start_time": "2023-02-03T09:18:23.336Z"
      },
      {
        "duration": 10,
        "start_time": "2023-02-03T09:18:28.095Z"
      },
      {
        "duration": 13,
        "start_time": "2023-02-03T09:18:29.440Z"
      },
      {
        "duration": 5,
        "start_time": "2023-02-03T09:19:08.176Z"
      },
      {
        "duration": 3,
        "start_time": "2023-02-03T09:19:09.600Z"
      },
      {
        "duration": 5,
        "start_time": "2023-02-03T09:19:14.399Z"
      },
      {
        "duration": 8,
        "start_time": "2023-02-03T09:19:38.145Z"
      },
      {
        "duration": 3,
        "start_time": "2023-02-03T09:19:39.504Z"
      },
      {
        "duration": 4,
        "start_time": "2023-02-03T09:19:44.792Z"
      },
      {
        "duration": 182,
        "start_time": "2023-02-03T09:20:37.441Z"
      },
      {
        "duration": 180,
        "start_time": "2023-02-03T09:21:20.826Z"
      },
      {
        "duration": 103,
        "start_time": "2023-02-03T09:21:41.994Z"
      },
      {
        "duration": 11,
        "start_time": "2023-02-03T09:21:57.174Z"
      },
      {
        "duration": 1011,
        "start_time": "2023-02-03T09:22:08.271Z"
      },
      {
        "duration": 1050,
        "start_time": "2023-02-03T09:22:09.284Z"
      },
      {
        "duration": 123,
        "start_time": "2023-02-03T09:22:10.336Z"
      },
      {
        "duration": 5,
        "start_time": "2023-02-03T09:22:10.461Z"
      },
      {
        "duration": 126,
        "start_time": "2023-02-03T09:22:10.468Z"
      },
      {
        "duration": 9,
        "start_time": "2023-02-03T09:22:10.596Z"
      },
      {
        "duration": 84,
        "start_time": "2023-02-03T09:22:10.606Z"
      },
      {
        "duration": 58,
        "start_time": "2023-02-03T09:22:10.692Z"
      },
      {
        "duration": 12,
        "start_time": "2023-02-03T09:22:10.752Z"
      },
      {
        "duration": 7,
        "start_time": "2023-02-03T09:22:10.766Z"
      },
      {
        "duration": 18,
        "start_time": "2023-02-03T09:22:10.774Z"
      },
      {
        "duration": 5,
        "start_time": "2023-02-03T09:22:10.793Z"
      },
      {
        "duration": 8,
        "start_time": "2023-02-03T09:22:10.800Z"
      },
      {
        "duration": 48,
        "start_time": "2023-02-03T09:22:10.810Z"
      },
      {
        "duration": 7,
        "start_time": "2023-02-03T09:22:10.859Z"
      },
      {
        "duration": 28,
        "start_time": "2023-02-03T09:22:10.868Z"
      },
      {
        "duration": 14,
        "start_time": "2023-02-03T09:22:10.898Z"
      },
      {
        "duration": 4,
        "start_time": "2023-02-03T09:22:10.914Z"
      },
      {
        "duration": 6,
        "start_time": "2023-02-03T09:22:10.948Z"
      },
      {
        "duration": 310,
        "start_time": "2023-02-03T09:22:10.955Z"
      },
      {
        "duration": 4,
        "start_time": "2023-02-03T09:22:11.267Z"
      },
      {
        "duration": 15,
        "start_time": "2023-02-03T09:22:11.272Z"
      },
      {
        "duration": 14,
        "start_time": "2023-02-03T09:22:11.289Z"
      },
      {
        "duration": 79,
        "start_time": "2023-02-03T09:22:11.304Z"
      },
      {
        "duration": 209,
        "start_time": "2023-02-03T09:22:11.384Z"
      },
      {
        "duration": 21,
        "start_time": "2023-02-03T09:22:11.595Z"
      },
      {
        "duration": 3,
        "start_time": "2023-02-03T09:22:11.618Z"
      },
      {
        "duration": 56,
        "start_time": "2023-02-03T09:22:11.624Z"
      },
      {
        "duration": 14,
        "start_time": "2023-02-03T09:22:11.682Z"
      },
      {
        "duration": 28,
        "start_time": "2023-02-03T09:22:11.697Z"
      },
      {
        "duration": 73,
        "start_time": "2023-02-03T09:22:11.727Z"
      },
      {
        "duration": 256,
        "start_time": "2023-02-03T09:22:11.802Z"
      },
      {
        "duration": 3,
        "start_time": "2023-02-03T09:22:12.059Z"
      },
      {
        "duration": 15,
        "start_time": "2023-02-03T09:22:12.063Z"
      },
      {
        "duration": 105,
        "start_time": "2023-02-03T09:22:12.080Z"
      },
      {
        "duration": 11,
        "start_time": "2023-02-03T09:22:12.186Z"
      },
      {
        "duration": 11,
        "start_time": "2023-02-03T09:22:12.199Z"
      },
      {
        "duration": 11,
        "start_time": "2023-02-03T09:22:12.249Z"
      },
      {
        "duration": 17,
        "start_time": "2023-02-03T09:22:12.261Z"
      },
      {
        "duration": 16,
        "start_time": "2023-02-03T09:22:12.280Z"
      },
      {
        "duration": 213,
        "start_time": "2023-02-03T09:22:12.298Z"
      },
      {
        "duration": 6,
        "start_time": "2023-02-03T09:22:12.512Z"
      },
      {
        "duration": 15,
        "start_time": "2023-02-03T09:22:12.520Z"
      },
      {
        "duration": 18,
        "start_time": "2023-02-03T09:22:12.537Z"
      },
      {
        "duration": 8,
        "start_time": "2023-02-03T09:22:12.557Z"
      },
      {
        "duration": 7,
        "start_time": "2023-02-03T09:22:12.567Z"
      },
      {
        "duration": 106,
        "start_time": "2023-02-03T09:22:34.490Z"
      },
      {
        "duration": 1068,
        "start_time": "2023-02-03T09:22:39.020Z"
      },
      {
        "duration": 1022,
        "start_time": "2023-02-03T09:22:40.090Z"
      },
      {
        "duration": 121,
        "start_time": "2023-02-03T09:22:41.113Z"
      },
      {
        "duration": 12,
        "start_time": "2023-02-03T09:22:41.236Z"
      },
      {
        "duration": 124,
        "start_time": "2023-02-03T09:22:41.250Z"
      },
      {
        "duration": 9,
        "start_time": "2023-02-03T09:22:41.375Z"
      },
      {
        "duration": 86,
        "start_time": "2023-02-03T09:22:41.385Z"
      },
      {
        "duration": 61,
        "start_time": "2023-02-03T09:22:41.472Z"
      },
      {
        "duration": 26,
        "start_time": "2023-02-03T09:22:41.535Z"
      },
      {
        "duration": 12,
        "start_time": "2023-02-03T09:22:41.563Z"
      },
      {
        "duration": 16,
        "start_time": "2023-02-03T09:22:41.576Z"
      },
      {
        "duration": 5,
        "start_time": "2023-02-03T09:22:41.593Z"
      },
      {
        "duration": 7,
        "start_time": "2023-02-03T09:22:41.599Z"
      },
      {
        "duration": 10,
        "start_time": "2023-02-03T09:22:41.608Z"
      },
      {
        "duration": 7,
        "start_time": "2023-02-03T09:22:41.649Z"
      },
      {
        "duration": 29,
        "start_time": "2023-02-03T09:22:41.658Z"
      },
      {
        "duration": 15,
        "start_time": "2023-02-03T09:22:41.689Z"
      },
      {
        "duration": 6,
        "start_time": "2023-02-03T09:22:41.705Z"
      },
      {
        "duration": 37,
        "start_time": "2023-02-03T09:22:41.712Z"
      },
      {
        "duration": 287,
        "start_time": "2023-02-03T09:22:41.751Z"
      },
      {
        "duration": 10,
        "start_time": "2023-02-03T09:22:42.040Z"
      },
      {
        "duration": 14,
        "start_time": "2023-02-03T09:22:42.052Z"
      },
      {
        "duration": 14,
        "start_time": "2023-02-03T09:22:42.068Z"
      },
      {
        "duration": 89,
        "start_time": "2023-02-03T09:22:42.084Z"
      },
      {
        "duration": 219,
        "start_time": "2023-02-03T09:22:42.174Z"
      },
      {
        "duration": 23,
        "start_time": "2023-02-03T09:22:42.394Z"
      },
      {
        "duration": 4,
        "start_time": "2023-02-03T09:22:42.419Z"
      },
      {
        "duration": 56,
        "start_time": "2023-02-03T09:22:42.428Z"
      },
      {
        "duration": 15,
        "start_time": "2023-02-03T09:22:42.485Z"
      },
      {
        "duration": 54,
        "start_time": "2023-02-03T09:22:42.501Z"
      },
      {
        "duration": 53,
        "start_time": "2023-02-03T09:22:42.556Z"
      },
      {
        "duration": 249,
        "start_time": "2023-02-03T09:22:42.611Z"
      },
      {
        "duration": 3,
        "start_time": "2023-02-03T09:22:42.862Z"
      },
      {
        "duration": 19,
        "start_time": "2023-02-03T09:22:42.866Z"
      },
      {
        "duration": 102,
        "start_time": "2023-02-03T09:22:42.888Z"
      },
      {
        "duration": 64,
        "start_time": "2023-02-03T09:22:42.992Z"
      },
      {
        "duration": 17,
        "start_time": "2023-02-03T09:22:43.058Z"
      },
      {
        "duration": 16,
        "start_time": "2023-02-03T09:22:43.076Z"
      },
      {
        "duration": 13,
        "start_time": "2023-02-03T09:22:43.093Z"
      },
      {
        "duration": 18,
        "start_time": "2023-02-03T09:22:43.147Z"
      },
      {
        "duration": 209,
        "start_time": "2023-02-03T09:22:43.167Z"
      },
      {
        "duration": 8,
        "start_time": "2023-02-03T09:22:43.377Z"
      },
      {
        "duration": 23,
        "start_time": "2023-02-03T09:22:43.386Z"
      },
      {
        "duration": 23,
        "start_time": "2023-02-03T09:22:43.411Z"
      },
      {
        "duration": 19,
        "start_time": "2023-02-03T09:22:43.436Z"
      },
      {
        "duration": 11,
        "start_time": "2023-02-03T09:22:43.456Z"
      },
      {
        "duration": 117,
        "start_time": "2023-02-03T09:22:58.937Z"
      },
      {
        "duration": 10,
        "start_time": "2023-02-03T09:23:06.529Z"
      },
      {
        "duration": 982,
        "start_time": "2023-02-03T09:23:10.807Z"
      },
      {
        "duration": 1035,
        "start_time": "2023-02-03T09:23:11.790Z"
      },
      {
        "duration": 148,
        "start_time": "2023-02-03T09:23:12.827Z"
      },
      {
        "duration": 4,
        "start_time": "2023-02-03T09:23:12.977Z"
      },
      {
        "duration": 132,
        "start_time": "2023-02-03T09:23:12.983Z"
      },
      {
        "duration": 9,
        "start_time": "2023-02-03T09:23:13.117Z"
      },
      {
        "duration": 103,
        "start_time": "2023-02-03T09:23:13.128Z"
      },
      {
        "duration": 67,
        "start_time": "2023-02-03T09:23:13.233Z"
      },
      {
        "duration": 22,
        "start_time": "2023-02-03T09:23:13.303Z"
      },
      {
        "duration": 25,
        "start_time": "2023-02-03T09:23:13.328Z"
      },
      {
        "duration": 20,
        "start_time": "2023-02-03T09:23:13.355Z"
      },
      {
        "duration": 10,
        "start_time": "2023-02-03T09:23:13.376Z"
      },
      {
        "duration": 16,
        "start_time": "2023-02-03T09:23:13.387Z"
      },
      {
        "duration": 17,
        "start_time": "2023-02-03T09:23:13.405Z"
      },
      {
        "duration": 25,
        "start_time": "2023-02-03T09:23:13.424Z"
      },
      {
        "duration": 32,
        "start_time": "2023-02-03T09:23:13.451Z"
      },
      {
        "duration": 17,
        "start_time": "2023-02-03T09:23:13.485Z"
      },
      {
        "duration": 10,
        "start_time": "2023-02-03T09:23:13.504Z"
      },
      {
        "duration": 32,
        "start_time": "2023-02-03T09:23:13.516Z"
      },
      {
        "duration": 299,
        "start_time": "2023-02-03T09:23:13.550Z"
      },
      {
        "duration": 5,
        "start_time": "2023-02-03T09:23:13.851Z"
      },
      {
        "duration": 21,
        "start_time": "2023-02-03T09:23:13.857Z"
      },
      {
        "duration": 15,
        "start_time": "2023-02-03T09:23:13.880Z"
      },
      {
        "duration": 85,
        "start_time": "2023-02-03T09:23:13.897Z"
      },
      {
        "duration": 227,
        "start_time": "2023-02-03T09:23:13.983Z"
      },
      {
        "duration": 23,
        "start_time": "2023-02-03T09:23:14.212Z"
      },
      {
        "duration": 12,
        "start_time": "2023-02-03T09:23:14.237Z"
      },
      {
        "duration": 37,
        "start_time": "2023-02-03T09:23:14.252Z"
      },
      {
        "duration": 15,
        "start_time": "2023-02-03T09:23:14.291Z"
      },
      {
        "duration": 51,
        "start_time": "2023-02-03T09:23:14.308Z"
      },
      {
        "duration": 52,
        "start_time": "2023-02-03T09:23:14.360Z"
      },
      {
        "duration": 212,
        "start_time": "2023-02-03T09:23:14.414Z"
      },
      {
        "duration": 3,
        "start_time": "2023-02-03T09:23:14.627Z"
      },
      {
        "duration": 18,
        "start_time": "2023-02-03T09:23:14.631Z"
      },
      {
        "duration": 110,
        "start_time": "2023-02-03T09:23:14.651Z"
      },
      {
        "duration": 10,
        "start_time": "2023-02-03T09:23:14.762Z"
      },
      {
        "duration": 18,
        "start_time": "2023-02-03T09:23:14.774Z"
      },
      {
        "duration": 14,
        "start_time": "2023-02-03T09:23:14.794Z"
      },
      {
        "duration": 16,
        "start_time": "2023-02-03T09:23:14.809Z"
      },
      {
        "duration": 33,
        "start_time": "2023-02-03T09:23:14.826Z"
      },
      {
        "duration": 206,
        "start_time": "2023-02-03T09:23:14.861Z"
      },
      {
        "duration": 7,
        "start_time": "2023-02-03T09:23:15.069Z"
      },
      {
        "duration": 28,
        "start_time": "2023-02-03T09:23:15.078Z"
      },
      {
        "duration": 15,
        "start_time": "2023-02-03T09:23:15.108Z"
      },
      {
        "duration": 11,
        "start_time": "2023-02-03T09:23:15.125Z"
      },
      {
        "duration": 9,
        "start_time": "2023-02-03T09:23:15.138Z"
      },
      {
        "duration": 1078,
        "start_time": "2023-02-03T09:25:13.630Z"
      },
      {
        "duration": 1096,
        "start_time": "2023-02-03T09:25:14.710Z"
      },
      {
        "duration": 128,
        "start_time": "2023-02-03T09:25:15.808Z"
      },
      {
        "duration": 11,
        "start_time": "2023-02-03T09:25:15.937Z"
      },
      {
        "duration": 151,
        "start_time": "2023-02-03T09:25:15.950Z"
      },
      {
        "duration": 9,
        "start_time": "2023-02-03T09:25:16.103Z"
      },
      {
        "duration": 102,
        "start_time": "2023-02-03T09:25:16.114Z"
      },
      {
        "duration": 58,
        "start_time": "2023-02-03T09:25:16.218Z"
      },
      {
        "duration": 13,
        "start_time": "2023-02-03T09:25:16.278Z"
      },
      {
        "duration": 53,
        "start_time": "2023-02-03T09:25:16.292Z"
      },
      {
        "duration": 42,
        "start_time": "2023-02-03T09:25:16.346Z"
      },
      {
        "duration": 47,
        "start_time": "2023-02-03T09:25:16.389Z"
      },
      {
        "duration": 49,
        "start_time": "2023-02-03T09:25:16.438Z"
      },
      {
        "duration": 41,
        "start_time": "2023-02-03T09:25:16.489Z"
      },
      {
        "duration": 36,
        "start_time": "2023-02-03T09:25:16.532Z"
      },
      {
        "duration": 94,
        "start_time": "2023-02-03T09:25:16.570Z"
      },
      {
        "duration": 29,
        "start_time": "2023-02-03T09:25:16.666Z"
      },
      {
        "duration": 60,
        "start_time": "2023-02-03T09:25:16.697Z"
      },
      {
        "duration": 49,
        "start_time": "2023-02-03T09:25:16.759Z"
      },
      {
        "duration": 319,
        "start_time": "2023-02-03T09:25:16.810Z"
      },
      {
        "duration": 5,
        "start_time": "2023-02-03T09:25:17.131Z"
      },
      {
        "duration": 58,
        "start_time": "2023-02-03T09:25:17.147Z"
      },
      {
        "duration": 54,
        "start_time": "2023-02-03T09:25:17.206Z"
      },
      {
        "duration": 90,
        "start_time": "2023-02-03T09:25:17.261Z"
      },
      {
        "duration": 218,
        "start_time": "2023-02-03T09:25:17.352Z"
      },
      {
        "duration": 21,
        "start_time": "2023-02-03T09:25:17.571Z"
      },
      {
        "duration": 25,
        "start_time": "2023-02-03T09:25:17.594Z"
      },
      {
        "duration": 91,
        "start_time": "2023-02-03T09:25:17.621Z"
      },
      {
        "duration": 58,
        "start_time": "2023-02-03T09:25:17.713Z"
      },
      {
        "duration": 43,
        "start_time": "2023-02-03T09:25:17.773Z"
      },
      {
        "duration": 86,
        "start_time": "2023-02-03T09:25:17.818Z"
      },
      {
        "duration": 250,
        "start_time": "2023-02-03T09:25:17.906Z"
      },
      {
        "duration": 2,
        "start_time": "2023-02-03T09:25:18.158Z"
      },
      {
        "duration": 75,
        "start_time": "2023-02-03T09:25:18.161Z"
      },
      {
        "duration": 65,
        "start_time": "2023-02-03T09:25:18.238Z"
      },
      {
        "duration": 10,
        "start_time": "2023-02-03T09:25:18.304Z"
      },
      {
        "duration": 47,
        "start_time": "2023-02-03T09:25:18.315Z"
      },
      {
        "duration": 63,
        "start_time": "2023-02-03T09:25:18.364Z"
      },
      {
        "duration": 76,
        "start_time": "2023-02-03T09:25:18.428Z"
      },
      {
        "duration": 77,
        "start_time": "2023-02-03T09:25:18.505Z"
      },
      {
        "duration": 212,
        "start_time": "2023-02-03T09:25:18.585Z"
      },
      {
        "duration": 5,
        "start_time": "2023-02-03T09:25:18.798Z"
      },
      {
        "duration": 37,
        "start_time": "2023-02-03T09:25:18.804Z"
      },
      {
        "duration": 60,
        "start_time": "2023-02-03T09:25:18.842Z"
      },
      {
        "duration": 34,
        "start_time": "2023-02-03T09:25:18.904Z"
      },
      {
        "duration": 43,
        "start_time": "2023-02-03T09:25:18.940Z"
      },
      {
        "duration": 173,
        "start_time": "2023-02-03T09:25:38.474Z"
      },
      {
        "duration": 5,
        "start_time": "2023-02-03T09:26:04.470Z"
      },
      {
        "duration": 3,
        "start_time": "2023-02-03T09:26:06.482Z"
      },
      {
        "duration": 6,
        "start_time": "2023-02-03T09:26:25.244Z"
      },
      {
        "duration": 9,
        "start_time": "2023-02-03T09:26:26.971Z"
      },
      {
        "duration": 6,
        "start_time": "2023-02-03T09:28:13.653Z"
      },
      {
        "duration": 3,
        "start_time": "2023-02-03T09:28:15.507Z"
      },
      {
        "duration": 6,
        "start_time": "2023-02-03T09:28:36.955Z"
      },
      {
        "duration": 4,
        "start_time": "2023-02-03T09:28:39.050Z"
      },
      {
        "duration": 9,
        "start_time": "2023-02-03T09:29:24.293Z"
      },
      {
        "duration": 4,
        "start_time": "2023-02-03T09:29:27.623Z"
      },
      {
        "duration": 5,
        "start_time": "2023-02-03T09:29:30.428Z"
      },
      {
        "duration": 4,
        "start_time": "2023-02-03T09:29:31.835Z"
      },
      {
        "duration": 4,
        "start_time": "2023-02-03T09:29:33.467Z"
      },
      {
        "duration": 3,
        "start_time": "2023-02-03T09:29:34.932Z"
      },
      {
        "duration": 5,
        "start_time": "2023-02-03T09:29:36.411Z"
      },
      {
        "duration": 5,
        "start_time": "2023-02-03T09:30:07.955Z"
      },
      {
        "duration": 4,
        "start_time": "2023-02-03T09:30:09.307Z"
      },
      {
        "duration": 6,
        "start_time": "2023-02-03T09:31:06.995Z"
      },
      {
        "duration": 4,
        "start_time": "2023-02-03T09:31:08.292Z"
      },
      {
        "duration": 5,
        "start_time": "2023-02-03T09:31:26.492Z"
      },
      {
        "duration": 4,
        "start_time": "2023-02-03T09:31:27.835Z"
      },
      {
        "duration": 5,
        "start_time": "2023-02-03T09:38:23.239Z"
      },
      {
        "duration": 3,
        "start_time": "2023-02-03T09:38:24.509Z"
      },
      {
        "duration": 3,
        "start_time": "2023-02-03T09:38:36.374Z"
      },
      {
        "duration": 6,
        "start_time": "2023-02-03T09:38:50.045Z"
      },
      {
        "duration": 4,
        "start_time": "2023-02-03T09:38:51.349Z"
      },
      {
        "duration": 1076,
        "start_time": "2023-02-03T09:39:25.208Z"
      },
      {
        "duration": 1024,
        "start_time": "2023-02-03T09:39:26.287Z"
      },
      {
        "duration": 134,
        "start_time": "2023-02-03T09:39:27.315Z"
      },
      {
        "duration": 5,
        "start_time": "2023-02-03T09:39:27.450Z"
      },
      {
        "duration": 126,
        "start_time": "2023-02-03T09:39:27.457Z"
      },
      {
        "duration": 8,
        "start_time": "2023-02-03T09:39:27.584Z"
      },
      {
        "duration": 82,
        "start_time": "2023-02-03T09:39:27.593Z"
      },
      {
        "duration": 51,
        "start_time": "2023-02-03T09:39:27.676Z"
      },
      {
        "duration": 21,
        "start_time": "2023-02-03T09:39:27.729Z"
      },
      {
        "duration": 8,
        "start_time": "2023-02-03T09:39:27.752Z"
      },
      {
        "duration": 19,
        "start_time": "2023-02-03T09:39:27.761Z"
      },
      {
        "duration": 5,
        "start_time": "2023-02-03T09:39:27.781Z"
      },
      {
        "duration": 6,
        "start_time": "2023-02-03T09:39:27.787Z"
      },
      {
        "duration": 11,
        "start_time": "2023-02-03T09:39:27.794Z"
      },
      {
        "duration": 7,
        "start_time": "2023-02-03T09:39:27.806Z"
      },
      {
        "duration": 28,
        "start_time": "2023-02-03T09:39:27.848Z"
      },
      {
        "duration": 20,
        "start_time": "2023-02-03T09:39:27.877Z"
      },
      {
        "duration": 4,
        "start_time": "2023-02-03T09:39:27.899Z"
      },
      {
        "duration": 7,
        "start_time": "2023-02-03T09:39:27.905Z"
      },
      {
        "duration": 294,
        "start_time": "2023-02-03T09:39:27.913Z"
      },
      {
        "duration": 5,
        "start_time": "2023-02-03T09:39:28.210Z"
      },
      {
        "duration": 14,
        "start_time": "2023-02-03T09:39:28.216Z"
      },
      {
        "duration": 26,
        "start_time": "2023-02-03T09:39:28.231Z"
      },
      {
        "duration": 58,
        "start_time": "2023-02-03T09:39:28.258Z"
      },
      {
        "duration": 222,
        "start_time": "2023-02-03T09:39:28.318Z"
      },
      {
        "duration": 27,
        "start_time": "2023-02-03T09:39:28.541Z"
      },
      {
        "duration": 3,
        "start_time": "2023-02-03T09:39:28.572Z"
      },
      {
        "duration": 41,
        "start_time": "2023-02-03T09:39:28.576Z"
      },
      {
        "duration": 31,
        "start_time": "2023-02-03T09:39:28.619Z"
      },
      {
        "duration": 28,
        "start_time": "2023-02-03T09:39:28.651Z"
      },
      {
        "duration": 52,
        "start_time": "2023-02-03T09:39:28.680Z"
      },
      {
        "duration": 204,
        "start_time": "2023-02-03T09:39:28.734Z"
      },
      {
        "duration": 3,
        "start_time": "2023-02-03T09:39:28.939Z"
      },
      {
        "duration": 28,
        "start_time": "2023-02-03T09:39:28.943Z"
      },
      {
        "duration": 104,
        "start_time": "2023-02-03T09:39:28.973Z"
      },
      {
        "duration": 11,
        "start_time": "2023-02-03T09:39:29.079Z"
      },
      {
        "duration": 13,
        "start_time": "2023-02-03T09:39:29.091Z"
      },
      {
        "duration": 12,
        "start_time": "2023-02-03T09:39:29.106Z"
      },
      {
        "duration": 32,
        "start_time": "2023-02-03T09:39:29.119Z"
      },
      {
        "duration": 17,
        "start_time": "2023-02-03T09:39:29.152Z"
      },
      {
        "duration": 192,
        "start_time": "2023-02-03T09:39:29.170Z"
      },
      {
        "duration": 5,
        "start_time": "2023-02-03T09:39:29.364Z"
      },
      {
        "duration": 8,
        "start_time": "2023-02-03T09:39:29.371Z"
      },
      {
        "duration": 5,
        "start_time": "2023-02-03T09:39:29.380Z"
      },
      {
        "duration": 5,
        "start_time": "2023-02-03T09:39:29.387Z"
      },
      {
        "duration": 4,
        "start_time": "2023-02-03T09:39:29.394Z"
      },
      {
        "duration": 97,
        "start_time": "2023-02-03T09:40:45.215Z"
      },
      {
        "duration": 12,
        "start_time": "2023-02-03T09:40:50.006Z"
      },
      {
        "duration": 11,
        "start_time": "2023-02-03T09:41:03.535Z"
      },
      {
        "duration": 199,
        "start_time": "2023-02-03T09:41:15.646Z"
      },
      {
        "duration": 12,
        "start_time": "2023-02-03T09:41:16.935Z"
      },
      {
        "duration": 14,
        "start_time": "2023-02-03T09:42:07.847Z"
      },
      {
        "duration": 13,
        "start_time": "2023-02-03T09:42:13.430Z"
      },
      {
        "duration": 869,
        "start_time": "2023-02-03T09:42:21.223Z"
      },
      {
        "duration": 4,
        "start_time": "2023-02-03T09:42:28.071Z"
      },
      {
        "duration": 5,
        "start_time": "2023-02-03T09:42:59.079Z"
      },
      {
        "duration": 3,
        "start_time": "2023-02-03T09:43:00.655Z"
      },
      {
        "duration": 9,
        "start_time": "2023-02-03T09:43:25.711Z"
      },
      {
        "duration": 5,
        "start_time": "2023-02-03T09:43:29.374Z"
      },
      {
        "duration": 5,
        "start_time": "2023-02-03T09:44:40.335Z"
      },
      {
        "duration": 3,
        "start_time": "2023-02-03T09:44:41.671Z"
      },
      {
        "duration": 1067,
        "start_time": "2023-02-03T09:44:48.629Z"
      },
      {
        "duration": 1062,
        "start_time": "2023-02-03T09:44:49.698Z"
      },
      {
        "duration": 138,
        "start_time": "2023-02-03T09:44:50.762Z"
      },
      {
        "duration": 5,
        "start_time": "2023-02-03T09:44:50.902Z"
      },
      {
        "duration": 139,
        "start_time": "2023-02-03T09:44:50.908Z"
      },
      {
        "duration": 9,
        "start_time": "2023-02-03T09:44:51.049Z"
      },
      {
        "duration": 105,
        "start_time": "2023-02-03T09:44:51.060Z"
      },
      {
        "duration": 59,
        "start_time": "2023-02-03T09:44:51.167Z"
      },
      {
        "duration": 12,
        "start_time": "2023-02-03T09:44:51.227Z"
      },
      {
        "duration": 21,
        "start_time": "2023-02-03T09:44:51.249Z"
      },
      {
        "duration": 36,
        "start_time": "2023-02-03T09:44:51.271Z"
      },
      {
        "duration": 20,
        "start_time": "2023-02-03T09:44:51.309Z"
      },
      {
        "duration": 16,
        "start_time": "2023-02-03T09:44:51.331Z"
      },
      {
        "duration": 33,
        "start_time": "2023-02-03T09:44:51.349Z"
      },
      {
        "duration": 21,
        "start_time": "2023-02-03T09:44:51.384Z"
      },
      {
        "duration": 47,
        "start_time": "2023-02-03T09:44:51.406Z"
      },
      {
        "duration": 16,
        "start_time": "2023-02-03T09:44:51.455Z"
      },
      {
        "duration": 26,
        "start_time": "2023-02-03T09:44:51.473Z"
      },
      {
        "duration": 29,
        "start_time": "2023-02-03T09:44:51.500Z"
      },
      {
        "duration": 320,
        "start_time": "2023-02-03T09:44:51.531Z"
      },
      {
        "duration": 4,
        "start_time": "2023-02-03T09:44:51.853Z"
      },
      {
        "duration": 23,
        "start_time": "2023-02-03T09:44:51.859Z"
      },
      {
        "duration": 31,
        "start_time": "2023-02-03T09:44:51.884Z"
      },
      {
        "duration": 66,
        "start_time": "2023-02-03T09:44:51.917Z"
      },
      {
        "duration": 212,
        "start_time": "2023-02-03T09:44:51.985Z"
      },
      {
        "duration": 24,
        "start_time": "2023-02-03T09:44:52.199Z"
      },
      {
        "duration": 3,
        "start_time": "2023-02-03T09:44:52.225Z"
      },
      {
        "duration": 57,
        "start_time": "2023-02-03T09:44:52.231Z"
      },
      {
        "duration": 17,
        "start_time": "2023-02-03T09:44:52.290Z"
      },
      {
        "duration": 43,
        "start_time": "2023-02-03T09:44:52.309Z"
      },
      {
        "duration": 57,
        "start_time": "2023-02-03T09:44:52.353Z"
      },
      {
        "duration": 228,
        "start_time": "2023-02-03T09:44:52.412Z"
      },
      {
        "duration": 2,
        "start_time": "2023-02-03T09:44:52.642Z"
      },
      {
        "duration": 41,
        "start_time": "2023-02-03T09:44:52.646Z"
      },
      {
        "duration": 105,
        "start_time": "2023-02-03T09:44:52.689Z"
      },
      {
        "duration": 13,
        "start_time": "2023-02-03T09:44:52.796Z"
      },
      {
        "duration": 54,
        "start_time": "2023-02-03T09:44:52.812Z"
      },
      {
        "duration": 38,
        "start_time": "2023-02-03T09:44:52.868Z"
      },
      {
        "duration": 32,
        "start_time": "2023-02-03T09:44:52.908Z"
      },
      {
        "duration": 39,
        "start_time": "2023-02-03T09:44:52.942Z"
      },
      {
        "duration": 204,
        "start_time": "2023-02-03T09:44:52.983Z"
      },
      {
        "duration": 4,
        "start_time": "2023-02-03T09:44:53.188Z"
      },
      {
        "duration": 29,
        "start_time": "2023-02-03T09:44:53.193Z"
      },
      {
        "duration": 28,
        "start_time": "2023-02-03T09:44:53.225Z"
      },
      {
        "duration": 28,
        "start_time": "2023-02-03T09:44:53.255Z"
      },
      {
        "duration": 23,
        "start_time": "2023-02-03T09:44:53.285Z"
      },
      {
        "duration": 32,
        "start_time": "2023-02-03T09:44:53.310Z"
      },
      {
        "duration": 3,
        "start_time": "2023-02-03T09:45:23.929Z"
      },
      {
        "duration": 3,
        "start_time": "2023-02-03T09:45:28.191Z"
      },
      {
        "duration": 126,
        "start_time": "2023-02-03T09:45:33.216Z"
      },
      {
        "duration": 6,
        "start_time": "2023-02-03T09:45:45.480Z"
      },
      {
        "duration": 16,
        "start_time": "2023-02-03T09:45:46.871Z"
      },
      {
        "duration": 5,
        "start_time": "2023-02-03T09:45:54.351Z"
      },
      {
        "duration": 17,
        "start_time": "2023-02-03T09:45:55.752Z"
      },
      {
        "duration": 5,
        "start_time": "2023-02-03T09:46:14.283Z"
      },
      {
        "duration": 17,
        "start_time": "2023-02-03T09:46:16.055Z"
      },
      {
        "duration": 6,
        "start_time": "2023-02-03T09:47:47.959Z"
      },
      {
        "duration": 13,
        "start_time": "2023-02-03T09:47:49.312Z"
      },
      {
        "duration": 13,
        "start_time": "2023-02-03T09:48:09.016Z"
      },
      {
        "duration": 12,
        "start_time": "2023-02-03T09:49:24.874Z"
      },
      {
        "duration": 983,
        "start_time": "2023-02-03T09:50:05.707Z"
      },
      {
        "duration": 1032,
        "start_time": "2023-02-03T09:50:06.692Z"
      },
      {
        "duration": 139,
        "start_time": "2023-02-03T09:50:07.728Z"
      },
      {
        "duration": 4,
        "start_time": "2023-02-03T09:50:07.869Z"
      },
      {
        "duration": 127,
        "start_time": "2023-02-03T09:50:07.875Z"
      },
      {
        "duration": 8,
        "start_time": "2023-02-03T09:50:08.004Z"
      },
      {
        "duration": 85,
        "start_time": "2023-02-03T09:50:08.013Z"
      },
      {
        "duration": 57,
        "start_time": "2023-02-03T09:50:08.099Z"
      },
      {
        "duration": 13,
        "start_time": "2023-02-03T09:50:08.159Z"
      },
      {
        "duration": 11,
        "start_time": "2023-02-03T09:50:08.173Z"
      },
      {
        "duration": 16,
        "start_time": "2023-02-03T09:50:08.185Z"
      },
      {
        "duration": 4,
        "start_time": "2023-02-03T09:50:08.202Z"
      },
      {
        "duration": 9,
        "start_time": "2023-02-03T09:50:08.208Z"
      },
      {
        "duration": 36,
        "start_time": "2023-02-03T09:50:08.219Z"
      },
      {
        "duration": 6,
        "start_time": "2023-02-03T09:50:08.257Z"
      },
      {
        "duration": 28,
        "start_time": "2023-02-03T09:50:08.265Z"
      },
      {
        "duration": 15,
        "start_time": "2023-02-03T09:50:08.295Z"
      },
      {
        "duration": 6,
        "start_time": "2023-02-03T09:50:08.311Z"
      },
      {
        "duration": 30,
        "start_time": "2023-02-03T09:50:08.318Z"
      },
      {
        "duration": 278,
        "start_time": "2023-02-03T09:50:08.349Z"
      },
      {
        "duration": 5,
        "start_time": "2023-02-03T09:50:08.629Z"
      },
      {
        "duration": 32,
        "start_time": "2023-02-03T09:50:08.635Z"
      },
      {
        "duration": 30,
        "start_time": "2023-02-03T09:50:08.668Z"
      },
      {
        "duration": 63,
        "start_time": "2023-02-03T09:50:08.699Z"
      },
      {
        "duration": 208,
        "start_time": "2023-02-03T09:50:08.763Z"
      },
      {
        "duration": 22,
        "start_time": "2023-02-03T09:50:08.973Z"
      },
      {
        "duration": 4,
        "start_time": "2023-02-03T09:50:08.998Z"
      },
      {
        "duration": 57,
        "start_time": "2023-02-03T09:50:09.003Z"
      },
      {
        "duration": 14,
        "start_time": "2023-02-03T09:50:09.061Z"
      },
      {
        "duration": 26,
        "start_time": "2023-02-03T09:50:09.077Z"
      },
      {
        "duration": 70,
        "start_time": "2023-02-03T09:50:09.105Z"
      },
      {
        "duration": 202,
        "start_time": "2023-02-03T09:50:09.176Z"
      },
      {
        "duration": 3,
        "start_time": "2023-02-03T09:50:09.379Z"
      },
      {
        "duration": 12,
        "start_time": "2023-02-03T09:50:09.383Z"
      },
      {
        "duration": 89,
        "start_time": "2023-02-03T09:50:09.397Z"
      },
      {
        "duration": 9,
        "start_time": "2023-02-03T09:50:09.488Z"
      },
      {
        "duration": 13,
        "start_time": "2023-02-03T09:50:09.498Z"
      },
      {
        "duration": 43,
        "start_time": "2023-02-03T09:50:09.512Z"
      },
      {
        "duration": 12,
        "start_time": "2023-02-03T09:50:09.556Z"
      },
      {
        "duration": 15,
        "start_time": "2023-02-03T09:50:09.570Z"
      },
      {
        "duration": 195,
        "start_time": "2023-02-03T09:50:09.587Z"
      },
      {
        "duration": 4,
        "start_time": "2023-02-03T09:50:09.783Z"
      },
      {
        "duration": 17,
        "start_time": "2023-02-03T09:50:09.788Z"
      },
      {
        "duration": 107,
        "start_time": "2023-02-03T09:50:09.806Z"
      },
      {
        "duration": 0,
        "start_time": "2023-02-03T09:50:09.915Z"
      },
      {
        "duration": 0,
        "start_time": "2023-02-03T09:50:09.916Z"
      },
      {
        "duration": 0,
        "start_time": "2023-02-03T09:50:09.917Z"
      },
      {
        "duration": 13,
        "start_time": "2023-02-03T09:51:09.641Z"
      },
      {
        "duration": 5,
        "start_time": "2023-02-03T09:51:45.944Z"
      },
      {
        "duration": 5,
        "start_time": "2023-02-03T09:51:50.433Z"
      },
      {
        "duration": 4,
        "start_time": "2023-02-03T09:51:56.145Z"
      },
      {
        "duration": 4,
        "start_time": "2023-02-03T09:52:10.393Z"
      },
      {
        "duration": 6,
        "start_time": "2023-02-03T09:53:03.314Z"
      },
      {
        "duration": 12,
        "start_time": "2023-02-03T09:53:04.698Z"
      },
      {
        "duration": 16,
        "start_time": "2023-02-03T09:53:30.866Z"
      },
      {
        "duration": 10,
        "start_time": "2023-02-03T09:53:44.305Z"
      },
      {
        "duration": 3,
        "start_time": "2023-02-03T09:53:49.065Z"
      },
      {
        "duration": 12,
        "start_time": "2023-02-03T09:53:54.217Z"
      },
      {
        "duration": 13,
        "start_time": "2023-02-03T09:54:09.865Z"
      },
      {
        "duration": 12,
        "start_time": "2023-02-03T09:54:12.538Z"
      },
      {
        "duration": 13,
        "start_time": "2023-02-03T09:54:14.194Z"
      },
      {
        "duration": 9,
        "start_time": "2023-02-03T09:57:38.867Z"
      },
      {
        "duration": 10,
        "start_time": "2023-02-03T09:57:46.291Z"
      },
      {
        "duration": 11,
        "start_time": "2023-02-03T09:57:56.699Z"
      },
      {
        "duration": 11,
        "start_time": "2023-02-03T09:58:14.930Z"
      },
      {
        "duration": 10,
        "start_time": "2023-02-03T09:58:21.646Z"
      },
      {
        "duration": 11,
        "start_time": "2023-02-03T09:58:29.587Z"
      },
      {
        "duration": 11,
        "start_time": "2023-02-03T09:58:40.198Z"
      },
      {
        "duration": 1061,
        "start_time": "2023-02-03T10:01:42.029Z"
      },
      {
        "duration": 1114,
        "start_time": "2023-02-03T10:01:43.092Z"
      },
      {
        "duration": 130,
        "start_time": "2023-02-03T10:01:44.207Z"
      },
      {
        "duration": 5,
        "start_time": "2023-02-03T10:01:44.349Z"
      },
      {
        "duration": 132,
        "start_time": "2023-02-03T10:01:44.356Z"
      },
      {
        "duration": 9,
        "start_time": "2023-02-03T10:01:44.490Z"
      },
      {
        "duration": 86,
        "start_time": "2023-02-03T10:01:44.501Z"
      },
      {
        "duration": 60,
        "start_time": "2023-02-03T10:01:44.589Z"
      },
      {
        "duration": 12,
        "start_time": "2023-02-03T10:01:44.651Z"
      },
      {
        "duration": 10,
        "start_time": "2023-02-03T10:01:44.666Z"
      },
      {
        "duration": 19,
        "start_time": "2023-02-03T10:01:44.678Z"
      },
      {
        "duration": 5,
        "start_time": "2023-02-03T10:01:44.699Z"
      },
      {
        "duration": 7,
        "start_time": "2023-02-03T10:01:44.705Z"
      },
      {
        "duration": 41,
        "start_time": "2023-02-03T10:01:44.714Z"
      },
      {
        "duration": 9,
        "start_time": "2023-02-03T10:01:44.757Z"
      },
      {
        "duration": 29,
        "start_time": "2023-02-03T10:01:44.768Z"
      },
      {
        "duration": 16,
        "start_time": "2023-02-03T10:01:44.799Z"
      },
      {
        "duration": 6,
        "start_time": "2023-02-03T10:01:44.848Z"
      },
      {
        "duration": 5,
        "start_time": "2023-02-03T10:01:44.856Z"
      },
      {
        "duration": 301,
        "start_time": "2023-02-03T10:01:44.863Z"
      },
      {
        "duration": 5,
        "start_time": "2023-02-03T10:01:45.166Z"
      },
      {
        "duration": 15,
        "start_time": "2023-02-03T10:01:45.173Z"
      },
      {
        "duration": 17,
        "start_time": "2023-02-03T10:01:45.190Z"
      },
      {
        "duration": 109,
        "start_time": "2023-02-03T10:01:45.209Z"
      },
      {
        "duration": 238,
        "start_time": "2023-02-03T10:01:45.320Z"
      },
      {
        "duration": 29,
        "start_time": "2023-02-03T10:01:45.560Z"
      },
      {
        "duration": 7,
        "start_time": "2023-02-03T10:01:45.591Z"
      },
      {
        "duration": 71,
        "start_time": "2023-02-03T10:01:45.602Z"
      },
      {
        "duration": 20,
        "start_time": "2023-02-03T10:01:45.674Z"
      },
      {
        "duration": 57,
        "start_time": "2023-02-03T10:01:45.696Z"
      },
      {
        "duration": 65,
        "start_time": "2023-02-03T10:01:45.755Z"
      },
      {
        "duration": 245,
        "start_time": "2023-02-03T10:01:45.822Z"
      },
      {
        "duration": 3,
        "start_time": "2023-02-03T10:01:46.068Z"
      },
      {
        "duration": 32,
        "start_time": "2023-02-03T10:01:46.072Z"
      },
      {
        "duration": 90,
        "start_time": "2023-02-03T10:01:46.105Z"
      },
      {
        "duration": 53,
        "start_time": "2023-02-03T10:01:46.196Z"
      },
      {
        "duration": 11,
        "start_time": "2023-02-03T10:01:46.251Z"
      },
      {
        "duration": 23,
        "start_time": "2023-02-03T10:01:46.264Z"
      },
      {
        "duration": 51,
        "start_time": "2023-02-03T10:01:46.289Z"
      },
      {
        "duration": 39,
        "start_time": "2023-02-03T10:01:46.341Z"
      },
      {
        "duration": 183,
        "start_time": "2023-02-03T10:01:46.382Z"
      },
      {
        "duration": 4,
        "start_time": "2023-02-03T10:01:46.567Z"
      },
      {
        "duration": 23,
        "start_time": "2023-02-03T10:01:46.572Z"
      },
      {
        "duration": 40,
        "start_time": "2023-02-03T10:01:46.596Z"
      },
      {
        "duration": 41,
        "start_time": "2023-02-03T10:01:46.637Z"
      },
      {
        "duration": 22,
        "start_time": "2023-02-03T10:01:46.679Z"
      },
      {
        "duration": 30,
        "start_time": "2023-02-03T10:01:46.702Z"
      },
      {
        "duration": 1020,
        "start_time": "2023-02-03T10:02:19.172Z"
      },
      {
        "duration": 1048,
        "start_time": "2023-02-03T10:02:20.194Z"
      },
      {
        "duration": 143,
        "start_time": "2023-02-03T10:02:21.246Z"
      },
      {
        "duration": 4,
        "start_time": "2023-02-03T10:02:21.391Z"
      },
      {
        "duration": 126,
        "start_time": "2023-02-03T10:02:21.397Z"
      },
      {
        "duration": 9,
        "start_time": "2023-02-03T10:02:21.524Z"
      },
      {
        "duration": 84,
        "start_time": "2023-02-03T10:02:21.534Z"
      },
      {
        "duration": 58,
        "start_time": "2023-02-03T10:02:21.620Z"
      },
      {
        "duration": 13,
        "start_time": "2023-02-03T10:02:21.680Z"
      },
      {
        "duration": 12,
        "start_time": "2023-02-03T10:02:21.694Z"
      },
      {
        "duration": 16,
        "start_time": "2023-02-03T10:02:21.708Z"
      },
      {
        "duration": 5,
        "start_time": "2023-02-03T10:02:21.748Z"
      },
      {
        "duration": 11,
        "start_time": "2023-02-03T10:02:21.755Z"
      },
      {
        "duration": 14,
        "start_time": "2023-02-03T10:02:21.767Z"
      },
      {
        "duration": 7,
        "start_time": "2023-02-03T10:02:21.782Z"
      },
      {
        "duration": 32,
        "start_time": "2023-02-03T10:02:21.790Z"
      },
      {
        "duration": 33,
        "start_time": "2023-02-03T10:02:21.823Z"
      },
      {
        "duration": 4,
        "start_time": "2023-02-03T10:02:21.858Z"
      },
      {
        "duration": 6,
        "start_time": "2023-02-03T10:02:21.864Z"
      },
      {
        "duration": 312,
        "start_time": "2023-02-03T10:02:21.871Z"
      },
      {
        "duration": 5,
        "start_time": "2023-02-03T10:02:22.184Z"
      },
      {
        "duration": 16,
        "start_time": "2023-02-03T10:02:22.190Z"
      },
      {
        "duration": 17,
        "start_time": "2023-02-03T10:02:22.208Z"
      },
      {
        "duration": 78,
        "start_time": "2023-02-03T10:02:22.226Z"
      },
      {
        "duration": 219,
        "start_time": "2023-02-03T10:02:22.305Z"
      },
      {
        "duration": 33,
        "start_time": "2023-02-03T10:02:22.525Z"
      },
      {
        "duration": 4,
        "start_time": "2023-02-03T10:02:22.561Z"
      },
      {
        "duration": 41,
        "start_time": "2023-02-03T10:02:22.566Z"
      },
      {
        "duration": 15,
        "start_time": "2023-02-03T10:02:22.608Z"
      },
      {
        "duration": 42,
        "start_time": "2023-02-03T10:02:22.625Z"
      },
      {
        "duration": 55,
        "start_time": "2023-02-03T10:02:22.669Z"
      },
      {
        "duration": 225,
        "start_time": "2023-02-03T10:02:22.726Z"
      },
      {
        "duration": 2,
        "start_time": "2023-02-03T10:02:22.953Z"
      },
      {
        "duration": 12,
        "start_time": "2023-02-03T10:02:22.956Z"
      },
      {
        "duration": 113,
        "start_time": "2023-02-03T10:02:22.969Z"
      },
      {
        "duration": 9,
        "start_time": "2023-02-03T10:02:23.084Z"
      },
      {
        "duration": 13,
        "start_time": "2023-02-03T10:02:23.095Z"
      },
      {
        "duration": 9,
        "start_time": "2023-02-03T10:02:23.149Z"
      },
      {
        "duration": 30,
        "start_time": "2023-02-03T10:02:23.160Z"
      },
      {
        "duration": 33,
        "start_time": "2023-02-03T10:02:23.191Z"
      },
      {
        "duration": 188,
        "start_time": "2023-02-03T10:02:23.226Z"
      },
      {
        "duration": 5,
        "start_time": "2023-02-03T10:02:23.416Z"
      },
      {
        "duration": 22,
        "start_time": "2023-02-03T10:02:23.423Z"
      },
      {
        "duration": 20,
        "start_time": "2023-02-03T10:02:23.447Z"
      },
      {
        "duration": 19,
        "start_time": "2023-02-03T10:02:23.469Z"
      },
      {
        "duration": 16,
        "start_time": "2023-02-03T10:02:23.489Z"
      },
      {
        "duration": 22,
        "start_time": "2023-02-03T10:02:23.507Z"
      },
      {
        "duration": 1447,
        "start_time": "2023-02-03T13:15:31.514Z"
      },
      {
        "duration": 1976,
        "start_time": "2023-02-03T13:15:32.964Z"
      },
      {
        "duration": 241,
        "start_time": "2023-02-03T13:15:34.948Z"
      },
      {
        "duration": 6,
        "start_time": "2023-02-03T13:15:35.192Z"
      },
      {
        "duration": 208,
        "start_time": "2023-02-03T13:15:35.200Z"
      },
      {
        "duration": 9,
        "start_time": "2023-02-03T13:15:35.410Z"
      },
      {
        "duration": 119,
        "start_time": "2023-02-03T13:15:35.421Z"
      },
      {
        "duration": 73,
        "start_time": "2023-02-03T13:15:35.542Z"
      },
      {
        "duration": 25,
        "start_time": "2023-02-03T13:15:35.618Z"
      },
      {
        "duration": 29,
        "start_time": "2023-02-03T13:15:35.647Z"
      },
      {
        "duration": 36,
        "start_time": "2023-02-03T13:15:35.678Z"
      },
      {
        "duration": 8,
        "start_time": "2023-02-03T13:15:35.717Z"
      },
      {
        "duration": 13,
        "start_time": "2023-02-03T13:15:35.727Z"
      },
      {
        "duration": 20,
        "start_time": "2023-02-03T13:15:35.742Z"
      },
      {
        "duration": 45,
        "start_time": "2023-02-03T13:15:35.764Z"
      },
      {
        "duration": 37,
        "start_time": "2023-02-03T13:15:35.811Z"
      },
      {
        "duration": 25,
        "start_time": "2023-02-03T13:15:35.850Z"
      },
      {
        "duration": 6,
        "start_time": "2023-02-03T13:15:35.877Z"
      },
      {
        "duration": 7,
        "start_time": "2023-02-03T13:15:35.885Z"
      },
      {
        "duration": 461,
        "start_time": "2023-02-03T13:15:35.895Z"
      },
      {
        "duration": 5,
        "start_time": "2023-02-03T13:15:36.358Z"
      },
      {
        "duration": 36,
        "start_time": "2023-02-03T13:15:36.365Z"
      },
      {
        "duration": 47,
        "start_time": "2023-02-03T13:15:36.404Z"
      },
      {
        "duration": 130,
        "start_time": "2023-02-03T13:15:36.453Z"
      },
      {
        "duration": 303,
        "start_time": "2023-02-03T13:15:36.585Z"
      },
      {
        "duration": 26,
        "start_time": "2023-02-03T13:15:36.890Z"
      },
      {
        "duration": 5,
        "start_time": "2023-02-03T13:15:36.919Z"
      },
      {
        "duration": 55,
        "start_time": "2023-02-03T13:15:36.948Z"
      },
      {
        "duration": 18,
        "start_time": "2023-02-03T13:15:37.006Z"
      },
      {
        "duration": 44,
        "start_time": "2023-02-03T13:15:37.041Z"
      },
      {
        "duration": 105,
        "start_time": "2023-02-03T13:15:37.086Z"
      },
      {
        "duration": 377,
        "start_time": "2023-02-03T13:15:37.193Z"
      },
      {
        "duration": 4,
        "start_time": "2023-02-03T13:15:37.572Z"
      },
      {
        "duration": 28,
        "start_time": "2023-02-03T13:15:37.579Z"
      },
      {
        "duration": 165,
        "start_time": "2023-02-03T13:15:37.640Z"
      },
      {
        "duration": 13,
        "start_time": "2023-02-03T13:15:37.808Z"
      },
      {
        "duration": 29,
        "start_time": "2023-02-03T13:15:37.823Z"
      },
      {
        "duration": 41,
        "start_time": "2023-02-03T13:15:37.854Z"
      },
      {
        "duration": 20,
        "start_time": "2023-02-03T13:15:37.897Z"
      },
      {
        "duration": 30,
        "start_time": "2023-02-03T13:15:37.919Z"
      },
      {
        "duration": 275,
        "start_time": "2023-02-03T13:15:37.952Z"
      },
      {
        "duration": 11,
        "start_time": "2023-02-03T13:15:38.230Z"
      },
      {
        "duration": 95,
        "start_time": "2023-02-03T13:15:38.243Z"
      },
      {
        "duration": 58,
        "start_time": "2023-02-03T13:15:38.341Z"
      },
      {
        "duration": 22,
        "start_time": "2023-02-03T13:15:38.402Z"
      },
      {
        "duration": 14,
        "start_time": "2023-02-03T13:15:38.426Z"
      },
      {
        "duration": 69,
        "start_time": "2023-02-03T13:16:13.336Z"
      },
      {
        "duration": 1087,
        "start_time": "2023-03-27T13:14:42.063Z"
      },
      {
        "duration": 1228,
        "start_time": "2023-03-27T13:14:43.152Z"
      },
      {
        "duration": 118,
        "start_time": "2023-03-27T13:14:44.382Z"
      },
      {
        "duration": 4,
        "start_time": "2023-03-27T13:14:44.502Z"
      },
      {
        "duration": 111,
        "start_time": "2023-03-27T13:14:44.508Z"
      },
      {
        "duration": 8,
        "start_time": "2023-03-27T13:14:44.621Z"
      },
      {
        "duration": 74,
        "start_time": "2023-03-27T13:14:44.631Z"
      },
      {
        "duration": 51,
        "start_time": "2023-03-27T13:14:44.707Z"
      },
      {
        "duration": 10,
        "start_time": "2023-03-27T13:14:44.771Z"
      },
      {
        "duration": 9,
        "start_time": "2023-03-27T13:14:44.784Z"
      },
      {
        "duration": 17,
        "start_time": "2023-03-27T13:14:44.794Z"
      },
      {
        "duration": 4,
        "start_time": "2023-03-27T13:14:44.813Z"
      },
      {
        "duration": 7,
        "start_time": "2023-03-27T13:14:44.818Z"
      },
      {
        "duration": 9,
        "start_time": "2023-03-27T13:14:44.827Z"
      },
      {
        "duration": 37,
        "start_time": "2023-03-27T13:14:44.837Z"
      },
      {
        "duration": 28,
        "start_time": "2023-03-27T13:14:44.875Z"
      },
      {
        "duration": 13,
        "start_time": "2023-03-27T13:14:44.905Z"
      },
      {
        "duration": 4,
        "start_time": "2023-03-27T13:14:44.920Z"
      },
      {
        "duration": 8,
        "start_time": "2023-03-27T13:14:44.926Z"
      },
      {
        "duration": 309,
        "start_time": "2023-03-27T13:14:44.935Z"
      },
      {
        "duration": 5,
        "start_time": "2023-03-27T13:14:45.246Z"
      },
      {
        "duration": 23,
        "start_time": "2023-03-27T13:14:45.252Z"
      },
      {
        "duration": 14,
        "start_time": "2023-03-27T13:14:45.277Z"
      },
      {
        "duration": 59,
        "start_time": "2023-03-27T13:14:45.292Z"
      },
      {
        "duration": 212,
        "start_time": "2023-03-27T13:14:45.352Z"
      },
      {
        "duration": 23,
        "start_time": "2023-03-27T13:14:45.571Z"
      },
      {
        "duration": 4,
        "start_time": "2023-03-27T13:14:45.596Z"
      },
      {
        "duration": 43,
        "start_time": "2023-03-27T13:14:45.602Z"
      },
      {
        "duration": 28,
        "start_time": "2023-03-27T13:14:45.646Z"
      },
      {
        "duration": 30,
        "start_time": "2023-03-27T13:14:45.676Z"
      },
      {
        "duration": 71,
        "start_time": "2023-03-27T13:14:45.708Z"
      },
      {
        "duration": 335,
        "start_time": "2023-03-27T13:14:45.780Z"
      },
      {
        "duration": 3,
        "start_time": "2023-03-27T13:14:46.117Z"
      },
      {
        "duration": 51,
        "start_time": "2023-03-27T13:14:46.122Z"
      },
      {
        "duration": 114,
        "start_time": "2023-03-27T13:14:46.175Z"
      },
      {
        "duration": 10,
        "start_time": "2023-03-27T13:14:46.291Z"
      },
      {
        "duration": 14,
        "start_time": "2023-03-27T13:14:46.303Z"
      },
      {
        "duration": 11,
        "start_time": "2023-03-27T13:14:46.318Z"
      },
      {
        "duration": 12,
        "start_time": "2023-03-27T13:14:46.331Z"
      },
      {
        "duration": 18,
        "start_time": "2023-03-27T13:14:46.371Z"
      },
      {
        "duration": 203,
        "start_time": "2023-03-27T13:14:46.390Z"
      },
      {
        "duration": 4,
        "start_time": "2023-03-27T13:14:46.595Z"
      },
      {
        "duration": 14,
        "start_time": "2023-03-27T13:14:46.601Z"
      },
      {
        "duration": 13,
        "start_time": "2023-03-27T13:14:46.617Z"
      },
      {
        "duration": 11,
        "start_time": "2023-03-27T13:14:46.631Z"
      },
      {
        "duration": 9,
        "start_time": "2023-03-27T13:14:46.643Z"
      },
      {
        "duration": 81,
        "start_time": "2023-03-27T13:14:46.653Z"
      },
      {
        "duration": 1228,
        "start_time": "2023-03-28T08:02:34.688Z"
      },
      {
        "duration": 1564,
        "start_time": "2023-03-28T08:02:35.919Z"
      },
      {
        "duration": 186,
        "start_time": "2023-03-28T08:02:37.485Z"
      },
      {
        "duration": 7,
        "start_time": "2023-03-28T08:02:37.673Z"
      },
      {
        "duration": 149,
        "start_time": "2023-03-28T08:02:37.682Z"
      },
      {
        "duration": 27,
        "start_time": "2023-03-28T08:02:37.832Z"
      },
      {
        "duration": 99,
        "start_time": "2023-03-28T08:02:37.861Z"
      },
      {
        "duration": 65,
        "start_time": "2023-03-28T08:02:37.962Z"
      },
      {
        "duration": 26,
        "start_time": "2023-03-28T08:02:38.030Z"
      },
      {
        "duration": 13,
        "start_time": "2023-03-28T08:02:38.059Z"
      },
      {
        "duration": 27,
        "start_time": "2023-03-28T08:02:38.074Z"
      },
      {
        "duration": 6,
        "start_time": "2023-03-28T08:02:38.102Z"
      },
      {
        "duration": 37,
        "start_time": "2023-03-28T08:02:38.110Z"
      },
      {
        "duration": 21,
        "start_time": "2023-03-28T08:02:38.150Z"
      },
      {
        "duration": 16,
        "start_time": "2023-03-28T08:02:38.173Z"
      },
      {
        "duration": 67,
        "start_time": "2023-03-28T08:02:38.192Z"
      },
      {
        "duration": 20,
        "start_time": "2023-03-28T08:02:38.261Z"
      },
      {
        "duration": 6,
        "start_time": "2023-03-28T08:02:38.283Z"
      },
      {
        "duration": 12,
        "start_time": "2023-03-28T08:02:38.291Z"
      },
      {
        "duration": 360,
        "start_time": "2023-03-28T08:02:38.305Z"
      },
      {
        "duration": 6,
        "start_time": "2023-03-28T08:02:38.668Z"
      },
      {
        "duration": 29,
        "start_time": "2023-03-28T08:02:38.675Z"
      },
      {
        "duration": 19,
        "start_time": "2023-03-28T08:02:38.706Z"
      },
      {
        "duration": 73,
        "start_time": "2023-03-28T08:02:38.729Z"
      },
      {
        "duration": 254,
        "start_time": "2023-03-28T08:02:38.804Z"
      },
      {
        "duration": 29,
        "start_time": "2023-03-28T08:02:39.059Z"
      },
      {
        "duration": 4,
        "start_time": "2023-03-28T08:02:39.090Z"
      },
      {
        "duration": 67,
        "start_time": "2023-03-28T08:02:39.097Z"
      },
      {
        "duration": 23,
        "start_time": "2023-03-28T08:02:39.166Z"
      },
      {
        "duration": 55,
        "start_time": "2023-03-28T08:02:39.191Z"
      },
      {
        "duration": 65,
        "start_time": "2023-03-28T08:02:39.260Z"
      },
      {
        "duration": 305,
        "start_time": "2023-03-28T08:02:39.327Z"
      },
      {
        "duration": 2,
        "start_time": "2023-03-28T08:02:39.634Z"
      },
      {
        "duration": 31,
        "start_time": "2023-03-28T08:02:39.638Z"
      },
      {
        "duration": 122,
        "start_time": "2023-03-28T08:02:39.671Z"
      },
      {
        "duration": 14,
        "start_time": "2023-03-28T08:02:39.795Z"
      },
      {
        "duration": 48,
        "start_time": "2023-03-28T08:02:39.811Z"
      },
      {
        "duration": 14,
        "start_time": "2023-03-28T08:02:39.861Z"
      },
      {
        "duration": 23,
        "start_time": "2023-03-28T08:02:39.877Z"
      },
      {
        "duration": 20,
        "start_time": "2023-03-28T08:02:39.902Z"
      },
      {
        "duration": 241,
        "start_time": "2023-03-28T08:02:39.924Z"
      },
      {
        "duration": 9,
        "start_time": "2023-03-28T08:02:40.167Z"
      },
      {
        "duration": 32,
        "start_time": "2023-03-28T08:02:40.178Z"
      },
      {
        "duration": 19,
        "start_time": "2023-03-28T08:02:40.212Z"
      },
      {
        "duration": 20,
        "start_time": "2023-03-28T08:02:40.232Z"
      },
      {
        "duration": 24,
        "start_time": "2023-03-28T08:02:40.256Z"
      },
      {
        "duration": 109,
        "start_time": "2023-03-28T08:02:40.282Z"
      }
    ],
    "kernelspec": {
      "display_name": "Python 3 (ipykernel)",
      "language": "python",
      "name": "python3"
    },
    "language_info": {
      "codemirror_mode": {
        "name": "ipython",
        "version": 3
      },
      "file_extension": ".py",
      "mimetype": "text/x-python",
      "name": "python",
      "nbconvert_exporter": "python",
      "pygments_lexer": "ipython3",
      "version": "3.9.5"
    },
    "toc": {
      "base_numbering": 1,
      "nav_menu": {},
      "number_sections": true,
      "sideBar": true,
      "skip_h1_title": true,
      "title_cell": "Table of Contents",
      "title_sidebar": "Contents",
      "toc_cell": false,
      "toc_position": {},
      "toc_section_display": true,
      "toc_window_display": true
    },
    "colab": {
      "provenance": [],
      "include_colab_link": true
    }
  },
  "nbformat": 4,
  "nbformat_minor": 0
}