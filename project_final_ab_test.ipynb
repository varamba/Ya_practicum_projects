{
  "cells": [
    {
      "cell_type": "markdown",
      "metadata": {
        "id": "view-in-github",
        "colab_type": "text"
      },
      "source": [
        "<a href=\"https://colab.research.google.com/github/varamba/Ya_practicum_projects/blob/main/project_final_ab_test.ipynb\" target=\"_parent\"><img src=\"https://colab.research.google.com/assets/colab-badge.svg\" alt=\"Open In Colab\"/></a>"
      ]
    },
    {
      "cell_type": "markdown",
      "metadata": {
        "id": "2B7rIg3wY68q"
      },
      "source": [
        "## Введение\n",
        "Необходимо провести оценку результатов A/B-теста. В распоряжении есть датасет с действиями пользователей, техническое задание и несколько вспомогательных датасетов.\n",
        "- Оценить корректность проведения теста.\n",
        "- Проанализировать результаты теста.\n",
        "- Проверить: пересечение тестовой аудитории с конкурирующим тестом;\n",
        "    совпадение теста и маркетинговых событий, другие проблемы временных границ теста."
      ]
    },
    {
      "cell_type": "markdown",
      "metadata": {
        "id": "QyPsDouXY68r"
      },
      "source": [
        "## Техническое задание\n",
        "Название теста: recommender_system_test;<div>\n",
        "Группы: А (контрольная), B (новая платёжная воронка);<div>\n",
        "Дата запуска: 2020-12-07;<div>\n",
        "Дата остановки набора новых пользователей: 2020-12-21;<div>\n",
        "Дата остановки: 2021-01-04;<div>\n",
        "Аудитория: 15% новых пользователей из региона EU;<div>\n",
        "Назначение теста: тестирование изменений, связанных с внедрением улучшенной рекомендательной системы;<div>\n",
        "Ожидаемое количество участников теста: 6000.<div>\n",
        "Ожидаемый эффект: за 14 дней с момента регистрации в системе пользователи покажут улучшение каждой метрики не менее, чем на 10%:\n",
        "конверсии в просмотр карточек товаров — событие product_page<div>\n",
        "просмотры корзины — product_cart<div>\n",
        "покупки — purchase."
      ]
    },
    {
      "cell_type": "markdown",
      "metadata": {
        "id": "K28iZaiQY68r"
      },
      "source": [
        "## Цели/Задачи\n",
        "Предобработка:<div>\n",
        "    \n",
        "- Проверить, требуется ли преобразование типов?\n",
        "- Найти пропуски, дупликаты, объяснить их.\n",
        "- Оценить корректность проведения теста.<div>\n",
        "- Проверить соответствие данных требованиям технического задания.<div>\n",
        "- Проверить корректность всех пунктов технического задания.<div>\n",
        "- Проверить время проведения теста.<div>\n",
        "- Убедиться, что оно не совпадает с маркетинговыми и другими активностями.<div>\n",
        "- Обратить внимание на аудиторию теста.<div>\n",
        "- Удостоверьться, что нет пересечений с конкурирующим тестом и нет пользователей, участвующих в двух группах теста одновременно.<div>\n",
        "- Проверить равномерность распределения пользователей по тестовым группам и правильность их формирования.<div>\n",
        "    \n",
        "Исследовательский анализ данных:<div>\n",
        "- Количество событий на пользователя одинаково распределены в выборках?<div>\n",
        "- Как число событий в выборках распределено по дням?<div>\n",
        "- Как меняется конверсия в воронке в выборках на разных этапах?<div>\n",
        "- Какие особенности данных нужно учесть, прежде чем приступать к A/B-тестированию?<div>\n",
        "    \n",
        "Оценка результатов A/B-тестирования:<div>\n",
        "- Что можно сказать про результаты A/B-тестирования?<div>\n",
        "- Проверить статистическую разницу долей z-критерием.<div>\n",
        "- Сделать выводы"
      ]
    },
    {
      "cell_type": "markdown",
      "metadata": {
        "id": "f1Yhz7e3Y68t"
      },
      "source": [
        "## Предобработка"
      ]
    },
    {
      "cell_type": "code",
      "execution_count": 1,
      "metadata": {
        "id": "Q5P_atSyY68t"
      },
      "outputs": [],
      "source": [
        "import pandas as pd\n",
        "import matplotlib.pyplot as plt\n",
        "import math as mth\n",
        "import numpy as np\n",
        "from scipy import stats as st\n",
        "import datetime as dt\n",
        "from datetime import timedelta\n",
        "from plotly import graph_objects as go\n",
        "import plotly.express as px\n",
        "import re\n",
        "from pandas.plotting import register_matplotlib_converters\n",
        "import warnings \n",
        "warnings.filterwarnings(\"ignore\")"
      ]
    },
    {
      "cell_type": "code",
      "source": [
        "from google.colab import drive\n",
        "drive.mount('/content/drive')"
      ],
      "metadata": {
        "colab": {
          "base_uri": "https://localhost:8080/"
        },
        "id": "FY4CrXk7Zrg7",
        "outputId": "0d7fc889-35aa-4eb9-cfb7-4108dcd08aae"
      },
      "execution_count": 2,
      "outputs": [
        {
          "output_type": "stream",
          "name": "stdout",
          "text": [
            "Drive already mounted at /content/drive; to attempt to forcibly remount, call drive.mount(\"/content/drive\", force_remount=True).\n"
          ]
        }
      ]
    },
    {
      "cell_type": "code",
      "execution_count": 3,
      "metadata": {
        "id": "RMUXy0H8Y68w"
      },
      "outputs": [],
      "source": [
        "try:\n",
        "  m_events, new_users, events, participants = (\n",
        "      pd.read_csv('https://code.s3.yandex.net/datasets/ab_project_marketing_events.csv', sep=',', engine = 'python'),\n",
        "      pd.read_csv('https://code.s3.yandex.net/datasets/final_ab_new_users.csv', sep=',', engine = 'python'),\n",
        "      pd.read_csv('https://code.s3.yandex.net/datasets/final_ab_events.csv', sep=',', engine = 'python'),\n",
        "      pd.read_csv('https://code.s3.yandex.net/datasets/final_ab_participants.csv', sep=',', engine = 'python'))\n",
        "except:\n",
        "  m_events, new_users, events, participants = (\n",
        "      pd.read_csv('/dataframes/ab_project_marketing_events.csv', sep=',', engine = 'python'),\n",
        "      pd.read_csv('/dataframes/final_ab_new_users.csv', sep=',', engine = 'python'),\n",
        "      pd.read_csv('/dataframes/final_ab_events.csv', sep=',', engine = 'python'),\n",
        "      pd.read_csv('/dataframes/final_ab_participants.csv', sep=',', engine = 'python'))"
      ]
    },
    {
      "cell_type": "code",
      "execution_count": 4,
      "metadata": {
        "scrolled": false,
        "colab": {
          "base_uri": "https://localhost:8080/",
          "height": 1000
        },
        "id": "crkuvgLqY68x",
        "outputId": "4e30ddbe-ef2c-4ae3-e0b8-5f8584bb9ce1"
      },
      "outputs": [
        {
          "output_type": "display_data",
          "data": {
            "text/plain": [
              "                           name                   regions    start_dt  \\\n",
              "0      Christmas&New Year Promo             EU, N.America  2020-12-25   \n",
              "1  St. Valentine's Day Giveaway  EU, CIS, APAC, N.America  2020-02-14   \n",
              "2        St. Patric's Day Promo             EU, N.America  2020-03-17   \n",
              "3                  Easter Promo  EU, CIS, APAC, N.America  2020-04-12   \n",
              "4             4th of July Promo                 N.America  2020-07-04   \n",
              "\n",
              "    finish_dt  \n",
              "0  2021-01-03  \n",
              "1  2020-02-16  \n",
              "2  2020-03-19  \n",
              "3  2020-04-19  \n",
              "4  2020-07-11  "
            ],
            "text/html": [
              "\n",
              "  <div id=\"df-6049ce5a-3331-4ff0-993f-e1a5fc6f00a1\">\n",
              "    <div class=\"colab-df-container\">\n",
              "      <div>\n",
              "<style scoped>\n",
              "    .dataframe tbody tr th:only-of-type {\n",
              "        vertical-align: middle;\n",
              "    }\n",
              "\n",
              "    .dataframe tbody tr th {\n",
              "        vertical-align: top;\n",
              "    }\n",
              "\n",
              "    .dataframe thead th {\n",
              "        text-align: right;\n",
              "    }\n",
              "</style>\n",
              "<table border=\"1\" class=\"dataframe\">\n",
              "  <thead>\n",
              "    <tr style=\"text-align: right;\">\n",
              "      <th></th>\n",
              "      <th>name</th>\n",
              "      <th>regions</th>\n",
              "      <th>start_dt</th>\n",
              "      <th>finish_dt</th>\n",
              "    </tr>\n",
              "  </thead>\n",
              "  <tbody>\n",
              "    <tr>\n",
              "      <th>0</th>\n",
              "      <td>Christmas&amp;New Year Promo</td>\n",
              "      <td>EU, N.America</td>\n",
              "      <td>2020-12-25</td>\n",
              "      <td>2021-01-03</td>\n",
              "    </tr>\n",
              "    <tr>\n",
              "      <th>1</th>\n",
              "      <td>St. Valentine's Day Giveaway</td>\n",
              "      <td>EU, CIS, APAC, N.America</td>\n",
              "      <td>2020-02-14</td>\n",
              "      <td>2020-02-16</td>\n",
              "    </tr>\n",
              "    <tr>\n",
              "      <th>2</th>\n",
              "      <td>St. Patric's Day Promo</td>\n",
              "      <td>EU, N.America</td>\n",
              "      <td>2020-03-17</td>\n",
              "      <td>2020-03-19</td>\n",
              "    </tr>\n",
              "    <tr>\n",
              "      <th>3</th>\n",
              "      <td>Easter Promo</td>\n",
              "      <td>EU, CIS, APAC, N.America</td>\n",
              "      <td>2020-04-12</td>\n",
              "      <td>2020-04-19</td>\n",
              "    </tr>\n",
              "    <tr>\n",
              "      <th>4</th>\n",
              "      <td>4th of July Promo</td>\n",
              "      <td>N.America</td>\n",
              "      <td>2020-07-04</td>\n",
              "      <td>2020-07-11</td>\n",
              "    </tr>\n",
              "  </tbody>\n",
              "</table>\n",
              "</div>\n",
              "      <button class=\"colab-df-convert\" onclick=\"convertToInteractive('df-6049ce5a-3331-4ff0-993f-e1a5fc6f00a1')\"\n",
              "              title=\"Convert this dataframe to an interactive table.\"\n",
              "              style=\"display:none;\">\n",
              "        \n",
              "  <svg xmlns=\"http://www.w3.org/2000/svg\" height=\"24px\"viewBox=\"0 0 24 24\"\n",
              "       width=\"24px\">\n",
              "    <path d=\"M0 0h24v24H0V0z\" fill=\"none\"/>\n",
              "    <path d=\"M18.56 5.44l.94 2.06.94-2.06 2.06-.94-2.06-.94-.94-2.06-.94 2.06-2.06.94zm-11 1L8.5 8.5l.94-2.06 2.06-.94-2.06-.94L8.5 2.5l-.94 2.06-2.06.94zm10 10l.94 2.06.94-2.06 2.06-.94-2.06-.94-.94-2.06-.94 2.06-2.06.94z\"/><path d=\"M17.41 7.96l-1.37-1.37c-.4-.4-.92-.59-1.43-.59-.52 0-1.04.2-1.43.59L10.3 9.45l-7.72 7.72c-.78.78-.78 2.05 0 2.83L4 21.41c.39.39.9.59 1.41.59.51 0 1.02-.2 1.41-.59l7.78-7.78 2.81-2.81c.8-.78.8-2.07 0-2.86zM5.41 20L4 18.59l7.72-7.72 1.47 1.35L5.41 20z\"/>\n",
              "  </svg>\n",
              "      </button>\n",
              "      \n",
              "  <style>\n",
              "    .colab-df-container {\n",
              "      display:flex;\n",
              "      flex-wrap:wrap;\n",
              "      gap: 12px;\n",
              "    }\n",
              "\n",
              "    .colab-df-convert {\n",
              "      background-color: #E8F0FE;\n",
              "      border: none;\n",
              "      border-radius: 50%;\n",
              "      cursor: pointer;\n",
              "      display: none;\n",
              "      fill: #1967D2;\n",
              "      height: 32px;\n",
              "      padding: 0 0 0 0;\n",
              "      width: 32px;\n",
              "    }\n",
              "\n",
              "    .colab-df-convert:hover {\n",
              "      background-color: #E2EBFA;\n",
              "      box-shadow: 0px 1px 2px rgba(60, 64, 67, 0.3), 0px 1px 3px 1px rgba(60, 64, 67, 0.15);\n",
              "      fill: #174EA6;\n",
              "    }\n",
              "\n",
              "    [theme=dark] .colab-df-convert {\n",
              "      background-color: #3B4455;\n",
              "      fill: #D2E3FC;\n",
              "    }\n",
              "\n",
              "    [theme=dark] .colab-df-convert:hover {\n",
              "      background-color: #434B5C;\n",
              "      box-shadow: 0px 1px 3px 1px rgba(0, 0, 0, 0.15);\n",
              "      filter: drop-shadow(0px 1px 2px rgba(0, 0, 0, 0.3));\n",
              "      fill: #FFFFFF;\n",
              "    }\n",
              "  </style>\n",
              "\n",
              "      <script>\n",
              "        const buttonEl =\n",
              "          document.querySelector('#df-6049ce5a-3331-4ff0-993f-e1a5fc6f00a1 button.colab-df-convert');\n",
              "        buttonEl.style.display =\n",
              "          google.colab.kernel.accessAllowed ? 'block' : 'none';\n",
              "\n",
              "        async function convertToInteractive(key) {\n",
              "          const element = document.querySelector('#df-6049ce5a-3331-4ff0-993f-e1a5fc6f00a1');\n",
              "          const dataTable =\n",
              "            await google.colab.kernel.invokeFunction('convertToInteractive',\n",
              "                                                     [key], {});\n",
              "          if (!dataTable) return;\n",
              "\n",
              "          const docLinkHtml = 'Like what you see? Visit the ' +\n",
              "            '<a target=\"_blank\" href=https://colab.research.google.com/notebooks/data_table.ipynb>data table notebook</a>'\n",
              "            + ' to learn more about interactive tables.';\n",
              "          element.innerHTML = '';\n",
              "          dataTable['output_type'] = 'display_data';\n",
              "          await google.colab.output.renderOutput(dataTable, element);\n",
              "          const docLink = document.createElement('div');\n",
              "          docLink.innerHTML = docLinkHtml;\n",
              "          element.appendChild(docLink);\n",
              "        }\n",
              "      </script>\n",
              "    </div>\n",
              "  </div>\n",
              "  "
            ]
          },
          "metadata": {}
        },
        {
          "output_type": "stream",
          "name": "stdout",
          "text": [
            "<class 'pandas.core.frame.DataFrame'>\n",
            "RangeIndex: 14 entries, 0 to 13\n",
            "Data columns (total 4 columns):\n",
            " #   Column     Non-Null Count  Dtype \n",
            "---  ------     --------------  ----- \n",
            " 0   name       14 non-null     object\n",
            " 1   regions    14 non-null     object\n",
            " 2   start_dt   14 non-null     object\n",
            " 3   finish_dt  14 non-null     object\n",
            "dtypes: object(4)\n",
            "memory usage: 576.0+ bytes\n"
          ]
        },
        {
          "output_type": "display_data",
          "data": {
            "text/plain": [
              "None"
            ]
          },
          "metadata": {}
        },
        {
          "output_type": "display_data",
          "data": {
            "text/plain": [
              "name         0.0\n",
              "regions      0.0\n",
              "start_dt     0.0\n",
              "finish_dt    0.0\n",
              "dtype: float64"
            ]
          },
          "metadata": {}
        },
        {
          "output_type": "display_data",
          "data": {
            "text/plain": [
              "0"
            ]
          },
          "metadata": {}
        },
        {
          "output_type": "display_data",
          "data": {
            "text/plain": [
              "            user_id  first_date     region   device\n",
              "0  D72A72121175D8BE  2020-12-07         EU       PC\n",
              "1  F1C668619DFE6E65  2020-12-07  N.America  Android\n",
              "2  2E1BF1D4C37EA01F  2020-12-07         EU       PC\n",
              "3  50734A22C0C63768  2020-12-07         EU   iPhone\n",
              "4  E1BDDCE0DAFA2679  2020-12-07  N.America   iPhone"
            ],
            "text/html": [
              "\n",
              "  <div id=\"df-4ca14f99-609c-48c6-9b6d-df6dc317ae1f\">\n",
              "    <div class=\"colab-df-container\">\n",
              "      <div>\n",
              "<style scoped>\n",
              "    .dataframe tbody tr th:only-of-type {\n",
              "        vertical-align: middle;\n",
              "    }\n",
              "\n",
              "    .dataframe tbody tr th {\n",
              "        vertical-align: top;\n",
              "    }\n",
              "\n",
              "    .dataframe thead th {\n",
              "        text-align: right;\n",
              "    }\n",
              "</style>\n",
              "<table border=\"1\" class=\"dataframe\">\n",
              "  <thead>\n",
              "    <tr style=\"text-align: right;\">\n",
              "      <th></th>\n",
              "      <th>user_id</th>\n",
              "      <th>first_date</th>\n",
              "      <th>region</th>\n",
              "      <th>device</th>\n",
              "    </tr>\n",
              "  </thead>\n",
              "  <tbody>\n",
              "    <tr>\n",
              "      <th>0</th>\n",
              "      <td>D72A72121175D8BE</td>\n",
              "      <td>2020-12-07</td>\n",
              "      <td>EU</td>\n",
              "      <td>PC</td>\n",
              "    </tr>\n",
              "    <tr>\n",
              "      <th>1</th>\n",
              "      <td>F1C668619DFE6E65</td>\n",
              "      <td>2020-12-07</td>\n",
              "      <td>N.America</td>\n",
              "      <td>Android</td>\n",
              "    </tr>\n",
              "    <tr>\n",
              "      <th>2</th>\n",
              "      <td>2E1BF1D4C37EA01F</td>\n",
              "      <td>2020-12-07</td>\n",
              "      <td>EU</td>\n",
              "      <td>PC</td>\n",
              "    </tr>\n",
              "    <tr>\n",
              "      <th>3</th>\n",
              "      <td>50734A22C0C63768</td>\n",
              "      <td>2020-12-07</td>\n",
              "      <td>EU</td>\n",
              "      <td>iPhone</td>\n",
              "    </tr>\n",
              "    <tr>\n",
              "      <th>4</th>\n",
              "      <td>E1BDDCE0DAFA2679</td>\n",
              "      <td>2020-12-07</td>\n",
              "      <td>N.America</td>\n",
              "      <td>iPhone</td>\n",
              "    </tr>\n",
              "  </tbody>\n",
              "</table>\n",
              "</div>\n",
              "      <button class=\"colab-df-convert\" onclick=\"convertToInteractive('df-4ca14f99-609c-48c6-9b6d-df6dc317ae1f')\"\n",
              "              title=\"Convert this dataframe to an interactive table.\"\n",
              "              style=\"display:none;\">\n",
              "        \n",
              "  <svg xmlns=\"http://www.w3.org/2000/svg\" height=\"24px\"viewBox=\"0 0 24 24\"\n",
              "       width=\"24px\">\n",
              "    <path d=\"M0 0h24v24H0V0z\" fill=\"none\"/>\n",
              "    <path d=\"M18.56 5.44l.94 2.06.94-2.06 2.06-.94-2.06-.94-.94-2.06-.94 2.06-2.06.94zm-11 1L8.5 8.5l.94-2.06 2.06-.94-2.06-.94L8.5 2.5l-.94 2.06-2.06.94zm10 10l.94 2.06.94-2.06 2.06-.94-2.06-.94-.94-2.06-.94 2.06-2.06.94z\"/><path d=\"M17.41 7.96l-1.37-1.37c-.4-.4-.92-.59-1.43-.59-.52 0-1.04.2-1.43.59L10.3 9.45l-7.72 7.72c-.78.78-.78 2.05 0 2.83L4 21.41c.39.39.9.59 1.41.59.51 0 1.02-.2 1.41-.59l7.78-7.78 2.81-2.81c.8-.78.8-2.07 0-2.86zM5.41 20L4 18.59l7.72-7.72 1.47 1.35L5.41 20z\"/>\n",
              "  </svg>\n",
              "      </button>\n",
              "      \n",
              "  <style>\n",
              "    .colab-df-container {\n",
              "      display:flex;\n",
              "      flex-wrap:wrap;\n",
              "      gap: 12px;\n",
              "    }\n",
              "\n",
              "    .colab-df-convert {\n",
              "      background-color: #E8F0FE;\n",
              "      border: none;\n",
              "      border-radius: 50%;\n",
              "      cursor: pointer;\n",
              "      display: none;\n",
              "      fill: #1967D2;\n",
              "      height: 32px;\n",
              "      padding: 0 0 0 0;\n",
              "      width: 32px;\n",
              "    }\n",
              "\n",
              "    .colab-df-convert:hover {\n",
              "      background-color: #E2EBFA;\n",
              "      box-shadow: 0px 1px 2px rgba(60, 64, 67, 0.3), 0px 1px 3px 1px rgba(60, 64, 67, 0.15);\n",
              "      fill: #174EA6;\n",
              "    }\n",
              "\n",
              "    [theme=dark] .colab-df-convert {\n",
              "      background-color: #3B4455;\n",
              "      fill: #D2E3FC;\n",
              "    }\n",
              "\n",
              "    [theme=dark] .colab-df-convert:hover {\n",
              "      background-color: #434B5C;\n",
              "      box-shadow: 0px 1px 3px 1px rgba(0, 0, 0, 0.15);\n",
              "      filter: drop-shadow(0px 1px 2px rgba(0, 0, 0, 0.3));\n",
              "      fill: #FFFFFF;\n",
              "    }\n",
              "  </style>\n",
              "\n",
              "      <script>\n",
              "        const buttonEl =\n",
              "          document.querySelector('#df-4ca14f99-609c-48c6-9b6d-df6dc317ae1f button.colab-df-convert');\n",
              "        buttonEl.style.display =\n",
              "          google.colab.kernel.accessAllowed ? 'block' : 'none';\n",
              "\n",
              "        async function convertToInteractive(key) {\n",
              "          const element = document.querySelector('#df-4ca14f99-609c-48c6-9b6d-df6dc317ae1f');\n",
              "          const dataTable =\n",
              "            await google.colab.kernel.invokeFunction('convertToInteractive',\n",
              "                                                     [key], {});\n",
              "          if (!dataTable) return;\n",
              "\n",
              "          const docLinkHtml = 'Like what you see? Visit the ' +\n",
              "            '<a target=\"_blank\" href=https://colab.research.google.com/notebooks/data_table.ipynb>data table notebook</a>'\n",
              "            + ' to learn more about interactive tables.';\n",
              "          element.innerHTML = '';\n",
              "          dataTable['output_type'] = 'display_data';\n",
              "          await google.colab.output.renderOutput(dataTable, element);\n",
              "          const docLink = document.createElement('div');\n",
              "          docLink.innerHTML = docLinkHtml;\n",
              "          element.appendChild(docLink);\n",
              "        }\n",
              "      </script>\n",
              "    </div>\n",
              "  </div>\n",
              "  "
            ]
          },
          "metadata": {}
        },
        {
          "output_type": "stream",
          "name": "stdout",
          "text": [
            "<class 'pandas.core.frame.DataFrame'>\n",
            "RangeIndex: 61733 entries, 0 to 61732\n",
            "Data columns (total 4 columns):\n",
            " #   Column      Non-Null Count  Dtype \n",
            "---  ------      --------------  ----- \n",
            " 0   user_id     61733 non-null  object\n",
            " 1   first_date  61733 non-null  object\n",
            " 2   region      61733 non-null  object\n",
            " 3   device      61733 non-null  object\n",
            "dtypes: object(4)\n",
            "memory usage: 1.9+ MB\n"
          ]
        },
        {
          "output_type": "display_data",
          "data": {
            "text/plain": [
              "None"
            ]
          },
          "metadata": {}
        },
        {
          "output_type": "display_data",
          "data": {
            "text/plain": [
              "user_id       0.0\n",
              "first_date    0.0\n",
              "region        0.0\n",
              "device        0.0\n",
              "dtype: float64"
            ]
          },
          "metadata": {}
        },
        {
          "output_type": "display_data",
          "data": {
            "text/plain": [
              "0"
            ]
          },
          "metadata": {}
        },
        {
          "output_type": "display_data",
          "data": {
            "text/plain": [
              "            user_id             event_dt event_name  details\n",
              "0  E1BDDCE0DAFA2679  2020-12-07 20:22:03   purchase    99.99\n",
              "1  7B6452F081F49504  2020-12-07 09:22:53   purchase     9.99\n",
              "2  9CD9F34546DF254C  2020-12-07 12:59:29   purchase     4.99\n",
              "3  96F27A054B191457  2020-12-07 04:02:40   purchase     4.99\n",
              "4  1FD7660FDF94CA1F  2020-12-07 10:15:09   purchase     4.99"
            ],
            "text/html": [
              "\n",
              "  <div id=\"df-d4117007-4d05-489f-be57-875d69dc2668\">\n",
              "    <div class=\"colab-df-container\">\n",
              "      <div>\n",
              "<style scoped>\n",
              "    .dataframe tbody tr th:only-of-type {\n",
              "        vertical-align: middle;\n",
              "    }\n",
              "\n",
              "    .dataframe tbody tr th {\n",
              "        vertical-align: top;\n",
              "    }\n",
              "\n",
              "    .dataframe thead th {\n",
              "        text-align: right;\n",
              "    }\n",
              "</style>\n",
              "<table border=\"1\" class=\"dataframe\">\n",
              "  <thead>\n",
              "    <tr style=\"text-align: right;\">\n",
              "      <th></th>\n",
              "      <th>user_id</th>\n",
              "      <th>event_dt</th>\n",
              "      <th>event_name</th>\n",
              "      <th>details</th>\n",
              "    </tr>\n",
              "  </thead>\n",
              "  <tbody>\n",
              "    <tr>\n",
              "      <th>0</th>\n",
              "      <td>E1BDDCE0DAFA2679</td>\n",
              "      <td>2020-12-07 20:22:03</td>\n",
              "      <td>purchase</td>\n",
              "      <td>99.99</td>\n",
              "    </tr>\n",
              "    <tr>\n",
              "      <th>1</th>\n",
              "      <td>7B6452F081F49504</td>\n",
              "      <td>2020-12-07 09:22:53</td>\n",
              "      <td>purchase</td>\n",
              "      <td>9.99</td>\n",
              "    </tr>\n",
              "    <tr>\n",
              "      <th>2</th>\n",
              "      <td>9CD9F34546DF254C</td>\n",
              "      <td>2020-12-07 12:59:29</td>\n",
              "      <td>purchase</td>\n",
              "      <td>4.99</td>\n",
              "    </tr>\n",
              "    <tr>\n",
              "      <th>3</th>\n",
              "      <td>96F27A054B191457</td>\n",
              "      <td>2020-12-07 04:02:40</td>\n",
              "      <td>purchase</td>\n",
              "      <td>4.99</td>\n",
              "    </tr>\n",
              "    <tr>\n",
              "      <th>4</th>\n",
              "      <td>1FD7660FDF94CA1F</td>\n",
              "      <td>2020-12-07 10:15:09</td>\n",
              "      <td>purchase</td>\n",
              "      <td>4.99</td>\n",
              "    </tr>\n",
              "  </tbody>\n",
              "</table>\n",
              "</div>\n",
              "      <button class=\"colab-df-convert\" onclick=\"convertToInteractive('df-d4117007-4d05-489f-be57-875d69dc2668')\"\n",
              "              title=\"Convert this dataframe to an interactive table.\"\n",
              "              style=\"display:none;\">\n",
              "        \n",
              "  <svg xmlns=\"http://www.w3.org/2000/svg\" height=\"24px\"viewBox=\"0 0 24 24\"\n",
              "       width=\"24px\">\n",
              "    <path d=\"M0 0h24v24H0V0z\" fill=\"none\"/>\n",
              "    <path d=\"M18.56 5.44l.94 2.06.94-2.06 2.06-.94-2.06-.94-.94-2.06-.94 2.06-2.06.94zm-11 1L8.5 8.5l.94-2.06 2.06-.94-2.06-.94L8.5 2.5l-.94 2.06-2.06.94zm10 10l.94 2.06.94-2.06 2.06-.94-2.06-.94-.94-2.06-.94 2.06-2.06.94z\"/><path d=\"M17.41 7.96l-1.37-1.37c-.4-.4-.92-.59-1.43-.59-.52 0-1.04.2-1.43.59L10.3 9.45l-7.72 7.72c-.78.78-.78 2.05 0 2.83L4 21.41c.39.39.9.59 1.41.59.51 0 1.02-.2 1.41-.59l7.78-7.78 2.81-2.81c.8-.78.8-2.07 0-2.86zM5.41 20L4 18.59l7.72-7.72 1.47 1.35L5.41 20z\"/>\n",
              "  </svg>\n",
              "      </button>\n",
              "      \n",
              "  <style>\n",
              "    .colab-df-container {\n",
              "      display:flex;\n",
              "      flex-wrap:wrap;\n",
              "      gap: 12px;\n",
              "    }\n",
              "\n",
              "    .colab-df-convert {\n",
              "      background-color: #E8F0FE;\n",
              "      border: none;\n",
              "      border-radius: 50%;\n",
              "      cursor: pointer;\n",
              "      display: none;\n",
              "      fill: #1967D2;\n",
              "      height: 32px;\n",
              "      padding: 0 0 0 0;\n",
              "      width: 32px;\n",
              "    }\n",
              "\n",
              "    .colab-df-convert:hover {\n",
              "      background-color: #E2EBFA;\n",
              "      box-shadow: 0px 1px 2px rgba(60, 64, 67, 0.3), 0px 1px 3px 1px rgba(60, 64, 67, 0.15);\n",
              "      fill: #174EA6;\n",
              "    }\n",
              "\n",
              "    [theme=dark] .colab-df-convert {\n",
              "      background-color: #3B4455;\n",
              "      fill: #D2E3FC;\n",
              "    }\n",
              "\n",
              "    [theme=dark] .colab-df-convert:hover {\n",
              "      background-color: #434B5C;\n",
              "      box-shadow: 0px 1px 3px 1px rgba(0, 0, 0, 0.15);\n",
              "      filter: drop-shadow(0px 1px 2px rgba(0, 0, 0, 0.3));\n",
              "      fill: #FFFFFF;\n",
              "    }\n",
              "  </style>\n",
              "\n",
              "      <script>\n",
              "        const buttonEl =\n",
              "          document.querySelector('#df-d4117007-4d05-489f-be57-875d69dc2668 button.colab-df-convert');\n",
              "        buttonEl.style.display =\n",
              "          google.colab.kernel.accessAllowed ? 'block' : 'none';\n",
              "\n",
              "        async function convertToInteractive(key) {\n",
              "          const element = document.querySelector('#df-d4117007-4d05-489f-be57-875d69dc2668');\n",
              "          const dataTable =\n",
              "            await google.colab.kernel.invokeFunction('convertToInteractive',\n",
              "                                                     [key], {});\n",
              "          if (!dataTable) return;\n",
              "\n",
              "          const docLinkHtml = 'Like what you see? Visit the ' +\n",
              "            '<a target=\"_blank\" href=https://colab.research.google.com/notebooks/data_table.ipynb>data table notebook</a>'\n",
              "            + ' to learn more about interactive tables.';\n",
              "          element.innerHTML = '';\n",
              "          dataTable['output_type'] = 'display_data';\n",
              "          await google.colab.output.renderOutput(dataTable, element);\n",
              "          const docLink = document.createElement('div');\n",
              "          docLink.innerHTML = docLinkHtml;\n",
              "          element.appendChild(docLink);\n",
              "        }\n",
              "      </script>\n",
              "    </div>\n",
              "  </div>\n",
              "  "
            ]
          },
          "metadata": {}
        },
        {
          "output_type": "stream",
          "name": "stdout",
          "text": [
            "<class 'pandas.core.frame.DataFrame'>\n",
            "RangeIndex: 440317 entries, 0 to 440316\n",
            "Data columns (total 4 columns):\n",
            " #   Column      Non-Null Count   Dtype  \n",
            "---  ------      --------------   -----  \n",
            " 0   user_id     440317 non-null  object \n",
            " 1   event_dt    440317 non-null  object \n",
            " 2   event_name  440317 non-null  object \n",
            " 3   details     62740 non-null   float64\n",
            "dtypes: float64(1), object(3)\n",
            "memory usage: 13.4+ MB\n"
          ]
        },
        {
          "output_type": "display_data",
          "data": {
            "text/plain": [
              "None"
            ]
          },
          "metadata": {}
        },
        {
          "output_type": "display_data",
          "data": {
            "text/plain": [
              "user_id       0.000000\n",
              "event_dt      0.000000\n",
              "event_name    0.000000\n",
              "details       0.857512\n",
              "dtype: float64"
            ]
          },
          "metadata": {}
        },
        {
          "output_type": "display_data",
          "data": {
            "text/plain": [
              "0"
            ]
          },
          "metadata": {}
        },
        {
          "output_type": "display_data",
          "data": {
            "text/plain": [
              "            user_id group                  ab_test\n",
              "0  D1ABA3E2887B6A73     A  recommender_system_test\n",
              "1  A7A3664BD6242119     A  recommender_system_test\n",
              "2  DABC14FDDFADD29E     A  recommender_system_test\n",
              "3  04988C5DF189632E     A  recommender_system_test\n",
              "4  482F14783456D21B     B  recommender_system_test"
            ],
            "text/html": [
              "\n",
              "  <div id=\"df-0f635956-ad84-4ee6-a009-d9409df6484e\">\n",
              "    <div class=\"colab-df-container\">\n",
              "      <div>\n",
              "<style scoped>\n",
              "    .dataframe tbody tr th:only-of-type {\n",
              "        vertical-align: middle;\n",
              "    }\n",
              "\n",
              "    .dataframe tbody tr th {\n",
              "        vertical-align: top;\n",
              "    }\n",
              "\n",
              "    .dataframe thead th {\n",
              "        text-align: right;\n",
              "    }\n",
              "</style>\n",
              "<table border=\"1\" class=\"dataframe\">\n",
              "  <thead>\n",
              "    <tr style=\"text-align: right;\">\n",
              "      <th></th>\n",
              "      <th>user_id</th>\n",
              "      <th>group</th>\n",
              "      <th>ab_test</th>\n",
              "    </tr>\n",
              "  </thead>\n",
              "  <tbody>\n",
              "    <tr>\n",
              "      <th>0</th>\n",
              "      <td>D1ABA3E2887B6A73</td>\n",
              "      <td>A</td>\n",
              "      <td>recommender_system_test</td>\n",
              "    </tr>\n",
              "    <tr>\n",
              "      <th>1</th>\n",
              "      <td>A7A3664BD6242119</td>\n",
              "      <td>A</td>\n",
              "      <td>recommender_system_test</td>\n",
              "    </tr>\n",
              "    <tr>\n",
              "      <th>2</th>\n",
              "      <td>DABC14FDDFADD29E</td>\n",
              "      <td>A</td>\n",
              "      <td>recommender_system_test</td>\n",
              "    </tr>\n",
              "    <tr>\n",
              "      <th>3</th>\n",
              "      <td>04988C5DF189632E</td>\n",
              "      <td>A</td>\n",
              "      <td>recommender_system_test</td>\n",
              "    </tr>\n",
              "    <tr>\n",
              "      <th>4</th>\n",
              "      <td>482F14783456D21B</td>\n",
              "      <td>B</td>\n",
              "      <td>recommender_system_test</td>\n",
              "    </tr>\n",
              "  </tbody>\n",
              "</table>\n",
              "</div>\n",
              "      <button class=\"colab-df-convert\" onclick=\"convertToInteractive('df-0f635956-ad84-4ee6-a009-d9409df6484e')\"\n",
              "              title=\"Convert this dataframe to an interactive table.\"\n",
              "              style=\"display:none;\">\n",
              "        \n",
              "  <svg xmlns=\"http://www.w3.org/2000/svg\" height=\"24px\"viewBox=\"0 0 24 24\"\n",
              "       width=\"24px\">\n",
              "    <path d=\"M0 0h24v24H0V0z\" fill=\"none\"/>\n",
              "    <path d=\"M18.56 5.44l.94 2.06.94-2.06 2.06-.94-2.06-.94-.94-2.06-.94 2.06-2.06.94zm-11 1L8.5 8.5l.94-2.06 2.06-.94-2.06-.94L8.5 2.5l-.94 2.06-2.06.94zm10 10l.94 2.06.94-2.06 2.06-.94-2.06-.94-.94-2.06-.94 2.06-2.06.94z\"/><path d=\"M17.41 7.96l-1.37-1.37c-.4-.4-.92-.59-1.43-.59-.52 0-1.04.2-1.43.59L10.3 9.45l-7.72 7.72c-.78.78-.78 2.05 0 2.83L4 21.41c.39.39.9.59 1.41.59.51 0 1.02-.2 1.41-.59l7.78-7.78 2.81-2.81c.8-.78.8-2.07 0-2.86zM5.41 20L4 18.59l7.72-7.72 1.47 1.35L5.41 20z\"/>\n",
              "  </svg>\n",
              "      </button>\n",
              "      \n",
              "  <style>\n",
              "    .colab-df-container {\n",
              "      display:flex;\n",
              "      flex-wrap:wrap;\n",
              "      gap: 12px;\n",
              "    }\n",
              "\n",
              "    .colab-df-convert {\n",
              "      background-color: #E8F0FE;\n",
              "      border: none;\n",
              "      border-radius: 50%;\n",
              "      cursor: pointer;\n",
              "      display: none;\n",
              "      fill: #1967D2;\n",
              "      height: 32px;\n",
              "      padding: 0 0 0 0;\n",
              "      width: 32px;\n",
              "    }\n",
              "\n",
              "    .colab-df-convert:hover {\n",
              "      background-color: #E2EBFA;\n",
              "      box-shadow: 0px 1px 2px rgba(60, 64, 67, 0.3), 0px 1px 3px 1px rgba(60, 64, 67, 0.15);\n",
              "      fill: #174EA6;\n",
              "    }\n",
              "\n",
              "    [theme=dark] .colab-df-convert {\n",
              "      background-color: #3B4455;\n",
              "      fill: #D2E3FC;\n",
              "    }\n",
              "\n",
              "    [theme=dark] .colab-df-convert:hover {\n",
              "      background-color: #434B5C;\n",
              "      box-shadow: 0px 1px 3px 1px rgba(0, 0, 0, 0.15);\n",
              "      filter: drop-shadow(0px 1px 2px rgba(0, 0, 0, 0.3));\n",
              "      fill: #FFFFFF;\n",
              "    }\n",
              "  </style>\n",
              "\n",
              "      <script>\n",
              "        const buttonEl =\n",
              "          document.querySelector('#df-0f635956-ad84-4ee6-a009-d9409df6484e button.colab-df-convert');\n",
              "        buttonEl.style.display =\n",
              "          google.colab.kernel.accessAllowed ? 'block' : 'none';\n",
              "\n",
              "        async function convertToInteractive(key) {\n",
              "          const element = document.querySelector('#df-0f635956-ad84-4ee6-a009-d9409df6484e');\n",
              "          const dataTable =\n",
              "            await google.colab.kernel.invokeFunction('convertToInteractive',\n",
              "                                                     [key], {});\n",
              "          if (!dataTable) return;\n",
              "\n",
              "          const docLinkHtml = 'Like what you see? Visit the ' +\n",
              "            '<a target=\"_blank\" href=https://colab.research.google.com/notebooks/data_table.ipynb>data table notebook</a>'\n",
              "            + ' to learn more about interactive tables.';\n",
              "          element.innerHTML = '';\n",
              "          dataTable['output_type'] = 'display_data';\n",
              "          await google.colab.output.renderOutput(dataTable, element);\n",
              "          const docLink = document.createElement('div');\n",
              "          docLink.innerHTML = docLinkHtml;\n",
              "          element.appendChild(docLink);\n",
              "        }\n",
              "      </script>\n",
              "    </div>\n",
              "  </div>\n",
              "  "
            ]
          },
          "metadata": {}
        },
        {
          "output_type": "stream",
          "name": "stdout",
          "text": [
            "<class 'pandas.core.frame.DataFrame'>\n",
            "RangeIndex: 18268 entries, 0 to 18267\n",
            "Data columns (total 3 columns):\n",
            " #   Column   Non-Null Count  Dtype \n",
            "---  ------   --------------  ----- \n",
            " 0   user_id  18268 non-null  object\n",
            " 1   group    18268 non-null  object\n",
            " 2   ab_test  18268 non-null  object\n",
            "dtypes: object(3)\n",
            "memory usage: 428.3+ KB\n"
          ]
        },
        {
          "output_type": "display_data",
          "data": {
            "text/plain": [
              "None"
            ]
          },
          "metadata": {}
        },
        {
          "output_type": "display_data",
          "data": {
            "text/plain": [
              "user_id    0.0\n",
              "group      0.0\n",
              "ab_test    0.0\n",
              "dtype: float64"
            ]
          },
          "metadata": {}
        },
        {
          "output_type": "display_data",
          "data": {
            "text/plain": [
              "0"
            ]
          },
          "metadata": {}
        }
      ],
      "source": [
        "tabs = [m_events, new_users, events, participants]\n",
        "for t in tabs:\n",
        "    display(t.head())\n",
        "    display(t.info())\n",
        "    display(t.isna().mean())\n",
        "    display(t.duplicated().sum())"
      ]
    },
    {
      "cell_type": "code",
      "execution_count": 5,
      "metadata": {
        "id": "LBupRReyY68z"
      },
      "outputs": [],
      "source": [
        "m_events['start_dt'] = pd.to_datetime(m_events['start_dt']).dt.date\n",
        "m_events['finish_dt'] = pd.to_datetime(m_events['finish_dt']).dt.date\n",
        "\n",
        "new_users['first_date'] = pd.to_datetime(new_users['first_date']).dt.date\n",
        "\n",
        "events['event_dt'] = pd.to_datetime(events['event_dt'])\n",
        "events['date'] = events['event_dt'].dt.date"
      ]
    },
    {
      "cell_type": "code",
      "execution_count": 6,
      "metadata": {
        "scrolled": true,
        "colab": {
          "base_uri": "https://localhost:8080/",
          "height": 850
        },
        "id": "hhQCS-3KY68z",
        "outputId": "ebb1789e-2399-49ff-b7a0-c101b0176fcf"
      },
      "outputs": [
        {
          "output_type": "stream",
          "name": "stdout",
          "text": [
            "<class 'pandas.core.frame.DataFrame'>\n",
            "RangeIndex: 14 entries, 0 to 13\n",
            "Data columns (total 4 columns):\n",
            " #   Column     Non-Null Count  Dtype \n",
            "---  ------     --------------  ----- \n",
            " 0   name       14 non-null     object\n",
            " 1   regions    14 non-null     object\n",
            " 2   start_dt   14 non-null     object\n",
            " 3   finish_dt  14 non-null     object\n",
            "dtypes: object(4)\n",
            "memory usage: 576.0+ bytes\n"
          ]
        },
        {
          "output_type": "display_data",
          "data": {
            "text/plain": [
              "None"
            ]
          },
          "metadata": {}
        },
        {
          "output_type": "stream",
          "name": "stdout",
          "text": [
            "<class 'pandas.core.frame.DataFrame'>\n",
            "RangeIndex: 61733 entries, 0 to 61732\n",
            "Data columns (total 4 columns):\n",
            " #   Column      Non-Null Count  Dtype \n",
            "---  ------      --------------  ----- \n",
            " 0   user_id     61733 non-null  object\n",
            " 1   first_date  61733 non-null  object\n",
            " 2   region      61733 non-null  object\n",
            " 3   device      61733 non-null  object\n",
            "dtypes: object(4)\n",
            "memory usage: 1.9+ MB\n"
          ]
        },
        {
          "output_type": "display_data",
          "data": {
            "text/plain": [
              "None"
            ]
          },
          "metadata": {}
        },
        {
          "output_type": "stream",
          "name": "stdout",
          "text": [
            "<class 'pandas.core.frame.DataFrame'>\n",
            "RangeIndex: 440317 entries, 0 to 440316\n",
            "Data columns (total 5 columns):\n",
            " #   Column      Non-Null Count   Dtype         \n",
            "---  ------      --------------   -----         \n",
            " 0   user_id     440317 non-null  object        \n",
            " 1   event_dt    440317 non-null  datetime64[ns]\n",
            " 2   event_name  440317 non-null  object        \n",
            " 3   details     62740 non-null   float64       \n",
            " 4   date        440317 non-null  object        \n",
            "dtypes: datetime64[ns](1), float64(1), object(3)\n",
            "memory usage: 16.8+ MB\n"
          ]
        },
        {
          "output_type": "display_data",
          "data": {
            "text/plain": [
              "None"
            ]
          },
          "metadata": {}
        },
        {
          "output_type": "stream",
          "name": "stdout",
          "text": [
            "<class 'pandas.core.frame.DataFrame'>\n",
            "RangeIndex: 18268 entries, 0 to 18267\n",
            "Data columns (total 3 columns):\n",
            " #   Column   Non-Null Count  Dtype \n",
            "---  ------   --------------  ----- \n",
            " 0   user_id  18268 non-null  object\n",
            " 1   group    18268 non-null  object\n",
            " 2   ab_test  18268 non-null  object\n",
            "dtypes: object(3)\n",
            "memory usage: 428.3+ KB\n"
          ]
        },
        {
          "output_type": "display_data",
          "data": {
            "text/plain": [
              "None"
            ]
          },
          "metadata": {}
        }
      ],
      "source": [
        "for t in tabs:\n",
        "    display(t.info())"
      ]
    },
    {
      "cell_type": "code",
      "execution_count": 7,
      "metadata": {
        "colab": {
          "base_uri": "https://localhost:8080/"
        },
        "id": "l18SJQqxY68z",
        "outputId": "6e665953-bb98-4c76-d5b9-ffa68ef128b8"
      },
      "outputs": [
        {
          "output_type": "execute_result",
          "data": {
            "text/plain": [
              "array(['purchase', 'product_cart', 'product_page', 'login'], dtype=object)"
            ]
          },
          "metadata": {},
          "execution_count": 7
        }
      ],
      "source": [
        "events['event_name'].unique()"
      ]
    },
    {
      "cell_type": "code",
      "execution_count": 8,
      "metadata": {
        "colab": {
          "base_uri": "https://localhost:8080/"
        },
        "id": "LQ_PDsruY680",
        "outputId": "4e45b099-a095-4fa2-c270-532240b73444"
      },
      "outputs": [
        {
          "output_type": "execute_result",
          "data": {
            "text/plain": [
              "array(['product_cart', 'product_page', 'login'], dtype=object)"
            ]
          },
          "metadata": {},
          "execution_count": 8
        }
      ],
      "source": [
        "events.query('details.isna() == True')['event_name'].unique()"
      ]
    },
    {
      "cell_type": "markdown",
      "metadata": {
        "id": "G56GeyV1Y680"
      },
      "source": [
        "**Подитог:** дупликатов нет, даты - даты, пропусков нет, кроме details в events, которые показывают стоимость покупки и присутствуют только в событии purchase."
      ]
    },
    {
      "cell_type": "markdown",
      "metadata": {
        "id": "s7hWGwCxY682"
      },
      "source": [
        "Подготовлю общую таблицу."
      ]
    },
    {
      "cell_type": "code",
      "execution_count": 9,
      "metadata": {
        "colab": {
          "base_uri": "https://localhost:8080/",
          "height": 423
        },
        "id": "7oYIryRtY682",
        "outputId": "1794542b-a6bb-4c85-bfee-402e04cbedfc"
      },
      "outputs": [
        {
          "output_type": "execute_result",
          "data": {
            "text/plain": [
              "                user_id  first_date     region   device group  \\\n",
              "0      D72A72121175D8BE  2020-12-07         EU       PC     A   \n",
              "1      F1C668619DFE6E65  2020-12-07  N.America  Android   NaN   \n",
              "2      2E1BF1D4C37EA01F  2020-12-07         EU       PC     A   \n",
              "3      50734A22C0C63768  2020-12-07         EU   iPhone     B   \n",
              "4      E1BDDCE0DAFA2679  2020-12-07  N.America   iPhone   NaN   \n",
              "...                 ...         ...        ...      ...   ...   \n",
              "63330  1DB53B933257165D  2020-12-20         EU  Android   NaN   \n",
              "63331  538643EB4527ED03  2020-12-20         EU      Mac   NaN   \n",
              "63332  7ADEE837D5D8CBBD  2020-12-20         EU       PC   NaN   \n",
              "63333  1C7D23927835213F  2020-12-20         EU   iPhone     B   \n",
              "63334  8F04273BB2860229  2020-12-20         EU  Android   NaN   \n",
              "\n",
              "                       ab_test  \n",
              "0      recommender_system_test  \n",
              "1                          NaN  \n",
              "2            interface_eu_test  \n",
              "3            interface_eu_test  \n",
              "4                          NaN  \n",
              "...                        ...  \n",
              "63330                      NaN  \n",
              "63331                      NaN  \n",
              "63332                      NaN  \n",
              "63333        interface_eu_test  \n",
              "63334                      NaN  \n",
              "\n",
              "[63335 rows x 6 columns]"
            ],
            "text/html": [
              "\n",
              "  <div id=\"df-a229cf3a-9995-4658-baa7-fb255f3b939e\">\n",
              "    <div class=\"colab-df-container\">\n",
              "      <div>\n",
              "<style scoped>\n",
              "    .dataframe tbody tr th:only-of-type {\n",
              "        vertical-align: middle;\n",
              "    }\n",
              "\n",
              "    .dataframe tbody tr th {\n",
              "        vertical-align: top;\n",
              "    }\n",
              "\n",
              "    .dataframe thead th {\n",
              "        text-align: right;\n",
              "    }\n",
              "</style>\n",
              "<table border=\"1\" class=\"dataframe\">\n",
              "  <thead>\n",
              "    <tr style=\"text-align: right;\">\n",
              "      <th></th>\n",
              "      <th>user_id</th>\n",
              "      <th>first_date</th>\n",
              "      <th>region</th>\n",
              "      <th>device</th>\n",
              "      <th>group</th>\n",
              "      <th>ab_test</th>\n",
              "    </tr>\n",
              "  </thead>\n",
              "  <tbody>\n",
              "    <tr>\n",
              "      <th>0</th>\n",
              "      <td>D72A72121175D8BE</td>\n",
              "      <td>2020-12-07</td>\n",
              "      <td>EU</td>\n",
              "      <td>PC</td>\n",
              "      <td>A</td>\n",
              "      <td>recommender_system_test</td>\n",
              "    </tr>\n",
              "    <tr>\n",
              "      <th>1</th>\n",
              "      <td>F1C668619DFE6E65</td>\n",
              "      <td>2020-12-07</td>\n",
              "      <td>N.America</td>\n",
              "      <td>Android</td>\n",
              "      <td>NaN</td>\n",
              "      <td>NaN</td>\n",
              "    </tr>\n",
              "    <tr>\n",
              "      <th>2</th>\n",
              "      <td>2E1BF1D4C37EA01F</td>\n",
              "      <td>2020-12-07</td>\n",
              "      <td>EU</td>\n",
              "      <td>PC</td>\n",
              "      <td>A</td>\n",
              "      <td>interface_eu_test</td>\n",
              "    </tr>\n",
              "    <tr>\n",
              "      <th>3</th>\n",
              "      <td>50734A22C0C63768</td>\n",
              "      <td>2020-12-07</td>\n",
              "      <td>EU</td>\n",
              "      <td>iPhone</td>\n",
              "      <td>B</td>\n",
              "      <td>interface_eu_test</td>\n",
              "    </tr>\n",
              "    <tr>\n",
              "      <th>4</th>\n",
              "      <td>E1BDDCE0DAFA2679</td>\n",
              "      <td>2020-12-07</td>\n",
              "      <td>N.America</td>\n",
              "      <td>iPhone</td>\n",
              "      <td>NaN</td>\n",
              "      <td>NaN</td>\n",
              "    </tr>\n",
              "    <tr>\n",
              "      <th>...</th>\n",
              "      <td>...</td>\n",
              "      <td>...</td>\n",
              "      <td>...</td>\n",
              "      <td>...</td>\n",
              "      <td>...</td>\n",
              "      <td>...</td>\n",
              "    </tr>\n",
              "    <tr>\n",
              "      <th>63330</th>\n",
              "      <td>1DB53B933257165D</td>\n",
              "      <td>2020-12-20</td>\n",
              "      <td>EU</td>\n",
              "      <td>Android</td>\n",
              "      <td>NaN</td>\n",
              "      <td>NaN</td>\n",
              "    </tr>\n",
              "    <tr>\n",
              "      <th>63331</th>\n",
              "      <td>538643EB4527ED03</td>\n",
              "      <td>2020-12-20</td>\n",
              "      <td>EU</td>\n",
              "      <td>Mac</td>\n",
              "      <td>NaN</td>\n",
              "      <td>NaN</td>\n",
              "    </tr>\n",
              "    <tr>\n",
              "      <th>63332</th>\n",
              "      <td>7ADEE837D5D8CBBD</td>\n",
              "      <td>2020-12-20</td>\n",
              "      <td>EU</td>\n",
              "      <td>PC</td>\n",
              "      <td>NaN</td>\n",
              "      <td>NaN</td>\n",
              "    </tr>\n",
              "    <tr>\n",
              "      <th>63333</th>\n",
              "      <td>1C7D23927835213F</td>\n",
              "      <td>2020-12-20</td>\n",
              "      <td>EU</td>\n",
              "      <td>iPhone</td>\n",
              "      <td>B</td>\n",
              "      <td>interface_eu_test</td>\n",
              "    </tr>\n",
              "    <tr>\n",
              "      <th>63334</th>\n",
              "      <td>8F04273BB2860229</td>\n",
              "      <td>2020-12-20</td>\n",
              "      <td>EU</td>\n",
              "      <td>Android</td>\n",
              "      <td>NaN</td>\n",
              "      <td>NaN</td>\n",
              "    </tr>\n",
              "  </tbody>\n",
              "</table>\n",
              "<p>63335 rows × 6 columns</p>\n",
              "</div>\n",
              "      <button class=\"colab-df-convert\" onclick=\"convertToInteractive('df-a229cf3a-9995-4658-baa7-fb255f3b939e')\"\n",
              "              title=\"Convert this dataframe to an interactive table.\"\n",
              "              style=\"display:none;\">\n",
              "        \n",
              "  <svg xmlns=\"http://www.w3.org/2000/svg\" height=\"24px\"viewBox=\"0 0 24 24\"\n",
              "       width=\"24px\">\n",
              "    <path d=\"M0 0h24v24H0V0z\" fill=\"none\"/>\n",
              "    <path d=\"M18.56 5.44l.94 2.06.94-2.06 2.06-.94-2.06-.94-.94-2.06-.94 2.06-2.06.94zm-11 1L8.5 8.5l.94-2.06 2.06-.94-2.06-.94L8.5 2.5l-.94 2.06-2.06.94zm10 10l.94 2.06.94-2.06 2.06-.94-2.06-.94-.94-2.06-.94 2.06-2.06.94z\"/><path d=\"M17.41 7.96l-1.37-1.37c-.4-.4-.92-.59-1.43-.59-.52 0-1.04.2-1.43.59L10.3 9.45l-7.72 7.72c-.78.78-.78 2.05 0 2.83L4 21.41c.39.39.9.59 1.41.59.51 0 1.02-.2 1.41-.59l7.78-7.78 2.81-2.81c.8-.78.8-2.07 0-2.86zM5.41 20L4 18.59l7.72-7.72 1.47 1.35L5.41 20z\"/>\n",
              "  </svg>\n",
              "      </button>\n",
              "      \n",
              "  <style>\n",
              "    .colab-df-container {\n",
              "      display:flex;\n",
              "      flex-wrap:wrap;\n",
              "      gap: 12px;\n",
              "    }\n",
              "\n",
              "    .colab-df-convert {\n",
              "      background-color: #E8F0FE;\n",
              "      border: none;\n",
              "      border-radius: 50%;\n",
              "      cursor: pointer;\n",
              "      display: none;\n",
              "      fill: #1967D2;\n",
              "      height: 32px;\n",
              "      padding: 0 0 0 0;\n",
              "      width: 32px;\n",
              "    }\n",
              "\n",
              "    .colab-df-convert:hover {\n",
              "      background-color: #E2EBFA;\n",
              "      box-shadow: 0px 1px 2px rgba(60, 64, 67, 0.3), 0px 1px 3px 1px rgba(60, 64, 67, 0.15);\n",
              "      fill: #174EA6;\n",
              "    }\n",
              "\n",
              "    [theme=dark] .colab-df-convert {\n",
              "      background-color: #3B4455;\n",
              "      fill: #D2E3FC;\n",
              "    }\n",
              "\n",
              "    [theme=dark] .colab-df-convert:hover {\n",
              "      background-color: #434B5C;\n",
              "      box-shadow: 0px 1px 3px 1px rgba(0, 0, 0, 0.15);\n",
              "      filter: drop-shadow(0px 1px 2px rgba(0, 0, 0, 0.3));\n",
              "      fill: #FFFFFF;\n",
              "    }\n",
              "  </style>\n",
              "\n",
              "      <script>\n",
              "        const buttonEl =\n",
              "          document.querySelector('#df-a229cf3a-9995-4658-baa7-fb255f3b939e button.colab-df-convert');\n",
              "        buttonEl.style.display =\n",
              "          google.colab.kernel.accessAllowed ? 'block' : 'none';\n",
              "\n",
              "        async function convertToInteractive(key) {\n",
              "          const element = document.querySelector('#df-a229cf3a-9995-4658-baa7-fb255f3b939e');\n",
              "          const dataTable =\n",
              "            await google.colab.kernel.invokeFunction('convertToInteractive',\n",
              "                                                     [key], {});\n",
              "          if (!dataTable) return;\n",
              "\n",
              "          const docLinkHtml = 'Like what you see? Visit the ' +\n",
              "            '<a target=\"_blank\" href=https://colab.research.google.com/notebooks/data_table.ipynb>data table notebook</a>'\n",
              "            + ' to learn more about interactive tables.';\n",
              "          element.innerHTML = '';\n",
              "          dataTable['output_type'] = 'display_data';\n",
              "          await google.colab.output.renderOutput(dataTable, element);\n",
              "          const docLink = document.createElement('div');\n",
              "          docLink.innerHTML = docLinkHtml;\n",
              "          element.appendChild(docLink);\n",
              "        }\n",
              "      </script>\n",
              "    </div>\n",
              "  </div>\n",
              "  "
            ]
          },
          "metadata": {},
          "execution_count": 9
        }
      ],
      "source": [
        "df = pd.merge(new_users, participants, on = 'user_id',how='outer')\n",
        "df"
      ]
    },
    {
      "cell_type": "markdown",
      "metadata": {
        "id": "-J4mQUMTY683"
      },
      "source": [
        "Удалим пользователей, не участвовших в тесте."
      ]
    },
    {
      "cell_type": "code",
      "execution_count": 10,
      "metadata": {
        "id": "zMo9o5jkY683"
      },
      "outputs": [],
      "source": [
        "df = df.dropna(subset=['ab_test'])"
      ]
    },
    {
      "cell_type": "markdown",
      "metadata": {
        "id": "eU8aaW80Y683"
      },
      "source": [
        "Посмотрим на период проведения теста."
      ]
    },
    {
      "cell_type": "code",
      "execution_count": 11,
      "metadata": {
        "id": "blVjuOBEY684"
      },
      "outputs": [],
      "source": [
        "#df['first_date'].agg({'min','max'})"
      ]
    },
    {
      "cell_type": "code",
      "execution_count": 12,
      "metadata": {
        "colab": {
          "base_uri": "https://localhost:8080/"
        },
        "id": "fdmNptTAY685",
        "outputId": "f4bf50dd-56f2-4343-f3c1-de510749c582"
      },
      "outputs": [
        {
          "output_type": "execute_result",
          "data": {
            "text/plain": [
              "min    2020-12-07\n",
              "max    2020-12-21\n",
              "Name: first_date, dtype: object"
            ]
          },
          "metadata": {},
          "execution_count": 12
        }
      ],
      "source": [
        "df.query('ab_test == \"recommender_system_test\"')['first_date'].agg({'min','max'})"
      ]
    },
    {
      "cell_type": "code",
      "execution_count": 13,
      "metadata": {
        "id": "ZBVHhO1qY686"
      },
      "outputs": [],
      "source": [
        "df = df.rename(columns = {'first_date':'dt'})\n",
        "df['dt'] = pd.to_datetime(df['dt'])\n",
        "#df.head()"
      ]
    },
    {
      "cell_type": "markdown",
      "metadata": {
        "id": "uyC78b95Y686"
      },
      "source": [
        "По ТЗ дата начала: 2020-12-07, а окончания: 2020-12-21."
      ]
    },
    {
      "cell_type": "code",
      "execution_count": 14,
      "metadata": {
        "colab": {
          "base_uri": "https://localhost:8080/",
          "height": 206
        },
        "id": "cnbaN1ewY686",
        "outputId": "a06c8378-a856-45dd-995d-e1f2a26e4bc1"
      },
      "outputs": [
        {
          "output_type": "execute_result",
          "data": {
            "text/plain": [
              "             user_id         dt region  device group                  ab_test\n",
              "0   D72A72121175D8BE 2020-12-07     EU      PC     A  recommender_system_test\n",
              "2   2E1BF1D4C37EA01F 2020-12-07     EU      PC     A        interface_eu_test\n",
              "3   50734A22C0C63768 2020-12-07     EU  iPhone     B        interface_eu_test\n",
              "13  E6DE857AFBDC6102 2020-12-07     EU      PC     B  recommender_system_test\n",
              "14  E6DE857AFBDC6102 2020-12-07     EU      PC     B        interface_eu_test"
            ],
            "text/html": [
              "\n",
              "  <div id=\"df-d39d570a-855a-4d1c-92aa-80c731e838a9\">\n",
              "    <div class=\"colab-df-container\">\n",
              "      <div>\n",
              "<style scoped>\n",
              "    .dataframe tbody tr th:only-of-type {\n",
              "        vertical-align: middle;\n",
              "    }\n",
              "\n",
              "    .dataframe tbody tr th {\n",
              "        vertical-align: top;\n",
              "    }\n",
              "\n",
              "    .dataframe thead th {\n",
              "        text-align: right;\n",
              "    }\n",
              "</style>\n",
              "<table border=\"1\" class=\"dataframe\">\n",
              "  <thead>\n",
              "    <tr style=\"text-align: right;\">\n",
              "      <th></th>\n",
              "      <th>user_id</th>\n",
              "      <th>dt</th>\n",
              "      <th>region</th>\n",
              "      <th>device</th>\n",
              "      <th>group</th>\n",
              "      <th>ab_test</th>\n",
              "    </tr>\n",
              "  </thead>\n",
              "  <tbody>\n",
              "    <tr>\n",
              "      <th>0</th>\n",
              "      <td>D72A72121175D8BE</td>\n",
              "      <td>2020-12-07</td>\n",
              "      <td>EU</td>\n",
              "      <td>PC</td>\n",
              "      <td>A</td>\n",
              "      <td>recommender_system_test</td>\n",
              "    </tr>\n",
              "    <tr>\n",
              "      <th>2</th>\n",
              "      <td>2E1BF1D4C37EA01F</td>\n",
              "      <td>2020-12-07</td>\n",
              "      <td>EU</td>\n",
              "      <td>PC</td>\n",
              "      <td>A</td>\n",
              "      <td>interface_eu_test</td>\n",
              "    </tr>\n",
              "    <tr>\n",
              "      <th>3</th>\n",
              "      <td>50734A22C0C63768</td>\n",
              "      <td>2020-12-07</td>\n",
              "      <td>EU</td>\n",
              "      <td>iPhone</td>\n",
              "      <td>B</td>\n",
              "      <td>interface_eu_test</td>\n",
              "    </tr>\n",
              "    <tr>\n",
              "      <th>13</th>\n",
              "      <td>E6DE857AFBDC6102</td>\n",
              "      <td>2020-12-07</td>\n",
              "      <td>EU</td>\n",
              "      <td>PC</td>\n",
              "      <td>B</td>\n",
              "      <td>recommender_system_test</td>\n",
              "    </tr>\n",
              "    <tr>\n",
              "      <th>14</th>\n",
              "      <td>E6DE857AFBDC6102</td>\n",
              "      <td>2020-12-07</td>\n",
              "      <td>EU</td>\n",
              "      <td>PC</td>\n",
              "      <td>B</td>\n",
              "      <td>interface_eu_test</td>\n",
              "    </tr>\n",
              "  </tbody>\n",
              "</table>\n",
              "</div>\n",
              "      <button class=\"colab-df-convert\" onclick=\"convertToInteractive('df-d39d570a-855a-4d1c-92aa-80c731e838a9')\"\n",
              "              title=\"Convert this dataframe to an interactive table.\"\n",
              "              style=\"display:none;\">\n",
              "        \n",
              "  <svg xmlns=\"http://www.w3.org/2000/svg\" height=\"24px\"viewBox=\"0 0 24 24\"\n",
              "       width=\"24px\">\n",
              "    <path d=\"M0 0h24v24H0V0z\" fill=\"none\"/>\n",
              "    <path d=\"M18.56 5.44l.94 2.06.94-2.06 2.06-.94-2.06-.94-.94-2.06-.94 2.06-2.06.94zm-11 1L8.5 8.5l.94-2.06 2.06-.94-2.06-.94L8.5 2.5l-.94 2.06-2.06.94zm10 10l.94 2.06.94-2.06 2.06-.94-2.06-.94-.94-2.06-.94 2.06-2.06.94z\"/><path d=\"M17.41 7.96l-1.37-1.37c-.4-.4-.92-.59-1.43-.59-.52 0-1.04.2-1.43.59L10.3 9.45l-7.72 7.72c-.78.78-.78 2.05 0 2.83L4 21.41c.39.39.9.59 1.41.59.51 0 1.02-.2 1.41-.59l7.78-7.78 2.81-2.81c.8-.78.8-2.07 0-2.86zM5.41 20L4 18.59l7.72-7.72 1.47 1.35L5.41 20z\"/>\n",
              "  </svg>\n",
              "      </button>\n",
              "      \n",
              "  <style>\n",
              "    .colab-df-container {\n",
              "      display:flex;\n",
              "      flex-wrap:wrap;\n",
              "      gap: 12px;\n",
              "    }\n",
              "\n",
              "    .colab-df-convert {\n",
              "      background-color: #E8F0FE;\n",
              "      border: none;\n",
              "      border-radius: 50%;\n",
              "      cursor: pointer;\n",
              "      display: none;\n",
              "      fill: #1967D2;\n",
              "      height: 32px;\n",
              "      padding: 0 0 0 0;\n",
              "      width: 32px;\n",
              "    }\n",
              "\n",
              "    .colab-df-convert:hover {\n",
              "      background-color: #E2EBFA;\n",
              "      box-shadow: 0px 1px 2px rgba(60, 64, 67, 0.3), 0px 1px 3px 1px rgba(60, 64, 67, 0.15);\n",
              "      fill: #174EA6;\n",
              "    }\n",
              "\n",
              "    [theme=dark] .colab-df-convert {\n",
              "      background-color: #3B4455;\n",
              "      fill: #D2E3FC;\n",
              "    }\n",
              "\n",
              "    [theme=dark] .colab-df-convert:hover {\n",
              "      background-color: #434B5C;\n",
              "      box-shadow: 0px 1px 3px 1px rgba(0, 0, 0, 0.15);\n",
              "      filter: drop-shadow(0px 1px 2px rgba(0, 0, 0, 0.3));\n",
              "      fill: #FFFFFF;\n",
              "    }\n",
              "  </style>\n",
              "\n",
              "      <script>\n",
              "        const buttonEl =\n",
              "          document.querySelector('#df-d39d570a-855a-4d1c-92aa-80c731e838a9 button.colab-df-convert');\n",
              "        buttonEl.style.display =\n",
              "          google.colab.kernel.accessAllowed ? 'block' : 'none';\n",
              "\n",
              "        async function convertToInteractive(key) {\n",
              "          const element = document.querySelector('#df-d39d570a-855a-4d1c-92aa-80c731e838a9');\n",
              "          const dataTable =\n",
              "            await google.colab.kernel.invokeFunction('convertToInteractive',\n",
              "                                                     [key], {});\n",
              "          if (!dataTable) return;\n",
              "\n",
              "          const docLinkHtml = 'Like what you see? Visit the ' +\n",
              "            '<a target=\"_blank\" href=https://colab.research.google.com/notebooks/data_table.ipynb>data table notebook</a>'\n",
              "            + ' to learn more about interactive tables.';\n",
              "          element.innerHTML = '';\n",
              "          dataTable['output_type'] = 'display_data';\n",
              "          await google.colab.output.renderOutput(dataTable, element);\n",
              "          const docLink = document.createElement('div');\n",
              "          docLink.innerHTML = docLinkHtml;\n",
              "          element.appendChild(docLink);\n",
              "        }\n",
              "      </script>\n",
              "    </div>\n",
              "  </div>\n",
              "  "
            ]
          },
          "metadata": {},
          "execution_count": 14
        }
      ],
      "source": [
        "df = df.query('dt >= \"2020-12-07\" & dt <= \"2020-12-21\"')\n",
        "df.head()"
      ]
    },
    {
      "cell_type": "markdown",
      "metadata": {
        "id": "NOXrhC5VY69F"
      },
      "source": [
        "Найдем ребят, попавших в оба теста."
      ]
    },
    {
      "cell_type": "code",
      "execution_count": 15,
      "metadata": {
        "colab": {
          "base_uri": "https://localhost:8080/"
        },
        "id": "rBX3Kko_Y69G",
        "outputId": "fae870df-3d46-4c30-cb41-316ad844e773"
      },
      "outputs": [
        {
          "output_type": "execute_result",
          "data": {
            "text/plain": [
              "group    776\n",
              "dtype: int64"
            ]
          },
          "metadata": {},
          "execution_count": 15
        }
      ],
      "source": [
        "df.groupby('user_id').agg({'group' : 'nunique'}).query('group>1').count()"
      ]
    },
    {
      "cell_type": "markdown",
      "metadata": {
        "id": "YzMNOEUTY69G"
      },
      "source": [
        "Количество пользователей в тесте интерфеса"
      ]
    },
    {
      "cell_type": "code",
      "execution_count": 16,
      "metadata": {
        "colab": {
          "base_uri": "https://localhost:8080/"
        },
        "id": "RlqY1BTKY69H",
        "outputId": "00dc26b0-2737-40ba-c545-2d168869f2e4"
      },
      "outputs": [
        {
          "output_type": "execute_result",
          "data": {
            "text/plain": [
              "10565"
            ]
          },
          "metadata": {},
          "execution_count": 16
        }
      ],
      "source": [
        "i_e_test = df.query('ab_test == \"interface_eu_test\"')['user_id'].nunique()\n",
        "i_e_test"
      ]
    },
    {
      "cell_type": "markdown",
      "metadata": {
        "id": "AfN8yIC6Y69H"
      },
      "source": [
        "Количество пользователей в рекомендованном тесте"
      ]
    },
    {
      "cell_type": "code",
      "execution_count": 17,
      "metadata": {
        "colab": {
          "base_uri": "https://localhost:8080/"
        },
        "id": "TSGSJs_qY69H",
        "outputId": "cf74bb0d-8289-43fb-faff-d77866da9a43"
      },
      "outputs": [
        {
          "output_type": "execute_result",
          "data": {
            "text/plain": [
              "6701"
            ]
          },
          "metadata": {},
          "execution_count": 17
        }
      ],
      "source": [
        "r_s_test = df.query('ab_test == \"recommender_system_test\"')['user_id'].nunique()\n",
        "r_s_test"
      ]
    },
    {
      "cell_type": "markdown",
      "metadata": {
        "id": "LyMS66UtY69I"
      },
      "source": [
        "Всего пользователей"
      ]
    },
    {
      "cell_type": "code",
      "execution_count": 18,
      "metadata": {
        "colab": {
          "base_uri": "https://localhost:8080/"
        },
        "id": "bfjeRa1qY69I",
        "outputId": "6a4cf134-b73b-4993-e891-b2fbe010a30f"
      },
      "outputs": [
        {
          "output_type": "execute_result",
          "data": {
            "text/plain": [
              "17266"
            ]
          },
          "metadata": {},
          "execution_count": 18
        }
      ],
      "source": [
        "users_cnt_sum = i_e_test+r_s_test\n",
        "users_cnt_sum"
      ]
    },
    {
      "cell_type": "code",
      "execution_count": 19,
      "metadata": {
        "colab": {
          "base_uri": "https://localhost:8080/"
        },
        "id": "ON67enVqY69I",
        "outputId": "a209c6f1-afd3-4fe0-8715-c743bad0c359"
      },
      "outputs": [
        {
          "output_type": "execute_result",
          "data": {
            "text/plain": [
              "15664"
            ]
          },
          "metadata": {},
          "execution_count": 19
        }
      ],
      "source": [
        "#check\n",
        "df['user_id'].nunique()"
      ]
    },
    {
      "cell_type": "markdown",
      "metadata": {
        "id": "UcoT2pG-Y69I"
      },
      "source": [
        "Разница:"
      ]
    },
    {
      "cell_type": "code",
      "execution_count": 20,
      "metadata": {
        "colab": {
          "base_uri": "https://localhost:8080/"
        },
        "id": "5hqbVnp5Y69J",
        "outputId": "cc87d046-ba75-49db-e9d3-d3eda13f44f7"
      },
      "outputs": [
        {
          "output_type": "execute_result",
          "data": {
            "text/plain": [
              "1602"
            ]
          },
          "metadata": {},
          "execution_count": 20
        }
      ],
      "source": [
        "users_cnt_sum - df['user_id'].nunique()"
      ]
    },
    {
      "cell_type": "markdown",
      "metadata": {
        "id": "jla19y10Y69J"
      },
      "source": [
        "Или можно сделать вот так, как я сделал изначально, просто не учел тесты, а считал по группам:"
      ]
    },
    {
      "cell_type": "code",
      "execution_count": 21,
      "metadata": {
        "colab": {
          "base_uri": "https://localhost:8080/"
        },
        "id": "KdiLswBPY69J",
        "outputId": "9da3abf8-28dc-4e33-ed07-2f11a6d131f1"
      },
      "outputs": [
        {
          "output_type": "execute_result",
          "data": {
            "text/plain": [
              "ab_test    1602\n",
              "dtype: int64"
            ]
          },
          "metadata": {},
          "execution_count": 21
        }
      ],
      "source": [
        "df.groupby('user_id').agg({'ab_test' : 'nunique'}).query('ab_test>1').count()"
      ]
    },
    {
      "cell_type": "markdown",
      "metadata": {
        "id": "NOuc4z2VY69K"
      },
      "source": [
        "Удалим двойных агентов."
      ]
    },
    {
      "cell_type": "code",
      "execution_count": 22,
      "metadata": {
        "id": "zCpLuL5sY69K"
      },
      "outputs": [],
      "source": [
        "two_tests_users = df.groupby('user_id').agg({'ab_test' : 'nunique'}).reset_index().query('ab_test>1')['user_id'].unique()"
      ]
    },
    {
      "cell_type": "code",
      "execution_count": 23,
      "metadata": {
        "id": "TL9N6IEBY69K"
      },
      "outputs": [],
      "source": [
        "df = df.query('user_id not in @two_tests_users')"
      ]
    },
    {
      "cell_type": "code",
      "execution_count": 24,
      "metadata": {
        "id": "n5MJClnPY69K"
      },
      "outputs": [],
      "source": [
        "ab_users = df.groupby('user_id').agg({'group' : 'nunique'}).reset_index().query('group>1')['user_id'].unique()\n",
        "df = df.query('user_id not in @ab_users')"
      ]
    },
    {
      "cell_type": "markdown",
      "metadata": {
        "id": "PPr20YT9Y69L"
      },
      "source": [
        "Проверяю:"
      ]
    },
    {
      "cell_type": "code",
      "execution_count": 25,
      "metadata": {
        "id": "1NAj-QODY69L"
      },
      "outputs": [],
      "source": [
        "df_rec = df.query('ab_test == \"recommender_system_test\"')"
      ]
    },
    {
      "cell_type": "markdown",
      "metadata": {
        "id": "k56qfbCvY69L"
      },
      "source": [
        "Группа А"
      ]
    },
    {
      "cell_type": "code",
      "execution_count": 26,
      "metadata": {
        "colab": {
          "base_uri": "https://localhost:8080/"
        },
        "id": "TiBzI3AcY69M",
        "outputId": "b0499fde-62e2-4feb-dbdc-230d2c4b3152"
      },
      "outputs": [
        {
          "output_type": "execute_result",
          "data": {
            "text/plain": [
              "2903"
            ]
          },
          "metadata": {},
          "execution_count": 26
        }
      ],
      "source": [
        "df_rec.query('group == \"A\"')['user_id'].nunique()"
      ]
    },
    {
      "cell_type": "markdown",
      "metadata": {
        "id": "XQkE05SIY69M"
      },
      "source": [
        "Группа В"
      ]
    },
    {
      "cell_type": "code",
      "execution_count": 27,
      "metadata": {
        "scrolled": true,
        "colab": {
          "base_uri": "https://localhost:8080/"
        },
        "id": "GD2jCqOkY69M",
        "outputId": "ca19908e-4574-4ccd-9d6f-712068d36287"
      },
      "outputs": [
        {
          "output_type": "execute_result",
          "data": {
            "text/plain": [
              "2196"
            ]
          },
          "metadata": {},
          "execution_count": 27
        }
      ],
      "source": [
        "df_rec.query('group == \"B\"')['user_id'].nunique()"
      ]
    },
    {
      "cell_type": "markdown",
      "metadata": {
        "id": "bXnZXCM0Y69N"
      },
      "source": [
        "Всего:"
      ]
    },
    {
      "cell_type": "code",
      "execution_count": 28,
      "metadata": {
        "colab": {
          "base_uri": "https://localhost:8080/"
        },
        "id": "HIsUaXApY69N",
        "outputId": "ecb9a8d1-6231-4cf3-d501-6c1c34e7e325"
      },
      "outputs": [
        {
          "output_type": "execute_result",
          "data": {
            "text/plain": [
              "5099"
            ]
          },
          "metadata": {},
          "execution_count": 28
        }
      ],
      "source": [
        "df_rec['user_id'].nunique()"
      ]
    },
    {
      "cell_type": "markdown",
      "metadata": {
        "id": "eV4woNg_Y69N"
      },
      "source": [
        "Разница"
      ]
    },
    {
      "cell_type": "code",
      "execution_count": 29,
      "metadata": {
        "colab": {
          "base_uri": "https://localhost:8080/"
        },
        "id": "aOUcZutyY69N",
        "outputId": "e2e1a4cf-29a2-490e-b2fa-1f9440d8f948"
      },
      "outputs": [
        {
          "output_type": "execute_result",
          "data": {
            "text/plain": [
              "0"
            ]
          },
          "metadata": {},
          "execution_count": 29
        }
      ],
      "source": [
        "df_rec['user_id'].nunique() - df_rec.query('group == \"A\"')['user_id'].nunique() - df_rec.query('group == \"B\"')['user_id'].nunique()"
      ]
    },
    {
      "cell_type": "markdown",
      "metadata": {
        "id": "oaVaQa7VY69O"
      },
      "source": [
        "Или так:"
      ]
    },
    {
      "cell_type": "code",
      "execution_count": 30,
      "metadata": {
        "colab": {
          "base_uri": "https://localhost:8080/"
        },
        "id": "xvYqwO2dY69O",
        "outputId": "7288a2a7-03cc-404e-ddcf-73d8381c0305"
      },
      "outputs": [
        {
          "output_type": "execute_result",
          "data": {
            "text/plain": [
              "group    0\n",
              "dtype: int64"
            ]
          },
          "metadata": {},
          "execution_count": 30
        }
      ],
      "source": [
        "#df_rec = df.query('ab_test == \"recommender_system_test\"')\n",
        "#display(df_rec)\n",
        "df_rec.groupby('user_id').agg({'group' : 'nunique'}).query('group>1').count()"
      ]
    },
    {
      "cell_type": "markdown",
      "metadata": {
        "id": "dK3cEMEdY69O"
      },
      "source": [
        "Не нашлось таких ребят"
      ]
    },
    {
      "cell_type": "markdown",
      "metadata": {
        "id": "kw_QjdDCY69P"
      },
      "source": [
        "Далее Считаем прибывших европейцев:"
      ]
    },
    {
      "cell_type": "code",
      "execution_count": 31,
      "metadata": {
        "colab": {
          "base_uri": "https://localhost:8080/"
        },
        "id": "_MweMbJhY69P",
        "outputId": "006a10dd-6d90-4f13-fba1-5fcf9b13e22f"
      },
      "outputs": [
        {
          "output_type": "execute_result",
          "data": {
            "text/plain": [
              "4749"
            ]
          },
          "metadata": {},
          "execution_count": 31
        }
      ],
      "source": [
        "new_eu_users = df.query('region == \"EU\" & ab_test == \"recommender_system_test\"')['user_id'].nunique()\n",
        "new_eu_users"
      ]
    },
    {
      "cell_type": "markdown",
      "metadata": {
        "id": "jtjmBbFYY69P"
      },
      "source": [
        "Всего пользователей за период:"
      ]
    },
    {
      "cell_type": "code",
      "execution_count": 32,
      "metadata": {
        "colab": {
          "base_uri": "https://localhost:8080/"
        },
        "id": "mtvp0fxYY69P",
        "outputId": "c91c3efb-69fb-4bb2-b1d3-4a3f1805153c"
      },
      "outputs": [
        {
          "output_type": "execute_result",
          "data": {
            "text/plain": [
              "42340"
            ]
          },
          "metadata": {},
          "execution_count": 32
        }
      ],
      "source": [
        "new_users['first_date'] = pd.to_datetime(new_users['first_date'])\n",
        "users_cnt = new_users.query('region == \"EU\" & first_date >= \"2020-12-07\" & first_date <= \"2020-12-21\"')['user_id'].nunique()\n",
        "users_cnt"
      ]
    },
    {
      "cell_type": "markdown",
      "metadata": {
        "id": "xvcmXh3kY69Q"
      },
      "source": [
        "Считаем % евро-ребят:"
      ]
    },
    {
      "cell_type": "code",
      "execution_count": 33,
      "metadata": {
        "scrolled": true,
        "colab": {
          "base_uri": "https://localhost:8080/"
        },
        "id": "-BzQ_0jSY69Q",
        "outputId": "351c1b30-ac3e-4ee2-bfcc-7f27b2b12af6"
      },
      "outputs": [
        {
          "output_type": "execute_result",
          "data": {
            "text/plain": [
              "11.216343882853094"
            ]
          },
          "metadata": {},
          "execution_count": 33
        }
      ],
      "source": [
        "new_eu_users/users_cnt*100"
      ]
    },
    {
      "cell_type": "markdown",
      "metadata": {
        "id": "ai4KuQvMY69Q"
      },
      "source": [
        "Итого: 11.2% Европейцев - до 15% не дотянули."
      ]
    },
    {
      "cell_type": "markdown",
      "metadata": {
        "id": "Ct6Y6kCHY69S"
      },
      "source": [
        "Проверим пересечение с рекламными ивентами:"
      ]
    },
    {
      "cell_type": "code",
      "execution_count": 34,
      "metadata": {
        "colab": {
          "base_uri": "https://localhost:8080/",
          "height": 583
        },
        "id": "KFRSl0XKY69S",
        "outputId": "09007ff9-424c-4f06-d9d3-c8a33af087bb"
      },
      "outputs": [
        {
          "output_type": "display_data",
          "data": {
            "text/plain": [
              "                                name                   regions   start_dt  \\\n",
              "0           Christmas&New Year Promo             EU, N.America 2020-12-25   \n",
              "1       St. Valentine's Day Giveaway  EU, CIS, APAC, N.America 2020-02-14   \n",
              "2             St. Patric's Day Promo             EU, N.America 2020-03-17   \n",
              "3                       Easter Promo  EU, CIS, APAC, N.America 2020-04-12   \n",
              "4                  4th of July Promo                 N.America 2020-07-04   \n",
              "5          Black Friday Ads Campaign  EU, CIS, APAC, N.America 2020-11-26   \n",
              "6             Chinese New Year Promo                      APAC 2020-01-25   \n",
              "7   Labor day (May 1st) Ads Campaign             EU, CIS, APAC 2020-05-01   \n",
              "8    International Women's Day Promo             EU, CIS, APAC 2020-03-08   \n",
              "9    Victory Day CIS (May 9th) Event                       CIS 2020-05-09   \n",
              "10         CIS New Year Gift Lottery                       CIS 2020-12-30   \n",
              "11     Dragon Boat Festival Giveaway                      APAC 2020-06-25   \n",
              "12           Single's Day Gift Promo                      APAC 2020-11-11   \n",
              "13             Chinese Moon Festival                      APAC 2020-10-01   \n",
              "\n",
              "    finish_dt  \n",
              "0  2021-01-03  \n",
              "1  2020-02-16  \n",
              "2  2020-03-19  \n",
              "3  2020-04-19  \n",
              "4  2020-07-11  \n",
              "5  2020-12-01  \n",
              "6  2020-02-07  \n",
              "7  2020-05-03  \n",
              "8  2020-03-10  \n",
              "9  2020-05-11  \n",
              "10 2021-01-07  \n",
              "11 2020-07-01  \n",
              "12 2020-11-12  \n",
              "13 2020-10-07  "
            ],
            "text/html": [
              "\n",
              "  <div id=\"df-3f004c62-e502-41a8-882c-bc5858552d2f\">\n",
              "    <div class=\"colab-df-container\">\n",
              "      <div>\n",
              "<style scoped>\n",
              "    .dataframe tbody tr th:only-of-type {\n",
              "        vertical-align: middle;\n",
              "    }\n",
              "\n",
              "    .dataframe tbody tr th {\n",
              "        vertical-align: top;\n",
              "    }\n",
              "\n",
              "    .dataframe thead th {\n",
              "        text-align: right;\n",
              "    }\n",
              "</style>\n",
              "<table border=\"1\" class=\"dataframe\">\n",
              "  <thead>\n",
              "    <tr style=\"text-align: right;\">\n",
              "      <th></th>\n",
              "      <th>name</th>\n",
              "      <th>regions</th>\n",
              "      <th>start_dt</th>\n",
              "      <th>finish_dt</th>\n",
              "    </tr>\n",
              "  </thead>\n",
              "  <tbody>\n",
              "    <tr>\n",
              "      <th>0</th>\n",
              "      <td>Christmas&amp;New Year Promo</td>\n",
              "      <td>EU, N.America</td>\n",
              "      <td>2020-12-25</td>\n",
              "      <td>2021-01-03</td>\n",
              "    </tr>\n",
              "    <tr>\n",
              "      <th>1</th>\n",
              "      <td>St. Valentine's Day Giveaway</td>\n",
              "      <td>EU, CIS, APAC, N.America</td>\n",
              "      <td>2020-02-14</td>\n",
              "      <td>2020-02-16</td>\n",
              "    </tr>\n",
              "    <tr>\n",
              "      <th>2</th>\n",
              "      <td>St. Patric's Day Promo</td>\n",
              "      <td>EU, N.America</td>\n",
              "      <td>2020-03-17</td>\n",
              "      <td>2020-03-19</td>\n",
              "    </tr>\n",
              "    <tr>\n",
              "      <th>3</th>\n",
              "      <td>Easter Promo</td>\n",
              "      <td>EU, CIS, APAC, N.America</td>\n",
              "      <td>2020-04-12</td>\n",
              "      <td>2020-04-19</td>\n",
              "    </tr>\n",
              "    <tr>\n",
              "      <th>4</th>\n",
              "      <td>4th of July Promo</td>\n",
              "      <td>N.America</td>\n",
              "      <td>2020-07-04</td>\n",
              "      <td>2020-07-11</td>\n",
              "    </tr>\n",
              "    <tr>\n",
              "      <th>5</th>\n",
              "      <td>Black Friday Ads Campaign</td>\n",
              "      <td>EU, CIS, APAC, N.America</td>\n",
              "      <td>2020-11-26</td>\n",
              "      <td>2020-12-01</td>\n",
              "    </tr>\n",
              "    <tr>\n",
              "      <th>6</th>\n",
              "      <td>Chinese New Year Promo</td>\n",
              "      <td>APAC</td>\n",
              "      <td>2020-01-25</td>\n",
              "      <td>2020-02-07</td>\n",
              "    </tr>\n",
              "    <tr>\n",
              "      <th>7</th>\n",
              "      <td>Labor day (May 1st) Ads Campaign</td>\n",
              "      <td>EU, CIS, APAC</td>\n",
              "      <td>2020-05-01</td>\n",
              "      <td>2020-05-03</td>\n",
              "    </tr>\n",
              "    <tr>\n",
              "      <th>8</th>\n",
              "      <td>International Women's Day Promo</td>\n",
              "      <td>EU, CIS, APAC</td>\n",
              "      <td>2020-03-08</td>\n",
              "      <td>2020-03-10</td>\n",
              "    </tr>\n",
              "    <tr>\n",
              "      <th>9</th>\n",
              "      <td>Victory Day CIS (May 9th) Event</td>\n",
              "      <td>CIS</td>\n",
              "      <td>2020-05-09</td>\n",
              "      <td>2020-05-11</td>\n",
              "    </tr>\n",
              "    <tr>\n",
              "      <th>10</th>\n",
              "      <td>CIS New Year Gift Lottery</td>\n",
              "      <td>CIS</td>\n",
              "      <td>2020-12-30</td>\n",
              "      <td>2021-01-07</td>\n",
              "    </tr>\n",
              "    <tr>\n",
              "      <th>11</th>\n",
              "      <td>Dragon Boat Festival Giveaway</td>\n",
              "      <td>APAC</td>\n",
              "      <td>2020-06-25</td>\n",
              "      <td>2020-07-01</td>\n",
              "    </tr>\n",
              "    <tr>\n",
              "      <th>12</th>\n",
              "      <td>Single's Day Gift Promo</td>\n",
              "      <td>APAC</td>\n",
              "      <td>2020-11-11</td>\n",
              "      <td>2020-11-12</td>\n",
              "    </tr>\n",
              "    <tr>\n",
              "      <th>13</th>\n",
              "      <td>Chinese Moon Festival</td>\n",
              "      <td>APAC</td>\n",
              "      <td>2020-10-01</td>\n",
              "      <td>2020-10-07</td>\n",
              "    </tr>\n",
              "  </tbody>\n",
              "</table>\n",
              "</div>\n",
              "      <button class=\"colab-df-convert\" onclick=\"convertToInteractive('df-3f004c62-e502-41a8-882c-bc5858552d2f')\"\n",
              "              title=\"Convert this dataframe to an interactive table.\"\n",
              "              style=\"display:none;\">\n",
              "        \n",
              "  <svg xmlns=\"http://www.w3.org/2000/svg\" height=\"24px\"viewBox=\"0 0 24 24\"\n",
              "       width=\"24px\">\n",
              "    <path d=\"M0 0h24v24H0V0z\" fill=\"none\"/>\n",
              "    <path d=\"M18.56 5.44l.94 2.06.94-2.06 2.06-.94-2.06-.94-.94-2.06-.94 2.06-2.06.94zm-11 1L8.5 8.5l.94-2.06 2.06-.94-2.06-.94L8.5 2.5l-.94 2.06-2.06.94zm10 10l.94 2.06.94-2.06 2.06-.94-2.06-.94-.94-2.06-.94 2.06-2.06.94z\"/><path d=\"M17.41 7.96l-1.37-1.37c-.4-.4-.92-.59-1.43-.59-.52 0-1.04.2-1.43.59L10.3 9.45l-7.72 7.72c-.78.78-.78 2.05 0 2.83L4 21.41c.39.39.9.59 1.41.59.51 0 1.02-.2 1.41-.59l7.78-7.78 2.81-2.81c.8-.78.8-2.07 0-2.86zM5.41 20L4 18.59l7.72-7.72 1.47 1.35L5.41 20z\"/>\n",
              "  </svg>\n",
              "      </button>\n",
              "      \n",
              "  <style>\n",
              "    .colab-df-container {\n",
              "      display:flex;\n",
              "      flex-wrap:wrap;\n",
              "      gap: 12px;\n",
              "    }\n",
              "\n",
              "    .colab-df-convert {\n",
              "      background-color: #E8F0FE;\n",
              "      border: none;\n",
              "      border-radius: 50%;\n",
              "      cursor: pointer;\n",
              "      display: none;\n",
              "      fill: #1967D2;\n",
              "      height: 32px;\n",
              "      padding: 0 0 0 0;\n",
              "      width: 32px;\n",
              "    }\n",
              "\n",
              "    .colab-df-convert:hover {\n",
              "      background-color: #E2EBFA;\n",
              "      box-shadow: 0px 1px 2px rgba(60, 64, 67, 0.3), 0px 1px 3px 1px rgba(60, 64, 67, 0.15);\n",
              "      fill: #174EA6;\n",
              "    }\n",
              "\n",
              "    [theme=dark] .colab-df-convert {\n",
              "      background-color: #3B4455;\n",
              "      fill: #D2E3FC;\n",
              "    }\n",
              "\n",
              "    [theme=dark] .colab-df-convert:hover {\n",
              "      background-color: #434B5C;\n",
              "      box-shadow: 0px 1px 3px 1px rgba(0, 0, 0, 0.15);\n",
              "      filter: drop-shadow(0px 1px 2px rgba(0, 0, 0, 0.3));\n",
              "      fill: #FFFFFF;\n",
              "    }\n",
              "  </style>\n",
              "\n",
              "      <script>\n",
              "        const buttonEl =\n",
              "          document.querySelector('#df-3f004c62-e502-41a8-882c-bc5858552d2f button.colab-df-convert');\n",
              "        buttonEl.style.display =\n",
              "          google.colab.kernel.accessAllowed ? 'block' : 'none';\n",
              "\n",
              "        async function convertToInteractive(key) {\n",
              "          const element = document.querySelector('#df-3f004c62-e502-41a8-882c-bc5858552d2f');\n",
              "          const dataTable =\n",
              "            await google.colab.kernel.invokeFunction('convertToInteractive',\n",
              "                                                     [key], {});\n",
              "          if (!dataTable) return;\n",
              "\n",
              "          const docLinkHtml = 'Like what you see? Visit the ' +\n",
              "            '<a target=\"_blank\" href=https://colab.research.google.com/notebooks/data_table.ipynb>data table notebook</a>'\n",
              "            + ' to learn more about interactive tables.';\n",
              "          element.innerHTML = '';\n",
              "          dataTable['output_type'] = 'display_data';\n",
              "          await google.colab.output.renderOutput(dataTable, element);\n",
              "          const docLink = document.createElement('div');\n",
              "          docLink.innerHTML = docLinkHtml;\n",
              "          element.appendChild(docLink);\n",
              "        }\n",
              "      </script>\n",
              "    </div>\n",
              "  </div>\n",
              "  "
            ]
          },
          "metadata": {}
        },
        {
          "output_type": "display_data",
          "data": {
            "text/plain": [
              "                         name        regions   start_dt  finish_dt\n",
              "0    Christmas&New Year Promo  EU, N.America 2020-12-25 2021-01-03\n",
              "10  CIS New Year Gift Lottery            CIS 2020-12-30 2021-01-07"
            ],
            "text/html": [
              "\n",
              "  <div id=\"df-91f3fe1c-765c-4c6a-8cbc-fd0da3efc592\">\n",
              "    <div class=\"colab-df-container\">\n",
              "      <div>\n",
              "<style scoped>\n",
              "    .dataframe tbody tr th:only-of-type {\n",
              "        vertical-align: middle;\n",
              "    }\n",
              "\n",
              "    .dataframe tbody tr th {\n",
              "        vertical-align: top;\n",
              "    }\n",
              "\n",
              "    .dataframe thead th {\n",
              "        text-align: right;\n",
              "    }\n",
              "</style>\n",
              "<table border=\"1\" class=\"dataframe\">\n",
              "  <thead>\n",
              "    <tr style=\"text-align: right;\">\n",
              "      <th></th>\n",
              "      <th>name</th>\n",
              "      <th>regions</th>\n",
              "      <th>start_dt</th>\n",
              "      <th>finish_dt</th>\n",
              "    </tr>\n",
              "  </thead>\n",
              "  <tbody>\n",
              "    <tr>\n",
              "      <th>0</th>\n",
              "      <td>Christmas&amp;New Year Promo</td>\n",
              "      <td>EU, N.America</td>\n",
              "      <td>2020-12-25</td>\n",
              "      <td>2021-01-03</td>\n",
              "    </tr>\n",
              "    <tr>\n",
              "      <th>10</th>\n",
              "      <td>CIS New Year Gift Lottery</td>\n",
              "      <td>CIS</td>\n",
              "      <td>2020-12-30</td>\n",
              "      <td>2021-01-07</td>\n",
              "    </tr>\n",
              "  </tbody>\n",
              "</table>\n",
              "</div>\n",
              "      <button class=\"colab-df-convert\" onclick=\"convertToInteractive('df-91f3fe1c-765c-4c6a-8cbc-fd0da3efc592')\"\n",
              "              title=\"Convert this dataframe to an interactive table.\"\n",
              "              style=\"display:none;\">\n",
              "        \n",
              "  <svg xmlns=\"http://www.w3.org/2000/svg\" height=\"24px\"viewBox=\"0 0 24 24\"\n",
              "       width=\"24px\">\n",
              "    <path d=\"M0 0h24v24H0V0z\" fill=\"none\"/>\n",
              "    <path d=\"M18.56 5.44l.94 2.06.94-2.06 2.06-.94-2.06-.94-.94-2.06-.94 2.06-2.06.94zm-11 1L8.5 8.5l.94-2.06 2.06-.94-2.06-.94L8.5 2.5l-.94 2.06-2.06.94zm10 10l.94 2.06.94-2.06 2.06-.94-2.06-.94-.94-2.06-.94 2.06-2.06.94z\"/><path d=\"M17.41 7.96l-1.37-1.37c-.4-.4-.92-.59-1.43-.59-.52 0-1.04.2-1.43.59L10.3 9.45l-7.72 7.72c-.78.78-.78 2.05 0 2.83L4 21.41c.39.39.9.59 1.41.59.51 0 1.02-.2 1.41-.59l7.78-7.78 2.81-2.81c.8-.78.8-2.07 0-2.86zM5.41 20L4 18.59l7.72-7.72 1.47 1.35L5.41 20z\"/>\n",
              "  </svg>\n",
              "      </button>\n",
              "      \n",
              "  <style>\n",
              "    .colab-df-container {\n",
              "      display:flex;\n",
              "      flex-wrap:wrap;\n",
              "      gap: 12px;\n",
              "    }\n",
              "\n",
              "    .colab-df-convert {\n",
              "      background-color: #E8F0FE;\n",
              "      border: none;\n",
              "      border-radius: 50%;\n",
              "      cursor: pointer;\n",
              "      display: none;\n",
              "      fill: #1967D2;\n",
              "      height: 32px;\n",
              "      padding: 0 0 0 0;\n",
              "      width: 32px;\n",
              "    }\n",
              "\n",
              "    .colab-df-convert:hover {\n",
              "      background-color: #E2EBFA;\n",
              "      box-shadow: 0px 1px 2px rgba(60, 64, 67, 0.3), 0px 1px 3px 1px rgba(60, 64, 67, 0.15);\n",
              "      fill: #174EA6;\n",
              "    }\n",
              "\n",
              "    [theme=dark] .colab-df-convert {\n",
              "      background-color: #3B4455;\n",
              "      fill: #D2E3FC;\n",
              "    }\n",
              "\n",
              "    [theme=dark] .colab-df-convert:hover {\n",
              "      background-color: #434B5C;\n",
              "      box-shadow: 0px 1px 3px 1px rgba(0, 0, 0, 0.15);\n",
              "      filter: drop-shadow(0px 1px 2px rgba(0, 0, 0, 0.3));\n",
              "      fill: #FFFFFF;\n",
              "    }\n",
              "  </style>\n",
              "\n",
              "      <script>\n",
              "        const buttonEl =\n",
              "          document.querySelector('#df-91f3fe1c-765c-4c6a-8cbc-fd0da3efc592 button.colab-df-convert');\n",
              "        buttonEl.style.display =\n",
              "          google.colab.kernel.accessAllowed ? 'block' : 'none';\n",
              "\n",
              "        async function convertToInteractive(key) {\n",
              "          const element = document.querySelector('#df-91f3fe1c-765c-4c6a-8cbc-fd0da3efc592');\n",
              "          const dataTable =\n",
              "            await google.colab.kernel.invokeFunction('convertToInteractive',\n",
              "                                                     [key], {});\n",
              "          if (!dataTable) return;\n",
              "\n",
              "          const docLinkHtml = 'Like what you see? Visit the ' +\n",
              "            '<a target=\"_blank\" href=https://colab.research.google.com/notebooks/data_table.ipynb>data table notebook</a>'\n",
              "            + ' to learn more about interactive tables.';\n",
              "          element.innerHTML = '';\n",
              "          dataTable['output_type'] = 'display_data';\n",
              "          await google.colab.output.renderOutput(dataTable, element);\n",
              "          const docLink = document.createElement('div');\n",
              "          docLink.innerHTML = docLinkHtml;\n",
              "          element.appendChild(docLink);\n",
              "        }\n",
              "      </script>\n",
              "    </div>\n",
              "  </div>\n",
              "  "
            ]
          },
          "metadata": {}
        }
      ],
      "source": [
        "m_events['start_dt'] = pd.to_datetime(m_events['start_dt'])\n",
        "m_events['finish_dt'] = pd.to_datetime(m_events['finish_dt'])\n",
        "display(m_events)\n",
        "#m_events.info()\n",
        "display(m_events.query('start_dt > \"2020-12-07\" | finish_dt <= \"2020-01-04\"'))"
      ]
    },
    {
      "cell_type": "markdown",
      "metadata": {
        "id": "Hw2q_Vt7Y69S"
      },
      "source": [
        "Отсюда видим, что есть 2 события пересекающие период теста, одно событие из влияющее на регион Содружество Независимых Государств - несильно помешает тесту, в второе может оказать влияние, нужно будет обратить внимание на период дат с 25декабря по 3 января в блоке распределения событий."
      ]
    },
    {
      "cell_type": "markdown",
      "metadata": {
        "id": "_FOTzZWUY69U"
      },
      "source": [
        "Продолжаем выделять нужных нам ребят."
      ]
    },
    {
      "cell_type": "code",
      "execution_count": 35,
      "metadata": {
        "id": "pEm5XsMWY69U"
      },
      "outputs": [],
      "source": [
        "ab_df = df.query('ab_test == \"recommender_system_test\"')\n",
        "#ab_df.head()"
      ]
    },
    {
      "cell_type": "markdown",
      "metadata": {
        "id": "pFOFi8L8Y69U"
      },
      "source": [
        "Получилось 5099 юзеров, опять же не дотянули до ожидаемых 6к пользователей."
      ]
    },
    {
      "cell_type": "code",
      "execution_count": 36,
      "metadata": {
        "id": "iuzqyvY-Y69U"
      },
      "outputs": [],
      "source": [
        "# users_group = ab_df.groupby('group')['user_id'].count().reset_index()\n",
        "# users_group"
      ]
    },
    {
      "cell_type": "code",
      "execution_count": 37,
      "metadata": {
        "id": "R8-3V9bVY69U"
      },
      "outputs": [],
      "source": [
        "# df = px.data.tips()\n",
        "# fig = px.pie(users_group, values='user_id', names='group', title='Соотношение пользователей в группах')\n",
        "# fig.show()"
      ]
    },
    {
      "cell_type": "markdown",
      "metadata": {
        "id": "920EzT_rY69V"
      },
      "source": [
        "Итог: данные для теста изначально собраны с ошибками, конфликтующие даты, пользователи из разных тестов, разве что ивенты маркетологов не повлияли на результат.<div>\n",
        "Имеем 5099 юзеров, из них 2903 - контрольная группа, 2196 - новая платежная воронка."
      ]
    },
    {
      "cell_type": "markdown",
      "metadata": {
        "id": "WwvgqxVjY69W"
      },
      "source": [
        "Делаю еще одну мегатабличку."
      ]
    },
    {
      "cell_type": "code",
      "execution_count": 38,
      "metadata": {
        "colab": {
          "base_uri": "https://localhost:8080/",
          "height": 423
        },
        "id": "n9HEERvnY69W",
        "outputId": "91c16fa9-2734-4439-eaf2-b8cf6550a852"
      },
      "outputs": [
        {
          "output_type": "execute_result",
          "data": {
            "text/plain": [
              "                 user_id            event_dt    event_name  details  \\\n",
              "44      831887FE7F2D6CBA 2020-12-07 06:50:29      purchase     4.99   \n",
              "45      831887FE7F2D6CBA 2020-12-09 02:19:17      purchase    99.99   \n",
              "46      831887FE7F2D6CBA 2020-12-07 06:50:30  product_cart      NaN   \n",
              "47      831887FE7F2D6CBA 2020-12-08 10:52:27  product_cart      NaN   \n",
              "48      831887FE7F2D6CBA 2020-12-09 02:19:17  product_cart      NaN   \n",
              "...                  ...                 ...           ...      ...   \n",
              "442623  7EA72BCB46012967                 NaT           NaN      NaN   \n",
              "442624  1942FB76074AA16F                 NaT           NaN      NaN   \n",
              "442625  6670B7F8E44E51A9                 NaT           NaN      NaN   \n",
              "442626  FB99C8676FAF89A7                 NaT           NaN      NaN   \n",
              "442627  89CB0BFBC3F35126                 NaT           NaN      NaN   \n",
              "\n",
              "              date         dt region   device group                  ab_test  \n",
              "44      2020-12-07 2020-12-07     EU  Android     A  recommender_system_test  \n",
              "45      2020-12-09 2020-12-07     EU  Android     A  recommender_system_test  \n",
              "46      2020-12-07 2020-12-07     EU  Android     A  recommender_system_test  \n",
              "47      2020-12-08 2020-12-07     EU  Android     A  recommender_system_test  \n",
              "48      2020-12-09 2020-12-07     EU  Android     A  recommender_system_test  \n",
              "...            ...        ...    ...      ...   ...                      ...  \n",
              "442623         NaN 2020-12-20     EU   iPhone     B  recommender_system_test  \n",
              "442624         NaN 2020-12-20     EU       PC     B  recommender_system_test  \n",
              "442625         NaN 2020-12-20     EU  Android     B  recommender_system_test  \n",
              "442626         NaN 2020-12-20     EU       PC     B  recommender_system_test  \n",
              "442627         NaN 2020-12-20     EU       PC     B  recommender_system_test  \n",
              "\n",
              "[21115 rows x 10 columns]"
            ],
            "text/html": [
              "\n",
              "  <div id=\"df-f24ad86f-dc09-4201-b3e3-dd5f04e4fbeb\">\n",
              "    <div class=\"colab-df-container\">\n",
              "      <div>\n",
              "<style scoped>\n",
              "    .dataframe tbody tr th:only-of-type {\n",
              "        vertical-align: middle;\n",
              "    }\n",
              "\n",
              "    .dataframe tbody tr th {\n",
              "        vertical-align: top;\n",
              "    }\n",
              "\n",
              "    .dataframe thead th {\n",
              "        text-align: right;\n",
              "    }\n",
              "</style>\n",
              "<table border=\"1\" class=\"dataframe\">\n",
              "  <thead>\n",
              "    <tr style=\"text-align: right;\">\n",
              "      <th></th>\n",
              "      <th>user_id</th>\n",
              "      <th>event_dt</th>\n",
              "      <th>event_name</th>\n",
              "      <th>details</th>\n",
              "      <th>date</th>\n",
              "      <th>dt</th>\n",
              "      <th>region</th>\n",
              "      <th>device</th>\n",
              "      <th>group</th>\n",
              "      <th>ab_test</th>\n",
              "    </tr>\n",
              "  </thead>\n",
              "  <tbody>\n",
              "    <tr>\n",
              "      <th>44</th>\n",
              "      <td>831887FE7F2D6CBA</td>\n",
              "      <td>2020-12-07 06:50:29</td>\n",
              "      <td>purchase</td>\n",
              "      <td>4.99</td>\n",
              "      <td>2020-12-07</td>\n",
              "      <td>2020-12-07</td>\n",
              "      <td>EU</td>\n",
              "      <td>Android</td>\n",
              "      <td>A</td>\n",
              "      <td>recommender_system_test</td>\n",
              "    </tr>\n",
              "    <tr>\n",
              "      <th>45</th>\n",
              "      <td>831887FE7F2D6CBA</td>\n",
              "      <td>2020-12-09 02:19:17</td>\n",
              "      <td>purchase</td>\n",
              "      <td>99.99</td>\n",
              "      <td>2020-12-09</td>\n",
              "      <td>2020-12-07</td>\n",
              "      <td>EU</td>\n",
              "      <td>Android</td>\n",
              "      <td>A</td>\n",
              "      <td>recommender_system_test</td>\n",
              "    </tr>\n",
              "    <tr>\n",
              "      <th>46</th>\n",
              "      <td>831887FE7F2D6CBA</td>\n",
              "      <td>2020-12-07 06:50:30</td>\n",
              "      <td>product_cart</td>\n",
              "      <td>NaN</td>\n",
              "      <td>2020-12-07</td>\n",
              "      <td>2020-12-07</td>\n",
              "      <td>EU</td>\n",
              "      <td>Android</td>\n",
              "      <td>A</td>\n",
              "      <td>recommender_system_test</td>\n",
              "    </tr>\n",
              "    <tr>\n",
              "      <th>47</th>\n",
              "      <td>831887FE7F2D6CBA</td>\n",
              "      <td>2020-12-08 10:52:27</td>\n",
              "      <td>product_cart</td>\n",
              "      <td>NaN</td>\n",
              "      <td>2020-12-08</td>\n",
              "      <td>2020-12-07</td>\n",
              "      <td>EU</td>\n",
              "      <td>Android</td>\n",
              "      <td>A</td>\n",
              "      <td>recommender_system_test</td>\n",
              "    </tr>\n",
              "    <tr>\n",
              "      <th>48</th>\n",
              "      <td>831887FE7F2D6CBA</td>\n",
              "      <td>2020-12-09 02:19:17</td>\n",
              "      <td>product_cart</td>\n",
              "      <td>NaN</td>\n",
              "      <td>2020-12-09</td>\n",
              "      <td>2020-12-07</td>\n",
              "      <td>EU</td>\n",
              "      <td>Android</td>\n",
              "      <td>A</td>\n",
              "      <td>recommender_system_test</td>\n",
              "    </tr>\n",
              "    <tr>\n",
              "      <th>...</th>\n",
              "      <td>...</td>\n",
              "      <td>...</td>\n",
              "      <td>...</td>\n",
              "      <td>...</td>\n",
              "      <td>...</td>\n",
              "      <td>...</td>\n",
              "      <td>...</td>\n",
              "      <td>...</td>\n",
              "      <td>...</td>\n",
              "      <td>...</td>\n",
              "    </tr>\n",
              "    <tr>\n",
              "      <th>442623</th>\n",
              "      <td>7EA72BCB46012967</td>\n",
              "      <td>NaT</td>\n",
              "      <td>NaN</td>\n",
              "      <td>NaN</td>\n",
              "      <td>NaN</td>\n",
              "      <td>2020-12-20</td>\n",
              "      <td>EU</td>\n",
              "      <td>iPhone</td>\n",
              "      <td>B</td>\n",
              "      <td>recommender_system_test</td>\n",
              "    </tr>\n",
              "    <tr>\n",
              "      <th>442624</th>\n",
              "      <td>1942FB76074AA16F</td>\n",
              "      <td>NaT</td>\n",
              "      <td>NaN</td>\n",
              "      <td>NaN</td>\n",
              "      <td>NaN</td>\n",
              "      <td>2020-12-20</td>\n",
              "      <td>EU</td>\n",
              "      <td>PC</td>\n",
              "      <td>B</td>\n",
              "      <td>recommender_system_test</td>\n",
              "    </tr>\n",
              "    <tr>\n",
              "      <th>442625</th>\n",
              "      <td>6670B7F8E44E51A9</td>\n",
              "      <td>NaT</td>\n",
              "      <td>NaN</td>\n",
              "      <td>NaN</td>\n",
              "      <td>NaN</td>\n",
              "      <td>2020-12-20</td>\n",
              "      <td>EU</td>\n",
              "      <td>Android</td>\n",
              "      <td>B</td>\n",
              "      <td>recommender_system_test</td>\n",
              "    </tr>\n",
              "    <tr>\n",
              "      <th>442626</th>\n",
              "      <td>FB99C8676FAF89A7</td>\n",
              "      <td>NaT</td>\n",
              "      <td>NaN</td>\n",
              "      <td>NaN</td>\n",
              "      <td>NaN</td>\n",
              "      <td>2020-12-20</td>\n",
              "      <td>EU</td>\n",
              "      <td>PC</td>\n",
              "      <td>B</td>\n",
              "      <td>recommender_system_test</td>\n",
              "    </tr>\n",
              "    <tr>\n",
              "      <th>442627</th>\n",
              "      <td>89CB0BFBC3F35126</td>\n",
              "      <td>NaT</td>\n",
              "      <td>NaN</td>\n",
              "      <td>NaN</td>\n",
              "      <td>NaN</td>\n",
              "      <td>2020-12-20</td>\n",
              "      <td>EU</td>\n",
              "      <td>PC</td>\n",
              "      <td>B</td>\n",
              "      <td>recommender_system_test</td>\n",
              "    </tr>\n",
              "  </tbody>\n",
              "</table>\n",
              "<p>21115 rows × 10 columns</p>\n",
              "</div>\n",
              "      <button class=\"colab-df-convert\" onclick=\"convertToInteractive('df-f24ad86f-dc09-4201-b3e3-dd5f04e4fbeb')\"\n",
              "              title=\"Convert this dataframe to an interactive table.\"\n",
              "              style=\"display:none;\">\n",
              "        \n",
              "  <svg xmlns=\"http://www.w3.org/2000/svg\" height=\"24px\"viewBox=\"0 0 24 24\"\n",
              "       width=\"24px\">\n",
              "    <path d=\"M0 0h24v24H0V0z\" fill=\"none\"/>\n",
              "    <path d=\"M18.56 5.44l.94 2.06.94-2.06 2.06-.94-2.06-.94-.94-2.06-.94 2.06-2.06.94zm-11 1L8.5 8.5l.94-2.06 2.06-.94-2.06-.94L8.5 2.5l-.94 2.06-2.06.94zm10 10l.94 2.06.94-2.06 2.06-.94-2.06-.94-.94-2.06-.94 2.06-2.06.94z\"/><path d=\"M17.41 7.96l-1.37-1.37c-.4-.4-.92-.59-1.43-.59-.52 0-1.04.2-1.43.59L10.3 9.45l-7.72 7.72c-.78.78-.78 2.05 0 2.83L4 21.41c.39.39.9.59 1.41.59.51 0 1.02-.2 1.41-.59l7.78-7.78 2.81-2.81c.8-.78.8-2.07 0-2.86zM5.41 20L4 18.59l7.72-7.72 1.47 1.35L5.41 20z\"/>\n",
              "  </svg>\n",
              "      </button>\n",
              "      \n",
              "  <style>\n",
              "    .colab-df-container {\n",
              "      display:flex;\n",
              "      flex-wrap:wrap;\n",
              "      gap: 12px;\n",
              "    }\n",
              "\n",
              "    .colab-df-convert {\n",
              "      background-color: #E8F0FE;\n",
              "      border: none;\n",
              "      border-radius: 50%;\n",
              "      cursor: pointer;\n",
              "      display: none;\n",
              "      fill: #1967D2;\n",
              "      height: 32px;\n",
              "      padding: 0 0 0 0;\n",
              "      width: 32px;\n",
              "    }\n",
              "\n",
              "    .colab-df-convert:hover {\n",
              "      background-color: #E2EBFA;\n",
              "      box-shadow: 0px 1px 2px rgba(60, 64, 67, 0.3), 0px 1px 3px 1px rgba(60, 64, 67, 0.15);\n",
              "      fill: #174EA6;\n",
              "    }\n",
              "\n",
              "    [theme=dark] .colab-df-convert {\n",
              "      background-color: #3B4455;\n",
              "      fill: #D2E3FC;\n",
              "    }\n",
              "\n",
              "    [theme=dark] .colab-df-convert:hover {\n",
              "      background-color: #434B5C;\n",
              "      box-shadow: 0px 1px 3px 1px rgba(0, 0, 0, 0.15);\n",
              "      filter: drop-shadow(0px 1px 2px rgba(0, 0, 0, 0.3));\n",
              "      fill: #FFFFFF;\n",
              "    }\n",
              "  </style>\n",
              "\n",
              "      <script>\n",
              "        const buttonEl =\n",
              "          document.querySelector('#df-f24ad86f-dc09-4201-b3e3-dd5f04e4fbeb button.colab-df-convert');\n",
              "        buttonEl.style.display =\n",
              "          google.colab.kernel.accessAllowed ? 'block' : 'none';\n",
              "\n",
              "        async function convertToInteractive(key) {\n",
              "          const element = document.querySelector('#df-f24ad86f-dc09-4201-b3e3-dd5f04e4fbeb');\n",
              "          const dataTable =\n",
              "            await google.colab.kernel.invokeFunction('convertToInteractive',\n",
              "                                                     [key], {});\n",
              "          if (!dataTable) return;\n",
              "\n",
              "          const docLinkHtml = 'Like what you see? Visit the ' +\n",
              "            '<a target=\"_blank\" href=https://colab.research.google.com/notebooks/data_table.ipynb>data table notebook</a>'\n",
              "            + ' to learn more about interactive tables.';\n",
              "          element.innerHTML = '';\n",
              "          dataTable['output_type'] = 'display_data';\n",
              "          await google.colab.output.renderOutput(dataTable, element);\n",
              "          const docLink = document.createElement('div');\n",
              "          docLink.innerHTML = docLinkHtml;\n",
              "          element.appendChild(docLink);\n",
              "        }\n",
              "      </script>\n",
              "    </div>\n",
              "  </div>\n",
              "  "
            ]
          },
          "metadata": {},
          "execution_count": 38
        }
      ],
      "source": [
        "data = pd.merge(events, ab_df, on = 'user_id',how='outer')\n",
        "data = data.dropna(subset=['ab_test'])\n",
        "data"
      ]
    },
    {
      "cell_type": "markdown",
      "metadata": {
        "id": "UPVpLfkCY69X"
      },
      "source": [
        "Считаю лайфтайм и отсекаю лишних"
      ]
    },
    {
      "cell_type": "code",
      "execution_count": 39,
      "metadata": {
        "colab": {
          "base_uri": "https://localhost:8080/",
          "height": 206
        },
        "id": "4IFj-8EcY69X",
        "outputId": "b000c103-7b92-4649-e77b-f55272bd9270"
      },
      "outputs": [
        {
          "output_type": "execute_result",
          "data": {
            "text/plain": [
              "             user_id            event_dt    event_name  details       date  \\\n",
              "44  831887FE7F2D6CBA 2020-12-07 06:50:29      purchase     4.99 2020-12-07   \n",
              "45  831887FE7F2D6CBA 2020-12-09 02:19:17      purchase    99.99 2020-12-09   \n",
              "46  831887FE7F2D6CBA 2020-12-07 06:50:30  product_cart      NaN 2020-12-07   \n",
              "47  831887FE7F2D6CBA 2020-12-08 10:52:27  product_cart      NaN 2020-12-08   \n",
              "48  831887FE7F2D6CBA 2020-12-09 02:19:17  product_cart      NaN 2020-12-09   \n",
              "\n",
              "           dt region   device group                  ab_test lf_days  \n",
              "44 2020-12-07     EU  Android     A  recommender_system_test  0 days  \n",
              "45 2020-12-07     EU  Android     A  recommender_system_test  2 days  \n",
              "46 2020-12-07     EU  Android     A  recommender_system_test  0 days  \n",
              "47 2020-12-07     EU  Android     A  recommender_system_test  1 days  \n",
              "48 2020-12-07     EU  Android     A  recommender_system_test  2 days  "
            ],
            "text/html": [
              "\n",
              "  <div id=\"df-c5e3b7d6-7591-4b9b-a880-cbaf4b5ff6b1\">\n",
              "    <div class=\"colab-df-container\">\n",
              "      <div>\n",
              "<style scoped>\n",
              "    .dataframe tbody tr th:only-of-type {\n",
              "        vertical-align: middle;\n",
              "    }\n",
              "\n",
              "    .dataframe tbody tr th {\n",
              "        vertical-align: top;\n",
              "    }\n",
              "\n",
              "    .dataframe thead th {\n",
              "        text-align: right;\n",
              "    }\n",
              "</style>\n",
              "<table border=\"1\" class=\"dataframe\">\n",
              "  <thead>\n",
              "    <tr style=\"text-align: right;\">\n",
              "      <th></th>\n",
              "      <th>user_id</th>\n",
              "      <th>event_dt</th>\n",
              "      <th>event_name</th>\n",
              "      <th>details</th>\n",
              "      <th>date</th>\n",
              "      <th>dt</th>\n",
              "      <th>region</th>\n",
              "      <th>device</th>\n",
              "      <th>group</th>\n",
              "      <th>ab_test</th>\n",
              "      <th>lf_days</th>\n",
              "    </tr>\n",
              "  </thead>\n",
              "  <tbody>\n",
              "    <tr>\n",
              "      <th>44</th>\n",
              "      <td>831887FE7F2D6CBA</td>\n",
              "      <td>2020-12-07 06:50:29</td>\n",
              "      <td>purchase</td>\n",
              "      <td>4.99</td>\n",
              "      <td>2020-12-07</td>\n",
              "      <td>2020-12-07</td>\n",
              "      <td>EU</td>\n",
              "      <td>Android</td>\n",
              "      <td>A</td>\n",
              "      <td>recommender_system_test</td>\n",
              "      <td>0 days</td>\n",
              "    </tr>\n",
              "    <tr>\n",
              "      <th>45</th>\n",
              "      <td>831887FE7F2D6CBA</td>\n",
              "      <td>2020-12-09 02:19:17</td>\n",
              "      <td>purchase</td>\n",
              "      <td>99.99</td>\n",
              "      <td>2020-12-09</td>\n",
              "      <td>2020-12-07</td>\n",
              "      <td>EU</td>\n",
              "      <td>Android</td>\n",
              "      <td>A</td>\n",
              "      <td>recommender_system_test</td>\n",
              "      <td>2 days</td>\n",
              "    </tr>\n",
              "    <tr>\n",
              "      <th>46</th>\n",
              "      <td>831887FE7F2D6CBA</td>\n",
              "      <td>2020-12-07 06:50:30</td>\n",
              "      <td>product_cart</td>\n",
              "      <td>NaN</td>\n",
              "      <td>2020-12-07</td>\n",
              "      <td>2020-12-07</td>\n",
              "      <td>EU</td>\n",
              "      <td>Android</td>\n",
              "      <td>A</td>\n",
              "      <td>recommender_system_test</td>\n",
              "      <td>0 days</td>\n",
              "    </tr>\n",
              "    <tr>\n",
              "      <th>47</th>\n",
              "      <td>831887FE7F2D6CBA</td>\n",
              "      <td>2020-12-08 10:52:27</td>\n",
              "      <td>product_cart</td>\n",
              "      <td>NaN</td>\n",
              "      <td>2020-12-08</td>\n",
              "      <td>2020-12-07</td>\n",
              "      <td>EU</td>\n",
              "      <td>Android</td>\n",
              "      <td>A</td>\n",
              "      <td>recommender_system_test</td>\n",
              "      <td>1 days</td>\n",
              "    </tr>\n",
              "    <tr>\n",
              "      <th>48</th>\n",
              "      <td>831887FE7F2D6CBA</td>\n",
              "      <td>2020-12-09 02:19:17</td>\n",
              "      <td>product_cart</td>\n",
              "      <td>NaN</td>\n",
              "      <td>2020-12-09</td>\n",
              "      <td>2020-12-07</td>\n",
              "      <td>EU</td>\n",
              "      <td>Android</td>\n",
              "      <td>A</td>\n",
              "      <td>recommender_system_test</td>\n",
              "      <td>2 days</td>\n",
              "    </tr>\n",
              "  </tbody>\n",
              "</table>\n",
              "</div>\n",
              "      <button class=\"colab-df-convert\" onclick=\"convertToInteractive('df-c5e3b7d6-7591-4b9b-a880-cbaf4b5ff6b1')\"\n",
              "              title=\"Convert this dataframe to an interactive table.\"\n",
              "              style=\"display:none;\">\n",
              "        \n",
              "  <svg xmlns=\"http://www.w3.org/2000/svg\" height=\"24px\"viewBox=\"0 0 24 24\"\n",
              "       width=\"24px\">\n",
              "    <path d=\"M0 0h24v24H0V0z\" fill=\"none\"/>\n",
              "    <path d=\"M18.56 5.44l.94 2.06.94-2.06 2.06-.94-2.06-.94-.94-2.06-.94 2.06-2.06.94zm-11 1L8.5 8.5l.94-2.06 2.06-.94-2.06-.94L8.5 2.5l-.94 2.06-2.06.94zm10 10l.94 2.06.94-2.06 2.06-.94-2.06-.94-.94-2.06-.94 2.06-2.06.94z\"/><path d=\"M17.41 7.96l-1.37-1.37c-.4-.4-.92-.59-1.43-.59-.52 0-1.04.2-1.43.59L10.3 9.45l-7.72 7.72c-.78.78-.78 2.05 0 2.83L4 21.41c.39.39.9.59 1.41.59.51 0 1.02-.2 1.41-.59l7.78-7.78 2.81-2.81c.8-.78.8-2.07 0-2.86zM5.41 20L4 18.59l7.72-7.72 1.47 1.35L5.41 20z\"/>\n",
              "  </svg>\n",
              "      </button>\n",
              "      \n",
              "  <style>\n",
              "    .colab-df-container {\n",
              "      display:flex;\n",
              "      flex-wrap:wrap;\n",
              "      gap: 12px;\n",
              "    }\n",
              "\n",
              "    .colab-df-convert {\n",
              "      background-color: #E8F0FE;\n",
              "      border: none;\n",
              "      border-radius: 50%;\n",
              "      cursor: pointer;\n",
              "      display: none;\n",
              "      fill: #1967D2;\n",
              "      height: 32px;\n",
              "      padding: 0 0 0 0;\n",
              "      width: 32px;\n",
              "    }\n",
              "\n",
              "    .colab-df-convert:hover {\n",
              "      background-color: #E2EBFA;\n",
              "      box-shadow: 0px 1px 2px rgba(60, 64, 67, 0.3), 0px 1px 3px 1px rgba(60, 64, 67, 0.15);\n",
              "      fill: #174EA6;\n",
              "    }\n",
              "\n",
              "    [theme=dark] .colab-df-convert {\n",
              "      background-color: #3B4455;\n",
              "      fill: #D2E3FC;\n",
              "    }\n",
              "\n",
              "    [theme=dark] .colab-df-convert:hover {\n",
              "      background-color: #434B5C;\n",
              "      box-shadow: 0px 1px 3px 1px rgba(0, 0, 0, 0.15);\n",
              "      filter: drop-shadow(0px 1px 2px rgba(0, 0, 0, 0.3));\n",
              "      fill: #FFFFFF;\n",
              "    }\n",
              "  </style>\n",
              "\n",
              "      <script>\n",
              "        const buttonEl =\n",
              "          document.querySelector('#df-c5e3b7d6-7591-4b9b-a880-cbaf4b5ff6b1 button.colab-df-convert');\n",
              "        buttonEl.style.display =\n",
              "          google.colab.kernel.accessAllowed ? 'block' : 'none';\n",
              "\n",
              "        async function convertToInteractive(key) {\n",
              "          const element = document.querySelector('#df-c5e3b7d6-7591-4b9b-a880-cbaf4b5ff6b1');\n",
              "          const dataTable =\n",
              "            await google.colab.kernel.invokeFunction('convertToInteractive',\n",
              "                                                     [key], {});\n",
              "          if (!dataTable) return;\n",
              "\n",
              "          const docLinkHtml = 'Like what you see? Visit the ' +\n",
              "            '<a target=\"_blank\" href=https://colab.research.google.com/notebooks/data_table.ipynb>data table notebook</a>'\n",
              "            + ' to learn more about interactive tables.';\n",
              "          element.innerHTML = '';\n",
              "          dataTable['output_type'] = 'display_data';\n",
              "          await google.colab.output.renderOutput(dataTable, element);\n",
              "          const docLink = document.createElement('div');\n",
              "          docLink.innerHTML = docLinkHtml;\n",
              "          element.appendChild(docLink);\n",
              "        }\n",
              "      </script>\n",
              "    </div>\n",
              "  </div>\n",
              "  "
            ]
          },
          "metadata": {},
          "execution_count": 39
        }
      ],
      "source": [
        "data['date'] = pd.to_datetime(data['date'])\n",
        "data['lf_days'] = data['date'] - data['dt']\n",
        "data.head()"
      ]
    },
    {
      "cell_type": "code",
      "source": [
        "# data = data.query('lf_days <= \"14 days\"')\n",
        "data = data.loc[data['lf_days']<='14 days']\n",
        "data.sample(5)"
      ],
      "metadata": {
        "colab": {
          "base_uri": "https://localhost:8080/",
          "height": 206
        },
        "id": "a309v62tb602",
        "outputId": "f7214117-231e-49da-d3e6-c78db90f1640"
      },
      "execution_count": 40,
      "outputs": [
        {
          "output_type": "execute_result",
          "data": {
            "text/plain": [
              "                 user_id            event_dt    event_name  details  \\\n",
              "380993  6CB864E93DBC6A90 2020-12-20 20:07:01  product_page      NaN   \n",
              "416434  E785E40D0C268712 2020-12-09 20:47:31         login      NaN   \n",
              "137250  40AD302D0F49AA6F 2020-12-19 17:08:57  product_page      NaN   \n",
              "274574  FF825C1D791989B5 2020-12-19 19:29:18         login      NaN   \n",
              "124193  A57DB8C0438CB846 2020-12-19 21:33:09         login      NaN   \n",
              "\n",
              "             date         dt region   device group                  ab_test  \\\n",
              "380993 2020-12-20 2020-12-19   APAC  Android     A  recommender_system_test   \n",
              "416434 2020-12-09 2020-12-09     EU  Android     A  recommender_system_test   \n",
              "137250 2020-12-19 2020-12-19     EU      Mac     A  recommender_system_test   \n",
              "274574 2020-12-19 2020-12-19     EU       PC     A  recommender_system_test   \n",
              "124193 2020-12-19 2020-12-17     EU   iPhone     B  recommender_system_test   \n",
              "\n",
              "       lf_days  \n",
              "380993  1 days  \n",
              "416434  0 days  \n",
              "137250  0 days  \n",
              "274574  0 days  \n",
              "124193  2 days  "
            ],
            "text/html": [
              "\n",
              "  <div id=\"df-b0206d44-da1a-49d7-9c6a-66e5954f9509\">\n",
              "    <div class=\"colab-df-container\">\n",
              "      <div>\n",
              "<style scoped>\n",
              "    .dataframe tbody tr th:only-of-type {\n",
              "        vertical-align: middle;\n",
              "    }\n",
              "\n",
              "    .dataframe tbody tr th {\n",
              "        vertical-align: top;\n",
              "    }\n",
              "\n",
              "    .dataframe thead th {\n",
              "        text-align: right;\n",
              "    }\n",
              "</style>\n",
              "<table border=\"1\" class=\"dataframe\">\n",
              "  <thead>\n",
              "    <tr style=\"text-align: right;\">\n",
              "      <th></th>\n",
              "      <th>user_id</th>\n",
              "      <th>event_dt</th>\n",
              "      <th>event_name</th>\n",
              "      <th>details</th>\n",
              "      <th>date</th>\n",
              "      <th>dt</th>\n",
              "      <th>region</th>\n",
              "      <th>device</th>\n",
              "      <th>group</th>\n",
              "      <th>ab_test</th>\n",
              "      <th>lf_days</th>\n",
              "    </tr>\n",
              "  </thead>\n",
              "  <tbody>\n",
              "    <tr>\n",
              "      <th>380993</th>\n",
              "      <td>6CB864E93DBC6A90</td>\n",
              "      <td>2020-12-20 20:07:01</td>\n",
              "      <td>product_page</td>\n",
              "      <td>NaN</td>\n",
              "      <td>2020-12-20</td>\n",
              "      <td>2020-12-19</td>\n",
              "      <td>APAC</td>\n",
              "      <td>Android</td>\n",
              "      <td>A</td>\n",
              "      <td>recommender_system_test</td>\n",
              "      <td>1 days</td>\n",
              "    </tr>\n",
              "    <tr>\n",
              "      <th>416434</th>\n",
              "      <td>E785E40D0C268712</td>\n",
              "      <td>2020-12-09 20:47:31</td>\n",
              "      <td>login</td>\n",
              "      <td>NaN</td>\n",
              "      <td>2020-12-09</td>\n",
              "      <td>2020-12-09</td>\n",
              "      <td>EU</td>\n",
              "      <td>Android</td>\n",
              "      <td>A</td>\n",
              "      <td>recommender_system_test</td>\n",
              "      <td>0 days</td>\n",
              "    </tr>\n",
              "    <tr>\n",
              "      <th>137250</th>\n",
              "      <td>40AD302D0F49AA6F</td>\n",
              "      <td>2020-12-19 17:08:57</td>\n",
              "      <td>product_page</td>\n",
              "      <td>NaN</td>\n",
              "      <td>2020-12-19</td>\n",
              "      <td>2020-12-19</td>\n",
              "      <td>EU</td>\n",
              "      <td>Mac</td>\n",
              "      <td>A</td>\n",
              "      <td>recommender_system_test</td>\n",
              "      <td>0 days</td>\n",
              "    </tr>\n",
              "    <tr>\n",
              "      <th>274574</th>\n",
              "      <td>FF825C1D791989B5</td>\n",
              "      <td>2020-12-19 19:29:18</td>\n",
              "      <td>login</td>\n",
              "      <td>NaN</td>\n",
              "      <td>2020-12-19</td>\n",
              "      <td>2020-12-19</td>\n",
              "      <td>EU</td>\n",
              "      <td>PC</td>\n",
              "      <td>A</td>\n",
              "      <td>recommender_system_test</td>\n",
              "      <td>0 days</td>\n",
              "    </tr>\n",
              "    <tr>\n",
              "      <th>124193</th>\n",
              "      <td>A57DB8C0438CB846</td>\n",
              "      <td>2020-12-19 21:33:09</td>\n",
              "      <td>login</td>\n",
              "      <td>NaN</td>\n",
              "      <td>2020-12-19</td>\n",
              "      <td>2020-12-17</td>\n",
              "      <td>EU</td>\n",
              "      <td>iPhone</td>\n",
              "      <td>B</td>\n",
              "      <td>recommender_system_test</td>\n",
              "      <td>2 days</td>\n",
              "    </tr>\n",
              "  </tbody>\n",
              "</table>\n",
              "</div>\n",
              "      <button class=\"colab-df-convert\" onclick=\"convertToInteractive('df-b0206d44-da1a-49d7-9c6a-66e5954f9509')\"\n",
              "              title=\"Convert this dataframe to an interactive table.\"\n",
              "              style=\"display:none;\">\n",
              "        \n",
              "  <svg xmlns=\"http://www.w3.org/2000/svg\" height=\"24px\"viewBox=\"0 0 24 24\"\n",
              "       width=\"24px\">\n",
              "    <path d=\"M0 0h24v24H0V0z\" fill=\"none\"/>\n",
              "    <path d=\"M18.56 5.44l.94 2.06.94-2.06 2.06-.94-2.06-.94-.94-2.06-.94 2.06-2.06.94zm-11 1L8.5 8.5l.94-2.06 2.06-.94-2.06-.94L8.5 2.5l-.94 2.06-2.06.94zm10 10l.94 2.06.94-2.06 2.06-.94-2.06-.94-.94-2.06-.94 2.06-2.06.94z\"/><path d=\"M17.41 7.96l-1.37-1.37c-.4-.4-.92-.59-1.43-.59-.52 0-1.04.2-1.43.59L10.3 9.45l-7.72 7.72c-.78.78-.78 2.05 0 2.83L4 21.41c.39.39.9.59 1.41.59.51 0 1.02-.2 1.41-.59l7.78-7.78 2.81-2.81c.8-.78.8-2.07 0-2.86zM5.41 20L4 18.59l7.72-7.72 1.47 1.35L5.41 20z\"/>\n",
              "  </svg>\n",
              "      </button>\n",
              "      \n",
              "  <style>\n",
              "    .colab-df-container {\n",
              "      display:flex;\n",
              "      flex-wrap:wrap;\n",
              "      gap: 12px;\n",
              "    }\n",
              "\n",
              "    .colab-df-convert {\n",
              "      background-color: #E8F0FE;\n",
              "      border: none;\n",
              "      border-radius: 50%;\n",
              "      cursor: pointer;\n",
              "      display: none;\n",
              "      fill: #1967D2;\n",
              "      height: 32px;\n",
              "      padding: 0 0 0 0;\n",
              "      width: 32px;\n",
              "    }\n",
              "\n",
              "    .colab-df-convert:hover {\n",
              "      background-color: #E2EBFA;\n",
              "      box-shadow: 0px 1px 2px rgba(60, 64, 67, 0.3), 0px 1px 3px 1px rgba(60, 64, 67, 0.15);\n",
              "      fill: #174EA6;\n",
              "    }\n",
              "\n",
              "    [theme=dark] .colab-df-convert {\n",
              "      background-color: #3B4455;\n",
              "      fill: #D2E3FC;\n",
              "    }\n",
              "\n",
              "    [theme=dark] .colab-df-convert:hover {\n",
              "      background-color: #434B5C;\n",
              "      box-shadow: 0px 1px 3px 1px rgba(0, 0, 0, 0.15);\n",
              "      filter: drop-shadow(0px 1px 2px rgba(0, 0, 0, 0.3));\n",
              "      fill: #FFFFFF;\n",
              "    }\n",
              "  </style>\n",
              "\n",
              "      <script>\n",
              "        const buttonEl =\n",
              "          document.querySelector('#df-b0206d44-da1a-49d7-9c6a-66e5954f9509 button.colab-df-convert');\n",
              "        buttonEl.style.display =\n",
              "          google.colab.kernel.accessAllowed ? 'block' : 'none';\n",
              "\n",
              "        async function convertToInteractive(key) {\n",
              "          const element = document.querySelector('#df-b0206d44-da1a-49d7-9c6a-66e5954f9509');\n",
              "          const dataTable =\n",
              "            await google.colab.kernel.invokeFunction('convertToInteractive',\n",
              "                                                     [key], {});\n",
              "          if (!dataTable) return;\n",
              "\n",
              "          const docLinkHtml = 'Like what you see? Visit the ' +\n",
              "            '<a target=\"_blank\" href=https://colab.research.google.com/notebooks/data_table.ipynb>data table notebook</a>'\n",
              "            + ' to learn more about interactive tables.';\n",
              "          element.innerHTML = '';\n",
              "          dataTable['output_type'] = 'display_data';\n",
              "          await google.colab.output.renderOutput(dataTable, element);\n",
              "          const docLink = document.createElement('div');\n",
              "          docLink.innerHTML = docLinkHtml;\n",
              "          element.appendChild(docLink);\n",
              "        }\n",
              "      </script>\n",
              "    </div>\n",
              "  </div>\n",
              "  "
            ]
          },
          "metadata": {},
          "execution_count": 40
        }
      ]
    },
    {
      "cell_type": "markdown",
      "metadata": {
        "id": "7AiNdciDY69X"
      },
      "source": [
        "Смотрю распределение групп."
      ]
    },
    {
      "cell_type": "code",
      "execution_count": 41,
      "metadata": {
        "colab": {
          "base_uri": "https://localhost:8080/",
          "height": 112
        },
        "id": "jnlH3EMKY69X",
        "outputId": "d6ffd13f-c953-43c4-aefb-d5329a80c64f"
      },
      "outputs": [
        {
          "output_type": "execute_result",
          "data": {
            "text/plain": [
              "  group  user_id\n",
              "0     A     2082\n",
              "1     B      706"
            ],
            "text/html": [
              "\n",
              "  <div id=\"df-b5be4647-6e32-48b9-83f3-3878065a1377\">\n",
              "    <div class=\"colab-df-container\">\n",
              "      <div>\n",
              "<style scoped>\n",
              "    .dataframe tbody tr th:only-of-type {\n",
              "        vertical-align: middle;\n",
              "    }\n",
              "\n",
              "    .dataframe tbody tr th {\n",
              "        vertical-align: top;\n",
              "    }\n",
              "\n",
              "    .dataframe thead th {\n",
              "        text-align: right;\n",
              "    }\n",
              "</style>\n",
              "<table border=\"1\" class=\"dataframe\">\n",
              "  <thead>\n",
              "    <tr style=\"text-align: right;\">\n",
              "      <th></th>\n",
              "      <th>group</th>\n",
              "      <th>user_id</th>\n",
              "    </tr>\n",
              "  </thead>\n",
              "  <tbody>\n",
              "    <tr>\n",
              "      <th>0</th>\n",
              "      <td>A</td>\n",
              "      <td>2082</td>\n",
              "    </tr>\n",
              "    <tr>\n",
              "      <th>1</th>\n",
              "      <td>B</td>\n",
              "      <td>706</td>\n",
              "    </tr>\n",
              "  </tbody>\n",
              "</table>\n",
              "</div>\n",
              "      <button class=\"colab-df-convert\" onclick=\"convertToInteractive('df-b5be4647-6e32-48b9-83f3-3878065a1377')\"\n",
              "              title=\"Convert this dataframe to an interactive table.\"\n",
              "              style=\"display:none;\">\n",
              "        \n",
              "  <svg xmlns=\"http://www.w3.org/2000/svg\" height=\"24px\"viewBox=\"0 0 24 24\"\n",
              "       width=\"24px\">\n",
              "    <path d=\"M0 0h24v24H0V0z\" fill=\"none\"/>\n",
              "    <path d=\"M18.56 5.44l.94 2.06.94-2.06 2.06-.94-2.06-.94-.94-2.06-.94 2.06-2.06.94zm-11 1L8.5 8.5l.94-2.06 2.06-.94-2.06-.94L8.5 2.5l-.94 2.06-2.06.94zm10 10l.94 2.06.94-2.06 2.06-.94-2.06-.94-.94-2.06-.94 2.06-2.06.94z\"/><path d=\"M17.41 7.96l-1.37-1.37c-.4-.4-.92-.59-1.43-.59-.52 0-1.04.2-1.43.59L10.3 9.45l-7.72 7.72c-.78.78-.78 2.05 0 2.83L4 21.41c.39.39.9.59 1.41.59.51 0 1.02-.2 1.41-.59l7.78-7.78 2.81-2.81c.8-.78.8-2.07 0-2.86zM5.41 20L4 18.59l7.72-7.72 1.47 1.35L5.41 20z\"/>\n",
              "  </svg>\n",
              "      </button>\n",
              "      \n",
              "  <style>\n",
              "    .colab-df-container {\n",
              "      display:flex;\n",
              "      flex-wrap:wrap;\n",
              "      gap: 12px;\n",
              "    }\n",
              "\n",
              "    .colab-df-convert {\n",
              "      background-color: #E8F0FE;\n",
              "      border: none;\n",
              "      border-radius: 50%;\n",
              "      cursor: pointer;\n",
              "      display: none;\n",
              "      fill: #1967D2;\n",
              "      height: 32px;\n",
              "      padding: 0 0 0 0;\n",
              "      width: 32px;\n",
              "    }\n",
              "\n",
              "    .colab-df-convert:hover {\n",
              "      background-color: #E2EBFA;\n",
              "      box-shadow: 0px 1px 2px rgba(60, 64, 67, 0.3), 0px 1px 3px 1px rgba(60, 64, 67, 0.15);\n",
              "      fill: #174EA6;\n",
              "    }\n",
              "\n",
              "    [theme=dark] .colab-df-convert {\n",
              "      background-color: #3B4455;\n",
              "      fill: #D2E3FC;\n",
              "    }\n",
              "\n",
              "    [theme=dark] .colab-df-convert:hover {\n",
              "      background-color: #434B5C;\n",
              "      box-shadow: 0px 1px 3px 1px rgba(0, 0, 0, 0.15);\n",
              "      filter: drop-shadow(0px 1px 2px rgba(0, 0, 0, 0.3));\n",
              "      fill: #FFFFFF;\n",
              "    }\n",
              "  </style>\n",
              "\n",
              "      <script>\n",
              "        const buttonEl =\n",
              "          document.querySelector('#df-b5be4647-6e32-48b9-83f3-3878065a1377 button.colab-df-convert');\n",
              "        buttonEl.style.display =\n",
              "          google.colab.kernel.accessAllowed ? 'block' : 'none';\n",
              "\n",
              "        async function convertToInteractive(key) {\n",
              "          const element = document.querySelector('#df-b5be4647-6e32-48b9-83f3-3878065a1377');\n",
              "          const dataTable =\n",
              "            await google.colab.kernel.invokeFunction('convertToInteractive',\n",
              "                                                     [key], {});\n",
              "          if (!dataTable) return;\n",
              "\n",
              "          const docLinkHtml = 'Like what you see? Visit the ' +\n",
              "            '<a target=\"_blank\" href=https://colab.research.google.com/notebooks/data_table.ipynb>data table notebook</a>'\n",
              "            + ' to learn more about interactive tables.';\n",
              "          element.innerHTML = '';\n",
              "          dataTable['output_type'] = 'display_data';\n",
              "          await google.colab.output.renderOutput(dataTable, element);\n",
              "          const docLink = document.createElement('div');\n",
              "          docLink.innerHTML = docLinkHtml;\n",
              "          element.appendChild(docLink);\n",
              "        }\n",
              "      </script>\n",
              "    </div>\n",
              "  </div>\n",
              "  "
            ]
          },
          "metadata": {},
          "execution_count": 41
        }
      ],
      "source": [
        "users_group = data.groupby(['group'])['user_id'].nunique().reset_index()\n",
        "users_group"
      ]
    },
    {
      "cell_type": "code",
      "execution_count": 42,
      "metadata": {
        "colab": {
          "base_uri": "https://localhost:8080/",
          "height": 542
        },
        "id": "bpUs0nDiY69Y",
        "outputId": "03826772-2120-442d-d3c3-17858a63e19a"
      },
      "outputs": [
        {
          "output_type": "display_data",
          "data": {
            "text/html": [
              "<html>\n",
              "<head><meta charset=\"utf-8\" /></head>\n",
              "<body>\n",
              "    <div>            <script src=\"https://cdnjs.cloudflare.com/ajax/libs/mathjax/2.7.5/MathJax.js?config=TeX-AMS-MML_SVG\"></script><script type=\"text/javascript\">if (window.MathJax && window.MathJax.Hub && window.MathJax.Hub.Config) {window.MathJax.Hub.Config({SVG: {font: \"STIX-Web\"}});}</script>                <script type=\"text/javascript\">window.PlotlyConfig = {MathJaxConfig: 'local'};</script>\n",
              "        <script src=\"https://cdn.plot.ly/plotly-2.18.2.min.js\"></script>                <div id=\"6fe42017-7496-40a1-b01d-c03ef7c06600\" class=\"plotly-graph-div\" style=\"height:525px; width:100%;\"></div>            <script type=\"text/javascript\">                                    window.PLOTLYENV=window.PLOTLYENV || {};                                    if (document.getElementById(\"6fe42017-7496-40a1-b01d-c03ef7c06600\")) {                    Plotly.newPlot(                        \"6fe42017-7496-40a1-b01d-c03ef7c06600\",                        [{\"domain\":{\"x\":[0.0,1.0],\"y\":[0.0,1.0]},\"hovertemplate\":\"group=%{label}<br>user_id=%{value}<extra></extra>\",\"labels\":[\"A\",\"B\"],\"legendgroup\":\"\",\"name\":\"\",\"showlegend\":true,\"values\":[2082,706],\"type\":\"pie\"}],                        {\"template\":{\"data\":{\"histogram2dcontour\":[{\"type\":\"histogram2dcontour\",\"colorbar\":{\"outlinewidth\":0,\"ticks\":\"\"},\"colorscale\":[[0.0,\"#0d0887\"],[0.1111111111111111,\"#46039f\"],[0.2222222222222222,\"#7201a8\"],[0.3333333333333333,\"#9c179e\"],[0.4444444444444444,\"#bd3786\"],[0.5555555555555556,\"#d8576b\"],[0.6666666666666666,\"#ed7953\"],[0.7777777777777778,\"#fb9f3a\"],[0.8888888888888888,\"#fdca26\"],[1.0,\"#f0f921\"]]}],\"choropleth\":[{\"type\":\"choropleth\",\"colorbar\":{\"outlinewidth\":0,\"ticks\":\"\"}}],\"histogram2d\":[{\"type\":\"histogram2d\",\"colorbar\":{\"outlinewidth\":0,\"ticks\":\"\"},\"colorscale\":[[0.0,\"#0d0887\"],[0.1111111111111111,\"#46039f\"],[0.2222222222222222,\"#7201a8\"],[0.3333333333333333,\"#9c179e\"],[0.4444444444444444,\"#bd3786\"],[0.5555555555555556,\"#d8576b\"],[0.6666666666666666,\"#ed7953\"],[0.7777777777777778,\"#fb9f3a\"],[0.8888888888888888,\"#fdca26\"],[1.0,\"#f0f921\"]]}],\"heatmap\":[{\"type\":\"heatmap\",\"colorbar\":{\"outlinewidth\":0,\"ticks\":\"\"},\"colorscale\":[[0.0,\"#0d0887\"],[0.1111111111111111,\"#46039f\"],[0.2222222222222222,\"#7201a8\"],[0.3333333333333333,\"#9c179e\"],[0.4444444444444444,\"#bd3786\"],[0.5555555555555556,\"#d8576b\"],[0.6666666666666666,\"#ed7953\"],[0.7777777777777778,\"#fb9f3a\"],[0.8888888888888888,\"#fdca26\"],[1.0,\"#f0f921\"]]}],\"heatmapgl\":[{\"type\":\"heatmapgl\",\"colorbar\":{\"outlinewidth\":0,\"ticks\":\"\"},\"colorscale\":[[0.0,\"#0d0887\"],[0.1111111111111111,\"#46039f\"],[0.2222222222222222,\"#7201a8\"],[0.3333333333333333,\"#9c179e\"],[0.4444444444444444,\"#bd3786\"],[0.5555555555555556,\"#d8576b\"],[0.6666666666666666,\"#ed7953\"],[0.7777777777777778,\"#fb9f3a\"],[0.8888888888888888,\"#fdca26\"],[1.0,\"#f0f921\"]]}],\"contourcarpet\":[{\"type\":\"contourcarpet\",\"colorbar\":{\"outlinewidth\":0,\"ticks\":\"\"}}],\"contour\":[{\"type\":\"contour\",\"colorbar\":{\"outlinewidth\":0,\"ticks\":\"\"},\"colorscale\":[[0.0,\"#0d0887\"],[0.1111111111111111,\"#46039f\"],[0.2222222222222222,\"#7201a8\"],[0.3333333333333333,\"#9c179e\"],[0.4444444444444444,\"#bd3786\"],[0.5555555555555556,\"#d8576b\"],[0.6666666666666666,\"#ed7953\"],[0.7777777777777778,\"#fb9f3a\"],[0.8888888888888888,\"#fdca26\"],[1.0,\"#f0f921\"]]}],\"surface\":[{\"type\":\"surface\",\"colorbar\":{\"outlinewidth\":0,\"ticks\":\"\"},\"colorscale\":[[0.0,\"#0d0887\"],[0.1111111111111111,\"#46039f\"],[0.2222222222222222,\"#7201a8\"],[0.3333333333333333,\"#9c179e\"],[0.4444444444444444,\"#bd3786\"],[0.5555555555555556,\"#d8576b\"],[0.6666666666666666,\"#ed7953\"],[0.7777777777777778,\"#fb9f3a\"],[0.8888888888888888,\"#fdca26\"],[1.0,\"#f0f921\"]]}],\"mesh3d\":[{\"type\":\"mesh3d\",\"colorbar\":{\"outlinewidth\":0,\"ticks\":\"\"}}],\"scatter\":[{\"fillpattern\":{\"fillmode\":\"overlay\",\"size\":10,\"solidity\":0.2},\"type\":\"scatter\"}],\"parcoords\":[{\"type\":\"parcoords\",\"line\":{\"colorbar\":{\"outlinewidth\":0,\"ticks\":\"\"}}}],\"scatterpolargl\":[{\"type\":\"scatterpolargl\",\"marker\":{\"colorbar\":{\"outlinewidth\":0,\"ticks\":\"\"}}}],\"bar\":[{\"error_x\":{\"color\":\"#2a3f5f\"},\"error_y\":{\"color\":\"#2a3f5f\"},\"marker\":{\"line\":{\"color\":\"#E5ECF6\",\"width\":0.5},\"pattern\":{\"fillmode\":\"overlay\",\"size\":10,\"solidity\":0.2}},\"type\":\"bar\"}],\"scattergeo\":[{\"type\":\"scattergeo\",\"marker\":{\"colorbar\":{\"outlinewidth\":0,\"ticks\":\"\"}}}],\"scatterpolar\":[{\"type\":\"scatterpolar\",\"marker\":{\"colorbar\":{\"outlinewidth\":0,\"ticks\":\"\"}}}],\"histogram\":[{\"marker\":{\"pattern\":{\"fillmode\":\"overlay\",\"size\":10,\"solidity\":0.2}},\"type\":\"histogram\"}],\"scattergl\":[{\"type\":\"scattergl\",\"marker\":{\"colorbar\":{\"outlinewidth\":0,\"ticks\":\"\"}}}],\"scatter3d\":[{\"type\":\"scatter3d\",\"line\":{\"colorbar\":{\"outlinewidth\":0,\"ticks\":\"\"}},\"marker\":{\"colorbar\":{\"outlinewidth\":0,\"ticks\":\"\"}}}],\"scattermapbox\":[{\"type\":\"scattermapbox\",\"marker\":{\"colorbar\":{\"outlinewidth\":0,\"ticks\":\"\"}}}],\"scatterternary\":[{\"type\":\"scatterternary\",\"marker\":{\"colorbar\":{\"outlinewidth\":0,\"ticks\":\"\"}}}],\"scattercarpet\":[{\"type\":\"scattercarpet\",\"marker\":{\"colorbar\":{\"outlinewidth\":0,\"ticks\":\"\"}}}],\"carpet\":[{\"aaxis\":{\"endlinecolor\":\"#2a3f5f\",\"gridcolor\":\"white\",\"linecolor\":\"white\",\"minorgridcolor\":\"white\",\"startlinecolor\":\"#2a3f5f\"},\"baxis\":{\"endlinecolor\":\"#2a3f5f\",\"gridcolor\":\"white\",\"linecolor\":\"white\",\"minorgridcolor\":\"white\",\"startlinecolor\":\"#2a3f5f\"},\"type\":\"carpet\"}],\"table\":[{\"cells\":{\"fill\":{\"color\":\"#EBF0F8\"},\"line\":{\"color\":\"white\"}},\"header\":{\"fill\":{\"color\":\"#C8D4E3\"},\"line\":{\"color\":\"white\"}},\"type\":\"table\"}],\"barpolar\":[{\"marker\":{\"line\":{\"color\":\"#E5ECF6\",\"width\":0.5},\"pattern\":{\"fillmode\":\"overlay\",\"size\":10,\"solidity\":0.2}},\"type\":\"barpolar\"}],\"pie\":[{\"automargin\":true,\"type\":\"pie\"}]},\"layout\":{\"autotypenumbers\":\"strict\",\"colorway\":[\"#636efa\",\"#EF553B\",\"#00cc96\",\"#ab63fa\",\"#FFA15A\",\"#19d3f3\",\"#FF6692\",\"#B6E880\",\"#FF97FF\",\"#FECB52\"],\"font\":{\"color\":\"#2a3f5f\"},\"hovermode\":\"closest\",\"hoverlabel\":{\"align\":\"left\"},\"paper_bgcolor\":\"white\",\"plot_bgcolor\":\"#E5ECF6\",\"polar\":{\"bgcolor\":\"#E5ECF6\",\"angularaxis\":{\"gridcolor\":\"white\",\"linecolor\":\"white\",\"ticks\":\"\"},\"radialaxis\":{\"gridcolor\":\"white\",\"linecolor\":\"white\",\"ticks\":\"\"}},\"ternary\":{\"bgcolor\":\"#E5ECF6\",\"aaxis\":{\"gridcolor\":\"white\",\"linecolor\":\"white\",\"ticks\":\"\"},\"baxis\":{\"gridcolor\":\"white\",\"linecolor\":\"white\",\"ticks\":\"\"},\"caxis\":{\"gridcolor\":\"white\",\"linecolor\":\"white\",\"ticks\":\"\"}},\"coloraxis\":{\"colorbar\":{\"outlinewidth\":0,\"ticks\":\"\"}},\"colorscale\":{\"sequential\":[[0.0,\"#0d0887\"],[0.1111111111111111,\"#46039f\"],[0.2222222222222222,\"#7201a8\"],[0.3333333333333333,\"#9c179e\"],[0.4444444444444444,\"#bd3786\"],[0.5555555555555556,\"#d8576b\"],[0.6666666666666666,\"#ed7953\"],[0.7777777777777778,\"#fb9f3a\"],[0.8888888888888888,\"#fdca26\"],[1.0,\"#f0f921\"]],\"sequentialminus\":[[0.0,\"#0d0887\"],[0.1111111111111111,\"#46039f\"],[0.2222222222222222,\"#7201a8\"],[0.3333333333333333,\"#9c179e\"],[0.4444444444444444,\"#bd3786\"],[0.5555555555555556,\"#d8576b\"],[0.6666666666666666,\"#ed7953\"],[0.7777777777777778,\"#fb9f3a\"],[0.8888888888888888,\"#fdca26\"],[1.0,\"#f0f921\"]],\"diverging\":[[0,\"#8e0152\"],[0.1,\"#c51b7d\"],[0.2,\"#de77ae\"],[0.3,\"#f1b6da\"],[0.4,\"#fde0ef\"],[0.5,\"#f7f7f7\"],[0.6,\"#e6f5d0\"],[0.7,\"#b8e186\"],[0.8,\"#7fbc41\"],[0.9,\"#4d9221\"],[1,\"#276419\"]]},\"xaxis\":{\"gridcolor\":\"white\",\"linecolor\":\"white\",\"ticks\":\"\",\"title\":{\"standoff\":15},\"zerolinecolor\":\"white\",\"automargin\":true,\"zerolinewidth\":2},\"yaxis\":{\"gridcolor\":\"white\",\"linecolor\":\"white\",\"ticks\":\"\",\"title\":{\"standoff\":15},\"zerolinecolor\":\"white\",\"automargin\":true,\"zerolinewidth\":2},\"scene\":{\"xaxis\":{\"backgroundcolor\":\"#E5ECF6\",\"gridcolor\":\"white\",\"linecolor\":\"white\",\"showbackground\":true,\"ticks\":\"\",\"zerolinecolor\":\"white\",\"gridwidth\":2},\"yaxis\":{\"backgroundcolor\":\"#E5ECF6\",\"gridcolor\":\"white\",\"linecolor\":\"white\",\"showbackground\":true,\"ticks\":\"\",\"zerolinecolor\":\"white\",\"gridwidth\":2},\"zaxis\":{\"backgroundcolor\":\"#E5ECF6\",\"gridcolor\":\"white\",\"linecolor\":\"white\",\"showbackground\":true,\"ticks\":\"\",\"zerolinecolor\":\"white\",\"gridwidth\":2}},\"shapedefaults\":{\"line\":{\"color\":\"#2a3f5f\"}},\"annotationdefaults\":{\"arrowcolor\":\"#2a3f5f\",\"arrowhead\":0,\"arrowwidth\":1},\"geo\":{\"bgcolor\":\"white\",\"landcolor\":\"#E5ECF6\",\"subunitcolor\":\"white\",\"showland\":true,\"showlakes\":true,\"lakecolor\":\"white\"},\"title\":{\"x\":0.05},\"mapbox\":{\"style\":\"light\"}}},\"legend\":{\"tracegroupgap\":0},\"title\":{\"text\":\"\\u0421\\u043e\\u043e\\u0442\\u043d\\u043e\\u0448\\u0435\\u043d\\u0438\\u0435 \\u043f\\u043e\\u043b\\u044c\\u0437\\u043e\\u0432\\u0430\\u0442\\u0435\\u043b\\u0435\\u0439 \\u0432 \\u0433\\u0440\\u0443\\u043f\\u043f\\u0430\\u0445\"}},                        {\"responsive\": true}                    ).then(function(){\n",
              "                            \n",
              "var gd = document.getElementById('6fe42017-7496-40a1-b01d-c03ef7c06600');\n",
              "var x = new MutationObserver(function (mutations, observer) {{\n",
              "        var display = window.getComputedStyle(gd).display;\n",
              "        if (!display || display === 'none') {{\n",
              "            console.log([gd, 'removed!']);\n",
              "            Plotly.purge(gd);\n",
              "            observer.disconnect();\n",
              "        }}\n",
              "}});\n",
              "\n",
              "// Listen for the removal of the full notebook cells\n",
              "var notebookContainer = gd.closest('#notebook-container');\n",
              "if (notebookContainer) {{\n",
              "    x.observe(notebookContainer, {childList: true});\n",
              "}}\n",
              "\n",
              "// Listen for the clearing of the current output cell\n",
              "var outputEl = gd.closest('.output');\n",
              "if (outputEl) {{\n",
              "    x.observe(outputEl, {childList: true});\n",
              "}}\n",
              "\n",
              "                        })                };                            </script>        </div>\n",
              "</body>\n",
              "</html>"
            ]
          },
          "metadata": {}
        }
      ],
      "source": [
        "fig = px.pie(users_group, values='user_id', names='group', title='Соотношение пользователей в группах')\n",
        "fig.show()"
      ]
    },
    {
      "cell_type": "markdown",
      "metadata": {
        "id": "UGV3uOy8Y69Y"
      },
      "source": [
        "**Вывод:** Данные собраны плохо, много пересечений пользователей, группы разделились не попровну, количество пользователей сильно меньше ожидаемых 6000."
      ]
    },
    {
      "cell_type": "markdown",
      "metadata": {
        "id": "PTlDJks7Y69Y"
      },
      "source": [
        "## Исследовательский анализ"
      ]
    },
    {
      "cell_type": "markdown",
      "metadata": {
        "id": "fPnIEVYLY69Z"
      },
      "source": [
        "Смотрим распределение событий по времени."
      ]
    },
    {
      "cell_type": "code",
      "execution_count": 43,
      "metadata": {
        "colab": {
          "base_uri": "https://localhost:8080/",
          "height": 710
        },
        "id": "0cxYQfsgY69Z",
        "outputId": "f90f45ae-135c-4772-f4b2-25fe0ad8c097"
      },
      "outputs": [
        {
          "output_type": "display_data",
          "data": {
            "text/plain": [
              "<Figure size 1600x700 with 1 Axes>"
            ],
            "image/png": "[encoded data removed]"
          },
          "metadata": {}
        }
      ],
      "source": [
        "plt.figure(figsize=(16,7))\n",
        "ax = data['dt'].hist(bins = 15)\n",
        "plt.title('Полный период событий регистрации пользователей', fontsize=22)\n",
        "plt.ylabel(\"Частота\", fontsize=16)\n",
        "plt.xlabel(\"Дата\", fontsize=16)\n",
        "plt.xticks(rotation=45)\n",
        "plt.show()"
      ]
    },
    {
      "cell_type": "markdown",
      "metadata": {
        "id": "7oGCfuuoY69a"
      },
      "source": [
        "14 декабря наблюдается скачек регистраций. Не могу сказать с чем это связано, маркетологовых событий в этот момент не было. Возможно косяк с получением данных от датаинженеров. Либо просто потому что так сложилось и много людей зарегалось в этот день"
      ]
    },
    {
      "cell_type": "markdown",
      "metadata": {
        "id": "vi4J2kw2Y69a"
      },
      "source": [
        "Строю воронку событий."
      ]
    },
    {
      "cell_type": "code",
      "execution_count": 44,
      "metadata": {
        "id": "W5dff3mRY69a"
      },
      "outputs": [],
      "source": [
        "# events_ab = pd.merge(events, participants, on = 'user_id',how='outer')\n",
        "# events_ab = events_ab.dropna(subset=['ab_test','event_name']).query('ab_test == \"recommender_system_test\"')\n",
        "# events_ab = events_ab[['user_id', 'event_name','details','date', 'group']]\n",
        "# events_ab.head()"
      ]
    },
    {
      "cell_type": "code",
      "execution_count": 45,
      "metadata": {
        "colab": {
          "base_uri": "https://localhost:8080/",
          "height": 206
        },
        "id": "yNTgphSyY69d",
        "outputId": "2e95dcba-e213-4719-890d-b6a4f668f48c"
      },
      "outputs": [
        {
          "output_type": "execute_result",
          "data": {
            "text/plain": [
              "                 user_id    event_name  details       date group\n",
              "199307  115EBC1CA027854A         login      NaN 2020-12-14     B\n",
              "219882  E923C28598AD9E74  product_cart      NaN 2020-12-18     B\n",
              "109078  5D0230BA5C402C36  product_cart      NaN 2020-12-25     A\n",
              "389636  DFFC60C5AD11418C  product_page      NaN 2020-12-20     A\n",
              "214240  AF24276134C433DE  product_cart      NaN 2020-12-17     A"
            ],
            "text/html": [
              "\n",
              "  <div id=\"df-46100ccb-a123-49e1-9b72-433eaf0ec9b6\">\n",
              "    <div class=\"colab-df-container\">\n",
              "      <div>\n",
              "<style scoped>\n",
              "    .dataframe tbody tr th:only-of-type {\n",
              "        vertical-align: middle;\n",
              "    }\n",
              "\n",
              "    .dataframe tbody tr th {\n",
              "        vertical-align: top;\n",
              "    }\n",
              "\n",
              "    .dataframe thead th {\n",
              "        text-align: right;\n",
              "    }\n",
              "</style>\n",
              "<table border=\"1\" class=\"dataframe\">\n",
              "  <thead>\n",
              "    <tr style=\"text-align: right;\">\n",
              "      <th></th>\n",
              "      <th>user_id</th>\n",
              "      <th>event_name</th>\n",
              "      <th>details</th>\n",
              "      <th>date</th>\n",
              "      <th>group</th>\n",
              "    </tr>\n",
              "  </thead>\n",
              "  <tbody>\n",
              "    <tr>\n",
              "      <th>199307</th>\n",
              "      <td>115EBC1CA027854A</td>\n",
              "      <td>login</td>\n",
              "      <td>NaN</td>\n",
              "      <td>2020-12-14</td>\n",
              "      <td>B</td>\n",
              "    </tr>\n",
              "    <tr>\n",
              "      <th>219882</th>\n",
              "      <td>E923C28598AD9E74</td>\n",
              "      <td>product_cart</td>\n",
              "      <td>NaN</td>\n",
              "      <td>2020-12-18</td>\n",
              "      <td>B</td>\n",
              "    </tr>\n",
              "    <tr>\n",
              "      <th>109078</th>\n",
              "      <td>5D0230BA5C402C36</td>\n",
              "      <td>product_cart</td>\n",
              "      <td>NaN</td>\n",
              "      <td>2020-12-25</td>\n",
              "      <td>A</td>\n",
              "    </tr>\n",
              "    <tr>\n",
              "      <th>389636</th>\n",
              "      <td>DFFC60C5AD11418C</td>\n",
              "      <td>product_page</td>\n",
              "      <td>NaN</td>\n",
              "      <td>2020-12-20</td>\n",
              "      <td>A</td>\n",
              "    </tr>\n",
              "    <tr>\n",
              "      <th>214240</th>\n",
              "      <td>AF24276134C433DE</td>\n",
              "      <td>product_cart</td>\n",
              "      <td>NaN</td>\n",
              "      <td>2020-12-17</td>\n",
              "      <td>A</td>\n",
              "    </tr>\n",
              "  </tbody>\n",
              "</table>\n",
              "</div>\n",
              "      <button class=\"colab-df-convert\" onclick=\"convertToInteractive('df-46100ccb-a123-49e1-9b72-433eaf0ec9b6')\"\n",
              "              title=\"Convert this dataframe to an interactive table.\"\n",
              "              style=\"display:none;\">\n",
              "        \n",
              "  <svg xmlns=\"http://www.w3.org/2000/svg\" height=\"24px\"viewBox=\"0 0 24 24\"\n",
              "       width=\"24px\">\n",
              "    <path d=\"M0 0h24v24H0V0z\" fill=\"none\"/>\n",
              "    <path d=\"M18.56 5.44l.94 2.06.94-2.06 2.06-.94-2.06-.94-.94-2.06-.94 2.06-2.06.94zm-11 1L8.5 8.5l.94-2.06 2.06-.94-2.06-.94L8.5 2.5l-.94 2.06-2.06.94zm10 10l.94 2.06.94-2.06 2.06-.94-2.06-.94-.94-2.06-.94 2.06-2.06.94z\"/><path d=\"M17.41 7.96l-1.37-1.37c-.4-.4-.92-.59-1.43-.59-.52 0-1.04.2-1.43.59L10.3 9.45l-7.72 7.72c-.78.78-.78 2.05 0 2.83L4 21.41c.39.39.9.59 1.41.59.51 0 1.02-.2 1.41-.59l7.78-7.78 2.81-2.81c.8-.78.8-2.07 0-2.86zM5.41 20L4 18.59l7.72-7.72 1.47 1.35L5.41 20z\"/>\n",
              "  </svg>\n",
              "      </button>\n",
              "      \n",
              "  <style>\n",
              "    .colab-df-container {\n",
              "      display:flex;\n",
              "      flex-wrap:wrap;\n",
              "      gap: 12px;\n",
              "    }\n",
              "\n",
              "    .colab-df-convert {\n",
              "      background-color: #E8F0FE;\n",
              "      border: none;\n",
              "      border-radius: 50%;\n",
              "      cursor: pointer;\n",
              "      display: none;\n",
              "      fill: #1967D2;\n",
              "      height: 32px;\n",
              "      padding: 0 0 0 0;\n",
              "      width: 32px;\n",
              "    }\n",
              "\n",
              "    .colab-df-convert:hover {\n",
              "      background-color: #E2EBFA;\n",
              "      box-shadow: 0px 1px 2px rgba(60, 64, 67, 0.3), 0px 1px 3px 1px rgba(60, 64, 67, 0.15);\n",
              "      fill: #174EA6;\n",
              "    }\n",
              "\n",
              "    [theme=dark] .colab-df-convert {\n",
              "      background-color: #3B4455;\n",
              "      fill: #D2E3FC;\n",
              "    }\n",
              "\n",
              "    [theme=dark] .colab-df-convert:hover {\n",
              "      background-color: #434B5C;\n",
              "      box-shadow: 0px 1px 3px 1px rgba(0, 0, 0, 0.15);\n",
              "      filter: drop-shadow(0px 1px 2px rgba(0, 0, 0, 0.3));\n",
              "      fill: #FFFFFF;\n",
              "    }\n",
              "  </style>\n",
              "\n",
              "      <script>\n",
              "        const buttonEl =\n",
              "          document.querySelector('#df-46100ccb-a123-49e1-9b72-433eaf0ec9b6 button.colab-df-convert');\n",
              "        buttonEl.style.display =\n",
              "          google.colab.kernel.accessAllowed ? 'block' : 'none';\n",
              "\n",
              "        async function convertToInteractive(key) {\n",
              "          const element = document.querySelector('#df-46100ccb-a123-49e1-9b72-433eaf0ec9b6');\n",
              "          const dataTable =\n",
              "            await google.colab.kernel.invokeFunction('convertToInteractive',\n",
              "                                                     [key], {});\n",
              "          if (!dataTable) return;\n",
              "\n",
              "          const docLinkHtml = 'Like what you see? Visit the ' +\n",
              "            '<a target=\"_blank\" href=https://colab.research.google.com/notebooks/data_table.ipynb>data table notebook</a>'\n",
              "            + ' to learn more about interactive tables.';\n",
              "          element.innerHTML = '';\n",
              "          dataTable['output_type'] = 'display_data';\n",
              "          await google.colab.output.renderOutput(dataTable, element);\n",
              "          const docLink = document.createElement('div');\n",
              "          docLink.innerHTML = docLinkHtml;\n",
              "          element.appendChild(docLink);\n",
              "        }\n",
              "      </script>\n",
              "    </div>\n",
              "  </div>\n",
              "  "
            ]
          },
          "metadata": {},
          "execution_count": 45
        }
      ],
      "source": [
        "funnel = data[['user_id', 'event_name','details','date', 'group']]\n",
        "funnel.sample(5)"
      ]
    },
    {
      "cell_type": "code",
      "execution_count": 46,
      "metadata": {
        "colab": {
          "base_uri": "https://localhost:8080/"
        },
        "id": "Pa_L4fNAY69d",
        "outputId": "938f46d7-aabd-4ac4-ae3a-40ec6a209431"
      },
      "outputs": [
        {
          "output_type": "execute_result",
          "data": {
            "text/plain": [
              "array(['purchase', 'product_cart', 'login', 'product_page'], dtype=object)"
            ]
          },
          "metadata": {},
          "execution_count": 46
        }
      ],
      "source": [
        "funnel['event_name'].unique()"
      ]
    },
    {
      "cell_type": "code",
      "execution_count": 47,
      "metadata": {
        "id": "eQRMH2U0Y69e"
      },
      "outputs": [],
      "source": [
        "#funnel = funnel.query('event_name != \"login\"')"
      ]
    },
    {
      "cell_type": "code",
      "execution_count": 48,
      "metadata": {
        "colab": {
          "base_uri": "https://localhost:8080/",
          "height": 300
        },
        "id": "rVhKAlUjY69e",
        "outputId": "4a89dd77-ac5c-485d-fae3-f360a207dacf"
      },
      "outputs": [
        {
          "output_type": "execute_result",
          "data": {
            "text/plain": [
              "  group         event  users\n",
              "0     A         login   2082\n",
              "1     A  product_cart    631\n",
              "2     A  product_page   1360\n",
              "3     A      purchase    652\n",
              "4     B         login    705\n",
              "5     B  product_cart    195\n",
              "6     B  product_page    397\n",
              "7     B      purchase    198"
            ],
            "text/html": [
              "\n",
              "  <div id=\"df-c96d0ed7-b804-4e6d-9ce7-cb5b87606486\">\n",
              "    <div class=\"colab-df-container\">\n",
              "      <div>\n",
              "<style scoped>\n",
              "    .dataframe tbody tr th:only-of-type {\n",
              "        vertical-align: middle;\n",
              "    }\n",
              "\n",
              "    .dataframe tbody tr th {\n",
              "        vertical-align: top;\n",
              "    }\n",
              "\n",
              "    .dataframe thead th {\n",
              "        text-align: right;\n",
              "    }\n",
              "</style>\n",
              "<table border=\"1\" class=\"dataframe\">\n",
              "  <thead>\n",
              "    <tr style=\"text-align: right;\">\n",
              "      <th></th>\n",
              "      <th>group</th>\n",
              "      <th>event</th>\n",
              "      <th>users</th>\n",
              "    </tr>\n",
              "  </thead>\n",
              "  <tbody>\n",
              "    <tr>\n",
              "      <th>0</th>\n",
              "      <td>A</td>\n",
              "      <td>login</td>\n",
              "      <td>2082</td>\n",
              "    </tr>\n",
              "    <tr>\n",
              "      <th>1</th>\n",
              "      <td>A</td>\n",
              "      <td>product_cart</td>\n",
              "      <td>631</td>\n",
              "    </tr>\n",
              "    <tr>\n",
              "      <th>2</th>\n",
              "      <td>A</td>\n",
              "      <td>product_page</td>\n",
              "      <td>1360</td>\n",
              "    </tr>\n",
              "    <tr>\n",
              "      <th>3</th>\n",
              "      <td>A</td>\n",
              "      <td>purchase</td>\n",
              "      <td>652</td>\n",
              "    </tr>\n",
              "    <tr>\n",
              "      <th>4</th>\n",
              "      <td>B</td>\n",
              "      <td>login</td>\n",
              "      <td>705</td>\n",
              "    </tr>\n",
              "    <tr>\n",
              "      <th>5</th>\n",
              "      <td>B</td>\n",
              "      <td>product_cart</td>\n",
              "      <td>195</td>\n",
              "    </tr>\n",
              "    <tr>\n",
              "      <th>6</th>\n",
              "      <td>B</td>\n",
              "      <td>product_page</td>\n",
              "      <td>397</td>\n",
              "    </tr>\n",
              "    <tr>\n",
              "      <th>7</th>\n",
              "      <td>B</td>\n",
              "      <td>purchase</td>\n",
              "      <td>198</td>\n",
              "    </tr>\n",
              "  </tbody>\n",
              "</table>\n",
              "</div>\n",
              "      <button class=\"colab-df-convert\" onclick=\"convertToInteractive('df-c96d0ed7-b804-4e6d-9ce7-cb5b87606486')\"\n",
              "              title=\"Convert this dataframe to an interactive table.\"\n",
              "              style=\"display:none;\">\n",
              "        \n",
              "  <svg xmlns=\"http://www.w3.org/2000/svg\" height=\"24px\"viewBox=\"0 0 24 24\"\n",
              "       width=\"24px\">\n",
              "    <path d=\"M0 0h24v24H0V0z\" fill=\"none\"/>\n",
              "    <path d=\"M18.56 5.44l.94 2.06.94-2.06 2.06-.94-2.06-.94-.94-2.06-.94 2.06-2.06.94zm-11 1L8.5 8.5l.94-2.06 2.06-.94-2.06-.94L8.5 2.5l-.94 2.06-2.06.94zm10 10l.94 2.06.94-2.06 2.06-.94-2.06-.94-.94-2.06-.94 2.06-2.06.94z\"/><path d=\"M17.41 7.96l-1.37-1.37c-.4-.4-.92-.59-1.43-.59-.52 0-1.04.2-1.43.59L10.3 9.45l-7.72 7.72c-.78.78-.78 2.05 0 2.83L4 21.41c.39.39.9.59 1.41.59.51 0 1.02-.2 1.41-.59l7.78-7.78 2.81-2.81c.8-.78.8-2.07 0-2.86zM5.41 20L4 18.59l7.72-7.72 1.47 1.35L5.41 20z\"/>\n",
              "  </svg>\n",
              "      </button>\n",
              "      \n",
              "  <style>\n",
              "    .colab-df-container {\n",
              "      display:flex;\n",
              "      flex-wrap:wrap;\n",
              "      gap: 12px;\n",
              "    }\n",
              "\n",
              "    .colab-df-convert {\n",
              "      background-color: #E8F0FE;\n",
              "      border: none;\n",
              "      border-radius: 50%;\n",
              "      cursor: pointer;\n",
              "      display: none;\n",
              "      fill: #1967D2;\n",
              "      height: 32px;\n",
              "      padding: 0 0 0 0;\n",
              "      width: 32px;\n",
              "    }\n",
              "\n",
              "    .colab-df-convert:hover {\n",
              "      background-color: #E2EBFA;\n",
              "      box-shadow: 0px 1px 2px rgba(60, 64, 67, 0.3), 0px 1px 3px 1px rgba(60, 64, 67, 0.15);\n",
              "      fill: #174EA6;\n",
              "    }\n",
              "\n",
              "    [theme=dark] .colab-df-convert {\n",
              "      background-color: #3B4455;\n",
              "      fill: #D2E3FC;\n",
              "    }\n",
              "\n",
              "    [theme=dark] .colab-df-convert:hover {\n",
              "      background-color: #434B5C;\n",
              "      box-shadow: 0px 1px 3px 1px rgba(0, 0, 0, 0.15);\n",
              "      filter: drop-shadow(0px 1px 2px rgba(0, 0, 0, 0.3));\n",
              "      fill: #FFFFFF;\n",
              "    }\n",
              "  </style>\n",
              "\n",
              "      <script>\n",
              "        const buttonEl =\n",
              "          document.querySelector('#df-c96d0ed7-b804-4e6d-9ce7-cb5b87606486 button.colab-df-convert');\n",
              "        buttonEl.style.display =\n",
              "          google.colab.kernel.accessAllowed ? 'block' : 'none';\n",
              "\n",
              "        async function convertToInteractive(key) {\n",
              "          const element = document.querySelector('#df-c96d0ed7-b804-4e6d-9ce7-cb5b87606486');\n",
              "          const dataTable =\n",
              "            await google.colab.kernel.invokeFunction('convertToInteractive',\n",
              "                                                     [key], {});\n",
              "          if (!dataTable) return;\n",
              "\n",
              "          const docLinkHtml = 'Like what you see? Visit the ' +\n",
              "            '<a target=\"_blank\" href=https://colab.research.google.com/notebooks/data_table.ipynb>data table notebook</a>'\n",
              "            + ' to learn more about interactive tables.';\n",
              "          element.innerHTML = '';\n",
              "          dataTable['output_type'] = 'display_data';\n",
              "          await google.colab.output.renderOutput(dataTable, element);\n",
              "          const docLink = document.createElement('div');\n",
              "          docLink.innerHTML = docLinkHtml;\n",
              "          element.appendChild(docLink);\n",
              "        }\n",
              "      </script>\n",
              "    </div>\n",
              "  </div>\n",
              "  "
            ]
          },
          "metadata": {},
          "execution_count": 48
        }
      ],
      "source": [
        "funnel_grouped = funnel.groupby(['group','event_name'])['user_id'].nunique().reset_index().rename(columns={'event_name':'event','user_id': 'users'})\n",
        "funnel_grouped"
      ]
    },
    {
      "cell_type": "code",
      "execution_count": 49,
      "metadata": {
        "id": "K1a63m6PY69e"
      },
      "outputs": [],
      "source": [
        "def sorter(column):\n",
        "    reorder = [\n",
        "        \"login\",\n",
        "        \"product_page\",\n",
        "        \"product_cart\",\n",
        "        \"purchase\"]\n",
        "    cat = pd.Categorical(column, categories=reorder, ordered=True)\n",
        "    return pd.Series(cat)"
      ]
    },
    {
      "cell_type": "code",
      "execution_count": 50,
      "metadata": {
        "colab": {
          "base_uri": "https://localhost:8080/",
          "height": 174
        },
        "id": "qgqqeVJ_Y69e",
        "outputId": "c34bc63f-9366-4ac6-e8af-9bd5942a468a"
      },
      "outputs": [
        {
          "output_type": "execute_result",
          "data": {
            "text/plain": [
              "   index group         event  users\n",
              "0      0     A         login   2082\n",
              "2      2     A  product_page   1360\n",
              "1      1     A  product_cart    631\n",
              "3      3     A      purchase    652"
            ],
            "text/html": [
              "\n",
              "  <div id=\"df-d908c225-8251-4231-9ccb-3e2f517a1909\">\n",
              "    <div class=\"colab-df-container\">\n",
              "      <div>\n",
              "<style scoped>\n",
              "    .dataframe tbody tr th:only-of-type {\n",
              "        vertical-align: middle;\n",
              "    }\n",
              "\n",
              "    .dataframe tbody tr th {\n",
              "        vertical-align: top;\n",
              "    }\n",
              "\n",
              "    .dataframe thead th {\n",
              "        text-align: right;\n",
              "    }\n",
              "</style>\n",
              "<table border=\"1\" class=\"dataframe\">\n",
              "  <thead>\n",
              "    <tr style=\"text-align: right;\">\n",
              "      <th></th>\n",
              "      <th>index</th>\n",
              "      <th>group</th>\n",
              "      <th>event</th>\n",
              "      <th>users</th>\n",
              "    </tr>\n",
              "  </thead>\n",
              "  <tbody>\n",
              "    <tr>\n",
              "      <th>0</th>\n",
              "      <td>0</td>\n",
              "      <td>A</td>\n",
              "      <td>login</td>\n",
              "      <td>2082</td>\n",
              "    </tr>\n",
              "    <tr>\n",
              "      <th>2</th>\n",
              "      <td>2</td>\n",
              "      <td>A</td>\n",
              "      <td>product_page</td>\n",
              "      <td>1360</td>\n",
              "    </tr>\n",
              "    <tr>\n",
              "      <th>1</th>\n",
              "      <td>1</td>\n",
              "      <td>A</td>\n",
              "      <td>product_cart</td>\n",
              "      <td>631</td>\n",
              "    </tr>\n",
              "    <tr>\n",
              "      <th>3</th>\n",
              "      <td>3</td>\n",
              "      <td>A</td>\n",
              "      <td>purchase</td>\n",
              "      <td>652</td>\n",
              "    </tr>\n",
              "  </tbody>\n",
              "</table>\n",
              "</div>\n",
              "      <button class=\"colab-df-convert\" onclick=\"convertToInteractive('df-d908c225-8251-4231-9ccb-3e2f517a1909')\"\n",
              "              title=\"Convert this dataframe to an interactive table.\"\n",
              "              style=\"display:none;\">\n",
              "        \n",
              "  <svg xmlns=\"http://www.w3.org/2000/svg\" height=\"24px\"viewBox=\"0 0 24 24\"\n",
              "       width=\"24px\">\n",
              "    <path d=\"M0 0h24v24H0V0z\" fill=\"none\"/>\n",
              "    <path d=\"M18.56 5.44l.94 2.06.94-2.06 2.06-.94-2.06-.94-.94-2.06-.94 2.06-2.06.94zm-11 1L8.5 8.5l.94-2.06 2.06-.94-2.06-.94L8.5 2.5l-.94 2.06-2.06.94zm10 10l.94 2.06.94-2.06 2.06-.94-2.06-.94-.94-2.06-.94 2.06-2.06.94z\"/><path d=\"M17.41 7.96l-1.37-1.37c-.4-.4-.92-.59-1.43-.59-.52 0-1.04.2-1.43.59L10.3 9.45l-7.72 7.72c-.78.78-.78 2.05 0 2.83L4 21.41c.39.39.9.59 1.41.59.51 0 1.02-.2 1.41-.59l7.78-7.78 2.81-2.81c.8-.78.8-2.07 0-2.86zM5.41 20L4 18.59l7.72-7.72 1.47 1.35L5.41 20z\"/>\n",
              "  </svg>\n",
              "      </button>\n",
              "      \n",
              "  <style>\n",
              "    .colab-df-container {\n",
              "      display:flex;\n",
              "      flex-wrap:wrap;\n",
              "      gap: 12px;\n",
              "    }\n",
              "\n",
              "    .colab-df-convert {\n",
              "      background-color: #E8F0FE;\n",
              "      border: none;\n",
              "      border-radius: 50%;\n",
              "      cursor: pointer;\n",
              "      display: none;\n",
              "      fill: #1967D2;\n",
              "      height: 32px;\n",
              "      padding: 0 0 0 0;\n",
              "      width: 32px;\n",
              "    }\n",
              "\n",
              "    .colab-df-convert:hover {\n",
              "      background-color: #E2EBFA;\n",
              "      box-shadow: 0px 1px 2px rgba(60, 64, 67, 0.3), 0px 1px 3px 1px rgba(60, 64, 67, 0.15);\n",
              "      fill: #174EA6;\n",
              "    }\n",
              "\n",
              "    [theme=dark] .colab-df-convert {\n",
              "      background-color: #3B4455;\n",
              "      fill: #D2E3FC;\n",
              "    }\n",
              "\n",
              "    [theme=dark] .colab-df-convert:hover {\n",
              "      background-color: #434B5C;\n",
              "      box-shadow: 0px 1px 3px 1px rgba(0, 0, 0, 0.15);\n",
              "      filter: drop-shadow(0px 1px 2px rgba(0, 0, 0, 0.3));\n",
              "      fill: #FFFFFF;\n",
              "    }\n",
              "  </style>\n",
              "\n",
              "      <script>\n",
              "        const buttonEl =\n",
              "          document.querySelector('#df-d908c225-8251-4231-9ccb-3e2f517a1909 button.colab-df-convert');\n",
              "        buttonEl.style.display =\n",
              "          google.colab.kernel.accessAllowed ? 'block' : 'none';\n",
              "\n",
              "        async function convertToInteractive(key) {\n",
              "          const element = document.querySelector('#df-d908c225-8251-4231-9ccb-3e2f517a1909');\n",
              "          const dataTable =\n",
              "            await google.colab.kernel.invokeFunction('convertToInteractive',\n",
              "                                                     [key], {});\n",
              "          if (!dataTable) return;\n",
              "\n",
              "          const docLinkHtml = 'Like what you see? Visit the ' +\n",
              "            '<a target=\"_blank\" href=https://colab.research.google.com/notebooks/data_table.ipynb>data table notebook</a>'\n",
              "            + ' to learn more about interactive tables.';\n",
              "          element.innerHTML = '';\n",
              "          dataTable['output_type'] = 'display_data';\n",
              "          await google.colab.output.renderOutput(dataTable, element);\n",
              "          const docLink = document.createElement('div');\n",
              "          docLink.innerHTML = docLinkHtml;\n",
              "          element.appendChild(docLink);\n",
              "        }\n",
              "      </script>\n",
              "    </div>\n",
              "  </div>\n",
              "  "
            ]
          },
          "metadata": {},
          "execution_count": 50
        }
      ],
      "source": [
        "funnel_A = funnel_grouped.query('group == \"A\"').reset_index().sort_values(by=\"event\", key=sorter)\n",
        "funnel_A"
      ]
    },
    {
      "cell_type": "code",
      "execution_count": 51,
      "metadata": {
        "colab": {
          "base_uri": "https://localhost:8080/",
          "height": 174
        },
        "id": "1AK9WyjuY69f",
        "outputId": "2af9e724-5b60-409e-e883-f32f71b859f7"
      },
      "outputs": [
        {
          "output_type": "execute_result",
          "data": {
            "text/plain": [
              "   index group         event  users\n",
              "0      4     B         login    705\n",
              "2      6     B  product_page    397\n",
              "1      5     B  product_cart    195\n",
              "3      7     B      purchase    198"
            ],
            "text/html": [
              "\n",
              "  <div id=\"df-85ef1201-1242-4f75-8e3b-9b91a87d430e\">\n",
              "    <div class=\"colab-df-container\">\n",
              "      <div>\n",
              "<style scoped>\n",
              "    .dataframe tbody tr th:only-of-type {\n",
              "        vertical-align: middle;\n",
              "    }\n",
              "\n",
              "    .dataframe tbody tr th {\n",
              "        vertical-align: top;\n",
              "    }\n",
              "\n",
              "    .dataframe thead th {\n",
              "        text-align: right;\n",
              "    }\n",
              "</style>\n",
              "<table border=\"1\" class=\"dataframe\">\n",
              "  <thead>\n",
              "    <tr style=\"text-align: right;\">\n",
              "      <th></th>\n",
              "      <th>index</th>\n",
              "      <th>group</th>\n",
              "      <th>event</th>\n",
              "      <th>users</th>\n",
              "    </tr>\n",
              "  </thead>\n",
              "  <tbody>\n",
              "    <tr>\n",
              "      <th>0</th>\n",
              "      <td>4</td>\n",
              "      <td>B</td>\n",
              "      <td>login</td>\n",
              "      <td>705</td>\n",
              "    </tr>\n",
              "    <tr>\n",
              "      <th>2</th>\n",
              "      <td>6</td>\n",
              "      <td>B</td>\n",
              "      <td>product_page</td>\n",
              "      <td>397</td>\n",
              "    </tr>\n",
              "    <tr>\n",
              "      <th>1</th>\n",
              "      <td>5</td>\n",
              "      <td>B</td>\n",
              "      <td>product_cart</td>\n",
              "      <td>195</td>\n",
              "    </tr>\n",
              "    <tr>\n",
              "      <th>3</th>\n",
              "      <td>7</td>\n",
              "      <td>B</td>\n",
              "      <td>purchase</td>\n",
              "      <td>198</td>\n",
              "    </tr>\n",
              "  </tbody>\n",
              "</table>\n",
              "</div>\n",
              "      <button class=\"colab-df-convert\" onclick=\"convertToInteractive('df-85ef1201-1242-4f75-8e3b-9b91a87d430e')\"\n",
              "              title=\"Convert this dataframe to an interactive table.\"\n",
              "              style=\"display:none;\">\n",
              "        \n",
              "  <svg xmlns=\"http://www.w3.org/2000/svg\" height=\"24px\"viewBox=\"0 0 24 24\"\n",
              "       width=\"24px\">\n",
              "    <path d=\"M0 0h24v24H0V0z\" fill=\"none\"/>\n",
              "    <path d=\"M18.56 5.44l.94 2.06.94-2.06 2.06-.94-2.06-.94-.94-2.06-.94 2.06-2.06.94zm-11 1L8.5 8.5l.94-2.06 2.06-.94-2.06-.94L8.5 2.5l-.94 2.06-2.06.94zm10 10l.94 2.06.94-2.06 2.06-.94-2.06-.94-.94-2.06-.94 2.06-2.06.94z\"/><path d=\"M17.41 7.96l-1.37-1.37c-.4-.4-.92-.59-1.43-.59-.52 0-1.04.2-1.43.59L10.3 9.45l-7.72 7.72c-.78.78-.78 2.05 0 2.83L4 21.41c.39.39.9.59 1.41.59.51 0 1.02-.2 1.41-.59l7.78-7.78 2.81-2.81c.8-.78.8-2.07 0-2.86zM5.41 20L4 18.59l7.72-7.72 1.47 1.35L5.41 20z\"/>\n",
              "  </svg>\n",
              "      </button>\n",
              "      \n",
              "  <style>\n",
              "    .colab-df-container {\n",
              "      display:flex;\n",
              "      flex-wrap:wrap;\n",
              "      gap: 12px;\n",
              "    }\n",
              "\n",
              "    .colab-df-convert {\n",
              "      background-color: #E8F0FE;\n",
              "      border: none;\n",
              "      border-radius: 50%;\n",
              "      cursor: pointer;\n",
              "      display: none;\n",
              "      fill: #1967D2;\n",
              "      height: 32px;\n",
              "      padding: 0 0 0 0;\n",
              "      width: 32px;\n",
              "    }\n",
              "\n",
              "    .colab-df-convert:hover {\n",
              "      background-color: #E2EBFA;\n",
              "      box-shadow: 0px 1px 2px rgba(60, 64, 67, 0.3), 0px 1px 3px 1px rgba(60, 64, 67, 0.15);\n",
              "      fill: #174EA6;\n",
              "    }\n",
              "\n",
              "    [theme=dark] .colab-df-convert {\n",
              "      background-color: #3B4455;\n",
              "      fill: #D2E3FC;\n",
              "    }\n",
              "\n",
              "    [theme=dark] .colab-df-convert:hover {\n",
              "      background-color: #434B5C;\n",
              "      box-shadow: 0px 1px 3px 1px rgba(0, 0, 0, 0.15);\n",
              "      filter: drop-shadow(0px 1px 2px rgba(0, 0, 0, 0.3));\n",
              "      fill: #FFFFFF;\n",
              "    }\n",
              "  </style>\n",
              "\n",
              "      <script>\n",
              "        const buttonEl =\n",
              "          document.querySelector('#df-85ef1201-1242-4f75-8e3b-9b91a87d430e button.colab-df-convert');\n",
              "        buttonEl.style.display =\n",
              "          google.colab.kernel.accessAllowed ? 'block' : 'none';\n",
              "\n",
              "        async function convertToInteractive(key) {\n",
              "          const element = document.querySelector('#df-85ef1201-1242-4f75-8e3b-9b91a87d430e');\n",
              "          const dataTable =\n",
              "            await google.colab.kernel.invokeFunction('convertToInteractive',\n",
              "                                                     [key], {});\n",
              "          if (!dataTable) return;\n",
              "\n",
              "          const docLinkHtml = 'Like what you see? Visit the ' +\n",
              "            '<a target=\"_blank\" href=https://colab.research.google.com/notebooks/data_table.ipynb>data table notebook</a>'\n",
              "            + ' to learn more about interactive tables.';\n",
              "          element.innerHTML = '';\n",
              "          dataTable['output_type'] = 'display_data';\n",
              "          await google.colab.output.renderOutput(dataTable, element);\n",
              "          const docLink = document.createElement('div');\n",
              "          docLink.innerHTML = docLinkHtml;\n",
              "          element.appendChild(docLink);\n",
              "        }\n",
              "      </script>\n",
              "    </div>\n",
              "  </div>\n",
              "  "
            ]
          },
          "metadata": {},
          "execution_count": 51
        }
      ],
      "source": [
        "funnel_B = funnel_grouped.query('group == \"B\"').reset_index().sort_values(by=\"event\", key=sorter)\n",
        "funnel_B"
      ]
    },
    {
      "cell_type": "code",
      "execution_count": 52,
      "metadata": {
        "colab": {
          "base_uri": "https://localhost:8080/",
          "height": 542
        },
        "id": "ZWcjBGF2Y69f",
        "outputId": "a0d424c3-c187-4373-e637-c2986032b2e8"
      },
      "outputs": [
        {
          "output_type": "display_data",
          "data": {
            "text/html": [
              "<html>\n",
              "<head><meta charset=\"utf-8\" /></head>\n",
              "<body>\n",
              "    <div>            <script src=\"https://cdnjs.cloudflare.com/ajax/libs/mathjax/2.7.5/MathJax.js?config=TeX-AMS-MML_SVG\"></script><script type=\"text/javascript\">if (window.MathJax && window.MathJax.Hub && window.MathJax.Hub.Config) {window.MathJax.Hub.Config({SVG: {font: \"STIX-Web\"}});}</script>                <script type=\"text/javascript\">window.PlotlyConfig = {MathJaxConfig: 'local'};</script>\n",
              "        <script src=\"https://cdn.plot.ly/plotly-2.18.2.min.js\"></script>                <div id=\"3df9f67d-f020-43f1-ac93-f6947b86795e\" class=\"plotly-graph-div\" style=\"height:525px; width:100%;\"></div>            <script type=\"text/javascript\">                                    window.PLOTLYENV=window.PLOTLYENV || {};                                    if (document.getElementById(\"3df9f67d-f020-43f1-ac93-f6947b86795e\")) {                    Plotly.newPlot(                        \"3df9f67d-f020-43f1-ac93-f6947b86795e\",                        [{\"name\":\"Group A\",\"textinfo\":\"value+percent initial\",\"x\":[2082,1360,631,652],\"y\":[\"login\",\"product_page\",\"product_cart\",\"purchase\"],\"type\":\"funnel\"},{\"name\":\"Group B\",\"orientation\":\"h\",\"textinfo\":\"value+percent initial\",\"textposition\":\"inside\",\"x\":[705,397,195,198],\"y\":[\"login\",\"product_page\",\"product_cart\",\"purchase\"],\"type\":\"funnel\"}],                        {\"template\":{\"data\":{\"histogram2dcontour\":[{\"type\":\"histogram2dcontour\",\"colorbar\":{\"outlinewidth\":0,\"ticks\":\"\"},\"colorscale\":[[0.0,\"#0d0887\"],[0.1111111111111111,\"#46039f\"],[0.2222222222222222,\"#7201a8\"],[0.3333333333333333,\"#9c179e\"],[0.4444444444444444,\"#bd3786\"],[0.5555555555555556,\"#d8576b\"],[0.6666666666666666,\"#ed7953\"],[0.7777777777777778,\"#fb9f3a\"],[0.8888888888888888,\"#fdca26\"],[1.0,\"#f0f921\"]]}],\"choropleth\":[{\"type\":\"choropleth\",\"colorbar\":{\"outlinewidth\":0,\"ticks\":\"\"}}],\"histogram2d\":[{\"type\":\"histogram2d\",\"colorbar\":{\"outlinewidth\":0,\"ticks\":\"\"},\"colorscale\":[[0.0,\"#0d0887\"],[0.1111111111111111,\"#46039f\"],[0.2222222222222222,\"#7201a8\"],[0.3333333333333333,\"#9c179e\"],[0.4444444444444444,\"#bd3786\"],[0.5555555555555556,\"#d8576b\"],[0.6666666666666666,\"#ed7953\"],[0.7777777777777778,\"#fb9f3a\"],[0.8888888888888888,\"#fdca26\"],[1.0,\"#f0f921\"]]}],\"heatmap\":[{\"type\":\"heatmap\",\"colorbar\":{\"outlinewidth\":0,\"ticks\":\"\"},\"colorscale\":[[0.0,\"#0d0887\"],[0.1111111111111111,\"#46039f\"],[0.2222222222222222,\"#7201a8\"],[0.3333333333333333,\"#9c179e\"],[0.4444444444444444,\"#bd3786\"],[0.5555555555555556,\"#d8576b\"],[0.6666666666666666,\"#ed7953\"],[0.7777777777777778,\"#fb9f3a\"],[0.8888888888888888,\"#fdca26\"],[1.0,\"#f0f921\"]]}],\"heatmapgl\":[{\"type\":\"heatmapgl\",\"colorbar\":{\"outlinewidth\":0,\"ticks\":\"\"},\"colorscale\":[[0.0,\"#0d0887\"],[0.1111111111111111,\"#46039f\"],[0.2222222222222222,\"#7201a8\"],[0.3333333333333333,\"#9c179e\"],[0.4444444444444444,\"#bd3786\"],[0.5555555555555556,\"#d8576b\"],[0.6666666666666666,\"#ed7953\"],[0.7777777777777778,\"#fb9f3a\"],[0.8888888888888888,\"#fdca26\"],[1.0,\"#f0f921\"]]}],\"contourcarpet\":[{\"type\":\"contourcarpet\",\"colorbar\":{\"outlinewidth\":0,\"ticks\":\"\"}}],\"contour\":[{\"type\":\"contour\",\"colorbar\":{\"outlinewidth\":0,\"ticks\":\"\"},\"colorscale\":[[0.0,\"#0d0887\"],[0.1111111111111111,\"#46039f\"],[0.2222222222222222,\"#7201a8\"],[0.3333333333333333,\"#9c179e\"],[0.4444444444444444,\"#bd3786\"],[0.5555555555555556,\"#d8576b\"],[0.6666666666666666,\"#ed7953\"],[0.7777777777777778,\"#fb9f3a\"],[0.8888888888888888,\"#fdca26\"],[1.0,\"#f0f921\"]]}],\"surface\":[{\"type\":\"surface\",\"colorbar\":{\"outlinewidth\":0,\"ticks\":\"\"},\"colorscale\":[[0.0,\"#0d0887\"],[0.1111111111111111,\"#46039f\"],[0.2222222222222222,\"#7201a8\"],[0.3333333333333333,\"#9c179e\"],[0.4444444444444444,\"#bd3786\"],[0.5555555555555556,\"#d8576b\"],[0.6666666666666666,\"#ed7953\"],[0.7777777777777778,\"#fb9f3a\"],[0.8888888888888888,\"#fdca26\"],[1.0,\"#f0f921\"]]}],\"mesh3d\":[{\"type\":\"mesh3d\",\"colorbar\":{\"outlinewidth\":0,\"ticks\":\"\"}}],\"scatter\":[{\"fillpattern\":{\"fillmode\":\"overlay\",\"size\":10,\"solidity\":0.2},\"type\":\"scatter\"}],\"parcoords\":[{\"type\":\"parcoords\",\"line\":{\"colorbar\":{\"outlinewidth\":0,\"ticks\":\"\"}}}],\"scatterpolargl\":[{\"type\":\"scatterpolargl\",\"marker\":{\"colorbar\":{\"outlinewidth\":0,\"ticks\":\"\"}}}],\"bar\":[{\"error_x\":{\"color\":\"#2a3f5f\"},\"error_y\":{\"color\":\"#2a3f5f\"},\"marker\":{\"line\":{\"color\":\"#E5ECF6\",\"width\":0.5},\"pattern\":{\"fillmode\":\"overlay\",\"size\":10,\"solidity\":0.2}},\"type\":\"bar\"}],\"scattergeo\":[{\"type\":\"scattergeo\",\"marker\":{\"colorbar\":{\"outlinewidth\":0,\"ticks\":\"\"}}}],\"scatterpolar\":[{\"type\":\"scatterpolar\",\"marker\":{\"colorbar\":{\"outlinewidth\":0,\"ticks\":\"\"}}}],\"histogram\":[{\"marker\":{\"pattern\":{\"fillmode\":\"overlay\",\"size\":10,\"solidity\":0.2}},\"type\":\"histogram\"}],\"scattergl\":[{\"type\":\"scattergl\",\"marker\":{\"colorbar\":{\"outlinewidth\":0,\"ticks\":\"\"}}}],\"scatter3d\":[{\"type\":\"scatter3d\",\"line\":{\"colorbar\":{\"outlinewidth\":0,\"ticks\":\"\"}},\"marker\":{\"colorbar\":{\"outlinewidth\":0,\"ticks\":\"\"}}}],\"scattermapbox\":[{\"type\":\"scattermapbox\",\"marker\":{\"colorbar\":{\"outlinewidth\":0,\"ticks\":\"\"}}}],\"scatterternary\":[{\"type\":\"scatterternary\",\"marker\":{\"colorbar\":{\"outlinewidth\":0,\"ticks\":\"\"}}}],\"scattercarpet\":[{\"type\":\"scattercarpet\",\"marker\":{\"colorbar\":{\"outlinewidth\":0,\"ticks\":\"\"}}}],\"carpet\":[{\"aaxis\":{\"endlinecolor\":\"#2a3f5f\",\"gridcolor\":\"white\",\"linecolor\":\"white\",\"minorgridcolor\":\"white\",\"startlinecolor\":\"#2a3f5f\"},\"baxis\":{\"endlinecolor\":\"#2a3f5f\",\"gridcolor\":\"white\",\"linecolor\":\"white\",\"minorgridcolor\":\"white\",\"startlinecolor\":\"#2a3f5f\"},\"type\":\"carpet\"}],\"table\":[{\"cells\":{\"fill\":{\"color\":\"#EBF0F8\"},\"line\":{\"color\":\"white\"}},\"header\":{\"fill\":{\"color\":\"#C8D4E3\"},\"line\":{\"color\":\"white\"}},\"type\":\"table\"}],\"barpolar\":[{\"marker\":{\"line\":{\"color\":\"#E5ECF6\",\"width\":0.5},\"pattern\":{\"fillmode\":\"overlay\",\"size\":10,\"solidity\":0.2}},\"type\":\"barpolar\"}],\"pie\":[{\"automargin\":true,\"type\":\"pie\"}]},\"layout\":{\"autotypenumbers\":\"strict\",\"colorway\":[\"#636efa\",\"#EF553B\",\"#00cc96\",\"#ab63fa\",\"#FFA15A\",\"#19d3f3\",\"#FF6692\",\"#B6E880\",\"#FF97FF\",\"#FECB52\"],\"font\":{\"color\":\"#2a3f5f\"},\"hovermode\":\"closest\",\"hoverlabel\":{\"align\":\"left\"},\"paper_bgcolor\":\"white\",\"plot_bgcolor\":\"#E5ECF6\",\"polar\":{\"bgcolor\":\"#E5ECF6\",\"angularaxis\":{\"gridcolor\":\"white\",\"linecolor\":\"white\",\"ticks\":\"\"},\"radialaxis\":{\"gridcolor\":\"white\",\"linecolor\":\"white\",\"ticks\":\"\"}},\"ternary\":{\"bgcolor\":\"#E5ECF6\",\"aaxis\":{\"gridcolor\":\"white\",\"linecolor\":\"white\",\"ticks\":\"\"},\"baxis\":{\"gridcolor\":\"white\",\"linecolor\":\"white\",\"ticks\":\"\"},\"caxis\":{\"gridcolor\":\"white\",\"linecolor\":\"white\",\"ticks\":\"\"}},\"coloraxis\":{\"colorbar\":{\"outlinewidth\":0,\"ticks\":\"\"}},\"colorscale\":{\"sequential\":[[0.0,\"#0d0887\"],[0.1111111111111111,\"#46039f\"],[0.2222222222222222,\"#7201a8\"],[0.3333333333333333,\"#9c179e\"],[0.4444444444444444,\"#bd3786\"],[0.5555555555555556,\"#d8576b\"],[0.6666666666666666,\"#ed7953\"],[0.7777777777777778,\"#fb9f3a\"],[0.8888888888888888,\"#fdca26\"],[1.0,\"#f0f921\"]],\"sequentialminus\":[[0.0,\"#0d0887\"],[0.1111111111111111,\"#46039f\"],[0.2222222222222222,\"#7201a8\"],[0.3333333333333333,\"#9c179e\"],[0.4444444444444444,\"#bd3786\"],[0.5555555555555556,\"#d8576b\"],[0.6666666666666666,\"#ed7953\"],[0.7777777777777778,\"#fb9f3a\"],[0.8888888888888888,\"#fdca26\"],[1.0,\"#f0f921\"]],\"diverging\":[[0,\"#8e0152\"],[0.1,\"#c51b7d\"],[0.2,\"#de77ae\"],[0.3,\"#f1b6da\"],[0.4,\"#fde0ef\"],[0.5,\"#f7f7f7\"],[0.6,\"#e6f5d0\"],[0.7,\"#b8e186\"],[0.8,\"#7fbc41\"],[0.9,\"#4d9221\"],[1,\"#276419\"]]},\"xaxis\":{\"gridcolor\":\"white\",\"linecolor\":\"white\",\"ticks\":\"\",\"title\":{\"standoff\":15},\"zerolinecolor\":\"white\",\"automargin\":true,\"zerolinewidth\":2},\"yaxis\":{\"gridcolor\":\"white\",\"linecolor\":\"white\",\"ticks\":\"\",\"title\":{\"standoff\":15},\"zerolinecolor\":\"white\",\"automargin\":true,\"zerolinewidth\":2},\"scene\":{\"xaxis\":{\"backgroundcolor\":\"#E5ECF6\",\"gridcolor\":\"white\",\"linecolor\":\"white\",\"showbackground\":true,\"ticks\":\"\",\"zerolinecolor\":\"white\",\"gridwidth\":2},\"yaxis\":{\"backgroundcolor\":\"#E5ECF6\",\"gridcolor\":\"white\",\"linecolor\":\"white\",\"showbackground\":true,\"ticks\":\"\",\"zerolinecolor\":\"white\",\"gridwidth\":2},\"zaxis\":{\"backgroundcolor\":\"#E5ECF6\",\"gridcolor\":\"white\",\"linecolor\":\"white\",\"showbackground\":true,\"ticks\":\"\",\"zerolinecolor\":\"white\",\"gridwidth\":2}},\"shapedefaults\":{\"line\":{\"color\":\"#2a3f5f\"}},\"annotationdefaults\":{\"arrowcolor\":\"#2a3f5f\",\"arrowhead\":0,\"arrowwidth\":1},\"geo\":{\"bgcolor\":\"white\",\"landcolor\":\"#E5ECF6\",\"subunitcolor\":\"white\",\"showland\":true,\"showlakes\":true,\"lakecolor\":\"white\"},\"title\":{\"x\":0.05},\"mapbox\":{\"style\":\"light\"}}},\"title\":{\"text\":\"\\u0412\\u043e\\u0440\\u043e\\u043d\\u043a\\u0430 \\u0441\\u043e\\u0431\\u044b\\u0442\\u0438\\u0439\"}},                        {\"responsive\": true}                    ).then(function(){\n",
              "                            \n",
              "var gd = document.getElementById('3df9f67d-f020-43f1-ac93-f6947b86795e');\n",
              "var x = new MutationObserver(function (mutations, observer) {{\n",
              "        var display = window.getComputedStyle(gd).display;\n",
              "        if (!display || display === 'none') {{\n",
              "            console.log([gd, 'removed!']);\n",
              "            Plotly.purge(gd);\n",
              "            observer.disconnect();\n",
              "        }}\n",
              "}});\n",
              "\n",
              "// Listen for the removal of the full notebook cells\n",
              "var notebookContainer = gd.closest('#notebook-container');\n",
              "if (notebookContainer) {{\n",
              "    x.observe(notebookContainer, {childList: true});\n",
              "}}\n",
              "\n",
              "// Listen for the clearing of the current output cell\n",
              "var outputEl = gd.closest('.output');\n",
              "if (outputEl) {{\n",
              "    x.observe(outputEl, {childList: true});\n",
              "}}\n",
              "\n",
              "                        })                };                            </script>        </div>\n",
              "</body>\n",
              "</html>"
            ]
          },
          "metadata": {}
        }
      ],
      "source": [
        "fig = go.Figure()\n",
        "\n",
        "fig.add_trace(go.Funnel(\n",
        "    name = 'Group A',\n",
        "    y = funnel_A['event'],\n",
        "    x = funnel_A['users'],\n",
        "    textinfo = \"value+percent initial\"))\n",
        "\n",
        "fig.add_trace(go.Funnel(\n",
        "    name = 'Group B',\n",
        "    orientation = \"h\",\n",
        "    y = funnel_B['event'],\n",
        "    x = funnel_B['users'],\n",
        "    textposition = \"inside\",\n",
        "    textinfo = \"value+percent initial\"))\n",
        "fig.update_layout(\n",
        "    title=\"Воронка событий\")\n",
        "\n",
        "fig.show()"
      ]
    },
    {
      "cell_type": "markdown",
      "metadata": {
        "id": "2EYiCrRPY69h"
      },
      "source": [
        "Воронка событий:<div>\n",
        "1 - логин пользователя в системе\n",
        "2 - карточка товара<div>\n",
        "3 - просмотр корзины<div>\n",
        "4 - покупка<div>\n",
        "НО, исходя из данных делаю вывод, что покупка возможна и без перехода в корзину а.к.а. быстрая оплата из карточки товара.\n",
        "    \n",
        "На 2м шаге отваливается около 45% пользователей."
      ]
    },
    {
      "cell_type": "markdown",
      "metadata": {
        "id": "m8rSTrf0Y69i"
      },
      "source": [
        "Распределены количество событий на пользователя:"
      ]
    },
    {
      "cell_type": "code",
      "execution_count": 53,
      "metadata": {
        "colab": {
          "base_uri": "https://localhost:8080/"
        },
        "id": "YPLB2wjfY69i",
        "outputId": "ed7cd805-7fc3-4fb3-fa99-e9e3907efae3"
      },
      "outputs": [
        {
          "output_type": "execute_result",
          "data": {
            "text/plain": [
              "6.944764649375601"
            ]
          },
          "metadata": {},
          "execution_count": 53
        }
      ],
      "source": [
        "data.query('group == \"A\"').groupby(['user_id'])['event_name'].count().mean()"
      ]
    },
    {
      "cell_type": "code",
      "execution_count": 54,
      "metadata": {
        "colab": {
          "base_uri": "https://localhost:8080/"
        },
        "id": "yEcf1XAaY69i",
        "outputId": "7229bcdf-e6a1-4e8f-9b3c-086f427345c8"
      },
      "outputs": [
        {
          "output_type": "execute_result",
          "data": {
            "text/plain": [
              "5.481586402266289"
            ]
          },
          "metadata": {},
          "execution_count": 54
        }
      ],
      "source": [
        "data.query('group == \"B\"').groupby(['user_id'])['event_name'].count().mean()"
      ]
    },
    {
      "cell_type": "markdown",
      "metadata": {
        "id": "oZq8cGXJY69i"
      },
      "source": [
        "В группе А пользователь совершает больше действий, нежели в группе В."
      ]
    },
    {
      "cell_type": "code",
      "execution_count": 55,
      "metadata": {
        "id": "QA2yLp3aY69j"
      },
      "outputs": [],
      "source": [
        "#events_ab.head()"
      ]
    },
    {
      "cell_type": "code",
      "execution_count": 56,
      "metadata": {
        "colab": {
          "base_uri": "https://localhost:8080/",
          "height": 206
        },
        "id": "FEjYgDLnY69j",
        "outputId": "ba50098e-9698-491d-bbd6-34472c1a32e7"
      },
      "outputs": [
        {
          "output_type": "execute_result",
          "data": {
            "text/plain": [
              "  group       date  event_name\n",
              "0     A 2020-12-07         234\n",
              "1     A 2020-12-08         267\n",
              "2     A 2020-12-09         296\n",
              "3     A 2020-12-10         265\n",
              "4     A 2020-12-11         282"
            ],
            "text/html": [
              "\n",
              "  <div id=\"df-5743122c-82aa-49b6-b76d-e562783c80da\">\n",
              "    <div class=\"colab-df-container\">\n",
              "      <div>\n",
              "<style scoped>\n",
              "    .dataframe tbody tr th:only-of-type {\n",
              "        vertical-align: middle;\n",
              "    }\n",
              "\n",
              "    .dataframe tbody tr th {\n",
              "        vertical-align: top;\n",
              "    }\n",
              "\n",
              "    .dataframe thead th {\n",
              "        text-align: right;\n",
              "    }\n",
              "</style>\n",
              "<table border=\"1\" class=\"dataframe\">\n",
              "  <thead>\n",
              "    <tr style=\"text-align: right;\">\n",
              "      <th></th>\n",
              "      <th>group</th>\n",
              "      <th>date</th>\n",
              "      <th>event_name</th>\n",
              "    </tr>\n",
              "  </thead>\n",
              "  <tbody>\n",
              "    <tr>\n",
              "      <th>0</th>\n",
              "      <td>A</td>\n",
              "      <td>2020-12-07</td>\n",
              "      <td>234</td>\n",
              "    </tr>\n",
              "    <tr>\n",
              "      <th>1</th>\n",
              "      <td>A</td>\n",
              "      <td>2020-12-08</td>\n",
              "      <td>267</td>\n",
              "    </tr>\n",
              "    <tr>\n",
              "      <th>2</th>\n",
              "      <td>A</td>\n",
              "      <td>2020-12-09</td>\n",
              "      <td>296</td>\n",
              "    </tr>\n",
              "    <tr>\n",
              "      <th>3</th>\n",
              "      <td>A</td>\n",
              "      <td>2020-12-10</td>\n",
              "      <td>265</td>\n",
              "    </tr>\n",
              "    <tr>\n",
              "      <th>4</th>\n",
              "      <td>A</td>\n",
              "      <td>2020-12-11</td>\n",
              "      <td>282</td>\n",
              "    </tr>\n",
              "  </tbody>\n",
              "</table>\n",
              "</div>\n",
              "      <button class=\"colab-df-convert\" onclick=\"convertToInteractive('df-5743122c-82aa-49b6-b76d-e562783c80da')\"\n",
              "              title=\"Convert this dataframe to an interactive table.\"\n",
              "              style=\"display:none;\">\n",
              "        \n",
              "  <svg xmlns=\"http://www.w3.org/2000/svg\" height=\"24px\"viewBox=\"0 0 24 24\"\n",
              "       width=\"24px\">\n",
              "    <path d=\"M0 0h24v24H0V0z\" fill=\"none\"/>\n",
              "    <path d=\"M18.56 5.44l.94 2.06.94-2.06 2.06-.94-2.06-.94-.94-2.06-.94 2.06-2.06.94zm-11 1L8.5 8.5l.94-2.06 2.06-.94-2.06-.94L8.5 2.5l-.94 2.06-2.06.94zm10 10l.94 2.06.94-2.06 2.06-.94-2.06-.94-.94-2.06-.94 2.06-2.06.94z\"/><path d=\"M17.41 7.96l-1.37-1.37c-.4-.4-.92-.59-1.43-.59-.52 0-1.04.2-1.43.59L10.3 9.45l-7.72 7.72c-.78.78-.78 2.05 0 2.83L4 21.41c.39.39.9.59 1.41.59.51 0 1.02-.2 1.41-.59l7.78-7.78 2.81-2.81c.8-.78.8-2.07 0-2.86zM5.41 20L4 18.59l7.72-7.72 1.47 1.35L5.41 20z\"/>\n",
              "  </svg>\n",
              "      </button>\n",
              "      \n",
              "  <style>\n",
              "    .colab-df-container {\n",
              "      display:flex;\n",
              "      flex-wrap:wrap;\n",
              "      gap: 12px;\n",
              "    }\n",
              "\n",
              "    .colab-df-convert {\n",
              "      background-color: #E8F0FE;\n",
              "      border: none;\n",
              "      border-radius: 50%;\n",
              "      cursor: pointer;\n",
              "      display: none;\n",
              "      fill: #1967D2;\n",
              "      height: 32px;\n",
              "      padding: 0 0 0 0;\n",
              "      width: 32px;\n",
              "    }\n",
              "\n",
              "    .colab-df-convert:hover {\n",
              "      background-color: #E2EBFA;\n",
              "      box-shadow: 0px 1px 2px rgba(60, 64, 67, 0.3), 0px 1px 3px 1px rgba(60, 64, 67, 0.15);\n",
              "      fill: #174EA6;\n",
              "    }\n",
              "\n",
              "    [theme=dark] .colab-df-convert {\n",
              "      background-color: #3B4455;\n",
              "      fill: #D2E3FC;\n",
              "    }\n",
              "\n",
              "    [theme=dark] .colab-df-convert:hover {\n",
              "      background-color: #434B5C;\n",
              "      box-shadow: 0px 1px 3px 1px rgba(0, 0, 0, 0.15);\n",
              "      filter: drop-shadow(0px 1px 2px rgba(0, 0, 0, 0.3));\n",
              "      fill: #FFFFFF;\n",
              "    }\n",
              "  </style>\n",
              "\n",
              "      <script>\n",
              "        const buttonEl =\n",
              "          document.querySelector('#df-5743122c-82aa-49b6-b76d-e562783c80da button.colab-df-convert');\n",
              "        buttonEl.style.display =\n",
              "          google.colab.kernel.accessAllowed ? 'block' : 'none';\n",
              "\n",
              "        async function convertToInteractive(key) {\n",
              "          const element = document.querySelector('#df-5743122c-82aa-49b6-b76d-e562783c80da');\n",
              "          const dataTable =\n",
              "            await google.colab.kernel.invokeFunction('convertToInteractive',\n",
              "                                                     [key], {});\n",
              "          if (!dataTable) return;\n",
              "\n",
              "          const docLinkHtml = 'Like what you see? Visit the ' +\n",
              "            '<a target=\"_blank\" href=https://colab.research.google.com/notebooks/data_table.ipynb>data table notebook</a>'\n",
              "            + ' to learn more about interactive tables.';\n",
              "          element.innerHTML = '';\n",
              "          dataTable['output_type'] = 'display_data';\n",
              "          await google.colab.output.renderOutput(dataTable, element);\n",
              "          const docLink = document.createElement('div');\n",
              "          docLink.innerHTML = docLinkHtml;\n",
              "          element.appendChild(docLink);\n",
              "        }\n",
              "      </script>\n",
              "    </div>\n",
              "  </div>\n",
              "  "
            ]
          },
          "metadata": {},
          "execution_count": 56
        }
      ],
      "source": [
        "event_by_day = funnel.groupby(['group','date'])['event_name'].count().reset_index()\n",
        "event_by_day.head()"
      ]
    },
    {
      "cell_type": "code",
      "execution_count": 57,
      "metadata": {
        "scrolled": false,
        "colab": {
          "base_uri": "https://localhost:8080/",
          "height": 542
        },
        "id": "bP2N8x3wY69j",
        "outputId": "da86f759-fdc1-416f-8e10-e93bca74e7bb"
      },
      "outputs": [
        {
          "output_type": "display_data",
          "data": {
            "text/html": [
              "<html>\n",
              "<head><meta charset=\"utf-8\" /></head>\n",
              "<body>\n",
              "    <div>            <script src=\"https://cdnjs.cloudflare.com/ajax/libs/mathjax/2.7.5/MathJax.js?config=TeX-AMS-MML_SVG\"></script><script type=\"text/javascript\">if (window.MathJax && window.MathJax.Hub && window.MathJax.Hub.Config) {window.MathJax.Hub.Config({SVG: {font: \"STIX-Web\"}});}</script>                <script type=\"text/javascript\">window.PlotlyConfig = {MathJaxConfig: 'local'};</script>\n",
              "        <script src=\"https://cdn.plot.ly/plotly-2.18.2.min.js\"></script>                <div id=\"73a0a0d3-ab48-4000-b446-3ec8b862cee3\" class=\"plotly-graph-div\" style=\"height:525px; width:100%;\"></div>            <script type=\"text/javascript\">                                    window.PLOTLYENV=window.PLOTLYENV || {};                                    if (document.getElementById(\"73a0a0d3-ab48-4000-b446-3ec8b862cee3\")) {                    Plotly.newPlot(                        \"73a0a0d3-ab48-4000-b446-3ec8b862cee3\",                        [{\"alignmentgroup\":\"True\",\"hovertemplate\":\"group=A<br>\\u0414\\u0430\\u0442\\u0430=%{x}<br>\\u041a\\u043e\\u043b-\\u0432\\u043e=%{text}<extra></extra>\",\"legendgroup\":\"A\",\"marker\":{\"color\":\"#636efa\",\"pattern\":{\"shape\":\"\"}},\"name\":\"A\",\"offsetgroup\":\"A\",\"orientation\":\"v\",\"showlegend\":true,\"text\":[234.0,267.0,296.0,265.0,282.0,282.0,253.0,823.0,834.0,810.0,927.0,976.0,1180.0,1193.0,1550.0,1016.0,755.0,637.0,480.0,416.0,416.0,325.0,242.0],\"textposition\":\"auto\",\"x\":[\"2020-12-07T00:00:00\",\"2020-12-08T00:00:00\",\"2020-12-09T00:00:00\",\"2020-12-10T00:00:00\",\"2020-12-11T00:00:00\",\"2020-12-12T00:00:00\",\"2020-12-13T00:00:00\",\"2020-12-14T00:00:00\",\"2020-12-15T00:00:00\",\"2020-12-16T00:00:00\",\"2020-12-17T00:00:00\",\"2020-12-18T00:00:00\",\"2020-12-19T00:00:00\",\"2020-12-20T00:00:00\",\"2020-12-21T00:00:00\",\"2020-12-22T00:00:00\",\"2020-12-23T00:00:00\",\"2020-12-24T00:00:00\",\"2020-12-25T00:00:00\",\"2020-12-26T00:00:00\",\"2020-12-27T00:00:00\",\"2020-12-28T00:00:00\",\"2020-12-29T00:00:00\"],\"xaxis\":\"x\",\"y\":[234,267,296,265,282,282,253,823,834,810,927,976,1180,1193,1550,1016,755,637,480,416,416,325,242],\"yaxis\":\"y\",\"type\":\"bar\"},{\"alignmentgroup\":\"True\",\"hovertemplate\":\"group=B<br>\\u0414\\u0430\\u0442\\u0430=%{x}<br>\\u041a\\u043e\\u043b-\\u0432\\u043e=%{text}<extra></extra>\",\"legendgroup\":\"B\",\"marker\":{\"color\":\"#EF553B\",\"pattern\":{\"shape\":\"\"}},\"name\":\"B\",\"offsetgroup\":\"B\",\"orientation\":\"v\",\"showlegend\":true,\"text\":[290.0,183.0,273.0,196.0,122.0,154.0,115.0,217.0,174.0,291.0,209.0,213.0,228.0,249.0,337.0,133.0,134.0,94.0,63.0,54.0,58.0,50.0,33.0],\"textposition\":\"auto\",\"x\":[\"2020-12-07T00:00:00\",\"2020-12-08T00:00:00\",\"2020-12-09T00:00:00\",\"2020-12-10T00:00:00\",\"2020-12-11T00:00:00\",\"2020-12-12T00:00:00\",\"2020-12-13T00:00:00\",\"2020-12-14T00:00:00\",\"2020-12-15T00:00:00\",\"2020-12-16T00:00:00\",\"2020-12-17T00:00:00\",\"2020-12-18T00:00:00\",\"2020-12-19T00:00:00\",\"2020-12-20T00:00:00\",\"2020-12-21T00:00:00\",\"2020-12-22T00:00:00\",\"2020-12-23T00:00:00\",\"2020-12-24T00:00:00\",\"2020-12-25T00:00:00\",\"2020-12-26T00:00:00\",\"2020-12-27T00:00:00\",\"2020-12-28T00:00:00\",\"2020-12-29T00:00:00\"],\"xaxis\":\"x\",\"y\":[290,183,273,196,122,154,115,217,174,291,209,213,228,249,337,133,134,94,63,54,58,50,33],\"yaxis\":\"y\",\"type\":\"bar\"}],                        {\"template\":{\"data\":{\"histogram2dcontour\":[{\"type\":\"histogram2dcontour\",\"colorbar\":{\"outlinewidth\":0,\"ticks\":\"\"},\"colorscale\":[[0.0,\"#0d0887\"],[0.1111111111111111,\"#46039f\"],[0.2222222222222222,\"#7201a8\"],[0.3333333333333333,\"#9c179e\"],[0.4444444444444444,\"#bd3786\"],[0.5555555555555556,\"#d8576b\"],[0.6666666666666666,\"#ed7953\"],[0.7777777777777778,\"#fb9f3a\"],[0.8888888888888888,\"#fdca26\"],[1.0,\"#f0f921\"]]}],\"choropleth\":[{\"type\":\"choropleth\",\"colorbar\":{\"outlinewidth\":0,\"ticks\":\"\"}}],\"histogram2d\":[{\"type\":\"histogram2d\",\"colorbar\":{\"outlinewidth\":0,\"ticks\":\"\"},\"colorscale\":[[0.0,\"#0d0887\"],[0.1111111111111111,\"#46039f\"],[0.2222222222222222,\"#7201a8\"],[0.3333333333333333,\"#9c179e\"],[0.4444444444444444,\"#bd3786\"],[0.5555555555555556,\"#d8576b\"],[0.6666666666666666,\"#ed7953\"],[0.7777777777777778,\"#fb9f3a\"],[0.8888888888888888,\"#fdca26\"],[1.0,\"#f0f921\"]]}],\"heatmap\":[{\"type\":\"heatmap\",\"colorbar\":{\"outlinewidth\":0,\"ticks\":\"\"},\"colorscale\":[[0.0,\"#0d0887\"],[0.1111111111111111,\"#46039f\"],[0.2222222222222222,\"#7201a8\"],[0.3333333333333333,\"#9c179e\"],[0.4444444444444444,\"#bd3786\"],[0.5555555555555556,\"#d8576b\"],[0.6666666666666666,\"#ed7953\"],[0.7777777777777778,\"#fb9f3a\"],[0.8888888888888888,\"#fdca26\"],[1.0,\"#f0f921\"]]}],\"heatmapgl\":[{\"type\":\"heatmapgl\",\"colorbar\":{\"outlinewidth\":0,\"ticks\":\"\"},\"colorscale\":[[0.0,\"#0d0887\"],[0.1111111111111111,\"#46039f\"],[0.2222222222222222,\"#7201a8\"],[0.3333333333333333,\"#9c179e\"],[0.4444444444444444,\"#bd3786\"],[0.5555555555555556,\"#d8576b\"],[0.6666666666666666,\"#ed7953\"],[0.7777777777777778,\"#fb9f3a\"],[0.8888888888888888,\"#fdca26\"],[1.0,\"#f0f921\"]]}],\"contourcarpet\":[{\"type\":\"contourcarpet\",\"colorbar\":{\"outlinewidth\":0,\"ticks\":\"\"}}],\"contour\":[{\"type\":\"contour\",\"colorbar\":{\"outlinewidth\":0,\"ticks\":\"\"},\"colorscale\":[[0.0,\"#0d0887\"],[0.1111111111111111,\"#46039f\"],[0.2222222222222222,\"#7201a8\"],[0.3333333333333333,\"#9c179e\"],[0.4444444444444444,\"#bd3786\"],[0.5555555555555556,\"#d8576b\"],[0.6666666666666666,\"#ed7953\"],[0.7777777777777778,\"#fb9f3a\"],[0.8888888888888888,\"#fdca26\"],[1.0,\"#f0f921\"]]}],\"surface\":[{\"type\":\"surface\",\"colorbar\":{\"outlinewidth\":0,\"ticks\":\"\"},\"colorscale\":[[0.0,\"#0d0887\"],[0.1111111111111111,\"#46039f\"],[0.2222222222222222,\"#7201a8\"],[0.3333333333333333,\"#9c179e\"],[0.4444444444444444,\"#bd3786\"],[0.5555555555555556,\"#d8576b\"],[0.6666666666666666,\"#ed7953\"],[0.7777777777777778,\"#fb9f3a\"],[0.8888888888888888,\"#fdca26\"],[1.0,\"#f0f921\"]]}],\"mesh3d\":[{\"type\":\"mesh3d\",\"colorbar\":{\"outlinewidth\":0,\"ticks\":\"\"}}],\"scatter\":[{\"fillpattern\":{\"fillmode\":\"overlay\",\"size\":10,\"solidity\":0.2},\"type\":\"scatter\"}],\"parcoords\":[{\"type\":\"parcoords\",\"line\":{\"colorbar\":{\"outlinewidth\":0,\"ticks\":\"\"}}}],\"scatterpolargl\":[{\"type\":\"scatterpolargl\",\"marker\":{\"colorbar\":{\"outlinewidth\":0,\"ticks\":\"\"}}}],\"bar\":[{\"error_x\":{\"color\":\"#2a3f5f\"},\"error_y\":{\"color\":\"#2a3f5f\"},\"marker\":{\"line\":{\"color\":\"#E5ECF6\",\"width\":0.5},\"pattern\":{\"fillmode\":\"overlay\",\"size\":10,\"solidity\":0.2}},\"type\":\"bar\"}],\"scattergeo\":[{\"type\":\"scattergeo\",\"marker\":{\"colorbar\":{\"outlinewidth\":0,\"ticks\":\"\"}}}],\"scatterpolar\":[{\"type\":\"scatterpolar\",\"marker\":{\"colorbar\":{\"outlinewidth\":0,\"ticks\":\"\"}}}],\"histogram\":[{\"marker\":{\"pattern\":{\"fillmode\":\"overlay\",\"size\":10,\"solidity\":0.2}},\"type\":\"histogram\"}],\"scattergl\":[{\"type\":\"scattergl\",\"marker\":{\"colorbar\":{\"outlinewidth\":0,\"ticks\":\"\"}}}],\"scatter3d\":[{\"type\":\"scatter3d\",\"line\":{\"colorbar\":{\"outlinewidth\":0,\"ticks\":\"\"}},\"marker\":{\"colorbar\":{\"outlinewidth\":0,\"ticks\":\"\"}}}],\"scattermapbox\":[{\"type\":\"scattermapbox\",\"marker\":{\"colorbar\":{\"outlinewidth\":0,\"ticks\":\"\"}}}],\"scatterternary\":[{\"type\":\"scatterternary\",\"marker\":{\"colorbar\":{\"outlinewidth\":0,\"ticks\":\"\"}}}],\"scattercarpet\":[{\"type\":\"scattercarpet\",\"marker\":{\"colorbar\":{\"outlinewidth\":0,\"ticks\":\"\"}}}],\"carpet\":[{\"aaxis\":{\"endlinecolor\":\"#2a3f5f\",\"gridcolor\":\"white\",\"linecolor\":\"white\",\"minorgridcolor\":\"white\",\"startlinecolor\":\"#2a3f5f\"},\"baxis\":{\"endlinecolor\":\"#2a3f5f\",\"gridcolor\":\"white\",\"linecolor\":\"white\",\"minorgridcolor\":\"white\",\"startlinecolor\":\"#2a3f5f\"},\"type\":\"carpet\"}],\"table\":[{\"cells\":{\"fill\":{\"color\":\"#EBF0F8\"},\"line\":{\"color\":\"white\"}},\"header\":{\"fill\":{\"color\":\"#C8D4E3\"},\"line\":{\"color\":\"white\"}},\"type\":\"table\"}],\"barpolar\":[{\"marker\":{\"line\":{\"color\":\"#E5ECF6\",\"width\":0.5},\"pattern\":{\"fillmode\":\"overlay\",\"size\":10,\"solidity\":0.2}},\"type\":\"barpolar\"}],\"pie\":[{\"automargin\":true,\"type\":\"pie\"}]},\"layout\":{\"autotypenumbers\":\"strict\",\"colorway\":[\"#636efa\",\"#EF553B\",\"#00cc96\",\"#ab63fa\",\"#FFA15A\",\"#19d3f3\",\"#FF6692\",\"#B6E880\",\"#FF97FF\",\"#FECB52\"],\"font\":{\"color\":\"#2a3f5f\"},\"hovermode\":\"closest\",\"hoverlabel\":{\"align\":\"left\"},\"paper_bgcolor\":\"white\",\"plot_bgcolor\":\"#E5ECF6\",\"polar\":{\"bgcolor\":\"#E5ECF6\",\"angularaxis\":{\"gridcolor\":\"white\",\"linecolor\":\"white\",\"ticks\":\"\"},\"radialaxis\":{\"gridcolor\":\"white\",\"linecolor\":\"white\",\"ticks\":\"\"}},\"ternary\":{\"bgcolor\":\"#E5ECF6\",\"aaxis\":{\"gridcolor\":\"white\",\"linecolor\":\"white\",\"ticks\":\"\"},\"baxis\":{\"gridcolor\":\"white\",\"linecolor\":\"white\",\"ticks\":\"\"},\"caxis\":{\"gridcolor\":\"white\",\"linecolor\":\"white\",\"ticks\":\"\"}},\"coloraxis\":{\"colorbar\":{\"outlinewidth\":0,\"ticks\":\"\"}},\"colorscale\":{\"sequential\":[[0.0,\"#0d0887\"],[0.1111111111111111,\"#46039f\"],[0.2222222222222222,\"#7201a8\"],[0.3333333333333333,\"#9c179e\"],[0.4444444444444444,\"#bd3786\"],[0.5555555555555556,\"#d8576b\"],[0.6666666666666666,\"#ed7953\"],[0.7777777777777778,\"#fb9f3a\"],[0.8888888888888888,\"#fdca26\"],[1.0,\"#f0f921\"]],\"sequentialminus\":[[0.0,\"#0d0887\"],[0.1111111111111111,\"#46039f\"],[0.2222222222222222,\"#7201a8\"],[0.3333333333333333,\"#9c179e\"],[0.4444444444444444,\"#bd3786\"],[0.5555555555555556,\"#d8576b\"],[0.6666666666666666,\"#ed7953\"],[0.7777777777777778,\"#fb9f3a\"],[0.8888888888888888,\"#fdca26\"],[1.0,\"#f0f921\"]],\"diverging\":[[0,\"#8e0152\"],[0.1,\"#c51b7d\"],[0.2,\"#de77ae\"],[0.3,\"#f1b6da\"],[0.4,\"#fde0ef\"],[0.5,\"#f7f7f7\"],[0.6,\"#e6f5d0\"],[0.7,\"#b8e186\"],[0.8,\"#7fbc41\"],[0.9,\"#4d9221\"],[1,\"#276419\"]]},\"xaxis\":{\"gridcolor\":\"white\",\"linecolor\":\"white\",\"ticks\":\"\",\"title\":{\"standoff\":15},\"zerolinecolor\":\"white\",\"automargin\":true,\"zerolinewidth\":2},\"yaxis\":{\"gridcolor\":\"white\",\"linecolor\":\"white\",\"ticks\":\"\",\"title\":{\"standoff\":15},\"zerolinecolor\":\"white\",\"automargin\":true,\"zerolinewidth\":2},\"scene\":{\"xaxis\":{\"backgroundcolor\":\"#E5ECF6\",\"gridcolor\":\"white\",\"linecolor\":\"white\",\"showbackground\":true,\"ticks\":\"\",\"zerolinecolor\":\"white\",\"gridwidth\":2},\"yaxis\":{\"backgroundcolor\":\"#E5ECF6\",\"gridcolor\":\"white\",\"linecolor\":\"white\",\"showbackground\":true,\"ticks\":\"\",\"zerolinecolor\":\"white\",\"gridwidth\":2},\"zaxis\":{\"backgroundcolor\":\"#E5ECF6\",\"gridcolor\":\"white\",\"linecolor\":\"white\",\"showbackground\":true,\"ticks\":\"\",\"zerolinecolor\":\"white\",\"gridwidth\":2}},\"shapedefaults\":{\"line\":{\"color\":\"#2a3f5f\"}},\"annotationdefaults\":{\"arrowcolor\":\"#2a3f5f\",\"arrowhead\":0,\"arrowwidth\":1},\"geo\":{\"bgcolor\":\"white\",\"landcolor\":\"#E5ECF6\",\"subunitcolor\":\"white\",\"showland\":true,\"showlakes\":true,\"lakecolor\":\"white\"},\"title\":{\"x\":0.05},\"mapbox\":{\"style\":\"light\"}}},\"xaxis\":{\"anchor\":\"y\",\"domain\":[0.0,1.0],\"title\":{\"text\":\"\\u0414\\u0430\\u0442\\u0430\"}},\"yaxis\":{\"anchor\":\"x\",\"domain\":[0.0,1.0],\"title\":{\"text\":\"\\u041a\\u043e\\u043b-\\u0432\\u043e\"}},\"legend\":{\"title\":{\"text\":\"group\"},\"tracegroupgap\":0},\"title\":{\"text\":\"\\u041a\\u043e\\u043b\\u0438\\u0447\\u0435\\u0441\\u0442\\u0432\\u043e \\u0441\\u043e\\u0431\\u044b\\u0442\\u0438\\u0439 \\u043f\\u043e \\u0434\\u043d\\u044f\\u043c\"},\"barmode\":\"relative\"},                        {\"responsive\": true}                    ).then(function(){\n",
              "                            \n",
              "var gd = document.getElementById('73a0a0d3-ab48-4000-b446-3ec8b862cee3');\n",
              "var x = new MutationObserver(function (mutations, observer) {{\n",
              "        var display = window.getComputedStyle(gd).display;\n",
              "        if (!display || display === 'none') {{\n",
              "            console.log([gd, 'removed!']);\n",
              "            Plotly.purge(gd);\n",
              "            observer.disconnect();\n",
              "        }}\n",
              "}});\n",
              "\n",
              "// Listen for the removal of the full notebook cells\n",
              "var notebookContainer = gd.closest('#notebook-container');\n",
              "if (notebookContainer) {{\n",
              "    x.observe(notebookContainer, {childList: true});\n",
              "}}\n",
              "\n",
              "// Listen for the clearing of the current output cell\n",
              "var outputEl = gd.closest('.output');\n",
              "if (outputEl) {{\n",
              "    x.observe(outputEl, {childList: true});\n",
              "}}\n",
              "\n",
              "                        })                };                            </script>        </div>\n",
              "</body>\n",
              "</html>"
            ]
          },
          "metadata": {}
        }
      ],
      "source": [
        "fig = px.bar(event_by_day, x=\"date\", y='event_name', color = 'group',text = 'event_name', title=\"Количество событий по дням\", \\\n",
        "             labels={'date':'Дата','event_name':'Кол-во'})\n",
        "fig.show()"
      ]
    },
    {
      "cell_type": "markdown",
      "metadata": {
        "id": "DepU6lwEY69k"
      },
      "source": [
        "21 числа наблюдается всплеск событий. Не уверен почему.\n",
        "\n",
        "(В чате подсказалали, что возможно из-за рождества 25 числа у европейцев и они покупают подарки, сам не додумался)\n",
        "\n",
        "Учитывая событие от маркетологов в период от 12-25 по 01-03 - сильного влияния не замечено, наоборот в эти даты наблюдается спад по событиям."
      ]
    },
    {
      "cell_type": "markdown",
      "metadata": {
        "id": "0oh8JbjGY69k"
      },
      "source": [
        "Вспомогательная таблица для z-теста:"
      ]
    },
    {
      "cell_type": "code",
      "execution_count": 58,
      "metadata": {
        "colab": {
          "base_uri": "https://localhost:8080/",
          "height": 206
        },
        "id": "hh0YCJ6EY69k",
        "outputId": "05705aea-1750-4097-c81b-897578b7dc84"
      },
      "outputs": [
        {
          "output_type": "execute_result",
          "data": {
            "text/plain": [
              "group    event_name     A    B   All\n",
              "0             login  2082  705  2787\n",
              "1      product_page  1360  397  1757\n",
              "2      product_cart   631  195   826\n",
              "3          purchase   652  198   850\n",
              "4               All  2082  706  2788"
            ],
            "text/html": [
              "\n",
              "  <div id=\"df-05385fa2-0a36-4554-9f5e-9f7bb47240e3\">\n",
              "    <div class=\"colab-df-container\">\n",
              "      <div>\n",
              "<style scoped>\n",
              "    .dataframe tbody tr th:only-of-type {\n",
              "        vertical-align: middle;\n",
              "    }\n",
              "\n",
              "    .dataframe tbody tr th {\n",
              "        vertical-align: top;\n",
              "    }\n",
              "\n",
              "    .dataframe thead th {\n",
              "        text-align: right;\n",
              "    }\n",
              "</style>\n",
              "<table border=\"1\" class=\"dataframe\">\n",
              "  <thead>\n",
              "    <tr style=\"text-align: right;\">\n",
              "      <th>group</th>\n",
              "      <th>event_name</th>\n",
              "      <th>A</th>\n",
              "      <th>B</th>\n",
              "      <th>All</th>\n",
              "    </tr>\n",
              "  </thead>\n",
              "  <tbody>\n",
              "    <tr>\n",
              "      <th>0</th>\n",
              "      <td>login</td>\n",
              "      <td>2082</td>\n",
              "      <td>705</td>\n",
              "      <td>2787</td>\n",
              "    </tr>\n",
              "    <tr>\n",
              "      <th>1</th>\n",
              "      <td>product_page</td>\n",
              "      <td>1360</td>\n",
              "      <td>397</td>\n",
              "      <td>1757</td>\n",
              "    </tr>\n",
              "    <tr>\n",
              "      <th>2</th>\n",
              "      <td>product_cart</td>\n",
              "      <td>631</td>\n",
              "      <td>195</td>\n",
              "      <td>826</td>\n",
              "    </tr>\n",
              "    <tr>\n",
              "      <th>3</th>\n",
              "      <td>purchase</td>\n",
              "      <td>652</td>\n",
              "      <td>198</td>\n",
              "      <td>850</td>\n",
              "    </tr>\n",
              "    <tr>\n",
              "      <th>4</th>\n",
              "      <td>All</td>\n",
              "      <td>2082</td>\n",
              "      <td>706</td>\n",
              "      <td>2788</td>\n",
              "    </tr>\n",
              "  </tbody>\n",
              "</table>\n",
              "</div>\n",
              "      <button class=\"colab-df-convert\" onclick=\"convertToInteractive('df-05385fa2-0a36-4554-9f5e-9f7bb47240e3')\"\n",
              "              title=\"Convert this dataframe to an interactive table.\"\n",
              "              style=\"display:none;\">\n",
              "        \n",
              "  <svg xmlns=\"http://www.w3.org/2000/svg\" height=\"24px\"viewBox=\"0 0 24 24\"\n",
              "       width=\"24px\">\n",
              "    <path d=\"M0 0h24v24H0V0z\" fill=\"none\"/>\n",
              "    <path d=\"M18.56 5.44l.94 2.06.94-2.06 2.06-.94-2.06-.94-.94-2.06-.94 2.06-2.06.94zm-11 1L8.5 8.5l.94-2.06 2.06-.94-2.06-.94L8.5 2.5l-.94 2.06-2.06.94zm10 10l.94 2.06.94-2.06 2.06-.94-2.06-.94-.94-2.06-.94 2.06-2.06.94z\"/><path d=\"M17.41 7.96l-1.37-1.37c-.4-.4-.92-.59-1.43-.59-.52 0-1.04.2-1.43.59L10.3 9.45l-7.72 7.72c-.78.78-.78 2.05 0 2.83L4 21.41c.39.39.9.59 1.41.59.51 0 1.02-.2 1.41-.59l7.78-7.78 2.81-2.81c.8-.78.8-2.07 0-2.86zM5.41 20L4 18.59l7.72-7.72 1.47 1.35L5.41 20z\"/>\n",
              "  </svg>\n",
              "      </button>\n",
              "      \n",
              "  <style>\n",
              "    .colab-df-container {\n",
              "      display:flex;\n",
              "      flex-wrap:wrap;\n",
              "      gap: 12px;\n",
              "    }\n",
              "\n",
              "    .colab-df-convert {\n",
              "      background-color: #E8F0FE;\n",
              "      border: none;\n",
              "      border-radius: 50%;\n",
              "      cursor: pointer;\n",
              "      display: none;\n",
              "      fill: #1967D2;\n",
              "      height: 32px;\n",
              "      padding: 0 0 0 0;\n",
              "      width: 32px;\n",
              "    }\n",
              "\n",
              "    .colab-df-convert:hover {\n",
              "      background-color: #E2EBFA;\n",
              "      box-shadow: 0px 1px 2px rgba(60, 64, 67, 0.3), 0px 1px 3px 1px rgba(60, 64, 67, 0.15);\n",
              "      fill: #174EA6;\n",
              "    }\n",
              "\n",
              "    [theme=dark] .colab-df-convert {\n",
              "      background-color: #3B4455;\n",
              "      fill: #D2E3FC;\n",
              "    }\n",
              "\n",
              "    [theme=dark] .colab-df-convert:hover {\n",
              "      background-color: #434B5C;\n",
              "      box-shadow: 0px 1px 3px 1px rgba(0, 0, 0, 0.15);\n",
              "      filter: drop-shadow(0px 1px 2px rgba(0, 0, 0, 0.3));\n",
              "      fill: #FFFFFF;\n",
              "    }\n",
              "  </style>\n",
              "\n",
              "      <script>\n",
              "        const buttonEl =\n",
              "          document.querySelector('#df-05385fa2-0a36-4554-9f5e-9f7bb47240e3 button.colab-df-convert');\n",
              "        buttonEl.style.display =\n",
              "          google.colab.kernel.accessAllowed ? 'block' : 'none';\n",
              "\n",
              "        async function convertToInteractive(key) {\n",
              "          const element = document.querySelector('#df-05385fa2-0a36-4554-9f5e-9f7bb47240e3');\n",
              "          const dataTable =\n",
              "            await google.colab.kernel.invokeFunction('convertToInteractive',\n",
              "                                                     [key], {});\n",
              "          if (!dataTable) return;\n",
              "\n",
              "          const docLinkHtml = 'Like what you see? Visit the ' +\n",
              "            '<a target=\"_blank\" href=https://colab.research.google.com/notebooks/data_table.ipynb>data table notebook</a>'\n",
              "            + ' to learn more about interactive tables.';\n",
              "          element.innerHTML = '';\n",
              "          dataTable['output_type'] = 'display_data';\n",
              "          await google.colab.output.renderOutput(dataTable, element);\n",
              "          const docLink = document.createElement('div');\n",
              "          docLink.innerHTML = docLinkHtml;\n",
              "          element.appendChild(docLink);\n",
              "        }\n",
              "      </script>\n",
              "    </div>\n",
              "  </div>\n",
              "  "
            ]
          },
          "metadata": {},
          "execution_count": 58
        }
      ],
      "source": [
        "event_gr = funnel.pivot_table(index='event_name', columns='group', values='user_id', aggfunc='nunique', margins = True).reset_index().sort_values(by=\"event_name\", key=sorter).reset_index(drop=True)\n",
        "event_gr"
      ]
    },
    {
      "cell_type": "markdown",
      "metadata": {
        "id": "Tsekj5roY69k"
      },
      "source": [
        "Использую свою функцию для множественного z-теста из сборного проекта№2 (думаю так можно делать)"
      ]
    },
    {
      "cell_type": "code",
      "execution_count": 59,
      "metadata": {
        "id": "XpQqIz1dY69l"
      },
      "outputs": [],
      "source": [
        "def check_metrics(df, i, g1, g2,j): \n",
        "    alpha = 0.01\n",
        "    u1 = df.loc[i][g1]\n",
        "    u2 = df.loc[i][g2]\n",
        "    e1 = df.loc[j][g1]\n",
        "    e2 = df.loc[j][g2]\n",
        "\n",
        "    # пропорция успехов в первой группе:\n",
        "    p1 = u1 / e1\n",
        "    # пропорция успехов во второй группе\n",
        "    p2 = u2 / e2\n",
        "    \n",
        "    print(u1, u2, e1, e2)\n",
        "    \n",
        "    # пропорция успехов в комбинированном датасете\n",
        "    p_c = (u1 + u2) / (e1 + e2) \n",
        "    \n",
        "    # разница пропорций в датасетах\n",
        "    diff = p1 - p2\n",
        "    \n",
        "    # считаем статистику в ст.отклонениях стандартного нормального распределения\n",
        "    z_value = diff / mth.sqrt(p_c * (1 - p_c) * (1 / e1 + 1 / e2))\n",
        "    \n",
        "    # задаем стандартное нормальное распределение (среднее 0, ст.отклонение 1)\n",
        "    distr = st.norm(0, 1)\n",
        "    p_value = (1 - distr.cdf(abs(z_value))) * 2\n",
        "    \n",
        "    # введем поправку Бонферрони, поделим альфа на число гипотез для всех проверок\n",
        "    bonferroni_alpha = alpha / 4\n",
        "    \n",
        "    print('Проверка для групп А и В, событие: {}, p-значение: {p_value:.2f}'.format(df.loc[i][j-4], p_value=p_value))\n",
        "    if (p_value < bonferroni_alpha):\n",
        "        print(\"Отвергаем нулевую гипотезу о равенстве данных в группах\")\n",
        "    else:\n",
        "        print(\"Не получилось отвергнуть нулевую гипотезу о равенстве данных в группах\")"
      ]
    },
    {
      "cell_type": "markdown",
      "metadata": {
        "id": "qnszWrbBY69l"
      },
      "source": [
        "Гипотеза:\n",
        "\n",
        "Н0: доли уникальных посетителей, находящихся в группах А и В, побывавших на этапе воронки, одинаковы.\n",
        "\n",
        "Н1: доли уникальных посетителей, побывавших на этапе воронки, различаются."
      ]
    },
    {
      "cell_type": "code",
      "execution_count": 60,
      "metadata": {
        "colab": {
          "base_uri": "https://localhost:8080/"
        },
        "id": "p5waTLtVY69m",
        "outputId": "740e2f78-4f2b-4fba-e496-4ef01fd1a3ac"
      },
      "outputs": [
        {
          "output_type": "stream",
          "name": "stdout",
          "text": [
            "2082 705 2082 706\n",
            "Проверка для групп А и В, событие: login, p-значение: 0.09\n",
            "Не получилось отвергнуть нулевую гипотезу о равенстве данных в группах\n",
            "1360 397 2082 706\n",
            "Проверка для групп А и В, событие: product_page, p-значение: 0.00\n",
            "Отвергаем нулевую гипотезу о равенстве данных в группах\n",
            "631 195 2082 706\n",
            "Проверка для групп А и В, событие: product_cart, p-значение: 0.18\n",
            "Не получилось отвергнуть нулевую гипотезу о равенстве данных в группах\n",
            "652 198 2082 706\n",
            "Проверка для групп А и В, событие: purchase, p-значение: 0.10\n",
            "Не получилось отвергнуть нулевую гипотезу о равенстве данных в группах\n"
          ]
        }
      ],
      "source": [
        "for event in range(len(event_gr.index[:-1])):\n",
        "    check_metrics(event_gr,event,1,2,4)"
      ]
    },
    {
      "cell_type": "markdown",
      "metadata": {
        "id": "byjiDrwsY69m"
      },
      "source": [
        "**Вывод:** Нет статистически значимой разницы для событий между группами.\n",
        "\n",
        "Разве что пользователи обеих групп в разных долях доходят до шага просмотра товара."
      ]
    },
    {
      "cell_type": "markdown",
      "metadata": {
        "id": "jb9aIHCJY69m"
      },
      "source": [
        "## Вывод"
      ]
    },
    {
      "cell_type": "markdown",
      "metadata": {
        "id": "AK9IqUmaY69m"
      },
      "source": [
        "В ходе задания был проведен анализ А/В поведения пользователей.\n",
        "\n",
        "При обработке данных была проведена предобработка данных, в которой было отсечено большое количество данных, не подходживших под критерии теста: отсечены даты, отделены пользователи по региону и типу теста.\n",
        "В тесте были такие показатели(в актуальном временном периоде):\n",
        "\n",
        "Было 2788 уникальных юзеров, из них 2082 - контрольная группа, 706 - новая платежная воронка.\n",
        "\n",
        "Далее была определена воронка событий, до последнего шага которой доходит 28% пользователей, а больше всего отваливается на 2м шаге - примерно 40%, при этом шаг предварительного просмотра покупок можно пропустить, что повлияло на шаг покупки - он больше ем просмотр корзины.\n",
        "\n",
        "Далее был проведен анализ теста:\n",
        "- При проверке статистических гипотез уровень значимости альфа был 1%;\n",
        "- Так как было преведено 3 сравнения, то была сделана поправка Бонферрони;\n",
        "- По результатам теста статистически значимой разницы на основных шагах между группами выявлено не было;\n",
        "- однако пользователи обеих групп в разных долях доходят до шага просмотра товара;\n",
        "\n",
        "Рекомендации по проведению теста: увеличить количество людей в группе В, увеличить влияние в Евро-регионе, возможно стоит увеличить период для набора людей.\n",
        "\n",
        "Скорее всего нужно перезапустить тест, с новыми данными."
      ]
    },
    {
      "cell_type": "code",
      "execution_count": 60,
      "metadata": {
        "id": "lwMzrLa2Y69o"
      },
      "outputs": [],
      "source": []
    }
  ],
  "metadata": {
    "ExecuteTimeLog": [
      {
        "duration": 1506,
        "start_time": "2023-03-27T08:35:17.142Z"
      },
      {
        "duration": 2617,
        "start_time": "2023-03-27T08:35:19.415Z"
      },
      {
        "duration": 761,
        "start_time": "2023-03-27T08:35:22.823Z"
      },
      {
        "duration": 151,
        "start_time": "2023-03-27T08:39:44.846Z"
      },
      {
        "duration": 117,
        "start_time": "2023-03-27T08:40:06.102Z"
      },
      {
        "duration": 1076,
        "start_time": "2023-03-27T08:46:41.650Z"
      },
      {
        "duration": 2041,
        "start_time": "2023-03-27T08:46:42.728Z"
      },
      {
        "duration": 583,
        "start_time": "2023-03-27T08:46:44.770Z"
      },
      {
        "duration": 474,
        "start_time": "2023-03-27T08:46:45.355Z"
      },
      {
        "duration": 0,
        "start_time": "2023-03-27T08:46:45.830Z"
      },
      {
        "duration": 340,
        "start_time": "2023-03-27T08:48:08.119Z"
      },
      {
        "duration": 48,
        "start_time": "2023-03-27T08:48:30.150Z"
      },
      {
        "duration": 146,
        "start_time": "2023-03-27T08:48:45.463Z"
      },
      {
        "duration": 45,
        "start_time": "2023-03-27T08:50:53.564Z"
      },
      {
        "duration": 45,
        "start_time": "2023-03-27T08:51:04.956Z"
      },
      {
        "duration": 49,
        "start_time": "2023-03-27T08:51:26.719Z"
      },
      {
        "duration": 53,
        "start_time": "2023-03-27T08:51:45.047Z"
      },
      {
        "duration": 5,
        "start_time": "2023-03-27T08:55:01.760Z"
      },
      {
        "duration": 17,
        "start_time": "2023-03-27T08:56:40.702Z"
      },
      {
        "duration": 25,
        "start_time": "2023-03-27T08:57:05.092Z"
      },
      {
        "duration": 10,
        "start_time": "2023-03-27T09:10:26.708Z"
      },
      {
        "duration": 140,
        "start_time": "2023-03-27T09:10:33.922Z"
      },
      {
        "duration": 198,
        "start_time": "2023-03-27T09:12:33.428Z"
      },
      {
        "duration": 114,
        "start_time": "2023-03-27T09:12:37.243Z"
      },
      {
        "duration": 175,
        "start_time": "2023-03-27T09:12:57.467Z"
      },
      {
        "duration": 117,
        "start_time": "2023-03-27T09:13:07.210Z"
      },
      {
        "duration": 195,
        "start_time": "2023-03-27T09:13:26.099Z"
      },
      {
        "duration": 130,
        "start_time": "2023-03-27T09:13:36.236Z"
      },
      {
        "duration": 103,
        "start_time": "2023-03-27T09:13:39.851Z"
      },
      {
        "duration": 111,
        "start_time": "2023-03-27T09:14:15.429Z"
      },
      {
        "duration": 118,
        "start_time": "2023-03-27T09:14:27.044Z"
      },
      {
        "duration": 102,
        "start_time": "2023-03-27T09:14:33.112Z"
      },
      {
        "duration": 1033,
        "start_time": "2023-03-27T09:15:44.230Z"
      },
      {
        "duration": 2059,
        "start_time": "2023-03-27T09:15:45.264Z"
      },
      {
        "duration": 573,
        "start_time": "2023-03-27T09:15:47.324Z"
      },
      {
        "duration": 29,
        "start_time": "2023-03-27T09:15:47.899Z"
      },
      {
        "duration": 128,
        "start_time": "2023-03-27T09:15:47.930Z"
      },
      {
        "duration": 38,
        "start_time": "2023-03-27T09:15:48.072Z"
      },
      {
        "duration": 80,
        "start_time": "2023-03-27T09:15:48.112Z"
      },
      {
        "duration": 6,
        "start_time": "2023-03-27T09:15:48.194Z"
      },
      {
        "duration": 218,
        "start_time": "2023-03-27T09:15:48.201Z"
      },
      {
        "duration": 13,
        "start_time": "2023-03-27T09:20:52.968Z"
      },
      {
        "duration": 135,
        "start_time": "2023-03-27T09:22:44.712Z"
      },
      {
        "duration": 619,
        "start_time": "2023-03-27T09:24:03.122Z"
      },
      {
        "duration": 34,
        "start_time": "2023-03-27T09:24:06.563Z"
      },
      {
        "duration": 2645,
        "start_time": "2023-03-27T09:29:02.819Z"
      },
      {
        "duration": 0,
        "start_time": "2023-03-27T09:29:05.466Z"
      },
      {
        "duration": 176,
        "start_time": "2023-03-27T09:29:15.732Z"
      },
      {
        "duration": 15,
        "start_time": "2023-03-27T09:29:23.044Z"
      },
      {
        "duration": 31,
        "start_time": "2023-03-27T09:32:05.411Z"
      },
      {
        "duration": 12,
        "start_time": "2023-03-27T09:32:10.750Z"
      },
      {
        "duration": 15,
        "start_time": "2023-03-27T09:32:36.134Z"
      },
      {
        "duration": 18,
        "start_time": "2023-03-27T09:32:49.815Z"
      },
      {
        "duration": 17,
        "start_time": "2023-03-27T09:32:53.813Z"
      },
      {
        "duration": 32,
        "start_time": "2023-03-27T09:36:24.239Z"
      },
      {
        "duration": 26,
        "start_time": "2023-03-27T09:36:24.818Z"
      },
      {
        "duration": 12,
        "start_time": "2023-03-27T09:36:30.247Z"
      },
      {
        "duration": 14,
        "start_time": "2023-03-27T09:37:54.830Z"
      },
      {
        "duration": 10,
        "start_time": "2023-03-27T09:39:43.542Z"
      },
      {
        "duration": 13,
        "start_time": "2023-03-27T09:41:28.263Z"
      },
      {
        "duration": 21,
        "start_time": "2023-03-27T09:42:15.066Z"
      },
      {
        "duration": 11,
        "start_time": "2023-03-27T09:42:35.811Z"
      },
      {
        "duration": 7,
        "start_time": "2023-03-27T09:42:42.342Z"
      },
      {
        "duration": 41,
        "start_time": "2023-03-27T09:42:43.270Z"
      },
      {
        "duration": 9,
        "start_time": "2023-03-27T09:46:47.530Z"
      },
      {
        "duration": 6,
        "start_time": "2023-03-27T09:47:03.239Z"
      },
      {
        "duration": 11,
        "start_time": "2023-03-27T09:47:07.145Z"
      },
      {
        "duration": 17,
        "start_time": "2023-03-27T09:48:52.010Z"
      },
      {
        "duration": 1122,
        "start_time": "2023-03-27T09:49:10.667Z"
      },
      {
        "duration": 2213,
        "start_time": "2023-03-27T09:49:11.792Z"
      },
      {
        "duration": 693,
        "start_time": "2023-03-27T09:49:14.008Z"
      },
      {
        "duration": 253,
        "start_time": "2023-03-27T09:49:14.706Z"
      },
      {
        "duration": 130,
        "start_time": "2023-03-27T09:49:14.961Z"
      },
      {
        "duration": 39,
        "start_time": "2023-03-27T09:49:15.092Z"
      },
      {
        "duration": 136,
        "start_time": "2023-03-27T09:49:15.134Z"
      },
      {
        "duration": 63,
        "start_time": "2023-03-27T09:49:15.274Z"
      },
      {
        "duration": 18,
        "start_time": "2023-03-27T09:49:15.339Z"
      },
      {
        "duration": 38,
        "start_time": "2023-03-27T09:49:15.359Z"
      },
      {
        "duration": 19,
        "start_time": "2023-03-27T09:49:15.398Z"
      },
      {
        "duration": 9,
        "start_time": "2023-03-27T09:49:15.419Z"
      },
      {
        "duration": 12,
        "start_time": "2023-03-27T09:49:15.430Z"
      },
      {
        "duration": 17,
        "start_time": "2023-03-27T09:49:15.444Z"
      },
      {
        "duration": 32,
        "start_time": "2023-03-27T09:49:15.463Z"
      },
      {
        "duration": 105,
        "start_time": "2023-03-27T09:49:15.497Z"
      },
      {
        "duration": 117,
        "start_time": "2023-03-27T09:50:06.616Z"
      },
      {
        "duration": 14,
        "start_time": "2023-03-27T09:51:01.007Z"
      },
      {
        "duration": 3,
        "start_time": "2023-03-27T09:51:10.823Z"
      },
      {
        "duration": 38,
        "start_time": "2023-03-27T09:51:22.111Z"
      },
      {
        "duration": 21,
        "start_time": "2023-03-27T09:51:26.115Z"
      },
      {
        "duration": 10,
        "start_time": "2023-03-27T09:51:26.247Z"
      },
      {
        "duration": 1131,
        "start_time": "2023-03-27T09:51:37.819Z"
      },
      {
        "duration": 2255,
        "start_time": "2023-03-27T09:51:38.952Z"
      },
      {
        "duration": 670,
        "start_time": "2023-03-27T09:51:41.211Z"
      },
      {
        "duration": 272,
        "start_time": "2023-03-27T09:51:41.882Z"
      },
      {
        "duration": 166,
        "start_time": "2023-03-27T09:51:42.158Z"
      },
      {
        "duration": 40,
        "start_time": "2023-03-27T09:51:42.326Z"
      },
      {
        "duration": 148,
        "start_time": "2023-03-27T09:51:42.367Z"
      },
      {
        "duration": 42,
        "start_time": "2023-03-27T09:51:42.517Z"
      },
      {
        "duration": 30,
        "start_time": "2023-03-27T09:51:42.561Z"
      },
      {
        "duration": 142,
        "start_time": "2023-03-27T09:51:49.551Z"
      },
      {
        "duration": 10,
        "start_time": "2023-03-27T09:52:33.608Z"
      },
      {
        "duration": 1151,
        "start_time": "2023-03-27T09:52:39.210Z"
      },
      {
        "duration": 2199,
        "start_time": "2023-03-27T09:52:40.363Z"
      },
      {
        "duration": 648,
        "start_time": "2023-03-27T09:52:42.563Z"
      },
      {
        "duration": 248,
        "start_time": "2023-03-27T09:52:43.213Z"
      },
      {
        "duration": 154,
        "start_time": "2023-03-27T09:52:43.463Z"
      },
      {
        "duration": 26,
        "start_time": "2023-03-27T09:52:43.620Z"
      },
      {
        "duration": 120,
        "start_time": "2023-03-27T09:52:43.648Z"
      },
      {
        "duration": 51,
        "start_time": "2023-03-27T09:52:43.769Z"
      },
      {
        "duration": 22,
        "start_time": "2023-03-27T09:52:43.821Z"
      },
      {
        "duration": 36,
        "start_time": "2023-03-27T09:52:43.845Z"
      },
      {
        "duration": 21,
        "start_time": "2023-03-27T09:52:43.894Z"
      },
      {
        "duration": 9,
        "start_time": "2023-03-27T09:52:43.917Z"
      },
      {
        "duration": 12,
        "start_time": "2023-03-27T09:52:43.927Z"
      },
      {
        "duration": 15,
        "start_time": "2023-03-27T09:52:43.942Z"
      },
      {
        "duration": 8,
        "start_time": "2023-03-27T09:52:43.958Z"
      },
      {
        "duration": 147,
        "start_time": "2023-03-27T09:52:43.968Z"
      },
      {
        "duration": 544,
        "start_time": "2023-03-27T09:54:35.823Z"
      },
      {
        "duration": 15,
        "start_time": "2023-03-27T09:55:09.213Z"
      },
      {
        "duration": 52,
        "start_time": "2023-03-27T09:55:31.355Z"
      },
      {
        "duration": 395,
        "start_time": "2023-03-27T09:55:41.352Z"
      },
      {
        "duration": 28,
        "start_time": "2023-03-27T09:57:03.811Z"
      },
      {
        "duration": 41,
        "start_time": "2023-03-27T09:57:09.867Z"
      },
      {
        "duration": 10,
        "start_time": "2023-03-27T09:57:14.004Z"
      },
      {
        "duration": 18,
        "start_time": "2023-03-27T09:57:15.606Z"
      },
      {
        "duration": 16,
        "start_time": "2023-03-27T09:57:28.710Z"
      },
      {
        "duration": 6,
        "start_time": "2023-03-27T09:57:48.120Z"
      },
      {
        "duration": 9,
        "start_time": "2023-03-27T09:58:45.106Z"
      },
      {
        "duration": 1177,
        "start_time": "2023-03-27T09:59:40.671Z"
      },
      {
        "duration": 2314,
        "start_time": "2023-03-27T09:59:41.851Z"
      },
      {
        "duration": 618,
        "start_time": "2023-03-27T09:59:44.167Z"
      },
      {
        "duration": 251,
        "start_time": "2023-03-27T09:59:44.787Z"
      },
      {
        "duration": 137,
        "start_time": "2023-03-27T09:59:45.040Z"
      },
      {
        "duration": 38,
        "start_time": "2023-03-27T09:59:45.186Z"
      },
      {
        "duration": 137,
        "start_time": "2023-03-27T09:59:45.226Z"
      },
      {
        "duration": 58,
        "start_time": "2023-03-27T09:59:45.365Z"
      },
      {
        "duration": 30,
        "start_time": "2023-03-27T09:59:45.424Z"
      },
      {
        "duration": 23,
        "start_time": "2023-03-27T09:59:45.457Z"
      },
      {
        "duration": 22,
        "start_time": "2023-03-27T09:59:45.493Z"
      },
      {
        "duration": 36,
        "start_time": "2023-03-27T09:59:45.516Z"
      },
      {
        "duration": 9,
        "start_time": "2023-03-27T09:59:45.554Z"
      },
      {
        "duration": 65,
        "start_time": "2023-03-27T09:59:45.566Z"
      },
      {
        "duration": 18,
        "start_time": "2023-03-27T09:59:45.632Z"
      },
      {
        "duration": 17,
        "start_time": "2023-03-27T09:59:45.652Z"
      },
      {
        "duration": 62,
        "start_time": "2023-03-27T09:59:45.671Z"
      },
      {
        "duration": 6,
        "start_time": "2023-03-27T09:59:45.735Z"
      },
      {
        "duration": 159,
        "start_time": "2023-03-27T09:59:45.742Z"
      },
      {
        "duration": 20,
        "start_time": "2023-03-27T10:00:17.532Z"
      },
      {
        "duration": 37,
        "start_time": "2023-03-27T10:00:22.156Z"
      },
      {
        "duration": 27,
        "start_time": "2023-03-27T10:00:25.500Z"
      },
      {
        "duration": 16,
        "start_time": "2023-03-27T10:00:28.708Z"
      },
      {
        "duration": 34,
        "start_time": "2023-03-27T10:00:36.539Z"
      },
      {
        "duration": 28,
        "start_time": "2023-03-27T10:00:44.371Z"
      },
      {
        "duration": 23,
        "start_time": "2023-03-27T10:00:46.819Z"
      },
      {
        "duration": 22,
        "start_time": "2023-03-27T10:00:59.607Z"
      },
      {
        "duration": 22,
        "start_time": "2023-03-27T10:01:01.571Z"
      },
      {
        "duration": 13,
        "start_time": "2023-03-27T10:01:36.207Z"
      },
      {
        "duration": 13,
        "start_time": "2023-03-27T10:02:17.142Z"
      },
      {
        "duration": 10,
        "start_time": "2023-03-27T10:07:12.660Z"
      },
      {
        "duration": 11,
        "start_time": "2023-03-27T10:10:08.140Z"
      },
      {
        "duration": 11,
        "start_time": "2023-03-27T10:10:45.830Z"
      },
      {
        "duration": 196,
        "start_time": "2023-03-27T10:19:13.810Z"
      },
      {
        "duration": 59,
        "start_time": "2023-03-27T10:19:18.205Z"
      },
      {
        "duration": 2011,
        "start_time": "2023-03-27T10:19:24.612Z"
      },
      {
        "duration": 3452,
        "start_time": "2023-03-27T10:20:14.050Z"
      },
      {
        "duration": 30,
        "start_time": "2023-03-27T10:20:35.594Z"
      },
      {
        "duration": 14,
        "start_time": "2023-03-27T10:20:45.118Z"
      },
      {
        "duration": 466,
        "start_time": "2023-03-27T10:24:50.715Z"
      },
      {
        "duration": 7,
        "start_time": "2023-03-27T10:25:00.698Z"
      },
      {
        "duration": 19,
        "start_time": "2023-03-27T10:29:48.134Z"
      },
      {
        "duration": 12,
        "start_time": "2023-03-27T10:31:07.957Z"
      },
      {
        "duration": 14,
        "start_time": "2023-03-27T10:31:28.725Z"
      },
      {
        "duration": 14,
        "start_time": "2023-03-27T10:31:31.404Z"
      },
      {
        "duration": 9,
        "start_time": "2023-03-27T10:31:33.646Z"
      },
      {
        "duration": 11,
        "start_time": "2023-03-27T10:31:36.343Z"
      },
      {
        "duration": 26,
        "start_time": "2023-03-27T10:31:38.471Z"
      },
      {
        "duration": 30,
        "start_time": "2023-03-27T10:32:11.568Z"
      },
      {
        "duration": 9,
        "start_time": "2023-03-27T10:32:30.129Z"
      },
      {
        "duration": 16,
        "start_time": "2023-03-27T10:33:53.039Z"
      },
      {
        "duration": 17,
        "start_time": "2023-03-27T10:33:55.415Z"
      },
      {
        "duration": 18,
        "start_time": "2023-03-27T10:34:12.599Z"
      },
      {
        "duration": 1146,
        "start_time": "2023-03-27T10:34:21.402Z"
      },
      {
        "duration": 2212,
        "start_time": "2023-03-27T10:34:22.550Z"
      },
      {
        "duration": 597,
        "start_time": "2023-03-27T10:34:24.763Z"
      },
      {
        "duration": 259,
        "start_time": "2023-03-27T10:34:25.385Z"
      },
      {
        "duration": 147,
        "start_time": "2023-03-27T10:34:25.646Z"
      },
      {
        "duration": 44,
        "start_time": "2023-03-27T10:34:25.794Z"
      },
      {
        "duration": 94,
        "start_time": "2023-03-27T10:34:25.839Z"
      },
      {
        "duration": 37,
        "start_time": "2023-03-27T10:34:25.935Z"
      },
      {
        "duration": 31,
        "start_time": "2023-03-27T10:34:25.974Z"
      },
      {
        "duration": 14,
        "start_time": "2023-03-27T10:34:26.006Z"
      },
      {
        "duration": 10,
        "start_time": "2023-03-27T10:34:26.021Z"
      },
      {
        "duration": 17,
        "start_time": "2023-03-27T10:34:26.033Z"
      },
      {
        "duration": 49,
        "start_time": "2023-03-27T10:34:26.052Z"
      },
      {
        "duration": 11,
        "start_time": "2023-03-27T10:34:26.108Z"
      },
      {
        "duration": 11,
        "start_time": "2023-03-27T10:34:26.121Z"
      },
      {
        "duration": 17,
        "start_time": "2023-03-27T10:34:26.134Z"
      },
      {
        "duration": 166,
        "start_time": "2023-03-27T10:34:26.154Z"
      },
      {
        "duration": 0,
        "start_time": "2023-03-27T10:34:26.322Z"
      },
      {
        "duration": 0,
        "start_time": "2023-03-27T10:34:26.324Z"
      },
      {
        "duration": 0,
        "start_time": "2023-03-27T10:34:26.327Z"
      },
      {
        "duration": 0,
        "start_time": "2023-03-27T10:34:26.328Z"
      },
      {
        "duration": 13,
        "start_time": "2023-03-27T10:34:45.900Z"
      },
      {
        "duration": 66,
        "start_time": "2023-03-27T10:34:53.062Z"
      },
      {
        "duration": 6,
        "start_time": "2023-03-27T10:36:00.655Z"
      },
      {
        "duration": 1189,
        "start_time": "2023-03-27T10:36:37.599Z"
      },
      {
        "duration": 2133,
        "start_time": "2023-03-27T10:36:38.803Z"
      },
      {
        "duration": 604,
        "start_time": "2023-03-27T10:36:40.937Z"
      },
      {
        "duration": 269,
        "start_time": "2023-03-27T10:36:41.542Z"
      },
      {
        "duration": 126,
        "start_time": "2023-03-27T10:36:41.814Z"
      },
      {
        "duration": 46,
        "start_time": "2023-03-27T10:36:41.941Z"
      },
      {
        "duration": 121,
        "start_time": "2023-03-27T10:36:41.988Z"
      },
      {
        "duration": 39,
        "start_time": "2023-03-27T10:36:42.111Z"
      },
      {
        "duration": 33,
        "start_time": "2023-03-27T10:36:42.152Z"
      },
      {
        "duration": 17,
        "start_time": "2023-03-27T10:36:42.186Z"
      },
      {
        "duration": 14,
        "start_time": "2023-03-27T10:36:42.204Z"
      },
      {
        "duration": 18,
        "start_time": "2023-03-27T10:36:42.219Z"
      },
      {
        "duration": 8,
        "start_time": "2023-03-27T10:36:42.238Z"
      },
      {
        "duration": 9,
        "start_time": "2023-03-27T10:36:42.248Z"
      },
      {
        "duration": 54,
        "start_time": "2023-03-27T10:36:42.259Z"
      },
      {
        "duration": 10,
        "start_time": "2023-03-27T10:36:42.315Z"
      },
      {
        "duration": 6,
        "start_time": "2023-03-27T10:36:42.326Z"
      },
      {
        "duration": 19,
        "start_time": "2023-03-27T10:36:56.220Z"
      },
      {
        "duration": 11,
        "start_time": "2023-03-27T10:36:57.195Z"
      },
      {
        "duration": 115,
        "start_time": "2023-03-27T10:37:00.735Z"
      },
      {
        "duration": 7,
        "start_time": "2023-03-27T10:37:07.743Z"
      },
      {
        "duration": 16,
        "start_time": "2023-03-27T10:37:18.401Z"
      },
      {
        "duration": 17,
        "start_time": "2023-03-27T10:38:36.605Z"
      },
      {
        "duration": 12,
        "start_time": "2023-03-27T10:38:38.730Z"
      },
      {
        "duration": 1312,
        "start_time": "2023-03-27T10:39:17.034Z"
      },
      {
        "duration": 2305,
        "start_time": "2023-03-27T10:39:18.348Z"
      },
      {
        "duration": 800,
        "start_time": "2023-03-27T10:39:20.655Z"
      },
      {
        "duration": 343,
        "start_time": "2023-03-27T10:39:21.458Z"
      },
      {
        "duration": 120,
        "start_time": "2023-03-27T10:39:21.802Z"
      },
      {
        "duration": 26,
        "start_time": "2023-03-27T10:39:21.924Z"
      },
      {
        "duration": 111,
        "start_time": "2023-03-27T10:39:21.952Z"
      },
      {
        "duration": 64,
        "start_time": "2023-03-27T10:39:22.064Z"
      },
      {
        "duration": 23,
        "start_time": "2023-03-27T10:39:22.130Z"
      },
      {
        "duration": 21,
        "start_time": "2023-03-27T10:39:22.156Z"
      },
      {
        "duration": 1267,
        "start_time": "2023-03-27T10:39:22.179Z"
      },
      {
        "duration": 0,
        "start_time": "2023-03-27T10:39:23.447Z"
      },
      {
        "duration": 0,
        "start_time": "2023-03-27T10:39:23.449Z"
      },
      {
        "duration": 0,
        "start_time": "2023-03-27T10:39:23.450Z"
      },
      {
        "duration": 0,
        "start_time": "2023-03-27T10:39:23.450Z"
      },
      {
        "duration": 0,
        "start_time": "2023-03-27T10:39:23.451Z"
      },
      {
        "duration": 0,
        "start_time": "2023-03-27T10:39:23.452Z"
      },
      {
        "duration": 7,
        "start_time": "2023-03-27T10:39:53.536Z"
      },
      {
        "duration": 21,
        "start_time": "2023-03-27T10:39:55.431Z"
      },
      {
        "duration": 9,
        "start_time": "2023-03-27T10:40:18.610Z"
      },
      {
        "duration": 10,
        "start_time": "2023-03-27T10:40:19.256Z"
      },
      {
        "duration": 11,
        "start_time": "2023-03-27T10:40:20.706Z"
      },
      {
        "duration": 15,
        "start_time": "2023-03-27T10:40:21.720Z"
      },
      {
        "duration": 17,
        "start_time": "2023-03-27T10:40:23.312Z"
      },
      {
        "duration": 9,
        "start_time": "2023-03-27T10:42:50.209Z"
      },
      {
        "duration": 11,
        "start_time": "2023-03-27T10:42:58.103Z"
      },
      {
        "duration": 6,
        "start_time": "2023-03-27T10:43:08.138Z"
      },
      {
        "duration": 11,
        "start_time": "2023-03-27T10:43:17.404Z"
      },
      {
        "duration": 6,
        "start_time": "2023-03-27T10:43:23.608Z"
      },
      {
        "duration": 14,
        "start_time": "2023-03-27T10:43:34.608Z"
      },
      {
        "duration": 10,
        "start_time": "2023-03-27T10:43:38.914Z"
      },
      {
        "duration": 13,
        "start_time": "2023-03-27T10:43:48.712Z"
      },
      {
        "duration": 13,
        "start_time": "2023-03-27T10:44:06.802Z"
      },
      {
        "duration": 13,
        "start_time": "2023-03-27T10:44:47.124Z"
      },
      {
        "duration": 8,
        "start_time": "2023-03-27T10:44:53.538Z"
      },
      {
        "duration": 9,
        "start_time": "2023-03-27T10:45:01.953Z"
      },
      {
        "duration": 7,
        "start_time": "2023-03-27T10:45:04.835Z"
      },
      {
        "duration": 12,
        "start_time": "2023-03-27T10:45:05.435Z"
      },
      {
        "duration": 6,
        "start_time": "2023-03-27T10:45:14.010Z"
      },
      {
        "duration": 12,
        "start_time": "2023-03-27T10:45:14.908Z"
      },
      {
        "duration": 9,
        "start_time": "2023-03-27T10:45:38.161Z"
      },
      {
        "duration": 9,
        "start_time": "2023-03-27T10:46:12.018Z"
      },
      {
        "duration": 68,
        "start_time": "2023-03-27T10:52:19.509Z"
      },
      {
        "duration": 11,
        "start_time": "2023-03-27T10:52:24.403Z"
      },
      {
        "duration": 35,
        "start_time": "2023-03-27T10:52:50.656Z"
      },
      {
        "duration": 14,
        "start_time": "2023-03-27T10:53:04.208Z"
      },
      {
        "duration": 18,
        "start_time": "2023-03-27T10:53:10.926Z"
      },
      {
        "duration": 14,
        "start_time": "2023-03-27T10:55:59.563Z"
      },
      {
        "duration": 10,
        "start_time": "2023-03-27T10:56:06.754Z"
      },
      {
        "duration": 13,
        "start_time": "2023-03-27T10:56:46.915Z"
      },
      {
        "duration": 9,
        "start_time": "2023-03-27T10:57:51.707Z"
      },
      {
        "duration": 9,
        "start_time": "2023-03-27T10:58:02.503Z"
      },
      {
        "duration": 3,
        "start_time": "2023-03-27T10:58:49.712Z"
      },
      {
        "duration": 11,
        "start_time": "2023-03-27T10:59:16.828Z"
      },
      {
        "duration": 9,
        "start_time": "2023-03-27T10:59:49.740Z"
      },
      {
        "duration": 1065,
        "start_time": "2023-03-27T11:00:46.324Z"
      },
      {
        "duration": 2072,
        "start_time": "2023-03-27T11:00:47.395Z"
      },
      {
        "duration": 616,
        "start_time": "2023-03-27T11:00:49.469Z"
      },
      {
        "duration": 258,
        "start_time": "2023-03-27T11:00:50.094Z"
      },
      {
        "duration": 102,
        "start_time": "2023-03-27T11:00:50.353Z"
      },
      {
        "duration": 50,
        "start_time": "2023-03-27T11:00:50.457Z"
      },
      {
        "duration": 105,
        "start_time": "2023-03-27T11:00:50.508Z"
      },
      {
        "duration": 39,
        "start_time": "2023-03-27T11:00:50.615Z"
      },
      {
        "duration": 47,
        "start_time": "2023-03-27T11:00:50.656Z"
      },
      {
        "duration": 8,
        "start_time": "2023-03-27T11:00:50.705Z"
      },
      {
        "duration": 644,
        "start_time": "2023-03-27T11:00:50.715Z"
      },
      {
        "duration": 0,
        "start_time": "2023-03-27T11:00:51.361Z"
      },
      {
        "duration": 0,
        "start_time": "2023-03-27T11:00:51.363Z"
      },
      {
        "duration": 0,
        "start_time": "2023-03-27T11:00:51.364Z"
      },
      {
        "duration": 0,
        "start_time": "2023-03-27T11:00:51.366Z"
      },
      {
        "duration": 1,
        "start_time": "2023-03-27T11:00:51.367Z"
      },
      {
        "duration": 0,
        "start_time": "2023-03-27T11:00:51.369Z"
      },
      {
        "duration": 88,
        "start_time": "2023-03-27T11:02:10.750Z"
      },
      {
        "duration": 699,
        "start_time": "2023-03-27T11:02:17.898Z"
      },
      {
        "duration": 21,
        "start_time": "2023-03-27T11:02:45.394Z"
      },
      {
        "duration": 10,
        "start_time": "2023-03-27T11:02:52.597Z"
      },
      {
        "duration": 39,
        "start_time": "2023-03-27T11:02:55.252Z"
      },
      {
        "duration": 15,
        "start_time": "2023-03-27T11:03:16.198Z"
      },
      {
        "duration": 16,
        "start_time": "2023-03-27T11:03:25.357Z"
      },
      {
        "duration": 31,
        "start_time": "2023-03-27T11:03:56.294Z"
      },
      {
        "duration": 13,
        "start_time": "2023-03-27T11:04:03.701Z"
      },
      {
        "duration": 17,
        "start_time": "2023-03-27T11:04:08.118Z"
      },
      {
        "duration": 40,
        "start_time": "2023-03-27T11:04:16.779Z"
      },
      {
        "duration": 15,
        "start_time": "2023-03-27T11:04:24.015Z"
      },
      {
        "duration": 12,
        "start_time": "2023-03-27T11:04:32.502Z"
      },
      {
        "duration": 9,
        "start_time": "2023-03-27T11:04:34.150Z"
      },
      {
        "duration": 9,
        "start_time": "2023-03-27T11:04:39.749Z"
      },
      {
        "duration": 3,
        "start_time": "2023-03-27T11:04:42.157Z"
      },
      {
        "duration": 1610,
        "start_time": "2023-03-27T11:04:42.726Z"
      },
      {
        "duration": 14,
        "start_time": "2023-03-27T11:04:49.352Z"
      },
      {
        "duration": 5,
        "start_time": "2023-03-27T11:05:06.903Z"
      },
      {
        "duration": 3,
        "start_time": "2023-03-27T11:05:07.502Z"
      },
      {
        "duration": 13,
        "start_time": "2023-03-27T11:05:08.157Z"
      },
      {
        "duration": 4,
        "start_time": "2023-03-27T11:05:27.199Z"
      },
      {
        "duration": 12,
        "start_time": "2023-03-27T11:05:27.717Z"
      },
      {
        "duration": 3,
        "start_time": "2023-03-27T11:05:34.150Z"
      },
      {
        "duration": 472,
        "start_time": "2023-03-27T11:05:47.941Z"
      },
      {
        "duration": 15,
        "start_time": "2023-03-27T11:05:48.420Z"
      },
      {
        "duration": 58,
        "start_time": "2023-03-27T11:05:59.892Z"
      },
      {
        "duration": 12,
        "start_time": "2023-03-27T11:06:00.342Z"
      },
      {
        "duration": 6,
        "start_time": "2023-03-27T11:07:12.694Z"
      },
      {
        "duration": 12,
        "start_time": "2023-03-27T11:07:13.134Z"
      },
      {
        "duration": 12,
        "start_time": "2023-03-27T11:07:26.994Z"
      },
      {
        "duration": 17,
        "start_time": "2023-03-27T11:08:16.503Z"
      },
      {
        "duration": 19,
        "start_time": "2023-03-27T11:08:25.503Z"
      },
      {
        "duration": 226,
        "start_time": "2023-03-27T11:10:59.600Z"
      },
      {
        "duration": 24,
        "start_time": "2023-03-27T11:11:16.020Z"
      },
      {
        "duration": 1229,
        "start_time": "2023-03-27T11:11:40.568Z"
      },
      {
        "duration": 1067,
        "start_time": "2023-03-27T11:11:45.344Z"
      },
      {
        "duration": 47,
        "start_time": "2023-03-27T11:11:51.457Z"
      },
      {
        "duration": 26,
        "start_time": "2023-03-27T11:11:57.093Z"
      },
      {
        "duration": 1034,
        "start_time": "2023-03-27T11:12:01.032Z"
      },
      {
        "duration": 752,
        "start_time": "2023-03-27T11:12:14.568Z"
      },
      {
        "duration": 14,
        "start_time": "2023-03-27T11:12:18.501Z"
      },
      {
        "duration": 19,
        "start_time": "2023-03-27T11:12:37.913Z"
      },
      {
        "duration": 15,
        "start_time": "2023-03-27T11:12:56.552Z"
      },
      {
        "duration": 7,
        "start_time": "2023-03-27T11:14:00.352Z"
      },
      {
        "duration": 59,
        "start_time": "2023-03-27T12:35:01.754Z"
      },
      {
        "duration": 14,
        "start_time": "2023-03-27T12:36:08.495Z"
      },
      {
        "duration": 30,
        "start_time": "2023-03-27T12:36:20.003Z"
      },
      {
        "duration": 36,
        "start_time": "2023-03-27T12:36:26.003Z"
      },
      {
        "duration": 31,
        "start_time": "2023-03-27T12:36:42.896Z"
      },
      {
        "duration": 19,
        "start_time": "2023-03-27T12:40:42.582Z"
      },
      {
        "duration": 1057,
        "start_time": "2023-03-27T12:40:46.649Z"
      },
      {
        "duration": 1988,
        "start_time": "2023-03-27T12:40:47.709Z"
      },
      {
        "duration": 608,
        "start_time": "2023-03-27T12:40:49.699Z"
      },
      {
        "duration": 230,
        "start_time": "2023-03-27T12:40:50.309Z"
      },
      {
        "duration": 107,
        "start_time": "2023-03-27T12:40:50.541Z"
      },
      {
        "duration": 50,
        "start_time": "2023-03-27T12:40:50.649Z"
      },
      {
        "duration": 102,
        "start_time": "2023-03-27T12:40:50.700Z"
      },
      {
        "duration": 43,
        "start_time": "2023-03-27T12:40:50.804Z"
      },
      {
        "duration": 41,
        "start_time": "2023-03-27T12:40:50.848Z"
      },
      {
        "duration": 17,
        "start_time": "2023-03-27T12:40:50.891Z"
      },
      {
        "duration": 25,
        "start_time": "2023-03-27T12:40:50.910Z"
      },
      {
        "duration": 29,
        "start_time": "2023-03-27T12:40:50.937Z"
      },
      {
        "duration": 42,
        "start_time": "2023-03-27T12:40:50.968Z"
      },
      {
        "duration": 40,
        "start_time": "2023-03-27T12:40:51.011Z"
      },
      {
        "duration": 36,
        "start_time": "2023-03-27T12:40:51.053Z"
      },
      {
        "duration": 14,
        "start_time": "2023-03-27T12:40:51.094Z"
      },
      {
        "duration": 15,
        "start_time": "2023-03-27T12:40:51.110Z"
      },
      {
        "duration": 23,
        "start_time": "2023-03-27T12:40:51.127Z"
      },
      {
        "duration": 16,
        "start_time": "2023-03-27T12:40:51.151Z"
      },
      {
        "duration": 11,
        "start_time": "2023-03-27T12:43:25.150Z"
      },
      {
        "duration": 9,
        "start_time": "2023-03-27T12:44:00.701Z"
      },
      {
        "duration": 13,
        "start_time": "2023-03-27T12:44:55.494Z"
      },
      {
        "duration": 9,
        "start_time": "2023-03-27T12:44:56.229Z"
      },
      {
        "duration": 5,
        "start_time": "2023-03-27T12:45:06.605Z"
      },
      {
        "duration": 19,
        "start_time": "2023-03-27T12:45:49.230Z"
      },
      {
        "duration": 4,
        "start_time": "2023-03-27T12:45:51.342Z"
      },
      {
        "duration": 3,
        "start_time": "2023-03-27T12:45:56.717Z"
      },
      {
        "duration": 404,
        "start_time": "2023-03-27T12:47:06.919Z"
      },
      {
        "duration": 1157,
        "start_time": "2023-03-27T12:48:35.041Z"
      },
      {
        "duration": 1959,
        "start_time": "2023-03-27T12:48:36.201Z"
      },
      {
        "duration": 550,
        "start_time": "2023-03-27T12:48:38.162Z"
      },
      {
        "duration": 254,
        "start_time": "2023-03-27T12:48:38.714Z"
      },
      {
        "duration": 118,
        "start_time": "2023-03-27T12:48:38.970Z"
      },
      {
        "duration": 33,
        "start_time": "2023-03-27T12:48:39.090Z"
      },
      {
        "duration": 112,
        "start_time": "2023-03-27T12:48:39.125Z"
      },
      {
        "duration": 50,
        "start_time": "2023-03-27T12:48:39.239Z"
      },
      {
        "duration": 20,
        "start_time": "2023-03-27T12:48:39.292Z"
      },
      {
        "duration": 8,
        "start_time": "2023-03-27T12:48:39.315Z"
      },
      {
        "duration": 13,
        "start_time": "2023-03-27T12:48:39.325Z"
      },
      {
        "duration": 45,
        "start_time": "2023-03-27T12:48:39.340Z"
      },
      {
        "duration": 29,
        "start_time": "2023-03-27T12:48:39.387Z"
      },
      {
        "duration": 30,
        "start_time": "2023-03-27T12:48:39.418Z"
      },
      {
        "duration": 50,
        "start_time": "2023-03-27T12:48:39.449Z"
      },
      {
        "duration": 10,
        "start_time": "2023-03-27T12:48:39.501Z"
      },
      {
        "duration": 454,
        "start_time": "2023-03-27T12:48:39.512Z"
      },
      {
        "duration": 0,
        "start_time": "2023-03-27T12:48:39.968Z"
      },
      {
        "duration": 0,
        "start_time": "2023-03-27T12:48:39.969Z"
      },
      {
        "duration": 0,
        "start_time": "2023-03-27T12:48:39.970Z"
      },
      {
        "duration": 0,
        "start_time": "2023-03-27T12:48:39.971Z"
      },
      {
        "duration": 0,
        "start_time": "2023-03-27T12:48:39.972Z"
      },
      {
        "duration": 34,
        "start_time": "2023-03-27T12:49:24.473Z"
      },
      {
        "duration": 3,
        "start_time": "2023-03-27T12:49:26.479Z"
      },
      {
        "duration": 8,
        "start_time": "2023-03-27T12:53:05.831Z"
      },
      {
        "duration": 9,
        "start_time": "2023-03-27T12:53:08.391Z"
      },
      {
        "duration": 11,
        "start_time": "2023-03-27T12:53:18.256Z"
      },
      {
        "duration": 5,
        "start_time": "2023-03-27T12:53:20.368Z"
      },
      {
        "duration": 13,
        "start_time": "2023-03-27T12:53:39.288Z"
      },
      {
        "duration": 9,
        "start_time": "2023-03-27T12:54:48.450Z"
      },
      {
        "duration": 15,
        "start_time": "2023-03-27T12:55:51.449Z"
      },
      {
        "duration": 14,
        "start_time": "2023-03-27T12:56:03.409Z"
      },
      {
        "duration": 14,
        "start_time": "2023-03-27T13:01:37.106Z"
      },
      {
        "duration": 15,
        "start_time": "2023-03-27T13:02:53.307Z"
      },
      {
        "duration": 6,
        "start_time": "2023-03-27T13:03:31.203Z"
      },
      {
        "duration": 6,
        "start_time": "2023-03-27T13:03:34.371Z"
      },
      {
        "duration": 4,
        "start_time": "2023-03-27T13:06:14.779Z"
      },
      {
        "duration": 5,
        "start_time": "2023-03-27T13:06:28.163Z"
      },
      {
        "duration": 5,
        "start_time": "2023-03-27T13:06:33.763Z"
      },
      {
        "duration": 8,
        "start_time": "2023-03-27T13:06:37.611Z"
      },
      {
        "duration": 6,
        "start_time": "2023-03-27T13:06:41.916Z"
      },
      {
        "duration": 4,
        "start_time": "2023-03-27T13:06:51.067Z"
      },
      {
        "duration": 8,
        "start_time": "2023-03-27T13:07:19.076Z"
      },
      {
        "duration": 1161,
        "start_time": "2023-03-27T13:09:13.155Z"
      },
      {
        "duration": 1912,
        "start_time": "2023-03-27T13:09:14.318Z"
      },
      {
        "duration": 579,
        "start_time": "2023-03-27T13:09:16.232Z"
      },
      {
        "duration": 243,
        "start_time": "2023-03-27T13:09:16.814Z"
      },
      {
        "duration": 118,
        "start_time": "2023-03-27T13:09:17.059Z"
      },
      {
        "duration": 24,
        "start_time": "2023-03-27T13:09:17.179Z"
      },
      {
        "duration": 105,
        "start_time": "2023-03-27T13:09:17.205Z"
      },
      {
        "duration": 40,
        "start_time": "2023-03-27T13:09:17.312Z"
      },
      {
        "duration": 26,
        "start_time": "2023-03-27T13:09:17.354Z"
      },
      {
        "duration": 7,
        "start_time": "2023-03-27T13:09:17.383Z"
      },
      {
        "duration": 77,
        "start_time": "2023-03-27T13:09:17.392Z"
      },
      {
        "duration": 23,
        "start_time": "2023-03-27T13:09:17.470Z"
      },
      {
        "duration": 26,
        "start_time": "2023-03-27T13:09:17.495Z"
      },
      {
        "duration": 27,
        "start_time": "2023-03-27T13:09:17.522Z"
      },
      {
        "duration": 30,
        "start_time": "2023-03-27T13:09:17.550Z"
      },
      {
        "duration": 7,
        "start_time": "2023-03-27T13:09:17.582Z"
      },
      {
        "duration": 34,
        "start_time": "2023-03-27T13:09:17.591Z"
      },
      {
        "duration": 110,
        "start_time": "2023-03-27T13:09:17.627Z"
      },
      {
        "duration": 0,
        "start_time": "2023-03-27T13:09:17.739Z"
      },
      {
        "duration": 0,
        "start_time": "2023-03-27T13:09:17.740Z"
      },
      {
        "duration": 0,
        "start_time": "2023-03-27T13:09:17.741Z"
      },
      {
        "duration": 4,
        "start_time": "2023-03-27T13:09:34.096Z"
      },
      {
        "duration": 408,
        "start_time": "2023-03-27T13:09:37.539Z"
      },
      {
        "duration": 16,
        "start_time": "2023-03-27T13:09:40.315Z"
      },
      {
        "duration": 8,
        "start_time": "2023-03-27T13:09:43.827Z"
      },
      {
        "duration": 14,
        "start_time": "2023-03-27T13:10:14.772Z"
      },
      {
        "duration": 12,
        "start_time": "2023-03-27T13:10:47.652Z"
      },
      {
        "duration": 12,
        "start_time": "2023-03-27T13:10:50.158Z"
      },
      {
        "duration": 368,
        "start_time": "2023-03-27T13:10:50.507Z"
      },
      {
        "duration": 91,
        "start_time": "2023-03-27T13:12:19.022Z"
      },
      {
        "duration": 56,
        "start_time": "2023-03-27T13:12:28.773Z"
      },
      {
        "duration": 37,
        "start_time": "2023-03-27T13:12:40.396Z"
      },
      {
        "duration": 38,
        "start_time": "2023-03-27T13:12:46.653Z"
      },
      {
        "duration": 43,
        "start_time": "2023-03-27T13:13:04.316Z"
      },
      {
        "duration": 33,
        "start_time": "2023-03-27T13:13:07.614Z"
      },
      {
        "duration": 35,
        "start_time": "2023-03-27T13:21:28.639Z"
      },
      {
        "duration": 13,
        "start_time": "2023-03-27T13:21:43.951Z"
      },
      {
        "duration": 34,
        "start_time": "2023-03-27T13:22:42.263Z"
      },
      {
        "duration": 32,
        "start_time": "2023-03-27T13:22:57.784Z"
      },
      {
        "duration": 37,
        "start_time": "2023-03-27T13:23:38.734Z"
      },
      {
        "duration": 35,
        "start_time": "2023-03-27T13:24:03.824Z"
      },
      {
        "duration": 14,
        "start_time": "2023-03-27T13:27:03.208Z"
      },
      {
        "duration": 9,
        "start_time": "2023-03-27T13:27:10.241Z"
      },
      {
        "duration": 28,
        "start_time": "2023-03-27T13:27:41.505Z"
      },
      {
        "duration": 23,
        "start_time": "2023-03-27T13:28:28.407Z"
      },
      {
        "duration": 78,
        "start_time": "2023-03-27T13:28:29.136Z"
      },
      {
        "duration": 128,
        "start_time": "2023-03-27T13:30:49.825Z"
      },
      {
        "duration": 199,
        "start_time": "2023-03-27T13:33:35.868Z"
      },
      {
        "duration": 15,
        "start_time": "2023-03-27T13:33:47.530Z"
      },
      {
        "duration": 189,
        "start_time": "2023-03-27T13:34:25.770Z"
      },
      {
        "duration": 126,
        "start_time": "2023-03-27T13:34:59.155Z"
      },
      {
        "duration": 202,
        "start_time": "2023-03-27T13:35:10.954Z"
      },
      {
        "duration": 6,
        "start_time": "2023-03-27T13:38:06.035Z"
      },
      {
        "duration": 7,
        "start_time": "2023-03-27T13:38:07.002Z"
      },
      {
        "duration": 12,
        "start_time": "2023-03-27T13:38:29.938Z"
      },
      {
        "duration": 12,
        "start_time": "2023-03-27T13:38:53.570Z"
      },
      {
        "duration": 14,
        "start_time": "2023-03-27T13:39:37.723Z"
      },
      {
        "duration": 10,
        "start_time": "2023-03-27T13:40:03.211Z"
      },
      {
        "duration": 10,
        "start_time": "2023-03-27T13:40:20.426Z"
      },
      {
        "duration": 12,
        "start_time": "2023-03-27T13:41:06.804Z"
      },
      {
        "duration": 13,
        "start_time": "2023-03-27T13:44:12.276Z"
      },
      {
        "duration": 12,
        "start_time": "2023-03-27T13:44:20.860Z"
      },
      {
        "duration": 9,
        "start_time": "2023-03-27T13:44:37.611Z"
      },
      {
        "duration": 9,
        "start_time": "2023-03-27T13:44:38.651Z"
      },
      {
        "duration": 10,
        "start_time": "2023-03-27T13:45:05.771Z"
      },
      {
        "duration": 11,
        "start_time": "2023-03-27T13:45:12.509Z"
      },
      {
        "duration": 11,
        "start_time": "2023-03-27T13:45:13.835Z"
      },
      {
        "duration": 11,
        "start_time": "2023-03-27T13:45:14.347Z"
      },
      {
        "duration": 3,
        "start_time": "2023-03-27T13:47:34.188Z"
      },
      {
        "duration": 12,
        "start_time": "2023-03-27T13:47:34.628Z"
      },
      {
        "duration": 17,
        "start_time": "2023-03-27T13:47:49.261Z"
      },
      {
        "duration": 12,
        "start_time": "2023-03-27T13:48:01.868Z"
      },
      {
        "duration": 11,
        "start_time": "2023-03-27T13:48:38.860Z"
      },
      {
        "duration": 2,
        "start_time": "2023-03-27T13:48:41.212Z"
      },
      {
        "duration": 10,
        "start_time": "2023-03-27T13:48:41.916Z"
      },
      {
        "duration": 9,
        "start_time": "2023-03-27T13:48:53.021Z"
      },
      {
        "duration": 10,
        "start_time": "2023-03-27T13:48:54.365Z"
      },
      {
        "duration": 9,
        "start_time": "2023-03-27T13:48:56.884Z"
      },
      {
        "duration": 10,
        "start_time": "2023-03-27T13:48:57.684Z"
      },
      {
        "duration": 14,
        "start_time": "2023-03-27T13:50:19.341Z"
      },
      {
        "duration": 2550,
        "start_time": "2023-03-27T13:50:38.305Z"
      },
      {
        "duration": 11,
        "start_time": "2023-03-27T13:50:51.756Z"
      },
      {
        "duration": 11,
        "start_time": "2023-03-27T13:51:07.305Z"
      },
      {
        "duration": 1447,
        "start_time": "2023-03-27T13:51:33.244Z"
      },
      {
        "duration": 10,
        "start_time": "2023-03-27T13:51:44.157Z"
      },
      {
        "duration": 11,
        "start_time": "2023-03-27T13:52:17.278Z"
      },
      {
        "duration": 15,
        "start_time": "2023-03-27T13:53:55.455Z"
      },
      {
        "duration": 17,
        "start_time": "2023-03-27T13:54:11.173Z"
      },
      {
        "duration": 3,
        "start_time": "2023-03-27T13:54:38.037Z"
      },
      {
        "duration": 14,
        "start_time": "2023-03-27T13:54:42.757Z"
      },
      {
        "duration": 10,
        "start_time": "2023-03-27T13:55:05.550Z"
      },
      {
        "duration": 10,
        "start_time": "2023-03-27T13:55:20.337Z"
      },
      {
        "duration": 11,
        "start_time": "2023-03-27T13:55:37.567Z"
      },
      {
        "duration": 8,
        "start_time": "2023-03-27T13:55:45.248Z"
      },
      {
        "duration": 12,
        "start_time": "2023-03-27T13:56:16.126Z"
      },
      {
        "duration": 11,
        "start_time": "2023-03-27T13:56:17.505Z"
      },
      {
        "duration": 11,
        "start_time": "2023-03-27T13:59:32.919Z"
      },
      {
        "duration": 3,
        "start_time": "2023-03-27T14:01:34.887Z"
      },
      {
        "duration": 12,
        "start_time": "2023-03-27T14:01:35.639Z"
      },
      {
        "duration": 11,
        "start_time": "2023-03-27T14:01:53.689Z"
      },
      {
        "duration": 11,
        "start_time": "2023-03-27T14:02:02.943Z"
      },
      {
        "duration": 3704,
        "start_time": "2023-03-27T14:02:03.803Z"
      },
      {
        "duration": 11,
        "start_time": "2023-03-27T14:02:39.683Z"
      },
      {
        "duration": 11,
        "start_time": "2023-03-27T14:02:41.255Z"
      },
      {
        "duration": 9,
        "start_time": "2023-03-27T14:02:41.759Z"
      },
      {
        "duration": 243,
        "start_time": "2023-03-27T14:07:54.688Z"
      },
      {
        "duration": 176,
        "start_time": "2023-03-27T14:08:22.308Z"
      },
      {
        "duration": 183,
        "start_time": "2023-03-27T14:08:34.617Z"
      },
      {
        "duration": 210,
        "start_time": "2023-03-27T14:08:38.288Z"
      },
      {
        "duration": 203,
        "start_time": "2023-03-27T14:08:43.806Z"
      },
      {
        "duration": 202,
        "start_time": "2023-03-27T14:08:46.561Z"
      },
      {
        "duration": 190,
        "start_time": "2023-03-27T14:08:49.137Z"
      },
      {
        "duration": 185,
        "start_time": "2023-03-27T14:08:51.832Z"
      },
      {
        "duration": 170,
        "start_time": "2023-03-27T14:08:56.708Z"
      },
      {
        "duration": 279,
        "start_time": "2023-03-27T14:09:00.545Z"
      },
      {
        "duration": 13,
        "start_time": "2023-03-27T14:11:29.489Z"
      },
      {
        "duration": 11,
        "start_time": "2023-03-27T14:12:15.459Z"
      },
      {
        "duration": 10,
        "start_time": "2023-03-27T14:12:20.808Z"
      },
      {
        "duration": 13,
        "start_time": "2023-03-27T14:13:21.178Z"
      },
      {
        "duration": 332,
        "start_time": "2023-03-27T14:13:25.881Z"
      },
      {
        "duration": 15,
        "start_time": "2023-03-27T14:13:35.024Z"
      },
      {
        "duration": 11,
        "start_time": "2023-03-27T14:13:38.867Z"
      },
      {
        "duration": 9,
        "start_time": "2023-03-27T14:13:44.834Z"
      },
      {
        "duration": 8,
        "start_time": "2023-03-27T14:14:56.732Z"
      },
      {
        "duration": 10,
        "start_time": "2023-03-27T14:14:58.227Z"
      },
      {
        "duration": 10,
        "start_time": "2023-03-27T14:15:33.987Z"
      },
      {
        "duration": 9,
        "start_time": "2023-03-27T14:15:36.291Z"
      },
      {
        "duration": 13,
        "start_time": "2023-03-27T14:17:29.083Z"
      },
      {
        "duration": 13,
        "start_time": "2023-03-27T14:17:34.310Z"
      },
      {
        "duration": 17,
        "start_time": "2023-03-27T14:17:41.020Z"
      },
      {
        "duration": 44,
        "start_time": "2023-03-27T14:17:50.069Z"
      },
      {
        "duration": 59,
        "start_time": "2023-03-27T14:18:26.212Z"
      },
      {
        "duration": 44,
        "start_time": "2023-03-27T14:18:32.068Z"
      },
      {
        "duration": 5,
        "start_time": "2023-03-27T14:20:34.548Z"
      },
      {
        "duration": 9,
        "start_time": "2023-03-27T14:20:47.261Z"
      },
      {
        "duration": 15,
        "start_time": "2023-03-27T14:20:55.372Z"
      },
      {
        "duration": 10,
        "start_time": "2023-03-27T14:21:36.383Z"
      },
      {
        "duration": 5,
        "start_time": "2023-03-27T14:22:22.357Z"
      },
      {
        "duration": 15,
        "start_time": "2023-03-27T14:22:23.024Z"
      },
      {
        "duration": 1118,
        "start_time": "2023-03-27T14:22:55.385Z"
      },
      {
        "duration": 1819,
        "start_time": "2023-03-27T14:22:56.505Z"
      },
      {
        "duration": 503,
        "start_time": "2023-03-27T14:22:58.326Z"
      },
      {
        "duration": 214,
        "start_time": "2023-03-27T14:22:58.830Z"
      },
      {
        "duration": 113,
        "start_time": "2023-03-27T14:22:59.046Z"
      },
      {
        "duration": 24,
        "start_time": "2023-03-27T14:22:59.171Z"
      },
      {
        "duration": 96,
        "start_time": "2023-03-27T14:22:59.197Z"
      },
      {
        "duration": 36,
        "start_time": "2023-03-27T14:22:59.295Z"
      },
      {
        "duration": 12,
        "start_time": "2023-03-27T14:22:59.333Z"
      },
      {
        "duration": 28,
        "start_time": "2023-03-27T14:22:59.347Z"
      },
      {
        "duration": 16,
        "start_time": "2023-03-27T14:22:59.376Z"
      },
      {
        "duration": 27,
        "start_time": "2023-03-27T14:22:59.393Z"
      },
      {
        "duration": 24,
        "start_time": "2023-03-27T14:22:59.421Z"
      },
      {
        "duration": 27,
        "start_time": "2023-03-27T14:22:59.448Z"
      },
      {
        "duration": 25,
        "start_time": "2023-03-27T14:22:59.476Z"
      },
      {
        "duration": 8,
        "start_time": "2023-03-27T14:22:59.502Z"
      },
      {
        "duration": 34,
        "start_time": "2023-03-27T14:22:59.511Z"
      },
      {
        "duration": 3,
        "start_time": "2023-03-27T14:22:59.546Z"
      },
      {
        "duration": 335,
        "start_time": "2023-03-27T14:22:59.572Z"
      },
      {
        "duration": 0,
        "start_time": "2023-03-27T14:22:59.909Z"
      },
      {
        "duration": 0,
        "start_time": "2023-03-27T14:22:59.910Z"
      },
      {
        "duration": 0,
        "start_time": "2023-03-27T14:22:59.910Z"
      },
      {
        "duration": 0,
        "start_time": "2023-03-27T14:22:59.911Z"
      },
      {
        "duration": 0,
        "start_time": "2023-03-27T14:22:59.912Z"
      },
      {
        "duration": 0,
        "start_time": "2023-03-27T14:22:59.913Z"
      },
      {
        "duration": 0,
        "start_time": "2023-03-27T14:22:59.914Z"
      },
      {
        "duration": 0,
        "start_time": "2023-03-27T14:22:59.914Z"
      },
      {
        "duration": 0,
        "start_time": "2023-03-27T14:22:59.915Z"
      },
      {
        "duration": 0,
        "start_time": "2023-03-27T14:22:59.916Z"
      },
      {
        "duration": 0,
        "start_time": "2023-03-27T14:22:59.917Z"
      },
      {
        "duration": 0,
        "start_time": "2023-03-27T14:22:59.917Z"
      },
      {
        "duration": 0,
        "start_time": "2023-03-27T14:22:59.918Z"
      },
      {
        "duration": 0,
        "start_time": "2023-03-27T14:22:59.919Z"
      },
      {
        "duration": 0,
        "start_time": "2023-03-27T14:22:59.920Z"
      },
      {
        "duration": 0,
        "start_time": "2023-03-27T14:22:59.920Z"
      },
      {
        "duration": 0,
        "start_time": "2023-03-27T14:22:59.921Z"
      },
      {
        "duration": 303,
        "start_time": "2023-03-27T14:24:35.246Z"
      },
      {
        "duration": 9,
        "start_time": "2023-03-27T14:25:19.392Z"
      },
      {
        "duration": 1146,
        "start_time": "2023-03-27T14:25:43.449Z"
      },
      {
        "duration": 1960,
        "start_time": "2023-03-27T14:25:44.598Z"
      },
      {
        "duration": 555,
        "start_time": "2023-03-27T14:25:46.560Z"
      },
      {
        "duration": 237,
        "start_time": "2023-03-27T14:25:47.116Z"
      },
      {
        "duration": 99,
        "start_time": "2023-03-27T14:25:47.355Z"
      },
      {
        "duration": 42,
        "start_time": "2023-03-27T14:25:47.455Z"
      },
      {
        "duration": 110,
        "start_time": "2023-03-27T14:25:47.498Z"
      },
      {
        "duration": 39,
        "start_time": "2023-03-27T14:25:47.610Z"
      },
      {
        "duration": 27,
        "start_time": "2023-03-27T14:25:47.651Z"
      },
      {
        "duration": 10,
        "start_time": "2023-03-27T14:25:47.680Z"
      },
      {
        "duration": 11,
        "start_time": "2023-03-27T14:25:47.692Z"
      },
      {
        "duration": 16,
        "start_time": "2023-03-27T14:25:47.704Z"
      },
      {
        "duration": 40,
        "start_time": "2023-03-27T14:25:47.721Z"
      },
      {
        "duration": 36,
        "start_time": "2023-03-27T14:25:47.763Z"
      },
      {
        "duration": 28,
        "start_time": "2023-03-27T14:25:47.800Z"
      },
      {
        "duration": 8,
        "start_time": "2023-03-27T14:25:47.830Z"
      },
      {
        "duration": 59,
        "start_time": "2023-03-27T14:25:47.839Z"
      },
      {
        "duration": 4,
        "start_time": "2023-03-27T14:25:47.900Z"
      },
      {
        "duration": 20,
        "start_time": "2023-03-27T14:25:47.906Z"
      },
      {
        "duration": 16,
        "start_time": "2023-03-27T14:26:30.694Z"
      },
      {
        "duration": 15,
        "start_time": "2023-03-27T14:26:36.854Z"
      },
      {
        "duration": 16,
        "start_time": "2023-03-27T14:26:40.183Z"
      },
      {
        "duration": 10,
        "start_time": "2023-03-27T14:26:41.680Z"
      },
      {
        "duration": 286,
        "start_time": "2023-03-27T14:26:42.293Z"
      },
      {
        "duration": 272,
        "start_time": "2023-03-27T14:26:48.535Z"
      },
      {
        "duration": 414,
        "start_time": "2023-03-27T14:26:55.928Z"
      },
      {
        "duration": 6,
        "start_time": "2023-03-27T14:26:57.131Z"
      },
      {
        "duration": 7,
        "start_time": "2023-03-27T14:27:02.566Z"
      },
      {
        "duration": 15,
        "start_time": "2023-03-27T14:27:05.126Z"
      },
      {
        "duration": 3,
        "start_time": "2023-03-27T14:27:06.583Z"
      },
      {
        "duration": 12,
        "start_time": "2023-03-27T14:27:08.191Z"
      },
      {
        "duration": 11,
        "start_time": "2023-03-27T14:27:08.685Z"
      },
      {
        "duration": 18,
        "start_time": "2023-03-27T14:27:09.429Z"
      },
      {
        "duration": 11,
        "start_time": "2023-03-27T14:27:12.027Z"
      },
      {
        "duration": 9,
        "start_time": "2023-03-27T14:27:12.429Z"
      },
      {
        "duration": 46,
        "start_time": "2023-03-27T14:27:14.526Z"
      },
      {
        "duration": 5,
        "start_time": "2023-03-27T14:27:16.428Z"
      },
      {
        "duration": 8,
        "start_time": "2023-03-27T14:27:17.037Z"
      },
      {
        "duration": 5,
        "start_time": "2023-03-27T14:29:45.959Z"
      },
      {
        "duration": 11,
        "start_time": "2023-03-27T14:29:46.817Z"
      },
      {
        "duration": 5,
        "start_time": "2023-03-27T14:32:07.995Z"
      },
      {
        "duration": 9,
        "start_time": "2023-03-27T14:32:08.683Z"
      },
      {
        "duration": 5,
        "start_time": "2023-03-27T14:35:06.255Z"
      },
      {
        "duration": 8,
        "start_time": "2023-03-27T14:35:10.768Z"
      },
      {
        "duration": 1155,
        "start_time": "2023-03-27T14:35:17.587Z"
      },
      {
        "duration": 1803,
        "start_time": "2023-03-27T14:35:18.744Z"
      },
      {
        "duration": 506,
        "start_time": "2023-03-27T14:35:20.548Z"
      },
      {
        "duration": 225,
        "start_time": "2023-03-27T14:35:21.057Z"
      },
      {
        "duration": 99,
        "start_time": "2023-03-27T14:35:21.284Z"
      },
      {
        "duration": 23,
        "start_time": "2023-03-27T14:35:21.384Z"
      },
      {
        "duration": 103,
        "start_time": "2023-03-27T14:35:21.409Z"
      },
      {
        "duration": 36,
        "start_time": "2023-03-27T14:35:21.514Z"
      },
      {
        "duration": 27,
        "start_time": "2023-03-27T14:35:21.551Z"
      },
      {
        "duration": 7,
        "start_time": "2023-03-27T14:35:21.581Z"
      },
      {
        "duration": 11,
        "start_time": "2023-03-27T14:35:21.589Z"
      },
      {
        "duration": 22,
        "start_time": "2023-03-27T14:35:21.601Z"
      },
      {
        "duration": 28,
        "start_time": "2023-03-27T14:35:21.625Z"
      },
      {
        "duration": 37,
        "start_time": "2023-03-27T14:35:21.655Z"
      },
      {
        "duration": 24,
        "start_time": "2023-03-27T14:35:21.693Z"
      },
      {
        "duration": 8,
        "start_time": "2023-03-27T14:35:21.719Z"
      },
      {
        "duration": 54,
        "start_time": "2023-03-27T14:35:21.728Z"
      },
      {
        "duration": 3,
        "start_time": "2023-03-27T14:35:21.784Z"
      },
      {
        "duration": 19,
        "start_time": "2023-03-27T14:35:21.788Z"
      },
      {
        "duration": 14,
        "start_time": "2023-03-27T14:35:21.808Z"
      },
      {
        "duration": 9,
        "start_time": "2023-03-27T14:35:21.823Z"
      },
      {
        "duration": 313,
        "start_time": "2023-03-27T14:35:21.834Z"
      },
      {
        "duration": 317,
        "start_time": "2023-03-27T14:35:22.149Z"
      },
      {
        "duration": 348,
        "start_time": "2023-03-27T14:35:22.467Z"
      },
      {
        "duration": 4,
        "start_time": "2023-03-27T14:35:22.816Z"
      },
      {
        "duration": 14,
        "start_time": "2023-03-27T14:35:22.821Z"
      },
      {
        "duration": 28,
        "start_time": "2023-03-27T14:35:22.836Z"
      },
      {
        "duration": 3,
        "start_time": "2023-03-27T14:35:22.867Z"
      },
      {
        "duration": 21,
        "start_time": "2023-03-27T14:35:22.871Z"
      },
      {
        "duration": 24,
        "start_time": "2023-03-27T14:35:22.893Z"
      },
      {
        "duration": 25,
        "start_time": "2023-03-27T14:35:22.918Z"
      },
      {
        "duration": 22,
        "start_time": "2023-03-27T14:35:22.945Z"
      },
      {
        "duration": 25,
        "start_time": "2023-03-27T14:35:22.969Z"
      },
      {
        "duration": 69,
        "start_time": "2023-03-27T14:35:22.995Z"
      },
      {
        "duration": 10,
        "start_time": "2023-03-27T14:35:23.065Z"
      },
      {
        "duration": 17,
        "start_time": "2023-03-27T14:35:23.076Z"
      },
      {
        "duration": 1301,
        "start_time": "2023-03-27T15:48:36.834Z"
      },
      {
        "duration": 3311,
        "start_time": "2023-03-27T15:48:38.139Z"
      },
      {
        "duration": 813,
        "start_time": "2023-03-27T15:48:41.452Z"
      },
      {
        "duration": 347,
        "start_time": "2023-03-27T15:48:42.266Z"
      },
      {
        "duration": 151,
        "start_time": "2023-03-27T15:48:42.615Z"
      },
      {
        "duration": 86,
        "start_time": "2023-03-27T15:48:42.767Z"
      },
      {
        "duration": 217,
        "start_time": "2023-03-27T15:48:42.855Z"
      },
      {
        "duration": 163,
        "start_time": "2023-03-27T15:48:43.073Z"
      },
      {
        "duration": 22,
        "start_time": "2023-03-27T15:48:43.239Z"
      },
      {
        "duration": 72,
        "start_time": "2023-03-27T15:48:43.263Z"
      },
      {
        "duration": 16,
        "start_time": "2023-03-27T15:48:43.338Z"
      },
      {
        "duration": 87,
        "start_time": "2023-03-27T15:48:43.356Z"
      },
      {
        "duration": 108,
        "start_time": "2023-03-27T15:48:43.446Z"
      },
      {
        "duration": 99,
        "start_time": "2023-03-27T15:48:43.556Z"
      },
      {
        "duration": 77,
        "start_time": "2023-03-27T15:48:43.657Z"
      },
      {
        "duration": 13,
        "start_time": "2023-03-27T15:48:43.736Z"
      },
      {
        "duration": 47,
        "start_time": "2023-03-27T15:48:43.751Z"
      },
      {
        "duration": 36,
        "start_time": "2023-03-27T15:48:43.800Z"
      },
      {
        "duration": 29,
        "start_time": "2023-03-27T15:48:43.837Z"
      },
      {
        "duration": 78,
        "start_time": "2023-03-27T15:48:43.868Z"
      },
      {
        "duration": 11,
        "start_time": "2023-03-27T15:48:43.948Z"
      },
      {
        "duration": 756,
        "start_time": "2023-03-27T15:48:43.961Z"
      },
      {
        "duration": 436,
        "start_time": "2023-03-27T15:48:44.719Z"
      },
      {
        "duration": 529,
        "start_time": "2023-03-27T15:48:45.156Z"
      },
      {
        "duration": 8,
        "start_time": "2023-03-27T15:48:45.687Z"
      },
      {
        "duration": 28,
        "start_time": "2023-03-27T15:48:45.697Z"
      },
      {
        "duration": 24,
        "start_time": "2023-03-27T15:48:45.729Z"
      },
      {
        "duration": 3,
        "start_time": "2023-03-27T15:48:45.755Z"
      },
      {
        "duration": 38,
        "start_time": "2023-03-27T15:48:45.760Z"
      },
      {
        "duration": 19,
        "start_time": "2023-03-27T15:48:45.801Z"
      },
      {
        "duration": 16,
        "start_time": "2023-03-27T15:48:45.821Z"
      },
      {
        "duration": 13,
        "start_time": "2023-03-27T15:48:45.839Z"
      },
      {
        "duration": 10,
        "start_time": "2023-03-27T15:48:45.854Z"
      },
      {
        "duration": 79,
        "start_time": "2023-03-27T15:48:45.866Z"
      },
      {
        "duration": 6,
        "start_time": "2023-03-27T15:48:45.947Z"
      },
      {
        "duration": 17,
        "start_time": "2023-03-27T15:48:45.955Z"
      },
      {
        "duration": 5,
        "start_time": "2023-03-27T15:53:23.908Z"
      },
      {
        "duration": 5,
        "start_time": "2023-03-27T15:53:27.086Z"
      },
      {
        "duration": 13,
        "start_time": "2023-03-27T15:56:37.283Z"
      },
      {
        "duration": 7,
        "start_time": "2023-03-27T15:56:44.904Z"
      },
      {
        "duration": 7,
        "start_time": "2023-03-27T15:57:31.030Z"
      },
      {
        "duration": 12,
        "start_time": "2023-03-27T15:57:38.970Z"
      },
      {
        "duration": 1445,
        "start_time": "2023-03-27T16:22:09.634Z"
      },
      {
        "duration": 3188,
        "start_time": "2023-03-27T16:22:11.081Z"
      },
      {
        "duration": 724,
        "start_time": "2023-03-27T16:22:14.271Z"
      },
      {
        "duration": 269,
        "start_time": "2023-03-27T16:22:14.997Z"
      },
      {
        "duration": 132,
        "start_time": "2023-03-27T16:22:15.268Z"
      },
      {
        "duration": 28,
        "start_time": "2023-03-27T16:22:15.402Z"
      },
      {
        "duration": 121,
        "start_time": "2023-03-27T16:22:15.432Z"
      },
      {
        "duration": 51,
        "start_time": "2023-03-27T16:22:15.555Z"
      },
      {
        "duration": 15,
        "start_time": "2023-03-27T16:22:15.608Z"
      },
      {
        "duration": 9,
        "start_time": "2023-03-27T16:22:15.626Z"
      },
      {
        "duration": 13,
        "start_time": "2023-03-27T16:22:15.637Z"
      },
      {
        "duration": 37,
        "start_time": "2023-03-27T16:22:15.652Z"
      },
      {
        "duration": 35,
        "start_time": "2023-03-27T16:22:15.691Z"
      },
      {
        "duration": 35,
        "start_time": "2023-03-27T16:22:15.728Z"
      },
      {
        "duration": 33,
        "start_time": "2023-03-27T16:22:15.787Z"
      },
      {
        "duration": 11,
        "start_time": "2023-03-27T16:22:15.822Z"
      },
      {
        "duration": 58,
        "start_time": "2023-03-27T16:22:15.834Z"
      },
      {
        "duration": 4,
        "start_time": "2023-03-27T16:22:15.894Z"
      },
      {
        "duration": 22,
        "start_time": "2023-03-27T16:22:15.899Z"
      },
      {
        "duration": 17,
        "start_time": "2023-03-27T16:22:15.922Z"
      },
      {
        "duration": 10,
        "start_time": "2023-03-27T16:22:15.941Z"
      },
      {
        "duration": 383,
        "start_time": "2023-03-27T16:22:15.987Z"
      },
      {
        "duration": 387,
        "start_time": "2023-03-27T16:22:16.373Z"
      },
      {
        "duration": 530,
        "start_time": "2023-03-27T16:22:16.762Z"
      },
      {
        "duration": 5,
        "start_time": "2023-03-27T16:22:17.294Z"
      },
      {
        "duration": 9,
        "start_time": "2023-03-27T16:22:17.301Z"
      },
      {
        "duration": 16,
        "start_time": "2023-03-27T16:22:17.311Z"
      },
      {
        "duration": 3,
        "start_time": "2023-03-27T16:22:17.330Z"
      },
      {
        "duration": 19,
        "start_time": "2023-03-27T16:22:17.335Z"
      },
      {
        "duration": 40,
        "start_time": "2023-03-27T16:22:17.356Z"
      },
      {
        "duration": 14,
        "start_time": "2023-03-27T16:22:17.398Z"
      },
      {
        "duration": 14,
        "start_time": "2023-03-27T16:22:17.413Z"
      },
      {
        "duration": 10,
        "start_time": "2023-03-27T16:22:17.428Z"
      },
      {
        "duration": 82,
        "start_time": "2023-03-27T16:22:17.440Z"
      },
      {
        "duration": 6,
        "start_time": "2023-03-27T16:22:17.524Z"
      },
      {
        "duration": 18,
        "start_time": "2023-03-27T16:22:17.532Z"
      },
      {
        "duration": 1242,
        "start_time": "2023-03-27T16:30:33.611Z"
      },
      {
        "duration": 2176,
        "start_time": "2023-03-27T16:30:34.855Z"
      },
      {
        "duration": 669,
        "start_time": "2023-03-27T16:30:37.033Z"
      },
      {
        "duration": 273,
        "start_time": "2023-03-27T16:30:37.704Z"
      },
      {
        "duration": 140,
        "start_time": "2023-03-27T16:30:37.979Z"
      },
      {
        "duration": 29,
        "start_time": "2023-03-27T16:30:38.121Z"
      },
      {
        "duration": 125,
        "start_time": "2023-03-27T16:30:38.152Z"
      },
      {
        "duration": 62,
        "start_time": "2023-03-27T16:30:38.279Z"
      },
      {
        "duration": 15,
        "start_time": "2023-03-27T16:30:38.343Z"
      },
      {
        "duration": 29,
        "start_time": "2023-03-27T16:30:38.361Z"
      },
      {
        "duration": 12,
        "start_time": "2023-03-27T16:30:38.393Z"
      },
      {
        "duration": 19,
        "start_time": "2023-03-27T16:30:38.406Z"
      },
      {
        "duration": 31,
        "start_time": "2023-03-27T16:30:38.427Z"
      },
      {
        "duration": 135,
        "start_time": "2023-03-27T16:30:38.459Z"
      },
      {
        "duration": 0,
        "start_time": "2023-03-27T16:30:38.595Z"
      },
      {
        "duration": 11,
        "start_time": "2023-03-27T16:30:52.293Z"
      },
      {
        "duration": 41,
        "start_time": "2023-03-27T16:31:21.589Z"
      },
      {
        "duration": 41,
        "start_time": "2023-03-27T16:31:24.886Z"
      },
      {
        "duration": 38,
        "start_time": "2023-03-27T16:31:43.926Z"
      },
      {
        "duration": 35,
        "start_time": "2023-03-27T16:31:49.995Z"
      },
      {
        "duration": 1476,
        "start_time": "2023-03-27T16:31:54.847Z"
      },
      {
        "duration": 4204,
        "start_time": "2023-03-27T16:32:05.391Z"
      },
      {
        "duration": 39,
        "start_time": "2023-03-27T16:32:19.966Z"
      },
      {
        "duration": 4473,
        "start_time": "2023-03-27T16:32:30.392Z"
      },
      {
        "duration": 30,
        "start_time": "2023-03-27T16:33:07.424Z"
      },
      {
        "duration": 30,
        "start_time": "2023-03-27T16:33:19.598Z"
      },
      {
        "duration": 5,
        "start_time": "2023-03-27T16:33:22.910Z"
      },
      {
        "duration": 5,
        "start_time": "2023-03-27T16:33:31.392Z"
      },
      {
        "duration": 25,
        "start_time": "2023-03-27T16:33:35.110Z"
      },
      {
        "duration": 17,
        "start_time": "2023-03-27T16:34:14.691Z"
      },
      {
        "duration": 17,
        "start_time": "2023-03-27T16:34:28.224Z"
      },
      {
        "duration": 11,
        "start_time": "2023-03-27T16:34:44.694Z"
      },
      {
        "duration": 12,
        "start_time": "2023-03-27T16:35:36.598Z"
      },
      {
        "duration": 11,
        "start_time": "2023-03-27T16:35:37.311Z"
      },
      {
        "duration": 8,
        "start_time": "2023-03-27T16:36:22.292Z"
      },
      {
        "duration": 11,
        "start_time": "2023-03-27T16:36:25.343Z"
      },
      {
        "duration": 9,
        "start_time": "2023-03-27T16:36:26.238Z"
      },
      {
        "duration": 12,
        "start_time": "2023-03-27T16:36:29.743Z"
      },
      {
        "duration": 13,
        "start_time": "2023-03-27T16:36:30.495Z"
      },
      {
        "duration": 4,
        "start_time": "2023-03-27T16:36:31.343Z"
      },
      {
        "duration": 10,
        "start_time": "2023-03-27T16:36:53.319Z"
      },
      {
        "duration": 3,
        "start_time": "2023-03-27T16:37:59.797Z"
      },
      {
        "duration": 12,
        "start_time": "2023-03-27T16:38:01.237Z"
      },
      {
        "duration": 62,
        "start_time": "2023-03-27T16:38:01.252Z"
      },
      {
        "duration": 44,
        "start_time": "2023-03-27T16:41:19.234Z"
      },
      {
        "duration": 28,
        "start_time": "2023-03-27T16:42:36.027Z"
      },
      {
        "duration": 29,
        "start_time": "2023-03-27T16:42:36.714Z"
      },
      {
        "duration": 10,
        "start_time": "2023-03-27T16:42:50.251Z"
      },
      {
        "duration": 20,
        "start_time": "2023-03-27T16:44:19.209Z"
      },
      {
        "duration": 30,
        "start_time": "2023-03-27T16:44:59.539Z"
      },
      {
        "duration": 11,
        "start_time": "2023-03-27T16:46:03.234Z"
      },
      {
        "duration": 37,
        "start_time": "2023-03-27T16:46:05.154Z"
      },
      {
        "duration": 4,
        "start_time": "2023-03-27T16:46:06.687Z"
      },
      {
        "duration": 19,
        "start_time": "2023-03-27T16:50:57.716Z"
      },
      {
        "duration": 1293,
        "start_time": "2023-03-27T16:54:18.651Z"
      },
      {
        "duration": 2456,
        "start_time": "2023-03-27T16:54:19.946Z"
      },
      {
        "duration": 895,
        "start_time": "2023-03-27T16:54:22.404Z"
      },
      {
        "duration": 327,
        "start_time": "2023-03-27T16:54:23.302Z"
      },
      {
        "duration": 143,
        "start_time": "2023-03-27T16:54:23.631Z"
      },
      {
        "duration": 50,
        "start_time": "2023-03-27T16:54:23.788Z"
      },
      {
        "duration": 177,
        "start_time": "2023-03-27T16:54:23.840Z"
      },
      {
        "duration": 71,
        "start_time": "2023-03-27T16:54:24.020Z"
      },
      {
        "duration": 17,
        "start_time": "2023-03-27T16:54:24.093Z"
      },
      {
        "duration": 10,
        "start_time": "2023-03-27T16:54:24.112Z"
      },
      {
        "duration": 19,
        "start_time": "2023-03-27T16:54:24.125Z"
      },
      {
        "duration": 57,
        "start_time": "2023-03-27T16:54:24.147Z"
      },
      {
        "duration": 36,
        "start_time": "2023-03-27T16:54:24.207Z"
      },
      {
        "duration": 13,
        "start_time": "2023-03-27T16:54:24.245Z"
      },
      {
        "duration": 35,
        "start_time": "2023-03-27T16:54:24.260Z"
      },
      {
        "duration": 12,
        "start_time": "2023-03-27T16:54:24.297Z"
      },
      {
        "duration": 19,
        "start_time": "2023-03-27T16:54:24.311Z"
      },
      {
        "duration": 26,
        "start_time": "2023-03-27T16:54:24.332Z"
      },
      {
        "duration": 75,
        "start_time": "2023-03-27T16:54:24.360Z"
      },
      {
        "duration": 57,
        "start_time": "2023-03-27T16:54:24.437Z"
      },
      {
        "duration": 10,
        "start_time": "2023-03-27T16:54:24.496Z"
      },
      {
        "duration": 52,
        "start_time": "2023-03-27T16:54:24.508Z"
      },
      {
        "duration": 27,
        "start_time": "2023-03-27T16:54:24.562Z"
      },
      {
        "duration": 13,
        "start_time": "2023-03-27T16:54:24.591Z"
      },
      {
        "duration": 92,
        "start_time": "2023-03-27T16:54:24.606Z"
      },
      {
        "duration": 5,
        "start_time": "2023-03-27T16:54:24.701Z"
      },
      {
        "duration": 47,
        "start_time": "2023-03-27T16:54:24.709Z"
      },
      {
        "duration": 26,
        "start_time": "2023-03-27T16:54:24.761Z"
      },
      {
        "duration": 15,
        "start_time": "2023-03-27T16:54:24.790Z"
      },
      {
        "duration": 401,
        "start_time": "2023-03-27T16:54:24.807Z"
      },
      {
        "duration": 160,
        "start_time": "2023-03-27T16:58:42.006Z"
      },
      {
        "duration": 1234,
        "start_time": "2023-03-27T16:58:59.223Z"
      },
      {
        "duration": 2465,
        "start_time": "2023-03-27T16:59:00.459Z"
      },
      {
        "duration": 751,
        "start_time": "2023-03-27T16:59:02.926Z"
      },
      {
        "duration": 284,
        "start_time": "2023-03-27T16:59:03.689Z"
      },
      {
        "duration": 144,
        "start_time": "2023-03-27T16:59:03.974Z"
      },
      {
        "duration": 28,
        "start_time": "2023-03-27T16:59:04.120Z"
      },
      {
        "duration": 133,
        "start_time": "2023-03-27T16:59:04.150Z"
      },
      {
        "duration": 50,
        "start_time": "2023-03-27T16:59:04.287Z"
      },
      {
        "duration": 14,
        "start_time": "2023-03-27T16:59:04.339Z"
      },
      {
        "duration": 9,
        "start_time": "2023-03-27T16:59:04.356Z"
      },
      {
        "duration": 11,
        "start_time": "2023-03-27T16:59:04.387Z"
      },
      {
        "duration": 18,
        "start_time": "2023-03-27T16:59:04.400Z"
      },
      {
        "duration": 31,
        "start_time": "2023-03-27T16:59:04.420Z"
      },
      {
        "duration": 40,
        "start_time": "2023-03-27T16:59:04.453Z"
      },
      {
        "duration": 17,
        "start_time": "2023-03-27T16:59:04.496Z"
      },
      {
        "duration": 4,
        "start_time": "2023-03-27T16:59:04.515Z"
      },
      {
        "duration": 16,
        "start_time": "2023-03-27T16:59:04.521Z"
      },
      {
        "duration": 8,
        "start_time": "2023-03-27T16:59:04.539Z"
      },
      {
        "duration": 67,
        "start_time": "2023-03-27T16:59:04.549Z"
      },
      {
        "duration": 33,
        "start_time": "2023-03-27T16:59:04.619Z"
      },
      {
        "duration": 7,
        "start_time": "2023-03-27T16:59:04.654Z"
      },
      {
        "duration": 53,
        "start_time": "2023-03-27T16:59:04.663Z"
      },
      {
        "duration": 26,
        "start_time": "2023-03-27T16:59:04.719Z"
      },
      {
        "duration": 21,
        "start_time": "2023-03-27T16:59:04.747Z"
      },
      {
        "duration": 50,
        "start_time": "2023-03-27T16:59:04.770Z"
      },
      {
        "duration": 4,
        "start_time": "2023-03-27T16:59:04.822Z"
      },
      {
        "duration": 34,
        "start_time": "2023-03-27T16:59:04.828Z"
      },
      {
        "duration": 25,
        "start_time": "2023-03-27T16:59:04.889Z"
      },
      {
        "duration": 10,
        "start_time": "2023-03-27T16:59:04.916Z"
      },
      {
        "duration": 399,
        "start_time": "2023-03-27T16:59:04.928Z"
      },
      {
        "duration": 403,
        "start_time": "2023-03-27T16:59:05.329Z"
      },
      {
        "duration": 566,
        "start_time": "2023-03-27T16:59:05.733Z"
      },
      {
        "duration": 6,
        "start_time": "2023-03-27T16:59:06.301Z"
      },
      {
        "duration": 10,
        "start_time": "2023-03-27T16:59:06.308Z"
      },
      {
        "duration": 16,
        "start_time": "2023-03-27T16:59:06.319Z"
      },
      {
        "duration": 3,
        "start_time": "2023-03-27T16:59:06.337Z"
      },
      {
        "duration": 16,
        "start_time": "2023-03-27T16:59:06.342Z"
      },
      {
        "duration": 39,
        "start_time": "2023-03-27T16:59:06.360Z"
      },
      {
        "duration": 15,
        "start_time": "2023-03-27T16:59:06.401Z"
      },
      {
        "duration": 14,
        "start_time": "2023-03-27T16:59:06.418Z"
      },
      {
        "duration": 12,
        "start_time": "2023-03-27T16:59:06.434Z"
      },
      {
        "duration": 54,
        "start_time": "2023-03-27T16:59:06.449Z"
      },
      {
        "duration": 22,
        "start_time": "2023-03-27T16:59:57.527Z"
      },
      {
        "duration": 622,
        "start_time": "2023-03-27T17:00:06.413Z"
      },
      {
        "duration": 11,
        "start_time": "2023-03-27T17:00:11.935Z"
      },
      {
        "duration": 16,
        "start_time": "2023-03-27T17:00:59.388Z"
      },
      {
        "duration": 203,
        "start_time": "2023-03-27T17:01:27.751Z"
      },
      {
        "duration": 337,
        "start_time": "2023-03-27T17:01:33.719Z"
      },
      {
        "duration": 233,
        "start_time": "2023-03-27T17:01:37.269Z"
      },
      {
        "duration": 56,
        "start_time": "2023-03-27T17:04:33.192Z"
      },
      {
        "duration": 20,
        "start_time": "2023-03-27T17:05:25.684Z"
      },
      {
        "duration": 58,
        "start_time": "2023-03-27T17:05:37.984Z"
      },
      {
        "duration": 1297,
        "start_time": "2023-03-27T17:07:23.008Z"
      },
      {
        "duration": 2336,
        "start_time": "2023-03-27T17:07:24.307Z"
      },
      {
        "duration": 732,
        "start_time": "2023-03-27T17:07:26.645Z"
      },
      {
        "duration": 285,
        "start_time": "2023-03-27T17:07:27.388Z"
      },
      {
        "duration": 138,
        "start_time": "2023-03-27T17:07:27.674Z"
      },
      {
        "duration": 27,
        "start_time": "2023-03-27T17:07:27.815Z"
      },
      {
        "duration": 130,
        "start_time": "2023-03-27T17:07:27.844Z"
      },
      {
        "duration": 55,
        "start_time": "2023-03-27T17:07:27.976Z"
      },
      {
        "duration": 15,
        "start_time": "2023-03-27T17:07:28.034Z"
      },
      {
        "duration": 10,
        "start_time": "2023-03-27T17:07:28.051Z"
      },
      {
        "duration": 20,
        "start_time": "2023-03-27T17:07:28.087Z"
      },
      {
        "duration": 17,
        "start_time": "2023-03-27T17:07:28.110Z"
      },
      {
        "duration": 31,
        "start_time": "2023-03-27T17:07:28.130Z"
      },
      {
        "duration": 30,
        "start_time": "2023-03-27T17:07:28.163Z"
      },
      {
        "duration": 10,
        "start_time": "2023-03-27T17:07:28.195Z"
      },
      {
        "duration": 5,
        "start_time": "2023-03-27T17:07:28.207Z"
      },
      {
        "duration": 15,
        "start_time": "2023-03-27T17:07:28.214Z"
      },
      {
        "duration": 12,
        "start_time": "2023-03-27T17:07:28.231Z"
      },
      {
        "duration": 67,
        "start_time": "2023-03-27T17:07:28.245Z"
      },
      {
        "duration": 29,
        "start_time": "2023-03-27T17:07:28.314Z"
      },
      {
        "duration": 7,
        "start_time": "2023-03-27T17:07:28.345Z"
      },
      {
        "duration": 51,
        "start_time": "2023-03-27T17:07:28.354Z"
      },
      {
        "duration": 20,
        "start_time": "2023-03-27T17:07:28.407Z"
      },
      {
        "duration": 11,
        "start_time": "2023-03-27T17:07:28.429Z"
      },
      {
        "duration": 58,
        "start_time": "2023-03-27T17:07:28.442Z"
      },
      {
        "duration": 4,
        "start_time": "2023-03-27T17:07:28.502Z"
      },
      {
        "duration": 28,
        "start_time": "2023-03-27T17:07:28.508Z"
      },
      {
        "duration": 27,
        "start_time": "2023-03-27T17:07:28.540Z"
      },
      {
        "duration": 21,
        "start_time": "2023-03-27T17:07:28.573Z"
      },
      {
        "duration": 389,
        "start_time": "2023-03-27T17:07:28.597Z"
      },
      {
        "duration": 389,
        "start_time": "2023-03-27T17:07:28.988Z"
      },
      {
        "duration": 536,
        "start_time": "2023-03-27T17:07:29.379Z"
      },
      {
        "duration": 6,
        "start_time": "2023-03-27T17:07:29.916Z"
      },
      {
        "duration": 11,
        "start_time": "2023-03-27T17:07:29.923Z"
      },
      {
        "duration": 20,
        "start_time": "2023-03-27T17:07:29.935Z"
      },
      {
        "duration": 4,
        "start_time": "2023-03-27T17:07:29.956Z"
      },
      {
        "duration": 33,
        "start_time": "2023-03-27T17:07:29.962Z"
      },
      {
        "duration": 16,
        "start_time": "2023-03-27T17:07:29.997Z"
      },
      {
        "duration": 29,
        "start_time": "2023-03-27T17:07:30.015Z"
      },
      {
        "duration": 20,
        "start_time": "2023-03-27T17:07:30.047Z"
      },
      {
        "duration": 25,
        "start_time": "2023-03-27T17:07:30.070Z"
      },
      {
        "duration": 3,
        "start_time": "2023-03-27T17:07:30.097Z"
      },
      {
        "duration": 22,
        "start_time": "2023-03-27T17:07:30.102Z"
      },
      {
        "duration": 76,
        "start_time": "2023-03-27T17:07:30.126Z"
      },
      {
        "duration": 57,
        "start_time": "2023-03-27T17:07:30.204Z"
      },
      {
        "duration": 6,
        "start_time": "2023-03-27T17:07:30.263Z"
      },
      {
        "duration": 34,
        "start_time": "2023-03-27T17:07:30.287Z"
      },
      {
        "duration": 16,
        "start_time": "2023-03-27T17:07:53.736Z"
      },
      {
        "duration": 1259,
        "start_time": "2023-03-27T17:11:51.699Z"
      },
      {
        "duration": 2281,
        "start_time": "2023-03-27T17:11:52.960Z"
      },
      {
        "duration": 712,
        "start_time": "2023-03-27T17:11:55.243Z"
      },
      {
        "duration": 276,
        "start_time": "2023-03-27T17:11:55.958Z"
      },
      {
        "duration": 139,
        "start_time": "2023-03-27T17:11:56.235Z"
      },
      {
        "duration": 32,
        "start_time": "2023-03-27T17:11:56.375Z"
      },
      {
        "duration": 121,
        "start_time": "2023-03-27T17:11:56.409Z"
      },
      {
        "duration": 56,
        "start_time": "2023-03-27T17:11:56.532Z"
      },
      {
        "duration": 16,
        "start_time": "2023-03-27T17:11:56.590Z"
      },
      {
        "duration": 10,
        "start_time": "2023-03-27T17:11:56.609Z"
      },
      {
        "duration": 10,
        "start_time": "2023-03-27T17:11:56.621Z"
      },
      {
        "duration": 15,
        "start_time": "2023-03-27T17:11:56.633Z"
      },
      {
        "duration": 66,
        "start_time": "2023-03-27T17:11:56.650Z"
      },
      {
        "duration": 11,
        "start_time": "2023-03-27T17:11:56.718Z"
      },
      {
        "duration": 9,
        "start_time": "2023-03-27T17:11:56.731Z"
      },
      {
        "duration": 7,
        "start_time": "2023-03-27T17:11:56.742Z"
      },
      {
        "duration": 44,
        "start_time": "2023-03-27T17:11:56.750Z"
      },
      {
        "duration": 12,
        "start_time": "2023-03-27T17:11:56.796Z"
      },
      {
        "duration": 33,
        "start_time": "2023-03-27T17:11:56.810Z"
      },
      {
        "duration": 49,
        "start_time": "2023-03-27T17:11:56.845Z"
      },
      {
        "duration": 8,
        "start_time": "2023-03-27T17:11:56.895Z"
      },
      {
        "duration": 32,
        "start_time": "2023-03-27T17:11:56.905Z"
      },
      {
        "duration": 6,
        "start_time": "2023-03-27T17:11:56.939Z"
      },
      {
        "duration": 14,
        "start_time": "2023-03-27T17:11:56.947Z"
      },
      {
        "duration": 33,
        "start_time": "2023-03-27T17:11:56.963Z"
      },
      {
        "duration": 20,
        "start_time": "2023-03-27T17:11:56.998Z"
      },
      {
        "duration": 18,
        "start_time": "2023-03-27T17:11:57.020Z"
      },
      {
        "duration": 8,
        "start_time": "2023-03-27T17:12:06.842Z"
      },
      {
        "duration": 12,
        "start_time": "2023-03-27T17:12:40.522Z"
      },
      {
        "duration": 4,
        "start_time": "2023-03-27T17:12:58.076Z"
      },
      {
        "duration": 2507,
        "start_time": "2023-03-27T17:12:58.082Z"
      },
      {
        "duration": 812,
        "start_time": "2023-03-27T17:13:00.592Z"
      },
      {
        "duration": 297,
        "start_time": "2023-03-27T17:13:01.406Z"
      },
      {
        "duration": 146,
        "start_time": "2023-03-27T17:13:01.705Z"
      },
      {
        "duration": 38,
        "start_time": "2023-03-27T17:13:01.853Z"
      },
      {
        "duration": 127,
        "start_time": "2023-03-27T17:13:01.893Z"
      },
      {
        "duration": 55,
        "start_time": "2023-03-27T17:13:02.022Z"
      },
      {
        "duration": 27,
        "start_time": "2023-03-27T17:13:02.088Z"
      },
      {
        "duration": 29,
        "start_time": "2023-03-27T17:13:02.117Z"
      },
      {
        "duration": 23,
        "start_time": "2023-03-27T17:13:02.150Z"
      },
      {
        "duration": 41,
        "start_time": "2023-03-27T17:13:02.175Z"
      },
      {
        "duration": 38,
        "start_time": "2023-03-27T17:13:02.218Z"
      },
      {
        "duration": 12,
        "start_time": "2023-03-27T17:13:02.258Z"
      },
      {
        "duration": 19,
        "start_time": "2023-03-27T17:13:02.271Z"
      },
      {
        "duration": 11,
        "start_time": "2023-03-27T17:13:02.291Z"
      },
      {
        "duration": 17,
        "start_time": "2023-03-27T17:13:02.303Z"
      },
      {
        "duration": 22,
        "start_time": "2023-03-27T17:13:02.321Z"
      },
      {
        "duration": 48,
        "start_time": "2023-03-27T17:13:02.345Z"
      },
      {
        "duration": 36,
        "start_time": "2023-03-27T17:13:02.395Z"
      },
      {
        "duration": 7,
        "start_time": "2023-03-27T17:13:02.432Z"
      },
      {
        "duration": 46,
        "start_time": "2023-03-27T17:13:02.441Z"
      },
      {
        "duration": 7,
        "start_time": "2023-03-27T17:13:02.489Z"
      },
      {
        "duration": 22,
        "start_time": "2023-03-27T17:13:02.497Z"
      },
      {
        "duration": 18,
        "start_time": "2023-03-27T17:13:02.521Z"
      },
      {
        "duration": 26,
        "start_time": "2023-03-27T17:13:02.540Z"
      },
      {
        "duration": 22,
        "start_time": "2023-03-27T17:13:02.568Z"
      },
      {
        "duration": 7,
        "start_time": "2023-03-27T17:13:23.411Z"
      },
      {
        "duration": 18,
        "start_time": "2023-03-27T17:13:26.283Z"
      },
      {
        "duration": 1294,
        "start_time": "2023-03-27T17:14:13.784Z"
      },
      {
        "duration": 2343,
        "start_time": "2023-03-27T17:14:15.081Z"
      },
      {
        "duration": 685,
        "start_time": "2023-03-27T17:14:17.426Z"
      },
      {
        "duration": 304,
        "start_time": "2023-03-27T17:14:18.113Z"
      },
      {
        "duration": 141,
        "start_time": "2023-03-27T17:14:18.420Z"
      },
      {
        "duration": 35,
        "start_time": "2023-03-27T17:14:18.563Z"
      },
      {
        "duration": 136,
        "start_time": "2023-03-27T17:14:18.599Z"
      },
      {
        "duration": 61,
        "start_time": "2023-03-27T17:14:18.737Z"
      },
      {
        "duration": 17,
        "start_time": "2023-03-27T17:14:18.799Z"
      },
      {
        "duration": 17,
        "start_time": "2023-03-27T17:14:18.818Z"
      },
      {
        "duration": 37,
        "start_time": "2023-03-27T17:14:18.837Z"
      },
      {
        "duration": 32,
        "start_time": "2023-03-27T17:14:18.876Z"
      },
      {
        "duration": 41,
        "start_time": "2023-03-27T17:14:18.909Z"
      },
      {
        "duration": 11,
        "start_time": "2023-03-27T17:14:18.952Z"
      },
      {
        "duration": 10,
        "start_time": "2023-03-27T17:14:18.965Z"
      },
      {
        "duration": 14,
        "start_time": "2023-03-27T17:14:18.976Z"
      },
      {
        "duration": 47,
        "start_time": "2023-03-27T17:14:18.991Z"
      },
      {
        "duration": 12,
        "start_time": "2023-03-27T17:14:19.040Z"
      },
      {
        "duration": 44,
        "start_time": "2023-03-27T17:14:19.054Z"
      },
      {
        "duration": 37,
        "start_time": "2023-03-27T17:14:19.100Z"
      },
      {
        "duration": 7,
        "start_time": "2023-03-27T17:14:19.139Z"
      },
      {
        "duration": 53,
        "start_time": "2023-03-27T17:14:19.147Z"
      },
      {
        "duration": 7,
        "start_time": "2023-03-27T17:14:19.201Z"
      },
      {
        "duration": 27,
        "start_time": "2023-03-27T17:14:19.210Z"
      },
      {
        "duration": 17,
        "start_time": "2023-03-27T17:14:19.239Z"
      },
      {
        "duration": 15,
        "start_time": "2023-03-27T17:14:19.258Z"
      },
      {
        "duration": 29,
        "start_time": "2023-03-27T17:14:19.275Z"
      },
      {
        "duration": 27,
        "start_time": "2023-03-27T17:14:19.306Z"
      },
      {
        "duration": 11,
        "start_time": "2023-03-27T17:15:18.994Z"
      },
      {
        "duration": 37,
        "start_time": "2023-03-27T17:15:20.002Z"
      },
      {
        "duration": 4,
        "start_time": "2023-03-27T17:15:21.441Z"
      },
      {
        "duration": 19,
        "start_time": "2023-03-27T17:17:57.627Z"
      },
      {
        "duration": 1363,
        "start_time": "2023-03-27T17:18:07.500Z"
      },
      {
        "duration": 2325,
        "start_time": "2023-03-27T17:18:08.865Z"
      },
      {
        "duration": 738,
        "start_time": "2023-03-27T17:18:11.191Z"
      },
      {
        "duration": 282,
        "start_time": "2023-03-27T17:18:11.931Z"
      },
      {
        "duration": 136,
        "start_time": "2023-03-27T17:18:12.215Z"
      },
      {
        "duration": 36,
        "start_time": "2023-03-27T17:18:12.353Z"
      },
      {
        "duration": 120,
        "start_time": "2023-03-27T17:18:12.391Z"
      },
      {
        "duration": 48,
        "start_time": "2023-03-27T17:18:12.513Z"
      },
      {
        "duration": 27,
        "start_time": "2023-03-27T17:18:12.563Z"
      },
      {
        "duration": 12,
        "start_time": "2023-03-27T17:18:12.593Z"
      },
      {
        "duration": 24,
        "start_time": "2023-03-27T17:18:12.607Z"
      },
      {
        "duration": 50,
        "start_time": "2023-03-27T17:18:12.632Z"
      },
      {
        "duration": 33,
        "start_time": "2023-03-27T17:18:12.683Z"
      },
      {
        "duration": 10,
        "start_time": "2023-03-27T17:18:12.718Z"
      },
      {
        "duration": 13,
        "start_time": "2023-03-27T17:18:12.730Z"
      },
      {
        "duration": 21,
        "start_time": "2023-03-27T17:18:12.744Z"
      },
      {
        "duration": 40,
        "start_time": "2023-03-27T17:18:12.767Z"
      },
      {
        "duration": 46,
        "start_time": "2023-03-27T17:18:12.809Z"
      },
      {
        "duration": 33,
        "start_time": "2023-03-27T17:18:12.857Z"
      },
      {
        "duration": 29,
        "start_time": "2023-03-27T17:18:12.891Z"
      },
      {
        "duration": 7,
        "start_time": "2023-03-27T17:18:12.921Z"
      },
      {
        "duration": 44,
        "start_time": "2023-03-27T17:18:12.930Z"
      },
      {
        "duration": 11,
        "start_time": "2023-03-27T17:18:12.976Z"
      },
      {
        "duration": 24,
        "start_time": "2023-03-27T17:18:12.989Z"
      },
      {
        "duration": 11,
        "start_time": "2023-03-27T17:18:13.015Z"
      },
      {
        "duration": 15,
        "start_time": "2023-03-27T17:18:13.028Z"
      },
      {
        "duration": 36,
        "start_time": "2023-03-27T17:18:13.044Z"
      },
      {
        "duration": 16,
        "start_time": "2023-03-27T17:18:13.083Z"
      },
      {
        "duration": 12,
        "start_time": "2023-03-27T17:18:13.100Z"
      },
      {
        "duration": 50,
        "start_time": "2023-03-27T17:18:13.114Z"
      },
      {
        "duration": 4,
        "start_time": "2023-03-27T17:18:13.166Z"
      },
      {
        "duration": 68,
        "start_time": "2023-03-27T17:18:13.172Z"
      },
      {
        "duration": 18,
        "start_time": "2023-03-27T17:18:21.890Z"
      },
      {
        "duration": 1270,
        "start_time": "2023-03-27T17:23:45.682Z"
      },
      {
        "duration": 2293,
        "start_time": "2023-03-27T17:23:46.954Z"
      },
      {
        "duration": 741,
        "start_time": "2023-03-27T17:23:49.249Z"
      },
      {
        "duration": 285,
        "start_time": "2023-03-27T17:23:49.992Z"
      },
      {
        "duration": 138,
        "start_time": "2023-03-27T17:23:50.280Z"
      },
      {
        "duration": 33,
        "start_time": "2023-03-27T17:23:50.420Z"
      },
      {
        "duration": 151,
        "start_time": "2023-03-27T17:23:50.456Z"
      },
      {
        "duration": 79,
        "start_time": "2023-03-27T17:23:50.609Z"
      },
      {
        "duration": 19,
        "start_time": "2023-03-27T17:23:50.691Z"
      },
      {
        "duration": 19,
        "start_time": "2023-03-27T17:23:50.712Z"
      },
      {
        "duration": 27,
        "start_time": "2023-03-27T17:23:50.733Z"
      },
      {
        "duration": 35,
        "start_time": "2023-03-27T17:23:50.762Z"
      },
      {
        "duration": 36,
        "start_time": "2023-03-27T17:23:50.799Z"
      },
      {
        "duration": 11,
        "start_time": "2023-03-27T17:23:50.838Z"
      },
      {
        "duration": 23,
        "start_time": "2023-03-27T17:23:50.851Z"
      },
      {
        "duration": 12,
        "start_time": "2023-03-27T17:23:50.876Z"
      },
      {
        "duration": 23,
        "start_time": "2023-03-27T17:23:50.890Z"
      },
      {
        "duration": 29,
        "start_time": "2023-03-27T17:23:50.915Z"
      },
      {
        "duration": 41,
        "start_time": "2023-03-27T17:23:50.946Z"
      },
      {
        "duration": 27,
        "start_time": "2023-03-27T17:23:50.989Z"
      },
      {
        "duration": 7,
        "start_time": "2023-03-27T17:23:51.018Z"
      },
      {
        "duration": 31,
        "start_time": "2023-03-27T17:23:51.027Z"
      },
      {
        "duration": 6,
        "start_time": "2023-03-27T17:23:51.060Z"
      },
      {
        "duration": 9,
        "start_time": "2023-03-27T17:23:51.088Z"
      },
      {
        "duration": 14,
        "start_time": "2023-03-27T17:23:51.099Z"
      },
      {
        "duration": 20,
        "start_time": "2023-03-27T17:23:51.114Z"
      },
      {
        "duration": 21,
        "start_time": "2023-03-27T17:23:51.135Z"
      },
      {
        "duration": 32,
        "start_time": "2023-03-27T17:23:51.158Z"
      },
      {
        "duration": 12,
        "start_time": "2023-03-27T17:23:51.191Z"
      },
      {
        "duration": 48,
        "start_time": "2023-03-27T17:23:51.205Z"
      },
      {
        "duration": 4,
        "start_time": "2023-03-27T17:23:51.255Z"
      },
      {
        "duration": 35,
        "start_time": "2023-03-27T17:23:51.261Z"
      },
      {
        "duration": 17,
        "start_time": "2023-03-27T17:23:51.298Z"
      },
      {
        "duration": 12,
        "start_time": "2023-03-27T17:23:51.317Z"
      },
      {
        "duration": 373,
        "start_time": "2023-03-27T17:23:51.331Z"
      },
      {
        "duration": 378,
        "start_time": "2023-03-27T17:23:51.706Z"
      },
      {
        "duration": 524,
        "start_time": "2023-03-27T17:23:52.088Z"
      },
      {
        "duration": 5,
        "start_time": "2023-03-27T17:23:52.614Z"
      },
      {
        "duration": 12,
        "start_time": "2023-03-27T17:23:52.620Z"
      },
      {
        "duration": 16,
        "start_time": "2023-03-27T17:23:52.634Z"
      },
      {
        "duration": 4,
        "start_time": "2023-03-27T17:23:52.655Z"
      },
      {
        "duration": 37,
        "start_time": "2023-03-27T17:23:52.661Z"
      },
      {
        "duration": 13,
        "start_time": "2023-03-27T17:23:52.700Z"
      },
      {
        "duration": 14,
        "start_time": "2023-03-27T17:23:52.714Z"
      },
      {
        "duration": 14,
        "start_time": "2023-03-27T17:23:52.730Z"
      },
      {
        "duration": 46,
        "start_time": "2023-03-27T17:23:52.746Z"
      },
      {
        "duration": 3,
        "start_time": "2023-03-27T17:23:52.794Z"
      },
      {
        "duration": 27,
        "start_time": "2023-03-27T17:23:52.798Z"
      },
      {
        "duration": 73,
        "start_time": "2023-03-27T17:23:52.827Z"
      },
      {
        "duration": 54,
        "start_time": "2023-03-27T17:23:52.902Z"
      },
      {
        "duration": 6,
        "start_time": "2023-03-27T17:23:52.958Z"
      },
      {
        "duration": 12,
        "start_time": "2023-03-27T17:23:52.987Z"
      },
      {
        "duration": 1346,
        "start_time": "2023-03-27T22:46:43.665Z"
      },
      {
        "duration": 2612,
        "start_time": "2023-03-27T22:46:45.013Z"
      },
      {
        "duration": 813,
        "start_time": "2023-03-27T22:46:47.626Z"
      },
      {
        "duration": 307,
        "start_time": "2023-03-27T22:46:48.448Z"
      },
      {
        "duration": 142,
        "start_time": "2023-03-27T22:46:48.757Z"
      },
      {
        "duration": 49,
        "start_time": "2023-03-27T22:46:48.901Z"
      },
      {
        "duration": 127,
        "start_time": "2023-03-27T22:46:48.951Z"
      },
      {
        "duration": 69,
        "start_time": "2023-03-27T22:46:49.080Z"
      },
      {
        "duration": 22,
        "start_time": "2023-03-27T22:46:49.151Z"
      },
      {
        "duration": 13,
        "start_time": "2023-03-27T22:46:49.176Z"
      },
      {
        "duration": 30,
        "start_time": "2023-03-27T22:46:49.190Z"
      },
      {
        "duration": 30,
        "start_time": "2023-03-27T22:46:49.222Z"
      },
      {
        "duration": 35,
        "start_time": "2023-03-27T22:46:49.253Z"
      },
      {
        "duration": 11,
        "start_time": "2023-03-27T22:46:49.289Z"
      },
      {
        "duration": 10,
        "start_time": "2023-03-27T22:46:49.302Z"
      },
      {
        "duration": 9,
        "start_time": "2023-03-27T22:46:49.340Z"
      },
      {
        "duration": 12,
        "start_time": "2023-03-27T22:46:49.351Z"
      },
      {
        "duration": 11,
        "start_time": "2023-03-27T22:46:49.365Z"
      },
      {
        "duration": 35,
        "start_time": "2023-03-27T22:46:49.378Z"
      },
      {
        "duration": 41,
        "start_time": "2023-03-27T22:46:49.433Z"
      },
      {
        "duration": 8,
        "start_time": "2023-03-27T22:46:49.475Z"
      },
      {
        "duration": 60,
        "start_time": "2023-03-27T22:46:49.484Z"
      },
      {
        "duration": 9,
        "start_time": "2023-03-27T22:46:49.546Z"
      },
      {
        "duration": 14,
        "start_time": "2023-03-27T22:46:49.557Z"
      },
      {
        "duration": 10,
        "start_time": "2023-03-27T22:46:49.573Z"
      },
      {
        "duration": 10,
        "start_time": "2023-03-27T22:46:49.585Z"
      },
      {
        "duration": 53,
        "start_time": "2023-03-27T22:46:49.597Z"
      },
      {
        "duration": 15,
        "start_time": "2023-03-27T22:46:49.654Z"
      },
      {
        "duration": 13,
        "start_time": "2023-03-27T22:46:49.671Z"
      },
      {
        "duration": 69,
        "start_time": "2023-03-27T22:46:49.686Z"
      },
      {
        "duration": 4,
        "start_time": "2023-03-27T22:46:49.757Z"
      },
      {
        "duration": 27,
        "start_time": "2023-03-27T22:46:49.763Z"
      },
      {
        "duration": 16,
        "start_time": "2023-03-27T22:46:49.791Z"
      },
      {
        "duration": 40,
        "start_time": "2023-03-27T22:46:49.809Z"
      },
      {
        "duration": 790,
        "start_time": "2023-03-27T22:46:49.852Z"
      },
      {
        "duration": 451,
        "start_time": "2023-03-27T22:46:50.645Z"
      },
      {
        "duration": 580,
        "start_time": "2023-03-27T22:46:51.098Z"
      },
      {
        "duration": 6,
        "start_time": "2023-03-27T22:46:51.679Z"
      },
      {
        "duration": 11,
        "start_time": "2023-03-27T22:46:51.686Z"
      },
      {
        "duration": 41,
        "start_time": "2023-03-27T22:46:51.699Z"
      },
      {
        "duration": 8,
        "start_time": "2023-03-27T22:46:51.742Z"
      },
      {
        "duration": 18,
        "start_time": "2023-03-27T22:46:51.752Z"
      },
      {
        "duration": 14,
        "start_time": "2023-03-27T22:46:51.771Z"
      },
      {
        "duration": 22,
        "start_time": "2023-03-27T22:46:51.787Z"
      },
      {
        "duration": 35,
        "start_time": "2023-03-27T22:46:51.811Z"
      },
      {
        "duration": 11,
        "start_time": "2023-03-27T22:46:51.848Z"
      },
      {
        "duration": 6,
        "start_time": "2023-03-27T22:46:51.861Z"
      },
      {
        "duration": 20,
        "start_time": "2023-03-27T22:46:51.869Z"
      },
      {
        "duration": 81,
        "start_time": "2023-03-27T22:46:51.891Z"
      },
      {
        "duration": 78,
        "start_time": "2023-03-27T22:46:51.974Z"
      },
      {
        "duration": 7,
        "start_time": "2023-03-27T22:46:52.054Z"
      },
      {
        "duration": 17,
        "start_time": "2023-03-27T22:46:52.063Z"
      },
      {
        "duration": 4,
        "start_time": "2023-03-27T22:49:15.151Z"
      },
      {
        "duration": 175,
        "start_time": "2023-03-27T22:49:21.084Z"
      },
      {
        "duration": 5,
        "start_time": "2023-03-27T22:49:26.820Z"
      },
      {
        "duration": 1487,
        "start_time": "2023-03-28T05:52:18.818Z"
      },
      {
        "duration": 3827,
        "start_time": "2023-03-28T05:52:20.307Z"
      },
      {
        "duration": 815,
        "start_time": "2023-03-28T05:52:24.136Z"
      },
      {
        "duration": 282,
        "start_time": "2023-03-28T05:52:24.954Z"
      },
      {
        "duration": 136,
        "start_time": "2023-03-28T05:52:25.238Z"
      },
      {
        "duration": 26,
        "start_time": "2023-03-28T05:52:25.376Z"
      },
      {
        "duration": 132,
        "start_time": "2023-03-28T05:52:25.404Z"
      },
      {
        "duration": 50,
        "start_time": "2023-03-28T05:52:25.541Z"
      },
      {
        "duration": 15,
        "start_time": "2023-03-28T05:52:25.592Z"
      },
      {
        "duration": 31,
        "start_time": "2023-03-28T05:52:25.610Z"
      },
      {
        "duration": 15,
        "start_time": "2023-03-28T05:52:25.643Z"
      },
      {
        "duration": 35,
        "start_time": "2023-03-28T05:52:25.660Z"
      },
      {
        "duration": 32,
        "start_time": "2023-03-28T05:52:25.697Z"
      },
      {
        "duration": 18,
        "start_time": "2023-03-28T05:52:25.741Z"
      },
      {
        "duration": 15,
        "start_time": "2023-03-28T05:52:25.761Z"
      },
      {
        "duration": 11,
        "start_time": "2023-03-28T05:52:25.778Z"
      },
      {
        "duration": 20,
        "start_time": "2023-03-28T05:52:25.791Z"
      },
      {
        "duration": 51,
        "start_time": "2023-03-28T05:52:25.813Z"
      },
      {
        "duration": 41,
        "start_time": "2023-03-28T05:52:25.867Z"
      },
      {
        "duration": 46,
        "start_time": "2023-03-28T05:52:25.911Z"
      },
      {
        "duration": 8,
        "start_time": "2023-03-28T05:52:25.959Z"
      },
      {
        "duration": 38,
        "start_time": "2023-03-28T05:52:25.968Z"
      },
      {
        "duration": 5,
        "start_time": "2023-03-28T05:52:26.008Z"
      },
      {
        "duration": 14,
        "start_time": "2023-03-28T05:52:26.015Z"
      },
      {
        "duration": 22,
        "start_time": "2023-03-28T05:52:26.042Z"
      },
      {
        "duration": 8,
        "start_time": "2023-03-28T05:52:26.066Z"
      },
      {
        "duration": 16,
        "start_time": "2023-03-28T05:52:26.076Z"
      },
      {
        "duration": 13,
        "start_time": "2023-03-28T05:52:26.095Z"
      },
      {
        "duration": 9,
        "start_time": "2023-03-28T05:52:26.110Z"
      },
      {
        "duration": 55,
        "start_time": "2023-03-28T05:52:26.121Z"
      },
      {
        "duration": 4,
        "start_time": "2023-03-28T05:52:26.178Z"
      },
      {
        "duration": 21,
        "start_time": "2023-03-28T05:52:26.184Z"
      },
      {
        "duration": 40,
        "start_time": "2023-03-28T05:52:26.207Z"
      },
      {
        "duration": 11,
        "start_time": "2023-03-28T05:52:26.248Z"
      },
      {
        "duration": 349,
        "start_time": "2023-03-28T05:52:26.260Z"
      },
      {
        "duration": 400,
        "start_time": "2023-03-28T05:52:26.610Z"
      },
      {
        "duration": 582,
        "start_time": "2023-03-28T05:52:27.012Z"
      },
      {
        "duration": 6,
        "start_time": "2023-03-28T05:52:27.596Z"
      },
      {
        "duration": 14,
        "start_time": "2023-03-28T05:52:27.603Z"
      },
      {
        "duration": 31,
        "start_time": "2023-03-28T05:52:27.619Z"
      },
      {
        "duration": 3,
        "start_time": "2023-03-28T05:52:27.652Z"
      },
      {
        "duration": 28,
        "start_time": "2023-03-28T05:52:27.656Z"
      },
      {
        "duration": 16,
        "start_time": "2023-03-28T05:52:27.686Z"
      },
      {
        "duration": 18,
        "start_time": "2023-03-28T05:52:27.704Z"
      },
      {
        "duration": 23,
        "start_time": "2023-03-28T05:52:27.724Z"
      },
      {
        "duration": 9,
        "start_time": "2023-03-28T05:52:27.749Z"
      },
      {
        "duration": 5,
        "start_time": "2023-03-28T05:52:27.759Z"
      },
      {
        "duration": 18,
        "start_time": "2023-03-28T05:52:27.766Z"
      },
      {
        "duration": 76,
        "start_time": "2023-03-28T05:52:27.785Z"
      },
      {
        "duration": 55,
        "start_time": "2023-03-28T05:52:27.862Z"
      },
      {
        "duration": 5,
        "start_time": "2023-03-28T05:52:27.919Z"
      },
      {
        "duration": 11,
        "start_time": "2023-03-28T05:52:27.941Z"
      },
      {
        "duration": 54,
        "start_time": "2023-03-28T06:44:39.297Z"
      },
      {
        "duration": 1428,
        "start_time": "2023-03-28T06:44:49.367Z"
      },
      {
        "duration": 3132,
        "start_time": "2023-03-28T06:44:50.797Z"
      },
      {
        "duration": 857,
        "start_time": "2023-03-28T06:44:53.931Z"
      },
      {
        "duration": 337,
        "start_time": "2023-03-28T06:44:54.791Z"
      },
      {
        "duration": 153,
        "start_time": "2023-03-28T06:44:55.131Z"
      },
      {
        "duration": 26,
        "start_time": "2023-03-28T06:44:55.286Z"
      },
      {
        "duration": 139,
        "start_time": "2023-03-28T06:44:55.314Z"
      },
      {
        "duration": 55,
        "start_time": "2023-03-28T06:44:55.455Z"
      },
      {
        "duration": 32,
        "start_time": "2023-03-28T06:44:55.512Z"
      },
      {
        "duration": 22,
        "start_time": "2023-03-28T06:44:55.546Z"
      },
      {
        "duration": 16,
        "start_time": "2023-03-28T06:45:02.095Z"
      },
      {
        "duration": 15,
        "start_time": "2023-03-28T06:45:15.239Z"
      },
      {
        "duration": 13,
        "start_time": "2023-03-28T06:46:17.471Z"
      },
      {
        "duration": 1413,
        "start_time": "2023-03-28T06:49:46.966Z"
      },
      {
        "duration": 2716,
        "start_time": "2023-03-28T06:49:48.381Z"
      },
      {
        "duration": 904,
        "start_time": "2023-03-28T06:49:51.099Z"
      },
      {
        "duration": 330,
        "start_time": "2023-03-28T06:49:52.005Z"
      },
      {
        "duration": 151,
        "start_time": "2023-03-28T06:49:52.340Z"
      },
      {
        "duration": 52,
        "start_time": "2023-03-28T06:49:52.493Z"
      },
      {
        "duration": 138,
        "start_time": "2023-03-28T06:49:52.547Z"
      },
      {
        "duration": 85,
        "start_time": "2023-03-28T06:49:52.688Z"
      },
      {
        "duration": 17,
        "start_time": "2023-03-28T06:49:52.781Z"
      },
      {
        "duration": 3,
        "start_time": "2023-03-28T06:49:52.799Z"
      },
      {
        "duration": 21,
        "start_time": "2023-03-28T06:49:52.804Z"
      },
      {
        "duration": 19,
        "start_time": "2023-03-28T06:49:52.827Z"
      },
      {
        "duration": 61,
        "start_time": "2023-03-28T06:49:52.848Z"
      },
      {
        "duration": 33,
        "start_time": "2023-03-28T06:49:52.912Z"
      },
      {
        "duration": 15,
        "start_time": "2023-03-28T06:49:52.947Z"
      },
      {
        "duration": 43,
        "start_time": "2023-03-28T06:49:52.963Z"
      },
      {
        "duration": 11,
        "start_time": "2023-03-28T06:49:53.008Z"
      },
      {
        "duration": 42,
        "start_time": "2023-03-28T06:49:53.021Z"
      },
      {
        "duration": 34,
        "start_time": "2023-03-28T06:49:53.065Z"
      },
      {
        "duration": 49,
        "start_time": "2023-03-28T06:49:53.101Z"
      },
      {
        "duration": 60,
        "start_time": "2023-03-28T06:49:53.152Z"
      },
      {
        "duration": 10,
        "start_time": "2023-03-28T06:49:53.215Z"
      },
      {
        "duration": 58,
        "start_time": "2023-03-28T06:49:53.227Z"
      },
      {
        "duration": 9,
        "start_time": "2023-03-28T06:49:53.287Z"
      },
      {
        "duration": 17,
        "start_time": "2023-03-28T06:49:53.298Z"
      },
      {
        "duration": 59,
        "start_time": "2023-03-28T06:49:53.317Z"
      },
      {
        "duration": 107,
        "start_time": "2023-03-28T06:49:53.379Z"
      },
      {
        "duration": 22,
        "start_time": "2023-03-28T06:49:53.488Z"
      },
      {
        "duration": 22,
        "start_time": "2023-03-28T06:49:53.512Z"
      },
      {
        "duration": 52,
        "start_time": "2023-03-28T06:49:53.536Z"
      },
      {
        "duration": 61,
        "start_time": "2023-03-28T06:49:53.590Z"
      },
      {
        "duration": 15,
        "start_time": "2023-03-28T06:49:53.661Z"
      },
      {
        "duration": 53,
        "start_time": "2023-03-28T06:50:56.978Z"
      },
      {
        "duration": 5,
        "start_time": "2023-03-28T06:50:58.012Z"
      },
      {
        "duration": 159,
        "start_time": "2023-03-28T06:55:24.674Z"
      },
      {
        "duration": 22,
        "start_time": "2023-03-28T06:55:32.801Z"
      },
      {
        "duration": 1459,
        "start_time": "2023-03-28T06:55:43.139Z"
      },
      {
        "duration": 2834,
        "start_time": "2023-03-28T06:55:44.600Z"
      },
      {
        "duration": 872,
        "start_time": "2023-03-28T06:55:47.436Z"
      },
      {
        "duration": 326,
        "start_time": "2023-03-28T06:55:48.310Z"
      },
      {
        "duration": 158,
        "start_time": "2023-03-28T06:55:48.638Z"
      },
      {
        "duration": 49,
        "start_time": "2023-03-28T06:55:48.799Z"
      },
      {
        "duration": 166,
        "start_time": "2023-03-28T06:55:48.856Z"
      },
      {
        "duration": 64,
        "start_time": "2023-03-28T06:55:49.025Z"
      },
      {
        "duration": 20,
        "start_time": "2023-03-28T06:55:49.091Z"
      },
      {
        "duration": 3,
        "start_time": "2023-03-28T06:55:49.114Z"
      },
      {
        "duration": 38,
        "start_time": "2023-03-28T06:55:49.119Z"
      },
      {
        "duration": 34,
        "start_time": "2023-03-28T06:55:49.159Z"
      },
      {
        "duration": 24,
        "start_time": "2023-03-28T06:55:49.196Z"
      },
      {
        "duration": 59,
        "start_time": "2023-03-28T06:55:49.222Z"
      },
      {
        "duration": 16,
        "start_time": "2023-03-28T06:55:49.283Z"
      },
      {
        "duration": 15,
        "start_time": "2023-03-28T06:55:49.301Z"
      },
      {
        "duration": 27,
        "start_time": "2023-03-28T06:55:49.318Z"
      },
      {
        "duration": 33,
        "start_time": "2023-03-28T06:55:49.348Z"
      },
      {
        "duration": 19,
        "start_time": "2023-03-28T06:55:49.383Z"
      },
      {
        "duration": 64,
        "start_time": "2023-03-28T06:55:49.405Z"
      },
      {
        "duration": 43,
        "start_time": "2023-03-28T06:55:49.471Z"
      },
      {
        "duration": 8,
        "start_time": "2023-03-28T06:55:49.517Z"
      },
      {
        "duration": 71,
        "start_time": "2023-03-28T06:55:49.528Z"
      },
      {
        "duration": 9,
        "start_time": "2023-03-28T06:55:49.601Z"
      },
      {
        "duration": 21,
        "start_time": "2023-03-28T06:55:49.613Z"
      },
      {
        "duration": 34,
        "start_time": "2023-03-28T06:55:49.636Z"
      },
      {
        "duration": 18,
        "start_time": "2023-03-28T06:55:49.672Z"
      },
      {
        "duration": 20,
        "start_time": "2023-03-28T06:55:49.694Z"
      },
      {
        "duration": 17,
        "start_time": "2023-03-28T06:55:49.716Z"
      },
      {
        "duration": 23,
        "start_time": "2023-03-28T06:55:49.735Z"
      },
      {
        "duration": 60,
        "start_time": "2023-03-28T06:55:49.759Z"
      },
      {
        "duration": 4,
        "start_time": "2023-03-28T06:55:49.821Z"
      },
      {
        "duration": 69,
        "start_time": "2023-03-28T06:55:49.827Z"
      },
      {
        "duration": 15,
        "start_time": "2023-03-28T06:55:49.898Z"
      },
      {
        "duration": 21,
        "start_time": "2023-03-28T06:55:49.916Z"
      },
      {
        "duration": 416,
        "start_time": "2023-03-28T06:55:49.939Z"
      },
      {
        "duration": 14,
        "start_time": "2023-03-28T06:55:50.357Z"
      },
      {
        "duration": 10,
        "start_time": "2023-03-28T06:57:24.082Z"
      },
      {
        "duration": 12,
        "start_time": "2023-03-28T06:57:39.835Z"
      },
      {
        "duration": 7,
        "start_time": "2023-03-28T06:57:46.300Z"
      },
      {
        "duration": 14,
        "start_time": "2023-03-28T06:58:11.474Z"
      },
      {
        "duration": 6,
        "start_time": "2023-03-28T06:58:15.818Z"
      },
      {
        "duration": 20,
        "start_time": "2023-03-28T06:58:25.393Z"
      },
      {
        "duration": 6,
        "start_time": "2023-03-28T06:58:42.330Z"
      },
      {
        "duration": 38,
        "start_time": "2023-03-28T06:58:51.370Z"
      },
      {
        "duration": 690,
        "start_time": "2023-03-28T06:59:02.965Z"
      },
      {
        "duration": 630,
        "start_time": "2023-03-28T06:59:15.097Z"
      },
      {
        "duration": 1253,
        "start_time": "2023-03-28T06:59:35.277Z"
      },
      {
        "duration": 627,
        "start_time": "2023-03-28T06:59:47.498Z"
      },
      {
        "duration": 927,
        "start_time": "2023-03-28T07:00:01.339Z"
      },
      {
        "duration": 855,
        "start_time": "2023-03-28T07:00:20.170Z"
      },
      {
        "duration": 693,
        "start_time": "2023-03-28T07:00:43.297Z"
      },
      {
        "duration": 636,
        "start_time": "2023-03-28T07:01:01.193Z"
      },
      {
        "duration": 684,
        "start_time": "2023-03-28T07:01:50.193Z"
      },
      {
        "duration": 1347,
        "start_time": "2023-03-28T07:02:16.724Z"
      },
      {
        "duration": 2752,
        "start_time": "2023-03-28T07:02:18.074Z"
      },
      {
        "duration": 964,
        "start_time": "2023-03-28T07:02:20.829Z"
      },
      {
        "duration": 385,
        "start_time": "2023-03-28T07:02:21.796Z"
      },
      {
        "duration": 171,
        "start_time": "2023-03-28T07:02:22.184Z"
      },
      {
        "duration": 30,
        "start_time": "2023-03-28T07:02:22.357Z"
      },
      {
        "duration": 196,
        "start_time": "2023-03-28T07:02:22.389Z"
      },
      {
        "duration": 76,
        "start_time": "2023-03-28T07:02:22.588Z"
      },
      {
        "duration": 34,
        "start_time": "2023-03-28T07:02:22.667Z"
      },
      {
        "duration": 10,
        "start_time": "2023-03-28T07:02:22.706Z"
      },
      {
        "duration": 32,
        "start_time": "2023-03-28T07:02:22.718Z"
      },
      {
        "duration": 70,
        "start_time": "2023-03-28T07:02:22.752Z"
      },
      {
        "duration": 59,
        "start_time": "2023-03-28T07:02:22.825Z"
      },
      {
        "duration": 74,
        "start_time": "2023-03-28T07:02:22.887Z"
      },
      {
        "duration": 22,
        "start_time": "2023-03-28T07:02:22.965Z"
      },
      {
        "duration": 41,
        "start_time": "2023-03-28T07:02:22.989Z"
      },
      {
        "duration": 88,
        "start_time": "2023-03-28T07:02:23.032Z"
      },
      {
        "duration": 145,
        "start_time": "2023-03-28T07:02:23.123Z"
      },
      {
        "duration": 53,
        "start_time": "2023-03-28T07:02:23.271Z"
      },
      {
        "duration": 105,
        "start_time": "2023-03-28T07:02:23.326Z"
      },
      {
        "duration": 45,
        "start_time": "2023-03-28T07:02:23.434Z"
      },
      {
        "duration": 32,
        "start_time": "2023-03-28T07:02:23.481Z"
      },
      {
        "duration": 89,
        "start_time": "2023-03-28T07:02:23.515Z"
      },
      {
        "duration": 24,
        "start_time": "2023-03-28T07:02:23.606Z"
      },
      {
        "duration": 54,
        "start_time": "2023-03-28T07:02:23.632Z"
      },
      {
        "duration": 25,
        "start_time": "2023-03-28T07:02:23.688Z"
      },
      {
        "duration": 71,
        "start_time": "2023-03-28T07:02:23.715Z"
      },
      {
        "duration": 41,
        "start_time": "2023-03-28T07:02:23.791Z"
      },
      {
        "duration": 34,
        "start_time": "2023-03-28T07:02:23.834Z"
      },
      {
        "duration": 41,
        "start_time": "2023-03-28T07:02:23.870Z"
      },
      {
        "duration": 79,
        "start_time": "2023-03-28T07:02:23.913Z"
      },
      {
        "duration": 5,
        "start_time": "2023-03-28T07:02:23.995Z"
      },
      {
        "duration": 57,
        "start_time": "2023-03-28T07:02:24.002Z"
      },
      {
        "duration": 62,
        "start_time": "2023-03-28T07:02:24.062Z"
      },
      {
        "duration": 68,
        "start_time": "2023-03-28T07:02:24.126Z"
      },
      {
        "duration": 585,
        "start_time": "2023-03-28T07:02:24.197Z"
      },
      {
        "duration": 825,
        "start_time": "2023-03-28T07:02:28.570Z"
      },
      {
        "duration": 1244,
        "start_time": "2023-03-28T07:02:35.187Z"
      },
      {
        "duration": 721,
        "start_time": "2023-03-28T07:02:47.987Z"
      },
      {
        "duration": 162,
        "start_time": "2023-03-28T07:04:22.203Z"
      },
      {
        "duration": 1156,
        "start_time": "2023-03-28T07:04:24.962Z"
      },
      {
        "duration": 654,
        "start_time": "2023-03-28T07:05:59.228Z"
      },
      {
        "duration": 898,
        "start_time": "2023-03-28T07:07:05.692Z"
      },
      {
        "duration": 646,
        "start_time": "2023-03-28T07:08:26.866Z"
      },
      {
        "duration": 6,
        "start_time": "2023-03-28T07:08:37.412Z"
      },
      {
        "duration": 19,
        "start_time": "2023-03-28T07:08:51.749Z"
      },
      {
        "duration": 11,
        "start_time": "2023-03-28T07:09:50.959Z"
      },
      {
        "duration": 14,
        "start_time": "2023-03-28T07:09:58.819Z"
      },
      {
        "duration": 21,
        "start_time": "2023-03-28T07:10:05.836Z"
      },
      {
        "duration": 19,
        "start_time": "2023-03-28T07:10:13.220Z"
      },
      {
        "duration": 14,
        "start_time": "2023-03-28T07:10:33.060Z"
      },
      {
        "duration": 1309,
        "start_time": "2023-03-28T07:11:03.087Z"
      },
      {
        "duration": 2748,
        "start_time": "2023-03-28T07:11:04.398Z"
      },
      {
        "duration": 888,
        "start_time": "2023-03-28T07:11:07.156Z"
      },
      {
        "duration": 318,
        "start_time": "2023-03-28T07:11:08.046Z"
      },
      {
        "duration": 154,
        "start_time": "2023-03-28T07:11:08.366Z"
      },
      {
        "duration": 50,
        "start_time": "2023-03-28T07:11:08.521Z"
      },
      {
        "duration": 141,
        "start_time": "2023-03-28T07:11:08.573Z"
      },
      {
        "duration": 73,
        "start_time": "2023-03-28T07:11:08.716Z"
      },
      {
        "duration": 20,
        "start_time": "2023-03-28T07:11:08.791Z"
      },
      {
        "duration": 6,
        "start_time": "2023-03-28T07:11:08.813Z"
      },
      {
        "duration": 48,
        "start_time": "2023-03-28T07:11:08.821Z"
      },
      {
        "duration": 51,
        "start_time": "2023-03-28T07:11:08.871Z"
      },
      {
        "duration": 56,
        "start_time": "2023-03-28T07:11:08.924Z"
      },
      {
        "duration": 57,
        "start_time": "2023-03-28T07:11:08.982Z"
      },
      {
        "duration": 24,
        "start_time": "2023-03-28T07:11:09.041Z"
      },
      {
        "duration": 15,
        "start_time": "2023-03-28T07:11:09.067Z"
      },
      {
        "duration": 5,
        "start_time": "2023-03-28T07:11:09.084Z"
      },
      {
        "duration": 20,
        "start_time": "2023-03-28T07:11:09.091Z"
      },
      {
        "duration": 40,
        "start_time": "2023-03-28T07:11:09.113Z"
      },
      {
        "duration": 53,
        "start_time": "2023-03-28T07:11:09.156Z"
      },
      {
        "duration": 61,
        "start_time": "2023-03-28T07:11:09.211Z"
      },
      {
        "duration": 11,
        "start_time": "2023-03-28T07:11:09.275Z"
      },
      {
        "duration": 39,
        "start_time": "2023-03-28T07:11:09.288Z"
      },
      {
        "duration": 18,
        "start_time": "2023-03-28T07:11:09.329Z"
      },
      {
        "duration": 22,
        "start_time": "2023-03-28T07:11:09.348Z"
      },
      {
        "duration": 15,
        "start_time": "2023-03-28T07:11:09.371Z"
      },
      {
        "duration": 14,
        "start_time": "2023-03-28T07:11:09.387Z"
      },
      {
        "duration": 22,
        "start_time": "2023-03-28T07:11:09.406Z"
      },
      {
        "duration": 31,
        "start_time": "2023-03-28T07:11:09.441Z"
      },
      {
        "duration": 21,
        "start_time": "2023-03-28T07:11:09.474Z"
      },
      {
        "duration": 42,
        "start_time": "2023-03-28T07:11:09.496Z"
      },
      {
        "duration": 6,
        "start_time": "2023-03-28T07:11:09.543Z"
      },
      {
        "duration": 36,
        "start_time": "2023-03-28T07:11:09.552Z"
      },
      {
        "duration": 18,
        "start_time": "2023-03-28T07:11:09.590Z"
      },
      {
        "duration": 13,
        "start_time": "2023-03-28T07:11:09.610Z"
      },
      {
        "duration": 436,
        "start_time": "2023-03-28T07:11:09.625Z"
      },
      {
        "duration": 215,
        "start_time": "2023-03-28T07:16:46.606Z"
      },
      {
        "duration": 1388,
        "start_time": "2023-03-28T07:17:49.842Z"
      },
      {
        "duration": 2680,
        "start_time": "2023-03-28T07:17:51.233Z"
      },
      {
        "duration": 865,
        "start_time": "2023-03-28T07:17:53.915Z"
      },
      {
        "duration": 307,
        "start_time": "2023-03-28T07:17:54.782Z"
      },
      {
        "duration": 172,
        "start_time": "2023-03-28T07:17:55.092Z"
      },
      {
        "duration": 33,
        "start_time": "2023-03-28T07:17:55.269Z"
      },
      {
        "duration": 149,
        "start_time": "2023-03-28T07:17:55.304Z"
      },
      {
        "duration": 55,
        "start_time": "2023-03-28T07:17:55.455Z"
      },
      {
        "duration": 30,
        "start_time": "2023-03-28T07:17:55.512Z"
      },
      {
        "duration": 11,
        "start_time": "2023-03-28T07:17:55.547Z"
      },
      {
        "duration": 23,
        "start_time": "2023-03-28T07:17:55.560Z"
      },
      {
        "duration": 15,
        "start_time": "2023-03-28T07:17:55.585Z"
      },
      {
        "duration": 21,
        "start_time": "2023-03-28T07:17:55.602Z"
      },
      {
        "duration": 42,
        "start_time": "2023-03-28T07:17:55.627Z"
      },
      {
        "duration": 13,
        "start_time": "2023-03-28T07:17:55.671Z"
      },
      {
        "duration": 12,
        "start_time": "2023-03-28T07:17:55.686Z"
      },
      {
        "duration": 4,
        "start_time": "2023-03-28T07:17:55.700Z"
      },
      {
        "duration": 50,
        "start_time": "2023-03-28T07:17:55.706Z"
      },
      {
        "duration": 16,
        "start_time": "2023-03-28T07:17:55.758Z"
      },
      {
        "duration": 35,
        "start_time": "2023-03-28T07:17:55.776Z"
      },
      {
        "duration": 44,
        "start_time": "2023-03-28T07:17:55.813Z"
      },
      {
        "duration": 9,
        "start_time": "2023-03-28T07:17:55.859Z"
      },
      {
        "duration": 59,
        "start_time": "2023-03-28T07:17:55.870Z"
      },
      {
        "duration": 12,
        "start_time": "2023-03-28T07:17:55.931Z"
      },
      {
        "duration": 25,
        "start_time": "2023-03-28T07:17:55.949Z"
      },
      {
        "duration": 8,
        "start_time": "2023-03-28T07:17:55.976Z"
      },
      {
        "duration": 12,
        "start_time": "2023-03-28T07:17:55.985Z"
      },
      {
        "duration": 17,
        "start_time": "2023-03-28T07:17:55.999Z"
      },
      {
        "duration": 33,
        "start_time": "2023-03-28T07:17:56.018Z"
      },
      {
        "duration": 21,
        "start_time": "2023-03-28T07:17:56.053Z"
      },
      {
        "duration": 41,
        "start_time": "2023-03-28T07:17:56.077Z"
      },
      {
        "duration": 36,
        "start_time": "2023-03-28T07:17:56.120Z"
      },
      {
        "duration": 30,
        "start_time": "2023-03-28T07:17:56.158Z"
      },
      {
        "duration": 19,
        "start_time": "2023-03-28T07:17:56.190Z"
      },
      {
        "duration": 40,
        "start_time": "2023-03-28T07:17:56.211Z"
      },
      {
        "duration": 533,
        "start_time": "2023-03-28T07:17:56.253Z"
      },
      {
        "duration": 175,
        "start_time": "2023-03-28T07:17:56.788Z"
      },
      {
        "duration": 14,
        "start_time": "2023-03-28T07:17:56.964Z"
      },
      {
        "duration": 348,
        "start_time": "2023-03-28T07:17:56.981Z"
      },
      {
        "duration": 700,
        "start_time": "2023-03-28T07:17:57.331Z"
      },
      {
        "duration": 9,
        "start_time": "2023-03-28T07:17:58.036Z"
      },
      {
        "duration": 13,
        "start_time": "2023-03-28T07:17:58.047Z"
      },
      {
        "duration": 45,
        "start_time": "2023-03-28T07:17:58.063Z"
      },
      {
        "duration": 5,
        "start_time": "2023-03-28T07:17:58.110Z"
      },
      {
        "duration": 38,
        "start_time": "2023-03-28T07:17:58.117Z"
      },
      {
        "duration": 26,
        "start_time": "2023-03-28T07:17:58.157Z"
      },
      {
        "duration": 23,
        "start_time": "2023-03-28T07:17:58.185Z"
      },
      {
        "duration": 15,
        "start_time": "2023-03-28T07:17:58.210Z"
      },
      {
        "duration": 25,
        "start_time": "2023-03-28T07:17:58.227Z"
      },
      {
        "duration": 10,
        "start_time": "2023-03-28T07:17:58.258Z"
      },
      {
        "duration": 25,
        "start_time": "2023-03-28T07:17:58.270Z"
      },
      {
        "duration": 78,
        "start_time": "2023-03-28T07:17:58.297Z"
      },
      {
        "duration": 76,
        "start_time": "2023-03-28T07:17:58.378Z"
      },
      {
        "duration": 10,
        "start_time": "2023-03-28T07:17:58.456Z"
      },
      {
        "duration": 21,
        "start_time": "2023-03-28T07:17:58.468Z"
      },
      {
        "duration": 61,
        "start_time": "2023-03-28T07:18:49.477Z"
      },
      {
        "duration": 51,
        "start_time": "2023-03-28T07:19:26.764Z"
      },
      {
        "duration": 52,
        "start_time": "2023-03-28T07:19:34.546Z"
      },
      {
        "duration": 726,
        "start_time": "2023-03-28T07:19:40.365Z"
      },
      {
        "duration": 94,
        "start_time": "2023-03-28T07:19:58.301Z"
      },
      {
        "duration": 16,
        "start_time": "2023-03-28T07:20:18.332Z"
      },
      {
        "duration": 11,
        "start_time": "2023-03-28T07:20:44.084Z"
      },
      {
        "duration": 164,
        "start_time": "2023-03-28T07:21:10.847Z"
      },
      {
        "duration": 66,
        "start_time": "2023-03-28T07:21:28.864Z"
      },
      {
        "duration": 69,
        "start_time": "2023-03-28T07:22:51.770Z"
      },
      {
        "duration": 86,
        "start_time": "2023-03-28T07:23:04.733Z"
      },
      {
        "duration": 0,
        "start_time": "2023-03-28T07:23:13.983Z"
      },
      {
        "duration": 138,
        "start_time": "2023-03-28T07:23:19.532Z"
      },
      {
        "duration": 65,
        "start_time": "2023-03-28T07:23:24.373Z"
      },
      {
        "duration": 66,
        "start_time": "2023-03-28T07:23:54.158Z"
      },
      {
        "duration": 213,
        "start_time": "2023-03-28T07:24:27.466Z"
      },
      {
        "duration": 2240,
        "start_time": "2023-03-28T07:26:27.158Z"
      },
      {
        "duration": 4945,
        "start_time": "2023-03-28T07:26:48.167Z"
      },
      {
        "duration": 102,
        "start_time": "2023-03-28T07:26:55.312Z"
      },
      {
        "duration": 1301,
        "start_time": "2023-03-28T07:28:46.213Z"
      },
      {
        "duration": 2518,
        "start_time": "2023-03-28T07:28:47.517Z"
      },
      {
        "duration": 948,
        "start_time": "2023-03-28T07:28:50.037Z"
      },
      {
        "duration": 312,
        "start_time": "2023-03-28T07:28:50.988Z"
      },
      {
        "duration": 145,
        "start_time": "2023-03-28T07:28:51.302Z"
      },
      {
        "duration": 40,
        "start_time": "2023-03-28T07:28:51.450Z"
      },
      {
        "duration": 168,
        "start_time": "2023-03-28T07:28:51.492Z"
      },
      {
        "duration": 73,
        "start_time": "2023-03-28T07:28:51.662Z"
      },
      {
        "duration": 25,
        "start_time": "2023-03-28T07:28:51.736Z"
      },
      {
        "duration": 10,
        "start_time": "2023-03-28T07:28:51.764Z"
      },
      {
        "duration": 31,
        "start_time": "2023-03-28T07:28:51.776Z"
      },
      {
        "duration": 21,
        "start_time": "2023-03-28T07:28:51.809Z"
      },
      {
        "duration": 24,
        "start_time": "2023-03-28T07:28:51.833Z"
      },
      {
        "duration": 62,
        "start_time": "2023-03-28T07:28:51.859Z"
      },
      {
        "duration": 36,
        "start_time": "2023-03-28T07:28:51.923Z"
      },
      {
        "duration": 12,
        "start_time": "2023-03-28T07:28:51.961Z"
      },
      {
        "duration": 4,
        "start_time": "2023-03-28T07:28:51.975Z"
      },
      {
        "duration": 23,
        "start_time": "2023-03-28T07:28:51.981Z"
      },
      {
        "duration": 9,
        "start_time": "2023-03-28T07:28:52.006Z"
      },
      {
        "duration": 60,
        "start_time": "2023-03-28T07:28:52.017Z"
      },
      {
        "duration": 30,
        "start_time": "2023-03-28T07:28:52.079Z"
      },
      {
        "duration": 7,
        "start_time": "2023-03-28T07:28:52.110Z"
      },
      {
        "duration": 60,
        "start_time": "2023-03-28T07:28:52.119Z"
      },
      {
        "duration": 7,
        "start_time": "2023-03-28T07:28:52.181Z"
      },
      {
        "duration": 20,
        "start_time": "2023-03-28T07:28:52.189Z"
      },
      {
        "duration": 25,
        "start_time": "2023-03-28T07:28:52.211Z"
      },
      {
        "duration": 38,
        "start_time": "2023-03-28T07:28:52.237Z"
      },
      {
        "duration": 51,
        "start_time": "2023-03-28T07:28:52.280Z"
      },
      {
        "duration": 42,
        "start_time": "2023-03-28T07:28:52.333Z"
      },
      {
        "duration": 11,
        "start_time": "2023-03-28T07:28:52.378Z"
      },
      {
        "duration": 36,
        "start_time": "2023-03-28T07:28:52.391Z"
      },
      {
        "duration": 4,
        "start_time": "2023-03-28T07:28:52.429Z"
      },
      {
        "duration": 30,
        "start_time": "2023-03-28T07:28:52.441Z"
      },
      {
        "duration": 27,
        "start_time": "2023-03-28T07:28:52.473Z"
      },
      {
        "duration": 81,
        "start_time": "2023-03-28T07:28:52.502Z"
      },
      {
        "duration": 407,
        "start_time": "2023-03-28T07:28:52.585Z"
      },
      {
        "duration": 14,
        "start_time": "2023-03-28T07:28:52.995Z"
      },
      {
        "duration": 256,
        "start_time": "2023-03-28T07:28:53.010Z"
      },
      {
        "duration": 98,
        "start_time": "2023-03-28T07:29:33.863Z"
      },
      {
        "duration": 7,
        "start_time": "2023-03-28T07:30:11.695Z"
      },
      {
        "duration": 89,
        "start_time": "2023-03-28T07:31:24.367Z"
      },
      {
        "duration": 126,
        "start_time": "2023-03-28T07:31:33.174Z"
      },
      {
        "duration": 107,
        "start_time": "2023-03-28T07:32:16.209Z"
      },
      {
        "duration": 82,
        "start_time": "2023-03-28T07:32:27.856Z"
      },
      {
        "duration": 84,
        "start_time": "2023-03-28T07:32:45.399Z"
      },
      {
        "duration": 7,
        "start_time": "2023-03-28T07:32:46.366Z"
      },
      {
        "duration": 73,
        "start_time": "2023-03-28T07:32:47.110Z"
      },
      {
        "duration": 87,
        "start_time": "2023-03-28T07:32:53.098Z"
      },
      {
        "duration": 195,
        "start_time": "2023-03-28T07:32:58.656Z"
      },
      {
        "duration": 92,
        "start_time": "2023-03-28T07:33:06.137Z"
      },
      {
        "duration": 90,
        "start_time": "2023-03-28T07:33:09.191Z"
      },
      {
        "duration": 85,
        "start_time": "2023-03-28T07:33:11.911Z"
      },
      {
        "duration": 117,
        "start_time": "2023-03-28T07:34:48.519Z"
      },
      {
        "duration": 114,
        "start_time": "2023-03-28T07:34:55.852Z"
      },
      {
        "duration": 72,
        "start_time": "2023-03-28T07:35:08.263Z"
      },
      {
        "duration": 68,
        "start_time": "2023-03-28T07:35:51.328Z"
      },
      {
        "duration": 301,
        "start_time": "2023-03-28T07:40:42.232Z"
      },
      {
        "duration": 417,
        "start_time": "2023-03-28T07:41:10.312Z"
      },
      {
        "duration": 1383,
        "start_time": "2023-03-28T07:42:15.193Z"
      },
      {
        "duration": 2500,
        "start_time": "2023-03-28T07:42:16.578Z"
      },
      {
        "duration": 789,
        "start_time": "2023-03-28T07:42:19.082Z"
      },
      {
        "duration": 290,
        "start_time": "2023-03-28T07:42:19.873Z"
      },
      {
        "duration": 134,
        "start_time": "2023-03-28T07:42:20.165Z"
      },
      {
        "duration": 54,
        "start_time": "2023-03-28T07:42:20.300Z"
      },
      {
        "duration": 119,
        "start_time": "2023-03-28T07:42:20.356Z"
      },
      {
        "duration": 52,
        "start_time": "2023-03-28T07:42:20.477Z"
      },
      {
        "duration": 28,
        "start_time": "2023-03-28T07:42:20.530Z"
      },
      {
        "duration": 72,
        "start_time": "2023-03-28T07:42:20.561Z"
      },
      {
        "duration": 80,
        "start_time": "2023-03-28T07:42:20.635Z"
      },
      {
        "duration": 21,
        "start_time": "2023-03-28T07:42:20.716Z"
      },
      {
        "duration": 49,
        "start_time": "2023-03-28T07:42:20.739Z"
      },
      {
        "duration": 42,
        "start_time": "2023-03-28T07:42:20.790Z"
      },
      {
        "duration": 24,
        "start_time": "2023-03-28T07:42:20.835Z"
      },
      {
        "duration": 47,
        "start_time": "2023-03-28T07:42:20.862Z"
      },
      {
        "duration": 38,
        "start_time": "2023-03-28T07:42:20.911Z"
      },
      {
        "duration": 56,
        "start_time": "2023-03-28T07:42:20.951Z"
      },
      {
        "duration": 55,
        "start_time": "2023-03-28T07:42:21.008Z"
      },
      {
        "duration": 54,
        "start_time": "2023-03-28T07:42:21.065Z"
      },
      {
        "duration": 34,
        "start_time": "2023-03-28T07:42:21.120Z"
      },
      {
        "duration": 14,
        "start_time": "2023-03-28T07:42:21.156Z"
      },
      {
        "duration": 41,
        "start_time": "2023-03-28T07:42:21.172Z"
      },
      {
        "duration": 7,
        "start_time": "2023-03-28T07:42:21.216Z"
      },
      {
        "duration": 52,
        "start_time": "2023-03-28T07:42:21.224Z"
      },
      {
        "duration": 17,
        "start_time": "2023-03-28T07:42:21.278Z"
      },
      {
        "duration": 22,
        "start_time": "2023-03-28T07:42:21.297Z"
      },
      {
        "duration": 32,
        "start_time": "2023-03-28T07:42:21.322Z"
      },
      {
        "duration": 32,
        "start_time": "2023-03-28T07:42:21.356Z"
      },
      {
        "duration": 26,
        "start_time": "2023-03-28T07:42:21.390Z"
      },
      {
        "duration": 86,
        "start_time": "2023-03-28T07:42:21.418Z"
      },
      {
        "duration": 6,
        "start_time": "2023-03-28T07:42:21.506Z"
      },
      {
        "duration": 36,
        "start_time": "2023-03-28T07:42:21.514Z"
      },
      {
        "duration": 25,
        "start_time": "2023-03-28T07:42:21.552Z"
      },
      {
        "duration": 13,
        "start_time": "2023-03-28T07:42:21.579Z"
      },
      {
        "duration": 375,
        "start_time": "2023-03-28T07:42:21.594Z"
      },
      {
        "duration": 15,
        "start_time": "2023-03-28T07:42:21.972Z"
      },
      {
        "duration": 647,
        "start_time": "2023-03-28T07:42:21.989Z"
      },
      {
        "duration": 25,
        "start_time": "2023-03-28T07:42:47.824Z"
      },
      {
        "duration": 32,
        "start_time": "2023-03-28T07:43:19.079Z"
      },
      {
        "duration": 27,
        "start_time": "2023-03-28T07:43:24.289Z"
      },
      {
        "duration": 34,
        "start_time": "2023-03-28T07:43:34.537Z"
      },
      {
        "duration": 32,
        "start_time": "2023-03-28T07:43:46.608Z"
      },
      {
        "duration": 32,
        "start_time": "2023-03-28T07:44:40.015Z"
      },
      {
        "duration": 35,
        "start_time": "2023-03-28T07:44:44.673Z"
      },
      {
        "duration": 32,
        "start_time": "2023-03-28T07:45:10.393Z"
      },
      {
        "duration": 29,
        "start_time": "2023-03-28T07:45:50.903Z"
      },
      {
        "duration": 24,
        "start_time": "2023-03-28T07:45:55.090Z"
      },
      {
        "duration": 21,
        "start_time": "2023-03-28T07:46:05.513Z"
      },
      {
        "duration": 241,
        "start_time": "2023-03-28T07:46:33.921Z"
      },
      {
        "duration": 17,
        "start_time": "2023-03-28T07:46:37.956Z"
      },
      {
        "duration": 13,
        "start_time": "2023-03-28T07:46:43.400Z"
      },
      {
        "duration": 107,
        "start_time": "2023-03-28T07:47:09.056Z"
      },
      {
        "duration": 10,
        "start_time": "2023-03-28T07:47:13.320Z"
      },
      {
        "duration": 11,
        "start_time": "2023-03-28T07:47:20.410Z"
      },
      {
        "duration": 19,
        "start_time": "2023-03-28T07:49:38.571Z"
      },
      {
        "duration": 42,
        "start_time": "2023-03-28T07:49:42.035Z"
      },
      {
        "duration": 1552,
        "start_time": "2023-03-28T07:53:06.831Z"
      },
      {
        "duration": 2482,
        "start_time": "2023-03-28T07:53:08.386Z"
      },
      {
        "duration": 808,
        "start_time": "2023-03-28T07:53:10.870Z"
      },
      {
        "duration": 335,
        "start_time": "2023-03-28T07:53:11.680Z"
      },
      {
        "duration": 145,
        "start_time": "2023-03-28T07:53:12.017Z"
      },
      {
        "duration": 26,
        "start_time": "2023-03-28T07:53:12.164Z"
      },
      {
        "duration": 144,
        "start_time": "2023-03-28T07:53:12.191Z"
      },
      {
        "duration": 57,
        "start_time": "2023-03-28T07:53:12.340Z"
      },
      {
        "duration": 18,
        "start_time": "2023-03-28T07:53:12.399Z"
      },
      {
        "duration": 3,
        "start_time": "2023-03-28T07:53:12.419Z"
      },
      {
        "duration": 34,
        "start_time": "2023-03-28T07:53:12.423Z"
      },
      {
        "duration": 15,
        "start_time": "2023-03-28T07:53:12.459Z"
      },
      {
        "duration": 20,
        "start_time": "2023-03-28T07:53:12.476Z"
      },
      {
        "duration": 72,
        "start_time": "2023-03-28T07:53:12.499Z"
      },
      {
        "duration": 14,
        "start_time": "2023-03-28T07:53:12.572Z"
      },
      {
        "duration": 11,
        "start_time": "2023-03-28T07:53:12.587Z"
      },
      {
        "duration": 7,
        "start_time": "2023-03-28T07:53:12.600Z"
      },
      {
        "duration": 46,
        "start_time": "2023-03-28T07:53:12.609Z"
      },
      {
        "duration": 11,
        "start_time": "2023-03-28T07:53:12.657Z"
      },
      {
        "duration": 39,
        "start_time": "2023-03-28T07:53:12.670Z"
      },
      {
        "duration": 44,
        "start_time": "2023-03-28T07:53:12.711Z"
      },
      {
        "duration": 10,
        "start_time": "2023-03-28T07:53:12.756Z"
      },
      {
        "duration": 43,
        "start_time": "2023-03-28T07:53:12.767Z"
      },
      {
        "duration": 7,
        "start_time": "2023-03-28T07:53:12.812Z"
      },
      {
        "duration": 66,
        "start_time": "2023-03-28T07:53:12.821Z"
      },
      {
        "duration": 28,
        "start_time": "2023-03-28T07:53:12.889Z"
      },
      {
        "duration": 34,
        "start_time": "2023-03-28T07:53:12.919Z"
      },
      {
        "duration": 36,
        "start_time": "2023-03-28T07:53:12.957Z"
      },
      {
        "duration": 16,
        "start_time": "2023-03-28T07:53:12.994Z"
      },
      {
        "duration": 10,
        "start_time": "2023-03-28T07:53:13.012Z"
      },
      {
        "duration": 40,
        "start_time": "2023-03-28T07:53:13.024Z"
      },
      {
        "duration": 5,
        "start_time": "2023-03-28T07:53:13.066Z"
      },
      {
        "duration": 32,
        "start_time": "2023-03-28T07:53:13.072Z"
      },
      {
        "duration": 26,
        "start_time": "2023-03-28T07:53:13.107Z"
      },
      {
        "duration": 33,
        "start_time": "2023-03-28T07:53:13.136Z"
      },
      {
        "duration": 17,
        "start_time": "2023-03-28T07:53:13.172Z"
      },
      {
        "duration": 597,
        "start_time": "2023-03-28T07:53:13.191Z"
      },
      {
        "duration": 69,
        "start_time": "2023-03-28T07:53:13.791Z"
      },
      {
        "duration": 13,
        "start_time": "2023-03-28T07:53:13.862Z"
      },
      {
        "duration": 391,
        "start_time": "2023-03-28T07:53:13.876Z"
      },
      {
        "duration": 323,
        "start_time": "2023-03-28T07:54:13.486Z"
      },
      {
        "duration": 259,
        "start_time": "2023-03-28T07:54:26.932Z"
      },
      {
        "duration": 282,
        "start_time": "2023-03-28T07:54:30.580Z"
      },
      {
        "duration": 246,
        "start_time": "2023-03-28T07:54:33.460Z"
      },
      {
        "duration": 262,
        "start_time": "2023-03-28T07:54:35.551Z"
      },
      {
        "duration": 249,
        "start_time": "2023-03-28T07:54:37.525Z"
      },
      {
        "duration": 288,
        "start_time": "2023-03-28T07:54:39.526Z"
      },
      {
        "duration": 19,
        "start_time": "2023-03-28T07:59:25.356Z"
      },
      {
        "duration": 14,
        "start_time": "2023-03-28T07:59:43.198Z"
      },
      {
        "duration": 4,
        "start_time": "2023-03-28T07:59:51.261Z"
      },
      {
        "duration": 5,
        "start_time": "2023-03-28T08:00:03.481Z"
      },
      {
        "duration": 18,
        "start_time": "2023-03-28T08:00:28.756Z"
      },
      {
        "duration": 3,
        "start_time": "2023-03-28T08:00:54.484Z"
      },
      {
        "duration": 23,
        "start_time": "2023-03-28T08:00:54.490Z"
      },
      {
        "duration": 7,
        "start_time": "2023-03-28T08:01:18.579Z"
      },
      {
        "duration": 17,
        "start_time": "2023-03-28T08:01:19.090Z"
      },
      {
        "duration": 4,
        "start_time": "2023-03-28T08:01:20.105Z"
      },
      {
        "duration": 23,
        "start_time": "2023-03-28T08:01:20.642Z"
      },
      {
        "duration": 15,
        "start_time": "2023-03-28T08:01:25.202Z"
      },
      {
        "duration": 19,
        "start_time": "2023-03-28T08:01:26.733Z"
      },
      {
        "duration": 192,
        "start_time": "2023-03-28T08:02:25.892Z"
      },
      {
        "duration": 19,
        "start_time": "2023-03-28T08:03:59.595Z"
      },
      {
        "duration": 19,
        "start_time": "2023-03-28T08:04:54.566Z"
      },
      {
        "duration": 23,
        "start_time": "2023-03-28T08:10:35.553Z"
      },
      {
        "duration": 13,
        "start_time": "2023-03-28T08:10:36.270Z"
      },
      {
        "duration": 20,
        "start_time": "2023-03-28T08:11:01.664Z"
      },
      {
        "duration": 81,
        "start_time": "2023-03-28T08:11:05.784Z"
      },
      {
        "duration": 253,
        "start_time": "2023-03-28T08:11:42.527Z"
      },
      {
        "duration": 230,
        "start_time": "2023-03-28T08:11:48.756Z"
      },
      {
        "duration": 411,
        "start_time": "2023-03-28T08:11:56.409Z"
      },
      {
        "duration": 242,
        "start_time": "2023-03-28T08:12:30.768Z"
      },
      {
        "duration": 224,
        "start_time": "2023-03-28T08:12:40.839Z"
      },
      {
        "duration": 214,
        "start_time": "2023-03-28T08:12:54.200Z"
      },
      {
        "duration": 255,
        "start_time": "2023-03-28T08:12:58.704Z"
      },
      {
        "duration": 266,
        "start_time": "2023-03-28T08:13:01.503Z"
      },
      {
        "duration": 65,
        "start_time": "2023-03-28T08:13:44.582Z"
      },
      {
        "duration": 18,
        "start_time": "2023-03-28T08:14:05.616Z"
      },
      {
        "duration": 53,
        "start_time": "2023-03-28T08:14:15.073Z"
      },
      {
        "duration": 8,
        "start_time": "2023-03-28T08:14:20.913Z"
      },
      {
        "duration": 14,
        "start_time": "2023-03-28T08:14:23.382Z"
      },
      {
        "duration": 13,
        "start_time": "2023-03-28T08:16:33.634Z"
      },
      {
        "duration": 1336,
        "start_time": "2023-03-28T08:17:21.265Z"
      },
      {
        "duration": 2455,
        "start_time": "2023-03-28T08:17:22.604Z"
      },
      {
        "duration": 851,
        "start_time": "2023-03-28T08:17:25.061Z"
      },
      {
        "duration": 341,
        "start_time": "2023-03-28T08:17:25.914Z"
      },
      {
        "duration": 149,
        "start_time": "2023-03-28T08:17:26.260Z"
      },
      {
        "duration": 43,
        "start_time": "2023-03-28T08:17:26.410Z"
      },
      {
        "duration": 135,
        "start_time": "2023-03-28T08:17:26.456Z"
      },
      {
        "duration": 65,
        "start_time": "2023-03-28T08:17:26.593Z"
      },
      {
        "duration": 111,
        "start_time": "2023-03-28T08:17:26.660Z"
      },
      {
        "duration": 41,
        "start_time": "2023-03-28T08:17:26.774Z"
      },
      {
        "duration": 66,
        "start_time": "2023-03-28T08:17:26.817Z"
      },
      {
        "duration": 31,
        "start_time": "2023-03-28T08:17:26.885Z"
      },
      {
        "duration": 40,
        "start_time": "2023-03-28T08:17:26.918Z"
      },
      {
        "duration": 36,
        "start_time": "2023-03-28T08:17:26.959Z"
      },
      {
        "duration": 12,
        "start_time": "2023-03-28T08:17:26.996Z"
      },
      {
        "duration": 25,
        "start_time": "2023-03-28T08:17:27.010Z"
      },
      {
        "duration": 48,
        "start_time": "2023-03-28T08:17:27.037Z"
      },
      {
        "duration": 22,
        "start_time": "2023-03-28T08:17:27.087Z"
      },
      {
        "duration": 17,
        "start_time": "2023-03-28T08:17:27.112Z"
      },
      {
        "duration": 98,
        "start_time": "2023-03-28T08:17:27.131Z"
      },
      {
        "duration": 43,
        "start_time": "2023-03-28T08:17:27.231Z"
      },
      {
        "duration": 23,
        "start_time": "2023-03-28T08:17:27.277Z"
      },
      {
        "duration": 82,
        "start_time": "2023-03-28T08:17:27.303Z"
      },
      {
        "duration": 22,
        "start_time": "2023-03-28T08:17:27.388Z"
      },
      {
        "duration": 45,
        "start_time": "2023-03-28T08:17:27.412Z"
      },
      {
        "duration": 46,
        "start_time": "2023-03-28T08:17:27.458Z"
      },
      {
        "duration": 30,
        "start_time": "2023-03-28T08:17:27.506Z"
      },
      {
        "duration": 40,
        "start_time": "2023-03-28T08:17:27.539Z"
      },
      {
        "duration": 24,
        "start_time": "2023-03-28T08:17:27.581Z"
      },
      {
        "duration": 27,
        "start_time": "2023-03-28T08:17:27.606Z"
      },
      {
        "duration": 66,
        "start_time": "2023-03-28T08:17:27.634Z"
      },
      {
        "duration": 4,
        "start_time": "2023-03-28T08:17:27.701Z"
      },
      {
        "duration": 41,
        "start_time": "2023-03-28T08:17:27.707Z"
      },
      {
        "duration": 28,
        "start_time": "2023-03-28T08:17:27.753Z"
      },
      {
        "duration": 18,
        "start_time": "2023-03-28T08:17:27.783Z"
      },
      {
        "duration": 27,
        "start_time": "2023-03-28T08:17:27.803Z"
      },
      {
        "duration": 627,
        "start_time": "2023-03-28T08:17:27.833Z"
      },
      {
        "duration": 39,
        "start_time": "2023-03-28T08:17:28.461Z"
      },
      {
        "duration": 16,
        "start_time": "2023-03-28T08:17:28.502Z"
      },
      {
        "duration": 416,
        "start_time": "2023-03-28T08:17:28.541Z"
      },
      {
        "duration": 440,
        "start_time": "2023-03-28T08:17:28.960Z"
      },
      {
        "duration": 2,
        "start_time": "2023-03-28T08:17:29.402Z"
      },
      {
        "duration": 31,
        "start_time": "2023-03-28T08:17:29.406Z"
      },
      {
        "duration": 47,
        "start_time": "2023-03-28T08:17:29.438Z"
      },
      {
        "duration": 25,
        "start_time": "2023-03-28T08:17:29.486Z"
      },
      {
        "duration": 29,
        "start_time": "2023-03-28T08:17:29.512Z"
      },
      {
        "duration": 18,
        "start_time": "2023-03-28T08:17:29.543Z"
      },
      {
        "duration": 23,
        "start_time": "2023-03-28T08:17:29.563Z"
      },
      {
        "duration": 33,
        "start_time": "2023-03-28T08:17:29.588Z"
      },
      {
        "duration": 21,
        "start_time": "2023-03-28T08:17:29.623Z"
      },
      {
        "duration": 39,
        "start_time": "2023-03-28T08:17:29.649Z"
      },
      {
        "duration": 31,
        "start_time": "2023-03-28T08:17:29.690Z"
      },
      {
        "duration": 9,
        "start_time": "2023-03-28T08:17:29.723Z"
      },
      {
        "duration": 172,
        "start_time": "2023-03-28T08:17:29.734Z"
      },
      {
        "duration": 0,
        "start_time": "2023-03-28T08:17:29.908Z"
      },
      {
        "duration": 0,
        "start_time": "2023-03-28T08:17:29.909Z"
      },
      {
        "duration": 0,
        "start_time": "2023-03-28T08:17:29.910Z"
      },
      {
        "duration": 1,
        "start_time": "2023-03-28T08:17:29.911Z"
      },
      {
        "duration": 21,
        "start_time": "2023-03-28T08:18:31.595Z"
      },
      {
        "duration": 70,
        "start_time": "2023-03-28T08:18:35.602Z"
      },
      {
        "duration": 54,
        "start_time": "2023-03-28T08:18:52.497Z"
      },
      {
        "duration": 6,
        "start_time": "2023-03-28T08:19:01.529Z"
      },
      {
        "duration": 13,
        "start_time": "2023-03-28T08:19:03.202Z"
      },
      {
        "duration": 6,
        "start_time": "2023-03-28T08:19:37.009Z"
      },
      {
        "duration": 18,
        "start_time": "2023-03-28T08:19:38.714Z"
      },
      {
        "duration": 11,
        "start_time": "2023-03-28T08:19:43.066Z"
      },
      {
        "duration": 12,
        "start_time": "2023-03-28T08:20:05.655Z"
      },
      {
        "duration": 21,
        "start_time": "2023-03-28T08:20:07.114Z"
      },
      {
        "duration": 6,
        "start_time": "2023-03-28T08:20:29.475Z"
      },
      {
        "duration": 13,
        "start_time": "2023-03-28T08:20:30.562Z"
      },
      {
        "duration": 48,
        "start_time": "2023-03-28T08:21:38.475Z"
      },
      {
        "duration": 52,
        "start_time": "2023-03-28T08:21:41.811Z"
      },
      {
        "duration": 54,
        "start_time": "2023-03-28T08:22:04.804Z"
      },
      {
        "duration": 51,
        "start_time": "2023-03-28T08:22:09.580Z"
      },
      {
        "duration": 71,
        "start_time": "2023-03-28T08:23:19.658Z"
      },
      {
        "duration": 98,
        "start_time": "2023-03-28T08:23:26.580Z"
      },
      {
        "duration": 55,
        "start_time": "2023-03-28T08:23:35.884Z"
      },
      {
        "duration": 52,
        "start_time": "2023-03-28T08:23:42.005Z"
      },
      {
        "duration": 12,
        "start_time": "2023-03-28T08:23:57.258Z"
      },
      {
        "duration": 12,
        "start_time": "2023-03-28T08:24:42.523Z"
      },
      {
        "duration": 51,
        "start_time": "2023-03-28T08:24:48.165Z"
      },
      {
        "duration": 6,
        "start_time": "2023-03-28T08:24:49.419Z"
      },
      {
        "duration": 24,
        "start_time": "2023-03-28T08:24:51.434Z"
      },
      {
        "duration": 13,
        "start_time": "2023-03-28T08:25:04.188Z"
      },
      {
        "duration": 14,
        "start_time": "2023-03-28T08:25:27.260Z"
      },
      {
        "duration": 13,
        "start_time": "2023-03-28T08:25:31.952Z"
      },
      {
        "duration": 1254,
        "start_time": "2023-03-28T08:26:21.583Z"
      },
      {
        "duration": 2554,
        "start_time": "2023-03-28T08:26:22.839Z"
      },
      {
        "duration": 897,
        "start_time": "2023-03-28T08:26:25.394Z"
      },
      {
        "duration": 314,
        "start_time": "2023-03-28T08:26:26.293Z"
      },
      {
        "duration": 166,
        "start_time": "2023-03-28T08:26:26.609Z"
      },
      {
        "duration": 27,
        "start_time": "2023-03-28T08:26:26.777Z"
      },
      {
        "duration": 138,
        "start_time": "2023-03-28T08:26:26.806Z"
      },
      {
        "duration": 68,
        "start_time": "2023-03-28T08:26:26.945Z"
      },
      {
        "duration": 37,
        "start_time": "2023-03-28T08:26:27.015Z"
      },
      {
        "duration": 3,
        "start_time": "2023-03-28T08:26:27.059Z"
      },
      {
        "duration": 15,
        "start_time": "2023-03-28T08:26:27.064Z"
      },
      {
        "duration": 12,
        "start_time": "2023-03-28T08:26:27.081Z"
      },
      {
        "duration": 16,
        "start_time": "2023-03-28T08:26:27.095Z"
      },
      {
        "duration": 61,
        "start_time": "2023-03-28T08:26:27.113Z"
      },
      {
        "duration": 13,
        "start_time": "2023-03-28T08:26:27.175Z"
      },
      {
        "duration": 16,
        "start_time": "2023-03-28T08:26:27.190Z"
      },
      {
        "duration": 5,
        "start_time": "2023-03-28T08:26:27.208Z"
      },
      {
        "duration": 15,
        "start_time": "2023-03-28T08:26:27.254Z"
      },
      {
        "duration": 14,
        "start_time": "2023-03-28T08:26:27.271Z"
      },
      {
        "duration": 48,
        "start_time": "2023-03-28T08:26:27.286Z"
      },
      {
        "duration": 34,
        "start_time": "2023-03-28T08:26:27.335Z"
      },
      {
        "duration": 7,
        "start_time": "2023-03-28T08:26:27.371Z"
      },
      {
        "duration": 46,
        "start_time": "2023-03-28T08:26:27.379Z"
      },
      {
        "duration": 7,
        "start_time": "2023-03-28T08:26:27.426Z"
      },
      {
        "duration": 34,
        "start_time": "2023-03-28T08:26:27.434Z"
      },
      {
        "duration": 13,
        "start_time": "2023-03-28T08:26:27.470Z"
      },
      {
        "duration": 19,
        "start_time": "2023-03-28T08:26:27.484Z"
      },
      {
        "duration": 20,
        "start_time": "2023-03-28T08:26:27.507Z"
      },
      {
        "duration": 29,
        "start_time": "2023-03-28T08:26:27.528Z"
      },
      {
        "duration": 11,
        "start_time": "2023-03-28T08:26:27.559Z"
      },
      {
        "duration": 36,
        "start_time": "2023-03-28T08:26:27.571Z"
      },
      {
        "duration": 3,
        "start_time": "2023-03-28T08:26:27.609Z"
      },
      {
        "duration": 48,
        "start_time": "2023-03-28T08:26:27.614Z"
      },
      {
        "duration": 11,
        "start_time": "2023-03-28T08:26:27.664Z"
      },
      {
        "duration": 16,
        "start_time": "2023-03-28T08:26:27.677Z"
      },
      {
        "duration": 36,
        "start_time": "2023-03-28T08:26:27.694Z"
      },
      {
        "duration": 626,
        "start_time": "2023-03-28T08:26:27.731Z"
      },
      {
        "duration": 36,
        "start_time": "2023-03-28T08:26:28.359Z"
      },
      {
        "duration": 13,
        "start_time": "2023-03-28T08:26:28.397Z"
      },
      {
        "duration": 407,
        "start_time": "2023-03-28T08:26:28.411Z"
      },
      {
        "duration": 405,
        "start_time": "2023-03-28T08:26:28.820Z"
      },
      {
        "duration": 23,
        "start_time": "2023-03-28T08:26:29.227Z"
      },
      {
        "duration": 25,
        "start_time": "2023-03-28T08:26:29.257Z"
      },
      {
        "duration": 26,
        "start_time": "2023-03-28T08:26:29.284Z"
      },
      {
        "duration": 29,
        "start_time": "2023-03-28T08:26:29.311Z"
      },
      {
        "duration": 59,
        "start_time": "2023-03-28T08:26:29.346Z"
      },
      {
        "duration": 4,
        "start_time": "2023-03-28T08:26:29.407Z"
      },
      {
        "duration": 33,
        "start_time": "2023-03-28T08:26:29.414Z"
      },
      {
        "duration": 28,
        "start_time": "2023-03-28T08:26:29.448Z"
      },
      {
        "duration": 20,
        "start_time": "2023-03-28T08:26:29.478Z"
      },
      {
        "duration": 15,
        "start_time": "2023-03-28T08:26:29.500Z"
      },
      {
        "duration": 14,
        "start_time": "2023-03-28T08:26:29.516Z"
      },
      {
        "duration": 2,
        "start_time": "2023-03-28T08:26:29.532Z"
      },
      {
        "duration": 49,
        "start_time": "2023-03-28T08:26:29.535Z"
      },
      {
        "duration": 67,
        "start_time": "2023-03-28T08:26:29.586Z"
      },
      {
        "duration": 52,
        "start_time": "2023-03-28T08:26:29.659Z"
      },
      {
        "duration": 6,
        "start_time": "2023-03-28T08:26:29.713Z"
      },
      {
        "duration": 13,
        "start_time": "2023-03-28T08:26:37.476Z"
      },
      {
        "duration": 10,
        "start_time": "2023-03-28T08:26:46.492Z"
      },
      {
        "duration": 6,
        "start_time": "2023-03-28T08:29:02.782Z"
      },
      {
        "duration": 10,
        "start_time": "2023-03-28T08:29:04.276Z"
      },
      {
        "duration": 15,
        "start_time": "2023-03-28T08:30:09.452Z"
      },
      {
        "duration": 16,
        "start_time": "2023-03-28T08:30:16.348Z"
      },
      {
        "duration": 13,
        "start_time": "2023-03-28T08:31:49.734Z"
      },
      {
        "duration": 17,
        "start_time": "2023-03-28T08:31:50.908Z"
      },
      {
        "duration": 6,
        "start_time": "2023-03-28T08:32:06.493Z"
      },
      {
        "duration": 17,
        "start_time": "2023-03-28T08:32:07.332Z"
      },
      {
        "duration": 5,
        "start_time": "2023-03-28T08:32:15.630Z"
      },
      {
        "duration": 15,
        "start_time": "2023-03-28T08:32:17.268Z"
      },
      {
        "duration": 9,
        "start_time": "2023-03-28T08:32:34.660Z"
      },
      {
        "duration": 18,
        "start_time": "2023-03-28T08:32:37.624Z"
      },
      {
        "duration": 6,
        "start_time": "2023-03-28T08:33:08.973Z"
      },
      {
        "duration": 20,
        "start_time": "2023-03-28T08:33:09.933Z"
      },
      {
        "duration": 6,
        "start_time": "2023-03-28T08:33:26.621Z"
      },
      {
        "duration": 12,
        "start_time": "2023-03-28T08:33:27.780Z"
      },
      {
        "duration": 7,
        "start_time": "2023-03-28T08:33:34.965Z"
      },
      {
        "duration": 16,
        "start_time": "2023-03-28T08:33:36.534Z"
      },
      {
        "duration": 6,
        "start_time": "2023-03-28T08:33:52.856Z"
      },
      {
        "duration": 11,
        "start_time": "2023-03-28T08:33:54.373Z"
      },
      {
        "duration": 9,
        "start_time": "2023-03-28T08:34:09.638Z"
      },
      {
        "duration": 17,
        "start_time": "2023-03-28T08:34:11.263Z"
      },
      {
        "duration": 6,
        "start_time": "2023-03-28T08:34:28.926Z"
      },
      {
        "duration": 12,
        "start_time": "2023-03-28T08:34:29.998Z"
      },
      {
        "duration": 9,
        "start_time": "2023-03-28T08:34:35.146Z"
      },
      {
        "duration": 13,
        "start_time": "2023-03-28T08:34:36.702Z"
      },
      {
        "duration": 10,
        "start_time": "2023-03-28T08:34:41.654Z"
      },
      {
        "duration": 17,
        "start_time": "2023-03-28T08:34:42.726Z"
      },
      {
        "duration": 6,
        "start_time": "2023-03-28T08:34:47.479Z"
      },
      {
        "duration": 11,
        "start_time": "2023-03-28T08:34:48.205Z"
      },
      {
        "duration": 9,
        "start_time": "2023-03-28T08:34:51.854Z"
      },
      {
        "duration": 11,
        "start_time": "2023-03-28T08:34:53.094Z"
      },
      {
        "duration": 56,
        "start_time": "2023-03-28T08:37:13.678Z"
      },
      {
        "duration": 1453,
        "start_time": "2023-03-28T08:37:25.094Z"
      },
      {
        "duration": 2641,
        "start_time": "2023-03-28T08:37:26.550Z"
      },
      {
        "duration": 817,
        "start_time": "2023-03-28T08:37:29.193Z"
      },
      {
        "duration": 302,
        "start_time": "2023-03-28T08:37:30.012Z"
      },
      {
        "duration": 143,
        "start_time": "2023-03-28T08:37:30.316Z"
      },
      {
        "duration": 26,
        "start_time": "2023-03-28T08:37:30.460Z"
      },
      {
        "duration": 152,
        "start_time": "2023-03-28T08:37:30.487Z"
      },
      {
        "duration": 57,
        "start_time": "2023-03-28T08:37:30.641Z"
      },
      {
        "duration": 33,
        "start_time": "2023-03-28T08:37:30.700Z"
      },
      {
        "duration": 22,
        "start_time": "2023-03-28T08:37:30.740Z"
      },
      {
        "duration": 61,
        "start_time": "2023-03-28T08:37:30.764Z"
      },
      {
        "duration": 27,
        "start_time": "2023-03-28T08:37:30.826Z"
      },
      {
        "duration": 43,
        "start_time": "2023-03-28T08:37:30.855Z"
      },
      {
        "duration": 80,
        "start_time": "2023-03-28T08:37:30.900Z"
      },
      {
        "duration": 33,
        "start_time": "2023-03-28T08:37:30.982Z"
      },
      {
        "duration": 22,
        "start_time": "2023-03-28T08:37:31.016Z"
      },
      {
        "duration": 39,
        "start_time": "2023-03-28T08:37:31.040Z"
      },
      {
        "duration": 25,
        "start_time": "2023-03-28T08:37:31.081Z"
      },
      {
        "duration": 29,
        "start_time": "2023-03-28T08:37:31.108Z"
      },
      {
        "duration": 89,
        "start_time": "2023-03-28T08:37:31.138Z"
      },
      {
        "duration": 35,
        "start_time": "2023-03-28T08:37:31.229Z"
      },
      {
        "duration": 24,
        "start_time": "2023-03-28T08:37:31.266Z"
      },
      {
        "duration": 65,
        "start_time": "2023-03-28T08:37:31.292Z"
      },
      {
        "duration": 39,
        "start_time": "2023-03-28T08:37:31.359Z"
      },
      {
        "duration": 34,
        "start_time": "2023-03-28T08:37:31.400Z"
      },
      {
        "duration": 34,
        "start_time": "2023-03-28T08:37:31.436Z"
      },
      {
        "duration": 43,
        "start_time": "2023-03-28T08:37:31.472Z"
      },
      {
        "duration": 35,
        "start_time": "2023-03-28T08:37:31.518Z"
      },
      {
        "duration": 30,
        "start_time": "2023-03-28T08:37:31.556Z"
      },
      {
        "duration": 11,
        "start_time": "2023-03-28T08:37:31.588Z"
      },
      {
        "duration": 52,
        "start_time": "2023-03-28T08:37:31.601Z"
      },
      {
        "duration": 8,
        "start_time": "2023-03-28T08:37:31.655Z"
      },
      {
        "duration": 28,
        "start_time": "2023-03-28T08:37:31.665Z"
      },
      {
        "duration": 23,
        "start_time": "2023-03-28T08:37:31.696Z"
      },
      {
        "duration": 40,
        "start_time": "2023-03-28T08:37:31.721Z"
      },
      {
        "duration": 24,
        "start_time": "2023-03-28T08:37:31.762Z"
      },
      {
        "duration": 631,
        "start_time": "2023-03-28T08:37:31.788Z"
      },
      {
        "duration": 45,
        "start_time": "2023-03-28T08:37:32.421Z"
      },
      {
        "duration": 17,
        "start_time": "2023-03-28T08:37:32.467Z"
      },
      {
        "duration": 374,
        "start_time": "2023-03-28T08:37:32.486Z"
      },
      {
        "duration": 413,
        "start_time": "2023-03-28T08:37:32.862Z"
      },
      {
        "duration": 2,
        "start_time": "2023-03-28T08:37:33.277Z"
      },
      {
        "duration": 45,
        "start_time": "2023-03-28T08:37:33.281Z"
      },
      {
        "duration": 15,
        "start_time": "2023-03-28T08:37:33.328Z"
      },
      {
        "duration": 21,
        "start_time": "2023-03-28T08:37:33.346Z"
      },
      {
        "duration": 21,
        "start_time": "2023-03-28T08:37:33.369Z"
      },
      {
        "duration": 3,
        "start_time": "2023-03-28T08:37:33.392Z"
      },
      {
        "duration": 24,
        "start_time": "2023-03-28T08:37:33.397Z"
      },
      {
        "duration": 42,
        "start_time": "2023-03-28T08:37:33.423Z"
      },
      {
        "duration": 21,
        "start_time": "2023-03-28T08:37:33.466Z"
      },
      {
        "duration": 14,
        "start_time": "2023-03-28T08:37:33.489Z"
      },
      {
        "duration": 29,
        "start_time": "2023-03-28T08:37:33.504Z"
      },
      {
        "duration": 17,
        "start_time": "2023-03-28T08:37:33.535Z"
      },
      {
        "duration": 19,
        "start_time": "2023-03-28T08:37:33.558Z"
      },
      {
        "duration": 59,
        "start_time": "2023-03-28T08:37:33.578Z"
      },
      {
        "duration": 56,
        "start_time": "2023-03-28T08:37:33.643Z"
      },
      {
        "duration": 5,
        "start_time": "2023-03-28T08:37:33.701Z"
      },
      {
        "duration": 58,
        "start_time": "2023-03-28T08:37:33.708Z"
      },
      {
        "duration": 223,
        "start_time": "2023-03-28T08:37:45.374Z"
      },
      {
        "duration": 228,
        "start_time": "2023-03-28T08:37:53.756Z"
      },
      {
        "duration": 237,
        "start_time": "2023-03-28T08:38:55.838Z"
      },
      {
        "duration": 228,
        "start_time": "2023-03-28T08:39:03.399Z"
      },
      {
        "duration": 223,
        "start_time": "2023-03-28T08:39:13.718Z"
      },
      {
        "duration": 250,
        "start_time": "2023-03-28T08:39:16.462Z"
      },
      {
        "duration": 219,
        "start_time": "2023-03-28T08:39:18.758Z"
      },
      {
        "duration": 268,
        "start_time": "2023-03-28T08:39:20.864Z"
      },
      {
        "duration": 1136,
        "start_time": "2023-03-28T13:14:41.350Z"
      },
      {
        "duration": 1903,
        "start_time": "2023-03-28T13:14:42.488Z"
      },
      {
        "duration": 528,
        "start_time": "2023-03-28T13:14:44.392Z"
      },
      {
        "duration": 233,
        "start_time": "2023-03-28T13:14:44.922Z"
      },
      {
        "duration": 94,
        "start_time": "2023-03-28T13:14:45.157Z"
      },
      {
        "duration": 38,
        "start_time": "2023-03-28T13:14:45.252Z"
      },
      {
        "duration": 101,
        "start_time": "2023-03-28T13:14:45.292Z"
      },
      {
        "duration": 36,
        "start_time": "2023-03-28T13:14:45.395Z"
      },
      {
        "duration": 15,
        "start_time": "2023-03-28T13:14:45.432Z"
      },
      {
        "duration": 2,
        "start_time": "2023-03-28T13:14:45.450Z"
      },
      {
        "duration": 27,
        "start_time": "2023-03-28T13:14:45.453Z"
      },
      {
        "duration": 10,
        "start_time": "2023-03-28T13:14:45.481Z"
      },
      {
        "duration": 16,
        "start_time": "2023-03-28T13:14:45.493Z"
      },
      {
        "duration": 33,
        "start_time": "2023-03-28T13:14:45.511Z"
      },
      {
        "duration": 9,
        "start_time": "2023-03-28T13:14:45.545Z"
      },
      {
        "duration": 21,
        "start_time": "2023-03-28T13:14:45.555Z"
      },
      {
        "duration": 3,
        "start_time": "2023-03-28T13:14:45.578Z"
      },
      {
        "duration": 13,
        "start_time": "2023-03-28T13:14:45.582Z"
      },
      {
        "duration": 7,
        "start_time": "2023-03-28T13:14:45.597Z"
      },
      {
        "duration": 32,
        "start_time": "2023-03-28T13:14:45.605Z"
      },
      {
        "duration": 42,
        "start_time": "2023-03-28T13:14:45.639Z"
      },
      {
        "duration": 6,
        "start_time": "2023-03-28T13:14:45.683Z"
      },
      {
        "duration": 33,
        "start_time": "2023-03-28T13:14:45.691Z"
      },
      {
        "duration": 5,
        "start_time": "2023-03-28T13:14:45.726Z"
      },
      {
        "duration": 10,
        "start_time": "2023-03-28T13:14:45.732Z"
      },
      {
        "duration": 29,
        "start_time": "2023-03-28T13:14:45.743Z"
      },
      {
        "duration": 7,
        "start_time": "2023-03-28T13:14:45.774Z"
      },
      {
        "duration": 11,
        "start_time": "2023-03-28T13:14:45.784Z"
      },
      {
        "duration": 12,
        "start_time": "2023-03-28T13:14:45.796Z"
      },
      {
        "duration": 17,
        "start_time": "2023-03-28T13:14:45.809Z"
      },
      {
        "duration": 46,
        "start_time": "2023-03-28T13:14:45.827Z"
      },
      {
        "duration": 4,
        "start_time": "2023-03-28T13:14:45.874Z"
      },
      {
        "duration": 19,
        "start_time": "2023-03-28T13:14:45.879Z"
      },
      {
        "duration": 4,
        "start_time": "2023-03-28T13:14:45.900Z"
      },
      {
        "duration": 16,
        "start_time": "2023-03-28T13:14:45.905Z"
      },
      {
        "duration": 7,
        "start_time": "2023-03-28T13:14:45.923Z"
      },
      {
        "duration": 437,
        "start_time": "2023-03-28T13:14:45.931Z"
      },
      {
        "duration": 28,
        "start_time": "2023-03-28T13:14:46.370Z"
      },
      {
        "duration": 11,
        "start_time": "2023-03-28T13:14:46.400Z"
      },
      {
        "duration": 675,
        "start_time": "2023-03-28T13:14:46.412Z"
      },
      {
        "duration": 350,
        "start_time": "2023-03-28T13:14:47.088Z"
      },
      {
        "duration": 2,
        "start_time": "2023-03-28T13:14:47.439Z"
      },
      {
        "duration": 15,
        "start_time": "2023-03-28T13:14:47.443Z"
      },
      {
        "duration": 4,
        "start_time": "2023-03-28T13:14:47.472Z"
      },
      {
        "duration": 12,
        "start_time": "2023-03-28T13:14:47.477Z"
      },
      {
        "duration": 18,
        "start_time": "2023-03-28T13:14:47.490Z"
      },
      {
        "duration": 6,
        "start_time": "2023-03-28T13:14:47.510Z"
      },
      {
        "duration": 17,
        "start_time": "2023-03-28T13:14:47.517Z"
      },
      {
        "duration": 14,
        "start_time": "2023-03-28T13:14:47.535Z"
      },
      {
        "duration": 22,
        "start_time": "2023-03-28T13:14:47.550Z"
      },
      {
        "duration": 13,
        "start_time": "2023-03-28T13:14:47.573Z"
      },
      {
        "duration": 10,
        "start_time": "2023-03-28T13:14:47.587Z"
      },
      {
        "duration": 4,
        "start_time": "2023-03-28T13:14:47.598Z"
      },
      {
        "duration": 17,
        "start_time": "2023-03-28T13:14:47.603Z"
      },
      {
        "duration": 74,
        "start_time": "2023-03-28T13:14:47.622Z"
      },
      {
        "duration": 44,
        "start_time": "2023-03-28T13:14:47.698Z"
      },
      {
        "duration": 6,
        "start_time": "2023-03-28T13:14:47.744Z"
      },
      {
        "duration": 28,
        "start_time": "2023-03-28T13:14:47.752Z"
      },
      {
        "duration": 1093,
        "start_time": "2023-03-28T13:17:08.480Z"
      },
      {
        "duration": 1916,
        "start_time": "2023-03-28T13:17:09.575Z"
      },
      {
        "duration": 519,
        "start_time": "2023-03-28T13:17:11.493Z"
      },
      {
        "duration": 221,
        "start_time": "2023-03-28T13:17:12.014Z"
      },
      {
        "duration": 99,
        "start_time": "2023-03-28T13:17:12.236Z"
      },
      {
        "duration": 36,
        "start_time": "2023-03-28T13:17:12.336Z"
      },
      {
        "duration": 89,
        "start_time": "2023-03-28T13:17:12.374Z"
      },
      {
        "duration": 41,
        "start_time": "2023-03-28T13:17:12.464Z"
      },
      {
        "duration": 12,
        "start_time": "2023-03-28T13:17:12.506Z"
      },
      {
        "duration": 7,
        "start_time": "2023-03-28T13:17:12.521Z"
      },
      {
        "duration": 19,
        "start_time": "2023-03-28T13:17:12.530Z"
      },
      {
        "duration": 8,
        "start_time": "2023-03-28T13:17:12.551Z"
      },
      {
        "duration": 22,
        "start_time": "2023-03-28T13:17:12.560Z"
      },
      {
        "duration": 27,
        "start_time": "2023-03-28T13:17:12.583Z"
      },
      {
        "duration": 10,
        "start_time": "2023-03-28T13:17:12.612Z"
      },
      {
        "duration": 12,
        "start_time": "2023-03-28T13:17:12.624Z"
      },
      {
        "duration": 10,
        "start_time": "2023-03-28T13:17:12.637Z"
      },
      {
        "duration": 7,
        "start_time": "2023-03-28T13:17:12.672Z"
      },
      {
        "duration": 13,
        "start_time": "2023-03-28T13:17:12.681Z"
      },
      {
        "duration": 29,
        "start_time": "2023-03-28T13:17:12.695Z"
      },
      {
        "duration": 23,
        "start_time": "2023-03-28T13:17:12.725Z"
      },
      {
        "duration": 22,
        "start_time": "2023-03-28T13:17:12.750Z"
      },
      {
        "duration": 25,
        "start_time": "2023-03-28T13:17:12.773Z"
      },
      {
        "duration": 4,
        "start_time": "2023-03-28T13:17:12.800Z"
      },
      {
        "duration": 8,
        "start_time": "2023-03-28T13:17:12.806Z"
      },
      {
        "duration": 6,
        "start_time": "2023-03-28T13:17:12.816Z"
      },
      {
        "duration": 9,
        "start_time": "2023-03-28T13:17:12.824Z"
      },
      {
        "duration": 36,
        "start_time": "2023-03-28T13:17:12.837Z"
      },
      {
        "duration": 14,
        "start_time": "2023-03-28T13:17:12.875Z"
      },
      {
        "duration": 10,
        "start_time": "2023-03-28T13:17:12.890Z"
      },
      {
        "duration": 43,
        "start_time": "2023-03-28T13:17:12.901Z"
      },
      {
        "duration": 3,
        "start_time": "2023-03-28T13:17:12.946Z"
      },
      {
        "duration": 33,
        "start_time": "2023-03-28T13:17:12.951Z"
      },
      {
        "duration": 5,
        "start_time": "2023-03-28T13:17:12.986Z"
      },
      {
        "duration": 6,
        "start_time": "2023-03-28T13:17:12.992Z"
      },
      {
        "duration": 10,
        "start_time": "2023-03-28T13:17:12.999Z"
      },
      {
        "duration": 401,
        "start_time": "2023-03-28T13:17:13.010Z"
      },
      {
        "duration": 27,
        "start_time": "2023-03-28T13:17:13.412Z"
      },
      {
        "duration": 11,
        "start_time": "2023-03-28T13:17:13.441Z"
      },
      {
        "duration": 630,
        "start_time": "2023-03-28T13:17:13.453Z"
      },
      {
        "duration": 346,
        "start_time": "2023-03-28T13:17:14.084Z"
      },
      {
        "duration": 3,
        "start_time": "2023-03-28T13:17:14.431Z"
      },
      {
        "duration": 23,
        "start_time": "2023-03-28T13:17:14.435Z"
      },
      {
        "duration": 6,
        "start_time": "2023-03-28T13:17:14.460Z"
      },
      {
        "duration": 9,
        "start_time": "2023-03-28T13:17:14.468Z"
      },
      {
        "duration": 29,
        "start_time": "2023-03-28T13:17:14.478Z"
      },
      {
        "duration": 5,
        "start_time": "2023-03-28T13:17:14.508Z"
      },
      {
        "duration": 33,
        "start_time": "2023-03-28T13:17:14.515Z"
      },
      {
        "duration": 28,
        "start_time": "2023-03-28T13:17:14.549Z"
      },
      {
        "duration": 27,
        "start_time": "2023-03-28T13:17:14.578Z"
      },
      {
        "duration": 28,
        "start_time": "2023-03-28T13:17:14.606Z"
      },
      {
        "duration": 15,
        "start_time": "2023-03-28T13:17:14.635Z"
      },
      {
        "duration": 13,
        "start_time": "2023-03-28T13:17:14.652Z"
      },
      {
        "duration": 24,
        "start_time": "2023-03-28T13:17:14.666Z"
      },
      {
        "duration": 61,
        "start_time": "2023-03-28T13:17:14.692Z"
      },
      {
        "duration": 51,
        "start_time": "2023-03-28T13:17:14.754Z"
      },
      {
        "duration": 5,
        "start_time": "2023-03-28T13:17:14.807Z"
      },
      {
        "duration": 26,
        "start_time": "2023-03-28T13:17:14.813Z"
      },
      {
        "duration": 10,
        "start_time": "2023-03-28T13:17:51.129Z"
      },
      {
        "duration": 153,
        "start_time": "2023-03-28T13:17:55.177Z"
      },
      {
        "duration": 12,
        "start_time": "2023-03-28T13:17:59.014Z"
      },
      {
        "duration": 11,
        "start_time": "2023-03-28T13:18:00.504Z"
      },
      {
        "duration": 23,
        "start_time": "2023-03-28T13:19:22.995Z"
      },
      {
        "duration": 14,
        "start_time": "2023-03-28T13:19:46.257Z"
      },
      {
        "duration": 11,
        "start_time": "2023-03-28T13:20:53.578Z"
      },
      {
        "duration": 12,
        "start_time": "2023-03-28T13:20:55.742Z"
      },
      {
        "duration": 12,
        "start_time": "2023-03-28T13:20:57.027Z"
      },
      {
        "duration": 4,
        "start_time": "2023-03-28T13:21:01.580Z"
      },
      {
        "duration": 12,
        "start_time": "2023-03-28T13:21:02.523Z"
      },
      {
        "duration": 12,
        "start_time": "2023-03-28T13:21:03.478Z"
      },
      {
        "duration": 13,
        "start_time": "2023-03-28T13:21:05.559Z"
      },
      {
        "duration": 7,
        "start_time": "2023-03-28T13:21:10.317Z"
      },
      {
        "duration": 15,
        "start_time": "2023-03-28T13:21:11.050Z"
      },
      {
        "duration": 3,
        "start_time": "2023-03-28T13:21:12.095Z"
      },
      {
        "duration": 13,
        "start_time": "2023-03-28T13:21:12.913Z"
      },
      {
        "duration": 11,
        "start_time": "2023-03-28T13:21:13.957Z"
      },
      {
        "duration": 10,
        "start_time": "2023-03-28T13:21:14.847Z"
      },
      {
        "duration": 1331,
        "start_time": "2023-03-28T13:40:52.660Z"
      },
      {
        "duration": 2313,
        "start_time": "2023-03-28T13:40:53.993Z"
      },
      {
        "duration": 591,
        "start_time": "2023-03-28T13:40:56.308Z"
      },
      {
        "duration": 229,
        "start_time": "2023-03-28T13:40:56.901Z"
      },
      {
        "duration": 107,
        "start_time": "2023-03-28T13:40:57.132Z"
      },
      {
        "duration": 35,
        "start_time": "2023-03-28T13:40:57.241Z"
      },
      {
        "duration": 93,
        "start_time": "2023-03-28T13:40:57.277Z"
      },
      {
        "duration": 39,
        "start_time": "2023-03-28T13:40:57.371Z"
      },
      {
        "duration": 13,
        "start_time": "2023-03-28T13:40:57.411Z"
      },
      {
        "duration": 2,
        "start_time": "2023-03-28T13:40:57.426Z"
      },
      {
        "duration": 10,
        "start_time": "2023-03-28T13:40:57.430Z"
      },
      {
        "duration": 10,
        "start_time": "2023-03-28T13:40:57.468Z"
      },
      {
        "duration": 14,
        "start_time": "2023-03-28T13:40:57.479Z"
      },
      {
        "duration": 25,
        "start_time": "2023-03-28T13:40:57.495Z"
      },
      {
        "duration": 8,
        "start_time": "2023-03-28T13:40:57.522Z"
      },
      {
        "duration": 8,
        "start_time": "2023-03-28T13:40:57.531Z"
      },
      {
        "duration": 29,
        "start_time": "2023-03-28T13:40:57.540Z"
      },
      {
        "duration": 7,
        "start_time": "2023-03-28T13:40:57.571Z"
      },
      {
        "duration": 6,
        "start_time": "2023-03-28T13:40:57.580Z"
      },
      {
        "duration": 25,
        "start_time": "2023-03-28T13:40:57.588Z"
      },
      {
        "duration": 23,
        "start_time": "2023-03-28T13:40:57.615Z"
      },
      {
        "duration": 33,
        "start_time": "2023-03-28T13:40:57.639Z"
      },
      {
        "duration": 25,
        "start_time": "2023-03-28T13:40:57.674Z"
      },
      {
        "duration": 5,
        "start_time": "2023-03-28T13:40:57.700Z"
      },
      {
        "duration": 9,
        "start_time": "2023-03-28T13:40:57.706Z"
      },
      {
        "duration": 6,
        "start_time": "2023-03-28T13:40:57.716Z"
      },
      {
        "duration": 8,
        "start_time": "2023-03-28T13:40:57.723Z"
      },
      {
        "duration": 44,
        "start_time": "2023-03-28T13:40:57.734Z"
      },
      {
        "duration": 19,
        "start_time": "2023-03-28T13:40:57.780Z"
      },
      {
        "duration": 12,
        "start_time": "2023-03-28T13:40:57.801Z"
      },
      {
        "duration": 28,
        "start_time": "2023-03-28T13:40:57.815Z"
      },
      {
        "duration": 4,
        "start_time": "2023-03-28T13:40:57.869Z"
      },
      {
        "duration": 19,
        "start_time": "2023-03-28T13:40:57.875Z"
      },
      {
        "duration": 11,
        "start_time": "2023-03-28T13:40:57.895Z"
      },
      {
        "duration": 13,
        "start_time": "2023-03-28T13:40:57.908Z"
      },
      {
        "duration": 6,
        "start_time": "2023-03-28T13:40:57.922Z"
      },
      {
        "duration": 419,
        "start_time": "2023-03-28T13:40:57.930Z"
      },
      {
        "duration": 34,
        "start_time": "2023-03-28T13:40:58.351Z"
      },
      {
        "duration": 10,
        "start_time": "2023-03-28T13:40:58.387Z"
      },
      {
        "duration": 338,
        "start_time": "2023-03-28T13:40:58.399Z"
      },
      {
        "duration": 309,
        "start_time": "2023-03-28T13:40:58.739Z"
      },
      {
        "duration": 3,
        "start_time": "2023-03-28T13:40:59.049Z"
      },
      {
        "duration": 26,
        "start_time": "2023-03-28T13:40:59.054Z"
      },
      {
        "duration": 5,
        "start_time": "2023-03-28T13:40:59.082Z"
      },
      {
        "duration": 4,
        "start_time": "2023-03-28T13:40:59.088Z"
      },
      {
        "duration": 19,
        "start_time": "2023-03-28T13:40:59.094Z"
      },
      {
        "duration": 3,
        "start_time": "2023-03-28T13:40:59.114Z"
      },
      {
        "duration": 12,
        "start_time": "2023-03-28T13:40:59.119Z"
      },
      {
        "duration": 42,
        "start_time": "2023-03-28T13:40:59.132Z"
      },
      {
        "duration": 14,
        "start_time": "2023-03-28T13:40:59.176Z"
      },
      {
        "duration": 13,
        "start_time": "2023-03-28T13:40:59.191Z"
      },
      {
        "duration": 9,
        "start_time": "2023-03-28T13:40:59.205Z"
      },
      {
        "duration": 3,
        "start_time": "2023-03-28T13:40:59.215Z"
      },
      {
        "duration": 14,
        "start_time": "2023-03-28T13:40:59.219Z"
      },
      {
        "duration": 84,
        "start_time": "2023-03-28T13:40:59.234Z"
      },
      {
        "duration": 57,
        "start_time": "2023-03-28T13:40:59.319Z"
      },
      {
        "duration": 6,
        "start_time": "2023-03-28T13:40:59.378Z"
      },
      {
        "duration": 17,
        "start_time": "2023-03-28T13:40:59.386Z"
      },
      {
        "duration": 6,
        "start_time": "2023-03-28T13:45:48.121Z"
      },
      {
        "duration": 12,
        "start_time": "2023-03-28T13:45:49.181Z"
      },
      {
        "duration": 7,
        "start_time": "2023-03-28T13:45:52.849Z"
      },
      {
        "duration": 12,
        "start_time": "2023-03-28T13:45:55.084Z"
      },
      {
        "duration": 1091,
        "start_time": "2023-03-28T13:55:20.169Z"
      },
      {
        "duration": 1879,
        "start_time": "2023-03-28T13:55:21.263Z"
      },
      {
        "duration": 564,
        "start_time": "2023-03-28T13:55:23.144Z"
      },
      {
        "duration": 232,
        "start_time": "2023-03-28T13:55:23.710Z"
      },
      {
        "duration": 99,
        "start_time": "2023-03-28T13:55:23.943Z"
      },
      {
        "duration": 36,
        "start_time": "2023-03-28T13:55:24.044Z"
      },
      {
        "duration": 94,
        "start_time": "2023-03-28T13:55:24.081Z"
      },
      {
        "duration": 39,
        "start_time": "2023-03-28T13:55:24.176Z"
      },
      {
        "duration": 12,
        "start_time": "2023-03-28T13:55:24.217Z"
      },
      {
        "duration": 2,
        "start_time": "2023-03-28T13:55:24.231Z"
      },
      {
        "duration": 12,
        "start_time": "2023-03-28T13:55:24.235Z"
      },
      {
        "duration": 10,
        "start_time": "2023-03-28T13:55:24.268Z"
      },
      {
        "duration": 15,
        "start_time": "2023-03-28T13:55:24.280Z"
      },
      {
        "duration": 29,
        "start_time": "2023-03-28T13:55:24.296Z"
      },
      {
        "duration": 11,
        "start_time": "2023-03-28T13:55:24.326Z"
      },
      {
        "duration": 10,
        "start_time": "2023-03-28T13:55:24.369Z"
      },
      {
        "duration": 3,
        "start_time": "2023-03-28T13:55:24.382Z"
      },
      {
        "duration": 10,
        "start_time": "2023-03-28T13:55:24.387Z"
      },
      {
        "duration": 11,
        "start_time": "2023-03-28T13:55:24.399Z"
      },
      {
        "duration": 58,
        "start_time": "2023-03-28T13:55:24.412Z"
      },
      {
        "duration": 28,
        "start_time": "2023-03-28T13:55:24.471Z"
      },
      {
        "duration": 6,
        "start_time": "2023-03-28T13:55:24.501Z"
      },
      {
        "duration": 27,
        "start_time": "2023-03-28T13:55:24.509Z"
      },
      {
        "duration": 5,
        "start_time": "2023-03-28T13:55:24.538Z"
      },
      {
        "duration": 11,
        "start_time": "2023-03-28T13:55:24.569Z"
      },
      {
        "duration": 9,
        "start_time": "2023-03-28T13:55:24.581Z"
      },
      {
        "duration": 8,
        "start_time": "2023-03-28T13:55:24.591Z"
      },
      {
        "duration": 16,
        "start_time": "2023-03-28T13:55:24.605Z"
      },
      {
        "duration": 53,
        "start_time": "2023-03-28T13:55:24.623Z"
      },
      {
        "duration": 10,
        "start_time": "2023-03-28T13:55:24.678Z"
      },
      {
        "duration": 34,
        "start_time": "2023-03-28T13:55:24.689Z"
      },
      {
        "duration": 4,
        "start_time": "2023-03-28T13:55:24.725Z"
      },
      {
        "duration": 42,
        "start_time": "2023-03-28T13:55:24.731Z"
      },
      {
        "duration": 5,
        "start_time": "2023-03-28T13:55:24.775Z"
      },
      {
        "duration": 4,
        "start_time": "2023-03-28T13:55:24.781Z"
      },
      {
        "duration": 4,
        "start_time": "2023-03-28T13:55:24.787Z"
      },
      {
        "duration": 464,
        "start_time": "2023-03-28T13:55:24.792Z"
      },
      {
        "duration": 34,
        "start_time": "2023-03-28T13:55:25.257Z"
      },
      {
        "duration": 62,
        "start_time": "2023-03-28T13:55:25.292Z"
      },
      {
        "duration": 353,
        "start_time": "2023-03-28T13:55:25.356Z"
      },
      {
        "duration": 364,
        "start_time": "2023-03-28T13:55:25.711Z"
      },
      {
        "duration": 3,
        "start_time": "2023-03-28T13:55:26.077Z"
      },
      {
        "duration": 21,
        "start_time": "2023-03-28T13:55:26.081Z"
      },
      {
        "duration": 6,
        "start_time": "2023-03-28T13:55:26.104Z"
      },
      {
        "duration": 2,
        "start_time": "2023-03-28T13:55:26.111Z"
      },
      {
        "duration": 17,
        "start_time": "2023-03-28T13:55:26.115Z"
      },
      {
        "duration": 3,
        "start_time": "2023-03-28T13:55:26.133Z"
      },
      {
        "duration": 35,
        "start_time": "2023-03-28T13:55:26.138Z"
      },
      {
        "duration": 11,
        "start_time": "2023-03-28T13:55:26.174Z"
      },
      {
        "duration": 14,
        "start_time": "2023-03-28T13:55:26.187Z"
      },
      {
        "duration": 15,
        "start_time": "2023-03-28T13:55:26.202Z"
      },
      {
        "duration": 10,
        "start_time": "2023-03-28T13:55:26.219Z"
      },
      {
        "duration": 2,
        "start_time": "2023-03-28T13:55:26.231Z"
      },
      {
        "duration": 13,
        "start_time": "2023-03-28T13:55:26.269Z"
      },
      {
        "duration": 72,
        "start_time": "2023-03-28T13:55:26.284Z"
      },
      {
        "duration": 59,
        "start_time": "2023-03-28T13:55:26.357Z"
      },
      {
        "duration": 6,
        "start_time": "2023-03-28T13:55:26.418Z"
      },
      {
        "duration": 18,
        "start_time": "2023-03-28T13:55:26.425Z"
      },
      {
        "duration": 1274,
        "start_time": "2023-03-28T17:06:02.583Z"
      },
      {
        "duration": 2287,
        "start_time": "2023-03-28T17:06:03.860Z"
      },
      {
        "duration": 891,
        "start_time": "2023-03-28T17:06:06.149Z"
      },
      {
        "duration": 312,
        "start_time": "2023-03-28T17:06:07.045Z"
      },
      {
        "duration": 166,
        "start_time": "2023-03-28T17:06:07.360Z"
      },
      {
        "duration": 27,
        "start_time": "2023-03-28T17:06:07.530Z"
      },
      {
        "duration": 125,
        "start_time": "2023-03-28T17:06:07.559Z"
      },
      {
        "duration": 57,
        "start_time": "2023-03-28T17:06:07.686Z"
      },
      {
        "duration": 15,
        "start_time": "2023-03-28T17:06:07.744Z"
      },
      {
        "duration": 2,
        "start_time": "2023-03-28T17:06:07.763Z"
      },
      {
        "duration": 49,
        "start_time": "2023-03-28T17:06:07.768Z"
      },
      {
        "duration": 16,
        "start_time": "2023-03-28T17:06:07.819Z"
      },
      {
        "duration": 16,
        "start_time": "2023-03-28T17:06:07.839Z"
      },
      {
        "duration": 32,
        "start_time": "2023-03-28T17:06:07.856Z"
      },
      {
        "duration": 33,
        "start_time": "2023-03-28T17:06:07.890Z"
      },
      {
        "duration": 15,
        "start_time": "2023-03-28T17:06:07.931Z"
      },
      {
        "duration": 5,
        "start_time": "2023-03-28T17:06:07.949Z"
      },
      {
        "duration": 13,
        "start_time": "2023-03-28T17:06:07.956Z"
      },
      {
        "duration": 10,
        "start_time": "2023-03-28T17:06:07.971Z"
      },
      {
        "duration": 49,
        "start_time": "2023-03-28T17:06:08.006Z"
      },
      {
        "duration": 28,
        "start_time": "2023-03-28T17:06:08.057Z"
      },
      {
        "duration": 24,
        "start_time": "2023-03-28T17:06:08.087Z"
      },
      {
        "duration": 32,
        "start_time": "2023-03-28T17:06:08.119Z"
      },
      {
        "duration": 7,
        "start_time": "2023-03-28T17:06:08.152Z"
      },
      {
        "duration": 10,
        "start_time": "2023-03-28T17:06:08.161Z"
      },
      {
        "duration": 30,
        "start_time": "2023-03-28T17:06:08.174Z"
      },
      {
        "duration": 10,
        "start_time": "2023-03-28T17:06:08.206Z"
      },
      {
        "duration": 18,
        "start_time": "2023-03-28T17:06:08.219Z"
      },
      {
        "duration": 21,
        "start_time": "2023-03-28T17:06:08.240Z"
      },
      {
        "duration": 14,
        "start_time": "2023-03-28T17:06:08.263Z"
      },
      {
        "duration": 44,
        "start_time": "2023-03-28T17:06:08.304Z"
      },
      {
        "duration": 4,
        "start_time": "2023-03-28T17:06:08.350Z"
      },
      {
        "duration": 29,
        "start_time": "2023-03-28T17:06:08.355Z"
      },
      {
        "duration": 8,
        "start_time": "2023-03-28T17:06:08.407Z"
      },
      {
        "duration": 3,
        "start_time": "2023-03-28T17:06:08.424Z"
      },
      {
        "duration": 7,
        "start_time": "2023-03-28T17:06:08.428Z"
      },
      {
        "duration": 492,
        "start_time": "2023-03-28T17:06:08.437Z"
      },
      {
        "duration": 50,
        "start_time": "2023-03-28T17:06:08.931Z"
      },
      {
        "duration": 32,
        "start_time": "2023-03-28T17:06:08.984Z"
      },
      {
        "duration": 976,
        "start_time": "2023-03-28T17:06:09.018Z"
      },
      {
        "duration": 488,
        "start_time": "2023-03-28T17:06:09.996Z"
      },
      {
        "duration": 3,
        "start_time": "2023-03-28T17:06:10.486Z"
      },
      {
        "duration": 32,
        "start_time": "2023-03-28T17:06:10.491Z"
      },
      {
        "duration": 20,
        "start_time": "2023-03-28T17:06:10.525Z"
      },
      {
        "duration": 3,
        "start_time": "2023-03-28T17:06:10.547Z"
      },
      {
        "duration": 26,
        "start_time": "2023-03-28T17:06:10.552Z"
      },
      {
        "duration": 3,
        "start_time": "2023-03-28T17:06:10.580Z"
      },
      {
        "duration": 33,
        "start_time": "2023-03-28T17:06:10.585Z"
      },
      {
        "duration": 21,
        "start_time": "2023-03-28T17:06:10.622Z"
      },
      {
        "duration": 17,
        "start_time": "2023-03-28T17:06:10.645Z"
      },
      {
        "duration": 14,
        "start_time": "2023-03-28T17:06:10.664Z"
      },
      {
        "duration": 35,
        "start_time": "2023-03-28T17:06:10.680Z"
      },
      {
        "duration": 2,
        "start_time": "2023-03-28T17:06:10.719Z"
      },
      {
        "duration": 23,
        "start_time": "2023-03-28T17:06:10.723Z"
      },
      {
        "duration": 137,
        "start_time": "2023-03-28T17:06:10.749Z"
      },
      {
        "duration": 80,
        "start_time": "2023-03-28T17:06:10.889Z"
      },
      {
        "duration": 5,
        "start_time": "2023-03-28T17:06:10.971Z"
      },
      {
        "duration": 17,
        "start_time": "2023-03-28T17:06:10.978Z"
      },
      {
        "duration": 1343,
        "start_time": "2023-03-29T12:33:31.257Z"
      },
      {
        "duration": 2368,
        "start_time": "2023-03-29T12:33:32.602Z"
      },
      {
        "duration": 629,
        "start_time": "2023-03-29T12:33:34.971Z"
      },
      {
        "duration": 234,
        "start_time": "2023-03-29T12:33:35.603Z"
      },
      {
        "duration": 106,
        "start_time": "2023-03-29T12:33:35.838Z"
      },
      {
        "duration": 34,
        "start_time": "2023-03-29T12:33:35.945Z"
      },
      {
        "duration": 97,
        "start_time": "2023-03-29T12:33:35.980Z"
      },
      {
        "duration": 39,
        "start_time": "2023-03-29T12:33:36.078Z"
      },
      {
        "duration": 12,
        "start_time": "2023-03-29T12:33:36.119Z"
      },
      {
        "duration": 2,
        "start_time": "2023-03-29T12:33:36.134Z"
      },
      {
        "duration": 34,
        "start_time": "2023-03-29T12:33:36.137Z"
      },
      {
        "duration": 9,
        "start_time": "2023-03-29T12:33:36.172Z"
      },
      {
        "duration": 13,
        "start_time": "2023-03-29T12:33:36.182Z"
      },
      {
        "duration": 25,
        "start_time": "2023-03-29T12:33:36.196Z"
      },
      {
        "duration": 8,
        "start_time": "2023-03-29T12:33:36.223Z"
      },
      {
        "duration": 41,
        "start_time": "2023-03-29T12:33:36.232Z"
      },
      {
        "duration": 6,
        "start_time": "2023-03-29T12:33:36.274Z"
      },
      {
        "duration": 9,
        "start_time": "2023-03-29T12:33:36.281Z"
      },
      {
        "duration": 7,
        "start_time": "2023-03-29T12:33:36.291Z"
      },
      {
        "duration": 23,
        "start_time": "2023-03-29T12:33:36.300Z"
      },
      {
        "duration": 43,
        "start_time": "2023-03-29T12:33:36.325Z"
      },
      {
        "duration": 6,
        "start_time": "2023-03-29T12:33:36.370Z"
      },
      {
        "duration": 24,
        "start_time": "2023-03-29T12:33:36.378Z"
      },
      {
        "duration": 4,
        "start_time": "2023-03-29T12:33:36.404Z"
      },
      {
        "duration": 16,
        "start_time": "2023-03-29T12:33:36.409Z"
      },
      {
        "duration": 6,
        "start_time": "2023-03-29T12:33:36.426Z"
      },
      {
        "duration": 4,
        "start_time": "2023-03-29T12:33:36.434Z"
      },
      {
        "duration": 33,
        "start_time": "2023-03-29T12:33:36.441Z"
      },
      {
        "duration": 12,
        "start_time": "2023-03-29T12:33:36.475Z"
      },
      {
        "duration": 8,
        "start_time": "2023-03-29T12:33:36.488Z"
      },
      {
        "duration": 27,
        "start_time": "2023-03-29T12:33:36.497Z"
      },
      {
        "duration": 3,
        "start_time": "2023-03-29T12:33:36.526Z"
      },
      {
        "duration": 45,
        "start_time": "2023-03-29T12:33:36.531Z"
      },
      {
        "duration": 4,
        "start_time": "2023-03-29T12:33:36.578Z"
      },
      {
        "duration": 7,
        "start_time": "2023-03-29T12:33:36.583Z"
      },
      {
        "duration": 5,
        "start_time": "2023-03-29T12:33:36.591Z"
      },
      {
        "duration": 430,
        "start_time": "2023-03-29T12:33:36.597Z"
      },
      {
        "duration": 40,
        "start_time": "2023-03-29T12:33:37.028Z"
      },
      {
        "duration": 12,
        "start_time": "2023-03-29T12:33:37.070Z"
      },
      {
        "duration": 331,
        "start_time": "2023-03-29T12:33:37.084Z"
      },
      {
        "duration": 296,
        "start_time": "2023-03-29T12:33:37.416Z"
      },
      {
        "duration": 3,
        "start_time": "2023-03-29T12:33:37.713Z"
      },
      {
        "duration": 17,
        "start_time": "2023-03-29T12:33:37.717Z"
      },
      {
        "duration": 18,
        "start_time": "2023-03-29T12:33:37.736Z"
      },
      {
        "duration": 3,
        "start_time": "2023-03-29T12:33:37.756Z"
      },
      {
        "duration": 23,
        "start_time": "2023-03-29T12:33:37.768Z"
      },
      {
        "duration": 3,
        "start_time": "2023-03-29T12:33:37.793Z"
      },
      {
        "duration": 12,
        "start_time": "2023-03-29T12:33:37.798Z"
      },
      {
        "duration": 15,
        "start_time": "2023-03-29T12:33:37.812Z"
      },
      {
        "duration": 12,
        "start_time": "2023-03-29T12:33:37.829Z"
      },
      {
        "duration": 34,
        "start_time": "2023-03-29T12:33:37.842Z"
      },
      {
        "duration": 11,
        "start_time": "2023-03-29T12:33:37.878Z"
      },
      {
        "duration": 3,
        "start_time": "2023-03-29T12:33:37.890Z"
      },
      {
        "duration": 12,
        "start_time": "2023-03-29T12:33:37.894Z"
      },
      {
        "duration": 67,
        "start_time": "2023-03-29T12:33:37.908Z"
      },
      {
        "duration": 50,
        "start_time": "2023-03-29T12:33:37.977Z"
      },
      {
        "duration": 5,
        "start_time": "2023-03-29T12:33:38.029Z"
      },
      {
        "duration": 38,
        "start_time": "2023-03-29T12:33:38.035Z"
      }
    ],
    "kernelspec": {
      "display_name": "Python 3 (ipykernel)",
      "language": "python",
      "name": "python3"
    },
    "language_info": {
      "codemirror_mode": {
        "name": "ipython",
        "version": 3
      },
      "file_extension": ".py",
      "mimetype": "text/x-python",
      "name": "python",
      "nbconvert_exporter": "python",
      "pygments_lexer": "ipython3",
      "version": "3.9.5"
    },
    "toc": {
      "base_numbering": 1,
      "nav_menu": {},
      "number_sections": true,
      "sideBar": true,
      "skip_h1_title": true,
      "title_cell": "Table of Contents",
      "title_sidebar": "Contents",
      "toc_cell": false,
      "toc_position": {
        "height": "calc(100% - 180px)",
        "left": "10px",
        "top": "150px",
        "width": "512px"
      },
      "toc_section_display": true,
      "toc_window_display": true
    },
    "colab": {
      "provenance": [],
      "include_colab_link": true
    }
  },
  "nbformat": 4,
  "nbformat_minor": 0
}