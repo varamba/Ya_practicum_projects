{
  "cells": [
    {
      "cell_type": "markdown",
      "metadata": {
        "id": "view-in-github",
        "colab_type": "text"
      },
      "source": [
        "<a href=\"https://colab.research.google.com/github/varamba/Ya_practicum_projects/blob/main/business_ab_test.ipynb\" target=\"_parent\"><img src=\"https://colab.research.google.com/assets/colab-badge.svg\" alt=\"Open In Colab\"/></a>"
      ]
    },
    {
      "cell_type": "markdown",
      "metadata": {
        "id": "pqZ6gWhCxPiF"
      },
      "source": [
        "## Приоритизация гипотез.\n",
        "\n",
        "Необходимо подготовить список гипотез для увеличения выручки.\n",
        "Для этого нужно приоритизировать гипотезы, запустить A/B-тест и проанализировать результаты. \n",
        "\n",
        "Задача:\n",
        "- Применить фреймворк ICE для приоритизации гипотез. Отсортировать их по убыванию приоритета.\n",
        "- Применить фреймворк RICE для приоритизации гипотез. Отсортировать их по убыванию приоритета.\n",
        "- Указать, как изменилась приоритизация гипотез при применении RICE вместо ICE. Объяснить, почему так произошло."
      ]
    },
    {
      "cell_type": "code",
      "execution_count": 12,
      "metadata": {
        "id": "gUzFpplJxPiI"
      },
      "outputs": [],
      "source": [
        "import pandas as pd\n",
        "import matplotlib.pyplot as plt\n",
        "import numpy as np\n",
        "from scipy import stats as st\n",
        "import datetime as dt\n",
        "from pandas.plotting import register_matplotlib_converters\n",
        "import warnings \n",
        "warnings.filterwarnings(\"ignore\")"
      ]
    },
    {
      "cell_type": "code",
      "execution_count": 13,
      "metadata": {
        "id": "BV6_Moy-xPiJ"
      },
      "outputs": [],
      "source": [
        "pd.set_option('display.max_columns', None)\n",
        "pd.set_option('display.max_colwidth', None)\n",
        "df = pd.read_csv('https://code.s3.yandex.net/datasets/hypothesis.csv')"
      ]
    },
    {
      "cell_type": "code",
      "execution_count": 14,
      "metadata": {
        "scrolled": true,
        "colab": {
          "base_uri": "https://localhost:8080/",
          "height": 331
        },
        "id": "_ZGTuVDhxPiL",
        "outputId": "546b4de5-a04e-45a9-8eda-9e520251dedb"
      },
      "outputs": [
        {
          "output_type": "execute_result",
          "data": {
            "text/plain": [
              "                                                                                                     Hypothesis  \\\n",
              "0            Добавить два новых канала привлечения трафика, что позволит привлекать на 30% больше пользователей   \n",
              "1                                     Запустить собственную службу доставки, что сократит срок доставки заказов   \n",
              "2  Добавить блоки рекомендаций товаров на сайт интернет магазина, чтобы повысить конверсию и средний чек заказа   \n",
              "3           Изменить структура категорий, что увеличит конверсию, т.к. пользователи быстрее найдут нужный товар   \n",
              "4                              Изменить цвет фона главной страницы, чтобы увеличить вовлеченность пользователей   \n",
              "5                      Добавить страницу отзывов клиентов о магазине, что позволит увеличить количество заказов   \n",
              "6          Показать на главной странице баннеры с актуальными акциями и распродажами, чтобы увеличить конверсию   \n",
              "7              Добавить форму подписки на все основные страницы, чтобы собрать базу клиентов для email-рассылок   \n",
              "8                                                       Запустить акцию, дающую скидку на товар в день рождения   \n",
              "\n",
              "   Reach  Impact  Confidence  Efforts  \n",
              "0      3      10           8        6  \n",
              "1      2       5           4       10  \n",
              "2      8       3           7        3  \n",
              "3      8       3           3        8  \n",
              "4      3       1           1        1  \n",
              "5      3       2           2        3  \n",
              "6      5       3           8        3  \n",
              "7     10       7           8        5  \n",
              "8      1       9           9        5  "
            ],
            "text/html": [
              "\n",
              "  <div id=\"df-913e3a69-b376-493e-b64f-ecd8637010c4\">\n",
              "    <div class=\"colab-df-container\">\n",
              "      <div>\n",
              "<style scoped>\n",
              "    .dataframe tbody tr th:only-of-type {\n",
              "        vertical-align: middle;\n",
              "    }\n",
              "\n",
              "    .dataframe tbody tr th {\n",
              "        vertical-align: top;\n",
              "    }\n",
              "\n",
              "    .dataframe thead th {\n",
              "        text-align: right;\n",
              "    }\n",
              "</style>\n",
              "<table border=\"1\" class=\"dataframe\">\n",
              "  <thead>\n",
              "    <tr style=\"text-align: right;\">\n",
              "      <th></th>\n",
              "      <th>Hypothesis</th>\n",
              "      <th>Reach</th>\n",
              "      <th>Impact</th>\n",
              "      <th>Confidence</th>\n",
              "      <th>Efforts</th>\n",
              "    </tr>\n",
              "  </thead>\n",
              "  <tbody>\n",
              "    <tr>\n",
              "      <th>0</th>\n",
              "      <td>Добавить два новых канала привлечения трафика, что позволит привлекать на 30% больше пользователей</td>\n",
              "      <td>3</td>\n",
              "      <td>10</td>\n",
              "      <td>8</td>\n",
              "      <td>6</td>\n",
              "    </tr>\n",
              "    <tr>\n",
              "      <th>1</th>\n",
              "      <td>Запустить собственную службу доставки, что сократит срок доставки заказов</td>\n",
              "      <td>2</td>\n",
              "      <td>5</td>\n",
              "      <td>4</td>\n",
              "      <td>10</td>\n",
              "    </tr>\n",
              "    <tr>\n",
              "      <th>2</th>\n",
              "      <td>Добавить блоки рекомендаций товаров на сайт интернет магазина, чтобы повысить конверсию и средний чек заказа</td>\n",
              "      <td>8</td>\n",
              "      <td>3</td>\n",
              "      <td>7</td>\n",
              "      <td>3</td>\n",
              "    </tr>\n",
              "    <tr>\n",
              "      <th>3</th>\n",
              "      <td>Изменить структура категорий, что увеличит конверсию, т.к. пользователи быстрее найдут нужный товар</td>\n",
              "      <td>8</td>\n",
              "      <td>3</td>\n",
              "      <td>3</td>\n",
              "      <td>8</td>\n",
              "    </tr>\n",
              "    <tr>\n",
              "      <th>4</th>\n",
              "      <td>Изменить цвет фона главной страницы, чтобы увеличить вовлеченность пользователей</td>\n",
              "      <td>3</td>\n",
              "      <td>1</td>\n",
              "      <td>1</td>\n",
              "      <td>1</td>\n",
              "    </tr>\n",
              "    <tr>\n",
              "      <th>5</th>\n",
              "      <td>Добавить страницу отзывов клиентов о магазине, что позволит увеличить количество заказов</td>\n",
              "      <td>3</td>\n",
              "      <td>2</td>\n",
              "      <td>2</td>\n",
              "      <td>3</td>\n",
              "    </tr>\n",
              "    <tr>\n",
              "      <th>6</th>\n",
              "      <td>Показать на главной странице баннеры с актуальными акциями и распродажами, чтобы увеличить конверсию</td>\n",
              "      <td>5</td>\n",
              "      <td>3</td>\n",
              "      <td>8</td>\n",
              "      <td>3</td>\n",
              "    </tr>\n",
              "    <tr>\n",
              "      <th>7</th>\n",
              "      <td>Добавить форму подписки на все основные страницы, чтобы собрать базу клиентов для email-рассылок</td>\n",
              "      <td>10</td>\n",
              "      <td>7</td>\n",
              "      <td>8</td>\n",
              "      <td>5</td>\n",
              "    </tr>\n",
              "    <tr>\n",
              "      <th>8</th>\n",
              "      <td>Запустить акцию, дающую скидку на товар в день рождения</td>\n",
              "      <td>1</td>\n",
              "      <td>9</td>\n",
              "      <td>9</td>\n",
              "      <td>5</td>\n",
              "    </tr>\n",
              "  </tbody>\n",
              "</table>\n",
              "</div>\n",
              "      <button class=\"colab-df-convert\" onclick=\"convertToInteractive('df-913e3a69-b376-493e-b64f-ecd8637010c4')\"\n",
              "              title=\"Convert this dataframe to an interactive table.\"\n",
              "              style=\"display:none;\">\n",
              "        \n",
              "  <svg xmlns=\"http://www.w3.org/2000/svg\" height=\"24px\"viewBox=\"0 0 24 24\"\n",
              "       width=\"24px\">\n",
              "    <path d=\"M0 0h24v24H0V0z\" fill=\"none\"/>\n",
              "    <path d=\"M18.56 5.44l.94 2.06.94-2.06 2.06-.94-2.06-.94-.94-2.06-.94 2.06-2.06.94zm-11 1L8.5 8.5l.94-2.06 2.06-.94-2.06-.94L8.5 2.5l-.94 2.06-2.06.94zm10 10l.94 2.06.94-2.06 2.06-.94-2.06-.94-.94-2.06-.94 2.06-2.06.94z\"/><path d=\"M17.41 7.96l-1.37-1.37c-.4-.4-.92-.59-1.43-.59-.52 0-1.04.2-1.43.59L10.3 9.45l-7.72 7.72c-.78.78-.78 2.05 0 2.83L4 21.41c.39.39.9.59 1.41.59.51 0 1.02-.2 1.41-.59l7.78-7.78 2.81-2.81c.8-.78.8-2.07 0-2.86zM5.41 20L4 18.59l7.72-7.72 1.47 1.35L5.41 20z\"/>\n",
              "  </svg>\n",
              "      </button>\n",
              "      \n",
              "  <style>\n",
              "    .colab-df-container {\n",
              "      display:flex;\n",
              "      flex-wrap:wrap;\n",
              "      gap: 12px;\n",
              "    }\n",
              "\n",
              "    .colab-df-convert {\n",
              "      background-color: #E8F0FE;\n",
              "      border: none;\n",
              "      border-radius: 50%;\n",
              "      cursor: pointer;\n",
              "      display: none;\n",
              "      fill: #1967D2;\n",
              "      height: 32px;\n",
              "      padding: 0 0 0 0;\n",
              "      width: 32px;\n",
              "    }\n",
              "\n",
              "    .colab-df-convert:hover {\n",
              "      background-color: #E2EBFA;\n",
              "      box-shadow: 0px 1px 2px rgba(60, 64, 67, 0.3), 0px 1px 3px 1px rgba(60, 64, 67, 0.15);\n",
              "      fill: #174EA6;\n",
              "    }\n",
              "\n",
              "    [theme=dark] .colab-df-convert {\n",
              "      background-color: #3B4455;\n",
              "      fill: #D2E3FC;\n",
              "    }\n",
              "\n",
              "    [theme=dark] .colab-df-convert:hover {\n",
              "      background-color: #434B5C;\n",
              "      box-shadow: 0px 1px 3px 1px rgba(0, 0, 0, 0.15);\n",
              "      filter: drop-shadow(0px 1px 2px rgba(0, 0, 0, 0.3));\n",
              "      fill: #FFFFFF;\n",
              "    }\n",
              "  </style>\n",
              "\n",
              "      <script>\n",
              "        const buttonEl =\n",
              "          document.querySelector('#df-913e3a69-b376-493e-b64f-ecd8637010c4 button.colab-df-convert');\n",
              "        buttonEl.style.display =\n",
              "          google.colab.kernel.accessAllowed ? 'block' : 'none';\n",
              "\n",
              "        async function convertToInteractive(key) {\n",
              "          const element = document.querySelector('#df-913e3a69-b376-493e-b64f-ecd8637010c4');\n",
              "          const dataTable =\n",
              "            await google.colab.kernel.invokeFunction('convertToInteractive',\n",
              "                                                     [key], {});\n",
              "          if (!dataTable) return;\n",
              "\n",
              "          const docLinkHtml = 'Like what you see? Visit the ' +\n",
              "            '<a target=\"_blank\" href=https://colab.research.google.com/notebooks/data_table.ipynb>data table notebook</a>'\n",
              "            + ' to learn more about interactive tables.';\n",
              "          element.innerHTML = '';\n",
              "          dataTable['output_type'] = 'display_data';\n",
              "          await google.colab.output.renderOutput(dataTable, element);\n",
              "          const docLink = document.createElement('div');\n",
              "          docLink.innerHTML = docLinkHtml;\n",
              "          element.appendChild(docLink);\n",
              "        }\n",
              "      </script>\n",
              "    </div>\n",
              "  </div>\n",
              "  "
            ]
          },
          "metadata": {},
          "execution_count": 14
        }
      ],
      "source": [
        "df"
      ]
    },
    {
      "cell_type": "code",
      "execution_count": 15,
      "metadata": {
        "id": "vj4WAe84xPiM"
      },
      "outputs": [],
      "source": [
        "df.columns = df.columns.str.lower()"
      ]
    },
    {
      "cell_type": "markdown",
      "metadata": {
        "id": "CsygWkrUxPiM"
      },
      "source": [
        "### ICE"
      ]
    },
    {
      "cell_type": "markdown",
      "metadata": {
        "id": "NHG6ecOMxPiN"
      },
      "source": [
        "Расчитаем фреймворк ICE"
      ]
    },
    {
      "cell_type": "code",
      "execution_count": 16,
      "metadata": {
        "colab": {
          "base_uri": "https://localhost:8080/",
          "height": 331
        },
        "id": "LmwlOkTixPiN",
        "outputId": "23748271-95b3-446c-c037-488391902217"
      },
      "outputs": [
        {
          "output_type": "execute_result",
          "data": {
            "text/plain": [
              "                                                                                                     hypothesis  \\\n",
              "8                                                       Запустить акцию, дающую скидку на товар в день рождения   \n",
              "0            Добавить два новых канала привлечения трафика, что позволит привлекать на 30% больше пользователей   \n",
              "7              Добавить форму подписки на все основные страницы, чтобы собрать базу клиентов для email-рассылок   \n",
              "6          Показать на главной странице баннеры с актуальными акциями и распродажами, чтобы увеличить конверсию   \n",
              "2  Добавить блоки рекомендаций товаров на сайт интернет магазина, чтобы повысить конверсию и средний чек заказа   \n",
              "1                                     Запустить собственную службу доставки, что сократит срок доставки заказов   \n",
              "5                      Добавить страницу отзывов клиентов о магазине, что позволит увеличить количество заказов   \n",
              "3           Изменить структура категорий, что увеличит конверсию, т.к. пользователи быстрее найдут нужный товар   \n",
              "4                              Изменить цвет фона главной страницы, чтобы увеличить вовлеченность пользователей   \n",
              "\n",
              "   reach  impact  confidence  efforts    ice  \n",
              "8      1       9           9        5  16.20  \n",
              "0      3      10           8        6  13.33  \n",
              "7     10       7           8        5  11.20  \n",
              "6      5       3           8        3   8.00  \n",
              "2      8       3           7        3   7.00  \n",
              "1      2       5           4       10   2.00  \n",
              "5      3       2           2        3   1.33  \n",
              "3      8       3           3        8   1.12  \n",
              "4      3       1           1        1   1.00  "
            ],
            "text/html": [
              "\n",
              "  <div id=\"df-33f13f07-bf99-488c-8bc9-3bed50ecc179\">\n",
              "    <div class=\"colab-df-container\">\n",
              "      <div>\n",
              "<style scoped>\n",
              "    .dataframe tbody tr th:only-of-type {\n",
              "        vertical-align: middle;\n",
              "    }\n",
              "\n",
              "    .dataframe tbody tr th {\n",
              "        vertical-align: top;\n",
              "    }\n",
              "\n",
              "    .dataframe thead th {\n",
              "        text-align: right;\n",
              "    }\n",
              "</style>\n",
              "<table border=\"1\" class=\"dataframe\">\n",
              "  <thead>\n",
              "    <tr style=\"text-align: right;\">\n",
              "      <th></th>\n",
              "      <th>hypothesis</th>\n",
              "      <th>reach</th>\n",
              "      <th>impact</th>\n",
              "      <th>confidence</th>\n",
              "      <th>efforts</th>\n",
              "      <th>ice</th>\n",
              "    </tr>\n",
              "  </thead>\n",
              "  <tbody>\n",
              "    <tr>\n",
              "      <th>8</th>\n",
              "      <td>Запустить акцию, дающую скидку на товар в день рождения</td>\n",
              "      <td>1</td>\n",
              "      <td>9</td>\n",
              "      <td>9</td>\n",
              "      <td>5</td>\n",
              "      <td>16.20</td>\n",
              "    </tr>\n",
              "    <tr>\n",
              "      <th>0</th>\n",
              "      <td>Добавить два новых канала привлечения трафика, что позволит привлекать на 30% больше пользователей</td>\n",
              "      <td>3</td>\n",
              "      <td>10</td>\n",
              "      <td>8</td>\n",
              "      <td>6</td>\n",
              "      <td>13.33</td>\n",
              "    </tr>\n",
              "    <tr>\n",
              "      <th>7</th>\n",
              "      <td>Добавить форму подписки на все основные страницы, чтобы собрать базу клиентов для email-рассылок</td>\n",
              "      <td>10</td>\n",
              "      <td>7</td>\n",
              "      <td>8</td>\n",
              "      <td>5</td>\n",
              "      <td>11.20</td>\n",
              "    </tr>\n",
              "    <tr>\n",
              "      <th>6</th>\n",
              "      <td>Показать на главной странице баннеры с актуальными акциями и распродажами, чтобы увеличить конверсию</td>\n",
              "      <td>5</td>\n",
              "      <td>3</td>\n",
              "      <td>8</td>\n",
              "      <td>3</td>\n",
              "      <td>8.00</td>\n",
              "    </tr>\n",
              "    <tr>\n",
              "      <th>2</th>\n",
              "      <td>Добавить блоки рекомендаций товаров на сайт интернет магазина, чтобы повысить конверсию и средний чек заказа</td>\n",
              "      <td>8</td>\n",
              "      <td>3</td>\n",
              "      <td>7</td>\n",
              "      <td>3</td>\n",
              "      <td>7.00</td>\n",
              "    </tr>\n",
              "    <tr>\n",
              "      <th>1</th>\n",
              "      <td>Запустить собственную службу доставки, что сократит срок доставки заказов</td>\n",
              "      <td>2</td>\n",
              "      <td>5</td>\n",
              "      <td>4</td>\n",
              "      <td>10</td>\n",
              "      <td>2.00</td>\n",
              "    </tr>\n",
              "    <tr>\n",
              "      <th>5</th>\n",
              "      <td>Добавить страницу отзывов клиентов о магазине, что позволит увеличить количество заказов</td>\n",
              "      <td>3</td>\n",
              "      <td>2</td>\n",
              "      <td>2</td>\n",
              "      <td>3</td>\n",
              "      <td>1.33</td>\n",
              "    </tr>\n",
              "    <tr>\n",
              "      <th>3</th>\n",
              "      <td>Изменить структура категорий, что увеличит конверсию, т.к. пользователи быстрее найдут нужный товар</td>\n",
              "      <td>8</td>\n",
              "      <td>3</td>\n",
              "      <td>3</td>\n",
              "      <td>8</td>\n",
              "      <td>1.12</td>\n",
              "    </tr>\n",
              "    <tr>\n",
              "      <th>4</th>\n",
              "      <td>Изменить цвет фона главной страницы, чтобы увеличить вовлеченность пользователей</td>\n",
              "      <td>3</td>\n",
              "      <td>1</td>\n",
              "      <td>1</td>\n",
              "      <td>1</td>\n",
              "      <td>1.00</td>\n",
              "    </tr>\n",
              "  </tbody>\n",
              "</table>\n",
              "</div>\n",
              "      <button class=\"colab-df-convert\" onclick=\"convertToInteractive('df-33f13f07-bf99-488c-8bc9-3bed50ecc179')\"\n",
              "              title=\"Convert this dataframe to an interactive table.\"\n",
              "              style=\"display:none;\">\n",
              "        \n",
              "  <svg xmlns=\"http://www.w3.org/2000/svg\" height=\"24px\"viewBox=\"0 0 24 24\"\n",
              "       width=\"24px\">\n",
              "    <path d=\"M0 0h24v24H0V0z\" fill=\"none\"/>\n",
              "    <path d=\"M18.56 5.44l.94 2.06.94-2.06 2.06-.94-2.06-.94-.94-2.06-.94 2.06-2.06.94zm-11 1L8.5 8.5l.94-2.06 2.06-.94-2.06-.94L8.5 2.5l-.94 2.06-2.06.94zm10 10l.94 2.06.94-2.06 2.06-.94-2.06-.94-.94-2.06-.94 2.06-2.06.94z\"/><path d=\"M17.41 7.96l-1.37-1.37c-.4-.4-.92-.59-1.43-.59-.52 0-1.04.2-1.43.59L10.3 9.45l-7.72 7.72c-.78.78-.78 2.05 0 2.83L4 21.41c.39.39.9.59 1.41.59.51 0 1.02-.2 1.41-.59l7.78-7.78 2.81-2.81c.8-.78.8-2.07 0-2.86zM5.41 20L4 18.59l7.72-7.72 1.47 1.35L5.41 20z\"/>\n",
              "  </svg>\n",
              "      </button>\n",
              "      \n",
              "  <style>\n",
              "    .colab-df-container {\n",
              "      display:flex;\n",
              "      flex-wrap:wrap;\n",
              "      gap: 12px;\n",
              "    }\n",
              "\n",
              "    .colab-df-convert {\n",
              "      background-color: #E8F0FE;\n",
              "      border: none;\n",
              "      border-radius: 50%;\n",
              "      cursor: pointer;\n",
              "      display: none;\n",
              "      fill: #1967D2;\n",
              "      height: 32px;\n",
              "      padding: 0 0 0 0;\n",
              "      width: 32px;\n",
              "    }\n",
              "\n",
              "    .colab-df-convert:hover {\n",
              "      background-color: #E2EBFA;\n",
              "      box-shadow: 0px 1px 2px rgba(60, 64, 67, 0.3), 0px 1px 3px 1px rgba(60, 64, 67, 0.15);\n",
              "      fill: #174EA6;\n",
              "    }\n",
              "\n",
              "    [theme=dark] .colab-df-convert {\n",
              "      background-color: #3B4455;\n",
              "      fill: #D2E3FC;\n",
              "    }\n",
              "\n",
              "    [theme=dark] .colab-df-convert:hover {\n",
              "      background-color: #434B5C;\n",
              "      box-shadow: 0px 1px 3px 1px rgba(0, 0, 0, 0.15);\n",
              "      filter: drop-shadow(0px 1px 2px rgba(0, 0, 0, 0.3));\n",
              "      fill: #FFFFFF;\n",
              "    }\n",
              "  </style>\n",
              "\n",
              "      <script>\n",
              "        const buttonEl =\n",
              "          document.querySelector('#df-33f13f07-bf99-488c-8bc9-3bed50ecc179 button.colab-df-convert');\n",
              "        buttonEl.style.display =\n",
              "          google.colab.kernel.accessAllowed ? 'block' : 'none';\n",
              "\n",
              "        async function convertToInteractive(key) {\n",
              "          const element = document.querySelector('#df-33f13f07-bf99-488c-8bc9-3bed50ecc179');\n",
              "          const dataTable =\n",
              "            await google.colab.kernel.invokeFunction('convertToInteractive',\n",
              "                                                     [key], {});\n",
              "          if (!dataTable) return;\n",
              "\n",
              "          const docLinkHtml = 'Like what you see? Visit the ' +\n",
              "            '<a target=\"_blank\" href=https://colab.research.google.com/notebooks/data_table.ipynb>data table notebook</a>'\n",
              "            + ' to learn more about interactive tables.';\n",
              "          element.innerHTML = '';\n",
              "          dataTable['output_type'] = 'display_data';\n",
              "          await google.colab.output.renderOutput(dataTable, element);\n",
              "          const docLink = document.createElement('div');\n",
              "          docLink.innerHTML = docLinkHtml;\n",
              "          element.appendChild(docLink);\n",
              "        }\n",
              "      </script>\n",
              "    </div>\n",
              "  </div>\n",
              "  "
            ]
          },
          "metadata": {},
          "execution_count": 16
        }
      ],
      "source": [
        "df['ice'] = (df['impact']*df['confidence']/df['efforts']).round(2)\n",
        "df.sort_values(by = 'ice', ascending= False)"
      ]
    },
    {
      "cell_type": "markdown",
      "metadata": {
        "id": "csRwbc7txPiO"
      },
      "source": [
        "### RICE"
      ]
    },
    {
      "cell_type": "markdown",
      "metadata": {
        "id": "Jg2lbAI4xPiO"
      },
      "source": [
        "Расчитаем фреймворк RICE"
      ]
    },
    {
      "cell_type": "code",
      "execution_count": 17,
      "metadata": {
        "colab": {
          "base_uri": "https://localhost:8080/",
          "height": 331
        },
        "id": "xWgJkV3txPiO",
        "outputId": "ebdd7f27-e4f4-4d5c-aa7d-3725e61d6799"
      },
      "outputs": [
        {
          "output_type": "execute_result",
          "data": {
            "text/plain": [
              "                                                                                                     hypothesis  \\\n",
              "7              Добавить форму подписки на все основные страницы, чтобы собрать базу клиентов для email-рассылок   \n",
              "2  Добавить блоки рекомендаций товаров на сайт интернет магазина, чтобы повысить конверсию и средний чек заказа   \n",
              "0            Добавить два новых канала привлечения трафика, что позволит привлекать на 30% больше пользователей   \n",
              "6          Показать на главной странице баннеры с актуальными акциями и распродажами, чтобы увеличить конверсию   \n",
              "8                                                       Запустить акцию, дающую скидку на товар в день рождения   \n",
              "3           Изменить структура категорий, что увеличит конверсию, т.к. пользователи быстрее найдут нужный товар   \n",
              "1                                     Запустить собственную службу доставки, что сократит срок доставки заказов   \n",
              "5                      Добавить страницу отзывов клиентов о магазине, что позволит увеличить количество заказов   \n",
              "4                              Изменить цвет фона главной страницы, чтобы увеличить вовлеченность пользователей   \n",
              "\n",
              "   reach  impact  confidence  efforts    ice   rice  \n",
              "7     10       7           8        5  11.20  112.0  \n",
              "2      8       3           7        3   7.00   56.0  \n",
              "0      3      10           8        6  13.33   40.0  \n",
              "6      5       3           8        3   8.00   40.0  \n",
              "8      1       9           9        5  16.20   16.2  \n",
              "3      8       3           3        8   1.12    9.0  \n",
              "1      2       5           4       10   2.00    4.0  \n",
              "5      3       2           2        3   1.33    4.0  \n",
              "4      3       1           1        1   1.00    3.0  "
            ],
            "text/html": [
              "\n",
              "  <div id=\"df-0e0d7169-fc1d-42cf-8753-097cf3d3b4a0\">\n",
              "    <div class=\"colab-df-container\">\n",
              "      <div>\n",
              "<style scoped>\n",
              "    .dataframe tbody tr th:only-of-type {\n",
              "        vertical-align: middle;\n",
              "    }\n",
              "\n",
              "    .dataframe tbody tr th {\n",
              "        vertical-align: top;\n",
              "    }\n",
              "\n",
              "    .dataframe thead th {\n",
              "        text-align: right;\n",
              "    }\n",
              "</style>\n",
              "<table border=\"1\" class=\"dataframe\">\n",
              "  <thead>\n",
              "    <tr style=\"text-align: right;\">\n",
              "      <th></th>\n",
              "      <th>hypothesis</th>\n",
              "      <th>reach</th>\n",
              "      <th>impact</th>\n",
              "      <th>confidence</th>\n",
              "      <th>efforts</th>\n",
              "      <th>ice</th>\n",
              "      <th>rice</th>\n",
              "    </tr>\n",
              "  </thead>\n",
              "  <tbody>\n",
              "    <tr>\n",
              "      <th>7</th>\n",
              "      <td>Добавить форму подписки на все основные страницы, чтобы собрать базу клиентов для email-рассылок</td>\n",
              "      <td>10</td>\n",
              "      <td>7</td>\n",
              "      <td>8</td>\n",
              "      <td>5</td>\n",
              "      <td>11.20</td>\n",
              "      <td>112.0</td>\n",
              "    </tr>\n",
              "    <tr>\n",
              "      <th>2</th>\n",
              "      <td>Добавить блоки рекомендаций товаров на сайт интернет магазина, чтобы повысить конверсию и средний чек заказа</td>\n",
              "      <td>8</td>\n",
              "      <td>3</td>\n",
              "      <td>7</td>\n",
              "      <td>3</td>\n",
              "      <td>7.00</td>\n",
              "      <td>56.0</td>\n",
              "    </tr>\n",
              "    <tr>\n",
              "      <th>0</th>\n",
              "      <td>Добавить два новых канала привлечения трафика, что позволит привлекать на 30% больше пользователей</td>\n",
              "      <td>3</td>\n",
              "      <td>10</td>\n",
              "      <td>8</td>\n",
              "      <td>6</td>\n",
              "      <td>13.33</td>\n",
              "      <td>40.0</td>\n",
              "    </tr>\n",
              "    <tr>\n",
              "      <th>6</th>\n",
              "      <td>Показать на главной странице баннеры с актуальными акциями и распродажами, чтобы увеличить конверсию</td>\n",
              "      <td>5</td>\n",
              "      <td>3</td>\n",
              "      <td>8</td>\n",
              "      <td>3</td>\n",
              "      <td>8.00</td>\n",
              "      <td>40.0</td>\n",
              "    </tr>\n",
              "    <tr>\n",
              "      <th>8</th>\n",
              "      <td>Запустить акцию, дающую скидку на товар в день рождения</td>\n",
              "      <td>1</td>\n",
              "      <td>9</td>\n",
              "      <td>9</td>\n",
              "      <td>5</td>\n",
              "      <td>16.20</td>\n",
              "      <td>16.2</td>\n",
              "    </tr>\n",
              "    <tr>\n",
              "      <th>3</th>\n",
              "      <td>Изменить структура категорий, что увеличит конверсию, т.к. пользователи быстрее найдут нужный товар</td>\n",
              "      <td>8</td>\n",
              "      <td>3</td>\n",
              "      <td>3</td>\n",
              "      <td>8</td>\n",
              "      <td>1.12</td>\n",
              "      <td>9.0</td>\n",
              "    </tr>\n",
              "    <tr>\n",
              "      <th>1</th>\n",
              "      <td>Запустить собственную службу доставки, что сократит срок доставки заказов</td>\n",
              "      <td>2</td>\n",
              "      <td>5</td>\n",
              "      <td>4</td>\n",
              "      <td>10</td>\n",
              "      <td>2.00</td>\n",
              "      <td>4.0</td>\n",
              "    </tr>\n",
              "    <tr>\n",
              "      <th>5</th>\n",
              "      <td>Добавить страницу отзывов клиентов о магазине, что позволит увеличить количество заказов</td>\n",
              "      <td>3</td>\n",
              "      <td>2</td>\n",
              "      <td>2</td>\n",
              "      <td>3</td>\n",
              "      <td>1.33</td>\n",
              "      <td>4.0</td>\n",
              "    </tr>\n",
              "    <tr>\n",
              "      <th>4</th>\n",
              "      <td>Изменить цвет фона главной страницы, чтобы увеличить вовлеченность пользователей</td>\n",
              "      <td>3</td>\n",
              "      <td>1</td>\n",
              "      <td>1</td>\n",
              "      <td>1</td>\n",
              "      <td>1.00</td>\n",
              "      <td>3.0</td>\n",
              "    </tr>\n",
              "  </tbody>\n",
              "</table>\n",
              "</div>\n",
              "      <button class=\"colab-df-convert\" onclick=\"convertToInteractive('df-0e0d7169-fc1d-42cf-8753-097cf3d3b4a0')\"\n",
              "              title=\"Convert this dataframe to an interactive table.\"\n",
              "              style=\"display:none;\">\n",
              "        \n",
              "  <svg xmlns=\"http://www.w3.org/2000/svg\" height=\"24px\"viewBox=\"0 0 24 24\"\n",
              "       width=\"24px\">\n",
              "    <path d=\"M0 0h24v24H0V0z\" fill=\"none\"/>\n",
              "    <path d=\"M18.56 5.44l.94 2.06.94-2.06 2.06-.94-2.06-.94-.94-2.06-.94 2.06-2.06.94zm-11 1L8.5 8.5l.94-2.06 2.06-.94-2.06-.94L8.5 2.5l-.94 2.06-2.06.94zm10 10l.94 2.06.94-2.06 2.06-.94-2.06-.94-.94-2.06-.94 2.06-2.06.94z\"/><path d=\"M17.41 7.96l-1.37-1.37c-.4-.4-.92-.59-1.43-.59-.52 0-1.04.2-1.43.59L10.3 9.45l-7.72 7.72c-.78.78-.78 2.05 0 2.83L4 21.41c.39.39.9.59 1.41.59.51 0 1.02-.2 1.41-.59l7.78-7.78 2.81-2.81c.8-.78.8-2.07 0-2.86zM5.41 20L4 18.59l7.72-7.72 1.47 1.35L5.41 20z\"/>\n",
              "  </svg>\n",
              "      </button>\n",
              "      \n",
              "  <style>\n",
              "    .colab-df-container {\n",
              "      display:flex;\n",
              "      flex-wrap:wrap;\n",
              "      gap: 12px;\n",
              "    }\n",
              "\n",
              "    .colab-df-convert {\n",
              "      background-color: #E8F0FE;\n",
              "      border: none;\n",
              "      border-radius: 50%;\n",
              "      cursor: pointer;\n",
              "      display: none;\n",
              "      fill: #1967D2;\n",
              "      height: 32px;\n",
              "      padding: 0 0 0 0;\n",
              "      width: 32px;\n",
              "    }\n",
              "\n",
              "    .colab-df-convert:hover {\n",
              "      background-color: #E2EBFA;\n",
              "      box-shadow: 0px 1px 2px rgba(60, 64, 67, 0.3), 0px 1px 3px 1px rgba(60, 64, 67, 0.15);\n",
              "      fill: #174EA6;\n",
              "    }\n",
              "\n",
              "    [theme=dark] .colab-df-convert {\n",
              "      background-color: #3B4455;\n",
              "      fill: #D2E3FC;\n",
              "    }\n",
              "\n",
              "    [theme=dark] .colab-df-convert:hover {\n",
              "      background-color: #434B5C;\n",
              "      box-shadow: 0px 1px 3px 1px rgba(0, 0, 0, 0.15);\n",
              "      filter: drop-shadow(0px 1px 2px rgba(0, 0, 0, 0.3));\n",
              "      fill: #FFFFFF;\n",
              "    }\n",
              "  </style>\n",
              "\n",
              "      <script>\n",
              "        const buttonEl =\n",
              "          document.querySelector('#df-0e0d7169-fc1d-42cf-8753-097cf3d3b4a0 button.colab-df-convert');\n",
              "        buttonEl.style.display =\n",
              "          google.colab.kernel.accessAllowed ? 'block' : 'none';\n",
              "\n",
              "        async function convertToInteractive(key) {\n",
              "          const element = document.querySelector('#df-0e0d7169-fc1d-42cf-8753-097cf3d3b4a0');\n",
              "          const dataTable =\n",
              "            await google.colab.kernel.invokeFunction('convertToInteractive',\n",
              "                                                     [key], {});\n",
              "          if (!dataTable) return;\n",
              "\n",
              "          const docLinkHtml = 'Like what you see? Visit the ' +\n",
              "            '<a target=\"_blank\" href=https://colab.research.google.com/notebooks/data_table.ipynb>data table notebook</a>'\n",
              "            + ' to learn more about interactive tables.';\n",
              "          element.innerHTML = '';\n",
              "          dataTable['output_type'] = 'display_data';\n",
              "          await google.colab.output.renderOutput(dataTable, element);\n",
              "          const docLink = document.createElement('div');\n",
              "          docLink.innerHTML = docLinkHtml;\n",
              "          element.appendChild(docLink);\n",
              "        }\n",
              "      </script>\n",
              "    </div>\n",
              "  </div>\n",
              "  "
            ]
          },
          "metadata": {},
          "execution_count": 17
        }
      ],
      "source": [
        "df['rice'] = (df['reach']*df['impact']*df['confidence']/df['efforts']).round(2)\n",
        "df.sort_values(by = 'rice', ascending= False)"
      ]
    },
    {
      "cell_type": "markdown",
      "metadata": {
        "id": "dSUoa2kqxPiP"
      },
      "source": [
        "Ситуация поменялась после учета в формуле показателя \"Охват\", ведь фреймворк RICE это тот же ICE, только помноженный на \"Охват\", соответсвенно он и повлиял на итоговую оценку."
      ]
    },
    {
      "cell_type": "markdown",
      "metadata": {
        "id": "6AFkoSajxPiP"
      },
      "source": [
        "Вообще странно пользоваться методом ICE, когда речь идет о гипотезах, которые должны повлиять пользователей. Я редко могу себе представить ситуацию, когда ICE > RICE, разве что когда охват пользователей будет максимальным в любом случае, тогда reach будет константой и значение ICE не изменится."
      ]
    },
    {
      "cell_type": "markdown",
      "metadata": {
        "id": "M4sM1znRxPiP"
      },
      "source": [
        "После 2х методов приоритизаций видим одну очень перспективную гипотезу под номером 7, на нее стоить обратить особое внимание, далее идут примерно в равной степени гипотезы 2, 0, 6 - их бы я рассматривал в следующую оередь. Остальные не внушают доверие."
      ]
    },
    {
      "cell_type": "markdown",
      "metadata": {
        "id": "6AWAD0GTxPiQ"
      },
      "source": [
        "## Анализ A/B-теста"
      ]
    },
    {
      "cell_type": "markdown",
      "metadata": {
        "id": "d4toqkaVxPiQ"
      },
      "source": [
        "Были проведены A/B-тесты и получены результаты.\n",
        "\n",
        "Необходимо:\n",
        "- Проанализировать A/B-тест:\n",
        "- Построить график кумулятивной выручки по группам. Сделать выводы и предположения.\n",
        "- Построить график кумулятивного среднего чека по группам. Сделать выводы и предположения.\n",
        "- Построить график относительного изменения кумулятивного среднего чека группы B к группе A. Сделать выводы и предположения.\n",
        "- Построить график кумулятивного среднего количества заказов на посетителя по группам. Сделать выводы и предположения.\n",
        "- Построить график относительного изменения кумулятивного среднего количества заказов на посетителя группы B к группе A. Сделать выводы и предположения.\n",
        "- Построить точечный график количества заказов по пользователям. Сделайте выводы и предположения.\n",
        "- Посчитать 95-й и 99-й перцентили количества заказов на пользователя. Выбрать границу для определения аномальных пользователей.\n",
        "- Построить точечный график стоимостей заказов. Сделать выводы и предположения.\n",
        "- Посчитать 95-й и 99-й перцентили стоимости заказов. Выберите границу для определения аномальных заказов.\n",
        "- Посчитать статистическую значимость различий в среднем количестве заказов на посетителя между группами по «сырым» данным. Сделать выводы и предположения.\n",
        "- Посчитать статистическую значимость различий в среднем чеке заказа между группами по «сырым» данным. Сделать выводы и предположения.\n",
        "- Посчитать статистическую значимость различий в среднем количестве заказов на посетителя между группами по «очищенным» данным. Сделать выводы и предположения.\n",
        "- Посчитать статистическую значимость различий в среднем чеке заказа между группами по «очищенным» данным. Сделать выводы и предположения.\n",
        "\n",
        "Принять решение по результатам теста и объяснить его. Варианты решений:\n",
        "1. Остановить тест, зафиксировать победу одной из групп.\n",
        "2. Остановить тест, зафиксировать отсутствие различий между группами.\n",
        "3. Продолжить тест."
      ]
    },
    {
      "cell_type": "markdown",
      "metadata": {
        "id": "vqd8PAdlxPiR"
      },
      "source": [
        "### Предобработка данных"
      ]
    },
    {
      "cell_type": "code",
      "execution_count": 18,
      "metadata": {
        "id": "p42Xb4a5xPiR"
      },
      "outputs": [],
      "source": [
        "orders, visitors = (pd.read_csv('https://code.s3.yandex.net/datasets/orders.csv'), pd.read_csv('https://code.s3.yandex.net/datasets/visitors.csv'))"
      ]
    },
    {
      "cell_type": "code",
      "execution_count": 19,
      "metadata": {
        "colab": {
          "base_uri": "https://localhost:8080/",
          "height": 395
        },
        "id": "JatNliEnxPiR",
        "outputId": "1cf87c3b-c173-4732-e534-3a6f1995ef77"
      },
      "outputs": [
        {
          "output_type": "display_data",
          "data": {
            "text/plain": [
              "   transactionId   visitorId        date  revenue group\n",
              "0     3667963787  3312258926  2019-08-15     1650     B\n",
              "1     2804400009  3642806036  2019-08-15      730     B\n",
              "2     2961555356  4069496402  2019-08-15      400     A\n",
              "3     3797467345  1196621759  2019-08-15     9759     B\n",
              "4     2282983706  2322279887  2019-08-15     2308     B"
            ],
            "text/html": [
              "\n",
              "  <div id=\"df-ab06b33d-c2d1-402a-b8a0-1300c0a0eea2\">\n",
              "    <div class=\"colab-df-container\">\n",
              "      <div>\n",
              "<style scoped>\n",
              "    .dataframe tbody tr th:only-of-type {\n",
              "        vertical-align: middle;\n",
              "    }\n",
              "\n",
              "    .dataframe tbody tr th {\n",
              "        vertical-align: top;\n",
              "    }\n",
              "\n",
              "    .dataframe thead th {\n",
              "        text-align: right;\n",
              "    }\n",
              "</style>\n",
              "<table border=\"1\" class=\"dataframe\">\n",
              "  <thead>\n",
              "    <tr style=\"text-align: right;\">\n",
              "      <th></th>\n",
              "      <th>transactionId</th>\n",
              "      <th>visitorId</th>\n",
              "      <th>date</th>\n",
              "      <th>revenue</th>\n",
              "      <th>group</th>\n",
              "    </tr>\n",
              "  </thead>\n",
              "  <tbody>\n",
              "    <tr>\n",
              "      <th>0</th>\n",
              "      <td>3667963787</td>\n",
              "      <td>3312258926</td>\n",
              "      <td>2019-08-15</td>\n",
              "      <td>1650</td>\n",
              "      <td>B</td>\n",
              "    </tr>\n",
              "    <tr>\n",
              "      <th>1</th>\n",
              "      <td>2804400009</td>\n",
              "      <td>3642806036</td>\n",
              "      <td>2019-08-15</td>\n",
              "      <td>730</td>\n",
              "      <td>B</td>\n",
              "    </tr>\n",
              "    <tr>\n",
              "      <th>2</th>\n",
              "      <td>2961555356</td>\n",
              "      <td>4069496402</td>\n",
              "      <td>2019-08-15</td>\n",
              "      <td>400</td>\n",
              "      <td>A</td>\n",
              "    </tr>\n",
              "    <tr>\n",
              "      <th>3</th>\n",
              "      <td>3797467345</td>\n",
              "      <td>1196621759</td>\n",
              "      <td>2019-08-15</td>\n",
              "      <td>9759</td>\n",
              "      <td>B</td>\n",
              "    </tr>\n",
              "    <tr>\n",
              "      <th>4</th>\n",
              "      <td>2282983706</td>\n",
              "      <td>2322279887</td>\n",
              "      <td>2019-08-15</td>\n",
              "      <td>2308</td>\n",
              "      <td>B</td>\n",
              "    </tr>\n",
              "  </tbody>\n",
              "</table>\n",
              "</div>\n",
              "      <button class=\"colab-df-convert\" onclick=\"convertToInteractive('df-ab06b33d-c2d1-402a-b8a0-1300c0a0eea2')\"\n",
              "              title=\"Convert this dataframe to an interactive table.\"\n",
              "              style=\"display:none;\">\n",
              "        \n",
              "  <svg xmlns=\"http://www.w3.org/2000/svg\" height=\"24px\"viewBox=\"0 0 24 24\"\n",
              "       width=\"24px\">\n",
              "    <path d=\"M0 0h24v24H0V0z\" fill=\"none\"/>\n",
              "    <path d=\"M18.56 5.44l.94 2.06.94-2.06 2.06-.94-2.06-.94-.94-2.06-.94 2.06-2.06.94zm-11 1L8.5 8.5l.94-2.06 2.06-.94-2.06-.94L8.5 2.5l-.94 2.06-2.06.94zm10 10l.94 2.06.94-2.06 2.06-.94-2.06-.94-.94-2.06-.94 2.06-2.06.94z\"/><path d=\"M17.41 7.96l-1.37-1.37c-.4-.4-.92-.59-1.43-.59-.52 0-1.04.2-1.43.59L10.3 9.45l-7.72 7.72c-.78.78-.78 2.05 0 2.83L4 21.41c.39.39.9.59 1.41.59.51 0 1.02-.2 1.41-.59l7.78-7.78 2.81-2.81c.8-.78.8-2.07 0-2.86zM5.41 20L4 18.59l7.72-7.72 1.47 1.35L5.41 20z\"/>\n",
              "  </svg>\n",
              "      </button>\n",
              "      \n",
              "  <style>\n",
              "    .colab-df-container {\n",
              "      display:flex;\n",
              "      flex-wrap:wrap;\n",
              "      gap: 12px;\n",
              "    }\n",
              "\n",
              "    .colab-df-convert {\n",
              "      background-color: #E8F0FE;\n",
              "      border: none;\n",
              "      border-radius: 50%;\n",
              "      cursor: pointer;\n",
              "      display: none;\n",
              "      fill: #1967D2;\n",
              "      height: 32px;\n",
              "      padding: 0 0 0 0;\n",
              "      width: 32px;\n",
              "    }\n",
              "\n",
              "    .colab-df-convert:hover {\n",
              "      background-color: #E2EBFA;\n",
              "      box-shadow: 0px 1px 2px rgba(60, 64, 67, 0.3), 0px 1px 3px 1px rgba(60, 64, 67, 0.15);\n",
              "      fill: #174EA6;\n",
              "    }\n",
              "\n",
              "    [theme=dark] .colab-df-convert {\n",
              "      background-color: #3B4455;\n",
              "      fill: #D2E3FC;\n",
              "    }\n",
              "\n",
              "    [theme=dark] .colab-df-convert:hover {\n",
              "      background-color: #434B5C;\n",
              "      box-shadow: 0px 1px 3px 1px rgba(0, 0, 0, 0.15);\n",
              "      filter: drop-shadow(0px 1px 2px rgba(0, 0, 0, 0.3));\n",
              "      fill: #FFFFFF;\n",
              "    }\n",
              "  </style>\n",
              "\n",
              "      <script>\n",
              "        const buttonEl =\n",
              "          document.querySelector('#df-ab06b33d-c2d1-402a-b8a0-1300c0a0eea2 button.colab-df-convert');\n",
              "        buttonEl.style.display =\n",
              "          google.colab.kernel.accessAllowed ? 'block' : 'none';\n",
              "\n",
              "        async function convertToInteractive(key) {\n",
              "          const element = document.querySelector('#df-ab06b33d-c2d1-402a-b8a0-1300c0a0eea2');\n",
              "          const dataTable =\n",
              "            await google.colab.kernel.invokeFunction('convertToInteractive',\n",
              "                                                     [key], {});\n",
              "          if (!dataTable) return;\n",
              "\n",
              "          const docLinkHtml = 'Like what you see? Visit the ' +\n",
              "            '<a target=\"_blank\" href=https://colab.research.google.com/notebooks/data_table.ipynb>data table notebook</a>'\n",
              "            + ' to learn more about interactive tables.';\n",
              "          element.innerHTML = '';\n",
              "          dataTable['output_type'] = 'display_data';\n",
              "          await google.colab.output.renderOutput(dataTable, element);\n",
              "          const docLink = document.createElement('div');\n",
              "          docLink.innerHTML = docLinkHtml;\n",
              "          element.appendChild(docLink);\n",
              "        }\n",
              "      </script>\n",
              "    </div>\n",
              "  </div>\n",
              "  "
            ]
          },
          "metadata": {}
        },
        {
          "output_type": "display_data",
          "data": {
            "text/plain": [
              "         date group  visitors\n",
              "0  2019-08-01     A       719\n",
              "1  2019-08-02     A       619\n",
              "2  2019-08-03     A       507\n",
              "3  2019-08-04     A       717\n",
              "4  2019-08-05     A       756"
            ],
            "text/html": [
              "\n",
              "  <div id=\"df-ce64248f-97d0-4b2f-9318-a2f6e0355e58\">\n",
              "    <div class=\"colab-df-container\">\n",
              "      <div>\n",
              "<style scoped>\n",
              "    .dataframe tbody tr th:only-of-type {\n",
              "        vertical-align: middle;\n",
              "    }\n",
              "\n",
              "    .dataframe tbody tr th {\n",
              "        vertical-align: top;\n",
              "    }\n",
              "\n",
              "    .dataframe thead th {\n",
              "        text-align: right;\n",
              "    }\n",
              "</style>\n",
              "<table border=\"1\" class=\"dataframe\">\n",
              "  <thead>\n",
              "    <tr style=\"text-align: right;\">\n",
              "      <th></th>\n",
              "      <th>date</th>\n",
              "      <th>group</th>\n",
              "      <th>visitors</th>\n",
              "    </tr>\n",
              "  </thead>\n",
              "  <tbody>\n",
              "    <tr>\n",
              "      <th>0</th>\n",
              "      <td>2019-08-01</td>\n",
              "      <td>A</td>\n",
              "      <td>719</td>\n",
              "    </tr>\n",
              "    <tr>\n",
              "      <th>1</th>\n",
              "      <td>2019-08-02</td>\n",
              "      <td>A</td>\n",
              "      <td>619</td>\n",
              "    </tr>\n",
              "    <tr>\n",
              "      <th>2</th>\n",
              "      <td>2019-08-03</td>\n",
              "      <td>A</td>\n",
              "      <td>507</td>\n",
              "    </tr>\n",
              "    <tr>\n",
              "      <th>3</th>\n",
              "      <td>2019-08-04</td>\n",
              "      <td>A</td>\n",
              "      <td>717</td>\n",
              "    </tr>\n",
              "    <tr>\n",
              "      <th>4</th>\n",
              "      <td>2019-08-05</td>\n",
              "      <td>A</td>\n",
              "      <td>756</td>\n",
              "    </tr>\n",
              "  </tbody>\n",
              "</table>\n",
              "</div>\n",
              "      <button class=\"colab-df-convert\" onclick=\"convertToInteractive('df-ce64248f-97d0-4b2f-9318-a2f6e0355e58')\"\n",
              "              title=\"Convert this dataframe to an interactive table.\"\n",
              "              style=\"display:none;\">\n",
              "        \n",
              "  <svg xmlns=\"http://www.w3.org/2000/svg\" height=\"24px\"viewBox=\"0 0 24 24\"\n",
              "       width=\"24px\">\n",
              "    <path d=\"M0 0h24v24H0V0z\" fill=\"none\"/>\n",
              "    <path d=\"M18.56 5.44l.94 2.06.94-2.06 2.06-.94-2.06-.94-.94-2.06-.94 2.06-2.06.94zm-11 1L8.5 8.5l.94-2.06 2.06-.94-2.06-.94L8.5 2.5l-.94 2.06-2.06.94zm10 10l.94 2.06.94-2.06 2.06-.94-2.06-.94-.94-2.06-.94 2.06-2.06.94z\"/><path d=\"M17.41 7.96l-1.37-1.37c-.4-.4-.92-.59-1.43-.59-.52 0-1.04.2-1.43.59L10.3 9.45l-7.72 7.72c-.78.78-.78 2.05 0 2.83L4 21.41c.39.39.9.59 1.41.59.51 0 1.02-.2 1.41-.59l7.78-7.78 2.81-2.81c.8-.78.8-2.07 0-2.86zM5.41 20L4 18.59l7.72-7.72 1.47 1.35L5.41 20z\"/>\n",
              "  </svg>\n",
              "      </button>\n",
              "      \n",
              "  <style>\n",
              "    .colab-df-container {\n",
              "      display:flex;\n",
              "      flex-wrap:wrap;\n",
              "      gap: 12px;\n",
              "    }\n",
              "\n",
              "    .colab-df-convert {\n",
              "      background-color: #E8F0FE;\n",
              "      border: none;\n",
              "      border-radius: 50%;\n",
              "      cursor: pointer;\n",
              "      display: none;\n",
              "      fill: #1967D2;\n",
              "      height: 32px;\n",
              "      padding: 0 0 0 0;\n",
              "      width: 32px;\n",
              "    }\n",
              "\n",
              "    .colab-df-convert:hover {\n",
              "      background-color: #E2EBFA;\n",
              "      box-shadow: 0px 1px 2px rgba(60, 64, 67, 0.3), 0px 1px 3px 1px rgba(60, 64, 67, 0.15);\n",
              "      fill: #174EA6;\n",
              "    }\n",
              "\n",
              "    [theme=dark] .colab-df-convert {\n",
              "      background-color: #3B4455;\n",
              "      fill: #D2E3FC;\n",
              "    }\n",
              "\n",
              "    [theme=dark] .colab-df-convert:hover {\n",
              "      background-color: #434B5C;\n",
              "      box-shadow: 0px 1px 3px 1px rgba(0, 0, 0, 0.15);\n",
              "      filter: drop-shadow(0px 1px 2px rgba(0, 0, 0, 0.3));\n",
              "      fill: #FFFFFF;\n",
              "    }\n",
              "  </style>\n",
              "\n",
              "      <script>\n",
              "        const buttonEl =\n",
              "          document.querySelector('#df-ce64248f-97d0-4b2f-9318-a2f6e0355e58 button.colab-df-convert');\n",
              "        buttonEl.style.display =\n",
              "          google.colab.kernel.accessAllowed ? 'block' : 'none';\n",
              "\n",
              "        async function convertToInteractive(key) {\n",
              "          const element = document.querySelector('#df-ce64248f-97d0-4b2f-9318-a2f6e0355e58');\n",
              "          const dataTable =\n",
              "            await google.colab.kernel.invokeFunction('convertToInteractive',\n",
              "                                                     [key], {});\n",
              "          if (!dataTable) return;\n",
              "\n",
              "          const docLinkHtml = 'Like what you see? Visit the ' +\n",
              "            '<a target=\"_blank\" href=https://colab.research.google.com/notebooks/data_table.ipynb>data table notebook</a>'\n",
              "            + ' to learn more about interactive tables.';\n",
              "          element.innerHTML = '';\n",
              "          dataTable['output_type'] = 'display_data';\n",
              "          await google.colab.output.renderOutput(dataTable, element);\n",
              "          const docLink = document.createElement('div');\n",
              "          docLink.innerHTML = docLinkHtml;\n",
              "          element.appendChild(docLink);\n",
              "        }\n",
              "      </script>\n",
              "    </div>\n",
              "  </div>\n",
              "  "
            ]
          },
          "metadata": {}
        }
      ],
      "source": [
        "display(orders.head())\n",
        "display(visitors.head())"
      ]
    },
    {
      "cell_type": "code",
      "execution_count": 20,
      "metadata": {
        "scrolled": false,
        "colab": {
          "base_uri": "https://localhost:8080/"
        },
        "id": "0P7YqfU4xPiS",
        "outputId": "8351b8c3-5aa1-481e-ad15-95c01336e85c"
      },
      "outputs": [
        {
          "output_type": "stream",
          "name": "stdout",
          "text": [
            "<class 'pandas.core.frame.DataFrame'>\n",
            "RangeIndex: 1197 entries, 0 to 1196\n",
            "Data columns (total 5 columns):\n",
            " #   Column         Non-Null Count  Dtype \n",
            "---  ------         --------------  ----- \n",
            " 0   transactionId  1197 non-null   int64 \n",
            " 1   visitorId      1197 non-null   int64 \n",
            " 2   date           1197 non-null   object\n",
            " 3   revenue        1197 non-null   int64 \n",
            " 4   group          1197 non-null   object\n",
            "dtypes: int64(3), object(2)\n",
            "memory usage: 46.9+ KB\n",
            "<class 'pandas.core.frame.DataFrame'>\n",
            "RangeIndex: 62 entries, 0 to 61\n",
            "Data columns (total 3 columns):\n",
            " #   Column    Non-Null Count  Dtype \n",
            "---  ------    --------------  ----- \n",
            " 0   date      62 non-null     object\n",
            " 1   group     62 non-null     object\n",
            " 2   visitors  62 non-null     int64 \n",
            "dtypes: int64(1), object(2)\n",
            "memory usage: 1.6+ KB\n"
          ]
        }
      ],
      "source": [
        "orders.info()\n",
        "visitors.info()"
      ]
    },
    {
      "cell_type": "code",
      "execution_count": 21,
      "metadata": {
        "colab": {
          "base_uri": "https://localhost:8080/",
          "height": 583
        },
        "id": "mio6dlgaxPiS",
        "outputId": "f6a7ea75-953f-4a39-d886-0223e31355c9"
      },
      "outputs": [
        {
          "output_type": "display_data",
          "data": {
            "text/plain": [
              "       transactionId     visitorId       revenue\n",
              "count   1.197000e+03  1.197000e+03  1.197000e+03\n",
              "mean    2.155621e+09  2.165960e+09  8.348006e+03\n",
              "std     1.229085e+09  1.236014e+09  3.919113e+04\n",
              "min     1.062393e+06  5.114589e+06  5.000000e+01\n",
              "25%     1.166776e+09  1.111826e+09  1.220000e+03\n",
              "50%     2.145194e+09  2.217985e+09  2.978000e+03\n",
              "75%     3.237740e+09  3.177606e+09  8.290000e+03\n",
              "max     4.293856e+09  4.283872e+09  1.294500e+06"
            ],
            "text/html": [
              "\n",
              "  <div id=\"df-d33889f6-28c7-4c2b-b889-67dc7b4ff642\">\n",
              "    <div class=\"colab-df-container\">\n",
              "      <div>\n",
              "<style scoped>\n",
              "    .dataframe tbody tr th:only-of-type {\n",
              "        vertical-align: middle;\n",
              "    }\n",
              "\n",
              "    .dataframe tbody tr th {\n",
              "        vertical-align: top;\n",
              "    }\n",
              "\n",
              "    .dataframe thead th {\n",
              "        text-align: right;\n",
              "    }\n",
              "</style>\n",
              "<table border=\"1\" class=\"dataframe\">\n",
              "  <thead>\n",
              "    <tr style=\"text-align: right;\">\n",
              "      <th></th>\n",
              "      <th>transactionId</th>\n",
              "      <th>visitorId</th>\n",
              "      <th>revenue</th>\n",
              "    </tr>\n",
              "  </thead>\n",
              "  <tbody>\n",
              "    <tr>\n",
              "      <th>count</th>\n",
              "      <td>1.197000e+03</td>\n",
              "      <td>1.197000e+03</td>\n",
              "      <td>1.197000e+03</td>\n",
              "    </tr>\n",
              "    <tr>\n",
              "      <th>mean</th>\n",
              "      <td>2.155621e+09</td>\n",
              "      <td>2.165960e+09</td>\n",
              "      <td>8.348006e+03</td>\n",
              "    </tr>\n",
              "    <tr>\n",
              "      <th>std</th>\n",
              "      <td>1.229085e+09</td>\n",
              "      <td>1.236014e+09</td>\n",
              "      <td>3.919113e+04</td>\n",
              "    </tr>\n",
              "    <tr>\n",
              "      <th>min</th>\n",
              "      <td>1.062393e+06</td>\n",
              "      <td>5.114589e+06</td>\n",
              "      <td>5.000000e+01</td>\n",
              "    </tr>\n",
              "    <tr>\n",
              "      <th>25%</th>\n",
              "      <td>1.166776e+09</td>\n",
              "      <td>1.111826e+09</td>\n",
              "      <td>1.220000e+03</td>\n",
              "    </tr>\n",
              "    <tr>\n",
              "      <th>50%</th>\n",
              "      <td>2.145194e+09</td>\n",
              "      <td>2.217985e+09</td>\n",
              "      <td>2.978000e+03</td>\n",
              "    </tr>\n",
              "    <tr>\n",
              "      <th>75%</th>\n",
              "      <td>3.237740e+09</td>\n",
              "      <td>3.177606e+09</td>\n",
              "      <td>8.290000e+03</td>\n",
              "    </tr>\n",
              "    <tr>\n",
              "      <th>max</th>\n",
              "      <td>4.293856e+09</td>\n",
              "      <td>4.283872e+09</td>\n",
              "      <td>1.294500e+06</td>\n",
              "    </tr>\n",
              "  </tbody>\n",
              "</table>\n",
              "</div>\n",
              "      <button class=\"colab-df-convert\" onclick=\"convertToInteractive('df-d33889f6-28c7-4c2b-b889-67dc7b4ff642')\"\n",
              "              title=\"Convert this dataframe to an interactive table.\"\n",
              "              style=\"display:none;\">\n",
              "        \n",
              "  <svg xmlns=\"http://www.w3.org/2000/svg\" height=\"24px\"viewBox=\"0 0 24 24\"\n",
              "       width=\"24px\">\n",
              "    <path d=\"M0 0h24v24H0V0z\" fill=\"none\"/>\n",
              "    <path d=\"M18.56 5.44l.94 2.06.94-2.06 2.06-.94-2.06-.94-.94-2.06-.94 2.06-2.06.94zm-11 1L8.5 8.5l.94-2.06 2.06-.94-2.06-.94L8.5 2.5l-.94 2.06-2.06.94zm10 10l.94 2.06.94-2.06 2.06-.94-2.06-.94-.94-2.06-.94 2.06-2.06.94z\"/><path d=\"M17.41 7.96l-1.37-1.37c-.4-.4-.92-.59-1.43-.59-.52 0-1.04.2-1.43.59L10.3 9.45l-7.72 7.72c-.78.78-.78 2.05 0 2.83L4 21.41c.39.39.9.59 1.41.59.51 0 1.02-.2 1.41-.59l7.78-7.78 2.81-2.81c.8-.78.8-2.07 0-2.86zM5.41 20L4 18.59l7.72-7.72 1.47 1.35L5.41 20z\"/>\n",
              "  </svg>\n",
              "      </button>\n",
              "      \n",
              "  <style>\n",
              "    .colab-df-container {\n",
              "      display:flex;\n",
              "      flex-wrap:wrap;\n",
              "      gap: 12px;\n",
              "    }\n",
              "\n",
              "    .colab-df-convert {\n",
              "      background-color: #E8F0FE;\n",
              "      border: none;\n",
              "      border-radius: 50%;\n",
              "      cursor: pointer;\n",
              "      display: none;\n",
              "      fill: #1967D2;\n",
              "      height: 32px;\n",
              "      padding: 0 0 0 0;\n",
              "      width: 32px;\n",
              "    }\n",
              "\n",
              "    .colab-df-convert:hover {\n",
              "      background-color: #E2EBFA;\n",
              "      box-shadow: 0px 1px 2px rgba(60, 64, 67, 0.3), 0px 1px 3px 1px rgba(60, 64, 67, 0.15);\n",
              "      fill: #174EA6;\n",
              "    }\n",
              "\n",
              "    [theme=dark] .colab-df-convert {\n",
              "      background-color: #3B4455;\n",
              "      fill: #D2E3FC;\n",
              "    }\n",
              "\n",
              "    [theme=dark] .colab-df-convert:hover {\n",
              "      background-color: #434B5C;\n",
              "      box-shadow: 0px 1px 3px 1px rgba(0, 0, 0, 0.15);\n",
              "      filter: drop-shadow(0px 1px 2px rgba(0, 0, 0, 0.3));\n",
              "      fill: #FFFFFF;\n",
              "    }\n",
              "  </style>\n",
              "\n",
              "      <script>\n",
              "        const buttonEl =\n",
              "          document.querySelector('#df-d33889f6-28c7-4c2b-b889-67dc7b4ff642 button.colab-df-convert');\n",
              "        buttonEl.style.display =\n",
              "          google.colab.kernel.accessAllowed ? 'block' : 'none';\n",
              "\n",
              "        async function convertToInteractive(key) {\n",
              "          const element = document.querySelector('#df-d33889f6-28c7-4c2b-b889-67dc7b4ff642');\n",
              "          const dataTable =\n",
              "            await google.colab.kernel.invokeFunction('convertToInteractive',\n",
              "                                                     [key], {});\n",
              "          if (!dataTable) return;\n",
              "\n",
              "          const docLinkHtml = 'Like what you see? Visit the ' +\n",
              "            '<a target=\"_blank\" href=https://colab.research.google.com/notebooks/data_table.ipynb>data table notebook</a>'\n",
              "            + ' to learn more about interactive tables.';\n",
              "          element.innerHTML = '';\n",
              "          dataTable['output_type'] = 'display_data';\n",
              "          await google.colab.output.renderOutput(dataTable, element);\n",
              "          const docLink = document.createElement('div');\n",
              "          docLink.innerHTML = docLinkHtml;\n",
              "          element.appendChild(docLink);\n",
              "        }\n",
              "      </script>\n",
              "    </div>\n",
              "  </div>\n",
              "  "
            ]
          },
          "metadata": {}
        },
        {
          "output_type": "display_data",
          "data": {
            "text/plain": [
              "         visitors\n",
              "count   62.000000\n",
              "mean   607.290323\n",
              "std    114.400560\n",
              "min    361.000000\n",
              "25%    534.000000\n",
              "50%    624.500000\n",
              "75%    710.500000\n",
              "max    770.000000"
            ],
            "text/html": [
              "\n",
              "  <div id=\"df-6246e20b-39f2-4592-85c0-5057b0507bf3\">\n",
              "    <div class=\"colab-df-container\">\n",
              "      <div>\n",
              "<style scoped>\n",
              "    .dataframe tbody tr th:only-of-type {\n",
              "        vertical-align: middle;\n",
              "    }\n",
              "\n",
              "    .dataframe tbody tr th {\n",
              "        vertical-align: top;\n",
              "    }\n",
              "\n",
              "    .dataframe thead th {\n",
              "        text-align: right;\n",
              "    }\n",
              "</style>\n",
              "<table border=\"1\" class=\"dataframe\">\n",
              "  <thead>\n",
              "    <tr style=\"text-align: right;\">\n",
              "      <th></th>\n",
              "      <th>visitors</th>\n",
              "    </tr>\n",
              "  </thead>\n",
              "  <tbody>\n",
              "    <tr>\n",
              "      <th>count</th>\n",
              "      <td>62.000000</td>\n",
              "    </tr>\n",
              "    <tr>\n",
              "      <th>mean</th>\n",
              "      <td>607.290323</td>\n",
              "    </tr>\n",
              "    <tr>\n",
              "      <th>std</th>\n",
              "      <td>114.400560</td>\n",
              "    </tr>\n",
              "    <tr>\n",
              "      <th>min</th>\n",
              "      <td>361.000000</td>\n",
              "    </tr>\n",
              "    <tr>\n",
              "      <th>25%</th>\n",
              "      <td>534.000000</td>\n",
              "    </tr>\n",
              "    <tr>\n",
              "      <th>50%</th>\n",
              "      <td>624.500000</td>\n",
              "    </tr>\n",
              "    <tr>\n",
              "      <th>75%</th>\n",
              "      <td>710.500000</td>\n",
              "    </tr>\n",
              "    <tr>\n",
              "      <th>max</th>\n",
              "      <td>770.000000</td>\n",
              "    </tr>\n",
              "  </tbody>\n",
              "</table>\n",
              "</div>\n",
              "      <button class=\"colab-df-convert\" onclick=\"convertToInteractive('df-6246e20b-39f2-4592-85c0-5057b0507bf3')\"\n",
              "              title=\"Convert this dataframe to an interactive table.\"\n",
              "              style=\"display:none;\">\n",
              "        \n",
              "  <svg xmlns=\"http://www.w3.org/2000/svg\" height=\"24px\"viewBox=\"0 0 24 24\"\n",
              "       width=\"24px\">\n",
              "    <path d=\"M0 0h24v24H0V0z\" fill=\"none\"/>\n",
              "    <path d=\"M18.56 5.44l.94 2.06.94-2.06 2.06-.94-2.06-.94-.94-2.06-.94 2.06-2.06.94zm-11 1L8.5 8.5l.94-2.06 2.06-.94-2.06-.94L8.5 2.5l-.94 2.06-2.06.94zm10 10l.94 2.06.94-2.06 2.06-.94-2.06-.94-.94-2.06-.94 2.06-2.06.94z\"/><path d=\"M17.41 7.96l-1.37-1.37c-.4-.4-.92-.59-1.43-.59-.52 0-1.04.2-1.43.59L10.3 9.45l-7.72 7.72c-.78.78-.78 2.05 0 2.83L4 21.41c.39.39.9.59 1.41.59.51 0 1.02-.2 1.41-.59l7.78-7.78 2.81-2.81c.8-.78.8-2.07 0-2.86zM5.41 20L4 18.59l7.72-7.72 1.47 1.35L5.41 20z\"/>\n",
              "  </svg>\n",
              "      </button>\n",
              "      \n",
              "  <style>\n",
              "    .colab-df-container {\n",
              "      display:flex;\n",
              "      flex-wrap:wrap;\n",
              "      gap: 12px;\n",
              "    }\n",
              "\n",
              "    .colab-df-convert {\n",
              "      background-color: #E8F0FE;\n",
              "      border: none;\n",
              "      border-radius: 50%;\n",
              "      cursor: pointer;\n",
              "      display: none;\n",
              "      fill: #1967D2;\n",
              "      height: 32px;\n",
              "      padding: 0 0 0 0;\n",
              "      width: 32px;\n",
              "    }\n",
              "\n",
              "    .colab-df-convert:hover {\n",
              "      background-color: #E2EBFA;\n",
              "      box-shadow: 0px 1px 2px rgba(60, 64, 67, 0.3), 0px 1px 3px 1px rgba(60, 64, 67, 0.15);\n",
              "      fill: #174EA6;\n",
              "    }\n",
              "\n",
              "    [theme=dark] .colab-df-convert {\n",
              "      background-color: #3B4455;\n",
              "      fill: #D2E3FC;\n",
              "    }\n",
              "\n",
              "    [theme=dark] .colab-df-convert:hover {\n",
              "      background-color: #434B5C;\n",
              "      box-shadow: 0px 1px 3px 1px rgba(0, 0, 0, 0.15);\n",
              "      filter: drop-shadow(0px 1px 2px rgba(0, 0, 0, 0.3));\n",
              "      fill: #FFFFFF;\n",
              "    }\n",
              "  </style>\n",
              "\n",
              "      <script>\n",
              "        const buttonEl =\n",
              "          document.querySelector('#df-6246e20b-39f2-4592-85c0-5057b0507bf3 button.colab-df-convert');\n",
              "        buttonEl.style.display =\n",
              "          google.colab.kernel.accessAllowed ? 'block' : 'none';\n",
              "\n",
              "        async function convertToInteractive(key) {\n",
              "          const element = document.querySelector('#df-6246e20b-39f2-4592-85c0-5057b0507bf3');\n",
              "          const dataTable =\n",
              "            await google.colab.kernel.invokeFunction('convertToInteractive',\n",
              "                                                     [key], {});\n",
              "          if (!dataTable) return;\n",
              "\n",
              "          const docLinkHtml = 'Like what you see? Visit the ' +\n",
              "            '<a target=\"_blank\" href=https://colab.research.google.com/notebooks/data_table.ipynb>data table notebook</a>'\n",
              "            + ' to learn more about interactive tables.';\n",
              "          element.innerHTML = '';\n",
              "          dataTable['output_type'] = 'display_data';\n",
              "          await google.colab.output.renderOutput(dataTable, element);\n",
              "          const docLink = document.createElement('div');\n",
              "          docLink.innerHTML = docLinkHtml;\n",
              "          element.appendChild(docLink);\n",
              "        }\n",
              "      </script>\n",
              "    </div>\n",
              "  </div>\n",
              "  "
            ]
          },
          "metadata": {}
        }
      ],
      "source": [
        "display(orders.describe())\n",
        "display(visitors.describe())"
      ]
    },
    {
      "cell_type": "markdown",
      "metadata": {
        "id": "fj4bLWBHxPiS"
      },
      "source": [
        "Переименуем столбцы: приведем к нижнему регистру и \"змеиному\" стилю."
      ]
    },
    {
      "cell_type": "code",
      "execution_count": 22,
      "metadata": {
        "id": "5IvmoXSkxPiS"
      },
      "outputs": [],
      "source": [
        "orders = orders.rename(\n",
        " columns={\n",
        "'transactionId' : 'transaction_id',\n",
        "'visitorId' : 'visitor_id'}\n",
        ")"
      ]
    },
    {
      "cell_type": "markdown",
      "metadata": {
        "id": "8408R-xIxPiS"
      },
      "source": [
        "Поменяем формат дат."
      ]
    },
    {
      "cell_type": "code",
      "execution_count": 23,
      "metadata": {
        "id": "Cg36b-zrxPiT"
      },
      "outputs": [],
      "source": [
        "visitors['date'] = visitors['date'].map(\n",
        "    lambda x: dt.datetime.strptime(x, '%Y-%m-%d')\n",
        ")"
      ]
    },
    {
      "cell_type": "code",
      "execution_count": 24,
      "metadata": {
        "id": "q59L0KNExPiT"
      },
      "outputs": [],
      "source": [
        "orders['date'] = orders['date'].map(\n",
        "    lambda x: dt.datetime.strptime(x, '%Y-%m-%d')\n",
        ")"
      ]
    },
    {
      "cell_type": "markdown",
      "metadata": {
        "id": "SlS-AkpXxPid"
      },
      "source": [
        "Посчитаем дупликаты."
      ]
    },
    {
      "cell_type": "code",
      "execution_count": 25,
      "metadata": {
        "colab": {
          "base_uri": "https://localhost:8080/"
        },
        "id": "xBKSRH5wxPid",
        "outputId": "f68d56be-f28e-4154-c56e-90c0c42e3924"
      },
      "outputs": [
        {
          "output_type": "execute_result",
          "data": {
            "text/plain": [
              "0"
            ]
          },
          "metadata": {},
          "execution_count": 25
        }
      ],
      "source": [
        "orders.duplicated().sum()"
      ]
    },
    {
      "cell_type": "code",
      "execution_count": 26,
      "metadata": {
        "colab": {
          "base_uri": "https://localhost:8080/"
        },
        "id": "Y6VIzYWexPid",
        "outputId": "8aab56e6-fcea-4ae6-df56-264a3f38499c"
      },
      "outputs": [
        {
          "output_type": "execute_result",
          "data": {
            "text/plain": [
              "0"
            ]
          },
          "metadata": {},
          "execution_count": 26
        }
      ],
      "source": [
        "visitors.duplicated().sum()"
      ]
    },
    {
      "cell_type": "markdown",
      "metadata": {
        "id": "cY9EB3JaxPie"
      },
      "source": [
        "Посчитаем пропуски."
      ]
    },
    {
      "cell_type": "code",
      "execution_count": 27,
      "metadata": {
        "colab": {
          "base_uri": "https://localhost:8080/"
        },
        "id": "rvMWoB9KxPie",
        "outputId": "2773c15a-940b-411a-c7fb-5e46d5e6d615"
      },
      "outputs": [
        {
          "output_type": "execute_result",
          "data": {
            "text/plain": [
              "transaction_id    0\n",
              "visitor_id        0\n",
              "date              0\n",
              "revenue           0\n",
              "group             0\n",
              "dtype: int64"
            ]
          },
          "metadata": {},
          "execution_count": 27
        }
      ],
      "source": [
        "orders.isna().sum().sort_values()"
      ]
    },
    {
      "cell_type": "code",
      "execution_count": 28,
      "metadata": {
        "colab": {
          "base_uri": "https://localhost:8080/"
        },
        "id": "Is4VSv-uxPie",
        "outputId": "151e4a15-ceef-4b3e-90a1-1a584886490f"
      },
      "outputs": [
        {
          "output_type": "execute_result",
          "data": {
            "text/plain": [
              "date        0\n",
              "group       0\n",
              "visitors    0\n",
              "dtype: int64"
            ]
          },
          "metadata": {},
          "execution_count": 28
        }
      ],
      "source": [
        "visitors.isna().sum().sort_values()"
      ]
    },
    {
      "cell_type": "markdown",
      "metadata": {
        "id": "pPzPWl2AxPie"
      },
      "source": [
        "Проверим сколько групп в тестах."
      ]
    },
    {
      "cell_type": "code",
      "execution_count": 29,
      "metadata": {
        "colab": {
          "base_uri": "https://localhost:8080/"
        },
        "id": "beL46JcDxPif",
        "outputId": "ee8d84a2-6658-499a-ee02-5af918d95c2c"
      },
      "outputs": [
        {
          "output_type": "execute_result",
          "data": {
            "text/plain": [
              "array(['B', 'A'], dtype=object)"
            ]
          },
          "metadata": {},
          "execution_count": 29
        }
      ],
      "source": [
        "orders['group'].unique()"
      ]
    },
    {
      "cell_type": "code",
      "execution_count": 30,
      "metadata": {
        "colab": {
          "base_uri": "https://localhost:8080/"
        },
        "id": "SsslMw32xPif",
        "outputId": "d8b8e6ba-e211-4053-bd05-cef150b189ac"
      },
      "outputs": [
        {
          "output_type": "execute_result",
          "data": {
            "text/plain": [
              "array(['A', 'B'], dtype=object)"
            ]
          },
          "metadata": {},
          "execution_count": 30
        }
      ],
      "source": [
        "visitors['group'].unique()"
      ]
    },
    {
      "cell_type": "markdown",
      "metadata": {
        "id": "4mDiO1XyxPif"
      },
      "source": [
        "Посмотрим на количество пользователей, которые попали в обе группы."
      ]
    },
    {
      "cell_type": "code",
      "execution_count": 31,
      "metadata": {
        "scrolled": true,
        "colab": {
          "base_uri": "https://localhost:8080/"
        },
        "id": "zPwLqN8lxPif",
        "outputId": "1bba0bbd-7bed-4cb8-db4c-a63c9aa71338"
      },
      "outputs": [
        {
          "output_type": "execute_result",
          "data": {
            "text/plain": [
              "group    58\n",
              "dtype: int64"
            ]
          },
          "metadata": {},
          "execution_count": 31
        }
      ],
      "source": [
        "orders.groupby('visitor_id').agg({'group' : 'nunique'}).query('group>1').count()"
      ]
    },
    {
      "cell_type": "markdown",
      "metadata": {
        "id": "RoPk-gQaxPig"
      },
      "source": [
        "Удалим их."
      ]
    },
    {
      "cell_type": "code",
      "execution_count": 32,
      "metadata": {
        "id": "YKvpTNJmxPig"
      },
      "outputs": [],
      "source": [
        "ab_users = orders.groupby('visitor_id').agg({'group' : 'nunique'}).reset_index().query('group>1')['visitor_id'].unique()"
      ]
    },
    {
      "cell_type": "code",
      "execution_count": 33,
      "metadata": {
        "id": "itN2z4X9xPig"
      },
      "outputs": [],
      "source": [
        "orders = orders.query('visitor_id not in @ab_users')"
      ]
    },
    {
      "cell_type": "code",
      "execution_count": 34,
      "metadata": {
        "colab": {
          "base_uri": "https://localhost:8080/"
        },
        "id": "8nLsEpJtxPih",
        "outputId": "dd61d99e-31be-4140-8fff-7b75a1b4fa09"
      },
      "outputs": [
        {
          "output_type": "execute_result",
          "data": {
            "text/plain": [
              "group    0\n",
              "dtype: int64"
            ]
          },
          "metadata": {},
          "execution_count": 34
        }
      ],
      "source": [
        "#check\n",
        "orders.groupby('visitor_id').agg({'group' : 'nunique'}).query('group>1').count()"
      ]
    },
    {
      "cell_type": "markdown",
      "metadata": {
        "id": "077Kwv2XxPih"
      },
      "source": [
        "Предобработка закончена: дупликатов и пропусков нет, названия столбцов и формат даты изменены, пользователей в 2х группах удалены."
      ]
    },
    {
      "cell_type": "markdown",
      "metadata": {
        "id": "sh5gMRAqxPih"
      },
      "source": [
        "### График кумулятивной выручки по группам"
      ]
    },
    {
      "cell_type": "code",
      "execution_count": 35,
      "metadata": {
        "id": "Rmshkn3LxPii"
      },
      "outputs": [],
      "source": [
        "#Создадим массив уникальных пар значений дат и групп теста\n",
        "datesGroups = orders[['date','group']].drop_duplicates()"
      ]
    },
    {
      "cell_type": "code",
      "execution_count": 36,
      "metadata": {
        "id": "AC4vcd7FxPii"
      },
      "outputs": [],
      "source": [
        "#Получаем агрегированные кумулятивные по дням данные о заказах \n",
        "ordersAggregated = datesGroups.apply(lambda x: orders[np.logical_and(orders['date'] <= x['date'], orders['group'] == x['group'])]. \\\n",
        "                                     agg({'date' : 'max', \n",
        "                                          'group' : 'max', \n",
        "                                          'transaction_id' : pd.Series.nunique, \n",
        "                                          'visitor_id' : pd.Series.nunique, \n",
        "                                          'revenue' : 'sum'}), axis=1).sort_values(by=['date','group'])"
      ]
    },
    {
      "cell_type": "code",
      "execution_count": 37,
      "metadata": {
        "id": "8kG9UUfRxPii"
      },
      "outputs": [],
      "source": [
        "#Получаем агрегированные кумулятивные по дням данные о посетителях интернет-магазина \n",
        "visitorsAggregated = datesGroups.apply(lambda x: visitors[np.logical_and(visitors['date'] <= x['date'], visitors['group'] == x['group'])]. \\\n",
        "                                       agg({'date' : 'max', \n",
        "                                            'group' : 'max', \n",
        "                                            'visitors' : 'sum'}), axis=1).sort_values(by=['date','group'])"
      ]
    },
    {
      "cell_type": "code",
      "execution_count": 38,
      "metadata": {
        "id": "TKkgjxmcxPii"
      },
      "outputs": [],
      "source": [
        "#Объединим кумулятивные данные в одной таблице и присваиваем ее столбцам понятные названия\n",
        "cumulativeData = ordersAggregated.merge(visitorsAggregated, left_on=['date', 'group'], right_on=['date', 'group'])"
      ]
    },
    {
      "cell_type": "code",
      "execution_count": 39,
      "metadata": {
        "id": "DXNcF0WJxPij"
      },
      "outputs": [],
      "source": [
        "#Переименуем столбцы\n",
        "cumulativeData.columns = ['date', 'group', 'orders', 'buyers', 'revenue', 'visitors']"
      ]
    },
    {
      "cell_type": "code",
      "execution_count": 40,
      "metadata": {
        "colab": {
          "base_uri": "https://localhost:8080/",
          "height": 206
        },
        "id": "PDQH2HPdxPij",
        "outputId": "85271c2c-d005-481c-8633-d62101485fce"
      },
      "outputs": [
        {
          "output_type": "execute_result",
          "data": {
            "text/plain": [
              "        date group  orders  buyers  revenue  visitors\n",
              "0 2019-08-01     A      23      19   142779       719\n",
              "1 2019-08-01     B      17      17    59758       713\n",
              "2 2019-08-02     A      42      36   234381      1338\n",
              "3 2019-08-02     B      40      39   221801      1294\n",
              "4 2019-08-03     A      66      60   346854      1845"
            ],
            "text/html": [
              "\n",
              "  <div id=\"df-599cd30b-cb65-42a6-bd42-1d31023a4533\">\n",
              "    <div class=\"colab-df-container\">\n",
              "      <div>\n",
              "<style scoped>\n",
              "    .dataframe tbody tr th:only-of-type {\n",
              "        vertical-align: middle;\n",
              "    }\n",
              "\n",
              "    .dataframe tbody tr th {\n",
              "        vertical-align: top;\n",
              "    }\n",
              "\n",
              "    .dataframe thead th {\n",
              "        text-align: right;\n",
              "    }\n",
              "</style>\n",
              "<table border=\"1\" class=\"dataframe\">\n",
              "  <thead>\n",
              "    <tr style=\"text-align: right;\">\n",
              "      <th></th>\n",
              "      <th>date</th>\n",
              "      <th>group</th>\n",
              "      <th>orders</th>\n",
              "      <th>buyers</th>\n",
              "      <th>revenue</th>\n",
              "      <th>visitors</th>\n",
              "    </tr>\n",
              "  </thead>\n",
              "  <tbody>\n",
              "    <tr>\n",
              "      <th>0</th>\n",
              "      <td>2019-08-01</td>\n",
              "      <td>A</td>\n",
              "      <td>23</td>\n",
              "      <td>19</td>\n",
              "      <td>142779</td>\n",
              "      <td>719</td>\n",
              "    </tr>\n",
              "    <tr>\n",
              "      <th>1</th>\n",
              "      <td>2019-08-01</td>\n",
              "      <td>B</td>\n",
              "      <td>17</td>\n",
              "      <td>17</td>\n",
              "      <td>59758</td>\n",
              "      <td>713</td>\n",
              "    </tr>\n",
              "    <tr>\n",
              "      <th>2</th>\n",
              "      <td>2019-08-02</td>\n",
              "      <td>A</td>\n",
              "      <td>42</td>\n",
              "      <td>36</td>\n",
              "      <td>234381</td>\n",
              "      <td>1338</td>\n",
              "    </tr>\n",
              "    <tr>\n",
              "      <th>3</th>\n",
              "      <td>2019-08-02</td>\n",
              "      <td>B</td>\n",
              "      <td>40</td>\n",
              "      <td>39</td>\n",
              "      <td>221801</td>\n",
              "      <td>1294</td>\n",
              "    </tr>\n",
              "    <tr>\n",
              "      <th>4</th>\n",
              "      <td>2019-08-03</td>\n",
              "      <td>A</td>\n",
              "      <td>66</td>\n",
              "      <td>60</td>\n",
              "      <td>346854</td>\n",
              "      <td>1845</td>\n",
              "    </tr>\n",
              "  </tbody>\n",
              "</table>\n",
              "</div>\n",
              "      <button class=\"colab-df-convert\" onclick=\"convertToInteractive('df-599cd30b-cb65-42a6-bd42-1d31023a4533')\"\n",
              "              title=\"Convert this dataframe to an interactive table.\"\n",
              "              style=\"display:none;\">\n",
              "        \n",
              "  <svg xmlns=\"http://www.w3.org/2000/svg\" height=\"24px\"viewBox=\"0 0 24 24\"\n",
              "       width=\"24px\">\n",
              "    <path d=\"M0 0h24v24H0V0z\" fill=\"none\"/>\n",
              "    <path d=\"M18.56 5.44l.94 2.06.94-2.06 2.06-.94-2.06-.94-.94-2.06-.94 2.06-2.06.94zm-11 1L8.5 8.5l.94-2.06 2.06-.94-2.06-.94L8.5 2.5l-.94 2.06-2.06.94zm10 10l.94 2.06.94-2.06 2.06-.94-2.06-.94-.94-2.06-.94 2.06-2.06.94z\"/><path d=\"M17.41 7.96l-1.37-1.37c-.4-.4-.92-.59-1.43-.59-.52 0-1.04.2-1.43.59L10.3 9.45l-7.72 7.72c-.78.78-.78 2.05 0 2.83L4 21.41c.39.39.9.59 1.41.59.51 0 1.02-.2 1.41-.59l7.78-7.78 2.81-2.81c.8-.78.8-2.07 0-2.86zM5.41 20L4 18.59l7.72-7.72 1.47 1.35L5.41 20z\"/>\n",
              "  </svg>\n",
              "      </button>\n",
              "      \n",
              "  <style>\n",
              "    .colab-df-container {\n",
              "      display:flex;\n",
              "      flex-wrap:wrap;\n",
              "      gap: 12px;\n",
              "    }\n",
              "\n",
              "    .colab-df-convert {\n",
              "      background-color: #E8F0FE;\n",
              "      border: none;\n",
              "      border-radius: 50%;\n",
              "      cursor: pointer;\n",
              "      display: none;\n",
              "      fill: #1967D2;\n",
              "      height: 32px;\n",
              "      padding: 0 0 0 0;\n",
              "      width: 32px;\n",
              "    }\n",
              "\n",
              "    .colab-df-convert:hover {\n",
              "      background-color: #E2EBFA;\n",
              "      box-shadow: 0px 1px 2px rgba(60, 64, 67, 0.3), 0px 1px 3px 1px rgba(60, 64, 67, 0.15);\n",
              "      fill: #174EA6;\n",
              "    }\n",
              "\n",
              "    [theme=dark] .colab-df-convert {\n",
              "      background-color: #3B4455;\n",
              "      fill: #D2E3FC;\n",
              "    }\n",
              "\n",
              "    [theme=dark] .colab-df-convert:hover {\n",
              "      background-color: #434B5C;\n",
              "      box-shadow: 0px 1px 3px 1px rgba(0, 0, 0, 0.15);\n",
              "      filter: drop-shadow(0px 1px 2px rgba(0, 0, 0, 0.3));\n",
              "      fill: #FFFFFF;\n",
              "    }\n",
              "  </style>\n",
              "\n",
              "      <script>\n",
              "        const buttonEl =\n",
              "          document.querySelector('#df-599cd30b-cb65-42a6-bd42-1d31023a4533 button.colab-df-convert');\n",
              "        buttonEl.style.display =\n",
              "          google.colab.kernel.accessAllowed ? 'block' : 'none';\n",
              "\n",
              "        async function convertToInteractive(key) {\n",
              "          const element = document.querySelector('#df-599cd30b-cb65-42a6-bd42-1d31023a4533');\n",
              "          const dataTable =\n",
              "            await google.colab.kernel.invokeFunction('convertToInteractive',\n",
              "                                                     [key], {});\n",
              "          if (!dataTable) return;\n",
              "\n",
              "          const docLinkHtml = 'Like what you see? Visit the ' +\n",
              "            '<a target=\"_blank\" href=https://colab.research.google.com/notebooks/data_table.ipynb>data table notebook</a>'\n",
              "            + ' to learn more about interactive tables.';\n",
              "          element.innerHTML = '';\n",
              "          dataTable['output_type'] = 'display_data';\n",
              "          await google.colab.output.renderOutput(dataTable, element);\n",
              "          const docLink = document.createElement('div');\n",
              "          docLink.innerHTML = docLinkHtml;\n",
              "          element.appendChild(docLink);\n",
              "        }\n",
              "      </script>\n",
              "    </div>\n",
              "  </div>\n",
              "  "
            ]
          },
          "metadata": {},
          "execution_count": 40
        }
      ],
      "source": [
        "cumulativeData.head(5)"
      ]
    },
    {
      "cell_type": "markdown",
      "metadata": {
        "id": "ZLrNi7EaxPij"
      },
      "source": [
        "Строим график"
      ]
    },
    {
      "cell_type": "code",
      "execution_count": 41,
      "metadata": {
        "colab": {
          "base_uri": "https://localhost:8080/",
          "height": 978
        },
        "id": "I1qV16FExPik",
        "outputId": "cd61eb20-97be-4ab5-d8eb-a7a04e4408f1"
      },
      "outputs": [
        {
          "output_type": "display_data",
          "data": {
            "text/plain": [
              "<Figure size 1600x1000 with 1 Axes>"
            ],
            "image/png": "[encoded data removed]"
          },
          "metadata": {}
        }
      ],
      "source": [
        "# датафрейм с кумулятивным количеством заказов и кумулятивной выручкой по дням в группе А\n",
        "cumulativeRevenueA = cumulativeData[cumulativeData['group']=='A'][['date','revenue', 'orders']]\n",
        "# датафрейм с кумулятивным количеством заказов и кумулятивной выручкой по дням в группе B\n",
        "cumulativeRevenueB = cumulativeData[cumulativeData['group']=='B'][['date','revenue', 'orders']]\n",
        "\n",
        "from pandas.plotting import register_matplotlib_converters\n",
        "register_matplotlib_converters()\n",
        "\n",
        "plt.figure(figsize=(16,10))\n",
        "plt.plot(cumulativeRevenueA['date'], cumulativeRevenueA['revenue'], label='Группа A')\n",
        "plt.plot(cumulativeRevenueB['date'], cumulativeRevenueB['revenue'], label='Группа B')\n",
        "plt.title('Кумулятивная выручка по группам\\n' + \"\\n\", fontsize = 22, color = 'SteelBlue') \n",
        "plt.xlabel('\\nДата', fontsize =16)\n",
        "plt.ylabel('Выручка\\n', fontsize =16)\n",
        "plt.grid()\n",
        "plt.legend();"
      ]
    },
    {
      "cell_type": "markdown",
      "metadata": {
        "id": "Iqa-nywyxPik"
      },
      "source": [
        "На графике виден скачек в группе В, примерно после 18-20 августа. Возможно стало сильно больше заказов в эти дни, либо увелиился средний чек за покупку. Будем смотреть дальше."
      ]
    },
    {
      "cell_type": "markdown",
      "metadata": {
        "id": "5OWEOWZBxPil"
      },
      "source": [
        "### График кумулятивного среднего чека по группам"
      ]
    },
    {
      "cell_type": "code",
      "execution_count": 42,
      "metadata": {
        "colab": {
          "base_uri": "https://localhost:8080/",
          "height": 944
        },
        "id": "LBdqsrtfxPil",
        "outputId": "39e575ef-4b86-4543-91bd-84cb0622d38c"
      },
      "outputs": [
        {
          "output_type": "display_data",
          "data": {
            "text/plain": [
              "<Figure size 1600x1000 with 1 Axes>"
            ],
            "image/png": "[encoded data removed]"
          },
          "metadata": {}
        }
      ],
      "source": [
        "plt.figure(figsize=(16,10))\n",
        "plt.grid()\n",
        "plt.plot(cumulativeRevenueA['date'], cumulativeRevenueA['revenue']/cumulativeRevenueA['orders'], label='Группа A')\n",
        "plt.plot(cumulativeRevenueB['date'], cumulativeRevenueB['revenue']/cumulativeRevenueB['orders'], label='Группа B')\n",
        "plt.title('Кумулятивный средний чек по группам'  + \"\\n\", fontsize = 22, color = 'SteelBlue')\n",
        "plt.xlabel('\\nДата', fontsize =16)\n",
        "plt.ylabel('Сумма среднего чека\\n', fontsize =16)\n",
        "plt.legend() ;"
      ]
    },
    {
      "cell_type": "markdown",
      "metadata": {
        "id": "MTJtFjDtxPil"
      },
      "source": [
        "Видим скачек среднего чека в те же даты с 18 по 20 августа. Это не очень хорошо, возможно есть аномальные значения, которые так сильно изменяют картину."
      ]
    },
    {
      "cell_type": "markdown",
      "metadata": {
        "id": "zDyJo_0uxPil"
      },
      "source": [
        "### График относительного изменения кумулятивного среднего чека группы B к группе A"
      ]
    },
    {
      "cell_type": "code",
      "execution_count": 43,
      "metadata": {
        "colab": {
          "base_uri": "https://localhost:8080/",
          "height": 790
        },
        "id": "u1DtimASxPim",
        "outputId": "5ce95e65-4a50-44ab-9ce3-1499f00c9599"
      },
      "outputs": [
        {
          "output_type": "display_data",
          "data": {
            "text/plain": [
              "<Figure size 1600x800 with 1 Axes>"
            ],
            "image/png": "[encoded data removed]"
          },
          "metadata": {}
        }
      ],
      "source": [
        "# собираем данные в одном датафрейме\n",
        "mergedCumulativeRevenue = cumulativeRevenueA.merge(cumulativeRevenueB, left_on='date', right_on='date', how='left', suffixes=['A', 'B'])\n",
        "\n",
        "# cтроим отношение средних чеков\n",
        "plt.figure(figsize=(16,8))\n",
        "plt.grid()\n",
        "plt.plot(mergedCumulativeRevenue['date'], (mergedCumulativeRevenue['revenueB']/mergedCumulativeRevenue['ordersB'])/(mergedCumulativeRevenue['revenueA']/mergedCumulativeRevenue['ordersA'])-1)\n",
        "plt.title('График относительного изменения кумулятивного среднего чека группы B к группе A\\n ', fontsize = 22, color = 'SteelBlue')\n",
        "plt.xlabel('\\nДата', fontsize = 16)\n",
        "plt.ylabel('Изменение среденего чека \\n', fontsize = 16)\n",
        "# добавляем ось X\n",
        "plt.axhline(y=0, color='black', linestyle='--');"
      ]
    },
    {
      "cell_type": "markdown",
      "metadata": {
        "id": "JbBjNXoRxPim"
      },
      "source": [
        "Видим как меняется чек в определенные даты. В начале месяца наблюдается рост, но это только начало теста. К середине теста 18-20 августа видим непредсказуемый резкий скачек на 50%"
      ]
    },
    {
      "cell_type": "markdown",
      "metadata": {
        "id": "YKMSe6sHxPim"
      },
      "source": [
        "### График кумулятивного среднего количества заказов на посетителя по группам"
      ]
    },
    {
      "cell_type": "markdown",
      "metadata": {
        "id": "9bFny2rxxPim"
      },
      "source": [
        "Построим график кумулятивного среднего количества заказов на посетителя или по сути конверсию(посетитель становится покупателем)."
      ]
    },
    {
      "cell_type": "code",
      "execution_count": 44,
      "metadata": {
        "colab": {
          "base_uri": "https://localhost:8080/",
          "height": 808
        },
        "id": "gNIyohrZxPin",
        "outputId": "f5ff7a94-7efb-4fd9-fa3d-589884cd7e45"
      },
      "outputs": [
        {
          "output_type": "execute_result",
          "data": {
            "text/plain": [
              "''"
            ],
            "application/vnd.google.colaboratory.intrinsic+json": {
              "type": "string"
            }
          },
          "metadata": {},
          "execution_count": 44
        },
        {
          "output_type": "display_data",
          "data": {
            "text/plain": [
              "<Figure size 1600x800 with 1 Axes>"
            ],
            "image/png": "[encoded data removed]"
          },
          "metadata": {}
        }
      ],
      "source": [
        "cumulativeData['conversion'] = cumulativeData['orders']/cumulativeData['visitors']\n",
        "\n",
        "# отделяем данные по группе A\n",
        "cumulativeDataA = cumulativeData[cumulativeData['group']=='A']\n",
        "\n",
        "# отделяем данные по группе B\n",
        "cumulativeDataB = cumulativeData[cumulativeData['group']=='B']\n",
        "\n",
        "# строим графики\n",
        "plt.figure(figsize=(16,8))\n",
        "plt.grid()\n",
        "plt.plot(cumulativeDataA['date'], cumulativeDataA['conversion'], label='Группа A')\n",
        "plt.plot(cumulativeDataB['date'], cumulativeDataB['conversion'], label='Группа B')\n",
        "plt.legend()\n",
        "plt.title('График среднего количества заказов на посетителя по группам\\n  ', fontsize = 22, color = 'SteelBlue')\n",
        "plt.xlabel('\\nДата', fontsize = 16)\n",
        "plt.ylabel('Конверсия\\n', fontsize = 16)\n",
        "# задаем масштаб осей\n",
        "plt.axis([dt.datetime(2019, 8, 1), dt.datetime(2019, 9, 1), 0, 0.05])\n",
        "plt.ylim((0.0225,0.0375))\n",
        ";"
      ]
    },
    {
      "cell_type": "markdown",
      "metadata": {
        "id": "rnNrOFyBxPin"
      },
      "source": [
        "В начале теста группа А лидировала, но потом группа В обогнала ее и зафиксировалась стабильно выше группы А примерно на 0.5-1.5%."
      ]
    },
    {
      "cell_type": "markdown",
      "metadata": {
        "id": "6TzzLrEyxPio"
      },
      "source": [
        "### График относительного изменения кумулятивного среднего количества заказов на посетителя группы B к группе A"
      ]
    },
    {
      "cell_type": "code",
      "execution_count": 45,
      "metadata": {
        "colab": {
          "base_uri": "https://localhost:8080/",
          "height": 559
        },
        "id": "0repKv64xPio",
        "outputId": "05b00c60-ed34-4df2-f303-493885a9c015"
      },
      "outputs": [
        {
          "output_type": "display_data",
          "data": {
            "text/plain": [
              "<Figure size 1500x500 with 1 Axes>"
            ],
            "image/png": "[encoded data removed]"
          },
          "metadata": {}
        }
      ],
      "source": [
        "mergedCumulativeConversions = cumulativeDataA[['date','conversion']].merge(cumulativeDataB[['date','conversion']], left_on='date', right_on='date', how='left', suffixes=['A', 'B'])\n",
        "plt.figure(figsize=(15,5))\n",
        "plt.grid()\n",
        "plt.plot(mergedCumulativeConversions['date'], mergedCumulativeConversions['conversionB']/mergedCumulativeConversions['conversionA']-1, label=\"Относительный прирост  B к A\")\n",
        "plt.legend()\n",
        "\n",
        "plt.axhline(y=0, color='black', linestyle='--')\n",
        "plt.axhline(y=0.2, color='grey', linestyle='--')\n",
        "plt.axis([\"2019-08-01\", '2019-09-01', -0.4, 0.4])\n",
        "plt.title('График относительного изменения кумулятивного среднего количества заказов на посетителя группы B к A \\n  ', fontsize = 22, color = 'SteelBlue')\n",
        "plt.xlabel('\\nДата', fontsize = 16)\n",
        "plt.ylabel('Относительное изменение\\n', fontsize = 16);"
      ]
    },
    {
      "cell_type": "markdown",
      "metadata": {
        "id": "p5NatHbCxPio"
      },
      "source": [
        "Как видно было раньше, группа В имеет большее значение среднего количества заказов на посетителя чем группа А примерно на 12-17% относительно друг друга."
      ]
    },
    {
      "cell_type": "markdown",
      "metadata": {
        "id": "9sBZu6p4xPip"
      },
      "source": [
        "### Точечный график количества заказов по пользователям"
      ]
    },
    {
      "cell_type": "code",
      "execution_count": 46,
      "metadata": {
        "colab": {
          "base_uri": "https://localhost:8080/",
          "height": 559
        },
        "id": "vHin7qt2xPiq",
        "outputId": "50e742ed-fba5-4d74-afb7-4b25b8bc2efc"
      },
      "outputs": [
        {
          "output_type": "display_data",
          "data": {
            "text/plain": [
              "<Figure size 1500x500 with 1 Axes>"
            ],
            "image/png": "[encoded data removed]"
          },
          "metadata": {}
        }
      ],
      "source": [
        "ordersByUsers = orders.drop(['group', 'revenue', 'date'], axis=1).groupby('visitor_id', as_index=False). \\\n",
        "                                                                        agg({'transaction_id' : pd.Series.nunique})\n",
        "\n",
        "ordersByUsers.columns = ['user_id','orders']\n",
        "\n",
        "ordersByUsers.sort_values(by='orders',ascending=False).head(10)\n",
        "\n",
        "# серия из чисел от 0 до количества наблюдений в ordersByUsers\n",
        "plt.figure(figsize=(15,5))\n",
        "plt.grid()\n",
        "plt.title('График количества заказов по пользователям\\n  ', fontsize = 22, color = 'SteelBlue')\n",
        "plt.xlabel('\\nКол-во пользователей', fontsize = 16)\n",
        "plt.ylabel('Кол-во заказов\\n', fontsize = 16)\n",
        "x_values = pd.Series(range(0, len(ordersByUsers)))\n",
        "plt.scatter(x_values, ordersByUsers['orders'], alpha=0.25);"
      ]
    },
    {
      "cell_type": "markdown",
      "metadata": {
        "id": "fLQtr4GQxPiq"
      },
      "source": [
        "Большинство посетителей совершило 1 заказ, небольшая часть - 2, и несколько человек сделало 3 заказа. Не исключено, то такие пользователи являются выбросами."
      ]
    },
    {
      "cell_type": "markdown",
      "metadata": {
        "id": "VL9mKhQlxPiq"
      },
      "source": [
        "### 95-й и 99-й перцентили количества заказов на пользователя"
      ]
    },
    {
      "cell_type": "markdown",
      "metadata": {
        "id": "urEZujX3xPiq"
      },
      "source": [
        "Найдем границу."
      ]
    },
    {
      "cell_type": "code",
      "execution_count": 47,
      "metadata": {
        "colab": {
          "base_uri": "https://localhost:8080/"
        },
        "id": "QO0orccXxPir",
        "outputId": "f1da15e2-4cd6-4216-927f-b4c16afd5412"
      },
      "outputs": [
        {
          "output_type": "stream",
          "name": "stdout",
          "text": [
            "[1. 2.]\n"
          ]
        }
      ],
      "source": [
        "print(np.percentile(ordersByUsers['orders'], [95, 99])) "
      ]
    },
    {
      "cell_type": "markdown",
      "metadata": {
        "id": "bMQdhHWdxPir"
      },
      "source": [
        "95% пользователей совершают не больше 1 заказа, 99% совершают 2, значит все остальное - аномалия, т.е. посетители сделавшие 3 заказа."
      ]
    },
    {
      "cell_type": "markdown",
      "metadata": {
        "id": "VaKZZGmhxPir"
      },
      "source": [
        "### Точечныей график стоимостей заказов"
      ]
    },
    {
      "cell_type": "code",
      "execution_count": 48,
      "metadata": {
        "colab": {
          "base_uri": "https://localhost:8080/",
          "height": 790
        },
        "id": "vvB01mvNxPis",
        "outputId": "7067bcfb-2416-4e35-959d-f69c4271c427"
      },
      "outputs": [
        {
          "output_type": "display_data",
          "data": {
            "text/plain": [
              "<Figure size 1600x800 with 1 Axes>"
            ],
            "image/png": "[encoded data removed]"
          },
          "metadata": {}
        }
      ],
      "source": [
        "x_values = pd.Series(range(0,len(orders['revenue'])))\n",
        "plt.figure(figsize=(16,8))\n",
        "plt.grid()\n",
        "plt.title('График стоимостей заказов\\n ', fontsize = 22, color = 'SteelBlue')\n",
        "plt.xlabel('\\nКол-во пользователей', fontsize = 16)\n",
        "plt.ylabel('Стоимость заказа\\n', fontsize = 16)\n",
        "plt.scatter(x_values, orders['revenue'], alpha=0.4);"
      ]
    },
    {
      "cell_type": "markdown",
      "metadata": {
        "id": "0ats2TCHxPis"
      },
      "source": [
        "А вот и конкретные аномалии подъехали."
      ]
    },
    {
      "cell_type": "code",
      "execution_count": 49,
      "metadata": {
        "colab": {
          "base_uri": "https://localhost:8080/",
          "height": 112
        },
        "id": "bQCdb0R_xPis",
        "outputId": "27c596e9-ce7a-40a7-f350-06ca510ca69f"
      },
      "outputs": [
        {
          "output_type": "execute_result",
          "data": {
            "text/plain": [
              "      transaction_id  visitor_id       date  revenue group\n",
              "425        590470918  1920142716 2019-08-19  1294500     B\n",
              "1196      3936777065  2108080724 2019-08-15   202740     B"
            ],
            "text/html": [
              "\n",
              "  <div id=\"df-f54908d4-5628-41dc-b830-9d9052022bc3\">\n",
              "    <div class=\"colab-df-container\">\n",
              "      <div>\n",
              "<style scoped>\n",
              "    .dataframe tbody tr th:only-of-type {\n",
              "        vertical-align: middle;\n",
              "    }\n",
              "\n",
              "    .dataframe tbody tr th {\n",
              "        vertical-align: top;\n",
              "    }\n",
              "\n",
              "    .dataframe thead th {\n",
              "        text-align: right;\n",
              "    }\n",
              "</style>\n",
              "<table border=\"1\" class=\"dataframe\">\n",
              "  <thead>\n",
              "    <tr style=\"text-align: right;\">\n",
              "      <th></th>\n",
              "      <th>transaction_id</th>\n",
              "      <th>visitor_id</th>\n",
              "      <th>date</th>\n",
              "      <th>revenue</th>\n",
              "      <th>group</th>\n",
              "    </tr>\n",
              "  </thead>\n",
              "  <tbody>\n",
              "    <tr>\n",
              "      <th>425</th>\n",
              "      <td>590470918</td>\n",
              "      <td>1920142716</td>\n",
              "      <td>2019-08-19</td>\n",
              "      <td>1294500</td>\n",
              "      <td>B</td>\n",
              "    </tr>\n",
              "    <tr>\n",
              "      <th>1196</th>\n",
              "      <td>3936777065</td>\n",
              "      <td>2108080724</td>\n",
              "      <td>2019-08-15</td>\n",
              "      <td>202740</td>\n",
              "      <td>B</td>\n",
              "    </tr>\n",
              "  </tbody>\n",
              "</table>\n",
              "</div>\n",
              "      <button class=\"colab-df-convert\" onclick=\"convertToInteractive('df-f54908d4-5628-41dc-b830-9d9052022bc3')\"\n",
              "              title=\"Convert this dataframe to an interactive table.\"\n",
              "              style=\"display:none;\">\n",
              "        \n",
              "  <svg xmlns=\"http://www.w3.org/2000/svg\" height=\"24px\"viewBox=\"0 0 24 24\"\n",
              "       width=\"24px\">\n",
              "    <path d=\"M0 0h24v24H0V0z\" fill=\"none\"/>\n",
              "    <path d=\"M18.56 5.44l.94 2.06.94-2.06 2.06-.94-2.06-.94-.94-2.06-.94 2.06-2.06.94zm-11 1L8.5 8.5l.94-2.06 2.06-.94-2.06-.94L8.5 2.5l-.94 2.06-2.06.94zm10 10l.94 2.06.94-2.06 2.06-.94-2.06-.94-.94-2.06-.94 2.06-2.06.94z\"/><path d=\"M17.41 7.96l-1.37-1.37c-.4-.4-.92-.59-1.43-.59-.52 0-1.04.2-1.43.59L10.3 9.45l-7.72 7.72c-.78.78-.78 2.05 0 2.83L4 21.41c.39.39.9.59 1.41.59.51 0 1.02-.2 1.41-.59l7.78-7.78 2.81-2.81c.8-.78.8-2.07 0-2.86zM5.41 20L4 18.59l7.72-7.72 1.47 1.35L5.41 20z\"/>\n",
              "  </svg>\n",
              "      </button>\n",
              "      \n",
              "  <style>\n",
              "    .colab-df-container {\n",
              "      display:flex;\n",
              "      flex-wrap:wrap;\n",
              "      gap: 12px;\n",
              "    }\n",
              "\n",
              "    .colab-df-convert {\n",
              "      background-color: #E8F0FE;\n",
              "      border: none;\n",
              "      border-radius: 50%;\n",
              "      cursor: pointer;\n",
              "      display: none;\n",
              "      fill: #1967D2;\n",
              "      height: 32px;\n",
              "      padding: 0 0 0 0;\n",
              "      width: 32px;\n",
              "    }\n",
              "\n",
              "    .colab-df-convert:hover {\n",
              "      background-color: #E2EBFA;\n",
              "      box-shadow: 0px 1px 2px rgba(60, 64, 67, 0.3), 0px 1px 3px 1px rgba(60, 64, 67, 0.15);\n",
              "      fill: #174EA6;\n",
              "    }\n",
              "\n",
              "    [theme=dark] .colab-df-convert {\n",
              "      background-color: #3B4455;\n",
              "      fill: #D2E3FC;\n",
              "    }\n",
              "\n",
              "    [theme=dark] .colab-df-convert:hover {\n",
              "      background-color: #434B5C;\n",
              "      box-shadow: 0px 1px 3px 1px rgba(0, 0, 0, 0.15);\n",
              "      filter: drop-shadow(0px 1px 2px rgba(0, 0, 0, 0.3));\n",
              "      fill: #FFFFFF;\n",
              "    }\n",
              "  </style>\n",
              "\n",
              "      <script>\n",
              "        const buttonEl =\n",
              "          document.querySelector('#df-f54908d4-5628-41dc-b830-9d9052022bc3 button.colab-df-convert');\n",
              "        buttonEl.style.display =\n",
              "          google.colab.kernel.accessAllowed ? 'block' : 'none';\n",
              "\n",
              "        async function convertToInteractive(key) {\n",
              "          const element = document.querySelector('#df-f54908d4-5628-41dc-b830-9d9052022bc3');\n",
              "          const dataTable =\n",
              "            await google.colab.kernel.invokeFunction('convertToInteractive',\n",
              "                                                     [key], {});\n",
              "          if (!dataTable) return;\n",
              "\n",
              "          const docLinkHtml = 'Like what you see? Visit the ' +\n",
              "            '<a target=\"_blank\" href=https://colab.research.google.com/notebooks/data_table.ipynb>data table notebook</a>'\n",
              "            + ' to learn more about interactive tables.';\n",
              "          element.innerHTML = '';\n",
              "          dataTable['output_type'] = 'display_data';\n",
              "          await google.colab.output.renderOutput(dataTable, element);\n",
              "          const docLink = document.createElement('div');\n",
              "          docLink.innerHTML = docLinkHtml;\n",
              "          element.appendChild(docLink);\n",
              "        }\n",
              "      </script>\n",
              "    </div>\n",
              "  </div>\n",
              "  "
            ]
          },
          "metadata": {},
          "execution_count": 49
        }
      ],
      "source": [
        "orders.query('revenue > 200000')"
      ]
    },
    {
      "cell_type": "markdown",
      "metadata": {
        "id": "JMVPQQuaxPis"
      },
      "source": [
        "Вот и нашелся тот заказ, который так сильно менял статистику, как раз 19 августа была покупка на 1.3 млн, не уверен что это можно считать нормальным. Заказ на 200 тыс. тоже спорный."
      ]
    },
    {
      "cell_type": "code",
      "execution_count": 50,
      "metadata": {
        "id": "oIba4cPVxPit"
      },
      "outputs": [],
      "source": [
        "n_orders = orders.query('revenue < 200000')"
      ]
    },
    {
      "cell_type": "markdown",
      "metadata": {
        "id": "Xk2fkGaexPit"
      },
      "source": [
        "Строим новый график."
      ]
    },
    {
      "cell_type": "code",
      "execution_count": 51,
      "metadata": {
        "colab": {
          "base_uri": "https://localhost:8080/",
          "height": 790
        },
        "id": "lIlrFwdvxPit",
        "outputId": "1bd5dfe8-9a59-474e-9aa8-f513c88ef058"
      },
      "outputs": [
        {
          "output_type": "display_data",
          "data": {
            "text/plain": [
              "<Figure size 1600x800 with 1 Axes>"
            ],
            "image/png": "[encoded data removed]"
          },
          "metadata": {}
        }
      ],
      "source": [
        "x_values = pd.Series(range(0,len(n_orders['revenue'])))\n",
        "plt.figure(figsize=(16,8))\n",
        "plt.grid()\n",
        "plt.title('График стоимости заказов\\n ', fontsize = 22, color = 'SteelBlue')\n",
        "plt.xlabel('\\nКол-во пользователей', fontsize = 16)\n",
        "plt.ylabel('Стоимость заказа\\n', fontsize = 16)\n",
        "plt.scatter(x_values, n_orders['revenue'], alpha=0.25);"
      ]
    },
    {
      "cell_type": "markdown",
      "metadata": {
        "id": "k8dM9YD1xPit"
      },
      "source": [
        "Так гораздо лучше смотрится. Более подробно рассмотрим значения с помощью перцентилей."
      ]
    },
    {
      "cell_type": "markdown",
      "metadata": {
        "id": "y4XDKNL3xPiu"
      },
      "source": [
        "### 95-й и 99-й перцентили стоимости заказов"
      ]
    },
    {
      "cell_type": "code",
      "execution_count": 52,
      "metadata": {
        "colab": {
          "base_uri": "https://localhost:8080/"
        },
        "id": "y-w_P7ROxPiu",
        "outputId": "e96f6f0e-1e8d-485e-fcb7-72d2c6e1683b"
      },
      "outputs": [
        {
          "output_type": "execute_result",
          "data": {
            "text/plain": [
              "array([26785., 53904.])"
            ]
          },
          "metadata": {},
          "execution_count": 52
        }
      ],
      "source": [
        "np.percentile(orders['revenue'], [95, 99])"
      ]
    },
    {
      "cell_type": "markdown",
      "metadata": {
        "id": "PVsbil0KxPiv"
      },
      "source": [
        "У 95% заказов чек выше 26785 рублей, и у 1% дороже 53904 рублей.\n",
        "За границу примем значение 53904."
      ]
    },
    {
      "cell_type": "markdown",
      "metadata": {
        "id": "-SEf2dJ8xPiv"
      },
      "source": [
        "### Cтатистическая значимость различий в среднем количестве заказов на посетителя между группами по «сырым» данным"
      ]
    },
    {
      "cell_type": "markdown",
      "metadata": {
        "id": "AnfA6MraxPiv"
      },
      "source": [
        "Подготовим данные"
      ]
    },
    {
      "cell_type": "code",
      "execution_count": 53,
      "metadata": {
        "id": "5-uUJoRHxPiv"
      },
      "outputs": [],
      "source": [
        "visitorsADaily = visitors[visitors['group']=='A'][['date', 'visitors']]\n",
        "visitorsADaily.columns = ['date', 'visitorsPerDateA']\n",
        "\n",
        "visitorsBDaily = visitors[visitors['group']=='B'][['date', 'visitors']]\n",
        "visitorsBDaily.columns = ['date', 'visitorsPerDateB']"
      ]
    },
    {
      "cell_type": "code",
      "execution_count": 54,
      "metadata": {
        "id": "RWESqfkTxPiw"
      },
      "outputs": [],
      "source": [
        "ordersADaily = orders[orders['group']=='A'][['date', 'transaction_id', 'visitor_id', 'revenue']]\\\n",
        "    .groupby('date', as_index=False)\\\n",
        "    .agg({'transaction_id' : pd.Series.nunique, 'revenue' : 'sum'})\n",
        "ordersADaily.columns = ['date', 'ordersPerDateA', 'revenuePerDateA']\n",
        "\n",
        "ordersBDaily = orders[orders['group']=='B'][['date', 'transaction_id', 'visitor_id', 'revenue']]\\\n",
        "    .groupby('date', as_index=False)\\\n",
        "    .agg({'transaction_id' : pd.Series.nunique, 'revenue' : 'sum'})\n",
        "ordersBDaily.columns = ['date', 'ordersPerDateB', 'revenuePerDateB']"
      ]
    },
    {
      "cell_type": "markdown",
      "metadata": {
        "id": "S12R3u8lxPix"
      },
      "source": [
        "Статистическая значимость по группам"
      ]
    },
    {
      "cell_type": "code",
      "execution_count": 55,
      "metadata": {
        "id": "2UvMav7bxPix"
      },
      "outputs": [],
      "source": [
        "ordersByUsersA = orders[orders['group']=='A'].groupby('visitor_id', as_index=False).agg({'transaction_id' : pd.Series.nunique})\n",
        "ordersByUsersA.columns = ['user_id', 'orders']\n",
        "\n",
        "ordersByUsersB = orders[orders['group']=='B'].groupby('visitor_id', as_index=False).agg({'transaction_id' : pd.Series.nunique})\n",
        "ordersByUsersB.columns = ['user_id', 'orders']"
      ]
    },
    {
      "cell_type": "code",
      "execution_count": 56,
      "metadata": {
        "id": "qOJBS81OxPix"
      },
      "outputs": [],
      "source": [
        "sampleA = pd.concat([ordersByUsersA['orders'],pd.Series(0, index=np.arange(visitorsADaily['visitorsPerDateA'].sum() - len(ordersByUsersA['orders'])), name='orders')],axis=0)\n",
        "\n",
        "sampleB = pd.concat([ordersByUsersB['orders'],pd.Series(0, index=np.arange(visitorsBDaily['visitorsPerDateB'].sum() - len(ordersByUsersB['orders'])), name='orders')],axis=0)"
      ]
    },
    {
      "cell_type": "markdown",
      "metadata": {
        "id": "p07ZnpD-xPix"
      },
      "source": [
        "Примем:\n",
        "\n",
        "H0 - статистически значимых различий по сырым данным в среднем количестве заказов на посетителя нет\n",
        "\n",
        "Н1 - статистически значимые различия по сырым данным в среднем количестве заказов на посетителя есть"
      ]
    },
    {
      "cell_type": "markdown",
      "metadata": {
        "id": "b9wGrEvnxPiy"
      },
      "source": [
        "Примем уровня статистической значимости альфа = 5%, это наиболее предпочтительынй вариант, тк если взять больше, то вероятность ошибки 2го рода возрасте, а это нам не нужно, с другой стороны, если взять меньше, то возможно мы будет слишком строги для этого критерия и 5% вполне хватит чтобы удостовериться в правильности нашего выбора гипотезы."
      ]
    },
    {
      "cell_type": "code",
      "execution_count": 57,
      "metadata": {
        "colab": {
          "base_uri": "https://localhost:8080/",
          "height": 71
        },
        "id": "Y_6QrjhixPiz",
        "outputId": "9d41fecc-21a7-43df-afb6-04a5fdc20ddd"
      },
      "outputs": [
        {
          "output_type": "display_data",
          "data": {
            "text/plain": [
              "'alpha = 0.05'"
            ],
            "application/vnd.google.colaboratory.intrinsic+json": {
              "type": "string"
            }
          },
          "metadata": {}
        },
        {
          "output_type": "display_data",
          "data": {
            "text/plain": [
              "'p-value = 0.011'"
            ],
            "application/vnd.google.colaboratory.intrinsic+json": {
              "type": "string"
            }
          },
          "metadata": {}
        },
        {
          "output_type": "display_data",
          "data": {
            "text/plain": [
              "' Различия между группами = 0.160'"
            ],
            "application/vnd.google.colaboratory.intrinsic+json": {
              "type": "string"
            }
          },
          "metadata": {}
        }
      ],
      "source": [
        "display(\"alpha = 0.05\")\n",
        "display(\"p-value = {0:.3f}\".format(st.mannwhitneyu(sampleA, sampleB, alternative = 'two-sided')[1]))\n",
        "display(\" Различия между группами = {0:.3f}\".format(sampleB.mean()/sampleA.mean()-1)) "
      ]
    },
    {
      "cell_type": "markdown",
      "metadata": {
        "id": "QiwMDpvoxPiz"
      },
      "source": [
        "По результатам видим, что:\n",
        "\n",
        "p-value меньше 0.05. Поэтому  отвергаем нулевую гипотезу.\n",
        "\n",
        "Значит, что между группами A и B есть статистически значимые различия."
      ]
    },
    {
      "cell_type": "markdown",
      "metadata": {
        "id": "VeeDpbOKxPiz"
      },
      "source": [
        "### Cтатистическая значимость различий в среднем чеке заказа между группами по «сырым» данным"
      ]
    },
    {
      "cell_type": "markdown",
      "metadata": {
        "id": "e-_NoZ_-xPi0"
      },
      "source": [
        "H0 - статистически значимых различий в среднем чеке между группами нет.\n",
        "\n",
        "Н1 - статистически значимые различия в среднем чеке между группами есть"
      ]
    },
    {
      "cell_type": "code",
      "execution_count": 58,
      "metadata": {
        "colab": {
          "base_uri": "https://localhost:8080/",
          "height": 71
        },
        "id": "rY2gC2zHxPi0",
        "outputId": "30cec0a0-1466-4913-ee8c-ab920a9917d2"
      },
      "outputs": [
        {
          "output_type": "display_data",
          "data": {
            "text/plain": [
              "'alpha = 0.05'"
            ],
            "application/vnd.google.colaboratory.intrinsic+json": {
              "type": "string"
            }
          },
          "metadata": {}
        },
        {
          "output_type": "display_data",
          "data": {
            "text/plain": [
              "'p-value = 0.829'"
            ],
            "application/vnd.google.colaboratory.intrinsic+json": {
              "type": "string"
            }
          },
          "metadata": {}
        },
        {
          "output_type": "display_data",
          "data": {
            "text/plain": [
              "'Относительный показатель = 0.287'"
            ],
            "application/vnd.google.colaboratory.intrinsic+json": {
              "type": "string"
            }
          },
          "metadata": {}
        }
      ],
      "source": [
        "display(\"alpha = 0.05\")\n",
        "display(\"p-value = {0:.3f}\".format(st.mannwhitneyu(orders[orders['group']=='A']['revenue'], orders[orders['group']=='B']['revenue'], alternative = 'two-sided')[1]))\n",
        "display(\"Относительный показатель = {0:.3f}\".format(orders[orders['group']=='B']['revenue'].mean()/orders[orders['group']=='A']['revenue'].mean()-1)) "
      ]
    },
    {
      "cell_type": "markdown",
      "metadata": {
        "id": "2V_HaXLQxPi0"
      },
      "source": [
        "По результатам видим, что:\n",
        "\n",
        "p-value сильно больше 0.05. Поэтому  считаем, что статистически значимых отличий нет.\n",
        "\n",
        "При этом относительный показатель 28.7%, что очень много, исходя из того, что различий нет."
      ]
    },
    {
      "cell_type": "markdown",
      "metadata": {
        "id": "vcbc3aZvxPi0"
      },
      "source": [
        "### Статистическая значимость различий в среднем количестве заказов на посетителя между группами по «очищенным» данным"
      ]
    },
    {
      "cell_type": "markdown",
      "metadata": {
        "id": "aADc2jrrxPi1"
      },
      "source": [
        "Ранее было найдено 2 аномальных значения в выручке в 200 тыс и 1.3 млн, также была найдена граница знаений по заказам и стоимости."
      ]
    },
    {
      "cell_type": "markdown",
      "metadata": {
        "id": "g_tOp0kvxPi1"
      },
      "source": [
        "Граница стоимости 53904 руб.\n",
        "\n",
        "Граница заказов 3 шт."
      ]
    },
    {
      "cell_type": "markdown",
      "metadata": {
        "id": "SiDLpQf8xPi1"
      },
      "source": [
        "Разделим пользователей на 2 группы:\n",
        "\n",
        "С большим количесвом заказов.\n",
        "\n",
        "С большой стоимостью покупки."
      ]
    },
    {
      "cell_type": "code",
      "execution_count": 59,
      "metadata": {
        "scrolled": true,
        "colab": {
          "base_uri": "https://localhost:8080/"
        },
        "id": "wOWMy36kxPi1",
        "outputId": "842eaad1-e45d-49c3-e2e5-a7f9facc75bd"
      },
      "outputs": [
        {
          "output_type": "stream",
          "name": "stdout",
          "text": [
            "Аномальных пользователей = 16\n"
          ]
        }
      ],
      "source": [
        "usersWithManyOrders = pd.concat([ordersByUsersA[ordersByUsersA['orders'] > 2]['user_id'], ordersByUsersB[ordersByUsersB['orders'] > 2]['user_id']], axis = 0)\n",
        "usersWithExpensiveOrders = orders[orders['revenue'] > 53904]['visitor_id']\n",
        "abnormalUsers = pd.concat([usersWithManyOrders, usersWithExpensiveOrders], axis = 0).drop_duplicates().sort_values()\n",
        "print(\"Аномальных пользователей =\" ,len(abnormalUsers)) "
      ]
    },
    {
      "cell_type": "markdown",
      "metadata": {
        "id": "UpTXyi1fxPi1"
      },
      "source": [
        "Посмторим какой этопроцент от всех пользователей:"
      ]
    },
    {
      "cell_type": "code",
      "execution_count": 60,
      "metadata": {
        "colab": {
          "base_uri": "https://localhost:8080/"
        },
        "id": "f49n1vDExPi1",
        "outputId": "dfde6f57-478b-48e1-f1e3-18c39497444e"
      },
      "outputs": [
        {
          "output_type": "stream",
          "name": "stdout",
          "text": [
            "1.64 %\n"
          ]
        }
      ],
      "source": [
        "print(round(len(abnormalUsers)/(len(ordersByUsersA)+len(ordersByUsersB))*100, 2),'%')"
      ]
    },
    {
      "cell_type": "markdown",
      "metadata": {
        "id": "tV_b6Ej9xPi3"
      },
      "source": [
        "Посчитаем статистическую значимость без аномальных пользователей."
      ]
    },
    {
      "cell_type": "code",
      "execution_count": 61,
      "metadata": {
        "id": "6VkU0inaxPi3"
      },
      "outputs": [],
      "source": [
        "sampleAFiltered = pd.concat([ordersByUsersA[np.logical_not(ordersByUsersA['user_id'].isin(abnormalUsers))]['orders'], \\\n",
        "                             pd.Series(0, index=np.arange(visitorsADaily['visitorsPerDateA'].sum() - len(ordersByUsersA['orders'])), \\\n",
        "                                       name='orders')],axis=0)\n",
        "\n",
        "sampleBFiltered = pd.concat([ordersByUsersB[np.logical_not(ordersByUsersB['user_id'].isin(abnormalUsers))]['orders'], \\\n",
        "                             pd.Series(0, index=np.arange(visitorsBDaily['visitorsPerDateB'].sum() - len(ordersByUsersB['orders'])), \\\n",
        "                                       name='orders')],axis=0) "
      ]
    },
    {
      "cell_type": "markdown",
      "metadata": {
        "id": "atozKFGjxPi3"
      },
      "source": [
        "H0 - статистически значимых различий в среднем количестве заказов на посетителя между группами нет.\n",
        "Н1 - статистически значимые различия есть."
      ]
    },
    {
      "cell_type": "code",
      "execution_count": 62,
      "metadata": {
        "colab": {
          "base_uri": "https://localhost:8080/"
        },
        "id": "omYkrmrmxPi3",
        "outputId": "f44ed909-232d-402f-b3b6-a80f02575844"
      },
      "outputs": [
        {
          "output_type": "stream",
          "name": "stdout",
          "text": [
            "alpha = 0.05\n",
            "p-value = 0.007\n",
            "Относительный показатель = 0.189\n"
          ]
        }
      ],
      "source": [
        "print(\"alpha =\",0.05)\n",
        "print(\"p-value = {0:.3f}\".format(st.mannwhitneyu(sampleAFiltered, sampleBFiltered, alternative = 'two-sided')[1]))\n",
        "print(\"Относительный показатель = {0:.3f}\".format(sampleBFiltered.mean()/sampleAFiltered.mean()-1)) "
      ]
    },
    {
      "cell_type": "markdown",
      "metadata": {
        "id": "yrFSdOqVxPi3"
      },
      "source": [
        "p-value меньше 0.05. Поэтому отвергаем нулевую гипотезу.\n",
        "\n",
        "Значит, что по «очищенным» данным в среднем количестве заказов на посетителя групп есть различия.\n",
        "\n",
        "Относительный показатель выше на 2.9% показателя по сырым данным(16%)."
      ]
    },
    {
      "cell_type": "markdown",
      "metadata": {
        "id": "Cnl5niiMxPi4"
      },
      "source": [
        "### Статистическая значимость различий в среднем чеке заказа между группами по «очищенным» данным"
      ]
    },
    {
      "cell_type": "markdown",
      "metadata": {
        "id": "_xkWb4laxPi4"
      },
      "source": [
        "H0 - статистически значимых различий в средних чеках между группами нет.\n",
        "\n",
        "Н1 - статистически значимые различия есть."
      ]
    },
    {
      "cell_type": "code",
      "execution_count": 63,
      "metadata": {
        "colab": {
          "base_uri": "https://localhost:8080/"
        },
        "id": "BxJMrI6KxPi4",
        "outputId": "7d8f466f-9b3c-4be5-995e-9a153e4f35a2"
      },
      "outputs": [
        {
          "output_type": "stream",
          "name": "stdout",
          "text": [
            "alpha = 0.05\n",
            "p-value = 0.788\n",
            "Относительный показатель = -0.032\n"
          ]
        }
      ],
      "source": [
        "print(\"alpha =\",0.05)\n",
        "print(\"p-value = {0:.3f}\".format(st.mannwhitneyu(\n",
        "    orders[np.logical_and(\n",
        "        orders['group']=='A',\n",
        "        np.logical_not(orders['visitor_id'].isin(abnormalUsers)))]['revenue'],\n",
        "    orders[np.logical_and(\n",
        "        orders['group']=='B',\n",
        "        np.logical_not(orders['visitor_id'].isin(abnormalUsers)))]['revenue'], alternative = 'two-sided')[1]))\n",
        "\n",
        "print(\"Относительный показатель = {0:.3f}\".format(\n",
        "    orders[np.logical_and(orders['group']=='B',np.logical_not(orders['visitor_id'].isin(abnormalUsers)))]['revenue'].mean()/\n",
        "    orders[np.logical_and(\n",
        "        orders['group']=='A',\n",
        "        np.logical_not(orders['visitor_id'].isin(abnormalUsers)))]['revenue'].mean() - 1)) "
      ]
    },
    {
      "cell_type": "markdown",
      "metadata": {
        "id": "Sid0YJLFxPi4"
      },
      "source": [
        "Снова p-value сильно больше 0.05, значит различий все равно нет.\n",
        "\n",
        "Однако по сравнению с сырыми данными - относительный показатель изменился на 31.9% и стал -3.2%.\n",
        "\n",
        "Знаит аномальные значения сильно выбивали показатели из общей картины, хотя их было всего 16 пользователей."
      ]
    },
    {
      "cell_type": "markdown",
      "metadata": {
        "id": "0ZcVrsJCxPi5"
      },
      "source": [
        "##  Решение по результатам теста"
      ]
    },
    {
      "cell_type": "markdown",
      "metadata": {
        "id": "uy_qfZrzxPi5"
      },
      "source": [
        "Было выяснено, что среднее количество заказов на посетителя в группе В, а именно это мы считаем контрольной метрикой, выше чем в группе А на 16% с аномалиями, и 18.9% по очищенным данным.\n",
        "\n",
        "Поэтому предлагается остановить тест, и считать что группа В является фаворитом.\n",
        "\n",
        "Что касается среднего чека - он почти одинаковый, значит нужно применять другие тесты для его изменения."
      ]
    }
  ],
  "metadata": {
    "ExecuteTimeLog": [
      {
        "duration": 1201,
        "start_time": "2023-01-27T12:19:46.490Z"
      },
      {
        "duration": 72,
        "start_time": "2023-01-27T12:19:48.422Z"
      },
      {
        "duration": 45,
        "start_time": "2023-01-27T12:36:49.115Z"
      },
      {
        "duration": 4,
        "start_time": "2023-01-27T12:36:50.492Z"
      },
      {
        "duration": 1327,
        "start_time": "2023-01-27T12:36:59.171Z"
      },
      {
        "duration": 58,
        "start_time": "2023-01-27T12:37:00.500Z"
      },
      {
        "duration": 14,
        "start_time": "2023-01-27T12:37:00.560Z"
      },
      {
        "duration": 48,
        "start_time": "2023-01-27T12:37:12.630Z"
      },
      {
        "duration": 41,
        "start_time": "2023-01-27T12:37:31.153Z"
      },
      {
        "duration": 1124,
        "start_time": "2023-01-27T12:37:37.635Z"
      },
      {
        "duration": 44,
        "start_time": "2023-01-27T12:37:41.300Z"
      },
      {
        "duration": 11,
        "start_time": "2023-01-27T12:37:41.999Z"
      },
      {
        "duration": 39,
        "start_time": "2023-01-27T12:37:47.858Z"
      },
      {
        "duration": 9,
        "start_time": "2023-01-27T12:37:49.343Z"
      },
      {
        "duration": 39,
        "start_time": "2023-01-27T12:38:57.564Z"
      },
      {
        "duration": 9,
        "start_time": "2023-01-27T12:38:58.725Z"
      },
      {
        "duration": 48,
        "start_time": "2023-01-28T08:18:51.088Z"
      },
      {
        "duration": 1288,
        "start_time": "2023-01-28T08:19:58.272Z"
      },
      {
        "duration": 70,
        "start_time": "2023-01-28T08:20:02.831Z"
      },
      {
        "duration": 15,
        "start_time": "2023-01-28T08:20:09.166Z"
      },
      {
        "duration": 4,
        "start_time": "2023-01-28T08:20:11.569Z"
      },
      {
        "duration": 16,
        "start_time": "2023-01-28T08:20:35.774Z"
      },
      {
        "duration": 13,
        "start_time": "2023-01-28T08:20:52.640Z"
      },
      {
        "duration": 43,
        "start_time": "2023-01-28T08:21:14.952Z"
      },
      {
        "duration": 12,
        "start_time": "2023-01-28T08:21:19.862Z"
      },
      {
        "duration": 10,
        "start_time": "2023-01-28T08:21:29.440Z"
      },
      {
        "duration": 44,
        "start_time": "2023-01-28T08:23:49.564Z"
      },
      {
        "duration": 12,
        "start_time": "2023-01-28T08:23:54.701Z"
      },
      {
        "duration": 189,
        "start_time": "2023-01-28T08:42:13.670Z"
      },
      {
        "duration": 24,
        "start_time": "2023-01-28T08:42:14.133Z"
      },
      {
        "duration": 70,
        "start_time": "2023-01-28T08:44:13.368Z"
      },
      {
        "duration": 18,
        "start_time": "2023-01-28T08:44:16.925Z"
      },
      {
        "duration": 88,
        "start_time": "2023-01-28T08:44:34.085Z"
      },
      {
        "duration": 17,
        "start_time": "2023-01-28T08:44:47.734Z"
      },
      {
        "duration": 11,
        "start_time": "2023-01-28T08:44:54.133Z"
      },
      {
        "duration": 9,
        "start_time": "2023-01-28T08:45:01.080Z"
      },
      {
        "duration": 4,
        "start_time": "2023-01-28T08:46:27.036Z"
      },
      {
        "duration": 10,
        "start_time": "2023-01-28T08:46:33.577Z"
      },
      {
        "duration": 3,
        "start_time": "2023-01-28T08:46:52.729Z"
      },
      {
        "duration": 10,
        "start_time": "2023-01-28T08:46:55.133Z"
      },
      {
        "duration": 9,
        "start_time": "2023-01-28T08:46:57.764Z"
      },
      {
        "duration": 1065,
        "start_time": "2023-01-28T08:47:08.134Z"
      },
      {
        "duration": 81,
        "start_time": "2023-01-28T08:47:09.201Z"
      },
      {
        "duration": 10,
        "start_time": "2023-01-28T08:47:09.284Z"
      },
      {
        "duration": 3,
        "start_time": "2023-01-28T08:47:09.295Z"
      },
      {
        "duration": 14,
        "start_time": "2023-01-28T08:47:09.300Z"
      },
      {
        "duration": 12,
        "start_time": "2023-01-28T08:47:09.315Z"
      },
      {
        "duration": 63,
        "start_time": "2023-01-28T08:47:09.328Z"
      },
      {
        "duration": 17,
        "start_time": "2023-01-28T08:47:09.393Z"
      },
      {
        "duration": 10,
        "start_time": "2023-01-28T08:47:09.411Z"
      },
      {
        "duration": 12,
        "start_time": "2023-01-28T08:47:09.422Z"
      },
      {
        "duration": 5,
        "start_time": "2023-01-28T08:47:09.436Z"
      },
      {
        "duration": 9,
        "start_time": "2023-01-28T08:47:12.857Z"
      },
      {
        "duration": 3,
        "start_time": "2023-01-28T08:48:06.238Z"
      },
      {
        "duration": 55,
        "start_time": "2023-01-28T08:48:06.243Z"
      },
      {
        "duration": 9,
        "start_time": "2023-01-28T08:48:06.301Z"
      },
      {
        "duration": 13,
        "start_time": "2023-01-28T08:48:06.312Z"
      },
      {
        "duration": 25,
        "start_time": "2023-01-28T08:48:06.328Z"
      },
      {
        "duration": 21,
        "start_time": "2023-01-28T08:48:06.355Z"
      },
      {
        "duration": 95,
        "start_time": "2023-01-28T08:48:06.377Z"
      },
      {
        "duration": 23,
        "start_time": "2023-01-28T08:48:06.474Z"
      },
      {
        "duration": 16,
        "start_time": "2023-01-28T08:48:06.499Z"
      },
      {
        "duration": 19,
        "start_time": "2023-01-28T08:48:06.517Z"
      },
      {
        "duration": 11,
        "start_time": "2023-01-28T08:48:06.538Z"
      },
      {
        "duration": 18,
        "start_time": "2023-01-28T08:48:06.551Z"
      },
      {
        "duration": 66,
        "start_time": "2023-01-28T08:49:04.039Z"
      },
      {
        "duration": 1130,
        "start_time": "2023-01-28T08:49:12.453Z"
      },
      {
        "duration": 64,
        "start_time": "2023-01-28T08:49:15.694Z"
      },
      {
        "duration": 16,
        "start_time": "2023-01-28T08:49:19.143Z"
      },
      {
        "duration": 14,
        "start_time": "2023-01-28T08:49:26.888Z"
      },
      {
        "duration": 10,
        "start_time": "2023-01-28T08:49:29.061Z"
      },
      {
        "duration": 5,
        "start_time": "2023-01-28T08:49:39.524Z"
      },
      {
        "duration": 13,
        "start_time": "2023-01-28T08:49:40.356Z"
      },
      {
        "duration": 7,
        "start_time": "2023-01-28T08:50:32.789Z"
      },
      {
        "duration": 16,
        "start_time": "2023-01-28T08:50:38.558Z"
      },
      {
        "duration": 21,
        "start_time": "2023-01-28T08:50:47.878Z"
      },
      {
        "duration": 1051,
        "start_time": "2023-01-28T08:54:00.680Z"
      },
      {
        "duration": 53,
        "start_time": "2023-01-28T08:54:01.733Z"
      },
      {
        "duration": 11,
        "start_time": "2023-01-28T08:54:01.787Z"
      },
      {
        "duration": 3,
        "start_time": "2023-01-28T08:54:01.801Z"
      },
      {
        "duration": 18,
        "start_time": "2023-01-28T08:54:01.806Z"
      },
      {
        "duration": 12,
        "start_time": "2023-01-28T08:54:01.826Z"
      },
      {
        "duration": 68,
        "start_time": "2023-01-28T08:54:01.840Z"
      },
      {
        "duration": 13,
        "start_time": "2023-01-28T08:54:01.910Z"
      },
      {
        "duration": 19,
        "start_time": "2023-01-28T08:54:01.925Z"
      },
      {
        "duration": 3,
        "start_time": "2023-01-28T08:54:01.946Z"
      },
      {
        "duration": 30,
        "start_time": "2023-01-28T08:54:01.951Z"
      },
      {
        "duration": 302,
        "start_time": "2023-01-28T08:54:01.983Z"
      },
      {
        "duration": 223,
        "start_time": "2023-01-28T08:54:32.728Z"
      },
      {
        "duration": 221,
        "start_time": "2023-01-28T08:54:59.386Z"
      },
      {
        "duration": 213,
        "start_time": "2023-01-28T08:55:15.437Z"
      },
      {
        "duration": 192,
        "start_time": "2023-01-28T08:56:30.837Z"
      },
      {
        "duration": 178,
        "start_time": "2023-01-28T08:56:45.194Z"
      },
      {
        "duration": 207,
        "start_time": "2023-01-28T08:58:15.934Z"
      },
      {
        "duration": 231,
        "start_time": "2023-01-28T08:58:55.537Z"
      },
      {
        "duration": 5,
        "start_time": "2023-01-28T09:05:03.222Z"
      },
      {
        "duration": 199,
        "start_time": "2023-01-28T09:05:14.735Z"
      },
      {
        "duration": 221,
        "start_time": "2023-01-28T09:05:39.218Z"
      },
      {
        "duration": 188,
        "start_time": "2023-01-28T09:05:47.722Z"
      },
      {
        "duration": 1116,
        "start_time": "2023-01-28T09:07:45.427Z"
      },
      {
        "duration": 45,
        "start_time": "2023-01-28T09:07:46.545Z"
      },
      {
        "duration": 11,
        "start_time": "2023-01-28T09:07:46.591Z"
      },
      {
        "duration": 3,
        "start_time": "2023-01-28T09:07:46.604Z"
      },
      {
        "duration": 15,
        "start_time": "2023-01-28T09:07:46.609Z"
      },
      {
        "duration": 11,
        "start_time": "2023-01-28T09:07:46.626Z"
      },
      {
        "duration": 68,
        "start_time": "2023-01-28T09:07:46.638Z"
      },
      {
        "duration": 13,
        "start_time": "2023-01-28T09:07:46.708Z"
      },
      {
        "duration": 16,
        "start_time": "2023-01-28T09:07:46.722Z"
      },
      {
        "duration": 3,
        "start_time": "2023-01-28T09:07:46.740Z"
      },
      {
        "duration": 8,
        "start_time": "2023-01-28T09:07:46.744Z"
      },
      {
        "duration": 18,
        "start_time": "2023-01-28T09:07:46.754Z"
      },
      {
        "duration": 9,
        "start_time": "2023-01-28T09:09:24.089Z"
      },
      {
        "duration": 5,
        "start_time": "2023-01-28T09:09:29.332Z"
      },
      {
        "duration": 6,
        "start_time": "2023-01-28T09:09:31.359Z"
      },
      {
        "duration": 6,
        "start_time": "2023-01-28T09:10:41.126Z"
      },
      {
        "duration": 6,
        "start_time": "2023-01-28T09:10:43.158Z"
      },
      {
        "duration": 4,
        "start_time": "2023-01-28T09:13:10.924Z"
      },
      {
        "duration": 759,
        "start_time": "2023-01-28T09:13:18.651Z"
      },
      {
        "duration": 5,
        "start_time": "2023-01-28T09:13:27.779Z"
      },
      {
        "duration": 4,
        "start_time": "2023-01-28T09:15:50.174Z"
      },
      {
        "duration": 11,
        "start_time": "2023-01-28T09:17:53.364Z"
      },
      {
        "duration": 11,
        "start_time": "2023-01-28T09:18:04.872Z"
      },
      {
        "duration": 7,
        "start_time": "2023-01-28T09:19:02.125Z"
      },
      {
        "duration": 15,
        "start_time": "2023-01-28T09:19:12.538Z"
      },
      {
        "duration": 809,
        "start_time": "2023-01-28T09:20:33.525Z"
      },
      {
        "duration": 11,
        "start_time": "2023-01-28T09:20:48.633Z"
      },
      {
        "duration": 16,
        "start_time": "2023-01-28T09:21:02.232Z"
      },
      {
        "duration": 18,
        "start_time": "2023-01-28T09:21:10.922Z"
      },
      {
        "duration": 12,
        "start_time": "2023-01-28T09:21:24.442Z"
      },
      {
        "duration": 11,
        "start_time": "2023-01-28T09:23:30.794Z"
      },
      {
        "duration": 51,
        "start_time": "2023-01-28T09:24:46.660Z"
      },
      {
        "duration": 48,
        "start_time": "2023-01-28T09:24:58.782Z"
      },
      {
        "duration": 8,
        "start_time": "2023-01-28T09:25:09.691Z"
      },
      {
        "duration": 5,
        "start_time": "2023-01-28T09:25:10.745Z"
      },
      {
        "duration": 11,
        "start_time": "2023-01-28T09:25:16.747Z"
      },
      {
        "duration": 20,
        "start_time": "2023-01-28T09:26:18.494Z"
      },
      {
        "duration": 26,
        "start_time": "2023-01-28T09:26:35.516Z"
      },
      {
        "duration": 10,
        "start_time": "2023-01-28T09:29:38.725Z"
      },
      {
        "duration": 5,
        "start_time": "2023-01-28T09:32:42.356Z"
      },
      {
        "duration": 181,
        "start_time": "2023-01-28T09:32:43.097Z"
      },
      {
        "duration": 144,
        "start_time": "2023-01-28T09:32:43.860Z"
      },
      {
        "duration": 8,
        "start_time": "2023-01-28T09:32:44.549Z"
      },
      {
        "duration": 3,
        "start_time": "2023-01-28T09:32:45.228Z"
      },
      {
        "duration": 10,
        "start_time": "2023-01-28T09:32:45.876Z"
      },
      {
        "duration": 313,
        "start_time": "2023-01-28T09:35:15.079Z"
      },
      {
        "duration": 289,
        "start_time": "2023-01-28T09:35:23.836Z"
      },
      {
        "duration": 255,
        "start_time": "2023-01-28T09:36:58.745Z"
      },
      {
        "duration": 367,
        "start_time": "2023-01-28T09:37:57.586Z"
      },
      {
        "duration": 446,
        "start_time": "2023-01-28T09:38:05.566Z"
      },
      {
        "duration": 274,
        "start_time": "2023-01-28T09:41:41.251Z"
      },
      {
        "duration": 397,
        "start_time": "2023-01-28T09:43:57.723Z"
      },
      {
        "duration": 369,
        "start_time": "2023-01-28T09:44:07.554Z"
      },
      {
        "duration": 457,
        "start_time": "2023-01-28T09:44:18.123Z"
      },
      {
        "duration": 410,
        "start_time": "2023-01-28T09:48:41.706Z"
      },
      {
        "duration": 466,
        "start_time": "2023-01-28T09:48:53.438Z"
      },
      {
        "duration": 332,
        "start_time": "2023-01-28T09:56:36.084Z"
      },
      {
        "duration": 294,
        "start_time": "2023-01-28T09:58:13.623Z"
      },
      {
        "duration": 322,
        "start_time": "2023-01-28T09:58:51.334Z"
      },
      {
        "duration": 316,
        "start_time": "2023-01-28T09:59:07.135Z"
      },
      {
        "duration": 310,
        "start_time": "2023-01-28T10:01:21.471Z"
      },
      {
        "duration": 312,
        "start_time": "2023-01-28T10:02:04.031Z"
      },
      {
        "duration": 317,
        "start_time": "2023-01-28T10:02:14.922Z"
      },
      {
        "duration": 418,
        "start_time": "2023-01-28T10:02:20.051Z"
      },
      {
        "duration": 450,
        "start_time": "2023-01-28T10:02:31.137Z"
      },
      {
        "duration": 359,
        "start_time": "2023-01-28T10:02:49.623Z"
      },
      {
        "duration": 442,
        "start_time": "2023-01-28T10:07:26.286Z"
      },
      {
        "duration": 21,
        "start_time": "2023-01-28T10:10:30.126Z"
      },
      {
        "duration": 364,
        "start_time": "2023-01-28T10:10:43.829Z"
      },
      {
        "duration": 5,
        "start_time": "2023-01-28T10:13:53.579Z"
      },
      {
        "duration": 217,
        "start_time": "2023-01-28T10:17:44.198Z"
      },
      {
        "duration": 13,
        "start_time": "2023-01-28T10:20:01.991Z"
      },
      {
        "duration": 7,
        "start_time": "2023-01-28T10:22:30.443Z"
      },
      {
        "duration": 265,
        "start_time": "2023-01-28T10:22:39.168Z"
      },
      {
        "duration": 292,
        "start_time": "2023-01-28T10:23:09.739Z"
      },
      {
        "duration": 316,
        "start_time": "2023-01-28T10:23:15.839Z"
      },
      {
        "duration": 293,
        "start_time": "2023-01-28T10:23:23.400Z"
      },
      {
        "duration": 238,
        "start_time": "2023-01-28T10:23:27.223Z"
      },
      {
        "duration": 1099,
        "start_time": "2023-01-28T10:23:49.319Z"
      },
      {
        "duration": 80,
        "start_time": "2023-01-28T10:23:50.420Z"
      },
      {
        "duration": 11,
        "start_time": "2023-01-28T10:23:50.502Z"
      },
      {
        "duration": 10,
        "start_time": "2023-01-28T10:23:50.515Z"
      },
      {
        "duration": 19,
        "start_time": "2023-01-28T10:23:50.526Z"
      },
      {
        "duration": 23,
        "start_time": "2023-01-28T10:23:50.546Z"
      },
      {
        "duration": 67,
        "start_time": "2023-01-28T10:23:50.571Z"
      },
      {
        "duration": 14,
        "start_time": "2023-01-28T10:23:50.640Z"
      },
      {
        "duration": 35,
        "start_time": "2023-01-28T10:23:50.655Z"
      },
      {
        "duration": 25,
        "start_time": "2023-01-28T10:23:50.694Z"
      },
      {
        "duration": 6,
        "start_time": "2023-01-28T10:23:50.721Z"
      },
      {
        "duration": 15,
        "start_time": "2023-01-28T10:23:50.729Z"
      },
      {
        "duration": 28,
        "start_time": "2023-01-28T10:23:50.746Z"
      },
      {
        "duration": 17,
        "start_time": "2023-01-28T10:23:50.776Z"
      },
      {
        "duration": 14,
        "start_time": "2023-01-28T10:23:50.795Z"
      },
      {
        "duration": 13,
        "start_time": "2023-01-28T10:23:50.810Z"
      },
      {
        "duration": 9,
        "start_time": "2023-01-28T10:23:50.825Z"
      },
      {
        "duration": 9,
        "start_time": "2023-01-28T10:23:50.836Z"
      },
      {
        "duration": 25,
        "start_time": "2023-01-28T10:23:50.848Z"
      },
      {
        "duration": 17,
        "start_time": "2023-01-28T10:23:50.874Z"
      },
      {
        "duration": 12,
        "start_time": "2023-01-28T10:23:50.893Z"
      },
      {
        "duration": 7,
        "start_time": "2023-01-28T10:23:50.907Z"
      },
      {
        "duration": 15,
        "start_time": "2023-01-28T10:23:50.916Z"
      },
      {
        "duration": 6,
        "start_time": "2023-01-28T10:23:50.934Z"
      },
      {
        "duration": 228,
        "start_time": "2023-01-28T10:23:50.941Z"
      },
      {
        "duration": 131,
        "start_time": "2023-01-28T10:23:51.171Z"
      },
      {
        "duration": 6,
        "start_time": "2023-01-28T10:23:51.303Z"
      },
      {
        "duration": 5,
        "start_time": "2023-01-28T10:23:51.312Z"
      },
      {
        "duration": 17,
        "start_time": "2023-01-28T10:23:51.319Z"
      },
      {
        "duration": 390,
        "start_time": "2023-01-28T10:23:51.349Z"
      },
      {
        "duration": 293,
        "start_time": "2023-01-28T10:23:51.740Z"
      },
      {
        "duration": 383,
        "start_time": "2023-01-28T10:23:52.035Z"
      },
      {
        "duration": 282,
        "start_time": "2023-01-28T10:23:52.420Z"
      },
      {
        "duration": 401,
        "start_time": "2023-01-28T10:23:52.704Z"
      },
      {
        "duration": 393,
        "start_time": "2023-01-28T10:23:53.107Z"
      },
      {
        "duration": 5,
        "start_time": "2023-01-28T10:23:53.502Z"
      },
      {
        "duration": 220,
        "start_time": "2023-01-28T10:23:53.510Z"
      },
      {
        "duration": 20,
        "start_time": "2023-01-28T10:23:53.732Z"
      },
      {
        "duration": 32,
        "start_time": "2023-01-28T10:23:53.755Z"
      },
      {
        "duration": 232,
        "start_time": "2023-01-28T10:23:53.789Z"
      },
      {
        "duration": 4,
        "start_time": "2023-01-28T10:25:56.119Z"
      },
      {
        "duration": 5,
        "start_time": "2023-01-28T10:25:59.465Z"
      },
      {
        "duration": 10,
        "start_time": "2023-01-28T11:17:48.982Z"
      },
      {
        "duration": 8,
        "start_time": "2023-01-28T11:18:14.605Z"
      },
      {
        "duration": 188,
        "start_time": "2023-01-28T11:20:47.580Z"
      },
      {
        "duration": 130,
        "start_time": "2023-01-28T11:20:48.299Z"
      },
      {
        "duration": 17,
        "start_time": "2023-01-28T11:20:48.845Z"
      },
      {
        "duration": 104,
        "start_time": "2023-01-28T11:21:24.821Z"
      },
      {
        "duration": 128,
        "start_time": "2023-01-28T11:21:44.114Z"
      },
      {
        "duration": 27,
        "start_time": "2023-01-28T11:21:48.075Z"
      },
      {
        "duration": 14,
        "start_time": "2023-01-28T11:24:11.891Z"
      },
      {
        "duration": 130,
        "start_time": "2023-01-28T11:24:47.163Z"
      },
      {
        "duration": 7,
        "start_time": "2023-01-28T11:24:53.575Z"
      },
      {
        "duration": 34,
        "start_time": "2023-01-28T11:24:55.093Z"
      },
      {
        "duration": 27,
        "start_time": "2023-01-28T11:26:26.020Z"
      },
      {
        "duration": 13,
        "start_time": "2023-01-28T11:32:49.180Z"
      },
      {
        "duration": 14,
        "start_time": "2023-01-28T11:33:12.482Z"
      },
      {
        "duration": 1105,
        "start_time": "2023-01-28T11:38:04.180Z"
      },
      {
        "duration": 88,
        "start_time": "2023-01-28T11:38:05.287Z"
      },
      {
        "duration": 16,
        "start_time": "2023-01-28T11:38:05.380Z"
      },
      {
        "duration": 9,
        "start_time": "2023-01-28T11:38:05.399Z"
      },
      {
        "duration": 15,
        "start_time": "2023-01-28T11:38:05.410Z"
      },
      {
        "duration": 11,
        "start_time": "2023-01-28T11:38:05.427Z"
      },
      {
        "duration": 88,
        "start_time": "2023-01-28T11:38:05.440Z"
      },
      {
        "duration": 11,
        "start_time": "2023-01-28T11:38:05.529Z"
      },
      {
        "duration": 30,
        "start_time": "2023-01-28T11:38:05.542Z"
      },
      {
        "duration": 30,
        "start_time": "2023-01-28T11:38:05.582Z"
      },
      {
        "duration": 3,
        "start_time": "2023-01-28T11:38:05.614Z"
      },
      {
        "duration": 11,
        "start_time": "2023-01-28T11:38:05.618Z"
      },
      {
        "duration": 27,
        "start_time": "2023-01-28T11:38:05.631Z"
      },
      {
        "duration": 35,
        "start_time": "2023-01-28T11:38:05.666Z"
      },
      {
        "duration": 6,
        "start_time": "2023-01-28T11:38:05.703Z"
      },
      {
        "duration": 7,
        "start_time": "2023-01-28T11:38:05.711Z"
      },
      {
        "duration": 8,
        "start_time": "2023-01-28T11:38:05.720Z"
      },
      {
        "duration": 7,
        "start_time": "2023-01-28T11:38:05.730Z"
      },
      {
        "duration": 7,
        "start_time": "2023-01-28T11:38:05.739Z"
      },
      {
        "duration": 44,
        "start_time": "2023-01-28T11:38:05.747Z"
      },
      {
        "duration": 7,
        "start_time": "2023-01-28T11:38:05.793Z"
      },
      {
        "duration": 13,
        "start_time": "2023-01-28T11:38:05.801Z"
      },
      {
        "duration": 12,
        "start_time": "2023-01-28T11:38:05.815Z"
      },
      {
        "duration": 5,
        "start_time": "2023-01-28T11:38:05.828Z"
      },
      {
        "duration": 208,
        "start_time": "2023-01-28T11:38:05.834Z"
      },
      {
        "duration": 130,
        "start_time": "2023-01-28T11:38:06.044Z"
      },
      {
        "duration": 8,
        "start_time": "2023-01-28T11:38:06.180Z"
      },
      {
        "duration": 6,
        "start_time": "2023-01-28T11:38:06.191Z"
      },
      {
        "duration": 20,
        "start_time": "2023-01-28T11:38:06.198Z"
      },
      {
        "duration": 467,
        "start_time": "2023-01-28T11:38:06.219Z"
      },
      {
        "duration": 305,
        "start_time": "2023-01-28T11:38:06.688Z"
      },
      {
        "duration": 334,
        "start_time": "2023-01-28T11:38:06.995Z"
      },
      {
        "duration": 274,
        "start_time": "2023-01-28T11:38:07.332Z"
      },
      {
        "duration": 392,
        "start_time": "2023-01-28T11:38:07.608Z"
      },
      {
        "duration": 337,
        "start_time": "2023-01-28T11:38:08.002Z"
      },
      {
        "duration": 16,
        "start_time": "2023-01-28T11:38:08.341Z"
      },
      {
        "duration": 224,
        "start_time": "2023-01-28T11:38:08.358Z"
      },
      {
        "duration": 12,
        "start_time": "2023-01-28T11:38:08.584Z"
      },
      {
        "duration": 7,
        "start_time": "2023-01-28T11:38:08.598Z"
      },
      {
        "duration": 297,
        "start_time": "2023-01-28T11:38:08.606Z"
      },
      {
        "duration": 0,
        "start_time": "2023-01-28T11:38:08.906Z"
      },
      {
        "duration": 0,
        "start_time": "2023-01-28T11:38:08.907Z"
      },
      {
        "duration": 0,
        "start_time": "2023-01-28T11:38:08.908Z"
      },
      {
        "duration": 0,
        "start_time": "2023-01-28T11:38:08.909Z"
      },
      {
        "duration": 0,
        "start_time": "2023-01-28T11:38:08.910Z"
      },
      {
        "duration": 0,
        "start_time": "2023-01-28T11:38:08.911Z"
      },
      {
        "duration": 0,
        "start_time": "2023-01-28T11:38:08.913Z"
      },
      {
        "duration": 0,
        "start_time": "2023-01-28T11:38:08.914Z"
      },
      {
        "duration": 14,
        "start_time": "2023-01-28T11:39:56.139Z"
      },
      {
        "duration": 290,
        "start_time": "2023-01-28T11:40:02.783Z"
      },
      {
        "duration": 202,
        "start_time": "2023-01-28T11:40:19.332Z"
      },
      {
        "duration": 178,
        "start_time": "2023-01-28T11:40:28.758Z"
      },
      {
        "duration": 174,
        "start_time": "2023-01-28T11:40:35.293Z"
      },
      {
        "duration": 236,
        "start_time": "2023-01-28T11:40:59.897Z"
      },
      {
        "duration": 6,
        "start_time": "2023-01-28T11:41:10.180Z"
      },
      {
        "duration": 108,
        "start_time": "2023-01-28T11:41:38.178Z"
      },
      {
        "duration": 145,
        "start_time": "2023-01-28T11:41:39.120Z"
      },
      {
        "duration": 29,
        "start_time": "2023-01-28T11:41:39.813Z"
      },
      {
        "duration": 142,
        "start_time": "2023-01-28T11:41:42.645Z"
      },
      {
        "duration": 8,
        "start_time": "2023-01-28T11:41:43.389Z"
      },
      {
        "duration": 30,
        "start_time": "2023-01-28T11:41:44.981Z"
      },
      {
        "duration": 18,
        "start_time": "2023-01-28T11:41:53.841Z"
      },
      {
        "duration": 719,
        "start_time": "2023-01-28T11:48:16.702Z"
      },
      {
        "duration": 13,
        "start_time": "2023-01-28T11:48:41.765Z"
      },
      {
        "duration": 17,
        "start_time": "2023-01-28T11:49:03.805Z"
      },
      {
        "duration": 53,
        "start_time": "2023-01-28T11:49:10.940Z"
      },
      {
        "duration": 10,
        "start_time": "2023-01-28T11:49:14.713Z"
      },
      {
        "duration": 8,
        "start_time": "2023-01-28T11:49:59.550Z"
      },
      {
        "duration": 25,
        "start_time": "2023-01-28T11:50:50.941Z"
      },
      {
        "duration": 25,
        "start_time": "2023-01-28T11:50:59.126Z"
      },
      {
        "duration": 724,
        "start_time": "2023-01-28T11:54:41.422Z"
      },
      {
        "duration": 13,
        "start_time": "2023-01-28T11:55:17.981Z"
      },
      {
        "duration": 14,
        "start_time": "2023-01-28T11:55:25.324Z"
      },
      {
        "duration": 1046,
        "start_time": "2023-01-28T12:11:52.644Z"
      },
      {
        "duration": 45,
        "start_time": "2023-01-28T12:11:53.692Z"
      },
      {
        "duration": 13,
        "start_time": "2023-01-28T12:11:53.739Z"
      },
      {
        "duration": 8,
        "start_time": "2023-01-28T12:11:53.754Z"
      },
      {
        "duration": 26,
        "start_time": "2023-01-28T12:11:53.764Z"
      },
      {
        "duration": 14,
        "start_time": "2023-01-28T12:11:53.791Z"
      },
      {
        "duration": 68,
        "start_time": "2023-01-28T12:11:53.806Z"
      },
      {
        "duration": 11,
        "start_time": "2023-01-28T12:11:53.876Z"
      },
      {
        "duration": 18,
        "start_time": "2023-01-28T12:11:53.888Z"
      },
      {
        "duration": 26,
        "start_time": "2023-01-28T12:11:53.908Z"
      },
      {
        "duration": 3,
        "start_time": "2023-01-28T12:11:53.936Z"
      },
      {
        "duration": 4,
        "start_time": "2023-01-28T12:11:53.948Z"
      },
      {
        "duration": 12,
        "start_time": "2023-01-28T12:11:53.954Z"
      },
      {
        "duration": 6,
        "start_time": "2023-01-28T12:11:53.967Z"
      },
      {
        "duration": 8,
        "start_time": "2023-01-28T12:11:53.974Z"
      },
      {
        "duration": 8,
        "start_time": "2023-01-28T12:11:53.984Z"
      },
      {
        "duration": 8,
        "start_time": "2023-01-28T12:11:53.994Z"
      },
      {
        "duration": 5,
        "start_time": "2023-01-28T12:11:54.004Z"
      },
      {
        "duration": 6,
        "start_time": "2023-01-28T12:11:54.010Z"
      },
      {
        "duration": 37,
        "start_time": "2023-01-28T12:11:54.018Z"
      },
      {
        "duration": 7,
        "start_time": "2023-01-28T12:11:54.057Z"
      },
      {
        "duration": 5,
        "start_time": "2023-01-28T12:11:54.066Z"
      },
      {
        "duration": 10,
        "start_time": "2023-01-28T12:11:54.072Z"
      },
      {
        "duration": 5,
        "start_time": "2023-01-28T12:11:54.084Z"
      },
      {
        "duration": 201,
        "start_time": "2023-01-28T12:11:54.090Z"
      },
      {
        "duration": 127,
        "start_time": "2023-01-28T12:11:54.293Z"
      },
      {
        "duration": 7,
        "start_time": "2023-01-28T12:11:54.421Z"
      },
      {
        "duration": 17,
        "start_time": "2023-01-28T12:11:54.431Z"
      },
      {
        "duration": 12,
        "start_time": "2023-01-28T12:11:54.450Z"
      },
      {
        "duration": 334,
        "start_time": "2023-01-28T12:11:54.463Z"
      },
      {
        "duration": 262,
        "start_time": "2023-01-28T12:11:54.799Z"
      },
      {
        "duration": 359,
        "start_time": "2023-01-28T12:11:55.062Z"
      },
      {
        "duration": 246,
        "start_time": "2023-01-28T12:11:55.425Z"
      },
      {
        "duration": 357,
        "start_time": "2023-01-28T12:11:55.673Z"
      },
      {
        "duration": 352,
        "start_time": "2023-01-28T12:11:56.032Z"
      },
      {
        "duration": 5,
        "start_time": "2023-01-28T12:11:56.385Z"
      },
      {
        "duration": 220,
        "start_time": "2023-01-28T12:11:56.392Z"
      },
      {
        "duration": 9,
        "start_time": "2023-01-28T12:11:56.614Z"
      },
      {
        "duration": 11,
        "start_time": "2023-01-28T12:11:56.625Z"
      },
      {
        "duration": 203,
        "start_time": "2023-01-28T12:11:56.637Z"
      },
      {
        "duration": 5,
        "start_time": "2023-01-28T12:11:56.842Z"
      },
      {
        "duration": 158,
        "start_time": "2023-01-28T12:11:56.849Z"
      },
      {
        "duration": 111,
        "start_time": "2023-01-28T12:11:57.009Z"
      },
      {
        "duration": 36,
        "start_time": "2023-01-28T12:11:57.121Z"
      },
      {
        "duration": 120,
        "start_time": "2023-01-28T12:11:57.158Z"
      },
      {
        "duration": 6,
        "start_time": "2023-01-28T12:11:57.280Z"
      },
      {
        "duration": 35,
        "start_time": "2023-01-28T12:11:57.287Z"
      },
      {
        "duration": 27,
        "start_time": "2023-01-28T12:11:57.323Z"
      },
      {
        "duration": 8,
        "start_time": "2023-01-28T12:11:57.352Z"
      },
      {
        "duration": 10,
        "start_time": "2023-01-28T12:11:57.361Z"
      },
      {
        "duration": 41,
        "start_time": "2023-01-28T12:11:57.373Z"
      },
      {
        "duration": 13,
        "start_time": "2023-01-28T12:11:57.415Z"
      },
      {
        "duration": 386,
        "start_time": "2023-01-28T12:14:04.225Z"
      },
      {
        "duration": 331,
        "start_time": "2023-01-28T12:14:18.076Z"
      },
      {
        "duration": 350,
        "start_time": "2023-01-28T12:14:28.304Z"
      },
      {
        "duration": 356,
        "start_time": "2023-01-28T12:14:34.346Z"
      },
      {
        "duration": 337,
        "start_time": "2023-01-28T12:14:40.496Z"
      },
      {
        "duration": 386,
        "start_time": "2023-01-28T12:14:47.937Z"
      },
      {
        "duration": 396,
        "start_time": "2023-01-28T12:15:01.411Z"
      },
      {
        "duration": 1223,
        "start_time": "2023-01-28T12:25:34.323Z"
      },
      {
        "duration": 51,
        "start_time": "2023-01-28T12:25:35.549Z"
      },
      {
        "duration": 18,
        "start_time": "2023-01-28T12:25:35.602Z"
      },
      {
        "duration": 10,
        "start_time": "2023-01-28T12:25:35.622Z"
      },
      {
        "duration": 30,
        "start_time": "2023-01-28T12:25:35.633Z"
      },
      {
        "duration": 18,
        "start_time": "2023-01-28T12:25:35.665Z"
      },
      {
        "duration": 90,
        "start_time": "2023-01-28T12:25:35.685Z"
      },
      {
        "duration": 18,
        "start_time": "2023-01-28T12:25:35.777Z"
      },
      {
        "duration": 127,
        "start_time": "2023-01-28T12:25:35.797Z"
      },
      {
        "duration": 37,
        "start_time": "2023-01-28T12:25:35.928Z"
      },
      {
        "duration": 4,
        "start_time": "2023-01-28T12:25:35.966Z"
      },
      {
        "duration": 16,
        "start_time": "2023-01-28T12:25:35.971Z"
      },
      {
        "duration": 20,
        "start_time": "2023-01-28T12:25:35.989Z"
      },
      {
        "duration": 9,
        "start_time": "2023-01-28T12:25:36.011Z"
      },
      {
        "duration": 6,
        "start_time": "2023-01-28T12:25:36.022Z"
      },
      {
        "duration": 25,
        "start_time": "2023-01-28T12:25:36.029Z"
      },
      {
        "duration": 24,
        "start_time": "2023-01-28T12:25:36.058Z"
      },
      {
        "duration": 13,
        "start_time": "2023-01-28T12:25:36.083Z"
      },
      {
        "duration": 7,
        "start_time": "2023-01-28T12:25:36.098Z"
      },
      {
        "duration": 15,
        "start_time": "2023-01-28T12:25:36.107Z"
      },
      {
        "duration": 9,
        "start_time": "2023-01-28T12:25:36.124Z"
      },
      {
        "duration": 16,
        "start_time": "2023-01-28T12:25:36.134Z"
      },
      {
        "duration": 10,
        "start_time": "2023-01-28T12:25:36.151Z"
      },
      {
        "duration": 5,
        "start_time": "2023-01-28T12:25:36.162Z"
      },
      {
        "duration": 283,
        "start_time": "2023-01-28T12:25:36.168Z"
      },
      {
        "duration": 174,
        "start_time": "2023-01-28T12:25:36.453Z"
      },
      {
        "duration": 8,
        "start_time": "2023-01-28T12:25:36.629Z"
      },
      {
        "duration": 3,
        "start_time": "2023-01-28T12:25:36.650Z"
      },
      {
        "duration": 19,
        "start_time": "2023-01-28T12:25:36.655Z"
      },
      {
        "duration": 356,
        "start_time": "2023-01-28T12:25:36.676Z"
      },
      {
        "duration": 276,
        "start_time": "2023-01-28T12:25:37.034Z"
      },
      {
        "duration": 412,
        "start_time": "2023-01-28T12:25:37.312Z"
      },
      {
        "duration": 256,
        "start_time": "2023-01-28T12:25:37.726Z"
      },
      {
        "duration": 348,
        "start_time": "2023-01-28T12:25:37.984Z"
      },
      {
        "duration": 406,
        "start_time": "2023-01-28T12:25:38.334Z"
      },
      {
        "duration": 9,
        "start_time": "2023-01-28T12:25:38.741Z"
      },
      {
        "duration": 210,
        "start_time": "2023-01-28T12:25:38.752Z"
      },
      {
        "duration": 11,
        "start_time": "2023-01-28T12:25:38.963Z"
      },
      {
        "duration": 9,
        "start_time": "2023-01-28T12:25:38.976Z"
      },
      {
        "duration": 254,
        "start_time": "2023-01-28T12:25:38.987Z"
      },
      {
        "duration": 6,
        "start_time": "2023-01-28T12:25:39.242Z"
      },
      {
        "duration": 180,
        "start_time": "2023-01-28T12:25:39.250Z"
      },
      {
        "duration": 197,
        "start_time": "2023-01-28T12:25:39.432Z"
      },
      {
        "duration": 42,
        "start_time": "2023-01-28T12:25:39.631Z"
      },
      {
        "duration": 154,
        "start_time": "2023-01-28T12:25:39.675Z"
      },
      {
        "duration": 18,
        "start_time": "2023-01-28T12:25:39.831Z"
      },
      {
        "duration": 33,
        "start_time": "2023-01-28T12:25:39.851Z"
      },
      {
        "duration": 17,
        "start_time": "2023-01-28T12:25:39.886Z"
      },
      {
        "duration": 11,
        "start_time": "2023-01-28T12:25:39.904Z"
      },
      {
        "duration": 10,
        "start_time": "2023-01-28T12:25:39.949Z"
      },
      {
        "duration": 44,
        "start_time": "2023-01-28T12:25:39.961Z"
      },
      {
        "duration": 21,
        "start_time": "2023-01-28T12:25:40.007Z"
      },
      {
        "duration": 57,
        "start_time": "2023-01-29T12:09:18.333Z"
      },
      {
        "duration": 1339,
        "start_time": "2023-01-29T12:09:32.193Z"
      },
      {
        "duration": 76,
        "start_time": "2023-01-29T12:09:33.535Z"
      },
      {
        "duration": 17,
        "start_time": "2023-01-29T12:09:33.613Z"
      },
      {
        "duration": 4,
        "start_time": "2023-01-29T12:09:33.633Z"
      },
      {
        "duration": 21,
        "start_time": "2023-01-29T12:09:33.640Z"
      },
      {
        "duration": 18,
        "start_time": "2023-01-29T12:09:33.663Z"
      },
      {
        "duration": 139,
        "start_time": "2023-01-29T12:09:33.682Z"
      },
      {
        "duration": 12,
        "start_time": "2023-01-29T12:09:33.823Z"
      },
      {
        "duration": 18,
        "start_time": "2023-01-29T12:09:33.837Z"
      },
      {
        "duration": 36,
        "start_time": "2023-01-29T12:09:33.857Z"
      },
      {
        "duration": 4,
        "start_time": "2023-01-29T12:09:33.894Z"
      },
      {
        "duration": 9,
        "start_time": "2023-01-29T12:09:33.900Z"
      },
      {
        "duration": 40,
        "start_time": "2023-01-29T12:09:33.911Z"
      },
      {
        "duration": 10,
        "start_time": "2023-01-29T12:09:33.955Z"
      },
      {
        "duration": 6,
        "start_time": "2023-01-29T12:09:33.966Z"
      },
      {
        "duration": 8,
        "start_time": "2023-01-29T12:09:33.974Z"
      },
      {
        "duration": 10,
        "start_time": "2023-01-29T12:09:33.984Z"
      },
      {
        "duration": 19,
        "start_time": "2023-01-29T12:09:33.996Z"
      },
      {
        "duration": 6,
        "start_time": "2023-01-29T12:09:34.039Z"
      },
      {
        "duration": 16,
        "start_time": "2023-01-29T12:09:34.047Z"
      },
      {
        "duration": 20,
        "start_time": "2023-01-29T12:09:34.065Z"
      },
      {
        "duration": 8,
        "start_time": "2023-01-29T12:09:34.087Z"
      },
      {
        "duration": 18,
        "start_time": "2023-01-29T12:09:34.097Z"
      },
      {
        "duration": 25,
        "start_time": "2023-01-29T12:09:34.118Z"
      },
      {
        "duration": 222,
        "start_time": "2023-01-29T12:09:34.145Z"
      },
      {
        "duration": 151,
        "start_time": "2023-01-29T12:09:34.369Z"
      },
      {
        "duration": 11,
        "start_time": "2023-01-29T12:09:34.522Z"
      },
      {
        "duration": 6,
        "start_time": "2023-01-29T12:09:34.541Z"
      },
      {
        "duration": 12,
        "start_time": "2023-01-29T12:09:34.549Z"
      },
      {
        "duration": 377,
        "start_time": "2023-01-29T12:09:34.562Z"
      },
      {
        "duration": 293,
        "start_time": "2023-01-29T12:09:34.941Z"
      },
      {
        "duration": 400,
        "start_time": "2023-01-29T12:09:35.240Z"
      },
      {
        "duration": 285,
        "start_time": "2023-01-29T12:09:35.642Z"
      },
      {
        "duration": 268,
        "start_time": "2023-01-29T12:10:03.378Z"
      },
      {
        "duration": 302,
        "start_time": "2023-01-29T12:10:08.093Z"
      },
      {
        "duration": 303,
        "start_time": "2023-01-29T12:22:01.183Z"
      },
      {
        "duration": 286,
        "start_time": "2023-01-29T12:22:06.086Z"
      },
      {
        "duration": 372,
        "start_time": "2023-01-29T12:22:14.636Z"
      },
      {
        "duration": 299,
        "start_time": "2023-01-29T12:22:22.223Z"
      },
      {
        "duration": 1178,
        "start_time": "2023-01-29T16:46:19.751Z"
      },
      {
        "duration": 1037,
        "start_time": "2023-01-29T16:46:20.930Z"
      },
      {
        "duration": 12,
        "start_time": "2023-01-29T16:46:21.969Z"
      },
      {
        "duration": 40,
        "start_time": "2023-01-29T16:46:21.983Z"
      },
      {
        "duration": 34,
        "start_time": "2023-01-29T16:46:22.025Z"
      },
      {
        "duration": 27,
        "start_time": "2023-01-29T16:46:22.061Z"
      },
      {
        "duration": 150,
        "start_time": "2023-01-29T16:46:22.091Z"
      },
      {
        "duration": 15,
        "start_time": "2023-01-29T16:46:22.244Z"
      },
      {
        "duration": 36,
        "start_time": "2023-01-29T16:46:22.261Z"
      },
      {
        "duration": 34,
        "start_time": "2023-01-29T16:46:22.300Z"
      },
      {
        "duration": 3,
        "start_time": "2023-01-29T16:46:22.340Z"
      },
      {
        "duration": 29,
        "start_time": "2023-01-29T16:46:22.345Z"
      },
      {
        "duration": 27,
        "start_time": "2023-01-29T16:46:22.376Z"
      },
      {
        "duration": 31,
        "start_time": "2023-01-29T16:46:22.405Z"
      },
      {
        "duration": 25,
        "start_time": "2023-01-29T16:46:22.438Z"
      },
      {
        "duration": 28,
        "start_time": "2023-01-29T16:46:22.465Z"
      },
      {
        "duration": 16,
        "start_time": "2023-01-29T16:46:22.494Z"
      },
      {
        "duration": 27,
        "start_time": "2023-01-29T16:46:22.512Z"
      },
      {
        "duration": 18,
        "start_time": "2023-01-29T16:46:22.541Z"
      },
      {
        "duration": 21,
        "start_time": "2023-01-29T16:46:22.560Z"
      },
      {
        "duration": 24,
        "start_time": "2023-01-29T16:46:22.583Z"
      },
      {
        "duration": 38,
        "start_time": "2023-01-29T16:46:22.609Z"
      },
      {
        "duration": 33,
        "start_time": "2023-01-29T16:46:22.648Z"
      },
      {
        "duration": 29,
        "start_time": "2023-01-29T16:46:22.684Z"
      },
      {
        "duration": 198,
        "start_time": "2023-01-29T16:46:22.715Z"
      },
      {
        "duration": 144,
        "start_time": "2023-01-29T16:46:22.915Z"
      },
      {
        "duration": 22,
        "start_time": "2023-01-29T16:46:23.061Z"
      },
      {
        "duration": 48,
        "start_time": "2023-01-29T16:46:23.087Z"
      },
      {
        "duration": 36,
        "start_time": "2023-01-29T16:46:23.137Z"
      },
      {
        "duration": 399,
        "start_time": "2023-01-29T16:46:23.176Z"
      },
      {
        "duration": 295,
        "start_time": "2023-01-29T16:46:23.578Z"
      },
      {
        "duration": 346,
        "start_time": "2023-01-29T16:46:23.875Z"
      },
      {
        "duration": 286,
        "start_time": "2023-01-29T16:46:24.223Z"
      },
      {
        "duration": 425,
        "start_time": "2023-01-29T16:46:24.511Z"
      },
      {
        "duration": 316,
        "start_time": "2023-01-29T16:46:24.940Z"
      },
      {
        "duration": 7,
        "start_time": "2023-01-29T16:46:25.258Z"
      },
      {
        "duration": 226,
        "start_time": "2023-01-29T16:46:25.266Z"
      },
      {
        "duration": 15,
        "start_time": "2023-01-29T16:46:25.494Z"
      },
      {
        "duration": 21,
        "start_time": "2023-01-29T16:46:25.512Z"
      },
      {
        "duration": 250,
        "start_time": "2023-01-29T16:46:25.535Z"
      },
      {
        "duration": 7,
        "start_time": "2023-01-29T16:46:25.788Z"
      },
      {
        "duration": 35,
        "start_time": "2023-01-29T16:46:25.797Z"
      },
      {
        "duration": 44,
        "start_time": "2023-01-29T16:46:25.834Z"
      },
      {
        "duration": 206,
        "start_time": "2023-01-29T16:46:25.880Z"
      },
      {
        "duration": 112,
        "start_time": "2023-01-29T16:46:26.087Z"
      },
      {
        "duration": 7,
        "start_time": "2023-01-29T16:48:14.890Z"
      },
      {
        "duration": 38,
        "start_time": "2023-01-29T16:48:24.669Z"
      },
      {
        "duration": 5,
        "start_time": "2023-01-29T17:01:50.232Z"
      },
      {
        "duration": 68,
        "start_time": "2023-01-29T17:01:50.239Z"
      },
      {
        "duration": 12,
        "start_time": "2023-01-29T17:01:50.310Z"
      },
      {
        "duration": 12,
        "start_time": "2023-01-29T17:01:50.324Z"
      },
      {
        "duration": 37,
        "start_time": "2023-01-29T17:01:50.339Z"
      },
      {
        "duration": 16,
        "start_time": "2023-01-29T17:01:50.378Z"
      },
      {
        "duration": 56,
        "start_time": "2023-01-29T17:01:50.396Z"
      },
      {
        "duration": 16,
        "start_time": "2023-01-29T17:01:50.454Z"
      },
      {
        "duration": 20,
        "start_time": "2023-01-29T17:01:50.472Z"
      },
      {
        "duration": 48,
        "start_time": "2023-01-29T17:01:50.494Z"
      },
      {
        "duration": 4,
        "start_time": "2023-01-29T17:01:50.545Z"
      },
      {
        "duration": 11,
        "start_time": "2023-01-29T17:01:50.550Z"
      },
      {
        "duration": 26,
        "start_time": "2023-01-29T17:01:50.563Z"
      },
      {
        "duration": 34,
        "start_time": "2023-01-29T17:01:50.591Z"
      },
      {
        "duration": 10,
        "start_time": "2023-01-29T17:01:50.627Z"
      },
      {
        "duration": 17,
        "start_time": "2023-01-29T17:01:50.639Z"
      },
      {
        "duration": 15,
        "start_time": "2023-01-29T17:01:50.657Z"
      },
      {
        "duration": 17,
        "start_time": "2023-01-29T17:01:50.674Z"
      },
      {
        "duration": 14,
        "start_time": "2023-01-29T17:01:50.693Z"
      },
      {
        "duration": 11,
        "start_time": "2023-01-29T17:01:50.709Z"
      },
      {
        "duration": 14,
        "start_time": "2023-01-29T17:01:50.721Z"
      },
      {
        "duration": 5,
        "start_time": "2023-01-29T17:01:50.737Z"
      },
      {
        "duration": 16,
        "start_time": "2023-01-29T17:01:50.744Z"
      },
      {
        "duration": 10,
        "start_time": "2023-01-29T17:01:50.762Z"
      },
      {
        "duration": 198,
        "start_time": "2023-01-29T17:01:50.774Z"
      },
      {
        "duration": 132,
        "start_time": "2023-01-29T17:01:50.974Z"
      },
      {
        "duration": 6,
        "start_time": "2023-01-29T17:01:51.108Z"
      },
      {
        "duration": 10,
        "start_time": "2023-01-29T17:01:51.116Z"
      },
      {
        "duration": 18,
        "start_time": "2023-01-29T17:01:51.130Z"
      },
      {
        "duration": 299,
        "start_time": "2023-01-29T17:01:51.150Z"
      },
      {
        "duration": 285,
        "start_time": "2023-01-29T17:01:51.451Z"
      },
      {
        "duration": 366,
        "start_time": "2023-01-29T17:01:51.738Z"
      },
      {
        "duration": 303,
        "start_time": "2023-01-29T17:01:52.106Z"
      },
      {
        "duration": 406,
        "start_time": "2023-01-29T17:01:52.411Z"
      },
      {
        "duration": 313,
        "start_time": "2023-01-29T17:01:52.819Z"
      },
      {
        "duration": 8,
        "start_time": "2023-01-29T17:01:53.134Z"
      },
      {
        "duration": 218,
        "start_time": "2023-01-29T17:01:53.143Z"
      },
      {
        "duration": 11,
        "start_time": "2023-01-29T17:01:53.363Z"
      },
      {
        "duration": 10,
        "start_time": "2023-01-29T17:01:53.375Z"
      },
      {
        "duration": 227,
        "start_time": "2023-01-29T17:01:53.386Z"
      },
      {
        "duration": 5,
        "start_time": "2023-01-29T17:01:53.615Z"
      },
      {
        "duration": 18,
        "start_time": "2023-01-29T17:01:53.622Z"
      },
      {
        "duration": 29,
        "start_time": "2023-01-29T17:01:53.642Z"
      },
      {
        "duration": 149,
        "start_time": "2023-01-29T17:01:53.673Z"
      },
      {
        "duration": 18,
        "start_time": "2023-01-29T17:01:53.824Z"
      },
      {
        "duration": 28,
        "start_time": "2023-01-29T17:01:53.844Z"
      },
      {
        "duration": 15,
        "start_time": "2023-01-29T17:01:53.873Z"
      },
      {
        "duration": 6,
        "start_time": "2023-01-29T17:01:53.890Z"
      },
      {
        "duration": 0,
        "start_time": "2023-01-29T17:01:53.898Z"
      },
      {
        "duration": 0,
        "start_time": "2023-01-29T17:01:53.899Z"
      },
      {
        "duration": 0,
        "start_time": "2023-01-29T17:01:53.901Z"
      },
      {
        "duration": 17,
        "start_time": "2023-01-29T17:02:08.821Z"
      },
      {
        "duration": 10,
        "start_time": "2023-01-29T17:02:24.050Z"
      },
      {
        "duration": 9,
        "start_time": "2023-01-29T17:02:40.817Z"
      },
      {
        "duration": 1532,
        "start_time": "2023-01-29T17:02:50.772Z"
      },
      {
        "duration": 74,
        "start_time": "2023-01-29T17:02:52.306Z"
      },
      {
        "duration": 13,
        "start_time": "2023-01-29T17:02:52.381Z"
      },
      {
        "duration": 13,
        "start_time": "2023-01-29T17:02:52.396Z"
      },
      {
        "duration": 57,
        "start_time": "2023-01-29T17:02:52.411Z"
      },
      {
        "duration": 24,
        "start_time": "2023-01-29T17:02:52.473Z"
      },
      {
        "duration": 100,
        "start_time": "2023-01-29T17:02:52.499Z"
      },
      {
        "duration": 14,
        "start_time": "2023-01-29T17:02:52.601Z"
      },
      {
        "duration": 79,
        "start_time": "2023-01-29T17:02:52.617Z"
      },
      {
        "duration": 67,
        "start_time": "2023-01-29T17:02:52.699Z"
      },
      {
        "duration": 43,
        "start_time": "2023-01-29T17:02:52.769Z"
      },
      {
        "duration": 30,
        "start_time": "2023-01-29T17:02:52.814Z"
      },
      {
        "duration": 49,
        "start_time": "2023-01-29T17:02:52.846Z"
      },
      {
        "duration": 33,
        "start_time": "2023-01-29T17:02:52.897Z"
      },
      {
        "duration": 56,
        "start_time": "2023-01-29T17:02:52.931Z"
      },
      {
        "duration": 32,
        "start_time": "2023-01-29T17:02:52.989Z"
      },
      {
        "duration": 52,
        "start_time": "2023-01-29T17:02:53.022Z"
      },
      {
        "duration": 43,
        "start_time": "2023-01-29T17:02:53.076Z"
      },
      {
        "duration": 16,
        "start_time": "2023-01-29T17:02:53.121Z"
      },
      {
        "duration": 39,
        "start_time": "2023-01-29T17:02:53.138Z"
      },
      {
        "duration": 8,
        "start_time": "2023-01-29T17:02:53.179Z"
      },
      {
        "duration": 9,
        "start_time": "2023-01-29T17:02:53.189Z"
      },
      {
        "duration": 12,
        "start_time": "2023-01-29T17:02:53.200Z"
      },
      {
        "duration": 8,
        "start_time": "2023-01-29T17:02:53.214Z"
      },
      {
        "duration": 201,
        "start_time": "2023-01-29T17:02:53.224Z"
      },
      {
        "duration": 152,
        "start_time": "2023-01-29T17:02:53.427Z"
      },
      {
        "duration": 11,
        "start_time": "2023-01-29T17:02:53.583Z"
      },
      {
        "duration": 11,
        "start_time": "2023-01-29T17:02:53.600Z"
      },
      {
        "duration": 27,
        "start_time": "2023-01-29T17:02:53.614Z"
      },
      {
        "duration": 433,
        "start_time": "2023-01-29T17:02:53.643Z"
      },
      {
        "duration": 315,
        "start_time": "2023-01-29T17:02:54.080Z"
      },
      {
        "duration": 423,
        "start_time": "2023-01-29T17:02:54.397Z"
      },
      {
        "duration": 304,
        "start_time": "2023-01-29T17:02:54.822Z"
      },
      {
        "duration": 426,
        "start_time": "2023-01-29T17:02:55.128Z"
      },
      {
        "duration": 343,
        "start_time": "2023-01-29T17:02:55.556Z"
      },
      {
        "duration": 5,
        "start_time": "2023-01-29T17:02:55.902Z"
      },
      {
        "duration": 243,
        "start_time": "2023-01-29T17:02:55.909Z"
      },
      {
        "duration": 16,
        "start_time": "2023-01-29T17:02:56.157Z"
      },
      {
        "duration": 6,
        "start_time": "2023-01-29T17:02:56.175Z"
      },
      {
        "duration": 282,
        "start_time": "2023-01-29T17:02:56.183Z"
      },
      {
        "duration": 7,
        "start_time": "2023-01-29T17:02:56.467Z"
      },
      {
        "duration": 10,
        "start_time": "2023-01-29T17:02:56.475Z"
      },
      {
        "duration": 24,
        "start_time": "2023-01-29T17:02:56.487Z"
      },
      {
        "duration": 227,
        "start_time": "2023-01-29T17:02:56.513Z"
      },
      {
        "duration": 21,
        "start_time": "2023-01-29T17:02:56.743Z"
      },
      {
        "duration": 31,
        "start_time": "2023-01-29T17:02:56.767Z"
      },
      {
        "duration": 14,
        "start_time": "2023-01-29T17:02:56.800Z"
      },
      {
        "duration": 212,
        "start_time": "2023-01-29T17:02:56.816Z"
      },
      {
        "duration": 9,
        "start_time": "2023-01-29T17:03:02.581Z"
      },
      {
        "duration": 10,
        "start_time": "2023-01-29T17:03:37.658Z"
      },
      {
        "duration": 10,
        "start_time": "2023-01-29T17:05:10.363Z"
      },
      {
        "duration": 10,
        "start_time": "2023-01-29T17:05:16.477Z"
      },
      {
        "duration": 11,
        "start_time": "2023-01-29T17:05:18.838Z"
      },
      {
        "duration": 9,
        "start_time": "2023-01-29T17:05:21.620Z"
      },
      {
        "duration": 9,
        "start_time": "2023-01-29T17:05:35.917Z"
      },
      {
        "duration": 13,
        "start_time": "2023-01-29T17:06:03.459Z"
      },
      {
        "duration": 76,
        "start_time": "2023-01-29T17:07:48.940Z"
      },
      {
        "duration": 103,
        "start_time": "2023-01-29T17:07:57.649Z"
      },
      {
        "duration": 4,
        "start_time": "2023-01-29T17:08:02.288Z"
      },
      {
        "duration": 15,
        "start_time": "2023-01-29T17:08:33.771Z"
      },
      {
        "duration": 10,
        "start_time": "2023-01-29T17:08:37.832Z"
      },
      {
        "duration": 73,
        "start_time": "2023-01-29T17:08:47.660Z"
      },
      {
        "duration": 5,
        "start_time": "2023-01-29T17:08:50.135Z"
      },
      {
        "duration": 10,
        "start_time": "2023-01-29T17:09:01.449Z"
      },
      {
        "duration": 6,
        "start_time": "2023-01-29T17:09:44.236Z"
      },
      {
        "duration": 5,
        "start_time": "2023-01-29T17:09:48.728Z"
      },
      {
        "duration": 6,
        "start_time": "2023-01-29T17:09:57.568Z"
      },
      {
        "duration": 85,
        "start_time": "2023-01-29T17:10:08.141Z"
      },
      {
        "duration": 7,
        "start_time": "2023-01-29T17:10:13.024Z"
      },
      {
        "duration": 9,
        "start_time": "2023-01-29T17:11:08.237Z"
      },
      {
        "duration": 6,
        "start_time": "2023-01-29T17:11:17.847Z"
      },
      {
        "duration": 91,
        "start_time": "2023-01-29T17:11:33.965Z"
      },
      {
        "duration": 108,
        "start_time": "2023-01-29T17:11:39.121Z"
      },
      {
        "duration": 6,
        "start_time": "2023-01-29T17:11:42.871Z"
      },
      {
        "duration": 68,
        "start_time": "2023-01-29T17:11:48.410Z"
      },
      {
        "duration": 7,
        "start_time": "2023-01-29T17:11:57.834Z"
      },
      {
        "duration": 10,
        "start_time": "2023-01-29T17:12:07.205Z"
      },
      {
        "duration": 69,
        "start_time": "2023-01-29T17:12:18.752Z"
      },
      {
        "duration": 6,
        "start_time": "2023-01-29T17:12:24.409Z"
      },
      {
        "duration": 4,
        "start_time": "2023-01-29T17:12:28.428Z"
      },
      {
        "duration": 4,
        "start_time": "2023-01-29T17:13:10.908Z"
      },
      {
        "duration": 5,
        "start_time": "2023-01-29T17:13:46.682Z"
      },
      {
        "duration": 11,
        "start_time": "2023-01-29T17:13:56.450Z"
      },
      {
        "duration": 12,
        "start_time": "2023-01-29T17:15:00.341Z"
      },
      {
        "duration": 37,
        "start_time": "2023-01-29T17:15:02.468Z"
      },
      {
        "duration": 15,
        "start_time": "2023-01-29T17:15:11.794Z"
      },
      {
        "duration": 1242,
        "start_time": "2023-01-29T17:18:52.201Z"
      },
      {
        "duration": 70,
        "start_time": "2023-01-29T17:18:53.446Z"
      },
      {
        "duration": 12,
        "start_time": "2023-01-29T17:18:53.518Z"
      },
      {
        "duration": 6,
        "start_time": "2023-01-29T17:18:53.532Z"
      },
      {
        "duration": 33,
        "start_time": "2023-01-29T17:18:53.540Z"
      },
      {
        "duration": 26,
        "start_time": "2023-01-29T17:18:53.575Z"
      },
      {
        "duration": 68,
        "start_time": "2023-01-29T17:18:53.603Z"
      },
      {
        "duration": 20,
        "start_time": "2023-01-29T17:18:53.673Z"
      },
      {
        "duration": 20,
        "start_time": "2023-01-29T17:18:53.695Z"
      },
      {
        "duration": 33,
        "start_time": "2023-01-29T17:18:53.718Z"
      },
      {
        "duration": 4,
        "start_time": "2023-01-29T17:18:53.753Z"
      },
      {
        "duration": 8,
        "start_time": "2023-01-29T17:18:53.759Z"
      },
      {
        "duration": 20,
        "start_time": "2023-01-29T17:18:53.769Z"
      },
      {
        "duration": 14,
        "start_time": "2023-01-29T17:18:53.791Z"
      },
      {
        "duration": 7,
        "start_time": "2023-01-29T17:18:53.807Z"
      },
      {
        "duration": 10,
        "start_time": "2023-01-29T17:18:53.839Z"
      },
      {
        "duration": 8,
        "start_time": "2023-01-29T17:18:53.852Z"
      },
      {
        "duration": 10,
        "start_time": "2023-01-29T17:18:53.862Z"
      },
      {
        "duration": 8,
        "start_time": "2023-01-29T17:18:53.873Z"
      },
      {
        "duration": 14,
        "start_time": "2023-01-29T17:18:53.882Z"
      },
      {
        "duration": 42,
        "start_time": "2023-01-29T17:18:53.898Z"
      },
      {
        "duration": 6,
        "start_time": "2023-01-29T17:18:53.942Z"
      },
      {
        "duration": 28,
        "start_time": "2023-01-29T17:18:53.950Z"
      },
      {
        "duration": 13,
        "start_time": "2023-01-29T17:18:53.979Z"
      },
      {
        "duration": 206,
        "start_time": "2023-01-29T17:18:53.994Z"
      },
      {
        "duration": 146,
        "start_time": "2023-01-29T17:18:54.202Z"
      },
      {
        "duration": 6,
        "start_time": "2023-01-29T17:18:54.350Z"
      },
      {
        "duration": 36,
        "start_time": "2023-01-29T17:18:54.359Z"
      },
      {
        "duration": 38,
        "start_time": "2023-01-29T17:18:54.397Z"
      },
      {
        "duration": 391,
        "start_time": "2023-01-29T17:18:54.437Z"
      },
      {
        "duration": 296,
        "start_time": "2023-01-29T17:18:54.830Z"
      },
      {
        "duration": 393,
        "start_time": "2023-01-29T17:18:55.128Z"
      },
      {
        "duration": 287,
        "start_time": "2023-01-29T17:18:55.523Z"
      },
      {
        "duration": 414,
        "start_time": "2023-01-29T17:18:55.811Z"
      },
      {
        "duration": 319,
        "start_time": "2023-01-29T17:18:56.227Z"
      },
      {
        "duration": 5,
        "start_time": "2023-01-29T17:18:56.548Z"
      },
      {
        "duration": 232,
        "start_time": "2023-01-29T17:18:56.555Z"
      },
      {
        "duration": 10,
        "start_time": "2023-01-29T17:18:56.789Z"
      },
      {
        "duration": 29,
        "start_time": "2023-01-29T17:18:56.800Z"
      },
      {
        "duration": 251,
        "start_time": "2023-01-29T17:18:56.830Z"
      },
      {
        "duration": 6,
        "start_time": "2023-01-29T17:18:57.082Z"
      },
      {
        "duration": 26,
        "start_time": "2023-01-29T17:18:57.090Z"
      },
      {
        "duration": 128,
        "start_time": "2023-01-29T17:18:57.118Z"
      },
      {
        "duration": 139,
        "start_time": "2023-01-29T17:18:57.247Z"
      },
      {
        "duration": 7,
        "start_time": "2023-01-29T17:18:57.387Z"
      },
      {
        "duration": 63,
        "start_time": "2023-01-29T17:18:57.395Z"
      },
      {
        "duration": 17,
        "start_time": "2023-01-29T17:18:57.460Z"
      },
      {
        "duration": 34,
        "start_time": "2023-01-29T17:18:57.479Z"
      },
      {
        "duration": 44,
        "start_time": "2023-01-29T17:18:57.514Z"
      },
      {
        "duration": 35,
        "start_time": "2023-01-29T17:18:57.560Z"
      },
      {
        "duration": 53,
        "start_time": "2023-01-29T17:18:57.597Z"
      },
      {
        "duration": 20,
        "start_time": "2023-01-29T17:18:57.652Z"
      },
      {
        "duration": 1367,
        "start_time": "2023-03-20T12:35:33.571Z"
      },
      {
        "duration": 126,
        "start_time": "2023-03-20T12:35:34.942Z"
      },
      {
        "duration": 15,
        "start_time": "2023-03-20T12:35:35.070Z"
      },
      {
        "duration": 67,
        "start_time": "2023-03-20T12:35:35.087Z"
      },
      {
        "duration": 18,
        "start_time": "2023-03-20T12:35:35.157Z"
      },
      {
        "duration": 27,
        "start_time": "2023-03-20T12:35:35.177Z"
      },
      {
        "duration": 353,
        "start_time": "2023-03-20T12:35:35.208Z"
      },
      {
        "duration": 14,
        "start_time": "2023-03-20T12:35:35.563Z"
      },
      {
        "duration": 33,
        "start_time": "2023-03-20T12:35:35.579Z"
      },
      {
        "duration": 73,
        "start_time": "2023-03-20T12:35:35.614Z"
      },
      {
        "duration": 9,
        "start_time": "2023-03-20T12:35:35.689Z"
      },
      {
        "duration": 52,
        "start_time": "2023-03-20T12:35:35.701Z"
      },
      {
        "duration": 17,
        "start_time": "2023-03-20T12:35:35.755Z"
      },
      {
        "duration": 10,
        "start_time": "2023-03-20T12:35:35.776Z"
      },
      {
        "duration": 61,
        "start_time": "2023-03-20T12:35:35.787Z"
      },
      {
        "duration": 11,
        "start_time": "2023-03-20T12:35:35.850Z"
      },
      {
        "duration": 17,
        "start_time": "2023-03-20T12:35:35.863Z"
      },
      {
        "duration": 69,
        "start_time": "2023-03-20T12:35:35.882Z"
      },
      {
        "duration": 13,
        "start_time": "2023-03-20T12:35:35.953Z"
      },
      {
        "duration": 37,
        "start_time": "2023-03-20T12:35:35.970Z"
      },
      {
        "duration": 155,
        "start_time": "2023-03-20T12:35:36.009Z"
      },
      {
        "duration": 54,
        "start_time": "2023-03-20T12:35:36.166Z"
      },
      {
        "duration": 121,
        "start_time": "2023-03-20T12:35:36.223Z"
      },
      {
        "duration": 51,
        "start_time": "2023-03-20T12:35:36.346Z"
      },
      {
        "duration": 386,
        "start_time": "2023-03-20T12:35:36.399Z"
      },
      {
        "duration": 185,
        "start_time": "2023-03-20T12:35:36.787Z"
      },
      {
        "duration": 8,
        "start_time": "2023-03-20T12:35:36.977Z"
      },
      {
        "duration": 60,
        "start_time": "2023-03-20T12:35:36.991Z"
      },
      {
        "duration": 50,
        "start_time": "2023-03-20T12:35:37.055Z"
      },
      {
        "duration": 675,
        "start_time": "2023-03-20T12:35:37.109Z"
      },
      {
        "duration": 384,
        "start_time": "2023-03-20T12:35:37.786Z"
      },
      {
        "duration": 508,
        "start_time": "2023-03-20T12:35:38.172Z"
      },
      {
        "duration": 356,
        "start_time": "2023-03-20T12:35:38.681Z"
      },
      {
        "duration": 447,
        "start_time": "2023-03-20T12:35:39.039Z"
      },
      {
        "duration": 379,
        "start_time": "2023-03-20T12:35:39.488Z"
      },
      {
        "duration": 5,
        "start_time": "2023-03-20T12:35:39.869Z"
      },
      {
        "duration": 406,
        "start_time": "2023-03-20T12:35:39.876Z"
      },
      {
        "duration": 26,
        "start_time": "2023-03-20T12:35:40.285Z"
      },
      {
        "duration": 52,
        "start_time": "2023-03-20T12:35:40.313Z"
      },
      {
        "duration": 283,
        "start_time": "2023-03-20T12:35:40.367Z"
      },
      {
        "duration": 7,
        "start_time": "2023-03-20T12:35:40.656Z"
      },
      {
        "duration": 12,
        "start_time": "2023-03-20T12:35:40.665Z"
      },
      {
        "duration": 64,
        "start_time": "2023-03-20T12:35:40.679Z"
      },
      {
        "duration": 199,
        "start_time": "2023-03-20T12:35:40.747Z"
      },
      {
        "duration": 9,
        "start_time": "2023-03-20T12:35:40.948Z"
      },
      {
        "duration": 164,
        "start_time": "2023-03-20T12:35:40.961Z"
      },
      {
        "duration": 24,
        "start_time": "2023-03-20T12:35:41.127Z"
      },
      {
        "duration": 11,
        "start_time": "2023-03-20T12:35:41.153Z"
      },
      {
        "duration": 7,
        "start_time": "2023-03-20T12:35:41.166Z"
      },
      {
        "duration": 26,
        "start_time": "2023-03-20T12:35:41.174Z"
      },
      {
        "duration": 71,
        "start_time": "2023-03-20T12:35:41.202Z"
      },
      {
        "duration": 27,
        "start_time": "2023-03-20T12:35:41.275Z"
      }
    ],
    "kernelspec": {
      "display_name": "Python 3 (ipykernel)",
      "language": "python",
      "name": "python3"
    },
    "language_info": {
      "codemirror_mode": {
        "name": "ipython",
        "version": 3
      },
      "file_extension": ".py",
      "mimetype": "text/x-python",
      "name": "python",
      "nbconvert_exporter": "python",
      "pygments_lexer": "ipython3",
      "version": "3.9.5"
    },
    "toc": {
      "base_numbering": 1,
      "nav_menu": {},
      "number_sections": true,
      "sideBar": true,
      "skip_h1_title": true,
      "title_cell": "Table of Contents",
      "title_sidebar": "Contents",
      "toc_cell": false,
      "toc_position": {},
      "toc_section_display": true,
      "toc_window_display": true
    },
    "colab": {
      "provenance": [],
      "include_colab_link": true
    }
  },
  "nbformat": 4,
  "nbformat_minor": 0
}